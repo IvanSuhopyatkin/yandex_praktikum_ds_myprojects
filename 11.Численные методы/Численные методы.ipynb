{
 "cells": [
  {
   "cell_type": "markdown",
   "metadata": {
    "toc": true
   },
   "source": [
    "<h1>Содержание<span class=\"tocSkip\"></span></h1>\n",
    "<div class=\"toc\"><ul class=\"toc-item\"><li><span><a href=\"#Подготовка-данных\" data-toc-modified-id=\"Подготовка-данных-1\"><span class=\"toc-item-num\">1&nbsp;&nbsp;</span>Подготовка данных</a></span></li><li><span><a href=\"#Обучение-моделей\" data-toc-modified-id=\"Обучение-моделей-2\"><span class=\"toc-item-num\">2&nbsp;&nbsp;</span>Обучение моделей</a></span></li><li><span><a href=\"#Анализ-моделей\" data-toc-modified-id=\"Анализ-моделей-3\"><span class=\"toc-item-num\">3&nbsp;&nbsp;</span>Анализ моделей</a></span><ul class=\"toc-item\"><li><span><a href=\"#Linear-Regression\" data-toc-modified-id=\"Linear-Regression-3.1\"><span class=\"toc-item-num\">3.1&nbsp;&nbsp;</span>Linear Regression</a></span></li><li><span><a href=\"#LightGBM\" data-toc-modified-id=\"LightGBM-3.2\"><span class=\"toc-item-num\">3.2&nbsp;&nbsp;</span>LightGBM</a></span></li><li><span><a href=\"#CatBoost\" data-toc-modified-id=\"CatBoost-3.3\"><span class=\"toc-item-num\">3.3&nbsp;&nbsp;</span>CatBoost</a></span></li></ul></li><li><span><a href=\"#Вывод\" data-toc-modified-id=\"Вывод-4\"><span class=\"toc-item-num\">4&nbsp;&nbsp;</span>Вывод</a></span></li><li><span><a href=\"#Чек-лист-проверки\" data-toc-modified-id=\"Чек-лист-проверки-5\"><span class=\"toc-item-num\">5&nbsp;&nbsp;</span>Чек-лист проверки</a></span></li></ul></div>"
   ]
  },
  {
   "cell_type": "markdown",
   "metadata": {},
   "source": [
    "# Определение стоимости автомобилей"
   ]
  },
  {
   "cell_type": "markdown",
   "metadata": {},
   "source": [
    "Сервис по продаже автомобилей с пробегом «Не бит, не крашен» разрабатывает приложение для привлечения новых клиентов. В нём можно быстро узнать рыночную стоимость своего автомобиля. В вашем распоряжении исторические данные: технические характеристики, комплектации и цены автомобилей. Вам нужно построить модель для определения стоимости. \n",
    "\n",
    "Заказчику важны:\n",
    "\n",
    "- качество предсказания;\n",
    "- скорость предсказания;\n",
    "- время обучения."
   ]
  },
  {
   "cell_type": "markdown",
   "metadata": {},
   "source": [
    "## Подготовка данных"
   ]
  },
  {
   "cell_type": "markdown",
   "metadata": {},
   "source": [
    "импортируем необходимые библиотеки и сохраним данные автомобилей сервиса «Не бит, не крашен»"
   ]
  },
  {
   "cell_type": "code",
   "execution_count": 282,
   "metadata": {},
   "outputs": [],
   "source": [
    "import pandas as pd\n",
    "import numpy as np\n",
    "\n",
    "from sklearn.model_selection import train_test_split\n",
    "from sklearn.preprocessing import StandardScaler \n",
    "from sklearn.linear_model import LinearRegression\n",
    "from sklearn.metrics import mean_squared_error\n",
    "from lightgbm import LGBMRegressor\n",
    "from catboost import CatBoostRegressor"
   ]
  },
  {
   "cell_type": "code",
   "execution_count": 283,
   "metadata": {},
   "outputs": [],
   "source": [
    "data = pd.read_csv('/datasets/autos.csv')"
   ]
  },
  {
   "cell_type": "markdown",
   "metadata": {},
   "source": [
    "выведем первые 10 строк таблицы:"
   ]
  },
  {
   "cell_type": "code",
   "execution_count": 284,
   "metadata": {},
   "outputs": [
    {
     "data": {
      "text/html": [
       "<div>\n",
       "<style scoped>\n",
       "    .dataframe tbody tr th:only-of-type {\n",
       "        vertical-align: middle;\n",
       "    }\n",
       "\n",
       "    .dataframe tbody tr th {\n",
       "        vertical-align: top;\n",
       "    }\n",
       "\n",
       "    .dataframe thead th {\n",
       "        text-align: right;\n",
       "    }\n",
       "</style>\n",
       "<table border=\"1\" class=\"dataframe\">\n",
       "  <thead>\n",
       "    <tr style=\"text-align: right;\">\n",
       "      <th></th>\n",
       "      <th>DateCrawled</th>\n",
       "      <th>Price</th>\n",
       "      <th>VehicleType</th>\n",
       "      <th>RegistrationYear</th>\n",
       "      <th>Gearbox</th>\n",
       "      <th>Power</th>\n",
       "      <th>Model</th>\n",
       "      <th>Kilometer</th>\n",
       "      <th>RegistrationMonth</th>\n",
       "      <th>FuelType</th>\n",
       "      <th>Brand</th>\n",
       "      <th>NotRepaired</th>\n",
       "      <th>DateCreated</th>\n",
       "      <th>NumberOfPictures</th>\n",
       "      <th>PostalCode</th>\n",
       "      <th>LastSeen</th>\n",
       "    </tr>\n",
       "  </thead>\n",
       "  <tbody>\n",
       "    <tr>\n",
       "      <th>0</th>\n",
       "      <td>2016-03-24 11:52:17</td>\n",
       "      <td>480</td>\n",
       "      <td>NaN</td>\n",
       "      <td>1993</td>\n",
       "      <td>manual</td>\n",
       "      <td>0</td>\n",
       "      <td>golf</td>\n",
       "      <td>150000</td>\n",
       "      <td>0</td>\n",
       "      <td>petrol</td>\n",
       "      <td>volkswagen</td>\n",
       "      <td>NaN</td>\n",
       "      <td>2016-03-24 00:00:00</td>\n",
       "      <td>0</td>\n",
       "      <td>70435</td>\n",
       "      <td>2016-04-07 03:16:57</td>\n",
       "    </tr>\n",
       "    <tr>\n",
       "      <th>1</th>\n",
       "      <td>2016-03-24 10:58:45</td>\n",
       "      <td>18300</td>\n",
       "      <td>coupe</td>\n",
       "      <td>2011</td>\n",
       "      <td>manual</td>\n",
       "      <td>190</td>\n",
       "      <td>NaN</td>\n",
       "      <td>125000</td>\n",
       "      <td>5</td>\n",
       "      <td>gasoline</td>\n",
       "      <td>audi</td>\n",
       "      <td>yes</td>\n",
       "      <td>2016-03-24 00:00:00</td>\n",
       "      <td>0</td>\n",
       "      <td>66954</td>\n",
       "      <td>2016-04-07 01:46:50</td>\n",
       "    </tr>\n",
       "    <tr>\n",
       "      <th>2</th>\n",
       "      <td>2016-03-14 12:52:21</td>\n",
       "      <td>9800</td>\n",
       "      <td>suv</td>\n",
       "      <td>2004</td>\n",
       "      <td>auto</td>\n",
       "      <td>163</td>\n",
       "      <td>grand</td>\n",
       "      <td>125000</td>\n",
       "      <td>8</td>\n",
       "      <td>gasoline</td>\n",
       "      <td>jeep</td>\n",
       "      <td>NaN</td>\n",
       "      <td>2016-03-14 00:00:00</td>\n",
       "      <td>0</td>\n",
       "      <td>90480</td>\n",
       "      <td>2016-04-05 12:47:46</td>\n",
       "    </tr>\n",
       "    <tr>\n",
       "      <th>3</th>\n",
       "      <td>2016-03-17 16:54:04</td>\n",
       "      <td>1500</td>\n",
       "      <td>small</td>\n",
       "      <td>2001</td>\n",
       "      <td>manual</td>\n",
       "      <td>75</td>\n",
       "      <td>golf</td>\n",
       "      <td>150000</td>\n",
       "      <td>6</td>\n",
       "      <td>petrol</td>\n",
       "      <td>volkswagen</td>\n",
       "      <td>no</td>\n",
       "      <td>2016-03-17 00:00:00</td>\n",
       "      <td>0</td>\n",
       "      <td>91074</td>\n",
       "      <td>2016-03-17 17:40:17</td>\n",
       "    </tr>\n",
       "    <tr>\n",
       "      <th>4</th>\n",
       "      <td>2016-03-31 17:25:20</td>\n",
       "      <td>3600</td>\n",
       "      <td>small</td>\n",
       "      <td>2008</td>\n",
       "      <td>manual</td>\n",
       "      <td>69</td>\n",
       "      <td>fabia</td>\n",
       "      <td>90000</td>\n",
       "      <td>7</td>\n",
       "      <td>gasoline</td>\n",
       "      <td>skoda</td>\n",
       "      <td>no</td>\n",
       "      <td>2016-03-31 00:00:00</td>\n",
       "      <td>0</td>\n",
       "      <td>60437</td>\n",
       "      <td>2016-04-06 10:17:21</td>\n",
       "    </tr>\n",
       "    <tr>\n",
       "      <th>5</th>\n",
       "      <td>2016-04-04 17:36:23</td>\n",
       "      <td>650</td>\n",
       "      <td>sedan</td>\n",
       "      <td>1995</td>\n",
       "      <td>manual</td>\n",
       "      <td>102</td>\n",
       "      <td>3er</td>\n",
       "      <td>150000</td>\n",
       "      <td>10</td>\n",
       "      <td>petrol</td>\n",
       "      <td>bmw</td>\n",
       "      <td>yes</td>\n",
       "      <td>2016-04-04 00:00:00</td>\n",
       "      <td>0</td>\n",
       "      <td>33775</td>\n",
       "      <td>2016-04-06 19:17:07</td>\n",
       "    </tr>\n",
       "    <tr>\n",
       "      <th>6</th>\n",
       "      <td>2016-04-01 20:48:51</td>\n",
       "      <td>2200</td>\n",
       "      <td>convertible</td>\n",
       "      <td>2004</td>\n",
       "      <td>manual</td>\n",
       "      <td>109</td>\n",
       "      <td>2_reihe</td>\n",
       "      <td>150000</td>\n",
       "      <td>8</td>\n",
       "      <td>petrol</td>\n",
       "      <td>peugeot</td>\n",
       "      <td>no</td>\n",
       "      <td>2016-04-01 00:00:00</td>\n",
       "      <td>0</td>\n",
       "      <td>67112</td>\n",
       "      <td>2016-04-05 18:18:39</td>\n",
       "    </tr>\n",
       "    <tr>\n",
       "      <th>7</th>\n",
       "      <td>2016-03-21 18:54:38</td>\n",
       "      <td>0</td>\n",
       "      <td>sedan</td>\n",
       "      <td>1980</td>\n",
       "      <td>manual</td>\n",
       "      <td>50</td>\n",
       "      <td>other</td>\n",
       "      <td>40000</td>\n",
       "      <td>7</td>\n",
       "      <td>petrol</td>\n",
       "      <td>volkswagen</td>\n",
       "      <td>no</td>\n",
       "      <td>2016-03-21 00:00:00</td>\n",
       "      <td>0</td>\n",
       "      <td>19348</td>\n",
       "      <td>2016-03-25 16:47:58</td>\n",
       "    </tr>\n",
       "    <tr>\n",
       "      <th>8</th>\n",
       "      <td>2016-04-04 23:42:13</td>\n",
       "      <td>14500</td>\n",
       "      <td>bus</td>\n",
       "      <td>2014</td>\n",
       "      <td>manual</td>\n",
       "      <td>125</td>\n",
       "      <td>c_max</td>\n",
       "      <td>30000</td>\n",
       "      <td>8</td>\n",
       "      <td>petrol</td>\n",
       "      <td>ford</td>\n",
       "      <td>NaN</td>\n",
       "      <td>2016-04-04 00:00:00</td>\n",
       "      <td>0</td>\n",
       "      <td>94505</td>\n",
       "      <td>2016-04-04 23:42:13</td>\n",
       "    </tr>\n",
       "    <tr>\n",
       "      <th>9</th>\n",
       "      <td>2016-03-17 10:53:50</td>\n",
       "      <td>999</td>\n",
       "      <td>small</td>\n",
       "      <td>1998</td>\n",
       "      <td>manual</td>\n",
       "      <td>101</td>\n",
       "      <td>golf</td>\n",
       "      <td>150000</td>\n",
       "      <td>0</td>\n",
       "      <td>NaN</td>\n",
       "      <td>volkswagen</td>\n",
       "      <td>NaN</td>\n",
       "      <td>2016-03-17 00:00:00</td>\n",
       "      <td>0</td>\n",
       "      <td>27472</td>\n",
       "      <td>2016-03-31 17:17:06</td>\n",
       "    </tr>\n",
       "  </tbody>\n",
       "</table>\n",
       "</div>"
      ],
      "text/plain": [
       "           DateCrawled  Price  VehicleType  RegistrationYear Gearbox  Power  \\\n",
       "0  2016-03-24 11:52:17    480          NaN              1993  manual      0   \n",
       "1  2016-03-24 10:58:45  18300        coupe              2011  manual    190   \n",
       "2  2016-03-14 12:52:21   9800          suv              2004    auto    163   \n",
       "3  2016-03-17 16:54:04   1500        small              2001  manual     75   \n",
       "4  2016-03-31 17:25:20   3600        small              2008  manual     69   \n",
       "5  2016-04-04 17:36:23    650        sedan              1995  manual    102   \n",
       "6  2016-04-01 20:48:51   2200  convertible              2004  manual    109   \n",
       "7  2016-03-21 18:54:38      0        sedan              1980  manual     50   \n",
       "8  2016-04-04 23:42:13  14500          bus              2014  manual    125   \n",
       "9  2016-03-17 10:53:50    999        small              1998  manual    101   \n",
       "\n",
       "     Model  Kilometer  RegistrationMonth  FuelType       Brand NotRepaired  \\\n",
       "0     golf     150000                  0    petrol  volkswagen         NaN   \n",
       "1      NaN     125000                  5  gasoline        audi         yes   \n",
       "2    grand     125000                  8  gasoline        jeep         NaN   \n",
       "3     golf     150000                  6    petrol  volkswagen          no   \n",
       "4    fabia      90000                  7  gasoline       skoda          no   \n",
       "5      3er     150000                 10    petrol         bmw         yes   \n",
       "6  2_reihe     150000                  8    petrol     peugeot          no   \n",
       "7    other      40000                  7    petrol  volkswagen          no   \n",
       "8    c_max      30000                  8    petrol        ford         NaN   \n",
       "9     golf     150000                  0       NaN  volkswagen         NaN   \n",
       "\n",
       "           DateCreated  NumberOfPictures  PostalCode             LastSeen  \n",
       "0  2016-03-24 00:00:00                 0       70435  2016-04-07 03:16:57  \n",
       "1  2016-03-24 00:00:00                 0       66954  2016-04-07 01:46:50  \n",
       "2  2016-03-14 00:00:00                 0       90480  2016-04-05 12:47:46  \n",
       "3  2016-03-17 00:00:00                 0       91074  2016-03-17 17:40:17  \n",
       "4  2016-03-31 00:00:00                 0       60437  2016-04-06 10:17:21  \n",
       "5  2016-04-04 00:00:00                 0       33775  2016-04-06 19:17:07  \n",
       "6  2016-04-01 00:00:00                 0       67112  2016-04-05 18:18:39  \n",
       "7  2016-03-21 00:00:00                 0       19348  2016-03-25 16:47:58  \n",
       "8  2016-04-04 00:00:00                 0       94505  2016-04-04 23:42:13  \n",
       "9  2016-03-17 00:00:00                 0       27472  2016-03-31 17:17:06  "
      ]
     },
     "execution_count": 284,
     "metadata": {},
     "output_type": "execute_result"
    }
   ],
   "source": [
    "data.head(10)"
   ]
  },
  {
   "cell_type": "code",
   "execution_count": 285,
   "metadata": {
    "scrolled": true
   },
   "outputs": [
    {
     "name": "stdout",
     "output_type": "stream",
     "text": [
      "<class 'pandas.core.frame.DataFrame'>\n",
      "RangeIndex: 354369 entries, 0 to 354368\n",
      "Data columns (total 16 columns):\n",
      " #   Column             Non-Null Count   Dtype \n",
      "---  ------             --------------   ----- \n",
      " 0   DateCrawled        354369 non-null  object\n",
      " 1   Price              354369 non-null  int64 \n",
      " 2   VehicleType        316879 non-null  object\n",
      " 3   RegistrationYear   354369 non-null  int64 \n",
      " 4   Gearbox            334536 non-null  object\n",
      " 5   Power              354369 non-null  int64 \n",
      " 6   Model              334664 non-null  object\n",
      " 7   Kilometer          354369 non-null  int64 \n",
      " 8   RegistrationMonth  354369 non-null  int64 \n",
      " 9   FuelType           321474 non-null  object\n",
      " 10  Brand              354369 non-null  object\n",
      " 11  NotRepaired        283215 non-null  object\n",
      " 12  DateCreated        354369 non-null  object\n",
      " 13  NumberOfPictures   354369 non-null  int64 \n",
      " 14  PostalCode         354369 non-null  int64 \n",
      " 15  LastSeen           354369 non-null  object\n",
      "dtypes: int64(7), object(9)\n",
      "memory usage: 43.3+ MB\n"
     ]
    }
   ],
   "source": [
    "data.info()"
   ]
  },
  {
   "cell_type": "markdown",
   "metadata": {},
   "source": [
    "в данных обнаружены пропуски. Больше всего в графе NotRepaired"
   ]
  },
  {
   "cell_type": "markdown",
   "metadata": {},
   "source": [
    "для прогнозирования цены автомобиля нам не нужны признаки DateCrawled,DateCreated,NumberOfPictures,PostalCode и LastSeen. Удалим их"
   ]
  },
  {
   "cell_type": "code",
   "execution_count": 209,
   "metadata": {},
   "outputs": [],
   "source": [
    "data=data.drop(columns=['DateCrawled','DateCreated','NumberOfPictures','PostalCode','LastSeen','RegistrationMonth'])"
   ]
  },
  {
   "cell_type": "code",
   "execution_count": 210,
   "metadata": {},
   "outputs": [
    {
     "data": {
      "text/html": [
       "<div>\n",
       "<style scoped>\n",
       "    .dataframe tbody tr th:only-of-type {\n",
       "        vertical-align: middle;\n",
       "    }\n",
       "\n",
       "    .dataframe tbody tr th {\n",
       "        vertical-align: top;\n",
       "    }\n",
       "\n",
       "    .dataframe thead th {\n",
       "        text-align: right;\n",
       "    }\n",
       "</style>\n",
       "<table border=\"1\" class=\"dataframe\">\n",
       "  <thead>\n",
       "    <tr style=\"text-align: right;\">\n",
       "      <th></th>\n",
       "      <th>Price</th>\n",
       "      <th>VehicleType</th>\n",
       "      <th>RegistrationYear</th>\n",
       "      <th>Gearbox</th>\n",
       "      <th>Power</th>\n",
       "      <th>Model</th>\n",
       "      <th>Kilometer</th>\n",
       "      <th>FuelType</th>\n",
       "      <th>Brand</th>\n",
       "      <th>NotRepaired</th>\n",
       "    </tr>\n",
       "  </thead>\n",
       "  <tbody>\n",
       "    <tr>\n",
       "      <th>0</th>\n",
       "      <td>480</td>\n",
       "      <td>NaN</td>\n",
       "      <td>1993</td>\n",
       "      <td>manual</td>\n",
       "      <td>0</td>\n",
       "      <td>golf</td>\n",
       "      <td>150000</td>\n",
       "      <td>petrol</td>\n",
       "      <td>volkswagen</td>\n",
       "      <td>NaN</td>\n",
       "    </tr>\n",
       "    <tr>\n",
       "      <th>1</th>\n",
       "      <td>18300</td>\n",
       "      <td>coupe</td>\n",
       "      <td>2011</td>\n",
       "      <td>manual</td>\n",
       "      <td>190</td>\n",
       "      <td>NaN</td>\n",
       "      <td>125000</td>\n",
       "      <td>gasoline</td>\n",
       "      <td>audi</td>\n",
       "      <td>yes</td>\n",
       "    </tr>\n",
       "    <tr>\n",
       "      <th>2</th>\n",
       "      <td>9800</td>\n",
       "      <td>suv</td>\n",
       "      <td>2004</td>\n",
       "      <td>auto</td>\n",
       "      <td>163</td>\n",
       "      <td>grand</td>\n",
       "      <td>125000</td>\n",
       "      <td>gasoline</td>\n",
       "      <td>jeep</td>\n",
       "      <td>NaN</td>\n",
       "    </tr>\n",
       "    <tr>\n",
       "      <th>3</th>\n",
       "      <td>1500</td>\n",
       "      <td>small</td>\n",
       "      <td>2001</td>\n",
       "      <td>manual</td>\n",
       "      <td>75</td>\n",
       "      <td>golf</td>\n",
       "      <td>150000</td>\n",
       "      <td>petrol</td>\n",
       "      <td>volkswagen</td>\n",
       "      <td>no</td>\n",
       "    </tr>\n",
       "    <tr>\n",
       "      <th>4</th>\n",
       "      <td>3600</td>\n",
       "      <td>small</td>\n",
       "      <td>2008</td>\n",
       "      <td>manual</td>\n",
       "      <td>69</td>\n",
       "      <td>fabia</td>\n",
       "      <td>90000</td>\n",
       "      <td>gasoline</td>\n",
       "      <td>skoda</td>\n",
       "      <td>no</td>\n",
       "    </tr>\n",
       "    <tr>\n",
       "      <th>5</th>\n",
       "      <td>650</td>\n",
       "      <td>sedan</td>\n",
       "      <td>1995</td>\n",
       "      <td>manual</td>\n",
       "      <td>102</td>\n",
       "      <td>3er</td>\n",
       "      <td>150000</td>\n",
       "      <td>petrol</td>\n",
       "      <td>bmw</td>\n",
       "      <td>yes</td>\n",
       "    </tr>\n",
       "    <tr>\n",
       "      <th>6</th>\n",
       "      <td>2200</td>\n",
       "      <td>convertible</td>\n",
       "      <td>2004</td>\n",
       "      <td>manual</td>\n",
       "      <td>109</td>\n",
       "      <td>2_reihe</td>\n",
       "      <td>150000</td>\n",
       "      <td>petrol</td>\n",
       "      <td>peugeot</td>\n",
       "      <td>no</td>\n",
       "    </tr>\n",
       "    <tr>\n",
       "      <th>7</th>\n",
       "      <td>0</td>\n",
       "      <td>sedan</td>\n",
       "      <td>1980</td>\n",
       "      <td>manual</td>\n",
       "      <td>50</td>\n",
       "      <td>other</td>\n",
       "      <td>40000</td>\n",
       "      <td>petrol</td>\n",
       "      <td>volkswagen</td>\n",
       "      <td>no</td>\n",
       "    </tr>\n",
       "    <tr>\n",
       "      <th>8</th>\n",
       "      <td>14500</td>\n",
       "      <td>bus</td>\n",
       "      <td>2014</td>\n",
       "      <td>manual</td>\n",
       "      <td>125</td>\n",
       "      <td>c_max</td>\n",
       "      <td>30000</td>\n",
       "      <td>petrol</td>\n",
       "      <td>ford</td>\n",
       "      <td>NaN</td>\n",
       "    </tr>\n",
       "    <tr>\n",
       "      <th>9</th>\n",
       "      <td>999</td>\n",
       "      <td>small</td>\n",
       "      <td>1998</td>\n",
       "      <td>manual</td>\n",
       "      <td>101</td>\n",
       "      <td>golf</td>\n",
       "      <td>150000</td>\n",
       "      <td>NaN</td>\n",
       "      <td>volkswagen</td>\n",
       "      <td>NaN</td>\n",
       "    </tr>\n",
       "  </tbody>\n",
       "</table>\n",
       "</div>"
      ],
      "text/plain": [
       "   Price  VehicleType  RegistrationYear Gearbox  Power    Model  Kilometer  \\\n",
       "0    480          NaN              1993  manual      0     golf     150000   \n",
       "1  18300        coupe              2011  manual    190      NaN     125000   \n",
       "2   9800          suv              2004    auto    163    grand     125000   \n",
       "3   1500        small              2001  manual     75     golf     150000   \n",
       "4   3600        small              2008  manual     69    fabia      90000   \n",
       "5    650        sedan              1995  manual    102      3er     150000   \n",
       "6   2200  convertible              2004  manual    109  2_reihe     150000   \n",
       "7      0        sedan              1980  manual     50    other      40000   \n",
       "8  14500          bus              2014  manual    125    c_max      30000   \n",
       "9    999        small              1998  manual    101     golf     150000   \n",
       "\n",
       "   FuelType       Brand NotRepaired  \n",
       "0    petrol  volkswagen         NaN  \n",
       "1  gasoline        audi         yes  \n",
       "2  gasoline        jeep         NaN  \n",
       "3    petrol  volkswagen          no  \n",
       "4  gasoline       skoda          no  \n",
       "5    petrol         bmw         yes  \n",
       "6    petrol     peugeot          no  \n",
       "7    petrol  volkswagen          no  \n",
       "8    petrol        ford         NaN  \n",
       "9       NaN  volkswagen         NaN  "
      ]
     },
     "execution_count": 210,
     "metadata": {},
     "output_type": "execute_result"
    }
   ],
   "source": [
    "data.head(10)"
   ]
  },
  {
   "cell_type": "code",
   "execution_count": 211,
   "metadata": {},
   "outputs": [
    {
     "name": "stdout",
     "output_type": "stream",
     "text": [
      "<class 'pandas.core.frame.DataFrame'>\n",
      "RangeIndex: 354369 entries, 0 to 354368\n",
      "Data columns (total 10 columns):\n",
      " #   Column            Non-Null Count   Dtype \n",
      "---  ------            --------------   ----- \n",
      " 0   Price             354369 non-null  int64 \n",
      " 1   VehicleType       316879 non-null  object\n",
      " 2   RegistrationYear  354369 non-null  int64 \n",
      " 3   Gearbox           334536 non-null  object\n",
      " 4   Power             354369 non-null  int64 \n",
      " 5   Model             334664 non-null  object\n",
      " 6   Kilometer         354369 non-null  int64 \n",
      " 7   FuelType          321474 non-null  object\n",
      " 8   Brand             354369 non-null  object\n",
      " 9   NotRepaired       283215 non-null  object\n",
      "dtypes: int64(4), object(6)\n",
      "memory usage: 27.0+ MB\n"
     ]
    }
   ],
   "source": [
    "data.info()"
   ]
  },
  {
   "cell_type": "markdown",
   "metadata": {},
   "source": [
    "посмотрим сколько пропусков в каждом столбце:"
   ]
  },
  {
   "cell_type": "code",
   "execution_count": 212,
   "metadata": {},
   "outputs": [
    {
     "data": {
      "text/plain": [
       "Price                   0\n",
       "VehicleType         37490\n",
       "RegistrationYear        0\n",
       "Gearbox             19833\n",
       "Power                   0\n",
       "Model               19705\n",
       "Kilometer               0\n",
       "FuelType            32895\n",
       "Brand                   0\n",
       "NotRepaired         71154\n",
       "dtype: int64"
      ]
     },
     "execution_count": 212,
     "metadata": {},
     "output_type": "execute_result"
    }
   ],
   "source": [
    "data.isna().sum()"
   ]
  },
  {
   "cell_type": "markdown",
   "metadata": {},
   "source": [
    "начнем убирать пустоты и аномальные значения начиная с Price:"
   ]
  },
  {
   "cell_type": "code",
   "execution_count": 213,
   "metadata": {},
   "outputs": [
    {
     "data": {
      "text/plain": [
       "0        10772\n",
       "500       5670\n",
       "1500      5394\n",
       "1000      4649\n",
       "1200      4594\n",
       "         ...  \n",
       "13180        1\n",
       "10879        1\n",
       "2683         1\n",
       "634          1\n",
       "8188         1\n",
       "Name: Price, Length: 3731, dtype: int64"
      ]
     },
     "execution_count": 213,
     "metadata": {},
     "output_type": "execute_result"
    }
   ],
   "source": [
    "data['Price'].value_counts()"
   ]
  },
  {
   "cell_type": "markdown",
   "metadata": {},
   "source": [
    "Price это целевой признак и нулевые значения недопустимы. Уберем все значения с нулями"
   ]
  },
  {
   "cell_type": "code",
   "execution_count": 214,
   "metadata": {},
   "outputs": [],
   "source": [
    "data=data.query('Price!=0')"
   ]
  },
  {
   "cell_type": "markdown",
   "metadata": {},
   "source": [
    "проверим что все верно и нулей нет:"
   ]
  },
  {
   "cell_type": "code",
   "execution_count": 215,
   "metadata": {},
   "outputs": [
    {
     "data": {
      "text/plain": [
       "500      5670\n",
       "1500     5394\n",
       "1000     4649\n",
       "1200     4594\n",
       "2500     4438\n",
       "         ... \n",
       "5240        1\n",
       "13180       1\n",
       "10879       1\n",
       "2683        1\n",
       "8188        1\n",
       "Name: Price, Length: 3730, dtype: int64"
      ]
     },
     "execution_count": 215,
     "metadata": {},
     "output_type": "execute_result"
    }
   ],
   "source": [
    "data['Price'].value_counts()"
   ]
  },
  {
   "cell_type": "markdown",
   "metadata": {},
   "source": [
    "посмотрим сколько данных пропущенно в VehicleType:"
   ]
  },
  {
   "cell_type": "code",
   "execution_count": 216,
   "metadata": {},
   "outputs": [
    {
     "data": {
      "text/plain": [
       "0.09822553747558914"
      ]
     },
     "execution_count": 216,
     "metadata": {},
     "output_type": "execute_result"
    }
   ],
   "source": [
    "data['VehicleType'].isna().sum()/data.shape[0]"
   ]
  },
  {
   "cell_type": "markdown",
   "metadata": {},
   "source": [
    "пропущенно чуть меньше 10% данных. Заменим пропуски на unknown:"
   ]
  },
  {
   "cell_type": "code",
   "execution_count": 217,
   "metadata": {},
   "outputs": [],
   "source": [
    "data['VehicleType']=data['VehicleType'].fillna('unknown')"
   ]
  },
  {
   "cell_type": "markdown",
   "metadata": {},
   "source": [
    "и проверим что данные успешно изменились:"
   ]
  },
  {
   "cell_type": "code",
   "execution_count": 218,
   "metadata": {},
   "outputs": [
    {
     "data": {
      "text/plain": [
       "sedan          89405\n",
       "small          78018\n",
       "wagon          63701\n",
       "unknown        33750\n",
       "bus            28345\n",
       "convertible    19865\n",
       "coupe          15636\n",
       "suv            11791\n",
       "other           3086\n",
       "Name: VehicleType, dtype: int64"
      ]
     },
     "execution_count": 218,
     "metadata": {},
     "output_type": "execute_result"
    }
   ],
   "source": [
    "data['VehicleType'].value_counts()"
   ]
  },
  {
   "cell_type": "markdown",
   "metadata": {},
   "source": [
    "теперь посмотрим на RegistrationYear:"
   ]
  },
  {
   "cell_type": "code",
   "execution_count": 219,
   "metadata": {},
   "outputs": [
    {
     "data": {
      "text/plain": [
       "2000    23072\n",
       "1999    21995\n",
       "2005    21524\n",
       "2006    19679\n",
       "2001    19654\n",
       "        ...  \n",
       "1949        1\n",
       "2222        1\n",
       "5300        1\n",
       "8888        1\n",
       "2290        1\n",
       "Name: RegistrationYear, Length: 140, dtype: int64"
      ]
     },
     "execution_count": 219,
     "metadata": {},
     "output_type": "execute_result"
    }
   ],
   "source": [
    "data['RegistrationYear'].value_counts()"
   ]
  },
  {
   "cell_type": "markdown",
   "metadata": {},
   "source": [
    "видны странные значения, как 1200 или 4500 год. Ограничим данные по году регистрации автомобиля 1900 и 2023 годом."
   ]
  },
  {
   "cell_type": "code",
   "execution_count": 220,
   "metadata": {},
   "outputs": [],
   "source": [
    "data_new=data.query('RegistrationYear>1900 and RegistrationYear<2023')"
   ]
  },
  {
   "cell_type": "markdown",
   "metadata": {},
   "source": [
    "посмотрим сколько процентов мы удалили"
   ]
  },
  {
   "cell_type": "code",
   "execution_count": 221,
   "metadata": {},
   "outputs": [
    {
     "data": {
      "text/plain": [
       "99.95954563049153"
      ]
     },
     "execution_count": 221,
     "metadata": {},
     "output_type": "execute_result"
    }
   ],
   "source": [
    "data_new.shape[0]/data.shape[0]*100"
   ]
  },
  {
   "cell_type": "markdown",
   "metadata": {},
   "source": [
    "удалено меньше 1% "
   ]
  },
  {
   "cell_type": "code",
   "execution_count": 222,
   "metadata": {},
   "outputs": [],
   "source": [
    "data=data_new"
   ]
  },
  {
   "cell_type": "markdown",
   "metadata": {},
   "source": [
    "проанализируем Gearbox"
   ]
  },
  {
   "cell_type": "code",
   "execution_count": 223,
   "metadata": {},
   "outputs": [
    {
     "data": {
      "text/plain": [
       "manual    261351\n",
       "auto       64864\n",
       "Name: Gearbox, dtype: int64"
      ]
     },
     "execution_count": 223,
     "metadata": {},
     "output_type": "execute_result"
    }
   ],
   "source": [
    "data['Gearbox'].value_counts()"
   ]
  },
  {
   "cell_type": "markdown",
   "metadata": {},
   "source": [
    "тяжело отнести пропуски к какому-либо виду коробки передач, поэтому заменим их на неизвестные:"
   ]
  },
  {
   "cell_type": "code",
   "execution_count": 224,
   "metadata": {},
   "outputs": [],
   "source": [
    "data['Gearbox']=data['Gearbox'].fillna('unknown')"
   ]
  },
  {
   "cell_type": "code",
   "execution_count": 225,
   "metadata": {},
   "outputs": [
    {
     "data": {
      "text/plain": [
       "manual     261351\n",
       "auto        64864\n",
       "unknown     17243\n",
       "Name: Gearbox, dtype: int64"
      ]
     },
     "execution_count": 225,
     "metadata": {},
     "output_type": "execute_result"
    }
   ],
   "source": [
    "data['Gearbox'].value_counts()"
   ]
  },
  {
   "cell_type": "markdown",
   "metadata": {},
   "source": [
    "проанализируем Power"
   ]
  },
  {
   "cell_type": "code",
   "execution_count": 226,
   "metadata": {},
   "outputs": [
    {
     "data": {
      "text/plain": [
       "0        36259\n",
       "75       23317\n",
       "60       15465\n",
       "150      14170\n",
       "101      12960\n",
       "         ...  \n",
       "1312         1\n",
       "15001        1\n",
       "1870         1\n",
       "1436         1\n",
       "1416         1\n",
       "Name: Power, Length: 699, dtype: int64"
      ]
     },
     "execution_count": 226,
     "metadata": {},
     "output_type": "execute_result"
    }
   ],
   "source": [
    "data['Power'].value_counts()"
   ]
  },
  {
   "cell_type": "markdown",
   "metadata": {},
   "source": [
    "обнаружено очень много нулей. Заменим их медианным значением."
   ]
  },
  {
   "cell_type": "code",
   "execution_count": 227,
   "metadata": {},
   "outputs": [],
   "source": [
    "data['Power']=data['Power'].replace(0,data['Power'].median())"
   ]
  },
  {
   "cell_type": "code",
   "execution_count": 228,
   "metadata": {},
   "outputs": [
    {
     "data": {
      "text/plain": [
       "105.0      46502\n",
       "75.0       23317\n",
       "60.0       15465\n",
       "150.0      14170\n",
       "101.0      12960\n",
       "           ...  \n",
       "10218.0        1\n",
       "776.0          1\n",
       "2172.0         1\n",
       "1256.0         1\n",
       "9010.0         1\n",
       "Name: Power, Length: 698, dtype: int64"
      ]
     },
     "execution_count": 228,
     "metadata": {},
     "output_type": "execute_result"
    }
   ],
   "source": [
    "data['Power'].value_counts()"
   ]
  },
  {
   "cell_type": "markdown",
   "metadata": {},
   "source": [
    "проанализируем Model"
   ]
  },
  {
   "cell_type": "code",
   "execution_count": 229,
   "metadata": {},
   "outputs": [
    {
     "data": {
      "text/plain": [
       "golf                  28233\n",
       "other                 23690\n",
       "3er                   19175\n",
       "polo                  12625\n",
       "corsa                 12191\n",
       "                      ...  \n",
       "i3                        8\n",
       "rangerover                4\n",
       "serie_3                   3\n",
       "range_rover_evoque        2\n",
       "serie_1                   1\n",
       "Name: Model, Length: 250, dtype: int64"
      ]
     },
     "execution_count": 229,
     "metadata": {},
     "output_type": "execute_result"
    }
   ],
   "source": [
    "data['Model'].value_counts()"
   ]
  },
  {
   "cell_type": "markdown",
   "metadata": {},
   "source": [
    "данные с неизвестной моделью не имеют смысла, поэтому удалим эти данные:"
   ]
  },
  {
   "cell_type": "code",
   "execution_count": 230,
   "metadata": {},
   "outputs": [],
   "source": [
    "data=data[data['Model'].notna()]"
   ]
  },
  {
   "cell_type": "markdown",
   "metadata": {},
   "source": [
    "проверим что пустот больше нет:"
   ]
  },
  {
   "cell_type": "code",
   "execution_count": 231,
   "metadata": {},
   "outputs": [
    {
     "data": {
      "text/plain": [
       "Price                   0\n",
       "VehicleType             0\n",
       "RegistrationYear        0\n",
       "Gearbox                 0\n",
       "Power                   0\n",
       "Model                   0\n",
       "Kilometer               0\n",
       "FuelType            23490\n",
       "Brand                   0\n",
       "NotRepaired         58218\n",
       "dtype: int64"
      ]
     },
     "execution_count": 231,
     "metadata": {},
     "output_type": "execute_result"
    }
   ],
   "source": [
    "data.isna().sum()"
   ]
  },
  {
   "cell_type": "markdown",
   "metadata": {},
   "source": [
    "проанализируем Kilometer:"
   ]
  },
  {
   "cell_type": "code",
   "execution_count": 232,
   "metadata": {},
   "outputs": [
    {
     "data": {
      "text/plain": [
       "150000    218579\n",
       "125000     34387\n",
       "100000     13753\n",
       "90000      10998\n",
       "80000       9562\n",
       "70000       8170\n",
       "60000       7110\n",
       "50000       5921\n",
       "40000       4659\n",
       "5000        4227\n",
       "30000       4120\n",
       "20000       3520\n",
       "10000        984\n",
       "Name: Kilometer, dtype: int64"
      ]
     },
     "execution_count": 232,
     "metadata": {},
     "output_type": "execute_result"
    }
   ],
   "source": [
    "data['Kilometer'].value_counts()"
   ]
  },
  {
   "cell_type": "markdown",
   "metadata": {},
   "source": [
    "нулей и пустот в Kilometer не обнаружено, перейдем к FuelType:"
   ]
  },
  {
   "cell_type": "code",
   "execution_count": 233,
   "metadata": {},
   "outputs": [
    {
     "data": {
      "text/plain": [
       "petrol      202235\n",
       "gasoline     94500\n",
       "lpg           4845\n",
       "cng            533\n",
       "hybrid         204\n",
       "other          118\n",
       "electric        65\n",
       "Name: FuelType, dtype: int64"
      ]
     },
     "execution_count": 233,
     "metadata": {},
     "output_type": "execute_result"
    }
   ],
   "source": [
    "data['FuelType'].value_counts()"
   ]
  },
  {
   "cell_type": "markdown",
   "metadata": {},
   "source": [
    "аналогично изменим пропуски на other в виде топлива "
   ]
  },
  {
   "cell_type": "code",
   "execution_count": 234,
   "metadata": {
    "scrolled": true
   },
   "outputs": [
    {
     "name": "stderr",
     "output_type": "stream",
     "text": [
      "/tmp/ipykernel_49/4100503146.py:1: SettingWithCopyWarning: \n",
      "A value is trying to be set on a copy of a slice from a DataFrame.\n",
      "Try using .loc[row_indexer,col_indexer] = value instead\n",
      "\n",
      "See the caveats in the documentation: https://pandas.pydata.org/pandas-docs/stable/user_guide/indexing.html#returning-a-view-versus-a-copy\n",
      "  data['FuelType'] = data['FuelType'].fillna(\"unknown\")\n"
     ]
    }
   ],
   "source": [
    "data['FuelType'] = data['FuelType'].fillna(\"unknown\")"
   ]
  },
  {
   "cell_type": "code",
   "execution_count": 235,
   "metadata": {},
   "outputs": [
    {
     "data": {
      "text/plain": [
       "petrol      202235\n",
       "gasoline     94500\n",
       "unknown      23490\n",
       "lpg           4845\n",
       "cng            533\n",
       "hybrid         204\n",
       "other          118\n",
       "electric        65\n",
       "Name: FuelType, dtype: int64"
      ]
     },
     "execution_count": 235,
     "metadata": {},
     "output_type": "execute_result"
    }
   ],
   "source": [
    "data['FuelType'].value_counts()"
   ]
  },
  {
   "cell_type": "code",
   "execution_count": 236,
   "metadata": {},
   "outputs": [
    {
     "data": {
      "text/plain": [
       "no     235818\n",
       "yes     31954\n",
       "Name: NotRepaired, dtype: int64"
      ]
     },
     "execution_count": 236,
     "metadata": {},
     "output_type": "execute_result"
    }
   ],
   "source": [
    "data['NotRepaired'].value_counts()"
   ]
  },
  {
   "cell_type": "code",
   "execution_count": 237,
   "metadata": {},
   "outputs": [
    {
     "name": "stderr",
     "output_type": "stream",
     "text": [
      "/tmp/ipykernel_49/2400037822.py:1: SettingWithCopyWarning: \n",
      "A value is trying to be set on a copy of a slice from a DataFrame.\n",
      "Try using .loc[row_indexer,col_indexer] = value instead\n",
      "\n",
      "See the caveats in the documentation: https://pandas.pydata.org/pandas-docs/stable/user_guide/indexing.html#returning-a-view-versus-a-copy\n",
      "  data['NotRepaired']=data['NotRepaired'].fillna('unknown')\n"
     ]
    }
   ],
   "source": [
    "data['NotRepaired']=data['NotRepaired'].fillna('unknown')"
   ]
  },
  {
   "cell_type": "markdown",
   "metadata": {},
   "source": [
    "проверим что в датасете больше нет пропусков:"
   ]
  },
  {
   "cell_type": "code",
   "execution_count": 238,
   "metadata": {},
   "outputs": [
    {
     "data": {
      "text/plain": [
       "Price               0\n",
       "VehicleType         0\n",
       "RegistrationYear    0\n",
       "Gearbox             0\n",
       "Power               0\n",
       "Model               0\n",
       "Kilometer           0\n",
       "FuelType            0\n",
       "Brand               0\n",
       "NotRepaired         0\n",
       "dtype: int64"
      ]
     },
     "execution_count": 238,
     "metadata": {},
     "output_type": "execute_result"
    }
   ],
   "source": [
    "data.isna().sum()"
   ]
  },
  {
   "cell_type": "markdown",
   "metadata": {},
   "source": [
    "проверим данные на явные дубликаты:"
   ]
  },
  {
   "cell_type": "code",
   "execution_count": 239,
   "metadata": {},
   "outputs": [
    {
     "data": {
      "text/plain": [
       "42440"
      ]
     },
     "execution_count": 239,
     "metadata": {},
     "output_type": "execute_result"
    }
   ],
   "source": [
    " data.duplicated().sum()"
   ]
  },
  {
   "cell_type": "markdown",
   "metadata": {},
   "source": [
    "дубликаты нам не нужны, удалим их:"
   ]
  },
  {
   "cell_type": "code",
   "execution_count": 240,
   "metadata": {},
   "outputs": [],
   "source": [
    "data=data.drop_duplicates()"
   ]
  },
  {
   "cell_type": "code",
   "execution_count": 241,
   "metadata": {},
   "outputs": [
    {
     "data": {
      "text/plain": [
       "0"
      ]
     },
     "execution_count": 241,
     "metadata": {},
     "output_type": "execute_result"
    }
   ],
   "source": [
    "data.duplicated().sum()"
   ]
  },
  {
   "cell_type": "markdown",
   "metadata": {},
   "source": [
    "преобразуем тип Power в целочисленный формат:"
   ]
  },
  {
   "cell_type": "code",
   "execution_count": 242,
   "metadata": {},
   "outputs": [],
   "source": [
    "data['Power'] = data['Power'].apply(np.int64)"
   ]
  },
  {
   "cell_type": "code",
   "execution_count": 243,
   "metadata": {},
   "outputs": [
    {
     "name": "stdout",
     "output_type": "stream",
     "text": [
      "<class 'pandas.core.frame.DataFrame'>\n",
      "Int64Index: 283550 entries, 0 to 354368\n",
      "Data columns (total 10 columns):\n",
      " #   Column            Non-Null Count   Dtype \n",
      "---  ------            --------------   ----- \n",
      " 0   Price             283550 non-null  int64 \n",
      " 1   VehicleType       283550 non-null  object\n",
      " 2   RegistrationYear  283550 non-null  int64 \n",
      " 3   Gearbox           283550 non-null  object\n",
      " 4   Power             283550 non-null  int64 \n",
      " 5   Model             283550 non-null  object\n",
      " 6   Kilometer         283550 non-null  int64 \n",
      " 7   FuelType          283550 non-null  object\n",
      " 8   Brand             283550 non-null  object\n",
      " 9   NotRepaired       283550 non-null  object\n",
      "dtypes: int64(4), object(6)\n",
      "memory usage: 23.8+ MB\n"
     ]
    }
   ],
   "source": [
    "data.info()"
   ]
  },
  {
   "cell_type": "markdown",
   "metadata": {},
   "source": [
    "В наборе данных встречаются категориальные признаки. Чтобы преобразовать категориальные признаки в численные воспользуемся техникой One-Hot Encoding:"
   ]
  },
  {
   "cell_type": "code",
   "execution_count": 244,
   "metadata": {},
   "outputs": [
    {
     "data": {
      "text/html": [
       "<div>\n",
       "<style scoped>\n",
       "    .dataframe tbody tr th:only-of-type {\n",
       "        vertical-align: middle;\n",
       "    }\n",
       "\n",
       "    .dataframe tbody tr th {\n",
       "        vertical-align: top;\n",
       "    }\n",
       "\n",
       "    .dataframe thead th {\n",
       "        text-align: right;\n",
       "    }\n",
       "</style>\n",
       "<table border=\"1\" class=\"dataframe\">\n",
       "  <thead>\n",
       "    <tr style=\"text-align: right;\">\n",
       "      <th></th>\n",
       "      <th>Price</th>\n",
       "      <th>VehicleType</th>\n",
       "      <th>RegistrationYear</th>\n",
       "      <th>Gearbox</th>\n",
       "      <th>Power</th>\n",
       "      <th>Model</th>\n",
       "      <th>Kilometer</th>\n",
       "      <th>FuelType</th>\n",
       "      <th>Brand</th>\n",
       "      <th>NotRepaired</th>\n",
       "    </tr>\n",
       "  </thead>\n",
       "  <tbody>\n",
       "    <tr>\n",
       "      <th>0</th>\n",
       "      <td>480</td>\n",
       "      <td>unknown</td>\n",
       "      <td>1993</td>\n",
       "      <td>manual</td>\n",
       "      <td>105</td>\n",
       "      <td>golf</td>\n",
       "      <td>150000</td>\n",
       "      <td>petrol</td>\n",
       "      <td>volkswagen</td>\n",
       "      <td>unknown</td>\n",
       "    </tr>\n",
       "    <tr>\n",
       "      <th>2</th>\n",
       "      <td>9800</td>\n",
       "      <td>suv</td>\n",
       "      <td>2004</td>\n",
       "      <td>auto</td>\n",
       "      <td>163</td>\n",
       "      <td>grand</td>\n",
       "      <td>125000</td>\n",
       "      <td>gasoline</td>\n",
       "      <td>jeep</td>\n",
       "      <td>unknown</td>\n",
       "    </tr>\n",
       "    <tr>\n",
       "      <th>3</th>\n",
       "      <td>1500</td>\n",
       "      <td>small</td>\n",
       "      <td>2001</td>\n",
       "      <td>manual</td>\n",
       "      <td>75</td>\n",
       "      <td>golf</td>\n",
       "      <td>150000</td>\n",
       "      <td>petrol</td>\n",
       "      <td>volkswagen</td>\n",
       "      <td>no</td>\n",
       "    </tr>\n",
       "    <tr>\n",
       "      <th>4</th>\n",
       "      <td>3600</td>\n",
       "      <td>small</td>\n",
       "      <td>2008</td>\n",
       "      <td>manual</td>\n",
       "      <td>69</td>\n",
       "      <td>fabia</td>\n",
       "      <td>90000</td>\n",
       "      <td>gasoline</td>\n",
       "      <td>skoda</td>\n",
       "      <td>no</td>\n",
       "    </tr>\n",
       "    <tr>\n",
       "      <th>5</th>\n",
       "      <td>650</td>\n",
       "      <td>sedan</td>\n",
       "      <td>1995</td>\n",
       "      <td>manual</td>\n",
       "      <td>102</td>\n",
       "      <td>3er</td>\n",
       "      <td>150000</td>\n",
       "      <td>petrol</td>\n",
       "      <td>bmw</td>\n",
       "      <td>yes</td>\n",
       "    </tr>\n",
       "  </tbody>\n",
       "</table>\n",
       "</div>"
      ],
      "text/plain": [
       "   Price VehicleType  RegistrationYear Gearbox  Power  Model  Kilometer  \\\n",
       "0    480     unknown              1993  manual    105   golf     150000   \n",
       "2   9800         suv              2004    auto    163  grand     125000   \n",
       "3   1500       small              2001  manual     75   golf     150000   \n",
       "4   3600       small              2008  manual     69  fabia      90000   \n",
       "5    650       sedan              1995  manual    102    3er     150000   \n",
       "\n",
       "   FuelType       Brand NotRepaired  \n",
       "0    petrol  volkswagen     unknown  \n",
       "2  gasoline        jeep     unknown  \n",
       "3    petrol  volkswagen          no  \n",
       "4  gasoline       skoda          no  \n",
       "5    petrol         bmw         yes  "
      ]
     },
     "execution_count": 244,
     "metadata": {},
     "output_type": "execute_result"
    }
   ],
   "source": [
    "data.head()"
   ]
  },
  {
   "cell_type": "code",
   "execution_count": 245,
   "metadata": {},
   "outputs": [],
   "source": [
    "data_ohe = pd.get_dummies(data, drop_first=True)"
   ]
  },
  {
   "cell_type": "code",
   "execution_count": 246,
   "metadata": {
    "scrolled": true
   },
   "outputs": [
    {
     "data": {
      "text/html": [
       "<div>\n",
       "<style scoped>\n",
       "    .dataframe tbody tr th:only-of-type {\n",
       "        vertical-align: middle;\n",
       "    }\n",
       "\n",
       "    .dataframe tbody tr th {\n",
       "        vertical-align: top;\n",
       "    }\n",
       "\n",
       "    .dataframe thead th {\n",
       "        text-align: right;\n",
       "    }\n",
       "</style>\n",
       "<table border=\"1\" class=\"dataframe\">\n",
       "  <thead>\n",
       "    <tr style=\"text-align: right;\">\n",
       "      <th></th>\n",
       "      <th>Price</th>\n",
       "      <th>RegistrationYear</th>\n",
       "      <th>Power</th>\n",
       "      <th>Kilometer</th>\n",
       "      <th>VehicleType_convertible</th>\n",
       "      <th>VehicleType_coupe</th>\n",
       "      <th>VehicleType_other</th>\n",
       "      <th>VehicleType_sedan</th>\n",
       "      <th>VehicleType_small</th>\n",
       "      <th>VehicleType_suv</th>\n",
       "      <th>...</th>\n",
       "      <th>Brand_skoda</th>\n",
       "      <th>Brand_smart</th>\n",
       "      <th>Brand_subaru</th>\n",
       "      <th>Brand_suzuki</th>\n",
       "      <th>Brand_toyota</th>\n",
       "      <th>Brand_trabant</th>\n",
       "      <th>Brand_volkswagen</th>\n",
       "      <th>Brand_volvo</th>\n",
       "      <th>NotRepaired_unknown</th>\n",
       "      <th>NotRepaired_yes</th>\n",
       "    </tr>\n",
       "  </thead>\n",
       "  <tbody>\n",
       "    <tr>\n",
       "      <th>0</th>\n",
       "      <td>480</td>\n",
       "      <td>1993</td>\n",
       "      <td>105</td>\n",
       "      <td>150000</td>\n",
       "      <td>0</td>\n",
       "      <td>0</td>\n",
       "      <td>0</td>\n",
       "      <td>0</td>\n",
       "      <td>0</td>\n",
       "      <td>0</td>\n",
       "      <td>...</td>\n",
       "      <td>0</td>\n",
       "      <td>0</td>\n",
       "      <td>0</td>\n",
       "      <td>0</td>\n",
       "      <td>0</td>\n",
       "      <td>0</td>\n",
       "      <td>1</td>\n",
       "      <td>0</td>\n",
       "      <td>1</td>\n",
       "      <td>0</td>\n",
       "    </tr>\n",
       "    <tr>\n",
       "      <th>2</th>\n",
       "      <td>9800</td>\n",
       "      <td>2004</td>\n",
       "      <td>163</td>\n",
       "      <td>125000</td>\n",
       "      <td>0</td>\n",
       "      <td>0</td>\n",
       "      <td>0</td>\n",
       "      <td>0</td>\n",
       "      <td>0</td>\n",
       "      <td>1</td>\n",
       "      <td>...</td>\n",
       "      <td>0</td>\n",
       "      <td>0</td>\n",
       "      <td>0</td>\n",
       "      <td>0</td>\n",
       "      <td>0</td>\n",
       "      <td>0</td>\n",
       "      <td>0</td>\n",
       "      <td>0</td>\n",
       "      <td>1</td>\n",
       "      <td>0</td>\n",
       "    </tr>\n",
       "    <tr>\n",
       "      <th>3</th>\n",
       "      <td>1500</td>\n",
       "      <td>2001</td>\n",
       "      <td>75</td>\n",
       "      <td>150000</td>\n",
       "      <td>0</td>\n",
       "      <td>0</td>\n",
       "      <td>0</td>\n",
       "      <td>0</td>\n",
       "      <td>1</td>\n",
       "      <td>0</td>\n",
       "      <td>...</td>\n",
       "      <td>0</td>\n",
       "      <td>0</td>\n",
       "      <td>0</td>\n",
       "      <td>0</td>\n",
       "      <td>0</td>\n",
       "      <td>0</td>\n",
       "      <td>1</td>\n",
       "      <td>0</td>\n",
       "      <td>0</td>\n",
       "      <td>0</td>\n",
       "    </tr>\n",
       "    <tr>\n",
       "      <th>4</th>\n",
       "      <td>3600</td>\n",
       "      <td>2008</td>\n",
       "      <td>69</td>\n",
       "      <td>90000</td>\n",
       "      <td>0</td>\n",
       "      <td>0</td>\n",
       "      <td>0</td>\n",
       "      <td>0</td>\n",
       "      <td>1</td>\n",
       "      <td>0</td>\n",
       "      <td>...</td>\n",
       "      <td>1</td>\n",
       "      <td>0</td>\n",
       "      <td>0</td>\n",
       "      <td>0</td>\n",
       "      <td>0</td>\n",
       "      <td>0</td>\n",
       "      <td>0</td>\n",
       "      <td>0</td>\n",
       "      <td>0</td>\n",
       "      <td>0</td>\n",
       "    </tr>\n",
       "    <tr>\n",
       "      <th>5</th>\n",
       "      <td>650</td>\n",
       "      <td>1995</td>\n",
       "      <td>102</td>\n",
       "      <td>150000</td>\n",
       "      <td>0</td>\n",
       "      <td>0</td>\n",
       "      <td>0</td>\n",
       "      <td>1</td>\n",
       "      <td>0</td>\n",
       "      <td>0</td>\n",
       "      <td>...</td>\n",
       "      <td>0</td>\n",
       "      <td>0</td>\n",
       "      <td>0</td>\n",
       "      <td>0</td>\n",
       "      <td>0</td>\n",
       "      <td>0</td>\n",
       "      <td>0</td>\n",
       "      <td>0</td>\n",
       "      <td>0</td>\n",
       "      <td>1</td>\n",
       "    </tr>\n",
       "  </tbody>\n",
       "</table>\n",
       "<p>5 rows × 310 columns</p>\n",
       "</div>"
      ],
      "text/plain": [
       "   Price  RegistrationYear  Power  Kilometer  VehicleType_convertible  \\\n",
       "0    480              1993    105     150000                        0   \n",
       "2   9800              2004    163     125000                        0   \n",
       "3   1500              2001     75     150000                        0   \n",
       "4   3600              2008     69      90000                        0   \n",
       "5    650              1995    102     150000                        0   \n",
       "\n",
       "   VehicleType_coupe  VehicleType_other  VehicleType_sedan  VehicleType_small  \\\n",
       "0                  0                  0                  0                  0   \n",
       "2                  0                  0                  0                  0   \n",
       "3                  0                  0                  0                  1   \n",
       "4                  0                  0                  0                  1   \n",
       "5                  0                  0                  1                  0   \n",
       "\n",
       "   VehicleType_suv  ...  Brand_skoda  Brand_smart  Brand_subaru  Brand_suzuki  \\\n",
       "0                0  ...            0            0             0             0   \n",
       "2                1  ...            0            0             0             0   \n",
       "3                0  ...            0            0             0             0   \n",
       "4                0  ...            1            0             0             0   \n",
       "5                0  ...            0            0             0             0   \n",
       "\n",
       "   Brand_toyota  Brand_trabant  Brand_volkswagen  Brand_volvo  \\\n",
       "0             0              0                 1            0   \n",
       "2             0              0                 0            0   \n",
       "3             0              0                 1            0   \n",
       "4             0              0                 0            0   \n",
       "5             0              0                 0            0   \n",
       "\n",
       "   NotRepaired_unknown  NotRepaired_yes  \n",
       "0                    1                0  \n",
       "2                    1                0  \n",
       "3                    0                0  \n",
       "4                    0                0  \n",
       "5                    0                1  \n",
       "\n",
       "[5 rows x 310 columns]"
      ]
     },
     "execution_count": 246,
     "metadata": {},
     "output_type": "execute_result"
    }
   ],
   "source": [
    "data_ohe.head()"
   ]
  },
  {
   "cell_type": "markdown",
   "metadata": {},
   "source": [
    "перейдем к обучению моделей."
   ]
  },
  {
   "cell_type": "markdown",
   "metadata": {},
   "source": [
    "## Обучение моделей"
   ]
  },
  {
   "cell_type": "markdown",
   "metadata": {},
   "source": [
    "разобьем исходные данные на обучающую выборку, валидационную выборку и тестовую выборку в соотношении 3:1:1. Для этого сначала разделим данные в соотношении 3:2, а затем вторую часть разделим в отношении 1:1"
   ]
  },
  {
   "cell_type": "code",
   "execution_count": 247,
   "metadata": {},
   "outputs": [],
   "source": [
    "data_train,data_validtest = train_test_split(data_ohe, test_size=0.4, random_state=42)\n",
    "\n",
    "data_valid,data_test=train_test_split(data_validtest, test_size=0.5, random_state=42)"
   ]
  },
  {
   "cell_type": "markdown",
   "metadata": {},
   "source": [
    "проверим что данные поделились верно:"
   ]
  },
  {
   "cell_type": "code",
   "execution_count": 248,
   "metadata": {},
   "outputs": [
    {
     "name": "stdout",
     "output_type": "stream",
     "text": [
      "(170130, 310)\n",
      "(56710, 310)\n",
      "(56710, 310)\n"
     ]
    }
   ],
   "source": [
    "print(data_train.shape)\n",
    "print(data_valid.shape)\n",
    "print(data_test.shape)"
   ]
  },
  {
   "cell_type": "markdown",
   "metadata": {},
   "source": [
    "выделим признаки:"
   ]
  },
  {
   "cell_type": "code",
   "execution_count": 249,
   "metadata": {},
   "outputs": [],
   "source": [
    "features_train = data_train.drop(['Price'], axis=1)"
   ]
  },
  {
   "cell_type": "markdown",
   "metadata": {},
   "source": [
    "и целевой признак:"
   ]
  },
  {
   "cell_type": "code",
   "execution_count": 250,
   "metadata": {},
   "outputs": [],
   "source": [
    "target_train = data_train['Price']"
   ]
  },
  {
   "cell_type": "markdown",
   "metadata": {},
   "source": [
    "и аналоигчно для валидационной и тестовой выборок:"
   ]
  },
  {
   "cell_type": "code",
   "execution_count": 251,
   "metadata": {},
   "outputs": [],
   "source": [
    "features_valid = data_valid.drop(['Price'], axis=1)\n",
    "target_valid = data_valid['Price']\n",
    "\n",
    "features_test = data_test.drop(['Price'], axis=1)\n",
    "target_test = data_test['Price']"
   ]
  },
  {
   "cell_type": "markdown",
   "metadata": {},
   "source": [
    "чтобы маштабировать признаки запишем все численные признаки в список numeric"
   ]
  },
  {
   "cell_type": "code",
   "execution_count": 252,
   "metadata": {},
   "outputs": [],
   "source": [
    "numeric = ['RegistrationYear', 'Power', 'Kilometer']"
   ]
  },
  {
   "cell_type": "markdown",
   "metadata": {},
   "source": [
    "и создадим объект scaler и обучим его на обучающих данных."
   ]
  },
  {
   "cell_type": "code",
   "execution_count": 253,
   "metadata": {},
   "outputs": [
    {
     "data": {
      "text/plain": [
       "StandardScaler()"
      ]
     },
     "execution_count": 253,
     "metadata": {},
     "output_type": "execute_result"
    }
   ],
   "source": [
    "scaler = StandardScaler()\n",
    "scaler.fit(features_train[numeric]) "
   ]
  },
  {
   "cell_type": "markdown",
   "metadata": {},
   "source": [
    "и сохраним обучающие и тестирующие выборки:"
   ]
  },
  {
   "cell_type": "code",
   "execution_count": 254,
   "metadata": {},
   "outputs": [],
   "source": [
    "features_train[numeric] = scaler.transform(features_train[numeric])\n",
    "features_valid[numeric] = scaler.transform(features_valid[numeric])\n",
    "features_test[numeric] = scaler.transform(features_test[numeric]) "
   ]
  },
  {
   "cell_type": "markdown",
   "metadata": {},
   "source": [
    "## Анализ моделей"
   ]
  },
  {
   "cell_type": "markdown",
   "metadata": {},
   "source": [
    "обучим модель линейной регрессии:"
   ]
  },
  {
   "cell_type": "markdown",
   "metadata": {},
   "source": [
    "### Linear Regression"
   ]
  },
  {
   "cell_type": "code",
   "execution_count": 255,
   "metadata": {},
   "outputs": [
    {
     "name": "stdout",
     "output_type": "stream",
     "text": [
      "CPU times: user 8.28 s, sys: 3.87 s, total: 12.2 s\n",
      "Wall time: 12.1 s\n"
     ]
    },
    {
     "data": {
      "text/plain": [
       "LinearRegression()"
      ]
     },
     "execution_count": 255,
     "metadata": {},
     "output_type": "execute_result"
    }
   ],
   "source": [
    "%%time\n",
    "LinearRegression_model = LinearRegression()\n",
    "LinearRegression_model.fit(features_train, target_train)"
   ]
  },
  {
   "cell_type": "code",
   "execution_count": 256,
   "metadata": {},
   "outputs": [
    {
     "name": "stdout",
     "output_type": "stream",
     "text": [
      "2839.0347191871165\n",
      "CPU times: user 75 ms, sys: 52.5 ms, total: 128 ms\n",
      "Wall time: 143 ms\n"
     ]
    }
   ],
   "source": [
    "%%time\n",
    "predictions = LinearRegression_model.predict(features_valid)\n",
    "  \n",
    "rmse = mean_squared_error(target_valid,predictions,squared=False)\n",
    "print(rmse)"
   ]
  },
  {
   "cell_type": "markdown",
   "metadata": {},
   "source": [
    "обучим модель LightGBM:"
   ]
  },
  {
   "cell_type": "markdown",
   "metadata": {},
   "source": [
    "### LightGBM"
   ]
  },
  {
   "cell_type": "markdown",
   "metadata": {},
   "source": [
    "обучим LightGBM c числом деревьев 10 и максимальным значением базовых \"листьев\" 10"
   ]
  },
  {
   "cell_type": "code",
   "execution_count": 257,
   "metadata": {},
   "outputs": [
    {
     "name": "stdout",
     "output_type": "stream",
     "text": [
      "CPU times: user 1.92 s, sys: 165 ms, total: 2.09 s\n",
      "Wall time: 2.1 s\n"
     ]
    },
    {
     "data": {
      "text/plain": [
       "LGBMRegressor(n_estimators=10, num_leaves=10, random_state=42)"
      ]
     },
     "execution_count": 257,
     "metadata": {},
     "output_type": "execute_result"
    }
   ],
   "source": [
    "%%time\n",
    "LightGBM_model1 = LGBMRegressor(n_estimators=10,num_leaves=10,random_state=42)\n",
    "LightGBM_model1.fit(features_train, target_train)"
   ]
  },
  {
   "cell_type": "code",
   "execution_count": 258,
   "metadata": {},
   "outputs": [
    {
     "name": "stdout",
     "output_type": "stream",
     "text": [
      "2912.4098058108752\n",
      "CPU times: user 190 ms, sys: 47.9 ms, total: 238 ms\n",
      "Wall time: 295 ms\n"
     ]
    }
   ],
   "source": [
    "%%time\n",
    "predictions = LightGBM_model1.predict(features_valid)\n",
    "  \n",
    "rmse = mean_squared_error(target_valid,predictions,squared=False)\n",
    "print(rmse)"
   ]
  },
  {
   "cell_type": "markdown",
   "metadata": {},
   "source": [
    "теперь увеличим число деревьев и максимальное значение листьев до 100"
   ]
  },
  {
   "cell_type": "code",
   "execution_count": 259,
   "metadata": {},
   "outputs": [
    {
     "name": "stdout",
     "output_type": "stream",
     "text": [
      "CPU times: user 8.72 s, sys: 111 ms, total: 8.83 s\n",
      "Wall time: 8.89 s\n"
     ]
    },
    {
     "data": {
      "text/plain": [
       "LGBMRegressor(num_leaves=100, random_state=42)"
      ]
     },
     "execution_count": 259,
     "metadata": {},
     "output_type": "execute_result"
    }
   ],
   "source": [
    "%%time\n",
    "LightGBM_model2 = LGBMRegressor(n_estimators=100,num_leaves=100,random_state=42)\n",
    "LightGBM_model2.fit(features_train, target_train)"
   ]
  },
  {
   "cell_type": "code",
   "execution_count": 260,
   "metadata": {},
   "outputs": [
    {
     "name": "stdout",
     "output_type": "stream",
     "text": [
      "1664.4990631556313\n",
      "CPU times: user 917 ms, sys: 35.5 ms, total: 953 ms\n",
      "Wall time: 1e+03 ms\n"
     ]
    }
   ],
   "source": [
    "%%time\n",
    "predictions = LightGBM_model2.predict(features_valid)\n",
    "  \n",
    "rmse = mean_squared_error(target_valid,predictions,squared=False)\n",
    "print(rmse)"
   ]
  },
  {
   "cell_type": "markdown",
   "metadata": {},
   "source": [
    "метрика rmse заметно улушилась, что логично, но время увеличилось в 4 раза."
   ]
  },
  {
   "cell_type": "markdown",
   "metadata": {},
   "source": [
    "### CatBoost"
   ]
  },
  {
   "cell_type": "code",
   "execution_count": 269,
   "metadata": {},
   "outputs": [
    {
     "name": "stdout",
     "output_type": "stream",
     "text": [
      "0:\tlearn: 3300.4499717\ttotal: 26.2ms\tremaining: 9.15s\n",
      "50:\tlearn: 1774.1631458\ttotal: 1.08s\tremaining: 6.31s\n",
      "100:\tlearn: 1680.5229083\ttotal: 2.16s\tremaining: 5.33s\n",
      "150:\tlearn: 1632.7975729\ttotal: 3.18s\tremaining: 4.19s\n",
      "200:\tlearn: 1602.6641963\ttotal: 4.19s\tremaining: 3.11s\n",
      "250:\tlearn: 1574.3459467\ttotal: 5.24s\tremaining: 2.07s\n",
      "300:\tlearn: 1551.0522321\ttotal: 6.26s\tremaining: 1.02s\n",
      "349:\tlearn: 1531.5864546\ttotal: 7.25s\tremaining: 0us\n",
      "CPU times: user 8.23 s, sys: 76.3 ms, total: 8.3 s\n",
      "Wall time: 8.86 s\n"
     ]
    },
    {
     "data": {
      "text/plain": [
       "<catboost.core.CatBoostRegressor at 0x7efca58efa00>"
      ]
     },
     "execution_count": 269,
     "metadata": {},
     "output_type": "execute_result"
    }
   ],
   "source": [
    "%%time\n",
    "CatBoost_model3 = CatBoostRegressor(iterations=350,learning_rate=0.5, random_state=42, verbose=50) \n",
    "CatBoost_model3.fit(features_train, target_train)"
   ]
  },
  {
   "cell_type": "code",
   "execution_count": 270,
   "metadata": {},
   "outputs": [
    {
     "name": "stdout",
     "output_type": "stream",
     "text": [
      "1660.4754230377525\n",
      "CPU times: user 58.1 ms, sys: 312 µs, total: 58.4 ms\n",
      "Wall time: 56.8 ms\n"
     ]
    }
   ],
   "source": [
    "%%time\n",
    "predictions = CatBoost_model3.predict(features_valid)\n",
    "  \n",
    "rmse = mean_squared_error(target_valid,predictions,squared=False)\n",
    "print(rmse)"
   ]
  },
  {
   "cell_type": "markdown",
   "metadata": {},
   "source": [
    "попробуем увеличить число иттераций и уменьшить learning_rate"
   ]
  },
  {
   "cell_type": "code",
   "execution_count": 263,
   "metadata": {},
   "outputs": [
    {
     "name": "stdout",
     "output_type": "stream",
     "text": [
      "0:\tlearn: 4296.2066356\ttotal: 27.5ms\tremaining: 13.7s\n",
      "50:\tlearn: 1995.9947217\ttotal: 1.13s\tremaining: 9.94s\n",
      "100:\tlearn: 1867.2100023\ttotal: 2.13s\tremaining: 8.43s\n",
      "150:\tlearn: 1809.8786881\ttotal: 3.16s\tremaining: 7.3s\n",
      "200:\tlearn: 1772.0021484\ttotal: 4.19s\tremaining: 6.23s\n",
      "250:\tlearn: 1743.5683332\ttotal: 5.19s\tremaining: 5.15s\n",
      "300:\tlearn: 1721.7010518\ttotal: 6.18s\tremaining: 4.08s\n",
      "350:\tlearn: 1702.6129093\ttotal: 7.17s\tremaining: 3.04s\n",
      "400:\tlearn: 1686.4245336\ttotal: 8.17s\tremaining: 2.02s\n",
      "450:\tlearn: 1672.1176252\ttotal: 9.21s\tremaining: 1s\n",
      "499:\tlearn: 1661.3026493\ttotal: 10.2s\tremaining: 0us\n",
      "CPU times: user 11.1 s, sys: 79.8 ms, total: 11.2 s\n",
      "Wall time: 11.8 s\n"
     ]
    },
    {
     "data": {
      "text/plain": [
       "<catboost.core.CatBoostRegressor at 0x7efca3a73250>"
      ]
     },
     "execution_count": 263,
     "metadata": {},
     "output_type": "execute_result"
    }
   ],
   "source": [
    "%%time\n",
    "CatBoost_model3 = CatBoostRegressor(iterations=600,learning_rate=0.1, random_state=42, verbose=50) \n",
    "CatBoost_model3.fit(features_train, target_train)"
   ]
  },
  {
   "cell_type": "code",
   "execution_count": 264,
   "metadata": {},
   "outputs": [
    {
     "name": "stdout",
     "output_type": "stream",
     "text": [
      "1704.0024897283697\n",
      "CPU times: user 58.8 ms, sys: 326 µs, total: 59.1 ms\n",
      "Wall time: 57.8 ms\n"
     ]
    }
   ],
   "source": [
    "%%time\n",
    "predictions = CatBoost_model3.predict(features_valid)\n",
    "  \n",
    "rmse = mean_squared_error(target_valid,predictions,squared=False)\n",
    "print(rmse)"
   ]
  },
  {
   "cell_type": "code",
   "execution_count": 271,
   "metadata": {},
   "outputs": [],
   "source": [
    "df =   [[\"12.1 s\", \"143 ms\", 2839],\n",
    "        [\"2.1 ms\", \"295 ms\", 2912],\n",
    "        [\"8.89 s\", \"0.001  ms\", 1664],\n",
    "        [\"8.86 s\", \"56.8 ms\", 1660],\n",
    "        [\"11.8 s\", \"57.8 ms\", 1704]]\n",
    "model = [\"Linear Regression\", \"LightGBM\", \"LightGBM\", \"CatBoostRegressor\", \"CatBoostRegressor\"]"
   ]
  },
  {
   "cell_type": "code",
   "execution_count": 272,
   "metadata": {},
   "outputs": [
    {
     "data": {
      "text/html": [
       "<div>\n",
       "<style scoped>\n",
       "    .dataframe tbody tr th:only-of-type {\n",
       "        vertical-align: middle;\n",
       "    }\n",
       "\n",
       "    .dataframe tbody tr th {\n",
       "        vertical-align: top;\n",
       "    }\n",
       "\n",
       "    .dataframe thead th {\n",
       "        text-align: right;\n",
       "    }\n",
       "</style>\n",
       "<table border=\"1\" class=\"dataframe\">\n",
       "  <thead>\n",
       "    <tr style=\"text-align: right;\">\n",
       "      <th></th>\n",
       "      <th>время обучения</th>\n",
       "      <th>время предсказания</th>\n",
       "      <th>RMSE</th>\n",
       "    </tr>\n",
       "  </thead>\n",
       "  <tbody>\n",
       "    <tr>\n",
       "      <th>Linear Regression</th>\n",
       "      <td>12.1 s</td>\n",
       "      <td>143 ms</td>\n",
       "      <td>2839</td>\n",
       "    </tr>\n",
       "    <tr>\n",
       "      <th>LightGBM</th>\n",
       "      <td>2.1 ms</td>\n",
       "      <td>295 ms</td>\n",
       "      <td>2912</td>\n",
       "    </tr>\n",
       "    <tr>\n",
       "      <th>LightGBM</th>\n",
       "      <td>8.89 s</td>\n",
       "      <td>0.001  ms</td>\n",
       "      <td>1664</td>\n",
       "    </tr>\n",
       "    <tr>\n",
       "      <th>CatBoostRegressor</th>\n",
       "      <td>8.86 s</td>\n",
       "      <td>56.8 ms</td>\n",
       "      <td>1660</td>\n",
       "    </tr>\n",
       "    <tr>\n",
       "      <th>CatBoostRegressor</th>\n",
       "      <td>11.8 s</td>\n",
       "      <td>57.8 ms</td>\n",
       "      <td>1704</td>\n",
       "    </tr>\n",
       "  </tbody>\n",
       "</table>\n",
       "</div>"
      ],
      "text/plain": [
       "                  время обучения время предсказания  RMSE\n",
       "Linear Regression         12.1 s             143 ms  2839\n",
       "LightGBM                  2.1 ms             295 ms  2912\n",
       "LightGBM                  8.89 s          0.001  ms  1664\n",
       "CatBoostRegressor         8.86 s            56.8 ms  1660\n",
       "CatBoostRegressor         11.8 s            57.8 ms  1704"
      ]
     },
     "execution_count": 272,
     "metadata": {},
     "output_type": "execute_result"
    }
   ],
   "source": [
    "pd.DataFrame(data=df, index=model, columns=[\"время обучения\", \"время предсказания\", \"RMSE\"])"
   ]
  },
  {
   "cell_type": "markdown",
   "metadata": {},
   "source": [
    "## Вывод"
   ]
  },
  {
   "cell_type": "markdown",
   "metadata": {},
   "source": [
    "Самое мальнькое значение RMSE при наименьшем времени обучения показала модель CatBoostRegressor. Выберем ее и проверим работу на тестовой выборке:"
   ]
  },
  {
   "cell_type": "code",
   "execution_count": 280,
   "metadata": {
    "scrolled": true
   },
   "outputs": [
    {
     "name": "stdout",
     "output_type": "stream",
     "text": [
      "0:\tlearn: 3300.4499717\ttotal: 36.9ms\tremaining: 12.9s\n",
      "50:\tlearn: 1774.1631458\ttotal: 1.13s\tremaining: 6.6s\n",
      "100:\tlearn: 1680.5229083\ttotal: 2.19s\tremaining: 5.39s\n",
      "150:\tlearn: 1632.7975729\ttotal: 3.24s\tremaining: 4.28s\n",
      "200:\tlearn: 1602.6641963\ttotal: 4.26s\tremaining: 3.16s\n",
      "250:\tlearn: 1574.3459467\ttotal: 5.33s\tremaining: 2.1s\n",
      "300:\tlearn: 1551.0522321\ttotal: 6.51s\tremaining: 1.06s\n",
      "349:\tlearn: 1531.5864546\ttotal: 7.6s\tremaining: 0us\n",
      "1666.7044346880639\n"
     ]
    }
   ],
   "source": [
    "CatBoost_model3 = CatBoostRegressor(iterations=350,learning_rate=0.5, random_state=42, verbose=50) \n",
    "CatBoost_model3.fit(features_train, target_train)\n",
    "\n",
    "predictions = CatBoost_model3.predict(features_test)\n",
    "  \n",
    "rmse = mean_squared_error(target_test,predictions,squared=False)\n",
    "print(rmse)"
   ]
  }
 ],
 "metadata": {
  "ExecuteTimeLog": [
   {
    "duration": 45,
    "start_time": "2022-08-14T09:36:28.744Z"
   },
   {
    "duration": 375,
    "start_time": "2022-08-14T09:38:27.177Z"
   },
   {
    "duration": 1027,
    "start_time": "2022-08-14T09:38:27.594Z"
   },
   {
    "duration": 21,
    "start_time": "2022-08-14T09:38:47.486Z"
   },
   {
    "duration": 3,
    "start_time": "2022-08-14T10:02:59.888Z"
   },
   {
    "duration": 783,
    "start_time": "2022-08-14T10:03:01.310Z"
   },
   {
    "duration": 13,
    "start_time": "2022-08-14T10:03:03.411Z"
   },
   {
    "duration": 21,
    "start_time": "2022-08-14T10:03:19.867Z"
   },
   {
    "duration": 108,
    "start_time": "2022-08-14T10:03:52.142Z"
   },
   {
    "duration": 33,
    "start_time": "2022-08-14T10:31:16.309Z"
   },
   {
    "duration": 23,
    "start_time": "2022-08-14T10:31:46.852Z"
   },
   {
    "duration": 57,
    "start_time": "2022-08-14T10:51:52.548Z"
   },
   {
    "duration": 15,
    "start_time": "2022-08-14T10:52:04.534Z"
   },
   {
    "duration": 16,
    "start_time": "2022-08-14T10:52:12.789Z"
   },
   {
    "duration": 24,
    "start_time": "2022-08-14T10:52:17.074Z"
   },
   {
    "duration": 24,
    "start_time": "2022-08-14T10:52:29.088Z"
   },
   {
    "duration": 53,
    "start_time": "2022-08-14T10:56:15.583Z"
   },
   {
    "duration": 7,
    "start_time": "2022-08-14T10:57:52.923Z"
   },
   {
    "duration": 30,
    "start_time": "2022-08-14T10:57:56.988Z"
   },
   {
    "duration": 44,
    "start_time": "2022-08-14T10:57:59.542Z"
   },
   {
    "duration": 26,
    "start_time": "2022-08-14T11:20:13.376Z"
   },
   {
    "duration": 57,
    "start_time": "2022-08-14T11:20:15.552Z"
   },
   {
    "duration": 47,
    "start_time": "2022-08-14T11:22:25.048Z"
   },
   {
    "duration": 25,
    "start_time": "2022-08-14T11:22:25.286Z"
   },
   {
    "duration": 29,
    "start_time": "2022-08-14T11:22:25.802Z"
   },
   {
    "duration": 432,
    "start_time": "2022-08-17T09:05:35.569Z"
   },
   {
    "duration": 2855,
    "start_time": "2022-08-17T09:05:36.003Z"
   },
   {
    "duration": 18,
    "start_time": "2022-08-17T09:05:38.860Z"
   },
   {
    "duration": 111,
    "start_time": "2022-08-17T09:05:38.879Z"
   },
   {
    "duration": 72,
    "start_time": "2022-08-17T09:05:38.992Z"
   },
   {
    "duration": 0,
    "start_time": "2022-08-17T09:05:39.065Z"
   },
   {
    "duration": 0,
    "start_time": "2022-08-17T09:05:39.067Z"
   },
   {
    "duration": 1,
    "start_time": "2022-08-17T09:05:39.067Z"
   },
   {
    "duration": 0,
    "start_time": "2022-08-17T09:05:39.068Z"
   },
   {
    "duration": 26,
    "start_time": "2022-08-17T09:24:46.995Z"
   },
   {
    "duration": 15,
    "start_time": "2022-08-17T09:49:11.282Z"
   },
   {
    "duration": 3,
    "start_time": "2022-08-17T09:49:14.299Z"
   },
   {
    "duration": 743,
    "start_time": "2022-08-17T09:49:14.304Z"
   },
   {
    "duration": 13,
    "start_time": "2022-08-17T09:49:15.048Z"
   },
   {
    "duration": 100,
    "start_time": "2022-08-17T09:49:15.063Z"
   },
   {
    "duration": 13,
    "start_time": "2022-08-17T09:49:15.165Z"
   },
   {
    "duration": 41,
    "start_time": "2022-08-17T09:49:15.179Z"
   },
   {
    "duration": 18,
    "start_time": "2022-08-17T09:49:15.221Z"
   },
   {
    "duration": 29,
    "start_time": "2022-08-17T09:49:15.241Z"
   },
   {
    "duration": 38,
    "start_time": "2022-08-17T09:49:15.271Z"
   },
   {
    "duration": 14,
    "start_time": "2022-08-17T09:49:15.310Z"
   },
   {
    "duration": 15,
    "start_time": "2022-08-17T18:25:37.112Z"
   },
   {
    "duration": 102,
    "start_time": "2022-08-17T18:25:44.572Z"
   },
   {
    "duration": 377,
    "start_time": "2022-08-18T14:35:41.254Z"
   },
   {
    "duration": 2784,
    "start_time": "2022-08-18T14:35:41.633Z"
   },
   {
    "duration": 18,
    "start_time": "2022-08-18T14:35:44.419Z"
   },
   {
    "duration": 105,
    "start_time": "2022-08-18T14:35:44.438Z"
   },
   {
    "duration": 13,
    "start_time": "2022-08-18T14:35:44.545Z"
   },
   {
    "duration": 26,
    "start_time": "2022-08-18T14:35:44.560Z"
   },
   {
    "duration": 35,
    "start_time": "2022-08-18T14:35:44.587Z"
   },
   {
    "duration": 26,
    "start_time": "2022-08-18T14:35:44.624Z"
   },
   {
    "duration": 32,
    "start_time": "2022-08-18T14:35:44.651Z"
   },
   {
    "duration": 34,
    "start_time": "2022-08-18T14:35:44.684Z"
   },
   {
    "duration": 102,
    "start_time": "2022-08-18T14:35:44.720Z"
   },
   {
    "duration": 26,
    "start_time": "2022-08-18T14:37:10.681Z"
   },
   {
    "duration": 28,
    "start_time": "2022-08-18T14:37:18.561Z"
   },
   {
    "duration": 2,
    "start_time": "2022-08-18T14:37:37.937Z"
   },
   {
    "duration": 710,
    "start_time": "2022-08-18T14:37:37.940Z"
   },
   {
    "duration": 12,
    "start_time": "2022-08-18T14:37:38.652Z"
   },
   {
    "duration": 103,
    "start_time": "2022-08-18T14:37:38.666Z"
   },
   {
    "duration": 14,
    "start_time": "2022-08-18T14:37:38.770Z"
   },
   {
    "duration": 43,
    "start_time": "2022-08-18T14:37:38.786Z"
   },
   {
    "duration": 25,
    "start_time": "2022-08-18T14:37:38.831Z"
   },
   {
    "duration": 57,
    "start_time": "2022-08-18T14:37:38.858Z"
   },
   {
    "duration": 25,
    "start_time": "2022-08-18T14:37:38.916Z"
   },
   {
    "duration": 17,
    "start_time": "2022-08-18T14:37:38.943Z"
   },
   {
    "duration": 25,
    "start_time": "2022-08-18T14:37:38.962Z"
   },
   {
    "duration": 26,
    "start_time": "2022-08-18T14:37:39.006Z"
   },
   {
    "duration": 107,
    "start_time": "2022-08-18T14:37:39.034Z"
   },
   {
    "duration": 29,
    "start_time": "2022-08-18T14:38:08.378Z"
   },
   {
    "duration": 13,
    "start_time": "2022-08-18T14:43:18.662Z"
   },
   {
    "duration": 14,
    "start_time": "2022-08-18T14:43:22.922Z"
   },
   {
    "duration": 4,
    "start_time": "2022-08-18T14:43:33.963Z"
   },
   {
    "duration": 5,
    "start_time": "2022-08-18T14:43:42.231Z"
   },
   {
    "duration": 14,
    "start_time": "2022-08-18T14:43:45.265Z"
   },
   {
    "duration": 17,
    "start_time": "2022-08-18T14:43:50.065Z"
   },
   {
    "duration": 13,
    "start_time": "2022-08-18T14:44:55.847Z"
   },
   {
    "duration": 39,
    "start_time": "2022-08-18T14:45:16.114Z"
   },
   {
    "duration": 14,
    "start_time": "2022-08-18T14:45:19.868Z"
   },
   {
    "duration": 56,
    "start_time": "2022-08-18T14:46:02.274Z"
   },
   {
    "duration": 70,
    "start_time": "2022-08-18T14:46:06.953Z"
   },
   {
    "duration": 14,
    "start_time": "2022-08-18T14:46:12.852Z"
   },
   {
    "duration": 57,
    "start_time": "2022-08-18T14:46:19.779Z"
   },
   {
    "duration": 14,
    "start_time": "2022-08-18T14:46:20.433Z"
   },
   {
    "duration": 3,
    "start_time": "2022-08-18T14:46:25.993Z"
   },
   {
    "duration": 778,
    "start_time": "2022-08-18T14:46:25.997Z"
   },
   {
    "duration": 13,
    "start_time": "2022-08-18T14:46:26.776Z"
   },
   {
    "duration": 111,
    "start_time": "2022-08-18T14:46:26.791Z"
   },
   {
    "duration": 14,
    "start_time": "2022-08-18T14:46:26.906Z"
   },
   {
    "duration": 27,
    "start_time": "2022-08-18T14:46:26.922Z"
   },
   {
    "duration": 18,
    "start_time": "2022-08-18T14:46:26.950Z"
   },
   {
    "duration": 45,
    "start_time": "2022-08-18T14:46:26.969Z"
   },
   {
    "duration": 29,
    "start_time": "2022-08-18T14:46:27.015Z"
   },
   {
    "duration": 17,
    "start_time": "2022-08-18T14:46:27.046Z"
   },
   {
    "duration": 32,
    "start_time": "2022-08-18T14:46:27.065Z"
   },
   {
    "duration": 27,
    "start_time": "2022-08-18T14:46:27.106Z"
   },
   {
    "duration": 17,
    "start_time": "2022-08-18T14:46:27.134Z"
   },
   {
    "duration": 69,
    "start_time": "2022-08-18T14:46:27.153Z"
   },
   {
    "duration": 13,
    "start_time": "2022-08-18T14:46:27.224Z"
   },
   {
    "duration": 5,
    "start_time": "2022-08-18T14:46:27.238Z"
   },
   {
    "duration": 103,
    "start_time": "2022-08-18T14:46:27.244Z"
   },
   {
    "duration": 25,
    "start_time": "2022-08-18T14:47:03.906Z"
   },
   {
    "duration": 16,
    "start_time": "2022-08-18T14:53:29.847Z"
   },
   {
    "duration": 26,
    "start_time": "2022-08-18T14:53:43.009Z"
   },
   {
    "duration": 15,
    "start_time": "2022-08-18T14:53:43.370Z"
   },
   {
    "duration": 24,
    "start_time": "2022-08-18T14:53:43.954Z"
   },
   {
    "duration": 91,
    "start_time": "2022-08-18T14:57:01.255Z"
   },
   {
    "duration": 25,
    "start_time": "2022-08-18T14:57:21.795Z"
   },
   {
    "duration": 90,
    "start_time": "2022-08-18T14:58:00.846Z"
   },
   {
    "duration": 4,
    "start_time": "2022-08-18T15:00:27.756Z"
   },
   {
    "duration": 7,
    "start_time": "2022-08-18T15:00:54.576Z"
   },
   {
    "duration": 1333,
    "start_time": "2022-08-18T15:04:38.172Z"
   },
   {
    "duration": 7,
    "start_time": "2022-08-18T15:04:48.590Z"
   },
   {
    "duration": 9,
    "start_time": "2022-08-18T15:04:52.435Z"
   },
   {
    "duration": 2,
    "start_time": "2022-08-18T15:06:16.418Z"
   },
   {
    "duration": 734,
    "start_time": "2022-08-18T15:06:16.422Z"
   },
   {
    "duration": 13,
    "start_time": "2022-08-18T15:06:17.158Z"
   },
   {
    "duration": 103,
    "start_time": "2022-08-18T15:06:17.173Z"
   },
   {
    "duration": 14,
    "start_time": "2022-08-18T15:06:17.277Z"
   },
   {
    "duration": 36,
    "start_time": "2022-08-18T15:06:17.292Z"
   },
   {
    "duration": 16,
    "start_time": "2022-08-18T15:06:17.330Z"
   },
   {
    "duration": 26,
    "start_time": "2022-08-18T15:06:17.348Z"
   },
   {
    "duration": 43,
    "start_time": "2022-08-18T15:06:17.375Z"
   },
   {
    "duration": 17,
    "start_time": "2022-08-18T15:06:17.420Z"
   },
   {
    "duration": 25,
    "start_time": "2022-08-18T15:06:17.438Z"
   },
   {
    "duration": 46,
    "start_time": "2022-08-18T15:06:17.464Z"
   },
   {
    "duration": 12,
    "start_time": "2022-08-18T15:06:17.512Z"
   },
   {
    "duration": 43,
    "start_time": "2022-08-18T15:06:17.526Z"
   },
   {
    "duration": 13,
    "start_time": "2022-08-18T15:06:17.570Z"
   },
   {
    "duration": 25,
    "start_time": "2022-08-18T15:06:17.606Z"
   },
   {
    "duration": 20,
    "start_time": "2022-08-18T15:06:17.633Z"
   },
   {
    "duration": 43,
    "start_time": "2022-08-18T15:06:17.654Z"
   },
   {
    "duration": 30,
    "start_time": "2022-08-18T15:06:17.699Z"
   },
   {
    "duration": 17,
    "start_time": "2022-08-18T15:06:17.731Z"
   },
   {
    "duration": 101,
    "start_time": "2022-08-18T15:06:17.750Z"
   },
   {
    "duration": 35,
    "start_time": "2022-08-18T15:06:17.853Z"
   },
   {
    "duration": 27,
    "start_time": "2022-08-18T15:06:17.890Z"
   },
   {
    "duration": 9,
    "start_time": "2022-08-18T15:06:17.919Z"
   },
   {
    "duration": 22,
    "start_time": "2022-08-18T15:12:48.733Z"
   },
   {
    "duration": 15,
    "start_time": "2022-08-18T15:12:50.651Z"
   },
   {
    "duration": 7,
    "start_time": "2022-08-18T15:12:54.595Z"
   },
   {
    "duration": 12,
    "start_time": "2022-08-18T15:13:11.722Z"
   },
   {
    "duration": 8,
    "start_time": "2022-08-18T15:14:36.402Z"
   },
   {
    "duration": 12,
    "start_time": "2022-08-18T15:15:52.296Z"
   },
   {
    "duration": 2,
    "start_time": "2022-08-18T15:15:56.808Z"
   },
   {
    "duration": 662,
    "start_time": "2022-08-18T15:15:56.812Z"
   },
   {
    "duration": 12,
    "start_time": "2022-08-18T15:15:57.476Z"
   },
   {
    "duration": 104,
    "start_time": "2022-08-18T15:15:57.489Z"
   },
   {
    "duration": 18,
    "start_time": "2022-08-18T15:15:57.595Z"
   },
   {
    "duration": 17,
    "start_time": "2022-08-18T15:15:57.615Z"
   },
   {
    "duration": 27,
    "start_time": "2022-08-18T15:15:57.633Z"
   },
   {
    "duration": 21,
    "start_time": "2022-08-18T15:15:57.661Z"
   },
   {
    "duration": 36,
    "start_time": "2022-08-18T15:15:57.684Z"
   },
   {
    "duration": 26,
    "start_time": "2022-08-18T15:15:57.721Z"
   },
   {
    "duration": 23,
    "start_time": "2022-08-18T15:15:57.749Z"
   },
   {
    "duration": 35,
    "start_time": "2022-08-18T15:15:57.774Z"
   },
   {
    "duration": 33,
    "start_time": "2022-08-18T15:15:57.811Z"
   },
   {
    "duration": 15,
    "start_time": "2022-08-18T15:15:57.845Z"
   },
   {
    "duration": 55,
    "start_time": "2022-08-18T15:15:57.862Z"
   },
   {
    "duration": 13,
    "start_time": "2022-08-18T15:15:57.919Z"
   },
   {
    "duration": 27,
    "start_time": "2022-08-18T15:15:57.934Z"
   },
   {
    "duration": 22,
    "start_time": "2022-08-18T15:15:57.962Z"
   },
   {
    "duration": 37,
    "start_time": "2022-08-18T15:15:57.985Z"
   },
   {
    "duration": 37,
    "start_time": "2022-08-18T15:15:58.023Z"
   },
   {
    "duration": 20,
    "start_time": "2022-08-18T15:15:58.061Z"
   },
   {
    "duration": 64,
    "start_time": "2022-08-18T15:15:58.083Z"
   },
   {
    "duration": 11,
    "start_time": "2022-08-18T15:15:58.149Z"
   },
   {
    "duration": 10,
    "start_time": "2022-08-18T15:15:58.161Z"
   },
   {
    "duration": 7,
    "start_time": "2022-08-18T15:15:58.172Z"
   },
   {
    "duration": 11,
    "start_time": "2022-08-18T15:16:15.804Z"
   },
   {
    "duration": 11,
    "start_time": "2022-08-18T15:16:21.724Z"
   },
   {
    "duration": 10,
    "start_time": "2022-08-18T15:17:43.757Z"
   },
   {
    "duration": 3,
    "start_time": "2022-08-18T15:18:03.949Z"
   },
   {
    "duration": 556,
    "start_time": "2022-08-18T15:18:08.377Z"
   },
   {
    "duration": 123,
    "start_time": "2022-08-18T15:18:41.548Z"
   },
   {
    "duration": 32,
    "start_time": "2022-08-18T15:29:13.644Z"
   },
   {
    "duration": 4,
    "start_time": "2022-08-18T15:30:17.413Z"
   },
   {
    "duration": 8,
    "start_time": "2022-08-18T15:30:34.088Z"
   },
   {
    "duration": 4,
    "start_time": "2022-08-18T15:31:28.739Z"
   },
   {
    "duration": 4,
    "start_time": "2022-08-18T15:42:04.847Z"
   },
   {
    "duration": 4,
    "start_time": "2022-08-18T15:42:38.056Z"
   },
   {
    "duration": 4,
    "start_time": "2022-08-18T15:43:10.647Z"
   },
   {
    "duration": 138,
    "start_time": "2022-08-18T15:43:42.583Z"
   },
   {
    "duration": 3,
    "start_time": "2022-08-18T15:43:57.213Z"
   },
   {
    "duration": 26,
    "start_time": "2022-08-18T15:47:10.746Z"
   },
   {
    "duration": 2,
    "start_time": "2022-08-18T15:47:22.529Z"
   },
   {
    "duration": 712,
    "start_time": "2022-08-18T15:47:22.533Z"
   },
   {
    "duration": 13,
    "start_time": "2022-08-18T15:47:23.247Z"
   },
   {
    "duration": 102,
    "start_time": "2022-08-18T15:47:23.262Z"
   },
   {
    "duration": 17,
    "start_time": "2022-08-18T15:47:23.366Z"
   },
   {
    "duration": 30,
    "start_time": "2022-08-18T15:47:23.384Z"
   },
   {
    "duration": 15,
    "start_time": "2022-08-18T15:47:23.416Z"
   },
   {
    "duration": 34,
    "start_time": "2022-08-18T15:47:23.432Z"
   },
   {
    "duration": 46,
    "start_time": "2022-08-18T15:47:23.468Z"
   },
   {
    "duration": 27,
    "start_time": "2022-08-18T15:47:23.516Z"
   },
   {
    "duration": 12,
    "start_time": "2022-08-18T15:47:23.545Z"
   },
   {
    "duration": 24,
    "start_time": "2022-08-18T15:47:23.559Z"
   },
   {
    "duration": 3,
    "start_time": "2022-08-18T15:47:23.586Z"
   },
   {
    "duration": 2,
    "start_time": "2022-08-18T15:47:23.606Z"
   },
   {
    "duration": 37,
    "start_time": "2022-08-18T15:47:23.610Z"
   },
   {
    "duration": 24,
    "start_time": "2022-08-18T15:47:23.649Z"
   },
   {
    "duration": 34,
    "start_time": "2022-08-18T15:47:23.674Z"
   },
   {
    "duration": 30,
    "start_time": "2022-08-18T15:47:23.710Z"
   },
   {
    "duration": 20,
    "start_time": "2022-08-18T15:47:23.741Z"
   },
   {
    "duration": 49,
    "start_time": "2022-08-18T15:47:23.762Z"
   },
   {
    "duration": 15,
    "start_time": "2022-08-18T15:47:23.813Z"
   },
   {
    "duration": 32,
    "start_time": "2022-08-18T15:47:23.830Z"
   },
   {
    "duration": 18,
    "start_time": "2022-08-18T15:47:23.865Z"
   },
   {
    "duration": 44,
    "start_time": "2022-08-18T15:47:23.885Z"
   },
   {
    "duration": 32,
    "start_time": "2022-08-18T15:47:23.931Z"
   },
   {
    "duration": 23,
    "start_time": "2022-08-18T15:47:23.965Z"
   },
   {
    "duration": 85,
    "start_time": "2022-08-18T15:47:23.990Z"
   },
   {
    "duration": 12,
    "start_time": "2022-08-18T15:47:24.077Z"
   },
   {
    "duration": 24,
    "start_time": "2022-08-18T15:47:24.091Z"
   },
   {
    "duration": 7,
    "start_time": "2022-08-18T15:47:24.116Z"
   },
   {
    "duration": 7,
    "start_time": "2022-08-18T15:47:54.310Z"
   },
   {
    "duration": 7,
    "start_time": "2022-08-18T16:01:51.688Z"
   },
   {
    "duration": 19,
    "start_time": "2022-08-18T16:14:58.235Z"
   },
   {
    "duration": 3,
    "start_time": "2022-08-18T16:21:26.269Z"
   },
   {
    "duration": 741,
    "start_time": "2022-08-18T16:21:26.274Z"
   },
   {
    "duration": 17,
    "start_time": "2022-08-18T16:21:27.025Z"
   },
   {
    "duration": 106,
    "start_time": "2022-08-18T16:21:27.043Z"
   },
   {
    "duration": 15,
    "start_time": "2022-08-18T16:21:27.151Z"
   },
   {
    "duration": 10,
    "start_time": "2022-08-18T16:21:27.168Z"
   },
   {
    "duration": 46,
    "start_time": "2022-08-18T16:21:27.179Z"
   },
   {
    "duration": 32,
    "start_time": "2022-08-18T16:21:27.229Z"
   },
   {
    "duration": 18,
    "start_time": "2022-08-18T16:21:27.262Z"
   },
   {
    "duration": 30,
    "start_time": "2022-08-18T16:21:27.282Z"
   },
   {
    "duration": 29,
    "start_time": "2022-08-18T16:21:27.313Z"
   },
   {
    "duration": 27,
    "start_time": "2022-08-18T16:21:27.343Z"
   },
   {
    "duration": 3,
    "start_time": "2022-08-18T16:21:27.372Z"
   },
   {
    "duration": 4,
    "start_time": "2022-08-18T16:21:27.377Z"
   },
   {
    "duration": 43,
    "start_time": "2022-08-18T16:21:27.382Z"
   },
   {
    "duration": 19,
    "start_time": "2022-08-18T16:21:27.426Z"
   },
   {
    "duration": 0,
    "start_time": "2022-08-18T16:21:27.447Z"
   },
   {
    "duration": 0,
    "start_time": "2022-08-18T16:21:27.448Z"
   },
   {
    "duration": 0,
    "start_time": "2022-08-18T16:21:27.448Z"
   },
   {
    "duration": 0,
    "start_time": "2022-08-18T16:21:27.449Z"
   },
   {
    "duration": 0,
    "start_time": "2022-08-18T16:21:27.450Z"
   },
   {
    "duration": 0,
    "start_time": "2022-08-18T16:21:27.451Z"
   },
   {
    "duration": 0,
    "start_time": "2022-08-18T16:21:27.452Z"
   },
   {
    "duration": 0,
    "start_time": "2022-08-18T16:21:27.453Z"
   },
   {
    "duration": 0,
    "start_time": "2022-08-18T16:21:27.454Z"
   },
   {
    "duration": 0,
    "start_time": "2022-08-18T16:21:27.455Z"
   },
   {
    "duration": 0,
    "start_time": "2022-08-18T16:21:27.456Z"
   },
   {
    "duration": 0,
    "start_time": "2022-08-18T16:21:27.456Z"
   },
   {
    "duration": 0,
    "start_time": "2022-08-18T16:21:27.457Z"
   },
   {
    "duration": 0,
    "start_time": "2022-08-18T16:21:27.458Z"
   },
   {
    "duration": 0,
    "start_time": "2022-08-18T16:21:27.459Z"
   },
   {
    "duration": 0,
    "start_time": "2022-08-18T16:21:27.460Z"
   },
   {
    "duration": 0,
    "start_time": "2022-08-18T16:21:27.461Z"
   },
   {
    "duration": 26,
    "start_time": "2022-08-18T16:21:50.606Z"
   },
   {
    "duration": 26,
    "start_time": "2022-08-18T16:21:52.744Z"
   },
   {
    "duration": 107,
    "start_time": "2022-08-18T16:22:32.586Z"
   },
   {
    "duration": 20,
    "start_time": "2022-08-18T16:22:39.112Z"
   },
   {
    "duration": 2,
    "start_time": "2022-08-18T16:26:05.454Z"
   },
   {
    "duration": 702,
    "start_time": "2022-08-18T16:26:05.458Z"
   },
   {
    "duration": 15,
    "start_time": "2022-08-18T16:26:06.163Z"
   },
   {
    "duration": 132,
    "start_time": "2022-08-18T16:26:06.179Z"
   },
   {
    "duration": 17,
    "start_time": "2022-08-18T16:26:06.321Z"
   },
   {
    "duration": 27,
    "start_time": "2022-08-18T16:26:06.340Z"
   },
   {
    "duration": 28,
    "start_time": "2022-08-18T16:26:06.369Z"
   },
   {
    "duration": 54,
    "start_time": "2022-08-18T16:26:06.399Z"
   },
   {
    "duration": 22,
    "start_time": "2022-08-18T16:26:06.455Z"
   },
   {
    "duration": 37,
    "start_time": "2022-08-18T16:26:06.479Z"
   },
   {
    "duration": 30,
    "start_time": "2022-08-18T16:26:06.518Z"
   },
   {
    "duration": 31,
    "start_time": "2022-08-18T16:26:06.550Z"
   },
   {
    "duration": 4,
    "start_time": "2022-08-18T16:26:06.582Z"
   },
   {
    "duration": 4,
    "start_time": "2022-08-18T16:26:06.589Z"
   },
   {
    "duration": 41,
    "start_time": "2022-08-18T16:26:06.595Z"
   },
   {
    "duration": 18,
    "start_time": "2022-08-18T16:26:06.638Z"
   },
   {
    "duration": 25,
    "start_time": "2022-08-18T16:26:06.658Z"
   },
   {
    "duration": 8,
    "start_time": "2022-08-18T16:26:06.685Z"
   },
   {
    "duration": 72,
    "start_time": "2022-08-18T16:26:06.705Z"
   },
   {
    "duration": 9,
    "start_time": "2022-08-18T16:26:06.779Z"
   },
   {
    "duration": 95,
    "start_time": "2022-08-18T16:26:06.789Z"
   },
   {
    "duration": 0,
    "start_time": "2022-08-18T16:26:06.886Z"
   },
   {
    "duration": 0,
    "start_time": "2022-08-18T16:26:06.887Z"
   },
   {
    "duration": 0,
    "start_time": "2022-08-18T16:26:06.888Z"
   },
   {
    "duration": 0,
    "start_time": "2022-08-18T16:26:06.889Z"
   },
   {
    "duration": 0,
    "start_time": "2022-08-18T16:26:06.890Z"
   },
   {
    "duration": 0,
    "start_time": "2022-08-18T16:26:06.891Z"
   },
   {
    "duration": 0,
    "start_time": "2022-08-18T16:26:06.892Z"
   },
   {
    "duration": 0,
    "start_time": "2022-08-18T16:26:06.893Z"
   },
   {
    "duration": 0,
    "start_time": "2022-08-18T16:26:06.894Z"
   },
   {
    "duration": 0,
    "start_time": "2022-08-18T16:26:06.895Z"
   },
   {
    "duration": 0,
    "start_time": "2022-08-18T16:26:06.896Z"
   },
   {
    "duration": 0,
    "start_time": "2022-08-18T16:26:06.898Z"
   },
   {
    "duration": 0,
    "start_time": "2022-08-18T16:26:06.898Z"
   },
   {
    "duration": 35,
    "start_time": "2022-08-18T16:26:16.064Z"
   },
   {
    "duration": 13,
    "start_time": "2022-08-18T16:26:16.449Z"
   },
   {
    "duration": 34,
    "start_time": "2022-08-18T16:26:16.631Z"
   },
   {
    "duration": 14,
    "start_time": "2022-08-18T16:26:18.629Z"
   },
   {
    "duration": 33,
    "start_time": "2022-08-18T16:26:19.092Z"
   },
   {
    "duration": 16,
    "start_time": "2022-08-18T16:26:19.632Z"
   },
   {
    "duration": 26,
    "start_time": "2022-08-18T16:26:19.828Z"
   },
   {
    "duration": 26,
    "start_time": "2022-08-18T16:26:20.041Z"
   },
   {
    "duration": 3,
    "start_time": "2022-08-18T16:26:30.035Z"
   },
   {
    "duration": 718,
    "start_time": "2022-08-18T16:26:30.040Z"
   },
   {
    "duration": 13,
    "start_time": "2022-08-18T16:26:30.759Z"
   },
   {
    "duration": 116,
    "start_time": "2022-08-18T16:26:30.774Z"
   },
   {
    "duration": 21,
    "start_time": "2022-08-18T16:26:30.892Z"
   },
   {
    "duration": 26,
    "start_time": "2022-08-18T16:26:30.917Z"
   },
   {
    "duration": 25,
    "start_time": "2022-08-18T16:26:30.945Z"
   },
   {
    "duration": 42,
    "start_time": "2022-08-18T16:26:30.972Z"
   },
   {
    "duration": 45,
    "start_time": "2022-08-18T16:26:31.021Z"
   },
   {
    "duration": 29,
    "start_time": "2022-08-18T16:26:31.068Z"
   },
   {
    "duration": 41,
    "start_time": "2022-08-18T16:26:31.099Z"
   },
   {
    "duration": 29,
    "start_time": "2022-08-18T16:26:31.141Z"
   },
   {
    "duration": 4,
    "start_time": "2022-08-18T16:26:31.172Z"
   },
   {
    "duration": 18,
    "start_time": "2022-08-18T16:26:31.178Z"
   },
   {
    "duration": 45,
    "start_time": "2022-08-18T16:26:31.197Z"
   },
   {
    "duration": 17,
    "start_time": "2022-08-18T16:26:31.244Z"
   },
   {
    "duration": 38,
    "start_time": "2022-08-18T16:26:31.263Z"
   },
   {
    "duration": 58,
    "start_time": "2022-08-18T16:26:31.303Z"
   },
   {
    "duration": 85,
    "start_time": "2022-08-18T16:26:31.362Z"
   },
   {
    "duration": 10,
    "start_time": "2022-08-18T16:26:31.448Z"
   },
   {
    "duration": 35,
    "start_time": "2022-08-18T16:26:31.459Z"
   },
   {
    "duration": 52,
    "start_time": "2022-08-18T16:26:31.495Z"
   },
   {
    "duration": 56,
    "start_time": "2022-08-18T16:26:31.548Z"
   },
   {
    "duration": 29,
    "start_time": "2022-08-18T16:26:31.605Z"
   },
   {
    "duration": 40,
    "start_time": "2022-08-18T16:26:31.636Z"
   },
   {
    "duration": 53,
    "start_time": "2022-08-18T16:26:31.677Z"
   },
   {
    "duration": 41,
    "start_time": "2022-08-18T16:26:31.734Z"
   },
   {
    "duration": 39,
    "start_time": "2022-08-18T16:26:31.776Z"
   },
   {
    "duration": 42,
    "start_time": "2022-08-18T16:26:31.818Z"
   },
   {
    "duration": 88,
    "start_time": "2022-08-18T16:26:31.861Z"
   },
   {
    "duration": 13,
    "start_time": "2022-08-18T16:26:31.951Z"
   },
   {
    "duration": 11,
    "start_time": "2022-08-18T16:26:31.967Z"
   },
   {
    "duration": 7,
    "start_time": "2022-08-18T16:26:31.980Z"
   },
   {
    "duration": 2,
    "start_time": "2022-08-18T16:39:44.196Z"
   },
   {
    "duration": 699,
    "start_time": "2022-08-18T16:39:44.200Z"
   },
   {
    "duration": 13,
    "start_time": "2022-08-18T16:39:44.901Z"
   },
   {
    "duration": 108,
    "start_time": "2022-08-18T16:39:44.916Z"
   },
   {
    "duration": 28,
    "start_time": "2022-08-18T16:39:45.026Z"
   },
   {
    "duration": 17,
    "start_time": "2022-08-18T16:39:45.055Z"
   },
   {
    "duration": 15,
    "start_time": "2022-08-18T16:39:45.074Z"
   },
   {
    "duration": 34,
    "start_time": "2022-08-18T16:39:45.091Z"
   },
   {
    "duration": 28,
    "start_time": "2022-08-18T16:39:45.127Z"
   },
   {
    "duration": 40,
    "start_time": "2022-08-18T16:39:45.157Z"
   },
   {
    "duration": 20,
    "start_time": "2022-08-18T16:39:45.198Z"
   },
   {
    "duration": 47,
    "start_time": "2022-08-18T16:39:45.219Z"
   },
   {
    "duration": 5,
    "start_time": "2022-08-18T16:39:45.269Z"
   },
   {
    "duration": 12,
    "start_time": "2022-08-18T16:39:45.275Z"
   },
   {
    "duration": 37,
    "start_time": "2022-08-18T16:39:45.288Z"
   },
   {
    "duration": 31,
    "start_time": "2022-08-18T16:39:45.326Z"
   },
   {
    "duration": 40,
    "start_time": "2022-08-18T16:39:45.359Z"
   },
   {
    "duration": 25,
    "start_time": "2022-08-18T16:39:45.400Z"
   },
   {
    "duration": 68,
    "start_time": "2022-08-18T16:39:45.427Z"
   },
   {
    "duration": 9,
    "start_time": "2022-08-18T16:39:45.497Z"
   },
   {
    "duration": 29,
    "start_time": "2022-08-18T16:39:45.508Z"
   },
   {
    "duration": 25,
    "start_time": "2022-08-18T16:39:45.539Z"
   },
   {
    "duration": 41,
    "start_time": "2022-08-18T16:39:45.565Z"
   },
   {
    "duration": 13,
    "start_time": "2022-08-18T16:39:45.608Z"
   },
   {
    "duration": 37,
    "start_time": "2022-08-18T16:39:45.623Z"
   },
   {
    "duration": 31,
    "start_time": "2022-08-18T16:39:45.662Z"
   },
   {
    "duration": 41,
    "start_time": "2022-08-18T16:39:45.694Z"
   },
   {
    "duration": 37,
    "start_time": "2022-08-18T16:39:45.737Z"
   },
   {
    "duration": 33,
    "start_time": "2022-08-18T16:39:45.775Z"
   },
   {
    "duration": 69,
    "start_time": "2022-08-18T16:39:45.810Z"
   },
   {
    "duration": 26,
    "start_time": "2022-08-18T16:39:45.880Z"
   },
   {
    "duration": 9,
    "start_time": "2022-08-18T16:39:45.908Z"
   },
   {
    "duration": 25,
    "start_time": "2022-08-18T16:39:45.918Z"
   },
   {
    "duration": 2,
    "start_time": "2022-08-18T17:01:24.351Z"
   },
   {
    "duration": 725,
    "start_time": "2022-08-18T17:01:24.355Z"
   },
   {
    "duration": 15,
    "start_time": "2022-08-18T17:01:25.082Z"
   },
   {
    "duration": 133,
    "start_time": "2022-08-18T17:01:25.105Z"
   },
   {
    "duration": 15,
    "start_time": "2022-08-18T17:01:25.241Z"
   },
   {
    "duration": 11,
    "start_time": "2022-08-18T17:01:25.259Z"
   },
   {
    "duration": 42,
    "start_time": "2022-08-18T17:01:25.271Z"
   },
   {
    "duration": 27,
    "start_time": "2022-08-18T17:01:25.314Z"
   },
   {
    "duration": 23,
    "start_time": "2022-08-18T17:01:25.343Z"
   },
   {
    "duration": 58,
    "start_time": "2022-08-18T17:01:25.368Z"
   },
   {
    "duration": 11,
    "start_time": "2022-08-18T17:01:25.428Z"
   },
   {
    "duration": 29,
    "start_time": "2022-08-18T17:01:25.441Z"
   },
   {
    "duration": 3,
    "start_time": "2022-08-18T17:01:25.472Z"
   },
   {
    "duration": 3,
    "start_time": "2022-08-18T17:01:25.506Z"
   },
   {
    "duration": 26,
    "start_time": "2022-08-18T17:01:25.510Z"
   },
   {
    "duration": 18,
    "start_time": "2022-08-18T17:01:25.538Z"
   },
   {
    "duration": 51,
    "start_time": "2022-08-18T17:01:25.557Z"
   },
   {
    "duration": 7,
    "start_time": "2022-08-18T17:01:25.610Z"
   },
   {
    "duration": 65,
    "start_time": "2022-08-18T17:01:25.618Z"
   },
   {
    "duration": 29,
    "start_time": "2022-08-18T17:01:25.684Z"
   },
   {
    "duration": 39,
    "start_time": "2022-08-18T17:01:25.714Z"
   },
   {
    "duration": 17,
    "start_time": "2022-08-18T17:01:25.755Z"
   },
   {
    "duration": 57,
    "start_time": "2022-08-18T17:01:25.773Z"
   },
   {
    "duration": 13,
    "start_time": "2022-08-18T17:01:25.831Z"
   },
   {
    "duration": 28,
    "start_time": "2022-08-18T17:01:25.846Z"
   },
   {
    "duration": 35,
    "start_time": "2022-08-18T17:01:25.876Z"
   },
   {
    "duration": 28,
    "start_time": "2022-08-18T17:01:25.913Z"
   },
   {
    "duration": 28,
    "start_time": "2022-08-18T17:01:25.942Z"
   },
   {
    "duration": 42,
    "start_time": "2022-08-18T17:01:25.971Z"
   },
   {
    "duration": 100,
    "start_time": "2022-08-18T17:01:26.015Z"
   },
   {
    "duration": 16,
    "start_time": "2022-08-18T17:01:26.117Z"
   },
   {
    "duration": 35,
    "start_time": "2022-08-18T17:01:26.135Z"
   },
   {
    "duration": 8,
    "start_time": "2022-08-18T17:01:26.172Z"
   },
   {
    "duration": 15,
    "start_time": "2022-08-18T17:05:50.801Z"
   },
   {
    "duration": 15,
    "start_time": "2022-08-18T17:05:54.839Z"
   },
   {
    "duration": 2,
    "start_time": "2022-08-18T17:06:02.770Z"
   },
   {
    "duration": 668,
    "start_time": "2022-08-18T17:06:02.774Z"
   },
   {
    "duration": 13,
    "start_time": "2022-08-18T17:06:03.444Z"
   },
   {
    "duration": 109,
    "start_time": "2022-08-18T17:06:03.458Z"
   },
   {
    "duration": 17,
    "start_time": "2022-08-18T17:06:03.569Z"
   },
   {
    "duration": 22,
    "start_time": "2022-08-18T17:06:03.587Z"
   },
   {
    "duration": 16,
    "start_time": "2022-08-18T17:06:03.610Z"
   },
   {
    "duration": 25,
    "start_time": "2022-08-18T17:06:03.628Z"
   },
   {
    "duration": 17,
    "start_time": "2022-08-18T17:06:03.655Z"
   },
   {
    "duration": 48,
    "start_time": "2022-08-18T17:06:03.675Z"
   },
   {
    "duration": 9,
    "start_time": "2022-08-18T17:06:03.724Z"
   },
   {
    "duration": 29,
    "start_time": "2022-08-18T17:06:03.734Z"
   },
   {
    "duration": 4,
    "start_time": "2022-08-18T17:06:03.764Z"
   },
   {
    "duration": 4,
    "start_time": "2022-08-18T17:06:03.769Z"
   },
   {
    "duration": 49,
    "start_time": "2022-08-18T17:06:03.775Z"
   },
   {
    "duration": 17,
    "start_time": "2022-08-18T17:06:03.825Z"
   },
   {
    "duration": 24,
    "start_time": "2022-08-18T17:06:03.844Z"
   },
   {
    "duration": 9,
    "start_time": "2022-08-18T17:06:03.869Z"
   },
   {
    "duration": 62,
    "start_time": "2022-08-18T17:06:03.906Z"
   },
   {
    "duration": 9,
    "start_time": "2022-08-18T17:06:03.969Z"
   },
   {
    "duration": 40,
    "start_time": "2022-08-18T17:06:03.980Z"
   },
   {
    "duration": 14,
    "start_time": "2022-08-18T17:06:04.022Z"
   },
   {
    "duration": 42,
    "start_time": "2022-08-18T17:06:04.038Z"
   },
   {
    "duration": 13,
    "start_time": "2022-08-18T17:06:04.081Z"
   },
   {
    "duration": 13,
    "start_time": "2022-08-18T17:06:05.785Z"
   },
   {
    "duration": 26,
    "start_time": "2022-08-18T17:06:06.373Z"
   },
   {
    "duration": 17,
    "start_time": "2022-08-18T17:06:07.950Z"
   },
   {
    "duration": 16,
    "start_time": "2022-08-18T17:19:38.757Z"
   },
   {
    "duration": 17,
    "start_time": "2022-08-18T17:19:40.249Z"
   },
   {
    "duration": 3,
    "start_time": "2022-08-18T17:20:12.524Z"
   },
   {
    "duration": 747,
    "start_time": "2022-08-18T17:20:12.734Z"
   },
   {
    "duration": 14,
    "start_time": "2022-08-18T17:20:14.125Z"
   },
   {
    "duration": 103,
    "start_time": "2022-08-18T17:20:14.863Z"
   },
   {
    "duration": 15,
    "start_time": "2022-08-18T17:20:16.366Z"
   },
   {
    "duration": 11,
    "start_time": "2022-08-18T17:20:17.085Z"
   },
   {
    "duration": 14,
    "start_time": "2022-08-18T17:20:18.121Z"
   },
   {
    "duration": 25,
    "start_time": "2022-08-18T17:20:18.989Z"
   },
   {
    "duration": 16,
    "start_time": "2022-08-18T17:20:19.469Z"
   },
   {
    "duration": 25,
    "start_time": "2022-08-18T17:20:20.421Z"
   },
   {
    "duration": 7,
    "start_time": "2022-08-18T17:20:21.389Z"
   },
   {
    "duration": 25,
    "start_time": "2022-08-18T17:20:22.249Z"
   },
   {
    "duration": 4,
    "start_time": "2022-08-18T17:20:23.197Z"
   },
   {
    "duration": 2,
    "start_time": "2022-08-18T17:20:24.285Z"
   },
   {
    "duration": 40,
    "start_time": "2022-08-18T17:20:25.218Z"
   },
   {
    "duration": 24,
    "start_time": "2022-08-18T17:20:26.132Z"
   },
   {
    "duration": 26,
    "start_time": "2022-08-18T17:20:26.621Z"
   },
   {
    "duration": 8,
    "start_time": "2022-08-18T17:20:27.723Z"
   },
   {
    "duration": 65,
    "start_time": "2022-08-18T17:20:28.761Z"
   },
   {
    "duration": 11,
    "start_time": "2022-08-18T17:20:29.168Z"
   },
   {
    "duration": 27,
    "start_time": "2022-08-18T17:20:30.473Z"
   },
   {
    "duration": 14,
    "start_time": "2022-08-18T17:20:31.443Z"
   },
   {
    "duration": 36,
    "start_time": "2022-08-18T17:20:31.832Z"
   },
   {
    "duration": 13,
    "start_time": "2022-08-18T17:20:32.317Z"
   },
   {
    "duration": 30,
    "start_time": "2022-08-18T17:20:32.820Z"
   },
   {
    "duration": 16,
    "start_time": "2022-08-18T17:20:37.319Z"
   },
   {
    "duration": 19,
    "start_time": "2022-08-18T17:21:12.634Z"
   },
   {
    "duration": 3,
    "start_time": "2022-08-18T17:22:41.778Z"
   },
   {
    "duration": 665,
    "start_time": "2022-08-18T17:22:41.783Z"
   },
   {
    "duration": 13,
    "start_time": "2022-08-18T17:22:42.450Z"
   },
   {
    "duration": 148,
    "start_time": "2022-08-18T17:22:42.465Z"
   },
   {
    "duration": 15,
    "start_time": "2022-08-18T17:22:42.614Z"
   },
   {
    "duration": 10,
    "start_time": "2022-08-18T17:22:42.630Z"
   },
   {
    "duration": 15,
    "start_time": "2022-08-18T17:22:42.642Z"
   },
   {
    "duration": 51,
    "start_time": "2022-08-18T17:22:42.658Z"
   },
   {
    "duration": 15,
    "start_time": "2022-08-18T17:22:42.710Z"
   },
   {
    "duration": 25,
    "start_time": "2022-08-18T17:22:42.728Z"
   },
   {
    "duration": 8,
    "start_time": "2022-08-18T17:22:42.754Z"
   },
   {
    "duration": 45,
    "start_time": "2022-08-18T17:22:42.764Z"
   },
   {
    "duration": 4,
    "start_time": "2022-08-18T17:22:42.811Z"
   },
   {
    "duration": 13,
    "start_time": "2022-08-18T17:22:42.816Z"
   },
   {
    "duration": 35,
    "start_time": "2022-08-18T17:22:42.830Z"
   },
   {
    "duration": 17,
    "start_time": "2022-08-18T17:22:42.866Z"
   },
   {
    "duration": 31,
    "start_time": "2022-08-18T17:22:42.884Z"
   },
   {
    "duration": 10,
    "start_time": "2022-08-18T17:22:42.917Z"
   },
   {
    "duration": 80,
    "start_time": "2022-08-18T17:22:42.928Z"
   },
   {
    "duration": 11,
    "start_time": "2022-08-18T17:22:43.010Z"
   },
   {
    "duration": 28,
    "start_time": "2022-08-18T17:22:43.023Z"
   },
   {
    "duration": 13,
    "start_time": "2022-08-18T17:22:43.053Z"
   },
   {
    "duration": 65,
    "start_time": "2022-08-18T17:22:43.068Z"
   },
   {
    "duration": 14,
    "start_time": "2022-08-18T17:22:43.134Z"
   },
   {
    "duration": 31,
    "start_time": "2022-08-18T17:22:43.150Z"
   },
   {
    "duration": 33,
    "start_time": "2022-08-18T17:22:43.183Z"
   },
   {
    "duration": 25,
    "start_time": "2022-08-18T17:22:43.218Z"
   },
   {
    "duration": 26,
    "start_time": "2022-08-18T17:22:43.246Z"
   },
   {
    "duration": 38,
    "start_time": "2022-08-18T17:22:43.274Z"
   },
   {
    "duration": 63,
    "start_time": "2022-08-18T17:22:43.313Z"
   },
   {
    "duration": 28,
    "start_time": "2022-08-18T17:22:43.377Z"
   },
   {
    "duration": 8,
    "start_time": "2022-08-18T17:22:43.407Z"
   },
   {
    "duration": 10,
    "start_time": "2022-08-18T17:22:43.416Z"
   },
   {
    "duration": 78,
    "start_time": "2022-08-18T17:25:00.938Z"
   },
   {
    "duration": 15,
    "start_time": "2022-08-18T17:25:10.299Z"
   },
   {
    "duration": 17,
    "start_time": "2022-08-18T17:28:15.196Z"
   },
   {
    "duration": 18,
    "start_time": "2022-08-18T17:28:48.570Z"
   },
   {
    "duration": 16,
    "start_time": "2022-08-18T17:28:58.433Z"
   },
   {
    "duration": 2,
    "start_time": "2022-08-18T17:29:07.435Z"
   },
   {
    "duration": 656,
    "start_time": "2022-08-18T17:29:07.665Z"
   },
   {
    "duration": 21,
    "start_time": "2022-08-18T17:29:15.037Z"
   },
   {
    "duration": 3,
    "start_time": "2022-08-18T17:36:23.664Z"
   },
   {
    "duration": 653,
    "start_time": "2022-08-18T17:36:23.668Z"
   },
   {
    "duration": 13,
    "start_time": "2022-08-18T17:36:24.323Z"
   },
   {
    "duration": 109,
    "start_time": "2022-08-18T17:36:24.337Z"
   },
   {
    "duration": 15,
    "start_time": "2022-08-18T17:36:24.448Z"
   },
   {
    "duration": 11,
    "start_time": "2022-08-18T17:36:24.465Z"
   },
   {
    "duration": 33,
    "start_time": "2022-08-18T17:36:24.477Z"
   },
   {
    "duration": 26,
    "start_time": "2022-08-18T17:36:24.511Z"
   },
   {
    "duration": 16,
    "start_time": "2022-08-18T17:36:24.538Z"
   },
   {
    "duration": 51,
    "start_time": "2022-08-18T17:36:24.556Z"
   },
   {
    "duration": 7,
    "start_time": "2022-08-18T17:36:24.609Z"
   },
   {
    "duration": 26,
    "start_time": "2022-08-18T17:36:24.617Z"
   },
   {
    "duration": 4,
    "start_time": "2022-08-18T17:36:24.644Z"
   },
   {
    "duration": 5,
    "start_time": "2022-08-18T17:36:24.649Z"
   },
   {
    "duration": 55,
    "start_time": "2022-08-18T17:36:24.656Z"
   },
   {
    "duration": 26,
    "start_time": "2022-08-18T17:36:24.712Z"
   },
   {
    "duration": 28,
    "start_time": "2022-08-18T17:36:24.740Z"
   },
   {
    "duration": 17,
    "start_time": "2022-08-18T17:36:24.770Z"
   },
   {
    "duration": 73,
    "start_time": "2022-08-18T17:36:24.788Z"
   },
   {
    "duration": 9,
    "start_time": "2022-08-18T17:36:24.862Z"
   },
   {
    "duration": 36,
    "start_time": "2022-08-18T17:36:24.873Z"
   },
   {
    "duration": 14,
    "start_time": "2022-08-18T17:36:24.911Z"
   },
   {
    "duration": 2,
    "start_time": "2022-08-18T17:36:24.927Z"
   },
   {
    "duration": 15,
    "start_time": "2022-08-18T17:36:24.930Z"
   },
   {
    "duration": 26,
    "start_time": "2022-08-18T17:36:24.947Z"
   },
   {
    "duration": 43,
    "start_time": "2022-08-18T17:36:24.975Z"
   },
   {
    "duration": 26,
    "start_time": "2022-08-18T17:36:25.020Z"
   },
   {
    "duration": 27,
    "start_time": "2022-08-18T17:36:25.047Z"
   },
   {
    "duration": 40,
    "start_time": "2022-08-18T17:36:25.077Z"
   },
   {
    "duration": 66,
    "start_time": "2022-08-18T17:36:25.119Z"
   },
   {
    "duration": 29,
    "start_time": "2022-08-18T17:36:25.187Z"
   },
   {
    "duration": 9,
    "start_time": "2022-08-18T17:36:25.218Z"
   },
   {
    "duration": 6,
    "start_time": "2022-08-18T17:36:25.229Z"
   },
   {
    "duration": 32,
    "start_time": "2022-08-18T17:40:00.935Z"
   },
   {
    "duration": 7,
    "start_time": "2022-08-18T17:40:01.669Z"
   },
   {
    "duration": 7,
    "start_time": "2022-08-18T17:40:01.926Z"
   },
   {
    "duration": 6,
    "start_time": "2022-08-18T17:40:02.732Z"
   },
   {
    "duration": 3,
    "start_time": "2022-08-18T17:40:06.946Z"
   },
   {
    "duration": 711,
    "start_time": "2022-08-18T17:40:06.951Z"
   },
   {
    "duration": 14,
    "start_time": "2022-08-18T17:40:07.663Z"
   },
   {
    "duration": 112,
    "start_time": "2022-08-18T17:40:07.679Z"
   },
   {
    "duration": 23,
    "start_time": "2022-08-18T17:40:07.793Z"
   },
   {
    "duration": 11,
    "start_time": "2022-08-18T17:40:07.817Z"
   },
   {
    "duration": 26,
    "start_time": "2022-08-18T17:40:07.829Z"
   },
   {
    "duration": 27,
    "start_time": "2022-08-18T17:40:07.856Z"
   },
   {
    "duration": 31,
    "start_time": "2022-08-18T17:40:07.885Z"
   },
   {
    "duration": 28,
    "start_time": "2022-08-18T17:40:07.917Z"
   },
   {
    "duration": 9,
    "start_time": "2022-08-18T17:40:07.947Z"
   },
   {
    "duration": 53,
    "start_time": "2022-08-18T17:40:07.958Z"
   },
   {
    "duration": 4,
    "start_time": "2022-08-18T17:40:08.014Z"
   },
   {
    "duration": 3,
    "start_time": "2022-08-18T17:40:08.020Z"
   },
   {
    "duration": 29,
    "start_time": "2022-08-18T17:40:08.025Z"
   },
   {
    "duration": 17,
    "start_time": "2022-08-18T17:40:08.056Z"
   },
   {
    "duration": 52,
    "start_time": "2022-08-18T17:40:08.075Z"
   },
   {
    "duration": 9,
    "start_time": "2022-08-18T17:40:08.128Z"
   },
   {
    "duration": 89,
    "start_time": "2022-08-18T17:40:08.139Z"
   },
   {
    "duration": 9,
    "start_time": "2022-08-18T17:40:08.229Z"
   },
   {
    "duration": 27,
    "start_time": "2022-08-18T17:40:08.240Z"
   },
   {
    "duration": 38,
    "start_time": "2022-08-18T17:40:08.269Z"
   },
   {
    "duration": 39,
    "start_time": "2022-08-18T17:40:08.308Z"
   },
   {
    "duration": 7,
    "start_time": "2022-08-18T17:40:08.349Z"
   },
   {
    "duration": 0,
    "start_time": "2022-08-18T17:40:08.357Z"
   },
   {
    "duration": 0,
    "start_time": "2022-08-18T17:40:08.358Z"
   },
   {
    "duration": 0,
    "start_time": "2022-08-18T17:40:08.359Z"
   },
   {
    "duration": 0,
    "start_time": "2022-08-18T17:40:08.360Z"
   },
   {
    "duration": 0,
    "start_time": "2022-08-18T17:40:08.361Z"
   },
   {
    "duration": 0,
    "start_time": "2022-08-18T17:40:08.362Z"
   },
   {
    "duration": 0,
    "start_time": "2022-08-18T17:40:08.363Z"
   },
   {
    "duration": 0,
    "start_time": "2022-08-18T17:40:08.364Z"
   },
   {
    "duration": 0,
    "start_time": "2022-08-18T17:40:08.365Z"
   },
   {
    "duration": 3,
    "start_time": "2022-08-18T17:47:14.496Z"
   },
   {
    "duration": 718,
    "start_time": "2022-08-18T17:47:14.500Z"
   },
   {
    "duration": 15,
    "start_time": "2022-08-18T17:47:15.220Z"
   },
   {
    "duration": 126,
    "start_time": "2022-08-18T17:47:15.237Z"
   },
   {
    "duration": 21,
    "start_time": "2022-08-18T17:47:15.366Z"
   },
   {
    "duration": 25,
    "start_time": "2022-08-18T17:47:15.389Z"
   },
   {
    "duration": 14,
    "start_time": "2022-08-18T17:47:15.416Z"
   },
   {
    "duration": 26,
    "start_time": "2022-08-18T17:47:15.431Z"
   },
   {
    "duration": 17,
    "start_time": "2022-08-18T17:47:15.459Z"
   },
   {
    "duration": 49,
    "start_time": "2022-08-18T17:47:15.478Z"
   },
   {
    "duration": 8,
    "start_time": "2022-08-18T17:47:15.528Z"
   },
   {
    "duration": 31,
    "start_time": "2022-08-18T17:47:15.537Z"
   },
   {
    "duration": 4,
    "start_time": "2022-08-18T17:47:15.571Z"
   },
   {
    "duration": 3,
    "start_time": "2022-08-18T17:47:15.606Z"
   },
   {
    "duration": 35,
    "start_time": "2022-08-18T17:47:15.610Z"
   },
   {
    "duration": 21,
    "start_time": "2022-08-18T17:47:15.646Z"
   },
   {
    "duration": 43,
    "start_time": "2022-08-18T17:47:15.668Z"
   },
   {
    "duration": 11,
    "start_time": "2022-08-18T17:47:15.712Z"
   },
   {
    "duration": 87,
    "start_time": "2022-08-18T17:47:15.725Z"
   },
   {
    "duration": 10,
    "start_time": "2022-08-18T17:47:15.814Z"
   },
   {
    "duration": 34,
    "start_time": "2022-08-18T17:47:15.826Z"
   },
   {
    "duration": 41,
    "start_time": "2022-08-18T17:47:15.862Z"
   },
   {
    "duration": 39,
    "start_time": "2022-08-18T17:47:15.905Z"
   },
   {
    "duration": 14,
    "start_time": "2022-08-18T17:47:15.945Z"
   },
   {
    "duration": 39,
    "start_time": "2022-08-18T17:47:15.961Z"
   },
   {
    "duration": 47,
    "start_time": "2022-08-18T17:47:16.002Z"
   },
   {
    "duration": 59,
    "start_time": "2022-08-18T17:47:16.052Z"
   },
   {
    "duration": 54,
    "start_time": "2022-08-18T17:47:16.113Z"
   },
   {
    "duration": 42,
    "start_time": "2022-08-18T17:47:16.169Z"
   },
   {
    "duration": 110,
    "start_time": "2022-08-18T17:47:16.215Z"
   },
   {
    "duration": 16,
    "start_time": "2022-08-18T17:47:16.327Z"
   },
   {
    "duration": 15,
    "start_time": "2022-08-18T17:47:16.344Z"
   },
   {
    "duration": 8,
    "start_time": "2022-08-18T17:47:16.361Z"
   },
   {
    "duration": 3,
    "start_time": "2022-08-18T17:48:49.061Z"
   },
   {
    "duration": 748,
    "start_time": "2022-08-18T17:48:49.066Z"
   },
   {
    "duration": 14,
    "start_time": "2022-08-18T17:48:49.816Z"
   },
   {
    "duration": 113,
    "start_time": "2022-08-18T17:48:49.832Z"
   },
   {
    "duration": 21,
    "start_time": "2022-08-18T17:48:49.947Z"
   },
   {
    "duration": 31,
    "start_time": "2022-08-18T17:48:49.969Z"
   },
   {
    "duration": 36,
    "start_time": "2022-08-18T17:48:50.002Z"
   },
   {
    "duration": 55,
    "start_time": "2022-08-18T17:48:50.039Z"
   },
   {
    "duration": 27,
    "start_time": "2022-08-18T17:48:50.096Z"
   },
   {
    "duration": 38,
    "start_time": "2022-08-18T17:48:50.125Z"
   },
   {
    "duration": 38,
    "start_time": "2022-08-18T17:48:50.165Z"
   },
   {
    "duration": 67,
    "start_time": "2022-08-18T17:48:50.205Z"
   },
   {
    "duration": 10,
    "start_time": "2022-08-18T17:48:50.274Z"
   },
   {
    "duration": 18,
    "start_time": "2022-08-18T17:48:50.285Z"
   },
   {
    "duration": 58,
    "start_time": "2022-08-18T17:48:50.305Z"
   },
   {
    "duration": 41,
    "start_time": "2022-08-18T17:48:50.365Z"
   },
   {
    "duration": 38,
    "start_time": "2022-08-18T17:48:50.408Z"
   },
   {
    "duration": 35,
    "start_time": "2022-08-18T17:48:50.448Z"
   },
   {
    "duration": 80,
    "start_time": "2022-08-18T17:48:50.485Z"
   },
   {
    "duration": 10,
    "start_time": "2022-08-18T17:48:50.566Z"
   },
   {
    "duration": 40,
    "start_time": "2022-08-18T17:48:50.578Z"
   },
   {
    "duration": 38,
    "start_time": "2022-08-18T17:48:50.620Z"
   },
   {
    "duration": 39,
    "start_time": "2022-08-18T17:48:50.659Z"
   },
   {
    "duration": 20,
    "start_time": "2022-08-18T17:48:50.701Z"
   },
   {
    "duration": 37,
    "start_time": "2022-08-18T17:48:50.723Z"
   },
   {
    "duration": 47,
    "start_time": "2022-08-18T17:48:50.762Z"
   },
   {
    "duration": 67,
    "start_time": "2022-08-18T17:48:50.811Z"
   },
   {
    "duration": 55,
    "start_time": "2022-08-18T17:48:50.879Z"
   },
   {
    "duration": 38,
    "start_time": "2022-08-18T17:48:50.936Z"
   },
   {
    "duration": 109,
    "start_time": "2022-08-18T17:48:50.975Z"
   },
   {
    "duration": 20,
    "start_time": "2022-08-18T17:48:51.086Z"
   },
   {
    "duration": 47,
    "start_time": "2022-08-18T17:48:51.108Z"
   },
   {
    "duration": 23,
    "start_time": "2022-08-18T17:48:51.156Z"
   },
   {
    "duration": 3,
    "start_time": "2022-08-18T17:56:13.580Z"
   },
   {
    "duration": 722,
    "start_time": "2022-08-18T17:56:13.585Z"
   },
   {
    "duration": 14,
    "start_time": "2022-08-18T17:56:14.308Z"
   },
   {
    "duration": 119,
    "start_time": "2022-08-18T17:56:14.324Z"
   },
   {
    "duration": 22,
    "start_time": "2022-08-18T17:56:14.445Z"
   },
   {
    "duration": 13,
    "start_time": "2022-08-18T17:56:14.469Z"
   },
   {
    "duration": 34,
    "start_time": "2022-08-18T17:56:14.484Z"
   },
   {
    "duration": 28,
    "start_time": "2022-08-18T17:56:14.520Z"
   },
   {
    "duration": 20,
    "start_time": "2022-08-18T17:56:14.549Z"
   },
   {
    "duration": 47,
    "start_time": "2022-08-18T17:56:14.571Z"
   },
   {
    "duration": 8,
    "start_time": "2022-08-18T17:56:14.620Z"
   },
   {
    "duration": 30,
    "start_time": "2022-08-18T17:56:14.629Z"
   },
   {
    "duration": 4,
    "start_time": "2022-08-18T17:56:14.661Z"
   },
   {
    "duration": 7,
    "start_time": "2022-08-18T17:56:14.668Z"
   },
   {
    "duration": 53,
    "start_time": "2022-08-18T17:56:14.676Z"
   },
   {
    "duration": 19,
    "start_time": "2022-08-18T17:56:14.730Z"
   },
   {
    "duration": 55,
    "start_time": "2022-08-18T17:56:14.750Z"
   },
   {
    "duration": 8,
    "start_time": "2022-08-18T17:56:14.807Z"
   },
   {
    "duration": 67,
    "start_time": "2022-08-18T17:56:14.816Z"
   },
   {
    "duration": 25,
    "start_time": "2022-08-18T17:56:14.884Z"
   },
   {
    "duration": 30,
    "start_time": "2022-08-18T17:56:14.910Z"
   },
   {
    "duration": 15,
    "start_time": "2022-08-18T17:56:14.941Z"
   },
   {
    "duration": 62,
    "start_time": "2022-08-18T17:56:14.958Z"
   },
   {
    "duration": 14,
    "start_time": "2022-08-18T17:56:15.022Z"
   },
   {
    "duration": 33,
    "start_time": "2022-08-18T17:56:15.038Z"
   },
   {
    "duration": 39,
    "start_time": "2022-08-18T17:56:15.072Z"
   },
   {
    "duration": 28,
    "start_time": "2022-08-18T17:56:15.113Z"
   },
   {
    "duration": 33,
    "start_time": "2022-08-18T17:56:15.142Z"
   },
   {
    "duration": 38,
    "start_time": "2022-08-18T17:56:15.177Z"
   },
   {
    "duration": 72,
    "start_time": "2022-08-18T17:56:15.217Z"
   },
   {
    "duration": 27,
    "start_time": "2022-08-18T17:56:15.290Z"
   },
   {
    "duration": 12,
    "start_time": "2022-08-18T17:56:15.318Z"
   },
   {
    "duration": 8,
    "start_time": "2022-08-18T17:56:15.331Z"
   },
   {
    "duration": 27,
    "start_time": "2022-08-18T17:57:10.256Z"
   },
   {
    "duration": 3,
    "start_time": "2022-08-18T17:57:13.779Z"
   },
   {
    "duration": 740,
    "start_time": "2022-08-18T17:57:13.966Z"
   },
   {
    "duration": 15,
    "start_time": "2022-08-18T17:57:14.708Z"
   },
   {
    "duration": 128,
    "start_time": "2022-08-18T17:57:14.724Z"
   },
   {
    "duration": 17,
    "start_time": "2022-08-18T17:57:16.246Z"
   },
   {
    "duration": 11,
    "start_time": "2022-08-18T17:57:16.773Z"
   },
   {
    "duration": 14,
    "start_time": "2022-08-18T17:57:20.696Z"
   },
   {
    "duration": 40,
    "start_time": "2022-08-18T17:57:21.778Z"
   },
   {
    "duration": 16,
    "start_time": "2022-08-18T17:57:22.604Z"
   },
   {
    "duration": 26,
    "start_time": "2022-08-18T17:57:25.958Z"
   },
   {
    "duration": 9,
    "start_time": "2022-08-18T17:57:36.021Z"
   },
   {
    "duration": 27,
    "start_time": "2022-08-18T17:57:37.902Z"
   },
   {
    "duration": 3,
    "start_time": "2022-08-18T17:57:40.595Z"
   },
   {
    "duration": 2,
    "start_time": "2022-08-18T17:57:41.969Z"
   },
   {
    "duration": 26,
    "start_time": "2022-08-18T17:57:53.542Z"
   },
   {
    "duration": 16,
    "start_time": "2022-08-18T17:57:58.248Z"
   },
   {
    "duration": 25,
    "start_time": "2022-08-18T17:57:59.142Z"
   },
   {
    "duration": 10,
    "start_time": "2022-08-18T17:58:00.795Z"
   },
   {
    "duration": 69,
    "start_time": "2022-08-18T17:58:04.654Z"
   },
   {
    "duration": 10,
    "start_time": "2022-08-18T17:58:05.067Z"
   },
   {
    "duration": 30,
    "start_time": "2022-08-18T17:58:06.804Z"
   },
   {
    "duration": 13,
    "start_time": "2022-08-18T17:58:19.465Z"
   },
   {
    "duration": 35,
    "start_time": "2022-08-18T17:58:29.738Z"
   },
   {
    "duration": 69,
    "start_time": "2022-08-18T17:58:43.475Z"
   },
   {
    "duration": 3,
    "start_time": "2022-08-18T17:59:20.589Z"
   },
   {
    "duration": 709,
    "start_time": "2022-08-18T17:59:20.594Z"
   },
   {
    "duration": 15,
    "start_time": "2022-08-18T17:59:21.306Z"
   },
   {
    "duration": 119,
    "start_time": "2022-08-18T17:59:21.323Z"
   },
   {
    "duration": 17,
    "start_time": "2022-08-18T17:59:21.444Z"
   },
   {
    "duration": 11,
    "start_time": "2022-08-18T17:59:21.463Z"
   },
   {
    "duration": 41,
    "start_time": "2022-08-18T17:59:21.476Z"
   },
   {
    "duration": 29,
    "start_time": "2022-08-18T17:59:21.519Z"
   },
   {
    "duration": 17,
    "start_time": "2022-08-18T17:59:21.551Z"
   },
   {
    "duration": 49,
    "start_time": "2022-08-18T17:59:21.569Z"
   },
   {
    "duration": 12,
    "start_time": "2022-08-18T17:59:21.619Z"
   },
   {
    "duration": 31,
    "start_time": "2022-08-18T17:59:21.632Z"
   },
   {
    "duration": 3,
    "start_time": "2022-08-18T17:59:21.665Z"
   },
   {
    "duration": 4,
    "start_time": "2022-08-18T17:59:21.671Z"
   },
   {
    "duration": 50,
    "start_time": "2022-08-18T17:59:21.676Z"
   },
   {
    "duration": 18,
    "start_time": "2022-08-18T17:59:21.728Z"
   },
   {
    "duration": 27,
    "start_time": "2022-08-18T17:59:21.747Z"
   },
   {
    "duration": 32,
    "start_time": "2022-08-18T17:59:21.775Z"
   },
   {
    "duration": 66,
    "start_time": "2022-08-18T17:59:21.809Z"
   },
   {
    "duration": 34,
    "start_time": "2022-08-18T17:59:21.876Z"
   },
   {
    "duration": 31,
    "start_time": "2022-08-18T17:59:21.912Z"
   },
   {
    "duration": 16,
    "start_time": "2022-08-18T17:59:21.945Z"
   },
   {
    "duration": 59,
    "start_time": "2022-08-18T17:59:21.962Z"
   },
   {
    "duration": 83,
    "start_time": "2022-08-18T17:59:22.024Z"
   },
   {
    "duration": 15,
    "start_time": "2022-08-18T17:59:22.109Z"
   },
   {
    "duration": 32,
    "start_time": "2022-08-18T17:59:22.126Z"
   },
   {
    "duration": 20,
    "start_time": "2022-08-18T17:59:22.160Z"
   },
   {
    "duration": 44,
    "start_time": "2022-08-18T17:59:22.182Z"
   },
   {
    "duration": 37,
    "start_time": "2022-08-18T17:59:22.227Z"
   },
   {
    "duration": 26,
    "start_time": "2022-08-18T17:59:22.266Z"
   },
   {
    "duration": 77,
    "start_time": "2022-08-18T17:59:22.294Z"
   },
   {
    "duration": 15,
    "start_time": "2022-08-18T17:59:22.373Z"
   },
   {
    "duration": 22,
    "start_time": "2022-08-18T17:59:22.390Z"
   },
   {
    "duration": 9,
    "start_time": "2022-08-18T17:59:22.414Z"
   },
   {
    "duration": 3,
    "start_time": "2022-08-18T17:59:28.446Z"
   },
   {
    "duration": 737,
    "start_time": "2022-08-18T17:59:28.451Z"
   },
   {
    "duration": 16,
    "start_time": "2022-08-18T17:59:29.190Z"
   },
   {
    "duration": 111,
    "start_time": "2022-08-18T17:59:29.208Z"
   },
   {
    "duration": 21,
    "start_time": "2022-08-18T17:59:29.322Z"
   },
   {
    "duration": 13,
    "start_time": "2022-08-18T17:59:29.345Z"
   },
   {
    "duration": 16,
    "start_time": "2022-08-18T17:59:29.360Z"
   },
   {
    "duration": 49,
    "start_time": "2022-08-18T17:59:29.377Z"
   },
   {
    "duration": 19,
    "start_time": "2022-08-18T17:59:29.428Z"
   },
   {
    "duration": 30,
    "start_time": "2022-08-18T17:59:29.449Z"
   },
   {
    "duration": 8,
    "start_time": "2022-08-18T17:59:29.506Z"
   },
   {
    "duration": 31,
    "start_time": "2022-08-18T17:59:29.515Z"
   },
   {
    "duration": 4,
    "start_time": "2022-08-18T17:59:29.548Z"
   },
   {
    "duration": 3,
    "start_time": "2022-08-18T17:59:29.554Z"
   },
   {
    "duration": 67,
    "start_time": "2022-08-18T17:59:29.558Z"
   },
   {
    "duration": 19,
    "start_time": "2022-08-18T17:59:29.627Z"
   },
   {
    "duration": 26,
    "start_time": "2022-08-18T17:59:29.647Z"
   },
   {
    "duration": 37,
    "start_time": "2022-08-18T17:59:29.675Z"
   },
   {
    "duration": 97,
    "start_time": "2022-08-18T17:59:29.713Z"
   },
   {
    "duration": 10,
    "start_time": "2022-08-18T17:59:29.812Z"
   },
   {
    "duration": 30,
    "start_time": "2022-08-18T17:59:29.823Z"
   },
   {
    "duration": 13,
    "start_time": "2022-08-18T17:59:29.855Z"
   },
   {
    "duration": 62,
    "start_time": "2022-08-18T17:59:29.870Z"
   },
   {
    "duration": 75,
    "start_time": "2022-08-18T17:59:29.933Z"
   },
   {
    "duration": 14,
    "start_time": "2022-08-18T17:59:30.009Z"
   },
   {
    "duration": 44,
    "start_time": "2022-08-18T17:59:30.024Z"
   },
   {
    "duration": 43,
    "start_time": "2022-08-18T17:59:30.070Z"
   },
   {
    "duration": 30,
    "start_time": "2022-08-18T17:59:30.114Z"
   },
   {
    "duration": 55,
    "start_time": "2022-08-18T17:59:30.146Z"
   },
   {
    "duration": 29,
    "start_time": "2022-08-18T17:59:30.202Z"
   },
   {
    "duration": 67,
    "start_time": "2022-08-18T17:59:30.233Z"
   },
   {
    "duration": 13,
    "start_time": "2022-08-18T17:59:30.302Z"
   },
   {
    "duration": 14,
    "start_time": "2022-08-18T17:59:30.316Z"
   },
   {
    "duration": 16,
    "start_time": "2022-08-18T17:59:30.332Z"
   },
   {
    "duration": 43,
    "start_time": "2022-08-18T18:02:09.680Z"
   },
   {
    "duration": 63,
    "start_time": "2022-08-18T18:02:11.397Z"
   },
   {
    "duration": 3,
    "start_time": "2022-08-18T18:02:25.989Z"
   },
   {
    "duration": 790,
    "start_time": "2022-08-18T18:02:25.994Z"
   },
   {
    "duration": 13,
    "start_time": "2022-08-18T18:02:26.786Z"
   },
   {
    "duration": 109,
    "start_time": "2022-08-18T18:02:26.805Z"
   },
   {
    "duration": 17,
    "start_time": "2022-08-18T18:02:26.915Z"
   },
   {
    "duration": 11,
    "start_time": "2022-08-18T18:02:26.934Z"
   },
   {
    "duration": 17,
    "start_time": "2022-08-18T18:02:26.946Z"
   },
   {
    "duration": 53,
    "start_time": "2022-08-18T18:02:26.965Z"
   },
   {
    "duration": 16,
    "start_time": "2022-08-18T18:02:27.020Z"
   },
   {
    "duration": 26,
    "start_time": "2022-08-18T18:02:27.039Z"
   },
   {
    "duration": 11,
    "start_time": "2022-08-18T18:02:27.067Z"
   },
   {
    "duration": 51,
    "start_time": "2022-08-18T18:02:27.080Z"
   },
   {
    "duration": 4,
    "start_time": "2022-08-18T18:02:27.132Z"
   },
   {
    "duration": 4,
    "start_time": "2022-08-18T18:02:27.138Z"
   },
   {
    "duration": 31,
    "start_time": "2022-08-18T18:02:27.144Z"
   },
   {
    "duration": 39,
    "start_time": "2022-08-18T18:02:27.177Z"
   },
   {
    "duration": 24,
    "start_time": "2022-08-18T18:02:27.218Z"
   },
   {
    "duration": 10,
    "start_time": "2022-08-18T18:02:27.244Z"
   },
   {
    "duration": 83,
    "start_time": "2022-08-18T18:02:27.255Z"
   },
   {
    "duration": 10,
    "start_time": "2022-08-18T18:02:27.339Z"
   },
   {
    "duration": 29,
    "start_time": "2022-08-18T18:02:27.350Z"
   },
   {
    "duration": 34,
    "start_time": "2022-08-18T18:02:27.381Z"
   },
   {
    "duration": 70,
    "start_time": "2022-08-18T18:02:27.417Z"
   },
   {
    "duration": 103,
    "start_time": "2022-08-18T18:02:27.489Z"
   },
   {
    "duration": 15,
    "start_time": "2022-08-18T18:02:27.594Z"
   },
   {
    "duration": 27,
    "start_time": "2022-08-18T18:02:27.611Z"
   },
   {
    "duration": 18,
    "start_time": "2022-08-18T18:02:27.639Z"
   },
   {
    "duration": 53,
    "start_time": "2022-08-18T18:02:27.659Z"
   },
   {
    "duration": 29,
    "start_time": "2022-08-18T18:02:27.713Z"
   },
   {
    "duration": 19,
    "start_time": "2022-08-18T18:02:27.743Z"
   },
   {
    "duration": 83,
    "start_time": "2022-08-18T18:02:27.764Z"
   },
   {
    "duration": 12,
    "start_time": "2022-08-18T18:02:27.849Z"
   },
   {
    "duration": 13,
    "start_time": "2022-08-18T18:02:27.862Z"
   },
   {
    "duration": 6,
    "start_time": "2022-08-18T18:02:27.877Z"
   },
   {
    "duration": 3,
    "start_time": "2022-08-18T18:03:36.683Z"
   },
   {
    "duration": 682,
    "start_time": "2022-08-18T18:03:36.688Z"
   },
   {
    "duration": 14,
    "start_time": "2022-08-18T18:03:37.371Z"
   },
   {
    "duration": 111,
    "start_time": "2022-08-18T18:03:37.387Z"
   },
   {
    "duration": 19,
    "start_time": "2022-08-18T18:03:37.500Z"
   },
   {
    "duration": 11,
    "start_time": "2022-08-18T18:03:37.520Z"
   },
   {
    "duration": 16,
    "start_time": "2022-08-18T18:03:37.533Z"
   },
   {
    "duration": 58,
    "start_time": "2022-08-18T18:03:37.551Z"
   },
   {
    "duration": 16,
    "start_time": "2022-08-18T18:03:37.611Z"
   },
   {
    "duration": 25,
    "start_time": "2022-08-18T18:03:37.629Z"
   },
   {
    "duration": 9,
    "start_time": "2022-08-18T18:03:37.656Z"
   },
   {
    "duration": 63,
    "start_time": "2022-08-18T18:03:37.667Z"
   },
   {
    "duration": 4,
    "start_time": "2022-08-18T18:03:37.732Z"
   },
   {
    "duration": 6,
    "start_time": "2022-08-18T18:03:37.738Z"
   },
   {
    "duration": 65,
    "start_time": "2022-08-18T18:03:37.746Z"
   },
   {
    "duration": 23,
    "start_time": "2022-08-18T18:03:37.813Z"
   },
   {
    "duration": 29,
    "start_time": "2022-08-18T18:03:37.837Z"
   },
   {
    "duration": 7,
    "start_time": "2022-08-18T18:03:37.868Z"
   },
   {
    "duration": 96,
    "start_time": "2022-08-18T18:03:37.876Z"
   },
   {
    "duration": 9,
    "start_time": "2022-08-18T18:03:37.974Z"
   },
   {
    "duration": 46,
    "start_time": "2022-08-18T18:03:37.984Z"
   },
   {
    "duration": 16,
    "start_time": "2022-08-18T18:03:38.031Z"
   },
   {
    "duration": 91,
    "start_time": "2022-08-18T18:03:38.049Z"
   },
   {
    "duration": 71,
    "start_time": "2022-08-18T18:03:40.843Z"
   },
   {
    "duration": 39,
    "start_time": "2022-08-18T18:03:41.402Z"
   },
   {
    "duration": 63,
    "start_time": "2022-08-18T18:03:43.459Z"
   },
   {
    "duration": 64,
    "start_time": "2022-08-18T18:04:11.542Z"
   },
   {
    "duration": 46,
    "start_time": "2022-08-18T18:04:12.232Z"
   },
   {
    "duration": 3,
    "start_time": "2022-08-18T18:04:16.788Z"
   },
   {
    "duration": 713,
    "start_time": "2022-08-18T18:04:16.793Z"
   },
   {
    "duration": 13,
    "start_time": "2022-08-18T18:04:17.508Z"
   },
   {
    "duration": 114,
    "start_time": "2022-08-18T18:04:17.522Z"
   },
   {
    "duration": 22,
    "start_time": "2022-08-18T18:04:17.638Z"
   },
   {
    "duration": 17,
    "start_time": "2022-08-18T18:04:17.661Z"
   },
   {
    "duration": 34,
    "start_time": "2022-08-18T18:04:17.680Z"
   },
   {
    "duration": 28,
    "start_time": "2022-08-18T18:04:17.716Z"
   },
   {
    "duration": 24,
    "start_time": "2022-08-18T18:04:17.745Z"
   },
   {
    "duration": 40,
    "start_time": "2022-08-18T18:04:17.771Z"
   },
   {
    "duration": 12,
    "start_time": "2022-08-18T18:04:17.813Z"
   },
   {
    "duration": 30,
    "start_time": "2022-08-18T18:04:17.827Z"
   },
   {
    "duration": 3,
    "start_time": "2022-08-18T18:04:17.859Z"
   },
   {
    "duration": 4,
    "start_time": "2022-08-18T18:04:17.865Z"
   },
   {
    "duration": 55,
    "start_time": "2022-08-18T18:04:17.871Z"
   },
   {
    "duration": 19,
    "start_time": "2022-08-18T18:04:17.928Z"
   },
   {
    "duration": 26,
    "start_time": "2022-08-18T18:04:17.949Z"
   },
   {
    "duration": 29,
    "start_time": "2022-08-18T18:04:17.977Z"
   },
   {
    "duration": 76,
    "start_time": "2022-08-18T18:04:18.008Z"
   },
   {
    "duration": 25,
    "start_time": "2022-08-18T18:04:18.086Z"
   },
   {
    "duration": 29,
    "start_time": "2022-08-18T18:04:18.113Z"
   },
   {
    "duration": 15,
    "start_time": "2022-08-18T18:04:18.144Z"
   },
   {
    "duration": 87,
    "start_time": "2022-08-18T18:04:18.160Z"
   },
   {
    "duration": 38,
    "start_time": "2022-08-18T18:04:18.249Z"
   },
   {
    "duration": 22,
    "start_time": "2022-08-18T18:04:18.289Z"
   },
   {
    "duration": 0,
    "start_time": "2022-08-18T18:04:18.313Z"
   },
   {
    "duration": 0,
    "start_time": "2022-08-18T18:04:18.313Z"
   },
   {
    "duration": 0,
    "start_time": "2022-08-18T18:04:18.314Z"
   },
   {
    "duration": 0,
    "start_time": "2022-08-18T18:04:18.315Z"
   },
   {
    "duration": 0,
    "start_time": "2022-08-18T18:04:18.316Z"
   },
   {
    "duration": 0,
    "start_time": "2022-08-18T18:04:18.317Z"
   },
   {
    "duration": 0,
    "start_time": "2022-08-18T18:04:18.318Z"
   },
   {
    "duration": 0,
    "start_time": "2022-08-18T18:04:18.319Z"
   },
   {
    "duration": 0,
    "start_time": "2022-08-18T18:04:18.320Z"
   },
   {
    "duration": 0,
    "start_time": "2022-08-18T18:04:18.321Z"
   },
   {
    "duration": 8,
    "start_time": "2022-08-18T18:04:26.887Z"
   },
   {
    "duration": 3,
    "start_time": "2022-08-18T18:04:45.534Z"
   },
   {
    "duration": 522,
    "start_time": "2022-08-18T18:05:03.284Z"
   },
   {
    "duration": 2913,
    "start_time": "2022-08-18T18:05:03.808Z"
   },
   {
    "duration": 33,
    "start_time": "2022-08-18T18:05:06.723Z"
   },
   {
    "duration": 126,
    "start_time": "2022-08-18T18:05:06.758Z"
   },
   {
    "duration": 33,
    "start_time": "2022-08-18T18:05:06.887Z"
   },
   {
    "duration": 13,
    "start_time": "2022-08-18T18:05:06.923Z"
   },
   {
    "duration": 27,
    "start_time": "2022-08-18T18:05:06.937Z"
   },
   {
    "duration": 69,
    "start_time": "2022-08-18T18:05:06.966Z"
   },
   {
    "duration": 27,
    "start_time": "2022-08-18T18:05:07.036Z"
   },
   {
    "duration": 28,
    "start_time": "2022-08-18T18:05:07.064Z"
   },
   {
    "duration": 19,
    "start_time": "2022-08-18T18:05:07.093Z"
   },
   {
    "duration": 37,
    "start_time": "2022-08-18T18:05:07.114Z"
   },
   {
    "duration": 4,
    "start_time": "2022-08-18T18:05:07.153Z"
   },
   {
    "duration": 5,
    "start_time": "2022-08-18T18:05:07.159Z"
   },
   {
    "duration": 55,
    "start_time": "2022-08-18T18:05:07.165Z"
   },
   {
    "duration": 20,
    "start_time": "2022-08-18T18:05:07.221Z"
   },
   {
    "duration": 26,
    "start_time": "2022-08-18T18:05:07.242Z"
   },
   {
    "duration": 11,
    "start_time": "2022-08-18T18:05:07.269Z"
   },
   {
    "duration": 101,
    "start_time": "2022-08-18T18:05:07.306Z"
   },
   {
    "duration": 13,
    "start_time": "2022-08-18T18:05:07.409Z"
   },
   {
    "duration": 29,
    "start_time": "2022-08-18T18:05:07.423Z"
   },
   {
    "duration": 17,
    "start_time": "2022-08-18T18:05:07.453Z"
   },
   {
    "duration": 97,
    "start_time": "2022-08-18T18:05:07.472Z"
   },
   {
    "duration": 58,
    "start_time": "2022-08-18T18:05:07.571Z"
   },
   {
    "duration": 76,
    "start_time": "2022-08-18T18:05:07.631Z"
   },
   {
    "duration": 13,
    "start_time": "2022-08-18T18:05:07.708Z"
   },
   {
    "duration": 31,
    "start_time": "2022-08-18T18:05:07.723Z"
   },
   {
    "duration": 24,
    "start_time": "2022-08-18T18:05:07.756Z"
   },
   {
    "duration": 52,
    "start_time": "2022-08-18T18:05:07.781Z"
   },
   {
    "duration": 46,
    "start_time": "2022-08-18T18:05:07.835Z"
   },
   {
    "duration": 49,
    "start_time": "2022-08-18T18:05:07.882Z"
   },
   {
    "duration": 102,
    "start_time": "2022-08-18T18:05:07.933Z"
   },
   {
    "duration": 16,
    "start_time": "2022-08-18T18:05:08.036Z"
   },
   {
    "duration": 11,
    "start_time": "2022-08-18T18:05:08.054Z"
   },
   {
    "duration": 9,
    "start_time": "2022-08-18T18:05:08.067Z"
   },
   {
    "duration": 3,
    "start_time": "2022-08-18T18:06:01.435Z"
   },
   {
    "duration": 749,
    "start_time": "2022-08-18T18:06:01.439Z"
   },
   {
    "duration": 18,
    "start_time": "2022-08-18T18:06:02.189Z"
   },
   {
    "duration": 110,
    "start_time": "2022-08-18T18:06:02.209Z"
   },
   {
    "duration": 22,
    "start_time": "2022-08-18T18:06:02.321Z"
   },
   {
    "duration": 24,
    "start_time": "2022-08-18T18:06:02.345Z"
   },
   {
    "duration": 16,
    "start_time": "2022-08-18T18:06:02.371Z"
   },
   {
    "duration": 36,
    "start_time": "2022-08-18T18:06:02.388Z"
   },
   {
    "duration": 18,
    "start_time": "2022-08-18T18:06:02.425Z"
   },
   {
    "duration": 29,
    "start_time": "2022-08-18T18:06:02.444Z"
   },
   {
    "duration": 17,
    "start_time": "2022-08-18T18:06:02.475Z"
   },
   {
    "duration": 45,
    "start_time": "2022-08-18T18:06:02.493Z"
   },
   {
    "duration": 4,
    "start_time": "2022-08-18T18:06:02.540Z"
   },
   {
    "duration": 3,
    "start_time": "2022-08-18T18:06:02.547Z"
   },
   {
    "duration": 30,
    "start_time": "2022-08-18T18:06:02.551Z"
   },
   {
    "duration": 39,
    "start_time": "2022-08-18T18:06:02.582Z"
   },
   {
    "duration": 26,
    "start_time": "2022-08-18T18:06:02.622Z"
   },
   {
    "duration": 12,
    "start_time": "2022-08-18T18:06:02.650Z"
   },
   {
    "duration": 90,
    "start_time": "2022-08-18T18:06:02.664Z"
   },
   {
    "duration": 10,
    "start_time": "2022-08-18T18:06:02.756Z"
   },
   {
    "duration": 43,
    "start_time": "2022-08-18T18:06:02.767Z"
   },
   {
    "duration": 16,
    "start_time": "2022-08-18T18:06:02.812Z"
   },
   {
    "duration": 83,
    "start_time": "2022-08-18T18:06:02.829Z"
   },
   {
    "duration": 42,
    "start_time": "2022-08-18T18:06:02.913Z"
   },
   {
    "duration": 77,
    "start_time": "2022-08-18T18:06:02.956Z"
   },
   {
    "duration": 12,
    "start_time": "2022-08-18T18:06:03.035Z"
   },
   {
    "duration": 26,
    "start_time": "2022-08-18T18:06:03.048Z"
   },
   {
    "duration": 40,
    "start_time": "2022-08-18T18:06:03.076Z"
   },
   {
    "duration": 25,
    "start_time": "2022-08-18T18:06:03.118Z"
   },
   {
    "duration": 28,
    "start_time": "2022-08-18T18:06:03.144Z"
   },
   {
    "duration": 36,
    "start_time": "2022-08-18T18:06:03.173Z"
   },
   {
    "duration": 61,
    "start_time": "2022-08-18T18:06:03.210Z"
   },
   {
    "duration": 12,
    "start_time": "2022-08-18T18:06:03.273Z"
   },
   {
    "duration": 25,
    "start_time": "2022-08-18T18:06:03.286Z"
   },
   {
    "duration": 6,
    "start_time": "2022-08-18T18:06:03.313Z"
   },
   {
    "duration": 2,
    "start_time": "2022-08-18T18:07:05.443Z"
   },
   {
    "duration": 717,
    "start_time": "2022-08-18T18:07:05.447Z"
   },
   {
    "duration": 16,
    "start_time": "2022-08-18T18:07:06.167Z"
   },
   {
    "duration": 125,
    "start_time": "2022-08-18T18:07:06.185Z"
   },
   {
    "duration": 22,
    "start_time": "2022-08-18T18:07:06.312Z"
   },
   {
    "duration": 12,
    "start_time": "2022-08-18T18:07:06.336Z"
   },
   {
    "duration": 21,
    "start_time": "2022-08-18T18:07:06.350Z"
   },
   {
    "duration": 41,
    "start_time": "2022-08-18T18:07:06.373Z"
   },
   {
    "duration": 18,
    "start_time": "2022-08-18T18:07:06.415Z"
   },
   {
    "duration": 26,
    "start_time": "2022-08-18T18:07:06.435Z"
   },
   {
    "duration": 9,
    "start_time": "2022-08-18T18:07:06.462Z"
   },
   {
    "duration": 60,
    "start_time": "2022-08-18T18:07:06.473Z"
   },
   {
    "duration": 5,
    "start_time": "2022-08-18T18:07:06.534Z"
   },
   {
    "duration": 3,
    "start_time": "2022-08-18T18:07:06.543Z"
   },
   {
    "duration": 32,
    "start_time": "2022-08-18T18:07:06.548Z"
   },
   {
    "duration": 40,
    "start_time": "2022-08-18T18:07:06.581Z"
   },
   {
    "duration": 26,
    "start_time": "2022-08-18T18:07:06.623Z"
   },
   {
    "duration": 10,
    "start_time": "2022-08-18T18:07:06.650Z"
   },
   {
    "duration": 95,
    "start_time": "2022-08-18T18:07:06.661Z"
   },
   {
    "duration": 10,
    "start_time": "2022-08-18T18:07:06.757Z"
   },
   {
    "duration": 40,
    "start_time": "2022-08-18T18:07:06.769Z"
   },
   {
    "duration": 15,
    "start_time": "2022-08-18T18:07:06.811Z"
   },
   {
    "duration": 84,
    "start_time": "2022-08-18T18:07:06.828Z"
   },
   {
    "duration": 35,
    "start_time": "2022-08-18T18:07:06.914Z"
   },
   {
    "duration": 74,
    "start_time": "2022-08-18T18:07:06.950Z"
   },
   {
    "duration": 12,
    "start_time": "2022-08-18T18:07:07.026Z"
   },
   {
    "duration": 28,
    "start_time": "2022-08-18T18:07:07.040Z"
   },
   {
    "duration": 43,
    "start_time": "2022-08-18T18:07:07.069Z"
   },
   {
    "duration": 26,
    "start_time": "2022-08-18T18:07:07.114Z"
   },
   {
    "duration": 26,
    "start_time": "2022-08-18T18:07:07.142Z"
   },
   {
    "duration": 38,
    "start_time": "2022-08-18T18:07:07.170Z"
   },
   {
    "duration": 61,
    "start_time": "2022-08-18T18:07:07.210Z"
   },
   {
    "duration": 14,
    "start_time": "2022-08-18T18:07:07.272Z"
   },
   {
    "duration": 26,
    "start_time": "2022-08-18T18:07:07.288Z"
   },
   {
    "duration": 7,
    "start_time": "2022-08-18T18:07:07.315Z"
   },
   {
    "duration": 2,
    "start_time": "2022-08-18T18:13:42.871Z"
   },
   {
    "duration": 679,
    "start_time": "2022-08-18T18:13:42.875Z"
   },
   {
    "duration": 18,
    "start_time": "2022-08-18T18:13:43.555Z"
   },
   {
    "duration": 116,
    "start_time": "2022-08-18T18:13:43.574Z"
   },
   {
    "duration": 23,
    "start_time": "2022-08-18T18:13:43.692Z"
   },
   {
    "duration": 25,
    "start_time": "2022-08-18T18:13:43.717Z"
   },
   {
    "duration": 20,
    "start_time": "2022-08-18T18:13:43.744Z"
   },
   {
    "duration": 39,
    "start_time": "2022-08-18T18:13:43.765Z"
   },
   {
    "duration": 35,
    "start_time": "2022-08-18T18:13:43.805Z"
   },
   {
    "duration": 38,
    "start_time": "2022-08-18T18:13:43.842Z"
   },
   {
    "duration": 29,
    "start_time": "2022-08-18T18:13:43.881Z"
   },
   {
    "duration": 38,
    "start_time": "2022-08-18T18:13:43.912Z"
   },
   {
    "duration": 3,
    "start_time": "2022-08-18T18:13:43.953Z"
   },
   {
    "duration": 10,
    "start_time": "2022-08-18T18:13:43.958Z"
   },
   {
    "duration": 39,
    "start_time": "2022-08-18T18:13:43.970Z"
   },
   {
    "duration": 36,
    "start_time": "2022-08-18T18:13:44.011Z"
   },
   {
    "duration": 33,
    "start_time": "2022-08-18T18:13:44.049Z"
   },
   {
    "duration": 21,
    "start_time": "2022-08-18T18:13:44.084Z"
   },
   {
    "duration": 65,
    "start_time": "2022-08-18T18:13:44.107Z"
   },
   {
    "duration": 9,
    "start_time": "2022-08-18T18:13:44.174Z"
   },
   {
    "duration": 45,
    "start_time": "2022-08-18T18:13:44.184Z"
   },
   {
    "duration": 25,
    "start_time": "2022-08-18T18:13:44.231Z"
   },
   {
    "duration": 84,
    "start_time": "2022-08-18T18:13:44.257Z"
   },
   {
    "duration": 21,
    "start_time": "2022-08-18T18:13:44.343Z"
   },
   {
    "duration": 65,
    "start_time": "2022-08-18T18:13:44.366Z"
   },
   {
    "duration": 12,
    "start_time": "2022-08-18T18:13:44.433Z"
   },
   {
    "duration": 27,
    "start_time": "2022-08-18T18:13:44.446Z"
   },
   {
    "duration": 24,
    "start_time": "2022-08-18T18:13:44.474Z"
   },
   {
    "duration": 31,
    "start_time": "2022-08-18T18:13:44.499Z"
   },
   {
    "duration": 41,
    "start_time": "2022-08-18T18:13:44.532Z"
   },
   {
    "duration": 38,
    "start_time": "2022-08-18T18:13:44.574Z"
   },
   {
    "duration": 58,
    "start_time": "2022-08-18T18:13:44.614Z"
   },
   {
    "duration": 24,
    "start_time": "2022-08-18T18:13:44.674Z"
   },
   {
    "duration": 24,
    "start_time": "2022-08-18T18:13:44.700Z"
   },
   {
    "duration": 20,
    "start_time": "2022-08-18T18:13:44.726Z"
   },
   {
    "duration": 5,
    "start_time": "2022-08-18T18:14:21.533Z"
   },
   {
    "duration": 7,
    "start_time": "2022-08-18T18:14:43.868Z"
   },
   {
    "duration": 2,
    "start_time": "2022-08-18T18:15:07.342Z"
   },
   {
    "duration": 676,
    "start_time": "2022-08-18T18:15:07.346Z"
   },
   {
    "duration": 13,
    "start_time": "2022-08-18T18:15:08.023Z"
   },
   {
    "duration": 112,
    "start_time": "2022-08-18T18:15:08.038Z"
   },
   {
    "duration": 27,
    "start_time": "2022-08-18T18:15:08.152Z"
   },
   {
    "duration": 30,
    "start_time": "2022-08-18T18:15:08.181Z"
   },
   {
    "duration": 32,
    "start_time": "2022-08-18T18:15:08.213Z"
   },
   {
    "duration": 30,
    "start_time": "2022-08-18T18:15:08.246Z"
   },
   {
    "duration": 38,
    "start_time": "2022-08-18T18:15:08.277Z"
   },
   {
    "duration": 27,
    "start_time": "2022-08-18T18:15:08.317Z"
   },
   {
    "duration": 26,
    "start_time": "2022-08-18T18:15:08.345Z"
   },
   {
    "duration": 30,
    "start_time": "2022-08-18T18:15:08.372Z"
   },
   {
    "duration": 3,
    "start_time": "2022-08-18T18:15:08.405Z"
   },
   {
    "duration": 13,
    "start_time": "2022-08-18T18:15:08.410Z"
   },
   {
    "duration": 34,
    "start_time": "2022-08-18T18:15:08.424Z"
   },
   {
    "duration": 21,
    "start_time": "2022-08-18T18:15:08.460Z"
   },
   {
    "duration": 36,
    "start_time": "2022-08-18T18:15:08.483Z"
   },
   {
    "duration": 29,
    "start_time": "2022-08-18T18:15:08.521Z"
   },
   {
    "duration": 73,
    "start_time": "2022-08-18T18:15:08.551Z"
   },
   {
    "duration": 9,
    "start_time": "2022-08-18T18:15:08.626Z"
   },
   {
    "duration": 45,
    "start_time": "2022-08-18T18:15:08.636Z"
   },
   {
    "duration": 25,
    "start_time": "2022-08-18T18:15:08.682Z"
   },
   {
    "duration": 87,
    "start_time": "2022-08-18T18:15:08.708Z"
   },
   {
    "duration": 42,
    "start_time": "2022-08-18T18:15:08.797Z"
   },
   {
    "duration": 46,
    "start_time": "2022-08-18T18:15:08.840Z"
   },
   {
    "duration": 26,
    "start_time": "2022-08-18T18:15:08.888Z"
   },
   {
    "duration": 78,
    "start_time": "2022-08-18T18:15:08.916Z"
   },
   {
    "duration": 14,
    "start_time": "2022-08-18T18:15:08.996Z"
   },
   {
    "duration": 39,
    "start_time": "2022-08-18T18:15:09.012Z"
   },
   {
    "duration": 39,
    "start_time": "2022-08-18T18:15:09.052Z"
   },
   {
    "duration": 43,
    "start_time": "2022-08-18T18:15:09.093Z"
   },
   {
    "duration": 40,
    "start_time": "2022-08-18T18:15:09.137Z"
   },
   {
    "duration": 40,
    "start_time": "2022-08-18T18:15:09.179Z"
   },
   {
    "duration": 66,
    "start_time": "2022-08-18T18:15:09.220Z"
   },
   {
    "duration": 25,
    "start_time": "2022-08-18T18:15:09.288Z"
   },
   {
    "duration": 19,
    "start_time": "2022-08-18T18:15:09.315Z"
   },
   {
    "duration": 23,
    "start_time": "2022-08-18T18:15:09.335Z"
   },
   {
    "duration": 8,
    "start_time": "2022-08-18T18:15:27.397Z"
   },
   {
    "duration": 3,
    "start_time": "2022-08-18T18:15:28.985Z"
   },
   {
    "duration": 9,
    "start_time": "2022-08-18T18:15:29.456Z"
   },
   {
    "duration": 2,
    "start_time": "2022-08-18T18:15:37.150Z"
   },
   {
    "duration": 664,
    "start_time": "2022-08-18T18:15:37.154Z"
   },
   {
    "duration": 14,
    "start_time": "2022-08-18T18:15:37.819Z"
   },
   {
    "duration": 106,
    "start_time": "2022-08-18T18:15:37.834Z"
   },
   {
    "duration": 19,
    "start_time": "2022-08-18T18:15:37.943Z"
   },
   {
    "duration": 13,
    "start_time": "2022-08-18T18:15:37.963Z"
   },
   {
    "duration": 34,
    "start_time": "2022-08-18T18:15:37.977Z"
   },
   {
    "duration": 34,
    "start_time": "2022-08-18T18:15:38.012Z"
   },
   {
    "duration": 21,
    "start_time": "2022-08-18T18:15:38.048Z"
   },
   {
    "duration": 43,
    "start_time": "2022-08-18T18:15:38.070Z"
   },
   {
    "duration": 10,
    "start_time": "2022-08-18T18:15:38.115Z"
   },
   {
    "duration": 31,
    "start_time": "2022-08-18T18:15:38.126Z"
   },
   {
    "duration": 4,
    "start_time": "2022-08-18T18:15:38.158Z"
   },
   {
    "duration": 3,
    "start_time": "2022-08-18T18:15:38.164Z"
   },
   {
    "duration": 59,
    "start_time": "2022-08-18T18:15:38.168Z"
   },
   {
    "duration": 17,
    "start_time": "2022-08-18T18:15:38.228Z"
   },
   {
    "duration": 26,
    "start_time": "2022-08-18T18:15:38.247Z"
   },
   {
    "duration": 12,
    "start_time": "2022-08-18T18:15:38.275Z"
   },
   {
    "duration": 64,
    "start_time": "2022-08-18T18:15:38.305Z"
   },
   {
    "duration": 10,
    "start_time": "2022-08-18T18:15:38.370Z"
   },
   {
    "duration": 43,
    "start_time": "2022-08-18T18:15:38.381Z"
   },
   {
    "duration": 14,
    "start_time": "2022-08-18T18:15:38.425Z"
   },
   {
    "duration": 89,
    "start_time": "2022-08-18T18:15:38.441Z"
   },
   {
    "duration": 27,
    "start_time": "2022-08-18T18:15:38.532Z"
   },
   {
    "duration": 22,
    "start_time": "2022-08-18T18:15:38.561Z"
   },
   {
    "duration": 22,
    "start_time": "2022-08-18T18:15:38.585Z"
   },
   {
    "duration": 60,
    "start_time": "2022-08-18T18:15:38.608Z"
   },
   {
    "duration": 5,
    "start_time": "2022-08-18T18:15:38.670Z"
   },
   {
    "duration": 27,
    "start_time": "2022-08-18T18:15:38.706Z"
   },
   {
    "duration": 17,
    "start_time": "2022-08-18T18:15:38.735Z"
   },
   {
    "duration": 27,
    "start_time": "2022-08-18T18:15:38.754Z"
   },
   {
    "duration": 47,
    "start_time": "2022-08-18T18:15:38.783Z"
   },
   {
    "duration": 19,
    "start_time": "2022-08-18T18:15:38.832Z"
   },
   {
    "duration": 70,
    "start_time": "2022-08-18T18:15:38.853Z"
   },
   {
    "duration": 11,
    "start_time": "2022-08-18T18:15:38.925Z"
   },
   {
    "duration": 9,
    "start_time": "2022-08-18T18:15:38.937Z"
   },
   {
    "duration": 12,
    "start_time": "2022-08-18T18:15:38.947Z"
   },
   {
    "duration": 3,
    "start_time": "2022-08-18T18:17:15.358Z"
   },
   {
    "duration": 2,
    "start_time": "2022-08-18T18:17:19.558Z"
   },
   {
    "duration": 728,
    "start_time": "2022-08-18T18:17:19.562Z"
   },
   {
    "duration": 16,
    "start_time": "2022-08-18T18:17:20.291Z"
   },
   {
    "duration": 117,
    "start_time": "2022-08-18T18:17:20.309Z"
   },
   {
    "duration": 20,
    "start_time": "2022-08-18T18:17:20.429Z"
   },
   {
    "duration": 21,
    "start_time": "2022-08-18T18:17:20.451Z"
   },
   {
    "duration": 21,
    "start_time": "2022-08-18T18:17:20.473Z"
   },
   {
    "duration": 27,
    "start_time": "2022-08-18T18:17:20.506Z"
   },
   {
    "duration": 23,
    "start_time": "2022-08-18T18:17:20.534Z"
   },
   {
    "duration": 27,
    "start_time": "2022-08-18T18:17:20.559Z"
   },
   {
    "duration": 24,
    "start_time": "2022-08-18T18:17:20.588Z"
   },
   {
    "duration": 65,
    "start_time": "2022-08-18T18:17:20.614Z"
   },
   {
    "duration": 4,
    "start_time": "2022-08-18T18:17:20.681Z"
   },
   {
    "duration": 8,
    "start_time": "2022-08-18T18:17:20.705Z"
   },
   {
    "duration": 29,
    "start_time": "2022-08-18T18:17:20.714Z"
   },
   {
    "duration": 18,
    "start_time": "2022-08-18T18:17:20.744Z"
   },
   {
    "duration": 49,
    "start_time": "2022-08-18T18:17:20.764Z"
   },
   {
    "duration": 21,
    "start_time": "2022-08-18T18:17:20.815Z"
   },
   {
    "duration": 68,
    "start_time": "2022-08-18T18:17:20.838Z"
   },
   {
    "duration": 10,
    "start_time": "2022-08-18T18:17:20.907Z"
   },
   {
    "duration": 27,
    "start_time": "2022-08-18T18:17:20.918Z"
   },
   {
    "duration": 22,
    "start_time": "2022-08-18T18:17:20.947Z"
   },
   {
    "duration": 87,
    "start_time": "2022-08-18T18:17:20.971Z"
   },
   {
    "duration": 28,
    "start_time": "2022-08-18T18:17:21.060Z"
   },
   {
    "duration": 44,
    "start_time": "2022-08-18T18:17:21.090Z"
   },
   {
    "duration": 28,
    "start_time": "2022-08-18T18:17:21.136Z"
   },
   {
    "duration": 86,
    "start_time": "2022-08-18T18:17:21.165Z"
   },
   {
    "duration": 13,
    "start_time": "2022-08-18T18:17:21.253Z"
   },
   {
    "duration": 42,
    "start_time": "2022-08-18T18:17:21.268Z"
   },
   {
    "duration": 24,
    "start_time": "2022-08-18T18:17:21.312Z"
   },
   {
    "duration": 29,
    "start_time": "2022-08-18T18:17:21.338Z"
   },
   {
    "duration": 42,
    "start_time": "2022-08-18T18:17:21.369Z"
   },
   {
    "duration": 22,
    "start_time": "2022-08-18T18:17:21.412Z"
   },
   {
    "duration": 78,
    "start_time": "2022-08-18T18:17:21.436Z"
   },
   {
    "duration": 12,
    "start_time": "2022-08-18T18:17:21.516Z"
   },
   {
    "duration": 17,
    "start_time": "2022-08-18T18:17:21.530Z"
   },
   {
    "duration": 7,
    "start_time": "2022-08-18T18:17:21.549Z"
   },
   {
    "duration": 3,
    "start_time": "2022-08-18T18:18:49.368Z"
   },
   {
    "duration": 678,
    "start_time": "2022-08-18T18:18:49.372Z"
   },
   {
    "duration": 13,
    "start_time": "2022-08-18T18:18:50.052Z"
   },
   {
    "duration": 113,
    "start_time": "2022-08-18T18:18:50.066Z"
   },
   {
    "duration": 25,
    "start_time": "2022-08-18T18:18:50.181Z"
   },
   {
    "duration": 12,
    "start_time": "2022-08-18T18:18:50.208Z"
   },
   {
    "duration": 24,
    "start_time": "2022-08-18T18:18:50.221Z"
   },
   {
    "duration": 29,
    "start_time": "2022-08-18T18:18:50.247Z"
   },
   {
    "duration": 28,
    "start_time": "2022-08-18T18:18:50.278Z"
   },
   {
    "duration": 27,
    "start_time": "2022-08-18T18:18:50.307Z"
   },
   {
    "duration": 14,
    "start_time": "2022-08-18T18:18:50.335Z"
   },
   {
    "duration": 35,
    "start_time": "2022-08-18T18:18:50.350Z"
   },
   {
    "duration": 4,
    "start_time": "2022-08-18T18:18:50.406Z"
   },
   {
    "duration": 7,
    "start_time": "2022-08-18T18:18:50.413Z"
   },
   {
    "duration": 38,
    "start_time": "2022-08-18T18:18:50.421Z"
   },
   {
    "duration": 19,
    "start_time": "2022-08-18T18:18:50.460Z"
   },
   {
    "duration": 37,
    "start_time": "2022-08-18T18:18:50.481Z"
   },
   {
    "duration": 10,
    "start_time": "2022-08-18T18:18:50.520Z"
   },
   {
    "duration": 81,
    "start_time": "2022-08-18T18:18:50.531Z"
   },
   {
    "duration": 10,
    "start_time": "2022-08-18T18:18:50.614Z"
   },
   {
    "duration": 27,
    "start_time": "2022-08-18T18:18:50.626Z"
   },
   {
    "duration": 15,
    "start_time": "2022-08-18T18:18:50.655Z"
   },
   {
    "duration": 84,
    "start_time": "2022-08-18T18:18:50.672Z"
   },
   {
    "duration": 27,
    "start_time": "2022-08-18T18:18:50.758Z"
   },
   {
    "duration": 230,
    "start_time": "2022-08-18T18:18:50.786Z"
   },
   {
    "duration": 32,
    "start_time": "2022-08-18T18:18:51.018Z"
   },
   {
    "duration": 80,
    "start_time": "2022-08-18T18:18:51.052Z"
   },
   {
    "duration": 18,
    "start_time": "2022-08-18T18:18:51.134Z"
   },
   {
    "duration": 27,
    "start_time": "2022-08-18T18:18:51.154Z"
   },
   {
    "duration": 33,
    "start_time": "2022-08-18T18:18:51.183Z"
   },
   {
    "duration": 32,
    "start_time": "2022-08-18T18:18:51.218Z"
   },
   {
    "duration": 32,
    "start_time": "2022-08-18T18:18:51.251Z"
   },
   {
    "duration": 28,
    "start_time": "2022-08-18T18:18:51.285Z"
   },
   {
    "duration": 68,
    "start_time": "2022-08-18T18:18:51.314Z"
   },
   {
    "duration": 24,
    "start_time": "2022-08-18T18:18:51.384Z"
   },
   {
    "duration": 23,
    "start_time": "2022-08-18T18:18:51.409Z"
   },
   {
    "duration": 12,
    "start_time": "2022-08-18T18:18:51.433Z"
   },
   {
    "duration": 34,
    "start_time": "2022-08-18T18:19:19.293Z"
   },
   {
    "duration": 71,
    "start_time": "2022-08-18T18:19:19.703Z"
   },
   {
    "duration": 62,
    "start_time": "2022-08-18T18:20:50.477Z"
   },
   {
    "duration": 44,
    "start_time": "2022-08-18T18:20:50.693Z"
   },
   {
    "duration": 61,
    "start_time": "2022-08-18T18:20:51.262Z"
   },
   {
    "duration": 2,
    "start_time": "2022-08-18T18:21:01.565Z"
   },
   {
    "duration": 702,
    "start_time": "2022-08-18T18:21:01.569Z"
   },
   {
    "duration": 14,
    "start_time": "2022-08-18T18:21:02.272Z"
   },
   {
    "duration": 137,
    "start_time": "2022-08-18T18:21:02.287Z"
   },
   {
    "duration": 14,
    "start_time": "2022-08-18T18:21:02.427Z"
   },
   {
    "duration": 12,
    "start_time": "2022-08-18T18:21:02.443Z"
   },
   {
    "duration": 15,
    "start_time": "2022-08-18T18:21:02.457Z"
   },
   {
    "duration": 49,
    "start_time": "2022-08-18T18:21:02.473Z"
   },
   {
    "duration": 17,
    "start_time": "2022-08-18T18:21:02.524Z"
   },
   {
    "duration": 29,
    "start_time": "2022-08-18T18:21:02.542Z"
   },
   {
    "duration": 37,
    "start_time": "2022-08-18T18:21:02.573Z"
   },
   {
    "duration": 24,
    "start_time": "2022-08-18T18:21:02.612Z"
   },
   {
    "duration": 4,
    "start_time": "2022-08-18T18:21:02.639Z"
   },
   {
    "duration": 15,
    "start_time": "2022-08-18T18:21:02.645Z"
   },
   {
    "duration": 55,
    "start_time": "2022-08-18T18:21:02.661Z"
   },
   {
    "duration": 26,
    "start_time": "2022-08-18T18:21:02.718Z"
   },
   {
    "duration": 28,
    "start_time": "2022-08-18T18:21:02.746Z"
   },
   {
    "duration": 9,
    "start_time": "2022-08-18T18:21:02.776Z"
   },
   {
    "duration": 75,
    "start_time": "2022-08-18T18:21:02.787Z"
   },
   {
    "duration": 11,
    "start_time": "2022-08-18T18:21:02.864Z"
   },
   {
    "duration": 47,
    "start_time": "2022-08-18T18:21:02.877Z"
   },
   {
    "duration": 14,
    "start_time": "2022-08-18T18:21:02.926Z"
   },
   {
    "duration": 97,
    "start_time": "2022-08-18T18:21:02.941Z"
   },
   {
    "duration": 35,
    "start_time": "2022-08-18T18:21:03.040Z"
   },
   {
    "duration": 76,
    "start_time": "2022-08-18T18:21:03.077Z"
   },
   {
    "duration": 13,
    "start_time": "2022-08-18T18:21:03.155Z"
   },
   {
    "duration": 47,
    "start_time": "2022-08-18T18:21:03.170Z"
   },
   {
    "duration": 26,
    "start_time": "2022-08-18T18:21:03.219Z"
   },
   {
    "duration": 32,
    "start_time": "2022-08-18T18:21:03.247Z"
   },
   {
    "duration": 37,
    "start_time": "2022-08-18T18:21:03.280Z"
   },
   {
    "duration": 31,
    "start_time": "2022-08-18T18:21:03.319Z"
   },
   {
    "duration": 74,
    "start_time": "2022-08-18T18:21:03.352Z"
   },
   {
    "duration": 12,
    "start_time": "2022-08-18T18:21:03.427Z"
   },
   {
    "duration": 23,
    "start_time": "2022-08-18T18:21:03.441Z"
   },
   {
    "duration": 14,
    "start_time": "2022-08-18T18:21:03.465Z"
   },
   {
    "duration": 64,
    "start_time": "2022-08-18T18:23:21.121Z"
   },
   {
    "duration": 3,
    "start_time": "2022-08-18T18:23:51.442Z"
   },
   {
    "duration": 716,
    "start_time": "2022-08-18T18:23:51.447Z"
   },
   {
    "duration": 15,
    "start_time": "2022-08-18T18:23:52.165Z"
   },
   {
    "duration": 126,
    "start_time": "2022-08-18T18:23:52.182Z"
   },
   {
    "duration": 22,
    "start_time": "2022-08-18T18:23:52.311Z"
   },
   {
    "duration": 14,
    "start_time": "2022-08-18T18:23:52.335Z"
   },
   {
    "duration": 91,
    "start_time": "2022-08-18T18:23:52.351Z"
   },
   {
    "duration": 15,
    "start_time": "2022-08-18T18:23:52.443Z"
   },
   {
    "duration": 52,
    "start_time": "2022-08-18T18:23:52.460Z"
   },
   {
    "duration": 20,
    "start_time": "2022-08-18T18:23:52.514Z"
   },
   {
    "duration": 31,
    "start_time": "2022-08-18T18:23:52.536Z"
   },
   {
    "duration": 10,
    "start_time": "2022-08-18T18:23:52.568Z"
   },
   {
    "duration": 32,
    "start_time": "2022-08-18T18:23:52.606Z"
   },
   {
    "duration": 4,
    "start_time": "2022-08-18T18:23:52.640Z"
   },
   {
    "duration": 5,
    "start_time": "2022-08-18T18:23:52.645Z"
   },
   {
    "duration": 29,
    "start_time": "2022-08-18T18:23:52.652Z"
   },
   {
    "duration": 38,
    "start_time": "2022-08-18T18:23:52.682Z"
   },
   {
    "duration": 26,
    "start_time": "2022-08-18T18:23:52.722Z"
   },
   {
    "duration": 9,
    "start_time": "2022-08-18T18:23:52.749Z"
   },
   {
    "duration": 99,
    "start_time": "2022-08-18T18:23:52.760Z"
   },
   {
    "duration": 11,
    "start_time": "2022-08-18T18:23:52.860Z"
   },
   {
    "duration": 38,
    "start_time": "2022-08-18T18:23:52.872Z"
   },
   {
    "duration": 17,
    "start_time": "2022-08-18T18:23:52.911Z"
   },
   {
    "duration": 26,
    "start_time": "2022-08-18T18:23:52.930Z"
   },
   {
    "duration": 52,
    "start_time": "2022-08-18T18:23:52.958Z"
   },
   {
    "duration": 18,
    "start_time": "2022-08-18T18:23:53.012Z"
   },
   {
    "duration": 84,
    "start_time": "2022-08-18T18:23:53.032Z"
   },
   {
    "duration": 13,
    "start_time": "2022-08-18T18:23:53.118Z"
   },
   {
    "duration": 16,
    "start_time": "2022-08-18T18:23:53.132Z"
   },
   {
    "duration": 7,
    "start_time": "2022-08-18T18:23:53.149Z"
   },
   {
    "duration": 67,
    "start_time": "2022-08-18T18:35:41.437Z"
   },
   {
    "duration": 2,
    "start_time": "2022-08-18T18:35:46.634Z"
   },
   {
    "duration": 686,
    "start_time": "2022-08-18T18:35:46.638Z"
   },
   {
    "duration": 14,
    "start_time": "2022-08-18T18:35:47.326Z"
   },
   {
    "duration": 123,
    "start_time": "2022-08-18T18:35:47.342Z"
   },
   {
    "duration": 21,
    "start_time": "2022-08-18T18:35:47.467Z"
   },
   {
    "duration": 24,
    "start_time": "2022-08-18T18:35:47.490Z"
   },
   {
    "duration": 69,
    "start_time": "2022-08-18T18:35:47.516Z"
   },
   {
    "duration": 14,
    "start_time": "2022-08-18T18:35:47.605Z"
   },
   {
    "duration": 3,
    "start_time": "2022-08-18T18:36:00.067Z"
   },
   {
    "duration": 684,
    "start_time": "2022-08-18T18:36:00.263Z"
   },
   {
    "duration": 15,
    "start_time": "2022-08-18T18:36:00.950Z"
   },
   {
    "duration": 114,
    "start_time": "2022-08-18T18:36:00.966Z"
   },
   {
    "duration": 26,
    "start_time": "2022-08-18T18:36:01.463Z"
   },
   {
    "duration": 16,
    "start_time": "2022-08-18T18:36:01.689Z"
   },
   {
    "duration": 81,
    "start_time": "2022-08-18T18:36:02.225Z"
   },
   {
    "duration": 13,
    "start_time": "2022-08-18T18:36:03.747Z"
   },
   {
    "duration": 63,
    "start_time": "2022-08-18T18:36:04.457Z"
   },
   {
    "duration": 70,
    "start_time": "2022-08-18T18:36:41.194Z"
   },
   {
    "duration": 11,
    "start_time": "2022-08-18T18:38:08.243Z"
   },
   {
    "duration": 22,
    "start_time": "2022-08-18T18:53:34.445Z"
   },
   {
    "duration": 8,
    "start_time": "2022-08-18T18:53:38.472Z"
   },
   {
    "duration": 9,
    "start_time": "2022-08-18T18:54:14.562Z"
   },
   {
    "duration": 14,
    "start_time": "2022-08-18T18:59:48.188Z"
   },
   {
    "duration": 515,
    "start_time": "2022-08-18T18:59:57.988Z"
   },
   {
    "duration": 13,
    "start_time": "2022-08-18T19:00:05.528Z"
   },
   {
    "duration": 13,
    "start_time": "2022-08-18T19:00:44.482Z"
   },
   {
    "duration": 4,
    "start_time": "2022-08-18T19:00:54.072Z"
   },
   {
    "duration": 13,
    "start_time": "2022-08-18T19:00:58.844Z"
   },
   {
    "duration": 4,
    "start_time": "2022-08-18T19:01:20.648Z"
   },
   {
    "duration": 15,
    "start_time": "2022-08-18T19:01:31.068Z"
   },
   {
    "duration": 4,
    "start_time": "2022-08-18T19:01:56.582Z"
   },
   {
    "duration": 4,
    "start_time": "2022-08-18T19:02:12.684Z"
   },
   {
    "duration": 2,
    "start_time": "2022-08-18T19:05:59.433Z"
   },
   {
    "duration": 720,
    "start_time": "2022-08-18T19:05:59.437Z"
   },
   {
    "duration": 13,
    "start_time": "2022-08-18T19:06:00.158Z"
   },
   {
    "duration": 108,
    "start_time": "2022-08-18T19:06:00.172Z"
   },
   {
    "duration": 27,
    "start_time": "2022-08-18T19:06:00.282Z"
   },
   {
    "duration": 10,
    "start_time": "2022-08-18T19:06:00.310Z"
   },
   {
    "duration": 85,
    "start_time": "2022-08-18T19:06:00.321Z"
   },
   {
    "duration": 63,
    "start_time": "2022-08-18T19:06:00.407Z"
   },
   {
    "duration": 10,
    "start_time": "2022-08-18T19:06:00.471Z"
   },
   {
    "duration": 46,
    "start_time": "2022-08-18T19:06:00.482Z"
   },
   {
    "duration": 8,
    "start_time": "2022-08-18T19:06:00.529Z"
   },
   {
    "duration": 23,
    "start_time": "2022-08-18T19:06:00.539Z"
   },
   {
    "duration": 18,
    "start_time": "2022-08-18T19:06:00.564Z"
   },
   {
    "duration": 41,
    "start_time": "2022-08-18T19:06:00.585Z"
   },
   {
    "duration": 11,
    "start_time": "2022-08-18T19:06:00.628Z"
   },
   {
    "duration": 38,
    "start_time": "2022-08-18T19:06:00.641Z"
   },
   {
    "duration": 4,
    "start_time": "2022-08-18T19:06:00.681Z"
   },
   {
    "duration": 5,
    "start_time": "2022-08-18T19:06:13.988Z"
   },
   {
    "duration": 28,
    "start_time": "2022-08-18T19:06:15.791Z"
   },
   {
    "duration": 16,
    "start_time": "2022-08-18T19:06:27.584Z"
   },
   {
    "duration": 36,
    "start_time": "2022-08-18T19:06:28.905Z"
   },
   {
    "duration": 8,
    "start_time": "2022-08-18T19:06:34.956Z"
   },
   {
    "duration": 59,
    "start_time": "2022-08-18T19:06:45.324Z"
   },
   {
    "duration": 11,
    "start_time": "2022-08-18T19:06:46.191Z"
   },
   {
    "duration": 28,
    "start_time": "2022-08-18T19:13:41.740Z"
   },
   {
    "duration": 65,
    "start_time": "2022-08-18T19:14:17.137Z"
   },
   {
    "duration": 59,
    "start_time": "2022-08-18T19:16:01.440Z"
   },
   {
    "duration": 28,
    "start_time": "2022-08-18T19:16:06.644Z"
   },
   {
    "duration": 80,
    "start_time": "2022-08-18T19:16:16.044Z"
   },
   {
    "duration": 7,
    "start_time": "2022-08-18T19:17:30.187Z"
   },
   {
    "duration": 7,
    "start_time": "2022-08-18T19:23:46.291Z"
   },
   {
    "duration": 3,
    "start_time": "2022-08-18T19:28:04.085Z"
   },
   {
    "duration": 767,
    "start_time": "2022-08-18T19:28:04.090Z"
   },
   {
    "duration": 12,
    "start_time": "2022-08-18T19:28:04.859Z"
   },
   {
    "duration": 135,
    "start_time": "2022-08-18T19:28:04.873Z"
   },
   {
    "duration": 15,
    "start_time": "2022-08-18T19:28:05.010Z"
   },
   {
    "duration": 14,
    "start_time": "2022-08-18T19:28:05.026Z"
   },
   {
    "duration": 83,
    "start_time": "2022-08-18T19:28:05.042Z"
   },
   {
    "duration": 65,
    "start_time": "2022-08-18T19:28:05.126Z"
   },
   {
    "duration": 7,
    "start_time": "2022-08-18T19:28:05.206Z"
   },
   {
    "duration": 21,
    "start_time": "2022-08-18T19:28:05.215Z"
   },
   {
    "duration": 8,
    "start_time": "2022-08-18T19:28:05.238Z"
   },
   {
    "duration": 13,
    "start_time": "2022-08-18T19:28:05.248Z"
   },
   {
    "duration": 50,
    "start_time": "2022-08-18T19:28:05.262Z"
   },
   {
    "duration": 26,
    "start_time": "2022-08-18T19:28:05.315Z"
   },
   {
    "duration": 16,
    "start_time": "2022-08-18T19:28:05.343Z"
   },
   {
    "duration": 29,
    "start_time": "2022-08-18T19:28:05.360Z"
   },
   {
    "duration": 19,
    "start_time": "2022-08-18T19:28:05.390Z"
   },
   {
    "duration": 8,
    "start_time": "2022-08-18T19:28:05.410Z"
   },
   {
    "duration": 28,
    "start_time": "2022-08-18T19:28:05.419Z"
   },
   {
    "duration": 23,
    "start_time": "2022-08-18T19:28:05.448Z"
   },
   {
    "duration": 41,
    "start_time": "2022-08-18T19:28:05.473Z"
   },
   {
    "duration": 11,
    "start_time": "2022-08-18T19:28:05.516Z"
   },
   {
    "duration": 78,
    "start_time": "2022-08-18T19:28:05.528Z"
   },
   {
    "duration": 10,
    "start_time": "2022-08-18T19:28:05.607Z"
   },
   {
    "duration": 28,
    "start_time": "2022-08-18T19:28:05.619Z"
   },
   {
    "duration": 34,
    "start_time": "2022-08-18T19:28:05.648Z"
   },
   {
    "duration": 76,
    "start_time": "2022-08-18T19:28:05.684Z"
   },
   {
    "duration": 6,
    "start_time": "2022-08-18T19:28:05.762Z"
   },
   {
    "duration": 1159,
    "start_time": "2022-08-18T19:28:05.770Z"
   },
   {
    "duration": 0,
    "start_time": "2022-08-18T19:28:06.931Z"
   },
   {
    "duration": 0,
    "start_time": "2022-08-18T19:28:06.932Z"
   },
   {
    "duration": 0,
    "start_time": "2022-08-18T19:28:06.933Z"
   },
   {
    "duration": 0,
    "start_time": "2022-08-18T19:28:06.935Z"
   },
   {
    "duration": 0,
    "start_time": "2022-08-18T19:28:06.936Z"
   },
   {
    "duration": 0,
    "start_time": "2022-08-18T19:28:06.937Z"
   },
   {
    "duration": 0,
    "start_time": "2022-08-18T19:28:06.938Z"
   },
   {
    "duration": 26,
    "start_time": "2022-08-18T19:28:28.840Z"
   },
   {
    "duration": 16,
    "start_time": "2022-08-18T19:35:56.729Z"
   },
   {
    "duration": 26,
    "start_time": "2022-08-18T19:35:59.059Z"
   },
   {
    "duration": 2,
    "start_time": "2022-08-18T19:36:10.584Z"
   },
   {
    "duration": 671,
    "start_time": "2022-08-18T19:36:10.589Z"
   },
   {
    "duration": 15,
    "start_time": "2022-08-18T19:36:11.261Z"
   },
   {
    "duration": 115,
    "start_time": "2022-08-18T19:36:11.278Z"
   },
   {
    "duration": 21,
    "start_time": "2022-08-18T19:36:11.394Z"
   },
   {
    "duration": 12,
    "start_time": "2022-08-18T19:36:11.417Z"
   },
   {
    "duration": 88,
    "start_time": "2022-08-18T19:36:11.431Z"
   },
   {
    "duration": 61,
    "start_time": "2022-08-18T19:36:11.520Z"
   },
   {
    "duration": 33,
    "start_time": "2022-08-18T19:36:11.583Z"
   },
   {
    "duration": 21,
    "start_time": "2022-08-18T19:36:11.617Z"
   },
   {
    "duration": 8,
    "start_time": "2022-08-18T19:36:11.639Z"
   },
   {
    "duration": 16,
    "start_time": "2022-08-18T19:36:11.648Z"
   },
   {
    "duration": 47,
    "start_time": "2022-08-18T19:36:11.665Z"
   },
   {
    "duration": 28,
    "start_time": "2022-08-18T19:36:11.714Z"
   },
   {
    "duration": 10,
    "start_time": "2022-08-18T19:36:11.744Z"
   },
   {
    "duration": 24,
    "start_time": "2022-08-18T19:36:11.756Z"
   },
   {
    "duration": 27,
    "start_time": "2022-08-18T19:36:11.781Z"
   },
   {
    "duration": 4,
    "start_time": "2022-08-18T19:36:11.810Z"
   },
   {
    "duration": 31,
    "start_time": "2022-08-18T19:36:11.816Z"
   },
   {
    "duration": 20,
    "start_time": "2022-08-18T19:36:11.849Z"
   },
   {
    "duration": 51,
    "start_time": "2022-08-18T19:36:11.870Z"
   },
   {
    "duration": 10,
    "start_time": "2022-08-18T19:36:11.923Z"
   },
   {
    "duration": 84,
    "start_time": "2022-08-18T19:36:11.935Z"
   },
   {
    "duration": 11,
    "start_time": "2022-08-18T19:36:12.022Z"
   },
   {
    "duration": 32,
    "start_time": "2022-08-18T19:36:12.034Z"
   },
   {
    "duration": 53,
    "start_time": "2022-08-18T19:36:12.068Z"
   },
   {
    "duration": 63,
    "start_time": "2022-08-18T19:36:12.123Z"
   },
   {
    "duration": 24,
    "start_time": "2022-08-18T19:36:12.188Z"
   },
   {
    "duration": 34,
    "start_time": "2022-08-18T19:36:12.214Z"
   },
   {
    "duration": 19,
    "start_time": "2022-08-18T19:36:12.250Z"
   },
   {
    "duration": 59,
    "start_time": "2022-08-18T19:36:12.271Z"
   },
   {
    "duration": 30,
    "start_time": "2022-08-18T19:36:12.332Z"
   },
   {
    "duration": 22,
    "start_time": "2022-08-18T19:36:12.364Z"
   },
   {
    "duration": 83,
    "start_time": "2022-08-18T19:36:12.388Z"
   },
   {
    "duration": 13,
    "start_time": "2022-08-18T19:36:12.472Z"
   },
   {
    "duration": 26,
    "start_time": "2022-08-18T19:36:12.487Z"
   },
   {
    "duration": 56,
    "start_time": "2022-08-18T19:41:58.440Z"
   },
   {
    "duration": 373,
    "start_time": "2022-08-19T17:29:35.128Z"
   },
   {
    "duration": 993,
    "start_time": "2022-08-19T17:29:35.503Z"
   },
   {
    "duration": 56,
    "start_time": "2022-08-19T20:09:59.743Z"
   },
   {
    "duration": 485,
    "start_time": "2022-08-19T20:10:02.905Z"
   },
   {
    "duration": 3241,
    "start_time": "2022-08-19T20:10:03.392Z"
   },
   {
    "duration": 31,
    "start_time": "2022-08-19T20:10:06.635Z"
   },
   {
    "duration": 176,
    "start_time": "2022-08-19T20:10:06.668Z"
   },
   {
    "duration": 45,
    "start_time": "2022-08-19T20:10:06.847Z"
   },
   {
    "duration": 15,
    "start_time": "2022-08-19T20:10:06.894Z"
   },
   {
    "duration": 122,
    "start_time": "2022-08-19T20:10:06.910Z"
   },
   {
    "duration": 87,
    "start_time": "2022-08-19T20:10:07.034Z"
   },
   {
    "duration": 13,
    "start_time": "2022-08-19T20:10:07.123Z"
   },
   {
    "duration": 53,
    "start_time": "2022-08-19T20:10:07.138Z"
   },
   {
    "duration": 14,
    "start_time": "2022-08-19T20:10:07.193Z"
   },
   {
    "duration": 15,
    "start_time": "2022-08-19T20:10:07.209Z"
   },
   {
    "duration": 56,
    "start_time": "2022-08-19T20:10:07.226Z"
   },
   {
    "duration": 30,
    "start_time": "2022-08-19T20:10:07.285Z"
   },
   {
    "duration": 11,
    "start_time": "2022-08-19T20:10:07.317Z"
   },
   {
    "duration": 51,
    "start_time": "2022-08-19T20:10:07.330Z"
   },
   {
    "duration": 5,
    "start_time": "2022-08-19T20:10:07.382Z"
   },
   {
    "duration": 10,
    "start_time": "2022-08-19T20:10:07.389Z"
   },
   {
    "duration": 32,
    "start_time": "2022-08-19T20:10:07.401Z"
   },
   {
    "duration": 48,
    "start_time": "2022-08-19T20:10:07.435Z"
   },
   {
    "duration": 33,
    "start_time": "2022-08-19T20:10:07.485Z"
   },
   {
    "duration": 11,
    "start_time": "2022-08-19T20:10:07.520Z"
   },
   {
    "duration": 92,
    "start_time": "2022-08-19T20:10:07.532Z"
   },
   {
    "duration": 13,
    "start_time": "2022-08-19T20:10:07.625Z"
   },
   {
    "duration": 50,
    "start_time": "2022-08-19T20:10:07.640Z"
   },
   {
    "duration": 48,
    "start_time": "2022-08-19T20:10:07.692Z"
   },
   {
    "duration": 88,
    "start_time": "2022-08-19T20:10:07.742Z"
   },
   {
    "duration": 8,
    "start_time": "2022-08-19T20:10:07.831Z"
   },
   {
    "duration": 57,
    "start_time": "2022-08-19T20:10:07.841Z"
   },
   {
    "duration": 22,
    "start_time": "2022-08-19T20:10:07.899Z"
   },
   {
    "duration": 50,
    "start_time": "2022-08-19T20:10:07.923Z"
   },
   {
    "duration": 35,
    "start_time": "2022-08-19T20:10:07.977Z"
   },
   {
    "duration": 25,
    "start_time": "2022-08-19T20:10:08.013Z"
   },
   {
    "duration": 83,
    "start_time": "2022-08-19T20:10:08.040Z"
   },
   {
    "duration": 84,
    "start_time": "2022-08-19T20:10:08.125Z"
   },
   {
    "duration": 13,
    "start_time": "2022-08-19T20:10:08.211Z"
   },
   {
    "duration": 11,
    "start_time": "2022-08-19T20:10:08.226Z"
   },
   {
    "duration": 167,
    "start_time": "2022-08-19T21:20:08.689Z"
   },
   {
    "duration": 168,
    "start_time": "2022-08-19T21:21:50.977Z"
   },
   {
    "duration": 185,
    "start_time": "2022-08-19T23:25:15.274Z"
   },
   {
    "duration": 144,
    "start_time": "2022-08-19T23:25:20.059Z"
   },
   {
    "duration": 172,
    "start_time": "2022-08-19T23:25:42.346Z"
   },
   {
    "duration": 132,
    "start_time": "2022-08-19T23:25:42.826Z"
   },
   {
    "duration": 388,
    "start_time": "2022-08-20T09:40:04.431Z"
   },
   {
    "duration": 966,
    "start_time": "2022-08-20T09:40:04.821Z"
   },
   {
    "duration": 20,
    "start_time": "2022-08-20T09:40:05.789Z"
   },
   {
    "duration": 114,
    "start_time": "2022-08-20T09:40:05.811Z"
   },
   {
    "duration": 22,
    "start_time": "2022-08-20T09:40:05.927Z"
   },
   {
    "duration": 12,
    "start_time": "2022-08-20T09:40:05.951Z"
   },
   {
    "duration": 95,
    "start_time": "2022-08-20T09:40:05.964Z"
   },
   {
    "duration": 79,
    "start_time": "2022-08-20T09:40:06.060Z"
   },
   {
    "duration": 11,
    "start_time": "2022-08-20T09:40:06.140Z"
   },
   {
    "duration": 31,
    "start_time": "2022-08-20T09:40:06.152Z"
   },
   {
    "duration": 31,
    "start_time": "2022-08-20T09:40:06.184Z"
   },
   {
    "duration": 15,
    "start_time": "2022-08-20T09:40:06.216Z"
   },
   {
    "duration": 20,
    "start_time": "2022-08-20T09:40:06.233Z"
   },
   {
    "duration": 56,
    "start_time": "2022-08-20T09:40:06.256Z"
   },
   {
    "duration": 10,
    "start_time": "2022-08-20T09:40:06.314Z"
   },
   {
    "duration": 33,
    "start_time": "2022-08-20T09:40:06.325Z"
   },
   {
    "duration": 3,
    "start_time": "2022-08-20T09:40:06.360Z"
   },
   {
    "duration": 9,
    "start_time": "2022-08-20T09:40:06.365Z"
   },
   {
    "duration": 62,
    "start_time": "2022-08-20T09:40:06.375Z"
   },
   {
    "duration": 19,
    "start_time": "2022-08-20T09:40:06.438Z"
   },
   {
    "duration": 28,
    "start_time": "2022-08-20T09:40:06.458Z"
   },
   {
    "duration": 30,
    "start_time": "2022-08-20T09:40:06.488Z"
   },
   {
    "duration": 68,
    "start_time": "2022-08-20T09:40:06.520Z"
   },
   {
    "duration": 26,
    "start_time": "2022-08-20T09:40:06.590Z"
   },
   {
    "duration": 30,
    "start_time": "2022-08-20T09:40:06.618Z"
   },
   {
    "duration": 46,
    "start_time": "2022-08-20T09:40:06.650Z"
   },
   {
    "duration": 72,
    "start_time": "2022-08-20T09:40:06.698Z"
   },
   {
    "duration": 9,
    "start_time": "2022-08-20T09:40:06.771Z"
   },
   {
    "duration": 50,
    "start_time": "2022-08-20T09:40:06.781Z"
   },
   {
    "duration": 19,
    "start_time": "2022-08-20T09:40:06.833Z"
   },
   {
    "duration": 26,
    "start_time": "2022-08-20T09:40:06.854Z"
   },
   {
    "duration": 51,
    "start_time": "2022-08-20T09:40:06.881Z"
   },
   {
    "duration": 22,
    "start_time": "2022-08-20T09:40:06.933Z"
   },
   {
    "duration": 75,
    "start_time": "2022-08-20T09:40:06.956Z"
   },
   {
    "duration": 162,
    "start_time": "2022-08-20T09:40:07.032Z"
   },
   {
    "duration": 180,
    "start_time": "2022-08-20T09:40:07.196Z"
   },
   {
    "duration": 135,
    "start_time": "2022-08-20T09:40:07.378Z"
   },
   {
    "duration": 12,
    "start_time": "2022-08-20T09:40:07.515Z"
   },
   {
    "duration": 9,
    "start_time": "2022-08-20T09:40:07.528Z"
   },
   {
    "duration": 66,
    "start_time": "2022-08-20T09:40:22.674Z"
   },
   {
    "duration": 3,
    "start_time": "2022-08-20T11:07:43.025Z"
   },
   {
    "duration": 696,
    "start_time": "2022-08-20T11:07:43.029Z"
   },
   {
    "duration": 13,
    "start_time": "2022-08-20T11:07:43.726Z"
   },
   {
    "duration": 129,
    "start_time": "2022-08-20T11:07:43.740Z"
   },
   {
    "duration": 14,
    "start_time": "2022-08-20T11:07:43.871Z"
   },
   {
    "duration": 29,
    "start_time": "2022-08-20T11:07:43.887Z"
   },
   {
    "duration": 87,
    "start_time": "2022-08-20T11:07:43.918Z"
   },
   {
    "duration": 84,
    "start_time": "2022-08-20T11:07:44.007Z"
   },
   {
    "duration": 21,
    "start_time": "2022-08-20T11:07:44.093Z"
   },
   {
    "duration": 27,
    "start_time": "2022-08-20T11:07:44.115Z"
   },
   {
    "duration": 10,
    "start_time": "2022-08-20T11:07:44.143Z"
   },
   {
    "duration": 13,
    "start_time": "2022-08-20T11:07:44.154Z"
   },
   {
    "duration": 16,
    "start_time": "2022-08-20T11:07:44.169Z"
   },
   {
    "duration": 28,
    "start_time": "2022-08-20T11:07:44.211Z"
   },
   {
    "duration": 9,
    "start_time": "2022-08-20T11:07:44.241Z"
   },
   {
    "duration": 32,
    "start_time": "2022-08-20T11:07:44.251Z"
   },
   {
    "duration": 3,
    "start_time": "2022-08-20T11:07:44.285Z"
   },
   {
    "duration": 5,
    "start_time": "2022-08-20T11:07:44.311Z"
   },
   {
    "duration": 30,
    "start_time": "2022-08-20T11:07:44.317Z"
   },
   {
    "duration": 17,
    "start_time": "2022-08-20T11:07:44.349Z"
   },
   {
    "duration": 47,
    "start_time": "2022-08-20T11:07:44.367Z"
   },
   {
    "duration": 11,
    "start_time": "2022-08-20T11:07:44.415Z"
   },
   {
    "duration": 62,
    "start_time": "2022-08-20T11:07:44.427Z"
   },
   {
    "duration": 10,
    "start_time": "2022-08-20T11:07:44.511Z"
   },
   {
    "duration": 30,
    "start_time": "2022-08-20T11:07:44.522Z"
   },
   {
    "duration": 29,
    "start_time": "2022-08-20T11:07:44.554Z"
   },
   {
    "duration": 88,
    "start_time": "2022-08-20T11:07:44.585Z"
   },
   {
    "duration": 6,
    "start_time": "2022-08-20T11:07:44.675Z"
   },
   {
    "duration": 43,
    "start_time": "2022-08-20T11:07:44.683Z"
   },
   {
    "duration": 18,
    "start_time": "2022-08-20T11:07:44.728Z"
   },
   {
    "duration": 27,
    "start_time": "2022-08-20T11:07:44.748Z"
   },
   {
    "duration": 48,
    "start_time": "2022-08-20T11:07:44.776Z"
   },
   {
    "duration": 21,
    "start_time": "2022-08-20T11:07:44.825Z"
   },
   {
    "duration": 77,
    "start_time": "2022-08-20T11:07:44.847Z"
   },
   {
    "duration": 153,
    "start_time": "2022-08-20T11:07:44.926Z"
   },
   {
    "duration": 154,
    "start_time": "2022-08-20T11:07:45.080Z"
   },
   {
    "duration": 125,
    "start_time": "2022-08-20T11:07:45.236Z"
   },
   {
    "duration": 11,
    "start_time": "2022-08-20T11:07:45.363Z"
   },
   {
    "duration": 73,
    "start_time": "2022-08-20T11:07:45.376Z"
   },
   {
    "duration": 452,
    "start_time": "2022-08-20T11:08:02.548Z"
   },
   {
    "duration": 40,
    "start_time": "2022-08-20T11:08:08.269Z"
   },
   {
    "duration": 13,
    "start_time": "2022-08-20T11:08:28.923Z"
   },
   {
    "duration": 58,
    "start_time": "2022-08-20T11:09:23.828Z"
   },
   {
    "duration": 130,
    "start_time": "2022-08-20T11:14:26.961Z"
   },
   {
    "duration": 68,
    "start_time": "2022-08-20T11:14:30.567Z"
   },
   {
    "duration": 11,
    "start_time": "2022-08-20T11:14:37.451Z"
   },
   {
    "duration": 3,
    "start_time": "2022-08-20T11:15:19.208Z"
   },
   {
    "duration": 697,
    "start_time": "2022-08-20T11:15:19.212Z"
   },
   {
    "duration": 13,
    "start_time": "2022-08-20T11:15:19.910Z"
   },
   {
    "duration": 115,
    "start_time": "2022-08-20T11:15:19.924Z"
   },
   {
    "duration": 21,
    "start_time": "2022-08-20T11:15:20.041Z"
   },
   {
    "duration": 13,
    "start_time": "2022-08-20T11:15:20.064Z"
   },
   {
    "duration": 91,
    "start_time": "2022-08-20T11:15:20.079Z"
   },
   {
    "duration": 77,
    "start_time": "2022-08-20T11:15:20.172Z"
   },
   {
    "duration": 9,
    "start_time": "2022-08-20T11:15:20.251Z"
   },
   {
    "duration": 49,
    "start_time": "2022-08-20T11:15:20.262Z"
   },
   {
    "duration": 11,
    "start_time": "2022-08-20T11:15:20.312Z"
   },
   {
    "duration": 15,
    "start_time": "2022-08-20T11:15:20.325Z"
   },
   {
    "duration": 19,
    "start_time": "2022-08-20T11:15:20.341Z"
   },
   {
    "duration": 53,
    "start_time": "2022-08-20T11:15:20.363Z"
   },
   {
    "duration": 16,
    "start_time": "2022-08-20T11:15:20.418Z"
   },
   {
    "duration": 31,
    "start_time": "2022-08-20T11:15:20.436Z"
   },
   {
    "duration": 4,
    "start_time": "2022-08-20T11:15:20.469Z"
   },
   {
    "duration": 38,
    "start_time": "2022-08-20T11:15:20.475Z"
   },
   {
    "duration": 38,
    "start_time": "2022-08-20T11:15:20.515Z"
   },
   {
    "duration": 17,
    "start_time": "2022-08-20T11:15:20.555Z"
   },
   {
    "duration": 39,
    "start_time": "2022-08-20T11:15:20.574Z"
   },
   {
    "duration": 10,
    "start_time": "2022-08-20T11:15:20.615Z"
   },
   {
    "duration": 63,
    "start_time": "2022-08-20T11:15:20.627Z"
   },
   {
    "duration": 26,
    "start_time": "2022-08-20T11:15:20.692Z"
   },
   {
    "duration": 29,
    "start_time": "2022-08-20T11:15:20.720Z"
   },
   {
    "duration": 31,
    "start_time": "2022-08-20T11:15:20.751Z"
   },
   {
    "duration": 89,
    "start_time": "2022-08-20T11:15:20.783Z"
   },
   {
    "duration": 48,
    "start_time": "2022-08-20T11:15:20.874Z"
   },
   {
    "duration": 27,
    "start_time": "2022-08-20T11:15:20.924Z"
   },
   {
    "duration": 20,
    "start_time": "2022-08-20T11:15:20.953Z"
   },
   {
    "duration": 37,
    "start_time": "2022-08-20T11:15:20.974Z"
   },
   {
    "duration": 32,
    "start_time": "2022-08-20T11:15:21.013Z"
   },
   {
    "duration": 22,
    "start_time": "2022-08-20T11:15:21.047Z"
   },
   {
    "duration": 86,
    "start_time": "2022-08-20T11:15:21.070Z"
   },
   {
    "duration": 153,
    "start_time": "2022-08-20T11:15:21.158Z"
   },
   {
    "duration": 162,
    "start_time": "2022-08-20T11:15:21.313Z"
   },
   {
    "duration": 124,
    "start_time": "2022-08-20T11:15:21.477Z"
   },
   {
    "duration": 140,
    "start_time": "2022-08-20T11:15:21.602Z"
   },
   {
    "duration": 68,
    "start_time": "2022-08-20T11:15:21.744Z"
   },
   {
    "duration": 9,
    "start_time": "2022-08-20T11:15:21.814Z"
   },
   {
    "duration": 435,
    "start_time": "2022-08-20T11:15:21.829Z"
   },
   {
    "duration": 16,
    "start_time": "2022-08-20T11:15:22.265Z"
   },
   {
    "duration": 29,
    "start_time": "2022-08-20T11:15:22.282Z"
   },
   {
    "duration": 60,
    "start_time": "2022-08-20T11:15:22.312Z"
   },
   {
    "duration": 387,
    "start_time": "2022-08-20T14:06:24.394Z"
   },
   {
    "duration": 1015,
    "start_time": "2022-08-20T14:06:24.786Z"
   },
   {
    "duration": 20,
    "start_time": "2022-08-20T14:06:25.802Z"
   },
   {
    "duration": 126,
    "start_time": "2022-08-20T14:06:25.824Z"
   },
   {
    "duration": 22,
    "start_time": "2022-08-20T14:06:25.952Z"
   },
   {
    "duration": 20,
    "start_time": "2022-08-20T14:06:25.976Z"
   },
   {
    "duration": 100,
    "start_time": "2022-08-20T14:06:25.998Z"
   },
   {
    "duration": 91,
    "start_time": "2022-08-20T14:06:26.100Z"
   },
   {
    "duration": 14,
    "start_time": "2022-08-20T14:06:26.195Z"
   },
   {
    "duration": 45,
    "start_time": "2022-08-20T14:06:26.211Z"
   },
   {
    "duration": 13,
    "start_time": "2022-08-20T14:06:26.258Z"
   },
   {
    "duration": 24,
    "start_time": "2022-08-20T14:06:26.287Z"
   },
   {
    "duration": 30,
    "start_time": "2022-08-20T14:06:26.313Z"
   },
   {
    "duration": 67,
    "start_time": "2022-08-20T14:06:26.347Z"
   },
   {
    "duration": 26,
    "start_time": "2022-08-20T14:06:26.416Z"
   },
   {
    "duration": 52,
    "start_time": "2022-08-20T14:06:26.444Z"
   },
   {
    "duration": 4,
    "start_time": "2022-08-20T14:06:26.498Z"
   },
   {
    "duration": 14,
    "start_time": "2022-08-20T14:06:26.503Z"
   },
   {
    "duration": 35,
    "start_time": "2022-08-20T14:06:26.518Z"
   },
   {
    "duration": 24,
    "start_time": "2022-08-20T14:06:26.554Z"
   },
   {
    "duration": 36,
    "start_time": "2022-08-20T14:06:26.580Z"
   },
   {
    "duration": 11,
    "start_time": "2022-08-20T14:06:26.617Z"
   },
   {
    "duration": 96,
    "start_time": "2022-08-20T14:06:26.630Z"
   },
   {
    "duration": 12,
    "start_time": "2022-08-20T14:06:26.727Z"
   },
   {
    "duration": 46,
    "start_time": "2022-08-20T14:06:26.741Z"
   },
   {
    "duration": 39,
    "start_time": "2022-08-20T14:06:26.789Z"
   },
   {
    "duration": 79,
    "start_time": "2022-08-20T14:06:26.830Z"
   },
   {
    "duration": 6,
    "start_time": "2022-08-20T14:06:26.911Z"
   },
   {
    "duration": 31,
    "start_time": "2022-08-20T14:06:26.919Z"
   },
   {
    "duration": 42,
    "start_time": "2022-08-20T14:06:26.951Z"
   },
   {
    "duration": 30,
    "start_time": "2022-08-20T14:06:26.995Z"
   },
   {
    "duration": 30,
    "start_time": "2022-08-20T14:06:27.026Z"
   },
   {
    "duration": 35,
    "start_time": "2022-08-20T14:06:27.058Z"
   },
   {
    "duration": 70,
    "start_time": "2022-08-20T14:06:27.094Z"
   },
   {
    "duration": 166,
    "start_time": "2022-08-20T14:06:27.166Z"
   },
   {
    "duration": 188,
    "start_time": "2022-08-20T14:06:27.334Z"
   },
   {
    "duration": 149,
    "start_time": "2022-08-20T14:06:27.523Z"
   },
   {
    "duration": 134,
    "start_time": "2022-08-20T14:06:27.673Z"
   },
   {
    "duration": 66,
    "start_time": "2022-08-20T14:06:27.809Z"
   },
   {
    "duration": 9,
    "start_time": "2022-08-20T14:06:27.887Z"
   },
   {
    "duration": 523,
    "start_time": "2022-08-20T14:06:27.900Z"
   },
   {
    "duration": 17,
    "start_time": "2022-08-20T14:06:28.425Z"
   },
   {
    "duration": 10,
    "start_time": "2022-08-20T14:06:28.444Z"
   },
   {
    "duration": 84,
    "start_time": "2022-08-20T14:06:28.456Z"
   },
   {
    "duration": 663,
    "start_time": "2022-08-20T16:37:52.738Z"
   },
   {
    "duration": 3,
    "start_time": "2022-08-20T16:37:57.711Z"
   },
   {
    "duration": 763,
    "start_time": "2022-08-20T16:37:57.716Z"
   },
   {
    "duration": 14,
    "start_time": "2022-08-20T16:37:58.486Z"
   },
   {
    "duration": 129,
    "start_time": "2022-08-20T16:37:58.501Z"
   },
   {
    "duration": 20,
    "start_time": "2022-08-20T16:37:58.633Z"
   },
   {
    "duration": 17,
    "start_time": "2022-08-20T16:37:58.654Z"
   },
   {
    "duration": 97,
    "start_time": "2022-08-20T16:37:58.672Z"
   },
   {
    "duration": 92,
    "start_time": "2022-08-20T16:37:58.771Z"
   },
   {
    "duration": 8,
    "start_time": "2022-08-20T16:37:58.864Z"
   },
   {
    "duration": 27,
    "start_time": "2022-08-20T16:37:58.886Z"
   },
   {
    "duration": 12,
    "start_time": "2022-08-20T16:37:58.914Z"
   },
   {
    "duration": 27,
    "start_time": "2022-08-20T16:37:58.928Z"
   },
   {
    "duration": 55,
    "start_time": "2022-08-20T16:37:58.959Z"
   },
   {
    "duration": 31,
    "start_time": "2022-08-20T16:37:59.015Z"
   },
   {
    "duration": 12,
    "start_time": "2022-08-20T16:37:59.048Z"
   },
   {
    "duration": 47,
    "start_time": "2022-08-20T16:37:59.061Z"
   },
   {
    "duration": 4,
    "start_time": "2022-08-20T16:37:59.110Z"
   },
   {
    "duration": 8,
    "start_time": "2022-08-20T16:37:59.115Z"
   },
   {
    "duration": 34,
    "start_time": "2022-08-20T16:37:59.124Z"
   },
   {
    "duration": 35,
    "start_time": "2022-08-20T16:37:59.160Z"
   },
   {
    "duration": 32,
    "start_time": "2022-08-20T16:37:59.197Z"
   },
   {
    "duration": 14,
    "start_time": "2022-08-20T16:37:59.231Z"
   },
   {
    "duration": 92,
    "start_time": "2022-08-20T16:37:59.246Z"
   },
   {
    "duration": 11,
    "start_time": "2022-08-20T16:37:59.340Z"
   },
   {
    "duration": 43,
    "start_time": "2022-08-20T16:37:59.353Z"
   },
   {
    "duration": 32,
    "start_time": "2022-08-20T16:37:59.397Z"
   },
   {
    "duration": 82,
    "start_time": "2022-08-20T16:37:59.431Z"
   },
   {
    "duration": 7,
    "start_time": "2022-08-20T16:37:59.515Z"
   },
   {
    "duration": 33,
    "start_time": "2022-08-20T16:37:59.524Z"
   },
   {
    "duration": 39,
    "start_time": "2022-08-20T16:37:59.558Z"
   },
   {
    "duration": 31,
    "start_time": "2022-08-20T16:37:59.598Z"
   },
   {
    "duration": 30,
    "start_time": "2022-08-20T16:37:59.630Z"
   },
   {
    "duration": 40,
    "start_time": "2022-08-20T16:37:59.662Z"
   },
   {
    "duration": 87,
    "start_time": "2022-08-20T16:37:59.703Z"
   },
   {
    "duration": 159,
    "start_time": "2022-08-20T16:37:59.792Z"
   },
   {
    "duration": 174,
    "start_time": "2022-08-20T16:37:59.953Z"
   },
   {
    "duration": 122,
    "start_time": "2022-08-20T16:38:00.130Z"
   },
   {
    "duration": 136,
    "start_time": "2022-08-20T16:38:00.254Z"
   },
   {
    "duration": 66,
    "start_time": "2022-08-20T16:38:00.392Z"
   },
   {
    "duration": 28,
    "start_time": "2022-08-20T16:38:00.460Z"
   },
   {
    "duration": 608,
    "start_time": "2022-08-20T16:38:00.490Z"
   },
   {
    "duration": 15,
    "start_time": "2022-08-20T16:38:01.100Z"
   },
   {
    "duration": 346,
    "start_time": "2022-08-20T16:38:01.116Z"
   },
   {
    "duration": 3,
    "start_time": "2022-08-20T16:38:01.464Z"
   },
   {
    "duration": 3,
    "start_time": "2022-08-20T16:38:32.822Z"
   },
   {
    "duration": 3,
    "start_time": "2022-08-20T17:00:10.179Z"
   },
   {
    "duration": 111,
    "start_time": "2022-08-20T17:00:10.553Z"
   },
   {
    "duration": 61,
    "start_time": "2022-08-20T17:00:21.023Z"
   },
   {
    "duration": 3,
    "start_time": "2022-08-20T17:00:23.698Z"
   },
   {
    "duration": 44,
    "start_time": "2022-08-20T17:05:38.166Z"
   },
   {
    "duration": 16,
    "start_time": "2022-08-20T17:10:43.693Z"
   },
   {
    "duration": 65,
    "start_time": "2022-08-20T17:10:51.310Z"
   },
   {
    "duration": 18,
    "start_time": "2022-08-20T17:11:03.580Z"
   },
   {
    "duration": 16,
    "start_time": "2022-08-20T17:14:03.281Z"
   },
   {
    "duration": 18,
    "start_time": "2022-08-20T17:14:07.897Z"
   },
   {
    "duration": 10,
    "start_time": "2022-08-20T17:14:39.450Z"
   },
   {
    "duration": 64,
    "start_time": "2022-08-20T17:14:47.230Z"
   },
   {
    "duration": 3,
    "start_time": "2022-08-20T17:15:34.979Z"
   },
   {
    "duration": 9,
    "start_time": "2022-08-20T17:15:45.152Z"
   },
   {
    "duration": 2,
    "start_time": "2022-08-20T17:16:00.247Z"
   },
   {
    "duration": 14,
    "start_time": "2022-08-20T17:16:04.012Z"
   },
   {
    "duration": 121,
    "start_time": "2022-08-20T17:16:51.532Z"
   },
   {
    "duration": 11,
    "start_time": "2022-08-20T17:36:20.791Z"
   },
   {
    "duration": 55,
    "start_time": "2022-08-20T17:54:39.835Z"
   },
   {
    "duration": 20,
    "start_time": "2022-08-20T17:54:51.410Z"
   },
   {
    "duration": 14501,
    "start_time": "2022-08-20T17:54:56.194Z"
   },
   {
    "duration": 14431,
    "start_time": "2022-08-20T18:30:19.761Z"
   },
   {
    "duration": 10,
    "start_time": "2022-08-20T18:33:11.474Z"
   },
   {
    "duration": 7,
    "start_time": "2022-08-20T18:33:49.555Z"
   },
   {
    "duration": 8,
    "start_time": "2022-08-20T18:33:55.479Z"
   },
   {
    "duration": 287,
    "start_time": "2022-08-20T18:36:15.800Z"
   },
   {
    "duration": 3,
    "start_time": "2022-08-20T18:37:23.773Z"
   },
   {
    "duration": 222,
    "start_time": "2022-08-20T18:39:24.572Z"
   },
   {
    "duration": 251,
    "start_time": "2022-08-20T18:39:27.335Z"
   },
   {
    "duration": 267,
    "start_time": "2022-08-20T18:40:28.321Z"
   },
   {
    "duration": 161,
    "start_time": "2022-08-20T18:41:05.535Z"
   },
   {
    "duration": 16258,
    "start_time": "2022-08-20T19:02:17.430Z"
   },
   {
    "duration": 203,
    "start_time": "2022-08-20T19:02:33.690Z"
   },
   {
    "duration": 92,
    "start_time": "2022-08-20T19:02:33.895Z"
   },
   {
    "duration": 2,
    "start_time": "2022-08-20T19:02:42.654Z"
   },
   {
    "duration": 127,
    "start_time": "2022-08-20T19:09:09.149Z"
   },
   {
    "duration": 49779,
    "start_time": "2022-08-20T20:47:29.420Z"
   },
   {
    "duration": 292,
    "start_time": "2022-08-20T20:48:19.201Z"
   },
   {
    "duration": 461,
    "start_time": "2022-08-20T20:48:52.427Z"
   },
   {
    "duration": 14427,
    "start_time": "2022-08-20T20:58:09.064Z"
   },
   {
    "duration": 508,
    "start_time": "2022-08-20T20:58:23.493Z"
   },
   {
    "duration": 9603,
    "start_time": "2022-08-20T20:58:24.002Z"
   },
   {
    "duration": 1702,
    "start_time": "2022-08-20T20:58:33.607Z"
   },
   {
    "duration": 2206,
    "start_time": "2022-08-20T20:59:02.989Z"
   },
   {
    "duration": 498,
    "start_time": "2022-08-20T20:59:05.198Z"
   },
   {
    "duration": 8800,
    "start_time": "2022-08-20T20:59:05.698Z"
   },
   {
    "duration": 1794,
    "start_time": "2022-08-20T20:59:14.499Z"
   },
   {
    "duration": 12,
    "start_time": "2022-08-20T20:59:16.295Z"
   },
   {
    "duration": 244,
    "start_time": "2022-08-20T22:13:05.697Z"
   },
   {
    "duration": 9,
    "start_time": "2022-08-20T22:19:16.313Z"
   },
   {
    "duration": 1599,
    "start_time": "2022-08-20T22:19:42.998Z"
   },
   {
    "duration": 10,
    "start_time": "2022-08-20T22:19:44.599Z"
   },
   {
    "duration": 76,
    "start_time": "2022-08-20T22:27:36.047Z"
   },
   {
    "duration": 3,
    "start_time": "2022-08-20T22:27:48.923Z"
   },
   {
    "duration": 57,
    "start_time": "2022-08-20T22:27:59.410Z"
   },
   {
    "duration": 22104,
    "start_time": "2022-08-20T22:30:21.115Z"
   },
   {
    "duration": 240,
    "start_time": "2022-08-20T22:35:01.358Z"
   },
   {
    "duration": 11597,
    "start_time": "2022-08-20T22:36:23.838Z"
   },
   {
    "duration": 145,
    "start_time": "2022-08-20T22:36:35.437Z"
   },
   {
    "duration": 3,
    "start_time": "2022-08-20T22:42:33.440Z"
   },
   {
    "duration": 750,
    "start_time": "2022-08-20T22:42:33.446Z"
   },
   {
    "duration": 14,
    "start_time": "2022-08-20T22:42:34.197Z"
   },
   {
    "duration": 129,
    "start_time": "2022-08-20T22:42:34.213Z"
   },
   {
    "duration": 23,
    "start_time": "2022-08-20T22:42:34.344Z"
   },
   {
    "duration": 23,
    "start_time": "2022-08-20T22:42:34.369Z"
   },
   {
    "duration": 82,
    "start_time": "2022-08-20T22:42:34.394Z"
   },
   {
    "duration": 76,
    "start_time": "2022-08-20T22:42:34.487Z"
   },
   {
    "duration": 8,
    "start_time": "2022-08-20T22:42:34.564Z"
   },
   {
    "duration": 28,
    "start_time": "2022-08-20T22:42:34.586Z"
   },
   {
    "duration": 10,
    "start_time": "2022-08-20T22:42:34.616Z"
   },
   {
    "duration": 16,
    "start_time": "2022-08-20T22:42:34.628Z"
   },
   {
    "duration": 42,
    "start_time": "2022-08-20T22:42:34.645Z"
   },
   {
    "duration": 30,
    "start_time": "2022-08-20T22:42:34.690Z"
   },
   {
    "duration": 9,
    "start_time": "2022-08-20T22:42:34.722Z"
   },
   {
    "duration": 33,
    "start_time": "2022-08-20T22:42:34.732Z"
   },
   {
    "duration": 20,
    "start_time": "2022-08-20T22:42:34.767Z"
   },
   {
    "duration": 5,
    "start_time": "2022-08-20T22:42:34.789Z"
   },
   {
    "duration": 31,
    "start_time": "2022-08-20T22:42:34.795Z"
   },
   {
    "duration": 18,
    "start_time": "2022-08-20T22:42:34.828Z"
   },
   {
    "duration": 46,
    "start_time": "2022-08-20T22:42:34.848Z"
   },
   {
    "duration": 12,
    "start_time": "2022-08-20T22:42:34.895Z"
   },
   {
    "duration": 68,
    "start_time": "2022-08-20T22:42:34.908Z"
   },
   {
    "duration": 20,
    "start_time": "2022-08-20T22:42:34.977Z"
   },
   {
    "duration": 31,
    "start_time": "2022-08-20T22:42:34.999Z"
   },
   {
    "duration": 30,
    "start_time": "2022-08-20T22:42:35.031Z"
   },
   {
    "duration": 86,
    "start_time": "2022-08-20T22:42:35.062Z"
   },
   {
    "duration": 6,
    "start_time": "2022-08-20T22:42:35.149Z"
   },
   {
    "duration": 43,
    "start_time": "2022-08-20T22:42:35.157Z"
   },
   {
    "duration": 17,
    "start_time": "2022-08-20T22:42:35.202Z"
   },
   {
    "duration": 29,
    "start_time": "2022-08-20T22:42:35.220Z"
   },
   {
    "duration": 49,
    "start_time": "2022-08-20T22:42:35.250Z"
   },
   {
    "duration": 18,
    "start_time": "2022-08-20T22:42:35.301Z"
   },
   {
    "duration": 86,
    "start_time": "2022-08-20T22:42:35.320Z"
   },
   {
    "duration": 140,
    "start_time": "2022-08-20T22:42:35.407Z"
   },
   {
    "duration": 148,
    "start_time": "2022-08-20T22:42:35.549Z"
   },
   {
    "duration": 113,
    "start_time": "2022-08-20T22:42:35.699Z"
   },
   {
    "duration": 139,
    "start_time": "2022-08-20T22:42:35.813Z"
   },
   {
    "duration": 74,
    "start_time": "2022-08-20T22:42:35.954Z"
   },
   {
    "duration": 20,
    "start_time": "2022-08-20T22:42:36.030Z"
   },
   {
    "duration": 581,
    "start_time": "2022-08-20T22:42:36.055Z"
   },
   {
    "duration": 14,
    "start_time": "2022-08-20T22:42:36.638Z"
   },
   {
    "duration": 337,
    "start_time": "2022-08-20T22:42:36.654Z"
   },
   {
    "duration": 2,
    "start_time": "2022-08-20T22:42:36.993Z"
   },
   {
    "duration": 69,
    "start_time": "2022-08-20T22:42:36.997Z"
   },
   {
    "duration": 3,
    "start_time": "2022-08-20T22:42:37.068Z"
   },
   {
    "duration": 57,
    "start_time": "2022-08-20T22:42:37.072Z"
   },
   {
    "duration": 2,
    "start_time": "2022-08-20T22:42:37.131Z"
   },
   {
    "duration": 15,
    "start_time": "2022-08-20T22:42:37.135Z"
   },
   {
    "duration": 124,
    "start_time": "2022-08-20T22:42:37.152Z"
   },
   {
    "duration": 14213,
    "start_time": "2022-08-20T22:42:37.278Z"
   },
   {
    "duration": 202,
    "start_time": "2022-08-20T22:42:51.493Z"
   },
   {
    "duration": 2208,
    "start_time": "2022-08-20T22:42:51.788Z"
   },
   {
    "duration": 497,
    "start_time": "2022-08-20T22:42:53.997Z"
   },
   {
    "duration": 9005,
    "start_time": "2022-08-20T22:42:54.496Z"
   },
   {
    "duration": 1806,
    "start_time": "2022-08-20T22:43:03.502Z"
   },
   {
    "duration": 11943,
    "start_time": "2022-08-20T22:43:05.310Z"
   },
   {
    "duration": 153,
    "start_time": "2022-08-20T22:43:17.254Z"
   },
   {
    "duration": 3433,
    "start_time": "2022-08-20T22:45:34.190Z"
   },
   {
    "duration": 63,
    "start_time": "2022-08-20T22:45:37.625Z"
   },
   {
    "duration": 4482,
    "start_time": "2022-08-20T22:47:22.326Z"
   },
   {
    "duration": 103,
    "start_time": "2022-08-20T22:47:26.811Z"
   },
   {
    "duration": 12438,
    "start_time": "2022-08-20T22:48:07.850Z"
   },
   {
    "duration": 120,
    "start_time": "2022-08-20T22:48:20.290Z"
   },
   {
    "duration": 11871,
    "start_time": "2022-08-20T22:48:29.947Z"
   },
   {
    "duration": 153,
    "start_time": "2022-08-20T22:48:41.820Z"
   },
   {
    "duration": 4,
    "start_time": "2022-08-20T22:53:15.809Z"
   },
   {
    "duration": 812,
    "start_time": "2022-08-20T22:53:15.815Z"
   },
   {
    "duration": 13,
    "start_time": "2022-08-20T22:53:16.629Z"
   },
   {
    "duration": 127,
    "start_time": "2022-08-20T22:53:16.645Z"
   },
   {
    "duration": 26,
    "start_time": "2022-08-20T22:53:16.775Z"
   },
   {
    "duration": 16,
    "start_time": "2022-08-20T22:53:16.803Z"
   },
   {
    "duration": 89,
    "start_time": "2022-08-20T22:53:16.820Z"
   },
   {
    "duration": 83,
    "start_time": "2022-08-20T22:53:16.911Z"
   },
   {
    "duration": 8,
    "start_time": "2022-08-20T22:53:16.995Z"
   },
   {
    "duration": 28,
    "start_time": "2022-08-20T22:53:17.005Z"
   },
   {
    "duration": 8,
    "start_time": "2022-08-20T22:53:17.035Z"
   },
   {
    "duration": 43,
    "start_time": "2022-08-20T22:53:17.044Z"
   },
   {
    "duration": 18,
    "start_time": "2022-08-20T22:53:17.089Z"
   },
   {
    "duration": 31,
    "start_time": "2022-08-20T22:53:17.110Z"
   },
   {
    "duration": 9,
    "start_time": "2022-08-20T22:53:17.142Z"
   },
   {
    "duration": 53,
    "start_time": "2022-08-20T22:53:17.153Z"
   },
   {
    "duration": 4,
    "start_time": "2022-08-20T22:53:17.207Z"
   },
   {
    "duration": 8,
    "start_time": "2022-08-20T22:53:17.212Z"
   },
   {
    "duration": 31,
    "start_time": "2022-08-20T22:53:17.221Z"
   },
   {
    "duration": 20,
    "start_time": "2022-08-20T22:53:17.254Z"
   },
   {
    "duration": 30,
    "start_time": "2022-08-20T22:53:17.287Z"
   },
   {
    "duration": 10,
    "start_time": "2022-08-20T22:53:17.318Z"
   },
   {
    "duration": 79,
    "start_time": "2022-08-20T22:53:17.329Z"
   },
   {
    "duration": 10,
    "start_time": "2022-08-20T22:53:17.410Z"
   },
   {
    "duration": 32,
    "start_time": "2022-08-20T22:53:17.421Z"
   },
   {
    "duration": 48,
    "start_time": "2022-08-20T22:53:17.455Z"
   },
   {
    "duration": 84,
    "start_time": "2022-08-20T22:53:17.504Z"
   },
   {
    "duration": 7,
    "start_time": "2022-08-20T22:53:17.589Z"
   },
   {
    "duration": 33,
    "start_time": "2022-08-20T22:53:17.599Z"
   },
   {
    "duration": 20,
    "start_time": "2022-08-20T22:53:17.633Z"
   },
   {
    "duration": 48,
    "start_time": "2022-08-20T22:53:17.654Z"
   },
   {
    "duration": 28,
    "start_time": "2022-08-20T22:53:17.704Z"
   },
   {
    "duration": 23,
    "start_time": "2022-08-20T22:53:17.733Z"
   },
   {
    "duration": 84,
    "start_time": "2022-08-20T22:53:17.757Z"
   },
   {
    "duration": 140,
    "start_time": "2022-08-20T22:53:17.842Z"
   },
   {
    "duration": 160,
    "start_time": "2022-08-20T22:53:17.983Z"
   },
   {
    "duration": 120,
    "start_time": "2022-08-20T22:53:18.144Z"
   },
   {
    "duration": 148,
    "start_time": "2022-08-20T22:53:18.265Z"
   },
   {
    "duration": 73,
    "start_time": "2022-08-20T22:53:18.415Z"
   },
   {
    "duration": 10,
    "start_time": "2022-08-20T22:53:18.489Z"
   },
   {
    "duration": 523,
    "start_time": "2022-08-20T22:53:18.503Z"
   },
   {
    "duration": 13,
    "start_time": "2022-08-20T22:53:19.027Z"
   },
   {
    "duration": 333,
    "start_time": "2022-08-20T22:53:19.042Z"
   },
   {
    "duration": 3,
    "start_time": "2022-08-20T22:53:19.377Z"
   },
   {
    "duration": 68,
    "start_time": "2022-08-20T22:53:19.387Z"
   },
   {
    "duration": 3,
    "start_time": "2022-08-20T22:53:19.457Z"
   },
   {
    "duration": 53,
    "start_time": "2022-08-20T22:53:19.461Z"
   },
   {
    "duration": 3,
    "start_time": "2022-08-20T22:53:19.515Z"
   },
   {
    "duration": 16,
    "start_time": "2022-08-20T22:53:19.519Z"
   },
   {
    "duration": 119,
    "start_time": "2022-08-20T22:53:19.537Z"
   },
   {
    "duration": 15031,
    "start_time": "2022-08-20T22:53:19.658Z"
   },
   {
    "duration": 205,
    "start_time": "2022-08-20T22:53:34.691Z"
   },
   {
    "duration": 2203,
    "start_time": "2022-08-20T22:53:34.988Z"
   },
   {
    "duration": 499,
    "start_time": "2022-08-20T22:53:37.193Z"
   },
   {
    "duration": 8511,
    "start_time": "2022-08-20T22:53:37.693Z"
   },
   {
    "duration": 1700,
    "start_time": "2022-08-20T22:53:46.206Z"
   },
   {
    "duration": 4519,
    "start_time": "2022-08-20T22:53:47.908Z"
   },
   {
    "duration": 92,
    "start_time": "2022-08-20T22:53:52.428Z"
   },
   {
    "duration": 11702,
    "start_time": "2022-08-20T22:53:52.522Z"
   },
   {
    "duration": 168,
    "start_time": "2022-08-20T22:54:04.226Z"
   },
   {
    "duration": 4,
    "start_time": "2022-08-20T22:54:48.666Z"
   },
   {
    "duration": 9,
    "start_time": "2022-08-20T22:54:55.093Z"
   },
   {
    "duration": 3,
    "start_time": "2022-08-20T23:05:06.661Z"
   },
   {
    "duration": 8,
    "start_time": "2022-08-20T23:05:06.856Z"
   },
   {
    "duration": 11892,
    "start_time": "2022-08-20T23:05:36.683Z"
   },
   {
    "duration": 113,
    "start_time": "2022-08-20T23:05:48.577Z"
   },
   {
    "duration": 3,
    "start_time": "2022-08-20T23:06:33.239Z"
   },
   {
    "duration": 8,
    "start_time": "2022-08-20T23:06:33.424Z"
   },
   {
    "duration": 2,
    "start_time": "2022-08-20T23:07:03.118Z"
   },
   {
    "duration": 3,
    "start_time": "2022-08-20T23:07:07.460Z"
   },
   {
    "duration": 2,
    "start_time": "2022-08-20T23:07:18.716Z"
   },
   {
    "duration": 3661,
    "start_time": "2022-08-20T23:13:08.786Z"
   },
   {
    "duration": 65,
    "start_time": "2022-08-20T23:13:14.702Z"
   },
   {
    "duration": 5555,
    "start_time": "2022-08-20T23:13:35.840Z"
   },
   {
    "duration": 108,
    "start_time": "2022-08-20T23:13:41.397Z"
   },
   {
    "duration": 7662,
    "start_time": "2022-08-20T23:14:09.614Z"
   },
   {
    "duration": 7442,
    "start_time": "2022-08-20T23:14:33.514Z"
   },
   {
    "duration": 113,
    "start_time": "2022-08-20T23:14:40.957Z"
   },
   {
    "duration": 3,
    "start_time": "2022-08-20T23:15:24.770Z"
   },
   {
    "duration": 3,
    "start_time": "2022-08-20T23:15:47.582Z"
   },
   {
    "duration": 693,
    "start_time": "2022-08-20T23:15:47.587Z"
   },
   {
    "duration": 14,
    "start_time": "2022-08-20T23:15:48.282Z"
   },
   {
    "duration": 131,
    "start_time": "2022-08-20T23:15:48.298Z"
   },
   {
    "duration": 15,
    "start_time": "2022-08-20T23:15:48.431Z"
   },
   {
    "duration": 13,
    "start_time": "2022-08-20T23:15:48.447Z"
   },
   {
    "duration": 92,
    "start_time": "2022-08-20T23:15:48.461Z"
   },
   {
    "duration": 79,
    "start_time": "2022-08-20T23:15:48.555Z"
   },
   {
    "duration": 37,
    "start_time": "2022-08-20T23:15:48.636Z"
   },
   {
    "duration": 43,
    "start_time": "2022-08-20T23:15:48.674Z"
   },
   {
    "duration": 12,
    "start_time": "2022-08-20T23:15:48.718Z"
   },
   {
    "duration": 41,
    "start_time": "2022-08-20T23:15:48.731Z"
   },
   {
    "duration": 28,
    "start_time": "2022-08-20T23:15:48.774Z"
   },
   {
    "duration": 46,
    "start_time": "2022-08-20T23:15:48.805Z"
   },
   {
    "duration": 24,
    "start_time": "2022-08-20T23:15:48.852Z"
   },
   {
    "duration": 52,
    "start_time": "2022-08-20T23:15:48.878Z"
   },
   {
    "duration": 3,
    "start_time": "2022-08-20T23:15:48.932Z"
   },
   {
    "duration": 13,
    "start_time": "2022-08-20T23:15:48.937Z"
   },
   {
    "duration": 44,
    "start_time": "2022-08-20T23:15:48.952Z"
   },
   {
    "duration": 29,
    "start_time": "2022-08-20T23:15:48.997Z"
   },
   {
    "duration": 47,
    "start_time": "2022-08-20T23:15:49.027Z"
   },
   {
    "duration": 22,
    "start_time": "2022-08-20T23:15:49.075Z"
   },
   {
    "duration": 77,
    "start_time": "2022-08-20T23:15:49.099Z"
   },
   {
    "duration": 9,
    "start_time": "2022-08-20T23:15:49.178Z"
   },
   {
    "duration": 41,
    "start_time": "2022-08-20T23:15:49.189Z"
   },
   {
    "duration": 41,
    "start_time": "2022-08-20T23:15:49.232Z"
   },
   {
    "duration": 83,
    "start_time": "2022-08-20T23:15:49.275Z"
   },
   {
    "duration": 19,
    "start_time": "2022-08-20T23:15:49.359Z"
   },
   {
    "duration": 48,
    "start_time": "2022-08-20T23:15:49.379Z"
   },
   {
    "duration": 46,
    "start_time": "2022-08-20T23:15:49.428Z"
   },
   {
    "duration": 40,
    "start_time": "2022-08-20T23:15:49.476Z"
   },
   {
    "duration": 49,
    "start_time": "2022-08-20T23:15:49.518Z"
   },
   {
    "duration": 21,
    "start_time": "2022-08-20T23:15:49.569Z"
   },
   {
    "duration": 80,
    "start_time": "2022-08-20T23:15:49.591Z"
   },
   {
    "duration": 133,
    "start_time": "2022-08-20T23:15:49.673Z"
   },
   {
    "duration": 151,
    "start_time": "2022-08-20T23:15:49.807Z"
   },
   {
    "duration": 129,
    "start_time": "2022-08-20T23:15:49.960Z"
   },
   {
    "duration": 136,
    "start_time": "2022-08-20T23:15:50.090Z"
   },
   {
    "duration": 71,
    "start_time": "2022-08-20T23:15:50.228Z"
   },
   {
    "duration": 9,
    "start_time": "2022-08-20T23:15:50.300Z"
   },
   {
    "duration": 517,
    "start_time": "2022-08-20T23:15:50.313Z"
   },
   {
    "duration": 13,
    "start_time": "2022-08-20T23:15:50.832Z"
   },
   {
    "duration": 326,
    "start_time": "2022-08-20T23:15:50.846Z"
   },
   {
    "duration": 3,
    "start_time": "2022-08-20T23:15:51.174Z"
   },
   {
    "duration": 67,
    "start_time": "2022-08-20T23:15:51.179Z"
   },
   {
    "duration": 3,
    "start_time": "2022-08-20T23:15:51.248Z"
   },
   {
    "duration": 62,
    "start_time": "2022-08-20T23:15:51.252Z"
   },
   {
    "duration": 2,
    "start_time": "2022-08-20T23:15:51.316Z"
   },
   {
    "duration": 18,
    "start_time": "2022-08-20T23:15:51.320Z"
   },
   {
    "duration": 115,
    "start_time": "2022-08-20T23:15:51.339Z"
   },
   {
    "duration": 13940,
    "start_time": "2022-08-20T23:15:51.455Z"
   },
   {
    "duration": 292,
    "start_time": "2022-08-20T23:16:05.397Z"
   },
   {
    "duration": 2209,
    "start_time": "2022-08-20T23:16:05.691Z"
   },
   {
    "duration": 498,
    "start_time": "2022-08-20T23:16:07.901Z"
   },
   {
    "duration": 8988,
    "start_time": "2022-08-20T23:16:08.400Z"
   },
   {
    "duration": 1714,
    "start_time": "2022-08-20T23:16:17.389Z"
   },
   {
    "duration": 7759,
    "start_time": "2022-08-20T23:16:19.104Z"
   },
   {
    "duration": 122,
    "start_time": "2022-08-20T23:16:26.864Z"
   },
   {
    "duration": 11462,
    "start_time": "2022-08-20T23:16:26.988Z"
   },
   {
    "duration": 114,
    "start_time": "2022-08-20T23:16:38.451Z"
   },
   {
    "duration": 3,
    "start_time": "2022-08-20T23:16:38.567Z"
   },
   {
    "duration": 15,
    "start_time": "2022-08-20T23:16:38.571Z"
   },
   {
    "duration": 1167,
    "start_time": "2022-08-21T17:04:18.441Z"
   },
   {
    "duration": 1008,
    "start_time": "2022-08-21T17:04:19.609Z"
   },
   {
    "duration": 18,
    "start_time": "2022-08-21T17:04:20.619Z"
   },
   {
    "duration": 110,
    "start_time": "2022-08-21T17:04:20.639Z"
   },
   {
    "duration": 25,
    "start_time": "2022-08-21T17:04:20.751Z"
   },
   {
    "duration": 23,
    "start_time": "2022-08-21T17:04:20.778Z"
   },
   {
    "duration": 71,
    "start_time": "2022-08-21T17:04:20.803Z"
   },
   {
    "duration": 77,
    "start_time": "2022-08-21T17:04:20.875Z"
   },
   {
    "duration": 9,
    "start_time": "2022-08-21T17:04:20.954Z"
   },
   {
    "duration": 52,
    "start_time": "2022-08-21T17:04:20.964Z"
   },
   {
    "duration": 11,
    "start_time": "2022-08-21T17:04:21.018Z"
   },
   {
    "duration": 15,
    "start_time": "2022-08-21T17:04:21.030Z"
   },
   {
    "duration": 20,
    "start_time": "2022-08-21T17:04:21.046Z"
   },
   {
    "duration": 44,
    "start_time": "2022-08-21T17:04:21.069Z"
   },
   {
    "duration": 9,
    "start_time": "2022-08-21T17:04:21.114Z"
   },
   {
    "duration": 28,
    "start_time": "2022-08-21T17:04:21.124Z"
   },
   {
    "duration": 3,
    "start_time": "2022-08-21T17:04:21.154Z"
   },
   {
    "duration": 8,
    "start_time": "2022-08-21T17:04:21.159Z"
   },
   {
    "duration": 52,
    "start_time": "2022-08-21T17:04:21.168Z"
   },
   {
    "duration": 18,
    "start_time": "2022-08-21T17:04:21.221Z"
   },
   {
    "duration": 26,
    "start_time": "2022-08-21T17:04:21.240Z"
   },
   {
    "duration": 12,
    "start_time": "2022-08-21T17:04:21.267Z"
   },
   {
    "duration": 107,
    "start_time": "2022-08-21T17:04:21.281Z"
   },
   {
    "duration": 17,
    "start_time": "2022-08-21T17:04:21.390Z"
   },
   {
    "duration": 31,
    "start_time": "2022-08-21T17:04:21.408Z"
   },
   {
    "duration": 44,
    "start_time": "2022-08-21T17:04:21.441Z"
   },
   {
    "duration": 66,
    "start_time": "2022-08-21T17:04:21.487Z"
   },
   {
    "duration": 9,
    "start_time": "2022-08-21T17:04:21.555Z"
   },
   {
    "duration": 63,
    "start_time": "2022-08-21T17:04:21.566Z"
   },
   {
    "duration": 28,
    "start_time": "2022-08-21T17:04:21.631Z"
   },
   {
    "duration": 41,
    "start_time": "2022-08-21T17:04:21.661Z"
   },
   {
    "duration": 41,
    "start_time": "2022-08-21T17:04:21.703Z"
   },
   {
    "duration": 18,
    "start_time": "2022-08-21T17:04:21.746Z"
   },
   {
    "duration": 68,
    "start_time": "2022-08-21T17:04:21.765Z"
   },
   {
    "duration": 170,
    "start_time": "2022-08-21T17:04:21.834Z"
   },
   {
    "duration": 229,
    "start_time": "2022-08-21T17:04:22.006Z"
   },
   {
    "duration": 137,
    "start_time": "2022-08-21T17:04:22.237Z"
   },
   {
    "duration": 143,
    "start_time": "2022-08-21T17:04:22.376Z"
   },
   {
    "duration": 76,
    "start_time": "2022-08-21T17:04:22.521Z"
   },
   {
    "duration": 11,
    "start_time": "2022-08-21T17:04:22.599Z"
   },
   {
    "duration": 425,
    "start_time": "2022-08-21T17:04:22.613Z"
   },
   {
    "duration": 13,
    "start_time": "2022-08-21T17:04:23.039Z"
   },
   {
    "duration": 296,
    "start_time": "2022-08-21T17:05:00.955Z"
   },
   {
    "duration": 3,
    "start_time": "2022-08-21T17:05:02.730Z"
   },
   {
    "duration": 44,
    "start_time": "2022-08-21T17:05:40.559Z"
   },
   {
    "duration": 3,
    "start_time": "2022-08-21T17:05:41.621Z"
   },
   {
    "duration": 32,
    "start_time": "2022-08-21T17:06:07.716Z"
   },
   {
    "duration": 3,
    "start_time": "2022-08-21T17:06:12.690Z"
   },
   {
    "duration": 12,
    "start_time": "2022-08-21T17:06:19.010Z"
   },
   {
    "duration": 87,
    "start_time": "2022-08-21T17:06:26.983Z"
   },
   {
    "duration": 14132,
    "start_time": "2022-08-21T17:09:06.375Z"
   },
   {
    "duration": 168,
    "start_time": "2022-08-21T17:10:07.932Z"
   },
   {
    "duration": 10898,
    "start_time": "2022-08-21T17:10:44.808Z"
   },
   {
    "duration": 293,
    "start_time": "2022-08-21T17:10:55.708Z"
   },
   {
    "duration": 54,
    "start_time": "2022-08-21T17:10:58.453Z"
   },
   {
    "duration": 3,
    "start_time": "2022-08-21T17:17:37.858Z"
   },
   {
    "duration": 751,
    "start_time": "2022-08-21T17:17:37.863Z"
   },
   {
    "duration": 13,
    "start_time": "2022-08-21T17:17:38.616Z"
   },
   {
    "duration": 110,
    "start_time": "2022-08-21T17:17:38.631Z"
   },
   {
    "duration": 17,
    "start_time": "2022-08-21T17:17:38.743Z"
   },
   {
    "duration": 10,
    "start_time": "2022-08-21T17:17:38.761Z"
   },
   {
    "duration": 94,
    "start_time": "2022-08-21T17:17:38.772Z"
   },
   {
    "duration": 78,
    "start_time": "2022-08-21T17:17:38.867Z"
   },
   {
    "duration": 8,
    "start_time": "2022-08-21T17:17:38.946Z"
   },
   {
    "duration": 42,
    "start_time": "2022-08-21T17:17:38.956Z"
   },
   {
    "duration": 11,
    "start_time": "2022-08-21T17:17:39.000Z"
   },
   {
    "duration": 15,
    "start_time": "2022-08-21T17:17:39.013Z"
   },
   {
    "duration": 17,
    "start_time": "2022-08-21T17:17:39.031Z"
   },
   {
    "duration": 51,
    "start_time": "2022-08-21T17:17:39.050Z"
   },
   {
    "duration": 7,
    "start_time": "2022-08-21T17:17:39.102Z"
   },
   {
    "duration": 31,
    "start_time": "2022-08-21T17:17:39.111Z"
   },
   {
    "duration": 3,
    "start_time": "2022-08-21T17:17:39.144Z"
   },
   {
    "duration": 6,
    "start_time": "2022-08-21T17:17:39.149Z"
   },
   {
    "duration": 50,
    "start_time": "2022-08-21T17:17:39.157Z"
   },
   {
    "duration": 20,
    "start_time": "2022-08-21T17:17:39.208Z"
   },
   {
    "duration": 27,
    "start_time": "2022-08-21T17:17:39.230Z"
   },
   {
    "duration": 7,
    "start_time": "2022-08-21T17:17:39.259Z"
   },
   {
    "duration": 96,
    "start_time": "2022-08-21T17:17:39.268Z"
   },
   {
    "duration": 11,
    "start_time": "2022-08-21T17:17:39.365Z"
   },
   {
    "duration": 45,
    "start_time": "2022-08-21T17:17:39.377Z"
   },
   {
    "duration": 42,
    "start_time": "2022-08-21T17:17:39.424Z"
   },
   {
    "duration": 99,
    "start_time": "2022-08-21T17:17:39.468Z"
   },
   {
    "duration": 7,
    "start_time": "2022-08-21T17:17:39.569Z"
   },
   {
    "duration": 50,
    "start_time": "2022-08-21T17:17:39.577Z"
   },
   {
    "duration": 18,
    "start_time": "2022-08-21T17:17:39.629Z"
   },
   {
    "duration": 27,
    "start_time": "2022-08-21T17:17:39.648Z"
   },
   {
    "duration": 42,
    "start_time": "2022-08-21T17:17:39.677Z"
   },
   {
    "duration": 21,
    "start_time": "2022-08-21T17:17:39.721Z"
   },
   {
    "duration": 74,
    "start_time": "2022-08-21T17:17:39.743Z"
   },
   {
    "duration": 168,
    "start_time": "2022-08-21T17:17:39.818Z"
   },
   {
    "duration": 161,
    "start_time": "2022-08-21T17:17:39.988Z"
   },
   {
    "duration": 146,
    "start_time": "2022-08-21T17:17:40.153Z"
   },
   {
    "duration": 170,
    "start_time": "2022-08-21T17:17:40.300Z"
   },
   {
    "duration": 73,
    "start_time": "2022-08-21T17:17:40.471Z"
   },
   {
    "duration": 10,
    "start_time": "2022-08-21T17:17:40.546Z"
   },
   {
    "duration": 447,
    "start_time": "2022-08-21T17:17:40.558Z"
   },
   {
    "duration": 16,
    "start_time": "2022-08-21T17:17:41.007Z"
   },
   {
    "duration": 334,
    "start_time": "2022-08-21T17:17:41.025Z"
   },
   {
    "duration": 4,
    "start_time": "2022-08-21T17:17:41.361Z"
   },
   {
    "duration": 57,
    "start_time": "2022-08-21T17:17:41.367Z"
   },
   {
    "duration": 2,
    "start_time": "2022-08-21T17:17:41.426Z"
   },
   {
    "duration": 21,
    "start_time": "2022-08-21T17:17:41.430Z"
   },
   {
    "duration": 2,
    "start_time": "2022-08-21T17:17:41.453Z"
   },
   {
    "duration": 19,
    "start_time": "2022-08-21T17:17:41.457Z"
   },
   {
    "duration": 99,
    "start_time": "2022-08-21T17:17:41.477Z"
   },
   {
    "duration": 16122,
    "start_time": "2022-08-21T17:17:41.577Z"
   },
   {
    "duration": 206,
    "start_time": "2022-08-21T17:17:57.701Z"
   },
   {
    "duration": 195,
    "start_time": "2022-08-21T17:17:57.909Z"
   },
   {
    "duration": 38501,
    "start_time": "2022-08-21T17:17:58.106Z"
   },
   {
    "duration": 390,
    "start_time": "2022-08-21T17:18:36.608Z"
   },
   {
    "duration": 232998,
    "start_time": "2022-08-21T17:18:37.001Z"
   },
   {
    "duration": 901,
    "start_time": "2022-08-21T17:22:30.001Z"
   },
   {
    "duration": 7841,
    "start_time": "2022-08-21T17:22:30.904Z"
   },
   {
    "duration": 66,
    "start_time": "2022-08-21T17:22:38.746Z"
   },
   {
    "duration": 11925,
    "start_time": "2022-08-21T17:22:38.813Z"
   },
   {
    "duration": 60,
    "start_time": "2022-08-21T17:22:50.739Z"
   },
   {
    "duration": 3,
    "start_time": "2022-08-21T17:22:50.802Z"
   },
   {
    "duration": 9,
    "start_time": "2022-08-21T17:22:50.806Z"
   },
   {
    "duration": 19,
    "start_time": "2022-08-21T17:22:50.818Z"
   },
   {
    "duration": 17,
    "start_time": "2022-08-21T17:23:48.000Z"
   },
   {
    "duration": 45,
    "start_time": "2022-08-21T17:24:14.703Z"
   },
   {
    "duration": 2,
    "start_time": "2022-08-21T17:24:15.179Z"
   },
   {
    "duration": 17,
    "start_time": "2022-08-21T17:24:16.196Z"
   },
   {
    "duration": 3,
    "start_time": "2022-08-21T17:24:17.735Z"
   },
   {
    "duration": 12,
    "start_time": "2022-08-21T17:24:20.913Z"
   },
   {
    "duration": 80,
    "start_time": "2022-08-21T17:24:22.761Z"
   },
   {
    "duration": 11224,
    "start_time": "2022-08-21T17:24:30.578Z"
   },
   {
    "duration": 194,
    "start_time": "2022-08-21T17:24:41.804Z"
   },
   {
    "duration": 110,
    "start_time": "2022-08-21T17:24:44.839Z"
   },
   {
    "duration": 14214,
    "start_time": "2022-08-21T17:32:36.185Z"
   },
   {
    "duration": 120,
    "start_time": "2022-08-21T17:32:53.181Z"
   },
   {
    "duration": 237,
    "start_time": "2022-08-21T17:38:54.959Z"
   },
   {
    "duration": 4,
    "start_time": "2022-08-21T17:38:55.556Z"
   },
   {
    "duration": 45,
    "start_time": "2022-08-21T17:38:55.977Z"
   },
   {
    "duration": 2,
    "start_time": "2022-08-21T17:38:56.367Z"
   },
   {
    "duration": 21,
    "start_time": "2022-08-21T17:38:56.753Z"
   },
   {
    "duration": 3,
    "start_time": "2022-08-21T17:38:57.161Z"
   },
   {
    "duration": 13,
    "start_time": "2022-08-21T17:38:57.565Z"
   },
   {
    "duration": 101,
    "start_time": "2022-08-21T17:38:58.021Z"
   },
   {
    "duration": 13392,
    "start_time": "2022-08-21T17:39:00.708Z"
   },
   {
    "duration": 100,
    "start_time": "2022-08-21T17:39:14.102Z"
   },
   {
    "duration": 3,
    "start_time": "2022-08-21T17:44:41.641Z"
   },
   {
    "duration": 3,
    "start_time": "2022-08-21T17:51:14.068Z"
   },
   {
    "duration": 717,
    "start_time": "2022-08-21T17:51:14.073Z"
   },
   {
    "duration": 14,
    "start_time": "2022-08-21T17:51:14.792Z"
   },
   {
    "duration": 115,
    "start_time": "2022-08-21T17:51:14.807Z"
   },
   {
    "duration": 16,
    "start_time": "2022-08-21T17:51:14.924Z"
   },
   {
    "duration": 12,
    "start_time": "2022-08-21T17:51:14.941Z"
   },
   {
    "duration": 91,
    "start_time": "2022-08-21T17:51:14.954Z"
   },
   {
    "duration": 74,
    "start_time": "2022-08-21T17:51:15.047Z"
   },
   {
    "duration": 7,
    "start_time": "2022-08-21T17:51:15.123Z"
   },
   {
    "duration": 21,
    "start_time": "2022-08-21T17:51:15.131Z"
   },
   {
    "duration": 9,
    "start_time": "2022-08-21T17:51:15.154Z"
   },
   {
    "duration": 37,
    "start_time": "2022-08-21T17:51:15.165Z"
   },
   {
    "duration": 18,
    "start_time": "2022-08-21T17:51:15.205Z"
   },
   {
    "duration": 31,
    "start_time": "2022-08-21T17:51:15.224Z"
   },
   {
    "duration": 11,
    "start_time": "2022-08-21T17:51:15.256Z"
   },
   {
    "duration": 57,
    "start_time": "2022-08-21T17:51:15.269Z"
   },
   {
    "duration": 4,
    "start_time": "2022-08-21T17:51:15.327Z"
   },
   {
    "duration": 7,
    "start_time": "2022-08-21T17:51:15.333Z"
   },
   {
    "duration": 28,
    "start_time": "2022-08-21T17:51:15.341Z"
   },
   {
    "duration": 39,
    "start_time": "2022-08-21T17:51:15.371Z"
   },
   {
    "duration": 27,
    "start_time": "2022-08-21T17:51:15.412Z"
   },
   {
    "duration": 9,
    "start_time": "2022-08-21T17:51:15.440Z"
   },
   {
    "duration": 80,
    "start_time": "2022-08-21T17:51:15.450Z"
   },
   {
    "duration": 10,
    "start_time": "2022-08-21T17:51:15.532Z"
   },
   {
    "duration": 28,
    "start_time": "2022-08-21T17:51:15.544Z"
   },
   {
    "duration": 42,
    "start_time": "2022-08-21T17:51:15.573Z"
   },
   {
    "duration": 63,
    "start_time": "2022-08-21T17:51:15.616Z"
   },
   {
    "duration": 19,
    "start_time": "2022-08-21T17:51:15.680Z"
   },
   {
    "duration": 26,
    "start_time": "2022-08-21T17:51:15.700Z"
   },
   {
    "duration": 24,
    "start_time": "2022-08-21T17:51:15.728Z"
   },
   {
    "duration": 28,
    "start_time": "2022-08-21T17:51:15.753Z"
   },
   {
    "duration": 35,
    "start_time": "2022-08-21T17:51:15.782Z"
   },
   {
    "duration": 19,
    "start_time": "2022-08-21T17:51:15.818Z"
   },
   {
    "duration": 71,
    "start_time": "2022-08-21T17:51:15.839Z"
   },
   {
    "duration": 148,
    "start_time": "2022-08-21T17:51:15.912Z"
   },
   {
    "duration": 153,
    "start_time": "2022-08-21T17:51:16.062Z"
   },
   {
    "duration": 127,
    "start_time": "2022-08-21T17:51:16.218Z"
   },
   {
    "duration": 141,
    "start_time": "2022-08-21T17:51:16.347Z"
   },
   {
    "duration": 60,
    "start_time": "2022-08-21T17:51:16.489Z"
   },
   {
    "duration": 10,
    "start_time": "2022-08-21T17:51:16.550Z"
   },
   {
    "duration": 417,
    "start_time": "2022-08-21T17:51:16.562Z"
   },
   {
    "duration": 19,
    "start_time": "2022-08-21T17:51:16.980Z"
   },
   {
    "duration": 300,
    "start_time": "2022-08-21T17:51:17.000Z"
   },
   {
    "duration": 2,
    "start_time": "2022-08-21T17:51:17.302Z"
   },
   {
    "duration": 48,
    "start_time": "2022-08-21T17:51:17.306Z"
   },
   {
    "duration": 2,
    "start_time": "2022-08-21T17:51:17.356Z"
   },
   {
    "duration": 29,
    "start_time": "2022-08-21T17:51:17.360Z"
   },
   {
    "duration": 8,
    "start_time": "2022-08-21T17:51:17.390Z"
   },
   {
    "duration": 11,
    "start_time": "2022-08-21T17:51:17.400Z"
   },
   {
    "duration": 117,
    "start_time": "2022-08-21T17:51:17.413Z"
   },
   {
    "duration": 11471,
    "start_time": "2022-08-21T17:51:17.531Z"
   },
   {
    "duration": 102,
    "start_time": "2022-08-21T17:51:29.003Z"
   },
   {
    "duration": 2201,
    "start_time": "2022-08-21T17:51:29.106Z"
   },
   {
    "duration": 295,
    "start_time": "2022-08-21T17:51:31.308Z"
   },
   {
    "duration": 8802,
    "start_time": "2022-08-21T17:51:31.604Z"
   },
   {
    "duration": 993,
    "start_time": "2022-08-21T17:51:40.407Z"
   },
   {
    "duration": 7898,
    "start_time": "2022-08-21T17:51:41.402Z"
   },
   {
    "duration": 72,
    "start_time": "2022-08-21T17:51:49.302Z"
   },
   {
    "duration": 11947,
    "start_time": "2022-08-21T17:51:49.375Z"
   },
   {
    "duration": 59,
    "start_time": "2022-08-21T17:52:01.324Z"
   },
   {
    "duration": 4,
    "start_time": "2022-08-21T17:52:01.385Z"
   },
   {
    "duration": 19,
    "start_time": "2022-08-21T17:52:01.390Z"
   },
   {
    "duration": 3,
    "start_time": "2022-08-21T17:57:24.078Z"
   },
   {
    "duration": 739,
    "start_time": "2022-08-21T17:57:24.084Z"
   },
   {
    "duration": 13,
    "start_time": "2022-08-21T17:57:24.825Z"
   },
   {
    "duration": 124,
    "start_time": "2022-08-21T17:57:24.840Z"
   },
   {
    "duration": 15,
    "start_time": "2022-08-21T17:57:24.966Z"
   },
   {
    "duration": 20,
    "start_time": "2022-08-21T17:57:24.982Z"
   },
   {
    "duration": 81,
    "start_time": "2022-08-21T17:57:25.004Z"
   },
   {
    "duration": 75,
    "start_time": "2022-08-21T17:57:25.087Z"
   },
   {
    "duration": 9,
    "start_time": "2022-08-21T17:57:25.163Z"
   },
   {
    "duration": 36,
    "start_time": "2022-08-21T17:57:25.174Z"
   },
   {
    "duration": 8,
    "start_time": "2022-08-21T17:57:25.212Z"
   },
   {
    "duration": 20,
    "start_time": "2022-08-21T17:57:25.221Z"
   },
   {
    "duration": 21,
    "start_time": "2022-08-21T17:57:25.244Z"
   },
   {
    "duration": 46,
    "start_time": "2022-08-21T17:57:25.267Z"
   },
   {
    "duration": 11,
    "start_time": "2022-08-21T17:57:25.314Z"
   },
   {
    "duration": 30,
    "start_time": "2022-08-21T17:57:25.327Z"
   },
   {
    "duration": 3,
    "start_time": "2022-08-21T17:57:25.359Z"
   },
   {
    "duration": 6,
    "start_time": "2022-08-21T17:57:25.364Z"
   },
   {
    "duration": 50,
    "start_time": "2022-08-21T17:57:25.372Z"
   },
   {
    "duration": 18,
    "start_time": "2022-08-21T17:57:25.423Z"
   },
   {
    "duration": 30,
    "start_time": "2022-08-21T17:57:25.442Z"
   },
   {
    "duration": 8,
    "start_time": "2022-08-21T17:57:25.474Z"
   },
   {
    "duration": 77,
    "start_time": "2022-08-21T17:57:25.483Z"
   },
   {
    "duration": 10,
    "start_time": "2022-08-21T17:57:25.562Z"
   },
   {
    "duration": 45,
    "start_time": "2022-08-21T17:57:25.573Z"
   },
   {
    "duration": 31,
    "start_time": "2022-08-21T17:57:25.619Z"
   },
   {
    "duration": 71,
    "start_time": "2022-08-21T17:57:25.652Z"
   },
   {
    "duration": 7,
    "start_time": "2022-08-21T17:57:25.725Z"
   },
   {
    "duration": 27,
    "start_time": "2022-08-21T17:57:25.733Z"
   },
   {
    "duration": 39,
    "start_time": "2022-08-21T17:57:25.761Z"
   },
   {
    "duration": 33,
    "start_time": "2022-08-21T17:57:25.802Z"
   },
   {
    "duration": 34,
    "start_time": "2022-08-21T17:57:25.836Z"
   },
   {
    "duration": 29,
    "start_time": "2022-08-21T17:57:25.871Z"
   },
   {
    "duration": 61,
    "start_time": "2022-08-21T17:57:25.902Z"
   },
   {
    "duration": 153,
    "start_time": "2022-08-21T17:57:25.965Z"
   },
   {
    "duration": 175,
    "start_time": "2022-08-21T17:57:26.120Z"
   },
   {
    "duration": 131,
    "start_time": "2022-08-21T17:57:26.300Z"
   },
   {
    "duration": 138,
    "start_time": "2022-08-21T17:57:26.433Z"
   },
   {
    "duration": 65,
    "start_time": "2022-08-21T17:57:26.573Z"
   },
   {
    "duration": 9,
    "start_time": "2022-08-21T17:57:26.639Z"
   },
   {
    "duration": 399,
    "start_time": "2022-08-21T17:57:26.650Z"
   },
   {
    "duration": 14,
    "start_time": "2022-08-21T17:57:27.050Z"
   },
   {
    "duration": 301,
    "start_time": "2022-08-21T17:57:27.066Z"
   },
   {
    "duration": 4,
    "start_time": "2022-08-21T17:57:27.368Z"
   },
   {
    "duration": 57,
    "start_time": "2022-08-21T17:57:27.374Z"
   },
   {
    "duration": 3,
    "start_time": "2022-08-21T17:57:27.433Z"
   },
   {
    "duration": 19,
    "start_time": "2022-08-21T17:57:27.437Z"
   },
   {
    "duration": 2,
    "start_time": "2022-08-21T17:57:27.458Z"
   },
   {
    "duration": 15,
    "start_time": "2022-08-21T17:57:27.462Z"
   },
   {
    "duration": 113,
    "start_time": "2022-08-21T17:57:27.478Z"
   },
   {
    "duration": 12208,
    "start_time": "2022-08-21T17:57:27.592Z"
   },
   {
    "duration": 197,
    "start_time": "2022-08-21T17:57:39.803Z"
   },
   {
    "duration": 2103,
    "start_time": "2022-08-21T17:57:40.002Z"
   },
   {
    "duration": 298,
    "start_time": "2022-08-21T17:57:42.107Z"
   },
   {
    "duration": 8900,
    "start_time": "2022-08-21T17:57:42.407Z"
   },
   {
    "duration": 1003,
    "start_time": "2022-08-21T17:57:51.310Z"
   },
   {
    "duration": 7753,
    "start_time": "2022-08-21T17:57:52.398Z"
   },
   {
    "duration": 66,
    "start_time": "2022-08-21T17:58:00.153Z"
   },
   {
    "duration": 11854,
    "start_time": "2022-08-21T17:58:00.220Z"
   },
   {
    "duration": 62,
    "start_time": "2022-08-21T17:58:12.075Z"
   },
   {
    "duration": 3,
    "start_time": "2022-08-21T17:58:12.138Z"
   },
   {
    "duration": 10,
    "start_time": "2022-08-21T17:58:12.143Z"
   },
   {
    "duration": 3,
    "start_time": "2022-08-21T18:02:46.387Z"
   },
   {
    "duration": 8,
    "start_time": "2022-08-21T18:02:47.681Z"
   },
   {
    "duration": 8861,
    "start_time": "2022-08-21T18:03:34.890Z"
   },
   {
    "duration": 60,
    "start_time": "2022-08-21T18:03:43.753Z"
   },
   {
    "duration": 3,
    "start_time": "2022-08-21T18:05:48.336Z"
   },
   {
    "duration": 8,
    "start_time": "2022-08-21T18:05:51.018Z"
   },
   {
    "duration": 126,
    "start_time": "2022-08-21T18:30:25.920Z"
   },
   {
    "duration": 14699,
    "start_time": "2022-08-21T18:31:11.129Z"
   },
   {
    "duration": 9433,
    "start_time": "2022-08-21T18:31:51.878Z"
   },
   {
    "duration": 8543,
    "start_time": "2022-08-21T18:33:01.232Z"
   },
   {
    "duration": 3615,
    "start_time": "2022-08-21T18:33:19.334Z"
   },
   {
    "duration": 7222,
    "start_time": "2022-08-21T18:33:31.128Z"
   },
   {
    "duration": 8147,
    "start_time": "2022-08-21T18:33:49.417Z"
   },
   {
    "duration": 9194,
    "start_time": "2022-08-21T18:34:17.320Z"
   },
   {
    "duration": 1014,
    "start_time": "2022-08-21T18:43:55.521Z"
   },
   {
    "duration": 4,
    "start_time": "2022-08-21T18:44:40.009Z"
   },
   {
    "duration": 713,
    "start_time": "2022-08-21T18:44:40.014Z"
   },
   {
    "duration": 20,
    "start_time": "2022-08-21T18:44:40.729Z"
   },
   {
    "duration": 117,
    "start_time": "2022-08-21T18:44:40.750Z"
   },
   {
    "duration": 289,
    "start_time": "2022-08-21T18:44:40.869Z"
   },
   {
    "duration": 57,
    "start_time": "2022-08-21T18:53:29.017Z"
   }
  ],
  "kernelspec": {
   "display_name": "Python 3 (ipykernel)",
   "language": "python",
   "name": "python3"
  },
  "language_info": {
   "codemirror_mode": {
    "name": "ipython",
    "version": 3
   },
   "file_extension": ".py",
   "mimetype": "text/x-python",
   "name": "python",
   "nbconvert_exporter": "python",
   "pygments_lexer": "ipython3",
   "version": "3.9.12"
  },
  "toc": {
   "base_numbering": 1,
   "nav_menu": {},
   "number_sections": true,
   "sideBar": true,
   "skip_h1_title": true,
   "title_cell": "Содержание",
   "title_sidebar": "Contents",
   "toc_cell": true,
   "toc_position": {},
   "toc_section_display": true,
   "toc_window_display": true
  }
 },
 "nbformat": 4,
 "nbformat_minor": 2
}
