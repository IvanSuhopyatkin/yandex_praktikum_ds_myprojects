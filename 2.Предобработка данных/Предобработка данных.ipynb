{
 "cells": [
  {
   "cell_type": "markdown",
   "id": "a8b83d5e",
   "metadata": {
    "toc": true
   },
   "source": [
    "<h1>Содержание<span class=\"tocSkip\"></span></h1>\n",
    "<div class=\"toc\"><ul class=\"toc-item\"><li><span><a href=\"#Описание\" data-toc-modified-id=\"Описание-1\"><span class=\"toc-item-num\">1&nbsp;&nbsp;</span>Описание</a></span></li><li><span><a href=\"#Обзор-данных\" data-toc-modified-id=\"Обзор-данных-2\"><span class=\"toc-item-num\">2&nbsp;&nbsp;</span>Обзор данных</a></span></li><li><span><a href=\"#Предобработка-данных\" data-toc-modified-id=\"Предобработка-данных-3\"><span class=\"toc-item-num\">3&nbsp;&nbsp;</span>Предобработка данных</a></span><ul class=\"toc-item\"><li><span><a href=\"#Заполнение-пропусков\" data-toc-modified-id=\"Заполнение-пропусков-3.1\"><span class=\"toc-item-num\">3.1&nbsp;&nbsp;</span>Заполнение пропусков</a></span></li><li><span><a href=\"#Проверка-данных-на-аномалии-и-исправления.\" data-toc-modified-id=\"Проверка-данных-на-аномалии-и-исправления.-3.2\"><span class=\"toc-item-num\">3.2&nbsp;&nbsp;</span>Проверка данных на аномалии и исправления.</a></span></li><li><span><a href=\"#Изменение-типов-данных.\" data-toc-modified-id=\"Изменение-типов-данных.-3.3\"><span class=\"toc-item-num\">3.3&nbsp;&nbsp;</span>Изменение типов данных.</a></span></li><li><span><a href=\"#Удаление-дубликатов.\" data-toc-modified-id=\"Удаление-дубликатов.-3.4\"><span class=\"toc-item-num\">3.4&nbsp;&nbsp;</span>Удаление дубликатов.</a></span></li><li><span><a href=\"#Формирование-дополнительных-датафреймов-словарей,-декомпозиция-исходного-датафрейма.\" data-toc-modified-id=\"Формирование-дополнительных-датафреймов-словарей,-декомпозиция-исходного-датафрейма.-3.5\"><span class=\"toc-item-num\">3.5&nbsp;&nbsp;</span>Формирование дополнительных датафреймов словарей, декомпозиция исходного датафрейма.</a></span></li><li><span><a href=\"#Категоризация-дохода.\" data-toc-modified-id=\"Категоризация-дохода.-3.6\"><span class=\"toc-item-num\">3.6&nbsp;&nbsp;</span>Категоризация дохода.</a></span></li><li><span><a href=\"#Категоризация-целей-кредита.\" data-toc-modified-id=\"Категоризация-целей-кредита.-3.7\"><span class=\"toc-item-num\">3.7&nbsp;&nbsp;</span>Категоризация целей кредита.</a></span></li><li><span><a href=\"#Ответы-на-вопросы.\" data-toc-modified-id=\"Ответы-на-вопросы.-3.8\"><span class=\"toc-item-num\">3.8&nbsp;&nbsp;</span>Ответы на вопросы.</a></span></li></ul></li><li><span><a href=\"#Общий-вывод:\" data-toc-modified-id=\"Общий-вывод:-4\"><span class=\"toc-item-num\">4&nbsp;&nbsp;</span>Общий вывод:</a></span></li></ul></div>"
   ]
  },
  {
   "cell_type": "markdown",
   "id": "1b1321cc",
   "metadata": {},
   "source": [
    "## Описание"
   ]
  },
  {
   "cell_type": "markdown",
   "id": "262eb9f5",
   "metadata": {},
   "source": [
    "Для проверки платежеспособности нужно использовать таблицу со статистикой о платёжеспособности клиентов банка. Задача: выяснить  влияет ли семейное положение и количество детей клиента на факт погашения кредита в срок. \n",
    "Сначала предобработаем данные, а затем ответим на поставленные вопросы:\n",
    "\n",
    "Есть ли зависимость между наличием детей и возвратом кредита в срок?\n",
    "Есть ли зависимость между семейным положением и возвратом кредита в срок?\n",
    "Есть ли зависимость между уровнем дохода и возвратом кредита в срок?\n",
    "Как разные цели кредита влияют на его возврат в срок?"
   ]
  },
  {
   "cell_type": "markdown",
   "id": "a1d2ebda",
   "metadata": {},
   "source": [
    "## Обзор данных"
   ]
  },
  {
   "cell_type": "markdown",
   "id": "e878578c",
   "metadata": {},
   "source": [
    "Для начала импортируем библиотеку Пандас и проверим что данные выгружаются без ошибок:"
   ]
  },
  {
   "cell_type": "code",
   "execution_count": 59,
   "id": "fc073ac0",
   "metadata": {},
   "outputs": [
    {
     "data": {
      "text/html": [
       "<div>\n",
       "<style scoped>\n",
       "    .dataframe tbody tr th:only-of-type {\n",
       "        vertical-align: middle;\n",
       "    }\n",
       "\n",
       "    .dataframe tbody tr th {\n",
       "        vertical-align: top;\n",
       "    }\n",
       "\n",
       "    .dataframe thead th {\n",
       "        text-align: right;\n",
       "    }\n",
       "</style>\n",
       "<table border=\"1\" class=\"dataframe\">\n",
       "  <thead>\n",
       "    <tr style=\"text-align: right;\">\n",
       "      <th></th>\n",
       "      <th>children</th>\n",
       "      <th>days_employed</th>\n",
       "      <th>dob_years</th>\n",
       "      <th>education</th>\n",
       "      <th>education_id</th>\n",
       "      <th>family_status</th>\n",
       "      <th>family_status_id</th>\n",
       "      <th>gender</th>\n",
       "      <th>income_type</th>\n",
       "      <th>debt</th>\n",
       "      <th>total_income</th>\n",
       "      <th>purpose</th>\n",
       "    </tr>\n",
       "  </thead>\n",
       "  <tbody>\n",
       "    <tr>\n",
       "      <th>0</th>\n",
       "      <td>1</td>\n",
       "      <td>-8437.673028</td>\n",
       "      <td>42</td>\n",
       "      <td>высшее</td>\n",
       "      <td>0</td>\n",
       "      <td>женат / замужем</td>\n",
       "      <td>0</td>\n",
       "      <td>F</td>\n",
       "      <td>сотрудник</td>\n",
       "      <td>0</td>\n",
       "      <td>253875.639453</td>\n",
       "      <td>покупка жилья</td>\n",
       "    </tr>\n",
       "    <tr>\n",
       "      <th>1</th>\n",
       "      <td>1</td>\n",
       "      <td>-4024.803754</td>\n",
       "      <td>36</td>\n",
       "      <td>среднее</td>\n",
       "      <td>1</td>\n",
       "      <td>женат / замужем</td>\n",
       "      <td>0</td>\n",
       "      <td>F</td>\n",
       "      <td>сотрудник</td>\n",
       "      <td>0</td>\n",
       "      <td>112080.014102</td>\n",
       "      <td>приобретение автомобиля</td>\n",
       "    </tr>\n",
       "    <tr>\n",
       "      <th>2</th>\n",
       "      <td>0</td>\n",
       "      <td>-5623.422610</td>\n",
       "      <td>33</td>\n",
       "      <td>Среднее</td>\n",
       "      <td>1</td>\n",
       "      <td>женат / замужем</td>\n",
       "      <td>0</td>\n",
       "      <td>M</td>\n",
       "      <td>сотрудник</td>\n",
       "      <td>0</td>\n",
       "      <td>145885.952297</td>\n",
       "      <td>покупка жилья</td>\n",
       "    </tr>\n",
       "    <tr>\n",
       "      <th>3</th>\n",
       "      <td>3</td>\n",
       "      <td>-4124.747207</td>\n",
       "      <td>32</td>\n",
       "      <td>среднее</td>\n",
       "      <td>1</td>\n",
       "      <td>женат / замужем</td>\n",
       "      <td>0</td>\n",
       "      <td>M</td>\n",
       "      <td>сотрудник</td>\n",
       "      <td>0</td>\n",
       "      <td>267628.550329</td>\n",
       "      <td>дополнительное образование</td>\n",
       "    </tr>\n",
       "    <tr>\n",
       "      <th>4</th>\n",
       "      <td>0</td>\n",
       "      <td>340266.072047</td>\n",
       "      <td>53</td>\n",
       "      <td>среднее</td>\n",
       "      <td>1</td>\n",
       "      <td>гражданский брак</td>\n",
       "      <td>1</td>\n",
       "      <td>F</td>\n",
       "      <td>пенсионер</td>\n",
       "      <td>0</td>\n",
       "      <td>158616.077870</td>\n",
       "      <td>сыграть свадьбу</td>\n",
       "    </tr>\n",
       "    <tr>\n",
       "      <th>5</th>\n",
       "      <td>0</td>\n",
       "      <td>-926.185831</td>\n",
       "      <td>27</td>\n",
       "      <td>высшее</td>\n",
       "      <td>0</td>\n",
       "      <td>гражданский брак</td>\n",
       "      <td>1</td>\n",
       "      <td>M</td>\n",
       "      <td>компаньон</td>\n",
       "      <td>0</td>\n",
       "      <td>255763.565419</td>\n",
       "      <td>покупка жилья</td>\n",
       "    </tr>\n",
       "    <tr>\n",
       "      <th>6</th>\n",
       "      <td>0</td>\n",
       "      <td>-2879.202052</td>\n",
       "      <td>43</td>\n",
       "      <td>высшее</td>\n",
       "      <td>0</td>\n",
       "      <td>женат / замужем</td>\n",
       "      <td>0</td>\n",
       "      <td>F</td>\n",
       "      <td>компаньон</td>\n",
       "      <td>0</td>\n",
       "      <td>240525.971920</td>\n",
       "      <td>операции с жильем</td>\n",
       "    </tr>\n",
       "    <tr>\n",
       "      <th>7</th>\n",
       "      <td>0</td>\n",
       "      <td>-152.779569</td>\n",
       "      <td>50</td>\n",
       "      <td>СРЕДНЕЕ</td>\n",
       "      <td>1</td>\n",
       "      <td>женат / замужем</td>\n",
       "      <td>0</td>\n",
       "      <td>M</td>\n",
       "      <td>сотрудник</td>\n",
       "      <td>0</td>\n",
       "      <td>135823.934197</td>\n",
       "      <td>образование</td>\n",
       "    </tr>\n",
       "    <tr>\n",
       "      <th>8</th>\n",
       "      <td>2</td>\n",
       "      <td>-6929.865299</td>\n",
       "      <td>35</td>\n",
       "      <td>ВЫСШЕЕ</td>\n",
       "      <td>0</td>\n",
       "      <td>гражданский брак</td>\n",
       "      <td>1</td>\n",
       "      <td>F</td>\n",
       "      <td>сотрудник</td>\n",
       "      <td>0</td>\n",
       "      <td>95856.832424</td>\n",
       "      <td>на проведение свадьбы</td>\n",
       "    </tr>\n",
       "    <tr>\n",
       "      <th>9</th>\n",
       "      <td>0</td>\n",
       "      <td>-2188.756445</td>\n",
       "      <td>41</td>\n",
       "      <td>среднее</td>\n",
       "      <td>1</td>\n",
       "      <td>женат / замужем</td>\n",
       "      <td>0</td>\n",
       "      <td>M</td>\n",
       "      <td>сотрудник</td>\n",
       "      <td>0</td>\n",
       "      <td>144425.938277</td>\n",
       "      <td>покупка жилья для семьи</td>\n",
       "    </tr>\n",
       "    <tr>\n",
       "      <th>10</th>\n",
       "      <td>2</td>\n",
       "      <td>-4171.483647</td>\n",
       "      <td>36</td>\n",
       "      <td>высшее</td>\n",
       "      <td>0</td>\n",
       "      <td>женат / замужем</td>\n",
       "      <td>0</td>\n",
       "      <td>M</td>\n",
       "      <td>компаньон</td>\n",
       "      <td>0</td>\n",
       "      <td>113943.491460</td>\n",
       "      <td>покупка недвижимости</td>\n",
       "    </tr>\n",
       "    <tr>\n",
       "      <th>11</th>\n",
       "      <td>0</td>\n",
       "      <td>-792.701887</td>\n",
       "      <td>40</td>\n",
       "      <td>среднее</td>\n",
       "      <td>1</td>\n",
       "      <td>женат / замужем</td>\n",
       "      <td>0</td>\n",
       "      <td>F</td>\n",
       "      <td>сотрудник</td>\n",
       "      <td>0</td>\n",
       "      <td>77069.234271</td>\n",
       "      <td>покупка коммерческой недвижимости</td>\n",
       "    </tr>\n",
       "    <tr>\n",
       "      <th>12</th>\n",
       "      <td>0</td>\n",
       "      <td>NaN</td>\n",
       "      <td>65</td>\n",
       "      <td>среднее</td>\n",
       "      <td>1</td>\n",
       "      <td>гражданский брак</td>\n",
       "      <td>1</td>\n",
       "      <td>M</td>\n",
       "      <td>пенсионер</td>\n",
       "      <td>0</td>\n",
       "      <td>NaN</td>\n",
       "      <td>сыграть свадьбу</td>\n",
       "    </tr>\n",
       "    <tr>\n",
       "      <th>13</th>\n",
       "      <td>0</td>\n",
       "      <td>-1846.641941</td>\n",
       "      <td>54</td>\n",
       "      <td>неоконченное высшее</td>\n",
       "      <td>2</td>\n",
       "      <td>женат / замужем</td>\n",
       "      <td>0</td>\n",
       "      <td>F</td>\n",
       "      <td>сотрудник</td>\n",
       "      <td>0</td>\n",
       "      <td>130458.228857</td>\n",
       "      <td>приобретение автомобиля</td>\n",
       "    </tr>\n",
       "    <tr>\n",
       "      <th>14</th>\n",
       "      <td>0</td>\n",
       "      <td>-1844.956182</td>\n",
       "      <td>56</td>\n",
       "      <td>высшее</td>\n",
       "      <td>0</td>\n",
       "      <td>гражданский брак</td>\n",
       "      <td>1</td>\n",
       "      <td>F</td>\n",
       "      <td>компаньон</td>\n",
       "      <td>1</td>\n",
       "      <td>165127.911772</td>\n",
       "      <td>покупка жилой недвижимости</td>\n",
       "    </tr>\n",
       "  </tbody>\n",
       "</table>\n",
       "</div>"
      ],
      "text/plain": [
       "    children  days_employed  dob_years            education  education_id  \\\n",
       "0          1   -8437.673028         42               высшее             0   \n",
       "1          1   -4024.803754         36              среднее             1   \n",
       "2          0   -5623.422610         33              Среднее             1   \n",
       "3          3   -4124.747207         32              среднее             1   \n",
       "4          0  340266.072047         53              среднее             1   \n",
       "5          0    -926.185831         27               высшее             0   \n",
       "6          0   -2879.202052         43               высшее             0   \n",
       "7          0    -152.779569         50              СРЕДНЕЕ             1   \n",
       "8          2   -6929.865299         35               ВЫСШЕЕ             0   \n",
       "9          0   -2188.756445         41              среднее             1   \n",
       "10         2   -4171.483647         36               высшее             0   \n",
       "11         0    -792.701887         40              среднее             1   \n",
       "12         0            NaN         65              среднее             1   \n",
       "13         0   -1846.641941         54  неоконченное высшее             2   \n",
       "14         0   -1844.956182         56               высшее             0   \n",
       "\n",
       "       family_status  family_status_id gender income_type  debt  \\\n",
       "0    женат / замужем                 0      F   сотрудник     0   \n",
       "1    женат / замужем                 0      F   сотрудник     0   \n",
       "2    женат / замужем                 0      M   сотрудник     0   \n",
       "3    женат / замужем                 0      M   сотрудник     0   \n",
       "4   гражданский брак                 1      F   пенсионер     0   \n",
       "5   гражданский брак                 1      M   компаньон     0   \n",
       "6    женат / замужем                 0      F   компаньон     0   \n",
       "7    женат / замужем                 0      M   сотрудник     0   \n",
       "8   гражданский брак                 1      F   сотрудник     0   \n",
       "9    женат / замужем                 0      M   сотрудник     0   \n",
       "10   женат / замужем                 0      M   компаньон     0   \n",
       "11   женат / замужем                 0      F   сотрудник     0   \n",
       "12  гражданский брак                 1      M   пенсионер     0   \n",
       "13   женат / замужем                 0      F   сотрудник     0   \n",
       "14  гражданский брак                 1      F   компаньон     1   \n",
       "\n",
       "     total_income                            purpose  \n",
       "0   253875.639453                      покупка жилья  \n",
       "1   112080.014102            приобретение автомобиля  \n",
       "2   145885.952297                      покупка жилья  \n",
       "3   267628.550329         дополнительное образование  \n",
       "4   158616.077870                    сыграть свадьбу  \n",
       "5   255763.565419                      покупка жилья  \n",
       "6   240525.971920                  операции с жильем  \n",
       "7   135823.934197                        образование  \n",
       "8    95856.832424              на проведение свадьбы  \n",
       "9   144425.938277            покупка жилья для семьи  \n",
       "10  113943.491460               покупка недвижимости  \n",
       "11   77069.234271  покупка коммерческой недвижимости  \n",
       "12            NaN                    сыграть свадьбу  \n",
       "13  130458.228857            приобретение автомобиля  \n",
       "14  165127.911772         покупка жилой недвижимости  "
      ]
     },
     "execution_count": 59,
     "metadata": {},
     "output_type": "execute_result"
    }
   ],
   "source": [
    "import pandas as pd\n",
    "data = pd.read_csv('data.csv')\n",
    "data.head(15)\n",
    "\n"
   ]
  },
  {
   "cell_type": "code",
   "execution_count": 60,
   "id": "ea1c604c",
   "metadata": {},
   "outputs": [
    {
     "name": "stdout",
     "output_type": "stream",
     "text": [
      "<class 'pandas.core.frame.DataFrame'>\n",
      "RangeIndex: 21525 entries, 0 to 21524\n",
      "Data columns (total 12 columns):\n",
      " #   Column            Non-Null Count  Dtype  \n",
      "---  ------            --------------  -----  \n",
      " 0   children          21525 non-null  int64  \n",
      " 1   days_employed     19351 non-null  float64\n",
      " 2   dob_years         21525 non-null  int64  \n",
      " 3   education         21525 non-null  object \n",
      " 4   education_id      21525 non-null  int64  \n",
      " 5   family_status     21525 non-null  object \n",
      " 6   family_status_id  21525 non-null  int64  \n",
      " 7   gender            21525 non-null  object \n",
      " 8   income_type       21525 non-null  object \n",
      " 9   debt              21525 non-null  int64  \n",
      " 10  total_income      19351 non-null  float64\n",
      " 11  purpose           21525 non-null  object \n",
      "dtypes: float64(2), int64(5), object(5)\n",
      "memory usage: 2.0+ MB\n"
     ]
    }
   ],
   "source": [
    "data.info()"
   ]
  },
  {
   "cell_type": "markdown",
   "id": "40f86c1f",
   "metadata": {},
   "source": [
    "использовав метод info() выведем информацию о данных. Видно что в days_employed и total_income есть пропущенные значения. Так же видно что в days_employed есть отрицательные значения, что неправильно. В education есть повторяющиеся значения, как например \"ВЫСШЕЕ\" и \"высшее\".\n",
    "в days_employed пропущенные значения вероятно появились из-за невозможности узнать точный трудовой стаж. Аналогично с total_income, но возможно люди отказались делиться такой информацией.Лучше всего заполнить пропуски в этих столбцах медианным значением потому что это не повлияет на набор общий данных, так как доля пропусков составляет около 10%. \n",
    "\n",
    "Узнаем сколько Nan и None в данных:"
   ]
  },
  {
   "cell_type": "code",
   "execution_count": 61,
   "id": "fbfb137d",
   "metadata": {},
   "outputs": [
    {
     "data": {
      "text/plain": [
       "children               0\n",
       "days_employed       2174\n",
       "dob_years              0\n",
       "education              0\n",
       "education_id           0\n",
       "family_status          0\n",
       "family_status_id       0\n",
       "gender                 0\n",
       "income_type            0\n",
       "debt                   0\n",
       "total_income        2174\n",
       "purpose                0\n",
       "dtype: int64"
      ]
     },
     "execution_count": 61,
     "metadata": {},
     "output_type": "execute_result"
    }
   ],
   "source": [
    "\n",
    "data.isna().sum()"
   ]
  },
  {
   "cell_type": "markdown",
   "id": "0c4bf6a7",
   "metadata": {},
   "source": [
    "## Предобработка данных"
   ]
  },
  {
   "cell_type": "markdown",
   "id": "6ff7be0e",
   "metadata": {},
   "source": [
    "### Заполнение пропусков"
   ]
  },
  {
   "cell_type": "markdown",
   "id": "c7534e1f",
   "metadata": {},
   "source": [
    "уберем все отрицательные значения days_employed умножив их на единицу:"
   ]
  },
  {
   "cell_type": "code",
   "execution_count": 62,
   "id": "9c7d2870",
   "metadata": {},
   "outputs": [],
   "source": [
    "data.loc[data['days_employed'] < 1 , 'days_employed'] = data.loc[data['days_employed'] < 1 , 'days_employed']*(-1)"
   ]
  },
  {
   "cell_type": "markdown",
   "id": "fc7e05a7",
   "metadata": {},
   "source": [
    "рассчитаем медианные значением в столбцах days_employed и total_income:"
   ]
  },
  {
   "cell_type": "code",
   "execution_count": 63,
   "id": "41f5e789",
   "metadata": {},
   "outputs": [
    {
     "name": "stdout",
     "output_type": "stream",
     "text": [
      "2194.220566878695\n",
      "145017.93753253992\n"
     ]
    }
   ],
   "source": [
    "days_employed_median=data['days_employed'].median()\n",
    "total_income_median=data['total_income'].median()\n",
    "\n",
    "print(days_employed_median)\n",
    "print(total_income_median)\n",
    " \n"
   ]
  },
  {
   "cell_type": "markdown",
   "id": "4944e6fd",
   "metadata": {},
   "source": [
    "среднее количество трудового стажа составляет примерно 2194 дней, а ежемесечного дохода 145017."
   ]
  },
  {
   "cell_type": "markdown",
   "id": "a7c45039",
   "metadata": {},
   "source": [
    "и заменим пропуски медианным значением в столбцах days_employed и total_income:"
   ]
  },
  {
   "cell_type": "code",
   "execution_count": 64,
   "id": "88413079",
   "metadata": {},
   "outputs": [],
   "source": [
    "data['days_employed'] = data['days_employed'].fillna(days_employed_median) "
   ]
  },
  {
   "cell_type": "code",
   "execution_count": 65,
   "id": "55ffebb7",
   "metadata": {},
   "outputs": [],
   "source": [
    "data['total_income'] = data['total_income'].fillna(total_income_median) "
   ]
  },
  {
   "cell_type": "markdown",
   "id": "99afa011",
   "metadata": {},
   "source": [
    "### Проверка данных на аномалии и исправления."
   ]
  },
  {
   "cell_type": "markdown",
   "id": "fca23ccd",
   "metadata": {},
   "source": [
    "Проверим что NaN и None больше нет:"
   ]
  },
  {
   "cell_type": "code",
   "execution_count": 66,
   "id": "f1263830",
   "metadata": {},
   "outputs": [
    {
     "data": {
      "text/plain": [
       "children            0\n",
       "days_employed       0\n",
       "dob_years           0\n",
       "education           0\n",
       "education_id        0\n",
       "family_status       0\n",
       "family_status_id    0\n",
       "gender              0\n",
       "income_type         0\n",
       "debt                0\n",
       "total_income        0\n",
       "purpose             0\n",
       "dtype: int64"
      ]
     },
     "execution_count": 66,
     "metadata": {},
     "output_type": "execute_result"
    }
   ],
   "source": [
    "data.isna().sum()"
   ]
  },
  {
   "cell_type": "code",
   "execution_count": 67,
   "id": "55cb219b",
   "metadata": {},
   "outputs": [
    {
     "data": {
      "text/html": [
       "<div>\n",
       "<style scoped>\n",
       "    .dataframe tbody tr th:only-of-type {\n",
       "        vertical-align: middle;\n",
       "    }\n",
       "\n",
       "    .dataframe tbody tr th {\n",
       "        vertical-align: top;\n",
       "    }\n",
       "\n",
       "    .dataframe thead th {\n",
       "        text-align: right;\n",
       "    }\n",
       "</style>\n",
       "<table border=\"1\" class=\"dataframe\">\n",
       "  <thead>\n",
       "    <tr style=\"text-align: right;\">\n",
       "      <th></th>\n",
       "      <th>children</th>\n",
       "      <th>days_employed</th>\n",
       "      <th>dob_years</th>\n",
       "      <th>education</th>\n",
       "      <th>education_id</th>\n",
       "      <th>family_status</th>\n",
       "      <th>family_status_id</th>\n",
       "      <th>gender</th>\n",
       "      <th>income_type</th>\n",
       "      <th>debt</th>\n",
       "      <th>total_income</th>\n",
       "      <th>purpose</th>\n",
       "    </tr>\n",
       "  </thead>\n",
       "  <tbody>\n",
       "    <tr>\n",
       "      <th>0</th>\n",
       "      <td>1</td>\n",
       "      <td>8437.673028</td>\n",
       "      <td>42</td>\n",
       "      <td>высшее</td>\n",
       "      <td>0</td>\n",
       "      <td>женат / замужем</td>\n",
       "      <td>0</td>\n",
       "      <td>F</td>\n",
       "      <td>сотрудник</td>\n",
       "      <td>0</td>\n",
       "      <td>253875.639453</td>\n",
       "      <td>покупка жилья</td>\n",
       "    </tr>\n",
       "    <tr>\n",
       "      <th>1</th>\n",
       "      <td>1</td>\n",
       "      <td>4024.803754</td>\n",
       "      <td>36</td>\n",
       "      <td>среднее</td>\n",
       "      <td>1</td>\n",
       "      <td>женат / замужем</td>\n",
       "      <td>0</td>\n",
       "      <td>F</td>\n",
       "      <td>сотрудник</td>\n",
       "      <td>0</td>\n",
       "      <td>112080.014102</td>\n",
       "      <td>приобретение автомобиля</td>\n",
       "    </tr>\n",
       "    <tr>\n",
       "      <th>2</th>\n",
       "      <td>0</td>\n",
       "      <td>5623.422610</td>\n",
       "      <td>33</td>\n",
       "      <td>Среднее</td>\n",
       "      <td>1</td>\n",
       "      <td>женат / замужем</td>\n",
       "      <td>0</td>\n",
       "      <td>M</td>\n",
       "      <td>сотрудник</td>\n",
       "      <td>0</td>\n",
       "      <td>145885.952297</td>\n",
       "      <td>покупка жилья</td>\n",
       "    </tr>\n",
       "    <tr>\n",
       "      <th>3</th>\n",
       "      <td>3</td>\n",
       "      <td>4124.747207</td>\n",
       "      <td>32</td>\n",
       "      <td>среднее</td>\n",
       "      <td>1</td>\n",
       "      <td>женат / замужем</td>\n",
       "      <td>0</td>\n",
       "      <td>M</td>\n",
       "      <td>сотрудник</td>\n",
       "      <td>0</td>\n",
       "      <td>267628.550329</td>\n",
       "      <td>дополнительное образование</td>\n",
       "    </tr>\n",
       "    <tr>\n",
       "      <th>4</th>\n",
       "      <td>0</td>\n",
       "      <td>340266.072047</td>\n",
       "      <td>53</td>\n",
       "      <td>среднее</td>\n",
       "      <td>1</td>\n",
       "      <td>гражданский брак</td>\n",
       "      <td>1</td>\n",
       "      <td>F</td>\n",
       "      <td>пенсионер</td>\n",
       "      <td>0</td>\n",
       "      <td>158616.077870</td>\n",
       "      <td>сыграть свадьбу</td>\n",
       "    </tr>\n",
       "    <tr>\n",
       "      <th>5</th>\n",
       "      <td>0</td>\n",
       "      <td>926.185831</td>\n",
       "      <td>27</td>\n",
       "      <td>высшее</td>\n",
       "      <td>0</td>\n",
       "      <td>гражданский брак</td>\n",
       "      <td>1</td>\n",
       "      <td>M</td>\n",
       "      <td>компаньон</td>\n",
       "      <td>0</td>\n",
       "      <td>255763.565419</td>\n",
       "      <td>покупка жилья</td>\n",
       "    </tr>\n",
       "    <tr>\n",
       "      <th>6</th>\n",
       "      <td>0</td>\n",
       "      <td>2879.202052</td>\n",
       "      <td>43</td>\n",
       "      <td>высшее</td>\n",
       "      <td>0</td>\n",
       "      <td>женат / замужем</td>\n",
       "      <td>0</td>\n",
       "      <td>F</td>\n",
       "      <td>компаньон</td>\n",
       "      <td>0</td>\n",
       "      <td>240525.971920</td>\n",
       "      <td>операции с жильем</td>\n",
       "    </tr>\n",
       "    <tr>\n",
       "      <th>7</th>\n",
       "      <td>0</td>\n",
       "      <td>152.779569</td>\n",
       "      <td>50</td>\n",
       "      <td>СРЕДНЕЕ</td>\n",
       "      <td>1</td>\n",
       "      <td>женат / замужем</td>\n",
       "      <td>0</td>\n",
       "      <td>M</td>\n",
       "      <td>сотрудник</td>\n",
       "      <td>0</td>\n",
       "      <td>135823.934197</td>\n",
       "      <td>образование</td>\n",
       "    </tr>\n",
       "    <tr>\n",
       "      <th>8</th>\n",
       "      <td>2</td>\n",
       "      <td>6929.865299</td>\n",
       "      <td>35</td>\n",
       "      <td>ВЫСШЕЕ</td>\n",
       "      <td>0</td>\n",
       "      <td>гражданский брак</td>\n",
       "      <td>1</td>\n",
       "      <td>F</td>\n",
       "      <td>сотрудник</td>\n",
       "      <td>0</td>\n",
       "      <td>95856.832424</td>\n",
       "      <td>на проведение свадьбы</td>\n",
       "    </tr>\n",
       "    <tr>\n",
       "      <th>9</th>\n",
       "      <td>0</td>\n",
       "      <td>2188.756445</td>\n",
       "      <td>41</td>\n",
       "      <td>среднее</td>\n",
       "      <td>1</td>\n",
       "      <td>женат / замужем</td>\n",
       "      <td>0</td>\n",
       "      <td>M</td>\n",
       "      <td>сотрудник</td>\n",
       "      <td>0</td>\n",
       "      <td>144425.938277</td>\n",
       "      <td>покупка жилья для семьи</td>\n",
       "    </tr>\n",
       "    <tr>\n",
       "      <th>10</th>\n",
       "      <td>2</td>\n",
       "      <td>4171.483647</td>\n",
       "      <td>36</td>\n",
       "      <td>высшее</td>\n",
       "      <td>0</td>\n",
       "      <td>женат / замужем</td>\n",
       "      <td>0</td>\n",
       "      <td>M</td>\n",
       "      <td>компаньон</td>\n",
       "      <td>0</td>\n",
       "      <td>113943.491460</td>\n",
       "      <td>покупка недвижимости</td>\n",
       "    </tr>\n",
       "    <tr>\n",
       "      <th>11</th>\n",
       "      <td>0</td>\n",
       "      <td>792.701887</td>\n",
       "      <td>40</td>\n",
       "      <td>среднее</td>\n",
       "      <td>1</td>\n",
       "      <td>женат / замужем</td>\n",
       "      <td>0</td>\n",
       "      <td>F</td>\n",
       "      <td>сотрудник</td>\n",
       "      <td>0</td>\n",
       "      <td>77069.234271</td>\n",
       "      <td>покупка коммерческой недвижимости</td>\n",
       "    </tr>\n",
       "    <tr>\n",
       "      <th>12</th>\n",
       "      <td>0</td>\n",
       "      <td>2194.220567</td>\n",
       "      <td>65</td>\n",
       "      <td>среднее</td>\n",
       "      <td>1</td>\n",
       "      <td>гражданский брак</td>\n",
       "      <td>1</td>\n",
       "      <td>M</td>\n",
       "      <td>пенсионер</td>\n",
       "      <td>0</td>\n",
       "      <td>145017.937533</td>\n",
       "      <td>сыграть свадьбу</td>\n",
       "    </tr>\n",
       "    <tr>\n",
       "      <th>13</th>\n",
       "      <td>0</td>\n",
       "      <td>1846.641941</td>\n",
       "      <td>54</td>\n",
       "      <td>неоконченное высшее</td>\n",
       "      <td>2</td>\n",
       "      <td>женат / замужем</td>\n",
       "      <td>0</td>\n",
       "      <td>F</td>\n",
       "      <td>сотрудник</td>\n",
       "      <td>0</td>\n",
       "      <td>130458.228857</td>\n",
       "      <td>приобретение автомобиля</td>\n",
       "    </tr>\n",
       "    <tr>\n",
       "      <th>14</th>\n",
       "      <td>0</td>\n",
       "      <td>1844.956182</td>\n",
       "      <td>56</td>\n",
       "      <td>высшее</td>\n",
       "      <td>0</td>\n",
       "      <td>гражданский брак</td>\n",
       "      <td>1</td>\n",
       "      <td>F</td>\n",
       "      <td>компаньон</td>\n",
       "      <td>1</td>\n",
       "      <td>165127.911772</td>\n",
       "      <td>покупка жилой недвижимости</td>\n",
       "    </tr>\n",
       "  </tbody>\n",
       "</table>\n",
       "</div>"
      ],
      "text/plain": [
       "    children  days_employed  dob_years            education  education_id  \\\n",
       "0          1    8437.673028         42               высшее             0   \n",
       "1          1    4024.803754         36              среднее             1   \n",
       "2          0    5623.422610         33              Среднее             1   \n",
       "3          3    4124.747207         32              среднее             1   \n",
       "4          0  340266.072047         53              среднее             1   \n",
       "5          0     926.185831         27               высшее             0   \n",
       "6          0    2879.202052         43               высшее             0   \n",
       "7          0     152.779569         50              СРЕДНЕЕ             1   \n",
       "8          2    6929.865299         35               ВЫСШЕЕ             0   \n",
       "9          0    2188.756445         41              среднее             1   \n",
       "10         2    4171.483647         36               высшее             0   \n",
       "11         0     792.701887         40              среднее             1   \n",
       "12         0    2194.220567         65              среднее             1   \n",
       "13         0    1846.641941         54  неоконченное высшее             2   \n",
       "14         0    1844.956182         56               высшее             0   \n",
       "\n",
       "       family_status  family_status_id gender income_type  debt  \\\n",
       "0    женат / замужем                 0      F   сотрудник     0   \n",
       "1    женат / замужем                 0      F   сотрудник     0   \n",
       "2    женат / замужем                 0      M   сотрудник     0   \n",
       "3    женат / замужем                 0      M   сотрудник     0   \n",
       "4   гражданский брак                 1      F   пенсионер     0   \n",
       "5   гражданский брак                 1      M   компаньон     0   \n",
       "6    женат / замужем                 0      F   компаньон     0   \n",
       "7    женат / замужем                 0      M   сотрудник     0   \n",
       "8   гражданский брак                 1      F   сотрудник     0   \n",
       "9    женат / замужем                 0      M   сотрудник     0   \n",
       "10   женат / замужем                 0      M   компаньон     0   \n",
       "11   женат / замужем                 0      F   сотрудник     0   \n",
       "12  гражданский брак                 1      M   пенсионер     0   \n",
       "13   женат / замужем                 0      F   сотрудник     0   \n",
       "14  гражданский брак                 1      F   компаньон     1   \n",
       "\n",
       "     total_income                            purpose  \n",
       "0   253875.639453                      покупка жилья  \n",
       "1   112080.014102            приобретение автомобиля  \n",
       "2   145885.952297                      покупка жилья  \n",
       "3   267628.550329         дополнительное образование  \n",
       "4   158616.077870                    сыграть свадьбу  \n",
       "5   255763.565419                      покупка жилья  \n",
       "6   240525.971920                  операции с жильем  \n",
       "7   135823.934197                        образование  \n",
       "8    95856.832424              на проведение свадьбы  \n",
       "9   144425.938277            покупка жилья для семьи  \n",
       "10  113943.491460               покупка недвижимости  \n",
       "11   77069.234271  покупка коммерческой недвижимости  \n",
       "12  145017.937533                    сыграть свадьбу  \n",
       "13  130458.228857            приобретение автомобиля  \n",
       "14  165127.911772         покупка жилой недвижимости  "
      ]
     },
     "metadata": {},
     "output_type": "display_data"
    }
   ],
   "source": [
    "display(data.head(15))"
   ]
  },
  {
   "cell_type": "markdown",
   "id": "9e291205",
   "metadata": {},
   "source": [
    "Как видно из таблицы отрицательных значений в days_employed больше нет"
   ]
  },
  {
   "cell_type": "markdown",
   "id": "fbd2253b",
   "metadata": {},
   "source": [
    "### Изменение типов данных."
   ]
  },
  {
   "cell_type": "markdown",
   "id": "65abf429",
   "metadata": {},
   "source": [
    "изменим тип float64 столбца total_income:"
   ]
  },
  {
   "cell_type": "code",
   "execution_count": 68,
   "id": "dd156064",
   "metadata": {},
   "outputs": [],
   "source": [
    "data['total_income'] = data['total_income'].astype('int')\n",
    "\n"
   ]
  },
  {
   "cell_type": "markdown",
   "id": "edca426e",
   "metadata": {},
   "source": [
    "И проверим что все изменилось:"
   ]
  },
  {
   "cell_type": "code",
   "execution_count": 69,
   "id": "2f9dbf38",
   "metadata": {},
   "outputs": [
    {
     "name": "stdout",
     "output_type": "stream",
     "text": [
      "<class 'pandas.core.frame.DataFrame'>\n",
      "RangeIndex: 21525 entries, 0 to 21524\n",
      "Data columns (total 12 columns):\n",
      " #   Column            Non-Null Count  Dtype  \n",
      "---  ------            --------------  -----  \n",
      " 0   children          21525 non-null  int64  \n",
      " 1   days_employed     21525 non-null  float64\n",
      " 2   dob_years         21525 non-null  int64  \n",
      " 3   education         21525 non-null  object \n",
      " 4   education_id      21525 non-null  int64  \n",
      " 5   family_status     21525 non-null  object \n",
      " 6   family_status_id  21525 non-null  int64  \n",
      " 7   gender            21525 non-null  object \n",
      " 8   income_type       21525 non-null  object \n",
      " 9   debt              21525 non-null  int64  \n",
      " 10  total_income      21525 non-null  int32  \n",
      " 11  purpose           21525 non-null  object \n",
      "dtypes: float64(1), int32(1), int64(5), object(5)\n",
      "memory usage: 1.9+ MB\n"
     ]
    }
   ],
   "source": [
    "data.info()"
   ]
  },
  {
   "cell_type": "markdown",
   "id": "54ec7a16",
   "metadata": {},
   "source": [
    "### Удаление дубликатов."
   ]
  },
  {
   "cell_type": "markdown",
   "id": "7c5eba0b",
   "metadata": {},
   "source": [
    "\n",
    "применив метод value_counts убедимся что в шкале education есть неявные дубликаты:"
   ]
  },
  {
   "cell_type": "code",
   "execution_count": 70,
   "id": "14820eb8",
   "metadata": {},
   "outputs": [
    {
     "name": "stdout",
     "output_type": "stream",
     "text": [
      "среднее                13750\n",
      "высшее                  4718\n",
      "СРЕДНЕЕ                  772\n",
      "Среднее                  711\n",
      "неоконченное высшее      668\n",
      "ВЫСШЕЕ                   274\n",
      "Высшее                   268\n",
      "начальное                250\n",
      "Неоконченное высшее       47\n",
      "НЕОКОНЧЕННОЕ ВЫСШЕЕ       29\n",
      "НАЧАЛЬНОЕ                 17\n",
      "Начальное                 15\n",
      "ученая степень             4\n",
      "Ученая степень             1\n",
      "УЧЕНАЯ СТЕПЕНЬ             1\n",
      "Name: education, dtype: int64\n"
     ]
    }
   ],
   "source": [
    "print(data['education'].value_counts()) "
   ]
  },
  {
   "cell_type": "markdown",
   "id": "32416014",
   "metadata": {},
   "source": [
    "заменим все значения к нижнему регистру вызовом метода str.lower:"
   ]
  },
  {
   "cell_type": "code",
   "execution_count": 71,
   "id": "31416231",
   "metadata": {},
   "outputs": [],
   "source": [
    "data['education'] = data['education'].str.lower()\n"
   ]
  },
  {
   "cell_type": "markdown",
   "id": "c3aa96df",
   "metadata": {},
   "source": [
    "посчитаем общее число дубликатов в таблице:"
   ]
  },
  {
   "cell_type": "code",
   "execution_count": 72,
   "id": "f8bd7eaf",
   "metadata": {},
   "outputs": [
    {
     "data": {
      "text/plain": [
       "71"
      ]
     },
     "execution_count": 72,
     "metadata": {},
     "output_type": "execute_result"
    }
   ],
   "source": [
    "data.duplicated().sum()"
   ]
  },
  {
   "cell_type": "markdown",
   "id": "2c85e5ae",
   "metadata": {},
   "source": [
    "удалим дубликаты из данных:"
   ]
  },
  {
   "cell_type": "code",
   "execution_count": 73,
   "id": "5669d20a",
   "metadata": {},
   "outputs": [],
   "source": [
    "data=data.drop_duplicates()"
   ]
  },
  {
   "cell_type": "markdown",
   "id": "72b4d748",
   "metadata": {},
   "source": [
    "проверим что дубликаты действительно удалились:"
   ]
  },
  {
   "cell_type": "code",
   "execution_count": 74,
   "id": "34cdbbdd",
   "metadata": {},
   "outputs": [
    {
     "data": {
      "text/plain": [
       "0"
      ]
     },
     "execution_count": 74,
     "metadata": {},
     "output_type": "execute_result"
    }
   ],
   "source": [
    "data.duplicated().sum()"
   ]
  },
  {
   "cell_type": "markdown",
   "id": "0c1c2534",
   "metadata": {},
   "source": [
    "проверим что неявные дубликаты в столбце education удалены:"
   ]
  },
  {
   "cell_type": "code",
   "execution_count": 75,
   "id": "e6f01bfc",
   "metadata": {},
   "outputs": [
    {
     "name": "stdout",
     "output_type": "stream",
     "text": [
      "среднее                15172\n",
      "высшее                  5250\n",
      "неоконченное высшее      744\n",
      "начальное                282\n",
      "ученая степень             6\n",
      "Name: education, dtype: int64\n"
     ]
    }
   ],
   "source": [
    "print(data['education'].value_counts()) "
   ]
  },
  {
   "cell_type": "markdown",
   "id": "653059a0",
   "metadata": {},
   "source": [
    "аналогично проверим другим столбцы:"
   ]
  },
  {
   "cell_type": "code",
   "execution_count": 76,
   "id": "a3f5c2c5",
   "metadata": {},
   "outputs": [
    {
     "name": "stdout",
     "output_type": "stream",
     "text": [
      " 0     14091\n",
      " 1      4808\n",
      " 2      2052\n",
      " 3       330\n",
      " 20       76\n",
      "-1        47\n",
      " 4        41\n",
      " 5         9\n",
      "Name: children, dtype: int64\n"
     ]
    }
   ],
   "source": [
    "print(data['children'].value_counts()) "
   ]
  },
  {
   "cell_type": "markdown",
   "id": "277a3e8e",
   "metadata": {},
   "source": [
    "отрицательное количество детей это аномалия, поэтому заменим значение -1 на 1:"
   ]
  },
  {
   "cell_type": "code",
   "execution_count": 77,
   "id": "6bc8f57a",
   "metadata": {},
   "outputs": [],
   "source": [
    "data.loc[data['children'] == -1 , 'children'] = data.loc[data['children'] == -1 , 'children']*(-1)"
   ]
  },
  {
   "cell_type": "markdown",
   "id": "3a2675da",
   "metadata": {},
   "source": [
    "проверим что -1 больше нет в столбце children:"
   ]
  },
  {
   "cell_type": "code",
   "execution_count": 78,
   "id": "c92fe6f4",
   "metadata": {},
   "outputs": [
    {
     "name": "stdout",
     "output_type": "stream",
     "text": [
      "0     14091\n",
      "1      4855\n",
      "2      2052\n",
      "3       330\n",
      "20       76\n",
      "4        41\n",
      "5         9\n",
      "Name: children, dtype: int64\n"
     ]
    }
   ],
   "source": [
    "print(data['children'].value_counts()) "
   ]
  },
  {
   "cell_type": "markdown",
   "id": "cab84fd1",
   "metadata": {},
   "source": [
    "Имеется 76 человек у которых 20 детей. Значение является аномальным. Предположу что это ошибка ввода данных и заменю все значения 20 на 2: \n",
    "К тому же нет значений больше 5 кроме 20 детей."
   ]
  },
  {
   "cell_type": "code",
   "execution_count": 79,
   "id": "0bf4ba4e",
   "metadata": {},
   "outputs": [],
   "source": [
    "data.loc[data[\"children\"] == 20,\"children\"]= 2\n"
   ]
  },
  {
   "cell_type": "markdown",
   "id": "cac5bfac",
   "metadata": {},
   "source": [
    "и проверим что значений 20 больше нет:"
   ]
  },
  {
   "cell_type": "code",
   "execution_count": 80,
   "id": "c317206d",
   "metadata": {},
   "outputs": [
    {
     "name": "stdout",
     "output_type": "stream",
     "text": [
      "0    14091\n",
      "1     4855\n",
      "2     2128\n",
      "3      330\n",
      "4       41\n",
      "5        9\n",
      "Name: children, dtype: int64\n"
     ]
    }
   ],
   "source": [
    "print(data['children'].value_counts()) "
   ]
  },
  {
   "cell_type": "code",
   "execution_count": 81,
   "id": "b7d08fd9",
   "metadata": {},
   "outputs": [
    {
     "name": "stdout",
     "output_type": "stream",
     "text": [
      "35    616\n",
      "40    607\n",
      "41    605\n",
      "34    601\n",
      "38    597\n",
      "42    596\n",
      "33    581\n",
      "39    572\n",
      "31    559\n",
      "36    554\n",
      "44    545\n",
      "29    544\n",
      "30    537\n",
      "48    536\n",
      "37    536\n",
      "50    513\n",
      "43    512\n",
      "32    509\n",
      "49    508\n",
      "28    503\n",
      "45    496\n",
      "27    493\n",
      "52    484\n",
      "56    483\n",
      "47    477\n",
      "54    476\n",
      "46    472\n",
      "53    459\n",
      "57    456\n",
      "58    454\n",
      "51    446\n",
      "59    443\n",
      "55    443\n",
      "26    408\n",
      "60    374\n",
      "25    357\n",
      "61    354\n",
      "62    348\n",
      "63    269\n",
      "24    264\n",
      "64    260\n",
      "23    252\n",
      "65    193\n",
      "22    183\n",
      "66    182\n",
      "67    167\n",
      "21    111\n",
      "0     101\n",
      "68     99\n",
      "69     85\n",
      "70     65\n",
      "71     56\n",
      "20     51\n",
      "72     33\n",
      "19     14\n",
      "73      8\n",
      "74      6\n",
      "75      1\n",
      "Name: dob_years, dtype: int64\n"
     ]
    }
   ],
   "source": [
    "print(data['dob_years'].value_counts()) "
   ]
  },
  {
   "cell_type": "markdown",
   "id": "9fdf50da",
   "metadata": {},
   "source": [
    "в столбце dob_years обнаружилось 101 человек у которых возраст равен нулю. Возможно часть людей отказалась называть возраст или это ошибка сбора данных. Заменим это значение на медианное. Так как медианное значение равно 42.0 сразу преобразуем его в формат int."
   ]
  },
  {
   "cell_type": "code",
   "execution_count": 82,
   "id": "7851b6bd",
   "metadata": {},
   "outputs": [],
   "source": [
    "dob_years_median=data['dob_years'].median()\n",
    "dob_years_median=int(dob_years_median)\n",
    "data.loc[data['dob_years'] == 0 , 'dob_years'] = dob_years_median"
   ]
  },
  {
   "cell_type": "markdown",
   "id": "6381ca62",
   "metadata": {},
   "source": [
    "убедимся что нулей больше нет:"
   ]
  },
  {
   "cell_type": "code",
   "execution_count": 83,
   "id": "06d79ec1",
   "metadata": {},
   "outputs": [
    {
     "name": "stdout",
     "output_type": "stream",
     "text": [
      "42    697\n",
      "35    616\n",
      "40    607\n",
      "41    605\n",
      "34    601\n",
      "38    597\n",
      "33    581\n",
      "39    572\n",
      "31    559\n",
      "36    554\n",
      "44    545\n",
      "29    544\n",
      "30    537\n",
      "48    536\n",
      "37    536\n",
      "50    513\n",
      "43    512\n",
      "32    509\n",
      "49    508\n",
      "28    503\n",
      "45    496\n",
      "27    493\n",
      "52    484\n",
      "56    483\n",
      "47    477\n",
      "54    476\n",
      "46    472\n",
      "53    459\n",
      "57    456\n",
      "58    454\n",
      "51    446\n",
      "59    443\n",
      "55    443\n",
      "26    408\n",
      "60    374\n",
      "25    357\n",
      "61    354\n",
      "62    348\n",
      "63    269\n",
      "24    264\n",
      "64    260\n",
      "23    252\n",
      "65    193\n",
      "22    183\n",
      "66    182\n",
      "67    167\n",
      "21    111\n",
      "68     99\n",
      "69     85\n",
      "70     65\n",
      "71     56\n",
      "20     51\n",
      "72     33\n",
      "19     14\n",
      "73      8\n",
      "74      6\n",
      "75      1\n",
      "Name: dob_years, dtype: int64\n"
     ]
    }
   ],
   "source": [
    "print(data['dob_years'].value_counts()) "
   ]
  },
  {
   "cell_type": "markdown",
   "id": "792af567",
   "metadata": {},
   "source": [
    "проверим что в education_id столько же значений сколько в education"
   ]
  },
  {
   "cell_type": "code",
   "execution_count": 84,
   "id": "dd6abb0e",
   "metadata": {},
   "outputs": [
    {
     "name": "stdout",
     "output_type": "stream",
     "text": [
      "1    15172\n",
      "0     5250\n",
      "2      744\n",
      "3      282\n",
      "4        6\n",
      "Name: education_id, dtype: int64\n",
      "среднее                15172\n",
      "высшее                  5250\n",
      "неоконченное высшее      744\n",
      "начальное                282\n",
      "ученая степень             6\n",
      "Name: education, dtype: int64\n"
     ]
    }
   ],
   "source": [
    "print(data['education_id'].value_counts())\n",
    "\n",
    "print(data['education'].value_counts()) "
   ]
  },
  {
   "cell_type": "markdown",
   "id": "2fdfad49",
   "metadata": {},
   "source": [
    "все верно."
   ]
  },
  {
   "cell_type": "markdown",
   "id": "6639cd12",
   "metadata": {},
   "source": [
    "аналогично проверим и с family_status и с family_status_id"
   ]
  },
  {
   "cell_type": "code",
   "execution_count": 85,
   "id": "7361d8da",
   "metadata": {},
   "outputs": [
    {
     "name": "stdout",
     "output_type": "stream",
     "text": [
      "женат / замужем          12339\n",
      "гражданский брак          4151\n",
      "Не женат / не замужем     2810\n",
      "в разводе                 1195\n",
      "вдовец / вдова             959\n",
      "Name: family_status, dtype: int64\n",
      "0    12339\n",
      "1     4151\n",
      "4     2810\n",
      "3     1195\n",
      "2      959\n",
      "Name: family_status_id, dtype: int64\n"
     ]
    }
   ],
   "source": [
    "print(data['family_status'].value_counts())\n",
    "\n",
    "print(data['family_status_id'].value_counts()) "
   ]
  },
  {
   "cell_type": "code",
   "execution_count": 86,
   "id": "9ab17805",
   "metadata": {},
   "outputs": [
    {
     "name": "stdout",
     "output_type": "stream",
     "text": [
      "F      14174\n",
      "M       7279\n",
      "XNA        1\n",
      "Name: gender, dtype: int64\n"
     ]
    }
   ],
   "source": [
    "print(data['gender'].value_counts())"
   ]
  },
  {
   "cell_type": "markdown",
   "id": "e0c30be4",
   "metadata": {},
   "source": [
    "обнаружился один человек с гендером XMA... оставим его на всякий случай :)"
   ]
  },
  {
   "cell_type": "code",
   "execution_count": 87,
   "id": "8da9c455",
   "metadata": {},
   "outputs": [
    {
     "name": "stdout",
     "output_type": "stream",
     "text": [
      "сотрудник          11084\n",
      "компаньон           5078\n",
      "пенсионер           3829\n",
      "госслужащий         1457\n",
      "безработный            2\n",
      "предприниматель        2\n",
      "студент                1\n",
      "в декрете              1\n",
      "Name: income_type, dtype: int64\n"
     ]
    }
   ],
   "source": [
    "print(data['income_type'].value_counts())"
   ]
  },
  {
   "cell_type": "markdown",
   "id": "40897eb4",
   "metadata": {},
   "source": [
    "артефактов в income_type не обнаружено"
   ]
  },
  {
   "cell_type": "code",
   "execution_count": 88,
   "id": "4a914f4d",
   "metadata": {},
   "outputs": [
    {
     "name": "stdout",
     "output_type": "stream",
     "text": [
      "0    19713\n",
      "1     1741\n",
      "Name: debt, dtype: int64\n"
     ]
    }
   ],
   "source": [
    "print(data['debt'].value_counts())"
   ]
  },
  {
   "cell_type": "markdown",
   "id": "914bc67d",
   "metadata": {},
   "source": [
    "0 нет задолженности, 1 есть задолженность. Все верно."
   ]
  },
  {
   "cell_type": "code",
   "execution_count": 89,
   "id": "a916cb9b",
   "metadata": {},
   "outputs": [
    {
     "name": "stdout",
     "output_type": "stream",
     "text": [
      "свадьба                                   791\n",
      "на проведение свадьбы                     768\n",
      "сыграть свадьбу                           765\n",
      "операции с недвижимостью                  675\n",
      "покупка коммерческой недвижимости         661\n",
      "операции с жильем                         652\n",
      "покупка жилья для сдачи                   651\n",
      "операции с коммерческой недвижимостью     650\n",
      "покупка жилья                             646\n",
      "жилье                                     646\n",
      "покупка жилья для семьи                   638\n",
      "строительство собственной недвижимости    635\n",
      "недвижимость                              633\n",
      "операции со своей недвижимостью           627\n",
      "строительство жилой недвижимости          624\n",
      "покупка недвижимости                      621\n",
      "покупка своего жилья                      620\n",
      "строительство недвижимости                619\n",
      "ремонт жилью                              607\n",
      "покупка жилой недвижимости                606\n",
      "на покупку своего автомобиля              505\n",
      "заняться высшим образованием              496\n",
      "автомобиль                                494\n",
      "сделка с подержанным автомобилем          486\n",
      "свой автомобиль                           478\n",
      "на покупку подержанного автомобиля        478\n",
      "автомобили                                478\n",
      "на покупку автомобиля                     471\n",
      "приобретение автомобиля                   461\n",
      "дополнительное образование                460\n",
      "сделка с автомобилем                      455\n",
      "высшее образование                        452\n",
      "образование                               447\n",
      "получение дополнительного образования     446\n",
      "получение образования                     442\n",
      "профильное образование                    436\n",
      "получение высшего образования             426\n",
      "заняться образованием                     408\n",
      "Name: purpose, dtype: int64\n"
     ]
    }
   ],
   "source": [
    "print(data['purpose'].value_counts())"
   ]
  },
  {
   "cell_type": "markdown",
   "id": "ad213233",
   "metadata": {},
   "source": [
    "для поиска дубликатов я использовал метод value_counts(). Так как он короче и нагляднее чем  duplicated().sum()"
   ]
  },
  {
   "cell_type": "markdown",
   "id": "5af3f75f",
   "metadata": {},
   "source": [
    "### Формирование дополнительных датафреймов словарей, декомпозиция исходного датафрейма."
   ]
  },
  {
   "cell_type": "markdown",
   "id": "a19e77a4",
   "metadata": {},
   "source": [
    "создадим два новых датафрейма где каждому уникальному значению из education соответствует уникальное значение education_id:"
   ]
  },
  {
   "cell_type": "code",
   "execution_count": 90,
   "id": "21b7c309",
   "metadata": {},
   "outputs": [
    {
     "name": "stdout",
     "output_type": "stream",
     "text": [
      "             education\n",
      "0               высшее\n",
      "1              среднее\n",
      "2  неоконченное высшее\n",
      "3            начальное\n",
      "4       ученая степень\n"
     ]
    }
   ],
   "source": [
    "education_row = [\n",
    "    ['высшее'],\n",
    "    ['среднее'],\n",
    "    ['неоконченное высшее'],\n",
    "    ['начальное'],\n",
    "    ['ученая степень'],\n",
    "]\n",
    "education_columns = ['education']\n",
    "\n",
    "dataframe_for_education = pd.DataFrame(data=education_row , columns=education_columns)\n",
    "\n",
    "print(dataframe_for_education)"
   ]
  },
  {
   "cell_type": "markdown",
   "id": "8b5bd2c8",
   "metadata": {},
   "source": [
    "и аналогично для family_status и family_status_id:"
   ]
  },
  {
   "cell_type": "code",
   "execution_count": 91,
   "id": "41d8fbab",
   "metadata": {},
   "outputs": [
    {
     "name": "stdout",
     "output_type": "stream",
     "text": [
      "                  family\n",
      "0        женат / замужем\n",
      "1       гражданский брак\n",
      "2         вдовец / вдова\n",
      "3              в разводе\n",
      "4  Не женат / не замужем\n"
     ]
    }
   ],
   "source": [
    "family_row = [\n",
    "    ['женат / замужем'],\n",
    "    ['гражданский брак'],\n",
    "    ['вдовец / вдова'],\n",
    "    ['в разводе'],\n",
    "    ['Не женат / не замужем'],\n",
    "]\n",
    "family_columns = ['family']\n",
    "\n",
    "dataframe_for_family = pd.DataFrame(data=family_row , columns=family_columns) \n",
    "\n",
    "print(dataframe_for_family)"
   ]
  },
  {
   "cell_type": "code",
   "execution_count": 92,
   "id": "36b0676c",
   "metadata": {},
   "outputs": [
    {
     "data": {
      "text/html": [
       "<div>\n",
       "<style scoped>\n",
       "    .dataframe tbody tr th:only-of-type {\n",
       "        vertical-align: middle;\n",
       "    }\n",
       "\n",
       "    .dataframe tbody tr th {\n",
       "        vertical-align: top;\n",
       "    }\n",
       "\n",
       "    .dataframe thead th {\n",
       "        text-align: right;\n",
       "    }\n",
       "</style>\n",
       "<table border=\"1\" class=\"dataframe\">\n",
       "  <thead>\n",
       "    <tr style=\"text-align: right;\">\n",
       "      <th></th>\n",
       "      <th>children</th>\n",
       "      <th>days_employed</th>\n",
       "      <th>dob_years</th>\n",
       "      <th>education</th>\n",
       "      <th>education_id</th>\n",
       "      <th>family_status</th>\n",
       "      <th>family_status_id</th>\n",
       "      <th>gender</th>\n",
       "      <th>income_type</th>\n",
       "      <th>debt</th>\n",
       "      <th>total_income</th>\n",
       "      <th>purpose</th>\n",
       "    </tr>\n",
       "  </thead>\n",
       "  <tbody>\n",
       "    <tr>\n",
       "      <th>0</th>\n",
       "      <td>1</td>\n",
       "      <td>8437.673028</td>\n",
       "      <td>42</td>\n",
       "      <td>высшее</td>\n",
       "      <td>0</td>\n",
       "      <td>женат / замужем</td>\n",
       "      <td>0</td>\n",
       "      <td>F</td>\n",
       "      <td>сотрудник</td>\n",
       "      <td>0</td>\n",
       "      <td>253875</td>\n",
       "      <td>покупка жилья</td>\n",
       "    </tr>\n",
       "    <tr>\n",
       "      <th>1</th>\n",
       "      <td>1</td>\n",
       "      <td>4024.803754</td>\n",
       "      <td>36</td>\n",
       "      <td>среднее</td>\n",
       "      <td>1</td>\n",
       "      <td>женат / замужем</td>\n",
       "      <td>0</td>\n",
       "      <td>F</td>\n",
       "      <td>сотрудник</td>\n",
       "      <td>0</td>\n",
       "      <td>112080</td>\n",
       "      <td>приобретение автомобиля</td>\n",
       "    </tr>\n",
       "    <tr>\n",
       "      <th>2</th>\n",
       "      <td>0</td>\n",
       "      <td>5623.422610</td>\n",
       "      <td>33</td>\n",
       "      <td>среднее</td>\n",
       "      <td>1</td>\n",
       "      <td>женат / замужем</td>\n",
       "      <td>0</td>\n",
       "      <td>M</td>\n",
       "      <td>сотрудник</td>\n",
       "      <td>0</td>\n",
       "      <td>145885</td>\n",
       "      <td>покупка жилья</td>\n",
       "    </tr>\n",
       "    <tr>\n",
       "      <th>3</th>\n",
       "      <td>3</td>\n",
       "      <td>4124.747207</td>\n",
       "      <td>32</td>\n",
       "      <td>среднее</td>\n",
       "      <td>1</td>\n",
       "      <td>женат / замужем</td>\n",
       "      <td>0</td>\n",
       "      <td>M</td>\n",
       "      <td>сотрудник</td>\n",
       "      <td>0</td>\n",
       "      <td>267628</td>\n",
       "      <td>дополнительное образование</td>\n",
       "    </tr>\n",
       "    <tr>\n",
       "      <th>4</th>\n",
       "      <td>0</td>\n",
       "      <td>340266.072047</td>\n",
       "      <td>53</td>\n",
       "      <td>среднее</td>\n",
       "      <td>1</td>\n",
       "      <td>гражданский брак</td>\n",
       "      <td>1</td>\n",
       "      <td>F</td>\n",
       "      <td>пенсионер</td>\n",
       "      <td>0</td>\n",
       "      <td>158616</td>\n",
       "      <td>сыграть свадьбу</td>\n",
       "    </tr>\n",
       "    <tr>\n",
       "      <th>5</th>\n",
       "      <td>0</td>\n",
       "      <td>926.185831</td>\n",
       "      <td>27</td>\n",
       "      <td>высшее</td>\n",
       "      <td>0</td>\n",
       "      <td>гражданский брак</td>\n",
       "      <td>1</td>\n",
       "      <td>M</td>\n",
       "      <td>компаньон</td>\n",
       "      <td>0</td>\n",
       "      <td>255763</td>\n",
       "      <td>покупка жилья</td>\n",
       "    </tr>\n",
       "    <tr>\n",
       "      <th>6</th>\n",
       "      <td>0</td>\n",
       "      <td>2879.202052</td>\n",
       "      <td>43</td>\n",
       "      <td>высшее</td>\n",
       "      <td>0</td>\n",
       "      <td>женат / замужем</td>\n",
       "      <td>0</td>\n",
       "      <td>F</td>\n",
       "      <td>компаньон</td>\n",
       "      <td>0</td>\n",
       "      <td>240525</td>\n",
       "      <td>операции с жильем</td>\n",
       "    </tr>\n",
       "    <tr>\n",
       "      <th>7</th>\n",
       "      <td>0</td>\n",
       "      <td>152.779569</td>\n",
       "      <td>50</td>\n",
       "      <td>среднее</td>\n",
       "      <td>1</td>\n",
       "      <td>женат / замужем</td>\n",
       "      <td>0</td>\n",
       "      <td>M</td>\n",
       "      <td>сотрудник</td>\n",
       "      <td>0</td>\n",
       "      <td>135823</td>\n",
       "      <td>образование</td>\n",
       "    </tr>\n",
       "    <tr>\n",
       "      <th>8</th>\n",
       "      <td>2</td>\n",
       "      <td>6929.865299</td>\n",
       "      <td>35</td>\n",
       "      <td>высшее</td>\n",
       "      <td>0</td>\n",
       "      <td>гражданский брак</td>\n",
       "      <td>1</td>\n",
       "      <td>F</td>\n",
       "      <td>сотрудник</td>\n",
       "      <td>0</td>\n",
       "      <td>95856</td>\n",
       "      <td>на проведение свадьбы</td>\n",
       "    </tr>\n",
       "    <tr>\n",
       "      <th>9</th>\n",
       "      <td>0</td>\n",
       "      <td>2188.756445</td>\n",
       "      <td>41</td>\n",
       "      <td>среднее</td>\n",
       "      <td>1</td>\n",
       "      <td>женат / замужем</td>\n",
       "      <td>0</td>\n",
       "      <td>M</td>\n",
       "      <td>сотрудник</td>\n",
       "      <td>0</td>\n",
       "      <td>144425</td>\n",
       "      <td>покупка жилья для семьи</td>\n",
       "    </tr>\n",
       "    <tr>\n",
       "      <th>10</th>\n",
       "      <td>2</td>\n",
       "      <td>4171.483647</td>\n",
       "      <td>36</td>\n",
       "      <td>высшее</td>\n",
       "      <td>0</td>\n",
       "      <td>женат / замужем</td>\n",
       "      <td>0</td>\n",
       "      <td>M</td>\n",
       "      <td>компаньон</td>\n",
       "      <td>0</td>\n",
       "      <td>113943</td>\n",
       "      <td>покупка недвижимости</td>\n",
       "    </tr>\n",
       "    <tr>\n",
       "      <th>11</th>\n",
       "      <td>0</td>\n",
       "      <td>792.701887</td>\n",
       "      <td>40</td>\n",
       "      <td>среднее</td>\n",
       "      <td>1</td>\n",
       "      <td>женат / замужем</td>\n",
       "      <td>0</td>\n",
       "      <td>F</td>\n",
       "      <td>сотрудник</td>\n",
       "      <td>0</td>\n",
       "      <td>77069</td>\n",
       "      <td>покупка коммерческой недвижимости</td>\n",
       "    </tr>\n",
       "    <tr>\n",
       "      <th>12</th>\n",
       "      <td>0</td>\n",
       "      <td>2194.220567</td>\n",
       "      <td>65</td>\n",
       "      <td>среднее</td>\n",
       "      <td>1</td>\n",
       "      <td>гражданский брак</td>\n",
       "      <td>1</td>\n",
       "      <td>M</td>\n",
       "      <td>пенсионер</td>\n",
       "      <td>0</td>\n",
       "      <td>145017</td>\n",
       "      <td>сыграть свадьбу</td>\n",
       "    </tr>\n",
       "    <tr>\n",
       "      <th>13</th>\n",
       "      <td>0</td>\n",
       "      <td>1846.641941</td>\n",
       "      <td>54</td>\n",
       "      <td>неоконченное высшее</td>\n",
       "      <td>2</td>\n",
       "      <td>женат / замужем</td>\n",
       "      <td>0</td>\n",
       "      <td>F</td>\n",
       "      <td>сотрудник</td>\n",
       "      <td>0</td>\n",
       "      <td>130458</td>\n",
       "      <td>приобретение автомобиля</td>\n",
       "    </tr>\n",
       "    <tr>\n",
       "      <th>14</th>\n",
       "      <td>0</td>\n",
       "      <td>1844.956182</td>\n",
       "      <td>56</td>\n",
       "      <td>высшее</td>\n",
       "      <td>0</td>\n",
       "      <td>гражданский брак</td>\n",
       "      <td>1</td>\n",
       "      <td>F</td>\n",
       "      <td>компаньон</td>\n",
       "      <td>1</td>\n",
       "      <td>165127</td>\n",
       "      <td>покупка жилой недвижимости</td>\n",
       "    </tr>\n",
       "  </tbody>\n",
       "</table>\n",
       "</div>"
      ],
      "text/plain": [
       "    children  days_employed  dob_years            education  education_id  \\\n",
       "0          1    8437.673028         42               высшее             0   \n",
       "1          1    4024.803754         36              среднее             1   \n",
       "2          0    5623.422610         33              среднее             1   \n",
       "3          3    4124.747207         32              среднее             1   \n",
       "4          0  340266.072047         53              среднее             1   \n",
       "5          0     926.185831         27               высшее             0   \n",
       "6          0    2879.202052         43               высшее             0   \n",
       "7          0     152.779569         50              среднее             1   \n",
       "8          2    6929.865299         35               высшее             0   \n",
       "9          0    2188.756445         41              среднее             1   \n",
       "10         2    4171.483647         36               высшее             0   \n",
       "11         0     792.701887         40              среднее             1   \n",
       "12         0    2194.220567         65              среднее             1   \n",
       "13         0    1846.641941         54  неоконченное высшее             2   \n",
       "14         0    1844.956182         56               высшее             0   \n",
       "\n",
       "       family_status  family_status_id gender income_type  debt  total_income  \\\n",
       "0    женат / замужем                 0      F   сотрудник     0        253875   \n",
       "1    женат / замужем                 0      F   сотрудник     0        112080   \n",
       "2    женат / замужем                 0      M   сотрудник     0        145885   \n",
       "3    женат / замужем                 0      M   сотрудник     0        267628   \n",
       "4   гражданский брак                 1      F   пенсионер     0        158616   \n",
       "5   гражданский брак                 1      M   компаньон     0        255763   \n",
       "6    женат / замужем                 0      F   компаньон     0        240525   \n",
       "7    женат / замужем                 0      M   сотрудник     0        135823   \n",
       "8   гражданский брак                 1      F   сотрудник     0         95856   \n",
       "9    женат / замужем                 0      M   сотрудник     0        144425   \n",
       "10   женат / замужем                 0      M   компаньон     0        113943   \n",
       "11   женат / замужем                 0      F   сотрудник     0         77069   \n",
       "12  гражданский брак                 1      M   пенсионер     0        145017   \n",
       "13   женат / замужем                 0      F   сотрудник     0        130458   \n",
       "14  гражданский брак                 1      F   компаньон     1        165127   \n",
       "\n",
       "                              purpose  \n",
       "0                       покупка жилья  \n",
       "1             приобретение автомобиля  \n",
       "2                       покупка жилья  \n",
       "3          дополнительное образование  \n",
       "4                     сыграть свадьбу  \n",
       "5                       покупка жилья  \n",
       "6                   операции с жильем  \n",
       "7                         образование  \n",
       "8               на проведение свадьбы  \n",
       "9             покупка жилья для семьи  \n",
       "10               покупка недвижимости  \n",
       "11  покупка коммерческой недвижимости  \n",
       "12                    сыграть свадьбу  \n",
       "13            приобретение автомобиля  \n",
       "14         покупка жилой недвижимости  "
      ]
     },
     "metadata": {},
     "output_type": "display_data"
    }
   ],
   "source": [
    "display(data.head(15))"
   ]
  },
  {
   "cell_type": "markdown",
   "id": "9d175227",
   "metadata": {},
   "source": [
    "удалим из исходной таблицы столбцы education и family_status используя метод drop. параметр axis=1 так как мы удаляем столбец:"
   ]
  },
  {
   "cell_type": "code",
   "execution_count": 93,
   "id": "e8fa7771",
   "metadata": {},
   "outputs": [],
   "source": [
    "\n",
    "data=data.drop(columns=['education'],axis = 1)\n",
    "data=data.drop(columns=['family_status'],axis = 1)\n",
    "\n",
    "\n"
   ]
  },
  {
   "cell_type": "markdown",
   "id": "5900aabd",
   "metadata": {},
   "source": [
    "и проверим что столбцы действительно удалились:"
   ]
  },
  {
   "cell_type": "code",
   "execution_count": 94,
   "id": "0eadcea2",
   "metadata": {},
   "outputs": [
    {
     "data": {
      "text/html": [
       "<div>\n",
       "<style scoped>\n",
       "    .dataframe tbody tr th:only-of-type {\n",
       "        vertical-align: middle;\n",
       "    }\n",
       "\n",
       "    .dataframe tbody tr th {\n",
       "        vertical-align: top;\n",
       "    }\n",
       "\n",
       "    .dataframe thead th {\n",
       "        text-align: right;\n",
       "    }\n",
       "</style>\n",
       "<table border=\"1\" class=\"dataframe\">\n",
       "  <thead>\n",
       "    <tr style=\"text-align: right;\">\n",
       "      <th></th>\n",
       "      <th>children</th>\n",
       "      <th>days_employed</th>\n",
       "      <th>dob_years</th>\n",
       "      <th>education_id</th>\n",
       "      <th>family_status_id</th>\n",
       "      <th>gender</th>\n",
       "      <th>income_type</th>\n",
       "      <th>debt</th>\n",
       "      <th>total_income</th>\n",
       "      <th>purpose</th>\n",
       "    </tr>\n",
       "  </thead>\n",
       "  <tbody>\n",
       "    <tr>\n",
       "      <th>0</th>\n",
       "      <td>1</td>\n",
       "      <td>8437.673028</td>\n",
       "      <td>42</td>\n",
       "      <td>0</td>\n",
       "      <td>0</td>\n",
       "      <td>F</td>\n",
       "      <td>сотрудник</td>\n",
       "      <td>0</td>\n",
       "      <td>253875</td>\n",
       "      <td>покупка жилья</td>\n",
       "    </tr>\n",
       "    <tr>\n",
       "      <th>1</th>\n",
       "      <td>1</td>\n",
       "      <td>4024.803754</td>\n",
       "      <td>36</td>\n",
       "      <td>1</td>\n",
       "      <td>0</td>\n",
       "      <td>F</td>\n",
       "      <td>сотрудник</td>\n",
       "      <td>0</td>\n",
       "      <td>112080</td>\n",
       "      <td>приобретение автомобиля</td>\n",
       "    </tr>\n",
       "    <tr>\n",
       "      <th>2</th>\n",
       "      <td>0</td>\n",
       "      <td>5623.422610</td>\n",
       "      <td>33</td>\n",
       "      <td>1</td>\n",
       "      <td>0</td>\n",
       "      <td>M</td>\n",
       "      <td>сотрудник</td>\n",
       "      <td>0</td>\n",
       "      <td>145885</td>\n",
       "      <td>покупка жилья</td>\n",
       "    </tr>\n",
       "    <tr>\n",
       "      <th>3</th>\n",
       "      <td>3</td>\n",
       "      <td>4124.747207</td>\n",
       "      <td>32</td>\n",
       "      <td>1</td>\n",
       "      <td>0</td>\n",
       "      <td>M</td>\n",
       "      <td>сотрудник</td>\n",
       "      <td>0</td>\n",
       "      <td>267628</td>\n",
       "      <td>дополнительное образование</td>\n",
       "    </tr>\n",
       "    <tr>\n",
       "      <th>4</th>\n",
       "      <td>0</td>\n",
       "      <td>340266.072047</td>\n",
       "      <td>53</td>\n",
       "      <td>1</td>\n",
       "      <td>1</td>\n",
       "      <td>F</td>\n",
       "      <td>пенсионер</td>\n",
       "      <td>0</td>\n",
       "      <td>158616</td>\n",
       "      <td>сыграть свадьбу</td>\n",
       "    </tr>\n",
       "    <tr>\n",
       "      <th>5</th>\n",
       "      <td>0</td>\n",
       "      <td>926.185831</td>\n",
       "      <td>27</td>\n",
       "      <td>0</td>\n",
       "      <td>1</td>\n",
       "      <td>M</td>\n",
       "      <td>компаньон</td>\n",
       "      <td>0</td>\n",
       "      <td>255763</td>\n",
       "      <td>покупка жилья</td>\n",
       "    </tr>\n",
       "    <tr>\n",
       "      <th>6</th>\n",
       "      <td>0</td>\n",
       "      <td>2879.202052</td>\n",
       "      <td>43</td>\n",
       "      <td>0</td>\n",
       "      <td>0</td>\n",
       "      <td>F</td>\n",
       "      <td>компаньон</td>\n",
       "      <td>0</td>\n",
       "      <td>240525</td>\n",
       "      <td>операции с жильем</td>\n",
       "    </tr>\n",
       "    <tr>\n",
       "      <th>7</th>\n",
       "      <td>0</td>\n",
       "      <td>152.779569</td>\n",
       "      <td>50</td>\n",
       "      <td>1</td>\n",
       "      <td>0</td>\n",
       "      <td>M</td>\n",
       "      <td>сотрудник</td>\n",
       "      <td>0</td>\n",
       "      <td>135823</td>\n",
       "      <td>образование</td>\n",
       "    </tr>\n",
       "    <tr>\n",
       "      <th>8</th>\n",
       "      <td>2</td>\n",
       "      <td>6929.865299</td>\n",
       "      <td>35</td>\n",
       "      <td>0</td>\n",
       "      <td>1</td>\n",
       "      <td>F</td>\n",
       "      <td>сотрудник</td>\n",
       "      <td>0</td>\n",
       "      <td>95856</td>\n",
       "      <td>на проведение свадьбы</td>\n",
       "    </tr>\n",
       "    <tr>\n",
       "      <th>9</th>\n",
       "      <td>0</td>\n",
       "      <td>2188.756445</td>\n",
       "      <td>41</td>\n",
       "      <td>1</td>\n",
       "      <td>0</td>\n",
       "      <td>M</td>\n",
       "      <td>сотрудник</td>\n",
       "      <td>0</td>\n",
       "      <td>144425</td>\n",
       "      <td>покупка жилья для семьи</td>\n",
       "    </tr>\n",
       "    <tr>\n",
       "      <th>10</th>\n",
       "      <td>2</td>\n",
       "      <td>4171.483647</td>\n",
       "      <td>36</td>\n",
       "      <td>0</td>\n",
       "      <td>0</td>\n",
       "      <td>M</td>\n",
       "      <td>компаньон</td>\n",
       "      <td>0</td>\n",
       "      <td>113943</td>\n",
       "      <td>покупка недвижимости</td>\n",
       "    </tr>\n",
       "    <tr>\n",
       "      <th>11</th>\n",
       "      <td>0</td>\n",
       "      <td>792.701887</td>\n",
       "      <td>40</td>\n",
       "      <td>1</td>\n",
       "      <td>0</td>\n",
       "      <td>F</td>\n",
       "      <td>сотрудник</td>\n",
       "      <td>0</td>\n",
       "      <td>77069</td>\n",
       "      <td>покупка коммерческой недвижимости</td>\n",
       "    </tr>\n",
       "    <tr>\n",
       "      <th>12</th>\n",
       "      <td>0</td>\n",
       "      <td>2194.220567</td>\n",
       "      <td>65</td>\n",
       "      <td>1</td>\n",
       "      <td>1</td>\n",
       "      <td>M</td>\n",
       "      <td>пенсионер</td>\n",
       "      <td>0</td>\n",
       "      <td>145017</td>\n",
       "      <td>сыграть свадьбу</td>\n",
       "    </tr>\n",
       "    <tr>\n",
       "      <th>13</th>\n",
       "      <td>0</td>\n",
       "      <td>1846.641941</td>\n",
       "      <td>54</td>\n",
       "      <td>2</td>\n",
       "      <td>0</td>\n",
       "      <td>F</td>\n",
       "      <td>сотрудник</td>\n",
       "      <td>0</td>\n",
       "      <td>130458</td>\n",
       "      <td>приобретение автомобиля</td>\n",
       "    </tr>\n",
       "    <tr>\n",
       "      <th>14</th>\n",
       "      <td>0</td>\n",
       "      <td>1844.956182</td>\n",
       "      <td>56</td>\n",
       "      <td>0</td>\n",
       "      <td>1</td>\n",
       "      <td>F</td>\n",
       "      <td>компаньон</td>\n",
       "      <td>1</td>\n",
       "      <td>165127</td>\n",
       "      <td>покупка жилой недвижимости</td>\n",
       "    </tr>\n",
       "  </tbody>\n",
       "</table>\n",
       "</div>"
      ],
      "text/plain": [
       "    children  days_employed  dob_years  education_id  family_status_id gender  \\\n",
       "0          1    8437.673028         42             0                 0      F   \n",
       "1          1    4024.803754         36             1                 0      F   \n",
       "2          0    5623.422610         33             1                 0      M   \n",
       "3          3    4124.747207         32             1                 0      M   \n",
       "4          0  340266.072047         53             1                 1      F   \n",
       "5          0     926.185831         27             0                 1      M   \n",
       "6          0    2879.202052         43             0                 0      F   \n",
       "7          0     152.779569         50             1                 0      M   \n",
       "8          2    6929.865299         35             0                 1      F   \n",
       "9          0    2188.756445         41             1                 0      M   \n",
       "10         2    4171.483647         36             0                 0      M   \n",
       "11         0     792.701887         40             1                 0      F   \n",
       "12         0    2194.220567         65             1                 1      M   \n",
       "13         0    1846.641941         54             2                 0      F   \n",
       "14         0    1844.956182         56             0                 1      F   \n",
       "\n",
       "   income_type  debt  total_income                            purpose  \n",
       "0    сотрудник     0        253875                      покупка жилья  \n",
       "1    сотрудник     0        112080            приобретение автомобиля  \n",
       "2    сотрудник     0        145885                      покупка жилья  \n",
       "3    сотрудник     0        267628         дополнительное образование  \n",
       "4    пенсионер     0        158616                    сыграть свадьбу  \n",
       "5    компаньон     0        255763                      покупка жилья  \n",
       "6    компаньон     0        240525                  операции с жильем  \n",
       "7    сотрудник     0        135823                        образование  \n",
       "8    сотрудник     0         95856              на проведение свадьбы  \n",
       "9    сотрудник     0        144425            покупка жилья для семьи  \n",
       "10   компаньон     0        113943               покупка недвижимости  \n",
       "11   сотрудник     0         77069  покупка коммерческой недвижимости  \n",
       "12   пенсионер     0        145017                    сыграть свадьбу  \n",
       "13   сотрудник     0        130458            приобретение автомобиля  \n",
       "14   компаньон     1        165127         покупка жилой недвижимости  "
      ]
     },
     "metadata": {},
     "output_type": "display_data"
    }
   ],
   "source": [
    "display(data.head(15))"
   ]
  },
  {
   "cell_type": "markdown",
   "id": "8fd1faa2",
   "metadata": {},
   "source": [
    "### Категоризация дохода."
   ]
  },
  {
   "cell_type": "code",
   "execution_count": 95,
   "id": "c29d61cd",
   "metadata": {},
   "outputs": [],
   "source": [
    "def income_category_group(income):  \n",
    "    if income >= 0 and income <= 30000:\n",
    "        return 'E'\n",
    "    if income >= 30001 and income <= 50000:\n",
    "        return 'D'\n",
    "    if income >= 50001 and income <= 200000:\n",
    "        return 'C'\n",
    "    if income >= 200001 and income <= 1000000:\n",
    "        return 'B'\n",
    "    if income >= 1000001 :\n",
    "        return 'A'\n",
    "    else:\n",
    "        return 'unknown'\n",
    "    \n",
    "data['total_income_category']=data['total_income'].apply(income_category_group)"
   ]
  },
  {
   "cell_type": "markdown",
   "id": "c2a6334d",
   "metadata": {},
   "source": [
    "проверяем что новый столбец появился в таблице:"
   ]
  },
  {
   "cell_type": "code",
   "execution_count": 96,
   "id": "65d1fb77",
   "metadata": {},
   "outputs": [
    {
     "data": {
      "text/html": [
       "<div>\n",
       "<style scoped>\n",
       "    .dataframe tbody tr th:only-of-type {\n",
       "        vertical-align: middle;\n",
       "    }\n",
       "\n",
       "    .dataframe tbody tr th {\n",
       "        vertical-align: top;\n",
       "    }\n",
       "\n",
       "    .dataframe thead th {\n",
       "        text-align: right;\n",
       "    }\n",
       "</style>\n",
       "<table border=\"1\" class=\"dataframe\">\n",
       "  <thead>\n",
       "    <tr style=\"text-align: right;\">\n",
       "      <th></th>\n",
       "      <th>children</th>\n",
       "      <th>days_employed</th>\n",
       "      <th>dob_years</th>\n",
       "      <th>education_id</th>\n",
       "      <th>family_status_id</th>\n",
       "      <th>gender</th>\n",
       "      <th>income_type</th>\n",
       "      <th>debt</th>\n",
       "      <th>total_income</th>\n",
       "      <th>purpose</th>\n",
       "      <th>total_income_category</th>\n",
       "    </tr>\n",
       "  </thead>\n",
       "  <tbody>\n",
       "    <tr>\n",
       "      <th>0</th>\n",
       "      <td>1</td>\n",
       "      <td>8437.673028</td>\n",
       "      <td>42</td>\n",
       "      <td>0</td>\n",
       "      <td>0</td>\n",
       "      <td>F</td>\n",
       "      <td>сотрудник</td>\n",
       "      <td>0</td>\n",
       "      <td>253875</td>\n",
       "      <td>покупка жилья</td>\n",
       "      <td>B</td>\n",
       "    </tr>\n",
       "    <tr>\n",
       "      <th>1</th>\n",
       "      <td>1</td>\n",
       "      <td>4024.803754</td>\n",
       "      <td>36</td>\n",
       "      <td>1</td>\n",
       "      <td>0</td>\n",
       "      <td>F</td>\n",
       "      <td>сотрудник</td>\n",
       "      <td>0</td>\n",
       "      <td>112080</td>\n",
       "      <td>приобретение автомобиля</td>\n",
       "      <td>C</td>\n",
       "    </tr>\n",
       "    <tr>\n",
       "      <th>2</th>\n",
       "      <td>0</td>\n",
       "      <td>5623.422610</td>\n",
       "      <td>33</td>\n",
       "      <td>1</td>\n",
       "      <td>0</td>\n",
       "      <td>M</td>\n",
       "      <td>сотрудник</td>\n",
       "      <td>0</td>\n",
       "      <td>145885</td>\n",
       "      <td>покупка жилья</td>\n",
       "      <td>C</td>\n",
       "    </tr>\n",
       "    <tr>\n",
       "      <th>3</th>\n",
       "      <td>3</td>\n",
       "      <td>4124.747207</td>\n",
       "      <td>32</td>\n",
       "      <td>1</td>\n",
       "      <td>0</td>\n",
       "      <td>M</td>\n",
       "      <td>сотрудник</td>\n",
       "      <td>0</td>\n",
       "      <td>267628</td>\n",
       "      <td>дополнительное образование</td>\n",
       "      <td>B</td>\n",
       "    </tr>\n",
       "    <tr>\n",
       "      <th>4</th>\n",
       "      <td>0</td>\n",
       "      <td>340266.072047</td>\n",
       "      <td>53</td>\n",
       "      <td>1</td>\n",
       "      <td>1</td>\n",
       "      <td>F</td>\n",
       "      <td>пенсионер</td>\n",
       "      <td>0</td>\n",
       "      <td>158616</td>\n",
       "      <td>сыграть свадьбу</td>\n",
       "      <td>C</td>\n",
       "    </tr>\n",
       "    <tr>\n",
       "      <th>5</th>\n",
       "      <td>0</td>\n",
       "      <td>926.185831</td>\n",
       "      <td>27</td>\n",
       "      <td>0</td>\n",
       "      <td>1</td>\n",
       "      <td>M</td>\n",
       "      <td>компаньон</td>\n",
       "      <td>0</td>\n",
       "      <td>255763</td>\n",
       "      <td>покупка жилья</td>\n",
       "      <td>B</td>\n",
       "    </tr>\n",
       "    <tr>\n",
       "      <th>6</th>\n",
       "      <td>0</td>\n",
       "      <td>2879.202052</td>\n",
       "      <td>43</td>\n",
       "      <td>0</td>\n",
       "      <td>0</td>\n",
       "      <td>F</td>\n",
       "      <td>компаньон</td>\n",
       "      <td>0</td>\n",
       "      <td>240525</td>\n",
       "      <td>операции с жильем</td>\n",
       "      <td>B</td>\n",
       "    </tr>\n",
       "    <tr>\n",
       "      <th>7</th>\n",
       "      <td>0</td>\n",
       "      <td>152.779569</td>\n",
       "      <td>50</td>\n",
       "      <td>1</td>\n",
       "      <td>0</td>\n",
       "      <td>M</td>\n",
       "      <td>сотрудник</td>\n",
       "      <td>0</td>\n",
       "      <td>135823</td>\n",
       "      <td>образование</td>\n",
       "      <td>C</td>\n",
       "    </tr>\n",
       "    <tr>\n",
       "      <th>8</th>\n",
       "      <td>2</td>\n",
       "      <td>6929.865299</td>\n",
       "      <td>35</td>\n",
       "      <td>0</td>\n",
       "      <td>1</td>\n",
       "      <td>F</td>\n",
       "      <td>сотрудник</td>\n",
       "      <td>0</td>\n",
       "      <td>95856</td>\n",
       "      <td>на проведение свадьбы</td>\n",
       "      <td>C</td>\n",
       "    </tr>\n",
       "    <tr>\n",
       "      <th>9</th>\n",
       "      <td>0</td>\n",
       "      <td>2188.756445</td>\n",
       "      <td>41</td>\n",
       "      <td>1</td>\n",
       "      <td>0</td>\n",
       "      <td>M</td>\n",
       "      <td>сотрудник</td>\n",
       "      <td>0</td>\n",
       "      <td>144425</td>\n",
       "      <td>покупка жилья для семьи</td>\n",
       "      <td>C</td>\n",
       "    </tr>\n",
       "  </tbody>\n",
       "</table>\n",
       "</div>"
      ],
      "text/plain": [
       "   children  days_employed  dob_years  education_id  family_status_id gender  \\\n",
       "0         1    8437.673028         42             0                 0      F   \n",
       "1         1    4024.803754         36             1                 0      F   \n",
       "2         0    5623.422610         33             1                 0      M   \n",
       "3         3    4124.747207         32             1                 0      M   \n",
       "4         0  340266.072047         53             1                 1      F   \n",
       "5         0     926.185831         27             0                 1      M   \n",
       "6         0    2879.202052         43             0                 0      F   \n",
       "7         0     152.779569         50             1                 0      M   \n",
       "8         2    6929.865299         35             0                 1      F   \n",
       "9         0    2188.756445         41             1                 0      M   \n",
       "\n",
       "  income_type  debt  total_income                     purpose  \\\n",
       "0   сотрудник     0        253875               покупка жилья   \n",
       "1   сотрудник     0        112080     приобретение автомобиля   \n",
       "2   сотрудник     0        145885               покупка жилья   \n",
       "3   сотрудник     0        267628  дополнительное образование   \n",
       "4   пенсионер     0        158616             сыграть свадьбу   \n",
       "5   компаньон     0        255763               покупка жилья   \n",
       "6   компаньон     0        240525           операции с жильем   \n",
       "7   сотрудник     0        135823                 образование   \n",
       "8   сотрудник     0         95856       на проведение свадьбы   \n",
       "9   сотрудник     0        144425     покупка жилья для семьи   \n",
       "\n",
       "  total_income_category  \n",
       "0                     B  \n",
       "1                     C  \n",
       "2                     C  \n",
       "3                     B  \n",
       "4                     C  \n",
       "5                     B  \n",
       "6                     B  \n",
       "7                     C  \n",
       "8                     C  \n",
       "9                     C  "
      ]
     },
     "metadata": {},
     "output_type": "display_data"
    }
   ],
   "source": [
    "display(data.head(10))"
   ]
  },
  {
   "cell_type": "markdown",
   "id": "f9557887",
   "metadata": {},
   "source": [
    "### Категоризация целей кредита."
   ]
  },
  {
   "cell_type": "code",
   "execution_count": 97,
   "id": "3872aff5",
   "metadata": {},
   "outputs": [],
   "source": [
    "def purpose_category_group(purpose):  \n",
    "    if 'свадьб' in purpose:\n",
    "        return 'проведение свадьбы'\n",
    "\n",
    "    if 'недвижимост' in purpose:\n",
    "        return 'операции с недвижимостью'\n",
    "    if 'жиль' in purpose:\n",
    "        return 'операции с недвижимостью'\n",
    "    \n",
    "     \n",
    "    if 'свадьб' in purpose:\n",
    "        return 'проведение свадьбы'\n",
    "    \n",
    "    if 'образован' in purpose:\n",
    "        return 'получение образования'\n",
    "    \n",
    "    if 'автом' in purpose:\n",
    "        return 'операции с автомобилем'\n",
    "    \n",
    "    else:\n",
    "        return 'Другое'\n",
    "    \n",
    "    \n",
    "data['purpose_category']=data['purpose'].apply(purpose_category_group)"
   ]
  },
  {
   "cell_type": "markdown",
   "id": "eab4e41e",
   "metadata": {},
   "source": [
    "проверяем что новый столбец появился в таблице:"
   ]
  },
  {
   "cell_type": "code",
   "execution_count": 98,
   "id": "22c5ae32",
   "metadata": {},
   "outputs": [
    {
     "data": {
      "text/html": [
       "<div>\n",
       "<style scoped>\n",
       "    .dataframe tbody tr th:only-of-type {\n",
       "        vertical-align: middle;\n",
       "    }\n",
       "\n",
       "    .dataframe tbody tr th {\n",
       "        vertical-align: top;\n",
       "    }\n",
       "\n",
       "    .dataframe thead th {\n",
       "        text-align: right;\n",
       "    }\n",
       "</style>\n",
       "<table border=\"1\" class=\"dataframe\">\n",
       "  <thead>\n",
       "    <tr style=\"text-align: right;\">\n",
       "      <th></th>\n",
       "      <th>children</th>\n",
       "      <th>days_employed</th>\n",
       "      <th>dob_years</th>\n",
       "      <th>education_id</th>\n",
       "      <th>family_status_id</th>\n",
       "      <th>gender</th>\n",
       "      <th>income_type</th>\n",
       "      <th>debt</th>\n",
       "      <th>total_income</th>\n",
       "      <th>purpose</th>\n",
       "      <th>total_income_category</th>\n",
       "      <th>purpose_category</th>\n",
       "    </tr>\n",
       "  </thead>\n",
       "  <tbody>\n",
       "    <tr>\n",
       "      <th>0</th>\n",
       "      <td>1</td>\n",
       "      <td>8437.673028</td>\n",
       "      <td>42</td>\n",
       "      <td>0</td>\n",
       "      <td>0</td>\n",
       "      <td>F</td>\n",
       "      <td>сотрудник</td>\n",
       "      <td>0</td>\n",
       "      <td>253875</td>\n",
       "      <td>покупка жилья</td>\n",
       "      <td>B</td>\n",
       "      <td>операции с недвижимостью</td>\n",
       "    </tr>\n",
       "    <tr>\n",
       "      <th>1</th>\n",
       "      <td>1</td>\n",
       "      <td>4024.803754</td>\n",
       "      <td>36</td>\n",
       "      <td>1</td>\n",
       "      <td>0</td>\n",
       "      <td>F</td>\n",
       "      <td>сотрудник</td>\n",
       "      <td>0</td>\n",
       "      <td>112080</td>\n",
       "      <td>приобретение автомобиля</td>\n",
       "      <td>C</td>\n",
       "      <td>операции с автомобилем</td>\n",
       "    </tr>\n",
       "    <tr>\n",
       "      <th>2</th>\n",
       "      <td>0</td>\n",
       "      <td>5623.422610</td>\n",
       "      <td>33</td>\n",
       "      <td>1</td>\n",
       "      <td>0</td>\n",
       "      <td>M</td>\n",
       "      <td>сотрудник</td>\n",
       "      <td>0</td>\n",
       "      <td>145885</td>\n",
       "      <td>покупка жилья</td>\n",
       "      <td>C</td>\n",
       "      <td>операции с недвижимостью</td>\n",
       "    </tr>\n",
       "    <tr>\n",
       "      <th>3</th>\n",
       "      <td>3</td>\n",
       "      <td>4124.747207</td>\n",
       "      <td>32</td>\n",
       "      <td>1</td>\n",
       "      <td>0</td>\n",
       "      <td>M</td>\n",
       "      <td>сотрудник</td>\n",
       "      <td>0</td>\n",
       "      <td>267628</td>\n",
       "      <td>дополнительное образование</td>\n",
       "      <td>B</td>\n",
       "      <td>получение образования</td>\n",
       "    </tr>\n",
       "    <tr>\n",
       "      <th>4</th>\n",
       "      <td>0</td>\n",
       "      <td>340266.072047</td>\n",
       "      <td>53</td>\n",
       "      <td>1</td>\n",
       "      <td>1</td>\n",
       "      <td>F</td>\n",
       "      <td>пенсионер</td>\n",
       "      <td>0</td>\n",
       "      <td>158616</td>\n",
       "      <td>сыграть свадьбу</td>\n",
       "      <td>C</td>\n",
       "      <td>проведение свадьбы</td>\n",
       "    </tr>\n",
       "    <tr>\n",
       "      <th>5</th>\n",
       "      <td>0</td>\n",
       "      <td>926.185831</td>\n",
       "      <td>27</td>\n",
       "      <td>0</td>\n",
       "      <td>1</td>\n",
       "      <td>M</td>\n",
       "      <td>компаньон</td>\n",
       "      <td>0</td>\n",
       "      <td>255763</td>\n",
       "      <td>покупка жилья</td>\n",
       "      <td>B</td>\n",
       "      <td>операции с недвижимостью</td>\n",
       "    </tr>\n",
       "    <tr>\n",
       "      <th>6</th>\n",
       "      <td>0</td>\n",
       "      <td>2879.202052</td>\n",
       "      <td>43</td>\n",
       "      <td>0</td>\n",
       "      <td>0</td>\n",
       "      <td>F</td>\n",
       "      <td>компаньон</td>\n",
       "      <td>0</td>\n",
       "      <td>240525</td>\n",
       "      <td>операции с жильем</td>\n",
       "      <td>B</td>\n",
       "      <td>операции с недвижимостью</td>\n",
       "    </tr>\n",
       "    <tr>\n",
       "      <th>7</th>\n",
       "      <td>0</td>\n",
       "      <td>152.779569</td>\n",
       "      <td>50</td>\n",
       "      <td>1</td>\n",
       "      <td>0</td>\n",
       "      <td>M</td>\n",
       "      <td>сотрудник</td>\n",
       "      <td>0</td>\n",
       "      <td>135823</td>\n",
       "      <td>образование</td>\n",
       "      <td>C</td>\n",
       "      <td>получение образования</td>\n",
       "    </tr>\n",
       "    <tr>\n",
       "      <th>8</th>\n",
       "      <td>2</td>\n",
       "      <td>6929.865299</td>\n",
       "      <td>35</td>\n",
       "      <td>0</td>\n",
       "      <td>1</td>\n",
       "      <td>F</td>\n",
       "      <td>сотрудник</td>\n",
       "      <td>0</td>\n",
       "      <td>95856</td>\n",
       "      <td>на проведение свадьбы</td>\n",
       "      <td>C</td>\n",
       "      <td>проведение свадьбы</td>\n",
       "    </tr>\n",
       "    <tr>\n",
       "      <th>9</th>\n",
       "      <td>0</td>\n",
       "      <td>2188.756445</td>\n",
       "      <td>41</td>\n",
       "      <td>1</td>\n",
       "      <td>0</td>\n",
       "      <td>M</td>\n",
       "      <td>сотрудник</td>\n",
       "      <td>0</td>\n",
       "      <td>144425</td>\n",
       "      <td>покупка жилья для семьи</td>\n",
       "      <td>C</td>\n",
       "      <td>операции с недвижимостью</td>\n",
       "    </tr>\n",
       "  </tbody>\n",
       "</table>\n",
       "</div>"
      ],
      "text/plain": [
       "   children  days_employed  dob_years  education_id  family_status_id gender  \\\n",
       "0         1    8437.673028         42             0                 0      F   \n",
       "1         1    4024.803754         36             1                 0      F   \n",
       "2         0    5623.422610         33             1                 0      M   \n",
       "3         3    4124.747207         32             1                 0      M   \n",
       "4         0  340266.072047         53             1                 1      F   \n",
       "5         0     926.185831         27             0                 1      M   \n",
       "6         0    2879.202052         43             0                 0      F   \n",
       "7         0     152.779569         50             1                 0      M   \n",
       "8         2    6929.865299         35             0                 1      F   \n",
       "9         0    2188.756445         41             1                 0      M   \n",
       "\n",
       "  income_type  debt  total_income                     purpose  \\\n",
       "0   сотрудник     0        253875               покупка жилья   \n",
       "1   сотрудник     0        112080     приобретение автомобиля   \n",
       "2   сотрудник     0        145885               покупка жилья   \n",
       "3   сотрудник     0        267628  дополнительное образование   \n",
       "4   пенсионер     0        158616             сыграть свадьбу   \n",
       "5   компаньон     0        255763               покупка жилья   \n",
       "6   компаньон     0        240525           операции с жильем   \n",
       "7   сотрудник     0        135823                 образование   \n",
       "8   сотрудник     0         95856       на проведение свадьбы   \n",
       "9   сотрудник     0        144425     покупка жилья для семьи   \n",
       "\n",
       "  total_income_category          purpose_category  \n",
       "0                     B  операции с недвижимостью  \n",
       "1                     C    операции с автомобилем  \n",
       "2                     C  операции с недвижимостью  \n",
       "3                     B     получение образования  \n",
       "4                     C        проведение свадьбы  \n",
       "5                     B  операции с недвижимостью  \n",
       "6                     B  операции с недвижимостью  \n",
       "7                     C     получение образования  \n",
       "8                     C        проведение свадьбы  \n",
       "9                     C  операции с недвижимостью  "
      ]
     },
     "metadata": {},
     "output_type": "display_data"
    }
   ],
   "source": [
    "display(data.head(10))\n",
    "#display(data.loc[data['children'] ==20] )\n"
   ]
  },
  {
   "cell_type": "markdown",
   "id": "a3c4a53e",
   "metadata": {},
   "source": [
    "### Ответы на вопросы."
   ]
  },
  {
   "cell_type": "markdown",
   "id": "e1ef0e75",
   "metadata": {},
   "source": [
    "для ответов на вопросы напишем функцию которая возвращает долю должников от общего количества клиентов"
   ]
  },
  {
   "cell_type": "code",
   "execution_count": 99,
   "id": "94e6191b",
   "metadata": {},
   "outputs": [],
   "source": [
    "def share_debtors(a):\n",
    "    return (sum(a)/ len(a))"
   ]
  },
  {
   "cell_type": "code",
   "execution_count": 100,
   "id": "898a8b23",
   "metadata": {},
   "outputs": [
    {
     "name": "stdout",
     "output_type": "stream",
     "text": [
      "          count   sum share_debtors\n",
      "           debt  debt          debt\n",
      "children                           \n",
      "0         14091  1063      0.075438\n",
      "1          4855   445      0.091658\n",
      "2          2128   202      0.094925\n",
      "3           330    27      0.081818\n",
      "4            41     4      0.097561\n",
      "5             9     0      0.000000\n"
     ]
    }
   ],
   "source": [
    "data_pivot_children = data.pivot_table(index='children', values='debt', aggfunc=['count','sum',share_debtors])\n",
    "print(data_pivot_children)"
   ]
  },
  {
   "cell_type": "markdown",
   "id": "8e632710",
   "metadata": {},
   "source": [
    "Большая часть людей имеет от 0 до 2 детей и при этом чем больше детей чем вероятность выплаты кредита вовремя уменьшется, т.е. Лучше всего возвращают кредит люди без детей."
   ]
  },
  {
   "cell_type": "markdown",
   "id": "123f76a9",
   "metadata": {},
   "source": [
    "Есть ли зависимость между семейным положением и возвратом кредита в срок?"
   ]
  },
  {
   "cell_type": "code",
   "execution_count": 101,
   "id": "b1479c2d",
   "metadata": {},
   "outputs": [
    {
     "name": "stdout",
     "output_type": "stream",
     "text": [
      "                  count  sum share_debtors\n",
      "                   debt debt          debt\n",
      "family_status_id                          \n",
      "0                 12339  931      0.075452\n",
      "1                  4151  388      0.093471\n",
      "2                   959   63      0.065693\n",
      "3                  1195   85      0.071130\n",
      "4                  2810  274      0.097509\n"
     ]
    }
   ],
   "source": [
    "data_pivot_family = data.pivot_table(index='family_status_id', values='debt', aggfunc=['count','sum',share_debtors])\n",
    "# 0        женат / замужем\n",
    "# 1       гражданский брак\n",
    "# 2         вдовец / вдова\n",
    "# 3              в разводе\n",
    "# 4  Не женат / не замужем\n",
    "print(data_pivot_family)\n",
    "\n",
    "\n",
    " "
   ]
  },
  {
   "cell_type": "markdown",
   "id": "03eb8744",
   "metadata": {},
   "source": [
    "заметим, что \"в разводе\" и \"вдовец / вдова\" это тоже \"Не женат / не замужем\". Поэтому можно объединить эти строчки."
   ]
  },
  {
   "cell_type": "code",
   "execution_count": 102,
   "id": "2798a9e8",
   "metadata": {},
   "outputs": [],
   "source": [
    "data.loc[data['family_status_id'] == 3 , 'family_status_id'] = 4\n",
    "data.loc[data['family_status_id'] == 2 , 'family_status_id'] = 4"
   ]
  },
  {
   "cell_type": "code",
   "execution_count": 103,
   "id": "b28a9d0c",
   "metadata": {},
   "outputs": [
    {
     "data": {
      "text/html": [
       "<div>\n",
       "<style scoped>\n",
       "    .dataframe tbody tr th:only-of-type {\n",
       "        vertical-align: middle;\n",
       "    }\n",
       "\n",
       "    .dataframe tbody tr th {\n",
       "        vertical-align: top;\n",
       "    }\n",
       "\n",
       "    .dataframe thead tr th {\n",
       "        text-align: left;\n",
       "    }\n",
       "\n",
       "    .dataframe thead tr:last-of-type th {\n",
       "        text-align: right;\n",
       "    }\n",
       "</style>\n",
       "<table border=\"1\" class=\"dataframe\">\n",
       "  <thead>\n",
       "    <tr>\n",
       "      <th></th>\n",
       "      <th>count</th>\n",
       "      <th>sum</th>\n",
       "      <th>share_debtors</th>\n",
       "    </tr>\n",
       "    <tr>\n",
       "      <th></th>\n",
       "      <th>debt</th>\n",
       "      <th>debt</th>\n",
       "      <th>debt</th>\n",
       "    </tr>\n",
       "    <tr>\n",
       "      <th>family_status_id</th>\n",
       "      <th></th>\n",
       "      <th></th>\n",
       "      <th></th>\n",
       "    </tr>\n",
       "  </thead>\n",
       "  <tbody>\n",
       "    <tr>\n",
       "      <th>0</th>\n",
       "      <td>12339</td>\n",
       "      <td>931</td>\n",
       "      <td>0.075452</td>\n",
       "    </tr>\n",
       "    <tr>\n",
       "      <th>1</th>\n",
       "      <td>4151</td>\n",
       "      <td>388</td>\n",
       "      <td>0.093471</td>\n",
       "    </tr>\n",
       "    <tr>\n",
       "      <th>4</th>\n",
       "      <td>4964</td>\n",
       "      <td>422</td>\n",
       "      <td>0.085012</td>\n",
       "    </tr>\n",
       "  </tbody>\n",
       "</table>\n",
       "</div>"
      ],
      "text/plain": [
       "                  count  sum share_debtors\n",
       "                   debt debt          debt\n",
       "family_status_id                          \n",
       "0                 12339  931      0.075452\n",
       "1                  4151  388      0.093471\n",
       "4                  4964  422      0.085012"
      ]
     },
     "metadata": {},
     "output_type": "display_data"
    }
   ],
   "source": [
    "data_pivot_family = data.pivot_table(index='family_status_id', values='debt', aggfunc=['count','sum',share_debtors])\n",
    "display(data_pivot_family)"
   ]
  },
  {
   "cell_type": "markdown",
   "id": "c809be02",
   "metadata": {},
   "source": [
    "Выходит что люди состоящие в браке чаще всего вовремя выплачивают кредит, а люди состоящие в гражданском браке реже."
   ]
  },
  {
   "cell_type": "code",
   "execution_count": 104,
   "id": "557164f9",
   "metadata": {},
   "outputs": [
    {
     "data": {
      "text/html": [
       "<div>\n",
       "<style scoped>\n",
       "    .dataframe tbody tr th:only-of-type {\n",
       "        vertical-align: middle;\n",
       "    }\n",
       "\n",
       "    .dataframe tbody tr th {\n",
       "        vertical-align: top;\n",
       "    }\n",
       "\n",
       "    .dataframe thead tr th {\n",
       "        text-align: left;\n",
       "    }\n",
       "\n",
       "    .dataframe thead tr:last-of-type th {\n",
       "        text-align: right;\n",
       "    }\n",
       "</style>\n",
       "<table border=\"1\" class=\"dataframe\">\n",
       "  <thead>\n",
       "    <tr>\n",
       "      <th></th>\n",
       "      <th>count</th>\n",
       "      <th>sum</th>\n",
       "      <th>share_debtors</th>\n",
       "    </tr>\n",
       "    <tr>\n",
       "      <th></th>\n",
       "      <th>debt</th>\n",
       "      <th>debt</th>\n",
       "      <th>debt</th>\n",
       "    </tr>\n",
       "    <tr>\n",
       "      <th>total_income_category</th>\n",
       "      <th></th>\n",
       "      <th></th>\n",
       "      <th></th>\n",
       "    </tr>\n",
       "  </thead>\n",
       "  <tbody>\n",
       "    <tr>\n",
       "      <th>A</th>\n",
       "      <td>25</td>\n",
       "      <td>2</td>\n",
       "      <td>0.080000</td>\n",
       "    </tr>\n",
       "    <tr>\n",
       "      <th>B</th>\n",
       "      <td>5041</td>\n",
       "      <td>356</td>\n",
       "      <td>0.070621</td>\n",
       "    </tr>\n",
       "    <tr>\n",
       "      <th>C</th>\n",
       "      <td>16016</td>\n",
       "      <td>1360</td>\n",
       "      <td>0.084915</td>\n",
       "    </tr>\n",
       "    <tr>\n",
       "      <th>D</th>\n",
       "      <td>350</td>\n",
       "      <td>21</td>\n",
       "      <td>0.060000</td>\n",
       "    </tr>\n",
       "    <tr>\n",
       "      <th>E</th>\n",
       "      <td>22</td>\n",
       "      <td>2</td>\n",
       "      <td>0.090909</td>\n",
       "    </tr>\n",
       "  </tbody>\n",
       "</table>\n",
       "</div>"
      ],
      "text/plain": [
       "                       count   sum share_debtors\n",
       "                        debt  debt          debt\n",
       "total_income_category                           \n",
       "A                         25     2      0.080000\n",
       "B                       5041   356      0.070621\n",
       "C                      16016  1360      0.084915\n",
       "D                        350    21      0.060000\n",
       "E                         22     2      0.090909"
      ]
     },
     "metadata": {},
     "output_type": "display_data"
    }
   ],
   "source": [
    "#data_pivot_income_category = data.pivot_table(index=['total_income_category'], values='debt', aggfunc='mean')\n",
    "data_pivot_income_category = data.pivot_table(index='total_income_category', values='debt', aggfunc=['count','sum',share_debtors])\n",
    "display(data_pivot_income_category)"
   ]
  },
  {
   "cell_type": "markdown",
   "id": "d5cfc2d7",
   "metadata": {},
   "source": [
    "людей с очень высоким заработком и очень низким очень мало поэтому не будем их учитывать. Самыми надежными надежными являются люди с доходом ниже среднего, но их всего 350. Люди с доходом выше среднего более неджны чем люди со средним доходом.\n",
    "\n"
   ]
  },
  {
   "cell_type": "code",
   "execution_count": 105,
   "id": "036a872b",
   "metadata": {},
   "outputs": [
    {
     "data": {
      "text/html": [
       "<div>\n",
       "<style scoped>\n",
       "    .dataframe tbody tr th:only-of-type {\n",
       "        vertical-align: middle;\n",
       "    }\n",
       "\n",
       "    .dataframe tbody tr th {\n",
       "        vertical-align: top;\n",
       "    }\n",
       "\n",
       "    .dataframe thead tr th {\n",
       "        text-align: left;\n",
       "    }\n",
       "\n",
       "    .dataframe thead tr:last-of-type th {\n",
       "        text-align: right;\n",
       "    }\n",
       "</style>\n",
       "<table border=\"1\" class=\"dataframe\">\n",
       "  <thead>\n",
       "    <tr>\n",
       "      <th></th>\n",
       "      <th>count</th>\n",
       "      <th>sum</th>\n",
       "      <th>share_debtors</th>\n",
       "    </tr>\n",
       "    <tr>\n",
       "      <th></th>\n",
       "      <th>debt</th>\n",
       "      <th>debt</th>\n",
       "      <th>debt</th>\n",
       "    </tr>\n",
       "    <tr>\n",
       "      <th>purpose_category</th>\n",
       "      <th></th>\n",
       "      <th></th>\n",
       "      <th></th>\n",
       "    </tr>\n",
       "  </thead>\n",
       "  <tbody>\n",
       "    <tr>\n",
       "      <th>операции с автомобилем</th>\n",
       "      <td>4306</td>\n",
       "      <td>403</td>\n",
       "      <td>0.093590</td>\n",
       "    </tr>\n",
       "    <tr>\n",
       "      <th>операции с недвижимостью</th>\n",
       "      <td>10811</td>\n",
       "      <td>782</td>\n",
       "      <td>0.072334</td>\n",
       "    </tr>\n",
       "    <tr>\n",
       "      <th>получение образования</th>\n",
       "      <td>4013</td>\n",
       "      <td>370</td>\n",
       "      <td>0.092200</td>\n",
       "    </tr>\n",
       "    <tr>\n",
       "      <th>проведение свадьбы</th>\n",
       "      <td>2324</td>\n",
       "      <td>186</td>\n",
       "      <td>0.080034</td>\n",
       "    </tr>\n",
       "  </tbody>\n",
       "</table>\n",
       "</div>"
      ],
      "text/plain": [
       "                          count  sum share_debtors\n",
       "                           debt debt          debt\n",
       "purpose_category                                  \n",
       "операции с автомобилем     4306  403      0.093590\n",
       "операции с недвижимостью  10811  782      0.072334\n",
       "получение образования      4013  370      0.092200\n",
       "проведение свадьбы         2324  186      0.080034"
      ]
     },
     "metadata": {},
     "output_type": "display_data"
    }
   ],
   "source": [
    "#data_pivot_purpose_category = data.pivot_table(index=['purpose_category'], values='debt', aggfunc='mean')\n",
    "data_pivot_purpose_category = data.pivot_table(index='purpose_category', values='debt', aggfunc=['count','sum',share_debtors])\n",
    "display(data_pivot_purpose_category)"
   ]
  },
  {
   "cell_type": "markdown",
   "id": "0e5bb0c6",
   "metadata": {},
   "source": [
    "Люди которые берут кредит на недвижимость и на проведение свадьбы выплачивают кредит вовремя чаще чем люди которые берут кредит на операцию с авто и получение образования. На операции с недвижимостью люди берут чаще всего и возвращают чаще всего."
   ]
  },
  {
   "cell_type": "markdown",
   "id": "1963e1c7",
   "metadata": {},
   "source": [
    "## Общий вывод:"
   ]
  },
  {
   "cell_type": "markdown",
   "id": "b54565cc",
   "metadata": {},
   "source": [
    "В ходе проекта было проведено исследование надёжности заемщиков клиентов банка. Были пропущены данные в столбцах days_employed и total_income. Пропуски были заменены медианными значениями. Так же были обнаружены ошибка с отрицательным значением количества детей, отрицательным количеством рабочих дней и возрастом равным нулю. Все ошибки были устранены. Были удалены все явные дубликаты и неявные дубликаты в графе education.  \n",
    "Клиенты были категоризированы по целям кредита и по доходности.\n",
    "\n",
    "Были проанализированы задолженности клиентов по кредитам в зависимости от количества детей в семье, семейного положения, уровня месячного дохода и цели кредита. Для большей наглядности были построены сводные таблицы.\n",
    "\n",
    "На вероятность платежей по кредиту в срок влияют такие факторы как цель кредита, семейное положение, количество детей и доход. Банку можно порекомендовать чаще давать кредиты на операции с недвижимостью и проведение свадеб - в таком случае вероятность выплаты кредита больше чем выплата кредита выданного на операции с авто или на получение образования. Так же имеет значение семейное положение: если человек в официально зарегистрированном браке то вероятность выплаты кредита всрок больше чем если человек не женат и еще больше если состоит в гражданском браке. Так же люди с доходом выше среднего (от 200001 до 1000000 в месяц) чаще выплачивают кредит чем люди со средним доходом. Большинство людей имеют от 0 до 2 детей и при этом чем больше детей чем меньше вероятность выплаты кредита в срок, иначе говоря самыми благонадежными клиентами являются клиенты без детей."
   ]
  }
 ],
 "metadata": {
  "ExecuteTimeLog": [
   {
    "duration": 615,
    "start_time": "2022-03-24T11:47:54.848Z"
   },
   {
    "duration": 125,
    "start_time": "2022-03-24T15:25:22.033Z"
   },
   {
    "duration": 31,
    "start_time": "2022-03-24T15:34:39.200Z"
   },
   {
    "duration": 99,
    "start_time": "2022-03-24T16:48:13.402Z"
   },
   {
    "duration": 135,
    "start_time": "2022-03-24T16:48:39.346Z"
   },
   {
    "duration": 10,
    "start_time": "2022-03-24T16:51:57.678Z"
   },
   {
    "duration": 9,
    "start_time": "2022-03-24T16:52:04.640Z"
   },
   {
    "duration": 9,
    "start_time": "2022-03-24T16:52:23.922Z"
   },
   {
    "duration": 11,
    "start_time": "2022-03-24T16:53:08.782Z"
   },
   {
    "duration": 18,
    "start_time": "2022-03-24T16:53:14.221Z"
   },
   {
    "duration": 10,
    "start_time": "2022-03-24T16:53:40.096Z"
   },
   {
    "duration": 7,
    "start_time": "2022-03-24T16:54:54.059Z"
   },
   {
    "duration": 7,
    "start_time": "2022-03-24T16:55:34.460Z"
   },
   {
    "duration": 7,
    "start_time": "2022-03-24T16:55:48.504Z"
   },
   {
    "duration": 9,
    "start_time": "2022-03-24T16:55:55.960Z"
   },
   {
    "duration": 25,
    "start_time": "2022-03-24T17:09:59.863Z"
   },
   {
    "duration": 22,
    "start_time": "2022-03-24T17:10:32.672Z"
   },
   {
    "duration": 6,
    "start_time": "2022-03-24T19:49:46.528Z"
   },
   {
    "duration": 6,
    "start_time": "2022-03-24T20:18:12.309Z"
   },
   {
    "duration": 2191,
    "start_time": "2022-03-24T20:18:39.334Z"
   },
   {
    "duration": 6,
    "start_time": "2022-03-24T20:18:46.316Z"
   },
   {
    "duration": 5,
    "start_time": "2022-03-24T20:18:59.018Z"
   },
   {
    "duration": 5,
    "start_time": "2022-03-24T20:19:01.141Z"
   },
   {
    "duration": 14,
    "start_time": "2022-03-24T20:19:03.437Z"
   },
   {
    "duration": 14,
    "start_time": "2022-03-24T20:19:13.940Z"
   },
   {
    "duration": 123,
    "start_time": "2022-03-24T20:19:24.822Z"
   },
   {
    "duration": 29,
    "start_time": "2022-03-24T20:19:26.767Z"
   },
   {
    "duration": 13,
    "start_time": "2022-03-24T20:56:05.499Z"
   },
   {
    "duration": 453,
    "start_time": "2022-03-25T19:39:55.587Z"
   },
   {
    "duration": 17,
    "start_time": "2022-03-25T19:39:56.374Z"
   },
   {
    "duration": 7,
    "start_time": "2022-03-25T19:41:40.622Z"
   },
   {
    "duration": 11,
    "start_time": "2022-03-25T19:42:17.628Z"
   },
   {
    "duration": 5,
    "start_time": "2022-03-25T19:42:18.930Z"
   },
   {
    "duration": 4,
    "start_time": "2022-03-25T19:42:19.210Z"
   },
   {
    "duration": 4,
    "start_time": "2022-03-25T19:42:19.390Z"
   },
   {
    "duration": 10,
    "start_time": "2022-03-25T19:42:22.563Z"
   },
   {
    "duration": 15,
    "start_time": "2022-03-25T19:42:26.066Z"
   },
   {
    "duration": 10,
    "start_time": "2022-03-25T19:44:36.332Z"
   },
   {
    "duration": 14,
    "start_time": "2022-03-25T19:54:46.389Z"
   },
   {
    "duration": 4,
    "start_time": "2022-03-25T19:54:58.336Z"
   },
   {
    "duration": 19,
    "start_time": "2022-03-25T20:03:55.761Z"
   },
   {
    "duration": 84,
    "start_time": "2022-03-25T20:05:04.263Z"
   },
   {
    "duration": 30,
    "start_time": "2022-03-25T20:05:16.215Z"
   },
   {
    "duration": 19,
    "start_time": "2022-03-25T20:05:19.925Z"
   },
   {
    "duration": 1118,
    "start_time": "2022-03-27T15:46:18.405Z"
   },
   {
    "duration": 15,
    "start_time": "2022-03-27T15:46:22.174Z"
   },
   {
    "duration": 11,
    "start_time": "2022-03-27T15:50:25.317Z"
   },
   {
    "duration": 65,
    "start_time": "2022-03-27T15:50:28.643Z"
   },
   {
    "duration": 17,
    "start_time": "2022-03-27T15:50:29.112Z"
   },
   {
    "duration": 9,
    "start_time": "2022-03-27T15:50:37.905Z"
   },
   {
    "duration": 14,
    "start_time": "2022-03-27T15:51:49.519Z"
   },
   {
    "duration": 16,
    "start_time": "2022-03-27T15:51:53.218Z"
   },
   {
    "duration": 7,
    "start_time": "2022-03-27T15:51:58.816Z"
   },
   {
    "duration": 6,
    "start_time": "2022-03-27T15:55:21.800Z"
   },
   {
    "duration": 5,
    "start_time": "2022-03-27T15:55:22.660Z"
   },
   {
    "duration": 9,
    "start_time": "2022-03-27T15:55:42.595Z"
   },
   {
    "duration": 13,
    "start_time": "2022-03-27T15:55:45.069Z"
   },
   {
    "duration": 4,
    "start_time": "2022-03-27T15:56:18.749Z"
   },
   {
    "duration": 65,
    "start_time": "2022-03-27T17:01:43.099Z"
   },
   {
    "duration": 13,
    "start_time": "2022-03-27T17:01:43.166Z"
   },
   {
    "duration": 25,
    "start_time": "2022-03-27T17:01:43.181Z"
   },
   {
    "duration": 6,
    "start_time": "2022-03-27T17:01:43.208Z"
   },
   {
    "duration": 4,
    "start_time": "2022-03-27T17:01:43.216Z"
   },
   {
    "duration": 4,
    "start_time": "2022-03-27T17:01:43.222Z"
   },
   {
    "duration": 9,
    "start_time": "2022-03-27T17:01:43.228Z"
   },
   {
    "duration": 13,
    "start_time": "2022-03-27T17:01:43.238Z"
   },
   {
    "duration": 6,
    "start_time": "2022-03-27T17:01:43.252Z"
   },
   {
    "duration": 28,
    "start_time": "2022-03-27T17:01:46.194Z"
   },
   {
    "duration": 29,
    "start_time": "2022-03-27T17:02:41.359Z"
   },
   {
    "duration": 28,
    "start_time": "2022-03-27T17:04:03.963Z"
   },
   {
    "duration": 9,
    "start_time": "2022-03-27T17:18:22.792Z"
   },
   {
    "duration": 36,
    "start_time": "2022-03-27T17:19:49.436Z"
   },
   {
    "duration": 5,
    "start_time": "2022-03-27T17:19:56.728Z"
   },
   {
    "duration": 12,
    "start_time": "2022-03-27T17:21:06.520Z"
   },
   {
    "duration": 36,
    "start_time": "2022-03-27T17:21:21.404Z"
   },
   {
    "duration": 11,
    "start_time": "2022-03-27T17:21:34.402Z"
   },
   {
    "duration": 11,
    "start_time": "2022-03-27T17:26:08.081Z"
   },
   {
    "duration": 7,
    "start_time": "2022-03-27T17:26:08.875Z"
   },
   {
    "duration": 6,
    "start_time": "2022-03-27T17:28:28.107Z"
   },
   {
    "duration": 6,
    "start_time": "2022-03-27T17:36:29.198Z"
   },
   {
    "duration": 6,
    "start_time": "2022-03-27T17:36:37.456Z"
   },
   {
    "duration": 5,
    "start_time": "2022-03-27T17:36:56.117Z"
   },
   {
    "duration": 7,
    "start_time": "2022-03-27T17:37:09.539Z"
   },
   {
    "duration": 7,
    "start_time": "2022-03-27T17:40:42.274Z"
   },
   {
    "duration": 42,
    "start_time": "2022-03-27T17:41:09.939Z"
   },
   {
    "duration": 43,
    "start_time": "2022-03-27T17:41:16.240Z"
   },
   {
    "duration": 41,
    "start_time": "2022-03-27T17:41:32.192Z"
   },
   {
    "duration": 5,
    "start_time": "2022-03-27T17:43:43.556Z"
   },
   {
    "duration": 6,
    "start_time": "2022-03-27T17:44:01.651Z"
   },
   {
    "duration": 5,
    "start_time": "2022-03-27T17:50:50.018Z"
   },
   {
    "duration": 6,
    "start_time": "2022-03-27T17:50:54.698Z"
   },
   {
    "duration": 5,
    "start_time": "2022-03-27T17:58:46.333Z"
   },
   {
    "duration": 6,
    "start_time": "2022-03-27T18:00:08.977Z"
   },
   {
    "duration": 6,
    "start_time": "2022-03-27T18:00:39.545Z"
   },
   {
    "duration": 5,
    "start_time": "2022-03-27T18:17:18.073Z"
   },
   {
    "duration": 7,
    "start_time": "2022-03-27T18:17:28.567Z"
   },
   {
    "duration": 15,
    "start_time": "2022-03-27T18:18:13.086Z"
   },
   {
    "duration": 6,
    "start_time": "2022-03-27T18:19:01.716Z"
   },
   {
    "duration": 636,
    "start_time": "2022-03-27T18:35:39.629Z"
   },
   {
    "duration": 23,
    "start_time": "2022-03-27T18:35:40.268Z"
   },
   {
    "duration": 13,
    "start_time": "2022-03-27T18:35:40.293Z"
   },
   {
    "duration": 8,
    "start_time": "2022-03-27T18:35:40.308Z"
   },
   {
    "duration": 9,
    "start_time": "2022-03-27T18:35:40.319Z"
   },
   {
    "duration": 10,
    "start_time": "2022-03-27T18:35:40.330Z"
   },
   {
    "duration": 42,
    "start_time": "2022-03-27T18:35:40.342Z"
   },
   {
    "duration": 25,
    "start_time": "2022-03-27T18:35:40.386Z"
   },
   {
    "duration": 11,
    "start_time": "2022-03-27T18:35:40.413Z"
   },
   {
    "duration": 48,
    "start_time": "2022-03-27T18:35:40.427Z"
   },
   {
    "duration": 26,
    "start_time": "2022-03-27T18:35:40.478Z"
   },
   {
    "duration": 27,
    "start_time": "2022-03-27T18:35:40.507Z"
   },
   {
    "duration": 8,
    "start_time": "2022-03-27T18:35:40.536Z"
   },
   {
    "duration": 16,
    "start_time": "2022-03-27T18:35:40.576Z"
   },
   {
    "duration": 15,
    "start_time": "2022-03-27T18:35:40.594Z"
   },
   {
    "duration": 9,
    "start_time": "2022-03-27T18:35:40.611Z"
   },
   {
    "duration": 7,
    "start_time": "2022-03-27T18:35:40.622Z"
   },
   {
    "duration": 42,
    "start_time": "2022-03-27T18:35:40.632Z"
   },
   {
    "duration": 8,
    "start_time": "2022-03-27T18:35:40.676Z"
   },
   {
    "duration": 10,
    "start_time": "2022-03-27T18:35:40.687Z"
   },
   {
    "duration": 6,
    "start_time": "2022-03-27T18:35:51.820Z"
   },
   {
    "duration": 6,
    "start_time": "2022-03-27T18:38:55.413Z"
   },
   {
    "duration": 6,
    "start_time": "2022-03-27T18:38:55.959Z"
   },
   {
    "duration": 19,
    "start_time": "2022-03-27T18:39:02.146Z"
   },
   {
    "duration": 6,
    "start_time": "2022-03-27T18:39:43.308Z"
   },
   {
    "duration": 6,
    "start_time": "2022-03-27T18:44:47.388Z"
   },
   {
    "duration": 11,
    "start_time": "2022-03-27T18:48:16.569Z"
   },
   {
    "duration": 11,
    "start_time": "2022-03-27T18:49:18.507Z"
   },
   {
    "duration": 10,
    "start_time": "2022-03-27T18:49:28.202Z"
   },
   {
    "duration": 9,
    "start_time": "2022-03-27T18:51:14.682Z"
   },
   {
    "duration": 8,
    "start_time": "2022-03-27T19:01:13.110Z"
   },
   {
    "duration": 5,
    "start_time": "2022-03-27T19:01:56.838Z"
   },
   {
    "duration": 5,
    "start_time": "2022-03-27T19:04:49.925Z"
   },
   {
    "duration": 8,
    "start_time": "2022-03-27T19:05:21.830Z"
   },
   {
    "duration": 103,
    "start_time": "2022-03-27T19:32:03.512Z"
   },
   {
    "duration": 22,
    "start_time": "2022-03-27T19:32:59.192Z"
   },
   {
    "duration": 24,
    "start_time": "2022-03-27T19:34:28.404Z"
   },
   {
    "duration": 9,
    "start_time": "2022-03-27T19:51:38.350Z"
   },
   {
    "duration": 511,
    "start_time": "2022-03-27T19:51:46.555Z"
   },
   {
    "duration": 148,
    "start_time": "2022-03-27T19:51:53.967Z"
   },
   {
    "duration": 16,
    "start_time": "2022-03-27T19:52:05.794Z"
   },
   {
    "duration": 12,
    "start_time": "2022-03-27T20:00:55.456Z"
   },
   {
    "duration": 23,
    "start_time": "2022-03-27T20:02:53.753Z"
   },
   {
    "duration": 23,
    "start_time": "2022-03-27T20:03:14.533Z"
   },
   {
    "duration": 28,
    "start_time": "2022-03-27T20:04:27.546Z"
   },
   {
    "duration": 11,
    "start_time": "2022-03-27T20:05:43.036Z"
   },
   {
    "duration": 27,
    "start_time": "2022-03-27T20:12:40.036Z"
   },
   {
    "duration": 28,
    "start_time": "2022-03-27T20:13:03.803Z"
   },
   {
    "duration": 29,
    "start_time": "2022-03-27T20:13:16.235Z"
   },
   {
    "duration": 13,
    "start_time": "2022-03-27T20:19:17.961Z"
   },
   {
    "duration": 13,
    "start_time": "2022-03-27T20:19:33.346Z"
   },
   {
    "duration": 29,
    "start_time": "2022-03-27T20:34:03.428Z"
   },
   {
    "duration": 9,
    "start_time": "2022-03-27T20:40:01.664Z"
   },
   {
    "duration": 19,
    "start_time": "2022-03-27T20:41:05.570Z"
   },
   {
    "duration": 7,
    "start_time": "2022-03-27T20:41:19.969Z"
   },
   {
    "duration": 8,
    "start_time": "2022-03-27T20:42:38.797Z"
   },
   {
    "duration": 26,
    "start_time": "2022-03-27T20:44:22.895Z"
   },
   {
    "duration": 26,
    "start_time": "2022-03-27T20:44:27.638Z"
   },
   {
    "duration": 8,
    "start_time": "2022-03-27T20:58:36.595Z"
   },
   {
    "duration": 8,
    "start_time": "2022-03-27T20:59:04.610Z"
   },
   {
    "duration": 8,
    "start_time": "2022-03-27T21:00:34.674Z"
   },
   {
    "duration": 1868,
    "start_time": "2022-03-27T21:01:18.912Z"
   },
   {
    "duration": 9,
    "start_time": "2022-03-27T21:01:27.529Z"
   },
   {
    "duration": 7,
    "start_time": "2022-03-27T21:01:43.868Z"
   },
   {
    "duration": 8,
    "start_time": "2022-03-27T21:07:01.958Z"
   },
   {
    "duration": 9,
    "start_time": "2022-03-27T21:08:44.497Z"
   },
   {
    "duration": 7,
    "start_time": "2022-03-27T21:08:57.833Z"
   },
   {
    "duration": 7,
    "start_time": "2022-03-27T21:09:00.411Z"
   },
   {
    "duration": 8,
    "start_time": "2022-03-27T21:09:01.720Z"
   },
   {
    "duration": 32,
    "start_time": "2022-03-27T21:11:26.201Z"
   },
   {
    "duration": 8,
    "start_time": "2022-03-27T21:12:04.892Z"
   },
   {
    "duration": 19,
    "start_time": "2022-03-27T21:12:27.649Z"
   },
   {
    "duration": 29,
    "start_time": "2022-03-27T21:12:45.086Z"
   },
   {
    "duration": 9,
    "start_time": "2022-03-27T21:13:40.457Z"
   },
   {
    "duration": 8,
    "start_time": "2022-03-27T21:14:08.713Z"
   },
   {
    "duration": 8,
    "start_time": "2022-03-27T21:14:12.297Z"
   },
   {
    "duration": 125,
    "start_time": "2022-03-27T21:18:22.782Z"
   },
   {
    "duration": 7,
    "start_time": "2022-03-27T21:18:27.039Z"
   },
   {
    "duration": 1777,
    "start_time": "2022-03-27T21:18:31.889Z"
   },
   {
    "duration": 1829,
    "start_time": "2022-03-27T21:18:39.060Z"
   },
   {
    "duration": 1968,
    "start_time": "2022-03-27T21:18:55.136Z"
   },
   {
    "duration": 2005,
    "start_time": "2022-03-27T21:19:24.524Z"
   },
   {
    "duration": 466,
    "start_time": "2022-03-27T21:19:31.551Z"
   },
   {
    "duration": 23,
    "start_time": "2022-03-27T21:19:46.818Z"
   },
   {
    "duration": 33,
    "start_time": "2022-03-27T21:20:04.507Z"
   },
   {
    "duration": 46,
    "start_time": "2022-03-27T21:20:11.424Z"
   },
   {
    "duration": 19,
    "start_time": "2022-03-27T21:53:37.927Z"
   },
   {
    "duration": 14,
    "start_time": "2022-03-27T21:54:59.509Z"
   },
   {
    "duration": 8,
    "start_time": "2022-03-27T21:55:36.227Z"
   },
   {
    "duration": 8,
    "start_time": "2022-03-27T21:56:11.837Z"
   },
   {
    "duration": 137,
    "start_time": "2022-03-27T22:01:09.559Z"
   },
   {
    "duration": 16,
    "start_time": "2022-03-27T22:01:17.046Z"
   },
   {
    "duration": 19,
    "start_time": "2022-03-27T22:01:20.211Z"
   },
   {
    "duration": 114,
    "start_time": "2022-03-27T22:07:03.657Z"
   },
   {
    "duration": 16,
    "start_time": "2022-03-27T22:07:09.991Z"
   },
   {
    "duration": 20,
    "start_time": "2022-03-27T22:07:12.762Z"
   },
   {
    "duration": 8,
    "start_time": "2022-03-27T22:07:13.410Z"
   },
   {
    "duration": 8,
    "start_time": "2022-03-27T22:07:22.754Z"
   },
   {
    "duration": 15,
    "start_time": "2022-03-27T22:08:05.619Z"
   },
   {
    "duration": 21,
    "start_time": "2022-03-27T22:08:07.031Z"
   },
   {
    "duration": 9,
    "start_time": "2022-03-27T22:08:13.797Z"
   },
   {
    "duration": 9,
    "start_time": "2022-03-27T22:08:41.581Z"
   },
   {
    "duration": 15,
    "start_time": "2022-03-27T22:09:36.507Z"
   },
   {
    "duration": 21,
    "start_time": "2022-03-27T22:09:39.447Z"
   },
   {
    "duration": 8,
    "start_time": "2022-03-27T22:09:52.026Z"
   },
   {
    "duration": 17,
    "start_time": "2022-03-27T22:10:11.204Z"
   },
   {
    "duration": 21,
    "start_time": "2022-03-27T22:10:15.312Z"
   },
   {
    "duration": 8,
    "start_time": "2022-03-27T22:10:17.541Z"
   },
   {
    "duration": 7,
    "start_time": "2022-03-27T22:12:34.798Z"
   },
   {
    "duration": 8,
    "start_time": "2022-03-27T22:12:58.791Z"
   },
   {
    "duration": 9,
    "start_time": "2022-03-27T22:13:13.667Z"
   },
   {
    "duration": 8,
    "start_time": "2022-03-27T22:15:11.117Z"
   },
   {
    "duration": 10,
    "start_time": "2022-03-27T22:15:47.297Z"
   },
   {
    "duration": 596,
    "start_time": "2022-03-28T18:49:47.818Z"
   },
   {
    "duration": 24,
    "start_time": "2022-03-28T18:49:48.418Z"
   },
   {
    "duration": 39,
    "start_time": "2022-03-28T18:49:48.445Z"
   },
   {
    "duration": 9,
    "start_time": "2022-03-28T18:49:48.486Z"
   },
   {
    "duration": 6,
    "start_time": "2022-03-28T18:49:48.498Z"
   },
   {
    "duration": 7,
    "start_time": "2022-03-28T18:49:48.506Z"
   },
   {
    "duration": 16,
    "start_time": "2022-03-28T18:49:48.515Z"
   },
   {
    "duration": 54,
    "start_time": "2022-03-28T18:49:48.533Z"
   },
   {
    "duration": 7,
    "start_time": "2022-03-28T18:49:48.589Z"
   },
   {
    "duration": 30,
    "start_time": "2022-03-28T18:49:48.599Z"
   },
   {
    "duration": 59,
    "start_time": "2022-03-28T18:49:48.631Z"
   },
   {
    "duration": 28,
    "start_time": "2022-03-28T18:49:48.693Z"
   },
   {
    "duration": 8,
    "start_time": "2022-03-28T18:49:48.723Z"
   },
   {
    "duration": 16,
    "start_time": "2022-03-28T18:49:48.736Z"
   },
   {
    "duration": 10,
    "start_time": "2022-03-28T18:49:48.784Z"
   },
   {
    "duration": 10,
    "start_time": "2022-03-28T18:49:48.796Z"
   },
   {
    "duration": 10,
    "start_time": "2022-03-28T18:49:48.809Z"
   },
   {
    "duration": 10,
    "start_time": "2022-03-28T18:49:48.821Z"
   },
   {
    "duration": 11,
    "start_time": "2022-03-28T18:49:48.832Z"
   },
   {
    "duration": 42,
    "start_time": "2022-03-28T18:49:48.845Z"
   },
   {
    "duration": 7,
    "start_time": "2022-03-28T18:49:48.889Z"
   },
   {
    "duration": 12,
    "start_time": "2022-03-28T18:49:48.898Z"
   },
   {
    "duration": 11,
    "start_time": "2022-03-28T18:49:48.913Z"
   },
   {
    "duration": 57,
    "start_time": "2022-03-28T18:49:48.927Z"
   },
   {
    "duration": 9,
    "start_time": "2022-03-28T18:49:48.986Z"
   },
   {
    "duration": 12,
    "start_time": "2022-03-28T18:49:48.998Z"
   },
   {
    "duration": 13,
    "start_time": "2022-03-28T18:49:49.013Z"
   },
   {
    "duration": 13,
    "start_time": "2022-03-28T18:49:49.029Z"
   },
   {
    "duration": 46,
    "start_time": "2022-03-28T18:49:49.045Z"
   },
   {
    "duration": 35,
    "start_time": "2022-03-28T18:49:49.093Z"
   },
   {
    "duration": 32,
    "start_time": "2022-03-28T18:49:49.131Z"
   },
   {
    "duration": 43,
    "start_time": "2022-03-28T18:49:49.165Z"
   },
   {
    "duration": 32,
    "start_time": "2022-03-28T18:49:54.392Z"
   },
   {
    "duration": 108,
    "start_time": "2022-03-28T19:00:47.532Z"
   },
   {
    "duration": 25,
    "start_time": "2022-03-28T19:01:13.371Z"
   },
   {
    "duration": 21,
    "start_time": "2022-03-28T19:03:28.031Z"
   },
   {
    "duration": 22,
    "start_time": "2022-03-28T19:03:45.319Z"
   },
   {
    "duration": 24,
    "start_time": "2022-03-28T19:04:03.249Z"
   },
   {
    "duration": 24,
    "start_time": "2022-03-28T19:06:49.762Z"
   },
   {
    "duration": 29,
    "start_time": "2022-03-28T19:13:15.582Z"
   },
   {
    "duration": 23,
    "start_time": "2022-03-28T19:13:35.033Z"
   },
   {
    "duration": 22,
    "start_time": "2022-03-28T19:13:39.113Z"
   },
   {
    "duration": 21,
    "start_time": "2022-03-28T19:15:07.074Z"
   },
   {
    "duration": 17,
    "start_time": "2022-03-28T19:15:28.475Z"
   },
   {
    "duration": 10,
    "start_time": "2022-03-28T19:18:16.826Z"
   },
   {
    "duration": 8,
    "start_time": "2022-03-28T19:18:28.263Z"
   },
   {
    "duration": 7,
    "start_time": "2022-03-28T19:19:13.748Z"
   },
   {
    "duration": 13,
    "start_time": "2022-03-28T19:19:19.092Z"
   },
   {
    "duration": 22,
    "start_time": "2022-03-28T19:19:34.412Z"
   },
   {
    "duration": 22,
    "start_time": "2022-03-28T19:31:21.578Z"
   },
   {
    "duration": 18,
    "start_time": "2022-03-28T19:36:06.560Z"
   },
   {
    "duration": 17,
    "start_time": "2022-03-28T19:36:15.978Z"
   },
   {
    "duration": 32,
    "start_time": "2022-03-28T19:45:48.920Z"
   },
   {
    "duration": 13,
    "start_time": "2022-03-28T20:00:52.204Z"
   },
   {
    "duration": 13,
    "start_time": "2022-03-28T20:01:03.997Z"
   },
   {
    "duration": 20,
    "start_time": "2022-03-28T20:01:13.483Z"
   },
   {
    "duration": 22,
    "start_time": "2022-03-28T20:01:31.963Z"
   },
   {
    "duration": 7,
    "start_time": "2022-03-28T20:06:52.406Z"
   },
   {
    "duration": 22,
    "start_time": "2022-03-28T20:06:53.732Z"
   },
   {
    "duration": 11,
    "start_time": "2022-03-28T20:07:18.041Z"
   },
   {
    "duration": 22,
    "start_time": "2022-03-28T20:07:18.557Z"
   },
   {
    "duration": 99,
    "start_time": "2022-03-28T20:07:31.628Z"
   },
   {
    "duration": 21,
    "start_time": "2022-03-28T20:07:31.730Z"
   },
   {
    "duration": 39,
    "start_time": "2022-03-28T20:07:31.753Z"
   },
   {
    "duration": 20,
    "start_time": "2022-03-28T20:07:31.794Z"
   },
   {
    "duration": 13,
    "start_time": "2022-03-28T20:07:31.817Z"
   },
   {
    "duration": 9,
    "start_time": "2022-03-28T20:07:31.833Z"
   },
   {
    "duration": 22,
    "start_time": "2022-03-28T20:07:31.845Z"
   },
   {
    "duration": 33,
    "start_time": "2022-03-28T20:07:31.869Z"
   },
   {
    "duration": 20,
    "start_time": "2022-03-28T20:07:31.904Z"
   },
   {
    "duration": 34,
    "start_time": "2022-03-28T20:07:31.927Z"
   },
   {
    "duration": 36,
    "start_time": "2022-03-28T20:07:31.963Z"
   },
   {
    "duration": 27,
    "start_time": "2022-03-28T20:07:32.002Z"
   },
   {
    "duration": 9,
    "start_time": "2022-03-28T20:07:32.031Z"
   },
   {
    "duration": 44,
    "start_time": "2022-03-28T20:07:32.045Z"
   },
   {
    "duration": 21,
    "start_time": "2022-03-28T20:07:32.091Z"
   },
   {
    "duration": 20,
    "start_time": "2022-03-28T20:07:32.114Z"
   },
   {
    "duration": 45,
    "start_time": "2022-03-28T20:07:32.136Z"
   },
   {
    "duration": 32,
    "start_time": "2022-03-28T20:07:32.184Z"
   },
   {
    "duration": 38,
    "start_time": "2022-03-28T20:07:32.218Z"
   },
   {
    "duration": 36,
    "start_time": "2022-03-28T20:07:32.259Z"
   },
   {
    "duration": 20,
    "start_time": "2022-03-28T20:07:32.299Z"
   },
   {
    "duration": 40,
    "start_time": "2022-03-28T20:07:32.322Z"
   },
   {
    "duration": 55,
    "start_time": "2022-03-28T20:07:32.365Z"
   },
   {
    "duration": 40,
    "start_time": "2022-03-28T20:07:32.422Z"
   },
   {
    "duration": 35,
    "start_time": "2022-03-28T20:07:32.465Z"
   },
   {
    "duration": 45,
    "start_time": "2022-03-28T20:07:32.502Z"
   },
   {
    "duration": 43,
    "start_time": "2022-03-28T20:07:32.549Z"
   },
   {
    "duration": 23,
    "start_time": "2022-03-28T20:07:32.594Z"
   },
   {
    "duration": 45,
    "start_time": "2022-03-28T20:07:32.619Z"
   },
   {
    "duration": 37,
    "start_time": "2022-03-28T20:07:32.666Z"
   },
   {
    "duration": 43,
    "start_time": "2022-03-28T20:07:32.706Z"
   },
   {
    "duration": 65,
    "start_time": "2022-03-28T20:07:32.752Z"
   },
   {
    "duration": 54,
    "start_time": "2022-03-28T20:07:32.819Z"
   },
   {
    "duration": 11,
    "start_time": "2022-03-28T20:07:32.876Z"
   },
   {
    "duration": 21,
    "start_time": "2022-03-28T20:07:36.559Z"
   },
   {
    "duration": 22,
    "start_time": "2022-03-28T20:07:39.382Z"
   },
   {
    "duration": 12,
    "start_time": "2022-03-28T20:07:40.950Z"
   },
   {
    "duration": 23,
    "start_time": "2022-03-28T20:07:41.735Z"
   },
   {
    "duration": 22,
    "start_time": "2022-03-28T20:12:25.352Z"
   },
   {
    "duration": 20,
    "start_time": "2022-03-28T21:09:37.536Z"
   },
   {
    "duration": 25,
    "start_time": "2022-03-28T21:34:59.015Z"
   },
   {
    "duration": 24,
    "start_time": "2022-03-28T21:35:09.934Z"
   },
   {
    "duration": 19,
    "start_time": "2022-03-28T21:35:42.959Z"
   },
   {
    "duration": 20,
    "start_time": "2022-03-28T21:35:55.359Z"
   },
   {
    "duration": 21,
    "start_time": "2022-03-28T21:36:19.404Z"
   },
   {
    "duration": 22,
    "start_time": "2022-03-28T21:36:30.243Z"
   },
   {
    "duration": 21,
    "start_time": "2022-03-28T21:36:41.542Z"
   },
   {
    "duration": 9,
    "start_time": "2022-03-28T22:08:39.279Z"
   },
   {
    "duration": 89,
    "start_time": "2022-03-28T22:08:47.224Z"
   },
   {
    "duration": 20,
    "start_time": "2022-03-28T22:08:47.316Z"
   },
   {
    "duration": 13,
    "start_time": "2022-03-28T22:08:47.339Z"
   },
   {
    "duration": 34,
    "start_time": "2022-03-28T22:08:47.354Z"
   },
   {
    "duration": 6,
    "start_time": "2022-03-28T22:08:47.391Z"
   },
   {
    "duration": 6,
    "start_time": "2022-03-28T22:08:47.400Z"
   },
   {
    "duration": 14,
    "start_time": "2022-03-28T22:08:47.409Z"
   },
   {
    "duration": 21,
    "start_time": "2022-03-28T22:08:47.425Z"
   },
   {
    "duration": 5,
    "start_time": "2022-03-28T22:08:47.485Z"
   },
   {
    "duration": 30,
    "start_time": "2022-03-28T22:08:47.492Z"
   },
   {
    "duration": 27,
    "start_time": "2022-03-28T22:08:47.525Z"
   },
   {
    "duration": 54,
    "start_time": "2022-03-28T22:08:47.555Z"
   },
   {
    "duration": 9,
    "start_time": "2022-03-28T22:08:47.611Z"
   },
   {
    "duration": 18,
    "start_time": "2022-03-28T22:08:47.627Z"
   },
   {
    "duration": 49,
    "start_time": "2022-03-28T22:08:47.647Z"
   },
   {
    "duration": 8,
    "start_time": "2022-03-28T22:08:47.698Z"
   },
   {
    "duration": 7,
    "start_time": "2022-03-28T22:08:47.708Z"
   },
   {
    "duration": 22,
    "start_time": "2022-03-28T22:08:47.717Z"
   },
   {
    "duration": 14,
    "start_time": "2022-03-28T22:08:47.742Z"
   },
   {
    "duration": 7,
    "start_time": "2022-03-28T22:08:47.783Z"
   },
   {
    "duration": 29,
    "start_time": "2022-03-28T22:08:47.792Z"
   },
   {
    "duration": 15,
    "start_time": "2022-03-28T22:08:47.823Z"
   },
   {
    "duration": 13,
    "start_time": "2022-03-28T22:08:47.840Z"
   },
   {
    "duration": 10,
    "start_time": "2022-03-28T22:08:47.856Z"
   },
   {
    "duration": 10,
    "start_time": "2022-03-28T22:08:47.885Z"
   },
   {
    "duration": 9,
    "start_time": "2022-03-28T22:08:47.897Z"
   },
   {
    "duration": 10,
    "start_time": "2022-03-28T22:08:47.908Z"
   },
   {
    "duration": 13,
    "start_time": "2022-03-28T22:08:47.921Z"
   },
   {
    "duration": 50,
    "start_time": "2022-03-28T22:08:47.938Z"
   },
   {
    "duration": 24,
    "start_time": "2022-03-28T22:08:47.991Z"
   },
   {
    "duration": 22,
    "start_time": "2022-03-28T22:08:48.017Z"
   },
   {
    "duration": 47,
    "start_time": "2022-03-28T22:08:48.042Z"
   },
   {
    "duration": 37,
    "start_time": "2022-03-28T22:08:48.092Z"
   },
   {
    "duration": 20,
    "start_time": "2022-03-28T22:08:48.132Z"
   },
   {
    "duration": 24,
    "start_time": "2022-03-28T22:08:48.185Z"
   },
   {
    "duration": 10,
    "start_time": "2022-03-28T22:08:48.211Z"
   },
   {
    "duration": 26,
    "start_time": "2022-03-28T22:08:48.223Z"
   },
   {
    "duration": 51,
    "start_time": "2022-03-28T22:08:48.251Z"
   },
   {
    "duration": 22,
    "start_time": "2022-03-28T22:08:48.304Z"
   },
   {
    "duration": 426,
    "start_time": "2022-04-08T15:32:42.596Z"
   },
   {
    "duration": 15,
    "start_time": "2022-04-08T15:32:43.023Z"
   },
   {
    "duration": 12,
    "start_time": "2022-04-08T15:32:43.040Z"
   },
   {
    "duration": 8,
    "start_time": "2022-04-08T15:32:43.054Z"
   },
   {
    "duration": 11,
    "start_time": "2022-04-08T15:32:43.063Z"
   },
   {
    "duration": 6,
    "start_time": "2022-04-08T15:32:43.075Z"
   },
   {
    "duration": 11,
    "start_time": "2022-04-08T15:32:43.082Z"
   },
   {
    "duration": 14,
    "start_time": "2022-04-08T15:32:43.095Z"
   },
   {
    "duration": 38,
    "start_time": "2022-04-08T15:32:43.111Z"
   },
   {
    "duration": 19,
    "start_time": "2022-04-08T15:32:43.153Z"
   },
   {
    "duration": 17,
    "start_time": "2022-04-08T15:32:43.174Z"
   },
   {
    "duration": 18,
    "start_time": "2022-04-08T15:32:43.193Z"
   },
   {
    "duration": 6,
    "start_time": "2022-04-08T15:32:43.213Z"
   },
   {
    "duration": 11,
    "start_time": "2022-04-08T15:32:43.248Z"
   },
   {
    "duration": 11,
    "start_time": "2022-04-08T15:32:43.261Z"
   },
   {
    "duration": 7,
    "start_time": "2022-04-08T15:32:43.274Z"
   },
   {
    "duration": 9,
    "start_time": "2022-04-08T15:32:43.282Z"
   },
   {
    "duration": 8,
    "start_time": "2022-04-08T15:32:43.293Z"
   },
   {
    "duration": 6,
    "start_time": "2022-04-08T15:32:43.302Z"
   },
   {
    "duration": 8,
    "start_time": "2022-04-08T15:32:43.309Z"
   },
   {
    "duration": 28,
    "start_time": "2022-04-08T15:32:43.319Z"
   },
   {
    "duration": 7,
    "start_time": "2022-04-08T15:32:43.349Z"
   },
   {
    "duration": 15,
    "start_time": "2022-04-08T15:32:43.358Z"
   },
   {
    "duration": 10,
    "start_time": "2022-04-08T15:32:43.375Z"
   },
   {
    "duration": 7,
    "start_time": "2022-04-08T15:32:43.387Z"
   },
   {
    "duration": 6,
    "start_time": "2022-04-08T15:32:43.396Z"
   },
   {
    "duration": 16,
    "start_time": "2022-04-08T15:32:43.403Z"
   },
   {
    "duration": 26,
    "start_time": "2022-04-08T15:32:43.422Z"
   },
   {
    "duration": 8,
    "start_time": "2022-04-08T15:32:43.450Z"
   },
   {
    "duration": 12,
    "start_time": "2022-04-08T15:32:43.460Z"
   },
   {
    "duration": 13,
    "start_time": "2022-04-08T15:32:43.473Z"
   },
   {
    "duration": 10,
    "start_time": "2022-04-08T15:32:43.487Z"
   },
   {
    "duration": 56,
    "start_time": "2022-04-08T15:32:43.499Z"
   },
   {
    "duration": 14,
    "start_time": "2022-04-08T15:32:43.557Z"
   },
   {
    "duration": 16,
    "start_time": "2022-04-08T15:32:43.573Z"
   },
   {
    "duration": 9,
    "start_time": "2022-04-08T15:32:43.591Z"
   },
   {
    "duration": 51,
    "start_time": "2022-04-08T15:32:43.602Z"
   },
   {
    "duration": 16,
    "start_time": "2022-04-08T15:32:43.657Z"
   },
   {
    "duration": 14,
    "start_time": "2022-04-08T15:32:43.675Z"
   },
   {
    "duration": 487,
    "start_time": "2022-04-08T17:58:37.779Z"
   },
   {
    "duration": 13,
    "start_time": "2022-04-08T17:58:38.268Z"
   },
   {
    "duration": 8,
    "start_time": "2022-04-08T17:58:38.282Z"
   },
   {
    "duration": 6,
    "start_time": "2022-04-08T17:58:38.292Z"
   },
   {
    "duration": 4,
    "start_time": "2022-04-08T17:58:38.299Z"
   },
   {
    "duration": 6,
    "start_time": "2022-04-08T17:58:38.305Z"
   },
   {
    "duration": 10,
    "start_time": "2022-04-08T17:58:38.312Z"
   },
   {
    "duration": 12,
    "start_time": "2022-04-08T17:58:38.323Z"
   },
   {
    "duration": 4,
    "start_time": "2022-04-08T17:58:38.337Z"
   },
   {
    "duration": 45,
    "start_time": "2022-04-08T17:58:38.342Z"
   },
   {
    "duration": 14,
    "start_time": "2022-04-08T17:58:38.389Z"
   },
   {
    "duration": 16,
    "start_time": "2022-04-08T17:58:38.404Z"
   },
   {
    "duration": 5,
    "start_time": "2022-04-08T17:58:38.421Z"
   },
   {
    "duration": 10,
    "start_time": "2022-04-08T17:58:38.428Z"
   },
   {
    "duration": 9,
    "start_time": "2022-04-08T17:58:38.439Z"
   },
   {
    "duration": 6,
    "start_time": "2022-04-08T17:58:38.449Z"
   },
   {
    "duration": 4,
    "start_time": "2022-04-08T17:58:38.481Z"
   },
   {
    "duration": 5,
    "start_time": "2022-04-08T17:58:38.487Z"
   },
   {
    "duration": 5,
    "start_time": "2022-04-08T17:58:38.493Z"
   },
   {
    "duration": 5,
    "start_time": "2022-04-08T17:58:38.499Z"
   },
   {
    "duration": 4,
    "start_time": "2022-04-08T17:58:38.505Z"
   },
   {
    "duration": 8,
    "start_time": "2022-04-08T17:58:38.511Z"
   },
   {
    "duration": 6,
    "start_time": "2022-04-08T17:58:38.520Z"
   },
   {
    "duration": 6,
    "start_time": "2022-04-08T17:58:38.527Z"
   },
   {
    "duration": 9,
    "start_time": "2022-04-08T17:58:38.534Z"
   },
   {
    "duration": 39,
    "start_time": "2022-04-08T17:58:38.544Z"
   },
   {
    "duration": 9,
    "start_time": "2022-04-08T17:58:38.584Z"
   },
   {
    "duration": 7,
    "start_time": "2022-04-08T17:58:38.594Z"
   },
   {
    "duration": 6,
    "start_time": "2022-04-08T17:58:38.603Z"
   },
   {
    "duration": 18,
    "start_time": "2022-04-08T17:58:38.610Z"
   },
   {
    "duration": 12,
    "start_time": "2022-04-08T17:58:38.629Z"
   },
   {
    "duration": 11,
    "start_time": "2022-04-08T17:58:38.642Z"
   },
   {
    "duration": 40,
    "start_time": "2022-04-08T17:58:38.654Z"
   },
   {
    "duration": 12,
    "start_time": "2022-04-08T17:58:38.696Z"
   },
   {
    "duration": 14,
    "start_time": "2022-04-08T17:58:38.709Z"
   },
   {
    "duration": 6,
    "start_time": "2022-04-08T17:58:38.724Z"
   },
   {
    "duration": 16,
    "start_time": "2022-04-08T17:58:38.732Z"
   },
   {
    "duration": 42,
    "start_time": "2022-04-08T17:58:38.749Z"
   },
   {
    "duration": 12,
    "start_time": "2022-04-08T17:58:38.792Z"
   },
   {
    "duration": 436,
    "start_time": "2022-04-08T18:03:07.306Z"
   },
   {
    "duration": 14,
    "start_time": "2022-04-08T18:03:07.743Z"
   },
   {
    "duration": 22,
    "start_time": "2022-04-08T18:03:07.759Z"
   },
   {
    "duration": 5,
    "start_time": "2022-04-08T18:03:07.783Z"
   },
   {
    "duration": 4,
    "start_time": "2022-04-08T18:03:07.790Z"
   },
   {
    "duration": 6,
    "start_time": "2022-04-08T18:03:07.795Z"
   },
   {
    "duration": 9,
    "start_time": "2022-04-08T18:03:07.802Z"
   },
   {
    "duration": 12,
    "start_time": "2022-04-08T18:03:07.813Z"
   },
   {
    "duration": 4,
    "start_time": "2022-04-08T18:03:07.826Z"
   },
   {
    "duration": 18,
    "start_time": "2022-04-08T18:03:07.831Z"
   },
   {
    "duration": 39,
    "start_time": "2022-04-08T18:03:07.851Z"
   },
   {
    "duration": 16,
    "start_time": "2022-04-08T18:03:07.892Z"
   },
   {
    "duration": 5,
    "start_time": "2022-04-08T18:03:07.909Z"
   },
   {
    "duration": 10,
    "start_time": "2022-04-08T18:03:07.917Z"
   },
   {
    "duration": 6,
    "start_time": "2022-04-08T18:03:07.929Z"
   },
   {
    "duration": 5,
    "start_time": "2022-04-08T18:03:07.936Z"
   },
   {
    "duration": 38,
    "start_time": "2022-04-08T18:03:07.943Z"
   },
   {
    "duration": 4,
    "start_time": "2022-04-08T18:03:07.982Z"
   },
   {
    "duration": 6,
    "start_time": "2022-04-08T18:03:07.988Z"
   },
   {
    "duration": 6,
    "start_time": "2022-04-08T18:03:07.995Z"
   },
   {
    "duration": 6,
    "start_time": "2022-04-08T18:03:08.002Z"
   },
   {
    "duration": 8,
    "start_time": "2022-04-08T18:03:08.009Z"
   },
   {
    "duration": 7,
    "start_time": "2022-04-08T18:03:08.018Z"
   },
   {
    "duration": 6,
    "start_time": "2022-04-08T18:03:08.026Z"
   },
   {
    "duration": 8,
    "start_time": "2022-04-08T18:03:08.033Z"
   },
   {
    "duration": 12,
    "start_time": "2022-04-08T18:03:08.042Z"
   },
   {
    "duration": 6,
    "start_time": "2022-04-08T18:03:08.080Z"
   },
   {
    "duration": 8,
    "start_time": "2022-04-08T18:03:08.087Z"
   },
   {
    "duration": 8,
    "start_time": "2022-04-08T18:03:08.096Z"
   },
   {
    "duration": 12,
    "start_time": "2022-04-08T18:03:08.105Z"
   },
   {
    "duration": 11,
    "start_time": "2022-04-08T18:03:08.118Z"
   },
   {
    "duration": 14,
    "start_time": "2022-04-08T18:03:08.130Z"
   },
   {
    "duration": 44,
    "start_time": "2022-04-08T18:03:08.145Z"
   },
   {
    "duration": 11,
    "start_time": "2022-04-08T18:03:08.190Z"
   },
   {
    "duration": 12,
    "start_time": "2022-04-08T18:03:08.203Z"
   },
   {
    "duration": 7,
    "start_time": "2022-04-08T18:03:08.216Z"
   },
   {
    "duration": 18,
    "start_time": "2022-04-08T18:03:08.224Z"
   },
   {
    "duration": 16,
    "start_time": "2022-04-08T18:03:08.243Z"
   },
   {
    "duration": 13,
    "start_time": "2022-04-08T18:03:08.281Z"
   },
   {
    "duration": 190,
    "start_time": "2022-04-09T09:09:47.391Z"
   },
   {
    "duration": 681,
    "start_time": "2022-04-09T09:21:48.333Z"
   },
   {
    "duration": 21,
    "start_time": "2022-04-09T09:21:52.362Z"
   },
   {
    "duration": 13,
    "start_time": "2022-04-09T09:21:56.443Z"
   },
   {
    "duration": 101,
    "start_time": "2022-04-09T09:22:41.812Z"
   },
   {
    "duration": 20,
    "start_time": "2022-04-09T09:22:44.024Z"
   },
   {
    "duration": 13,
    "start_time": "2022-04-09T09:22:47.382Z"
   },
   {
    "duration": 12,
    "start_time": "2022-04-09T09:22:48.440Z"
   },
   {
    "duration": 7,
    "start_time": "2022-04-09T09:22:48.902Z"
   },
   {
    "duration": 6,
    "start_time": "2022-04-09T09:22:49.336Z"
   },
   {
    "duration": 7,
    "start_time": "2022-04-09T09:25:13.798Z"
   },
   {
    "duration": 103,
    "start_time": "2022-04-09T09:37:00.610Z"
   },
   {
    "duration": 33,
    "start_time": "2022-04-09T09:37:00.798Z"
   },
   {
    "duration": 15,
    "start_time": "2022-04-09T09:37:01.210Z"
   },
   {
    "duration": 9,
    "start_time": "2022-04-09T09:37:02.030Z"
   },
   {
    "duration": 6,
    "start_time": "2022-04-09T09:37:02.484Z"
   },
   {
    "duration": 203,
    "start_time": "2022-04-09T09:39:10.552Z"
   },
   {
    "duration": 135,
    "start_time": "2022-04-09T09:41:48.369Z"
   },
   {
    "duration": 49,
    "start_time": "2022-04-09T09:41:48.507Z"
   },
   {
    "duration": 21,
    "start_time": "2022-04-09T09:41:48.558Z"
   },
   {
    "duration": 11,
    "start_time": "2022-04-09T09:41:48.582Z"
   },
   {
    "duration": 10,
    "start_time": "2022-04-09T09:41:51.577Z"
   },
   {
    "duration": 14,
    "start_time": "2022-04-09T09:48:52.492Z"
   },
   {
    "duration": 7,
    "start_time": "2022-04-09T09:48:54.437Z"
   },
   {
    "duration": 8,
    "start_time": "2022-04-09T09:48:55.650Z"
   },
   {
    "duration": 6,
    "start_time": "2022-04-09T09:49:38.448Z"
   },
   {
    "duration": 5,
    "start_time": "2022-04-09T09:49:38.795Z"
   },
   {
    "duration": 13,
    "start_time": "2022-04-09T09:50:58.550Z"
   },
   {
    "duration": 21,
    "start_time": "2022-04-09T09:51:00.746Z"
   },
   {
    "duration": 5,
    "start_time": "2022-04-09T09:51:10.242Z"
   },
   {
    "duration": 21,
    "start_time": "2022-04-09T09:51:42.062Z"
   },
   {
    "duration": 21,
    "start_time": "2022-04-09T09:53:04.567Z"
   },
   {
    "duration": 19,
    "start_time": "2022-04-09T09:54:33.257Z"
   },
   {
    "duration": 21,
    "start_time": "2022-04-09T09:54:36.744Z"
   },
   {
    "duration": 24,
    "start_time": "2022-04-09T09:54:40.931Z"
   },
   {
    "duration": 27,
    "start_time": "2022-04-09T09:54:41.775Z"
   },
   {
    "duration": 28,
    "start_time": "2022-04-09T09:56:13.615Z"
   },
   {
    "duration": 140,
    "start_time": "2022-04-09T09:57:42.432Z"
   },
   {
    "duration": 32,
    "start_time": "2022-04-09T09:57:42.575Z"
   },
   {
    "duration": 35,
    "start_time": "2022-04-09T09:57:42.609Z"
   },
   {
    "duration": 8,
    "start_time": "2022-04-09T09:57:42.647Z"
   },
   {
    "duration": 7,
    "start_time": "2022-04-09T09:57:42.659Z"
   },
   {
    "duration": 10,
    "start_time": "2022-04-09T09:57:42.669Z"
   },
   {
    "duration": 11,
    "start_time": "2022-04-09T09:57:42.681Z"
   },
   {
    "duration": 47,
    "start_time": "2022-04-09T09:57:42.695Z"
   },
   {
    "duration": 21,
    "start_time": "2022-04-09T09:57:42.745Z"
   },
   {
    "duration": 11,
    "start_time": "2022-04-09T09:57:42.768Z"
   },
   {
    "duration": 30,
    "start_time": "2022-04-09T09:57:42.781Z"
   },
   {
    "duration": 35,
    "start_time": "2022-04-09T09:57:42.813Z"
   },
   {
    "duration": 8,
    "start_time": "2022-04-09T09:58:39.044Z"
   },
   {
    "duration": 16,
    "start_time": "2022-04-09T09:58:40.818Z"
   },
   {
    "duration": 27,
    "start_time": "2022-04-09T09:58:43.653Z"
   },
   {
    "duration": 9,
    "start_time": "2022-04-09T09:58:51.055Z"
   },
   {
    "duration": 16,
    "start_time": "2022-04-09T09:58:53.982Z"
   },
   {
    "duration": 27,
    "start_time": "2022-04-09T09:58:57.495Z"
   },
   {
    "duration": 10,
    "start_time": "2022-04-09T10:01:41.513Z"
   },
   {
    "duration": 17,
    "start_time": "2022-04-09T10:01:42.975Z"
   },
   {
    "duration": 29,
    "start_time": "2022-04-09T10:01:53.278Z"
   },
   {
    "duration": 27,
    "start_time": "2022-04-09T10:04:44.421Z"
   },
   {
    "duration": 26,
    "start_time": "2022-04-09T10:05:04.343Z"
   },
   {
    "duration": 9,
    "start_time": "2022-04-09T10:05:15.433Z"
   },
   {
    "duration": 88,
    "start_time": "2022-04-09T10:05:34.887Z"
   },
   {
    "duration": 20,
    "start_time": "2022-04-09T10:05:34.978Z"
   },
   {
    "duration": 14,
    "start_time": "2022-04-09T10:05:35.001Z"
   },
   {
    "duration": 8,
    "start_time": "2022-04-09T10:05:35.044Z"
   },
   {
    "duration": 8,
    "start_time": "2022-04-09T10:05:35.055Z"
   },
   {
    "duration": 12,
    "start_time": "2022-04-09T10:05:35.065Z"
   },
   {
    "duration": 19,
    "start_time": "2022-04-09T10:05:35.079Z"
   },
   {
    "duration": 15,
    "start_time": "2022-04-09T10:05:35.100Z"
   },
   {
    "duration": 39,
    "start_time": "2022-04-09T10:05:35.118Z"
   },
   {
    "duration": 5,
    "start_time": "2022-04-09T10:05:35.160Z"
   },
   {
    "duration": 25,
    "start_time": "2022-04-09T10:05:35.167Z"
   },
   {
    "duration": 56,
    "start_time": "2022-04-09T10:05:35.194Z"
   },
   {
    "duration": 19,
    "start_time": "2022-04-09T10:05:39.478Z"
   },
   {
    "duration": 9,
    "start_time": "2022-04-09T10:05:45.572Z"
   },
   {
    "duration": 15,
    "start_time": "2022-04-09T10:05:48.754Z"
   },
   {
    "duration": 28,
    "start_time": "2022-04-09T10:05:50.364Z"
   },
   {
    "duration": 26,
    "start_time": "2022-04-09T10:05:50.974Z"
   },
   {
    "duration": 28,
    "start_time": "2022-04-09T10:05:53.934Z"
   },
   {
    "duration": 10,
    "start_time": "2022-04-09T10:07:19.790Z"
   },
   {
    "duration": 89,
    "start_time": "2022-04-09T10:07:25.378Z"
   },
   {
    "duration": 21,
    "start_time": "2022-04-09T10:07:25.471Z"
   },
   {
    "duration": 18,
    "start_time": "2022-04-09T10:07:25.494Z"
   },
   {
    "duration": 31,
    "start_time": "2022-04-09T10:07:25.515Z"
   },
   {
    "duration": 10,
    "start_time": "2022-04-09T10:07:25.550Z"
   },
   {
    "duration": 25,
    "start_time": "2022-04-09T10:07:25.563Z"
   },
   {
    "duration": 22,
    "start_time": "2022-04-09T10:07:25.590Z"
   },
   {
    "duration": 27,
    "start_time": "2022-04-09T10:07:25.615Z"
   },
   {
    "duration": 33,
    "start_time": "2022-04-09T10:07:25.644Z"
   },
   {
    "duration": 19,
    "start_time": "2022-04-09T10:07:25.679Z"
   },
   {
    "duration": 41,
    "start_time": "2022-04-09T10:07:25.700Z"
   },
   {
    "duration": 24,
    "start_time": "2022-04-09T10:07:25.743Z"
   },
   {
    "duration": 8,
    "start_time": "2022-04-09T10:07:28.883Z"
   },
   {
    "duration": 29,
    "start_time": "2022-04-09T10:08:30.998Z"
   },
   {
    "duration": 27,
    "start_time": "2022-04-09T10:08:37.338Z"
   },
   {
    "duration": 8,
    "start_time": "2022-04-09T10:08:39.005Z"
   },
   {
    "duration": 8,
    "start_time": "2022-04-09T10:08:43.772Z"
   },
   {
    "duration": 15,
    "start_time": "2022-04-09T10:08:44.147Z"
   },
   {
    "duration": 29,
    "start_time": "2022-04-09T10:08:44.541Z"
   },
   {
    "duration": 27,
    "start_time": "2022-04-09T10:08:44.896Z"
   },
   {
    "duration": 27,
    "start_time": "2022-04-09T10:08:47.636Z"
   },
   {
    "duration": 11,
    "start_time": "2022-04-09T10:08:48.226Z"
   },
   {
    "duration": 9,
    "start_time": "2022-04-09T10:09:16.873Z"
   },
   {
    "duration": 6,
    "start_time": "2022-04-09T10:09:17.666Z"
   },
   {
    "duration": 8,
    "start_time": "2022-04-09T10:09:23.224Z"
   },
   {
    "duration": 6,
    "start_time": "2022-04-09T10:09:24.914Z"
   },
   {
    "duration": 6,
    "start_time": "2022-04-09T10:23:28.671Z"
   },
   {
    "duration": 9,
    "start_time": "2022-04-09T10:29:13.786Z"
   },
   {
    "duration": 16,
    "start_time": "2022-04-09T10:29:14.444Z"
   },
   {
    "duration": 28,
    "start_time": "2022-04-09T10:29:14.857Z"
   },
   {
    "duration": 26,
    "start_time": "2022-04-09T10:29:15.286Z"
   },
   {
    "duration": 27,
    "start_time": "2022-04-09T10:29:15.720Z"
   },
   {
    "duration": 10,
    "start_time": "2022-04-09T10:29:16.378Z"
   },
   {
    "duration": 6,
    "start_time": "2022-04-09T10:29:20.548Z"
   },
   {
    "duration": 7,
    "start_time": "2022-04-09T10:29:21.240Z"
   },
   {
    "duration": 6,
    "start_time": "2022-04-09T10:29:22.294Z"
   },
   {
    "duration": 99,
    "start_time": "2022-04-09T10:40:11.391Z"
   },
   {
    "duration": 10,
    "start_time": "2022-04-09T10:40:41.705Z"
   },
   {
    "duration": 11,
    "start_time": "2022-04-09T10:52:57.644Z"
   },
   {
    "duration": 12,
    "start_time": "2022-04-09T10:53:17.432Z"
   },
   {
    "duration": 10,
    "start_time": "2022-04-09T10:53:32.688Z"
   },
   {
    "duration": 10,
    "start_time": "2022-04-09T10:53:43.291Z"
   },
   {
    "duration": 10,
    "start_time": "2022-04-09T11:01:50.224Z"
   },
   {
    "duration": 118,
    "start_time": "2022-04-09T11:02:01.425Z"
   },
   {
    "duration": 21,
    "start_time": "2022-04-09T11:02:01.546Z"
   },
   {
    "duration": 41,
    "start_time": "2022-04-09T11:02:01.569Z"
   },
   {
    "duration": 16,
    "start_time": "2022-04-09T11:02:01.612Z"
   },
   {
    "duration": 18,
    "start_time": "2022-04-09T11:02:01.632Z"
   },
   {
    "duration": 13,
    "start_time": "2022-04-09T11:02:01.652Z"
   },
   {
    "duration": 16,
    "start_time": "2022-04-09T11:02:01.668Z"
   },
   {
    "duration": 27,
    "start_time": "2022-04-09T11:02:01.686Z"
   },
   {
    "duration": 28,
    "start_time": "2022-04-09T11:02:01.718Z"
   },
   {
    "duration": 14,
    "start_time": "2022-04-09T11:02:01.749Z"
   },
   {
    "duration": 25,
    "start_time": "2022-04-09T11:02:01.766Z"
   },
   {
    "duration": 20,
    "start_time": "2022-04-09T11:02:01.794Z"
   },
   {
    "duration": 33,
    "start_time": "2022-04-09T11:02:01.817Z"
   },
   {
    "duration": 20,
    "start_time": "2022-04-09T11:02:01.854Z"
   },
   {
    "duration": 37,
    "start_time": "2022-04-09T11:02:01.876Z"
   },
   {
    "duration": 46,
    "start_time": "2022-04-09T11:02:01.915Z"
   },
   {
    "duration": 28,
    "start_time": "2022-04-09T11:02:01.963Z"
   },
   {
    "duration": 11,
    "start_time": "2022-04-09T11:02:01.993Z"
   },
   {
    "duration": 39,
    "start_time": "2022-04-09T11:02:02.006Z"
   },
   {
    "duration": 21,
    "start_time": "2022-04-09T11:02:02.048Z"
   },
   {
    "duration": 8,
    "start_time": "2022-04-09T11:02:02.072Z"
   },
   {
    "duration": 16,
    "start_time": "2022-04-09T11:02:05.329Z"
   },
   {
    "duration": 22,
    "start_time": "2022-04-09T11:02:31.568Z"
   },
   {
    "duration": 24,
    "start_time": "2022-04-09T11:02:48.746Z"
   },
   {
    "duration": 35,
    "start_time": "2022-04-09T11:03:18.471Z"
   },
   {
    "duration": 26,
    "start_time": "2022-04-09T11:04:25.993Z"
   },
   {
    "duration": 170,
    "start_time": "2022-04-09T11:09:42.917Z"
   },
   {
    "duration": 173,
    "start_time": "2022-04-09T11:09:46.458Z"
   },
   {
    "duration": 131,
    "start_time": "2022-04-09T11:27:18.803Z"
   },
   {
    "duration": 32,
    "start_time": "2022-04-09T11:27:18.945Z"
   },
   {
    "duration": 21,
    "start_time": "2022-04-09T11:27:18.980Z"
   },
   {
    "duration": 39,
    "start_time": "2022-04-09T11:27:19.004Z"
   },
   {
    "duration": 10,
    "start_time": "2022-04-09T11:27:19.048Z"
   },
   {
    "duration": 6,
    "start_time": "2022-04-09T11:27:19.061Z"
   },
   {
    "duration": 5,
    "start_time": "2022-04-09T11:27:19.069Z"
   },
   {
    "duration": 15,
    "start_time": "2022-04-09T11:27:19.077Z"
   },
   {
    "duration": 66,
    "start_time": "2022-04-09T11:27:19.094Z"
   },
   {
    "duration": 6,
    "start_time": "2022-04-09T11:27:19.162Z"
   },
   {
    "duration": 23,
    "start_time": "2022-04-09T11:27:19.170Z"
   },
   {
    "duration": 58,
    "start_time": "2022-04-09T11:27:19.196Z"
   },
   {
    "duration": 8,
    "start_time": "2022-04-09T11:27:19.256Z"
   },
   {
    "duration": 17,
    "start_time": "2022-04-09T11:27:19.268Z"
   },
   {
    "duration": 64,
    "start_time": "2022-04-09T11:27:19.287Z"
   },
   {
    "duration": 27,
    "start_time": "2022-04-09T11:27:19.353Z"
   },
   {
    "duration": 62,
    "start_time": "2022-04-09T11:27:19.383Z"
   },
   {
    "duration": 10,
    "start_time": "2022-04-09T11:27:19.448Z"
   },
   {
    "duration": 9,
    "start_time": "2022-04-09T11:27:19.460Z"
   },
   {
    "duration": 8,
    "start_time": "2022-04-09T11:27:19.471Z"
   },
   {
    "duration": 7,
    "start_time": "2022-04-09T11:27:19.482Z"
   },
   {
    "duration": 9,
    "start_time": "2022-04-09T11:27:26.262Z"
   },
   {
    "duration": 10,
    "start_time": "2022-04-09T11:27:44.131Z"
   },
   {
    "duration": 9,
    "start_time": "2022-04-09T11:29:10.172Z"
   },
   {
    "duration": 7,
    "start_time": "2022-04-09T11:30:01.700Z"
   },
   {
    "duration": 7,
    "start_time": "2022-04-09T11:30:05.007Z"
   },
   {
    "duration": 7,
    "start_time": "2022-04-09T11:30:06.329Z"
   },
   {
    "duration": 6,
    "start_time": "2022-04-09T11:30:47.163Z"
   },
   {
    "duration": 12,
    "start_time": "2022-04-09T11:30:58.445Z"
   },
   {
    "duration": 7,
    "start_time": "2022-04-09T11:30:59.083Z"
   },
   {
    "duration": 6,
    "start_time": "2022-04-09T11:30:59.591Z"
   },
   {
    "duration": 12,
    "start_time": "2022-04-09T11:30:59.986Z"
   },
   {
    "duration": 11,
    "start_time": "2022-04-09T11:31:00.738Z"
   },
   {
    "duration": 12,
    "start_time": "2022-04-09T11:31:03.233Z"
   },
   {
    "duration": 8,
    "start_time": "2022-04-09T11:31:03.835Z"
   },
   {
    "duration": 6,
    "start_time": "2022-04-09T11:31:05.715Z"
   },
   {
    "duration": 12,
    "start_time": "2022-04-09T11:31:06.162Z"
   },
   {
    "duration": 16,
    "start_time": "2022-04-09T11:33:54.345Z"
   },
   {
    "duration": 22,
    "start_time": "2022-04-09T11:34:01.487Z"
   },
   {
    "duration": 27,
    "start_time": "2022-04-09T12:23:54.454Z"
   },
   {
    "duration": 26,
    "start_time": "2022-04-09T12:24:23.202Z"
   },
   {
    "duration": 27,
    "start_time": "2022-04-09T12:25:20.103Z"
   },
   {
    "duration": 111,
    "start_time": "2022-04-09T12:25:37.891Z"
   },
   {
    "duration": 48,
    "start_time": "2022-04-09T12:25:38.006Z"
   },
   {
    "duration": 15,
    "start_time": "2022-04-09T12:25:38.057Z"
   },
   {
    "duration": 7,
    "start_time": "2022-04-09T12:25:38.074Z"
   },
   {
    "duration": 22,
    "start_time": "2022-04-09T12:25:38.085Z"
   },
   {
    "duration": 4,
    "start_time": "2022-04-09T12:25:38.143Z"
   },
   {
    "duration": 13,
    "start_time": "2022-04-09T12:25:38.150Z"
   },
   {
    "duration": 22,
    "start_time": "2022-04-09T12:25:38.165Z"
   },
   {
    "duration": 60,
    "start_time": "2022-04-09T12:25:38.189Z"
   },
   {
    "duration": 13,
    "start_time": "2022-04-09T12:25:38.252Z"
   },
   {
    "duration": 36,
    "start_time": "2022-04-09T12:25:38.267Z"
   },
   {
    "duration": 55,
    "start_time": "2022-04-09T12:25:38.305Z"
   },
   {
    "duration": 13,
    "start_time": "2022-04-09T12:25:38.363Z"
   },
   {
    "duration": 15,
    "start_time": "2022-04-09T12:25:38.384Z"
   },
   {
    "duration": 63,
    "start_time": "2022-04-09T12:25:38.401Z"
   },
   {
    "duration": 26,
    "start_time": "2022-04-09T12:25:38.467Z"
   },
   {
    "duration": 69,
    "start_time": "2022-04-09T12:25:38.496Z"
   },
   {
    "duration": 10,
    "start_time": "2022-04-09T12:25:38.567Z"
   },
   {
    "duration": 10,
    "start_time": "2022-04-09T12:25:38.579Z"
   },
   {
    "duration": 7,
    "start_time": "2022-04-09T12:25:38.591Z"
   },
   {
    "duration": 46,
    "start_time": "2022-04-09T12:25:38.600Z"
   },
   {
    "duration": 7,
    "start_time": "2022-04-09T12:25:38.649Z"
   },
   {
    "duration": 13,
    "start_time": "2022-04-09T12:25:38.659Z"
   },
   {
    "duration": 10,
    "start_time": "2022-04-09T12:25:38.675Z"
   },
   {
    "duration": 13,
    "start_time": "2022-04-09T12:25:38.687Z"
   },
   {
    "duration": 8,
    "start_time": "2022-04-09T12:25:38.743Z"
   },
   {
    "duration": 19,
    "start_time": "2022-04-09T12:25:38.754Z"
   },
   {
    "duration": 13,
    "start_time": "2022-04-09T12:25:38.776Z"
   },
   {
    "duration": 55,
    "start_time": "2022-04-09T12:25:38.792Z"
   },
   {
    "duration": 15,
    "start_time": "2022-04-09T12:25:38.850Z"
   },
   {
    "duration": 17,
    "start_time": "2022-04-09T12:25:38.867Z"
   },
   {
    "duration": 11,
    "start_time": "2022-04-09T12:25:38.886Z"
   },
   {
    "duration": 52,
    "start_time": "2022-04-09T12:25:38.899Z"
   },
   {
    "duration": 11,
    "start_time": "2022-04-09T12:25:38.954Z"
   },
   {
    "duration": 24,
    "start_time": "2022-04-09T12:25:38.967Z"
   },
   {
    "duration": 21,
    "start_time": "2022-04-09T12:25:43.629Z"
   },
   {
    "duration": 22,
    "start_time": "2022-04-09T12:25:47.266Z"
   },
   {
    "duration": 22,
    "start_time": "2022-04-09T12:29:19.826Z"
   },
   {
    "duration": 99,
    "start_time": "2022-04-09T12:29:24.285Z"
   },
   {
    "duration": 21,
    "start_time": "2022-04-09T12:29:24.387Z"
   },
   {
    "duration": 46,
    "start_time": "2022-04-09T12:29:24.410Z"
   },
   {
    "duration": 10,
    "start_time": "2022-04-09T12:29:24.460Z"
   },
   {
    "duration": 10,
    "start_time": "2022-04-09T12:29:24.473Z"
   },
   {
    "duration": 57,
    "start_time": "2022-04-09T12:29:24.486Z"
   },
   {
    "duration": 10,
    "start_time": "2022-04-09T12:29:24.547Z"
   },
   {
    "duration": 21,
    "start_time": "2022-04-09T12:29:24.560Z"
   },
   {
    "duration": 23,
    "start_time": "2022-04-09T12:29:24.583Z"
   },
   {
    "duration": 7,
    "start_time": "2022-04-09T12:29:24.646Z"
   },
   {
    "duration": 25,
    "start_time": "2022-04-09T12:29:24.656Z"
   },
   {
    "duration": 62,
    "start_time": "2022-04-09T12:29:24.683Z"
   },
   {
    "duration": 11,
    "start_time": "2022-04-09T12:29:24.748Z"
   },
   {
    "duration": 25,
    "start_time": "2022-04-09T12:29:24.761Z"
   },
   {
    "duration": 59,
    "start_time": "2022-04-09T12:29:24.788Z"
   },
   {
    "duration": 29,
    "start_time": "2022-04-09T12:29:24.849Z"
   },
   {
    "duration": 28,
    "start_time": "2022-04-09T12:29:24.881Z"
   },
   {
    "duration": 39,
    "start_time": "2022-04-09T12:29:24.911Z"
   },
   {
    "duration": 16,
    "start_time": "2022-04-09T12:29:24.953Z"
   },
   {
    "duration": 9,
    "start_time": "2022-04-09T12:29:24.972Z"
   },
   {
    "duration": 10,
    "start_time": "2022-04-09T12:29:24.984Z"
   },
   {
    "duration": 50,
    "start_time": "2022-04-09T12:29:24.996Z"
   },
   {
    "duration": 25,
    "start_time": "2022-04-09T12:29:25.049Z"
   },
   {
    "duration": 12,
    "start_time": "2022-04-09T12:29:25.077Z"
   },
   {
    "duration": 7,
    "start_time": "2022-04-09T12:29:25.092Z"
   },
   {
    "duration": 43,
    "start_time": "2022-04-09T12:29:25.102Z"
   },
   {
    "duration": 22,
    "start_time": "2022-04-09T12:29:25.148Z"
   },
   {
    "duration": 12,
    "start_time": "2022-04-09T12:29:25.176Z"
   },
   {
    "duration": 14,
    "start_time": "2022-04-09T12:29:25.190Z"
   },
   {
    "duration": 42,
    "start_time": "2022-04-09T12:29:25.207Z"
   },
   {
    "duration": 21,
    "start_time": "2022-04-09T12:29:25.252Z"
   },
   {
    "duration": 13,
    "start_time": "2022-04-09T12:29:25.276Z"
   },
   {
    "duration": 14,
    "start_time": "2022-04-09T12:29:25.292Z"
   },
   {
    "duration": 10,
    "start_time": "2022-04-09T12:29:25.344Z"
   },
   {
    "duration": 44,
    "start_time": "2022-04-09T12:29:25.399Z"
   },
   {
    "duration": 10,
    "start_time": "2022-04-09T12:29:30.439Z"
   },
   {
    "duration": 17,
    "start_time": "2022-04-09T12:30:32.312Z"
   },
   {
    "duration": 27,
    "start_time": "2022-04-09T12:30:35.231Z"
   },
   {
    "duration": 17,
    "start_time": "2022-04-09T12:30:42.515Z"
   },
   {
    "duration": 18,
    "start_time": "2022-04-09T12:30:43.525Z"
   },
   {
    "duration": 18,
    "start_time": "2022-04-09T12:30:46.600Z"
   },
   {
    "duration": 21,
    "start_time": "2022-04-09T12:30:48.582Z"
   },
   {
    "duration": 20,
    "start_time": "2022-04-09T12:33:46.036Z"
   },
   {
    "duration": 10,
    "start_time": "2022-04-09T12:36:58.606Z"
   },
   {
    "duration": 14,
    "start_time": "2022-04-09T12:37:07.108Z"
   },
   {
    "duration": 34,
    "start_time": "2022-04-09T12:43:56.985Z"
   },
   {
    "duration": 39,
    "start_time": "2022-04-09T12:44:04.266Z"
   },
   {
    "duration": 57,
    "start_time": "2022-04-09T12:46:57.535Z"
   },
   {
    "duration": 31,
    "start_time": "2022-04-09T12:47:10.461Z"
   },
   {
    "duration": 39,
    "start_time": "2022-04-09T12:48:50.061Z"
   },
   {
    "duration": 33,
    "start_time": "2022-04-09T12:49:03.261Z"
   },
   {
    "duration": 33,
    "start_time": "2022-04-09T12:49:34.191Z"
   },
   {
    "duration": 3,
    "start_time": "2022-04-09T12:49:34.642Z"
   },
   {
    "duration": 36,
    "start_time": "2022-04-09T13:23:23.206Z"
   },
   {
    "duration": 34,
    "start_time": "2022-04-09T13:24:10.189Z"
   },
   {
    "duration": 35,
    "start_time": "2022-04-09T13:24:40.915Z"
   },
   {
    "duration": 36,
    "start_time": "2022-04-09T13:24:50.609Z"
   },
   {
    "duration": 33,
    "start_time": "2022-04-09T17:01:52.294Z"
   },
   {
    "duration": 20,
    "start_time": "2022-04-09T17:04:03.426Z"
   },
   {
    "duration": 34,
    "start_time": "2022-04-09T17:05:05.861Z"
   },
   {
    "duration": 4,
    "start_time": "2022-04-09T17:34:53.862Z"
   },
   {
    "duration": 11,
    "start_time": "2022-04-09T17:36:47.131Z"
   },
   {
    "duration": 4,
    "start_time": "2022-04-09T17:36:50.005Z"
   },
   {
    "duration": 49,
    "start_time": "2022-04-09T17:36:50.461Z"
   },
   {
    "duration": 37,
    "start_time": "2022-04-09T17:37:04.514Z"
   },
   {
    "duration": 44,
    "start_time": "2022-04-09T17:45:52.959Z"
   },
   {
    "duration": 39,
    "start_time": "2022-04-09T18:09:26.984Z"
   },
   {
    "duration": 102,
    "start_time": "2022-04-09T18:09:44.569Z"
   },
   {
    "duration": 20,
    "start_time": "2022-04-09T18:09:44.674Z"
   },
   {
    "duration": 13,
    "start_time": "2022-04-09T18:09:44.697Z"
   },
   {
    "duration": 8,
    "start_time": "2022-04-09T18:09:44.743Z"
   },
   {
    "duration": 10,
    "start_time": "2022-04-09T18:09:44.755Z"
   },
   {
    "duration": 18,
    "start_time": "2022-04-09T18:09:44.768Z"
   },
   {
    "duration": 7,
    "start_time": "2022-04-09T18:09:44.788Z"
   },
   {
    "duration": 64,
    "start_time": "2022-04-09T18:09:44.797Z"
   },
   {
    "duration": 24,
    "start_time": "2022-04-09T18:09:44.864Z"
   },
   {
    "duration": 10,
    "start_time": "2022-04-09T18:09:44.892Z"
   },
   {
    "duration": 52,
    "start_time": "2022-04-09T18:09:44.904Z"
   },
   {
    "duration": 24,
    "start_time": "2022-04-09T18:09:44.960Z"
   },
   {
    "duration": 9,
    "start_time": "2022-04-09T18:09:44.986Z"
   },
   {
    "duration": 21,
    "start_time": "2022-04-09T18:09:45.046Z"
   },
   {
    "duration": 32,
    "start_time": "2022-04-09T18:09:45.069Z"
   },
   {
    "duration": 51,
    "start_time": "2022-04-09T18:09:45.103Z"
   },
   {
    "duration": 32,
    "start_time": "2022-04-09T18:09:45.157Z"
   },
   {
    "duration": 10,
    "start_time": "2022-04-09T18:09:45.191Z"
   },
   {
    "duration": 41,
    "start_time": "2022-04-09T18:09:45.203Z"
   },
   {
    "duration": 33,
    "start_time": "2022-04-09T18:09:45.247Z"
   },
   {
    "duration": 8,
    "start_time": "2022-04-09T18:09:45.282Z"
   },
   {
    "duration": 6,
    "start_time": "2022-04-09T18:09:45.292Z"
   },
   {
    "duration": 9,
    "start_time": "2022-04-09T18:09:45.300Z"
   },
   {
    "duration": 6,
    "start_time": "2022-04-09T18:09:45.343Z"
   },
   {
    "duration": 10,
    "start_time": "2022-04-09T18:09:45.352Z"
   },
   {
    "duration": 16,
    "start_time": "2022-04-09T18:09:45.365Z"
   },
   {
    "duration": 15,
    "start_time": "2022-04-09T18:09:45.385Z"
   },
   {
    "duration": 51,
    "start_time": "2022-04-09T18:09:45.402Z"
   },
   {
    "duration": 13,
    "start_time": "2022-04-09T18:09:45.457Z"
   },
   {
    "duration": 11,
    "start_time": "2022-04-09T18:09:45.472Z"
   },
   {
    "duration": 11,
    "start_time": "2022-04-09T18:09:45.485Z"
   },
   {
    "duration": 93,
    "start_time": "2022-04-09T18:09:45.499Z"
   },
   {
    "duration": 9,
    "start_time": "2022-04-09T18:09:45.595Z"
   },
   {
    "duration": 39,
    "start_time": "2022-04-09T18:09:45.606Z"
   },
   {
    "duration": 35,
    "start_time": "2022-04-09T18:09:45.649Z"
   },
   {
    "duration": 10,
    "start_time": "2022-04-09T18:09:45.686Z"
   },
   {
    "duration": 48,
    "start_time": "2022-04-09T18:09:45.698Z"
   },
   {
    "duration": 19,
    "start_time": "2022-04-09T18:09:45.749Z"
   },
   {
    "duration": 20,
    "start_time": "2022-04-09T18:09:45.771Z"
   },
   {
    "duration": 66,
    "start_time": "2022-04-09T18:09:45.794Z"
   },
   {
    "duration": 21,
    "start_time": "2022-04-09T18:09:45.867Z"
   },
   {
    "duration": 7,
    "start_time": "2022-04-09T18:09:45.890Z"
   },
   {
    "duration": 74,
    "start_time": "2022-04-09T18:09:45.899Z"
   },
   {
    "duration": 43,
    "start_time": "2022-04-09T18:09:47.354Z"
   },
   {
    "duration": 41,
    "start_time": "2022-04-09T18:10:15.562Z"
   },
   {
    "duration": 48,
    "start_time": "2022-04-09T18:13:06.333Z"
   },
   {
    "duration": 35,
    "start_time": "2022-04-09T18:13:38.457Z"
   },
   {
    "duration": 51,
    "start_time": "2022-04-09T18:13:50.557Z"
   },
   {
    "duration": 56,
    "start_time": "2022-04-09T18:14:07.491Z"
   },
   {
    "duration": 52,
    "start_time": "2022-04-09T18:15:25.431Z"
   },
   {
    "duration": 50,
    "start_time": "2022-04-09T18:15:54.140Z"
   },
   {
    "duration": 37,
    "start_time": "2022-04-09T18:17:24.166Z"
   },
   {
    "duration": 721,
    "start_time": "2022-04-09T18:39:56.055Z"
   },
   {
    "duration": 38,
    "start_time": "2022-04-09T18:40:11.480Z"
   },
   {
    "duration": 819,
    "start_time": "2022-04-09T18:40:26.967Z"
   },
   {
    "duration": 41,
    "start_time": "2022-04-09T18:42:08.559Z"
   },
   {
    "duration": 44,
    "start_time": "2022-04-09T18:42:17.610Z"
   },
   {
    "duration": 41,
    "start_time": "2022-04-09T19:03:37.243Z"
   },
   {
    "duration": 3202,
    "start_time": "2022-04-09T19:04:22.930Z"
   },
   {
    "duration": 40,
    "start_time": "2022-04-09T19:05:09.767Z"
   },
   {
    "duration": 6723,
    "start_time": "2022-04-09T19:35:50.362Z"
   },
   {
    "duration": 7,
    "start_time": "2022-04-09T19:36:12.268Z"
   },
   {
    "duration": 12,
    "start_time": "2022-04-09T19:36:18.975Z"
   },
   {
    "duration": 94,
    "start_time": "2022-04-09T19:36:29.501Z"
   },
   {
    "duration": 56,
    "start_time": "2022-04-09T19:36:29.598Z"
   },
   {
    "duration": 13,
    "start_time": "2022-04-09T19:36:29.657Z"
   },
   {
    "duration": 12,
    "start_time": "2022-04-09T19:36:29.671Z"
   },
   {
    "duration": 8,
    "start_time": "2022-04-09T19:36:29.687Z"
   },
   {
    "duration": 5,
    "start_time": "2022-04-09T19:36:29.697Z"
   },
   {
    "duration": 12,
    "start_time": "2022-04-09T19:36:29.745Z"
   },
   {
    "duration": 19,
    "start_time": "2022-04-09T19:36:29.760Z"
   },
   {
    "duration": 21,
    "start_time": "2022-04-09T19:36:29.781Z"
   },
   {
    "duration": 50,
    "start_time": "2022-04-09T19:36:29.805Z"
   },
   {
    "duration": 24,
    "start_time": "2022-04-09T19:36:29.858Z"
   },
   {
    "duration": 19,
    "start_time": "2022-04-09T19:36:29.884Z"
   },
   {
    "duration": 8,
    "start_time": "2022-04-09T19:36:29.905Z"
   },
   {
    "duration": 13,
    "start_time": "2022-04-09T19:36:29.954Z"
   },
   {
    "duration": 28,
    "start_time": "2022-04-09T19:36:29.969Z"
   },
   {
    "duration": 58,
    "start_time": "2022-04-09T19:36:29.999Z"
   },
   {
    "duration": 26,
    "start_time": "2022-04-09T19:36:30.059Z"
   },
   {
    "duration": 16,
    "start_time": "2022-04-09T19:36:30.087Z"
   },
   {
    "duration": 27,
    "start_time": "2022-04-09T19:36:30.105Z"
   },
   {
    "duration": 24,
    "start_time": "2022-04-09T19:36:30.135Z"
   },
   {
    "duration": 20,
    "start_time": "2022-04-09T19:36:30.162Z"
   },
   {
    "duration": 13,
    "start_time": "2022-04-09T19:36:30.184Z"
   },
   {
    "duration": 12,
    "start_time": "2022-04-09T19:36:30.199Z"
   },
   {
    "duration": 7,
    "start_time": "2022-04-09T19:36:30.213Z"
   },
   {
    "duration": 24,
    "start_time": "2022-04-09T19:36:30.223Z"
   },
   {
    "duration": 14,
    "start_time": "2022-04-09T19:36:30.249Z"
   },
   {
    "duration": 14,
    "start_time": "2022-04-09T19:36:30.266Z"
   },
   {
    "duration": 11,
    "start_time": "2022-04-09T19:36:30.283Z"
   },
   {
    "duration": 58,
    "start_time": "2022-04-09T19:36:30.297Z"
   },
   {
    "duration": 15,
    "start_time": "2022-04-09T19:36:30.357Z"
   },
   {
    "duration": 10,
    "start_time": "2022-04-09T19:36:30.374Z"
   },
   {
    "duration": 11,
    "start_time": "2022-04-09T19:36:30.386Z"
   },
   {
    "duration": 55,
    "start_time": "2022-04-09T19:36:30.399Z"
   },
   {
    "duration": 20,
    "start_time": "2022-04-09T19:36:30.456Z"
   },
   {
    "duration": 34,
    "start_time": "2022-04-09T19:36:30.479Z"
   },
   {
    "duration": 18,
    "start_time": "2022-04-09T19:36:30.516Z"
   },
   {
    "duration": 19,
    "start_time": "2022-04-09T19:36:30.555Z"
   },
   {
    "duration": 21,
    "start_time": "2022-04-09T19:36:30.576Z"
   },
   {
    "duration": 19,
    "start_time": "2022-04-09T19:36:30.599Z"
   },
   {
    "duration": 41,
    "start_time": "2022-04-09T19:36:30.621Z"
   },
   {
    "duration": 19,
    "start_time": "2022-04-09T19:36:30.668Z"
   },
   {
    "duration": 5,
    "start_time": "2022-04-09T19:36:30.690Z"
   },
   {
    "duration": 4,
    "start_time": "2022-04-09T19:36:33.284Z"
   },
   {
    "duration": 41,
    "start_time": "2022-04-09T19:36:33.779Z"
   },
   {
    "duration": 40,
    "start_time": "2022-04-09T19:36:40.438Z"
   },
   {
    "duration": 7,
    "start_time": "2022-04-09T19:36:49.271Z"
   },
   {
    "duration": 14,
    "start_time": "2022-04-09T19:36:50.056Z"
   },
   {
    "duration": 44,
    "start_time": "2022-04-09T19:37:26.486Z"
   },
   {
    "duration": 49,
    "start_time": "2022-04-09T20:11:43.585Z"
   },
   {
    "duration": 50,
    "start_time": "2022-04-09T20:14:52.436Z"
   },
   {
    "duration": 53,
    "start_time": "2022-04-09T20:38:15.233Z"
   },
   {
    "duration": 24,
    "start_time": "2022-04-09T20:46:53.480Z"
   },
   {
    "duration": 55,
    "start_time": "2022-04-09T20:47:08.428Z"
   },
   {
    "duration": 57,
    "start_time": "2022-04-09T20:50:44.899Z"
   },
   {
    "duration": 425,
    "start_time": "2022-04-10T13:04:30.793Z"
   },
   {
    "duration": 14,
    "start_time": "2022-04-10T13:04:31.220Z"
   },
   {
    "duration": 9,
    "start_time": "2022-04-10T13:04:32.586Z"
   },
   {
    "duration": 7,
    "start_time": "2022-04-10T13:04:37.336Z"
   },
   {
    "duration": 6,
    "start_time": "2022-04-10T13:04:37.779Z"
   },
   {
    "duration": 3,
    "start_time": "2022-04-10T13:04:38.710Z"
   },
   {
    "duration": 4,
    "start_time": "2022-04-10T13:04:39.203Z"
   },
   {
    "duration": 9,
    "start_time": "2022-04-10T13:04:45.409Z"
   },
   {
    "duration": 14,
    "start_time": "2022-04-10T13:04:45.705Z"
   },
   {
    "duration": 4,
    "start_time": "2022-04-10T13:04:48.396Z"
   },
   {
    "duration": 14,
    "start_time": "2022-04-10T13:04:52.843Z"
   },
   {
    "duration": 7,
    "start_time": "2022-04-10T13:05:04.269Z"
   },
   {
    "duration": 11,
    "start_time": "2022-04-10T13:05:04.717Z"
   },
   {
    "duration": 20,
    "start_time": "2022-04-10T13:05:05.485Z"
   },
   {
    "duration": 19,
    "start_time": "2022-04-10T13:05:05.981Z"
   },
   {
    "duration": 18,
    "start_time": "2022-04-10T13:05:06.660Z"
   },
   {
    "duration": 7,
    "start_time": "2022-04-10T13:05:12.135Z"
   },
   {
    "duration": 4,
    "start_time": "2022-04-10T13:05:12.930Z"
   },
   {
    "duration": 5,
    "start_time": "2022-04-10T13:05:14.438Z"
   },
   {
    "duration": 5,
    "start_time": "2022-04-10T13:05:17.407Z"
   },
   {
    "duration": 4,
    "start_time": "2022-04-10T13:05:25.168Z"
   },
   {
    "duration": 4,
    "start_time": "2022-04-10T13:05:25.582Z"
   },
   {
    "duration": 4,
    "start_time": "2022-04-10T13:05:27.184Z"
   },
   {
    "duration": 5,
    "start_time": "2022-04-10T13:05:31.302Z"
   },
   {
    "duration": 6,
    "start_time": "2022-04-10T13:05:32.011Z"
   },
   {
    "duration": 8,
    "start_time": "2022-04-10T13:05:32.547Z"
   },
   {
    "duration": 8,
    "start_time": "2022-04-10T13:05:33.186Z"
   },
   {
    "duration": 6,
    "start_time": "2022-04-10T13:05:33.397Z"
   },
   {
    "duration": 5,
    "start_time": "2022-04-10T13:05:33.800Z"
   },
   {
    "duration": 5,
    "start_time": "2022-04-10T13:05:34.217Z"
   },
   {
    "duration": 6,
    "start_time": "2022-04-10T13:05:34.640Z"
   },
   {
    "duration": 6,
    "start_time": "2022-04-10T13:05:38.394Z"
   },
   {
    "duration": 6,
    "start_time": "2022-04-10T13:05:38.806Z"
   },
   {
    "duration": 15,
    "start_time": "2022-04-10T13:05:39.042Z"
   },
   {
    "duration": 125,
    "start_time": "2022-04-10T13:06:11.679Z"
   },
   {
    "duration": 9,
    "start_time": "2022-04-10T13:06:22.871Z"
   },
   {
    "duration": 11,
    "start_time": "2022-04-10T13:06:23.260Z"
   },
   {
    "duration": 10,
    "start_time": "2022-04-10T13:06:23.636Z"
   },
   {
    "duration": 11,
    "start_time": "2022-04-10T13:06:24.016Z"
   },
   {
    "duration": 10,
    "start_time": "2022-04-10T13:06:24.566Z"
   },
   {
    "duration": 12,
    "start_time": "2022-04-10T13:06:24.953Z"
   },
   {
    "duration": 2,
    "start_time": "2022-04-10T13:06:25.820Z"
   },
   {
    "duration": 27,
    "start_time": "2022-04-10T13:06:26.026Z"
   },
   {
    "duration": 27,
    "start_time": "2022-04-10T13:06:27.843Z"
   },
   {
    "duration": 5,
    "start_time": "2022-04-10T13:06:31.128Z"
   },
   {
    "duration": 28,
    "start_time": "2022-04-10T13:06:31.341Z"
   },
   {
    "duration": 30,
    "start_time": "2022-04-10T13:06:31.694Z"
   },
   {
    "duration": 34,
    "start_time": "2022-04-10T13:06:32.042Z"
   },
   {
    "duration": 468,
    "start_time": "2022-04-11T07:48:11.151Z"
   },
   {
    "duration": 25,
    "start_time": "2022-04-11T07:48:11.621Z"
   },
   {
    "duration": 11,
    "start_time": "2022-04-11T07:48:11.648Z"
   },
   {
    "duration": 6,
    "start_time": "2022-04-11T07:48:11.662Z"
   },
   {
    "duration": 6,
    "start_time": "2022-04-11T07:48:11.669Z"
   },
   {
    "duration": 3,
    "start_time": "2022-04-11T07:48:11.678Z"
   },
   {
    "duration": 5,
    "start_time": "2022-04-11T07:48:11.716Z"
   },
   {
    "duration": 11,
    "start_time": "2022-04-11T07:48:11.724Z"
   },
   {
    "duration": 14,
    "start_time": "2022-04-11T07:48:11.737Z"
   },
   {
    "duration": 4,
    "start_time": "2022-04-11T07:48:11.756Z"
   },
   {
    "duration": 16,
    "start_time": "2022-04-11T07:48:11.762Z"
   },
   {
    "duration": 10,
    "start_time": "2022-04-11T07:48:11.812Z"
   },
   {
    "duration": 18,
    "start_time": "2022-04-11T07:48:11.824Z"
   },
   {
    "duration": 28,
    "start_time": "2022-04-11T07:48:11.844Z"
   },
   {
    "duration": 50,
    "start_time": "2022-04-11T07:48:11.874Z"
   },
   {
    "duration": 18,
    "start_time": "2022-04-11T07:48:11.926Z"
   },
   {
    "duration": 8,
    "start_time": "2022-04-11T07:48:11.945Z"
   },
   {
    "duration": 6,
    "start_time": "2022-04-11T07:48:11.954Z"
   },
   {
    "duration": 7,
    "start_time": "2022-04-11T07:48:11.961Z"
   },
   {
    "duration": 8,
    "start_time": "2022-04-11T07:48:11.970Z"
   },
   {
    "duration": 31,
    "start_time": "2022-04-11T07:48:11.979Z"
   },
   {
    "duration": 6,
    "start_time": "2022-04-11T07:48:12.011Z"
   },
   {
    "duration": 5,
    "start_time": "2022-04-11T07:48:12.020Z"
   },
   {
    "duration": 6,
    "start_time": "2022-04-11T07:48:12.027Z"
   },
   {
    "duration": 5,
    "start_time": "2022-04-11T07:48:12.035Z"
   },
   {
    "duration": 10,
    "start_time": "2022-04-11T07:48:12.042Z"
   },
   {
    "duration": 7,
    "start_time": "2022-04-11T07:48:12.054Z"
   },
   {
    "duration": 53,
    "start_time": "2022-04-11T07:48:12.064Z"
   },
   {
    "duration": 9,
    "start_time": "2022-04-11T07:48:12.120Z"
   },
   {
    "duration": 7,
    "start_time": "2022-04-11T07:48:12.131Z"
   },
   {
    "duration": 10,
    "start_time": "2022-04-11T07:48:12.140Z"
   },
   {
    "duration": 7,
    "start_time": "2022-04-11T07:48:12.152Z"
   },
   {
    "duration": 6,
    "start_time": "2022-04-11T07:48:12.161Z"
   },
   {
    "duration": 47,
    "start_time": "2022-04-11T07:48:12.168Z"
   },
   {
    "duration": 10,
    "start_time": "2022-04-11T07:48:12.216Z"
   },
   {
    "duration": 13,
    "start_time": "2022-04-11T07:48:12.228Z"
   },
   {
    "duration": 12,
    "start_time": "2022-04-11T07:48:12.243Z"
   },
   {
    "duration": 13,
    "start_time": "2022-04-11T07:48:12.257Z"
   },
   {
    "duration": 45,
    "start_time": "2022-04-11T07:48:12.273Z"
   },
   {
    "duration": 14,
    "start_time": "2022-04-11T07:48:12.320Z"
   },
   {
    "duration": 4,
    "start_time": "2022-04-11T07:48:12.335Z"
   },
   {
    "duration": 30,
    "start_time": "2022-04-11T07:48:12.341Z"
   },
   {
    "duration": 62,
    "start_time": "2022-04-11T07:48:12.372Z"
   },
   {
    "duration": 4,
    "start_time": "2022-04-11T07:48:12.436Z"
   },
   {
    "duration": 29,
    "start_time": "2022-04-11T07:48:12.442Z"
   },
   {
    "duration": 64,
    "start_time": "2022-04-11T07:48:12.473Z"
   },
   {
    "duration": 34,
    "start_time": "2022-04-11T07:48:12.539Z"
   },
   {
    "duration": 523,
    "start_time": "2022-04-11T07:51:10.705Z"
   },
   {
    "duration": 16,
    "start_time": "2022-04-11T07:51:11.230Z"
   },
   {
    "duration": 11,
    "start_time": "2022-04-11T07:51:11.248Z"
   },
   {
    "duration": 8,
    "start_time": "2022-04-11T07:51:11.261Z"
   },
   {
    "duration": 7,
    "start_time": "2022-04-11T07:51:11.270Z"
   },
   {
    "duration": 36,
    "start_time": "2022-04-11T07:51:11.279Z"
   },
   {
    "duration": 12,
    "start_time": "2022-04-11T07:51:11.319Z"
   },
   {
    "duration": 11,
    "start_time": "2022-04-11T07:51:11.333Z"
   },
   {
    "duration": 16,
    "start_time": "2022-04-11T07:51:11.346Z"
   },
   {
    "duration": 5,
    "start_time": "2022-04-11T07:51:11.365Z"
   },
   {
    "duration": 17,
    "start_time": "2022-04-11T07:51:11.371Z"
   },
   {
    "duration": 14,
    "start_time": "2022-04-11T07:51:11.414Z"
   },
   {
    "duration": 13,
    "start_time": "2022-04-11T07:51:11.430Z"
   },
   {
    "duration": 22,
    "start_time": "2022-04-11T07:51:11.445Z"
   },
   {
    "duration": 46,
    "start_time": "2022-04-11T07:51:11.469Z"
   },
   {
    "duration": 21,
    "start_time": "2022-04-11T07:51:11.517Z"
   },
   {
    "duration": 8,
    "start_time": "2022-04-11T07:51:11.541Z"
   },
   {
    "duration": 6,
    "start_time": "2022-04-11T07:51:11.552Z"
   },
   {
    "duration": 6,
    "start_time": "2022-04-11T07:51:11.560Z"
   },
   {
    "duration": 6,
    "start_time": "2022-04-11T07:51:11.567Z"
   },
   {
    "duration": 40,
    "start_time": "2022-04-11T07:51:11.575Z"
   },
   {
    "duration": 9,
    "start_time": "2022-04-11T07:51:11.617Z"
   },
   {
    "duration": 6,
    "start_time": "2022-04-11T07:51:11.628Z"
   },
   {
    "duration": 7,
    "start_time": "2022-04-11T07:51:11.636Z"
   },
   {
    "duration": 7,
    "start_time": "2022-04-11T07:51:11.645Z"
   },
   {
    "duration": 10,
    "start_time": "2022-04-11T07:51:11.654Z"
   },
   {
    "duration": 10,
    "start_time": "2022-04-11T07:51:11.665Z"
   },
   {
    "duration": 11,
    "start_time": "2022-04-11T07:51:11.709Z"
   },
   {
    "duration": 12,
    "start_time": "2022-04-11T07:51:11.723Z"
   },
   {
    "duration": 6,
    "start_time": "2022-04-11T07:51:11.737Z"
   },
   {
    "duration": 8,
    "start_time": "2022-04-11T07:51:11.745Z"
   },
   {
    "duration": 7,
    "start_time": "2022-04-11T07:51:11.755Z"
   },
   {
    "duration": 6,
    "start_time": "2022-04-11T07:51:11.764Z"
   },
   {
    "duration": 22,
    "start_time": "2022-04-11T07:51:11.811Z"
   },
   {
    "duration": 10,
    "start_time": "2022-04-11T07:51:11.836Z"
   },
   {
    "duration": 13,
    "start_time": "2022-04-11T07:51:11.848Z"
   },
   {
    "duration": 10,
    "start_time": "2022-04-11T07:51:11.863Z"
   },
   {
    "duration": 54,
    "start_time": "2022-04-11T07:51:11.875Z"
   },
   {
    "duration": 13,
    "start_time": "2022-04-11T07:51:11.931Z"
   },
   {
    "duration": 19,
    "start_time": "2022-04-11T07:51:11.946Z"
   },
   {
    "duration": 4,
    "start_time": "2022-04-11T07:51:11.967Z"
   },
   {
    "duration": 53,
    "start_time": "2022-04-11T07:51:11.973Z"
   },
   {
    "duration": 27,
    "start_time": "2022-04-11T07:51:12.029Z"
   },
   {
    "duration": 6,
    "start_time": "2022-04-11T07:51:12.058Z"
   },
   {
    "duration": 54,
    "start_time": "2022-04-11T07:51:12.065Z"
   },
   {
    "duration": 36,
    "start_time": "2022-04-11T07:51:12.121Z"
   },
   {
    "duration": 55,
    "start_time": "2022-04-11T07:51:12.159Z"
   },
   {
    "duration": 651,
    "start_time": "2022-05-25T17:50:07.503Z"
   },
   {
    "duration": 17,
    "start_time": "2022-05-25T17:50:08.471Z"
   },
   {
    "duration": 10,
    "start_time": "2022-05-25T17:50:12.257Z"
   },
   {
    "duration": 7,
    "start_time": "2022-05-25T17:50:13.600Z"
   },
   {
    "duration": 5,
    "start_time": "2022-05-25T17:50:14.190Z"
   },
   {
    "duration": 78,
    "start_time": "2022-05-25T19:14:02.609Z"
   },
   {
    "duration": 15,
    "start_time": "2022-05-25T19:14:03.190Z"
   },
   {
    "duration": 10,
    "start_time": "2022-05-25T19:14:03.986Z"
   },
   {
    "duration": 673,
    "start_time": "2022-08-18T17:27:34.297Z"
   },
   {
    "duration": 14,
    "start_time": "2022-08-18T17:27:34.972Z"
   },
   {
    "duration": 9,
    "start_time": "2022-08-18T17:27:34.987Z"
   },
   {
    "duration": 8,
    "start_time": "2022-08-18T17:27:34.997Z"
   },
   {
    "duration": 6,
    "start_time": "2022-08-18T17:27:35.007Z"
   },
   {
    "duration": 10,
    "start_time": "2022-08-18T17:27:35.014Z"
   },
   {
    "duration": 8,
    "start_time": "2022-08-18T17:27:35.025Z"
   },
   {
    "duration": 12,
    "start_time": "2022-08-18T17:27:35.034Z"
   },
   {
    "duration": 15,
    "start_time": "2022-08-18T17:27:35.048Z"
   },
   {
    "duration": 7,
    "start_time": "2022-08-18T17:27:35.065Z"
   },
   {
    "duration": 16,
    "start_time": "2022-08-18T17:27:35.073Z"
   },
   {
    "duration": 16,
    "start_time": "2022-08-18T17:27:35.091Z"
   },
   {
    "duration": 16,
    "start_time": "2022-08-18T17:27:35.108Z"
   },
   {
    "duration": 17,
    "start_time": "2022-08-18T17:27:35.126Z"
   },
   {
    "duration": 15,
    "start_time": "2022-08-18T17:27:35.144Z"
   },
   {
    "duration": 15,
    "start_time": "2022-08-18T17:27:35.160Z"
   },
   {
    "duration": 5,
    "start_time": "2022-08-18T17:27:35.177Z"
   },
   {
    "duration": 4,
    "start_time": "2022-08-18T17:27:35.206Z"
   },
   {
    "duration": 7,
    "start_time": "2022-08-18T17:27:35.212Z"
   },
   {
    "duration": 5,
    "start_time": "2022-08-18T17:27:35.220Z"
   },
   {
    "duration": 5,
    "start_time": "2022-08-18T17:27:35.226Z"
   },
   {
    "duration": 5,
    "start_time": "2022-08-18T17:27:35.232Z"
   },
   {
    "duration": 7,
    "start_time": "2022-08-18T17:27:35.239Z"
   },
   {
    "duration": 10,
    "start_time": "2022-08-18T17:27:35.247Z"
   },
   {
    "duration": 7,
    "start_time": "2022-08-18T17:27:35.258Z"
   },
   {
    "duration": 8,
    "start_time": "2022-08-18T17:27:35.266Z"
   },
   {
    "duration": 33,
    "start_time": "2022-08-18T17:27:35.275Z"
   },
   {
    "duration": 6,
    "start_time": "2022-08-18T17:27:35.310Z"
   },
   {
    "duration": 10,
    "start_time": "2022-08-18T17:27:35.317Z"
   },
   {
    "duration": 5,
    "start_time": "2022-08-18T17:27:35.328Z"
   },
   {
    "duration": 6,
    "start_time": "2022-08-18T17:27:35.334Z"
   },
   {
    "duration": 7,
    "start_time": "2022-08-18T17:27:35.341Z"
   },
   {
    "duration": 6,
    "start_time": "2022-08-18T17:27:35.349Z"
   },
   {
    "duration": 13,
    "start_time": "2022-08-18T17:27:35.357Z"
   },
   {
    "duration": 39,
    "start_time": "2022-08-18T17:27:35.371Z"
   },
   {
    "duration": 17,
    "start_time": "2022-08-18T17:27:35.411Z"
   },
   {
    "duration": 8,
    "start_time": "2022-08-18T17:27:35.430Z"
   },
   {
    "duration": 10,
    "start_time": "2022-08-18T17:27:35.440Z"
   },
   {
    "duration": 9,
    "start_time": "2022-08-18T17:27:35.451Z"
   },
   {
    "duration": 10,
    "start_time": "2022-08-18T17:27:35.461Z"
   },
   {
    "duration": 3,
    "start_time": "2022-08-18T17:27:35.474Z"
   },
   {
    "duration": 44,
    "start_time": "2022-08-18T17:27:35.478Z"
   },
   {
    "duration": 22,
    "start_time": "2022-08-18T17:27:35.523Z"
   },
   {
    "duration": 4,
    "start_time": "2022-08-18T17:27:35.546Z"
   },
   {
    "duration": 25,
    "start_time": "2022-08-18T17:27:35.551Z"
   },
   {
    "duration": 49,
    "start_time": "2022-08-18T17:27:35.577Z"
   },
   {
    "duration": 27,
    "start_time": "2022-08-18T17:27:35.627Z"
   },
   {
    "duration": 81,
    "start_time": "2022-08-18T17:27:46.333Z"
   },
   {
    "duration": 13,
    "start_time": "2022-08-18T17:27:46.415Z"
   },
   {
    "duration": 19,
    "start_time": "2022-08-18T17:27:46.430Z"
   },
   {
    "duration": 16,
    "start_time": "2022-08-18T17:27:46.450Z"
   },
   {
    "duration": 14,
    "start_time": "2022-08-18T17:27:46.469Z"
   },
   {
    "duration": 6,
    "start_time": "2022-08-18T17:27:55.287Z"
   }
  ],
  "kernelspec": {
   "display_name": "Python 3 (ipykernel)",
   "language": "python",
   "name": "python3"
  },
  "language_info": {
   "codemirror_mode": {
    "name": "ipython",
    "version": 3
   },
   "file_extension": ".py",
   "mimetype": "text/x-python",
   "name": "python",
   "nbconvert_exporter": "python",
   "pygments_lexer": "ipython3",
   "version": "3.9.12"
  },
  "toc": {
   "base_numbering": 1,
   "nav_menu": {
    "height": "331.989px",
    "width": "181.989px"
   },
   "number_sections": true,
   "sideBar": true,
   "skip_h1_title": true,
   "title_cell": "Содержание",
   "title_sidebar": "Contents",
   "toc_cell": true,
   "toc_position": {},
   "toc_section_display": true,
   "toc_window_display": true
  }
 },
 "nbformat": 4,
 "nbformat_minor": 5
}
