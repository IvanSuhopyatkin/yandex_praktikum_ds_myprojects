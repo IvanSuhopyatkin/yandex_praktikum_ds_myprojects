{
 "cells": [
  {
   "cell_type": "markdown",
   "metadata": {
    "toc": true
   },
   "source": [
    "<h1>Содержание<span class=\"tocSkip\"></span></h1>\n",
    "<div class=\"toc\"><ul class=\"toc-item\"><li><span><a href=\"#Изучение-данных\" data-toc-modified-id=\"Изучение-данных-1\"><span class=\"toc-item-num\">1&nbsp;&nbsp;</span>Изучение данных</a></span></li><li><span><a href=\"#Предобработка-данных\" data-toc-modified-id=\"Предобработка-данных-2\"><span class=\"toc-item-num\">2&nbsp;&nbsp;</span>Предобработка данных</a></span></li><li><span><a href=\"#Проанализируем-данные\" data-toc-modified-id=\"Проанализируем-данные-3\"><span class=\"toc-item-num\">3&nbsp;&nbsp;</span>Проанализируем данные</a></span></li><li><span><a href=\"#Проверим-гипотезы\" data-toc-modified-id=\"Проверим-гипотезы-4\"><span class=\"toc-item-num\">4&nbsp;&nbsp;</span>Проверим гипотезы</a></span></li><li><span><a href=\"#Общий-вывод\" data-toc-modified-id=\"Общий-вывод-5\"><span class=\"toc-item-num\">5&nbsp;&nbsp;</span>Общий вывод</a></span></li></ul></div>"
   ]
  },
  {
   "cell_type": "markdown",
   "metadata": {},
   "source": [
    "\n",
    "    \n"
   ]
  },
  {
   "cell_type": "markdown",
   "metadata": {},
   "source": [
    "# Определение перспективного тарифа для телеком-компании\n",
    "\n",
    "В нашем распоряжении данные 500 пользователей оператора сотовой связи «Мегалайн» за 2018 год.Клиентам предлагают два тарифных плана: «Смарт» и «Ультра». Нам предстоит сделать предварительный анализ тарифов на небольшой выборке клиентов с целью понять какой тариф приносит больше денег.\n"
   ]
  },
  {
   "cell_type": "markdown",
   "metadata": {},
   "source": [
    "## Изучение данных"
   ]
  },
  {
   "cell_type": "markdown",
   "metadata": {},
   "source": [
    "Импортируем необходимые библиотеки и проверим что все данные выгружаются без ошибок:"
   ]
  },
  {
   "cell_type": "code",
   "execution_count": 208,
   "metadata": {},
   "outputs": [],
   "source": [
    "import pandas as pd\n",
    "import matplotlib.pyplot as plt\n",
    "import math\n",
    "from scipy import stats as st\n",
    "import numpy as np\n",
    "pd.set_option('display.max_columns', None)"
   ]
  },
  {
   "cell_type": "markdown",
   "metadata": {},
   "source": [
    "# calls"
   ]
  },
  {
   "cell_type": "code",
   "execution_count": 209,
   "metadata": {},
   "outputs": [
    {
     "data": {
      "text/html": [
       "<div>\n",
       "<style scoped>\n",
       "    .dataframe tbody tr th:only-of-type {\n",
       "        vertical-align: middle;\n",
       "    }\n",
       "\n",
       "    .dataframe tbody tr th {\n",
       "        vertical-align: top;\n",
       "    }\n",
       "\n",
       "    .dataframe thead th {\n",
       "        text-align: right;\n",
       "    }\n",
       "</style>\n",
       "<table border=\"1\" class=\"dataframe\">\n",
       "  <thead>\n",
       "    <tr style=\"text-align: right;\">\n",
       "      <th></th>\n",
       "      <th>id</th>\n",
       "      <th>call_date</th>\n",
       "      <th>duration</th>\n",
       "      <th>user_id</th>\n",
       "    </tr>\n",
       "  </thead>\n",
       "  <tbody>\n",
       "    <tr>\n",
       "      <th>0</th>\n",
       "      <td>1000_0</td>\n",
       "      <td>2018-07-25</td>\n",
       "      <td>0.00</td>\n",
       "      <td>1000</td>\n",
       "    </tr>\n",
       "    <tr>\n",
       "      <th>1</th>\n",
       "      <td>1000_1</td>\n",
       "      <td>2018-08-17</td>\n",
       "      <td>0.00</td>\n",
       "      <td>1000</td>\n",
       "    </tr>\n",
       "    <tr>\n",
       "      <th>2</th>\n",
       "      <td>1000_2</td>\n",
       "      <td>2018-06-11</td>\n",
       "      <td>2.85</td>\n",
       "      <td>1000</td>\n",
       "    </tr>\n",
       "    <tr>\n",
       "      <th>3</th>\n",
       "      <td>1000_3</td>\n",
       "      <td>2018-09-21</td>\n",
       "      <td>13.80</td>\n",
       "      <td>1000</td>\n",
       "    </tr>\n",
       "    <tr>\n",
       "      <th>4</th>\n",
       "      <td>1000_4</td>\n",
       "      <td>2018-12-15</td>\n",
       "      <td>5.18</td>\n",
       "      <td>1000</td>\n",
       "    </tr>\n",
       "    <tr>\n",
       "      <th>5</th>\n",
       "      <td>1000_5</td>\n",
       "      <td>2018-11-02</td>\n",
       "      <td>0.00</td>\n",
       "      <td>1000</td>\n",
       "    </tr>\n",
       "    <tr>\n",
       "      <th>6</th>\n",
       "      <td>1000_6</td>\n",
       "      <td>2018-10-18</td>\n",
       "      <td>0.00</td>\n",
       "      <td>1000</td>\n",
       "    </tr>\n",
       "    <tr>\n",
       "      <th>7</th>\n",
       "      <td>1000_7</td>\n",
       "      <td>2018-08-22</td>\n",
       "      <td>18.31</td>\n",
       "      <td>1000</td>\n",
       "    </tr>\n",
       "    <tr>\n",
       "      <th>8</th>\n",
       "      <td>1000_8</td>\n",
       "      <td>2018-09-15</td>\n",
       "      <td>18.44</td>\n",
       "      <td>1000</td>\n",
       "    </tr>\n",
       "    <tr>\n",
       "      <th>9</th>\n",
       "      <td>1000_9</td>\n",
       "      <td>2018-08-15</td>\n",
       "      <td>0.00</td>\n",
       "      <td>1000</td>\n",
       "    </tr>\n",
       "    <tr>\n",
       "      <th>10</th>\n",
       "      <td>1000_10</td>\n",
       "      <td>2018-08-22</td>\n",
       "      <td>5.03</td>\n",
       "      <td>1000</td>\n",
       "    </tr>\n",
       "    <tr>\n",
       "      <th>11</th>\n",
       "      <td>1000_11</td>\n",
       "      <td>2018-05-28</td>\n",
       "      <td>18.82</td>\n",
       "      <td>1000</td>\n",
       "    </tr>\n",
       "    <tr>\n",
       "      <th>12</th>\n",
       "      <td>1000_12</td>\n",
       "      <td>2018-07-05</td>\n",
       "      <td>2.02</td>\n",
       "      <td>1000</td>\n",
       "    </tr>\n",
       "    <tr>\n",
       "      <th>13</th>\n",
       "      <td>1000_13</td>\n",
       "      <td>2018-09-29</td>\n",
       "      <td>7.15</td>\n",
       "      <td>1000</td>\n",
       "    </tr>\n",
       "    <tr>\n",
       "      <th>14</th>\n",
       "      <td>1000_14</td>\n",
       "      <td>2018-12-11</td>\n",
       "      <td>9.13</td>\n",
       "      <td>1000</td>\n",
       "    </tr>\n",
       "  </tbody>\n",
       "</table>\n",
       "</div>"
      ],
      "text/plain": [
       "         id   call_date  duration  user_id\n",
       "0    1000_0  2018-07-25      0.00     1000\n",
       "1    1000_1  2018-08-17      0.00     1000\n",
       "2    1000_2  2018-06-11      2.85     1000\n",
       "3    1000_3  2018-09-21     13.80     1000\n",
       "4    1000_4  2018-12-15      5.18     1000\n",
       "5    1000_5  2018-11-02      0.00     1000\n",
       "6    1000_6  2018-10-18      0.00     1000\n",
       "7    1000_7  2018-08-22     18.31     1000\n",
       "8    1000_8  2018-09-15     18.44     1000\n",
       "9    1000_9  2018-08-15      0.00     1000\n",
       "10  1000_10  2018-08-22      5.03     1000\n",
       "11  1000_11  2018-05-28     18.82     1000\n",
       "12  1000_12  2018-07-05      2.02     1000\n",
       "13  1000_13  2018-09-29      7.15     1000\n",
       "14  1000_14  2018-12-11      9.13     1000"
      ]
     },
     "metadata": {},
     "output_type": "display_data"
    }
   ],
   "source": [
    "calls =  pd.read_csv('/datasets/calls.csv')\n",
    "display(calls.head(15))"
   ]
  },
  {
   "cell_type": "code",
   "execution_count": 210,
   "metadata": {
    "scrolled": true
   },
   "outputs": [
    {
     "name": "stdout",
     "output_type": "stream",
     "text": [
      "<class 'pandas.core.frame.DataFrame'>\n",
      "RangeIndex: 202607 entries, 0 to 202606\n",
      "Data columns (total 4 columns):\n",
      " #   Column     Non-Null Count   Dtype  \n",
      "---  ------     --------------   -----  \n",
      " 0   id         202607 non-null  object \n",
      " 1   call_date  202607 non-null  object \n",
      " 2   duration   202607 non-null  float64\n",
      " 3   user_id    202607 non-null  int64  \n",
      "dtypes: float64(1), int64(1), object(2)\n",
      "memory usage: 6.2+ MB\n"
     ]
    },
    {
     "data": {
      "text/plain": [
       "None"
      ]
     },
     "metadata": {},
     "output_type": "display_data"
    }
   ],
   "source": [
    "display(calls.info())"
   ]
  },
  {
   "cell_type": "markdown",
   "metadata": {},
   "source": [
    "нужно перевести call_date в нужный формат datetime. Так как в компании «Мегалайн» секунды всегда округляются до минут имеет смысл округлить в duration значения в большую сторону. "
   ]
  },
  {
   "cell_type": "markdown",
   "metadata": {},
   "source": [
    "# internet"
   ]
  },
  {
   "cell_type": "code",
   "execution_count": 211,
   "metadata": {},
   "outputs": [
    {
     "data": {
      "text/html": [
       "<div>\n",
       "<style scoped>\n",
       "    .dataframe tbody tr th:only-of-type {\n",
       "        vertical-align: middle;\n",
       "    }\n",
       "\n",
       "    .dataframe tbody tr th {\n",
       "        vertical-align: top;\n",
       "    }\n",
       "\n",
       "    .dataframe thead th {\n",
       "        text-align: right;\n",
       "    }\n",
       "</style>\n",
       "<table border=\"1\" class=\"dataframe\">\n",
       "  <thead>\n",
       "    <tr style=\"text-align: right;\">\n",
       "      <th></th>\n",
       "      <th>Unnamed: 0</th>\n",
       "      <th>id</th>\n",
       "      <th>mb_used</th>\n",
       "      <th>session_date</th>\n",
       "      <th>user_id</th>\n",
       "    </tr>\n",
       "  </thead>\n",
       "  <tbody>\n",
       "    <tr>\n",
       "      <th>0</th>\n",
       "      <td>0</td>\n",
       "      <td>1000_0</td>\n",
       "      <td>112.95</td>\n",
       "      <td>2018-11-25</td>\n",
       "      <td>1000</td>\n",
       "    </tr>\n",
       "    <tr>\n",
       "      <th>1</th>\n",
       "      <td>1</td>\n",
       "      <td>1000_1</td>\n",
       "      <td>1052.81</td>\n",
       "      <td>2018-09-07</td>\n",
       "      <td>1000</td>\n",
       "    </tr>\n",
       "    <tr>\n",
       "      <th>2</th>\n",
       "      <td>2</td>\n",
       "      <td>1000_2</td>\n",
       "      <td>1197.26</td>\n",
       "      <td>2018-06-25</td>\n",
       "      <td>1000</td>\n",
       "    </tr>\n",
       "    <tr>\n",
       "      <th>3</th>\n",
       "      <td>3</td>\n",
       "      <td>1000_3</td>\n",
       "      <td>550.27</td>\n",
       "      <td>2018-08-22</td>\n",
       "      <td>1000</td>\n",
       "    </tr>\n",
       "    <tr>\n",
       "      <th>4</th>\n",
       "      <td>4</td>\n",
       "      <td>1000_4</td>\n",
       "      <td>302.56</td>\n",
       "      <td>2018-09-24</td>\n",
       "      <td>1000</td>\n",
       "    </tr>\n",
       "    <tr>\n",
       "      <th>5</th>\n",
       "      <td>5</td>\n",
       "      <td>1000_5</td>\n",
       "      <td>399.97</td>\n",
       "      <td>2018-10-02</td>\n",
       "      <td>1000</td>\n",
       "    </tr>\n",
       "    <tr>\n",
       "      <th>6</th>\n",
       "      <td>6</td>\n",
       "      <td>1000_6</td>\n",
       "      <td>540.08</td>\n",
       "      <td>2018-09-07</td>\n",
       "      <td>1000</td>\n",
       "    </tr>\n",
       "    <tr>\n",
       "      <th>7</th>\n",
       "      <td>7</td>\n",
       "      <td>1000_7</td>\n",
       "      <td>415.70</td>\n",
       "      <td>2018-07-11</td>\n",
       "      <td>1000</td>\n",
       "    </tr>\n",
       "    <tr>\n",
       "      <th>8</th>\n",
       "      <td>8</td>\n",
       "      <td>1000_8</td>\n",
       "      <td>505.40</td>\n",
       "      <td>2018-10-08</td>\n",
       "      <td>1000</td>\n",
       "    </tr>\n",
       "    <tr>\n",
       "      <th>9</th>\n",
       "      <td>9</td>\n",
       "      <td>1000_9</td>\n",
       "      <td>345.54</td>\n",
       "      <td>2018-09-03</td>\n",
       "      <td>1000</td>\n",
       "    </tr>\n",
       "    <tr>\n",
       "      <th>10</th>\n",
       "      <td>10</td>\n",
       "      <td>1000_10</td>\n",
       "      <td>385.14</td>\n",
       "      <td>2018-09-27</td>\n",
       "      <td>1000</td>\n",
       "    </tr>\n",
       "    <tr>\n",
       "      <th>11</th>\n",
       "      <td>11</td>\n",
       "      <td>1000_11</td>\n",
       "      <td>0.00</td>\n",
       "      <td>2018-08-28</td>\n",
       "      <td>1000</td>\n",
       "    </tr>\n",
       "    <tr>\n",
       "      <th>12</th>\n",
       "      <td>12</td>\n",
       "      <td>1000_12</td>\n",
       "      <td>375.87</td>\n",
       "      <td>2018-06-20</td>\n",
       "      <td>1000</td>\n",
       "    </tr>\n",
       "    <tr>\n",
       "      <th>13</th>\n",
       "      <td>13</td>\n",
       "      <td>1000_13</td>\n",
       "      <td>393.83</td>\n",
       "      <td>2018-08-09</td>\n",
       "      <td>1000</td>\n",
       "    </tr>\n",
       "    <tr>\n",
       "      <th>14</th>\n",
       "      <td>14</td>\n",
       "      <td>1000_14</td>\n",
       "      <td>180.64</td>\n",
       "      <td>2018-08-11</td>\n",
       "      <td>1000</td>\n",
       "    </tr>\n",
       "  </tbody>\n",
       "</table>\n",
       "</div>"
      ],
      "text/plain": [
       "    Unnamed: 0       id  mb_used session_date  user_id\n",
       "0            0   1000_0   112.95   2018-11-25     1000\n",
       "1            1   1000_1  1052.81   2018-09-07     1000\n",
       "2            2   1000_2  1197.26   2018-06-25     1000\n",
       "3            3   1000_3   550.27   2018-08-22     1000\n",
       "4            4   1000_4   302.56   2018-09-24     1000\n",
       "5            5   1000_5   399.97   2018-10-02     1000\n",
       "6            6   1000_6   540.08   2018-09-07     1000\n",
       "7            7   1000_7   415.70   2018-07-11     1000\n",
       "8            8   1000_8   505.40   2018-10-08     1000\n",
       "9            9   1000_9   345.54   2018-09-03     1000\n",
       "10          10  1000_10   385.14   2018-09-27     1000\n",
       "11          11  1000_11     0.00   2018-08-28     1000\n",
       "12          12  1000_12   375.87   2018-06-20     1000\n",
       "13          13  1000_13   393.83   2018-08-09     1000\n",
       "14          14  1000_14   180.64   2018-08-11     1000"
      ]
     },
     "metadata": {},
     "output_type": "display_data"
    }
   ],
   "source": [
    "internet =  pd.read_csv('/datasets/internet.csv')\n",
    "display(internet.head(15))"
   ]
  },
  {
   "cell_type": "code",
   "execution_count": 212,
   "metadata": {},
   "outputs": [
    {
     "name": "stdout",
     "output_type": "stream",
     "text": [
      "<class 'pandas.core.frame.DataFrame'>\n",
      "RangeIndex: 149396 entries, 0 to 149395\n",
      "Data columns (total 5 columns):\n",
      " #   Column        Non-Null Count   Dtype  \n",
      "---  ------        --------------   -----  \n",
      " 0   Unnamed: 0    149396 non-null  int64  \n",
      " 1   id            149396 non-null  object \n",
      " 2   mb_used       149396 non-null  float64\n",
      " 3   session_date  149396 non-null  object \n",
      " 4   user_id       149396 non-null  int64  \n",
      "dtypes: float64(1), int64(2), object(2)\n",
      "memory usage: 5.7+ MB\n"
     ]
    },
    {
     "data": {
      "text/plain": [
       "None"
      ]
     },
     "metadata": {},
     "output_type": "display_data"
    }
   ],
   "source": [
    "display(internet.info())"
   ]
  },
  {
   "cell_type": "markdown",
   "metadata": {},
   "source": [
    "обнаружена неизвестная переменная Unnamed: 0, на первый взгляд он идентичен с индексом, проверим это:"
   ]
  },
  {
   "cell_type": "code",
   "execution_count": 213,
   "metadata": {},
   "outputs": [
    {
     "data": {
      "text/plain": [
       "True    149396\n",
       "dtype: int64"
      ]
     },
     "execution_count": 213,
     "metadata": {},
     "output_type": "execute_result"
    }
   ],
   "source": [
    "(internet['Unnamed: 0'] == internet.index).value_counts()\n"
   ]
  },
  {
   "cell_type": "markdown",
   "metadata": {},
   "source": [
    "все 149396 строки совпадают с индексом.нужно перевести session_date в нужный формат datetime"
   ]
  },
  {
   "cell_type": "markdown",
   "metadata": {},
   "source": [
    "# messages"
   ]
  },
  {
   "cell_type": "code",
   "execution_count": 214,
   "metadata": {},
   "outputs": [
    {
     "data": {
      "text/html": [
       "<div>\n",
       "<style scoped>\n",
       "    .dataframe tbody tr th:only-of-type {\n",
       "        vertical-align: middle;\n",
       "    }\n",
       "\n",
       "    .dataframe tbody tr th {\n",
       "        vertical-align: top;\n",
       "    }\n",
       "\n",
       "    .dataframe thead th {\n",
       "        text-align: right;\n",
       "    }\n",
       "</style>\n",
       "<table border=\"1\" class=\"dataframe\">\n",
       "  <thead>\n",
       "    <tr style=\"text-align: right;\">\n",
       "      <th></th>\n",
       "      <th>id</th>\n",
       "      <th>message_date</th>\n",
       "      <th>user_id</th>\n",
       "    </tr>\n",
       "  </thead>\n",
       "  <tbody>\n",
       "    <tr>\n",
       "      <th>0</th>\n",
       "      <td>1000_0</td>\n",
       "      <td>2018-06-27</td>\n",
       "      <td>1000</td>\n",
       "    </tr>\n",
       "    <tr>\n",
       "      <th>1</th>\n",
       "      <td>1000_1</td>\n",
       "      <td>2018-10-08</td>\n",
       "      <td>1000</td>\n",
       "    </tr>\n",
       "    <tr>\n",
       "      <th>2</th>\n",
       "      <td>1000_2</td>\n",
       "      <td>2018-08-04</td>\n",
       "      <td>1000</td>\n",
       "    </tr>\n",
       "    <tr>\n",
       "      <th>3</th>\n",
       "      <td>1000_3</td>\n",
       "      <td>2018-06-16</td>\n",
       "      <td>1000</td>\n",
       "    </tr>\n",
       "    <tr>\n",
       "      <th>4</th>\n",
       "      <td>1000_4</td>\n",
       "      <td>2018-12-05</td>\n",
       "      <td>1000</td>\n",
       "    </tr>\n",
       "    <tr>\n",
       "      <th>5</th>\n",
       "      <td>1000_5</td>\n",
       "      <td>2018-06-20</td>\n",
       "      <td>1000</td>\n",
       "    </tr>\n",
       "    <tr>\n",
       "      <th>6</th>\n",
       "      <td>1000_6</td>\n",
       "      <td>2018-11-19</td>\n",
       "      <td>1000</td>\n",
       "    </tr>\n",
       "    <tr>\n",
       "      <th>7</th>\n",
       "      <td>1000_7</td>\n",
       "      <td>2018-10-29</td>\n",
       "      <td>1000</td>\n",
       "    </tr>\n",
       "    <tr>\n",
       "      <th>8</th>\n",
       "      <td>1000_8</td>\n",
       "      <td>2018-06-25</td>\n",
       "      <td>1000</td>\n",
       "    </tr>\n",
       "    <tr>\n",
       "      <th>9</th>\n",
       "      <td>1000_9</td>\n",
       "      <td>2018-12-18</td>\n",
       "      <td>1000</td>\n",
       "    </tr>\n",
       "    <tr>\n",
       "      <th>10</th>\n",
       "      <td>1000_10</td>\n",
       "      <td>2018-05-30</td>\n",
       "      <td>1000</td>\n",
       "    </tr>\n",
       "    <tr>\n",
       "      <th>11</th>\n",
       "      <td>1000_11</td>\n",
       "      <td>2018-07-06</td>\n",
       "      <td>1000</td>\n",
       "    </tr>\n",
       "    <tr>\n",
       "      <th>12</th>\n",
       "      <td>1000_12</td>\n",
       "      <td>2018-08-20</td>\n",
       "      <td>1000</td>\n",
       "    </tr>\n",
       "    <tr>\n",
       "      <th>13</th>\n",
       "      <td>1000_13</td>\n",
       "      <td>2018-10-30</td>\n",
       "      <td>1000</td>\n",
       "    </tr>\n",
       "    <tr>\n",
       "      <th>14</th>\n",
       "      <td>1000_14</td>\n",
       "      <td>2018-09-14</td>\n",
       "      <td>1000</td>\n",
       "    </tr>\n",
       "  </tbody>\n",
       "</table>\n",
       "</div>"
      ],
      "text/plain": [
       "         id message_date  user_id\n",
       "0    1000_0   2018-06-27     1000\n",
       "1    1000_1   2018-10-08     1000\n",
       "2    1000_2   2018-08-04     1000\n",
       "3    1000_3   2018-06-16     1000\n",
       "4    1000_4   2018-12-05     1000\n",
       "5    1000_5   2018-06-20     1000\n",
       "6    1000_6   2018-11-19     1000\n",
       "7    1000_7   2018-10-29     1000\n",
       "8    1000_8   2018-06-25     1000\n",
       "9    1000_9   2018-12-18     1000\n",
       "10  1000_10   2018-05-30     1000\n",
       "11  1000_11   2018-07-06     1000\n",
       "12  1000_12   2018-08-20     1000\n",
       "13  1000_13   2018-10-30     1000\n",
       "14  1000_14   2018-09-14     1000"
      ]
     },
     "metadata": {},
     "output_type": "display_data"
    }
   ],
   "source": [
    "messages =  pd.read_csv('/datasets/messages.csv')\n",
    "display(messages.head(15))"
   ]
  },
  {
   "cell_type": "code",
   "execution_count": 215,
   "metadata": {},
   "outputs": [
    {
     "name": "stdout",
     "output_type": "stream",
     "text": [
      "<class 'pandas.core.frame.DataFrame'>\n",
      "RangeIndex: 123036 entries, 0 to 123035\n",
      "Data columns (total 3 columns):\n",
      " #   Column        Non-Null Count   Dtype \n",
      "---  ------        --------------   ----- \n",
      " 0   id            123036 non-null  object\n",
      " 1   message_date  123036 non-null  object\n",
      " 2   user_id       123036 non-null  int64 \n",
      "dtypes: int64(1), object(2)\n",
      "memory usage: 2.8+ MB\n"
     ]
    },
    {
     "data": {
      "text/plain": [
       "None"
      ]
     },
     "metadata": {},
     "output_type": "display_data"
    }
   ],
   "source": [
    "display(messages.info())"
   ]
  },
  {
   "cell_type": "markdown",
   "metadata": {},
   "source": [
    "нужно перевести message_date в нужный формат datetime"
   ]
  },
  {
   "cell_type": "markdown",
   "metadata": {},
   "source": [
    "# tariffs"
   ]
  },
  {
   "cell_type": "code",
   "execution_count": 216,
   "metadata": {},
   "outputs": [
    {
     "data": {
      "text/html": [
       "<div>\n",
       "<style scoped>\n",
       "    .dataframe tbody tr th:only-of-type {\n",
       "        vertical-align: middle;\n",
       "    }\n",
       "\n",
       "    .dataframe tbody tr th {\n",
       "        vertical-align: top;\n",
       "    }\n",
       "\n",
       "    .dataframe thead th {\n",
       "        text-align: right;\n",
       "    }\n",
       "</style>\n",
       "<table border=\"1\" class=\"dataframe\">\n",
       "  <thead>\n",
       "    <tr style=\"text-align: right;\">\n",
       "      <th></th>\n",
       "      <th>messages_included</th>\n",
       "      <th>mb_per_month_included</th>\n",
       "      <th>minutes_included</th>\n",
       "      <th>rub_monthly_fee</th>\n",
       "      <th>rub_per_gb</th>\n",
       "      <th>rub_per_message</th>\n",
       "      <th>rub_per_minute</th>\n",
       "      <th>tariff_name</th>\n",
       "    </tr>\n",
       "  </thead>\n",
       "  <tbody>\n",
       "    <tr>\n",
       "      <th>0</th>\n",
       "      <td>50</td>\n",
       "      <td>15360</td>\n",
       "      <td>500</td>\n",
       "      <td>550</td>\n",
       "      <td>200</td>\n",
       "      <td>3</td>\n",
       "      <td>3</td>\n",
       "      <td>smart</td>\n",
       "    </tr>\n",
       "    <tr>\n",
       "      <th>1</th>\n",
       "      <td>1000</td>\n",
       "      <td>30720</td>\n",
       "      <td>3000</td>\n",
       "      <td>1950</td>\n",
       "      <td>150</td>\n",
       "      <td>1</td>\n",
       "      <td>1</td>\n",
       "      <td>ultra</td>\n",
       "    </tr>\n",
       "  </tbody>\n",
       "</table>\n",
       "</div>"
      ],
      "text/plain": [
       "   messages_included  mb_per_month_included  minutes_included  \\\n",
       "0                 50                  15360               500   \n",
       "1               1000                  30720              3000   \n",
       "\n",
       "   rub_monthly_fee  rub_per_gb  rub_per_message  rub_per_minute tariff_name  \n",
       "0              550         200                3               3       smart  \n",
       "1             1950         150                1               1       ultra  "
      ]
     },
     "metadata": {},
     "output_type": "display_data"
    }
   ],
   "source": [
    "tariffs =  pd.read_csv('/datasets/tariffs.csv')\n",
    "display(tariffs.head(15))"
   ]
  },
  {
   "cell_type": "code",
   "execution_count": 217,
   "metadata": {},
   "outputs": [
    {
     "name": "stdout",
     "output_type": "stream",
     "text": [
      "<class 'pandas.core.frame.DataFrame'>\n",
      "RangeIndex: 2 entries, 0 to 1\n",
      "Data columns (total 8 columns):\n",
      " #   Column                 Non-Null Count  Dtype \n",
      "---  ------                 --------------  ----- \n",
      " 0   messages_included      2 non-null      int64 \n",
      " 1   mb_per_month_included  2 non-null      int64 \n",
      " 2   minutes_included       2 non-null      int64 \n",
      " 3   rub_monthly_fee        2 non-null      int64 \n",
      " 4   rub_per_gb             2 non-null      int64 \n",
      " 5   rub_per_message        2 non-null      int64 \n",
      " 6   rub_per_minute         2 non-null      int64 \n",
      " 7   tariff_name            2 non-null      object\n",
      "dtypes: int64(7), object(1)\n",
      "memory usage: 256.0+ bytes\n"
     ]
    },
    {
     "data": {
      "text/plain": [
       "None"
      ]
     },
     "metadata": {},
     "output_type": "display_data"
    }
   ],
   "source": [
    "display(tariffs.info())"
   ]
  },
  {
   "cell_type": "markdown",
   "metadata": {},
   "source": [
    "# users"
   ]
  },
  {
   "cell_type": "code",
   "execution_count": 218,
   "metadata": {},
   "outputs": [
    {
     "data": {
      "text/html": [
       "<div>\n",
       "<style scoped>\n",
       "    .dataframe tbody tr th:only-of-type {\n",
       "        vertical-align: middle;\n",
       "    }\n",
       "\n",
       "    .dataframe tbody tr th {\n",
       "        vertical-align: top;\n",
       "    }\n",
       "\n",
       "    .dataframe thead th {\n",
       "        text-align: right;\n",
       "    }\n",
       "</style>\n",
       "<table border=\"1\" class=\"dataframe\">\n",
       "  <thead>\n",
       "    <tr style=\"text-align: right;\">\n",
       "      <th></th>\n",
       "      <th>user_id</th>\n",
       "      <th>age</th>\n",
       "      <th>churn_date</th>\n",
       "      <th>city</th>\n",
       "      <th>first_name</th>\n",
       "      <th>last_name</th>\n",
       "      <th>reg_date</th>\n",
       "      <th>tariff</th>\n",
       "    </tr>\n",
       "  </thead>\n",
       "  <tbody>\n",
       "    <tr>\n",
       "      <th>0</th>\n",
       "      <td>1000</td>\n",
       "      <td>52</td>\n",
       "      <td>NaN</td>\n",
       "      <td>Краснодар</td>\n",
       "      <td>Рафаил</td>\n",
       "      <td>Верещагин</td>\n",
       "      <td>2018-05-25</td>\n",
       "      <td>ultra</td>\n",
       "    </tr>\n",
       "    <tr>\n",
       "      <th>1</th>\n",
       "      <td>1001</td>\n",
       "      <td>41</td>\n",
       "      <td>NaN</td>\n",
       "      <td>Москва</td>\n",
       "      <td>Иван</td>\n",
       "      <td>Ежов</td>\n",
       "      <td>2018-11-01</td>\n",
       "      <td>smart</td>\n",
       "    </tr>\n",
       "    <tr>\n",
       "      <th>2</th>\n",
       "      <td>1002</td>\n",
       "      <td>59</td>\n",
       "      <td>NaN</td>\n",
       "      <td>Стерлитамак</td>\n",
       "      <td>Евгений</td>\n",
       "      <td>Абрамович</td>\n",
       "      <td>2018-06-17</td>\n",
       "      <td>smart</td>\n",
       "    </tr>\n",
       "    <tr>\n",
       "      <th>3</th>\n",
       "      <td>1003</td>\n",
       "      <td>23</td>\n",
       "      <td>NaN</td>\n",
       "      <td>Москва</td>\n",
       "      <td>Белла</td>\n",
       "      <td>Белякова</td>\n",
       "      <td>2018-08-17</td>\n",
       "      <td>ultra</td>\n",
       "    </tr>\n",
       "    <tr>\n",
       "      <th>4</th>\n",
       "      <td>1004</td>\n",
       "      <td>68</td>\n",
       "      <td>NaN</td>\n",
       "      <td>Новокузнецк</td>\n",
       "      <td>Татьяна</td>\n",
       "      <td>Авдеенко</td>\n",
       "      <td>2018-05-14</td>\n",
       "      <td>ultra</td>\n",
       "    </tr>\n",
       "    <tr>\n",
       "      <th>5</th>\n",
       "      <td>1005</td>\n",
       "      <td>67</td>\n",
       "      <td>NaN</td>\n",
       "      <td>Набережные Челны</td>\n",
       "      <td>Афанасий</td>\n",
       "      <td>Горлов</td>\n",
       "      <td>2018-01-25</td>\n",
       "      <td>smart</td>\n",
       "    </tr>\n",
       "    <tr>\n",
       "      <th>6</th>\n",
       "      <td>1006</td>\n",
       "      <td>21</td>\n",
       "      <td>NaN</td>\n",
       "      <td>Ульяновск</td>\n",
       "      <td>Леонид</td>\n",
       "      <td>Ермолаев</td>\n",
       "      <td>2018-02-26</td>\n",
       "      <td>smart</td>\n",
       "    </tr>\n",
       "    <tr>\n",
       "      <th>7</th>\n",
       "      <td>1007</td>\n",
       "      <td>65</td>\n",
       "      <td>NaN</td>\n",
       "      <td>Москва</td>\n",
       "      <td>Юна</td>\n",
       "      <td>Березина</td>\n",
       "      <td>2018-04-19</td>\n",
       "      <td>smart</td>\n",
       "    </tr>\n",
       "    <tr>\n",
       "      <th>8</th>\n",
       "      <td>1008</td>\n",
       "      <td>63</td>\n",
       "      <td>NaN</td>\n",
       "      <td>Челябинск</td>\n",
       "      <td>Рустэм</td>\n",
       "      <td>Пономарёв</td>\n",
       "      <td>2018-12-19</td>\n",
       "      <td>smart</td>\n",
       "    </tr>\n",
       "    <tr>\n",
       "      <th>9</th>\n",
       "      <td>1009</td>\n",
       "      <td>24</td>\n",
       "      <td>NaN</td>\n",
       "      <td>Пермь</td>\n",
       "      <td>Василиса</td>\n",
       "      <td>Блинова</td>\n",
       "      <td>2018-03-22</td>\n",
       "      <td>smart</td>\n",
       "    </tr>\n",
       "    <tr>\n",
       "      <th>10</th>\n",
       "      <td>1010</td>\n",
       "      <td>26</td>\n",
       "      <td>NaN</td>\n",
       "      <td>Тюмень</td>\n",
       "      <td>Эдуард</td>\n",
       "      <td>Кононов</td>\n",
       "      <td>2018-08-05</td>\n",
       "      <td>smart</td>\n",
       "    </tr>\n",
       "    <tr>\n",
       "      <th>11</th>\n",
       "      <td>1011</td>\n",
       "      <td>44</td>\n",
       "      <td>NaN</td>\n",
       "      <td>Самара</td>\n",
       "      <td>Веселина</td>\n",
       "      <td>Алёшко</td>\n",
       "      <td>2018-03-19</td>\n",
       "      <td>smart</td>\n",
       "    </tr>\n",
       "    <tr>\n",
       "      <th>12</th>\n",
       "      <td>1012</td>\n",
       "      <td>38</td>\n",
       "      <td>NaN</td>\n",
       "      <td>Санкт-Петербург</td>\n",
       "      <td>Варлам</td>\n",
       "      <td>Соловьев</td>\n",
       "      <td>2018-03-28</td>\n",
       "      <td>smart</td>\n",
       "    </tr>\n",
       "    <tr>\n",
       "      <th>13</th>\n",
       "      <td>1013</td>\n",
       "      <td>36</td>\n",
       "      <td>NaN</td>\n",
       "      <td>Иваново</td>\n",
       "      <td>Борис</td>\n",
       "      <td>Андреенко</td>\n",
       "      <td>2018-11-14</td>\n",
       "      <td>ultra</td>\n",
       "    </tr>\n",
       "    <tr>\n",
       "      <th>14</th>\n",
       "      <td>1014</td>\n",
       "      <td>64</td>\n",
       "      <td>NaN</td>\n",
       "      <td>Чебоксары</td>\n",
       "      <td>Яков</td>\n",
       "      <td>Акинфьев</td>\n",
       "      <td>2018-05-15</td>\n",
       "      <td>smart</td>\n",
       "    </tr>\n",
       "  </tbody>\n",
       "</table>\n",
       "</div>"
      ],
      "text/plain": [
       "    user_id  age churn_date              city first_name  last_name  \\\n",
       "0      1000   52        NaN         Краснодар     Рафаил  Верещагин   \n",
       "1      1001   41        NaN            Москва       Иван       Ежов   \n",
       "2      1002   59        NaN       Стерлитамак    Евгений  Абрамович   \n",
       "3      1003   23        NaN            Москва      Белла   Белякова   \n",
       "4      1004   68        NaN       Новокузнецк    Татьяна   Авдеенко   \n",
       "5      1005   67        NaN  Набережные Челны   Афанасий     Горлов   \n",
       "6      1006   21        NaN         Ульяновск     Леонид   Ермолаев   \n",
       "7      1007   65        NaN            Москва        Юна   Березина   \n",
       "8      1008   63        NaN         Челябинск     Рустэм  Пономарёв   \n",
       "9      1009   24        NaN             Пермь   Василиса    Блинова   \n",
       "10     1010   26        NaN            Тюмень     Эдуард    Кононов   \n",
       "11     1011   44        NaN            Самара   Веселина     Алёшко   \n",
       "12     1012   38        NaN   Санкт-Петербург     Варлам   Соловьев   \n",
       "13     1013   36        NaN           Иваново      Борис  Андреенко   \n",
       "14     1014   64        NaN         Чебоксары       Яков   Акинфьев   \n",
       "\n",
       "      reg_date tariff  \n",
       "0   2018-05-25  ultra  \n",
       "1   2018-11-01  smart  \n",
       "2   2018-06-17  smart  \n",
       "3   2018-08-17  ultra  \n",
       "4   2018-05-14  ultra  \n",
       "5   2018-01-25  smart  \n",
       "6   2018-02-26  smart  \n",
       "7   2018-04-19  smart  \n",
       "8   2018-12-19  smart  \n",
       "9   2018-03-22  smart  \n",
       "10  2018-08-05  smart  \n",
       "11  2018-03-19  smart  \n",
       "12  2018-03-28  smart  \n",
       "13  2018-11-14  ultra  \n",
       "14  2018-05-15  smart  "
      ]
     },
     "metadata": {},
     "output_type": "display_data"
    }
   ],
   "source": [
    "users =  pd.read_csv('/datasets/users.csv')\n",
    "display(users.head(15))"
   ]
  },
  {
   "cell_type": "code",
   "execution_count": 219,
   "metadata": {},
   "outputs": [
    {
     "name": "stdout",
     "output_type": "stream",
     "text": [
      "<class 'pandas.core.frame.DataFrame'>\n",
      "RangeIndex: 500 entries, 0 to 499\n",
      "Data columns (total 8 columns):\n",
      " #   Column      Non-Null Count  Dtype \n",
      "---  ------      --------------  ----- \n",
      " 0   user_id     500 non-null    int64 \n",
      " 1   age         500 non-null    int64 \n",
      " 2   churn_date  38 non-null     object\n",
      " 3   city        500 non-null    object\n",
      " 4   first_name  500 non-null    object\n",
      " 5   last_name   500 non-null    object\n",
      " 6   reg_date    500 non-null    object\n",
      " 7   tariff      500 non-null    object\n",
      "dtypes: int64(2), object(6)\n",
      "memory usage: 31.4+ KB\n"
     ]
    },
    {
     "data": {
      "text/plain": [
       "None"
      ]
     },
     "metadata": {},
     "output_type": "display_data"
    }
   ],
   "source": [
    "display(users.info())"
   ]
  },
  {
   "cell_type": "markdown",
   "metadata": {},
   "source": [
    "нужно перевести churn_date и reg_date в нужный формат datetime"
   ]
  },
  {
   "cell_type": "markdown",
   "metadata": {},
   "source": [
    "Так же проверим данные на дубликаты"
   ]
  },
  {
   "cell_type": "code",
   "execution_count": 220,
   "metadata": {},
   "outputs": [
    {
     "data": {
      "text/plain": [
       "0"
      ]
     },
     "execution_count": 220,
     "metadata": {},
     "output_type": "execute_result"
    }
   ],
   "source": [
    "calls.duplicated().sum()"
   ]
  },
  {
   "cell_type": "code",
   "execution_count": 221,
   "metadata": {},
   "outputs": [
    {
     "data": {
      "text/plain": [
       "0"
      ]
     },
     "execution_count": 221,
     "metadata": {},
     "output_type": "execute_result"
    }
   ],
   "source": [
    "users.duplicated().sum()"
   ]
  },
  {
   "cell_type": "code",
   "execution_count": 222,
   "metadata": {},
   "outputs": [
    {
     "data": {
      "text/plain": [
       "0"
      ]
     },
     "execution_count": 222,
     "metadata": {},
     "output_type": "execute_result"
    }
   ],
   "source": [
    "messages.duplicated().sum()"
   ]
  },
  {
   "cell_type": "code",
   "execution_count": 223,
   "metadata": {},
   "outputs": [
    {
     "data": {
      "text/plain": [
       "0"
      ]
     },
     "execution_count": 223,
     "metadata": {},
     "output_type": "execute_result"
    }
   ],
   "source": [
    "internet.duplicated().sum()"
   ]
  },
  {
   "cell_type": "markdown",
   "metadata": {},
   "source": [
    "tariffs в проверке на дубликаты не нуждается так как в таблице всего две строки. Дубликатов не обнаружено и мы приступим к предобработке данных."
   ]
  },
  {
   "cell_type": "markdown",
   "metadata": {},
   "source": [
    "## Предобработка данных"
   ]
  },
  {
   "cell_type": "markdown",
   "metadata": {},
   "source": [
    "переведем указанные строки в datetime:"
   ]
  },
  {
   "cell_type": "code",
   "execution_count": 224,
   "metadata": {},
   "outputs": [],
   "source": [
    "calls['call_date']=pd.to_datetime(calls['call_date'],format='%Y-%m-%d')"
   ]
  },
  {
   "cell_type": "code",
   "execution_count": 225,
   "metadata": {},
   "outputs": [],
   "source": [
    "internet['session_date']=pd.to_datetime(internet['session_date'],format='%Y-%m-%d')"
   ]
  },
  {
   "cell_type": "code",
   "execution_count": 226,
   "metadata": {},
   "outputs": [],
   "source": [
    "messages['message_date']=pd.to_datetime(messages['message_date'],format='%Y-%m-%d')"
   ]
  },
  {
   "cell_type": "code",
   "execution_count": 227,
   "metadata": {},
   "outputs": [],
   "source": [
    "users['churn_date']=pd.to_datetime(users['churn_date'],format='%Y-%m-%d')\n"
   ]
  },
  {
   "cell_type": "code",
   "execution_count": 228,
   "metadata": {},
   "outputs": [],
   "source": [
    "users['reg_date']=pd.to_datetime(users['reg_date'],format='%Y-%m-%d')"
   ]
  },
  {
   "cell_type": "markdown",
   "metadata": {},
   "source": [
    "проверим все таблицы на наличие пустых значений"
   ]
  },
  {
   "cell_type": "code",
   "execution_count": 229,
   "metadata": {},
   "outputs": [
    {
     "data": {
      "text/plain": [
       "id           0\n",
       "call_date    0\n",
       "duration     0\n",
       "user_id      0\n",
       "dtype: int64"
      ]
     },
     "execution_count": 229,
     "metadata": {},
     "output_type": "execute_result"
    }
   ],
   "source": [
    "calls.isna().sum()"
   ]
  },
  {
   "cell_type": "code",
   "execution_count": 230,
   "metadata": {},
   "outputs": [
    {
     "data": {
      "text/plain": [
       "Unnamed: 0      0\n",
       "id              0\n",
       "mb_used         0\n",
       "session_date    0\n",
       "user_id         0\n",
       "dtype: int64"
      ]
     },
     "execution_count": 230,
     "metadata": {},
     "output_type": "execute_result"
    }
   ],
   "source": [
    "internet.isna().sum()"
   ]
  },
  {
   "cell_type": "code",
   "execution_count": 231,
   "metadata": {},
   "outputs": [
    {
     "data": {
      "text/plain": [
       "id              0\n",
       "message_date    0\n",
       "user_id         0\n",
       "dtype: int64"
      ]
     },
     "execution_count": 231,
     "metadata": {},
     "output_type": "execute_result"
    }
   ],
   "source": [
    "messages.isna().sum()"
   ]
  },
  {
   "cell_type": "code",
   "execution_count": 232,
   "metadata": {},
   "outputs": [
    {
     "data": {
      "text/plain": [
       "user_id         0\n",
       "age             0\n",
       "churn_date    462\n",
       "city            0\n",
       "first_name      0\n",
       "last_name       0\n",
       "reg_date        0\n",
       "tariff          0\n",
       "dtype: int64"
      ]
     },
     "execution_count": 232,
     "metadata": {},
     "output_type": "execute_result"
    }
   ],
   "source": [
    "users.isna().sum()"
   ]
  },
  {
   "cell_type": "code",
   "execution_count": 233,
   "metadata": {},
   "outputs": [
    {
     "data": {
      "text/plain": [
       "messages_included        0\n",
       "mb_per_month_included    0\n",
       "minutes_included         0\n",
       "rub_monthly_fee          0\n",
       "rub_per_gb               0\n",
       "rub_per_message          0\n",
       "rub_per_minute           0\n",
       "tariff_name              0\n",
       "dtype: int64"
      ]
     },
     "execution_count": 233,
     "metadata": {},
     "output_type": "execute_result"
    }
   ],
   "source": [
    "tariffs.isna().sum()"
   ]
  },
  {
   "cell_type": "markdown",
   "metadata": {},
   "source": [
    "пустоты обнаружены только в `users['churn_date']`, но это объясняется тем что тариф ещё действовал"
   ]
  },
  {
   "cell_type": "markdown",
   "metadata": {},
   "source": [
    "и округлим duration в большую сторону:"
   ]
  },
  {
   "cell_type": "code",
   "execution_count": 234,
   "metadata": {},
   "outputs": [],
   "source": [
    "calls['duration']=calls['duration'].apply(math.ceil)\n"
   ]
  },
  {
   "cell_type": "markdown",
   "metadata": {},
   "source": [
    "и проверим что все успешно:"
   ]
  },
  {
   "cell_type": "code",
   "execution_count": 235,
   "metadata": {},
   "outputs": [
    {
     "data": {
      "text/html": [
       "<div>\n",
       "<style scoped>\n",
       "    .dataframe tbody tr th:only-of-type {\n",
       "        vertical-align: middle;\n",
       "    }\n",
       "\n",
       "    .dataframe tbody tr th {\n",
       "        vertical-align: top;\n",
       "    }\n",
       "\n",
       "    .dataframe thead th {\n",
       "        text-align: right;\n",
       "    }\n",
       "</style>\n",
       "<table border=\"1\" class=\"dataframe\">\n",
       "  <thead>\n",
       "    <tr style=\"text-align: right;\">\n",
       "      <th></th>\n",
       "      <th>id</th>\n",
       "      <th>call_date</th>\n",
       "      <th>duration</th>\n",
       "      <th>user_id</th>\n",
       "    </tr>\n",
       "  </thead>\n",
       "  <tbody>\n",
       "    <tr>\n",
       "      <th>0</th>\n",
       "      <td>1000_0</td>\n",
       "      <td>2018-07-25</td>\n",
       "      <td>0</td>\n",
       "      <td>1000</td>\n",
       "    </tr>\n",
       "    <tr>\n",
       "      <th>1</th>\n",
       "      <td>1000_1</td>\n",
       "      <td>2018-08-17</td>\n",
       "      <td>0</td>\n",
       "      <td>1000</td>\n",
       "    </tr>\n",
       "    <tr>\n",
       "      <th>2</th>\n",
       "      <td>1000_2</td>\n",
       "      <td>2018-06-11</td>\n",
       "      <td>3</td>\n",
       "      <td>1000</td>\n",
       "    </tr>\n",
       "    <tr>\n",
       "      <th>3</th>\n",
       "      <td>1000_3</td>\n",
       "      <td>2018-09-21</td>\n",
       "      <td>14</td>\n",
       "      <td>1000</td>\n",
       "    </tr>\n",
       "    <tr>\n",
       "      <th>4</th>\n",
       "      <td>1000_4</td>\n",
       "      <td>2018-12-15</td>\n",
       "      <td>6</td>\n",
       "      <td>1000</td>\n",
       "    </tr>\n",
       "    <tr>\n",
       "      <th>5</th>\n",
       "      <td>1000_5</td>\n",
       "      <td>2018-11-02</td>\n",
       "      <td>0</td>\n",
       "      <td>1000</td>\n",
       "    </tr>\n",
       "    <tr>\n",
       "      <th>6</th>\n",
       "      <td>1000_6</td>\n",
       "      <td>2018-10-18</td>\n",
       "      <td>0</td>\n",
       "      <td>1000</td>\n",
       "    </tr>\n",
       "    <tr>\n",
       "      <th>7</th>\n",
       "      <td>1000_7</td>\n",
       "      <td>2018-08-22</td>\n",
       "      <td>19</td>\n",
       "      <td>1000</td>\n",
       "    </tr>\n",
       "    <tr>\n",
       "      <th>8</th>\n",
       "      <td>1000_8</td>\n",
       "      <td>2018-09-15</td>\n",
       "      <td>19</td>\n",
       "      <td>1000</td>\n",
       "    </tr>\n",
       "    <tr>\n",
       "      <th>9</th>\n",
       "      <td>1000_9</td>\n",
       "      <td>2018-08-15</td>\n",
       "      <td>0</td>\n",
       "      <td>1000</td>\n",
       "    </tr>\n",
       "    <tr>\n",
       "      <th>10</th>\n",
       "      <td>1000_10</td>\n",
       "      <td>2018-08-22</td>\n",
       "      <td>6</td>\n",
       "      <td>1000</td>\n",
       "    </tr>\n",
       "    <tr>\n",
       "      <th>11</th>\n",
       "      <td>1000_11</td>\n",
       "      <td>2018-05-28</td>\n",
       "      <td>19</td>\n",
       "      <td>1000</td>\n",
       "    </tr>\n",
       "    <tr>\n",
       "      <th>12</th>\n",
       "      <td>1000_12</td>\n",
       "      <td>2018-07-05</td>\n",
       "      <td>3</td>\n",
       "      <td>1000</td>\n",
       "    </tr>\n",
       "    <tr>\n",
       "      <th>13</th>\n",
       "      <td>1000_13</td>\n",
       "      <td>2018-09-29</td>\n",
       "      <td>8</td>\n",
       "      <td>1000</td>\n",
       "    </tr>\n",
       "    <tr>\n",
       "      <th>14</th>\n",
       "      <td>1000_14</td>\n",
       "      <td>2018-12-11</td>\n",
       "      <td>10</td>\n",
       "      <td>1000</td>\n",
       "    </tr>\n",
       "  </tbody>\n",
       "</table>\n",
       "</div>"
      ],
      "text/plain": [
       "         id  call_date  duration  user_id\n",
       "0    1000_0 2018-07-25         0     1000\n",
       "1    1000_1 2018-08-17         0     1000\n",
       "2    1000_2 2018-06-11         3     1000\n",
       "3    1000_3 2018-09-21        14     1000\n",
       "4    1000_4 2018-12-15         6     1000\n",
       "5    1000_5 2018-11-02         0     1000\n",
       "6    1000_6 2018-10-18         0     1000\n",
       "7    1000_7 2018-08-22        19     1000\n",
       "8    1000_8 2018-09-15        19     1000\n",
       "9    1000_9 2018-08-15         0     1000\n",
       "10  1000_10 2018-08-22         6     1000\n",
       "11  1000_11 2018-05-28        19     1000\n",
       "12  1000_12 2018-07-05         3     1000\n",
       "13  1000_13 2018-09-29         8     1000\n",
       "14  1000_14 2018-12-11        10     1000"
      ]
     },
     "metadata": {},
     "output_type": "display_data"
    }
   ],
   "source": [
    "display(calls.head(15))"
   ]
  },
  {
   "cell_type": "markdown",
   "metadata": {},
   "source": [
    "duration успешно округлились в большую сторону"
   ]
  },
  {
   "cell_type": "code",
   "execution_count": 236,
   "metadata": {},
   "outputs": [
    {
     "name": "stdout",
     "output_type": "stream",
     "text": [
      "<class 'pandas.core.frame.DataFrame'>\n",
      "RangeIndex: 202607 entries, 0 to 202606\n",
      "Data columns (total 4 columns):\n",
      " #   Column     Non-Null Count   Dtype         \n",
      "---  ------     --------------   -----         \n",
      " 0   id         202607 non-null  object        \n",
      " 1   call_date  202607 non-null  datetime64[ns]\n",
      " 2   duration   202607 non-null  int64         \n",
      " 3   user_id    202607 non-null  int64         \n",
      "dtypes: datetime64[ns](1), int64(2), object(1)\n",
      "memory usage: 6.2+ MB\n"
     ]
    },
    {
     "data": {
      "text/plain": [
       "None"
      ]
     },
     "metadata": {},
     "output_type": "display_data"
    }
   ],
   "source": [
    "display(calls.info())"
   ]
  },
  {
   "cell_type": "markdown",
   "metadata": {},
   "source": [
    "рассчитаем количество сделанных звонков и израсходованных минут разговора по месяцам. Для этого нам понадобится выделить месяц в таблице calls:"
   ]
  },
  {
   "cell_type": "code",
   "execution_count": 237,
   "metadata": {},
   "outputs": [],
   "source": [
    "calls['call_month']=pd.DatetimeIndex(calls['call_date']).month"
   ]
  },
  {
   "cell_type": "markdown",
   "metadata": {},
   "source": [
    "проверим что успешно добавился столец call_month:"
   ]
  },
  {
   "cell_type": "code",
   "execution_count": 238,
   "metadata": {},
   "outputs": [
    {
     "data": {
      "text/plain": [
       "12    33987\n",
       "11    29501\n",
       "10    27146\n",
       "9     24061\n",
       "8     21488\n",
       "7     18298\n",
       "6     14716\n",
       "5     12647\n",
       "4      9272\n",
       "3      6687\n",
       "2      3328\n",
       "1      1476\n",
       "Name: call_month, dtype: int64"
      ]
     },
     "execution_count": 238,
     "metadata": {},
     "output_type": "execute_result"
    }
   ],
   "source": [
    "calls['call_month'].value_counts()"
   ]
  },
  {
   "cell_type": "markdown",
   "metadata": {},
   "source": [
    "рассчитаем количество сделанных звонков и израсходованных минут для каждого пользователя по месяцам:"
   ]
  },
  {
   "cell_type": "code",
   "execution_count": 239,
   "metadata": {
    "scrolled": true
   },
   "outputs": [
    {
     "data": {
      "text/html": [
       "<div>\n",
       "<style scoped>\n",
       "    .dataframe tbody tr th:only-of-type {\n",
       "        vertical-align: middle;\n",
       "    }\n",
       "\n",
       "    .dataframe tbody tr th {\n",
       "        vertical-align: top;\n",
       "    }\n",
       "\n",
       "    .dataframe thead th {\n",
       "        text-align: right;\n",
       "    }\n",
       "</style>\n",
       "<table border=\"1\" class=\"dataframe\">\n",
       "  <thead>\n",
       "    <tr style=\"text-align: right;\">\n",
       "      <th></th>\n",
       "      <th>user_id</th>\n",
       "      <th>month</th>\n",
       "      <th>calls_count</th>\n",
       "      <th>calls_duration</th>\n",
       "    </tr>\n",
       "  </thead>\n",
       "  <tbody>\n",
       "    <tr>\n",
       "      <th>0</th>\n",
       "      <td>1000</td>\n",
       "      <td>5</td>\n",
       "      <td>22</td>\n",
       "      <td>159</td>\n",
       "    </tr>\n",
       "    <tr>\n",
       "      <th>1</th>\n",
       "      <td>1000</td>\n",
       "      <td>6</td>\n",
       "      <td>43</td>\n",
       "      <td>172</td>\n",
       "    </tr>\n",
       "    <tr>\n",
       "      <th>2</th>\n",
       "      <td>1000</td>\n",
       "      <td>7</td>\n",
       "      <td>47</td>\n",
       "      <td>340</td>\n",
       "    </tr>\n",
       "    <tr>\n",
       "      <th>3</th>\n",
       "      <td>1000</td>\n",
       "      <td>8</td>\n",
       "      <td>52</td>\n",
       "      <td>408</td>\n",
       "    </tr>\n",
       "    <tr>\n",
       "      <th>4</th>\n",
       "      <td>1000</td>\n",
       "      <td>9</td>\n",
       "      <td>58</td>\n",
       "      <td>466</td>\n",
       "    </tr>\n",
       "    <tr>\n",
       "      <th>5</th>\n",
       "      <td>1000</td>\n",
       "      <td>10</td>\n",
       "      <td>57</td>\n",
       "      <td>350</td>\n",
       "    </tr>\n",
       "    <tr>\n",
       "      <th>6</th>\n",
       "      <td>1000</td>\n",
       "      <td>11</td>\n",
       "      <td>43</td>\n",
       "      <td>338</td>\n",
       "    </tr>\n",
       "    <tr>\n",
       "      <th>7</th>\n",
       "      <td>1000</td>\n",
       "      <td>12</td>\n",
       "      <td>46</td>\n",
       "      <td>333</td>\n",
       "    </tr>\n",
       "    <tr>\n",
       "      <th>8</th>\n",
       "      <td>1001</td>\n",
       "      <td>11</td>\n",
       "      <td>59</td>\n",
       "      <td>430</td>\n",
       "    </tr>\n",
       "    <tr>\n",
       "      <th>9</th>\n",
       "      <td>1001</td>\n",
       "      <td>12</td>\n",
       "      <td>63</td>\n",
       "      <td>414</td>\n",
       "    </tr>\n",
       "    <tr>\n",
       "      <th>10</th>\n",
       "      <td>1002</td>\n",
       "      <td>6</td>\n",
       "      <td>15</td>\n",
       "      <td>117</td>\n",
       "    </tr>\n",
       "    <tr>\n",
       "      <th>11</th>\n",
       "      <td>1002</td>\n",
       "      <td>7</td>\n",
       "      <td>26</td>\n",
       "      <td>214</td>\n",
       "    </tr>\n",
       "    <tr>\n",
       "      <th>12</th>\n",
       "      <td>1002</td>\n",
       "      <td>8</td>\n",
       "      <td>42</td>\n",
       "      <td>289</td>\n",
       "    </tr>\n",
       "    <tr>\n",
       "      <th>13</th>\n",
       "      <td>1002</td>\n",
       "      <td>9</td>\n",
       "      <td>36</td>\n",
       "      <td>206</td>\n",
       "    </tr>\n",
       "    <tr>\n",
       "      <th>14</th>\n",
       "      <td>1002</td>\n",
       "      <td>10</td>\n",
       "      <td>33</td>\n",
       "      <td>212</td>\n",
       "    </tr>\n",
       "  </tbody>\n",
       "</table>\n",
       "</div>"
      ],
      "text/plain": [
       "    user_id  month  calls_count  calls_duration\n",
       "0      1000      5           22             159\n",
       "1      1000      6           43             172\n",
       "2      1000      7           47             340\n",
       "3      1000      8           52             408\n",
       "4      1000      9           58             466\n",
       "5      1000     10           57             350\n",
       "6      1000     11           43             338\n",
       "7      1000     12           46             333\n",
       "8      1001     11           59             430\n",
       "9      1001     12           63             414\n",
       "10     1002      6           15             117\n",
       "11     1002      7           26             214\n",
       "12     1002      8           42             289\n",
       "13     1002      9           36             206\n",
       "14     1002     10           33             212"
      ]
     },
     "execution_count": 239,
     "metadata": {},
     "output_type": "execute_result"
    }
   ],
   "source": [
    "calls_month = calls.groupby(['user_id','call_month'])['duration'].agg(['count','sum']).reset_index()\n",
    "calls_month.columns = ['user_id','month','calls_count', 'calls_duration']\n",
    "calls_month.head(15)"
   ]
  },
  {
   "cell_type": "markdown",
   "metadata": {},
   "source": [
    "аналогично добавим колонку с месяцем в messages:"
   ]
  },
  {
   "cell_type": "code",
   "execution_count": 240,
   "metadata": {
    "scrolled": true
   },
   "outputs": [
    {
     "data": {
      "text/html": [
       "<div>\n",
       "<style scoped>\n",
       "    .dataframe tbody tr th:only-of-type {\n",
       "        vertical-align: middle;\n",
       "    }\n",
       "\n",
       "    .dataframe tbody tr th {\n",
       "        vertical-align: top;\n",
       "    }\n",
       "\n",
       "    .dataframe thead th {\n",
       "        text-align: right;\n",
       "    }\n",
       "</style>\n",
       "<table border=\"1\" class=\"dataframe\">\n",
       "  <thead>\n",
       "    <tr style=\"text-align: right;\">\n",
       "      <th></th>\n",
       "      <th>id</th>\n",
       "      <th>message_date</th>\n",
       "      <th>user_id</th>\n",
       "      <th>message_month</th>\n",
       "    </tr>\n",
       "  </thead>\n",
       "  <tbody>\n",
       "    <tr>\n",
       "      <th>0</th>\n",
       "      <td>1000_0</td>\n",
       "      <td>2018-06-27</td>\n",
       "      <td>1000</td>\n",
       "      <td>6</td>\n",
       "    </tr>\n",
       "    <tr>\n",
       "      <th>1</th>\n",
       "      <td>1000_1</td>\n",
       "      <td>2018-10-08</td>\n",
       "      <td>1000</td>\n",
       "      <td>10</td>\n",
       "    </tr>\n",
       "    <tr>\n",
       "      <th>2</th>\n",
       "      <td>1000_2</td>\n",
       "      <td>2018-08-04</td>\n",
       "      <td>1000</td>\n",
       "      <td>8</td>\n",
       "    </tr>\n",
       "    <tr>\n",
       "      <th>3</th>\n",
       "      <td>1000_3</td>\n",
       "      <td>2018-06-16</td>\n",
       "      <td>1000</td>\n",
       "      <td>6</td>\n",
       "    </tr>\n",
       "    <tr>\n",
       "      <th>4</th>\n",
       "      <td>1000_4</td>\n",
       "      <td>2018-12-05</td>\n",
       "      <td>1000</td>\n",
       "      <td>12</td>\n",
       "    </tr>\n",
       "  </tbody>\n",
       "</table>\n",
       "</div>"
      ],
      "text/plain": [
       "       id message_date  user_id  message_month\n",
       "0  1000_0   2018-06-27     1000              6\n",
       "1  1000_1   2018-10-08     1000             10\n",
       "2  1000_2   2018-08-04     1000              8\n",
       "3  1000_3   2018-06-16     1000              6\n",
       "4  1000_4   2018-12-05     1000             12"
      ]
     },
     "execution_count": 240,
     "metadata": {},
     "output_type": "execute_result"
    }
   ],
   "source": [
    "messages['message_month']=pd.DatetimeIndex(messages['message_date']).month\n",
    "messages.head()"
   ]
  },
  {
   "cell_type": "markdown",
   "metadata": {},
   "source": [
    "и рассчитаем количество сообщений по месяцем для каждого пользователя"
   ]
  },
  {
   "cell_type": "code",
   "execution_count": 241,
   "metadata": {},
   "outputs": [
    {
     "data": {
      "text/html": [
       "<div>\n",
       "<style scoped>\n",
       "    .dataframe tbody tr th:only-of-type {\n",
       "        vertical-align: middle;\n",
       "    }\n",
       "\n",
       "    .dataframe tbody tr th {\n",
       "        vertical-align: top;\n",
       "    }\n",
       "\n",
       "    .dataframe thead th {\n",
       "        text-align: right;\n",
       "    }\n",
       "</style>\n",
       "<table border=\"1\" class=\"dataframe\">\n",
       "  <thead>\n",
       "    <tr style=\"text-align: right;\">\n",
       "      <th></th>\n",
       "      <th>user_id</th>\n",
       "      <th>month</th>\n",
       "      <th>messages_count</th>\n",
       "    </tr>\n",
       "  </thead>\n",
       "  <tbody>\n",
       "    <tr>\n",
       "      <th>0</th>\n",
       "      <td>1000</td>\n",
       "      <td>5</td>\n",
       "      <td>22</td>\n",
       "    </tr>\n",
       "    <tr>\n",
       "      <th>1</th>\n",
       "      <td>1000</td>\n",
       "      <td>6</td>\n",
       "      <td>60</td>\n",
       "    </tr>\n",
       "    <tr>\n",
       "      <th>2</th>\n",
       "      <td>1000</td>\n",
       "      <td>7</td>\n",
       "      <td>75</td>\n",
       "    </tr>\n",
       "    <tr>\n",
       "      <th>3</th>\n",
       "      <td>1000</td>\n",
       "      <td>8</td>\n",
       "      <td>81</td>\n",
       "    </tr>\n",
       "    <tr>\n",
       "      <th>4</th>\n",
       "      <td>1000</td>\n",
       "      <td>9</td>\n",
       "      <td>57</td>\n",
       "    </tr>\n",
       "    <tr>\n",
       "      <th>5</th>\n",
       "      <td>1000</td>\n",
       "      <td>10</td>\n",
       "      <td>73</td>\n",
       "    </tr>\n",
       "    <tr>\n",
       "      <th>6</th>\n",
       "      <td>1000</td>\n",
       "      <td>11</td>\n",
       "      <td>58</td>\n",
       "    </tr>\n",
       "    <tr>\n",
       "      <th>7</th>\n",
       "      <td>1000</td>\n",
       "      <td>12</td>\n",
       "      <td>70</td>\n",
       "    </tr>\n",
       "    <tr>\n",
       "      <th>8</th>\n",
       "      <td>1002</td>\n",
       "      <td>6</td>\n",
       "      <td>4</td>\n",
       "    </tr>\n",
       "    <tr>\n",
       "      <th>9</th>\n",
       "      <td>1002</td>\n",
       "      <td>7</td>\n",
       "      <td>11</td>\n",
       "    </tr>\n",
       "    <tr>\n",
       "      <th>10</th>\n",
       "      <td>1002</td>\n",
       "      <td>8</td>\n",
       "      <td>13</td>\n",
       "    </tr>\n",
       "    <tr>\n",
       "      <th>11</th>\n",
       "      <td>1002</td>\n",
       "      <td>9</td>\n",
       "      <td>4</td>\n",
       "    </tr>\n",
       "    <tr>\n",
       "      <th>12</th>\n",
       "      <td>1002</td>\n",
       "      <td>10</td>\n",
       "      <td>10</td>\n",
       "    </tr>\n",
       "    <tr>\n",
       "      <th>13</th>\n",
       "      <td>1002</td>\n",
       "      <td>11</td>\n",
       "      <td>16</td>\n",
       "    </tr>\n",
       "    <tr>\n",
       "      <th>14</th>\n",
       "      <td>1002</td>\n",
       "      <td>12</td>\n",
       "      <td>12</td>\n",
       "    </tr>\n",
       "  </tbody>\n",
       "</table>\n",
       "</div>"
      ],
      "text/plain": [
       "    user_id  month  messages_count\n",
       "0      1000      5              22\n",
       "1      1000      6              60\n",
       "2      1000      7              75\n",
       "3      1000      8              81\n",
       "4      1000      9              57\n",
       "5      1000     10              73\n",
       "6      1000     11              58\n",
       "7      1000     12              70\n",
       "8      1002      6               4\n",
       "9      1002      7              11\n",
       "10     1002      8              13\n",
       "11     1002      9               4\n",
       "12     1002     10              10\n",
       "13     1002     11              16\n",
       "14     1002     12              12"
      ]
     },
     "execution_count": 241,
     "metadata": {},
     "output_type": "execute_result"
    }
   ],
   "source": [
    "messages_month = messages.groupby(['user_id','message_month'])['user_id'].agg(['count']).reset_index()\n",
    "messages_month.columns = ['user_id','month','messages_count']\n",
    "messages_month.head(15)"
   ]
  },
  {
   "cell_type": "code",
   "execution_count": 242,
   "metadata": {},
   "outputs": [
    {
     "name": "stdout",
     "output_type": "stream",
     "text": [
      "<class 'pandas.core.frame.DataFrame'>\n",
      "RangeIndex: 2717 entries, 0 to 2716\n",
      "Data columns (total 3 columns):\n",
      " #   Column          Non-Null Count  Dtype\n",
      "---  ------          --------------  -----\n",
      " 0   user_id         2717 non-null   int64\n",
      " 1   month           2717 non-null   int64\n",
      " 2   messages_count  2717 non-null   int64\n",
      "dtypes: int64(3)\n",
      "memory usage: 63.8 KB\n"
     ]
    }
   ],
   "source": [
    "messages_month.info()"
   ]
  },
  {
   "cell_type": "markdown",
   "metadata": {},
   "source": [
    "аналогично добавим колонку с месяцем в internet:"
   ]
  },
  {
   "cell_type": "code",
   "execution_count": 243,
   "metadata": {
    "scrolled": true
   },
   "outputs": [
    {
     "data": {
      "text/html": [
       "<div>\n",
       "<style scoped>\n",
       "    .dataframe tbody tr th:only-of-type {\n",
       "        vertical-align: middle;\n",
       "    }\n",
       "\n",
       "    .dataframe tbody tr th {\n",
       "        vertical-align: top;\n",
       "    }\n",
       "\n",
       "    .dataframe thead th {\n",
       "        text-align: right;\n",
       "    }\n",
       "</style>\n",
       "<table border=\"1\" class=\"dataframe\">\n",
       "  <thead>\n",
       "    <tr style=\"text-align: right;\">\n",
       "      <th></th>\n",
       "      <th>Unnamed: 0</th>\n",
       "      <th>id</th>\n",
       "      <th>mb_used</th>\n",
       "      <th>session_date</th>\n",
       "      <th>user_id</th>\n",
       "      <th>session_month</th>\n",
       "    </tr>\n",
       "  </thead>\n",
       "  <tbody>\n",
       "    <tr>\n",
       "      <th>0</th>\n",
       "      <td>0</td>\n",
       "      <td>1000_0</td>\n",
       "      <td>112.95</td>\n",
       "      <td>2018-11-25</td>\n",
       "      <td>1000</td>\n",
       "      <td>11</td>\n",
       "    </tr>\n",
       "    <tr>\n",
       "      <th>1</th>\n",
       "      <td>1</td>\n",
       "      <td>1000_1</td>\n",
       "      <td>1052.81</td>\n",
       "      <td>2018-09-07</td>\n",
       "      <td>1000</td>\n",
       "      <td>9</td>\n",
       "    </tr>\n",
       "    <tr>\n",
       "      <th>2</th>\n",
       "      <td>2</td>\n",
       "      <td>1000_2</td>\n",
       "      <td>1197.26</td>\n",
       "      <td>2018-06-25</td>\n",
       "      <td>1000</td>\n",
       "      <td>6</td>\n",
       "    </tr>\n",
       "    <tr>\n",
       "      <th>3</th>\n",
       "      <td>3</td>\n",
       "      <td>1000_3</td>\n",
       "      <td>550.27</td>\n",
       "      <td>2018-08-22</td>\n",
       "      <td>1000</td>\n",
       "      <td>8</td>\n",
       "    </tr>\n",
       "    <tr>\n",
       "      <th>4</th>\n",
       "      <td>4</td>\n",
       "      <td>1000_4</td>\n",
       "      <td>302.56</td>\n",
       "      <td>2018-09-24</td>\n",
       "      <td>1000</td>\n",
       "      <td>9</td>\n",
       "    </tr>\n",
       "  </tbody>\n",
       "</table>\n",
       "</div>"
      ],
      "text/plain": [
       "   Unnamed: 0      id  mb_used session_date  user_id  session_month\n",
       "0           0  1000_0   112.95   2018-11-25     1000             11\n",
       "1           1  1000_1  1052.81   2018-09-07     1000              9\n",
       "2           2  1000_2  1197.26   2018-06-25     1000              6\n",
       "3           3  1000_3   550.27   2018-08-22     1000              8\n",
       "4           4  1000_4   302.56   2018-09-24     1000              9"
      ]
     },
     "execution_count": 243,
     "metadata": {},
     "output_type": "execute_result"
    }
   ],
   "source": [
    "internet['session_month']=pd.DatetimeIndex(internet['session_date']).month\n",
    "internet.head()"
   ]
  },
  {
   "cell_type": "markdown",
   "metadata": {},
   "source": [
    "и наконец рассчитаем объем израсходованного интернет-трафика по месяцам"
   ]
  },
  {
   "cell_type": "code",
   "execution_count": 244,
   "metadata": {
    "scrolled": true
   },
   "outputs": [
    {
     "data": {
      "text/html": [
       "<div>\n",
       "<style scoped>\n",
       "    .dataframe tbody tr th:only-of-type {\n",
       "        vertical-align: middle;\n",
       "    }\n",
       "\n",
       "    .dataframe tbody tr th {\n",
       "        vertical-align: top;\n",
       "    }\n",
       "\n",
       "    .dataframe thead th {\n",
       "        text-align: right;\n",
       "    }\n",
       "</style>\n",
       "<table border=\"1\" class=\"dataframe\">\n",
       "  <thead>\n",
       "    <tr style=\"text-align: right;\">\n",
       "      <th></th>\n",
       "      <th>user_id</th>\n",
       "      <th>month</th>\n",
       "      <th>mb_sum</th>\n",
       "    </tr>\n",
       "  </thead>\n",
       "  <tbody>\n",
       "    <tr>\n",
       "      <th>0</th>\n",
       "      <td>1000</td>\n",
       "      <td>5</td>\n",
       "      <td>2253.49</td>\n",
       "    </tr>\n",
       "    <tr>\n",
       "      <th>1</th>\n",
       "      <td>1000</td>\n",
       "      <td>6</td>\n",
       "      <td>23233.77</td>\n",
       "    </tr>\n",
       "    <tr>\n",
       "      <th>2</th>\n",
       "      <td>1000</td>\n",
       "      <td>7</td>\n",
       "      <td>14003.64</td>\n",
       "    </tr>\n",
       "    <tr>\n",
       "      <th>3</th>\n",
       "      <td>1000</td>\n",
       "      <td>8</td>\n",
       "      <td>14055.93</td>\n",
       "    </tr>\n",
       "    <tr>\n",
       "      <th>4</th>\n",
       "      <td>1000</td>\n",
       "      <td>9</td>\n",
       "      <td>14568.91</td>\n",
       "    </tr>\n",
       "  </tbody>\n",
       "</table>\n",
       "</div>"
      ],
      "text/plain": [
       "   user_id  month    mb_sum\n",
       "0     1000      5   2253.49\n",
       "1     1000      6  23233.77\n",
       "2     1000      7  14003.64\n",
       "3     1000      8  14055.93\n",
       "4     1000      9  14568.91"
      ]
     },
     "execution_count": 244,
     "metadata": {},
     "output_type": "execute_result"
    }
   ],
   "source": [
    "sessions_month = internet.groupby(['user_id','session_month'])['mb_used'].agg(['sum']).reset_index()\n",
    "sessions_month.columns = ['user_id','month','mb_sum']\n",
    "sessions_month.head()"
   ]
  },
  {
   "cell_type": "markdown",
   "metadata": {},
   "source": [
    "рассчитаем помесячную выручку с каждого пользователя:"
   ]
  },
  {
   "cell_type": "markdown",
   "metadata": {},
   "source": [
    "создадим таблицу соединив таблицы calls_month,messages_month,sessions_month. Таким образов у нас будет количество сделанных звонков, израсходованных минут"
   ]
  },
  {
   "cell_type": "code",
   "execution_count": 245,
   "metadata": {
    "scrolled": false
   },
   "outputs": [
    {
     "data": {
      "text/html": [
       "<div>\n",
       "<style scoped>\n",
       "    .dataframe tbody tr th:only-of-type {\n",
       "        vertical-align: middle;\n",
       "    }\n",
       "\n",
       "    .dataframe tbody tr th {\n",
       "        vertical-align: top;\n",
       "    }\n",
       "\n",
       "    .dataframe thead th {\n",
       "        text-align: right;\n",
       "    }\n",
       "</style>\n",
       "<table border=\"1\" class=\"dataframe\">\n",
       "  <thead>\n",
       "    <tr style=\"text-align: right;\">\n",
       "      <th></th>\n",
       "      <th>user_id</th>\n",
       "      <th>month</th>\n",
       "      <th>calls_count</th>\n",
       "      <th>calls_duration</th>\n",
       "      <th>messages_count</th>\n",
       "      <th>mb_sum</th>\n",
       "    </tr>\n",
       "  </thead>\n",
       "  <tbody>\n",
       "    <tr>\n",
       "      <th>0</th>\n",
       "      <td>1000</td>\n",
       "      <td>5</td>\n",
       "      <td>22.0</td>\n",
       "      <td>159.0</td>\n",
       "      <td>22.0</td>\n",
       "      <td>2253.49</td>\n",
       "    </tr>\n",
       "    <tr>\n",
       "      <th>1</th>\n",
       "      <td>1000</td>\n",
       "      <td>6</td>\n",
       "      <td>43.0</td>\n",
       "      <td>172.0</td>\n",
       "      <td>60.0</td>\n",
       "      <td>23233.77</td>\n",
       "    </tr>\n",
       "    <tr>\n",
       "      <th>2</th>\n",
       "      <td>1000</td>\n",
       "      <td>7</td>\n",
       "      <td>47.0</td>\n",
       "      <td>340.0</td>\n",
       "      <td>75.0</td>\n",
       "      <td>14003.64</td>\n",
       "    </tr>\n",
       "    <tr>\n",
       "      <th>3</th>\n",
       "      <td>1000</td>\n",
       "      <td>8</td>\n",
       "      <td>52.0</td>\n",
       "      <td>408.0</td>\n",
       "      <td>81.0</td>\n",
       "      <td>14055.93</td>\n",
       "    </tr>\n",
       "    <tr>\n",
       "      <th>4</th>\n",
       "      <td>1000</td>\n",
       "      <td>9</td>\n",
       "      <td>58.0</td>\n",
       "      <td>466.0</td>\n",
       "      <td>57.0</td>\n",
       "      <td>14568.91</td>\n",
       "    </tr>\n",
       "  </tbody>\n",
       "</table>\n",
       "</div>"
      ],
      "text/plain": [
       "   user_id  month  calls_count  calls_duration  messages_count    mb_sum\n",
       "0     1000      5         22.0           159.0            22.0   2253.49\n",
       "1     1000      6         43.0           172.0            60.0  23233.77\n",
       "2     1000      7         47.0           340.0            75.0  14003.64\n",
       "3     1000      8         52.0           408.0            81.0  14055.93\n",
       "4     1000      9         58.0           466.0            57.0  14568.91"
      ]
     },
     "execution_count": 245,
     "metadata": {},
     "output_type": "execute_result"
    }
   ],
   "source": [
    "full = pd.merge(calls_month, messages_month, how='outer', on=['user_id', 'month'])\n",
    "full = pd.merge(full, sessions_month, how='outer', on=['user_id','month'])\n",
    "full.head()"
   ]
  },
  {
   "cell_type": "markdown",
   "metadata": {},
   "source": [
    "добавим в таблицу тариф, так  как нам нужно оставить таблицу слева оставим :"
   ]
  },
  {
   "cell_type": "code",
   "execution_count": 246,
   "metadata": {},
   "outputs": [
    {
     "data": {
      "text/html": [
       "<div>\n",
       "<style scoped>\n",
       "    .dataframe tbody tr th:only-of-type {\n",
       "        vertical-align: middle;\n",
       "    }\n",
       "\n",
       "    .dataframe tbody tr th {\n",
       "        vertical-align: top;\n",
       "    }\n",
       "\n",
       "    .dataframe thead th {\n",
       "        text-align: right;\n",
       "    }\n",
       "</style>\n",
       "<table border=\"1\" class=\"dataframe\">\n",
       "  <thead>\n",
       "    <tr style=\"text-align: right;\">\n",
       "      <th></th>\n",
       "      <th>user_id</th>\n",
       "      <th>month</th>\n",
       "      <th>calls_count</th>\n",
       "      <th>calls_duration</th>\n",
       "      <th>messages_count</th>\n",
       "      <th>mb_sum</th>\n",
       "      <th>tariff</th>\n",
       "    </tr>\n",
       "  </thead>\n",
       "  <tbody>\n",
       "    <tr>\n",
       "      <th>0</th>\n",
       "      <td>1000</td>\n",
       "      <td>5</td>\n",
       "      <td>22.0</td>\n",
       "      <td>159.0</td>\n",
       "      <td>22.0</td>\n",
       "      <td>2253.49</td>\n",
       "      <td>ultra</td>\n",
       "    </tr>\n",
       "    <tr>\n",
       "      <th>1</th>\n",
       "      <td>1000</td>\n",
       "      <td>6</td>\n",
       "      <td>43.0</td>\n",
       "      <td>172.0</td>\n",
       "      <td>60.0</td>\n",
       "      <td>23233.77</td>\n",
       "      <td>ultra</td>\n",
       "    </tr>\n",
       "    <tr>\n",
       "      <th>2</th>\n",
       "      <td>1000</td>\n",
       "      <td>7</td>\n",
       "      <td>47.0</td>\n",
       "      <td>340.0</td>\n",
       "      <td>75.0</td>\n",
       "      <td>14003.64</td>\n",
       "      <td>ultra</td>\n",
       "    </tr>\n",
       "    <tr>\n",
       "      <th>3</th>\n",
       "      <td>1000</td>\n",
       "      <td>8</td>\n",
       "      <td>52.0</td>\n",
       "      <td>408.0</td>\n",
       "      <td>81.0</td>\n",
       "      <td>14055.93</td>\n",
       "      <td>ultra</td>\n",
       "    </tr>\n",
       "    <tr>\n",
       "      <th>4</th>\n",
       "      <td>1000</td>\n",
       "      <td>9</td>\n",
       "      <td>58.0</td>\n",
       "      <td>466.0</td>\n",
       "      <td>57.0</td>\n",
       "      <td>14568.91</td>\n",
       "      <td>ultra</td>\n",
       "    </tr>\n",
       "  </tbody>\n",
       "</table>\n",
       "</div>"
      ],
      "text/plain": [
       "   user_id  month  calls_count  calls_duration  messages_count    mb_sum  \\\n",
       "0     1000      5         22.0           159.0            22.0   2253.49   \n",
       "1     1000      6         43.0           172.0            60.0  23233.77   \n",
       "2     1000      7         47.0           340.0            75.0  14003.64   \n",
       "3     1000      8         52.0           408.0            81.0  14055.93   \n",
       "4     1000      9         58.0           466.0            57.0  14568.91   \n",
       "\n",
       "  tariff  \n",
       "0  ultra  \n",
       "1  ultra  \n",
       "2  ultra  \n",
       "3  ultra  \n",
       "4  ultra  "
      ]
     },
     "execution_count": 246,
     "metadata": {},
     "output_type": "execute_result"
    }
   ],
   "source": [
    "full = pd.merge(full, users[['user_id','tariff']], how='left', on=['user_id'])\n",
    "full.head()"
   ]
  },
  {
   "cell_type": "markdown",
   "metadata": {},
   "source": [
    "добавим так же информацию о городе:"
   ]
  },
  {
   "cell_type": "code",
   "execution_count": 247,
   "metadata": {},
   "outputs": [
    {
     "data": {
      "text/html": [
       "<div>\n",
       "<style scoped>\n",
       "    .dataframe tbody tr th:only-of-type {\n",
       "        vertical-align: middle;\n",
       "    }\n",
       "\n",
       "    .dataframe tbody tr th {\n",
       "        vertical-align: top;\n",
       "    }\n",
       "\n",
       "    .dataframe thead th {\n",
       "        text-align: right;\n",
       "    }\n",
       "</style>\n",
       "<table border=\"1\" class=\"dataframe\">\n",
       "  <thead>\n",
       "    <tr style=\"text-align: right;\">\n",
       "      <th></th>\n",
       "      <th>user_id</th>\n",
       "      <th>month</th>\n",
       "      <th>calls_count</th>\n",
       "      <th>calls_duration</th>\n",
       "      <th>messages_count</th>\n",
       "      <th>mb_sum</th>\n",
       "      <th>tariff</th>\n",
       "      <th>city</th>\n",
       "    </tr>\n",
       "  </thead>\n",
       "  <tbody>\n",
       "    <tr>\n",
       "      <th>0</th>\n",
       "      <td>1000</td>\n",
       "      <td>5</td>\n",
       "      <td>22.0</td>\n",
       "      <td>159.0</td>\n",
       "      <td>22.0</td>\n",
       "      <td>2253.49</td>\n",
       "      <td>ultra</td>\n",
       "      <td>Краснодар</td>\n",
       "    </tr>\n",
       "    <tr>\n",
       "      <th>1</th>\n",
       "      <td>1000</td>\n",
       "      <td>6</td>\n",
       "      <td>43.0</td>\n",
       "      <td>172.0</td>\n",
       "      <td>60.0</td>\n",
       "      <td>23233.77</td>\n",
       "      <td>ultra</td>\n",
       "      <td>Краснодар</td>\n",
       "    </tr>\n",
       "    <tr>\n",
       "      <th>2</th>\n",
       "      <td>1000</td>\n",
       "      <td>7</td>\n",
       "      <td>47.0</td>\n",
       "      <td>340.0</td>\n",
       "      <td>75.0</td>\n",
       "      <td>14003.64</td>\n",
       "      <td>ultra</td>\n",
       "      <td>Краснодар</td>\n",
       "    </tr>\n",
       "    <tr>\n",
       "      <th>3</th>\n",
       "      <td>1000</td>\n",
       "      <td>8</td>\n",
       "      <td>52.0</td>\n",
       "      <td>408.0</td>\n",
       "      <td>81.0</td>\n",
       "      <td>14055.93</td>\n",
       "      <td>ultra</td>\n",
       "      <td>Краснодар</td>\n",
       "    </tr>\n",
       "    <tr>\n",
       "      <th>4</th>\n",
       "      <td>1000</td>\n",
       "      <td>9</td>\n",
       "      <td>58.0</td>\n",
       "      <td>466.0</td>\n",
       "      <td>57.0</td>\n",
       "      <td>14568.91</td>\n",
       "      <td>ultra</td>\n",
       "      <td>Краснодар</td>\n",
       "    </tr>\n",
       "  </tbody>\n",
       "</table>\n",
       "</div>"
      ],
      "text/plain": [
       "   user_id  month  calls_count  calls_duration  messages_count    mb_sum  \\\n",
       "0     1000      5         22.0           159.0            22.0   2253.49   \n",
       "1     1000      6         43.0           172.0            60.0  23233.77   \n",
       "2     1000      7         47.0           340.0            75.0  14003.64   \n",
       "3     1000      8         52.0           408.0            81.0  14055.93   \n",
       "4     1000      9         58.0           466.0            57.0  14568.91   \n",
       "\n",
       "  tariff       city  \n",
       "0  ultra  Краснодар  \n",
       "1  ultra  Краснодар  \n",
       "2  ultra  Краснодар  \n",
       "3  ultra  Краснодар  \n",
       "4  ultra  Краснодар  "
      ]
     },
     "execution_count": 247,
     "metadata": {},
     "output_type": "execute_result"
    }
   ],
   "source": [
    "full = full.merge(users[['user_id','city']], how='left', on = 'user_id')\n",
    "full.head()"
   ]
  },
  {
   "cell_type": "markdown",
   "metadata": {},
   "source": [
    "переименуем столбцы чтобы было удобно давить таблицу tariffs:"
   ]
  },
  {
   "cell_type": "code",
   "execution_count": 248,
   "metadata": {},
   "outputs": [],
   "source": [
    "full.rename(columns = {'tariff' : 'tariff_name'}, inplace = True)"
   ]
  },
  {
   "cell_type": "markdown",
   "metadata": {},
   "source": [
    "добавим таблицу tariffs:"
   ]
  },
  {
   "cell_type": "code",
   "execution_count": 249,
   "metadata": {},
   "outputs": [
    {
     "data": {
      "text/html": [
       "<div>\n",
       "<style scoped>\n",
       "    .dataframe tbody tr th:only-of-type {\n",
       "        vertical-align: middle;\n",
       "    }\n",
       "\n",
       "    .dataframe tbody tr th {\n",
       "        vertical-align: top;\n",
       "    }\n",
       "\n",
       "    .dataframe thead th {\n",
       "        text-align: right;\n",
       "    }\n",
       "</style>\n",
       "<table border=\"1\" class=\"dataframe\">\n",
       "  <thead>\n",
       "    <tr style=\"text-align: right;\">\n",
       "      <th></th>\n",
       "      <th>user_id</th>\n",
       "      <th>month</th>\n",
       "      <th>calls_count</th>\n",
       "      <th>calls_duration</th>\n",
       "      <th>messages_count</th>\n",
       "      <th>mb_sum</th>\n",
       "      <th>tariff_name</th>\n",
       "      <th>city</th>\n",
       "      <th>messages_included</th>\n",
       "      <th>mb_per_month_included</th>\n",
       "      <th>minutes_included</th>\n",
       "      <th>rub_monthly_fee</th>\n",
       "      <th>rub_per_gb</th>\n",
       "      <th>rub_per_message</th>\n",
       "      <th>rub_per_minute</th>\n",
       "    </tr>\n",
       "  </thead>\n",
       "  <tbody>\n",
       "    <tr>\n",
       "      <th>0</th>\n",
       "      <td>1000</td>\n",
       "      <td>5</td>\n",
       "      <td>22.0</td>\n",
       "      <td>159.0</td>\n",
       "      <td>22.0</td>\n",
       "      <td>2253.49</td>\n",
       "      <td>ultra</td>\n",
       "      <td>Краснодар</td>\n",
       "      <td>1000</td>\n",
       "      <td>30720</td>\n",
       "      <td>3000</td>\n",
       "      <td>1950</td>\n",
       "      <td>150</td>\n",
       "      <td>1</td>\n",
       "      <td>1</td>\n",
       "    </tr>\n",
       "    <tr>\n",
       "      <th>1</th>\n",
       "      <td>1000</td>\n",
       "      <td>6</td>\n",
       "      <td>43.0</td>\n",
       "      <td>172.0</td>\n",
       "      <td>60.0</td>\n",
       "      <td>23233.77</td>\n",
       "      <td>ultra</td>\n",
       "      <td>Краснодар</td>\n",
       "      <td>1000</td>\n",
       "      <td>30720</td>\n",
       "      <td>3000</td>\n",
       "      <td>1950</td>\n",
       "      <td>150</td>\n",
       "      <td>1</td>\n",
       "      <td>1</td>\n",
       "    </tr>\n",
       "    <tr>\n",
       "      <th>2</th>\n",
       "      <td>1000</td>\n",
       "      <td>7</td>\n",
       "      <td>47.0</td>\n",
       "      <td>340.0</td>\n",
       "      <td>75.0</td>\n",
       "      <td>14003.64</td>\n",
       "      <td>ultra</td>\n",
       "      <td>Краснодар</td>\n",
       "      <td>1000</td>\n",
       "      <td>30720</td>\n",
       "      <td>3000</td>\n",
       "      <td>1950</td>\n",
       "      <td>150</td>\n",
       "      <td>1</td>\n",
       "      <td>1</td>\n",
       "    </tr>\n",
       "    <tr>\n",
       "      <th>3</th>\n",
       "      <td>1000</td>\n",
       "      <td>8</td>\n",
       "      <td>52.0</td>\n",
       "      <td>408.0</td>\n",
       "      <td>81.0</td>\n",
       "      <td>14055.93</td>\n",
       "      <td>ultra</td>\n",
       "      <td>Краснодар</td>\n",
       "      <td>1000</td>\n",
       "      <td>30720</td>\n",
       "      <td>3000</td>\n",
       "      <td>1950</td>\n",
       "      <td>150</td>\n",
       "      <td>1</td>\n",
       "      <td>1</td>\n",
       "    </tr>\n",
       "    <tr>\n",
       "      <th>4</th>\n",
       "      <td>1000</td>\n",
       "      <td>9</td>\n",
       "      <td>58.0</td>\n",
       "      <td>466.0</td>\n",
       "      <td>57.0</td>\n",
       "      <td>14568.91</td>\n",
       "      <td>ultra</td>\n",
       "      <td>Краснодар</td>\n",
       "      <td>1000</td>\n",
       "      <td>30720</td>\n",
       "      <td>3000</td>\n",
       "      <td>1950</td>\n",
       "      <td>150</td>\n",
       "      <td>1</td>\n",
       "      <td>1</td>\n",
       "    </tr>\n",
       "    <tr>\n",
       "      <th>5</th>\n",
       "      <td>1000</td>\n",
       "      <td>10</td>\n",
       "      <td>57.0</td>\n",
       "      <td>350.0</td>\n",
       "      <td>73.0</td>\n",
       "      <td>14702.49</td>\n",
       "      <td>ultra</td>\n",
       "      <td>Краснодар</td>\n",
       "      <td>1000</td>\n",
       "      <td>30720</td>\n",
       "      <td>3000</td>\n",
       "      <td>1950</td>\n",
       "      <td>150</td>\n",
       "      <td>1</td>\n",
       "      <td>1</td>\n",
       "    </tr>\n",
       "    <tr>\n",
       "      <th>6</th>\n",
       "      <td>1000</td>\n",
       "      <td>11</td>\n",
       "      <td>43.0</td>\n",
       "      <td>338.0</td>\n",
       "      <td>58.0</td>\n",
       "      <td>14756.47</td>\n",
       "      <td>ultra</td>\n",
       "      <td>Краснодар</td>\n",
       "      <td>1000</td>\n",
       "      <td>30720</td>\n",
       "      <td>3000</td>\n",
       "      <td>1950</td>\n",
       "      <td>150</td>\n",
       "      <td>1</td>\n",
       "      <td>1</td>\n",
       "    </tr>\n",
       "    <tr>\n",
       "      <th>7</th>\n",
       "      <td>1000</td>\n",
       "      <td>12</td>\n",
       "      <td>46.0</td>\n",
       "      <td>333.0</td>\n",
       "      <td>70.0</td>\n",
       "      <td>9817.61</td>\n",
       "      <td>ultra</td>\n",
       "      <td>Краснодар</td>\n",
       "      <td>1000</td>\n",
       "      <td>30720</td>\n",
       "      <td>3000</td>\n",
       "      <td>1950</td>\n",
       "      <td>150</td>\n",
       "      <td>1</td>\n",
       "      <td>1</td>\n",
       "    </tr>\n",
       "    <tr>\n",
       "      <th>8</th>\n",
       "      <td>1001</td>\n",
       "      <td>11</td>\n",
       "      <td>59.0</td>\n",
       "      <td>430.0</td>\n",
       "      <td>NaN</td>\n",
       "      <td>18429.34</td>\n",
       "      <td>smart</td>\n",
       "      <td>Москва</td>\n",
       "      <td>50</td>\n",
       "      <td>15360</td>\n",
       "      <td>500</td>\n",
       "      <td>550</td>\n",
       "      <td>200</td>\n",
       "      <td>3</td>\n",
       "      <td>3</td>\n",
       "    </tr>\n",
       "    <tr>\n",
       "      <th>9</th>\n",
       "      <td>1001</td>\n",
       "      <td>12</td>\n",
       "      <td>63.0</td>\n",
       "      <td>414.0</td>\n",
       "      <td>NaN</td>\n",
       "      <td>14036.66</td>\n",
       "      <td>smart</td>\n",
       "      <td>Москва</td>\n",
       "      <td>50</td>\n",
       "      <td>15360</td>\n",
       "      <td>500</td>\n",
       "      <td>550</td>\n",
       "      <td>200</td>\n",
       "      <td>3</td>\n",
       "      <td>3</td>\n",
       "    </tr>\n",
       "    <tr>\n",
       "      <th>10</th>\n",
       "      <td>1002</td>\n",
       "      <td>6</td>\n",
       "      <td>15.0</td>\n",
       "      <td>117.0</td>\n",
       "      <td>4.0</td>\n",
       "      <td>10856.82</td>\n",
       "      <td>smart</td>\n",
       "      <td>Стерлитамак</td>\n",
       "      <td>50</td>\n",
       "      <td>15360</td>\n",
       "      <td>500</td>\n",
       "      <td>550</td>\n",
       "      <td>200</td>\n",
       "      <td>3</td>\n",
       "      <td>3</td>\n",
       "    </tr>\n",
       "    <tr>\n",
       "      <th>11</th>\n",
       "      <td>1002</td>\n",
       "      <td>7</td>\n",
       "      <td>26.0</td>\n",
       "      <td>214.0</td>\n",
       "      <td>11.0</td>\n",
       "      <td>17580.10</td>\n",
       "      <td>smart</td>\n",
       "      <td>Стерлитамак</td>\n",
       "      <td>50</td>\n",
       "      <td>15360</td>\n",
       "      <td>500</td>\n",
       "      <td>550</td>\n",
       "      <td>200</td>\n",
       "      <td>3</td>\n",
       "      <td>3</td>\n",
       "    </tr>\n",
       "    <tr>\n",
       "      <th>12</th>\n",
       "      <td>1002</td>\n",
       "      <td>8</td>\n",
       "      <td>42.0</td>\n",
       "      <td>289.0</td>\n",
       "      <td>13.0</td>\n",
       "      <td>20319.26</td>\n",
       "      <td>smart</td>\n",
       "      <td>Стерлитамак</td>\n",
       "      <td>50</td>\n",
       "      <td>15360</td>\n",
       "      <td>500</td>\n",
       "      <td>550</td>\n",
       "      <td>200</td>\n",
       "      <td>3</td>\n",
       "      <td>3</td>\n",
       "    </tr>\n",
       "    <tr>\n",
       "      <th>13</th>\n",
       "      <td>1002</td>\n",
       "      <td>9</td>\n",
       "      <td>36.0</td>\n",
       "      <td>206.0</td>\n",
       "      <td>4.0</td>\n",
       "      <td>16691.08</td>\n",
       "      <td>smart</td>\n",
       "      <td>Стерлитамак</td>\n",
       "      <td>50</td>\n",
       "      <td>15360</td>\n",
       "      <td>500</td>\n",
       "      <td>550</td>\n",
       "      <td>200</td>\n",
       "      <td>3</td>\n",
       "      <td>3</td>\n",
       "    </tr>\n",
       "    <tr>\n",
       "      <th>14</th>\n",
       "      <td>1002</td>\n",
       "      <td>10</td>\n",
       "      <td>33.0</td>\n",
       "      <td>212.0</td>\n",
       "      <td>10.0</td>\n",
       "      <td>13888.25</td>\n",
       "      <td>smart</td>\n",
       "      <td>Стерлитамак</td>\n",
       "      <td>50</td>\n",
       "      <td>15360</td>\n",
       "      <td>500</td>\n",
       "      <td>550</td>\n",
       "      <td>200</td>\n",
       "      <td>3</td>\n",
       "      <td>3</td>\n",
       "    </tr>\n",
       "    <tr>\n",
       "      <th>15</th>\n",
       "      <td>1002</td>\n",
       "      <td>11</td>\n",
       "      <td>32.0</td>\n",
       "      <td>243.0</td>\n",
       "      <td>16.0</td>\n",
       "      <td>18587.28</td>\n",
       "      <td>smart</td>\n",
       "      <td>Стерлитамак</td>\n",
       "      <td>50</td>\n",
       "      <td>15360</td>\n",
       "      <td>500</td>\n",
       "      <td>550</td>\n",
       "      <td>200</td>\n",
       "      <td>3</td>\n",
       "      <td>3</td>\n",
       "    </tr>\n",
       "    <tr>\n",
       "      <th>16</th>\n",
       "      <td>1002</td>\n",
       "      <td>12</td>\n",
       "      <td>33.0</td>\n",
       "      <td>236.0</td>\n",
       "      <td>12.0</td>\n",
       "      <td>18113.73</td>\n",
       "      <td>smart</td>\n",
       "      <td>Стерлитамак</td>\n",
       "      <td>50</td>\n",
       "      <td>15360</td>\n",
       "      <td>500</td>\n",
       "      <td>550</td>\n",
       "      <td>200</td>\n",
       "      <td>3</td>\n",
       "      <td>3</td>\n",
       "    </tr>\n",
       "    <tr>\n",
       "      <th>17</th>\n",
       "      <td>1003</td>\n",
       "      <td>8</td>\n",
       "      <td>55.0</td>\n",
       "      <td>380.0</td>\n",
       "      <td>37.0</td>\n",
       "      <td>8565.21</td>\n",
       "      <td>ultra</td>\n",
       "      <td>Москва</td>\n",
       "      <td>1000</td>\n",
       "      <td>30720</td>\n",
       "      <td>3000</td>\n",
       "      <td>1950</td>\n",
       "      <td>150</td>\n",
       "      <td>1</td>\n",
       "      <td>1</td>\n",
       "    </tr>\n",
       "    <tr>\n",
       "      <th>18</th>\n",
       "      <td>1003</td>\n",
       "      <td>9</td>\n",
       "      <td>134.0</td>\n",
       "      <td>961.0</td>\n",
       "      <td>91.0</td>\n",
       "      <td>12468.87</td>\n",
       "      <td>ultra</td>\n",
       "      <td>Москва</td>\n",
       "      <td>1000</td>\n",
       "      <td>30720</td>\n",
       "      <td>3000</td>\n",
       "      <td>1950</td>\n",
       "      <td>150</td>\n",
       "      <td>1</td>\n",
       "      <td>1</td>\n",
       "    </tr>\n",
       "    <tr>\n",
       "      <th>19</th>\n",
       "      <td>1003</td>\n",
       "      <td>10</td>\n",
       "      <td>108.0</td>\n",
       "      <td>855.0</td>\n",
       "      <td>83.0</td>\n",
       "      <td>14768.14</td>\n",
       "      <td>ultra</td>\n",
       "      <td>Москва</td>\n",
       "      <td>1000</td>\n",
       "      <td>30720</td>\n",
       "      <td>3000</td>\n",
       "      <td>1950</td>\n",
       "      <td>150</td>\n",
       "      <td>1</td>\n",
       "      <td>1</td>\n",
       "    </tr>\n",
       "  </tbody>\n",
       "</table>\n",
       "</div>"
      ],
      "text/plain": [
       "    user_id  month  calls_count  calls_duration  messages_count    mb_sum  \\\n",
       "0      1000      5         22.0           159.0            22.0   2253.49   \n",
       "1      1000      6         43.0           172.0            60.0  23233.77   \n",
       "2      1000      7         47.0           340.0            75.0  14003.64   \n",
       "3      1000      8         52.0           408.0            81.0  14055.93   \n",
       "4      1000      9         58.0           466.0            57.0  14568.91   \n",
       "5      1000     10         57.0           350.0            73.0  14702.49   \n",
       "6      1000     11         43.0           338.0            58.0  14756.47   \n",
       "7      1000     12         46.0           333.0            70.0   9817.61   \n",
       "8      1001     11         59.0           430.0             NaN  18429.34   \n",
       "9      1001     12         63.0           414.0             NaN  14036.66   \n",
       "10     1002      6         15.0           117.0             4.0  10856.82   \n",
       "11     1002      7         26.0           214.0            11.0  17580.10   \n",
       "12     1002      8         42.0           289.0            13.0  20319.26   \n",
       "13     1002      9         36.0           206.0             4.0  16691.08   \n",
       "14     1002     10         33.0           212.0            10.0  13888.25   \n",
       "15     1002     11         32.0           243.0            16.0  18587.28   \n",
       "16     1002     12         33.0           236.0            12.0  18113.73   \n",
       "17     1003      8         55.0           380.0            37.0   8565.21   \n",
       "18     1003      9        134.0           961.0            91.0  12468.87   \n",
       "19     1003     10        108.0           855.0            83.0  14768.14   \n",
       "\n",
       "   tariff_name         city  messages_included  mb_per_month_included  \\\n",
       "0        ultra    Краснодар               1000                  30720   \n",
       "1        ultra    Краснодар               1000                  30720   \n",
       "2        ultra    Краснодар               1000                  30720   \n",
       "3        ultra    Краснодар               1000                  30720   \n",
       "4        ultra    Краснодар               1000                  30720   \n",
       "5        ultra    Краснодар               1000                  30720   \n",
       "6        ultra    Краснодар               1000                  30720   \n",
       "7        ultra    Краснодар               1000                  30720   \n",
       "8        smart       Москва                 50                  15360   \n",
       "9        smart       Москва                 50                  15360   \n",
       "10       smart  Стерлитамак                 50                  15360   \n",
       "11       smart  Стерлитамак                 50                  15360   \n",
       "12       smart  Стерлитамак                 50                  15360   \n",
       "13       smart  Стерлитамак                 50                  15360   \n",
       "14       smart  Стерлитамак                 50                  15360   \n",
       "15       smart  Стерлитамак                 50                  15360   \n",
       "16       smart  Стерлитамак                 50                  15360   \n",
       "17       ultra       Москва               1000                  30720   \n",
       "18       ultra       Москва               1000                  30720   \n",
       "19       ultra       Москва               1000                  30720   \n",
       "\n",
       "    minutes_included  rub_monthly_fee  rub_per_gb  rub_per_message  \\\n",
       "0               3000             1950         150                1   \n",
       "1               3000             1950         150                1   \n",
       "2               3000             1950         150                1   \n",
       "3               3000             1950         150                1   \n",
       "4               3000             1950         150                1   \n",
       "5               3000             1950         150                1   \n",
       "6               3000             1950         150                1   \n",
       "7               3000             1950         150                1   \n",
       "8                500              550         200                3   \n",
       "9                500              550         200                3   \n",
       "10               500              550         200                3   \n",
       "11               500              550         200                3   \n",
       "12               500              550         200                3   \n",
       "13               500              550         200                3   \n",
       "14               500              550         200                3   \n",
       "15               500              550         200                3   \n",
       "16               500              550         200                3   \n",
       "17              3000             1950         150                1   \n",
       "18              3000             1950         150                1   \n",
       "19              3000             1950         150                1   \n",
       "\n",
       "    rub_per_minute  \n",
       "0                1  \n",
       "1                1  \n",
       "2                1  \n",
       "3                1  \n",
       "4                1  \n",
       "5                1  \n",
       "6                1  \n",
       "7                1  \n",
       "8                3  \n",
       "9                3  \n",
       "10               3  \n",
       "11               3  \n",
       "12               3  \n",
       "13               3  \n",
       "14               3  \n",
       "15               3  \n",
       "16               3  \n",
       "17               1  \n",
       "18               1  \n",
       "19               1  "
      ]
     },
     "execution_count": 249,
     "metadata": {},
     "output_type": "execute_result"
    }
   ],
   "source": [
    "full=full.merge(tariffs, how='left', on = 'tariff_name')\n",
    "full.head(20)"
   ]
  },
  {
   "cell_type": "code",
   "execution_count": 250,
   "metadata": {},
   "outputs": [
    {
     "name": "stdout",
     "output_type": "stream",
     "text": [
      "<class 'pandas.core.frame.DataFrame'>\n",
      "Int64Index: 3214 entries, 0 to 3213\n",
      "Data columns (total 15 columns):\n",
      " #   Column                 Non-Null Count  Dtype  \n",
      "---  ------                 --------------  -----  \n",
      " 0   user_id                3214 non-null   int64  \n",
      " 1   month                  3214 non-null   int64  \n",
      " 2   calls_count            3174 non-null   float64\n",
      " 3   calls_duration         3174 non-null   float64\n",
      " 4   messages_count         2717 non-null   float64\n",
      " 5   mb_sum                 3203 non-null   float64\n",
      " 6   tariff_name            3214 non-null   object \n",
      " 7   city                   3214 non-null   object \n",
      " 8   messages_included      3214 non-null   int64  \n",
      " 9   mb_per_month_included  3214 non-null   int64  \n",
      " 10  minutes_included       3214 non-null   int64  \n",
      " 11  rub_monthly_fee        3214 non-null   int64  \n",
      " 12  rub_per_gb             3214 non-null   int64  \n",
      " 13  rub_per_message        3214 non-null   int64  \n",
      " 14  rub_per_minute         3214 non-null   int64  \n",
      "dtypes: float64(4), int64(9), object(2)\n",
      "memory usage: 401.8+ KB\n"
     ]
    }
   ],
   "source": [
    "full.info()"
   ]
  },
  {
   "cell_type": "code",
   "execution_count": 251,
   "metadata": {},
   "outputs": [
    {
     "data": {
      "text/plain": [
       "user_id                    0\n",
       "month                      0\n",
       "calls_count               40\n",
       "calls_duration            40\n",
       "messages_count           497\n",
       "mb_sum                    11\n",
       "tariff_name                0\n",
       "city                       0\n",
       "messages_included          0\n",
       "mb_per_month_included      0\n",
       "minutes_included           0\n",
       "rub_monthly_fee            0\n",
       "rub_per_gb                 0\n",
       "rub_per_message            0\n",
       "rub_per_minute             0\n",
       "dtype: int64"
      ]
     },
     "execution_count": 251,
     "metadata": {},
     "output_type": "execute_result"
    }
   ],
   "source": [
    "full.isna().sum()"
   ]
  },
  {
   "cell_type": "markdown",
   "metadata": {},
   "source": [
    "Напишем функцию которая будет считать помесячную выручку за звонки, взависимости от Тарифа количество минут разговора в месяц, включённых в абонентскую плату равно либо 500, либо 3000. Если количество минут выходит за рамки установленные тарифом каждая минута стоит либо 3 либо 1 рубль."
   ]
  },
  {
   "cell_type": "code",
   "execution_count": 252,
   "metadata": {},
   "outputs": [],
   "source": [
    "def monthly_call_revenue(row):\n",
    "    call_revenue=0  \n",
    "    call_revenue=row['calls_duration']-row['minutes_included']  \n",
    "    #если разница между минутами которые использовали и минутами которые включены в абонентскую плату больше нуля то каждая минута умножается на 1 или на 3\n",
    "    if call_revenue>0:\n",
    "            return call_revenue*row['rub_per_minute']\n",
    "    #если больше нуля то стоимость равна 0, стоимость абонентской платы добавим позже\n",
    "    else:\n",
    "        call_revenue=0\n",
    "        return call_revenue\n",
    "    \n",
    "    "
   ]
  },
  {
   "cell_type": "code",
   "execution_count": 253,
   "metadata": {
    "scrolled": true
   },
   "outputs": [
    {
     "data": {
      "text/html": [
       "<div>\n",
       "<style scoped>\n",
       "    .dataframe tbody tr th:only-of-type {\n",
       "        vertical-align: middle;\n",
       "    }\n",
       "\n",
       "    .dataframe tbody tr th {\n",
       "        vertical-align: top;\n",
       "    }\n",
       "\n",
       "    .dataframe thead th {\n",
       "        text-align: right;\n",
       "    }\n",
       "</style>\n",
       "<table border=\"1\" class=\"dataframe\">\n",
       "  <thead>\n",
       "    <tr style=\"text-align: right;\">\n",
       "      <th></th>\n",
       "      <th>user_id</th>\n",
       "      <th>month</th>\n",
       "      <th>calls_count</th>\n",
       "      <th>calls_duration</th>\n",
       "      <th>messages_count</th>\n",
       "      <th>mb_sum</th>\n",
       "      <th>tariff_name</th>\n",
       "      <th>city</th>\n",
       "      <th>messages_included</th>\n",
       "      <th>mb_per_month_included</th>\n",
       "      <th>minutes_included</th>\n",
       "      <th>rub_monthly_fee</th>\n",
       "      <th>rub_per_gb</th>\n",
       "      <th>rub_per_message</th>\n",
       "      <th>rub_per_minute</th>\n",
       "      <th>call_revenue</th>\n",
       "    </tr>\n",
       "  </thead>\n",
       "  <tbody>\n",
       "    <tr>\n",
       "      <th>0</th>\n",
       "      <td>1000</td>\n",
       "      <td>5</td>\n",
       "      <td>22.0</td>\n",
       "      <td>159.0</td>\n",
       "      <td>22.0</td>\n",
       "      <td>2253.49</td>\n",
       "      <td>ultra</td>\n",
       "      <td>Краснодар</td>\n",
       "      <td>1000</td>\n",
       "      <td>30720</td>\n",
       "      <td>3000</td>\n",
       "      <td>1950</td>\n",
       "      <td>150</td>\n",
       "      <td>1</td>\n",
       "      <td>1</td>\n",
       "      <td>0.0</td>\n",
       "    </tr>\n",
       "    <tr>\n",
       "      <th>1</th>\n",
       "      <td>1000</td>\n",
       "      <td>6</td>\n",
       "      <td>43.0</td>\n",
       "      <td>172.0</td>\n",
       "      <td>60.0</td>\n",
       "      <td>23233.77</td>\n",
       "      <td>ultra</td>\n",
       "      <td>Краснодар</td>\n",
       "      <td>1000</td>\n",
       "      <td>30720</td>\n",
       "      <td>3000</td>\n",
       "      <td>1950</td>\n",
       "      <td>150</td>\n",
       "      <td>1</td>\n",
       "      <td>1</td>\n",
       "      <td>0.0</td>\n",
       "    </tr>\n",
       "    <tr>\n",
       "      <th>2</th>\n",
       "      <td>1000</td>\n",
       "      <td>7</td>\n",
       "      <td>47.0</td>\n",
       "      <td>340.0</td>\n",
       "      <td>75.0</td>\n",
       "      <td>14003.64</td>\n",
       "      <td>ultra</td>\n",
       "      <td>Краснодар</td>\n",
       "      <td>1000</td>\n",
       "      <td>30720</td>\n",
       "      <td>3000</td>\n",
       "      <td>1950</td>\n",
       "      <td>150</td>\n",
       "      <td>1</td>\n",
       "      <td>1</td>\n",
       "      <td>0.0</td>\n",
       "    </tr>\n",
       "    <tr>\n",
       "      <th>3</th>\n",
       "      <td>1000</td>\n",
       "      <td>8</td>\n",
       "      <td>52.0</td>\n",
       "      <td>408.0</td>\n",
       "      <td>81.0</td>\n",
       "      <td>14055.93</td>\n",
       "      <td>ultra</td>\n",
       "      <td>Краснодар</td>\n",
       "      <td>1000</td>\n",
       "      <td>30720</td>\n",
       "      <td>3000</td>\n",
       "      <td>1950</td>\n",
       "      <td>150</td>\n",
       "      <td>1</td>\n",
       "      <td>1</td>\n",
       "      <td>0.0</td>\n",
       "    </tr>\n",
       "    <tr>\n",
       "      <th>4</th>\n",
       "      <td>1000</td>\n",
       "      <td>9</td>\n",
       "      <td>58.0</td>\n",
       "      <td>466.0</td>\n",
       "      <td>57.0</td>\n",
       "      <td>14568.91</td>\n",
       "      <td>ultra</td>\n",
       "      <td>Краснодар</td>\n",
       "      <td>1000</td>\n",
       "      <td>30720</td>\n",
       "      <td>3000</td>\n",
       "      <td>1950</td>\n",
       "      <td>150</td>\n",
       "      <td>1</td>\n",
       "      <td>1</td>\n",
       "      <td>0.0</td>\n",
       "    </tr>\n",
       "    <tr>\n",
       "      <th>5</th>\n",
       "      <td>1000</td>\n",
       "      <td>10</td>\n",
       "      <td>57.0</td>\n",
       "      <td>350.0</td>\n",
       "      <td>73.0</td>\n",
       "      <td>14702.49</td>\n",
       "      <td>ultra</td>\n",
       "      <td>Краснодар</td>\n",
       "      <td>1000</td>\n",
       "      <td>30720</td>\n",
       "      <td>3000</td>\n",
       "      <td>1950</td>\n",
       "      <td>150</td>\n",
       "      <td>1</td>\n",
       "      <td>1</td>\n",
       "      <td>0.0</td>\n",
       "    </tr>\n",
       "    <tr>\n",
       "      <th>6</th>\n",
       "      <td>1000</td>\n",
       "      <td>11</td>\n",
       "      <td>43.0</td>\n",
       "      <td>338.0</td>\n",
       "      <td>58.0</td>\n",
       "      <td>14756.47</td>\n",
       "      <td>ultra</td>\n",
       "      <td>Краснодар</td>\n",
       "      <td>1000</td>\n",
       "      <td>30720</td>\n",
       "      <td>3000</td>\n",
       "      <td>1950</td>\n",
       "      <td>150</td>\n",
       "      <td>1</td>\n",
       "      <td>1</td>\n",
       "      <td>0.0</td>\n",
       "    </tr>\n",
       "    <tr>\n",
       "      <th>7</th>\n",
       "      <td>1000</td>\n",
       "      <td>12</td>\n",
       "      <td>46.0</td>\n",
       "      <td>333.0</td>\n",
       "      <td>70.0</td>\n",
       "      <td>9817.61</td>\n",
       "      <td>ultra</td>\n",
       "      <td>Краснодар</td>\n",
       "      <td>1000</td>\n",
       "      <td>30720</td>\n",
       "      <td>3000</td>\n",
       "      <td>1950</td>\n",
       "      <td>150</td>\n",
       "      <td>1</td>\n",
       "      <td>1</td>\n",
       "      <td>0.0</td>\n",
       "    </tr>\n",
       "    <tr>\n",
       "      <th>8</th>\n",
       "      <td>1001</td>\n",
       "      <td>11</td>\n",
       "      <td>59.0</td>\n",
       "      <td>430.0</td>\n",
       "      <td>NaN</td>\n",
       "      <td>18429.34</td>\n",
       "      <td>smart</td>\n",
       "      <td>Москва</td>\n",
       "      <td>50</td>\n",
       "      <td>15360</td>\n",
       "      <td>500</td>\n",
       "      <td>550</td>\n",
       "      <td>200</td>\n",
       "      <td>3</td>\n",
       "      <td>3</td>\n",
       "      <td>0.0</td>\n",
       "    </tr>\n",
       "    <tr>\n",
       "      <th>9</th>\n",
       "      <td>1001</td>\n",
       "      <td>12</td>\n",
       "      <td>63.0</td>\n",
       "      <td>414.0</td>\n",
       "      <td>NaN</td>\n",
       "      <td>14036.66</td>\n",
       "      <td>smart</td>\n",
       "      <td>Москва</td>\n",
       "      <td>50</td>\n",
       "      <td>15360</td>\n",
       "      <td>500</td>\n",
       "      <td>550</td>\n",
       "      <td>200</td>\n",
       "      <td>3</td>\n",
       "      <td>3</td>\n",
       "      <td>0.0</td>\n",
       "    </tr>\n",
       "  </tbody>\n",
       "</table>\n",
       "</div>"
      ],
      "text/plain": [
       "   user_id  month  calls_count  calls_duration  messages_count    mb_sum  \\\n",
       "0     1000      5         22.0           159.0            22.0   2253.49   \n",
       "1     1000      6         43.0           172.0            60.0  23233.77   \n",
       "2     1000      7         47.0           340.0            75.0  14003.64   \n",
       "3     1000      8         52.0           408.0            81.0  14055.93   \n",
       "4     1000      9         58.0           466.0            57.0  14568.91   \n",
       "5     1000     10         57.0           350.0            73.0  14702.49   \n",
       "6     1000     11         43.0           338.0            58.0  14756.47   \n",
       "7     1000     12         46.0           333.0            70.0   9817.61   \n",
       "8     1001     11         59.0           430.0             NaN  18429.34   \n",
       "9     1001     12         63.0           414.0             NaN  14036.66   \n",
       "\n",
       "  tariff_name       city  messages_included  mb_per_month_included  \\\n",
       "0       ultra  Краснодар               1000                  30720   \n",
       "1       ultra  Краснодар               1000                  30720   \n",
       "2       ultra  Краснодар               1000                  30720   \n",
       "3       ultra  Краснодар               1000                  30720   \n",
       "4       ultra  Краснодар               1000                  30720   \n",
       "5       ultra  Краснодар               1000                  30720   \n",
       "6       ultra  Краснодар               1000                  30720   \n",
       "7       ultra  Краснодар               1000                  30720   \n",
       "8       smart     Москва                 50                  15360   \n",
       "9       smart     Москва                 50                  15360   \n",
       "\n",
       "   minutes_included  rub_monthly_fee  rub_per_gb  rub_per_message  \\\n",
       "0              3000             1950         150                1   \n",
       "1              3000             1950         150                1   \n",
       "2              3000             1950         150                1   \n",
       "3              3000             1950         150                1   \n",
       "4              3000             1950         150                1   \n",
       "5              3000             1950         150                1   \n",
       "6              3000             1950         150                1   \n",
       "7              3000             1950         150                1   \n",
       "8               500              550         200                3   \n",
       "9               500              550         200                3   \n",
       "\n",
       "   rub_per_minute  call_revenue  \n",
       "0               1           0.0  \n",
       "1               1           0.0  \n",
       "2               1           0.0  \n",
       "3               1           0.0  \n",
       "4               1           0.0  \n",
       "5               1           0.0  \n",
       "6               1           0.0  \n",
       "7               1           0.0  \n",
       "8               3           0.0  \n",
       "9               3           0.0  "
      ]
     },
     "execution_count": 253,
     "metadata": {},
     "output_type": "execute_result"
    }
   ],
   "source": [
    "full['call_revenue'] = full.apply(monthly_call_revenue, axis=1)\n",
    "full.head(10)"
   ]
  },
  {
   "cell_type": "code",
   "execution_count": 254,
   "metadata": {
    "scrolled": true
   },
   "outputs": [
    {
     "data": {
      "text/plain": [
       "0.0       2460\n",
       "96.0         9\n",
       "45.0         7\n",
       "183.0        7\n",
       "132.0        7\n",
       "          ... \n",
       "1083.0       1\n",
       "423.0        1\n",
       "1215.0       1\n",
       "1362.0       1\n",
       "414.0        1\n",
       "Name: call_revenue, Length: 291, dtype: int64"
      ]
     },
     "execution_count": 254,
     "metadata": {},
     "output_type": "execute_result"
    }
   ],
   "source": [
    "(full['call_revenue']).value_counts()"
   ]
  },
  {
   "cell_type": "markdown",
   "metadata": {},
   "source": [
    "теперь аналогично рассчитаем функцию для помесячной выручки за сообщения"
   ]
  },
  {
   "cell_type": "code",
   "execution_count": 255,
   "metadata": {},
   "outputs": [],
   "source": [
    "def monthly_message_revenue(row):\n",
    "    message_revenue=0\n",
    "    message_revenue=row['messages_count']-row['messages_included']\n",
    "    if message_revenue>0: \n",
    "                 return message_revenue*row['rub_per_message']\n",
    "    #если больше нуля то стоимость равна 0, стоимость абонентской платы добавим позже\n",
    "    else:\n",
    "        message_revenue=0\n",
    "        return message_revenue"
   ]
  },
  {
   "cell_type": "code",
   "execution_count": 256,
   "metadata": {
    "scrolled": true
   },
   "outputs": [
    {
     "data": {
      "text/html": [
       "<div>\n",
       "<style scoped>\n",
       "    .dataframe tbody tr th:only-of-type {\n",
       "        vertical-align: middle;\n",
       "    }\n",
       "\n",
       "    .dataframe tbody tr th {\n",
       "        vertical-align: top;\n",
       "    }\n",
       "\n",
       "    .dataframe thead th {\n",
       "        text-align: right;\n",
       "    }\n",
       "</style>\n",
       "<table border=\"1\" class=\"dataframe\">\n",
       "  <thead>\n",
       "    <tr style=\"text-align: right;\">\n",
       "      <th></th>\n",
       "      <th>user_id</th>\n",
       "      <th>month</th>\n",
       "      <th>calls_count</th>\n",
       "      <th>calls_duration</th>\n",
       "      <th>messages_count</th>\n",
       "      <th>mb_sum</th>\n",
       "      <th>tariff_name</th>\n",
       "      <th>city</th>\n",
       "      <th>messages_included</th>\n",
       "      <th>mb_per_month_included</th>\n",
       "      <th>minutes_included</th>\n",
       "      <th>rub_monthly_fee</th>\n",
       "      <th>rub_per_gb</th>\n",
       "      <th>rub_per_message</th>\n",
       "      <th>rub_per_minute</th>\n",
       "      <th>call_revenue</th>\n",
       "      <th>message_revenue</th>\n",
       "    </tr>\n",
       "  </thead>\n",
       "  <tbody>\n",
       "    <tr>\n",
       "      <th>0</th>\n",
       "      <td>1000</td>\n",
       "      <td>5</td>\n",
       "      <td>22.0</td>\n",
       "      <td>159.0</td>\n",
       "      <td>22.0</td>\n",
       "      <td>2253.49</td>\n",
       "      <td>ultra</td>\n",
       "      <td>Краснодар</td>\n",
       "      <td>1000</td>\n",
       "      <td>30720</td>\n",
       "      <td>3000</td>\n",
       "      <td>1950</td>\n",
       "      <td>150</td>\n",
       "      <td>1</td>\n",
       "      <td>1</td>\n",
       "      <td>0.0</td>\n",
       "      <td>0.0</td>\n",
       "    </tr>\n",
       "    <tr>\n",
       "      <th>1</th>\n",
       "      <td>1000</td>\n",
       "      <td>6</td>\n",
       "      <td>43.0</td>\n",
       "      <td>172.0</td>\n",
       "      <td>60.0</td>\n",
       "      <td>23233.77</td>\n",
       "      <td>ultra</td>\n",
       "      <td>Краснодар</td>\n",
       "      <td>1000</td>\n",
       "      <td>30720</td>\n",
       "      <td>3000</td>\n",
       "      <td>1950</td>\n",
       "      <td>150</td>\n",
       "      <td>1</td>\n",
       "      <td>1</td>\n",
       "      <td>0.0</td>\n",
       "      <td>0.0</td>\n",
       "    </tr>\n",
       "    <tr>\n",
       "      <th>2</th>\n",
       "      <td>1000</td>\n",
       "      <td>7</td>\n",
       "      <td>47.0</td>\n",
       "      <td>340.0</td>\n",
       "      <td>75.0</td>\n",
       "      <td>14003.64</td>\n",
       "      <td>ultra</td>\n",
       "      <td>Краснодар</td>\n",
       "      <td>1000</td>\n",
       "      <td>30720</td>\n",
       "      <td>3000</td>\n",
       "      <td>1950</td>\n",
       "      <td>150</td>\n",
       "      <td>1</td>\n",
       "      <td>1</td>\n",
       "      <td>0.0</td>\n",
       "      <td>0.0</td>\n",
       "    </tr>\n",
       "    <tr>\n",
       "      <th>3</th>\n",
       "      <td>1000</td>\n",
       "      <td>8</td>\n",
       "      <td>52.0</td>\n",
       "      <td>408.0</td>\n",
       "      <td>81.0</td>\n",
       "      <td>14055.93</td>\n",
       "      <td>ultra</td>\n",
       "      <td>Краснодар</td>\n",
       "      <td>1000</td>\n",
       "      <td>30720</td>\n",
       "      <td>3000</td>\n",
       "      <td>1950</td>\n",
       "      <td>150</td>\n",
       "      <td>1</td>\n",
       "      <td>1</td>\n",
       "      <td>0.0</td>\n",
       "      <td>0.0</td>\n",
       "    </tr>\n",
       "    <tr>\n",
       "      <th>4</th>\n",
       "      <td>1000</td>\n",
       "      <td>9</td>\n",
       "      <td>58.0</td>\n",
       "      <td>466.0</td>\n",
       "      <td>57.0</td>\n",
       "      <td>14568.91</td>\n",
       "      <td>ultra</td>\n",
       "      <td>Краснодар</td>\n",
       "      <td>1000</td>\n",
       "      <td>30720</td>\n",
       "      <td>3000</td>\n",
       "      <td>1950</td>\n",
       "      <td>150</td>\n",
       "      <td>1</td>\n",
       "      <td>1</td>\n",
       "      <td>0.0</td>\n",
       "      <td>0.0</td>\n",
       "    </tr>\n",
       "    <tr>\n",
       "      <th>5</th>\n",
       "      <td>1000</td>\n",
       "      <td>10</td>\n",
       "      <td>57.0</td>\n",
       "      <td>350.0</td>\n",
       "      <td>73.0</td>\n",
       "      <td>14702.49</td>\n",
       "      <td>ultra</td>\n",
       "      <td>Краснодар</td>\n",
       "      <td>1000</td>\n",
       "      <td>30720</td>\n",
       "      <td>3000</td>\n",
       "      <td>1950</td>\n",
       "      <td>150</td>\n",
       "      <td>1</td>\n",
       "      <td>1</td>\n",
       "      <td>0.0</td>\n",
       "      <td>0.0</td>\n",
       "    </tr>\n",
       "    <tr>\n",
       "      <th>6</th>\n",
       "      <td>1000</td>\n",
       "      <td>11</td>\n",
       "      <td>43.0</td>\n",
       "      <td>338.0</td>\n",
       "      <td>58.0</td>\n",
       "      <td>14756.47</td>\n",
       "      <td>ultra</td>\n",
       "      <td>Краснодар</td>\n",
       "      <td>1000</td>\n",
       "      <td>30720</td>\n",
       "      <td>3000</td>\n",
       "      <td>1950</td>\n",
       "      <td>150</td>\n",
       "      <td>1</td>\n",
       "      <td>1</td>\n",
       "      <td>0.0</td>\n",
       "      <td>0.0</td>\n",
       "    </tr>\n",
       "    <tr>\n",
       "      <th>7</th>\n",
       "      <td>1000</td>\n",
       "      <td>12</td>\n",
       "      <td>46.0</td>\n",
       "      <td>333.0</td>\n",
       "      <td>70.0</td>\n",
       "      <td>9817.61</td>\n",
       "      <td>ultra</td>\n",
       "      <td>Краснодар</td>\n",
       "      <td>1000</td>\n",
       "      <td>30720</td>\n",
       "      <td>3000</td>\n",
       "      <td>1950</td>\n",
       "      <td>150</td>\n",
       "      <td>1</td>\n",
       "      <td>1</td>\n",
       "      <td>0.0</td>\n",
       "      <td>0.0</td>\n",
       "    </tr>\n",
       "    <tr>\n",
       "      <th>8</th>\n",
       "      <td>1001</td>\n",
       "      <td>11</td>\n",
       "      <td>59.0</td>\n",
       "      <td>430.0</td>\n",
       "      <td>NaN</td>\n",
       "      <td>18429.34</td>\n",
       "      <td>smart</td>\n",
       "      <td>Москва</td>\n",
       "      <td>50</td>\n",
       "      <td>15360</td>\n",
       "      <td>500</td>\n",
       "      <td>550</td>\n",
       "      <td>200</td>\n",
       "      <td>3</td>\n",
       "      <td>3</td>\n",
       "      <td>0.0</td>\n",
       "      <td>0.0</td>\n",
       "    </tr>\n",
       "    <tr>\n",
       "      <th>9</th>\n",
       "      <td>1001</td>\n",
       "      <td>12</td>\n",
       "      <td>63.0</td>\n",
       "      <td>414.0</td>\n",
       "      <td>NaN</td>\n",
       "      <td>14036.66</td>\n",
       "      <td>smart</td>\n",
       "      <td>Москва</td>\n",
       "      <td>50</td>\n",
       "      <td>15360</td>\n",
       "      <td>500</td>\n",
       "      <td>550</td>\n",
       "      <td>200</td>\n",
       "      <td>3</td>\n",
       "      <td>3</td>\n",
       "      <td>0.0</td>\n",
       "      <td>0.0</td>\n",
       "    </tr>\n",
       "    <tr>\n",
       "      <th>10</th>\n",
       "      <td>1002</td>\n",
       "      <td>6</td>\n",
       "      <td>15.0</td>\n",
       "      <td>117.0</td>\n",
       "      <td>4.0</td>\n",
       "      <td>10856.82</td>\n",
       "      <td>smart</td>\n",
       "      <td>Стерлитамак</td>\n",
       "      <td>50</td>\n",
       "      <td>15360</td>\n",
       "      <td>500</td>\n",
       "      <td>550</td>\n",
       "      <td>200</td>\n",
       "      <td>3</td>\n",
       "      <td>3</td>\n",
       "      <td>0.0</td>\n",
       "      <td>0.0</td>\n",
       "    </tr>\n",
       "    <tr>\n",
       "      <th>11</th>\n",
       "      <td>1002</td>\n",
       "      <td>7</td>\n",
       "      <td>26.0</td>\n",
       "      <td>214.0</td>\n",
       "      <td>11.0</td>\n",
       "      <td>17580.10</td>\n",
       "      <td>smart</td>\n",
       "      <td>Стерлитамак</td>\n",
       "      <td>50</td>\n",
       "      <td>15360</td>\n",
       "      <td>500</td>\n",
       "      <td>550</td>\n",
       "      <td>200</td>\n",
       "      <td>3</td>\n",
       "      <td>3</td>\n",
       "      <td>0.0</td>\n",
       "      <td>0.0</td>\n",
       "    </tr>\n",
       "    <tr>\n",
       "      <th>12</th>\n",
       "      <td>1002</td>\n",
       "      <td>8</td>\n",
       "      <td>42.0</td>\n",
       "      <td>289.0</td>\n",
       "      <td>13.0</td>\n",
       "      <td>20319.26</td>\n",
       "      <td>smart</td>\n",
       "      <td>Стерлитамак</td>\n",
       "      <td>50</td>\n",
       "      <td>15360</td>\n",
       "      <td>500</td>\n",
       "      <td>550</td>\n",
       "      <td>200</td>\n",
       "      <td>3</td>\n",
       "      <td>3</td>\n",
       "      <td>0.0</td>\n",
       "      <td>0.0</td>\n",
       "    </tr>\n",
       "    <tr>\n",
       "      <th>13</th>\n",
       "      <td>1002</td>\n",
       "      <td>9</td>\n",
       "      <td>36.0</td>\n",
       "      <td>206.0</td>\n",
       "      <td>4.0</td>\n",
       "      <td>16691.08</td>\n",
       "      <td>smart</td>\n",
       "      <td>Стерлитамак</td>\n",
       "      <td>50</td>\n",
       "      <td>15360</td>\n",
       "      <td>500</td>\n",
       "      <td>550</td>\n",
       "      <td>200</td>\n",
       "      <td>3</td>\n",
       "      <td>3</td>\n",
       "      <td>0.0</td>\n",
       "      <td>0.0</td>\n",
       "    </tr>\n",
       "    <tr>\n",
       "      <th>14</th>\n",
       "      <td>1002</td>\n",
       "      <td>10</td>\n",
       "      <td>33.0</td>\n",
       "      <td>212.0</td>\n",
       "      <td>10.0</td>\n",
       "      <td>13888.25</td>\n",
       "      <td>smart</td>\n",
       "      <td>Стерлитамак</td>\n",
       "      <td>50</td>\n",
       "      <td>15360</td>\n",
       "      <td>500</td>\n",
       "      <td>550</td>\n",
       "      <td>200</td>\n",
       "      <td>3</td>\n",
       "      <td>3</td>\n",
       "      <td>0.0</td>\n",
       "      <td>0.0</td>\n",
       "    </tr>\n",
       "  </tbody>\n",
       "</table>\n",
       "</div>"
      ],
      "text/plain": [
       "    user_id  month  calls_count  calls_duration  messages_count    mb_sum  \\\n",
       "0      1000      5         22.0           159.0            22.0   2253.49   \n",
       "1      1000      6         43.0           172.0            60.0  23233.77   \n",
       "2      1000      7         47.0           340.0            75.0  14003.64   \n",
       "3      1000      8         52.0           408.0            81.0  14055.93   \n",
       "4      1000      9         58.0           466.0            57.0  14568.91   \n",
       "5      1000     10         57.0           350.0            73.0  14702.49   \n",
       "6      1000     11         43.0           338.0            58.0  14756.47   \n",
       "7      1000     12         46.0           333.0            70.0   9817.61   \n",
       "8      1001     11         59.0           430.0             NaN  18429.34   \n",
       "9      1001     12         63.0           414.0             NaN  14036.66   \n",
       "10     1002      6         15.0           117.0             4.0  10856.82   \n",
       "11     1002      7         26.0           214.0            11.0  17580.10   \n",
       "12     1002      8         42.0           289.0            13.0  20319.26   \n",
       "13     1002      9         36.0           206.0             4.0  16691.08   \n",
       "14     1002     10         33.0           212.0            10.0  13888.25   \n",
       "\n",
       "   tariff_name         city  messages_included  mb_per_month_included  \\\n",
       "0        ultra    Краснодар               1000                  30720   \n",
       "1        ultra    Краснодар               1000                  30720   \n",
       "2        ultra    Краснодар               1000                  30720   \n",
       "3        ultra    Краснодар               1000                  30720   \n",
       "4        ultra    Краснодар               1000                  30720   \n",
       "5        ultra    Краснодар               1000                  30720   \n",
       "6        ultra    Краснодар               1000                  30720   \n",
       "7        ultra    Краснодар               1000                  30720   \n",
       "8        smart       Москва                 50                  15360   \n",
       "9        smart       Москва                 50                  15360   \n",
       "10       smart  Стерлитамак                 50                  15360   \n",
       "11       smart  Стерлитамак                 50                  15360   \n",
       "12       smart  Стерлитамак                 50                  15360   \n",
       "13       smart  Стерлитамак                 50                  15360   \n",
       "14       smart  Стерлитамак                 50                  15360   \n",
       "\n",
       "    minutes_included  rub_monthly_fee  rub_per_gb  rub_per_message  \\\n",
       "0               3000             1950         150                1   \n",
       "1               3000             1950         150                1   \n",
       "2               3000             1950         150                1   \n",
       "3               3000             1950         150                1   \n",
       "4               3000             1950         150                1   \n",
       "5               3000             1950         150                1   \n",
       "6               3000             1950         150                1   \n",
       "7               3000             1950         150                1   \n",
       "8                500              550         200                3   \n",
       "9                500              550         200                3   \n",
       "10               500              550         200                3   \n",
       "11               500              550         200                3   \n",
       "12               500              550         200                3   \n",
       "13               500              550         200                3   \n",
       "14               500              550         200                3   \n",
       "\n",
       "    rub_per_minute  call_revenue  message_revenue  \n",
       "0                1           0.0              0.0  \n",
       "1                1           0.0              0.0  \n",
       "2                1           0.0              0.0  \n",
       "3                1           0.0              0.0  \n",
       "4                1           0.0              0.0  \n",
       "5                1           0.0              0.0  \n",
       "6                1           0.0              0.0  \n",
       "7                1           0.0              0.0  \n",
       "8                3           0.0              0.0  \n",
       "9                3           0.0              0.0  \n",
       "10               3           0.0              0.0  \n",
       "11               3           0.0              0.0  \n",
       "12               3           0.0              0.0  \n",
       "13               3           0.0              0.0  \n",
       "14               3           0.0              0.0  "
      ]
     },
     "execution_count": 256,
     "metadata": {},
     "output_type": "execute_result"
    }
   ],
   "source": [
    "full['message_revenue'] = full.apply(monthly_message_revenue, axis=1)\n",
    "full.head(15)"
   ]
  },
  {
   "cell_type": "markdown",
   "metadata": {},
   "source": [
    "в «Мегалайн» общая сумма за месяц для веб-трафика округляется в бо́льшую сторону:"
   ]
  },
  {
   "cell_type": "code",
   "execution_count": 257,
   "metadata": {},
   "outputs": [
    {
     "data": {
      "text/html": [
       "<div>\n",
       "<style scoped>\n",
       "    .dataframe tbody tr th:only-of-type {\n",
       "        vertical-align: middle;\n",
       "    }\n",
       "\n",
       "    .dataframe tbody tr th {\n",
       "        vertical-align: top;\n",
       "    }\n",
       "\n",
       "    .dataframe thead th {\n",
       "        text-align: right;\n",
       "    }\n",
       "</style>\n",
       "<table border=\"1\" class=\"dataframe\">\n",
       "  <thead>\n",
       "    <tr style=\"text-align: right;\">\n",
       "      <th></th>\n",
       "      <th>user_id</th>\n",
       "      <th>month</th>\n",
       "      <th>calls_count</th>\n",
       "      <th>calls_duration</th>\n",
       "      <th>messages_count</th>\n",
       "      <th>mb_sum</th>\n",
       "      <th>tariff_name</th>\n",
       "      <th>city</th>\n",
       "      <th>messages_included</th>\n",
       "      <th>mb_per_month_included</th>\n",
       "      <th>minutes_included</th>\n",
       "      <th>rub_monthly_fee</th>\n",
       "      <th>rub_per_gb</th>\n",
       "      <th>rub_per_message</th>\n",
       "      <th>rub_per_minute</th>\n",
       "      <th>call_revenue</th>\n",
       "      <th>message_revenue</th>\n",
       "    </tr>\n",
       "  </thead>\n",
       "  <tbody>\n",
       "    <tr>\n",
       "      <th>0</th>\n",
       "      <td>1000</td>\n",
       "      <td>5</td>\n",
       "      <td>22.0</td>\n",
       "      <td>159.0</td>\n",
       "      <td>22.0</td>\n",
       "      <td>2254</td>\n",
       "      <td>ultra</td>\n",
       "      <td>Краснодар</td>\n",
       "      <td>1000</td>\n",
       "      <td>30720</td>\n",
       "      <td>3000</td>\n",
       "      <td>1950</td>\n",
       "      <td>150</td>\n",
       "      <td>1</td>\n",
       "      <td>1</td>\n",
       "      <td>0.0</td>\n",
       "      <td>0.0</td>\n",
       "    </tr>\n",
       "    <tr>\n",
       "      <th>1</th>\n",
       "      <td>1000</td>\n",
       "      <td>6</td>\n",
       "      <td>43.0</td>\n",
       "      <td>172.0</td>\n",
       "      <td>60.0</td>\n",
       "      <td>23234</td>\n",
       "      <td>ultra</td>\n",
       "      <td>Краснодар</td>\n",
       "      <td>1000</td>\n",
       "      <td>30720</td>\n",
       "      <td>3000</td>\n",
       "      <td>1950</td>\n",
       "      <td>150</td>\n",
       "      <td>1</td>\n",
       "      <td>1</td>\n",
       "      <td>0.0</td>\n",
       "      <td>0.0</td>\n",
       "    </tr>\n",
       "    <tr>\n",
       "      <th>2</th>\n",
       "      <td>1000</td>\n",
       "      <td>7</td>\n",
       "      <td>47.0</td>\n",
       "      <td>340.0</td>\n",
       "      <td>75.0</td>\n",
       "      <td>14004</td>\n",
       "      <td>ultra</td>\n",
       "      <td>Краснодар</td>\n",
       "      <td>1000</td>\n",
       "      <td>30720</td>\n",
       "      <td>3000</td>\n",
       "      <td>1950</td>\n",
       "      <td>150</td>\n",
       "      <td>1</td>\n",
       "      <td>1</td>\n",
       "      <td>0.0</td>\n",
       "      <td>0.0</td>\n",
       "    </tr>\n",
       "    <tr>\n",
       "      <th>3</th>\n",
       "      <td>1000</td>\n",
       "      <td>8</td>\n",
       "      <td>52.0</td>\n",
       "      <td>408.0</td>\n",
       "      <td>81.0</td>\n",
       "      <td>14056</td>\n",
       "      <td>ultra</td>\n",
       "      <td>Краснодар</td>\n",
       "      <td>1000</td>\n",
       "      <td>30720</td>\n",
       "      <td>3000</td>\n",
       "      <td>1950</td>\n",
       "      <td>150</td>\n",
       "      <td>1</td>\n",
       "      <td>1</td>\n",
       "      <td>0.0</td>\n",
       "      <td>0.0</td>\n",
       "    </tr>\n",
       "    <tr>\n",
       "      <th>4</th>\n",
       "      <td>1000</td>\n",
       "      <td>9</td>\n",
       "      <td>58.0</td>\n",
       "      <td>466.0</td>\n",
       "      <td>57.0</td>\n",
       "      <td>14569</td>\n",
       "      <td>ultra</td>\n",
       "      <td>Краснодар</td>\n",
       "      <td>1000</td>\n",
       "      <td>30720</td>\n",
       "      <td>3000</td>\n",
       "      <td>1950</td>\n",
       "      <td>150</td>\n",
       "      <td>1</td>\n",
       "      <td>1</td>\n",
       "      <td>0.0</td>\n",
       "      <td>0.0</td>\n",
       "    </tr>\n",
       "    <tr>\n",
       "      <th>5</th>\n",
       "      <td>1000</td>\n",
       "      <td>10</td>\n",
       "      <td>57.0</td>\n",
       "      <td>350.0</td>\n",
       "      <td>73.0</td>\n",
       "      <td>14703</td>\n",
       "      <td>ultra</td>\n",
       "      <td>Краснодар</td>\n",
       "      <td>1000</td>\n",
       "      <td>30720</td>\n",
       "      <td>3000</td>\n",
       "      <td>1950</td>\n",
       "      <td>150</td>\n",
       "      <td>1</td>\n",
       "      <td>1</td>\n",
       "      <td>0.0</td>\n",
       "      <td>0.0</td>\n",
       "    </tr>\n",
       "    <tr>\n",
       "      <th>6</th>\n",
       "      <td>1000</td>\n",
       "      <td>11</td>\n",
       "      <td>43.0</td>\n",
       "      <td>338.0</td>\n",
       "      <td>58.0</td>\n",
       "      <td>14757</td>\n",
       "      <td>ultra</td>\n",
       "      <td>Краснодар</td>\n",
       "      <td>1000</td>\n",
       "      <td>30720</td>\n",
       "      <td>3000</td>\n",
       "      <td>1950</td>\n",
       "      <td>150</td>\n",
       "      <td>1</td>\n",
       "      <td>1</td>\n",
       "      <td>0.0</td>\n",
       "      <td>0.0</td>\n",
       "    </tr>\n",
       "    <tr>\n",
       "      <th>7</th>\n",
       "      <td>1000</td>\n",
       "      <td>12</td>\n",
       "      <td>46.0</td>\n",
       "      <td>333.0</td>\n",
       "      <td>70.0</td>\n",
       "      <td>9818</td>\n",
       "      <td>ultra</td>\n",
       "      <td>Краснодар</td>\n",
       "      <td>1000</td>\n",
       "      <td>30720</td>\n",
       "      <td>3000</td>\n",
       "      <td>1950</td>\n",
       "      <td>150</td>\n",
       "      <td>1</td>\n",
       "      <td>1</td>\n",
       "      <td>0.0</td>\n",
       "      <td>0.0</td>\n",
       "    </tr>\n",
       "    <tr>\n",
       "      <th>8</th>\n",
       "      <td>1001</td>\n",
       "      <td>11</td>\n",
       "      <td>59.0</td>\n",
       "      <td>430.0</td>\n",
       "      <td>NaN</td>\n",
       "      <td>18430</td>\n",
       "      <td>smart</td>\n",
       "      <td>Москва</td>\n",
       "      <td>50</td>\n",
       "      <td>15360</td>\n",
       "      <td>500</td>\n",
       "      <td>550</td>\n",
       "      <td>200</td>\n",
       "      <td>3</td>\n",
       "      <td>3</td>\n",
       "      <td>0.0</td>\n",
       "      <td>0.0</td>\n",
       "    </tr>\n",
       "    <tr>\n",
       "      <th>9</th>\n",
       "      <td>1001</td>\n",
       "      <td>12</td>\n",
       "      <td>63.0</td>\n",
       "      <td>414.0</td>\n",
       "      <td>NaN</td>\n",
       "      <td>14037</td>\n",
       "      <td>smart</td>\n",
       "      <td>Москва</td>\n",
       "      <td>50</td>\n",
       "      <td>15360</td>\n",
       "      <td>500</td>\n",
       "      <td>550</td>\n",
       "      <td>200</td>\n",
       "      <td>3</td>\n",
       "      <td>3</td>\n",
       "      <td>0.0</td>\n",
       "      <td>0.0</td>\n",
       "    </tr>\n",
       "  </tbody>\n",
       "</table>\n",
       "</div>"
      ],
      "text/plain": [
       "   user_id  month  calls_count  calls_duration  messages_count  mb_sum  \\\n",
       "0     1000      5         22.0           159.0            22.0    2254   \n",
       "1     1000      6         43.0           172.0            60.0   23234   \n",
       "2     1000      7         47.0           340.0            75.0   14004   \n",
       "3     1000      8         52.0           408.0            81.0   14056   \n",
       "4     1000      9         58.0           466.0            57.0   14569   \n",
       "5     1000     10         57.0           350.0            73.0   14703   \n",
       "6     1000     11         43.0           338.0            58.0   14757   \n",
       "7     1000     12         46.0           333.0            70.0    9818   \n",
       "8     1001     11         59.0           430.0             NaN   18430   \n",
       "9     1001     12         63.0           414.0             NaN   14037   \n",
       "\n",
       "  tariff_name       city  messages_included  mb_per_month_included  \\\n",
       "0       ultra  Краснодар               1000                  30720   \n",
       "1       ultra  Краснодар               1000                  30720   \n",
       "2       ultra  Краснодар               1000                  30720   \n",
       "3       ultra  Краснодар               1000                  30720   \n",
       "4       ultra  Краснодар               1000                  30720   \n",
       "5       ultra  Краснодар               1000                  30720   \n",
       "6       ultra  Краснодар               1000                  30720   \n",
       "7       ultra  Краснодар               1000                  30720   \n",
       "8       smart     Москва                 50                  15360   \n",
       "9       smart     Москва                 50                  15360   \n",
       "\n",
       "   minutes_included  rub_monthly_fee  rub_per_gb  rub_per_message  \\\n",
       "0              3000             1950         150                1   \n",
       "1              3000             1950         150                1   \n",
       "2              3000             1950         150                1   \n",
       "3              3000             1950         150                1   \n",
       "4              3000             1950         150                1   \n",
       "5              3000             1950         150                1   \n",
       "6              3000             1950         150                1   \n",
       "7              3000             1950         150                1   \n",
       "8               500              550         200                3   \n",
       "9               500              550         200                3   \n",
       "\n",
       "   rub_per_minute  call_revenue  message_revenue  \n",
       "0               1           0.0              0.0  \n",
       "1               1           0.0              0.0  \n",
       "2               1           0.0              0.0  \n",
       "3               1           0.0              0.0  \n",
       "4               1           0.0              0.0  \n",
       "5               1           0.0              0.0  \n",
       "6               1           0.0              0.0  \n",
       "7               1           0.0              0.0  \n",
       "8               3           0.0              0.0  \n",
       "9               3           0.0              0.0  "
      ]
     },
     "execution_count": 257,
     "metadata": {},
     "output_type": "execute_result"
    }
   ],
   "source": [
    "#пустоты в mb_sum означают что человек в этом месяце не пользовался интернетом, заменим пустые значения на 0 \n",
    "full['mb_sum'] = full['mb_sum'].fillna(0)\n",
    "full['mb_sum'] = full['mb_sum'].apply(math.ceil)\n",
    "full.head(10)"
   ]
  },
  {
   "cell_type": "markdown",
   "metadata": {},
   "source": [
    "и теперь посчитаем помесячную выручки за интернет"
   ]
  },
  {
   "cell_type": "code",
   "execution_count": 258,
   "metadata": {},
   "outputs": [],
   "source": [
    "def monthly_internet_revenue(row):\n",
    "    internet_revenue=0 \n",
    "    internet_revenue=row['mb_sum']-row['mb_per_month_included']\n",
    " #переводим мегабайты в гигабайты и считаем сколько человек заплатил сверх тарифного пакета\n",
    "    if internet_revenue>0: \n",
    "                 return math.ceil(internet_revenue/1024)*row['rub_per_gb']\n",
    "    #если больше нуля то стоимость равна 0, стоимость абонентской платы добавим позже\n",
    "    else:\n",
    "        internet_revenue=0\n",
    "        return internet_revenue"
   ]
  },
  {
   "cell_type": "code",
   "execution_count": 259,
   "metadata": {
    "scrolled": true
   },
   "outputs": [
    {
     "data": {
      "text/html": [
       "<div>\n",
       "<style scoped>\n",
       "    .dataframe tbody tr th:only-of-type {\n",
       "        vertical-align: middle;\n",
       "    }\n",
       "\n",
       "    .dataframe tbody tr th {\n",
       "        vertical-align: top;\n",
       "    }\n",
       "\n",
       "    .dataframe thead th {\n",
       "        text-align: right;\n",
       "    }\n",
       "</style>\n",
       "<table border=\"1\" class=\"dataframe\">\n",
       "  <thead>\n",
       "    <tr style=\"text-align: right;\">\n",
       "      <th></th>\n",
       "      <th>user_id</th>\n",
       "      <th>month</th>\n",
       "      <th>calls_count</th>\n",
       "      <th>calls_duration</th>\n",
       "      <th>messages_count</th>\n",
       "      <th>mb_sum</th>\n",
       "      <th>tariff_name</th>\n",
       "      <th>city</th>\n",
       "      <th>messages_included</th>\n",
       "      <th>mb_per_month_included</th>\n",
       "      <th>minutes_included</th>\n",
       "      <th>rub_monthly_fee</th>\n",
       "      <th>rub_per_gb</th>\n",
       "      <th>rub_per_message</th>\n",
       "      <th>rub_per_minute</th>\n",
       "      <th>call_revenue</th>\n",
       "      <th>message_revenue</th>\n",
       "      <th>internet_revenue</th>\n",
       "    </tr>\n",
       "  </thead>\n",
       "  <tbody>\n",
       "    <tr>\n",
       "      <th>0</th>\n",
       "      <td>1000</td>\n",
       "      <td>5</td>\n",
       "      <td>22.0</td>\n",
       "      <td>159.0</td>\n",
       "      <td>22.0</td>\n",
       "      <td>2254</td>\n",
       "      <td>ultra</td>\n",
       "      <td>Краснодар</td>\n",
       "      <td>1000</td>\n",
       "      <td>30720</td>\n",
       "      <td>3000</td>\n",
       "      <td>1950</td>\n",
       "      <td>150</td>\n",
       "      <td>1</td>\n",
       "      <td>1</td>\n",
       "      <td>0.0</td>\n",
       "      <td>0.0</td>\n",
       "      <td>0</td>\n",
       "    </tr>\n",
       "    <tr>\n",
       "      <th>1</th>\n",
       "      <td>1000</td>\n",
       "      <td>6</td>\n",
       "      <td>43.0</td>\n",
       "      <td>172.0</td>\n",
       "      <td>60.0</td>\n",
       "      <td>23234</td>\n",
       "      <td>ultra</td>\n",
       "      <td>Краснодар</td>\n",
       "      <td>1000</td>\n",
       "      <td>30720</td>\n",
       "      <td>3000</td>\n",
       "      <td>1950</td>\n",
       "      <td>150</td>\n",
       "      <td>1</td>\n",
       "      <td>1</td>\n",
       "      <td>0.0</td>\n",
       "      <td>0.0</td>\n",
       "      <td>0</td>\n",
       "    </tr>\n",
       "    <tr>\n",
       "      <th>2</th>\n",
       "      <td>1000</td>\n",
       "      <td>7</td>\n",
       "      <td>47.0</td>\n",
       "      <td>340.0</td>\n",
       "      <td>75.0</td>\n",
       "      <td>14004</td>\n",
       "      <td>ultra</td>\n",
       "      <td>Краснодар</td>\n",
       "      <td>1000</td>\n",
       "      <td>30720</td>\n",
       "      <td>3000</td>\n",
       "      <td>1950</td>\n",
       "      <td>150</td>\n",
       "      <td>1</td>\n",
       "      <td>1</td>\n",
       "      <td>0.0</td>\n",
       "      <td>0.0</td>\n",
       "      <td>0</td>\n",
       "    </tr>\n",
       "    <tr>\n",
       "      <th>3</th>\n",
       "      <td>1000</td>\n",
       "      <td>8</td>\n",
       "      <td>52.0</td>\n",
       "      <td>408.0</td>\n",
       "      <td>81.0</td>\n",
       "      <td>14056</td>\n",
       "      <td>ultra</td>\n",
       "      <td>Краснодар</td>\n",
       "      <td>1000</td>\n",
       "      <td>30720</td>\n",
       "      <td>3000</td>\n",
       "      <td>1950</td>\n",
       "      <td>150</td>\n",
       "      <td>1</td>\n",
       "      <td>1</td>\n",
       "      <td>0.0</td>\n",
       "      <td>0.0</td>\n",
       "      <td>0</td>\n",
       "    </tr>\n",
       "    <tr>\n",
       "      <th>4</th>\n",
       "      <td>1000</td>\n",
       "      <td>9</td>\n",
       "      <td>58.0</td>\n",
       "      <td>466.0</td>\n",
       "      <td>57.0</td>\n",
       "      <td>14569</td>\n",
       "      <td>ultra</td>\n",
       "      <td>Краснодар</td>\n",
       "      <td>1000</td>\n",
       "      <td>30720</td>\n",
       "      <td>3000</td>\n",
       "      <td>1950</td>\n",
       "      <td>150</td>\n",
       "      <td>1</td>\n",
       "      <td>1</td>\n",
       "      <td>0.0</td>\n",
       "      <td>0.0</td>\n",
       "      <td>0</td>\n",
       "    </tr>\n",
       "    <tr>\n",
       "      <th>5</th>\n",
       "      <td>1000</td>\n",
       "      <td>10</td>\n",
       "      <td>57.0</td>\n",
       "      <td>350.0</td>\n",
       "      <td>73.0</td>\n",
       "      <td>14703</td>\n",
       "      <td>ultra</td>\n",
       "      <td>Краснодар</td>\n",
       "      <td>1000</td>\n",
       "      <td>30720</td>\n",
       "      <td>3000</td>\n",
       "      <td>1950</td>\n",
       "      <td>150</td>\n",
       "      <td>1</td>\n",
       "      <td>1</td>\n",
       "      <td>0.0</td>\n",
       "      <td>0.0</td>\n",
       "      <td>0</td>\n",
       "    </tr>\n",
       "    <tr>\n",
       "      <th>6</th>\n",
       "      <td>1000</td>\n",
       "      <td>11</td>\n",
       "      <td>43.0</td>\n",
       "      <td>338.0</td>\n",
       "      <td>58.0</td>\n",
       "      <td>14757</td>\n",
       "      <td>ultra</td>\n",
       "      <td>Краснодар</td>\n",
       "      <td>1000</td>\n",
       "      <td>30720</td>\n",
       "      <td>3000</td>\n",
       "      <td>1950</td>\n",
       "      <td>150</td>\n",
       "      <td>1</td>\n",
       "      <td>1</td>\n",
       "      <td>0.0</td>\n",
       "      <td>0.0</td>\n",
       "      <td>0</td>\n",
       "    </tr>\n",
       "    <tr>\n",
       "      <th>7</th>\n",
       "      <td>1000</td>\n",
       "      <td>12</td>\n",
       "      <td>46.0</td>\n",
       "      <td>333.0</td>\n",
       "      <td>70.0</td>\n",
       "      <td>9818</td>\n",
       "      <td>ultra</td>\n",
       "      <td>Краснодар</td>\n",
       "      <td>1000</td>\n",
       "      <td>30720</td>\n",
       "      <td>3000</td>\n",
       "      <td>1950</td>\n",
       "      <td>150</td>\n",
       "      <td>1</td>\n",
       "      <td>1</td>\n",
       "      <td>0.0</td>\n",
       "      <td>0.0</td>\n",
       "      <td>0</td>\n",
       "    </tr>\n",
       "    <tr>\n",
       "      <th>8</th>\n",
       "      <td>1001</td>\n",
       "      <td>11</td>\n",
       "      <td>59.0</td>\n",
       "      <td>430.0</td>\n",
       "      <td>NaN</td>\n",
       "      <td>18430</td>\n",
       "      <td>smart</td>\n",
       "      <td>Москва</td>\n",
       "      <td>50</td>\n",
       "      <td>15360</td>\n",
       "      <td>500</td>\n",
       "      <td>550</td>\n",
       "      <td>200</td>\n",
       "      <td>3</td>\n",
       "      <td>3</td>\n",
       "      <td>0.0</td>\n",
       "      <td>0.0</td>\n",
       "      <td>600</td>\n",
       "    </tr>\n",
       "    <tr>\n",
       "      <th>9</th>\n",
       "      <td>1001</td>\n",
       "      <td>12</td>\n",
       "      <td>63.0</td>\n",
       "      <td>414.0</td>\n",
       "      <td>NaN</td>\n",
       "      <td>14037</td>\n",
       "      <td>smart</td>\n",
       "      <td>Москва</td>\n",
       "      <td>50</td>\n",
       "      <td>15360</td>\n",
       "      <td>500</td>\n",
       "      <td>550</td>\n",
       "      <td>200</td>\n",
       "      <td>3</td>\n",
       "      <td>3</td>\n",
       "      <td>0.0</td>\n",
       "      <td>0.0</td>\n",
       "      <td>0</td>\n",
       "    </tr>\n",
       "    <tr>\n",
       "      <th>10</th>\n",
       "      <td>1002</td>\n",
       "      <td>6</td>\n",
       "      <td>15.0</td>\n",
       "      <td>117.0</td>\n",
       "      <td>4.0</td>\n",
       "      <td>10857</td>\n",
       "      <td>smart</td>\n",
       "      <td>Стерлитамак</td>\n",
       "      <td>50</td>\n",
       "      <td>15360</td>\n",
       "      <td>500</td>\n",
       "      <td>550</td>\n",
       "      <td>200</td>\n",
       "      <td>3</td>\n",
       "      <td>3</td>\n",
       "      <td>0.0</td>\n",
       "      <td>0.0</td>\n",
       "      <td>0</td>\n",
       "    </tr>\n",
       "    <tr>\n",
       "      <th>11</th>\n",
       "      <td>1002</td>\n",
       "      <td>7</td>\n",
       "      <td>26.0</td>\n",
       "      <td>214.0</td>\n",
       "      <td>11.0</td>\n",
       "      <td>17581</td>\n",
       "      <td>smart</td>\n",
       "      <td>Стерлитамак</td>\n",
       "      <td>50</td>\n",
       "      <td>15360</td>\n",
       "      <td>500</td>\n",
       "      <td>550</td>\n",
       "      <td>200</td>\n",
       "      <td>3</td>\n",
       "      <td>3</td>\n",
       "      <td>0.0</td>\n",
       "      <td>0.0</td>\n",
       "      <td>600</td>\n",
       "    </tr>\n",
       "    <tr>\n",
       "      <th>12</th>\n",
       "      <td>1002</td>\n",
       "      <td>8</td>\n",
       "      <td>42.0</td>\n",
       "      <td>289.0</td>\n",
       "      <td>13.0</td>\n",
       "      <td>20320</td>\n",
       "      <td>smart</td>\n",
       "      <td>Стерлитамак</td>\n",
       "      <td>50</td>\n",
       "      <td>15360</td>\n",
       "      <td>500</td>\n",
       "      <td>550</td>\n",
       "      <td>200</td>\n",
       "      <td>3</td>\n",
       "      <td>3</td>\n",
       "      <td>0.0</td>\n",
       "      <td>0.0</td>\n",
       "      <td>1000</td>\n",
       "    </tr>\n",
       "    <tr>\n",
       "      <th>13</th>\n",
       "      <td>1002</td>\n",
       "      <td>9</td>\n",
       "      <td>36.0</td>\n",
       "      <td>206.0</td>\n",
       "      <td>4.0</td>\n",
       "      <td>16692</td>\n",
       "      <td>smart</td>\n",
       "      <td>Стерлитамак</td>\n",
       "      <td>50</td>\n",
       "      <td>15360</td>\n",
       "      <td>500</td>\n",
       "      <td>550</td>\n",
       "      <td>200</td>\n",
       "      <td>3</td>\n",
       "      <td>3</td>\n",
       "      <td>0.0</td>\n",
       "      <td>0.0</td>\n",
       "      <td>400</td>\n",
       "    </tr>\n",
       "    <tr>\n",
       "      <th>14</th>\n",
       "      <td>1002</td>\n",
       "      <td>10</td>\n",
       "      <td>33.0</td>\n",
       "      <td>212.0</td>\n",
       "      <td>10.0</td>\n",
       "      <td>13889</td>\n",
       "      <td>smart</td>\n",
       "      <td>Стерлитамак</td>\n",
       "      <td>50</td>\n",
       "      <td>15360</td>\n",
       "      <td>500</td>\n",
       "      <td>550</td>\n",
       "      <td>200</td>\n",
       "      <td>3</td>\n",
       "      <td>3</td>\n",
       "      <td>0.0</td>\n",
       "      <td>0.0</td>\n",
       "      <td>0</td>\n",
       "    </tr>\n",
       "  </tbody>\n",
       "</table>\n",
       "</div>"
      ],
      "text/plain": [
       "    user_id  month  calls_count  calls_duration  messages_count  mb_sum  \\\n",
       "0      1000      5         22.0           159.0            22.0    2254   \n",
       "1      1000      6         43.0           172.0            60.0   23234   \n",
       "2      1000      7         47.0           340.0            75.0   14004   \n",
       "3      1000      8         52.0           408.0            81.0   14056   \n",
       "4      1000      9         58.0           466.0            57.0   14569   \n",
       "5      1000     10         57.0           350.0            73.0   14703   \n",
       "6      1000     11         43.0           338.0            58.0   14757   \n",
       "7      1000     12         46.0           333.0            70.0    9818   \n",
       "8      1001     11         59.0           430.0             NaN   18430   \n",
       "9      1001     12         63.0           414.0             NaN   14037   \n",
       "10     1002      6         15.0           117.0             4.0   10857   \n",
       "11     1002      7         26.0           214.0            11.0   17581   \n",
       "12     1002      8         42.0           289.0            13.0   20320   \n",
       "13     1002      9         36.0           206.0             4.0   16692   \n",
       "14     1002     10         33.0           212.0            10.0   13889   \n",
       "\n",
       "   tariff_name         city  messages_included  mb_per_month_included  \\\n",
       "0        ultra    Краснодар               1000                  30720   \n",
       "1        ultra    Краснодар               1000                  30720   \n",
       "2        ultra    Краснодар               1000                  30720   \n",
       "3        ultra    Краснодар               1000                  30720   \n",
       "4        ultra    Краснодар               1000                  30720   \n",
       "5        ultra    Краснодар               1000                  30720   \n",
       "6        ultra    Краснодар               1000                  30720   \n",
       "7        ultra    Краснодар               1000                  30720   \n",
       "8        smart       Москва                 50                  15360   \n",
       "9        smart       Москва                 50                  15360   \n",
       "10       smart  Стерлитамак                 50                  15360   \n",
       "11       smart  Стерлитамак                 50                  15360   \n",
       "12       smart  Стерлитамак                 50                  15360   \n",
       "13       smart  Стерлитамак                 50                  15360   \n",
       "14       smart  Стерлитамак                 50                  15360   \n",
       "\n",
       "    minutes_included  rub_monthly_fee  rub_per_gb  rub_per_message  \\\n",
       "0               3000             1950         150                1   \n",
       "1               3000             1950         150                1   \n",
       "2               3000             1950         150                1   \n",
       "3               3000             1950         150                1   \n",
       "4               3000             1950         150                1   \n",
       "5               3000             1950         150                1   \n",
       "6               3000             1950         150                1   \n",
       "7               3000             1950         150                1   \n",
       "8                500              550         200                3   \n",
       "9                500              550         200                3   \n",
       "10               500              550         200                3   \n",
       "11               500              550         200                3   \n",
       "12               500              550         200                3   \n",
       "13               500              550         200                3   \n",
       "14               500              550         200                3   \n",
       "\n",
       "    rub_per_minute  call_revenue  message_revenue  internet_revenue  \n",
       "0                1           0.0              0.0                 0  \n",
       "1                1           0.0              0.0                 0  \n",
       "2                1           0.0              0.0                 0  \n",
       "3                1           0.0              0.0                 0  \n",
       "4                1           0.0              0.0                 0  \n",
       "5                1           0.0              0.0                 0  \n",
       "6                1           0.0              0.0                 0  \n",
       "7                1           0.0              0.0                 0  \n",
       "8                3           0.0              0.0               600  \n",
       "9                3           0.0              0.0                 0  \n",
       "10               3           0.0              0.0                 0  \n",
       "11               3           0.0              0.0               600  \n",
       "12               3           0.0              0.0              1000  \n",
       "13               3           0.0              0.0               400  \n",
       "14               3           0.0              0.0                 0  "
      ]
     },
     "execution_count": 259,
     "metadata": {},
     "output_type": "execute_result"
    }
   ],
   "source": [
    "full['internet_revenue'] = full.apply(monthly_internet_revenue, axis=1)\n",
    "full.head(15)"
   ]
  },
  {
   "cell_type": "markdown",
   "metadata": {},
   "source": [
    "осталось посчитать помесячную выручку с каждого пользователя сложив показатели по выручке за звонки, сообщения и интернет и добавив абонентскую плату согласно тарифу:"
   ]
  },
  {
   "cell_type": "code",
   "execution_count": 260,
   "metadata": {},
   "outputs": [],
   "source": [
    "def monthly_total_revenue(row):\n",
    "    total_revenue=row['call_revenue']+row['message_revenue']+row['internet_revenue']+row['rub_monthly_fee']\n",
    "    return total_revenue"
   ]
  },
  {
   "cell_type": "code",
   "execution_count": 261,
   "metadata": {},
   "outputs": [
    {
     "data": {
      "text/html": [
       "<div>\n",
       "<style scoped>\n",
       "    .dataframe tbody tr th:only-of-type {\n",
       "        vertical-align: middle;\n",
       "    }\n",
       "\n",
       "    .dataframe tbody tr th {\n",
       "        vertical-align: top;\n",
       "    }\n",
       "\n",
       "    .dataframe thead th {\n",
       "        text-align: right;\n",
       "    }\n",
       "</style>\n",
       "<table border=\"1\" class=\"dataframe\">\n",
       "  <thead>\n",
       "    <tr style=\"text-align: right;\">\n",
       "      <th></th>\n",
       "      <th>user_id</th>\n",
       "      <th>month</th>\n",
       "      <th>calls_count</th>\n",
       "      <th>calls_duration</th>\n",
       "      <th>messages_count</th>\n",
       "      <th>mb_sum</th>\n",
       "      <th>tariff_name</th>\n",
       "      <th>city</th>\n",
       "      <th>messages_included</th>\n",
       "      <th>mb_per_month_included</th>\n",
       "      <th>minutes_included</th>\n",
       "      <th>rub_monthly_fee</th>\n",
       "      <th>rub_per_gb</th>\n",
       "      <th>rub_per_message</th>\n",
       "      <th>rub_per_minute</th>\n",
       "      <th>call_revenue</th>\n",
       "      <th>message_revenue</th>\n",
       "      <th>internet_revenue</th>\n",
       "      <th>total_revenue</th>\n",
       "    </tr>\n",
       "  </thead>\n",
       "  <tbody>\n",
       "    <tr>\n",
       "      <th>0</th>\n",
       "      <td>1000</td>\n",
       "      <td>5</td>\n",
       "      <td>22.0</td>\n",
       "      <td>159.0</td>\n",
       "      <td>22.0</td>\n",
       "      <td>2254</td>\n",
       "      <td>ultra</td>\n",
       "      <td>Краснодар</td>\n",
       "      <td>1000</td>\n",
       "      <td>30720</td>\n",
       "      <td>3000</td>\n",
       "      <td>1950</td>\n",
       "      <td>150</td>\n",
       "      <td>1</td>\n",
       "      <td>1</td>\n",
       "      <td>0.0</td>\n",
       "      <td>0.0</td>\n",
       "      <td>0</td>\n",
       "      <td>1950.0</td>\n",
       "    </tr>\n",
       "    <tr>\n",
       "      <th>1</th>\n",
       "      <td>1000</td>\n",
       "      <td>6</td>\n",
       "      <td>43.0</td>\n",
       "      <td>172.0</td>\n",
       "      <td>60.0</td>\n",
       "      <td>23234</td>\n",
       "      <td>ultra</td>\n",
       "      <td>Краснодар</td>\n",
       "      <td>1000</td>\n",
       "      <td>30720</td>\n",
       "      <td>3000</td>\n",
       "      <td>1950</td>\n",
       "      <td>150</td>\n",
       "      <td>1</td>\n",
       "      <td>1</td>\n",
       "      <td>0.0</td>\n",
       "      <td>0.0</td>\n",
       "      <td>0</td>\n",
       "      <td>1950.0</td>\n",
       "    </tr>\n",
       "    <tr>\n",
       "      <th>2</th>\n",
       "      <td>1000</td>\n",
       "      <td>7</td>\n",
       "      <td>47.0</td>\n",
       "      <td>340.0</td>\n",
       "      <td>75.0</td>\n",
       "      <td>14004</td>\n",
       "      <td>ultra</td>\n",
       "      <td>Краснодар</td>\n",
       "      <td>1000</td>\n",
       "      <td>30720</td>\n",
       "      <td>3000</td>\n",
       "      <td>1950</td>\n",
       "      <td>150</td>\n",
       "      <td>1</td>\n",
       "      <td>1</td>\n",
       "      <td>0.0</td>\n",
       "      <td>0.0</td>\n",
       "      <td>0</td>\n",
       "      <td>1950.0</td>\n",
       "    </tr>\n",
       "    <tr>\n",
       "      <th>3</th>\n",
       "      <td>1000</td>\n",
       "      <td>8</td>\n",
       "      <td>52.0</td>\n",
       "      <td>408.0</td>\n",
       "      <td>81.0</td>\n",
       "      <td>14056</td>\n",
       "      <td>ultra</td>\n",
       "      <td>Краснодар</td>\n",
       "      <td>1000</td>\n",
       "      <td>30720</td>\n",
       "      <td>3000</td>\n",
       "      <td>1950</td>\n",
       "      <td>150</td>\n",
       "      <td>1</td>\n",
       "      <td>1</td>\n",
       "      <td>0.0</td>\n",
       "      <td>0.0</td>\n",
       "      <td>0</td>\n",
       "      <td>1950.0</td>\n",
       "    </tr>\n",
       "    <tr>\n",
       "      <th>4</th>\n",
       "      <td>1000</td>\n",
       "      <td>9</td>\n",
       "      <td>58.0</td>\n",
       "      <td>466.0</td>\n",
       "      <td>57.0</td>\n",
       "      <td>14569</td>\n",
       "      <td>ultra</td>\n",
       "      <td>Краснодар</td>\n",
       "      <td>1000</td>\n",
       "      <td>30720</td>\n",
       "      <td>3000</td>\n",
       "      <td>1950</td>\n",
       "      <td>150</td>\n",
       "      <td>1</td>\n",
       "      <td>1</td>\n",
       "      <td>0.0</td>\n",
       "      <td>0.0</td>\n",
       "      <td>0</td>\n",
       "      <td>1950.0</td>\n",
       "    </tr>\n",
       "    <tr>\n",
       "      <th>5</th>\n",
       "      <td>1000</td>\n",
       "      <td>10</td>\n",
       "      <td>57.0</td>\n",
       "      <td>350.0</td>\n",
       "      <td>73.0</td>\n",
       "      <td>14703</td>\n",
       "      <td>ultra</td>\n",
       "      <td>Краснодар</td>\n",
       "      <td>1000</td>\n",
       "      <td>30720</td>\n",
       "      <td>3000</td>\n",
       "      <td>1950</td>\n",
       "      <td>150</td>\n",
       "      <td>1</td>\n",
       "      <td>1</td>\n",
       "      <td>0.0</td>\n",
       "      <td>0.0</td>\n",
       "      <td>0</td>\n",
       "      <td>1950.0</td>\n",
       "    </tr>\n",
       "    <tr>\n",
       "      <th>6</th>\n",
       "      <td>1000</td>\n",
       "      <td>11</td>\n",
       "      <td>43.0</td>\n",
       "      <td>338.0</td>\n",
       "      <td>58.0</td>\n",
       "      <td>14757</td>\n",
       "      <td>ultra</td>\n",
       "      <td>Краснодар</td>\n",
       "      <td>1000</td>\n",
       "      <td>30720</td>\n",
       "      <td>3000</td>\n",
       "      <td>1950</td>\n",
       "      <td>150</td>\n",
       "      <td>1</td>\n",
       "      <td>1</td>\n",
       "      <td>0.0</td>\n",
       "      <td>0.0</td>\n",
       "      <td>0</td>\n",
       "      <td>1950.0</td>\n",
       "    </tr>\n",
       "    <tr>\n",
       "      <th>7</th>\n",
       "      <td>1000</td>\n",
       "      <td>12</td>\n",
       "      <td>46.0</td>\n",
       "      <td>333.0</td>\n",
       "      <td>70.0</td>\n",
       "      <td>9818</td>\n",
       "      <td>ultra</td>\n",
       "      <td>Краснодар</td>\n",
       "      <td>1000</td>\n",
       "      <td>30720</td>\n",
       "      <td>3000</td>\n",
       "      <td>1950</td>\n",
       "      <td>150</td>\n",
       "      <td>1</td>\n",
       "      <td>1</td>\n",
       "      <td>0.0</td>\n",
       "      <td>0.0</td>\n",
       "      <td>0</td>\n",
       "      <td>1950.0</td>\n",
       "    </tr>\n",
       "    <tr>\n",
       "      <th>8</th>\n",
       "      <td>1001</td>\n",
       "      <td>11</td>\n",
       "      <td>59.0</td>\n",
       "      <td>430.0</td>\n",
       "      <td>NaN</td>\n",
       "      <td>18430</td>\n",
       "      <td>smart</td>\n",
       "      <td>Москва</td>\n",
       "      <td>50</td>\n",
       "      <td>15360</td>\n",
       "      <td>500</td>\n",
       "      <td>550</td>\n",
       "      <td>200</td>\n",
       "      <td>3</td>\n",
       "      <td>3</td>\n",
       "      <td>0.0</td>\n",
       "      <td>0.0</td>\n",
       "      <td>600</td>\n",
       "      <td>1150.0</td>\n",
       "    </tr>\n",
       "    <tr>\n",
       "      <th>9</th>\n",
       "      <td>1001</td>\n",
       "      <td>12</td>\n",
       "      <td>63.0</td>\n",
       "      <td>414.0</td>\n",
       "      <td>NaN</td>\n",
       "      <td>14037</td>\n",
       "      <td>smart</td>\n",
       "      <td>Москва</td>\n",
       "      <td>50</td>\n",
       "      <td>15360</td>\n",
       "      <td>500</td>\n",
       "      <td>550</td>\n",
       "      <td>200</td>\n",
       "      <td>3</td>\n",
       "      <td>3</td>\n",
       "      <td>0.0</td>\n",
       "      <td>0.0</td>\n",
       "      <td>0</td>\n",
       "      <td>550.0</td>\n",
       "    </tr>\n",
       "    <tr>\n",
       "      <th>10</th>\n",
       "      <td>1002</td>\n",
       "      <td>6</td>\n",
       "      <td>15.0</td>\n",
       "      <td>117.0</td>\n",
       "      <td>4.0</td>\n",
       "      <td>10857</td>\n",
       "      <td>smart</td>\n",
       "      <td>Стерлитамак</td>\n",
       "      <td>50</td>\n",
       "      <td>15360</td>\n",
       "      <td>500</td>\n",
       "      <td>550</td>\n",
       "      <td>200</td>\n",
       "      <td>3</td>\n",
       "      <td>3</td>\n",
       "      <td>0.0</td>\n",
       "      <td>0.0</td>\n",
       "      <td>0</td>\n",
       "      <td>550.0</td>\n",
       "    </tr>\n",
       "    <tr>\n",
       "      <th>11</th>\n",
       "      <td>1002</td>\n",
       "      <td>7</td>\n",
       "      <td>26.0</td>\n",
       "      <td>214.0</td>\n",
       "      <td>11.0</td>\n",
       "      <td>17581</td>\n",
       "      <td>smart</td>\n",
       "      <td>Стерлитамак</td>\n",
       "      <td>50</td>\n",
       "      <td>15360</td>\n",
       "      <td>500</td>\n",
       "      <td>550</td>\n",
       "      <td>200</td>\n",
       "      <td>3</td>\n",
       "      <td>3</td>\n",
       "      <td>0.0</td>\n",
       "      <td>0.0</td>\n",
       "      <td>600</td>\n",
       "      <td>1150.0</td>\n",
       "    </tr>\n",
       "    <tr>\n",
       "      <th>12</th>\n",
       "      <td>1002</td>\n",
       "      <td>8</td>\n",
       "      <td>42.0</td>\n",
       "      <td>289.0</td>\n",
       "      <td>13.0</td>\n",
       "      <td>20320</td>\n",
       "      <td>smart</td>\n",
       "      <td>Стерлитамак</td>\n",
       "      <td>50</td>\n",
       "      <td>15360</td>\n",
       "      <td>500</td>\n",
       "      <td>550</td>\n",
       "      <td>200</td>\n",
       "      <td>3</td>\n",
       "      <td>3</td>\n",
       "      <td>0.0</td>\n",
       "      <td>0.0</td>\n",
       "      <td>1000</td>\n",
       "      <td>1550.0</td>\n",
       "    </tr>\n",
       "    <tr>\n",
       "      <th>13</th>\n",
       "      <td>1002</td>\n",
       "      <td>9</td>\n",
       "      <td>36.0</td>\n",
       "      <td>206.0</td>\n",
       "      <td>4.0</td>\n",
       "      <td>16692</td>\n",
       "      <td>smart</td>\n",
       "      <td>Стерлитамак</td>\n",
       "      <td>50</td>\n",
       "      <td>15360</td>\n",
       "      <td>500</td>\n",
       "      <td>550</td>\n",
       "      <td>200</td>\n",
       "      <td>3</td>\n",
       "      <td>3</td>\n",
       "      <td>0.0</td>\n",
       "      <td>0.0</td>\n",
       "      <td>400</td>\n",
       "      <td>950.0</td>\n",
       "    </tr>\n",
       "    <tr>\n",
       "      <th>14</th>\n",
       "      <td>1002</td>\n",
       "      <td>10</td>\n",
       "      <td>33.0</td>\n",
       "      <td>212.0</td>\n",
       "      <td>10.0</td>\n",
       "      <td>13889</td>\n",
       "      <td>smart</td>\n",
       "      <td>Стерлитамак</td>\n",
       "      <td>50</td>\n",
       "      <td>15360</td>\n",
       "      <td>500</td>\n",
       "      <td>550</td>\n",
       "      <td>200</td>\n",
       "      <td>3</td>\n",
       "      <td>3</td>\n",
       "      <td>0.0</td>\n",
       "      <td>0.0</td>\n",
       "      <td>0</td>\n",
       "      <td>550.0</td>\n",
       "    </tr>\n",
       "    <tr>\n",
       "      <th>15</th>\n",
       "      <td>1002</td>\n",
       "      <td>11</td>\n",
       "      <td>32.0</td>\n",
       "      <td>243.0</td>\n",
       "      <td>16.0</td>\n",
       "      <td>18588</td>\n",
       "      <td>smart</td>\n",
       "      <td>Стерлитамак</td>\n",
       "      <td>50</td>\n",
       "      <td>15360</td>\n",
       "      <td>500</td>\n",
       "      <td>550</td>\n",
       "      <td>200</td>\n",
       "      <td>3</td>\n",
       "      <td>3</td>\n",
       "      <td>0.0</td>\n",
       "      <td>0.0</td>\n",
       "      <td>800</td>\n",
       "      <td>1350.0</td>\n",
       "    </tr>\n",
       "    <tr>\n",
       "      <th>16</th>\n",
       "      <td>1002</td>\n",
       "      <td>12</td>\n",
       "      <td>33.0</td>\n",
       "      <td>236.0</td>\n",
       "      <td>12.0</td>\n",
       "      <td>18114</td>\n",
       "      <td>smart</td>\n",
       "      <td>Стерлитамак</td>\n",
       "      <td>50</td>\n",
       "      <td>15360</td>\n",
       "      <td>500</td>\n",
       "      <td>550</td>\n",
       "      <td>200</td>\n",
       "      <td>3</td>\n",
       "      <td>3</td>\n",
       "      <td>0.0</td>\n",
       "      <td>0.0</td>\n",
       "      <td>600</td>\n",
       "      <td>1150.0</td>\n",
       "    </tr>\n",
       "    <tr>\n",
       "      <th>17</th>\n",
       "      <td>1003</td>\n",
       "      <td>8</td>\n",
       "      <td>55.0</td>\n",
       "      <td>380.0</td>\n",
       "      <td>37.0</td>\n",
       "      <td>8566</td>\n",
       "      <td>ultra</td>\n",
       "      <td>Москва</td>\n",
       "      <td>1000</td>\n",
       "      <td>30720</td>\n",
       "      <td>3000</td>\n",
       "      <td>1950</td>\n",
       "      <td>150</td>\n",
       "      <td>1</td>\n",
       "      <td>1</td>\n",
       "      <td>0.0</td>\n",
       "      <td>0.0</td>\n",
       "      <td>0</td>\n",
       "      <td>1950.0</td>\n",
       "    </tr>\n",
       "    <tr>\n",
       "      <th>18</th>\n",
       "      <td>1003</td>\n",
       "      <td>9</td>\n",
       "      <td>134.0</td>\n",
       "      <td>961.0</td>\n",
       "      <td>91.0</td>\n",
       "      <td>12469</td>\n",
       "      <td>ultra</td>\n",
       "      <td>Москва</td>\n",
       "      <td>1000</td>\n",
       "      <td>30720</td>\n",
       "      <td>3000</td>\n",
       "      <td>1950</td>\n",
       "      <td>150</td>\n",
       "      <td>1</td>\n",
       "      <td>1</td>\n",
       "      <td>0.0</td>\n",
       "      <td>0.0</td>\n",
       "      <td>0</td>\n",
       "      <td>1950.0</td>\n",
       "    </tr>\n",
       "    <tr>\n",
       "      <th>19</th>\n",
       "      <td>1003</td>\n",
       "      <td>10</td>\n",
       "      <td>108.0</td>\n",
       "      <td>855.0</td>\n",
       "      <td>83.0</td>\n",
       "      <td>14769</td>\n",
       "      <td>ultra</td>\n",
       "      <td>Москва</td>\n",
       "      <td>1000</td>\n",
       "      <td>30720</td>\n",
       "      <td>3000</td>\n",
       "      <td>1950</td>\n",
       "      <td>150</td>\n",
       "      <td>1</td>\n",
       "      <td>1</td>\n",
       "      <td>0.0</td>\n",
       "      <td>0.0</td>\n",
       "      <td>0</td>\n",
       "      <td>1950.0</td>\n",
       "    </tr>\n",
       "  </tbody>\n",
       "</table>\n",
       "</div>"
      ],
      "text/plain": [
       "    user_id  month  calls_count  calls_duration  messages_count  mb_sum  \\\n",
       "0      1000      5         22.0           159.0            22.0    2254   \n",
       "1      1000      6         43.0           172.0            60.0   23234   \n",
       "2      1000      7         47.0           340.0            75.0   14004   \n",
       "3      1000      8         52.0           408.0            81.0   14056   \n",
       "4      1000      9         58.0           466.0            57.0   14569   \n",
       "5      1000     10         57.0           350.0            73.0   14703   \n",
       "6      1000     11         43.0           338.0            58.0   14757   \n",
       "7      1000     12         46.0           333.0            70.0    9818   \n",
       "8      1001     11         59.0           430.0             NaN   18430   \n",
       "9      1001     12         63.0           414.0             NaN   14037   \n",
       "10     1002      6         15.0           117.0             4.0   10857   \n",
       "11     1002      7         26.0           214.0            11.0   17581   \n",
       "12     1002      8         42.0           289.0            13.0   20320   \n",
       "13     1002      9         36.0           206.0             4.0   16692   \n",
       "14     1002     10         33.0           212.0            10.0   13889   \n",
       "15     1002     11         32.0           243.0            16.0   18588   \n",
       "16     1002     12         33.0           236.0            12.0   18114   \n",
       "17     1003      8         55.0           380.0            37.0    8566   \n",
       "18     1003      9        134.0           961.0            91.0   12469   \n",
       "19     1003     10        108.0           855.0            83.0   14769   \n",
       "\n",
       "   tariff_name         city  messages_included  mb_per_month_included  \\\n",
       "0        ultra    Краснодар               1000                  30720   \n",
       "1        ultra    Краснодар               1000                  30720   \n",
       "2        ultra    Краснодар               1000                  30720   \n",
       "3        ultra    Краснодар               1000                  30720   \n",
       "4        ultra    Краснодар               1000                  30720   \n",
       "5        ultra    Краснодар               1000                  30720   \n",
       "6        ultra    Краснодар               1000                  30720   \n",
       "7        ultra    Краснодар               1000                  30720   \n",
       "8        smart       Москва                 50                  15360   \n",
       "9        smart       Москва                 50                  15360   \n",
       "10       smart  Стерлитамак                 50                  15360   \n",
       "11       smart  Стерлитамак                 50                  15360   \n",
       "12       smart  Стерлитамак                 50                  15360   \n",
       "13       smart  Стерлитамак                 50                  15360   \n",
       "14       smart  Стерлитамак                 50                  15360   \n",
       "15       smart  Стерлитамак                 50                  15360   \n",
       "16       smart  Стерлитамак                 50                  15360   \n",
       "17       ultra       Москва               1000                  30720   \n",
       "18       ultra       Москва               1000                  30720   \n",
       "19       ultra       Москва               1000                  30720   \n",
       "\n",
       "    minutes_included  rub_monthly_fee  rub_per_gb  rub_per_message  \\\n",
       "0               3000             1950         150                1   \n",
       "1               3000             1950         150                1   \n",
       "2               3000             1950         150                1   \n",
       "3               3000             1950         150                1   \n",
       "4               3000             1950         150                1   \n",
       "5               3000             1950         150                1   \n",
       "6               3000             1950         150                1   \n",
       "7               3000             1950         150                1   \n",
       "8                500              550         200                3   \n",
       "9                500              550         200                3   \n",
       "10               500              550         200                3   \n",
       "11               500              550         200                3   \n",
       "12               500              550         200                3   \n",
       "13               500              550         200                3   \n",
       "14               500              550         200                3   \n",
       "15               500              550         200                3   \n",
       "16               500              550         200                3   \n",
       "17              3000             1950         150                1   \n",
       "18              3000             1950         150                1   \n",
       "19              3000             1950         150                1   \n",
       "\n",
       "    rub_per_minute  call_revenue  message_revenue  internet_revenue  \\\n",
       "0                1           0.0              0.0                 0   \n",
       "1                1           0.0              0.0                 0   \n",
       "2                1           0.0              0.0                 0   \n",
       "3                1           0.0              0.0                 0   \n",
       "4                1           0.0              0.0                 0   \n",
       "5                1           0.0              0.0                 0   \n",
       "6                1           0.0              0.0                 0   \n",
       "7                1           0.0              0.0                 0   \n",
       "8                3           0.0              0.0               600   \n",
       "9                3           0.0              0.0                 0   \n",
       "10               3           0.0              0.0                 0   \n",
       "11               3           0.0              0.0               600   \n",
       "12               3           0.0              0.0              1000   \n",
       "13               3           0.0              0.0               400   \n",
       "14               3           0.0              0.0                 0   \n",
       "15               3           0.0              0.0               800   \n",
       "16               3           0.0              0.0               600   \n",
       "17               1           0.0              0.0                 0   \n",
       "18               1           0.0              0.0                 0   \n",
       "19               1           0.0              0.0                 0   \n",
       "\n",
       "    total_revenue  \n",
       "0          1950.0  \n",
       "1          1950.0  \n",
       "2          1950.0  \n",
       "3          1950.0  \n",
       "4          1950.0  \n",
       "5          1950.0  \n",
       "6          1950.0  \n",
       "7          1950.0  \n",
       "8          1150.0  \n",
       "9           550.0  \n",
       "10          550.0  \n",
       "11         1150.0  \n",
       "12         1550.0  \n",
       "13          950.0  \n",
       "14          550.0  \n",
       "15         1350.0  \n",
       "16         1150.0  \n",
       "17         1950.0  \n",
       "18         1950.0  \n",
       "19         1950.0  "
      ]
     },
     "execution_count": 261,
     "metadata": {},
     "output_type": "execute_result"
    }
   ],
   "source": [
    "full['total_revenue'] = full.apply(monthly_total_revenue, axis=1)\n",
    "full.head(20)"
   ]
  },
  {
   "cell_type": "code",
   "execution_count": 262,
   "metadata": {},
   "outputs": [
    {
     "data": {
      "text/plain": [
       "user_id                    0\n",
       "month                      0\n",
       "calls_count               40\n",
       "calls_duration            40\n",
       "messages_count           497\n",
       "mb_sum                     0\n",
       "tariff_name                0\n",
       "city                       0\n",
       "messages_included          0\n",
       "mb_per_month_included      0\n",
       "minutes_included           0\n",
       "rub_monthly_fee            0\n",
       "rub_per_gb                 0\n",
       "rub_per_message            0\n",
       "rub_per_minute             0\n",
       "call_revenue               0\n",
       "message_revenue            0\n",
       "internet_revenue           0\n",
       "total_revenue              0\n",
       "dtype: int64"
      ]
     },
     "execution_count": 262,
     "metadata": {},
     "output_type": "execute_result"
    }
   ],
   "source": [
    "full.isna().sum()"
   ]
  },
  {
   "cell_type": "markdown",
   "metadata": {},
   "source": [
    "пустоты означают что человек в этом месяце не пользовался звонками или сообщениями, заменим пустые значения на 0 точно так же как мы ранее заменили пустоты на 0 в переменной mb_sum :"
   ]
  },
  {
   "cell_type": "code",
   "execution_count": 263,
   "metadata": {},
   "outputs": [],
   "source": [
    "full['calls_count'] = full['calls_count'].fillna(0)\n",
    "full['calls_duration'] = full['calls_duration'].fillna(0)\n",
    "full['messages_count'] = full['messages_count'].fillna(0)"
   ]
  },
  {
   "cell_type": "markdown",
   "metadata": {},
   "source": [
    "и проверим что пустот больше нет"
   ]
  },
  {
   "cell_type": "code",
   "execution_count": 264,
   "metadata": {},
   "outputs": [
    {
     "data": {
      "text/plain": [
       "user_id                  0\n",
       "month                    0\n",
       "calls_count              0\n",
       "calls_duration           0\n",
       "messages_count           0\n",
       "mb_sum                   0\n",
       "tariff_name              0\n",
       "city                     0\n",
       "messages_included        0\n",
       "mb_per_month_included    0\n",
       "minutes_included         0\n",
       "rub_monthly_fee          0\n",
       "rub_per_gb               0\n",
       "rub_per_message          0\n",
       "rub_per_minute           0\n",
       "call_revenue             0\n",
       "message_revenue          0\n",
       "internet_revenue         0\n",
       "total_revenue            0\n",
       "dtype: int64"
      ]
     },
     "execution_count": 264,
     "metadata": {},
     "output_type": "execute_result"
    }
   ],
   "source": [
    "full.isna().sum()"
   ]
  },
  {
   "cell_type": "markdown",
   "metadata": {},
   "source": [
    "## Проанализируем данные"
   ]
  },
  {
   "cell_type": "markdown",
   "metadata": {},
   "source": [
    "Сначала посмотрим сколько месяцев пользуются тарифами ultra а сколько тарифом smart"
   ]
  },
  {
   "cell_type": "code",
   "execution_count": 265,
   "metadata": {},
   "outputs": [
    {
     "data": {
      "text/plain": [
       "tariff_name\n",
       "smart    2229\n",
       "ultra     985\n",
       "Name: user_id, dtype: int64"
      ]
     },
     "execution_count": 265,
     "metadata": {},
     "output_type": "execute_result"
    }
   ],
   "source": [
    "full.groupby('tariff_name')['user_id'].count()"
   ]
  },
  {
   "cell_type": "markdown",
   "metadata": {},
   "source": [
    "месяцев в которых пользователись тарифом smart чуть больше чем в 2 раза больше, нужно учесть это при анализе данных"
   ]
  },
  {
   "cell_type": "markdown",
   "metadata": {},
   "source": [
    "рассчитаем среднее, медиану, дисперсию и стандартное отклонение для минут разговора, количества сообщений и для объёма интернет-трафика:"
   ]
  },
  {
   "cell_type": "code",
   "execution_count": 266,
   "metadata": {},
   "outputs": [
    {
     "data": {
      "text/html": [
       "<div>\n",
       "<style scoped>\n",
       "    .dataframe tbody tr th:only-of-type {\n",
       "        vertical-align: middle;\n",
       "    }\n",
       "\n",
       "    .dataframe tbody tr th {\n",
       "        vertical-align: top;\n",
       "    }\n",
       "\n",
       "    .dataframe thead tr th {\n",
       "        text-align: left;\n",
       "    }\n",
       "\n",
       "    .dataframe thead tr:last-of-type th {\n",
       "        text-align: right;\n",
       "    }\n",
       "</style>\n",
       "<table border=\"1\" class=\"dataframe\">\n",
       "  <thead>\n",
       "    <tr>\n",
       "      <th></th>\n",
       "      <th colspan=\"3\" halign=\"left\">mean</th>\n",
       "      <th colspan=\"3\" halign=\"left\">median</th>\n",
       "      <th colspan=\"3\" halign=\"left\">var</th>\n",
       "      <th colspan=\"3\" halign=\"left\">std</th>\n",
       "    </tr>\n",
       "    <tr>\n",
       "      <th></th>\n",
       "      <th>calls_duration</th>\n",
       "      <th>mb_sum</th>\n",
       "      <th>messages_count</th>\n",
       "      <th>calls_duration</th>\n",
       "      <th>mb_sum</th>\n",
       "      <th>messages_count</th>\n",
       "      <th>calls_duration</th>\n",
       "      <th>mb_sum</th>\n",
       "      <th>messages_count</th>\n",
       "      <th>calls_duration</th>\n",
       "      <th>mb_sum</th>\n",
       "      <th>messages_count</th>\n",
       "    </tr>\n",
       "    <tr>\n",
       "      <th>tariff_name</th>\n",
       "      <th></th>\n",
       "      <th></th>\n",
       "      <th></th>\n",
       "      <th></th>\n",
       "      <th></th>\n",
       "      <th></th>\n",
       "      <th></th>\n",
       "      <th></th>\n",
       "      <th></th>\n",
       "      <th></th>\n",
       "      <th></th>\n",
       "      <th></th>\n",
       "    </tr>\n",
       "  </thead>\n",
       "  <tbody>\n",
       "    <tr>\n",
       "      <th>smart</th>\n",
       "      <td>417.934948</td>\n",
       "      <td>16208.873486</td>\n",
       "      <td>33.384029</td>\n",
       "      <td>422.0</td>\n",
       "      <td>16507</td>\n",
       "      <td>28.0</td>\n",
       "      <td>36219.315784</td>\n",
       "      <td>3.446256e+07</td>\n",
       "      <td>796.812958</td>\n",
       "      <td>190.313730</td>\n",
       "      <td>5870.482332</td>\n",
       "      <td>28.227876</td>\n",
       "    </tr>\n",
       "    <tr>\n",
       "      <th>ultra</th>\n",
       "      <td>526.623350</td>\n",
       "      <td>19469.308629</td>\n",
       "      <td>49.363452</td>\n",
       "      <td>518.0</td>\n",
       "      <td>19309</td>\n",
       "      <td>38.0</td>\n",
       "      <td>100873.633397</td>\n",
       "      <td>1.017516e+08</td>\n",
       "      <td>2285.266143</td>\n",
       "      <td>317.606098</td>\n",
       "      <td>10087.197726</td>\n",
       "      <td>47.804457</td>\n",
       "    </tr>\n",
       "  </tbody>\n",
       "</table>\n",
       "</div>"
      ],
      "text/plain": [
       "                      mean                                      median         \\\n",
       "            calls_duration        mb_sum messages_count calls_duration mb_sum   \n",
       "tariff_name                                                                     \n",
       "smart           417.934948  16208.873486      33.384029          422.0  16507   \n",
       "ultra           526.623350  19469.308629      49.363452          518.0  19309   \n",
       "\n",
       "                                      var                               \\\n",
       "            messages_count calls_duration        mb_sum messages_count   \n",
       "tariff_name                                                              \n",
       "smart                 28.0   36219.315784  3.446256e+07     796.812958   \n",
       "ultra                 38.0  100873.633397  1.017516e+08    2285.266143   \n",
       "\n",
       "                       std                               \n",
       "            calls_duration        mb_sum messages_count  \n",
       "tariff_name                                              \n",
       "smart           190.313730   5870.482332      28.227876  \n",
       "ultra           317.606098  10087.197726      47.804457  "
      ]
     },
     "execution_count": 266,
     "metadata": {},
     "output_type": "execute_result"
    }
   ],
   "source": [
    "full.pivot_table(index = 'tariff_name', values = ['calls_duration','messages_count','mb_sum'], aggfunc = ['mean','median','var','std'])"
   ]
  },
  {
   "cell_type": "markdown",
   "metadata": {},
   "source": [
    "построим гистограммы для этих переменных:\n",
    "начнем с продолжительности звонка"
   ]
  },
  {
   "cell_type": "code",
   "execution_count": 267,
   "metadata": {},
   "outputs": [
    {
     "data": {
      "text/plain": [
       "Text(0.5, 0, 'продолжительность звонка для тариф ultra')"
      ]
     },
     "execution_count": 267,
     "metadata": {},
     "output_type": "execute_result"
    },
    {
     "data": {
      "image/png": "[encoded data removed]",
      "text/plain": [
       "<Figure size 432x288 with 1 Axes>"
      ]
     },
     "metadata": {
      "needs_background": "light"
     },
     "output_type": "display_data"
    },
    {
     "data": {
      "image/png": "[encoded data removed]",
      "text/plain": [
       "<Figure size 432x288 with 1 Axes>"
      ]
     },
     "metadata": {
      "needs_background": "light"
     },
     "output_type": "display_data"
    }
   ],
   "source": [
    "full.query('tariff_name == \"smart\"').plot(kind='hist',y='calls_duration',bins = 100, grid=True)\n",
    "plt.xlabel(\"продолжительность звонка для тариф smart\")\n",
    "full.query('tariff_name == \"ultra\"').plot(kind='hist',y='calls_duration',bins = 100, grid=True)\n",
    "plt.xlabel(\"продолжительность звонка для тариф ultra\")"
   ]
  },
  {
   "cell_type": "markdown",
   "metadata": {},
   "source": [
    "в тарифе ultra гораздо больше людей не разговаривают по телефону вообще, но в среднем пользователи тарифа ultra дольше разговаривают "
   ]
  },
  {
   "cell_type": "code",
   "execution_count": 268,
   "metadata": {},
   "outputs": [
    {
     "data": {
      "text/plain": [
       "Text(0.5, 0, 'количество сообщений для тариф ultra')"
      ]
     },
     "execution_count": 268,
     "metadata": {},
     "output_type": "execute_result"
    },
    {
     "data": {
      "image/png": "[encoded data removed]",
      "text/plain": [
       "<Figure size 432x288 with 1 Axes>"
      ]
     },
     "metadata": {
      "needs_background": "light"
     },
     "output_type": "display_data"
    },
    {
     "data": {
      "image/png": "[encoded data removed]",
      "text/plain": [
       "<Figure size 432x288 with 1 Axes>"
      ]
     },
     "metadata": {
      "needs_background": "light"
     },
     "output_type": "display_data"
    }
   ],
   "source": [
    "full.query('tariff_name == \"smart\"').plot(kind='hist',y='messages_count',bins = 100, grid=True)\n",
    "plt.xlabel(\"количество сообщений для тариф smart\")\n",
    "full.query('tariff_name == \"ultra\"').plot(kind='hist',y='messages_count',bins = 100, grid=True)\n",
    "plt.xlabel(\"количество сообщений для тариф ultra\")"
   ]
  },
  {
   "cell_type": "markdown",
   "metadata": {},
   "source": [
    "в тарифе ультра меньше людей которые отправили 0 сообщений и в целом наблюдается больше сообщений чем в тарифе smart"
   ]
  },
  {
   "cell_type": "code",
   "execution_count": 269,
   "metadata": {},
   "outputs": [
    {
     "data": {
      "text/plain": [
       "Text(0.5, 0, 'объём интернет-трафика  для тариф ultra')"
      ]
     },
     "execution_count": 269,
     "metadata": {},
     "output_type": "execute_result"
    },
    {
     "data": {
      "image/png": "[encoded data removed]",
      "text/plain": [
       "<Figure size 432x288 with 1 Axes>"
      ]
     },
     "metadata": {
      "needs_background": "light"
     },
     "output_type": "display_data"
    },
    {
     "data": {
      "image/png": "[encoded data removed]",
      "text/plain": [
       "<Figure size 432x288 with 1 Axes>"
      ]
     },
     "metadata": {
      "needs_background": "light"
     },
     "output_type": "display_data"
    }
   ],
   "source": [
    "full.query('tariff_name == \"smart\"').plot(kind='hist',y='mb_sum',bins = 100, grid=True)\n",
    "plt.xlabel(\"объём интернет-трафика  для тариф smart\")\n",
    "full.query('tariff_name == \"ultra\"').plot(kind='hist',y='mb_sum',bins = 100, grid=True)\n",
    "plt.xlabel(\"объём интернет-трафика  для тариф ultra\")"
   ]
  },
  {
   "cell_type": "markdown",
   "metadata": {},
   "source": [
    "пользователи тарифа ultra гораздо больше пользуются интеренетом "
   ]
  },
  {
   "cell_type": "markdown",
   "metadata": {},
   "source": [
    "посчитаем среднюю выручку для пользователей разных тарифов"
   ]
  },
  {
   "cell_type": "code",
   "execution_count": 270,
   "metadata": {},
   "outputs": [
    {
     "data": {
      "text/html": [
       "<div>\n",
       "<style scoped>\n",
       "    .dataframe tbody tr th:only-of-type {\n",
       "        vertical-align: middle;\n",
       "    }\n",
       "\n",
       "    .dataframe tbody tr th {\n",
       "        vertical-align: top;\n",
       "    }\n",
       "\n",
       "    .dataframe thead tr th {\n",
       "        text-align: left;\n",
       "    }\n",
       "\n",
       "    .dataframe thead tr:last-of-type th {\n",
       "        text-align: right;\n",
       "    }\n",
       "</style>\n",
       "<table border=\"1\" class=\"dataframe\">\n",
       "  <thead>\n",
       "    <tr>\n",
       "      <th></th>\n",
       "      <th>mean</th>\n",
       "      <th>median</th>\n",
       "      <th>var</th>\n",
       "      <th>std</th>\n",
       "    </tr>\n",
       "    <tr>\n",
       "      <th></th>\n",
       "      <th>total_revenue</th>\n",
       "      <th>total_revenue</th>\n",
       "      <th>total_revenue</th>\n",
       "      <th>total_revenue</th>\n",
       "    </tr>\n",
       "    <tr>\n",
       "      <th>tariff_name</th>\n",
       "      <th></th>\n",
       "      <th></th>\n",
       "      <th></th>\n",
       "      <th></th>\n",
       "    </tr>\n",
       "  </thead>\n",
       "  <tbody>\n",
       "    <tr>\n",
       "      <th>smart</th>\n",
       "      <td>1289.973531</td>\n",
       "      <td>1023.0</td>\n",
       "      <td>669785.708006</td>\n",
       "      <td>818.404367</td>\n",
       "    </tr>\n",
       "    <tr>\n",
       "      <th>ultra</th>\n",
       "      <td>2070.152284</td>\n",
       "      <td>1950.0</td>\n",
       "      <td>141516.745079</td>\n",
       "      <td>376.187114</td>\n",
       "    </tr>\n",
       "  </tbody>\n",
       "</table>\n",
       "</div>"
      ],
      "text/plain": [
       "                     mean        median            var           std\n",
       "            total_revenue total_revenue  total_revenue total_revenue\n",
       "tariff_name                                                         \n",
       "smart         1289.973531        1023.0  669785.708006    818.404367\n",
       "ultra         2070.152284        1950.0  141516.745079    376.187114"
      ]
     },
     "execution_count": 270,
     "metadata": {},
     "output_type": "execute_result"
    }
   ],
   "source": [
    "full.pivot_table(index = 'tariff_name', values = 'total_revenue', aggfunc = ['mean','median','var','std'])"
   ]
  },
  {
   "cell_type": "markdown",
   "metadata": {},
   "source": [
    "выводы из анализа гистограмм следующие:\n",
    "\n",
    "1)в среднем пользователи тарифа ultra пользуются всеми услугами больше\n",
    "\n",
    "2)разброс показателей гораздо больше для тарифа ultra\n",
    "\n",
    "3)в обоих тарифах есть люди которые не звонят или не пользуются сообщениями или интернетом\n",
    "\n",
    "4)распределения представляют собой нормальное распределение, c сильной скошенностью влево по количеству сообщений.\n",
    "\n"
   ]
  },
  {
   "cell_type": "markdown",
   "metadata": {},
   "source": [
    "## Проверим гипотезы"
   ]
  },
  {
   "cell_type": "markdown",
   "metadata": {},
   "source": [
    "проверим гипотезу \"средняя выручка пользователей тарифов «Ультра» и «Смарт» различаются\".\n",
    "За нулевую гипотезу примем утверждение \"средняя выручка пользователей тарифов «Ультра» и «Смарт» равна\"\n",
    "За альтернативную примем \"средняя выручка пользователей тарифов «Ультра» и «Смарт» неравна\"\n"
   ]
  },
  {
   "cell_type": "markdown",
   "metadata": {},
   "source": [
    "критический уровень статистической значимости зададим равным 0.05\n",
    "так как пользователи тарифа smart и пользователи тарифа ultra независимые генеральные совокупности используем метод scipy.stats.ttest_ind"
   ]
  },
  {
   "cell_type": "code",
   "execution_count": 271,
   "metadata": {},
   "outputs": [
    {
     "name": "stdout",
     "output_type": "stream",
     "text": [
      "p-значение: 1.4229814360764067e-160\n",
      "Отвергаем нулевую гипотезу\n"
     ]
    }
   ],
   "source": [
    "total_revenue_smart =  full.query('tariff_name == \"smart\"')['total_revenue']\n",
    "total_revenue_ultra =  full.query('tariff_name == \"ultra\"')['total_revenue']\n",
    "\n",
    "alpha = 0.05 \n",
    "\n",
    " \n",
    "results = st.ttest_ind(\n",
    "    total_revenue_smart, \n",
    "    total_revenue_ultra)\n",
    "\n",
    "\n",
    "print('p-значение:', results.pvalue)\n",
    "\n",
    "if results.pvalue < alpha:\n",
    "    print(\"Отвергаем нулевую гипотезу\")\n",
    "else:\n",
    "    print(\"Не получилось отвергнуть нулевую гипотезу\")"
   ]
  },
  {
   "cell_type": "markdown",
   "metadata": {},
   "source": [
    "проверка гипотезы показывает что равенство выручек, полученных с пользователей тарифов «Ультра» и «Смарт» очень маловероятно."
   ]
  },
  {
   "cell_type": "markdown",
   "metadata": {},
   "source": [
    "проверим гипотезу \"средняя выручка пользователей из Москвы отличается от выручки пользователей из других регионов.\":\n",
    "таким образом нулевая гипотеза будет звучать так \"выручка пользователей из Москвы равна выручке пользователей из других городов\""
   ]
  },
  {
   "cell_type": "code",
   "execution_count": 272,
   "metadata": {},
   "outputs": [
    {
     "name": "stdout",
     "output_type": "stream",
     "text": [
      "p-значение: 0.5440152911670224\n",
      "Не получилось отвергнуть нулевую гипотезу\n"
     ]
    }
   ],
   "source": [
    "total_revenue_city_moscow_smart =  full.query('city == \"Москва\"')['total_revenue']\n",
    "total_revenue_city_other_smart =  full.query('city != \"Москва\"')['total_revenue']\n",
    "\n",
    "alpha = 0.05 \n",
    "\n",
    "results = st.ttest_ind(\n",
    "    total_revenue_city_moscow_smart, \n",
    "    total_revenue_city_other_smart)\n",
    "\n",
    "\n",
    "print('p-значение:', results.pvalue)\n",
    "\n",
    "if results.pvalue < alpha:\n",
    "    print(\"Отвергаем нулевую гипотезу\")\n",
    "else:\n",
    "    print(\"Не получилось отвергнуть нулевую гипотезу\")"
   ]
  },
  {
   "cell_type": "markdown",
   "metadata": {
    "scrolled": true
   },
   "source": [
    "проверка гипотезы показывает что мы не можем отбросить нулевую гипотезу о равенстве выручек пользователей из Москвы и других городов"
   ]
  },
  {
   "cell_type": "markdown",
   "metadata": {},
   "source": [
    "чтобы ответить на вопрос какой тариф наиболее выгоден построим еще одну таблицу с доходом"
   ]
  },
  {
   "cell_type": "code",
   "execution_count": 273,
   "metadata": {},
   "outputs": [
    {
     "data": {
      "text/html": [
       "<div>\n",
       "<style scoped>\n",
       "    .dataframe tbody tr th:only-of-type {\n",
       "        vertical-align: middle;\n",
       "    }\n",
       "\n",
       "    .dataframe tbody tr th {\n",
       "        vertical-align: top;\n",
       "    }\n",
       "\n",
       "    .dataframe thead tr th {\n",
       "        text-align: left;\n",
       "    }\n",
       "\n",
       "    .dataframe thead tr:last-of-type th {\n",
       "        text-align: right;\n",
       "    }\n",
       "</style>\n",
       "<table border=\"1\" class=\"dataframe\">\n",
       "  <thead>\n",
       "    <tr>\n",
       "      <th></th>\n",
       "      <th>mean</th>\n",
       "      <th>median</th>\n",
       "      <th>var</th>\n",
       "      <th>std</th>\n",
       "    </tr>\n",
       "    <tr>\n",
       "      <th></th>\n",
       "      <th>total_revenue</th>\n",
       "      <th>total_revenue</th>\n",
       "      <th>total_revenue</th>\n",
       "      <th>total_revenue</th>\n",
       "    </tr>\n",
       "    <tr>\n",
       "      <th>tariff_name</th>\n",
       "      <th></th>\n",
       "      <th></th>\n",
       "      <th></th>\n",
       "      <th></th>\n",
       "    </tr>\n",
       "  </thead>\n",
       "  <tbody>\n",
       "    <tr>\n",
       "      <th>smart</th>\n",
       "      <td>1289.973531</td>\n",
       "      <td>1023.0</td>\n",
       "      <td>669785.708006</td>\n",
       "      <td>818.404367</td>\n",
       "    </tr>\n",
       "    <tr>\n",
       "      <th>ultra</th>\n",
       "      <td>2070.152284</td>\n",
       "      <td>1950.0</td>\n",
       "      <td>141516.745079</td>\n",
       "      <td>376.187114</td>\n",
       "    </tr>\n",
       "  </tbody>\n",
       "</table>\n",
       "</div>"
      ],
      "text/plain": [
       "                     mean        median            var           std\n",
       "            total_revenue total_revenue  total_revenue total_revenue\n",
       "tariff_name                                                         \n",
       "smart         1289.973531        1023.0  669785.708006    818.404367\n",
       "ultra         2070.152284        1950.0  141516.745079    376.187114"
      ]
     },
     "execution_count": 273,
     "metadata": {},
     "output_type": "execute_result"
    }
   ],
   "source": [
    "full.pivot_table(index = 'tariff_name', values = 'total_revenue', aggfunc = ['mean','median','var','std'])"
   ]
  },
  {
   "cell_type": "code",
   "execution_count": 274,
   "metadata": {},
   "outputs": [
    {
     "name": "stdout",
     "output_type": "stream",
     "text": [
      "умножим медианную прибыль на количество месяцев в котором пользовались тарифом smart 2280267\n"
     ]
    }
   ],
   "source": [
    "print ('умножим медианную прибыль на количество месяцев в котором пользовались тарифом smart', 2229*1023)"
   ]
  },
  {
   "cell_type": "code",
   "execution_count": 275,
   "metadata": {},
   "outputs": [
    {
     "name": "stdout",
     "output_type": "stream",
     "text": [
      "умножим медианную прибыль на количество месяцев в котором пользовались тарифом ultra 1920750\n"
     ]
    }
   ],
   "source": [
    "print ('умножим медианную прибыль на количество месяцев в котором пользовались тарифом ultra', 985*1950)"
   ]
  },
  {
   "cell_type": "markdown",
   "metadata": {},
   "source": [
    "## Общий вывод"
   ]
  },
  {
   "cell_type": "markdown",
   "metadata": {},
   "source": [
    "Мы изучили данные о 500 пользователях оператора мобильной связи, а именно данные о звонках, сообщениях и использованному интернет-трафику. Приведя данные к нужным типам и округлив минуты и гигабайты в большую сторону мы построили гистограммы по этим параметрам для разных тарифов. Для каждого пользователя посчитали количество сделанных звонков, израсходованных минут, количество отправленных сообщений и помесячную выручку, отдельно для каждого источника прибыли(сообщения, звонки и интернет).  Можно заметить что пользователи тарифа ultra используют больше интернет-трафика, сообщений и чаще разговаривают. Средняя прибыль больше за пользователей ultra примерно на 800 руб. Мы так же отвергли гипотезу о том, что средняя выручка пользователей разных тарифов равна,но можно с высокой долей вероятности утверждать что средняя выручка пользователей из Москвы равна выручке пользователей из других регионов. Критический уровень статистической значимости был задан равным 0.05.\n",
    "\n",
    "Пользователи больше пользуются тарифом Smart, средний доход тоже выше у тарифа Smart, таким образом для оператора наиболее выгодным будет тариф Smart\n",
    "\n"
   ]
  }
 ],
 "metadata": {
  "ExecuteTimeLog": [
   {
    "duration": 216,
    "start_time": "2022-05-17T12:48:02.086Z"
   },
   {
    "duration": 204,
    "start_time": "2022-05-17T12:50:04.625Z"
   },
   {
    "duration": 1269,
    "start_time": "2022-05-17T13:49:48.839Z"
   },
   {
    "duration": 305,
    "start_time": "2022-05-17T14:08:20.761Z"
   },
   {
    "duration": 101,
    "start_time": "2022-05-17T14:09:14.150Z"
   },
   {
    "duration": 194,
    "start_time": "2022-05-17T14:09:32.888Z"
   },
   {
    "duration": 62,
    "start_time": "2022-05-17T14:09:33.085Z"
   },
   {
    "duration": 211,
    "start_time": "2022-05-17T14:18:18.189Z"
   },
   {
    "duration": 196,
    "start_time": "2022-05-17T14:18:25.568Z"
   },
   {
    "duration": 207,
    "start_time": "2022-05-17T14:18:34.382Z"
   },
   {
    "duration": 230,
    "start_time": "2022-05-17T14:23:04.080Z"
   },
   {
    "duration": 36,
    "start_time": "2022-05-17T14:23:09.780Z"
   },
   {
    "duration": 16,
    "start_time": "2022-05-17T14:23:19.976Z"
   },
   {
    "duration": 215,
    "start_time": "2022-05-17T14:23:47.754Z"
   },
   {
    "duration": 16,
    "start_time": "2022-05-17T14:23:47.971Z"
   },
   {
    "duration": 209,
    "start_time": "2022-05-17T14:26:04.861Z"
   },
   {
    "duration": 36,
    "start_time": "2022-05-17T14:26:07.229Z"
   },
   {
    "duration": 193,
    "start_time": "2022-05-17T14:26:48.083Z"
   },
   {
    "duration": 225,
    "start_time": "2022-05-17T14:33:00.941Z"
   },
   {
    "duration": 35,
    "start_time": "2022-05-17T14:33:01.459Z"
   },
   {
    "duration": 175,
    "start_time": "2022-05-17T14:33:01.681Z"
   },
   {
    "duration": 208,
    "start_time": "2022-05-17T14:38:50.075Z"
   },
   {
    "duration": 35,
    "start_time": "2022-05-17T14:38:50.286Z"
   },
   {
    "duration": 46,
    "start_time": "2022-05-17T14:38:50.661Z"
   },
   {
    "duration": 27,
    "start_time": "2022-05-17T14:38:50.852Z"
   },
   {
    "duration": 181,
    "start_time": "2022-05-17T14:38:51.781Z"
   },
   {
    "duration": 28,
    "start_time": "2022-05-17T14:39:36.307Z"
   },
   {
    "duration": 283,
    "start_time": "2022-05-17T14:39:52.241Z"
   },
   {
    "duration": 31,
    "start_time": "2022-05-17T14:40:01.263Z"
   },
   {
    "duration": 39,
    "start_time": "2022-05-17T14:40:28.644Z"
   },
   {
    "duration": 25,
    "start_time": "2022-05-17T14:40:33.159Z"
   },
   {
    "duration": 3,
    "start_time": "2022-05-17T15:08:24.942Z"
   },
   {
    "duration": 4,
    "start_time": "2022-05-17T15:22:11.895Z"
   },
   {
    "duration": 203,
    "start_time": "2022-05-17T15:22:12.641Z"
   },
   {
    "duration": 40,
    "start_time": "2022-05-17T15:22:15.051Z"
   },
   {
    "duration": 44,
    "start_time": "2022-05-17T15:22:18.862Z"
   },
   {
    "duration": 30,
    "start_time": "2022-05-17T15:22:22.056Z"
   },
   {
    "duration": 3,
    "start_time": "2022-05-17T15:23:47.337Z"
   },
   {
    "duration": 3,
    "start_time": "2022-05-17T15:23:55.367Z"
   },
   {
    "duration": 4,
    "start_time": "2022-05-17T15:50:16.389Z"
   },
   {
    "duration": 4,
    "start_time": "2022-05-17T15:50:50.174Z"
   },
   {
    "duration": 223,
    "start_time": "2022-05-17T15:50:50.642Z"
   },
   {
    "duration": 41,
    "start_time": "2022-05-17T15:50:50.917Z"
   },
   {
    "duration": 52,
    "start_time": "2022-05-17T15:50:51.895Z"
   },
   {
    "duration": 30,
    "start_time": "2022-05-17T15:51:01.278Z"
   },
   {
    "duration": 216,
    "start_time": "2022-05-17T15:51:01.808Z"
   },
   {
    "duration": 31,
    "start_time": "2022-05-17T15:51:03.975Z"
   },
   {
    "duration": 38,
    "start_time": "2022-05-17T15:51:04.472Z"
   },
   {
    "duration": 24,
    "start_time": "2022-05-17T15:51:04.960Z"
   },
   {
    "duration": 128,
    "start_time": "2022-05-17T15:51:05.598Z"
   },
   {
    "duration": 31,
    "start_time": "2022-05-17T15:51:06.243Z"
   },
   {
    "duration": 41,
    "start_time": "2022-05-17T15:51:06.686Z"
   },
   {
    "duration": 223,
    "start_time": "2022-05-17T15:51:18.072Z"
   },
   {
    "duration": 46,
    "start_time": "2022-05-17T15:51:42.378Z"
   },
   {
    "duration": 29,
    "start_time": "2022-05-17T15:51:43.206Z"
   },
   {
    "duration": 218,
    "start_time": "2022-05-17T15:52:04.566Z"
   },
   {
    "duration": 33,
    "start_time": "2022-05-17T15:52:07.596Z"
   },
   {
    "duration": 41,
    "start_time": "2022-05-17T15:52:08.317Z"
   },
   {
    "duration": 35,
    "start_time": "2022-05-17T15:52:08.842Z"
   },
   {
    "duration": 5,
    "start_time": "2022-05-17T16:17:45.221Z"
   },
   {
    "duration": 32,
    "start_time": "2022-05-17T16:18:18.826Z"
   },
   {
    "duration": 21,
    "start_time": "2022-05-17T16:18:34.643Z"
   },
   {
    "duration": 17,
    "start_time": "2022-05-17T16:18:42.968Z"
   },
   {
    "duration": 4,
    "start_time": "2022-05-17T16:18:53.103Z"
   },
   {
    "duration": 205,
    "start_time": "2022-05-17T16:18:53.863Z"
   },
   {
    "duration": 46,
    "start_time": "2022-05-17T16:18:56.741Z"
   },
   {
    "duration": 173,
    "start_time": "2022-05-17T16:19:04.167Z"
   },
   {
    "duration": 31,
    "start_time": "2022-05-17T16:19:06.305Z"
   },
   {
    "duration": 131,
    "start_time": "2022-05-17T16:19:09.237Z"
   },
   {
    "duration": 34,
    "start_time": "2022-05-17T16:19:11.533Z"
   },
   {
    "duration": 27,
    "start_time": "2022-05-17T16:19:14.610Z"
   },
   {
    "duration": 22,
    "start_time": "2022-05-17T16:19:17.342Z"
   },
   {
    "duration": 187,
    "start_time": "2022-05-17T16:22:48.983Z"
   },
   {
    "duration": 30,
    "start_time": "2022-05-17T16:22:49.172Z"
   },
   {
    "duration": 227,
    "start_time": "2022-05-17T18:25:03.033Z"
   },
   {
    "duration": 50,
    "start_time": "2022-05-17T18:25:12.218Z"
   },
   {
    "duration": 880,
    "start_time": "2022-05-17T18:25:17.126Z"
   },
   {
    "duration": 173,
    "start_time": "2022-05-17T18:25:18.009Z"
   },
   {
    "duration": 30,
    "start_time": "2022-05-17T18:25:18.184Z"
   },
   {
    "duration": 154,
    "start_time": "2022-05-17T18:25:18.216Z"
   },
   {
    "duration": 24,
    "start_time": "2022-05-17T18:25:18.372Z"
   },
   {
    "duration": 7,
    "start_time": "2022-05-17T18:25:18.397Z"
   },
   {
    "duration": 119,
    "start_time": "2022-05-17T18:25:18.405Z"
   },
   {
    "duration": 33,
    "start_time": "2022-05-17T18:25:18.525Z"
   },
   {
    "duration": 22,
    "start_time": "2022-05-17T18:25:18.560Z"
   },
   {
    "duration": 13,
    "start_time": "2022-05-17T18:25:18.584Z"
   },
   {
    "duration": 43,
    "start_time": "2022-05-17T18:25:18.598Z"
   },
   {
    "duration": 13,
    "start_time": "2022-05-17T18:25:18.642Z"
   },
   {
    "duration": 43,
    "start_time": "2022-05-17T18:25:18.657Z"
   },
   {
    "duration": 0,
    "start_time": "2022-05-17T18:25:18.702Z"
   },
   {
    "duration": 0,
    "start_time": "2022-05-17T18:25:18.704Z"
   },
   {
    "duration": 0,
    "start_time": "2022-05-17T18:25:18.706Z"
   },
   {
    "duration": 3,
    "start_time": "2022-05-17T18:26:03.363Z"
   },
   {
    "duration": 8,
    "start_time": "2022-05-17T18:26:08.897Z"
   },
   {
    "duration": 5,
    "start_time": "2022-05-17T18:26:19.403Z"
   },
   {
    "duration": 23,
    "start_time": "2022-05-17T18:34:45.099Z"
   },
   {
    "duration": 20,
    "start_time": "2022-05-17T18:35:33.422Z"
   },
   {
    "duration": 5,
    "start_time": "2022-05-17T18:35:39.797Z"
   },
   {
    "duration": 10,
    "start_time": "2022-05-17T18:36:22.989Z"
   },
   {
    "duration": 9,
    "start_time": "2022-05-17T18:36:31.242Z"
   },
   {
    "duration": 17,
    "start_time": "2022-05-17T18:42:17.520Z"
   },
   {
    "duration": 15,
    "start_time": "2022-05-17T18:42:44.893Z"
   },
   {
    "duration": 17,
    "start_time": "2022-05-17T18:42:55.687Z"
   },
   {
    "duration": 18,
    "start_time": "2022-05-17T18:43:05.622Z"
   },
   {
    "duration": 136,
    "start_time": "2022-05-17T18:45:37.821Z"
   },
   {
    "duration": 6,
    "start_time": "2022-05-17T18:45:44.177Z"
   },
   {
    "duration": 5,
    "start_time": "2022-05-17T18:47:13.949Z"
   },
   {
    "duration": 4,
    "start_time": "2022-05-17T18:49:20.973Z"
   },
   {
    "duration": 4,
    "start_time": "2022-05-17T18:49:26.035Z"
   },
   {
    "duration": 10,
    "start_time": "2022-05-17T18:49:34.131Z"
   },
   {
    "duration": 10,
    "start_time": "2022-05-17T18:49:46.056Z"
   },
   {
    "duration": 204,
    "start_time": "2022-05-17T18:51:14.746Z"
   },
   {
    "duration": 7,
    "start_time": "2022-05-17T18:51:25.625Z"
   },
   {
    "duration": 9,
    "start_time": "2022-05-17T18:51:50.279Z"
   },
   {
    "duration": 8,
    "start_time": "2022-05-17T18:51:55.523Z"
   },
   {
    "duration": 3,
    "start_time": "2022-05-17T19:00:54.240Z"
   },
   {
    "duration": 167,
    "start_time": "2022-05-17T19:00:55.213Z"
   },
   {
    "duration": 28,
    "start_time": "2022-05-17T19:00:57.364Z"
   },
   {
    "duration": 134,
    "start_time": "2022-05-17T19:01:43.930Z"
   },
   {
    "duration": 24,
    "start_time": "2022-05-17T19:01:47.798Z"
   },
   {
    "duration": 24,
    "start_time": "2022-05-17T19:06:09.696Z"
   },
   {
    "duration": 36,
    "start_time": "2022-05-17T19:07:23.834Z"
   },
   {
    "duration": 147,
    "start_time": "2022-05-17T19:07:36.636Z"
   },
   {
    "duration": 24,
    "start_time": "2022-05-17T19:07:40.101Z"
   },
   {
    "duration": 8,
    "start_time": "2022-05-17T19:07:41.383Z"
   },
   {
    "duration": 34,
    "start_time": "2022-05-17T19:07:45.725Z"
   },
   {
    "duration": 7,
    "start_time": "2022-05-17T19:11:55.899Z"
   },
   {
    "duration": 15,
    "start_time": "2022-05-17T19:11:56.656Z"
   },
   {
    "duration": 24,
    "start_time": "2022-05-17T19:12:04.756Z"
   },
   {
    "duration": 3,
    "start_time": "2022-05-17T19:12:11.829Z"
   },
   {
    "duration": 178,
    "start_time": "2022-05-17T19:12:12.217Z"
   },
   {
    "duration": 28,
    "start_time": "2022-05-17T19:12:12.409Z"
   },
   {
    "duration": 144,
    "start_time": "2022-05-17T19:12:12.977Z"
   },
   {
    "duration": 24,
    "start_time": "2022-05-17T19:12:13.176Z"
   },
   {
    "duration": 8,
    "start_time": "2022-05-17T19:12:16.448Z"
   },
   {
    "duration": 34,
    "start_time": "2022-05-17T19:12:20.321Z"
   },
   {
    "duration": 26,
    "start_time": "2022-05-17T19:13:08.698Z"
   },
   {
    "duration": 24,
    "start_time": "2022-05-17T19:13:21.167Z"
   },
   {
    "duration": 3,
    "start_time": "2022-05-17T19:13:27.023Z"
   },
   {
    "duration": 169,
    "start_time": "2022-05-17T19:13:27.397Z"
   },
   {
    "duration": 28,
    "start_time": "2022-05-17T19:13:27.570Z"
   },
   {
    "duration": 147,
    "start_time": "2022-05-17T19:13:28.145Z"
   },
   {
    "duration": 24,
    "start_time": "2022-05-17T19:13:28.358Z"
   },
   {
    "duration": 9,
    "start_time": "2022-05-17T19:13:33.070Z"
   },
   {
    "duration": 25,
    "start_time": "2022-05-17T19:13:34.644Z"
   },
   {
    "duration": 8,
    "start_time": "2022-05-17T19:13:48.192Z"
   },
   {
    "duration": 8,
    "start_time": "2022-05-17T19:14:37.674Z"
   },
   {
    "duration": 15,
    "start_time": "2022-05-17T19:15:05.949Z"
   },
   {
    "duration": 2,
    "start_time": "2022-05-17T19:15:10.558Z"
   },
   {
    "duration": 155,
    "start_time": "2022-05-17T19:15:10.933Z"
   },
   {
    "duration": 29,
    "start_time": "2022-05-17T19:15:11.106Z"
   },
   {
    "duration": 143,
    "start_time": "2022-05-17T19:15:11.653Z"
   },
   {
    "duration": 24,
    "start_time": "2022-05-17T19:15:11.825Z"
   },
   {
    "duration": 7,
    "start_time": "2022-05-17T19:15:13.971Z"
   },
   {
    "duration": 8,
    "start_time": "2022-05-17T19:15:15.177Z"
   },
   {
    "duration": 23,
    "start_time": "2022-05-17T19:15:55.716Z"
   },
   {
    "duration": 23,
    "start_time": "2022-05-17T19:16:11.107Z"
   },
   {
    "duration": 33,
    "start_time": "2022-05-17T19:18:27.472Z"
   },
   {
    "duration": 34,
    "start_time": "2022-05-17T19:18:33.041Z"
   },
   {
    "duration": 31,
    "start_time": "2022-05-17T19:18:40.941Z"
   },
   {
    "duration": 34,
    "start_time": "2022-05-17T19:19:06.864Z"
   },
   {
    "duration": 12,
    "start_time": "2022-05-17T19:21:48.137Z"
   },
   {
    "duration": 156,
    "start_time": "2022-05-17T19:23:04.910Z"
   },
   {
    "duration": 101,
    "start_time": "2022-05-17T19:25:35.628Z"
   },
   {
    "duration": 22,
    "start_time": "2022-05-17T19:25:37.945Z"
   },
   {
    "duration": 101,
    "start_time": "2022-05-17T19:26:00.387Z"
   },
   {
    "duration": 23,
    "start_time": "2022-05-17T19:26:01.428Z"
   },
   {
    "duration": 101,
    "start_time": "2022-05-17T19:26:14.234Z"
   },
   {
    "duration": 22,
    "start_time": "2022-05-17T19:26:15.776Z"
   },
   {
    "duration": 21,
    "start_time": "2022-05-17T19:26:34.617Z"
   },
   {
    "duration": 12,
    "start_time": "2022-05-17T19:26:42.817Z"
   },
   {
    "duration": 42,
    "start_time": "2022-05-17T19:27:15.866Z"
   },
   {
    "duration": 12,
    "start_time": "2022-05-17T19:27:19.955Z"
   },
   {
    "duration": 144,
    "start_time": "2022-05-17T19:32:00.245Z"
   },
   {
    "duration": 8,
    "start_time": "2022-05-17T19:32:27.604Z"
   },
   {
    "duration": 7,
    "start_time": "2022-05-17T19:35:04.172Z"
   },
   {
    "duration": 3,
    "start_time": "2022-05-17T19:35:09.832Z"
   },
   {
    "duration": 175,
    "start_time": "2022-05-17T19:35:09.837Z"
   },
   {
    "duration": 28,
    "start_time": "2022-05-17T19:35:10.014Z"
   },
   {
    "duration": 139,
    "start_time": "2022-05-17T19:35:10.057Z"
   },
   {
    "duration": 24,
    "start_time": "2022-05-17T19:35:10.198Z"
   },
   {
    "duration": 7,
    "start_time": "2022-05-17T19:35:10.224Z"
   },
   {
    "duration": 105,
    "start_time": "2022-05-17T19:35:10.232Z"
   },
   {
    "duration": 30,
    "start_time": "2022-05-17T19:35:10.339Z"
   },
   {
    "duration": 22,
    "start_time": "2022-05-17T19:35:10.371Z"
   },
   {
    "duration": 12,
    "start_time": "2022-05-17T19:35:10.395Z"
   },
   {
    "duration": 40,
    "start_time": "2022-05-17T19:35:10.409Z"
   },
   {
    "duration": 13,
    "start_time": "2022-05-17T19:35:10.450Z"
   },
   {
    "duration": 13,
    "start_time": "2022-05-17T19:35:10.465Z"
   },
   {
    "duration": 0,
    "start_time": "2022-05-17T19:35:10.480Z"
   },
   {
    "duration": 0,
    "start_time": "2022-05-17T19:35:10.482Z"
   },
   {
    "duration": 0,
    "start_time": "2022-05-17T19:35:10.483Z"
   },
   {
    "duration": 7,
    "start_time": "2022-05-17T19:35:24.410Z"
   },
   {
    "duration": 34,
    "start_time": "2022-05-17T19:39:03.587Z"
   },
   {
    "duration": 29,
    "start_time": "2022-05-17T19:40:31.919Z"
   },
   {
    "duration": 26,
    "start_time": "2022-05-17T19:40:40.794Z"
   },
   {
    "duration": 22,
    "start_time": "2022-05-17T19:40:44.927Z"
   },
   {
    "duration": 3655,
    "start_time": "2022-05-17T19:40:48.832Z"
   },
   {
    "duration": 3,
    "start_time": "2022-05-17T19:41:38.070Z"
   },
   {
    "duration": 2302,
    "start_time": "2022-05-17T19:41:40.149Z"
   },
   {
    "duration": 4,
    "start_time": "2022-05-17T19:41:56.543Z"
   },
   {
    "duration": 15,
    "start_time": "2022-05-17T20:55:53.936Z"
   },
   {
    "duration": 64,
    "start_time": "2022-05-17T20:55:54.112Z"
   },
   {
    "duration": 13,
    "start_time": "2022-05-17T20:55:54.315Z"
   },
   {
    "duration": 2,
    "start_time": "2022-05-17T20:55:54.499Z"
   },
   {
    "duration": 4,
    "start_time": "2022-05-17T20:55:54.699Z"
   },
   {
    "duration": 3,
    "start_time": "2022-05-17T20:56:51.487Z"
   },
   {
    "duration": 153,
    "start_time": "2022-05-17T20:56:52.837Z"
   },
   {
    "duration": 28,
    "start_time": "2022-05-17T20:56:55.114Z"
   },
   {
    "duration": 168,
    "start_time": "2022-05-17T21:17:05.037Z"
   },
   {
    "duration": 8,
    "start_time": "2022-05-17T22:39:11.079Z"
   },
   {
    "duration": 3,
    "start_time": "2022-05-17T22:39:57.163Z"
   },
   {
    "duration": 173,
    "start_time": "2022-05-17T22:40:01.307Z"
   },
   {
    "duration": 30,
    "start_time": "2022-05-17T22:40:01.482Z"
   },
   {
    "duration": 153,
    "start_time": "2022-05-17T22:40:01.997Z"
   },
   {
    "duration": 25,
    "start_time": "2022-05-17T22:40:02.170Z"
   },
   {
    "duration": 9,
    "start_time": "2022-05-17T22:40:02.535Z"
   },
   {
    "duration": 105,
    "start_time": "2022-05-17T22:40:03.233Z"
   },
   {
    "duration": 23,
    "start_time": "2022-05-17T22:40:03.416Z"
   },
   {
    "duration": 22,
    "start_time": "2022-05-17T22:40:04.020Z"
   },
   {
    "duration": 13,
    "start_time": "2022-05-17T22:40:04.149Z"
   },
   {
    "duration": 40,
    "start_time": "2022-05-17T22:40:06.502Z"
   },
   {
    "duration": 13,
    "start_time": "2022-05-17T22:40:06.681Z"
   },
   {
    "duration": 34,
    "start_time": "2022-05-17T22:40:07.937Z"
   },
   {
    "duration": 26,
    "start_time": "2022-05-17T22:40:08.125Z"
   },
   {
    "duration": 22,
    "start_time": "2022-05-17T22:40:08.321Z"
   },
   {
    "duration": 3,
    "start_time": "2022-05-17T22:40:08.477Z"
   },
   {
    "duration": 5,
    "start_time": "2022-05-17T22:40:09.883Z"
   },
   {
    "duration": 10,
    "start_time": "2022-05-17T22:40:11.006Z"
   },
   {
    "duration": 10,
    "start_time": "2022-05-17T22:40:29.461Z"
   },
   {
    "duration": 10,
    "start_time": "2022-05-17T22:42:00.866Z"
   },
   {
    "duration": 8,
    "start_time": "2022-05-17T22:47:01.045Z"
   },
   {
    "duration": 60,
    "start_time": "2022-05-17T22:47:15.749Z"
   },
   {
    "duration": 58,
    "start_time": "2022-05-17T22:47:41.773Z"
   },
   {
    "duration": 8,
    "start_time": "2022-05-17T22:47:55.122Z"
   },
   {
    "duration": 6,
    "start_time": "2022-05-17T22:50:11.436Z"
   },
   {
    "duration": 6,
    "start_time": "2022-05-17T22:50:20.158Z"
   },
   {
    "duration": 20,
    "start_time": "2022-05-17T22:51:11.715Z"
   },
   {
    "duration": 989,
    "start_time": "2022-05-18T15:13:17.884Z"
   },
   {
    "duration": 525,
    "start_time": "2022-05-18T15:13:19.116Z"
   },
   {
    "duration": 26,
    "start_time": "2022-05-18T15:13:22.461Z"
   },
   {
    "duration": 436,
    "start_time": "2022-05-18T15:13:35.198Z"
   },
   {
    "duration": 23,
    "start_time": "2022-05-18T15:13:36.083Z"
   },
   {
    "duration": 335,
    "start_time": "2022-05-18T15:13:57.512Z"
   },
   {
    "duration": 19,
    "start_time": "2022-05-18T15:13:58.518Z"
   },
   {
    "duration": 82,
    "start_time": "2022-05-18T15:14:18.878Z"
   },
   {
    "duration": 12,
    "start_time": "2022-05-18T15:14:27.649Z"
   },
   {
    "duration": 95,
    "start_time": "2022-05-18T15:14:28.491Z"
   },
   {
    "duration": 13,
    "start_time": "2022-05-18T15:14:30.947Z"
   },
   {
    "duration": 35,
    "start_time": "2022-05-18T15:14:35.610Z"
   },
   {
    "duration": 28,
    "start_time": "2022-05-18T15:14:35.841Z"
   },
   {
    "duration": 21,
    "start_time": "2022-05-18T15:14:36.043Z"
   },
   {
    "duration": 2,
    "start_time": "2022-05-18T15:14:36.259Z"
   },
   {
    "duration": 4,
    "start_time": "2022-05-18T15:14:36.990Z"
   },
   {
    "duration": 65,
    "start_time": "2022-05-18T15:14:40.409Z"
   },
   {
    "duration": 9,
    "start_time": "2022-05-18T15:14:42.853Z"
   },
   {
    "duration": 20,
    "start_time": "2022-05-18T15:14:46.581Z"
   },
   {
    "duration": 4,
    "start_time": "2022-05-18T15:15:30.549Z"
   },
   {
    "duration": 5,
    "start_time": "2022-05-18T15:15:41.959Z"
   },
   {
    "duration": 54,
    "start_time": "2022-05-18T15:15:45.093Z"
   },
   {
    "duration": 9,
    "start_time": "2022-05-18T15:15:45.948Z"
   },
   {
    "duration": 20,
    "start_time": "2022-05-18T15:15:48.280Z"
   },
   {
    "duration": 14,
    "start_time": "2022-05-18T15:42:47.488Z"
   },
   {
    "duration": 19,
    "start_time": "2022-05-18T15:42:47.503Z"
   },
   {
    "duration": 7,
    "start_time": "2022-05-18T15:42:47.524Z"
   },
   {
    "duration": 6,
    "start_time": "2022-05-18T15:42:47.532Z"
   },
   {
    "duration": 50,
    "start_time": "2022-05-18T15:42:47.540Z"
   },
   {
    "duration": 9,
    "start_time": "2022-05-18T15:42:54.365Z"
   },
   {
    "duration": 19,
    "start_time": "2022-05-18T15:42:56.614Z"
   },
   {
    "duration": 12,
    "start_time": "2022-05-18T16:31:49.977Z"
   },
   {
    "duration": 12,
    "start_time": "2022-05-18T16:32:40.131Z"
   },
   {
    "duration": 6,
    "start_time": "2022-05-18T16:43:53.237Z"
   },
   {
    "duration": 6,
    "start_time": "2022-05-18T16:44:28.375Z"
   },
   {
    "duration": 14,
    "start_time": "2022-05-18T16:44:38.230Z"
   },
   {
    "duration": 6,
    "start_time": "2022-05-18T16:44:54.510Z"
   },
   {
    "duration": 22,
    "start_time": "2022-05-18T17:04:42.279Z"
   },
   {
    "duration": 9,
    "start_time": "2022-05-18T17:04:52.462Z"
   },
   {
    "duration": 4,
    "start_time": "2022-05-18T19:33:06.383Z"
   },
   {
    "duration": 230,
    "start_time": "2022-05-18T19:33:06.785Z"
   },
   {
    "duration": 36,
    "start_time": "2022-05-18T19:33:07.309Z"
   },
   {
    "duration": 149,
    "start_time": "2022-05-18T19:33:08.539Z"
   },
   {
    "duration": 30,
    "start_time": "2022-05-18T19:33:08.747Z"
   },
   {
    "duration": 43,
    "start_time": "2022-05-18T19:45:59.630Z"
   },
   {
    "duration": 10,
    "start_time": "2022-05-18T19:46:00.028Z"
   },
   {
    "duration": 78,
    "start_time": "2022-05-18T19:46:00.284Z"
   },
   {
    "duration": 3,
    "start_time": "2022-05-18T19:46:12.909Z"
   },
   {
    "duration": 186,
    "start_time": "2022-05-18T19:46:13.293Z"
   },
   {
    "duration": 34,
    "start_time": "2022-05-18T19:46:13.482Z"
   },
   {
    "duration": 3,
    "start_time": "2022-05-18T19:46:14.822Z"
   },
   {
    "duration": 181,
    "start_time": "2022-05-18T19:46:14.827Z"
   },
   {
    "duration": 24,
    "start_time": "2022-05-18T19:46:15.010Z"
   },
   {
    "duration": 129,
    "start_time": "2022-05-18T19:46:15.036Z"
   },
   {
    "duration": 36,
    "start_time": "2022-05-18T19:46:15.166Z"
   },
   {
    "duration": 8,
    "start_time": "2022-05-18T19:46:15.204Z"
   },
   {
    "duration": 79,
    "start_time": "2022-05-18T19:46:15.213Z"
   },
   {
    "duration": 21,
    "start_time": "2022-05-18T19:46:15.304Z"
   },
   {
    "duration": 14,
    "start_time": "2022-05-18T19:46:15.326Z"
   },
   {
    "duration": 11,
    "start_time": "2022-05-18T19:46:15.343Z"
   },
   {
    "duration": 31,
    "start_time": "2022-05-18T19:46:15.356Z"
   },
   {
    "duration": 30,
    "start_time": "2022-05-18T19:46:15.396Z"
   },
   {
    "duration": 34,
    "start_time": "2022-05-18T19:46:15.427Z"
   },
   {
    "duration": 22,
    "start_time": "2022-05-18T19:46:15.462Z"
   },
   {
    "duration": 27,
    "start_time": "2022-05-18T19:46:15.485Z"
   },
   {
    "duration": 5,
    "start_time": "2022-05-18T19:46:15.513Z"
   },
   {
    "duration": 13,
    "start_time": "2022-05-18T19:46:15.519Z"
   },
   {
    "duration": 56,
    "start_time": "2022-05-18T19:46:15.533Z"
   },
   {
    "duration": 11,
    "start_time": "2022-05-18T19:46:15.591Z"
   },
   {
    "duration": 20,
    "start_time": "2022-05-18T19:46:15.603Z"
   },
   {
    "duration": 24,
    "start_time": "2022-05-18T19:46:15.625Z"
   },
   {
    "duration": 7,
    "start_time": "2022-05-18T19:46:15.650Z"
   },
   {
    "duration": 17,
    "start_time": "2022-05-18T19:46:15.659Z"
   },
   {
    "duration": 0,
    "start_time": "2022-05-18T19:46:15.677Z"
   },
   {
    "duration": 0,
    "start_time": "2022-05-18T19:46:15.679Z"
   },
   {
    "duration": 0,
    "start_time": "2022-05-18T19:46:15.694Z"
   },
   {
    "duration": 0,
    "start_time": "2022-05-18T19:46:15.695Z"
   },
   {
    "duration": 8,
    "start_time": "2022-05-18T19:46:32.529Z"
   },
   {
    "duration": 669,
    "start_time": "2022-05-18T19:46:55.476Z"
   },
   {
    "duration": 28,
    "start_time": "2022-05-18T19:48:23.180Z"
   },
   {
    "duration": 20,
    "start_time": "2022-05-18T19:48:37.722Z"
   },
   {
    "duration": 21,
    "start_time": "2022-05-18T19:50:47.545Z"
   },
   {
    "duration": 374,
    "start_time": "2022-05-18T19:52:21.741Z"
   },
   {
    "duration": 16,
    "start_time": "2022-05-18T19:52:25.921Z"
   },
   {
    "duration": 35,
    "start_time": "2022-05-18T19:53:18.990Z"
   },
   {
    "duration": 20,
    "start_time": "2022-05-18T19:56:13.085Z"
   },
   {
    "duration": 100,
    "start_time": "2022-05-18T19:57:25.489Z"
   },
   {
    "duration": 18,
    "start_time": "2022-05-18T19:57:26.372Z"
   },
   {
    "duration": 20,
    "start_time": "2022-05-18T19:57:27.104Z"
   },
   {
    "duration": 11,
    "start_time": "2022-05-18T19:57:27.315Z"
   },
   {
    "duration": 28,
    "start_time": "2022-05-18T19:57:28.573Z"
   },
   {
    "duration": 10,
    "start_time": "2022-05-18T19:57:28.781Z"
   },
   {
    "duration": 18,
    "start_time": "2022-05-18T19:57:33.412Z"
   },
   {
    "duration": 13,
    "start_time": "2022-05-18T19:57:33.625Z"
   },
   {
    "duration": 18,
    "start_time": "2022-05-18T19:57:33.810Z"
   },
   {
    "duration": 4,
    "start_time": "2022-05-18T19:57:34.023Z"
   },
   {
    "duration": 4,
    "start_time": "2022-05-18T19:57:34.208Z"
   },
   {
    "duration": 45,
    "start_time": "2022-05-18T19:57:34.615Z"
   },
   {
    "duration": 13,
    "start_time": "2022-05-18T19:57:35.114Z"
   },
   {
    "duration": 27,
    "start_time": "2022-05-18T19:57:36.166Z"
   },
   {
    "duration": 22,
    "start_time": "2022-05-18T19:57:40.914Z"
   },
   {
    "duration": 9,
    "start_time": "2022-05-18T19:57:45.077Z"
   },
   {
    "duration": 17,
    "start_time": "2022-05-18T19:57:56.931Z"
   },
   {
    "duration": 26,
    "start_time": "2022-05-18T19:58:07.480Z"
   },
   {
    "duration": 29,
    "start_time": "2022-05-18T19:58:35.292Z"
   },
   {
    "duration": 43,
    "start_time": "2022-05-18T19:58:52.095Z"
   },
   {
    "duration": 21,
    "start_time": "2022-05-18T19:59:04.146Z"
   },
   {
    "duration": 7,
    "start_time": "2022-05-18T20:06:39.116Z"
   },
   {
    "duration": 24,
    "start_time": "2022-05-18T20:06:53.800Z"
   },
   {
    "duration": 25,
    "start_time": "2022-05-18T20:06:58.486Z"
   },
   {
    "duration": 22,
    "start_time": "2022-05-18T20:07:21.389Z"
   },
   {
    "duration": 35,
    "start_time": "2022-05-18T20:07:44.928Z"
   },
   {
    "duration": 35,
    "start_time": "2022-05-18T20:07:48.788Z"
   },
   {
    "duration": 10,
    "start_time": "2022-05-18T20:07:57.323Z"
   },
   {
    "duration": 8,
    "start_time": "2022-05-18T20:08:04.424Z"
   },
   {
    "duration": 23,
    "start_time": "2022-05-18T20:09:47.292Z"
   },
   {
    "duration": 8,
    "start_time": "2022-05-18T20:09:47.631Z"
   },
   {
    "duration": 27,
    "start_time": "2022-05-18T20:09:53.912Z"
   },
   {
    "duration": 23,
    "start_time": "2022-05-18T20:10:04.809Z"
   },
   {
    "duration": 339,
    "start_time": "2022-05-18T20:10:23.825Z"
   },
   {
    "duration": 14,
    "start_time": "2022-05-18T20:13:54.013Z"
   },
   {
    "duration": 15,
    "start_time": "2022-05-18T20:35:25.038Z"
   },
   {
    "duration": 303,
    "start_time": "2022-05-18T20:38:51.469Z"
   },
   {
    "duration": 886,
    "start_time": "2022-05-19T10:08:57.765Z"
   },
   {
    "duration": 146,
    "start_time": "2022-05-19T10:08:58.654Z"
   },
   {
    "duration": 112,
    "start_time": "2022-05-19T10:08:58.996Z"
   },
   {
    "duration": 222,
    "start_time": "2022-05-19T10:09:08.250Z"
   },
   {
    "duration": 28,
    "start_time": "2022-05-19T10:09:10.862Z"
   },
   {
    "duration": 321,
    "start_time": "2022-05-19T10:19:59.517Z"
   },
   {
    "duration": 22,
    "start_time": "2022-05-19T10:19:59.840Z"
   },
   {
    "duration": 299,
    "start_time": "2022-05-19T10:20:00.085Z"
   },
   {
    "duration": 136,
    "start_time": "2022-05-19T10:20:00.882Z"
   },
   {
    "duration": 20,
    "start_time": "2022-05-19T10:20:01.085Z"
   },
   {
    "duration": 36,
    "start_time": "2022-05-19T10:20:01.688Z"
   },
   {
    "duration": 14,
    "start_time": "2022-05-19T10:20:01.900Z"
   },
   {
    "duration": 56,
    "start_time": "2022-05-19T10:20:02.313Z"
   },
   {
    "duration": 13,
    "start_time": "2022-05-19T10:20:02.504Z"
   },
   {
    "duration": 39,
    "start_time": "2022-05-19T10:20:03.271Z"
   },
   {
    "duration": 26,
    "start_time": "2022-05-19T10:20:03.686Z"
   },
   {
    "duration": 21,
    "start_time": "2022-05-19T10:20:03.892Z"
   },
   {
    "duration": 5,
    "start_time": "2022-05-19T10:20:04.113Z"
   },
   {
    "duration": 4,
    "start_time": "2022-05-19T10:20:04.318Z"
   },
   {
    "duration": 56,
    "start_time": "2022-05-19T10:20:04.793Z"
   },
   {
    "duration": 9,
    "start_time": "2022-05-19T10:20:05.712Z"
   },
   {
    "duration": 21,
    "start_time": "2022-05-19T10:20:06.185Z"
   },
   {
    "duration": 24,
    "start_time": "2022-05-19T10:20:06.661Z"
   },
   {
    "duration": 9,
    "start_time": "2022-05-19T10:20:08.582Z"
   },
   {
    "duration": 22,
    "start_time": "2022-05-19T10:20:10.561Z"
   },
   {
    "duration": 370,
    "start_time": "2022-05-19T10:33:35.874Z"
   },
   {
    "duration": 10,
    "start_time": "2022-05-19T10:34:05.481Z"
   },
   {
    "duration": 26,
    "start_time": "2022-05-19T10:34:10.847Z"
   },
   {
    "duration": 346,
    "start_time": "2022-05-19T10:34:24.872Z"
   },
   {
    "duration": 36,
    "start_time": "2022-05-19T10:41:27.997Z"
   },
   {
    "duration": 299,
    "start_time": "2022-05-19T10:44:28.313Z"
   },
   {
    "duration": 23,
    "start_time": "2022-05-19T11:01:26.850Z"
   },
   {
    "duration": 19,
    "start_time": "2022-05-19T11:21:45.344Z"
   },
   {
    "duration": 20,
    "start_time": "2022-05-19T11:27:02.242Z"
   },
   {
    "duration": 316,
    "start_time": "2022-05-19T11:27:15.408Z"
   },
   {
    "duration": 10,
    "start_time": "2022-05-19T11:28:17.094Z"
   },
   {
    "duration": 30,
    "start_time": "2022-05-19T11:28:23.366Z"
   },
   {
    "duration": 24,
    "start_time": "2022-05-19T11:28:49.153Z"
   },
   {
    "duration": 8,
    "start_time": "2022-05-19T11:28:52.034Z"
   },
   {
    "duration": 358,
    "start_time": "2022-05-19T11:29:32.111Z"
   },
   {
    "duration": 370,
    "start_time": "2022-05-19T11:30:33.408Z"
   },
   {
    "duration": 8,
    "start_time": "2022-05-19T11:31:06.766Z"
   },
   {
    "duration": 20,
    "start_time": "2022-05-19T11:31:11.587Z"
   },
   {
    "duration": 27,
    "start_time": "2022-05-19T11:31:19.896Z"
   },
   {
    "duration": 22,
    "start_time": "2022-05-19T11:35:47.243Z"
   },
   {
    "duration": 23,
    "start_time": "2022-05-19T11:37:06.987Z"
   },
   {
    "duration": 12,
    "start_time": "2022-05-19T11:37:13.596Z"
   },
   {
    "duration": 11,
    "start_time": "2022-05-19T11:40:33.030Z"
   },
   {
    "duration": 8,
    "start_time": "2022-05-19T11:40:53.768Z"
   },
   {
    "duration": 6,
    "start_time": "2022-05-19T11:41:12.934Z"
   },
   {
    "duration": 6,
    "start_time": "2022-05-19T11:41:46.895Z"
   },
   {
    "duration": 145,
    "start_time": "2022-05-19T11:43:56.717Z"
   },
   {
    "duration": 24,
    "start_time": "2022-05-19T11:44:00.027Z"
   },
   {
    "duration": 8,
    "start_time": "2022-05-19T11:44:05.869Z"
   },
   {
    "duration": 8,
    "start_time": "2022-05-19T11:51:56.413Z"
   },
   {
    "duration": 15,
    "start_time": "2022-05-19T11:52:02.083Z"
   },
   {
    "duration": 20,
    "start_time": "2022-05-19T11:52:49.009Z"
   },
   {
    "duration": 15,
    "start_time": "2022-05-19T11:53:06.002Z"
   },
   {
    "duration": 18,
    "start_time": "2022-05-19T11:53:06.171Z"
   },
   {
    "duration": 12,
    "start_time": "2022-05-19T11:53:06.372Z"
   },
   {
    "duration": 15,
    "start_time": "2022-05-19T11:53:19.975Z"
   },
   {
    "duration": 25,
    "start_time": "2022-05-19T11:53:20.136Z"
   },
   {
    "duration": 15,
    "start_time": "2022-05-19T11:53:20.321Z"
   },
   {
    "duration": 6,
    "start_time": "2022-05-19T11:53:20.495Z"
   },
   {
    "duration": 4,
    "start_time": "2022-05-19T11:53:20.677Z"
   },
   {
    "duration": 16,
    "start_time": "2022-05-19T11:53:21.016Z"
   },
   {
    "duration": 13,
    "start_time": "2022-05-19T11:53:21.209Z"
   },
   {
    "duration": 11,
    "start_time": "2022-05-19T11:53:21.358Z"
   },
   {
    "duration": 7,
    "start_time": "2022-05-19T11:53:21.534Z"
   },
   {
    "duration": 6,
    "start_time": "2022-05-19T11:53:21.722Z"
   },
   {
    "duration": 5,
    "start_time": "2022-05-19T11:54:31.749Z"
   },
   {
    "duration": 57,
    "start_time": "2022-05-19T11:54:32.303Z"
   },
   {
    "duration": 10,
    "start_time": "2022-05-19T11:54:32.720Z"
   },
   {
    "duration": 20,
    "start_time": "2022-05-19T11:54:33.083Z"
   },
   {
    "duration": 29,
    "start_time": "2022-05-19T11:54:33.503Z"
   },
   {
    "duration": 12,
    "start_time": "2022-05-19T11:54:33.913Z"
   },
   {
    "duration": 375,
    "start_time": "2022-05-19T11:54:35.870Z"
   },
   {
    "duration": 419,
    "start_time": "2022-05-19T11:55:20.104Z"
   },
   {
    "duration": 352,
    "start_time": "2022-05-19T11:57:20.905Z"
   },
   {
    "duration": 9,
    "start_time": "2022-05-19T11:58:28.971Z"
   },
   {
    "duration": 8,
    "start_time": "2022-05-19T12:02:08.031Z"
   },
   {
    "duration": 9,
    "start_time": "2022-05-19T12:02:47.384Z"
   },
   {
    "duration": 15,
    "start_time": "2022-05-19T12:02:53.797Z"
   },
   {
    "duration": 27,
    "start_time": "2022-05-19T12:03:08.338Z"
   },
   {
    "duration": 17,
    "start_time": "2022-05-19T12:03:13.438Z"
   },
   {
    "duration": 635,
    "start_time": "2022-05-19T12:03:26.833Z"
   },
   {
    "duration": 657,
    "start_time": "2022-05-19T12:03:42.042Z"
   },
   {
    "duration": 681,
    "start_time": "2022-05-19T12:05:09.158Z"
   },
   {
    "duration": 589,
    "start_time": "2022-05-19T12:09:30.897Z"
   },
   {
    "duration": 305,
    "start_time": "2022-05-19T12:10:08.290Z"
   },
   {
    "duration": 420,
    "start_time": "2022-05-19T12:10:12.192Z"
   },
   {
    "duration": 351,
    "start_time": "2022-05-19T12:10:23.357Z"
   },
   {
    "duration": 290,
    "start_time": "2022-05-19T12:12:28.800Z"
   },
   {
    "duration": 364,
    "start_time": "2022-05-19T12:12:35.894Z"
   },
   {
    "duration": 4,
    "start_time": "2022-05-19T12:12:41.247Z"
   },
   {
    "duration": 177,
    "start_time": "2022-05-19T12:12:41.254Z"
   },
   {
    "duration": 28,
    "start_time": "2022-05-19T12:12:41.433Z"
   },
   {
    "duration": 147,
    "start_time": "2022-05-19T12:12:41.463Z"
   },
   {
    "duration": 34,
    "start_time": "2022-05-19T12:12:41.612Z"
   },
   {
    "duration": 7,
    "start_time": "2022-05-19T12:12:41.648Z"
   },
   {
    "duration": 109,
    "start_time": "2022-05-19T12:12:41.657Z"
   },
   {
    "duration": 21,
    "start_time": "2022-05-19T12:12:41.767Z"
   },
   {
    "duration": 21,
    "start_time": "2022-05-19T12:12:41.790Z"
   },
   {
    "duration": 21,
    "start_time": "2022-05-19T12:12:41.813Z"
   },
   {
    "duration": 26,
    "start_time": "2022-05-19T12:12:41.835Z"
   },
   {
    "duration": 15,
    "start_time": "2022-05-19T12:12:41.863Z"
   },
   {
    "duration": 52,
    "start_time": "2022-05-19T12:12:41.879Z"
   },
   {
    "duration": 26,
    "start_time": "2022-05-19T12:12:41.934Z"
   },
   {
    "duration": 21,
    "start_time": "2022-05-19T12:12:41.961Z"
   },
   {
    "duration": 4,
    "start_time": "2022-05-19T12:12:41.984Z"
   },
   {
    "duration": 12,
    "start_time": "2022-05-19T12:12:41.990Z"
   },
   {
    "duration": 23,
    "start_time": "2022-05-19T12:12:42.026Z"
   },
   {
    "duration": 14,
    "start_time": "2022-05-19T12:12:42.051Z"
   },
   {
    "duration": 14,
    "start_time": "2022-05-19T12:12:42.066Z"
   },
   {
    "duration": 18,
    "start_time": "2022-05-19T12:12:42.082Z"
   },
   {
    "duration": 29,
    "start_time": "2022-05-19T12:12:42.101Z"
   },
   {
    "duration": 63,
    "start_time": "2022-05-19T12:12:42.132Z"
   },
   {
    "duration": 9,
    "start_time": "2022-05-19T12:12:42.197Z"
   },
   {
    "duration": 20,
    "start_time": "2022-05-19T12:12:42.226Z"
   },
   {
    "duration": 23,
    "start_time": "2022-05-19T12:12:42.249Z"
   },
   {
    "duration": 12,
    "start_time": "2022-05-19T12:12:42.274Z"
   },
   {
    "duration": 478,
    "start_time": "2022-05-19T12:12:42.288Z"
   },
   {
    "duration": 31,
    "start_time": "2022-05-19T12:12:42.768Z"
   },
   {
    "duration": 363,
    "start_time": "2022-05-19T12:12:42.801Z"
   },
   {
    "duration": 29,
    "start_time": "2022-05-19T12:12:43.166Z"
   },
   {
    "duration": 0,
    "start_time": "2022-05-19T12:12:43.197Z"
   },
   {
    "duration": 0,
    "start_time": "2022-05-19T12:12:43.198Z"
   },
   {
    "duration": 0,
    "start_time": "2022-05-19T12:12:43.199Z"
   },
   {
    "duration": 0,
    "start_time": "2022-05-19T12:12:43.201Z"
   },
   {
    "duration": 0,
    "start_time": "2022-05-19T12:12:43.202Z"
   },
   {
    "duration": 478,
    "start_time": "2022-05-19T12:19:59.847Z"
   },
   {
    "duration": 305,
    "start_time": "2022-05-19T12:20:09.318Z"
   },
   {
    "duration": 399,
    "start_time": "2022-05-19T12:20:18.097Z"
   },
   {
    "duration": 439,
    "start_time": "2022-05-19T12:20:52.604Z"
   },
   {
    "duration": 364,
    "start_time": "2022-05-19T12:20:56.899Z"
   },
   {
    "duration": 30,
    "start_time": "2022-05-19T12:21:00.708Z"
   },
   {
    "duration": 20,
    "start_time": "2022-05-19T12:21:07.482Z"
   },
   {
    "duration": 480,
    "start_time": "2022-05-19T12:21:08.335Z"
   },
   {
    "duration": 305,
    "start_time": "2022-05-19T12:21:15.889Z"
   },
   {
    "duration": 326,
    "start_time": "2022-05-19T12:22:02.444Z"
   },
   {
    "duration": 24,
    "start_time": "2022-05-19T12:22:17.211Z"
   },
   {
    "duration": 121,
    "start_time": "2022-05-19T12:24:33.681Z"
   },
   {
    "duration": 25,
    "start_time": "2022-05-19T12:24:39.942Z"
   },
   {
    "duration": 133,
    "start_time": "2022-05-19T12:24:57.792Z"
   },
   {
    "duration": 28,
    "start_time": "2022-05-19T12:25:06.414Z"
   },
   {
    "duration": 23,
    "start_time": "2022-05-19T12:25:25.745Z"
   },
   {
    "duration": 22,
    "start_time": "2022-05-19T12:25:30.152Z"
   },
   {
    "duration": 330,
    "start_time": "2022-05-19T12:25:34.911Z"
   },
   {
    "duration": 21,
    "start_time": "2022-05-19T12:25:49.952Z"
   },
   {
    "duration": 21,
    "start_time": "2022-05-19T12:25:55.062Z"
   },
   {
    "duration": 25,
    "start_time": "2022-05-19T12:26:00.410Z"
   },
   {
    "duration": 16,
    "start_time": "2022-05-19T12:26:17.845Z"
   },
   {
    "duration": 15,
    "start_time": "2022-05-19T12:27:40.689Z"
   },
   {
    "duration": 17,
    "start_time": "2022-05-19T12:27:57.401Z"
   },
   {
    "duration": 22,
    "start_time": "2022-05-19T12:32:21.416Z"
   },
   {
    "duration": 17,
    "start_time": "2022-05-19T12:32:23.349Z"
   },
   {
    "duration": 10,
    "start_time": "2022-05-19T12:33:09.533Z"
   },
   {
    "duration": 30,
    "start_time": "2022-05-19T12:41:18.064Z"
   },
   {
    "duration": 14,
    "start_time": "2022-05-19T12:41:47.254Z"
   },
   {
    "duration": 11,
    "start_time": "2022-05-19T12:53:36.770Z"
   },
   {
    "duration": 10,
    "start_time": "2022-05-19T12:53:43.631Z"
   },
   {
    "duration": 16,
    "start_time": "2022-05-19T12:56:59.916Z"
   },
   {
    "duration": 11,
    "start_time": "2022-05-19T12:57:20.140Z"
   },
   {
    "duration": 12,
    "start_time": "2022-05-19T12:57:27.420Z"
   },
   {
    "duration": 16,
    "start_time": "2022-05-19T12:58:04.997Z"
   },
   {
    "duration": 41,
    "start_time": "2022-05-19T12:58:36.681Z"
   },
   {
    "duration": 17,
    "start_time": "2022-05-19T12:58:50.363Z"
   },
   {
    "duration": 54,
    "start_time": "2022-05-19T13:02:29.659Z"
   },
   {
    "duration": 49,
    "start_time": "2022-05-19T13:02:38.064Z"
   },
   {
    "duration": 19,
    "start_time": "2022-05-19T13:17:21.060Z"
   },
   {
    "duration": 19,
    "start_time": "2022-05-19T13:19:57.602Z"
   },
   {
    "duration": 20,
    "start_time": "2022-05-19T13:21:04.720Z"
   },
   {
    "duration": 22,
    "start_time": "2022-05-19T13:21:10.762Z"
   },
   {
    "duration": 21,
    "start_time": "2022-05-19T13:21:16.881Z"
   },
   {
    "duration": 25,
    "start_time": "2022-05-19T13:21:24.128Z"
   },
   {
    "duration": 20,
    "start_time": "2022-05-19T13:21:35.023Z"
   },
   {
    "duration": 14,
    "start_time": "2022-05-19T13:21:36.864Z"
   },
   {
    "duration": 22,
    "start_time": "2022-05-19T13:21:37.230Z"
   },
   {
    "duration": 49,
    "start_time": "2022-05-19T13:21:38.947Z"
   },
   {
    "duration": 18,
    "start_time": "2022-05-19T13:21:39.902Z"
   },
   {
    "duration": 24,
    "start_time": "2022-05-19T17:31:22.571Z"
   },
   {
    "duration": 14,
    "start_time": "2022-05-19T17:36:40.568Z"
   },
   {
    "duration": 20,
    "start_time": "2022-05-19T17:37:27.437Z"
   },
   {
    "duration": 22,
    "start_time": "2022-05-19T17:37:31.740Z"
   },
   {
    "duration": 19,
    "start_time": "2022-05-19T17:37:39.165Z"
   },
   {
    "duration": 10,
    "start_time": "2022-05-19T17:38:10.334Z"
   },
   {
    "duration": 11,
    "start_time": "2022-05-19T18:42:22.553Z"
   },
   {
    "duration": 12,
    "start_time": "2022-05-19T18:42:35.971Z"
   },
   {
    "duration": 13,
    "start_time": "2022-05-19T18:42:50.253Z"
   },
   {
    "duration": 19,
    "start_time": "2022-05-19T18:43:25.378Z"
   },
   {
    "duration": 187,
    "start_time": "2022-05-19T18:43:30.851Z"
   },
   {
    "duration": 18,
    "start_time": "2022-05-19T18:43:46.012Z"
   },
   {
    "duration": 23,
    "start_time": "2022-05-19T18:43:49.683Z"
   },
   {
    "duration": 62,
    "start_time": "2022-05-19T18:43:50.049Z"
   },
   {
    "duration": 18,
    "start_time": "2022-05-19T18:43:52.007Z"
   },
   {
    "duration": 23,
    "start_time": "2022-05-19T18:43:58.911Z"
   },
   {
    "duration": 23,
    "start_time": "2022-05-19T18:44:03.407Z"
   },
   {
    "duration": 24,
    "start_time": "2022-05-19T18:47:08.849Z"
   },
   {
    "duration": 21,
    "start_time": "2022-05-19T18:47:09.350Z"
   },
   {
    "duration": 20,
    "start_time": "2022-05-19T18:47:09.750Z"
   },
   {
    "duration": 30,
    "start_time": "2022-05-19T18:47:10.129Z"
   },
   {
    "duration": 54,
    "start_time": "2022-05-19T18:47:10.747Z"
   },
   {
    "duration": 24,
    "start_time": "2022-05-19T18:47:12.930Z"
   },
   {
    "duration": 16,
    "start_time": "2022-05-19T18:47:17.787Z"
   },
   {
    "duration": 20,
    "start_time": "2022-05-19T18:49:19.590Z"
   },
   {
    "duration": 12,
    "start_time": "2022-05-19T18:55:22.747Z"
   },
   {
    "duration": 10,
    "start_time": "2022-05-19T18:56:16.401Z"
   },
   {
    "duration": 11,
    "start_time": "2022-05-19T18:56:21.477Z"
   },
   {
    "duration": 500,
    "start_time": "2022-05-19T18:56:27.521Z"
   },
   {
    "duration": 7,
    "start_time": "2022-05-19T18:56:35.101Z"
   },
   {
    "duration": 10,
    "start_time": "2022-05-19T18:56:41.189Z"
   },
   {
    "duration": 26,
    "start_time": "2022-05-19T19:10:48.225Z"
   },
   {
    "duration": 18,
    "start_time": "2022-05-19T19:11:13.566Z"
   },
   {
    "duration": 14,
    "start_time": "2022-05-19T19:15:53.486Z"
   },
   {
    "duration": 23,
    "start_time": "2022-05-19T19:16:07.476Z"
   },
   {
    "duration": 18,
    "start_time": "2022-05-19T19:16:23.760Z"
   },
   {
    "duration": 18,
    "start_time": "2022-05-19T19:16:49.516Z"
   },
   {
    "duration": 17,
    "start_time": "2022-05-19T19:22:00.282Z"
   },
   {
    "duration": 16,
    "start_time": "2022-05-19T19:22:06.657Z"
   },
   {
    "duration": 9,
    "start_time": "2022-05-19T19:22:22.840Z"
   },
   {
    "duration": 16,
    "start_time": "2022-05-19T19:22:25.744Z"
   },
   {
    "duration": 25,
    "start_time": "2022-05-19T19:22:37.360Z"
   },
   {
    "duration": 20,
    "start_time": "2022-05-19T19:22:37.993Z"
   },
   {
    "duration": 16,
    "start_time": "2022-05-19T19:23:01.746Z"
   },
   {
    "duration": 18,
    "start_time": "2022-05-19T19:24:42.553Z"
   },
   {
    "duration": 17,
    "start_time": "2022-05-19T19:27:26.375Z"
   },
   {
    "duration": 347,
    "start_time": "2022-05-19T19:27:38.099Z"
   },
   {
    "duration": 19,
    "start_time": "2022-05-19T19:27:49.969Z"
   },
   {
    "duration": 15,
    "start_time": "2022-05-19T19:28:15.400Z"
   },
   {
    "duration": 16,
    "start_time": "2022-05-19T19:29:16.964Z"
   },
   {
    "duration": 16,
    "start_time": "2022-05-19T19:40:19.975Z"
   },
   {
    "duration": 12,
    "start_time": "2022-05-19T19:41:11.586Z"
   },
   {
    "duration": 139,
    "start_time": "2022-05-19T19:45:31.306Z"
   },
   {
    "duration": 17,
    "start_time": "2022-05-19T19:45:38.911Z"
   },
   {
    "duration": 174,
    "start_time": "2022-05-19T19:45:54.110Z"
   },
   {
    "duration": 17,
    "start_time": "2022-05-19T19:46:02.225Z"
   },
   {
    "duration": 14,
    "start_time": "2022-05-19T19:46:19.383Z"
   },
   {
    "duration": 23,
    "start_time": "2022-05-19T19:46:20.643Z"
   },
   {
    "duration": 52,
    "start_time": "2022-05-19T19:46:23.190Z"
   },
   {
    "duration": 17,
    "start_time": "2022-05-19T19:46:27.410Z"
   },
   {
    "duration": 12,
    "start_time": "2022-05-19T19:46:36.448Z"
   },
   {
    "duration": 14,
    "start_time": "2022-05-19T19:46:39.188Z"
   },
   {
    "duration": 15,
    "start_time": "2022-05-19T19:46:44.543Z"
   },
   {
    "duration": 17,
    "start_time": "2022-05-19T19:50:02.609Z"
   },
   {
    "duration": 18,
    "start_time": "2022-05-19T20:02:51.559Z"
   },
   {
    "duration": 401,
    "start_time": "2022-05-19T20:03:20.790Z"
   },
   {
    "duration": 4,
    "start_time": "2022-05-19T20:03:47.309Z"
   },
   {
    "duration": 8,
    "start_time": "2022-05-19T20:03:54.985Z"
   },
   {
    "duration": 26,
    "start_time": "2022-05-19T20:04:02.412Z"
   },
   {
    "duration": 21,
    "start_time": "2022-05-19T20:04:33.259Z"
   },
   {
    "duration": 23,
    "start_time": "2022-05-19T20:04:39.288Z"
   },
   {
    "duration": 29,
    "start_time": "2022-05-19T20:04:39.888Z"
   },
   {
    "duration": 22,
    "start_time": "2022-05-19T20:06:56.912Z"
   },
   {
    "duration": 22,
    "start_time": "2022-05-19T20:12:41.941Z"
   },
   {
    "duration": 20,
    "start_time": "2022-05-19T20:12:45.865Z"
   },
   {
    "duration": 11,
    "start_time": "2022-05-19T20:18:19.042Z"
   },
   {
    "duration": 13,
    "start_time": "2022-05-19T20:18:37.845Z"
   },
   {
    "duration": 18,
    "start_time": "2022-05-19T20:18:47.596Z"
   },
   {
    "duration": 35,
    "start_time": "2022-05-19T20:18:58.624Z"
   },
   {
    "duration": 20,
    "start_time": "2022-05-19T20:19:15.057Z"
   },
   {
    "duration": 32,
    "start_time": "2022-05-19T20:20:58.358Z"
   },
   {
    "duration": 20,
    "start_time": "2022-05-19T20:21:22.078Z"
   },
   {
    "duration": 20,
    "start_time": "2022-05-19T20:21:22.285Z"
   },
   {
    "duration": 4,
    "start_time": "2022-05-19T20:40:10.197Z"
   },
   {
    "duration": 30,
    "start_time": "2022-05-19T20:40:13.683Z"
   },
   {
    "duration": 14,
    "start_time": "2022-05-19T20:40:18.324Z"
   },
   {
    "duration": 5,
    "start_time": "2022-05-19T20:40:24.472Z"
   },
   {
    "duration": 10,
    "start_time": "2022-05-19T20:40:38.568Z"
   },
   {
    "duration": 10,
    "start_time": "2022-05-19T20:41:00.083Z"
   },
   {
    "duration": 13,
    "start_time": "2022-05-19T20:41:19.744Z"
   },
   {
    "duration": 10,
    "start_time": "2022-05-19T20:41:59.544Z"
   },
   {
    "duration": 10,
    "start_time": "2022-05-19T20:42:04.153Z"
   },
   {
    "duration": 30,
    "start_time": "2022-05-19T20:42:26.381Z"
   },
   {
    "duration": 38,
    "start_time": "2022-05-19T20:42:32.203Z"
   },
   {
    "duration": 26,
    "start_time": "2022-05-19T20:42:36.731Z"
   },
   {
    "duration": 15,
    "start_time": "2022-05-19T21:01:35.890Z"
   },
   {
    "duration": 15,
    "start_time": "2022-05-19T21:02:48.677Z"
   },
   {
    "duration": 11,
    "start_time": "2022-05-19T21:02:57.050Z"
   },
   {
    "duration": 17,
    "start_time": "2022-05-19T21:03:29.501Z"
   },
   {
    "duration": 1151,
    "start_time": "2022-05-20T18:03:11.533Z"
   },
   {
    "duration": 563,
    "start_time": "2022-05-20T18:03:18.753Z"
   },
   {
    "duration": 25,
    "start_time": "2022-05-20T18:03:19.979Z"
   },
   {
    "duration": 461,
    "start_time": "2022-05-20T18:03:22.473Z"
   },
   {
    "duration": 20,
    "start_time": "2022-05-20T18:03:24.790Z"
   },
   {
    "duration": 8,
    "start_time": "2022-05-20T18:03:25.688Z"
   },
   {
    "duration": 336,
    "start_time": "2022-05-20T18:03:43.175Z"
   },
   {
    "duration": 17,
    "start_time": "2022-05-20T18:03:43.512Z"
   },
   {
    "duration": 101,
    "start_time": "2022-05-20T18:03:44.199Z"
   },
   {
    "duration": 15,
    "start_time": "2022-05-20T18:03:44.449Z"
   },
   {
    "duration": 89,
    "start_time": "2022-05-20T18:03:44.871Z"
   },
   {
    "duration": 13,
    "start_time": "2022-05-20T18:03:45.088Z"
   },
   {
    "duration": 32,
    "start_time": "2022-05-20T18:15:06.176Z"
   },
   {
    "duration": 28,
    "start_time": "2022-05-20T18:15:06.371Z"
   },
   {
    "duration": 20,
    "start_time": "2022-05-20T18:15:06.572Z"
   },
   {
    "duration": 5,
    "start_time": "2022-05-20T18:15:06.753Z"
   },
   {
    "duration": 4,
    "start_time": "2022-05-20T18:15:07.211Z"
   },
   {
    "duration": 28,
    "start_time": "2022-05-20T18:15:07.756Z"
   },
   {
    "duration": 23,
    "start_time": "2022-05-20T18:15:07.948Z"
   },
   {
    "duration": 11,
    "start_time": "2022-05-20T18:15:08.173Z"
   },
   {
    "duration": 6,
    "start_time": "2022-05-20T18:15:08.448Z"
   },
   {
    "duration": 5,
    "start_time": "2022-05-20T18:15:08.645Z"
   },
   {
    "duration": 64,
    "start_time": "2022-05-20T18:15:09.733Z"
   },
   {
    "duration": 11,
    "start_time": "2022-05-20T18:15:10.179Z"
   },
   {
    "duration": 18,
    "start_time": "2022-05-20T18:15:10.582Z"
   },
   {
    "duration": 21,
    "start_time": "2022-05-20T18:15:11.017Z"
   },
   {
    "duration": 8,
    "start_time": "2022-05-20T18:15:11.439Z"
   },
   {
    "duration": 34,
    "start_time": "2022-05-20T18:15:11.992Z"
   },
   {
    "duration": 24,
    "start_time": "2022-05-20T18:15:12.626Z"
   },
   {
    "duration": 23,
    "start_time": "2022-05-20T18:15:15.009Z"
   },
   {
    "duration": 13,
    "start_time": "2022-05-20T18:15:15.397Z"
   },
   {
    "duration": 25,
    "start_time": "2022-05-20T18:15:17.777Z"
   },
   {
    "duration": 55,
    "start_time": "2022-05-20T18:15:18.342Z"
   },
   {
    "duration": 30,
    "start_time": "2022-05-20T18:15:19.564Z"
   },
   {
    "duration": 89,
    "start_time": "2022-05-20T18:15:31.040Z"
   },
   {
    "duration": 38,
    "start_time": "2022-05-20T18:17:08.197Z"
   },
   {
    "duration": 14,
    "start_time": "2022-05-20T18:20:17.049Z"
   },
   {
    "duration": 18,
    "start_time": "2022-05-20T18:24:18.728Z"
   },
   {
    "duration": 29,
    "start_time": "2022-05-20T18:26:01.372Z"
   },
   {
    "duration": 27,
    "start_time": "2022-05-20T18:26:08.574Z"
   },
   {
    "duration": 25,
    "start_time": "2022-05-20T18:26:13.593Z"
   },
   {
    "duration": 16,
    "start_time": "2022-05-20T18:26:55.518Z"
   },
   {
    "duration": 26,
    "start_time": "2022-05-20T18:26:58.008Z"
   },
   {
    "duration": 12,
    "start_time": "2022-05-20T18:26:58.196Z"
   },
   {
    "duration": 37,
    "start_time": "2022-05-20T18:26:58.383Z"
   },
   {
    "duration": 37,
    "start_time": "2022-05-20T18:26:58.567Z"
   },
   {
    "duration": 49,
    "start_time": "2022-05-20T18:27:01.361Z"
   },
   {
    "duration": 26,
    "start_time": "2022-05-20T18:33:55.288Z"
   },
   {
    "duration": 19,
    "start_time": "2022-05-20T18:34:09.623Z"
   },
   {
    "duration": 34,
    "start_time": "2022-05-20T18:34:09.829Z"
   },
   {
    "duration": 516,
    "start_time": "2022-05-20T18:53:02.054Z"
   },
   {
    "duration": 37,
    "start_time": "2022-05-20T18:53:37.502Z"
   },
   {
    "duration": 28,
    "start_time": "2022-05-20T18:53:48.207Z"
   },
   {
    "duration": 35,
    "start_time": "2022-05-20T18:53:58.207Z"
   },
   {
    "duration": 36,
    "start_time": "2022-05-20T18:54:04.388Z"
   },
   {
    "duration": 10,
    "start_time": "2022-05-20T18:54:19.129Z"
   },
   {
    "duration": 26,
    "start_time": "2022-05-20T18:54:35.655Z"
   },
   {
    "duration": 28,
    "start_time": "2022-05-20T18:55:02.786Z"
   },
   {
    "duration": 13,
    "start_time": "2022-05-20T19:24:22.821Z"
   },
   {
    "duration": 38,
    "start_time": "2022-05-20T19:24:30.256Z"
   },
   {
    "duration": 25,
    "start_time": "2022-05-20T19:24:36.791Z"
   },
   {
    "duration": 23,
    "start_time": "2022-05-20T19:24:40.911Z"
   },
   {
    "duration": 26,
    "start_time": "2022-05-20T19:24:50.030Z"
   },
   {
    "duration": 36,
    "start_time": "2022-05-20T19:49:17.810Z"
   },
   {
    "duration": 24,
    "start_time": "2022-05-20T19:49:24.274Z"
   },
   {
    "duration": 22,
    "start_time": "2022-05-20T20:00:56.804Z"
   },
   {
    "duration": 24,
    "start_time": "2022-05-20T20:07:10.472Z"
   },
   {
    "duration": 11,
    "start_time": "2022-05-20T20:08:21.403Z"
   },
   {
    "duration": 10,
    "start_time": "2022-05-20T20:08:39.376Z"
   },
   {
    "duration": 10,
    "start_time": "2022-05-20T20:08:44.519Z"
   },
   {
    "duration": 127,
    "start_time": "2022-05-20T20:37:29.545Z"
   },
   {
    "duration": 20,
    "start_time": "2022-05-20T20:37:58.596Z"
   },
   {
    "duration": 122,
    "start_time": "2022-05-20T20:38:10.916Z"
   },
   {
    "duration": 19,
    "start_time": "2022-05-20T20:38:15.238Z"
   },
   {
    "duration": 14,
    "start_time": "2022-05-20T20:38:32.948Z"
   },
   {
    "duration": 11,
    "start_time": "2022-05-20T20:39:00.643Z"
   },
   {
    "duration": 15,
    "start_time": "2022-05-20T20:39:19.895Z"
   },
   {
    "duration": 10,
    "start_time": "2022-05-20T20:39:35.051Z"
   },
   {
    "duration": 21,
    "start_time": "2022-05-20T20:39:39.206Z"
   },
   {
    "duration": 50,
    "start_time": "2022-05-20T20:39:39.920Z"
   },
   {
    "duration": 19,
    "start_time": "2022-05-20T20:39:50.912Z"
   },
   {
    "duration": 16,
    "start_time": "2022-05-20T20:39:54.742Z"
   },
   {
    "duration": 15,
    "start_time": "2022-05-20T20:40:00.614Z"
   },
   {
    "duration": 14,
    "start_time": "2022-05-20T20:40:18.065Z"
   },
   {
    "duration": 14,
    "start_time": "2022-05-20T20:41:58.491Z"
   },
   {
    "duration": 15,
    "start_time": "2022-05-20T20:42:15.804Z"
   },
   {
    "duration": 15,
    "start_time": "2022-05-20T20:42:50.106Z"
   },
   {
    "duration": 10,
    "start_time": "2022-05-20T20:44:35.094Z"
   },
   {
    "duration": 17,
    "start_time": "2022-05-20T20:44:43.209Z"
   },
   {
    "duration": 14,
    "start_time": "2022-05-20T20:45:04.169Z"
   },
   {
    "duration": 18,
    "start_time": "2022-05-20T20:45:07.595Z"
   },
   {
    "duration": 31,
    "start_time": "2022-05-20T20:46:29.663Z"
   },
   {
    "duration": 10,
    "start_time": "2022-05-20T20:46:35.257Z"
   },
   {
    "duration": 22,
    "start_time": "2022-05-20T20:47:49.160Z"
   },
   {
    "duration": 14,
    "start_time": "2022-05-20T20:48:03.460Z"
   },
   {
    "duration": 17,
    "start_time": "2022-05-20T20:48:15.550Z"
   },
   {
    "duration": 17,
    "start_time": "2022-05-20T20:48:28.925Z"
   },
   {
    "duration": 23,
    "start_time": "2022-05-20T20:48:44.115Z"
   },
   {
    "duration": 17,
    "start_time": "2022-05-20T20:48:53.967Z"
   },
   {
    "duration": 7,
    "start_time": "2022-05-20T20:50:28.537Z"
   },
   {
    "duration": 10,
    "start_time": "2022-05-20T20:50:35.181Z"
   },
   {
    "duration": 16,
    "start_time": "2022-05-20T20:50:41.856Z"
   },
   {
    "duration": 11,
    "start_time": "2022-05-20T20:50:55.993Z"
   },
   {
    "duration": 13,
    "start_time": "2022-05-20T20:51:04.492Z"
   },
   {
    "duration": 12,
    "start_time": "2022-05-20T20:56:45.213Z"
   },
   {
    "duration": 11,
    "start_time": "2022-05-20T20:56:56.452Z"
   },
   {
    "duration": 10,
    "start_time": "2022-05-20T20:57:16.397Z"
   },
   {
    "duration": 13,
    "start_time": "2022-05-20T20:57:27.792Z"
   },
   {
    "duration": 14,
    "start_time": "2022-05-20T20:57:48.552Z"
   },
   {
    "duration": 18,
    "start_time": "2022-05-20T20:57:53.614Z"
   },
   {
    "duration": 11,
    "start_time": "2022-05-20T20:57:54.132Z"
   },
   {
    "duration": 15,
    "start_time": "2022-05-20T20:57:56.481Z"
   },
   {
    "duration": 12,
    "start_time": "2022-05-20T20:58:07.478Z"
   },
   {
    "duration": 15,
    "start_time": "2022-05-20T21:07:36.148Z"
   },
   {
    "duration": 15,
    "start_time": "2022-05-20T21:08:07.804Z"
   },
   {
    "duration": 11,
    "start_time": "2022-05-20T21:10:04.826Z"
   },
   {
    "duration": 13,
    "start_time": "2022-05-20T21:10:25.031Z"
   },
   {
    "duration": 3,
    "start_time": "2022-05-20T21:10:38.510Z"
   },
   {
    "duration": 183,
    "start_time": "2022-05-20T21:10:38.515Z"
   },
   {
    "duration": 26,
    "start_time": "2022-05-20T21:10:38.700Z"
   },
   {
    "duration": 154,
    "start_time": "2022-05-20T21:10:38.728Z"
   },
   {
    "duration": 21,
    "start_time": "2022-05-20T21:10:38.883Z"
   },
   {
    "duration": 6,
    "start_time": "2022-05-20T21:10:38.905Z"
   },
   {
    "duration": 114,
    "start_time": "2022-05-20T21:10:38.912Z"
   },
   {
    "duration": 18,
    "start_time": "2022-05-20T21:10:39.027Z"
   },
   {
    "duration": 26,
    "start_time": "2022-05-20T21:10:39.047Z"
   },
   {
    "duration": 10,
    "start_time": "2022-05-20T21:10:39.075Z"
   },
   {
    "duration": 35,
    "start_time": "2022-05-20T21:10:39.086Z"
   },
   {
    "duration": 12,
    "start_time": "2022-05-20T21:10:39.122Z"
   },
   {
    "duration": 50,
    "start_time": "2022-05-20T21:10:39.135Z"
   },
   {
    "duration": 21,
    "start_time": "2022-05-20T21:10:39.186Z"
   },
   {
    "duration": 17,
    "start_time": "2022-05-20T21:10:39.209Z"
   },
   {
    "duration": 3,
    "start_time": "2022-05-20T21:10:39.228Z"
   },
   {
    "duration": 26,
    "start_time": "2022-05-20T21:10:39.233Z"
   },
   {
    "duration": 14,
    "start_time": "2022-05-20T21:10:39.261Z"
   },
   {
    "duration": 16,
    "start_time": "2022-05-20T21:10:39.277Z"
   },
   {
    "duration": 9,
    "start_time": "2022-05-20T21:10:39.295Z"
   },
   {
    "duration": 12,
    "start_time": "2022-05-20T21:10:39.305Z"
   },
   {
    "duration": 7,
    "start_time": "2022-05-20T21:10:39.318Z"
   },
   {
    "duration": 80,
    "start_time": "2022-05-20T21:10:39.327Z"
   },
   {
    "duration": 8,
    "start_time": "2022-05-20T21:10:39.410Z"
   },
   {
    "duration": 18,
    "start_time": "2022-05-20T21:10:39.420Z"
   },
   {
    "duration": 41,
    "start_time": "2022-05-20T21:10:39.439Z"
   },
   {
    "duration": 7,
    "start_time": "2022-05-20T21:10:39.481Z"
   },
   {
    "duration": 20,
    "start_time": "2022-05-20T21:10:39.490Z"
   },
   {
    "duration": 17,
    "start_time": "2022-05-20T21:10:39.511Z"
   },
   {
    "duration": 56,
    "start_time": "2022-05-20T21:10:39.530Z"
   },
   {
    "duration": 11,
    "start_time": "2022-05-20T21:10:39.588Z"
   },
   {
    "duration": 28,
    "start_time": "2022-05-20T21:10:39.600Z"
   },
   {
    "duration": 73,
    "start_time": "2022-05-20T21:10:39.629Z"
   },
   {
    "duration": 16,
    "start_time": "2022-05-20T21:10:39.703Z"
   },
   {
    "duration": 17,
    "start_time": "2022-05-20T21:10:39.720Z"
   },
   {
    "duration": 35,
    "start_time": "2022-05-20T21:10:39.738Z"
   },
   {
    "duration": 15,
    "start_time": "2022-05-20T21:10:39.775Z"
   },
   {
    "duration": 0,
    "start_time": "2022-05-20T21:10:39.791Z"
   },
   {
    "duration": 12,
    "start_time": "2022-05-20T21:11:30.843Z"
   },
   {
    "duration": 12,
    "start_time": "2022-05-20T21:11:34.612Z"
   },
   {
    "duration": 10,
    "start_time": "2022-05-20T21:11:34.792Z"
   },
   {
    "duration": 13,
    "start_time": "2022-05-20T21:11:39.752Z"
   },
   {
    "duration": 12,
    "start_time": "2022-05-20T21:11:41.176Z"
   },
   {
    "duration": 12,
    "start_time": "2022-05-20T21:11:55.195Z"
   },
   {
    "duration": 20,
    "start_time": "2022-05-20T21:13:36.269Z"
   },
   {
    "duration": 10,
    "start_time": "2022-05-20T21:13:47.189Z"
   },
   {
    "duration": 22,
    "start_time": "2022-05-20T21:13:55.255Z"
   },
   {
    "duration": 12,
    "start_time": "2022-05-20T21:14:06.623Z"
   },
   {
    "duration": 504,
    "start_time": "2022-05-20T21:14:23.022Z"
   },
   {
    "duration": 22,
    "start_time": "2022-05-20T21:14:31.196Z"
   },
   {
    "duration": 18,
    "start_time": "2022-05-20T21:14:41.795Z"
   },
   {
    "duration": 19,
    "start_time": "2022-05-20T21:14:46.761Z"
   },
   {
    "duration": 19,
    "start_time": "2022-05-20T21:14:51.240Z"
   },
   {
    "duration": 16,
    "start_time": "2022-05-20T21:15:26.532Z"
   },
   {
    "duration": 19,
    "start_time": "2022-05-20T21:15:44.039Z"
   },
   {
    "duration": 11,
    "start_time": "2022-05-20T21:15:48.330Z"
   },
   {
    "duration": 17,
    "start_time": "2022-05-20T21:16:22.756Z"
   },
   {
    "duration": 18,
    "start_time": "2022-05-20T21:16:45.394Z"
   },
   {
    "duration": 10,
    "start_time": "2022-05-20T21:16:46.154Z"
   },
   {
    "duration": 14,
    "start_time": "2022-05-20T21:16:46.971Z"
   },
   {
    "duration": 21,
    "start_time": "2022-05-20T21:16:55.427Z"
   },
   {
    "duration": 19,
    "start_time": "2022-05-20T21:16:58.796Z"
   },
   {
    "duration": 13,
    "start_time": "2022-05-20T21:16:58.988Z"
   },
   {
    "duration": 18,
    "start_time": "2022-05-20T21:16:59.788Z"
   },
   {
    "duration": 17,
    "start_time": "2022-05-20T21:18:06.594Z"
   },
   {
    "duration": 22,
    "start_time": "2022-05-20T21:18:06.771Z"
   },
   {
    "duration": 19,
    "start_time": "2022-05-20T21:19:08.879Z"
   },
   {
    "duration": 6,
    "start_time": "2022-05-20T21:23:46.435Z"
   },
   {
    "duration": 46,
    "start_time": "2022-05-20T21:28:44.202Z"
   },
   {
    "duration": 49,
    "start_time": "2022-05-20T21:29:13.887Z"
   },
   {
    "duration": 30,
    "start_time": "2022-05-20T21:29:37.975Z"
   },
   {
    "duration": 34,
    "start_time": "2022-05-20T21:29:47.186Z"
   },
   {
    "duration": 4,
    "start_time": "2022-05-20T21:31:02.865Z"
   },
   {
    "duration": 35,
    "start_time": "2022-05-20T21:31:36.631Z"
   },
   {
    "duration": 17,
    "start_time": "2022-05-20T21:31:40.345Z"
   },
   {
    "duration": 6,
    "start_time": "2022-05-20T21:32:16.770Z"
   },
   {
    "duration": 3,
    "start_time": "2022-05-20T21:48:14.320Z"
   },
   {
    "duration": 32,
    "start_time": "2022-05-20T21:48:14.512Z"
   },
   {
    "duration": 17,
    "start_time": "2022-05-20T21:48:15.066Z"
   },
   {
    "duration": 50,
    "start_time": "2022-05-20T21:48:50.191Z"
   },
   {
    "duration": 5,
    "start_time": "2022-05-20T21:57:13.361Z"
   },
   {
    "duration": 3,
    "start_time": "2022-05-20T21:57:13.991Z"
   },
   {
    "duration": 44,
    "start_time": "2022-05-20T21:57:14.473Z"
   },
   {
    "duration": 4,
    "start_time": "2022-05-20T22:00:49.220Z"
   },
   {
    "duration": 3,
    "start_time": "2022-05-20T22:00:54.947Z"
   },
   {
    "duration": 42,
    "start_time": "2022-05-20T22:00:55.456Z"
   },
   {
    "duration": 3,
    "start_time": "2022-05-20T22:04:55.418Z"
   },
   {
    "duration": 41,
    "start_time": "2022-05-20T22:04:57.952Z"
   },
   {
    "duration": 3,
    "start_time": "2022-05-20T22:06:46.770Z"
   },
   {
    "duration": 38,
    "start_time": "2022-05-20T22:06:46.943Z"
   },
   {
    "duration": 4,
    "start_time": "2022-05-20T22:07:05.449Z"
   },
   {
    "duration": 42,
    "start_time": "2022-05-20T22:07:06.765Z"
   },
   {
    "duration": 4,
    "start_time": "2022-05-20T22:07:13.797Z"
   },
   {
    "duration": 53,
    "start_time": "2022-05-20T22:07:14.005Z"
   },
   {
    "duration": 4,
    "start_time": "2022-05-20T22:07:51.443Z"
   },
   {
    "duration": 59,
    "start_time": "2022-05-20T22:07:51.599Z"
   },
   {
    "duration": 7,
    "start_time": "2022-05-20T22:08:03.670Z"
   },
   {
    "duration": 5,
    "start_time": "2022-05-20T22:08:44.812Z"
   },
   {
    "duration": 6,
    "start_time": "2022-05-20T22:09:02.544Z"
   },
   {
    "duration": 7,
    "start_time": "2022-05-20T22:16:16.687Z"
   },
   {
    "duration": 4,
    "start_time": "2022-05-20T22:19:10.159Z"
   },
   {
    "duration": 46,
    "start_time": "2022-05-20T22:19:29.679Z"
   },
   {
    "duration": 6,
    "start_time": "2022-05-20T22:19:50.614Z"
   },
   {
    "duration": 7,
    "start_time": "2022-05-20T22:20:08.110Z"
   },
   {
    "duration": 3,
    "start_time": "2022-05-20T22:20:15.285Z"
   },
   {
    "duration": 46,
    "start_time": "2022-05-20T22:20:15.459Z"
   },
   {
    "duration": 6,
    "start_time": "2022-05-20T22:20:15.642Z"
   },
   {
    "duration": 7,
    "start_time": "2022-05-20T22:20:16.435Z"
   },
   {
    "duration": 26,
    "start_time": "2022-05-20T22:38:24.565Z"
   },
   {
    "duration": 3,
    "start_time": "2022-05-20T22:40:45.583Z"
   },
   {
    "duration": 3,
    "start_time": "2022-05-20T22:40:59.055Z"
   },
   {
    "duration": 48,
    "start_time": "2022-05-20T22:41:21.994Z"
   },
   {
    "duration": 430,
    "start_time": "2022-05-20T22:41:30.522Z"
   },
   {
    "duration": 6,
    "start_time": "2022-05-20T22:41:44.739Z"
   },
   {
    "duration": 4,
    "start_time": "2022-05-20T22:42:06.121Z"
   },
   {
    "duration": 6,
    "start_time": "2022-05-20T22:42:09.633Z"
   },
   {
    "duration": 3,
    "start_time": "2022-05-20T22:42:16.840Z"
   },
   {
    "duration": 59,
    "start_time": "2022-05-20T22:42:17.716Z"
   },
   {
    "duration": 7,
    "start_time": "2022-05-20T22:42:21.030Z"
   },
   {
    "duration": 26,
    "start_time": "2022-05-20T22:42:21.980Z"
   },
   {
    "duration": 6,
    "start_time": "2022-05-20T22:42:22.699Z"
   },
   {
    "duration": 2,
    "start_time": "2022-05-20T22:42:42.845Z"
   },
   {
    "duration": 170,
    "start_time": "2022-05-20T22:42:42.849Z"
   },
   {
    "duration": 22,
    "start_time": "2022-05-20T22:42:43.020Z"
   },
   {
    "duration": 141,
    "start_time": "2022-05-20T22:42:43.043Z"
   },
   {
    "duration": 19,
    "start_time": "2022-05-20T22:42:43.186Z"
   },
   {
    "duration": 27,
    "start_time": "2022-05-20T22:42:43.206Z"
   },
   {
    "duration": 95,
    "start_time": "2022-05-20T22:42:43.234Z"
   },
   {
    "duration": 17,
    "start_time": "2022-05-20T22:42:43.330Z"
   },
   {
    "duration": 25,
    "start_time": "2022-05-20T22:42:43.359Z"
   },
   {
    "duration": 9,
    "start_time": "2022-05-20T22:42:43.385Z"
   },
   {
    "duration": 42,
    "start_time": "2022-05-20T22:42:43.395Z"
   },
   {
    "duration": 9,
    "start_time": "2022-05-20T22:42:43.438Z"
   },
   {
    "duration": 42,
    "start_time": "2022-05-20T22:42:43.449Z"
   },
   {
    "duration": 20,
    "start_time": "2022-05-20T22:42:43.493Z"
   },
   {
    "duration": 30,
    "start_time": "2022-05-20T22:42:43.514Z"
   },
   {
    "duration": 4,
    "start_time": "2022-05-20T22:42:43.545Z"
   },
   {
    "duration": 30,
    "start_time": "2022-05-20T22:42:43.550Z"
   },
   {
    "duration": 26,
    "start_time": "2022-05-20T22:42:43.582Z"
   },
   {
    "duration": 16,
    "start_time": "2022-05-20T22:42:43.609Z"
   },
   {
    "duration": 35,
    "start_time": "2022-05-20T22:42:43.626Z"
   },
   {
    "duration": 16,
    "start_time": "2022-05-20T22:42:43.662Z"
   },
   {
    "duration": 21,
    "start_time": "2022-05-20T22:42:43.679Z"
   },
   {
    "duration": 72,
    "start_time": "2022-05-20T22:42:43.702Z"
   },
   {
    "duration": 9,
    "start_time": "2022-05-20T22:42:43.775Z"
   },
   {
    "duration": 38,
    "start_time": "2022-05-20T22:42:43.785Z"
   },
   {
    "duration": 30,
    "start_time": "2022-05-20T22:42:43.824Z"
   },
   {
    "duration": 14,
    "start_time": "2022-05-20T22:42:43.856Z"
   },
   {
    "duration": 32,
    "start_time": "2022-05-20T22:42:43.872Z"
   },
   {
    "duration": 34,
    "start_time": "2022-05-20T22:42:43.906Z"
   },
   {
    "duration": 14,
    "start_time": "2022-05-20T22:42:43.942Z"
   },
   {
    "duration": 17,
    "start_time": "2022-05-20T22:42:43.957Z"
   },
   {
    "duration": 53,
    "start_time": "2022-05-20T22:42:43.976Z"
   },
   {
    "duration": 47,
    "start_time": "2022-05-20T22:42:44.030Z"
   },
   {
    "duration": 26,
    "start_time": "2022-05-20T22:42:44.079Z"
   },
   {
    "duration": 19,
    "start_time": "2022-05-20T22:42:44.107Z"
   },
   {
    "duration": 34,
    "start_time": "2022-05-20T22:42:44.128Z"
   },
   {
    "duration": 478,
    "start_time": "2022-05-20T22:42:44.165Z"
   },
   {
    "duration": 0,
    "start_time": "2022-05-20T22:42:44.644Z"
   },
   {
    "duration": 0,
    "start_time": "2022-05-20T22:42:44.645Z"
   },
   {
    "duration": 0,
    "start_time": "2022-05-20T22:42:44.646Z"
   },
   {
    "duration": 0,
    "start_time": "2022-05-20T22:42:44.647Z"
   },
   {
    "duration": 0,
    "start_time": "2022-05-20T22:42:44.648Z"
   },
   {
    "duration": 1,
    "start_time": "2022-05-20T22:42:44.648Z"
   },
   {
    "duration": 0,
    "start_time": "2022-05-20T22:42:44.650Z"
   },
   {
    "duration": 0,
    "start_time": "2022-05-20T22:42:44.650Z"
   },
   {
    "duration": 0,
    "start_time": "2022-05-20T22:42:44.652Z"
   },
   {
    "duration": 0,
    "start_time": "2022-05-20T22:42:44.653Z"
   },
   {
    "duration": 7,
    "start_time": "2022-05-20T22:42:53.324Z"
   },
   {
    "duration": 3,
    "start_time": "2022-05-20T22:42:56.045Z"
   },
   {
    "duration": 154,
    "start_time": "2022-05-20T22:42:56.050Z"
   },
   {
    "duration": 22,
    "start_time": "2022-05-20T22:42:56.205Z"
   },
   {
    "duration": 143,
    "start_time": "2022-05-20T22:42:56.228Z"
   },
   {
    "duration": 22,
    "start_time": "2022-05-20T22:42:56.374Z"
   },
   {
    "duration": 24,
    "start_time": "2022-05-20T22:42:56.398Z"
   },
   {
    "duration": 93,
    "start_time": "2022-05-20T22:42:56.423Z"
   },
   {
    "duration": 18,
    "start_time": "2022-05-20T22:42:56.518Z"
   },
   {
    "duration": 22,
    "start_time": "2022-05-20T22:42:56.538Z"
   },
   {
    "duration": 18,
    "start_time": "2022-05-20T22:42:56.562Z"
   },
   {
    "duration": 50,
    "start_time": "2022-05-20T22:42:56.582Z"
   },
   {
    "duration": 11,
    "start_time": "2022-05-20T22:42:56.634Z"
   },
   {
    "duration": 55,
    "start_time": "2022-05-20T22:42:56.649Z"
   },
   {
    "duration": 22,
    "start_time": "2022-05-20T22:42:56.705Z"
   },
   {
    "duration": 18,
    "start_time": "2022-05-20T22:42:56.729Z"
   },
   {
    "duration": 20,
    "start_time": "2022-05-20T22:42:56.749Z"
   },
   {
    "duration": 28,
    "start_time": "2022-05-20T22:42:56.771Z"
   },
   {
    "duration": 36,
    "start_time": "2022-05-20T22:42:56.800Z"
   },
   {
    "duration": 31,
    "start_time": "2022-05-20T22:42:56.838Z"
   },
   {
    "duration": 28,
    "start_time": "2022-05-20T22:42:56.871Z"
   },
   {
    "duration": 14,
    "start_time": "2022-05-20T22:42:56.901Z"
   },
   {
    "duration": 21,
    "start_time": "2022-05-20T22:42:56.917Z"
   },
   {
    "duration": 65,
    "start_time": "2022-05-20T22:42:56.940Z"
   },
   {
    "duration": 8,
    "start_time": "2022-05-20T22:42:57.006Z"
   },
   {
    "duration": 36,
    "start_time": "2022-05-20T22:42:57.016Z"
   },
   {
    "duration": 38,
    "start_time": "2022-05-20T22:42:57.053Z"
   },
   {
    "duration": 8,
    "start_time": "2022-05-20T22:42:57.092Z"
   },
   {
    "duration": 39,
    "start_time": "2022-05-20T22:42:57.101Z"
   },
   {
    "duration": 18,
    "start_time": "2022-05-20T22:42:57.141Z"
   },
   {
    "duration": 21,
    "start_time": "2022-05-20T22:42:57.161Z"
   },
   {
    "duration": 32,
    "start_time": "2022-05-20T22:42:57.184Z"
   },
   {
    "duration": 32,
    "start_time": "2022-05-20T22:42:57.218Z"
   },
   {
    "duration": 44,
    "start_time": "2022-05-20T22:42:57.252Z"
   },
   {
    "duration": 16,
    "start_time": "2022-05-20T22:42:57.298Z"
   },
   {
    "duration": 22,
    "start_time": "2022-05-20T22:42:57.315Z"
   },
   {
    "duration": 34,
    "start_time": "2022-05-20T22:42:57.338Z"
   },
   {
    "duration": 462,
    "start_time": "2022-05-20T22:42:57.375Z"
   },
   {
    "duration": 0,
    "start_time": "2022-05-20T22:42:57.838Z"
   },
   {
    "duration": 0,
    "start_time": "2022-05-20T22:42:57.839Z"
   },
   {
    "duration": 0,
    "start_time": "2022-05-20T22:42:57.841Z"
   },
   {
    "duration": 0,
    "start_time": "2022-05-20T22:42:57.842Z"
   },
   {
    "duration": 0,
    "start_time": "2022-05-20T22:42:57.843Z"
   },
   {
    "duration": 0,
    "start_time": "2022-05-20T22:42:57.844Z"
   },
   {
    "duration": 0,
    "start_time": "2022-05-20T22:42:57.845Z"
   },
   {
    "duration": 0,
    "start_time": "2022-05-20T22:42:57.846Z"
   },
   {
    "duration": 0,
    "start_time": "2022-05-20T22:42:57.847Z"
   },
   {
    "duration": 0,
    "start_time": "2022-05-20T22:42:57.848Z"
   },
   {
    "duration": 4,
    "start_time": "2022-05-20T22:43:04.584Z"
   },
   {
    "duration": 434,
    "start_time": "2022-05-20T22:43:04.773Z"
   },
   {
    "duration": 2,
    "start_time": "2022-05-20T22:43:26.128Z"
   },
   {
    "duration": 171,
    "start_time": "2022-05-20T22:43:26.132Z"
   },
   {
    "duration": 23,
    "start_time": "2022-05-20T22:43:26.304Z"
   },
   {
    "duration": 126,
    "start_time": "2022-05-20T22:43:26.328Z"
   },
   {
    "duration": 21,
    "start_time": "2022-05-20T22:43:26.459Z"
   },
   {
    "duration": 7,
    "start_time": "2022-05-20T22:43:26.482Z"
   },
   {
    "duration": 105,
    "start_time": "2022-05-20T22:43:26.491Z"
   },
   {
    "duration": 19,
    "start_time": "2022-05-20T22:43:26.598Z"
   },
   {
    "duration": 20,
    "start_time": "2022-05-20T22:43:26.618Z"
   },
   {
    "duration": 28,
    "start_time": "2022-05-20T22:43:26.639Z"
   },
   {
    "duration": 37,
    "start_time": "2022-05-20T22:43:26.669Z"
   },
   {
    "duration": 10,
    "start_time": "2022-05-20T22:43:26.707Z"
   },
   {
    "duration": 27,
    "start_time": "2022-05-20T22:43:26.719Z"
   },
   {
    "duration": 26,
    "start_time": "2022-05-20T22:43:26.748Z"
   },
   {
    "duration": 16,
    "start_time": "2022-05-20T22:43:26.775Z"
   },
   {
    "duration": 4,
    "start_time": "2022-05-20T22:43:26.792Z"
   },
   {
    "duration": 15,
    "start_time": "2022-05-20T22:43:26.797Z"
   },
   {
    "duration": 18,
    "start_time": "2022-05-20T22:43:26.813Z"
   },
   {
    "duration": 10,
    "start_time": "2022-05-20T22:43:26.833Z"
   },
   {
    "duration": 25,
    "start_time": "2022-05-20T22:43:26.844Z"
   },
   {
    "duration": 8,
    "start_time": "2022-05-20T22:43:26.870Z"
   },
   {
    "duration": 8,
    "start_time": "2022-05-20T22:43:26.879Z"
   },
   {
    "duration": 48,
    "start_time": "2022-05-20T22:43:26.889Z"
   },
   {
    "duration": 26,
    "start_time": "2022-05-20T22:43:26.938Z"
   },
   {
    "duration": 20,
    "start_time": "2022-05-20T22:43:26.965Z"
   },
   {
    "duration": 19,
    "start_time": "2022-05-20T22:43:26.986Z"
   },
   {
    "duration": 7,
    "start_time": "2022-05-20T22:43:27.006Z"
   },
   {
    "duration": 46,
    "start_time": "2022-05-20T22:43:27.014Z"
   },
   {
    "duration": 17,
    "start_time": "2022-05-20T22:43:27.061Z"
   },
   {
    "duration": 13,
    "start_time": "2022-05-20T22:43:27.079Z"
   },
   {
    "duration": 8,
    "start_time": "2022-05-20T22:43:27.093Z"
   },
   {
    "duration": 20,
    "start_time": "2022-05-20T22:43:27.103Z"
   },
   {
    "duration": 77,
    "start_time": "2022-05-20T22:43:27.124Z"
   },
   {
    "duration": 18,
    "start_time": "2022-05-20T22:43:27.203Z"
   },
   {
    "duration": 15,
    "start_time": "2022-05-20T22:43:27.223Z"
   },
   {
    "duration": 36,
    "start_time": "2022-05-20T22:43:27.239Z"
   },
   {
    "duration": 399,
    "start_time": "2022-05-20T22:43:27.278Z"
   },
   {
    "duration": 0,
    "start_time": "2022-05-20T22:43:27.678Z"
   },
   {
    "duration": 0,
    "start_time": "2022-05-20T22:43:27.679Z"
   },
   {
    "duration": 0,
    "start_time": "2022-05-20T22:43:27.680Z"
   },
   {
    "duration": 0,
    "start_time": "2022-05-20T22:43:27.681Z"
   },
   {
    "duration": 0,
    "start_time": "2022-05-20T22:43:27.681Z"
   },
   {
    "duration": 0,
    "start_time": "2022-05-20T22:43:27.682Z"
   },
   {
    "duration": 0,
    "start_time": "2022-05-20T22:43:27.683Z"
   },
   {
    "duration": 0,
    "start_time": "2022-05-20T22:43:27.684Z"
   },
   {
    "duration": 0,
    "start_time": "2022-05-20T22:43:27.685Z"
   },
   {
    "duration": 0,
    "start_time": "2022-05-20T22:43:27.686Z"
   },
   {
    "duration": 3,
    "start_time": "2022-05-20T22:44:21.607Z"
   },
   {
    "duration": 17,
    "start_time": "2022-05-20T22:44:27.223Z"
   },
   {
    "duration": 19,
    "start_time": "2022-05-20T22:44:27.898Z"
   },
   {
    "duration": 4,
    "start_time": "2022-05-20T22:44:28.293Z"
   },
   {
    "duration": 45,
    "start_time": "2022-05-20T22:44:28.507Z"
   },
   {
    "duration": 6,
    "start_time": "2022-05-20T22:44:28.899Z"
   },
   {
    "duration": 3,
    "start_time": "2022-05-20T22:44:29.355Z"
   },
   {
    "duration": 45,
    "start_time": "2022-05-20T22:44:29.614Z"
   },
   {
    "duration": 3,
    "start_time": "2022-05-20T22:44:30.093Z"
   },
   {
    "duration": 49,
    "start_time": "2022-05-20T22:44:30.297Z"
   },
   {
    "duration": 7,
    "start_time": "2022-05-20T22:44:30.517Z"
   },
   {
    "duration": 6,
    "start_time": "2022-05-20T22:44:36.581Z"
   },
   {
    "duration": 72,
    "start_time": "2022-05-20T22:45:08.724Z"
   },
   {
    "duration": 48,
    "start_time": "2022-05-20T22:45:58.589Z"
   },
   {
    "duration": 3,
    "start_time": "2022-05-20T23:01:34.294Z"
   },
   {
    "duration": 3,
    "start_time": "2022-05-20T23:02:02.067Z"
   },
   {
    "duration": 16,
    "start_time": "2022-05-20T23:02:12.392Z"
   },
   {
    "duration": 4,
    "start_time": "2022-05-20T23:02:25.542Z"
   },
   {
    "duration": 61,
    "start_time": "2022-05-20T23:02:25.695Z"
   },
   {
    "duration": 65,
    "start_time": "2022-05-20T23:02:46.275Z"
   },
   {
    "duration": 2,
    "start_time": "2022-05-20T23:04:53.977Z"
   },
   {
    "duration": 2,
    "start_time": "2022-05-20T23:06:38.665Z"
   },
   {
    "duration": 154,
    "start_time": "2022-05-20T23:06:39.001Z"
   },
   {
    "duration": 37,
    "start_time": "2022-05-20T23:20:02.982Z"
   },
   {
    "duration": 33,
    "start_time": "2022-05-20T23:29:03.725Z"
   },
   {
    "duration": 32,
    "start_time": "2022-05-20T23:42:59.562Z"
   },
   {
    "duration": 33,
    "start_time": "2022-05-20T23:46:33.150Z"
   },
   {
    "duration": 33,
    "start_time": "2022-05-20T23:49:40.006Z"
   },
   {
    "duration": 482,
    "start_time": "2022-05-20T23:55:14.950Z"
   },
   {
    "duration": 245,
    "start_time": "2022-05-20T23:55:32.947Z"
   },
   {
    "duration": 1543,
    "start_time": "2022-05-20T23:55:41.369Z"
   },
   {
    "duration": 266,
    "start_time": "2022-05-20T23:55:47.214Z"
   },
   {
    "duration": 17,
    "start_time": "2022-05-20T23:57:47.396Z"
   },
   {
    "duration": 24,
    "start_time": "2022-05-20T23:57:58.045Z"
   },
   {
    "duration": 23,
    "start_time": "2022-05-20T23:58:53.784Z"
   },
   {
    "duration": 24,
    "start_time": "2022-05-20T23:59:32.393Z"
   },
   {
    "duration": 26,
    "start_time": "2022-05-20T23:59:43.483Z"
   },
   {
    "duration": 252,
    "start_time": "2022-05-21T00:00:21.875Z"
   },
   {
    "duration": 491,
    "start_time": "2022-05-21T00:00:33.087Z"
   },
   {
    "duration": 652,
    "start_time": "2022-05-21T00:01:04.909Z"
   },
   {
    "duration": 502,
    "start_time": "2022-05-21T00:01:25.443Z"
   },
   {
    "duration": 992,
    "start_time": "2022-05-22T12:07:28.553Z"
   },
   {
    "duration": 207,
    "start_time": "2022-05-22T12:07:29.547Z"
   },
   {
    "duration": 26,
    "start_time": "2022-05-22T12:07:29.757Z"
   },
   {
    "duration": 284,
    "start_time": "2022-05-22T12:07:29.785Z"
   },
   {
    "duration": 23,
    "start_time": "2022-05-22T12:07:30.071Z"
   },
   {
    "duration": 10,
    "start_time": "2022-05-22T12:07:30.096Z"
   },
   {
    "duration": 120,
    "start_time": "2022-05-22T12:07:30.107Z"
   },
   {
    "duration": 21,
    "start_time": "2022-05-22T12:07:30.229Z"
   },
   {
    "duration": 35,
    "start_time": "2022-05-22T12:07:30.252Z"
   },
   {
    "duration": 12,
    "start_time": "2022-05-22T12:07:30.288Z"
   },
   {
    "duration": 52,
    "start_time": "2022-05-22T12:07:30.301Z"
   },
   {
    "duration": 14,
    "start_time": "2022-05-22T12:07:30.355Z"
   },
   {
    "duration": 37,
    "start_time": "2022-05-22T12:07:30.371Z"
   },
   {
    "duration": 26,
    "start_time": "2022-05-22T12:07:30.412Z"
   },
   {
    "duration": 41,
    "start_time": "2022-05-22T12:07:30.440Z"
   },
   {
    "duration": 42,
    "start_time": "2022-05-22T12:07:30.482Z"
   },
   {
    "duration": 25,
    "start_time": "2022-05-22T12:07:30.526Z"
   },
   {
    "duration": 46,
    "start_time": "2022-05-22T12:07:30.553Z"
   },
   {
    "duration": 24,
    "start_time": "2022-05-22T12:07:30.602Z"
   },
   {
    "duration": 16,
    "start_time": "2022-05-22T12:07:30.628Z"
   },
   {
    "duration": 32,
    "start_time": "2022-05-22T12:07:30.646Z"
   },
   {
    "duration": 29,
    "start_time": "2022-05-22T12:07:30.680Z"
   },
   {
    "duration": 75,
    "start_time": "2022-05-22T12:07:30.711Z"
   },
   {
    "duration": 10,
    "start_time": "2022-05-22T12:07:30.788Z"
   },
   {
    "duration": 39,
    "start_time": "2022-05-22T12:07:30.800Z"
   },
   {
    "duration": 36,
    "start_time": "2022-05-22T12:07:30.841Z"
   },
   {
    "duration": 10,
    "start_time": "2022-05-22T12:07:30.879Z"
   },
   {
    "duration": 74,
    "start_time": "2022-05-22T12:07:30.891Z"
   },
   {
    "duration": 21,
    "start_time": "2022-05-22T12:07:30.967Z"
   },
   {
    "duration": 20,
    "start_time": "2022-05-22T12:07:30.990Z"
   },
   {
    "duration": 13,
    "start_time": "2022-05-22T12:07:31.011Z"
   },
   {
    "duration": 59,
    "start_time": "2022-05-22T12:07:31.026Z"
   },
   {
    "duration": 52,
    "start_time": "2022-05-22T12:07:31.087Z"
   },
   {
    "duration": 42,
    "start_time": "2022-05-22T12:07:31.141Z"
   },
   {
    "duration": 20,
    "start_time": "2022-05-22T12:07:31.185Z"
   },
   {
    "duration": 24,
    "start_time": "2022-05-22T12:07:31.206Z"
   },
   {
    "duration": 5,
    "start_time": "2022-05-22T12:07:31.231Z"
   },
   {
    "duration": 83,
    "start_time": "2022-05-22T12:07:31.237Z"
   },
   {
    "duration": 7,
    "start_time": "2022-05-22T12:07:31.322Z"
   },
   {
    "duration": 30,
    "start_time": "2022-05-22T12:07:31.331Z"
   },
   {
    "duration": 84,
    "start_time": "2022-05-22T12:07:31.365Z"
   },
   {
    "duration": 7,
    "start_time": "2022-05-22T12:07:31.451Z"
   },
   {
    "duration": 79,
    "start_time": "2022-05-22T12:07:31.460Z"
   },
   {
    "duration": 4,
    "start_time": "2022-05-22T12:07:31.541Z"
   },
   {
    "duration": 100,
    "start_time": "2022-05-22T12:07:31.547Z"
   },
   {
    "duration": 38,
    "start_time": "2022-05-22T12:07:31.649Z"
   },
   {
    "duration": 667,
    "start_time": "2022-05-22T12:07:31.688Z"
   },
   {
    "duration": 12,
    "start_time": "2022-05-22T12:07:32.357Z"
   },
   {
    "duration": 14,
    "start_time": "2022-05-22T12:07:32.370Z"
   },
   {
    "duration": 661,
    "start_time": "2022-05-22T12:18:31.553Z"
   },
   {
    "duration": 733,
    "start_time": "2022-05-22T12:24:46.101Z"
   },
   {
    "duration": 624,
    "start_time": "2022-05-22T12:25:46.888Z"
   },
   {
    "duration": 631,
    "start_time": "2022-05-22T12:38:19.185Z"
   },
   {
    "duration": 743,
    "start_time": "2022-05-22T12:38:24.359Z"
   },
   {
    "duration": 629,
    "start_time": "2022-05-22T12:38:59.427Z"
   },
   {
    "duration": 25,
    "start_time": "2022-05-22T13:44:47.816Z"
   },
   {
    "duration": 21,
    "start_time": "2022-05-22T13:48:41.282Z"
   },
   {
    "duration": 88,
    "start_time": "2022-05-22T13:49:05.519Z"
   },
   {
    "duration": 12,
    "start_time": "2022-05-22T13:49:14.361Z"
   },
   {
    "duration": 6,
    "start_time": "2022-05-22T13:49:32.447Z"
   },
   {
    "duration": 39,
    "start_time": "2022-05-22T13:50:22.854Z"
   },
   {
    "duration": 797,
    "start_time": "2022-05-22T13:50:23.380Z"
   },
   {
    "duration": 47,
    "start_time": "2022-05-22T13:50:29.719Z"
   },
   {
    "duration": 677,
    "start_time": "2022-05-22T13:50:30.275Z"
   },
   {
    "duration": 3,
    "start_time": "2022-05-22T15:15:02.380Z"
   },
   {
    "duration": 8,
    "start_time": "2022-05-22T18:12:04.313Z"
   },
   {
    "duration": 8,
    "start_time": "2022-05-22T18:12:09.780Z"
   },
   {
    "duration": 577,
    "start_time": "2022-05-22T18:35:55.520Z"
   },
   {
    "duration": 35,
    "start_time": "2022-05-22T18:42:01.039Z"
   },
   {
    "duration": 48,
    "start_time": "2022-05-22T18:43:51.445Z"
   },
   {
    "duration": 27,
    "start_time": "2022-05-22T18:44:09.704Z"
   },
   {
    "duration": 9,
    "start_time": "2022-05-22T18:44:42.491Z"
   },
   {
    "duration": 11,
    "start_time": "2022-05-22T18:44:47.744Z"
   },
   {
    "duration": 10,
    "start_time": "2022-05-22T18:46:13.963Z"
   },
   {
    "duration": 14,
    "start_time": "2022-05-22T18:47:16.987Z"
   },
   {
    "duration": 4,
    "start_time": "2022-05-22T18:47:54.780Z"
   },
   {
    "duration": 10,
    "start_time": "2022-05-22T18:47:58.523Z"
   },
   {
    "duration": 34,
    "start_time": "2022-05-22T18:52:36.551Z"
   },
   {
    "duration": 38,
    "start_time": "2022-05-22T18:53:41.855Z"
   },
   {
    "duration": 24,
    "start_time": "2022-05-22T18:57:23.916Z"
   },
   {
    "duration": 31,
    "start_time": "2022-05-22T18:57:30.246Z"
   },
   {
    "duration": 5,
    "start_time": "2022-05-22T18:57:44.096Z"
   },
   {
    "duration": 94,
    "start_time": "2022-05-22T18:57:44.481Z"
   },
   {
    "duration": 7,
    "start_time": "2022-05-22T18:57:44.678Z"
   },
   {
    "duration": 5,
    "start_time": "2022-05-22T18:57:45.080Z"
   },
   {
    "duration": 61,
    "start_time": "2022-05-22T18:57:45.266Z"
   },
   {
    "duration": 4,
    "start_time": "2022-05-22T18:57:45.658Z"
   },
   {
    "duration": 65,
    "start_time": "2022-05-22T18:57:45.862Z"
   },
   {
    "duration": 5,
    "start_time": "2022-05-22T18:57:46.288Z"
   },
   {
    "duration": 117,
    "start_time": "2022-05-22T18:57:46.502Z"
   },
   {
    "duration": 10,
    "start_time": "2022-05-22T18:57:47.084Z"
   },
   {
    "duration": 41,
    "start_time": "2022-05-22T18:57:47.702Z"
   },
   {
    "duration": 862,
    "start_time": "2022-05-22T18:57:48.677Z"
   },
   {
    "duration": 625,
    "start_time": "2022-05-22T18:57:49.893Z"
   },
   {
    "duration": 641,
    "start_time": "2022-05-22T18:57:50.723Z"
   },
   {
    "duration": 15,
    "start_time": "2022-05-22T18:57:54.491Z"
   },
   {
    "duration": 35,
    "start_time": "2022-05-22T18:57:58.876Z"
   },
   {
    "duration": 3,
    "start_time": "2022-05-22T18:59:09.246Z"
   },
   {
    "duration": 194,
    "start_time": "2022-05-22T18:59:09.251Z"
   },
   {
    "duration": 29,
    "start_time": "2022-05-22T18:59:09.466Z"
   },
   {
    "duration": 168,
    "start_time": "2022-05-22T18:59:09.497Z"
   },
   {
    "duration": 23,
    "start_time": "2022-05-22T18:59:09.667Z"
   },
   {
    "duration": 8,
    "start_time": "2022-05-22T18:59:09.691Z"
   },
   {
    "duration": 130,
    "start_time": "2022-05-22T18:59:09.700Z"
   },
   {
    "duration": 34,
    "start_time": "2022-05-22T18:59:09.831Z"
   },
   {
    "duration": 15,
    "start_time": "2022-05-22T18:59:09.867Z"
   },
   {
    "duration": 12,
    "start_time": "2022-05-22T18:59:09.883Z"
   },
   {
    "duration": 25,
    "start_time": "2022-05-22T18:59:09.898Z"
   },
   {
    "duration": 45,
    "start_time": "2022-05-22T18:59:09.925Z"
   },
   {
    "duration": 33,
    "start_time": "2022-05-22T18:59:09.972Z"
   },
   {
    "duration": 25,
    "start_time": "2022-05-22T18:59:10.007Z"
   },
   {
    "duration": 49,
    "start_time": "2022-05-22T18:59:10.034Z"
   },
   {
    "duration": 5,
    "start_time": "2022-05-22T18:59:10.085Z"
   },
   {
    "duration": 9,
    "start_time": "2022-05-22T18:59:10.092Z"
   },
   {
    "duration": 21,
    "start_time": "2022-05-22T18:59:10.102Z"
   },
   {
    "duration": 43,
    "start_time": "2022-05-22T18:59:10.125Z"
   },
   {
    "duration": 11,
    "start_time": "2022-05-22T18:59:10.170Z"
   },
   {
    "duration": 7,
    "start_time": "2022-05-22T18:59:10.182Z"
   },
   {
    "duration": 8,
    "start_time": "2022-05-22T18:59:10.190Z"
   },
   {
    "duration": 100,
    "start_time": "2022-05-22T18:59:10.200Z"
   },
   {
    "duration": 9,
    "start_time": "2022-05-22T18:59:10.302Z"
   },
   {
    "duration": 24,
    "start_time": "2022-05-22T18:59:10.313Z"
   },
   {
    "duration": 47,
    "start_time": "2022-05-22T18:59:10.339Z"
   },
   {
    "duration": 9,
    "start_time": "2022-05-22T18:59:10.388Z"
   },
   {
    "duration": 25,
    "start_time": "2022-05-22T18:59:10.399Z"
   },
   {
    "duration": 48,
    "start_time": "2022-05-22T18:59:10.427Z"
   },
   {
    "duration": 17,
    "start_time": "2022-05-22T18:59:10.476Z"
   },
   {
    "duration": 10,
    "start_time": "2022-05-22T18:59:10.495Z"
   },
   {
    "duration": 63,
    "start_time": "2022-05-22T18:59:10.507Z"
   },
   {
    "duration": 59,
    "start_time": "2022-05-22T18:59:10.572Z"
   },
   {
    "duration": 39,
    "start_time": "2022-05-22T18:59:10.633Z"
   },
   {
    "duration": 21,
    "start_time": "2022-05-22T18:59:10.673Z"
   },
   {
    "duration": 18,
    "start_time": "2022-05-22T18:59:10.696Z"
   },
   {
    "duration": 58,
    "start_time": "2022-05-22T18:59:10.716Z"
   },
   {
    "duration": 4,
    "start_time": "2022-05-22T18:59:10.776Z"
   },
   {
    "duration": 85,
    "start_time": "2022-05-22T18:59:10.781Z"
   },
   {
    "duration": 8,
    "start_time": "2022-05-22T18:59:10.867Z"
   },
   {
    "duration": 7,
    "start_time": "2022-05-22T18:59:10.877Z"
   },
   {
    "duration": 102,
    "start_time": "2022-05-22T18:59:10.886Z"
   },
   {
    "duration": 5,
    "start_time": "2022-05-22T18:59:10.990Z"
   },
   {
    "duration": 80,
    "start_time": "2022-05-22T18:59:10.997Z"
   },
   {
    "duration": 4,
    "start_time": "2022-05-22T18:59:11.079Z"
   },
   {
    "duration": 102,
    "start_time": "2022-05-22T18:59:11.084Z"
   },
   {
    "duration": 6,
    "start_time": "2022-05-22T18:59:11.187Z"
   },
   {
    "duration": 41,
    "start_time": "2022-05-22T18:59:11.195Z"
   },
   {
    "duration": 826,
    "start_time": "2022-05-22T18:59:11.238Z"
   },
   {
    "duration": 640,
    "start_time": "2022-05-22T18:59:12.066Z"
   },
   {
    "duration": 674,
    "start_time": "2022-05-22T18:59:12.707Z"
   },
   {
    "duration": 13,
    "start_time": "2022-05-22T18:59:13.383Z"
   },
   {
    "duration": 36,
    "start_time": "2022-05-22T18:59:13.399Z"
   },
   {
    "duration": 34,
    "start_time": "2022-05-22T18:59:13.436Z"
   },
   {
    "duration": 11,
    "start_time": "2022-05-22T18:59:44.844Z"
   },
   {
    "duration": 12,
    "start_time": "2022-05-22T19:03:11.418Z"
   },
   {
    "duration": 12,
    "start_time": "2022-05-22T19:03:28.285Z"
   },
   {
    "duration": 11,
    "start_time": "2022-05-22T19:03:33.318Z"
   },
   {
    "duration": 12,
    "start_time": "2022-05-22T19:04:49.309Z"
   },
   {
    "duration": 10,
    "start_time": "2022-05-22T20:11:59.747Z"
   },
   {
    "duration": 11,
    "start_time": "2022-05-22T20:15:10.931Z"
   },
   {
    "duration": 13,
    "start_time": "2022-05-22T20:15:33.403Z"
   },
   {
    "duration": 30,
    "start_time": "2022-05-22T20:48:23.394Z"
   },
   {
    "duration": 12,
    "start_time": "2022-05-22T20:48:40.032Z"
   },
   {
    "duration": 3,
    "start_time": "2022-05-22T20:52:08.918Z"
   },
   {
    "duration": 10,
    "start_time": "2022-05-22T21:08:28.121Z"
   },
   {
    "duration": 11,
    "start_time": "2022-05-22T21:08:29.108Z"
   },
   {
    "duration": 35,
    "start_time": "2022-05-22T21:09:04.314Z"
   },
   {
    "duration": 60,
    "start_time": "2022-05-23T11:13:59.796Z"
   },
   {
    "duration": 4070,
    "start_time": "2022-05-23T11:14:03.871Z"
   },
   {
    "duration": 234,
    "start_time": "2022-05-23T11:14:07.943Z"
   },
   {
    "duration": 32,
    "start_time": "2022-05-23T11:14:08.179Z"
   },
   {
    "duration": 302,
    "start_time": "2022-05-23T11:14:08.226Z"
   },
   {
    "duration": 22,
    "start_time": "2022-05-23T11:14:08.531Z"
   },
   {
    "duration": 12,
    "start_time": "2022-05-23T11:14:08.554Z"
   },
   {
    "duration": 146,
    "start_time": "2022-05-23T11:14:08.567Z"
   },
   {
    "duration": 20,
    "start_time": "2022-05-23T11:14:08.715Z"
   },
   {
    "duration": 42,
    "start_time": "2022-05-23T11:14:08.736Z"
   },
   {
    "duration": 11,
    "start_time": "2022-05-23T11:14:08.780Z"
   },
   {
    "duration": 61,
    "start_time": "2022-05-23T11:14:08.792Z"
   },
   {
    "duration": 12,
    "start_time": "2022-05-23T11:14:08.854Z"
   },
   {
    "duration": 37,
    "start_time": "2022-05-23T11:14:08.867Z"
   },
   {
    "duration": 39,
    "start_time": "2022-05-23T11:14:08.907Z"
   },
   {
    "duration": 21,
    "start_time": "2022-05-23T11:14:08.948Z"
   },
   {
    "duration": 12,
    "start_time": "2022-05-23T11:14:08.971Z"
   },
   {
    "duration": 18,
    "start_time": "2022-05-23T11:14:08.984Z"
   },
   {
    "duration": 32,
    "start_time": "2022-05-23T11:14:09.004Z"
   },
   {
    "duration": 11,
    "start_time": "2022-05-23T11:14:09.038Z"
   },
   {
    "duration": 10,
    "start_time": "2022-05-23T11:14:09.051Z"
   },
   {
    "duration": 17,
    "start_time": "2022-05-23T11:14:09.063Z"
   },
   {
    "duration": 17,
    "start_time": "2022-05-23T11:14:09.082Z"
   },
   {
    "duration": 79,
    "start_time": "2022-05-23T11:14:09.100Z"
   },
   {
    "duration": 9,
    "start_time": "2022-05-23T11:14:09.181Z"
   },
   {
    "duration": 48,
    "start_time": "2022-05-23T11:14:09.191Z"
   },
   {
    "duration": 25,
    "start_time": "2022-05-23T11:14:09.240Z"
   },
   {
    "duration": 9,
    "start_time": "2022-05-23T11:14:09.267Z"
   },
   {
    "duration": 60,
    "start_time": "2022-05-23T11:14:09.278Z"
   },
   {
    "duration": 20,
    "start_time": "2022-05-23T11:14:09.340Z"
   },
   {
    "duration": 24,
    "start_time": "2022-05-23T11:14:09.362Z"
   },
   {
    "duration": 39,
    "start_time": "2022-05-23T11:14:09.388Z"
   },
   {
    "duration": 27,
    "start_time": "2022-05-23T11:14:09.429Z"
   },
   {
    "duration": 80,
    "start_time": "2022-05-23T11:14:09.458Z"
   },
   {
    "duration": 26,
    "start_time": "2022-05-23T11:14:09.540Z"
   },
   {
    "duration": 21,
    "start_time": "2022-05-23T11:14:09.568Z"
   },
   {
    "duration": 47,
    "start_time": "2022-05-23T11:14:09.590Z"
   },
   {
    "duration": 20,
    "start_time": "2022-05-23T11:14:09.638Z"
   },
   {
    "duration": 4,
    "start_time": "2022-05-23T11:14:09.660Z"
   },
   {
    "duration": 90,
    "start_time": "2022-05-23T11:14:09.665Z"
   },
   {
    "duration": 7,
    "start_time": "2022-05-23T11:14:09.757Z"
   },
   {
    "duration": 16,
    "start_time": "2022-05-23T11:14:09.768Z"
   },
   {
    "duration": 71,
    "start_time": "2022-05-23T11:14:09.785Z"
   },
   {
    "duration": 4,
    "start_time": "2022-05-23T11:14:09.858Z"
   },
   {
    "duration": 69,
    "start_time": "2022-05-23T11:14:09.864Z"
   },
   {
    "duration": 4,
    "start_time": "2022-05-23T11:14:09.934Z"
   },
   {
    "duration": 98,
    "start_time": "2022-05-23T11:14:09.939Z"
   },
   {
    "duration": 7,
    "start_time": "2022-05-23T11:14:10.038Z"
   },
   {
    "duration": 70,
    "start_time": "2022-05-23T11:14:10.046Z"
   },
   {
    "duration": 698,
    "start_time": "2022-05-23T11:14:10.117Z"
   },
   {
    "duration": 595,
    "start_time": "2022-05-23T11:14:10.825Z"
   },
   {
    "duration": 601,
    "start_time": "2022-05-23T11:14:11.425Z"
   },
   {
    "duration": 37,
    "start_time": "2022-05-23T11:14:12.030Z"
   },
   {
    "duration": 11,
    "start_time": "2022-05-23T11:14:12.069Z"
   },
   {
    "duration": 15,
    "start_time": "2022-05-23T11:14:12.081Z"
   },
   {
    "duration": 35,
    "start_time": "2022-05-23T11:14:57.661Z"
   },
   {
    "duration": 793,
    "start_time": "2022-05-23T13:03:59.382Z"
   },
   {
    "duration": 686,
    "start_time": "2022-05-23T13:04:21.392Z"
   },
   {
    "duration": 609,
    "start_time": "2022-05-23T13:05:23.179Z"
   },
   {
    "duration": 771,
    "start_time": "2022-05-23T13:06:02.122Z"
   },
   {
    "duration": 718,
    "start_time": "2022-05-23T13:06:13.464Z"
   },
   {
    "duration": 856,
    "start_time": "2022-05-23T13:06:25.362Z"
   },
   {
    "duration": 762,
    "start_time": "2022-05-23T13:08:57.107Z"
   },
   {
    "duration": 747,
    "start_time": "2022-05-23T13:11:00.002Z"
   },
   {
    "duration": 3,
    "start_time": "2022-05-23T13:30:18.761Z"
   },
   {
    "duration": 195,
    "start_time": "2022-05-23T13:30:18.766Z"
   },
   {
    "duration": 30,
    "start_time": "2022-05-23T13:30:18.963Z"
   },
   {
    "duration": 163,
    "start_time": "2022-05-23T13:30:18.994Z"
   },
   {
    "duration": 23,
    "start_time": "2022-05-23T13:30:19.160Z"
   },
   {
    "duration": 10,
    "start_time": "2022-05-23T13:30:19.185Z"
   },
   {
    "duration": 90,
    "start_time": "2022-05-23T13:30:19.227Z"
   },
   {
    "duration": 22,
    "start_time": "2022-05-23T13:30:19.326Z"
   },
   {
    "duration": 14,
    "start_time": "2022-05-23T13:30:19.350Z"
   },
   {
    "duration": 17,
    "start_time": "2022-05-23T13:30:19.367Z"
   },
   {
    "duration": 56,
    "start_time": "2022-05-23T13:30:19.385Z"
   },
   {
    "duration": 12,
    "start_time": "2022-05-23T13:30:19.443Z"
   },
   {
    "duration": 36,
    "start_time": "2022-05-23T13:30:19.457Z"
   },
   {
    "duration": 46,
    "start_time": "2022-05-23T13:30:19.495Z"
   },
   {
    "duration": 43,
    "start_time": "2022-05-23T13:30:19.543Z"
   },
   {
    "duration": 10,
    "start_time": "2022-05-23T13:30:19.588Z"
   },
   {
    "duration": 9,
    "start_time": "2022-05-23T13:30:19.600Z"
   },
   {
    "duration": 29,
    "start_time": "2022-05-23T13:30:19.611Z"
   },
   {
    "duration": 14,
    "start_time": "2022-05-23T13:30:19.642Z"
   },
   {
    "duration": 12,
    "start_time": "2022-05-23T13:30:19.658Z"
   },
   {
    "duration": 7,
    "start_time": "2022-05-23T13:30:19.672Z"
   },
   {
    "duration": 47,
    "start_time": "2022-05-23T13:30:19.680Z"
   },
   {
    "duration": 53,
    "start_time": "2022-05-23T13:30:19.729Z"
   },
   {
    "duration": 9,
    "start_time": "2022-05-23T13:30:19.784Z"
   },
   {
    "duration": 47,
    "start_time": "2022-05-23T13:30:19.794Z"
   },
   {
    "duration": 23,
    "start_time": "2022-05-23T13:30:19.843Z"
   },
   {
    "duration": 9,
    "start_time": "2022-05-23T13:30:19.868Z"
   },
   {
    "duration": 54,
    "start_time": "2022-05-23T13:30:19.878Z"
   },
   {
    "duration": 18,
    "start_time": "2022-05-23T13:30:19.934Z"
   },
   {
    "duration": 17,
    "start_time": "2022-05-23T13:30:19.954Z"
   },
   {
    "duration": 53,
    "start_time": "2022-05-23T13:30:19.973Z"
   },
   {
    "duration": 26,
    "start_time": "2022-05-23T13:30:20.028Z"
   },
   {
    "duration": 81,
    "start_time": "2022-05-23T13:30:20.056Z"
   },
   {
    "duration": 23,
    "start_time": "2022-05-23T13:30:20.139Z"
   },
   {
    "duration": 24,
    "start_time": "2022-05-23T13:30:20.164Z"
   },
   {
    "duration": 51,
    "start_time": "2022-05-23T13:30:20.189Z"
   },
   {
    "duration": 23,
    "start_time": "2022-05-23T13:30:20.244Z"
   },
   {
    "duration": 4,
    "start_time": "2022-05-23T13:30:20.269Z"
   },
   {
    "duration": 85,
    "start_time": "2022-05-23T13:30:20.274Z"
   },
   {
    "duration": 6,
    "start_time": "2022-05-23T13:30:20.361Z"
   },
   {
    "duration": 13,
    "start_time": "2022-05-23T13:30:20.368Z"
   },
   {
    "duration": 66,
    "start_time": "2022-05-23T13:30:20.382Z"
   },
   {
    "duration": 4,
    "start_time": "2022-05-23T13:30:20.450Z"
   },
   {
    "duration": 80,
    "start_time": "2022-05-23T13:30:20.456Z"
   },
   {
    "duration": 3,
    "start_time": "2022-05-23T13:30:20.538Z"
   },
   {
    "duration": 90,
    "start_time": "2022-05-23T13:30:20.543Z"
   },
   {
    "duration": 6,
    "start_time": "2022-05-23T13:30:20.634Z"
   },
   {
    "duration": 86,
    "start_time": "2022-05-23T13:30:20.642Z"
   },
   {
    "duration": 882,
    "start_time": "2022-05-23T13:30:20.730Z"
   },
   {
    "duration": 639,
    "start_time": "2022-05-23T13:30:21.614Z"
   },
   {
    "duration": 592,
    "start_time": "2022-05-23T13:30:22.254Z"
   },
   {
    "duration": 31,
    "start_time": "2022-05-23T13:30:22.848Z"
   },
   {
    "duration": 9,
    "start_time": "2022-05-23T13:30:22.881Z"
   },
   {
    "duration": 39,
    "start_time": "2022-05-23T13:30:22.892Z"
   },
   {
    "duration": 31,
    "start_time": "2022-05-23T13:30:22.932Z"
   },
   {
    "duration": 64,
    "start_time": "2022-05-23T13:36:05.737Z"
   },
   {
    "duration": 5,
    "start_time": "2022-05-23T13:36:18.742Z"
   },
   {
    "duration": 58,
    "start_time": "2022-05-23T13:36:20.508Z"
   },
   {
    "duration": 4,
    "start_time": "2022-05-23T13:36:33.391Z"
   },
   {
    "duration": 73,
    "start_time": "2022-05-23T13:36:35.117Z"
   },
   {
    "duration": 6,
    "start_time": "2022-05-23T13:36:37.582Z"
   },
   {
    "duration": 39,
    "start_time": "2022-05-23T13:36:38.218Z"
   },
   {
    "duration": 740,
    "start_time": "2022-05-23T13:36:38.969Z"
   },
   {
    "duration": 588,
    "start_time": "2022-05-23T13:36:39.711Z"
   },
   {
    "duration": 576,
    "start_time": "2022-05-23T13:36:41.952Z"
   },
   {
    "duration": 29,
    "start_time": "2022-05-23T13:36:43.523Z"
   },
   {
    "duration": 11,
    "start_time": "2022-05-23T13:39:45.423Z"
   },
   {
    "duration": 12,
    "start_time": "2022-05-23T13:39:49.131Z"
   },
   {
    "duration": 10,
    "start_time": "2022-05-23T13:39:53.130Z"
   },
   {
    "duration": 4,
    "start_time": "2022-05-23T16:38:33.621Z"
   },
   {
    "duration": 220,
    "start_time": "2022-05-23T16:38:33.627Z"
   },
   {
    "duration": 31,
    "start_time": "2022-05-23T16:38:33.849Z"
   },
   {
    "duration": 158,
    "start_time": "2022-05-23T16:38:33.883Z"
   },
   {
    "duration": 25,
    "start_time": "2022-05-23T16:38:34.043Z"
   },
   {
    "duration": 18,
    "start_time": "2022-05-23T16:38:34.070Z"
   },
   {
    "duration": 122,
    "start_time": "2022-05-23T16:38:34.090Z"
   },
   {
    "duration": 31,
    "start_time": "2022-05-23T16:38:34.214Z"
   },
   {
    "duration": 23,
    "start_time": "2022-05-23T16:38:34.419Z"
   },
   {
    "duration": 16,
    "start_time": "2022-05-23T16:38:34.444Z"
   },
   {
    "duration": 60,
    "start_time": "2022-05-23T16:38:34.462Z"
   },
   {
    "duration": 12,
    "start_time": "2022-05-23T16:38:34.524Z"
   },
   {
    "duration": 38,
    "start_time": "2022-05-23T16:38:34.537Z"
   },
   {
    "duration": 22,
    "start_time": "2022-05-23T16:38:34.577Z"
   },
   {
    "duration": 42,
    "start_time": "2022-05-23T16:38:34.601Z"
   },
   {
    "duration": 7,
    "start_time": "2022-05-23T16:38:34.645Z"
   },
   {
    "duration": 38,
    "start_time": "2022-05-23T16:38:34.653Z"
   },
   {
    "duration": 27,
    "start_time": "2022-05-23T16:38:34.693Z"
   },
   {
    "duration": 36,
    "start_time": "2022-05-23T16:38:34.722Z"
   },
   {
    "duration": 30,
    "start_time": "2022-05-23T16:38:34.760Z"
   },
   {
    "duration": 6,
    "start_time": "2022-05-23T16:38:34.792Z"
   },
   {
    "duration": 13,
    "start_time": "2022-05-23T16:38:34.800Z"
   },
   {
    "duration": 53,
    "start_time": "2022-05-23T16:38:34.814Z"
   },
   {
    "duration": 9,
    "start_time": "2022-05-23T16:38:34.871Z"
   },
   {
    "duration": 30,
    "start_time": "2022-05-23T16:38:34.881Z"
   },
   {
    "duration": 33,
    "start_time": "2022-05-23T16:38:34.913Z"
   },
   {
    "duration": 9,
    "start_time": "2022-05-23T16:38:34.948Z"
   },
   {
    "duration": 33,
    "start_time": "2022-05-23T16:38:34.958Z"
   },
   {
    "duration": 45,
    "start_time": "2022-05-23T16:38:34.993Z"
   },
   {
    "duration": 16,
    "start_time": "2022-05-23T16:38:35.040Z"
   },
   {
    "duration": 10,
    "start_time": "2022-05-23T16:38:35.058Z"
   },
   {
    "duration": 58,
    "start_time": "2022-05-23T16:38:35.069Z"
   },
   {
    "duration": 49,
    "start_time": "2022-05-23T16:38:35.129Z"
   },
   {
    "duration": 40,
    "start_time": "2022-05-23T16:38:35.180Z"
   },
   {
    "duration": 50,
    "start_time": "2022-05-23T16:38:35.226Z"
   },
   {
    "duration": 21,
    "start_time": "2022-05-23T16:38:35.277Z"
   },
   {
    "duration": 21,
    "start_time": "2022-05-23T16:38:35.299Z"
   },
   {
    "duration": 9,
    "start_time": "2022-05-23T16:38:35.322Z"
   },
   {
    "duration": 62,
    "start_time": "2022-05-23T16:38:35.333Z"
   },
   {
    "duration": 7,
    "start_time": "2022-05-23T16:38:35.397Z"
   },
   {
    "duration": 26,
    "start_time": "2022-05-23T16:38:35.406Z"
   },
   {
    "duration": 55,
    "start_time": "2022-05-23T16:38:35.434Z"
   },
   {
    "duration": 3,
    "start_time": "2022-05-23T16:38:35.491Z"
   },
   {
    "duration": 88,
    "start_time": "2022-05-23T16:38:35.496Z"
   },
   {
    "duration": 3,
    "start_time": "2022-05-23T16:38:35.586Z"
   },
   {
    "duration": 85,
    "start_time": "2022-05-23T16:38:35.590Z"
   },
   {
    "duration": 6,
    "start_time": "2022-05-23T16:38:35.676Z"
   },
   {
    "duration": 53,
    "start_time": "2022-05-23T16:38:35.683Z"
   },
   {
    "duration": 583,
    "start_time": "2022-05-23T16:38:35.738Z"
   },
   {
    "duration": 573,
    "start_time": "2022-05-23T16:38:36.325Z"
   },
   {
    "duration": 627,
    "start_time": "2022-05-23T16:38:36.900Z"
   },
   {
    "duration": 29,
    "start_time": "2022-05-23T16:38:37.529Z"
   },
   {
    "duration": 10,
    "start_time": "2022-05-23T16:38:37.560Z"
   },
   {
    "duration": 13,
    "start_time": "2022-05-23T16:38:37.573Z"
   },
   {
    "duration": 4,
    "start_time": "2022-05-23T16:45:35.371Z"
   },
   {
    "duration": 28,
    "start_time": "2022-05-23T20:01:45.315Z"
   },
   {
    "duration": 4,
    "start_time": "2022-05-23T20:02:54.808Z"
   },
   {
    "duration": 67,
    "start_time": "2022-05-23T20:03:14.123Z"
   },
   {
    "duration": 53,
    "start_time": "2022-05-24T08:30:20.984Z"
   },
   {
    "duration": 1191,
    "start_time": "2022-05-24T08:30:27.866Z"
   },
   {
    "duration": 76,
    "start_time": "2022-05-24T08:30:29.190Z"
   },
   {
    "duration": 585,
    "start_time": "2022-05-24T08:30:39.800Z"
   },
   {
    "duration": 27,
    "start_time": "2022-05-24T08:31:04.167Z"
   },
   {
    "duration": 383,
    "start_time": "2022-05-24T08:31:07.034Z"
   },
   {
    "duration": 21,
    "start_time": "2022-05-24T08:31:08.830Z"
   },
   {
    "duration": 118,
    "start_time": "2022-05-24T08:31:23.539Z"
   },
   {
    "duration": 153,
    "start_time": "2022-05-24T08:31:26.686Z"
   },
   {
    "duration": 22,
    "start_time": "2022-05-24T08:31:26.881Z"
   },
   {
    "duration": 58,
    "start_time": "2022-05-24T08:31:29.464Z"
   },
   {
    "duration": 12,
    "start_time": "2022-05-24T08:31:29.697Z"
   },
   {
    "duration": 79,
    "start_time": "2022-05-24T08:31:31.923Z"
   },
   {
    "duration": 11,
    "start_time": "2022-05-24T08:31:32.130Z"
   },
   {
    "duration": 6,
    "start_time": "2022-05-24T08:37:10.015Z"
   },
   {
    "duration": 34,
    "start_time": "2022-05-24T08:43:59.446Z"
   },
   {
    "duration": 13,
    "start_time": "2022-05-24T08:44:01.133Z"
   },
   {
    "duration": 35,
    "start_time": "2022-05-24T08:44:20.180Z"
   },
   {
    "duration": 12,
    "start_time": "2022-05-24T08:44:21.504Z"
   },
   {
    "duration": 31,
    "start_time": "2022-05-24T08:44:40.280Z"
   },
   {
    "duration": 18,
    "start_time": "2022-05-24T08:44:42.222Z"
   },
   {
    "duration": 9,
    "start_time": "2022-05-24T08:44:48.152Z"
   },
   {
    "duration": 42,
    "start_time": "2022-05-24T08:44:50.439Z"
   },
   {
    "duration": 9,
    "start_time": "2022-05-24T08:46:11.450Z"
   },
   {
    "duration": 3,
    "start_time": "2022-05-24T13:58:25.595Z"
   },
   {
    "duration": 171,
    "start_time": "2022-05-24T13:58:26.415Z"
   },
   {
    "duration": 24,
    "start_time": "2022-05-24T13:58:37.533Z"
   },
   {
    "duration": 139,
    "start_time": "2022-05-24T13:58:58.994Z"
   },
   {
    "duration": 21,
    "start_time": "2022-05-24T13:59:01.790Z"
   },
   {
    "duration": 7,
    "start_time": "2022-05-24T13:59:03.160Z"
   },
   {
    "duration": 103,
    "start_time": "2022-05-24T13:59:08.944Z"
   },
   {
    "duration": 19,
    "start_time": "2022-05-24T13:59:09.338Z"
   },
   {
    "duration": 29,
    "start_time": "2022-05-24T13:59:12.012Z"
   },
   {
    "duration": 20,
    "start_time": "2022-05-24T13:59:12.372Z"
   },
   {
    "duration": 43,
    "start_time": "2022-05-24T13:59:13.490Z"
   },
   {
    "duration": 11,
    "start_time": "2022-05-24T13:59:16.990Z"
   },
   {
    "duration": 57,
    "start_time": "2022-05-24T14:01:24.532Z"
   },
   {
    "duration": 4,
    "start_time": "2022-05-24T14:01:50.430Z"
   },
   {
    "duration": 247,
    "start_time": "2022-05-24T14:01:50.435Z"
   },
   {
    "duration": 29,
    "start_time": "2022-05-24T14:01:50.684Z"
   },
   {
    "duration": 153,
    "start_time": "2022-05-24T14:01:50.715Z"
   },
   {
    "duration": 29,
    "start_time": "2022-05-24T14:01:50.874Z"
   },
   {
    "duration": 6,
    "start_time": "2022-05-24T14:01:50.904Z"
   },
   {
    "duration": 99,
    "start_time": "2022-05-24T14:01:50.912Z"
   },
   {
    "duration": 17,
    "start_time": "2022-05-24T14:01:51.012Z"
   },
   {
    "duration": 19,
    "start_time": "2022-05-24T14:01:51.031Z"
   },
   {
    "duration": 9,
    "start_time": "2022-05-24T14:01:51.052Z"
   },
   {
    "duration": 47,
    "start_time": "2022-05-24T14:01:51.062Z"
   },
   {
    "duration": 10,
    "start_time": "2022-05-24T14:01:51.110Z"
   },
   {
    "duration": 7,
    "start_time": "2022-05-24T14:01:51.122Z"
   },
   {
    "duration": 30,
    "start_time": "2022-05-24T14:01:51.130Z"
   },
   {
    "duration": 29,
    "start_time": "2022-05-24T14:01:51.161Z"
   },
   {
    "duration": 19,
    "start_time": "2022-05-24T14:01:51.192Z"
   },
   {
    "duration": 4,
    "start_time": "2022-05-24T14:01:51.213Z"
   },
   {
    "duration": 6,
    "start_time": "2022-05-24T14:01:51.218Z"
   },
   {
    "duration": 15,
    "start_time": "2022-05-24T14:01:51.225Z"
   },
   {
    "duration": 43,
    "start_time": "2022-05-24T14:01:51.242Z"
   },
   {
    "duration": 11,
    "start_time": "2022-05-24T14:01:51.287Z"
   },
   {
    "duration": 16,
    "start_time": "2022-05-24T14:01:51.299Z"
   },
   {
    "duration": 18,
    "start_time": "2022-05-24T14:01:51.317Z"
   },
   {
    "duration": 63,
    "start_time": "2022-05-24T14:01:51.338Z"
   },
   {
    "duration": 7,
    "start_time": "2022-05-24T14:01:51.403Z"
   },
   {
    "duration": 20,
    "start_time": "2022-05-24T14:01:51.412Z"
   },
   {
    "duration": 26,
    "start_time": "2022-05-24T14:01:51.433Z"
   },
   {
    "duration": 20,
    "start_time": "2022-05-24T14:01:51.460Z"
   },
   {
    "duration": 23,
    "start_time": "2022-05-24T14:01:51.485Z"
   },
   {
    "duration": 18,
    "start_time": "2022-05-24T14:01:51.510Z"
   },
   {
    "duration": 13,
    "start_time": "2022-05-24T14:01:51.529Z"
   },
   {
    "duration": 10,
    "start_time": "2022-05-24T14:01:51.543Z"
   },
   {
    "duration": 42,
    "start_time": "2022-05-24T14:01:51.554Z"
   },
   {
    "duration": 48,
    "start_time": "2022-05-24T14:01:51.597Z"
   },
   {
    "duration": 44,
    "start_time": "2022-05-24T14:01:51.646Z"
   },
   {
    "duration": 18,
    "start_time": "2022-05-24T14:01:51.692Z"
   },
   {
    "duration": 14,
    "start_time": "2022-05-24T14:01:51.711Z"
   },
   {
    "duration": 21,
    "start_time": "2022-05-24T14:01:51.727Z"
   },
   {
    "duration": 4,
    "start_time": "2022-05-24T14:01:51.750Z"
   },
   {
    "duration": 71,
    "start_time": "2022-05-24T14:01:51.755Z"
   },
   {
    "duration": 6,
    "start_time": "2022-05-24T14:01:51.827Z"
   },
   {
    "duration": 11,
    "start_time": "2022-05-24T14:01:51.834Z"
   },
   {
    "duration": 69,
    "start_time": "2022-05-24T14:01:51.847Z"
   },
   {
    "duration": 3,
    "start_time": "2022-05-24T14:01:51.917Z"
   },
   {
    "duration": 84,
    "start_time": "2022-05-24T14:01:51.922Z"
   },
   {
    "duration": 4,
    "start_time": "2022-05-24T14:01:52.007Z"
   },
   {
    "duration": 104,
    "start_time": "2022-05-24T14:01:52.012Z"
   },
   {
    "duration": 6,
    "start_time": "2022-05-24T14:01:52.117Z"
   },
   {
    "duration": 61,
    "start_time": "2022-05-24T14:01:52.124Z"
   },
   {
    "duration": 848,
    "start_time": "2022-05-24T14:01:52.187Z"
   },
   {
    "duration": 625,
    "start_time": "2022-05-24T14:01:53.037Z"
   },
   {
    "duration": 586,
    "start_time": "2022-05-24T14:01:53.663Z"
   },
   {
    "duration": 42,
    "start_time": "2022-05-24T14:01:54.251Z"
   },
   {
    "duration": 9,
    "start_time": "2022-05-24T14:01:54.295Z"
   },
   {
    "duration": 12,
    "start_time": "2022-05-24T14:01:54.305Z"
   },
   {
    "duration": 2,
    "start_time": "2022-05-24T14:04:25.387Z"
   },
   {
    "duration": 218,
    "start_time": "2022-05-24T14:04:25.393Z"
   },
   {
    "duration": 25,
    "start_time": "2022-05-24T14:04:25.612Z"
   },
   {
    "duration": 126,
    "start_time": "2022-05-24T14:04:25.638Z"
   },
   {
    "duration": 29,
    "start_time": "2022-05-24T14:04:25.766Z"
   },
   {
    "duration": 6,
    "start_time": "2022-05-24T14:04:25.796Z"
   },
   {
    "duration": 103,
    "start_time": "2022-05-24T14:04:25.803Z"
   },
   {
    "duration": 18,
    "start_time": "2022-05-24T14:04:25.907Z"
   },
   {
    "duration": 17,
    "start_time": "2022-05-24T14:04:25.926Z"
   },
   {
    "duration": 10,
    "start_time": "2022-05-24T14:04:25.945Z"
   },
   {
    "duration": 44,
    "start_time": "2022-05-24T14:04:25.956Z"
   },
   {
    "duration": 11,
    "start_time": "2022-05-24T14:04:26.001Z"
   },
   {
    "duration": 8,
    "start_time": "2022-05-24T14:04:26.013Z"
   },
   {
    "duration": 29,
    "start_time": "2022-05-24T14:04:26.024Z"
   },
   {
    "duration": 30,
    "start_time": "2022-05-24T14:04:26.054Z"
   },
   {
    "duration": 19,
    "start_time": "2022-05-24T14:04:26.086Z"
   },
   {
    "duration": 4,
    "start_time": "2022-05-24T14:04:26.106Z"
   },
   {
    "duration": 8,
    "start_time": "2022-05-24T14:04:26.111Z"
   },
   {
    "duration": 17,
    "start_time": "2022-05-24T14:04:26.120Z"
   },
   {
    "duration": 10,
    "start_time": "2022-05-24T14:04:26.138Z"
   },
   {
    "duration": 30,
    "start_time": "2022-05-24T14:04:26.149Z"
   },
   {
    "duration": 6,
    "start_time": "2022-05-24T14:04:26.183Z"
   },
   {
    "duration": 11,
    "start_time": "2022-05-24T14:04:26.192Z"
   },
   {
    "duration": 62,
    "start_time": "2022-05-24T14:04:26.204Z"
   },
   {
    "duration": 14,
    "start_time": "2022-05-24T14:04:26.268Z"
   },
   {
    "duration": 27,
    "start_time": "2022-05-24T14:04:26.285Z"
   },
   {
    "duration": 21,
    "start_time": "2022-05-24T14:04:26.314Z"
   },
   {
    "duration": 9,
    "start_time": "2022-05-24T14:04:26.337Z"
   },
   {
    "duration": 42,
    "start_time": "2022-05-24T14:04:26.348Z"
   },
   {
    "duration": 18,
    "start_time": "2022-05-24T14:04:26.392Z"
   },
   {
    "duration": 15,
    "start_time": "2022-05-24T14:04:26.412Z"
   },
   {
    "duration": 9,
    "start_time": "2022-05-24T14:04:26.428Z"
   },
   {
    "duration": 50,
    "start_time": "2022-05-24T14:04:26.438Z"
   },
   {
    "duration": 9,
    "start_time": "2022-05-24T14:04:26.489Z"
   },
   {
    "duration": 21,
    "start_time": "2022-05-24T14:04:26.500Z"
   },
   {
    "duration": 18,
    "start_time": "2022-05-24T14:04:26.522Z"
   },
   {
    "duration": 49,
    "start_time": "2022-05-24T14:04:26.542Z"
   },
   {
    "duration": 15,
    "start_time": "2022-05-24T14:04:26.593Z"
   },
   {
    "duration": 4,
    "start_time": "2022-05-24T14:04:26.609Z"
   },
   {
    "duration": 73,
    "start_time": "2022-05-24T14:04:26.614Z"
   },
   {
    "duration": 7,
    "start_time": "2022-05-24T14:04:26.692Z"
   },
   {
    "duration": 5,
    "start_time": "2022-05-24T14:04:26.701Z"
   },
   {
    "duration": 63,
    "start_time": "2022-05-24T14:04:26.708Z"
   },
   {
    "duration": 15,
    "start_time": "2022-05-24T14:04:26.772Z"
   },
   {
    "duration": 59,
    "start_time": "2022-05-24T14:04:26.793Z"
   },
   {
    "duration": 3,
    "start_time": "2022-05-24T14:04:26.854Z"
   },
   {
    "duration": 78,
    "start_time": "2022-05-24T14:04:26.858Z"
   },
   {
    "duration": 7,
    "start_time": "2022-05-24T14:04:26.937Z"
   },
   {
    "duration": 51,
    "start_time": "2022-05-24T14:04:26.945Z"
   },
   {
    "duration": 643,
    "start_time": "2022-05-24T14:04:26.997Z"
   },
   {
    "duration": 562,
    "start_time": "2022-05-24T14:04:27.641Z"
   },
   {
    "duration": 609,
    "start_time": "2022-05-24T14:04:28.204Z"
   },
   {
    "duration": 27,
    "start_time": "2022-05-24T14:04:28.814Z"
   },
   {
    "duration": 8,
    "start_time": "2022-05-24T14:04:28.842Z"
   },
   {
    "duration": 28,
    "start_time": "2022-05-24T14:04:28.852Z"
   },
   {
    "duration": 47,
    "start_time": "2022-05-24T14:08:02.642Z"
   },
   {
    "duration": 50,
    "start_time": "2022-05-24T14:08:08.637Z"
   },
   {
    "duration": 86,
    "start_time": "2022-05-24T14:09:06.861Z"
   },
   {
    "duration": 87,
    "start_time": "2022-05-24T14:09:08.828Z"
   },
   {
    "duration": 5,
    "start_time": "2022-05-24T14:09:09.005Z"
   },
   {
    "duration": 38,
    "start_time": "2022-05-24T14:09:09.588Z"
   },
   {
    "duration": 70,
    "start_time": "2022-05-24T14:09:22.913Z"
   },
   {
    "duration": 105,
    "start_time": "2022-05-24T14:26:07.848Z"
   },
   {
    "duration": 6,
    "start_time": "2022-05-24T14:26:08.026Z"
   },
   {
    "duration": 49,
    "start_time": "2022-05-24T14:26:08.213Z"
   },
   {
    "duration": 86,
    "start_time": "2022-05-24T14:26:08.407Z"
   },
   {
    "duration": 107,
    "start_time": "2022-05-24T14:26:28.858Z"
   },
   {
    "duration": 7,
    "start_time": "2022-05-24T14:26:32.465Z"
   },
   {
    "duration": 57,
    "start_time": "2022-05-24T14:26:32.646Z"
   },
   {
    "duration": 84,
    "start_time": "2022-05-24T14:26:32.874Z"
   },
   {
    "duration": 122,
    "start_time": "2022-05-24T14:26:41.901Z"
   },
   {
    "duration": 13,
    "start_time": "2022-05-24T14:26:42.141Z"
   },
   {
    "duration": 12,
    "start_time": "2022-05-24T14:26:42.421Z"
   },
   {
    "duration": 6,
    "start_time": "2022-05-24T14:26:42.834Z"
   },
   {
    "duration": 91,
    "start_time": "2022-05-24T14:42:47.243Z"
   },
   {
    "duration": 9,
    "start_time": "2022-05-24T14:42:47.707Z"
   },
   {
    "duration": 36,
    "start_time": "2022-05-24T14:42:47.931Z"
   },
   {
    "duration": 89,
    "start_time": "2022-05-24T14:42:48.169Z"
   },
   {
    "duration": 13,
    "start_time": "2022-05-24T14:43:26.805Z"
   },
   {
    "duration": 17,
    "start_time": "2022-05-24T14:43:26.968Z"
   },
   {
    "duration": 21,
    "start_time": "2022-05-24T14:43:27.175Z"
   },
   {
    "duration": 9,
    "start_time": "2022-05-24T14:43:27.372Z"
   },
   {
    "duration": 4,
    "start_time": "2022-05-24T14:43:27.565Z"
   },
   {
    "duration": 23,
    "start_time": "2022-05-24T14:43:27.950Z"
   },
   {
    "duration": 12,
    "start_time": "2022-05-24T14:43:28.144Z"
   },
   {
    "duration": 24,
    "start_time": "2022-05-24T14:43:28.374Z"
   },
   {
    "duration": 7,
    "start_time": "2022-05-24T14:43:28.597Z"
   },
   {
    "duration": 6,
    "start_time": "2022-05-24T14:43:28.799Z"
   },
   {
    "duration": 49,
    "start_time": "2022-05-24T14:43:29.418Z"
   },
   {
    "duration": 14,
    "start_time": "2022-05-24T14:43:29.896Z"
   },
   {
    "duration": 3,
    "start_time": "2022-05-24T14:43:32.343Z"
   },
   {
    "duration": 571,
    "start_time": "2022-05-24T14:43:32.347Z"
   },
   {
    "duration": 28,
    "start_time": "2022-05-24T14:43:32.920Z"
   },
   {
    "duration": 396,
    "start_time": "2022-05-24T14:43:32.951Z"
   },
   {
    "duration": 21,
    "start_time": "2022-05-24T14:43:33.349Z"
   },
   {
    "duration": 13,
    "start_time": "2022-05-24T14:43:33.371Z"
   },
   {
    "duration": 176,
    "start_time": "2022-05-24T14:43:33.387Z"
   },
   {
    "duration": 27,
    "start_time": "2022-05-24T14:43:33.565Z"
   },
   {
    "duration": 45,
    "start_time": "2022-05-24T14:43:33.597Z"
   },
   {
    "duration": 10,
    "start_time": "2022-05-24T14:43:33.644Z"
   },
   {
    "duration": 68,
    "start_time": "2022-05-24T14:43:33.655Z"
   },
   {
    "duration": 12,
    "start_time": "2022-05-24T14:43:33.725Z"
   },
   {
    "duration": 99,
    "start_time": "2022-05-24T14:43:33.738Z"
   },
   {
    "duration": 6,
    "start_time": "2022-05-24T14:43:33.839Z"
   },
   {
    "duration": 60,
    "start_time": "2022-05-24T14:43:33.846Z"
   },
   {
    "duration": 93,
    "start_time": "2022-05-24T14:43:33.908Z"
   },
   {
    "duration": 35,
    "start_time": "2022-05-24T14:43:34.003Z"
   },
   {
    "duration": 21,
    "start_time": "2022-05-24T14:43:34.040Z"
   },
   {
    "duration": 33,
    "start_time": "2022-05-24T14:43:34.069Z"
   },
   {
    "duration": 30,
    "start_time": "2022-05-24T14:43:34.104Z"
   },
   {
    "duration": 7,
    "start_time": "2022-05-24T14:43:34.135Z"
   },
   {
    "duration": 18,
    "start_time": "2022-05-24T14:43:34.143Z"
   },
   {
    "duration": 17,
    "start_time": "2022-05-24T14:43:34.163Z"
   },
   {
    "duration": 44,
    "start_time": "2022-05-24T14:43:34.190Z"
   },
   {
    "duration": 14,
    "start_time": "2022-05-24T14:43:34.236Z"
   },
   {
    "duration": 8,
    "start_time": "2022-05-24T14:43:34.252Z"
   },
   {
    "duration": 73,
    "start_time": "2022-05-24T14:43:34.261Z"
   },
   {
    "duration": 9,
    "start_time": "2022-05-24T14:43:34.335Z"
   },
   {
    "duration": 44,
    "start_time": "2022-05-24T14:43:34.345Z"
   },
   {
    "duration": 25,
    "start_time": "2022-05-24T14:43:34.390Z"
   },
   {
    "duration": 8,
    "start_time": "2022-05-24T14:43:34.417Z"
   },
   {
    "duration": 27,
    "start_time": "2022-05-24T14:43:34.427Z"
   },
   {
    "duration": 40,
    "start_time": "2022-05-24T14:43:34.455Z"
   },
   {
    "duration": 20,
    "start_time": "2022-05-24T14:43:34.496Z"
   },
   {
    "duration": 10,
    "start_time": "2022-05-24T14:43:34.517Z"
   },
   {
    "duration": 28,
    "start_time": "2022-05-24T14:43:34.528Z"
   },
   {
    "duration": 10,
    "start_time": "2022-05-24T14:43:34.557Z"
   },
   {
    "duration": 44,
    "start_time": "2022-05-24T14:43:34.575Z"
   },
   {
    "duration": 17,
    "start_time": "2022-05-24T14:43:34.620Z"
   },
   {
    "duration": 14,
    "start_time": "2022-05-24T14:43:34.638Z"
   },
   {
    "duration": 13,
    "start_time": "2022-05-24T14:43:34.654Z"
   },
   {
    "duration": 9,
    "start_time": "2022-05-24T14:43:34.668Z"
   },
   {
    "duration": 70,
    "start_time": "2022-05-24T14:43:34.678Z"
   },
   {
    "duration": 5,
    "start_time": "2022-05-24T14:43:34.750Z"
   },
   {
    "duration": 9,
    "start_time": "2022-05-24T14:43:34.756Z"
   },
   {
    "duration": 63,
    "start_time": "2022-05-24T14:43:34.766Z"
   },
   {
    "duration": 4,
    "start_time": "2022-05-24T14:43:34.830Z"
   },
   {
    "duration": 70,
    "start_time": "2022-05-24T14:43:34.835Z"
   },
   {
    "duration": 2,
    "start_time": "2022-05-24T14:43:34.907Z"
   },
   {
    "duration": 90,
    "start_time": "2022-05-24T14:43:34.911Z"
   },
   {
    "duration": 6,
    "start_time": "2022-05-24T14:43:35.002Z"
   },
   {
    "duration": 38,
    "start_time": "2022-05-24T14:43:35.009Z"
   },
   {
    "duration": 603,
    "start_time": "2022-05-24T14:43:35.049Z"
   },
   {
    "duration": 752,
    "start_time": "2022-05-24T14:43:35.654Z"
   },
   {
    "duration": 634,
    "start_time": "2022-05-24T14:43:36.407Z"
   },
   {
    "duration": 43,
    "start_time": "2022-05-24T14:43:37.043Z"
   },
   {
    "duration": 21,
    "start_time": "2022-05-24T14:43:37.087Z"
   },
   {
    "duration": 10,
    "start_time": "2022-05-24T14:43:37.109Z"
   },
   {
    "duration": 28,
    "start_time": "2022-05-24T16:11:30.733Z"
   },
   {
    "duration": 30,
    "start_time": "2022-05-24T16:11:30.999Z"
   },
   {
    "duration": 9,
    "start_time": "2022-05-24T16:23:26.614Z"
   },
   {
    "duration": 7,
    "start_time": "2022-05-24T16:23:35.685Z"
   },
   {
    "duration": 7,
    "start_time": "2022-05-24T16:29:43.159Z"
   },
   {
    "duration": 10,
    "start_time": "2022-05-24T16:29:53.852Z"
   },
   {
    "duration": 23,
    "start_time": "2022-05-24T16:39:32.273Z"
   },
   {
    "duration": 18,
    "start_time": "2022-05-24T16:40:35.129Z"
   },
   {
    "duration": 16,
    "start_time": "2022-05-24T16:44:22.690Z"
   },
   {
    "duration": 15,
    "start_time": "2022-05-24T16:44:26.714Z"
   },
   {
    "duration": 28,
    "start_time": "2022-05-24T16:44:45.369Z"
   },
   {
    "duration": 9,
    "start_time": "2022-05-24T16:54:10.645Z"
   },
   {
    "duration": 4,
    "start_time": "2022-05-24T16:55:00.534Z"
   },
   {
    "duration": 64,
    "start_time": "2022-05-24T16:55:06.133Z"
   },
   {
    "duration": 94,
    "start_time": "2022-05-24T16:56:20.964Z"
   },
   {
    "duration": 51,
    "start_time": "2022-05-24T16:56:34.701Z"
   },
   {
    "duration": 19,
    "start_time": "2022-05-24T17:03:08.033Z"
   },
   {
    "duration": 18,
    "start_time": "2022-05-24T17:03:08.937Z"
   },
   {
    "duration": 24,
    "start_time": "2022-05-24T17:03:09.403Z"
   },
   {
    "duration": 25,
    "start_time": "2022-05-24T17:03:09.809Z"
   },
   {
    "duration": 524,
    "start_time": "2022-05-24T17:03:58.604Z"
   },
   {
    "duration": 3,
    "start_time": "2022-05-24T17:04:07.763Z"
   },
   {
    "duration": 191,
    "start_time": "2022-05-24T17:04:07.767Z"
   },
   {
    "duration": 48,
    "start_time": "2022-05-24T17:04:07.960Z"
   },
   {
    "duration": 127,
    "start_time": "2022-05-24T17:04:08.010Z"
   },
   {
    "duration": 42,
    "start_time": "2022-05-24T17:04:08.139Z"
   },
   {
    "duration": 9,
    "start_time": "2022-05-24T17:04:08.182Z"
   },
   {
    "duration": 99,
    "start_time": "2022-05-24T17:04:08.193Z"
   },
   {
    "duration": 18,
    "start_time": "2022-05-24T17:04:08.294Z"
   },
   {
    "duration": 18,
    "start_time": "2022-05-24T17:04:08.314Z"
   },
   {
    "duration": 10,
    "start_time": "2022-05-24T17:04:08.334Z"
   },
   {
    "duration": 43,
    "start_time": "2022-05-24T17:04:08.345Z"
   },
   {
    "duration": 11,
    "start_time": "2022-05-24T17:04:08.389Z"
   },
   {
    "duration": 116,
    "start_time": "2022-05-24T17:04:08.401Z"
   },
   {
    "duration": 6,
    "start_time": "2022-05-24T17:04:08.518Z"
   },
   {
    "duration": 66,
    "start_time": "2022-05-24T17:04:08.525Z"
   },
   {
    "duration": 60,
    "start_time": "2022-05-24T17:04:08.593Z"
   },
   {
    "duration": 48,
    "start_time": "2022-05-24T17:04:08.654Z"
   },
   {
    "duration": 22,
    "start_time": "2022-05-24T17:04:08.703Z"
   },
   {
    "duration": 18,
    "start_time": "2022-05-24T17:04:08.727Z"
   },
   {
    "duration": 4,
    "start_time": "2022-05-24T17:04:08.747Z"
   },
   {
    "duration": 8,
    "start_time": "2022-05-24T17:04:08.774Z"
   },
   {
    "duration": 23,
    "start_time": "2022-05-24T17:04:08.783Z"
   },
   {
    "duration": 12,
    "start_time": "2022-05-24T17:04:08.807Z"
   },
   {
    "duration": 10,
    "start_time": "2022-05-24T17:04:08.822Z"
   },
   {
    "duration": 5,
    "start_time": "2022-05-24T17:04:08.833Z"
   },
   {
    "duration": 6,
    "start_time": "2022-05-24T17:04:08.840Z"
   },
   {
    "duration": 78,
    "start_time": "2022-05-24T17:04:08.847Z"
   },
   {
    "duration": 8,
    "start_time": "2022-05-24T17:04:08.926Z"
   },
   {
    "duration": 19,
    "start_time": "2022-05-24T17:04:08.935Z"
   },
   {
    "duration": 27,
    "start_time": "2022-05-24T17:04:08.975Z"
   },
   {
    "duration": 6,
    "start_time": "2022-05-24T17:04:09.003Z"
   },
   {
    "duration": 27,
    "start_time": "2022-05-24T17:04:09.010Z"
   },
   {
    "duration": 41,
    "start_time": "2022-05-24T17:04:09.040Z"
   },
   {
    "duration": 18,
    "start_time": "2022-05-24T17:04:09.086Z"
   },
   {
    "duration": 10,
    "start_time": "2022-05-24T17:04:09.105Z"
   },
   {
    "duration": 24,
    "start_time": "2022-05-24T17:04:09.116Z"
   },
   {
    "duration": 50,
    "start_time": "2022-05-24T17:04:09.142Z"
   },
   {
    "duration": 18,
    "start_time": "2022-05-24T17:04:09.193Z"
   },
   {
    "duration": 15,
    "start_time": "2022-05-24T17:04:09.212Z"
   },
   {
    "duration": 14,
    "start_time": "2022-05-24T17:04:09.228Z"
   },
   {
    "duration": 4,
    "start_time": "2022-05-24T17:04:09.244Z"
   },
   {
    "duration": 78,
    "start_time": "2022-05-24T17:04:09.250Z"
   },
   {
    "duration": 6,
    "start_time": "2022-05-24T17:04:09.329Z"
   },
   {
    "duration": 5,
    "start_time": "2022-05-24T17:04:09.337Z"
   },
   {
    "duration": 65,
    "start_time": "2022-05-24T17:04:09.344Z"
   },
   {
    "duration": 604,
    "start_time": "2022-05-24T17:04:09.410Z"
   },
   {
    "duration": 0,
    "start_time": "2022-05-24T17:04:10.016Z"
   },
   {
    "duration": 0,
    "start_time": "2022-05-24T17:04:10.017Z"
   },
   {
    "duration": 0,
    "start_time": "2022-05-24T17:04:10.019Z"
   },
   {
    "duration": 0,
    "start_time": "2022-05-24T17:04:10.020Z"
   },
   {
    "duration": 0,
    "start_time": "2022-05-24T17:04:10.021Z"
   },
   {
    "duration": 0,
    "start_time": "2022-05-24T17:04:10.023Z"
   },
   {
    "duration": 0,
    "start_time": "2022-05-24T17:04:10.024Z"
   },
   {
    "duration": 0,
    "start_time": "2022-05-24T17:04:10.026Z"
   },
   {
    "duration": 0,
    "start_time": "2022-05-24T17:04:10.027Z"
   },
   {
    "duration": 0,
    "start_time": "2022-05-24T17:04:10.028Z"
   },
   {
    "duration": 0,
    "start_time": "2022-05-24T17:04:10.029Z"
   },
   {
    "duration": 0,
    "start_time": "2022-05-24T17:04:10.031Z"
   },
   {
    "duration": 3,
    "start_time": "2022-05-24T17:04:33.627Z"
   },
   {
    "duration": 206,
    "start_time": "2022-05-24T17:04:33.632Z"
   },
   {
    "duration": 37,
    "start_time": "2022-05-24T17:04:33.840Z"
   },
   {
    "duration": 130,
    "start_time": "2022-05-24T17:04:33.884Z"
   },
   {
    "duration": 20,
    "start_time": "2022-05-24T17:04:34.016Z"
   },
   {
    "duration": 6,
    "start_time": "2022-05-24T17:04:34.037Z"
   },
   {
    "duration": 103,
    "start_time": "2022-05-24T17:04:34.044Z"
   },
   {
    "duration": 27,
    "start_time": "2022-05-24T17:04:34.149Z"
   },
   {
    "duration": 28,
    "start_time": "2022-05-24T17:04:34.179Z"
   },
   {
    "duration": 11,
    "start_time": "2022-05-24T17:04:34.209Z"
   },
   {
    "duration": 35,
    "start_time": "2022-05-24T17:04:34.222Z"
   },
   {
    "duration": 11,
    "start_time": "2022-05-24T17:04:34.259Z"
   },
   {
    "duration": 104,
    "start_time": "2022-05-24T17:04:34.271Z"
   },
   {
    "duration": 18,
    "start_time": "2022-05-24T17:04:34.377Z"
   },
   {
    "duration": 51,
    "start_time": "2022-05-24T17:04:34.396Z"
   },
   {
    "duration": 66,
    "start_time": "2022-05-24T17:04:34.448Z"
   },
   {
    "duration": 27,
    "start_time": "2022-05-24T17:04:34.516Z"
   },
   {
    "duration": 41,
    "start_time": "2022-05-24T17:04:34.544Z"
   },
   {
    "duration": 22,
    "start_time": "2022-05-24T17:04:34.588Z"
   },
   {
    "duration": 4,
    "start_time": "2022-05-24T17:04:34.611Z"
   },
   {
    "duration": 5,
    "start_time": "2022-05-24T17:04:34.617Z"
   },
   {
    "duration": 17,
    "start_time": "2022-05-24T17:04:34.624Z"
   },
   {
    "duration": 11,
    "start_time": "2022-05-24T17:04:34.642Z"
   },
   {
    "duration": 28,
    "start_time": "2022-05-24T17:04:34.654Z"
   },
   {
    "duration": 19,
    "start_time": "2022-05-24T17:04:34.683Z"
   },
   {
    "duration": 8,
    "start_time": "2022-05-24T17:04:34.703Z"
   },
   {
    "duration": 58,
    "start_time": "2022-05-24T17:04:34.712Z"
   },
   {
    "duration": 9,
    "start_time": "2022-05-24T17:04:34.772Z"
   },
   {
    "duration": 26,
    "start_time": "2022-05-24T17:04:34.787Z"
   },
   {
    "duration": 27,
    "start_time": "2022-05-24T17:04:34.814Z"
   },
   {
    "duration": 7,
    "start_time": "2022-05-24T17:04:34.843Z"
   },
   {
    "duration": 47,
    "start_time": "2022-05-24T17:04:34.852Z"
   },
   {
    "duration": 18,
    "start_time": "2022-05-24T17:04:34.900Z"
   },
   {
    "duration": 16,
    "start_time": "2022-05-24T17:04:34.920Z"
   },
   {
    "duration": 9,
    "start_time": "2022-05-24T17:04:34.937Z"
   },
   {
    "duration": 51,
    "start_time": "2022-05-24T17:04:34.948Z"
   },
   {
    "duration": 17,
    "start_time": "2022-05-24T17:04:35.000Z"
   },
   {
    "duration": 17,
    "start_time": "2022-05-24T17:04:35.019Z"
   },
   {
    "duration": 53,
    "start_time": "2022-05-24T17:04:35.037Z"
   },
   {
    "duration": 16,
    "start_time": "2022-05-24T17:04:35.092Z"
   },
   {
    "duration": 4,
    "start_time": "2022-05-24T17:04:35.109Z"
   },
   {
    "duration": 70,
    "start_time": "2022-05-24T17:04:35.115Z"
   },
   {
    "duration": 6,
    "start_time": "2022-05-24T17:04:35.188Z"
   },
   {
    "duration": 4,
    "start_time": "2022-05-24T17:04:35.196Z"
   },
   {
    "duration": 50,
    "start_time": "2022-05-24T17:04:35.202Z"
   },
   {
    "duration": 137,
    "start_time": "2022-05-24T17:04:37.747Z"
   },
   {
    "duration": 10,
    "start_time": "2022-05-24T17:05:39.479Z"
   },
   {
    "duration": 18,
    "start_time": "2022-05-24T17:09:08.915Z"
   },
   {
    "duration": 7,
    "start_time": "2022-05-24T17:09:32.437Z"
   },
   {
    "duration": 16,
    "start_time": "2022-05-24T17:16:45.240Z"
   },
   {
    "duration": 19,
    "start_time": "2022-05-24T17:17:20.891Z"
   },
   {
    "duration": 6,
    "start_time": "2022-05-24T17:17:21.414Z"
   },
   {
    "duration": 8,
    "start_time": "2022-05-24T17:18:36.385Z"
   },
   {
    "duration": 161,
    "start_time": "2022-05-24T17:18:43.121Z"
   },
   {
    "duration": 15,
    "start_time": "2022-05-24T17:18:47.967Z"
   },
   {
    "duration": 142,
    "start_time": "2022-05-24T17:24:29.153Z"
   },
   {
    "duration": 22,
    "start_time": "2022-05-24T17:24:29.358Z"
   },
   {
    "duration": 7,
    "start_time": "2022-05-24T17:24:29.729Z"
   },
   {
    "duration": 98,
    "start_time": "2022-05-24T17:24:30.488Z"
   },
   {
    "duration": 20,
    "start_time": "2022-05-24T17:24:30.683Z"
   },
   {
    "duration": 19,
    "start_time": "2022-05-24T17:24:31.266Z"
   },
   {
    "duration": 11,
    "start_time": "2022-05-24T17:24:31.456Z"
   },
   {
    "duration": 42,
    "start_time": "2022-05-24T17:24:31.856Z"
   },
   {
    "duration": 12,
    "start_time": "2022-05-24T17:24:32.046Z"
   },
   {
    "duration": 86,
    "start_time": "2022-05-24T17:24:33.358Z"
   },
   {
    "duration": 6,
    "start_time": "2022-05-24T17:24:33.545Z"
   },
   {
    "duration": 41,
    "start_time": "2022-05-24T17:24:33.750Z"
   },
   {
    "duration": 54,
    "start_time": "2022-05-24T17:24:33.928Z"
   },
   {
    "duration": 15,
    "start_time": "2022-05-24T17:24:34.694Z"
   },
   {
    "duration": 23,
    "start_time": "2022-05-24T17:24:34.895Z"
   },
   {
    "duration": 19,
    "start_time": "2022-05-24T17:24:35.101Z"
   },
   {
    "duration": 4,
    "start_time": "2022-05-24T17:24:35.677Z"
   },
   {
    "duration": 4,
    "start_time": "2022-05-24T17:24:35.898Z"
   },
   {
    "duration": 14,
    "start_time": "2022-05-24T17:24:36.352Z"
   },
   {
    "duration": 12,
    "start_time": "2022-05-24T17:24:36.563Z"
   },
   {
    "duration": 11,
    "start_time": "2022-05-24T17:24:36.787Z"
   },
   {
    "duration": 7,
    "start_time": "2022-05-24T17:24:37.002Z"
   },
   {
    "duration": 6,
    "start_time": "2022-05-24T17:24:37.197Z"
   },
   {
    "duration": 49,
    "start_time": "2022-05-24T17:24:37.899Z"
   },
   {
    "duration": 9,
    "start_time": "2022-05-24T17:24:38.345Z"
   },
   {
    "duration": 20,
    "start_time": "2022-05-24T17:24:40.200Z"
   },
   {
    "duration": 21,
    "start_time": "2022-05-24T17:24:40.705Z"
   },
   {
    "duration": 6,
    "start_time": "2022-05-24T17:24:41.598Z"
   },
   {
    "duration": 22,
    "start_time": "2022-05-24T17:24:45.049Z"
   },
   {
    "duration": 19,
    "start_time": "2022-05-24T17:24:47.056Z"
   },
   {
    "duration": 18,
    "start_time": "2022-05-24T17:24:49.211Z"
   },
   {
    "duration": 11,
    "start_time": "2022-05-24T17:24:49.834Z"
   },
   {
    "duration": 22,
    "start_time": "2022-05-24T17:24:51.261Z"
   },
   {
    "duration": 26,
    "start_time": "2022-05-24T17:24:57.485Z"
   },
   {
    "duration": 24,
    "start_time": "2022-05-24T17:25:22.838Z"
   },
   {
    "duration": 6,
    "start_time": "2022-05-24T17:25:35.720Z"
   },
   {
    "duration": 630,
    "start_time": "2022-05-24T17:31:24.816Z"
   },
   {
    "duration": 3,
    "start_time": "2022-05-24T17:31:31.790Z"
   },
   {
    "duration": 184,
    "start_time": "2022-05-24T17:31:31.795Z"
   },
   {
    "duration": 28,
    "start_time": "2022-05-24T17:31:31.982Z"
   },
   {
    "duration": 143,
    "start_time": "2022-05-24T17:31:32.012Z"
   },
   {
    "duration": 37,
    "start_time": "2022-05-24T17:31:32.156Z"
   },
   {
    "duration": 10,
    "start_time": "2022-05-24T17:31:32.195Z"
   },
   {
    "duration": 96,
    "start_time": "2022-05-24T17:31:32.207Z"
   },
   {
    "duration": 18,
    "start_time": "2022-05-24T17:31:32.304Z"
   },
   {
    "duration": 18,
    "start_time": "2022-05-24T17:31:32.325Z"
   },
   {
    "duration": 10,
    "start_time": "2022-05-24T17:31:32.344Z"
   },
   {
    "duration": 37,
    "start_time": "2022-05-24T17:31:32.356Z"
   },
   {
    "duration": 10,
    "start_time": "2022-05-24T17:31:32.395Z"
   },
   {
    "duration": 91,
    "start_time": "2022-05-24T17:31:32.406Z"
   },
   {
    "duration": 5,
    "start_time": "2022-05-24T17:31:32.499Z"
   },
   {
    "duration": 43,
    "start_time": "2022-05-24T17:31:32.506Z"
   },
   {
    "duration": 64,
    "start_time": "2022-05-24T17:31:32.551Z"
   },
   {
    "duration": 28,
    "start_time": "2022-05-24T17:31:32.617Z"
   },
   {
    "duration": 41,
    "start_time": "2022-05-24T17:31:32.646Z"
   },
   {
    "duration": 19,
    "start_time": "2022-05-24T17:31:32.689Z"
   },
   {
    "duration": 5,
    "start_time": "2022-05-24T17:31:32.709Z"
   },
   {
    "duration": 5,
    "start_time": "2022-05-24T17:31:32.716Z"
   },
   {
    "duration": 15,
    "start_time": "2022-05-24T17:31:32.723Z"
   },
   {
    "duration": 39,
    "start_time": "2022-05-24T17:31:32.739Z"
   },
   {
    "duration": 12,
    "start_time": "2022-05-24T17:31:32.781Z"
   },
   {
    "duration": 12,
    "start_time": "2022-05-24T17:31:32.795Z"
   },
   {
    "duration": 13,
    "start_time": "2022-05-24T17:31:32.809Z"
   },
   {
    "duration": 73,
    "start_time": "2022-05-24T17:31:32.824Z"
   },
   {
    "duration": 10,
    "start_time": "2022-05-24T17:31:32.899Z"
   },
   {
    "duration": 32,
    "start_time": "2022-05-24T17:31:32.910Z"
   },
   {
    "duration": 38,
    "start_time": "2022-05-24T17:31:32.943Z"
   },
   {
    "duration": 7,
    "start_time": "2022-05-24T17:31:32.983Z"
   },
   {
    "duration": 21,
    "start_time": "2022-05-24T17:31:32.991Z"
   },
   {
    "duration": 17,
    "start_time": "2022-05-24T17:31:33.014Z"
   },
   {
    "duration": 14,
    "start_time": "2022-05-24T17:31:33.032Z"
   },
   {
    "duration": 33,
    "start_time": "2022-05-24T17:31:33.048Z"
   },
   {
    "duration": 22,
    "start_time": "2022-05-24T17:31:33.082Z"
   },
   {
    "duration": 16,
    "start_time": "2022-05-24T17:31:33.105Z"
   },
   {
    "duration": 17,
    "start_time": "2022-05-24T17:31:33.122Z"
   },
   {
    "duration": 36,
    "start_time": "2022-05-24T17:31:33.140Z"
   },
   {
    "duration": 16,
    "start_time": "2022-05-24T17:31:33.177Z"
   },
   {
    "duration": 16,
    "start_time": "2022-05-24T17:31:33.195Z"
   },
   {
    "duration": 3,
    "start_time": "2022-05-24T17:31:33.212Z"
   },
   {
    "duration": 71,
    "start_time": "2022-05-24T17:31:33.217Z"
   },
   {
    "duration": 6,
    "start_time": "2022-05-24T17:31:33.290Z"
   },
   {
    "duration": 5,
    "start_time": "2022-05-24T17:31:33.298Z"
   },
   {
    "duration": 51,
    "start_time": "2022-05-24T17:31:36.220Z"
   },
   {
    "duration": 231,
    "start_time": "2022-05-24T17:32:54.413Z"
   },
   {
    "duration": 3,
    "start_time": "2022-05-24T17:33:21.589Z"
   },
   {
    "duration": 183,
    "start_time": "2022-05-24T17:33:21.594Z"
   },
   {
    "duration": 23,
    "start_time": "2022-05-24T17:33:21.779Z"
   },
   {
    "duration": 130,
    "start_time": "2022-05-24T17:33:21.803Z"
   },
   {
    "duration": 21,
    "start_time": "2022-05-24T17:33:21.934Z"
   },
   {
    "duration": 21,
    "start_time": "2022-05-24T17:33:21.956Z"
   },
   {
    "duration": 88,
    "start_time": "2022-05-24T17:33:21.978Z"
   },
   {
    "duration": 18,
    "start_time": "2022-05-24T17:33:22.068Z"
   },
   {
    "duration": 18,
    "start_time": "2022-05-24T17:33:22.087Z"
   },
   {
    "duration": 11,
    "start_time": "2022-05-24T17:33:22.106Z"
   },
   {
    "duration": 32,
    "start_time": "2022-05-24T17:33:22.120Z"
   },
   {
    "duration": 10,
    "start_time": "2022-05-24T17:33:22.154Z"
   },
   {
    "duration": 100,
    "start_time": "2022-05-24T17:33:22.166Z"
   },
   {
    "duration": 10,
    "start_time": "2022-05-24T17:33:22.268Z"
   },
   {
    "duration": 40,
    "start_time": "2022-05-24T17:33:22.280Z"
   },
   {
    "duration": 73,
    "start_time": "2022-05-24T17:33:22.321Z"
   },
   {
    "duration": 29,
    "start_time": "2022-05-24T17:33:22.396Z"
   },
   {
    "duration": 30,
    "start_time": "2022-05-24T17:33:22.426Z"
   },
   {
    "duration": 29,
    "start_time": "2022-05-24T17:33:22.457Z"
   },
   {
    "duration": 5,
    "start_time": "2022-05-24T17:33:22.487Z"
   },
   {
    "duration": 7,
    "start_time": "2022-05-24T17:33:22.493Z"
   },
   {
    "duration": 20,
    "start_time": "2022-05-24T17:33:22.501Z"
   },
   {
    "duration": 11,
    "start_time": "2022-05-24T17:33:22.522Z"
   },
   {
    "duration": 9,
    "start_time": "2022-05-24T17:33:22.535Z"
   },
   {
    "duration": 5,
    "start_time": "2022-05-24T17:33:22.545Z"
   },
   {
    "duration": 5,
    "start_time": "2022-05-24T17:33:22.574Z"
   },
   {
    "duration": 48,
    "start_time": "2022-05-24T17:33:22.580Z"
   },
   {
    "duration": 8,
    "start_time": "2022-05-24T17:33:22.630Z"
   },
   {
    "duration": 37,
    "start_time": "2022-05-24T17:33:22.643Z"
   },
   {
    "duration": 20,
    "start_time": "2022-05-24T17:33:22.681Z"
   },
   {
    "duration": 7,
    "start_time": "2022-05-24T17:33:22.703Z"
   },
   {
    "duration": 23,
    "start_time": "2022-05-24T17:33:22.711Z"
   },
   {
    "duration": 51,
    "start_time": "2022-05-24T17:33:22.737Z"
   },
   {
    "duration": 19,
    "start_time": "2022-05-24T17:33:22.789Z"
   },
   {
    "duration": 13,
    "start_time": "2022-05-24T17:33:22.809Z"
   },
   {
    "duration": 55,
    "start_time": "2022-05-24T17:33:22.823Z"
   },
   {
    "duration": 20,
    "start_time": "2022-05-24T17:33:22.879Z"
   },
   {
    "duration": 21,
    "start_time": "2022-05-24T17:33:22.901Z"
   },
   {
    "duration": 8,
    "start_time": "2022-05-24T17:33:22.924Z"
   },
   {
    "duration": 41,
    "start_time": "2022-05-24T17:33:22.935Z"
   },
   {
    "duration": 15,
    "start_time": "2022-05-24T17:33:22.977Z"
   },
   {
    "duration": 4,
    "start_time": "2022-05-24T17:33:22.993Z"
   },
   {
    "duration": 51,
    "start_time": "2022-05-24T17:33:22.998Z"
   },
   {
    "duration": 5,
    "start_time": "2022-05-24T17:33:23.051Z"
   },
   {
    "duration": 3,
    "start_time": "2022-05-24T17:33:23.075Z"
   },
   {
    "duration": 51,
    "start_time": "2022-05-24T17:33:23.080Z"
   },
   {
    "duration": 157,
    "start_time": "2022-05-24T17:33:23.133Z"
   },
   {
    "duration": 0,
    "start_time": "2022-05-24T17:33:23.292Z"
   },
   {
    "duration": 0,
    "start_time": "2022-05-24T17:33:23.293Z"
   },
   {
    "duration": 0,
    "start_time": "2022-05-24T17:33:23.294Z"
   },
   {
    "duration": 0,
    "start_time": "2022-05-24T17:33:23.295Z"
   },
   {
    "duration": 0,
    "start_time": "2022-05-24T17:33:23.296Z"
   },
   {
    "duration": 0,
    "start_time": "2022-05-24T17:33:23.297Z"
   },
   {
    "duration": 0,
    "start_time": "2022-05-24T17:33:23.299Z"
   },
   {
    "duration": 0,
    "start_time": "2022-05-24T17:33:23.300Z"
   },
   {
    "duration": 0,
    "start_time": "2022-05-24T17:33:23.301Z"
   },
   {
    "duration": 0,
    "start_time": "2022-05-24T17:33:23.302Z"
   },
   {
    "duration": 1,
    "start_time": "2022-05-24T17:33:23.302Z"
   },
   {
    "duration": 0,
    "start_time": "2022-05-24T17:33:23.303Z"
   },
   {
    "duration": 214,
    "start_time": "2022-05-24T17:39:32.898Z"
   },
   {
    "duration": 171,
    "start_time": "2022-05-24T17:39:58.368Z"
   },
   {
    "duration": 51,
    "start_time": "2022-05-24T17:40:40.336Z"
   },
   {
    "duration": 45,
    "start_time": "2022-05-24T17:40:59.173Z"
   },
   {
    "duration": 163,
    "start_time": "2022-05-24T17:41:05.537Z"
   },
   {
    "duration": 4,
    "start_time": "2022-05-24T17:41:42.274Z"
   },
   {
    "duration": 202,
    "start_time": "2022-05-24T17:41:42.279Z"
   },
   {
    "duration": 26,
    "start_time": "2022-05-24T17:41:42.483Z"
   },
   {
    "duration": 134,
    "start_time": "2022-05-24T17:41:42.511Z"
   },
   {
    "duration": 28,
    "start_time": "2022-05-24T17:41:42.647Z"
   },
   {
    "duration": 11,
    "start_time": "2022-05-24T17:41:42.682Z"
   },
   {
    "duration": 111,
    "start_time": "2022-05-24T17:41:42.695Z"
   },
   {
    "duration": 24,
    "start_time": "2022-05-24T17:41:42.809Z"
   },
   {
    "duration": 27,
    "start_time": "2022-05-24T17:41:42.835Z"
   },
   {
    "duration": 29,
    "start_time": "2022-05-24T17:41:42.864Z"
   },
   {
    "duration": 44,
    "start_time": "2022-05-24T17:41:42.898Z"
   },
   {
    "duration": 13,
    "start_time": "2022-05-24T17:41:42.945Z"
   },
   {
    "duration": 194,
    "start_time": "2022-05-24T17:41:42.960Z"
   },
   {
    "duration": 8,
    "start_time": "2022-05-24T17:41:43.156Z"
   },
   {
    "duration": 57,
    "start_time": "2022-05-24T17:41:43.175Z"
   },
   {
    "duration": 81,
    "start_time": "2022-05-24T17:41:43.233Z"
   },
   {
    "duration": 33,
    "start_time": "2022-05-24T17:41:43.316Z"
   },
   {
    "duration": 46,
    "start_time": "2022-05-24T17:41:43.351Z"
   },
   {
    "duration": 21,
    "start_time": "2022-05-24T17:41:43.399Z"
   },
   {
    "duration": 9,
    "start_time": "2022-05-24T17:41:43.422Z"
   },
   {
    "duration": 14,
    "start_time": "2022-05-24T17:41:43.433Z"
   },
   {
    "duration": 38,
    "start_time": "2022-05-24T17:41:43.449Z"
   },
   {
    "duration": 20,
    "start_time": "2022-05-24T17:41:43.489Z"
   },
   {
    "duration": 23,
    "start_time": "2022-05-24T17:41:43.511Z"
   },
   {
    "duration": 7,
    "start_time": "2022-05-24T17:41:43.536Z"
   },
   {
    "duration": 9,
    "start_time": "2022-05-24T17:41:43.545Z"
   },
   {
    "duration": 73,
    "start_time": "2022-05-24T17:41:43.556Z"
   },
   {
    "duration": 9,
    "start_time": "2022-05-24T17:41:43.631Z"
   },
   {
    "duration": 33,
    "start_time": "2022-05-24T17:41:43.644Z"
   },
   {
    "duration": 26,
    "start_time": "2022-05-24T17:41:43.678Z"
   },
   {
    "duration": 6,
    "start_time": "2022-05-24T17:41:43.706Z"
   },
   {
    "duration": 27,
    "start_time": "2022-05-24T17:41:43.714Z"
   },
   {
    "duration": 49,
    "start_time": "2022-05-24T17:41:43.743Z"
   },
   {
    "duration": 17,
    "start_time": "2022-05-24T17:41:43.794Z"
   },
   {
    "duration": 10,
    "start_time": "2022-05-24T17:41:43.813Z"
   },
   {
    "duration": 40,
    "start_time": "2022-05-24T17:41:43.825Z"
   },
   {
    "duration": 31,
    "start_time": "2022-05-24T17:41:43.866Z"
   },
   {
    "duration": 22,
    "start_time": "2022-05-24T17:41:43.898Z"
   },
   {
    "duration": 7,
    "start_time": "2022-05-24T17:41:43.921Z"
   },
   {
    "duration": 30,
    "start_time": "2022-05-24T17:41:43.929Z"
   },
   {
    "duration": 34,
    "start_time": "2022-05-24T17:41:43.961Z"
   },
   {
    "duration": 5,
    "start_time": "2022-05-24T17:41:43.997Z"
   },
   {
    "duration": 57,
    "start_time": "2022-05-24T17:41:44.004Z"
   },
   {
    "duration": 20,
    "start_time": "2022-05-24T17:41:44.063Z"
   },
   {
    "duration": 16,
    "start_time": "2022-05-24T17:41:44.087Z"
   },
   {
    "duration": 61,
    "start_time": "2022-05-24T17:41:44.105Z"
   },
   {
    "duration": 23,
    "start_time": "2022-05-24T17:41:44.167Z"
   },
   {
    "duration": 24,
    "start_time": "2022-05-24T17:41:44.192Z"
   },
   {
    "duration": 90,
    "start_time": "2022-05-24T17:41:44.218Z"
   },
   {
    "duration": 4,
    "start_time": "2022-05-24T17:41:44.310Z"
   },
   {
    "duration": 98,
    "start_time": "2022-05-24T17:41:44.316Z"
   },
   {
    "duration": 5,
    "start_time": "2022-05-24T17:41:44.416Z"
   },
   {
    "duration": 53,
    "start_time": "2022-05-24T17:41:44.423Z"
   },
   {
    "duration": 727,
    "start_time": "2022-05-24T17:41:44.483Z"
   },
   {
    "duration": 582,
    "start_time": "2022-05-24T17:41:45.211Z"
   },
   {
    "duration": 641,
    "start_time": "2022-05-24T17:41:45.795Z"
   },
   {
    "duration": 28,
    "start_time": "2022-05-24T17:41:46.438Z"
   },
   {
    "duration": 14,
    "start_time": "2022-05-24T17:41:46.474Z"
   },
   {
    "duration": 20,
    "start_time": "2022-05-24T17:41:46.491Z"
   },
   {
    "duration": 55,
    "start_time": "2022-05-24T17:42:32.268Z"
   },
   {
    "duration": 18,
    "start_time": "2022-05-24T17:42:33.222Z"
   },
   {
    "duration": 4,
    "start_time": "2022-05-24T17:42:34.109Z"
   },
   {
    "duration": 17,
    "start_time": "2022-05-24T17:44:34.328Z"
   },
   {
    "duration": 5,
    "start_time": "2022-05-24T17:44:35.487Z"
   },
   {
    "duration": 4,
    "start_time": "2022-05-24T17:48:01.264Z"
   },
   {
    "duration": 225,
    "start_time": "2022-05-24T17:48:01.269Z"
   },
   {
    "duration": 24,
    "start_time": "2022-05-24T17:48:01.496Z"
   },
   {
    "duration": 202,
    "start_time": "2022-05-24T17:48:01.521Z"
   },
   {
    "duration": 34,
    "start_time": "2022-05-24T17:48:01.725Z"
   },
   {
    "duration": 20,
    "start_time": "2022-05-24T17:48:01.761Z"
   },
   {
    "duration": 138,
    "start_time": "2022-05-24T17:48:01.783Z"
   },
   {
    "duration": 24,
    "start_time": "2022-05-24T17:48:01.923Z"
   },
   {
    "duration": 41,
    "start_time": "2022-05-24T17:48:01.949Z"
   },
   {
    "duration": 12,
    "start_time": "2022-05-24T17:48:01.993Z"
   },
   {
    "duration": 196,
    "start_time": "2022-05-24T17:48:02.008Z"
   },
   {
    "duration": 16,
    "start_time": "2022-05-24T17:48:02.206Z"
   },
   {
    "duration": 124,
    "start_time": "2022-05-24T17:48:02.224Z"
   },
   {
    "duration": 6,
    "start_time": "2022-05-24T17:48:02.349Z"
   },
   {
    "duration": 73,
    "start_time": "2022-05-24T17:48:02.357Z"
   },
   {
    "duration": 65,
    "start_time": "2022-05-24T17:48:02.431Z"
   },
   {
    "duration": 33,
    "start_time": "2022-05-24T17:48:02.498Z"
   },
   {
    "duration": 22,
    "start_time": "2022-05-24T17:48:02.533Z"
   },
   {
    "duration": 41,
    "start_time": "2022-05-24T17:48:02.556Z"
   },
   {
    "duration": 103,
    "start_time": "2022-05-24T17:48:02.599Z"
   },
   {
    "duration": 14,
    "start_time": "2022-05-24T17:48:02.703Z"
   },
   {
    "duration": 36,
    "start_time": "2022-05-24T17:48:02.718Z"
   },
   {
    "duration": 14,
    "start_time": "2022-05-24T17:48:02.756Z"
   },
   {
    "duration": 41,
    "start_time": "2022-05-24T17:48:02.772Z"
   },
   {
    "duration": 12,
    "start_time": "2022-05-24T17:48:02.815Z"
   },
   {
    "duration": 17,
    "start_time": "2022-05-24T17:48:02.829Z"
   },
   {
    "duration": 88,
    "start_time": "2022-05-24T17:48:02.848Z"
   },
   {
    "duration": 10,
    "start_time": "2022-05-24T17:48:02.937Z"
   },
   {
    "duration": 34,
    "start_time": "2022-05-24T17:48:02.950Z"
   },
   {
    "duration": 26,
    "start_time": "2022-05-24T17:48:02.988Z"
   },
   {
    "duration": 6,
    "start_time": "2022-05-24T17:48:03.016Z"
   },
   {
    "duration": 33,
    "start_time": "2022-05-24T17:48:03.025Z"
   },
   {
    "duration": 33,
    "start_time": "2022-05-24T17:48:03.060Z"
   },
   {
    "duration": 32,
    "start_time": "2022-05-24T17:48:03.097Z"
   },
   {
    "duration": 24,
    "start_time": "2022-05-24T17:48:03.131Z"
   },
   {
    "duration": 39,
    "start_time": "2022-05-24T17:48:03.157Z"
   },
   {
    "duration": 21,
    "start_time": "2022-05-24T17:48:03.197Z"
   },
   {
    "duration": 19,
    "start_time": "2022-05-24T17:48:03.220Z"
   },
   {
    "duration": 6,
    "start_time": "2022-05-24T17:48:03.241Z"
   },
   {
    "duration": 47,
    "start_time": "2022-05-24T17:48:03.248Z"
   },
   {
    "duration": 16,
    "start_time": "2022-05-24T17:48:03.297Z"
   },
   {
    "duration": 4,
    "start_time": "2022-05-24T17:48:03.314Z"
   },
   {
    "duration": 69,
    "start_time": "2022-05-24T17:48:03.319Z"
   },
   {
    "duration": 7,
    "start_time": "2022-05-24T17:48:03.389Z"
   },
   {
    "duration": 15,
    "start_time": "2022-05-24T17:48:03.398Z"
   },
   {
    "duration": 54,
    "start_time": "2022-05-24T17:48:03.417Z"
   },
   {
    "duration": 20,
    "start_time": "2022-05-24T17:48:03.478Z"
   },
   {
    "duration": 64,
    "start_time": "2022-05-24T17:48:28.128Z"
   },
   {
    "duration": 58,
    "start_time": "2022-05-24T17:48:33.388Z"
   },
   {
    "duration": 7,
    "start_time": "2022-05-24T17:49:17.888Z"
   },
   {
    "duration": 14,
    "start_time": "2022-05-24T17:49:19.609Z"
   },
   {
    "duration": 3,
    "start_time": "2022-05-24T17:49:23.986Z"
   },
   {
    "duration": 203,
    "start_time": "2022-05-24T17:49:23.991Z"
   },
   {
    "duration": 34,
    "start_time": "2022-05-24T17:49:24.195Z"
   },
   {
    "duration": 164,
    "start_time": "2022-05-24T17:49:24.231Z"
   },
   {
    "duration": 26,
    "start_time": "2022-05-24T17:49:24.398Z"
   },
   {
    "duration": 10,
    "start_time": "2022-05-24T17:49:24.426Z"
   },
   {
    "duration": 96,
    "start_time": "2022-05-24T17:49:24.438Z"
   },
   {
    "duration": 20,
    "start_time": "2022-05-24T17:49:24.535Z"
   },
   {
    "duration": 30,
    "start_time": "2022-05-24T17:49:24.556Z"
   },
   {
    "duration": 11,
    "start_time": "2022-05-24T17:49:24.587Z"
   },
   {
    "duration": 38,
    "start_time": "2022-05-24T17:49:24.599Z"
   },
   {
    "duration": 11,
    "start_time": "2022-05-24T17:49:24.638Z"
   },
   {
    "duration": 103,
    "start_time": "2022-05-24T17:49:24.650Z"
   },
   {
    "duration": 6,
    "start_time": "2022-05-24T17:49:24.756Z"
   },
   {
    "duration": 53,
    "start_time": "2022-05-24T17:49:24.763Z"
   },
   {
    "duration": 87,
    "start_time": "2022-05-24T17:49:24.818Z"
   },
   {
    "duration": 29,
    "start_time": "2022-05-24T17:49:24.906Z"
   },
   {
    "duration": 20,
    "start_time": "2022-05-24T17:49:24.937Z"
   },
   {
    "duration": 37,
    "start_time": "2022-05-24T17:49:24.959Z"
   },
   {
    "duration": 6,
    "start_time": "2022-05-24T17:49:25.000Z"
   },
   {
    "duration": 14,
    "start_time": "2022-05-24T17:49:25.007Z"
   },
   {
    "duration": 15,
    "start_time": "2022-05-24T17:49:25.022Z"
   },
   {
    "duration": 11,
    "start_time": "2022-05-24T17:49:25.038Z"
   },
   {
    "duration": 10,
    "start_time": "2022-05-24T17:49:25.050Z"
   },
   {
    "duration": 25,
    "start_time": "2022-05-24T17:49:25.061Z"
   },
   {
    "duration": 9,
    "start_time": "2022-05-24T17:49:25.091Z"
   },
   {
    "duration": 51,
    "start_time": "2022-05-24T17:49:25.101Z"
   },
   {
    "duration": 9,
    "start_time": "2022-05-24T17:49:25.154Z"
   },
   {
    "duration": 37,
    "start_time": "2022-05-24T17:49:25.164Z"
   },
   {
    "duration": 22,
    "start_time": "2022-05-24T17:49:25.202Z"
   },
   {
    "duration": 6,
    "start_time": "2022-05-24T17:49:25.226Z"
   },
   {
    "duration": 20,
    "start_time": "2022-05-24T17:49:25.233Z"
   },
   {
    "duration": 47,
    "start_time": "2022-05-24T17:49:25.255Z"
   },
   {
    "duration": 16,
    "start_time": "2022-05-24T17:49:25.304Z"
   },
   {
    "duration": 10,
    "start_time": "2022-05-24T17:49:25.321Z"
   },
   {
    "duration": 59,
    "start_time": "2022-05-24T17:49:25.333Z"
   },
   {
    "duration": 21,
    "start_time": "2022-05-24T17:49:25.393Z"
   },
   {
    "duration": 16,
    "start_time": "2022-05-24T17:49:25.416Z"
   },
   {
    "duration": 6,
    "start_time": "2022-05-24T17:49:25.433Z"
   },
   {
    "duration": 14,
    "start_time": "2022-05-24T17:49:25.440Z"
   },
   {
    "duration": 35,
    "start_time": "2022-05-24T17:49:25.457Z"
   },
   {
    "duration": 15,
    "start_time": "2022-05-24T17:49:25.494Z"
   },
   {
    "duration": 51,
    "start_time": "2022-05-24T17:49:25.510Z"
   },
   {
    "duration": 17,
    "start_time": "2022-05-24T17:49:25.563Z"
   },
   {
    "duration": 7,
    "start_time": "2022-05-24T17:49:25.584Z"
   },
   {
    "duration": 60,
    "start_time": "2022-05-24T17:49:25.594Z"
   },
   {
    "duration": 13,
    "start_time": "2022-05-24T17:49:25.655Z"
   },
   {
    "duration": 12,
    "start_time": "2022-05-24T17:49:25.669Z"
   },
   {
    "duration": 37,
    "start_time": "2022-05-24T17:49:25.683Z"
   },
   {
    "duration": 0,
    "start_time": "2022-05-24T17:49:25.722Z"
   },
   {
    "duration": 0,
    "start_time": "2022-05-24T17:49:25.723Z"
   },
   {
    "duration": 0,
    "start_time": "2022-05-24T17:49:25.724Z"
   },
   {
    "duration": 0,
    "start_time": "2022-05-24T17:49:25.725Z"
   },
   {
    "duration": 0,
    "start_time": "2022-05-24T17:49:25.726Z"
   },
   {
    "duration": 0,
    "start_time": "2022-05-24T17:49:25.727Z"
   },
   {
    "duration": 0,
    "start_time": "2022-05-24T17:49:25.728Z"
   },
   {
    "duration": 0,
    "start_time": "2022-05-24T17:49:25.729Z"
   },
   {
    "duration": 0,
    "start_time": "2022-05-24T17:49:25.730Z"
   },
   {
    "duration": 0,
    "start_time": "2022-05-24T17:49:25.731Z"
   },
   {
    "duration": 4,
    "start_time": "2022-05-24T17:50:36.701Z"
   },
   {
    "duration": 54,
    "start_time": "2022-05-24T17:50:39.505Z"
   },
   {
    "duration": 16,
    "start_time": "2022-05-24T18:12:48.352Z"
   },
   {
    "duration": 11,
    "start_time": "2022-05-24T18:13:31.804Z"
   },
   {
    "duration": 5,
    "start_time": "2022-05-24T18:14:27.204Z"
   },
   {
    "duration": 23,
    "start_time": "2022-05-24T18:14:32.573Z"
   },
   {
    "duration": 136,
    "start_time": "2022-05-24T18:14:32.954Z"
   },
   {
    "duration": 9,
    "start_time": "2022-05-24T18:14:39.210Z"
   },
   {
    "duration": 4,
    "start_time": "2022-05-24T18:15:00.405Z"
   },
   {
    "duration": 4,
    "start_time": "2022-05-24T18:15:22.653Z"
   },
   {
    "duration": 21,
    "start_time": "2022-05-24T18:15:23.107Z"
   },
   {
    "duration": 4,
    "start_time": "2022-05-24T18:15:24.846Z"
   },
   {
    "duration": 81,
    "start_time": "2022-05-24T18:15:25.309Z"
   },
   {
    "duration": 10,
    "start_time": "2022-05-24T18:15:26.301Z"
   },
   {
    "duration": 10,
    "start_time": "2022-05-24T18:16:07.100Z"
   },
   {
    "duration": 9,
    "start_time": "2022-05-24T18:16:10.435Z"
   },
   {
    "duration": 4,
    "start_time": "2022-05-24T18:17:03.958Z"
   },
   {
    "duration": 8,
    "start_time": "2022-05-24T18:17:04.165Z"
   },
   {
    "duration": 120,
    "start_time": "2022-05-24T18:17:04.424Z"
   },
   {
    "duration": 9,
    "start_time": "2022-05-24T18:17:50.904Z"
   },
   {
    "duration": 3,
    "start_time": "2022-05-24T18:18:21.369Z"
   },
   {
    "duration": 239,
    "start_time": "2022-05-24T18:18:21.374Z"
   },
   {
    "duration": 29,
    "start_time": "2022-05-24T18:18:21.615Z"
   },
   {
    "duration": 174,
    "start_time": "2022-05-24T18:18:21.647Z"
   },
   {
    "duration": 24,
    "start_time": "2022-05-24T18:18:21.822Z"
   },
   {
    "duration": 30,
    "start_time": "2022-05-24T18:18:21.849Z"
   },
   {
    "duration": 101,
    "start_time": "2022-05-24T18:18:21.891Z"
   },
   {
    "duration": 33,
    "start_time": "2022-05-24T18:18:22.000Z"
   },
   {
    "duration": 30,
    "start_time": "2022-05-24T18:18:22.038Z"
   },
   {
    "duration": 20,
    "start_time": "2022-05-24T18:18:22.070Z"
   },
   {
    "duration": 64,
    "start_time": "2022-05-24T18:18:22.091Z"
   },
   {
    "duration": 19,
    "start_time": "2022-05-24T18:18:22.157Z"
   },
   {
    "duration": 128,
    "start_time": "2022-05-24T18:18:22.179Z"
   },
   {
    "duration": 7,
    "start_time": "2022-05-24T18:18:22.309Z"
   },
   {
    "duration": 57,
    "start_time": "2022-05-24T18:18:22.317Z"
   },
   {
    "duration": 69,
    "start_time": "2022-05-24T18:18:22.380Z"
   },
   {
    "duration": 40,
    "start_time": "2022-05-24T18:18:22.450Z"
   },
   {
    "duration": 34,
    "start_time": "2022-05-24T18:18:22.492Z"
   },
   {
    "duration": 18,
    "start_time": "2022-05-24T18:18:22.528Z"
   },
   {
    "duration": 4,
    "start_time": "2022-05-24T18:18:22.547Z"
   },
   {
    "duration": 46,
    "start_time": "2022-05-24T18:18:22.553Z"
   },
   {
    "duration": 16,
    "start_time": "2022-05-24T18:18:22.607Z"
   },
   {
    "duration": 13,
    "start_time": "2022-05-24T18:18:22.624Z"
   },
   {
    "duration": 10,
    "start_time": "2022-05-24T18:18:22.640Z"
   },
   {
    "duration": 7,
    "start_time": "2022-05-24T18:18:22.652Z"
   },
   {
    "duration": 9,
    "start_time": "2022-05-24T18:18:22.660Z"
   },
   {
    "duration": 63,
    "start_time": "2022-05-24T18:18:22.675Z"
   },
   {
    "duration": 14,
    "start_time": "2022-05-24T18:18:22.742Z"
   },
   {
    "duration": 64,
    "start_time": "2022-05-24T18:18:22.759Z"
   },
   {
    "duration": 31,
    "start_time": "2022-05-24T18:18:22.825Z"
   },
   {
    "duration": 6,
    "start_time": "2022-05-24T18:18:22.858Z"
   },
   {
    "duration": 54,
    "start_time": "2022-05-24T18:18:22.866Z"
   },
   {
    "duration": 24,
    "start_time": "2022-05-24T18:18:22.924Z"
   },
   {
    "duration": 22,
    "start_time": "2022-05-24T18:18:22.950Z"
   },
   {
    "duration": 39,
    "start_time": "2022-05-24T18:18:22.974Z"
   },
   {
    "duration": 48,
    "start_time": "2022-05-24T18:18:23.014Z"
   },
   {
    "duration": 36,
    "start_time": "2022-05-24T18:18:23.064Z"
   },
   {
    "duration": 35,
    "start_time": "2022-05-24T18:18:23.101Z"
   },
   {
    "duration": 8,
    "start_time": "2022-05-24T18:18:23.138Z"
   },
   {
    "duration": 30,
    "start_time": "2022-05-24T18:18:23.148Z"
   },
   {
    "duration": 58,
    "start_time": "2022-05-24T18:18:23.180Z"
   },
   {
    "duration": 4,
    "start_time": "2022-05-24T18:18:23.240Z"
   },
   {
    "duration": 93,
    "start_time": "2022-05-24T18:18:23.247Z"
   },
   {
    "duration": 7,
    "start_time": "2022-05-24T18:18:23.341Z"
   },
   {
    "duration": 5,
    "start_time": "2022-05-24T18:18:23.349Z"
   },
   {
    "duration": 108,
    "start_time": "2022-05-24T18:18:23.355Z"
   },
   {
    "duration": 29,
    "start_time": "2022-05-24T18:18:23.465Z"
   },
   {
    "duration": 10,
    "start_time": "2022-05-24T18:18:23.495Z"
   },
   {
    "duration": 6,
    "start_time": "2022-05-24T18:18:23.507Z"
   },
   {
    "duration": 104,
    "start_time": "2022-05-24T18:18:23.515Z"
   },
   {
    "duration": 3,
    "start_time": "2022-05-24T18:18:23.621Z"
   },
   {
    "duration": 82,
    "start_time": "2022-05-24T18:18:23.625Z"
   },
   {
    "duration": 11,
    "start_time": "2022-05-24T18:18:23.709Z"
   },
   {
    "duration": 79,
    "start_time": "2022-05-24T18:18:23.724Z"
   },
   {
    "duration": 700,
    "start_time": "2022-05-24T18:18:23.805Z"
   },
   {
    "duration": 616,
    "start_time": "2022-05-24T18:18:24.508Z"
   },
   {
    "duration": 620,
    "start_time": "2022-05-24T18:18:25.126Z"
   },
   {
    "duration": 52,
    "start_time": "2022-05-24T18:18:25.747Z"
   },
   {
    "duration": 11,
    "start_time": "2022-05-24T18:18:25.801Z"
   },
   {
    "duration": 15,
    "start_time": "2022-05-24T18:18:25.814Z"
   },
   {
    "duration": 8,
    "start_time": "2022-05-24T18:26:54.227Z"
   },
   {
    "duration": 8,
    "start_time": "2022-05-24T18:29:39.184Z"
   },
   {
    "duration": 13,
    "start_time": "2022-05-24T18:29:39.765Z"
   },
   {
    "duration": 138,
    "start_time": "2022-05-24T18:29:41.765Z"
   },
   {
    "duration": 12,
    "start_time": "2022-05-24T18:32:36.375Z"
   },
   {
    "duration": 8,
    "start_time": "2022-05-24T18:34:10.076Z"
   },
   {
    "duration": 9,
    "start_time": "2022-05-24T18:34:10.599Z"
   },
   {
    "duration": 110,
    "start_time": "2022-05-24T18:34:10.928Z"
   },
   {
    "duration": 6,
    "start_time": "2022-05-24T18:34:44.693Z"
   },
   {
    "duration": 12,
    "start_time": "2022-05-24T18:34:44.935Z"
   },
   {
    "duration": 129,
    "start_time": "2022-05-24T18:34:45.591Z"
   },
   {
    "duration": 4,
    "start_time": "2022-05-24T18:35:11.001Z"
   },
   {
    "duration": 202,
    "start_time": "2022-05-24T18:35:11.007Z"
   },
   {
    "duration": 38,
    "start_time": "2022-05-24T18:35:11.211Z"
   },
   {
    "duration": 161,
    "start_time": "2022-05-24T18:35:11.250Z"
   },
   {
    "duration": 22,
    "start_time": "2022-05-24T18:35:11.412Z"
   },
   {
    "duration": 7,
    "start_time": "2022-05-24T18:35:11.436Z"
   },
   {
    "duration": 119,
    "start_time": "2022-05-24T18:35:11.445Z"
   },
   {
    "duration": 31,
    "start_time": "2022-05-24T18:35:11.566Z"
   },
   {
    "duration": 202,
    "start_time": "2022-05-24T18:35:11.600Z"
   },
   {
    "duration": 14,
    "start_time": "2022-05-24T18:35:11.804Z"
   },
   {
    "duration": 40,
    "start_time": "2022-05-24T18:35:11.819Z"
   },
   {
    "duration": 11,
    "start_time": "2022-05-24T18:35:11.860Z"
   },
   {
    "duration": 138,
    "start_time": "2022-05-24T18:35:11.872Z"
   },
   {
    "duration": 8,
    "start_time": "2022-05-24T18:35:12.012Z"
   },
   {
    "duration": 86,
    "start_time": "2022-05-24T18:35:12.022Z"
   },
   {
    "duration": 82,
    "start_time": "2022-05-24T18:35:12.110Z"
   },
   {
    "duration": 33,
    "start_time": "2022-05-24T18:35:12.194Z"
   },
   {
    "duration": 22,
    "start_time": "2022-05-24T18:35:12.228Z"
   },
   {
    "duration": 45,
    "start_time": "2022-05-24T18:35:12.252Z"
   },
   {
    "duration": 6,
    "start_time": "2022-05-24T18:35:12.299Z"
   },
   {
    "duration": 10,
    "start_time": "2022-05-24T18:35:12.307Z"
   },
   {
    "duration": 27,
    "start_time": "2022-05-24T18:35:12.318Z"
   },
   {
    "duration": 11,
    "start_time": "2022-05-24T18:35:12.347Z"
   },
   {
    "duration": 24,
    "start_time": "2022-05-24T18:35:12.383Z"
   },
   {
    "duration": 10,
    "start_time": "2022-05-24T18:35:12.409Z"
   },
   {
    "duration": 16,
    "start_time": "2022-05-24T18:35:12.420Z"
   },
   {
    "duration": 84,
    "start_time": "2022-05-24T18:35:12.438Z"
   },
   {
    "duration": 9,
    "start_time": "2022-05-24T18:35:12.524Z"
   },
   {
    "duration": 20,
    "start_time": "2022-05-24T18:35:12.535Z"
   },
   {
    "duration": 42,
    "start_time": "2022-05-24T18:35:12.556Z"
   },
   {
    "duration": 9,
    "start_time": "2022-05-24T18:35:12.603Z"
   },
   {
    "duration": 22,
    "start_time": "2022-05-24T18:35:12.614Z"
   },
   {
    "duration": 19,
    "start_time": "2022-05-24T18:35:12.637Z"
   },
   {
    "duration": 21,
    "start_time": "2022-05-24T18:35:12.681Z"
   },
   {
    "duration": 12,
    "start_time": "2022-05-24T18:35:12.704Z"
   },
   {
    "duration": 30,
    "start_time": "2022-05-24T18:35:12.718Z"
   },
   {
    "duration": 42,
    "start_time": "2022-05-24T18:35:12.750Z"
   },
   {
    "duration": 24,
    "start_time": "2022-05-24T18:35:12.804Z"
   },
   {
    "duration": 7,
    "start_time": "2022-05-24T18:35:12.831Z"
   },
   {
    "duration": 30,
    "start_time": "2022-05-24T18:35:12.840Z"
   },
   {
    "duration": 23,
    "start_time": "2022-05-24T18:35:12.874Z"
   },
   {
    "duration": 28,
    "start_time": "2022-05-24T18:35:12.898Z"
   },
   {
    "duration": 127,
    "start_time": "2022-05-24T18:35:12.928Z"
   },
   {
    "duration": 19,
    "start_time": "2022-05-24T18:35:13.057Z"
   },
   {
    "duration": 9,
    "start_time": "2022-05-24T18:35:13.081Z"
   },
   {
    "duration": 134,
    "start_time": "2022-05-24T18:35:13.091Z"
   },
   {
    "duration": 24,
    "start_time": "2022-05-24T18:35:13.227Z"
   },
   {
    "duration": 46,
    "start_time": "2022-05-24T18:35:13.253Z"
   },
   {
    "duration": 110,
    "start_time": "2022-05-24T18:35:13.304Z"
   },
   {
    "duration": 4,
    "start_time": "2022-05-24T18:35:13.416Z"
   },
   {
    "duration": 13,
    "start_time": "2022-05-24T18:35:13.422Z"
   },
   {
    "duration": 119,
    "start_time": "2022-05-24T18:35:13.437Z"
   },
   {
    "duration": 16,
    "start_time": "2022-05-24T18:35:13.558Z"
   },
   {
    "duration": 59,
    "start_time": "2022-05-24T18:35:13.575Z"
   },
   {
    "duration": 683,
    "start_time": "2022-05-24T18:35:13.636Z"
   },
   {
    "duration": 723,
    "start_time": "2022-05-24T18:35:14.321Z"
   },
   {
    "duration": 673,
    "start_time": "2022-05-24T18:35:15.046Z"
   },
   {
    "duration": 32,
    "start_time": "2022-05-24T18:35:15.721Z"
   },
   {
    "duration": 34,
    "start_time": "2022-05-24T18:35:15.755Z"
   },
   {
    "duration": 32,
    "start_time": "2022-05-24T18:35:15.791Z"
   },
   {
    "duration": 112,
    "start_time": "2022-05-24T18:37:54.331Z"
   },
   {
    "duration": 5,
    "start_time": "2022-05-24T18:40:46.110Z"
   },
   {
    "duration": 229,
    "start_time": "2022-05-24T18:40:46.116Z"
   },
   {
    "duration": 29,
    "start_time": "2022-05-24T18:40:46.347Z"
   },
   {
    "duration": 159,
    "start_time": "2022-05-24T18:40:46.377Z"
   },
   {
    "duration": 21,
    "start_time": "2022-05-24T18:40:46.538Z"
   },
   {
    "duration": 21,
    "start_time": "2022-05-24T18:40:46.561Z"
   },
   {
    "duration": 129,
    "start_time": "2022-05-24T18:40:46.584Z"
   },
   {
    "duration": 23,
    "start_time": "2022-05-24T18:40:46.714Z"
   },
   {
    "duration": 22,
    "start_time": "2022-05-24T18:40:46.739Z"
   },
   {
    "duration": 25,
    "start_time": "2022-05-24T18:40:46.762Z"
   },
   {
    "duration": 267,
    "start_time": "2022-05-24T18:40:46.792Z"
   },
   {
    "duration": 28,
    "start_time": "2022-05-24T18:40:47.061Z"
   },
   {
    "duration": 141,
    "start_time": "2022-05-24T18:40:47.091Z"
   },
   {
    "duration": 6,
    "start_time": "2022-05-24T18:40:47.235Z"
   },
   {
    "duration": 60,
    "start_time": "2022-05-24T18:40:47.242Z"
   },
   {
    "duration": 63,
    "start_time": "2022-05-24T18:40:47.305Z"
   },
   {
    "duration": 54,
    "start_time": "2022-05-24T18:40:47.375Z"
   },
   {
    "duration": 36,
    "start_time": "2022-05-24T18:40:47.431Z"
   },
   {
    "duration": 33,
    "start_time": "2022-05-24T18:40:47.476Z"
   },
   {
    "duration": 13,
    "start_time": "2022-05-24T18:40:47.511Z"
   },
   {
    "duration": 8,
    "start_time": "2022-05-24T18:40:47.526Z"
   },
   {
    "duration": 16,
    "start_time": "2022-05-24T18:40:47.535Z"
   },
   {
    "duration": 23,
    "start_time": "2022-05-24T18:40:47.552Z"
   },
   {
    "duration": 17,
    "start_time": "2022-05-24T18:40:47.577Z"
   },
   {
    "duration": 24,
    "start_time": "2022-05-24T18:40:47.596Z"
   },
   {
    "duration": 8,
    "start_time": "2022-05-24T18:40:47.622Z"
   },
   {
    "duration": 49,
    "start_time": "2022-05-24T18:40:47.631Z"
   },
   {
    "duration": 10,
    "start_time": "2022-05-24T18:40:47.683Z"
   },
   {
    "duration": 52,
    "start_time": "2022-05-24T18:40:47.694Z"
   },
   {
    "duration": 20,
    "start_time": "2022-05-24T18:40:47.747Z"
   },
   {
    "duration": 6,
    "start_time": "2022-05-24T18:40:47.769Z"
   },
   {
    "duration": 51,
    "start_time": "2022-05-24T18:40:47.777Z"
   },
   {
    "duration": 22,
    "start_time": "2022-05-24T18:40:47.830Z"
   },
   {
    "duration": 15,
    "start_time": "2022-05-24T18:40:47.853Z"
   },
   {
    "duration": 25,
    "start_time": "2022-05-24T18:40:47.869Z"
   },
   {
    "duration": 44,
    "start_time": "2022-05-24T18:40:47.896Z"
   },
   {
    "duration": 17,
    "start_time": "2022-05-24T18:40:47.942Z"
   },
   {
    "duration": 26,
    "start_time": "2022-05-24T18:40:47.960Z"
   },
   {
    "duration": 9,
    "start_time": "2022-05-24T18:40:47.987Z"
   },
   {
    "duration": 37,
    "start_time": "2022-05-24T18:40:47.997Z"
   },
   {
    "duration": 14,
    "start_time": "2022-05-24T18:40:48.037Z"
   },
   {
    "duration": 4,
    "start_time": "2022-05-24T18:40:48.053Z"
   },
   {
    "duration": 88,
    "start_time": "2022-05-24T18:40:48.059Z"
   },
   {
    "duration": 6,
    "start_time": "2022-05-24T18:40:48.149Z"
   },
   {
    "duration": 19,
    "start_time": "2022-05-24T18:40:48.156Z"
   },
   {
    "duration": 124,
    "start_time": "2022-05-24T18:40:48.176Z"
   },
   {
    "duration": 21,
    "start_time": "2022-05-24T18:40:48.301Z"
   },
   {
    "duration": 8,
    "start_time": "2022-05-24T18:40:48.323Z"
   },
   {
    "duration": 81,
    "start_time": "2022-05-24T18:40:48.332Z"
   },
   {
    "duration": 4,
    "start_time": "2022-05-24T18:40:48.415Z"
   },
   {
    "duration": 134,
    "start_time": "2022-05-24T18:40:48.421Z"
   },
   {
    "duration": 6,
    "start_time": "2022-05-24T18:42:15.760Z"
   },
   {
    "duration": 33,
    "start_time": "2022-05-24T18:51:10.923Z"
   },
   {
    "duration": 4,
    "start_time": "2022-05-24T18:51:23.707Z"
   },
   {
    "duration": 205,
    "start_time": "2022-05-24T18:51:23.713Z"
   },
   {
    "duration": 23,
    "start_time": "2022-05-24T18:51:23.920Z"
   },
   {
    "duration": 159,
    "start_time": "2022-05-24T18:51:23.945Z"
   },
   {
    "duration": 20,
    "start_time": "2022-05-24T18:51:24.106Z"
   },
   {
    "duration": 6,
    "start_time": "2022-05-24T18:51:24.128Z"
   },
   {
    "duration": 116,
    "start_time": "2022-05-24T18:51:24.136Z"
   },
   {
    "duration": 26,
    "start_time": "2022-05-24T18:51:24.254Z"
   },
   {
    "duration": 31,
    "start_time": "2022-05-24T18:51:24.283Z"
   },
   {
    "duration": 12,
    "start_time": "2022-05-24T18:51:24.315Z"
   },
   {
    "duration": 72,
    "start_time": "2022-05-24T18:51:24.329Z"
   },
   {
    "duration": 15,
    "start_time": "2022-05-24T18:51:24.404Z"
   },
   {
    "duration": 121,
    "start_time": "2022-05-24T18:51:24.420Z"
   },
   {
    "duration": 5,
    "start_time": "2022-05-24T18:51:24.543Z"
   },
   {
    "duration": 66,
    "start_time": "2022-05-24T18:51:24.549Z"
   },
   {
    "duration": 66,
    "start_time": "2022-05-24T18:51:24.618Z"
   },
   {
    "duration": 45,
    "start_time": "2022-05-24T18:51:24.685Z"
   },
   {
    "duration": 24,
    "start_time": "2022-05-24T18:51:24.731Z"
   },
   {
    "duration": 48,
    "start_time": "2022-05-24T18:51:24.756Z"
   },
   {
    "duration": 8,
    "start_time": "2022-05-24T18:51:24.806Z"
   },
   {
    "duration": 6,
    "start_time": "2022-05-24T18:51:24.816Z"
   },
   {
    "duration": 18,
    "start_time": "2022-05-24T18:51:24.823Z"
   },
   {
    "duration": 10,
    "start_time": "2022-05-24T18:51:24.842Z"
   },
   {
    "duration": 32,
    "start_time": "2022-05-24T18:51:24.856Z"
   },
   {
    "duration": 23,
    "start_time": "2022-05-24T18:51:24.890Z"
   },
   {
    "duration": 7,
    "start_time": "2022-05-24T18:51:24.914Z"
   },
   {
    "duration": 71,
    "start_time": "2022-05-24T18:51:24.923Z"
   },
   {
    "duration": 12,
    "start_time": "2022-05-24T18:51:24.996Z"
   },
   {
    "duration": 32,
    "start_time": "2022-05-24T18:51:25.009Z"
   },
   {
    "duration": 21,
    "start_time": "2022-05-24T18:51:25.042Z"
   },
   {
    "duration": 14,
    "start_time": "2022-05-24T18:51:25.064Z"
   },
   {
    "duration": 56,
    "start_time": "2022-05-24T18:51:25.080Z"
   },
   {
    "duration": 17,
    "start_time": "2022-05-24T18:51:25.137Z"
   },
   {
    "duration": 15,
    "start_time": "2022-05-24T18:51:25.156Z"
   },
   {
    "duration": 32,
    "start_time": "2022-05-24T18:51:25.173Z"
   },
   {
    "duration": 35,
    "start_time": "2022-05-24T18:51:25.206Z"
   },
   {
    "duration": 18,
    "start_time": "2022-05-24T18:51:25.242Z"
   },
   {
    "duration": 22,
    "start_time": "2022-05-24T18:51:25.262Z"
   },
   {
    "duration": 8,
    "start_time": "2022-05-24T18:51:25.286Z"
   },
   {
    "duration": 33,
    "start_time": "2022-05-24T18:51:25.298Z"
   },
   {
    "duration": 14,
    "start_time": "2022-05-24T18:51:25.332Z"
   },
   {
    "duration": 3,
    "start_time": "2022-05-24T18:51:25.348Z"
   },
   {
    "duration": 104,
    "start_time": "2022-05-24T18:51:25.353Z"
   },
   {
    "duration": 5,
    "start_time": "2022-05-24T18:51:25.459Z"
   },
   {
    "duration": 5,
    "start_time": "2022-05-24T18:51:25.465Z"
   },
   {
    "duration": 97,
    "start_time": "2022-05-24T18:51:25.475Z"
   },
   {
    "duration": 25,
    "start_time": "2022-05-24T18:51:25.573Z"
   },
   {
    "duration": 17,
    "start_time": "2022-05-24T18:51:25.600Z"
   },
   {
    "duration": 84,
    "start_time": "2022-05-24T18:51:25.619Z"
   },
   {
    "duration": 4,
    "start_time": "2022-05-24T18:51:25.705Z"
   },
   {
    "duration": 127,
    "start_time": "2022-05-24T18:51:25.710Z"
   },
   {
    "duration": 7,
    "start_time": "2022-05-24T18:51:25.838Z"
   },
   {
    "duration": 5,
    "start_time": "2022-05-24T18:51:25.846Z"
   },
   {
    "duration": 7,
    "start_time": "2022-05-24T18:51:25.853Z"
   },
   {
    "duration": 81,
    "start_time": "2022-05-24T18:51:25.861Z"
   },
   {
    "duration": 747,
    "start_time": "2022-05-24T18:51:25.943Z"
   },
   {
    "duration": 665,
    "start_time": "2022-05-24T18:51:26.693Z"
   },
   {
    "duration": 661,
    "start_time": "2022-05-24T18:51:27.359Z"
   },
   {
    "duration": 30,
    "start_time": "2022-05-24T18:51:28.022Z"
   },
   {
    "duration": 33,
    "start_time": "2022-05-24T18:51:28.053Z"
   },
   {
    "duration": 36,
    "start_time": "2022-05-24T18:51:28.091Z"
   },
   {
    "duration": 6,
    "start_time": "2022-05-24T18:51:39.236Z"
   },
   {
    "duration": 3,
    "start_time": "2022-05-24T18:52:24.951Z"
   },
   {
    "duration": 185,
    "start_time": "2022-05-24T18:52:24.956Z"
   },
   {
    "duration": 46,
    "start_time": "2022-05-24T18:52:25.142Z"
   },
   {
    "duration": 139,
    "start_time": "2022-05-24T18:52:25.190Z"
   },
   {
    "duration": 35,
    "start_time": "2022-05-24T18:52:25.331Z"
   },
   {
    "duration": 19,
    "start_time": "2022-05-24T18:52:25.384Z"
   },
   {
    "duration": 96,
    "start_time": "2022-05-24T18:52:25.408Z"
   },
   {
    "duration": 18,
    "start_time": "2022-05-24T18:52:25.506Z"
   },
   {
    "duration": 18,
    "start_time": "2022-05-24T18:52:25.527Z"
   },
   {
    "duration": 10,
    "start_time": "2022-05-24T18:52:25.547Z"
   },
   {
    "duration": 50,
    "start_time": "2022-05-24T18:52:25.558Z"
   },
   {
    "duration": 12,
    "start_time": "2022-05-24T18:52:25.610Z"
   },
   {
    "duration": 99,
    "start_time": "2022-05-24T18:52:25.624Z"
   },
   {
    "duration": 6,
    "start_time": "2022-05-24T18:52:25.725Z"
   },
   {
    "duration": 76,
    "start_time": "2022-05-24T18:52:25.732Z"
   },
   {
    "duration": 59,
    "start_time": "2022-05-24T18:52:25.810Z"
   },
   {
    "duration": 44,
    "start_time": "2022-05-24T18:52:25.870Z"
   },
   {
    "duration": 22,
    "start_time": "2022-05-24T18:52:25.916Z"
   },
   {
    "duration": 19,
    "start_time": "2022-05-24T18:52:25.940Z"
   },
   {
    "duration": 16,
    "start_time": "2022-05-24T18:52:25.961Z"
   },
   {
    "duration": 19,
    "start_time": "2022-05-24T18:52:25.979Z"
   },
   {
    "duration": 16,
    "start_time": "2022-05-24T18:52:26.000Z"
   },
   {
    "duration": 18,
    "start_time": "2022-05-24T18:52:26.018Z"
   },
   {
    "duration": 15,
    "start_time": "2022-05-24T18:52:26.042Z"
   },
   {
    "duration": 29,
    "start_time": "2022-05-24T18:52:26.059Z"
   },
   {
    "duration": 7,
    "start_time": "2022-05-24T18:52:26.090Z"
   },
   {
    "duration": 55,
    "start_time": "2022-05-24T18:52:26.099Z"
   },
   {
    "duration": 9,
    "start_time": "2022-05-24T18:52:26.156Z"
   },
   {
    "duration": 34,
    "start_time": "2022-05-24T18:52:26.167Z"
   },
   {
    "duration": 23,
    "start_time": "2022-05-24T18:52:26.203Z"
   },
   {
    "duration": 7,
    "start_time": "2022-05-24T18:52:26.227Z"
   },
   {
    "duration": 66,
    "start_time": "2022-05-24T18:52:26.237Z"
   },
   {
    "duration": 21,
    "start_time": "2022-05-24T18:52:26.306Z"
   },
   {
    "duration": 14,
    "start_time": "2022-05-24T18:52:26.328Z"
   },
   {
    "duration": 9,
    "start_time": "2022-05-24T18:52:26.344Z"
   },
   {
    "duration": 42,
    "start_time": "2022-05-24T18:52:26.355Z"
   },
   {
    "duration": 17,
    "start_time": "2022-05-24T18:52:26.398Z"
   },
   {
    "duration": 18,
    "start_time": "2022-05-24T18:52:26.417Z"
   },
   {
    "duration": 6,
    "start_time": "2022-05-24T18:52:26.437Z"
   },
   {
    "duration": 48,
    "start_time": "2022-05-24T18:52:26.444Z"
   },
   {
    "duration": 17,
    "start_time": "2022-05-24T18:52:26.496Z"
   },
   {
    "duration": 4,
    "start_time": "2022-05-24T18:52:26.515Z"
   },
   {
    "duration": 102,
    "start_time": "2022-05-24T18:52:26.520Z"
   },
   {
    "duration": 7,
    "start_time": "2022-05-24T18:52:26.623Z"
   },
   {
    "duration": 5,
    "start_time": "2022-05-24T18:52:26.631Z"
   },
   {
    "duration": 109,
    "start_time": "2022-05-24T18:52:26.638Z"
   },
   {
    "duration": 31,
    "start_time": "2022-05-24T18:52:26.749Z"
   },
   {
    "duration": 24,
    "start_time": "2022-05-24T18:52:26.783Z"
   },
   {
    "duration": 85,
    "start_time": "2022-05-24T18:52:26.809Z"
   },
   {
    "duration": 4,
    "start_time": "2022-05-24T18:52:26.896Z"
   },
   {
    "duration": 112,
    "start_time": "2022-05-24T18:52:26.902Z"
   },
   {
    "duration": 7,
    "start_time": "2022-05-24T18:52:27.016Z"
   },
   {
    "duration": 4,
    "start_time": "2022-05-24T18:52:27.024Z"
   },
   {
    "duration": 9,
    "start_time": "2022-05-24T18:52:27.030Z"
   },
   {
    "duration": 64,
    "start_time": "2022-05-24T18:52:27.041Z"
   },
   {
    "duration": 848,
    "start_time": "2022-05-24T18:52:27.106Z"
   },
   {
    "duration": 681,
    "start_time": "2022-05-24T18:52:27.956Z"
   },
   {
    "duration": 629,
    "start_time": "2022-05-24T18:52:28.639Z"
   },
   {
    "duration": 39,
    "start_time": "2022-05-24T18:52:29.270Z"
   },
   {
    "duration": 15,
    "start_time": "2022-05-24T18:52:29.311Z"
   },
   {
    "duration": 12,
    "start_time": "2022-05-24T18:52:29.328Z"
   },
   {
    "duration": 3,
    "start_time": "2022-05-24T18:57:35.634Z"
   },
   {
    "duration": 183,
    "start_time": "2022-05-24T18:57:35.638Z"
   },
   {
    "duration": 23,
    "start_time": "2022-05-24T18:57:35.823Z"
   },
   {
    "duration": 145,
    "start_time": "2022-05-24T18:57:35.848Z"
   },
   {
    "duration": 25,
    "start_time": "2022-05-24T18:57:35.996Z"
   },
   {
    "duration": 18,
    "start_time": "2022-05-24T18:57:36.023Z"
   },
   {
    "duration": 99,
    "start_time": "2022-05-24T18:57:36.043Z"
   },
   {
    "duration": 19,
    "start_time": "2022-05-24T18:57:36.143Z"
   },
   {
    "duration": 34,
    "start_time": "2022-05-24T18:57:36.164Z"
   },
   {
    "duration": 12,
    "start_time": "2022-05-24T18:57:36.199Z"
   },
   {
    "duration": 35,
    "start_time": "2022-05-24T18:57:36.213Z"
   },
   {
    "duration": 12,
    "start_time": "2022-05-24T18:57:36.250Z"
   },
   {
    "duration": 104,
    "start_time": "2022-05-24T18:57:36.263Z"
   },
   {
    "duration": 10,
    "start_time": "2022-05-24T18:57:36.369Z"
   },
   {
    "duration": 56,
    "start_time": "2022-05-24T18:57:36.380Z"
   },
   {
    "duration": 75,
    "start_time": "2022-05-24T18:57:36.437Z"
   },
   {
    "duration": 29,
    "start_time": "2022-05-24T18:57:36.513Z"
   },
   {
    "duration": 40,
    "start_time": "2022-05-24T18:57:36.544Z"
   },
   {
    "duration": 23,
    "start_time": "2022-05-24T18:57:36.593Z"
   },
   {
    "duration": 4,
    "start_time": "2022-05-24T18:57:36.618Z"
   },
   {
    "duration": 28,
    "start_time": "2022-05-24T18:57:36.623Z"
   },
   {
    "duration": 53,
    "start_time": "2022-05-24T18:57:36.652Z"
   },
   {
    "duration": 31,
    "start_time": "2022-05-24T18:57:36.707Z"
   },
   {
    "duration": 27,
    "start_time": "2022-05-24T18:57:36.742Z"
   },
   {
    "duration": 43,
    "start_time": "2022-05-24T18:57:36.770Z"
   },
   {
    "duration": 31,
    "start_time": "2022-05-24T18:57:36.815Z"
   },
   {
    "duration": 74,
    "start_time": "2022-05-24T18:57:36.848Z"
   },
   {
    "duration": 9,
    "start_time": "2022-05-24T18:57:36.923Z"
   },
   {
    "duration": 36,
    "start_time": "2022-05-24T18:57:36.933Z"
   },
   {
    "duration": 28,
    "start_time": "2022-05-24T18:57:36.970Z"
   },
   {
    "duration": 6,
    "start_time": "2022-05-24T18:57:37.000Z"
   },
   {
    "duration": 36,
    "start_time": "2022-05-24T18:57:37.008Z"
   },
   {
    "duration": 48,
    "start_time": "2022-05-24T18:57:37.045Z"
   },
   {
    "duration": 23,
    "start_time": "2022-05-24T18:57:37.097Z"
   },
   {
    "duration": 10,
    "start_time": "2022-05-24T18:57:37.122Z"
   },
   {
    "duration": 37,
    "start_time": "2022-05-24T18:57:37.134Z"
   },
   {
    "duration": 32,
    "start_time": "2022-05-24T18:57:37.173Z"
   },
   {
    "duration": 21,
    "start_time": "2022-05-24T18:57:37.207Z"
   },
   {
    "duration": 9,
    "start_time": "2022-05-24T18:57:37.230Z"
   },
   {
    "duration": 27,
    "start_time": "2022-05-24T18:57:37.241Z"
   },
   {
    "duration": 31,
    "start_time": "2022-05-24T18:57:42.560Z"
   },
   {
    "duration": 7,
    "start_time": "2022-05-24T18:57:43.523Z"
   },
   {
    "duration": 3,
    "start_time": "2022-05-24T18:57:59.438Z"
   },
   {
    "duration": 207,
    "start_time": "2022-05-24T18:57:59.443Z"
   },
   {
    "duration": 47,
    "start_time": "2022-05-24T18:57:59.652Z"
   },
   {
    "duration": 146,
    "start_time": "2022-05-24T18:57:59.705Z"
   },
   {
    "duration": 39,
    "start_time": "2022-05-24T18:57:59.853Z"
   },
   {
    "duration": 8,
    "start_time": "2022-05-24T18:57:59.897Z"
   },
   {
    "duration": 105,
    "start_time": "2022-05-24T18:57:59.907Z"
   },
   {
    "duration": 18,
    "start_time": "2022-05-24T18:58:00.014Z"
   },
   {
    "duration": 20,
    "start_time": "2022-05-24T18:58:00.035Z"
   },
   {
    "duration": 21,
    "start_time": "2022-05-24T18:58:00.057Z"
   },
   {
    "duration": 56,
    "start_time": "2022-05-24T18:58:00.080Z"
   },
   {
    "duration": 11,
    "start_time": "2022-05-24T18:58:00.137Z"
   },
   {
    "duration": 116,
    "start_time": "2022-05-24T18:58:00.150Z"
   },
   {
    "duration": 23,
    "start_time": "2022-05-24T18:58:00.267Z"
   },
   {
    "duration": 50,
    "start_time": "2022-05-24T18:58:00.297Z"
   },
   {
    "duration": 74,
    "start_time": "2022-05-24T18:58:00.348Z"
   },
   {
    "duration": 30,
    "start_time": "2022-05-24T18:58:00.424Z"
   },
   {
    "duration": 40,
    "start_time": "2022-05-24T18:58:00.456Z"
   },
   {
    "duration": 21,
    "start_time": "2022-05-24T18:58:00.499Z"
   },
   {
    "duration": 4,
    "start_time": "2022-05-24T18:58:00.522Z"
   },
   {
    "duration": 14,
    "start_time": "2022-05-24T18:58:00.528Z"
   },
   {
    "duration": 27,
    "start_time": "2022-05-24T18:58:00.543Z"
   },
   {
    "duration": 19,
    "start_time": "2022-05-24T18:58:00.575Z"
   },
   {
    "duration": 10,
    "start_time": "2022-05-24T18:58:00.598Z"
   },
   {
    "duration": 7,
    "start_time": "2022-05-24T18:58:00.610Z"
   },
   {
    "duration": 11,
    "start_time": "2022-05-24T18:58:00.618Z"
   },
   {
    "duration": 78,
    "start_time": "2022-05-24T18:58:00.631Z"
   },
   {
    "duration": 10,
    "start_time": "2022-05-24T18:58:00.711Z"
   },
   {
    "duration": 39,
    "start_time": "2022-05-24T18:58:00.723Z"
   },
   {
    "duration": 37,
    "start_time": "2022-05-24T18:58:00.764Z"
   },
   {
    "duration": 6,
    "start_time": "2022-05-24T18:58:00.810Z"
   },
   {
    "duration": 28,
    "start_time": "2022-05-24T18:58:00.818Z"
   },
   {
    "duration": 45,
    "start_time": "2022-05-24T18:58:00.848Z"
   },
   {
    "duration": 23,
    "start_time": "2022-05-24T18:58:00.901Z"
   },
   {
    "duration": 45,
    "start_time": "2022-05-24T18:58:00.925Z"
   },
   {
    "duration": 81,
    "start_time": "2022-05-24T18:58:00.972Z"
   },
   {
    "duration": 29,
    "start_time": "2022-05-24T18:58:01.055Z"
   },
   {
    "duration": 106,
    "start_time": "2022-05-24T18:58:01.087Z"
   },
   {
    "duration": 57,
    "start_time": "2022-05-24T18:58:01.195Z"
   },
   {
    "duration": 53,
    "start_time": "2022-05-24T18:58:01.254Z"
   },
   {
    "duration": 41,
    "start_time": "2022-05-24T18:58:01.309Z"
   },
   {
    "duration": 77,
    "start_time": "2022-05-24T18:58:01.352Z"
   },
   {
    "duration": 20,
    "start_time": "2022-05-24T18:58:01.431Z"
   },
   {
    "duration": 195,
    "start_time": "2022-05-24T18:58:01.453Z"
   },
   {
    "duration": 6,
    "start_time": "2022-05-24T18:58:01.650Z"
   },
   {
    "duration": 71,
    "start_time": "2022-05-24T18:58:01.657Z"
   },
   {
    "duration": 112,
    "start_time": "2022-05-24T18:58:01.730Z"
   },
   {
    "duration": 20,
    "start_time": "2022-05-24T18:58:01.844Z"
   },
   {
    "duration": 33,
    "start_time": "2022-05-24T18:58:01.877Z"
   },
   {
    "duration": 110,
    "start_time": "2022-05-24T18:58:01.912Z"
   },
   {
    "duration": 3,
    "start_time": "2022-05-24T18:58:02.024Z"
   },
   {
    "duration": 134,
    "start_time": "2022-05-24T18:58:02.029Z"
   },
   {
    "duration": 7,
    "start_time": "2022-05-24T18:58:02.165Z"
   },
   {
    "duration": 43,
    "start_time": "2022-05-24T18:58:02.174Z"
   },
   {
    "duration": 42,
    "start_time": "2022-05-24T18:58:02.220Z"
   },
   {
    "duration": 69,
    "start_time": "2022-05-24T18:58:02.264Z"
   },
   {
    "duration": 1025,
    "start_time": "2022-05-24T18:58:02.335Z"
   },
   {
    "duration": 643,
    "start_time": "2022-05-24T18:58:03.362Z"
   },
   {
    "duration": 656,
    "start_time": "2022-05-24T18:58:04.007Z"
   },
   {
    "duration": 42,
    "start_time": "2022-05-24T18:58:04.665Z"
   },
   {
    "duration": 10,
    "start_time": "2022-05-24T18:58:04.709Z"
   },
   {
    "duration": 11,
    "start_time": "2022-05-24T18:58:04.720Z"
   },
   {
    "duration": 4,
    "start_time": "2022-05-24T18:59:34.379Z"
   },
   {
    "duration": 203,
    "start_time": "2022-05-24T18:59:34.387Z"
   },
   {
    "duration": 25,
    "start_time": "2022-05-24T18:59:34.591Z"
   },
   {
    "duration": 133,
    "start_time": "2022-05-24T18:59:34.617Z"
   },
   {
    "duration": 33,
    "start_time": "2022-05-24T18:59:34.751Z"
   },
   {
    "duration": 6,
    "start_time": "2022-05-24T18:59:34.787Z"
   },
   {
    "duration": 107,
    "start_time": "2022-05-24T18:59:34.795Z"
   },
   {
    "duration": 18,
    "start_time": "2022-05-24T18:59:34.904Z"
   },
   {
    "duration": 20,
    "start_time": "2022-05-24T18:59:34.923Z"
   },
   {
    "duration": 11,
    "start_time": "2022-05-24T18:59:34.944Z"
   },
   {
    "duration": 44,
    "start_time": "2022-05-24T18:59:34.956Z"
   },
   {
    "duration": 10,
    "start_time": "2022-05-24T18:59:35.002Z"
   },
   {
    "duration": 112,
    "start_time": "2022-05-24T18:59:35.014Z"
   },
   {
    "duration": 7,
    "start_time": "2022-05-24T18:59:35.128Z"
   },
   {
    "duration": 50,
    "start_time": "2022-05-24T18:59:35.138Z"
   },
   {
    "duration": 55,
    "start_time": "2022-05-24T18:59:35.190Z"
   },
   {
    "duration": 46,
    "start_time": "2022-05-24T18:59:35.247Z"
   },
   {
    "duration": 23,
    "start_time": "2022-05-24T18:59:35.295Z"
   },
   {
    "duration": 20,
    "start_time": "2022-05-24T18:59:35.320Z"
   },
   {
    "duration": 5,
    "start_time": "2022-05-24T18:59:35.342Z"
   },
   {
    "duration": 39,
    "start_time": "2022-05-24T18:59:35.349Z"
   },
   {
    "duration": 16,
    "start_time": "2022-05-24T18:59:35.390Z"
   },
   {
    "duration": 12,
    "start_time": "2022-05-24T18:59:35.408Z"
   },
   {
    "duration": 10,
    "start_time": "2022-05-24T18:59:35.421Z"
   },
   {
    "duration": 5,
    "start_time": "2022-05-24T18:59:35.433Z"
   },
   {
    "duration": 6,
    "start_time": "2022-05-24T18:59:35.440Z"
   },
   {
    "duration": 81,
    "start_time": "2022-05-24T18:59:35.447Z"
   },
   {
    "duration": 8,
    "start_time": "2022-05-24T18:59:35.530Z"
   },
   {
    "duration": 24,
    "start_time": "2022-05-24T18:59:35.540Z"
   },
   {
    "duration": 27,
    "start_time": "2022-05-24T18:59:35.566Z"
   },
   {
    "duration": 5,
    "start_time": "2022-05-24T18:59:35.595Z"
   },
   {
    "duration": 27,
    "start_time": "2022-05-24T18:59:35.602Z"
   },
   {
    "duration": 53,
    "start_time": "2022-05-24T18:59:35.631Z"
   },
   {
    "duration": 20,
    "start_time": "2022-05-24T18:59:35.686Z"
   },
   {
    "duration": 9,
    "start_time": "2022-05-24T18:59:35.707Z"
   },
   {
    "duration": 22,
    "start_time": "2022-05-24T18:59:35.718Z"
   },
   {
    "duration": 47,
    "start_time": "2022-05-24T18:59:35.741Z"
   },
   {
    "duration": 18,
    "start_time": "2022-05-24T18:59:35.791Z"
   },
   {
    "duration": 20,
    "start_time": "2022-05-24T18:59:43.595Z"
   },
   {
    "duration": 7,
    "start_time": "2022-05-24T18:59:45.039Z"
   },
   {
    "duration": 17,
    "start_time": "2022-05-24T18:59:49.235Z"
   },
   {
    "duration": 6,
    "start_time": "2022-05-24T18:59:50.387Z"
   },
   {
    "duration": 18,
    "start_time": "2022-05-24T19:00:07.486Z"
   },
   {
    "duration": 13,
    "start_time": "2022-05-24T19:09:30.844Z"
   },
   {
    "duration": 3,
    "start_time": "2022-05-24T19:09:43.657Z"
   },
   {
    "duration": 212,
    "start_time": "2022-05-24T19:09:43.663Z"
   },
   {
    "duration": 33,
    "start_time": "2022-05-24T19:09:43.877Z"
   },
   {
    "duration": 148,
    "start_time": "2022-05-24T19:09:43.912Z"
   },
   {
    "duration": 27,
    "start_time": "2022-05-24T19:09:44.062Z"
   },
   {
    "duration": 7,
    "start_time": "2022-05-24T19:09:44.090Z"
   },
   {
    "duration": 102,
    "start_time": "2022-05-24T19:09:44.099Z"
   },
   {
    "duration": 24,
    "start_time": "2022-05-24T19:09:44.204Z"
   },
   {
    "duration": 22,
    "start_time": "2022-05-24T19:09:44.231Z"
   },
   {
    "duration": 24,
    "start_time": "2022-05-24T19:09:44.255Z"
   },
   {
    "duration": 52,
    "start_time": "2022-05-24T19:09:44.280Z"
   },
   {
    "duration": 12,
    "start_time": "2022-05-24T19:09:44.334Z"
   },
   {
    "duration": 109,
    "start_time": "2022-05-24T19:09:44.347Z"
   },
   {
    "duration": 6,
    "start_time": "2022-05-24T19:09:44.458Z"
   },
   {
    "duration": 59,
    "start_time": "2022-05-24T19:09:44.465Z"
   },
   {
    "duration": 79,
    "start_time": "2022-05-24T19:09:44.525Z"
   },
   {
    "duration": 30,
    "start_time": "2022-05-24T19:09:44.605Z"
   },
   {
    "duration": 40,
    "start_time": "2022-05-24T19:09:44.637Z"
   },
   {
    "duration": 24,
    "start_time": "2022-05-24T19:09:44.679Z"
   },
   {
    "duration": 5,
    "start_time": "2022-05-24T19:09:44.705Z"
   },
   {
    "duration": 6,
    "start_time": "2022-05-24T19:09:44.712Z"
   },
   {
    "duration": 23,
    "start_time": "2022-05-24T19:09:44.719Z"
   },
   {
    "duration": 34,
    "start_time": "2022-05-24T19:09:44.744Z"
   },
   {
    "duration": 10,
    "start_time": "2022-05-24T19:09:44.781Z"
   },
   {
    "duration": 7,
    "start_time": "2022-05-24T19:09:44.792Z"
   },
   {
    "duration": 7,
    "start_time": "2022-05-24T19:09:44.800Z"
   },
   {
    "duration": 67,
    "start_time": "2022-05-24T19:09:44.808Z"
   },
   {
    "duration": 9,
    "start_time": "2022-05-24T19:09:44.876Z"
   },
   {
    "duration": 25,
    "start_time": "2022-05-24T19:09:44.886Z"
   },
   {
    "duration": 21,
    "start_time": "2022-05-24T19:09:44.913Z"
   },
   {
    "duration": 6,
    "start_time": "2022-05-24T19:09:44.936Z"
   },
   {
    "duration": 47,
    "start_time": "2022-05-24T19:09:44.944Z"
   },
   {
    "duration": 20,
    "start_time": "2022-05-24T19:09:44.993Z"
   },
   {
    "duration": 24,
    "start_time": "2022-05-24T19:09:45.015Z"
   },
   {
    "duration": 36,
    "start_time": "2022-05-24T19:09:45.042Z"
   },
   {
    "duration": 26,
    "start_time": "2022-05-24T19:09:45.080Z"
   },
   {
    "duration": 17,
    "start_time": "2022-05-24T19:09:45.108Z"
   },
   {
    "duration": 20,
    "start_time": "2022-05-24T19:09:45.127Z"
   },
   {
    "duration": 45,
    "start_time": "2022-05-24T19:09:45.148Z"
   },
   {
    "duration": 14,
    "start_time": "2022-05-24T19:09:45.194Z"
   },
   {
    "duration": 6,
    "start_time": "2022-05-24T19:09:45.210Z"
   },
   {
    "duration": 16,
    "start_time": "2022-05-24T19:09:45.217Z"
   },
   {
    "duration": 3,
    "start_time": "2022-05-24T19:09:45.235Z"
   },
   {
    "duration": 104,
    "start_time": "2022-05-24T19:09:45.240Z"
   },
   {
    "duration": 7,
    "start_time": "2022-05-24T19:09:45.346Z"
   },
   {
    "duration": 23,
    "start_time": "2022-05-24T19:09:45.355Z"
   },
   {
    "duration": 84,
    "start_time": "2022-05-24T19:09:45.381Z"
   },
   {
    "duration": 15,
    "start_time": "2022-05-24T19:09:45.466Z"
   },
   {
    "duration": 9,
    "start_time": "2022-05-24T19:09:45.483Z"
   },
   {
    "duration": 81,
    "start_time": "2022-05-24T19:09:45.493Z"
   },
   {
    "duration": 3,
    "start_time": "2022-05-24T19:09:45.576Z"
   },
   {
    "duration": 114,
    "start_time": "2022-05-24T19:09:45.581Z"
   },
   {
    "duration": 8,
    "start_time": "2022-05-24T19:09:45.696Z"
   },
   {
    "duration": 7,
    "start_time": "2022-05-24T19:09:45.705Z"
   },
   {
    "duration": 8,
    "start_time": "2022-05-24T19:09:45.713Z"
   },
   {
    "duration": 84,
    "start_time": "2022-05-24T19:09:45.723Z"
   },
   {
    "duration": 636,
    "start_time": "2022-05-24T19:09:45.809Z"
   },
   {
    "duration": 658,
    "start_time": "2022-05-24T19:09:46.448Z"
   },
   {
    "duration": 916,
    "start_time": "2022-05-24T19:09:47.108Z"
   },
   {
    "duration": 33,
    "start_time": "2022-05-24T19:09:48.026Z"
   },
   {
    "duration": 24,
    "start_time": "2022-05-24T19:09:48.060Z"
   },
   {
    "duration": 11,
    "start_time": "2022-05-24T19:09:48.086Z"
   },
   {
    "duration": 3,
    "start_time": "2022-05-24T19:17:40.815Z"
   },
   {
    "duration": 186,
    "start_time": "2022-05-24T19:17:40.820Z"
   },
   {
    "duration": 33,
    "start_time": "2022-05-24T19:17:41.007Z"
   },
   {
    "duration": 168,
    "start_time": "2022-05-24T19:17:41.041Z"
   },
   {
    "duration": 21,
    "start_time": "2022-05-24T19:17:41.210Z"
   },
   {
    "duration": 6,
    "start_time": "2022-05-24T19:17:41.233Z"
   },
   {
    "duration": 108,
    "start_time": "2022-05-24T19:17:41.241Z"
   },
   {
    "duration": 26,
    "start_time": "2022-05-24T19:17:41.350Z"
   },
   {
    "duration": 24,
    "start_time": "2022-05-24T19:17:41.379Z"
   },
   {
    "duration": 12,
    "start_time": "2022-05-24T19:17:41.405Z"
   },
   {
    "duration": 38,
    "start_time": "2022-05-24T19:17:41.419Z"
   },
   {
    "duration": 15,
    "start_time": "2022-05-24T19:17:41.459Z"
   },
   {
    "duration": 134,
    "start_time": "2022-05-24T19:17:41.480Z"
   },
   {
    "duration": 6,
    "start_time": "2022-05-24T19:17:41.616Z"
   },
   {
    "duration": 56,
    "start_time": "2022-05-24T19:17:41.623Z"
   },
   {
    "duration": 63,
    "start_time": "2022-05-24T19:17:41.681Z"
   },
   {
    "duration": 54,
    "start_time": "2022-05-24T19:17:41.746Z"
   },
   {
    "duration": 21,
    "start_time": "2022-05-24T19:17:41.802Z"
   },
   {
    "duration": 22,
    "start_time": "2022-05-24T19:17:41.825Z"
   },
   {
    "duration": 5,
    "start_time": "2022-05-24T19:17:41.848Z"
   },
   {
    "duration": 34,
    "start_time": "2022-05-24T19:17:41.854Z"
   },
   {
    "duration": 18,
    "start_time": "2022-05-24T19:17:41.890Z"
   },
   {
    "duration": 12,
    "start_time": "2022-05-24T19:17:41.910Z"
   },
   {
    "duration": 14,
    "start_time": "2022-05-24T19:17:41.926Z"
   },
   {
    "duration": 9,
    "start_time": "2022-05-24T19:17:41.942Z"
   },
   {
    "duration": 23,
    "start_time": "2022-05-24T19:17:41.953Z"
   },
   {
    "duration": 76,
    "start_time": "2022-05-24T19:17:41.979Z"
   },
   {
    "duration": 9,
    "start_time": "2022-05-24T19:17:42.057Z"
   },
   {
    "duration": 36,
    "start_time": "2022-05-24T19:17:42.067Z"
   },
   {
    "duration": 23,
    "start_time": "2022-05-24T19:17:42.106Z"
   },
   {
    "duration": 6,
    "start_time": "2022-05-24T19:17:42.130Z"
   },
   {
    "duration": 53,
    "start_time": "2022-05-24T19:17:42.138Z"
   },
   {
    "duration": 21,
    "start_time": "2022-05-24T19:17:42.193Z"
   },
   {
    "duration": 18,
    "start_time": "2022-05-24T19:17:42.216Z"
   },
   {
    "duration": 10,
    "start_time": "2022-05-24T19:17:42.236Z"
   },
   {
    "duration": 49,
    "start_time": "2022-05-24T19:17:42.248Z"
   },
   {
    "duration": 20,
    "start_time": "2022-05-24T19:17:42.299Z"
   },
   {
    "duration": 20,
    "start_time": "2022-05-24T19:17:42.321Z"
   },
   {
    "duration": 42,
    "start_time": "2022-05-24T19:17:42.343Z"
   },
   {
    "duration": 25,
    "start_time": "2022-05-24T19:17:42.389Z"
   },
   {
    "duration": 7,
    "start_time": "2022-05-24T19:17:42.416Z"
   },
   {
    "duration": 19,
    "start_time": "2022-05-24T19:17:42.425Z"
   },
   {
    "duration": 6,
    "start_time": "2022-05-24T19:17:42.446Z"
   },
   {
    "duration": 140,
    "start_time": "2022-05-24T19:17:42.475Z"
   },
   {
    "duration": 8,
    "start_time": "2022-05-24T19:17:42.616Z"
   },
   {
    "duration": 5,
    "start_time": "2022-05-24T19:17:42.626Z"
   },
   {
    "duration": 125,
    "start_time": "2022-05-24T19:17:42.633Z"
   },
   {
    "duration": 34,
    "start_time": "2022-05-24T19:17:42.760Z"
   },
   {
    "duration": 27,
    "start_time": "2022-05-24T19:17:42.796Z"
   },
   {
    "duration": 117,
    "start_time": "2022-05-24T19:17:42.824Z"
   },
   {
    "duration": 5,
    "start_time": "2022-05-24T19:17:42.943Z"
   },
   {
    "duration": 192,
    "start_time": "2022-05-24T19:17:42.950Z"
   },
   {
    "duration": 10,
    "start_time": "2022-05-24T19:17:43.144Z"
   },
   {
    "duration": 10,
    "start_time": "2022-05-24T19:17:43.156Z"
   },
   {
    "duration": 39,
    "start_time": "2022-05-24T19:17:43.168Z"
   },
   {
    "duration": 59,
    "start_time": "2022-05-24T19:17:43.212Z"
   },
   {
    "duration": 646,
    "start_time": "2022-05-24T19:17:43.273Z"
   },
   {
    "duration": 602,
    "start_time": "2022-05-24T19:17:43.921Z"
   },
   {
    "duration": 621,
    "start_time": "2022-05-24T19:17:44.525Z"
   },
   {
    "duration": 43,
    "start_time": "2022-05-24T19:17:45.148Z"
   },
   {
    "duration": 10,
    "start_time": "2022-05-24T19:17:45.192Z"
   },
   {
    "duration": 10,
    "start_time": "2022-05-24T19:17:45.204Z"
   },
   {
    "duration": 3,
    "start_time": "2022-05-24T19:19:12.295Z"
   },
   {
    "duration": 188,
    "start_time": "2022-05-24T19:19:12.300Z"
   },
   {
    "duration": 24,
    "start_time": "2022-05-24T19:19:12.490Z"
   },
   {
    "duration": 134,
    "start_time": "2022-05-24T19:19:12.516Z"
   },
   {
    "duration": 28,
    "start_time": "2022-05-24T19:19:12.652Z"
   },
   {
    "duration": 6,
    "start_time": "2022-05-24T19:19:12.681Z"
   },
   {
    "duration": 119,
    "start_time": "2022-05-24T19:19:12.688Z"
   },
   {
    "duration": 23,
    "start_time": "2022-05-24T19:19:12.809Z"
   },
   {
    "duration": 23,
    "start_time": "2022-05-24T19:19:12.835Z"
   },
   {
    "duration": 29,
    "start_time": "2022-05-24T19:19:12.860Z"
   },
   {
    "duration": 41,
    "start_time": "2022-05-24T19:19:12.890Z"
   },
   {
    "duration": 14,
    "start_time": "2022-05-24T19:19:12.933Z"
   },
   {
    "duration": 120,
    "start_time": "2022-05-24T19:19:12.949Z"
   },
   {
    "duration": 11,
    "start_time": "2022-05-24T19:19:13.070Z"
   },
   {
    "duration": 61,
    "start_time": "2022-05-24T19:19:13.083Z"
   },
   {
    "duration": 56,
    "start_time": "2022-05-24T19:19:13.145Z"
   },
   {
    "duration": 29,
    "start_time": "2022-05-24T19:19:13.202Z"
   },
   {
    "duration": 22,
    "start_time": "2022-05-24T19:19:13.232Z"
   },
   {
    "duration": 33,
    "start_time": "2022-05-24T19:19:13.256Z"
   },
   {
    "duration": 4,
    "start_time": "2022-05-24T19:19:13.291Z"
   },
   {
    "duration": 5,
    "start_time": "2022-05-24T19:19:13.297Z"
   },
   {
    "duration": 15,
    "start_time": "2022-05-24T19:19:13.304Z"
   },
   {
    "duration": 12,
    "start_time": "2022-05-24T19:19:13.320Z"
   },
   {
    "duration": 49,
    "start_time": "2022-05-24T19:19:13.336Z"
   },
   {
    "duration": 9,
    "start_time": "2022-05-24T19:19:13.387Z"
   },
   {
    "duration": 10,
    "start_time": "2022-05-24T19:19:13.398Z"
   },
   {
    "duration": 51,
    "start_time": "2022-05-24T19:19:13.410Z"
   },
   {
    "duration": 17,
    "start_time": "2022-05-24T19:19:13.462Z"
   },
   {
    "duration": 34,
    "start_time": "2022-05-24T19:19:13.482Z"
   },
   {
    "duration": 20,
    "start_time": "2022-05-24T19:19:13.518Z"
   },
   {
    "duration": 6,
    "start_time": "2022-05-24T19:19:13.540Z"
   },
   {
    "duration": 46,
    "start_time": "2022-05-24T19:19:13.548Z"
   },
   {
    "duration": 19,
    "start_time": "2022-05-24T19:19:13.596Z"
   },
   {
    "duration": 20,
    "start_time": "2022-05-24T19:19:13.616Z"
   },
   {
    "duration": 9,
    "start_time": "2022-05-24T19:19:13.637Z"
   },
   {
    "duration": 48,
    "start_time": "2022-05-24T19:19:13.647Z"
   },
   {
    "duration": 21,
    "start_time": "2022-05-24T19:19:13.696Z"
   },
   {
    "duration": 17,
    "start_time": "2022-05-24T19:19:13.718Z"
   },
   {
    "duration": 10,
    "start_time": "2022-05-24T19:19:13.737Z"
   },
   {
    "duration": 37,
    "start_time": "2022-05-24T19:19:13.748Z"
   },
   {
    "duration": 6,
    "start_time": "2022-05-24T19:19:13.786Z"
   },
   {
    "duration": 15,
    "start_time": "2022-05-24T19:19:13.793Z"
   },
   {
    "duration": 4,
    "start_time": "2022-05-24T19:19:13.809Z"
   },
   {
    "duration": 105,
    "start_time": "2022-05-24T19:19:13.814Z"
   },
   {
    "duration": 6,
    "start_time": "2022-05-24T19:19:13.921Z"
   },
   {
    "duration": 5,
    "start_time": "2022-05-24T19:19:13.928Z"
   },
   {
    "duration": 96,
    "start_time": "2022-05-24T19:19:13.935Z"
   },
   {
    "duration": 14,
    "start_time": "2022-05-24T19:19:14.032Z"
   },
   {
    "duration": 6,
    "start_time": "2022-05-24T19:19:14.048Z"
   },
   {
    "duration": 88,
    "start_time": "2022-05-24T19:19:14.055Z"
   },
   {
    "duration": 3,
    "start_time": "2022-05-24T19:19:14.144Z"
   },
   {
    "duration": 126,
    "start_time": "2022-05-24T19:19:14.149Z"
   },
   {
    "duration": 10,
    "start_time": "2022-05-24T19:19:14.277Z"
   },
   {
    "duration": 12,
    "start_time": "2022-05-24T19:19:14.288Z"
   },
   {
    "duration": 8,
    "start_time": "2022-05-24T19:19:14.302Z"
   },
   {
    "duration": 39,
    "start_time": "2022-05-24T19:19:14.311Z"
   },
   {
    "duration": 877,
    "start_time": "2022-05-24T19:19:14.351Z"
   },
   {
    "duration": 568,
    "start_time": "2022-05-24T19:19:15.230Z"
   },
   {
    "duration": 593,
    "start_time": "2022-05-24T19:19:15.799Z"
   },
   {
    "duration": 29,
    "start_time": "2022-05-24T19:19:16.393Z"
   },
   {
    "duration": 9,
    "start_time": "2022-05-24T19:19:16.423Z"
   },
   {
    "duration": 10,
    "start_time": "2022-05-24T19:19:16.434Z"
   },
   {
    "duration": 4,
    "start_time": "2022-05-24T19:19:44.284Z"
   },
   {
    "duration": 199,
    "start_time": "2022-05-24T19:19:44.291Z"
   },
   {
    "duration": 25,
    "start_time": "2022-05-24T19:19:44.492Z"
   },
   {
    "duration": 140,
    "start_time": "2022-05-24T19:19:44.519Z"
   },
   {
    "duration": 23,
    "start_time": "2022-05-24T19:19:44.661Z"
   },
   {
    "duration": 7,
    "start_time": "2022-05-24T19:19:44.685Z"
   },
   {
    "duration": 96,
    "start_time": "2022-05-24T19:19:44.693Z"
   },
   {
    "duration": 19,
    "start_time": "2022-05-24T19:19:44.790Z"
   },
   {
    "duration": 18,
    "start_time": "2022-05-24T19:19:44.812Z"
   },
   {
    "duration": 10,
    "start_time": "2022-05-24T19:19:44.832Z"
   },
   {
    "duration": 37,
    "start_time": "2022-05-24T19:19:44.844Z"
   },
   {
    "duration": 13,
    "start_time": "2022-05-24T19:19:44.882Z"
   },
   {
    "duration": 117,
    "start_time": "2022-05-24T19:19:44.897Z"
   },
   {
    "duration": 5,
    "start_time": "2022-05-24T19:19:45.016Z"
   },
   {
    "duration": 61,
    "start_time": "2022-05-24T19:19:45.023Z"
   },
   {
    "duration": 54,
    "start_time": "2022-05-24T19:19:45.087Z"
   },
   {
    "duration": 27,
    "start_time": "2022-05-24T19:19:45.143Z"
   },
   {
    "duration": 30,
    "start_time": "2022-05-24T19:19:45.176Z"
   },
   {
    "duration": 18,
    "start_time": "2022-05-24T19:19:45.207Z"
   },
   {
    "duration": 4,
    "start_time": "2022-05-24T19:19:45.226Z"
   },
   {
    "duration": 7,
    "start_time": "2022-05-24T19:19:45.231Z"
   },
   {
    "duration": 16,
    "start_time": "2022-05-24T19:19:45.239Z"
   },
   {
    "duration": 18,
    "start_time": "2022-05-24T19:19:45.275Z"
   },
   {
    "duration": 10,
    "start_time": "2022-05-24T19:19:45.296Z"
   },
   {
    "duration": 5,
    "start_time": "2022-05-24T19:19:45.307Z"
   },
   {
    "duration": 7,
    "start_time": "2022-05-24T19:19:45.314Z"
   },
   {
    "duration": 66,
    "start_time": "2022-05-24T19:19:45.322Z"
   },
   {
    "duration": 9,
    "start_time": "2022-05-24T19:19:45.390Z"
   },
   {
    "duration": 22,
    "start_time": "2022-05-24T19:19:45.400Z"
   },
   {
    "duration": 20,
    "start_time": "2022-05-24T19:19:45.424Z"
   },
   {
    "duration": 5,
    "start_time": "2022-05-24T19:19:45.445Z"
   },
   {
    "duration": 41,
    "start_time": "2022-05-24T19:19:45.451Z"
   },
   {
    "duration": 17,
    "start_time": "2022-05-24T19:19:45.494Z"
   },
   {
    "duration": 15,
    "start_time": "2022-05-24T19:19:45.513Z"
   },
   {
    "duration": 9,
    "start_time": "2022-05-24T19:19:45.529Z"
   },
   {
    "duration": 45,
    "start_time": "2022-05-24T19:19:45.539Z"
   },
   {
    "duration": 25,
    "start_time": "2022-05-24T19:19:45.585Z"
   },
   {
    "duration": 20,
    "start_time": "2022-05-24T19:19:45.612Z"
   },
   {
    "duration": 10,
    "start_time": "2022-05-24T19:19:45.633Z"
   },
   {
    "duration": 35,
    "start_time": "2022-05-24T19:19:45.645Z"
   },
   {
    "duration": 12,
    "start_time": "2022-05-24T19:19:45.681Z"
   },
   {
    "duration": 23,
    "start_time": "2022-05-24T19:19:45.695Z"
   },
   {
    "duration": 6,
    "start_time": "2022-05-24T19:19:45.719Z"
   },
   {
    "duration": 4,
    "start_time": "2022-05-24T19:19:45.727Z"
   },
   {
    "duration": 95,
    "start_time": "2022-05-24T19:19:45.732Z"
   },
   {
    "duration": 6,
    "start_time": "2022-05-24T19:19:45.829Z"
   },
   {
    "duration": 5,
    "start_time": "2022-05-24T19:19:45.836Z"
   },
   {
    "duration": 114,
    "start_time": "2022-05-24T19:19:45.842Z"
   },
   {
    "duration": 24,
    "start_time": "2022-05-24T19:19:45.958Z"
   },
   {
    "duration": 7,
    "start_time": "2022-05-24T19:19:45.984Z"
   },
   {
    "duration": 71,
    "start_time": "2022-05-24T19:19:45.992Z"
   },
   {
    "duration": 10,
    "start_time": "2022-05-24T19:19:46.065Z"
   },
   {
    "duration": 99,
    "start_time": "2022-05-24T19:19:46.076Z"
   },
   {
    "duration": 6,
    "start_time": "2022-05-24T19:19:46.177Z"
   },
   {
    "duration": 17,
    "start_time": "2022-05-24T19:19:46.185Z"
   },
   {
    "duration": 17,
    "start_time": "2022-05-24T19:19:46.203Z"
   },
   {
    "duration": 66,
    "start_time": "2022-05-24T19:19:46.222Z"
   },
   {
    "duration": 585,
    "start_time": "2022-05-24T19:19:46.290Z"
   },
   {
    "duration": 568,
    "start_time": "2022-05-24T19:19:46.876Z"
   },
   {
    "duration": 936,
    "start_time": "2022-05-24T19:19:47.446Z"
   },
   {
    "duration": 29,
    "start_time": "2022-05-24T19:19:48.388Z"
   },
   {
    "duration": 10,
    "start_time": "2022-05-24T19:19:48.418Z"
   },
   {
    "duration": 13,
    "start_time": "2022-05-24T19:19:48.429Z"
   },
   {
    "duration": 3,
    "start_time": "2022-05-24T19:20:04.447Z"
   },
   {
    "duration": 184,
    "start_time": "2022-05-24T19:20:04.451Z"
   },
   {
    "duration": 49,
    "start_time": "2022-05-24T19:20:04.637Z"
   },
   {
    "duration": 133,
    "start_time": "2022-05-24T19:20:04.688Z"
   },
   {
    "duration": 24,
    "start_time": "2022-05-24T19:20:04.822Z"
   },
   {
    "duration": 6,
    "start_time": "2022-05-24T19:20:04.848Z"
   },
   {
    "duration": 106,
    "start_time": "2022-05-24T19:20:04.855Z"
   },
   {
    "duration": 19,
    "start_time": "2022-05-24T19:20:04.963Z"
   },
   {
    "duration": 18,
    "start_time": "2022-05-24T19:20:04.985Z"
   },
   {
    "duration": 10,
    "start_time": "2022-05-24T19:20:05.005Z"
   },
   {
    "duration": 34,
    "start_time": "2022-05-24T19:20:05.028Z"
   },
   {
    "duration": 11,
    "start_time": "2022-05-24T19:20:05.064Z"
   },
   {
    "duration": 109,
    "start_time": "2022-05-24T19:20:05.077Z"
   },
   {
    "duration": 7,
    "start_time": "2022-05-24T19:20:05.189Z"
   },
   {
    "duration": 42,
    "start_time": "2022-05-24T19:20:05.197Z"
   },
   {
    "duration": 73,
    "start_time": "2022-05-24T19:20:05.240Z"
   },
   {
    "duration": 28,
    "start_time": "2022-05-24T19:20:05.315Z"
   },
   {
    "duration": 41,
    "start_time": "2022-05-24T19:20:05.344Z"
   },
   {
    "duration": 20,
    "start_time": "2022-05-24T19:20:05.387Z"
   },
   {
    "duration": 4,
    "start_time": "2022-05-24T19:20:05.408Z"
   },
   {
    "duration": 6,
    "start_time": "2022-05-24T19:20:05.414Z"
   },
   {
    "duration": 23,
    "start_time": "2022-05-24T19:20:05.422Z"
   },
   {
    "duration": 20,
    "start_time": "2022-05-24T19:20:05.446Z"
   },
   {
    "duration": 9,
    "start_time": "2022-05-24T19:20:05.470Z"
   },
   {
    "duration": 28,
    "start_time": "2022-05-24T19:20:05.481Z"
   },
   {
    "duration": 8,
    "start_time": "2022-05-24T19:20:05.510Z"
   },
   {
    "duration": 73,
    "start_time": "2022-05-24T19:20:05.520Z"
   },
   {
    "duration": 8,
    "start_time": "2022-05-24T19:20:05.595Z"
   },
   {
    "duration": 28,
    "start_time": "2022-05-24T19:20:05.605Z"
   },
   {
    "duration": 45,
    "start_time": "2022-05-24T19:20:05.635Z"
   },
   {
    "duration": 6,
    "start_time": "2022-05-24T19:20:05.681Z"
   },
   {
    "duration": 38,
    "start_time": "2022-05-24T19:20:05.692Z"
   },
   {
    "duration": 19,
    "start_time": "2022-05-24T19:20:05.731Z"
   },
   {
    "duration": 42,
    "start_time": "2022-05-24T19:20:05.751Z"
   },
   {
    "duration": 11,
    "start_time": "2022-05-24T19:20:05.794Z"
   },
   {
    "duration": 29,
    "start_time": "2022-05-24T19:20:05.806Z"
   },
   {
    "duration": 19,
    "start_time": "2022-05-24T19:20:05.837Z"
   },
   {
    "duration": 37,
    "start_time": "2022-05-24T19:20:05.857Z"
   },
   {
    "duration": 11,
    "start_time": "2022-05-24T19:20:05.895Z"
   },
   {
    "duration": 26,
    "start_time": "2022-05-24T19:20:05.907Z"
   },
   {
    "duration": 10,
    "start_time": "2022-05-24T19:20:05.934Z"
   },
   {
    "duration": 20,
    "start_time": "2022-05-24T19:20:05.945Z"
   },
   {
    "duration": 15,
    "start_time": "2022-05-24T19:20:05.966Z"
   },
   {
    "duration": 24,
    "start_time": "2022-05-24T19:20:05.982Z"
   },
   {
    "duration": 86,
    "start_time": "2022-05-24T19:20:06.008Z"
   },
   {
    "duration": 7,
    "start_time": "2022-05-24T19:20:06.096Z"
   },
   {
    "duration": 15,
    "start_time": "2022-05-24T19:20:06.104Z"
   },
   {
    "duration": 79,
    "start_time": "2022-05-24T19:20:06.120Z"
   },
   {
    "duration": 15,
    "start_time": "2022-05-24T19:20:06.200Z"
   },
   {
    "duration": 27,
    "start_time": "2022-05-24T19:20:06.217Z"
   },
   {
    "duration": 100,
    "start_time": "2022-05-24T19:20:06.245Z"
   },
   {
    "duration": 3,
    "start_time": "2022-05-24T19:20:06.347Z"
   },
   {
    "duration": 115,
    "start_time": "2022-05-24T19:20:06.352Z"
   },
   {
    "duration": 8,
    "start_time": "2022-05-24T19:20:06.475Z"
   },
   {
    "duration": 15,
    "start_time": "2022-05-24T19:20:06.485Z"
   },
   {
    "duration": 20,
    "start_time": "2022-05-24T19:20:06.501Z"
   },
   {
    "duration": 44,
    "start_time": "2022-05-24T19:20:06.523Z"
   },
   {
    "duration": 589,
    "start_time": "2022-05-24T19:20:06.568Z"
   },
   {
    "duration": 571,
    "start_time": "2022-05-24T19:20:07.159Z"
   },
   {
    "duration": 607,
    "start_time": "2022-05-24T19:20:07.731Z"
   },
   {
    "duration": 44,
    "start_time": "2022-05-24T19:20:08.339Z"
   },
   {
    "duration": 14,
    "start_time": "2022-05-24T19:20:08.389Z"
   },
   {
    "duration": 11,
    "start_time": "2022-05-24T19:20:08.405Z"
   },
   {
    "duration": 6,
    "start_time": "2022-05-24T20:26:46.655Z"
   },
   {
    "duration": 4,
    "start_time": "2022-05-24T20:26:51.513Z"
   },
   {
    "duration": 8,
    "start_time": "2022-05-24T20:26:52.854Z"
   },
   {
    "duration": 71,
    "start_time": "2022-05-24T20:33:23.202Z"
   },
   {
    "duration": 4,
    "start_time": "2022-05-24T20:33:24.853Z"
   },
   {
    "duration": 93,
    "start_time": "2022-05-24T20:33:25.372Z"
   },
   {
    "duration": 7,
    "start_time": "2022-05-24T20:33:26.670Z"
   },
   {
    "duration": 5,
    "start_time": "2022-05-24T20:33:27.617Z"
   },
   {
    "duration": 7,
    "start_time": "2022-05-24T20:33:28.245Z"
   },
   {
    "duration": 7,
    "start_time": "2022-05-24T20:33:32.444Z"
   },
   {
    "duration": 40,
    "start_time": "2022-05-24T20:33:38.949Z"
   },
   {
    "duration": 17,
    "start_time": "2022-05-24T20:34:10.223Z"
   },
   {
    "duration": 41,
    "start_time": "2022-05-24T20:44:05.717Z"
   },
   {
    "duration": 47,
    "start_time": "2022-05-24T21:11:16.695Z"
   },
   {
    "duration": 33,
    "start_time": "2022-05-24T21:11:38.355Z"
   },
   {
    "duration": 16,
    "start_time": "2022-05-24T21:11:47.961Z"
   },
   {
    "duration": 90,
    "start_time": "2022-05-24T21:12:18.142Z"
   },
   {
    "duration": 18,
    "start_time": "2022-05-24T21:12:49.492Z"
   },
   {
    "duration": 9,
    "start_time": "2022-05-24T21:13:30.015Z"
   },
   {
    "duration": 109,
    "start_time": "2022-05-24T21:13:43.875Z"
   },
   {
    "duration": 106,
    "start_time": "2022-05-24T21:14:33.621Z"
   },
   {
    "duration": 40931,
    "start_time": "2022-05-24T21:15:28.855Z"
   },
   {
    "duration": 5,
    "start_time": "2022-05-24T21:16:09.907Z"
   },
   {
    "duration": 363,
    "start_time": "2022-05-24T21:16:09.913Z"
   },
   {
    "duration": 29,
    "start_time": "2022-05-24T21:16:10.277Z"
   },
   {
    "duration": 159,
    "start_time": "2022-05-24T21:16:10.307Z"
   },
   {
    "duration": 27,
    "start_time": "2022-05-24T21:16:10.468Z"
   },
   {
    "duration": 6,
    "start_time": "2022-05-24T21:16:10.498Z"
   },
   {
    "duration": 93,
    "start_time": "2022-05-24T21:16:10.506Z"
   },
   {
    "duration": 28,
    "start_time": "2022-05-24T21:16:10.601Z"
   },
   {
    "duration": 22,
    "start_time": "2022-05-24T21:16:10.631Z"
   },
   {
    "duration": 32,
    "start_time": "2022-05-24T21:16:10.654Z"
   },
   {
    "duration": 39,
    "start_time": "2022-05-24T21:16:10.689Z"
   },
   {
    "duration": 11,
    "start_time": "2022-05-24T21:16:10.730Z"
   },
   {
    "duration": 103,
    "start_time": "2022-05-24T21:16:10.742Z"
   },
   {
    "duration": 6,
    "start_time": "2022-05-24T21:16:10.847Z"
   },
   {
    "duration": 52,
    "start_time": "2022-05-24T21:16:10.854Z"
   },
   {
    "duration": 55,
    "start_time": "2022-05-24T21:16:10.907Z"
   },
   {
    "duration": 35,
    "start_time": "2022-05-24T21:16:10.964Z"
   },
   {
    "duration": 22,
    "start_time": "2022-05-24T21:16:11.001Z"
   },
   {
    "duration": 17,
    "start_time": "2022-05-24T21:16:11.025Z"
   },
   {
    "duration": 4,
    "start_time": "2022-05-24T21:16:11.044Z"
   },
   {
    "duration": 28,
    "start_time": "2022-05-24T21:16:11.049Z"
   },
   {
    "duration": 18,
    "start_time": "2022-05-24T21:16:11.078Z"
   },
   {
    "duration": 11,
    "start_time": "2022-05-24T21:16:11.098Z"
   },
   {
    "duration": 9,
    "start_time": "2022-05-24T21:16:11.113Z"
   },
   {
    "duration": 6,
    "start_time": "2022-05-24T21:16:11.123Z"
   },
   {
    "duration": 7,
    "start_time": "2022-05-24T21:16:11.130Z"
   },
   {
    "duration": 78,
    "start_time": "2022-05-24T21:16:11.139Z"
   },
   {
    "duration": 8,
    "start_time": "2022-05-24T21:16:11.219Z"
   },
   {
    "duration": 23,
    "start_time": "2022-05-24T21:16:11.228Z"
   },
   {
    "duration": 38,
    "start_time": "2022-05-24T21:16:11.252Z"
   },
   {
    "duration": 5,
    "start_time": "2022-05-24T21:16:11.292Z"
   },
   {
    "duration": 20,
    "start_time": "2022-05-24T21:16:11.298Z"
   },
   {
    "duration": 17,
    "start_time": "2022-05-24T21:16:11.319Z"
   },
   {
    "duration": 37,
    "start_time": "2022-05-24T21:16:11.338Z"
   },
   {
    "duration": 9,
    "start_time": "2022-05-24T21:16:11.377Z"
   },
   {
    "duration": 24,
    "start_time": "2022-05-24T21:16:11.388Z"
   },
   {
    "duration": 16,
    "start_time": "2022-05-24T21:16:11.414Z"
   },
   {
    "duration": 19,
    "start_time": "2022-05-24T21:16:11.432Z"
   },
   {
    "duration": 12,
    "start_time": "2022-05-24T21:16:11.475Z"
   },
   {
    "duration": 14,
    "start_time": "2022-05-24T21:16:11.489Z"
   },
   {
    "duration": 14,
    "start_time": "2022-05-24T21:16:11.505Z"
   },
   {
    "duration": 4,
    "start_time": "2022-05-24T21:16:11.521Z"
   },
   {
    "duration": 116,
    "start_time": "2022-05-24T21:16:11.526Z"
   },
   {
    "duration": 6,
    "start_time": "2022-05-24T21:16:11.644Z"
   },
   {
    "duration": 5,
    "start_time": "2022-05-24T21:16:11.652Z"
   },
   {
    "duration": 87,
    "start_time": "2022-05-24T21:16:11.674Z"
   },
   {
    "duration": 25,
    "start_time": "2022-05-24T21:16:11.763Z"
   },
   {
    "duration": 5,
    "start_time": "2022-05-24T21:16:11.789Z"
   },
   {
    "duration": 90,
    "start_time": "2022-05-24T21:16:11.796Z"
   },
   {
    "duration": 4,
    "start_time": "2022-05-24T21:16:11.887Z"
   },
   {
    "duration": 103,
    "start_time": "2022-05-24T21:16:11.892Z"
   },
   {
    "duration": 6,
    "start_time": "2022-05-24T21:16:12.004Z"
   },
   {
    "duration": 7,
    "start_time": "2022-05-24T21:16:12.012Z"
   },
   {
    "duration": 8,
    "start_time": "2022-05-24T21:16:12.020Z"
   },
   {
    "duration": 57,
    "start_time": "2022-05-24T21:16:12.029Z"
   },
   {
    "duration": 563,
    "start_time": "2022-05-24T21:16:12.088Z"
   },
   {
    "duration": 906,
    "start_time": "2022-05-24T21:16:12.653Z"
   },
   {
    "duration": 549,
    "start_time": "2022-05-24T21:16:13.561Z"
   },
   {
    "duration": 28,
    "start_time": "2022-05-24T21:16:14.111Z"
   },
   {
    "duration": 11,
    "start_time": "2022-05-24T21:16:14.141Z"
   },
   {
    "duration": 22,
    "start_time": "2022-05-24T21:16:14.154Z"
   },
   {
    "duration": 8,
    "start_time": "2022-05-24T21:16:14.177Z"
   },
   {
    "duration": 6,
    "start_time": "2022-05-24T21:16:41.445Z"
   },
   {
    "duration": 44,
    "start_time": "2022-05-24T21:16:43.034Z"
   },
   {
    "duration": 42,
    "start_time": "2022-05-24T21:16:48.682Z"
   },
   {
    "duration": 42,
    "start_time": "2022-05-24T21:16:59.431Z"
   },
   {
    "duration": 41179,
    "start_time": "2022-05-24T21:17:05.478Z"
   },
   {
    "duration": 22,
    "start_time": "2022-05-24T21:17:46.660Z"
   },
   {
    "duration": 6,
    "start_time": "2022-05-24T21:20:19.542Z"
   },
   {
    "duration": 45,
    "start_time": "2022-05-24T21:20:20.819Z"
   },
   {
    "duration": 609,
    "start_time": "2022-05-24T21:20:27.674Z"
   },
   {
    "duration": 667,
    "start_time": "2022-05-24T21:20:42.643Z"
   },
   {
    "duration": 580,
    "start_time": "2022-05-24T21:20:44.721Z"
   },
   {
    "duration": 29,
    "start_time": "2022-05-24T21:20:51.445Z"
   },
   {
    "duration": 10,
    "start_time": "2022-05-24T21:21:03.081Z"
   },
   {
    "duration": 11,
    "start_time": "2022-05-24T21:21:06.828Z"
   },
   {
    "duration": 23,
    "start_time": "2022-05-24T21:29:03.707Z"
   },
   {
    "duration": 28,
    "start_time": "2022-05-24T21:29:18.484Z"
   },
   {
    "duration": 4,
    "start_time": "2022-05-24T21:30:25.964Z"
   },
   {
    "duration": 8,
    "start_time": "2022-05-24T21:30:34.227Z"
   },
   {
    "duration": 4,
    "start_time": "2022-05-24T21:30:40.218Z"
   },
   {
    "duration": 5,
    "start_time": "2022-05-24T21:32:16.908Z"
   },
   {
    "duration": 5,
    "start_time": "2022-05-24T21:32:25.176Z"
   },
   {
    "duration": 3,
    "start_time": "2022-05-24T21:32:35.347Z"
   },
   {
    "duration": 3,
    "start_time": "2022-05-24T21:32:50.452Z"
   },
   {
    "duration": 3,
    "start_time": "2022-05-24T21:32:50.634Z"
   },
   {
    "duration": 4,
    "start_time": "2022-05-24T21:33:40.919Z"
   },
   {
    "duration": 4,
    "start_time": "2022-05-24T21:37:33.702Z"
   },
   {
    "duration": 4,
    "start_time": "2022-05-24T21:37:33.905Z"
   },
   {
    "duration": 3,
    "start_time": "2022-05-24T21:38:29.325Z"
   },
   {
    "duration": 3,
    "start_time": "2022-05-24T21:38:29.515Z"
   },
   {
    "duration": 10,
    "start_time": "2022-05-24T21:59:25.745Z"
   },
   {
    "duration": 10,
    "start_time": "2022-05-24T21:59:36.584Z"
   },
   {
    "duration": 3,
    "start_time": "2022-05-24T22:03:47.814Z"
   },
   {
    "duration": 191,
    "start_time": "2022-05-24T22:03:47.819Z"
   },
   {
    "duration": 33,
    "start_time": "2022-05-24T22:03:48.011Z"
   },
   {
    "duration": 159,
    "start_time": "2022-05-24T22:03:48.045Z"
   },
   {
    "duration": 32,
    "start_time": "2022-05-24T22:03:48.206Z"
   },
   {
    "duration": 11,
    "start_time": "2022-05-24T22:03:48.240Z"
   },
   {
    "duration": 94,
    "start_time": "2022-05-24T22:03:48.252Z"
   },
   {
    "duration": 35,
    "start_time": "2022-05-24T22:03:48.348Z"
   },
   {
    "duration": 20,
    "start_time": "2022-05-24T22:03:48.384Z"
   },
   {
    "duration": 13,
    "start_time": "2022-05-24T22:03:48.405Z"
   },
   {
    "duration": 33,
    "start_time": "2022-05-24T22:03:48.420Z"
   },
   {
    "duration": 13,
    "start_time": "2022-05-24T22:03:48.454Z"
   },
   {
    "duration": 94,
    "start_time": "2022-05-24T22:03:48.474Z"
   },
   {
    "duration": 5,
    "start_time": "2022-05-24T22:03:48.574Z"
   },
   {
    "duration": 42,
    "start_time": "2022-05-24T22:03:48.581Z"
   },
   {
    "duration": 79,
    "start_time": "2022-05-24T22:03:48.624Z"
   },
   {
    "duration": 30,
    "start_time": "2022-05-24T22:03:48.704Z"
   },
   {
    "duration": 39,
    "start_time": "2022-05-24T22:03:48.736Z"
   },
   {
    "duration": 19,
    "start_time": "2022-05-24T22:03:48.776Z"
   },
   {
    "duration": 4,
    "start_time": "2022-05-24T22:03:48.797Z"
   },
   {
    "duration": 7,
    "start_time": "2022-05-24T22:03:48.803Z"
   },
   {
    "duration": 18,
    "start_time": "2022-05-24T22:03:48.811Z"
   },
   {
    "duration": 14,
    "start_time": "2022-05-24T22:03:48.830Z"
   },
   {
    "duration": 34,
    "start_time": "2022-05-24T22:03:48.845Z"
   },
   {
    "duration": 7,
    "start_time": "2022-05-24T22:03:48.881Z"
   },
   {
    "duration": 7,
    "start_time": "2022-05-24T22:03:48.890Z"
   },
   {
    "duration": 76,
    "start_time": "2022-05-24T22:03:48.899Z"
   },
   {
    "duration": 11,
    "start_time": "2022-05-24T22:03:48.977Z"
   },
   {
    "duration": 22,
    "start_time": "2022-05-24T22:03:48.990Z"
   },
   {
    "duration": 22,
    "start_time": "2022-05-24T22:03:49.013Z"
   },
   {
    "duration": 8,
    "start_time": "2022-05-24T22:03:49.036Z"
   },
   {
    "duration": 23,
    "start_time": "2022-05-24T22:03:49.074Z"
   },
   {
    "duration": 17,
    "start_time": "2022-05-24T22:03:49.099Z"
   },
   {
    "duration": 17,
    "start_time": "2022-05-24T22:03:49.118Z"
   },
   {
    "duration": 39,
    "start_time": "2022-05-24T22:03:49.137Z"
   },
   {
    "duration": 25,
    "start_time": "2022-05-24T22:03:49.177Z"
   },
   {
    "duration": 23,
    "start_time": "2022-05-24T22:03:49.204Z"
   },
   {
    "duration": 47,
    "start_time": "2022-05-24T22:03:49.229Z"
   },
   {
    "duration": 13,
    "start_time": "2022-05-24T22:03:49.277Z"
   },
   {
    "duration": 19,
    "start_time": "2022-05-24T22:03:49.291Z"
   },
   {
    "duration": 17,
    "start_time": "2022-05-24T22:03:49.314Z"
   },
   {
    "duration": 4,
    "start_time": "2022-05-24T22:03:49.332Z"
   },
   {
    "duration": 103,
    "start_time": "2022-05-24T22:03:49.338Z"
   },
   {
    "duration": 7,
    "start_time": "2022-05-24T22:03:49.443Z"
   },
   {
    "duration": 4,
    "start_time": "2022-05-24T22:03:49.452Z"
   },
   {
    "duration": 89,
    "start_time": "2022-05-24T22:03:49.457Z"
   },
   {
    "duration": 15,
    "start_time": "2022-05-24T22:03:49.547Z"
   },
   {
    "duration": 6,
    "start_time": "2022-05-24T22:03:49.574Z"
   },
   {
    "duration": 94,
    "start_time": "2022-05-24T22:03:49.582Z"
   },
   {
    "duration": 3,
    "start_time": "2022-05-24T22:03:49.678Z"
   },
   {
    "duration": 100,
    "start_time": "2022-05-24T22:03:49.682Z"
   },
   {
    "duration": 6,
    "start_time": "2022-05-24T22:03:49.784Z"
   },
   {
    "duration": 9,
    "start_time": "2022-05-24T22:03:49.791Z"
   },
   {
    "duration": 7,
    "start_time": "2022-05-24T22:03:49.802Z"
   },
   {
    "duration": 5,
    "start_time": "2022-05-24T22:03:49.811Z"
   },
   {
    "duration": 61,
    "start_time": "2022-05-24T22:03:49.817Z"
   },
   {
    "duration": 607,
    "start_time": "2022-05-24T22:03:49.880Z"
   },
   {
    "duration": 594,
    "start_time": "2022-05-24T22:03:50.488Z"
   },
   {
    "duration": 572,
    "start_time": "2022-05-24T22:03:51.084Z"
   },
   {
    "duration": 31,
    "start_time": "2022-05-24T22:03:51.658Z"
   },
   {
    "duration": 11,
    "start_time": "2022-05-24T22:03:51.691Z"
   },
   {
    "duration": 12,
    "start_time": "2022-05-24T22:03:51.704Z"
   },
   {
    "duration": 58,
    "start_time": "2022-05-24T22:03:51.718Z"
   },
   {
    "duration": 3,
    "start_time": "2022-05-24T22:03:51.778Z"
   },
   {
    "duration": 7,
    "start_time": "2022-05-24T22:03:51.782Z"
   },
   {
    "duration": 47,
    "start_time": "2022-05-24T22:03:51.790Z"
   },
   {
    "duration": 0,
    "start_time": "2022-05-24T22:03:51.838Z"
   },
   {
    "duration": 48,
    "start_time": "2022-05-24T22:04:05.251Z"
   },
   {
    "duration": 957,
    "start_time": "2022-05-24T22:04:35.344Z"
   },
   {
    "duration": 594,
    "start_time": "2022-05-24T22:11:56.644Z"
   },
   {
    "duration": 565,
    "start_time": "2022-05-24T22:17:52.681Z"
   },
   {
    "duration": 30,
    "start_time": "2022-05-24T22:18:03.940Z"
   },
   {
    "duration": 10,
    "start_time": "2022-05-24T22:18:07.616Z"
   },
   {
    "duration": 14,
    "start_time": "2022-05-24T22:18:13.646Z"
   },
   {
    "duration": 28,
    "start_time": "2022-05-24T22:18:14.400Z"
   },
   {
    "duration": 3,
    "start_time": "2022-05-24T22:18:14.604Z"
   },
   {
    "duration": 3,
    "start_time": "2022-05-24T22:18:14.794Z"
   },
   {
    "duration": 1229,
    "start_time": "2022-05-24T23:22:25.584Z"
   },
   {
    "duration": 237,
    "start_time": "2022-05-24T23:22:26.816Z"
   },
   {
    "duration": 24,
    "start_time": "2022-05-24T23:22:27.055Z"
   },
   {
    "duration": 314,
    "start_time": "2022-05-24T23:22:27.081Z"
   },
   {
    "duration": 22,
    "start_time": "2022-05-24T23:22:27.397Z"
   },
   {
    "duration": 11,
    "start_time": "2022-05-24T23:22:27.420Z"
   },
   {
    "duration": 322,
    "start_time": "2022-05-24T23:22:27.432Z"
   },
   {
    "duration": 18,
    "start_time": "2022-05-24T23:22:27.756Z"
   },
   {
    "duration": 61,
    "start_time": "2022-05-24T23:22:27.776Z"
   },
   {
    "duration": 11,
    "start_time": "2022-05-24T23:22:27.840Z"
   },
   {
    "duration": 75,
    "start_time": "2022-05-24T23:22:27.853Z"
   },
   {
    "duration": 11,
    "start_time": "2022-05-24T23:22:27.930Z"
   },
   {
    "duration": 120,
    "start_time": "2022-05-24T23:22:27.942Z"
   },
   {
    "duration": 6,
    "start_time": "2022-05-24T23:22:28.063Z"
   },
   {
    "duration": 63,
    "start_time": "2022-05-24T23:22:28.070Z"
   },
   {
    "duration": 70,
    "start_time": "2022-05-24T23:22:28.134Z"
   },
   {
    "duration": 44,
    "start_time": "2022-05-24T23:22:28.205Z"
   },
   {
    "duration": 23,
    "start_time": "2022-05-24T23:22:28.250Z"
   },
   {
    "duration": 18,
    "start_time": "2022-05-24T23:22:28.275Z"
   },
   {
    "duration": 5,
    "start_time": "2022-05-24T23:22:28.294Z"
   },
   {
    "duration": 27,
    "start_time": "2022-05-24T23:22:28.300Z"
   },
   {
    "duration": 16,
    "start_time": "2022-05-24T23:22:28.328Z"
   },
   {
    "duration": 12,
    "start_time": "2022-05-24T23:22:28.345Z"
   },
   {
    "duration": 12,
    "start_time": "2022-05-24T23:22:28.359Z"
   },
   {
    "duration": 6,
    "start_time": "2022-05-24T23:22:28.373Z"
   },
   {
    "duration": 14,
    "start_time": "2022-05-24T23:22:28.381Z"
   },
   {
    "duration": 78,
    "start_time": "2022-05-24T23:22:28.396Z"
   },
   {
    "duration": 8,
    "start_time": "2022-05-24T23:22:28.478Z"
   },
   {
    "duration": 23,
    "start_time": "2022-05-24T23:22:28.487Z"
   },
   {
    "duration": 31,
    "start_time": "2022-05-24T23:22:28.511Z"
   },
   {
    "duration": 7,
    "start_time": "2022-05-24T23:22:28.543Z"
   },
   {
    "duration": 36,
    "start_time": "2022-05-24T23:22:28.551Z"
   },
   {
    "duration": 39,
    "start_time": "2022-05-24T23:22:28.588Z"
   },
   {
    "duration": 19,
    "start_time": "2022-05-24T23:22:28.628Z"
   },
   {
    "duration": 10,
    "start_time": "2022-05-24T23:22:28.648Z"
   },
   {
    "duration": 27,
    "start_time": "2022-05-24T23:22:28.659Z"
   },
   {
    "duration": 38,
    "start_time": "2022-05-24T23:22:28.688Z"
   },
   {
    "duration": 16,
    "start_time": "2022-05-24T23:22:28.728Z"
   },
   {
    "duration": 10,
    "start_time": "2022-05-24T23:22:28.746Z"
   },
   {
    "duration": 18,
    "start_time": "2022-05-24T23:22:28.758Z"
   },
   {
    "duration": 21,
    "start_time": "2022-05-24T23:22:28.777Z"
   },
   {
    "duration": 3,
    "start_time": "2022-05-24T23:22:28.800Z"
   },
   {
    "duration": 70,
    "start_time": "2022-05-24T23:22:28.825Z"
   },
   {
    "duration": 5,
    "start_time": "2022-05-24T23:22:28.897Z"
   },
   {
    "duration": 5,
    "start_time": "2022-05-24T23:22:28.904Z"
   },
   {
    "duration": 86,
    "start_time": "2022-05-24T23:22:28.910Z"
   },
   {
    "duration": 14,
    "start_time": "2022-05-24T23:22:28.998Z"
   },
   {
    "duration": 5,
    "start_time": "2022-05-24T23:22:29.026Z"
   },
   {
    "duration": 77,
    "start_time": "2022-05-24T23:22:29.032Z"
   },
   {
    "duration": 4,
    "start_time": "2022-05-24T23:22:29.111Z"
   },
   {
    "duration": 91,
    "start_time": "2022-05-24T23:22:29.125Z"
   },
   {
    "duration": 6,
    "start_time": "2022-05-24T23:22:29.226Z"
   },
   {
    "duration": 6,
    "start_time": "2022-05-24T23:22:29.233Z"
   },
   {
    "duration": 9,
    "start_time": "2022-05-24T23:22:29.241Z"
   },
   {
    "duration": 16,
    "start_time": "2022-05-24T23:22:29.252Z"
   },
   {
    "duration": 47,
    "start_time": "2022-05-24T23:22:29.269Z"
   },
   {
    "duration": 647,
    "start_time": "2022-05-24T23:22:29.318Z"
   },
   {
    "duration": 560,
    "start_time": "2022-05-24T23:22:29.967Z"
   },
   {
    "duration": 567,
    "start_time": "2022-05-24T23:22:30.529Z"
   },
   {
    "duration": 40,
    "start_time": "2022-05-24T23:22:31.098Z"
   },
   {
    "duration": 10,
    "start_time": "2022-05-24T23:22:31.140Z"
   },
   {
    "duration": 25,
    "start_time": "2022-05-24T23:22:31.151Z"
   },
   {
    "duration": 36,
    "start_time": "2022-05-24T23:22:31.178Z"
   },
   {
    "duration": 3,
    "start_time": "2022-05-24T23:22:31.216Z"
   },
   {
    "duration": 14,
    "start_time": "2022-05-24T23:22:31.220Z"
   },
   {
    "duration": 1476,
    "start_time": "2022-05-25T16:55:48.694Z"
   },
   {
    "duration": 1200,
    "start_time": "2022-05-25T16:55:50.172Z"
   },
   {
    "duration": 29,
    "start_time": "2022-05-25T16:55:51.374Z"
   },
   {
    "duration": 504,
    "start_time": "2022-05-25T16:55:51.404Z"
   },
   {
    "duration": 41,
    "start_time": "2022-05-25T16:55:51.909Z"
   },
   {
    "duration": 8,
    "start_time": "2022-05-25T16:55:51.951Z"
   },
   {
    "duration": 182,
    "start_time": "2022-05-25T16:55:51.960Z"
   },
   {
    "duration": 17,
    "start_time": "2022-05-25T16:55:52.144Z"
   },
   {
    "duration": 54,
    "start_time": "2022-05-25T16:55:52.163Z"
   },
   {
    "duration": 20,
    "start_time": "2022-05-25T16:55:52.218Z"
   },
   {
    "duration": 71,
    "start_time": "2022-05-25T16:55:52.239Z"
   },
   {
    "duration": 16,
    "start_time": "2022-05-25T16:55:52.311Z"
   },
   {
    "duration": 128,
    "start_time": "2022-05-25T16:55:52.331Z"
   },
   {
    "duration": 5,
    "start_time": "2022-05-25T16:55:52.463Z"
   },
   {
    "duration": 72,
    "start_time": "2022-05-25T16:55:52.470Z"
   },
   {
    "duration": 94,
    "start_time": "2022-05-25T16:55:52.544Z"
   },
   {
    "duration": 29,
    "start_time": "2022-05-25T16:55:52.640Z"
   },
   {
    "duration": 23,
    "start_time": "2022-05-25T16:55:52.670Z"
   },
   {
    "duration": 37,
    "start_time": "2022-05-25T16:55:52.694Z"
   },
   {
    "duration": 5,
    "start_time": "2022-05-25T16:55:52.740Z"
   },
   {
    "duration": 6,
    "start_time": "2022-05-25T16:55:52.746Z"
   },
   {
    "duration": 17,
    "start_time": "2022-05-25T16:55:52.753Z"
   },
   {
    "duration": 10,
    "start_time": "2022-05-25T16:55:52.771Z"
   },
   {
    "duration": 10,
    "start_time": "2022-05-25T16:55:52.782Z"
   },
   {
    "duration": 26,
    "start_time": "2022-05-25T16:55:52.793Z"
   },
   {
    "duration": 25,
    "start_time": "2022-05-25T16:55:52.821Z"
   },
   {
    "duration": 51,
    "start_time": "2022-05-25T16:55:52.848Z"
   },
   {
    "duration": 8,
    "start_time": "2022-05-25T16:55:52.901Z"
   },
   {
    "duration": 44,
    "start_time": "2022-05-25T16:55:52.910Z"
   },
   {
    "duration": 22,
    "start_time": "2022-05-25T16:55:52.955Z"
   },
   {
    "duration": 5,
    "start_time": "2022-05-25T16:55:52.979Z"
   },
   {
    "duration": 31,
    "start_time": "2022-05-25T16:55:52.985Z"
   },
   {
    "duration": 27,
    "start_time": "2022-05-25T16:55:53.023Z"
   },
   {
    "duration": 17,
    "start_time": "2022-05-25T16:55:53.051Z"
   },
   {
    "duration": 9,
    "start_time": "2022-05-25T16:55:53.069Z"
   },
   {
    "duration": 59,
    "start_time": "2022-05-25T16:55:53.080Z"
   },
   {
    "duration": 18,
    "start_time": "2022-05-25T16:55:53.141Z"
   },
   {
    "duration": 18,
    "start_time": "2022-05-25T16:55:53.160Z"
   },
   {
    "duration": 10,
    "start_time": "2022-05-25T16:55:53.179Z"
   },
   {
    "duration": 32,
    "start_time": "2022-05-25T16:55:53.191Z"
   },
   {
    "duration": 19,
    "start_time": "2022-05-25T16:55:53.229Z"
   },
   {
    "duration": 3,
    "start_time": "2022-05-25T16:55:53.250Z"
   },
   {
    "duration": 94,
    "start_time": "2022-05-25T16:55:53.255Z"
   },
   {
    "duration": 6,
    "start_time": "2022-05-25T16:55:53.351Z"
   },
   {
    "duration": 4,
    "start_time": "2022-05-25T16:55:53.358Z"
   },
   {
    "duration": 96,
    "start_time": "2022-05-25T16:55:53.363Z"
   },
   {
    "duration": 14,
    "start_time": "2022-05-25T16:55:53.461Z"
   },
   {
    "duration": 4,
    "start_time": "2022-05-25T16:55:53.477Z"
   },
   {
    "duration": 105,
    "start_time": "2022-05-25T16:55:53.483Z"
   },
   {
    "duration": 4,
    "start_time": "2022-05-25T16:55:53.589Z"
   },
   {
    "duration": 117,
    "start_time": "2022-05-25T16:55:53.594Z"
   },
   {
    "duration": 16,
    "start_time": "2022-05-25T16:55:53.716Z"
   },
   {
    "duration": 15,
    "start_time": "2022-05-25T16:55:53.734Z"
   },
   {
    "duration": 10,
    "start_time": "2022-05-25T16:55:53.751Z"
   },
   {
    "duration": 13,
    "start_time": "2022-05-25T16:55:53.762Z"
   },
   {
    "duration": 55,
    "start_time": "2022-05-25T16:55:53.777Z"
   },
   {
    "duration": 722,
    "start_time": "2022-05-25T16:55:53.834Z"
   },
   {
    "duration": 648,
    "start_time": "2022-05-25T16:55:54.558Z"
   },
   {
    "duration": 645,
    "start_time": "2022-05-25T16:55:55.207Z"
   },
   {
    "duration": 27,
    "start_time": "2022-05-25T16:55:55.854Z"
   },
   {
    "duration": 8,
    "start_time": "2022-05-25T16:55:55.883Z"
   },
   {
    "duration": 29,
    "start_time": "2022-05-25T16:55:55.893Z"
   },
   {
    "duration": 47,
    "start_time": "2022-05-25T16:55:55.924Z"
   },
   {
    "duration": 3,
    "start_time": "2022-05-25T16:55:55.973Z"
   },
   {
    "duration": 5,
    "start_time": "2022-05-25T16:55:55.978Z"
   },
   {
    "duration": 5,
    "start_time": "2022-05-25T16:56:01.786Z"
   },
   {
    "duration": 6,
    "start_time": "2022-05-25T16:56:14.984Z"
   },
   {
    "duration": 12,
    "start_time": "2022-05-25T16:56:23.222Z"
   },
   {
    "duration": 5,
    "start_time": "2022-05-25T16:57:35.460Z"
   },
   {
    "duration": 6,
    "start_time": "2022-05-25T16:57:39.950Z"
   },
   {
    "duration": 4,
    "start_time": "2022-05-25T17:51:13.740Z"
   },
   {
    "duration": 168,
    "start_time": "2022-05-25T17:51:14.571Z"
   },
   {
    "duration": 25,
    "start_time": "2022-05-25T17:51:15.355Z"
   },
   {
    "duration": 138,
    "start_time": "2022-05-25T17:51:16.750Z"
   },
   {
    "duration": 25,
    "start_time": "2022-05-25T17:51:17.269Z"
   },
   {
    "duration": 7,
    "start_time": "2022-05-25T17:51:17.809Z"
   },
   {
    "duration": 99,
    "start_time": "2022-05-25T17:51:20.002Z"
   },
   {
    "duration": 18,
    "start_time": "2022-05-25T17:51:20.129Z"
   },
   {
    "duration": 29,
    "start_time": "2022-05-25T17:51:21.165Z"
   },
   {
    "duration": 11,
    "start_time": "2022-05-25T17:51:21.355Z"
   },
   {
    "duration": 44,
    "start_time": "2022-05-25T17:51:22.240Z"
   },
   {
    "duration": 11,
    "start_time": "2022-05-25T17:51:22.468Z"
   },
   {
    "duration": 87,
    "start_time": "2022-05-25T17:51:24.099Z"
   },
   {
    "duration": 6,
    "start_time": "2022-05-25T17:51:26.556Z"
   },
   {
    "duration": 39,
    "start_time": "2022-05-25T17:51:27.033Z"
   },
   {
    "duration": 52,
    "start_time": "2022-05-25T17:51:27.298Z"
   },
   {
    "duration": 29,
    "start_time": "2022-05-25T17:51:28.900Z"
   },
   {
    "duration": 22,
    "start_time": "2022-05-25T17:51:29.156Z"
   },
   {
    "duration": 18,
    "start_time": "2022-05-25T17:51:29.384Z"
   },
   {
    "duration": 4,
    "start_time": "2022-05-25T17:51:29.635Z"
   },
   {
    "duration": 4,
    "start_time": "2022-05-25T17:51:29.870Z"
   },
   {
    "duration": 14,
    "start_time": "2022-05-25T17:51:30.373Z"
   },
   {
    "duration": 13,
    "start_time": "2022-05-25T17:51:30.801Z"
   },
   {
    "duration": 11,
    "start_time": "2022-05-25T17:51:31.003Z"
   },
   {
    "duration": 7,
    "start_time": "2022-05-25T17:51:31.410Z"
   },
   {
    "duration": 5,
    "start_time": "2022-05-25T17:51:31.671Z"
   },
   {
    "duration": 51,
    "start_time": "2022-05-25T17:51:32.829Z"
   },
   {
    "duration": 8,
    "start_time": "2022-05-25T17:51:33.531Z"
   },
   {
    "duration": 18,
    "start_time": "2022-05-25T17:51:34.100Z"
   },
   {
    "duration": 22,
    "start_time": "2022-05-25T17:51:34.815Z"
   },
   {
    "duration": 6,
    "start_time": "2022-05-25T17:51:37.106Z"
   },
   {
    "duration": 24,
    "start_time": "2022-05-25T17:51:38.954Z"
   },
   {
    "duration": 20,
    "start_time": "2022-05-25T17:51:39.800Z"
   },
   {
    "duration": 16,
    "start_time": "2022-05-25T17:51:41.725Z"
   },
   {
    "duration": 9,
    "start_time": "2022-05-25T17:51:42.379Z"
   },
   {
    "duration": 24,
    "start_time": "2022-05-25T17:51:44.739Z"
   },
   {
    "duration": 16,
    "start_time": "2022-05-25T17:51:52.807Z"
   },
   {
    "duration": 18,
    "start_time": "2022-05-25T17:51:58.240Z"
   },
   {
    "duration": 11,
    "start_time": "2022-05-25T17:52:03.425Z"
   },
   {
    "duration": 10,
    "start_time": "2022-05-25T17:52:13.126Z"
   },
   {
    "duration": 15,
    "start_time": "2022-05-25T17:52:18.625Z"
   },
   {
    "duration": 17,
    "start_time": "2022-05-25T17:53:00.000Z"
   },
   {
    "duration": 7,
    "start_time": "2022-05-25T17:53:17.403Z"
   },
   {
    "duration": 107,
    "start_time": "2022-05-25T17:55:24.103Z"
   },
   {
    "duration": 3,
    "start_time": "2022-05-25T17:57:16.011Z"
   },
   {
    "duration": 11,
    "start_time": "2022-05-25T17:57:27.188Z"
   },
   {
    "duration": 16,
    "start_time": "2022-05-25T17:57:45.056Z"
   },
   {
    "duration": 23,
    "start_time": "2022-05-25T17:58:03.102Z"
   },
   {
    "duration": 3,
    "start_time": "2022-05-25T18:09:45.008Z"
   },
   {
    "duration": 164,
    "start_time": "2022-05-25T18:09:46.032Z"
   },
   {
    "duration": 25,
    "start_time": "2022-05-25T18:09:46.699Z"
   },
   {
    "duration": 137,
    "start_time": "2022-05-25T18:09:47.741Z"
   },
   {
    "duration": 23,
    "start_time": "2022-05-25T18:09:48.013Z"
   },
   {
    "duration": 7,
    "start_time": "2022-05-25T18:09:48.801Z"
   },
   {
    "duration": 106,
    "start_time": "2022-05-25T18:09:51.159Z"
   },
   {
    "duration": 19,
    "start_time": "2022-05-25T18:09:51.663Z"
   },
   {
    "duration": 30,
    "start_time": "2022-05-25T18:09:53.412Z"
   },
   {
    "duration": 11,
    "start_time": "2022-05-25T18:09:53.793Z"
   },
   {
    "duration": 43,
    "start_time": "2022-05-25T18:09:55.973Z"
   },
   {
    "duration": 11,
    "start_time": "2022-05-25T18:09:56.298Z"
   },
   {
    "duration": 93,
    "start_time": "2022-05-25T18:10:02.500Z"
   },
   {
    "duration": 6,
    "start_time": "2022-05-25T18:10:02.754Z"
   },
   {
    "duration": 41,
    "start_time": "2022-05-25T18:10:03.103Z"
   },
   {
    "duration": 59,
    "start_time": "2022-05-25T18:10:03.326Z"
   },
   {
    "duration": 29,
    "start_time": "2022-05-25T18:10:06.088Z"
   },
   {
    "duration": 22,
    "start_time": "2022-05-25T18:10:06.299Z"
   },
   {
    "duration": 20,
    "start_time": "2022-05-25T18:10:06.483Z"
   },
   {
    "duration": 4,
    "start_time": "2022-05-25T18:10:06.660Z"
   },
   {
    "duration": 3,
    "start_time": "2022-05-25T18:10:06.854Z"
   },
   {
    "duration": 13,
    "start_time": "2022-05-25T18:10:49.614Z"
   },
   {
    "duration": 12,
    "start_time": "2022-05-25T18:10:50.127Z"
   },
   {
    "duration": 10,
    "start_time": "2022-05-25T18:10:50.364Z"
   },
   {
    "duration": 7,
    "start_time": "2022-05-25T18:10:50.657Z"
   },
   {
    "duration": 5,
    "start_time": "2022-05-25T18:10:51.154Z"
   },
   {
    "duration": 49,
    "start_time": "2022-05-25T18:10:55.392Z"
   },
   {
    "duration": 9,
    "start_time": "2022-05-25T18:10:56.448Z"
   },
   {
    "duration": 21,
    "start_time": "2022-05-25T18:10:59.449Z"
   },
   {
    "duration": 21,
    "start_time": "2022-05-25T18:11:00.866Z"
   },
   {
    "duration": 6,
    "start_time": "2022-05-25T18:11:01.927Z"
   },
   {
    "duration": 28,
    "start_time": "2022-05-25T18:11:07.004Z"
   },
   {
    "duration": 19,
    "start_time": "2022-05-25T18:11:15.230Z"
   },
   {
    "duration": 18,
    "start_time": "2022-05-25T18:11:18.305Z"
   },
   {
    "duration": 9,
    "start_time": "2022-05-25T18:11:23.924Z"
   },
   {
    "duration": 22,
    "start_time": "2022-05-25T18:11:25.517Z"
   },
   {
    "duration": 22,
    "start_time": "2022-05-25T18:11:27.626Z"
   },
   {
    "duration": 27,
    "start_time": "2022-05-25T18:11:35.710Z"
   },
   {
    "duration": 17,
    "start_time": "2022-05-25T18:11:46.619Z"
   },
   {
    "duration": 18,
    "start_time": "2022-05-25T18:11:57.604Z"
   },
   {
    "duration": 10,
    "start_time": "2022-05-25T18:11:58.636Z"
   },
   {
    "duration": 10,
    "start_time": "2022-05-25T18:12:02.170Z"
   },
   {
    "duration": 17,
    "start_time": "2022-05-25T18:12:07.224Z"
   },
   {
    "duration": 11,
    "start_time": "2022-05-25T18:12:19.212Z"
   },
   {
    "duration": 10,
    "start_time": "2022-05-25T18:12:29.325Z"
   },
   {
    "duration": 15,
    "start_time": "2022-05-25T18:12:35.937Z"
   },
   {
    "duration": 11,
    "start_time": "2022-05-25T18:12:36.994Z"
   },
   {
    "duration": 3,
    "start_time": "2022-05-25T18:12:43.636Z"
   },
   {
    "duration": 21,
    "start_time": "2022-05-25T18:13:01.697Z"
   },
   {
    "duration": 10,
    "start_time": "2022-05-25T18:13:02.599Z"
   },
   {
    "duration": 11,
    "start_time": "2022-05-25T18:13:03.913Z"
   },
   {
    "duration": 15,
    "start_time": "2022-05-25T18:13:07.703Z"
   },
   {
    "duration": 10,
    "start_time": "2022-05-25T18:13:08.521Z"
   },
   {
    "duration": 15,
    "start_time": "2022-05-25T18:13:10.972Z"
   },
   {
    "duration": 12,
    "start_time": "2022-05-25T18:13:12.930Z"
   },
   {
    "duration": 3,
    "start_time": "2022-05-25T18:13:15.732Z"
   },
   {
    "duration": 10,
    "start_time": "2022-05-25T18:13:16.551Z"
   },
   {
    "duration": 8,
    "start_time": "2022-05-25T18:13:19.157Z"
   },
   {
    "duration": 22,
    "start_time": "2022-05-25T18:13:22.602Z"
   },
   {
    "duration": 12,
    "start_time": "2022-05-25T18:13:25.110Z"
   },
   {
    "duration": 19,
    "start_time": "2022-05-25T18:15:25.552Z"
   },
   {
    "duration": 16,
    "start_time": "2022-05-25T18:15:27.300Z"
   },
   {
    "duration": 18,
    "start_time": "2022-05-25T18:20:02.545Z"
   },
   {
    "duration": 17,
    "start_time": "2022-05-25T18:20:06.256Z"
   },
   {
    "duration": 14,
    "start_time": "2022-05-25T18:20:07.908Z"
   },
   {
    "duration": 15,
    "start_time": "2022-05-25T18:20:13.643Z"
   },
   {
    "duration": 3,
    "start_time": "2022-05-25T18:20:15.325Z"
   },
   {
    "duration": 4,
    "start_time": "2022-05-25T18:41:19.022Z"
   },
   {
    "duration": 22,
    "start_time": "2022-05-25T18:50:21.730Z"
   },
   {
    "duration": 11,
    "start_time": "2022-05-25T18:50:26.698Z"
   },
   {
    "duration": 6,
    "start_time": "2022-05-25T18:50:28.000Z"
   },
   {
    "duration": 4,
    "start_time": "2022-05-25T18:58:34.843Z"
   },
   {
    "duration": 623,
    "start_time": "2022-05-25T18:58:44.772Z"
   },
   {
    "duration": 5,
    "start_time": "2022-05-25T19:00:07.264Z"
   },
   {
    "duration": 61,
    "start_time": "2022-05-25T19:00:11.190Z"
   },
   {
    "duration": 27,
    "start_time": "2022-05-25T19:00:47.260Z"
   },
   {
    "duration": 11,
    "start_time": "2022-05-25T19:00:47.678Z"
   },
   {
    "duration": 14,
    "start_time": "2022-05-25T19:00:48.074Z"
   },
   {
    "duration": 3,
    "start_time": "2022-05-25T19:00:49.207Z"
   },
   {
    "duration": 14,
    "start_time": "2022-05-25T19:00:50.563Z"
   },
   {
    "duration": 21,
    "start_time": "2022-05-25T19:01:03.313Z"
   },
   {
    "duration": 11,
    "start_time": "2022-05-25T19:01:08.281Z"
   },
   {
    "duration": 3,
    "start_time": "2022-05-25T19:01:19.779Z"
   },
   {
    "duration": 185,
    "start_time": "2022-05-25T19:01:19.784Z"
   },
   {
    "duration": 47,
    "start_time": "2022-05-25T19:01:19.971Z"
   },
   {
    "duration": 126,
    "start_time": "2022-05-25T19:01:20.019Z"
   },
   {
    "duration": 21,
    "start_time": "2022-05-25T19:01:20.147Z"
   },
   {
    "duration": 6,
    "start_time": "2022-05-25T19:01:20.169Z"
   },
   {
    "duration": 98,
    "start_time": "2022-05-25T19:01:20.177Z"
   },
   {
    "duration": 18,
    "start_time": "2022-05-25T19:01:20.276Z"
   },
   {
    "duration": 23,
    "start_time": "2022-05-25T19:01:20.295Z"
   },
   {
    "duration": 11,
    "start_time": "2022-05-25T19:01:20.319Z"
   },
   {
    "duration": 33,
    "start_time": "2022-05-25T19:01:20.331Z"
   },
   {
    "duration": 10,
    "start_time": "2022-05-25T19:01:20.366Z"
   },
   {
    "duration": 101,
    "start_time": "2022-05-25T19:01:20.378Z"
   },
   {
    "duration": 6,
    "start_time": "2022-05-25T19:01:20.483Z"
   },
   {
    "duration": 53,
    "start_time": "2022-05-25T19:01:20.491Z"
   },
   {
    "duration": 68,
    "start_time": "2022-05-25T19:01:20.546Z"
   },
   {
    "duration": 31,
    "start_time": "2022-05-25T19:01:20.616Z"
   },
   {
    "duration": 22,
    "start_time": "2022-05-25T19:01:20.649Z"
   },
   {
    "duration": 43,
    "start_time": "2022-05-25T19:01:20.673Z"
   },
   {
    "duration": 5,
    "start_time": "2022-05-25T19:01:20.717Z"
   },
   {
    "duration": 7,
    "start_time": "2022-05-25T19:01:20.723Z"
   },
   {
    "duration": 15,
    "start_time": "2022-05-25T19:01:20.731Z"
   },
   {
    "duration": 11,
    "start_time": "2022-05-25T19:01:20.747Z"
   },
   {
    "duration": 13,
    "start_time": "2022-05-25T19:01:20.759Z"
   },
   {
    "duration": 5,
    "start_time": "2022-05-25T19:01:20.774Z"
   },
   {
    "duration": 5,
    "start_time": "2022-05-25T19:01:20.813Z"
   },
   {
    "duration": 49,
    "start_time": "2022-05-25T19:01:20.820Z"
   },
   {
    "duration": 7,
    "start_time": "2022-05-25T19:01:20.871Z"
   },
   {
    "duration": 35,
    "start_time": "2022-05-25T19:01:20.880Z"
   },
   {
    "duration": 20,
    "start_time": "2022-05-25T19:01:20.916Z"
   },
   {
    "duration": 5,
    "start_time": "2022-05-25T19:01:20.938Z"
   },
   {
    "duration": 19,
    "start_time": "2022-05-25T19:01:20.945Z"
   },
   {
    "duration": 18,
    "start_time": "2022-05-25T19:01:20.965Z"
   },
   {
    "duration": 15,
    "start_time": "2022-05-25T19:01:21.012Z"
   },
   {
    "duration": 8,
    "start_time": "2022-05-25T19:01:21.029Z"
   },
   {
    "duration": 24,
    "start_time": "2022-05-25T19:01:21.039Z"
   },
   {
    "duration": 17,
    "start_time": "2022-05-25T19:01:21.064Z"
   },
   {
    "duration": 45,
    "start_time": "2022-05-25T19:01:21.082Z"
   },
   {
    "duration": 10,
    "start_time": "2022-05-25T19:01:21.129Z"
   },
   {
    "duration": 0,
    "start_time": "2022-05-25T19:01:21.141Z"
   },
   {
    "duration": 0,
    "start_time": "2022-05-25T19:01:21.142Z"
   },
   {
    "duration": 0,
    "start_time": "2022-05-25T19:01:21.143Z"
   },
   {
    "duration": 0,
    "start_time": "2022-05-25T19:01:21.144Z"
   },
   {
    "duration": 0,
    "start_time": "2022-05-25T19:01:21.145Z"
   },
   {
    "duration": 0,
    "start_time": "2022-05-25T19:01:21.146Z"
   },
   {
    "duration": 0,
    "start_time": "2022-05-25T19:01:21.147Z"
   },
   {
    "duration": 0,
    "start_time": "2022-05-25T19:01:21.148Z"
   },
   {
    "duration": 0,
    "start_time": "2022-05-25T19:01:21.150Z"
   },
   {
    "duration": 0,
    "start_time": "2022-05-25T19:01:21.150Z"
   },
   {
    "duration": 0,
    "start_time": "2022-05-25T19:01:21.151Z"
   },
   {
    "duration": 0,
    "start_time": "2022-05-25T19:01:21.153Z"
   },
   {
    "duration": 0,
    "start_time": "2022-05-25T19:01:21.153Z"
   },
   {
    "duration": 0,
    "start_time": "2022-05-25T19:01:21.154Z"
   },
   {
    "duration": 0,
    "start_time": "2022-05-25T19:01:21.155Z"
   },
   {
    "duration": 0,
    "start_time": "2022-05-25T19:01:21.156Z"
   },
   {
    "duration": 0,
    "start_time": "2022-05-25T19:01:21.157Z"
   },
   {
    "duration": 0,
    "start_time": "2022-05-25T19:01:21.158Z"
   },
   {
    "duration": 0,
    "start_time": "2022-05-25T19:01:21.159Z"
   },
   {
    "duration": 0,
    "start_time": "2022-05-25T19:01:21.160Z"
   },
   {
    "duration": 0,
    "start_time": "2022-05-25T19:01:21.161Z"
   },
   {
    "duration": 0,
    "start_time": "2022-05-25T19:01:21.162Z"
   },
   {
    "duration": 0,
    "start_time": "2022-05-25T19:01:21.163Z"
   },
   {
    "duration": 0,
    "start_time": "2022-05-25T19:01:21.164Z"
   },
   {
    "duration": 0,
    "start_time": "2022-05-25T19:01:21.164Z"
   },
   {
    "duration": 0,
    "start_time": "2022-05-25T19:01:21.212Z"
   },
   {
    "duration": 0,
    "start_time": "2022-05-25T19:01:21.213Z"
   },
   {
    "duration": 0,
    "start_time": "2022-05-25T19:01:21.214Z"
   },
   {
    "duration": 0,
    "start_time": "2022-05-25T19:01:21.215Z"
   },
   {
    "duration": 0,
    "start_time": "2022-05-25T19:01:21.216Z"
   },
   {
    "duration": 20,
    "start_time": "2022-05-25T19:05:25.495Z"
   },
   {
    "duration": 15,
    "start_time": "2022-05-25T19:05:34.399Z"
   },
   {
    "duration": 19,
    "start_time": "2022-05-25T19:05:37.463Z"
   },
   {
    "duration": 4,
    "start_time": "2022-05-25T19:05:41.834Z"
   },
   {
    "duration": 22,
    "start_time": "2022-05-25T19:05:43.072Z"
   },
   {
    "duration": 12,
    "start_time": "2022-05-25T19:05:44.182Z"
   },
   {
    "duration": 7,
    "start_time": "2022-05-25T19:05:45.358Z"
   },
   {
    "duration": 3,
    "start_time": "2022-05-25T19:08:44.897Z"
   },
   {
    "duration": 46,
    "start_time": "2022-05-25T19:08:52.194Z"
   },
   {
    "duration": 50,
    "start_time": "2022-05-25T19:09:00.429Z"
   },
   {
    "duration": 52,
    "start_time": "2022-05-25T19:09:21.814Z"
   },
   {
    "duration": 48,
    "start_time": "2022-05-25T19:09:32.154Z"
   },
   {
    "duration": 7,
    "start_time": "2022-05-25T19:10:08.051Z"
   },
   {
    "duration": 4,
    "start_time": "2022-05-25T19:16:28.239Z"
   },
   {
    "duration": 46,
    "start_time": "2022-05-25T19:16:36.375Z"
   },
   {
    "duration": 48,
    "start_time": "2022-05-25T19:17:03.354Z"
   },
   {
    "duration": 3,
    "start_time": "2022-05-25T19:17:33.127Z"
   },
   {
    "duration": 47,
    "start_time": "2022-05-25T19:17:39.892Z"
   },
   {
    "duration": 49,
    "start_time": "2022-05-25T19:17:48.137Z"
   },
   {
    "duration": 50,
    "start_time": "2022-05-25T19:18:06.060Z"
   },
   {
    "duration": 16,
    "start_time": "2022-05-25T19:18:12.406Z"
   },
   {
    "duration": 3,
    "start_time": "2022-05-25T19:18:22.869Z"
   },
   {
    "duration": 177,
    "start_time": "2022-05-25T19:18:22.874Z"
   },
   {
    "duration": 27,
    "start_time": "2022-05-25T19:18:23.053Z"
   },
   {
    "duration": 129,
    "start_time": "2022-05-25T19:18:23.112Z"
   },
   {
    "duration": 21,
    "start_time": "2022-05-25T19:18:23.244Z"
   },
   {
    "duration": 10,
    "start_time": "2022-05-25T19:18:23.266Z"
   },
   {
    "duration": 96,
    "start_time": "2022-05-25T19:18:23.277Z"
   },
   {
    "duration": 18,
    "start_time": "2022-05-25T19:18:23.374Z"
   },
   {
    "duration": 23,
    "start_time": "2022-05-25T19:18:23.394Z"
   },
   {
    "duration": 11,
    "start_time": "2022-05-25T19:18:23.419Z"
   },
   {
    "duration": 44,
    "start_time": "2022-05-25T19:18:23.432Z"
   },
   {
    "duration": 11,
    "start_time": "2022-05-25T19:18:23.477Z"
   },
   {
    "duration": 100,
    "start_time": "2022-05-25T19:18:23.489Z"
   },
   {
    "duration": 108,
    "start_time": "2022-05-25T19:18:23.590Z"
   },
   {
    "duration": 61,
    "start_time": "2022-05-25T19:18:23.700Z"
   },
   {
    "duration": 67,
    "start_time": "2022-05-25T19:18:23.763Z"
   },
   {
    "duration": 30,
    "start_time": "2022-05-25T19:18:23.831Z"
   },
   {
    "duration": 23,
    "start_time": "2022-05-25T19:18:23.862Z"
   },
   {
    "duration": 42,
    "start_time": "2022-05-25T19:18:23.886Z"
   },
   {
    "duration": 4,
    "start_time": "2022-05-25T19:18:23.930Z"
   },
   {
    "duration": 19,
    "start_time": "2022-05-25T19:18:23.936Z"
   },
   {
    "duration": 26,
    "start_time": "2022-05-25T19:18:23.957Z"
   },
   {
    "duration": 13,
    "start_time": "2022-05-25T19:18:23.985Z"
   },
   {
    "duration": 11,
    "start_time": "2022-05-25T19:18:24.011Z"
   },
   {
    "duration": 11,
    "start_time": "2022-05-25T19:18:24.024Z"
   },
   {
    "duration": 6,
    "start_time": "2022-05-25T19:18:24.037Z"
   },
   {
    "duration": 65,
    "start_time": "2022-05-25T19:18:24.044Z"
   },
   {
    "duration": 8,
    "start_time": "2022-05-25T19:18:24.111Z"
   },
   {
    "duration": 25,
    "start_time": "2022-05-25T19:18:24.125Z"
   },
   {
    "duration": 21,
    "start_time": "2022-05-25T19:18:24.151Z"
   },
   {
    "duration": 5,
    "start_time": "2022-05-25T19:18:24.174Z"
   },
   {
    "duration": 45,
    "start_time": "2022-05-25T19:18:24.181Z"
   },
   {
    "duration": 18,
    "start_time": "2022-05-25T19:18:24.228Z"
   },
   {
    "duration": 17,
    "start_time": "2022-05-25T19:18:24.247Z"
   },
   {
    "duration": 10,
    "start_time": "2022-05-25T19:18:24.265Z"
   },
   {
    "duration": 56,
    "start_time": "2022-05-25T19:18:24.277Z"
   },
   {
    "duration": 23,
    "start_time": "2022-05-25T19:18:24.335Z"
   },
   {
    "duration": 21,
    "start_time": "2022-05-25T19:18:24.360Z"
   },
   {
    "duration": 38,
    "start_time": "2022-05-25T19:18:24.382Z"
   },
   {
    "duration": 14,
    "start_time": "2022-05-25T19:18:24.422Z"
   },
   {
    "duration": 6,
    "start_time": "2022-05-25T19:18:24.437Z"
   },
   {
    "duration": 28,
    "start_time": "2022-05-25T19:18:24.444Z"
   },
   {
    "duration": 20,
    "start_time": "2022-05-25T19:18:24.474Z"
   },
   {
    "duration": 9,
    "start_time": "2022-05-25T19:18:24.511Z"
   },
   {
    "duration": 8,
    "start_time": "2022-05-25T19:18:24.521Z"
   },
   {
    "duration": 63,
    "start_time": "2022-05-25T19:18:24.530Z"
   },
   {
    "duration": 6,
    "start_time": "2022-05-25T19:18:24.595Z"
   },
   {
    "duration": 10,
    "start_time": "2022-05-25T19:18:24.603Z"
   },
   {
    "duration": 60,
    "start_time": "2022-05-25T19:18:24.615Z"
   },
   {
    "duration": 16,
    "start_time": "2022-05-25T19:18:24.676Z"
   },
   {
    "duration": 4,
    "start_time": "2022-05-25T19:18:24.711Z"
   },
   {
    "duration": 82,
    "start_time": "2022-05-25T19:18:24.717Z"
   },
   {
    "duration": 3,
    "start_time": "2022-05-25T19:18:24.801Z"
   },
   {
    "duration": 99,
    "start_time": "2022-05-25T19:18:24.806Z"
   },
   {
    "duration": 7,
    "start_time": "2022-05-25T19:18:24.912Z"
   },
   {
    "duration": 5,
    "start_time": "2022-05-25T19:18:24.921Z"
   },
   {
    "duration": 9,
    "start_time": "2022-05-25T19:18:24.928Z"
   },
   {
    "duration": 7,
    "start_time": "2022-05-25T19:18:24.939Z"
   },
   {
    "duration": 5,
    "start_time": "2022-05-25T19:18:24.948Z"
   },
   {
    "duration": 68,
    "start_time": "2022-05-25T19:18:24.955Z"
   },
   {
    "duration": 30,
    "start_time": "2022-05-25T19:18:25.025Z"
   },
   {
    "duration": 0,
    "start_time": "2022-05-25T19:18:25.057Z"
   },
   {
    "duration": 0,
    "start_time": "2022-05-25T19:18:25.058Z"
   },
   {
    "duration": 0,
    "start_time": "2022-05-25T19:18:25.059Z"
   },
   {
    "duration": 0,
    "start_time": "2022-05-25T19:18:25.060Z"
   },
   {
    "duration": 0,
    "start_time": "2022-05-25T19:18:25.061Z"
   },
   {
    "duration": 0,
    "start_time": "2022-05-25T19:18:25.062Z"
   },
   {
    "duration": 0,
    "start_time": "2022-05-25T19:18:25.063Z"
   },
   {
    "duration": 0,
    "start_time": "2022-05-25T19:18:25.064Z"
   },
   {
    "duration": 73,
    "start_time": "2022-05-25T19:20:00.603Z"
   },
   {
    "duration": 3,
    "start_time": "2022-05-25T19:20:23.159Z"
   },
   {
    "duration": 158,
    "start_time": "2022-05-25T19:20:23.521Z"
   },
   {
    "duration": 25,
    "start_time": "2022-05-25T19:20:23.908Z"
   },
   {
    "duration": 142,
    "start_time": "2022-05-25T19:20:24.593Z"
   },
   {
    "duration": 23,
    "start_time": "2022-05-25T19:20:24.789Z"
   },
   {
    "duration": 8,
    "start_time": "2022-05-25T19:20:25.118Z"
   },
   {
    "duration": 99,
    "start_time": "2022-05-25T19:20:25.850Z"
   },
   {
    "duration": 19,
    "start_time": "2022-05-25T19:20:26.048Z"
   },
   {
    "duration": 18,
    "start_time": "2022-05-25T19:20:26.606Z"
   },
   {
    "duration": 11,
    "start_time": "2022-05-25T19:20:26.797Z"
   },
   {
    "duration": 44,
    "start_time": "2022-05-25T19:20:27.161Z"
   },
   {
    "duration": 13,
    "start_time": "2022-05-25T19:20:27.359Z"
   },
   {
    "duration": 105,
    "start_time": "2022-05-25T19:20:28.560Z"
   },
   {
    "duration": 5,
    "start_time": "2022-05-25T19:20:28.753Z"
   },
   {
    "duration": 49,
    "start_time": "2022-05-25T19:20:29.097Z"
   },
   {
    "duration": 69,
    "start_time": "2022-05-25T19:20:29.313Z"
   },
   {
    "duration": 30,
    "start_time": "2022-05-25T19:20:30.429Z"
   },
   {
    "duration": 22,
    "start_time": "2022-05-25T19:20:30.636Z"
   },
   {
    "duration": 20,
    "start_time": "2022-05-25T19:20:30.886Z"
   },
   {
    "duration": 5,
    "start_time": "2022-05-25T19:20:31.089Z"
   },
   {
    "duration": 5,
    "start_time": "2022-05-25T19:20:31.312Z"
   },
   {
    "duration": 23,
    "start_time": "2022-05-25T19:20:31.733Z"
   },
   {
    "duration": 13,
    "start_time": "2022-05-25T19:20:31.952Z"
   },
   {
    "duration": 11,
    "start_time": "2022-05-25T19:20:32.162Z"
   },
   {
    "duration": 6,
    "start_time": "2022-05-25T19:20:32.382Z"
   },
   {
    "duration": 6,
    "start_time": "2022-05-25T19:20:32.591Z"
   },
   {
    "duration": 48,
    "start_time": "2022-05-25T19:20:33.193Z"
   },
   {
    "duration": 9,
    "start_time": "2022-05-25T19:20:33.553Z"
   },
   {
    "duration": 22,
    "start_time": "2022-05-25T19:20:36.691Z"
   },
   {
    "duration": 26,
    "start_time": "2022-05-25T19:20:37.178Z"
   },
   {
    "duration": 9,
    "start_time": "2022-05-25T19:20:37.593Z"
   },
   {
    "duration": 22,
    "start_time": "2022-05-25T19:20:38.548Z"
   },
   {
    "duration": 26,
    "start_time": "2022-05-25T19:20:38.989Z"
   },
   {
    "duration": 15,
    "start_time": "2022-05-25T19:20:39.995Z"
   },
   {
    "duration": 10,
    "start_time": "2022-05-25T19:20:40.207Z"
   },
   {
    "duration": 23,
    "start_time": "2022-05-25T19:20:40.794Z"
   },
   {
    "duration": 23,
    "start_time": "2022-05-25T19:20:41.591Z"
   },
   {
    "duration": 20,
    "start_time": "2022-05-25T19:20:44.404Z"
   },
   {
    "duration": 16,
    "start_time": "2022-05-25T19:20:45.246Z"
   },
   {
    "duration": 15,
    "start_time": "2022-05-25T19:20:48.251Z"
   },
   {
    "duration": 4,
    "start_time": "2022-05-25T19:20:49.417Z"
   },
   {
    "duration": 22,
    "start_time": "2022-05-25T19:20:51.825Z"
   },
   {
    "duration": 11,
    "start_time": "2022-05-25T19:20:53.949Z"
   },
   {
    "duration": 7,
    "start_time": "2022-05-25T19:20:54.576Z"
   },
   {
    "duration": 3,
    "start_time": "2022-05-25T19:21:11.118Z"
   },
   {
    "duration": 51,
    "start_time": "2022-05-25T19:21:16.441Z"
   },
   {
    "duration": 9,
    "start_time": "2022-05-25T19:21:25.250Z"
   },
   {
    "duration": 4,
    "start_time": "2022-05-25T19:23:20.311Z"
   },
   {
    "duration": 48,
    "start_time": "2022-05-25T19:23:20.995Z"
   },
   {
    "duration": 16,
    "start_time": "2022-05-25T19:23:27.010Z"
   },
   {
    "duration": 3,
    "start_time": "2022-05-25T19:23:53.486Z"
   },
   {
    "duration": 53,
    "start_time": "2022-05-25T19:24:06.956Z"
   },
   {
    "duration": 3,
    "start_time": "2022-05-25T19:24:52.818Z"
   },
   {
    "duration": 79,
    "start_time": "2022-05-25T19:24:57.402Z"
   },
   {
    "duration": 8,
    "start_time": "2022-05-25T19:25:17.548Z"
   },
   {
    "duration": 4,
    "start_time": "2022-05-25T19:25:25.929Z"
   },
   {
    "duration": 7,
    "start_time": "2022-05-25T19:25:27.382Z"
   },
   {
    "duration": 7,
    "start_time": "2022-05-25T19:26:02.316Z"
   },
   {
    "duration": 7,
    "start_time": "2022-05-25T19:30:55.759Z"
   },
   {
    "duration": 19,
    "start_time": "2022-05-25T19:31:21.828Z"
   },
   {
    "duration": 6,
    "start_time": "2022-05-25T19:31:40.059Z"
   },
   {
    "duration": 6,
    "start_time": "2022-05-25T19:34:28.056Z"
   },
   {
    "duration": 42,
    "start_time": "2022-05-25T19:43:16.812Z"
   },
   {
    "duration": 28,
    "start_time": "2022-05-25T19:43:23.126Z"
   },
   {
    "duration": 640,
    "start_time": "2022-05-25T19:43:36.687Z"
   },
   {
    "duration": 537,
    "start_time": "2022-05-25T19:45:46.115Z"
   },
   {
    "duration": 568,
    "start_time": "2022-05-25T19:45:59.058Z"
   },
   {
    "duration": 649,
    "start_time": "2022-05-25T19:46:08.501Z"
   },
   {
    "duration": 28,
    "start_time": "2022-05-25T19:46:21.055Z"
   },
   {
    "duration": 29,
    "start_time": "2022-05-25T19:46:54.117Z"
   },
   {
    "duration": 11,
    "start_time": "2022-05-25T19:47:03.538Z"
   },
   {
    "duration": 10,
    "start_time": "2022-05-25T19:47:15.981Z"
   },
   {
    "duration": 11,
    "start_time": "2022-05-25T19:48:50.505Z"
   },
   {
    "duration": 3,
    "start_time": "2022-05-25T19:49:12.144Z"
   },
   {
    "duration": 163,
    "start_time": "2022-05-25T19:49:12.937Z"
   },
   {
    "duration": 25,
    "start_time": "2022-05-25T19:49:13.799Z"
   },
   {
    "duration": 142,
    "start_time": "2022-05-25T19:49:14.944Z"
   },
   {
    "duration": 22,
    "start_time": "2022-05-25T19:49:15.477Z"
   },
   {
    "duration": 3,
    "start_time": "2022-05-25T19:49:24.049Z"
   },
   {
    "duration": 186,
    "start_time": "2022-05-25T19:49:24.054Z"
   },
   {
    "duration": 25,
    "start_time": "2022-05-25T19:49:24.242Z"
   },
   {
    "duration": 154,
    "start_time": "2022-05-25T19:49:24.268Z"
   },
   {
    "duration": 21,
    "start_time": "2022-05-25T19:49:24.425Z"
   },
   {
    "duration": 7,
    "start_time": "2022-05-25T19:49:24.448Z"
   },
   {
    "duration": 103,
    "start_time": "2022-05-25T19:49:24.456Z"
   },
   {
    "duration": 19,
    "start_time": "2022-05-25T19:49:24.561Z"
   },
   {
    "duration": 19,
    "start_time": "2022-05-25T19:49:24.582Z"
   },
   {
    "duration": 18,
    "start_time": "2022-05-25T19:49:24.602Z"
   },
   {
    "duration": 35,
    "start_time": "2022-05-25T19:49:24.622Z"
   },
   {
    "duration": 11,
    "start_time": "2022-05-25T19:49:24.659Z"
   },
   {
    "duration": 101,
    "start_time": "2022-05-25T19:49:24.672Z"
   },
   {
    "duration": 6,
    "start_time": "2022-05-25T19:49:24.775Z"
   },
   {
    "duration": 58,
    "start_time": "2022-05-25T19:49:24.782Z"
   },
   {
    "duration": 72,
    "start_time": "2022-05-25T19:49:24.842Z"
   },
   {
    "duration": 29,
    "start_time": "2022-05-25T19:49:24.915Z"
   },
   {
    "duration": 22,
    "start_time": "2022-05-25T19:49:24.946Z"
   },
   {
    "duration": 19,
    "start_time": "2022-05-25T19:49:24.969Z"
   },
   {
    "duration": 24,
    "start_time": "2022-05-25T19:49:24.989Z"
   },
   {
    "duration": 9,
    "start_time": "2022-05-25T19:49:25.015Z"
   },
   {
    "duration": 25,
    "start_time": "2022-05-25T19:49:25.026Z"
   },
   {
    "duration": 20,
    "start_time": "2022-05-25T19:49:25.052Z"
   },
   {
    "duration": 27,
    "start_time": "2022-05-25T19:49:25.074Z"
   },
   {
    "duration": 16,
    "start_time": "2022-05-25T19:49:25.102Z"
   },
   {
    "duration": 30,
    "start_time": "2022-05-25T19:49:25.119Z"
   },
   {
    "duration": 57,
    "start_time": "2022-05-25T19:49:25.150Z"
   },
   {
    "duration": 9,
    "start_time": "2022-05-25T19:49:25.208Z"
   },
   {
    "duration": 37,
    "start_time": "2022-05-25T19:49:25.220Z"
   },
   {
    "duration": 21,
    "start_time": "2022-05-25T19:49:25.258Z"
   },
   {
    "duration": 6,
    "start_time": "2022-05-25T19:49:25.281Z"
   },
   {
    "duration": 33,
    "start_time": "2022-05-25T19:49:25.288Z"
   },
   {
    "duration": 35,
    "start_time": "2022-05-25T19:49:25.323Z"
   },
   {
    "duration": 14,
    "start_time": "2022-05-25T19:49:25.360Z"
   },
   {
    "duration": 15,
    "start_time": "2022-05-25T19:49:25.375Z"
   },
   {
    "duration": 34,
    "start_time": "2022-05-25T19:49:25.392Z"
   },
   {
    "duration": 18,
    "start_time": "2022-05-25T19:49:25.428Z"
   },
   {
    "duration": 27,
    "start_time": "2022-05-25T19:49:25.448Z"
   },
   {
    "duration": 36,
    "start_time": "2022-05-25T19:49:25.477Z"
   },
   {
    "duration": 18,
    "start_time": "2022-05-25T19:49:25.515Z"
   },
   {
    "duration": 10,
    "start_time": "2022-05-25T19:49:25.535Z"
   },
   {
    "duration": 44,
    "start_time": "2022-05-25T19:49:25.546Z"
   },
   {
    "duration": 11,
    "start_time": "2022-05-25T19:49:25.591Z"
   },
   {
    "duration": 18,
    "start_time": "2022-05-25T19:49:25.603Z"
   },
   {
    "duration": 8,
    "start_time": "2022-05-25T19:49:25.623Z"
   },
   {
    "duration": 72,
    "start_time": "2022-05-25T19:49:25.633Z"
   },
   {
    "duration": 6,
    "start_time": "2022-05-25T19:49:25.707Z"
   },
   {
    "duration": 15,
    "start_time": "2022-05-25T19:49:25.714Z"
   },
   {
    "duration": 66,
    "start_time": "2022-05-25T19:49:25.731Z"
   },
   {
    "duration": 26,
    "start_time": "2022-05-25T19:49:25.802Z"
   },
   {
    "duration": 20,
    "start_time": "2022-05-25T19:49:25.830Z"
   },
   {
    "duration": 78,
    "start_time": "2022-05-25T19:49:25.851Z"
   },
   {
    "duration": 4,
    "start_time": "2022-05-25T19:49:25.931Z"
   },
   {
    "duration": 92,
    "start_time": "2022-05-25T19:49:25.936Z"
   },
   {
    "duration": 6,
    "start_time": "2022-05-25T19:49:26.030Z"
   },
   {
    "duration": 5,
    "start_time": "2022-05-25T19:49:26.038Z"
   },
   {
    "duration": 9,
    "start_time": "2022-05-25T19:49:26.044Z"
   },
   {
    "duration": 6,
    "start_time": "2022-05-25T19:49:26.055Z"
   },
   {
    "duration": 66,
    "start_time": "2022-05-25T19:49:26.062Z"
   },
   {
    "duration": 525,
    "start_time": "2022-05-25T19:49:26.129Z"
   },
   {
    "duration": 546,
    "start_time": "2022-05-25T19:49:26.655Z"
   },
   {
    "duration": 669,
    "start_time": "2022-05-25T19:49:27.202Z"
   },
   {
    "duration": 40,
    "start_time": "2022-05-25T19:49:27.873Z"
   },
   {
    "duration": 10,
    "start_time": "2022-05-25T19:49:27.914Z"
   },
   {
    "duration": 9,
    "start_time": "2022-05-25T19:49:27.925Z"
   },
   {
    "duration": 28,
    "start_time": "2022-05-25T19:49:27.936Z"
   },
   {
    "duration": 4,
    "start_time": "2022-05-25T19:49:27.966Z"
   },
   {
    "duration": 11,
    "start_time": "2022-05-25T19:49:27.971Z"
   },
   {
    "duration": 3,
    "start_time": "2022-05-25T19:52:10.218Z"
   },
   {
    "duration": 167,
    "start_time": "2022-05-25T19:52:10.222Z"
   },
   {
    "duration": 45,
    "start_time": "2022-05-25T19:52:10.391Z"
   },
   {
    "duration": 137,
    "start_time": "2022-05-25T19:52:10.437Z"
   },
   {
    "duration": 20,
    "start_time": "2022-05-25T19:52:10.576Z"
   },
   {
    "duration": 7,
    "start_time": "2022-05-25T19:52:10.613Z"
   },
   {
    "duration": 91,
    "start_time": "2022-05-25T19:52:10.621Z"
   },
   {
    "duration": 18,
    "start_time": "2022-05-25T19:52:10.713Z"
   },
   {
    "duration": 18,
    "start_time": "2022-05-25T19:52:10.733Z"
   },
   {
    "duration": 10,
    "start_time": "2022-05-25T19:52:10.753Z"
   },
   {
    "duration": 35,
    "start_time": "2022-05-25T19:52:10.765Z"
   },
   {
    "duration": 13,
    "start_time": "2022-05-25T19:52:10.801Z"
   },
   {
    "duration": 88,
    "start_time": "2022-05-25T19:52:10.816Z"
   },
   {
    "duration": 6,
    "start_time": "2022-05-25T19:52:10.912Z"
   },
   {
    "duration": 44,
    "start_time": "2022-05-25T19:52:10.919Z"
   },
   {
    "duration": 73,
    "start_time": "2022-05-25T19:52:10.964Z"
   },
   {
    "duration": 29,
    "start_time": "2022-05-25T19:52:11.039Z"
   },
   {
    "duration": 21,
    "start_time": "2022-05-25T19:52:11.069Z"
   },
   {
    "duration": 33,
    "start_time": "2022-05-25T19:52:11.092Z"
   },
   {
    "duration": 4,
    "start_time": "2022-05-25T19:52:11.127Z"
   },
   {
    "duration": 7,
    "start_time": "2022-05-25T19:52:11.132Z"
   },
   {
    "duration": 17,
    "start_time": "2022-05-25T19:52:11.140Z"
   },
   {
    "duration": 12,
    "start_time": "2022-05-25T19:52:11.159Z"
   },
   {
    "duration": 10,
    "start_time": "2022-05-25T19:52:11.172Z"
   },
   {
    "duration": 34,
    "start_time": "2022-05-25T19:52:11.183Z"
   },
   {
    "duration": 7,
    "start_time": "2022-05-25T19:52:11.218Z"
   },
   {
    "duration": 55,
    "start_time": "2022-05-25T19:52:11.226Z"
   },
   {
    "duration": 8,
    "start_time": "2022-05-25T19:52:11.283Z"
   },
   {
    "duration": 34,
    "start_time": "2022-05-25T19:52:11.295Z"
   },
   {
    "duration": 20,
    "start_time": "2022-05-25T19:52:11.331Z"
   },
   {
    "duration": 5,
    "start_time": "2022-05-25T19:52:11.353Z"
   },
   {
    "duration": 22,
    "start_time": "2022-05-25T19:52:11.360Z"
   },
   {
    "duration": 46,
    "start_time": "2022-05-25T19:52:11.383Z"
   },
   {
    "duration": 16,
    "start_time": "2022-05-25T19:52:11.431Z"
   },
   {
    "duration": 11,
    "start_time": "2022-05-25T19:52:11.448Z"
   },
   {
    "duration": 28,
    "start_time": "2022-05-25T19:52:11.461Z"
   },
   {
    "duration": 22,
    "start_time": "2022-05-25T19:52:11.513Z"
   },
   {
    "duration": 25,
    "start_time": "2022-05-25T19:52:11.537Z"
   },
   {
    "duration": 19,
    "start_time": "2022-05-25T19:52:11.564Z"
   },
   {
    "duration": 20,
    "start_time": "2022-05-25T19:52:11.611Z"
   },
   {
    "duration": 4,
    "start_time": "2022-05-25T19:52:11.632Z"
   },
   {
    "duration": 28,
    "start_time": "2022-05-25T19:52:11.638Z"
   },
   {
    "duration": 15,
    "start_time": "2022-05-25T19:52:11.667Z"
   },
   {
    "duration": 8,
    "start_time": "2022-05-25T19:52:11.712Z"
   },
   {
    "duration": 6,
    "start_time": "2022-05-25T19:52:11.723Z"
   },
   {
    "duration": 51,
    "start_time": "2022-05-25T19:52:11.730Z"
   },
   {
    "duration": 6,
    "start_time": "2022-05-25T19:52:11.783Z"
   },
   {
    "duration": 5,
    "start_time": "2022-05-25T19:52:11.790Z"
   },
   {
    "duration": 50,
    "start_time": "2022-05-25T19:52:11.811Z"
   },
   {
    "duration": 16,
    "start_time": "2022-05-25T19:52:11.862Z"
   },
   {
    "duration": 7,
    "start_time": "2022-05-25T19:52:11.879Z"
   },
   {
    "duration": 70,
    "start_time": "2022-05-25T19:52:11.887Z"
   },
   {
    "duration": 3,
    "start_time": "2022-05-25T19:52:11.958Z"
   },
   {
    "duration": 75,
    "start_time": "2022-05-25T19:52:11.962Z"
   },
   {
    "duration": 6,
    "start_time": "2022-05-25T19:52:12.039Z"
   },
   {
    "duration": 10,
    "start_time": "2022-05-25T19:52:12.047Z"
   },
   {
    "duration": 8,
    "start_time": "2022-05-25T19:52:12.058Z"
   },
   {
    "duration": 5,
    "start_time": "2022-05-25T19:52:12.067Z"
   },
   {
    "duration": 68,
    "start_time": "2022-05-25T19:52:12.074Z"
   },
   {
    "duration": 557,
    "start_time": "2022-05-25T19:52:12.143Z"
   },
   {
    "duration": 539,
    "start_time": "2022-05-25T19:52:12.702Z"
   },
   {
    "duration": 700,
    "start_time": "2022-05-25T19:52:13.242Z"
   },
   {
    "duration": 28,
    "start_time": "2022-05-25T19:52:13.944Z"
   },
   {
    "duration": 12,
    "start_time": "2022-05-25T19:52:13.973Z"
   },
   {
    "duration": 32,
    "start_time": "2022-05-25T19:52:13.987Z"
   },
   {
    "duration": 59,
    "start_time": "2022-05-25T19:52:14.021Z"
   },
   {
    "duration": 9,
    "start_time": "2022-05-25T19:52:14.082Z"
   },
   {
    "duration": 54,
    "start_time": "2022-05-25T19:52:14.093Z"
   },
   {
    "duration": 3,
    "start_time": "2022-05-25T19:56:02.020Z"
   },
   {
    "duration": 162,
    "start_time": "2022-05-25T19:56:02.026Z"
   },
   {
    "duration": 40,
    "start_time": "2022-05-25T19:56:02.189Z"
   },
   {
    "duration": 133,
    "start_time": "2022-05-25T19:56:02.231Z"
   },
   {
    "duration": 21,
    "start_time": "2022-05-25T19:56:02.366Z"
   },
   {
    "duration": 6,
    "start_time": "2022-05-25T19:56:02.388Z"
   },
   {
    "duration": 112,
    "start_time": "2022-05-25T19:56:02.395Z"
   },
   {
    "duration": 18,
    "start_time": "2022-05-25T19:56:02.509Z"
   },
   {
    "duration": 20,
    "start_time": "2022-05-25T19:56:02.529Z"
   },
   {
    "duration": 11,
    "start_time": "2022-05-25T19:56:02.551Z"
   },
   {
    "duration": 36,
    "start_time": "2022-05-25T19:56:02.564Z"
   },
   {
    "duration": 11,
    "start_time": "2022-05-25T19:56:02.601Z"
   },
   {
    "duration": 101,
    "start_time": "2022-05-25T19:56:02.614Z"
   },
   {
    "duration": 7,
    "start_time": "2022-05-25T19:56:02.716Z"
   },
   {
    "duration": 70,
    "start_time": "2022-05-25T19:56:02.724Z"
   },
   {
    "duration": 56,
    "start_time": "2022-05-25T19:56:02.795Z"
   },
   {
    "duration": 28,
    "start_time": "2022-05-25T19:56:02.853Z"
   },
   {
    "duration": 29,
    "start_time": "2022-05-25T19:56:02.883Z"
   },
   {
    "duration": 18,
    "start_time": "2022-05-25T19:56:02.913Z"
   },
   {
    "duration": 10,
    "start_time": "2022-05-25T19:56:02.933Z"
   },
   {
    "duration": 24,
    "start_time": "2022-05-25T19:56:02.945Z"
   },
   {
    "duration": 37,
    "start_time": "2022-05-25T19:56:02.970Z"
   },
   {
    "duration": 28,
    "start_time": "2022-05-25T19:56:03.009Z"
   },
   {
    "duration": 19,
    "start_time": "2022-05-25T19:56:03.041Z"
   },
   {
    "duration": 21,
    "start_time": "2022-05-25T19:56:03.061Z"
   },
   {
    "duration": 30,
    "start_time": "2022-05-25T19:56:03.084Z"
   },
   {
    "duration": 70,
    "start_time": "2022-05-25T19:56:03.115Z"
   },
   {
    "duration": 9,
    "start_time": "2022-05-25T19:56:03.186Z"
   },
   {
    "duration": 37,
    "start_time": "2022-05-25T19:56:03.197Z"
   },
   {
    "duration": 28,
    "start_time": "2022-05-25T19:56:03.236Z"
   },
   {
    "duration": 6,
    "start_time": "2022-05-25T19:56:03.266Z"
   },
   {
    "duration": 52,
    "start_time": "2022-05-25T19:56:03.273Z"
   },
   {
    "duration": 27,
    "start_time": "2022-05-25T19:56:03.327Z"
   },
   {
    "duration": 22,
    "start_time": "2022-05-25T19:56:03.355Z"
   },
   {
    "duration": 19,
    "start_time": "2022-05-25T19:56:03.378Z"
   },
   {
    "duration": 35,
    "start_time": "2022-05-25T19:56:03.399Z"
   },
   {
    "duration": 23,
    "start_time": "2022-05-25T19:56:03.436Z"
   },
   {
    "duration": 24,
    "start_time": "2022-05-25T19:56:03.461Z"
   },
   {
    "duration": 29,
    "start_time": "2022-05-25T19:56:03.487Z"
   },
   {
    "duration": 21,
    "start_time": "2022-05-25T19:56:03.518Z"
   },
   {
    "duration": 10,
    "start_time": "2022-05-25T19:56:03.540Z"
   },
   {
    "duration": 46,
    "start_time": "2022-05-25T19:56:03.551Z"
   },
   {
    "duration": 21,
    "start_time": "2022-05-25T19:56:03.599Z"
   },
   {
    "duration": 33,
    "start_time": "2022-05-25T19:56:03.621Z"
   },
   {
    "duration": 53,
    "start_time": "2022-05-25T19:56:03.655Z"
   },
   {
    "duration": 105,
    "start_time": "2022-05-25T19:56:03.709Z"
   },
   {
    "duration": 6,
    "start_time": "2022-05-25T19:56:03.815Z"
   },
   {
    "duration": 42,
    "start_time": "2022-05-25T19:56:03.822Z"
   },
   {
    "duration": 74,
    "start_time": "2022-05-25T19:56:03.866Z"
   },
   {
    "duration": 16,
    "start_time": "2022-05-25T19:56:03.942Z"
   },
   {
    "duration": 26,
    "start_time": "2022-05-25T19:56:03.959Z"
   },
   {
    "duration": 119,
    "start_time": "2022-05-25T19:56:03.987Z"
   },
   {
    "duration": 3,
    "start_time": "2022-05-25T19:56:04.107Z"
   },
   {
    "duration": 92,
    "start_time": "2022-05-25T19:56:04.111Z"
   },
   {
    "duration": 6,
    "start_time": "2022-05-25T19:56:04.204Z"
   },
   {
    "duration": 21,
    "start_time": "2022-05-25T19:56:04.212Z"
   },
   {
    "duration": 39,
    "start_time": "2022-05-25T19:56:04.234Z"
   },
   {
    "duration": 42,
    "start_time": "2022-05-25T19:56:04.275Z"
   },
   {
    "duration": 59,
    "start_time": "2022-05-25T19:56:04.318Z"
   },
   {
    "duration": 555,
    "start_time": "2022-05-25T19:56:04.379Z"
   },
   {
    "duration": 551,
    "start_time": "2022-05-25T19:56:04.936Z"
   },
   {
    "duration": 712,
    "start_time": "2022-05-25T19:56:05.489Z"
   },
   {
    "duration": 34,
    "start_time": "2022-05-25T19:56:06.203Z"
   },
   {
    "duration": 10,
    "start_time": "2022-05-25T19:56:06.239Z"
   },
   {
    "duration": 29,
    "start_time": "2022-05-25T19:56:06.251Z"
   },
   {
    "duration": 34,
    "start_time": "2022-05-25T19:56:06.281Z"
   },
   {
    "duration": 4,
    "start_time": "2022-05-25T19:56:06.317Z"
   },
   {
    "duration": 38,
    "start_time": "2022-05-25T19:56:06.322Z"
   },
   {
    "duration": 3,
    "start_time": "2022-05-25T20:00:08.079Z"
   },
   {
    "duration": 3,
    "start_time": "2022-05-25T20:00:08.751Z"
   },
   {
    "duration": 3,
    "start_time": "2022-05-25T20:00:50.041Z"
   },
   {
    "duration": 3,
    "start_time": "2022-05-25T20:00:55.678Z"
   },
   {
    "duration": 4,
    "start_time": "2022-05-25T20:00:55.886Z"
   },
   {
    "duration": 3,
    "start_time": "2022-05-25T20:22:01.944Z"
   },
   {
    "duration": 194,
    "start_time": "2022-05-25T20:22:01.951Z"
   },
   {
    "duration": 26,
    "start_time": "2022-05-25T20:22:02.146Z"
   },
   {
    "duration": 141,
    "start_time": "2022-05-25T20:22:02.174Z"
   },
   {
    "duration": 24,
    "start_time": "2022-05-25T20:22:02.316Z"
   },
   {
    "duration": 7,
    "start_time": "2022-05-25T20:22:02.342Z"
   },
   {
    "duration": 110,
    "start_time": "2022-05-25T20:22:02.351Z"
   },
   {
    "duration": 20,
    "start_time": "2022-05-25T20:22:02.462Z"
   },
   {
    "duration": 20,
    "start_time": "2022-05-25T20:22:02.483Z"
   },
   {
    "duration": 16,
    "start_time": "2022-05-25T20:22:02.504Z"
   },
   {
    "duration": 35,
    "start_time": "2022-05-25T20:22:02.521Z"
   },
   {
    "duration": 11,
    "start_time": "2022-05-25T20:22:02.558Z"
   },
   {
    "duration": 104,
    "start_time": "2022-05-25T20:22:02.570Z"
   },
   {
    "duration": 6,
    "start_time": "2022-05-25T20:22:02.676Z"
   },
   {
    "duration": 57,
    "start_time": "2022-05-25T20:22:02.684Z"
   },
   {
    "duration": 53,
    "start_time": "2022-05-25T20:22:02.743Z"
   },
   {
    "duration": 39,
    "start_time": "2022-05-25T20:22:02.798Z"
   },
   {
    "duration": 21,
    "start_time": "2022-05-25T20:22:02.839Z"
   },
   {
    "duration": 18,
    "start_time": "2022-05-25T20:22:02.862Z"
   },
   {
    "duration": 5,
    "start_time": "2022-05-25T20:22:02.882Z"
   },
   {
    "duration": 28,
    "start_time": "2022-05-25T20:22:02.888Z"
   },
   {
    "duration": 15,
    "start_time": "2022-05-25T20:22:02.918Z"
   },
   {
    "duration": 12,
    "start_time": "2022-05-25T20:22:02.935Z"
   },
   {
    "duration": 10,
    "start_time": "2022-05-25T20:22:02.949Z"
   },
   {
    "duration": 6,
    "start_time": "2022-05-25T20:22:02.961Z"
   },
   {
    "duration": 7,
    "start_time": "2022-05-25T20:22:02.969Z"
   },
   {
    "duration": 76,
    "start_time": "2022-05-25T20:22:02.977Z"
   },
   {
    "duration": 10,
    "start_time": "2022-05-25T20:22:03.055Z"
   },
   {
    "duration": 20,
    "start_time": "2022-05-25T20:22:03.067Z"
   },
   {
    "duration": 40,
    "start_time": "2022-05-25T20:22:03.089Z"
   },
   {
    "duration": 6,
    "start_time": "2022-05-25T20:22:03.131Z"
   },
   {
    "duration": 23,
    "start_time": "2022-05-25T20:22:03.138Z"
   },
   {
    "duration": 19,
    "start_time": "2022-05-25T20:22:03.162Z"
   },
   {
    "duration": 15,
    "start_time": "2022-05-25T20:22:03.213Z"
   },
   {
    "duration": 9,
    "start_time": "2022-05-25T20:22:03.229Z"
   },
   {
    "duration": 23,
    "start_time": "2022-05-25T20:22:03.240Z"
   },
   {
    "duration": 17,
    "start_time": "2022-05-25T20:22:03.265Z"
   },
   {
    "duration": 44,
    "start_time": "2022-05-25T20:22:03.284Z"
   },
   {
    "duration": 16,
    "start_time": "2022-05-25T20:22:03.329Z"
   },
   {
    "duration": 15,
    "start_time": "2022-05-25T20:22:03.347Z"
   },
   {
    "duration": 4,
    "start_time": "2022-05-25T20:22:03.363Z"
   },
   {
    "duration": 52,
    "start_time": "2022-05-25T20:22:03.372Z"
   },
   {
    "duration": 11,
    "start_time": "2022-05-25T20:22:03.426Z"
   },
   {
    "duration": 7,
    "start_time": "2022-05-25T20:22:03.438Z"
   },
   {
    "duration": 5,
    "start_time": "2022-05-25T20:22:03.447Z"
   },
   {
    "duration": 72,
    "start_time": "2022-05-25T20:22:03.453Z"
   },
   {
    "duration": 6,
    "start_time": "2022-05-25T20:22:03.527Z"
   },
   {
    "duration": 5,
    "start_time": "2022-05-25T20:22:03.535Z"
   },
   {
    "duration": 49,
    "start_time": "2022-05-25T20:22:03.541Z"
   },
   {
    "duration": 17,
    "start_time": "2022-05-25T20:22:03.613Z"
   },
   {
    "duration": 5,
    "start_time": "2022-05-25T20:22:03.632Z"
   },
   {
    "duration": 76,
    "start_time": "2022-05-25T20:22:03.639Z"
   },
   {
    "duration": 3,
    "start_time": "2022-05-25T20:22:03.716Z"
   },
   {
    "duration": 68,
    "start_time": "2022-05-25T20:22:03.720Z"
   },
   {
    "duration": 6,
    "start_time": "2022-05-25T20:22:03.790Z"
   },
   {
    "duration": 19,
    "start_time": "2022-05-25T20:22:03.797Z"
   },
   {
    "duration": 11,
    "start_time": "2022-05-25T20:22:03.817Z"
   },
   {
    "duration": 5,
    "start_time": "2022-05-25T20:22:03.830Z"
   },
   {
    "duration": 40,
    "start_time": "2022-05-25T20:22:03.837Z"
   },
   {
    "duration": 586,
    "start_time": "2022-05-25T20:22:03.878Z"
   },
   {
    "duration": 584,
    "start_time": "2022-05-25T20:22:04.466Z"
   },
   {
    "duration": 761,
    "start_time": "2022-05-25T20:22:05.051Z"
   },
   {
    "duration": 30,
    "start_time": "2022-05-25T20:22:05.813Z"
   },
   {
    "duration": 9,
    "start_time": "2022-05-25T20:22:05.845Z"
   },
   {
    "duration": 11,
    "start_time": "2022-05-25T20:22:05.855Z"
   },
   {
    "duration": 57,
    "start_time": "2022-05-25T20:22:05.867Z"
   },
   {
    "duration": 3,
    "start_time": "2022-05-25T20:22:05.925Z"
   },
   {
    "duration": 8,
    "start_time": "2022-05-25T20:22:05.929Z"
   },
   {
    "duration": 31,
    "start_time": "2022-05-25T20:26:33.483Z"
   },
   {
    "duration": 3,
    "start_time": "2022-05-25T20:26:49.586Z"
   },
   {
    "duration": 175,
    "start_time": "2022-05-25T20:26:49.590Z"
   },
   {
    "duration": 48,
    "start_time": "2022-05-25T20:26:49.767Z"
   },
   {
    "duration": 129,
    "start_time": "2022-05-25T20:26:49.816Z"
   },
   {
    "duration": 21,
    "start_time": "2022-05-25T20:26:49.947Z"
   },
   {
    "duration": 6,
    "start_time": "2022-05-25T20:26:49.970Z"
   },
   {
    "duration": 96,
    "start_time": "2022-05-25T20:26:49.977Z"
   },
   {
    "duration": 18,
    "start_time": "2022-05-25T20:26:50.074Z"
   },
   {
    "duration": 23,
    "start_time": "2022-05-25T20:26:50.094Z"
   },
   {
    "duration": 11,
    "start_time": "2022-05-25T20:26:50.118Z"
   },
   {
    "duration": 35,
    "start_time": "2022-05-25T20:26:50.131Z"
   },
   {
    "duration": 11,
    "start_time": "2022-05-25T20:26:50.168Z"
   },
   {
    "duration": 94,
    "start_time": "2022-05-25T20:26:50.181Z"
   },
   {
    "duration": 6,
    "start_time": "2022-05-25T20:26:50.277Z"
   },
   {
    "duration": 57,
    "start_time": "2022-05-25T20:26:50.285Z"
   },
   {
    "duration": 53,
    "start_time": "2022-05-25T20:26:50.343Z"
   },
   {
    "duration": 41,
    "start_time": "2022-05-25T20:26:50.398Z"
   },
   {
    "duration": 22,
    "start_time": "2022-05-25T20:26:50.441Z"
   },
   {
    "duration": 19,
    "start_time": "2022-05-25T20:26:50.464Z"
   },
   {
    "duration": 5,
    "start_time": "2022-05-25T20:26:50.484Z"
   },
   {
    "duration": 4,
    "start_time": "2022-05-25T20:26:50.511Z"
   },
   {
    "duration": 15,
    "start_time": "2022-05-25T20:26:50.517Z"
   },
   {
    "duration": 13,
    "start_time": "2022-05-25T20:26:50.534Z"
   },
   {
    "duration": 10,
    "start_time": "2022-05-25T20:26:50.548Z"
   },
   {
    "duration": 7,
    "start_time": "2022-05-25T20:26:50.559Z"
   },
   {
    "duration": 7,
    "start_time": "2022-05-25T20:26:50.568Z"
   },
   {
    "duration": 77,
    "start_time": "2022-05-25T20:26:50.577Z"
   },
   {
    "duration": 8,
    "start_time": "2022-05-25T20:26:50.655Z"
   },
   {
    "duration": 18,
    "start_time": "2022-05-25T20:26:50.667Z"
   },
   {
    "duration": 41,
    "start_time": "2022-05-25T20:26:50.687Z"
   },
   {
    "duration": 6,
    "start_time": "2022-05-25T20:26:50.729Z"
   },
   {
    "duration": 23,
    "start_time": "2022-05-25T20:26:50.737Z"
   },
   {
    "duration": 19,
    "start_time": "2022-05-25T20:26:50.762Z"
   },
   {
    "duration": 43,
    "start_time": "2022-05-25T20:26:50.782Z"
   },
   {
    "duration": 10,
    "start_time": "2022-05-25T20:26:50.826Z"
   },
   {
    "duration": 26,
    "start_time": "2022-05-25T20:26:50.838Z"
   },
   {
    "duration": 16,
    "start_time": "2022-05-25T20:26:50.866Z"
   },
   {
    "duration": 41,
    "start_time": "2022-05-25T20:26:50.884Z"
   },
   {
    "duration": 15,
    "start_time": "2022-05-25T20:26:50.926Z"
   },
   {
    "duration": 17,
    "start_time": "2022-05-25T20:26:50.942Z"
   },
   {
    "duration": 3,
    "start_time": "2022-05-25T20:26:50.961Z"
   },
   {
    "duration": 47,
    "start_time": "2022-05-25T20:26:50.965Z"
   },
   {
    "duration": 10,
    "start_time": "2022-05-25T20:26:51.014Z"
   },
   {
    "duration": 6,
    "start_time": "2022-05-25T20:26:51.025Z"
   },
   {
    "duration": 4,
    "start_time": "2022-05-25T20:26:51.032Z"
   },
   {
    "duration": 50,
    "start_time": "2022-05-25T20:26:51.037Z"
   },
   {
    "duration": 28,
    "start_time": "2022-05-25T20:26:51.088Z"
   },
   {
    "duration": 4,
    "start_time": "2022-05-25T20:26:51.118Z"
   },
   {
    "duration": 56,
    "start_time": "2022-05-25T20:26:51.124Z"
   },
   {
    "duration": 17,
    "start_time": "2022-05-25T20:26:51.181Z"
   },
   {
    "duration": 15,
    "start_time": "2022-05-25T20:26:51.199Z"
   },
   {
    "duration": 61,
    "start_time": "2022-05-25T20:26:51.216Z"
   },
   {
    "duration": 3,
    "start_time": "2022-05-25T20:26:51.278Z"
   },
   {
    "duration": 76,
    "start_time": "2022-05-25T20:26:51.282Z"
   },
   {
    "duration": 6,
    "start_time": "2022-05-25T20:26:51.360Z"
   },
   {
    "duration": 4,
    "start_time": "2022-05-25T20:26:51.368Z"
   },
   {
    "duration": 8,
    "start_time": "2022-05-25T20:26:51.374Z"
   },
   {
    "duration": 5,
    "start_time": "2022-05-25T20:26:51.383Z"
   },
   {
    "duration": 52,
    "start_time": "2022-05-25T20:26:51.414Z"
   },
   {
    "duration": 567,
    "start_time": "2022-05-25T20:26:51.468Z"
   },
   {
    "duration": 549,
    "start_time": "2022-05-25T20:26:52.037Z"
   },
   {
    "duration": 725,
    "start_time": "2022-05-25T20:26:52.588Z"
   },
   {
    "duration": 28,
    "start_time": "2022-05-25T20:26:53.315Z"
   },
   {
    "duration": 9,
    "start_time": "2022-05-25T20:26:53.344Z"
   },
   {
    "duration": 9,
    "start_time": "2022-05-25T20:26:53.355Z"
   },
   {
    "duration": 48,
    "start_time": "2022-05-25T20:26:53.365Z"
   },
   {
    "duration": 3,
    "start_time": "2022-05-25T20:26:53.414Z"
   },
   {
    "duration": 8,
    "start_time": "2022-05-25T20:26:53.418Z"
   },
   {
    "duration": 47,
    "start_time": "2022-05-25T20:28:33.127Z"
   },
   {
    "duration": 1342,
    "start_time": "2022-05-27T15:16:12.422Z"
   },
   {
    "duration": 232,
    "start_time": "2022-05-27T15:16:13.766Z"
   },
   {
    "duration": 27,
    "start_time": "2022-05-27T15:16:14.001Z"
   },
   {
    "duration": 547,
    "start_time": "2022-05-27T15:16:14.029Z"
   },
   {
    "duration": 22,
    "start_time": "2022-05-27T15:16:14.578Z"
   },
   {
    "duration": 9,
    "start_time": "2022-05-27T15:16:14.602Z"
   },
   {
    "duration": 346,
    "start_time": "2022-05-27T15:16:14.612Z"
   },
   {
    "duration": 19,
    "start_time": "2022-05-27T15:16:14.959Z"
   },
   {
    "duration": 68,
    "start_time": "2022-05-27T15:16:14.980Z"
   },
   {
    "duration": 11,
    "start_time": "2022-05-27T15:16:15.050Z"
   },
   {
    "duration": 65,
    "start_time": "2022-05-27T15:16:15.062Z"
   },
   {
    "duration": 11,
    "start_time": "2022-05-27T15:16:15.129Z"
   },
   {
    "duration": 106,
    "start_time": "2022-05-27T15:16:15.141Z"
   },
   {
    "duration": 10,
    "start_time": "2022-05-27T15:16:15.250Z"
   },
   {
    "duration": 48,
    "start_time": "2022-05-27T15:16:15.262Z"
   },
   {
    "duration": 83,
    "start_time": "2022-05-27T15:16:15.312Z"
   },
   {
    "duration": 32,
    "start_time": "2022-05-27T15:16:15.397Z"
   },
   {
    "duration": 36,
    "start_time": "2022-05-27T15:16:15.430Z"
   },
   {
    "duration": 21,
    "start_time": "2022-05-27T15:16:15.468Z"
   },
   {
    "duration": 5,
    "start_time": "2022-05-27T15:16:15.490Z"
   },
   {
    "duration": 9,
    "start_time": "2022-05-27T15:16:15.496Z"
   },
   {
    "duration": 17,
    "start_time": "2022-05-27T15:16:15.506Z"
   },
   {
    "duration": 11,
    "start_time": "2022-05-27T15:16:15.525Z"
   },
   {
    "duration": 10,
    "start_time": "2022-05-27T15:16:15.559Z"
   },
   {
    "duration": 5,
    "start_time": "2022-05-27T15:16:15.571Z"
   },
   {
    "duration": 7,
    "start_time": "2022-05-27T15:16:15.577Z"
   },
   {
    "duration": 74,
    "start_time": "2022-05-27T15:16:15.585Z"
   },
   {
    "duration": 9,
    "start_time": "2022-05-27T15:16:15.660Z"
   },
   {
    "duration": 30,
    "start_time": "2022-05-27T15:16:15.671Z"
   },
   {
    "duration": 23,
    "start_time": "2022-05-27T15:16:15.703Z"
   },
   {
    "duration": 7,
    "start_time": "2022-05-27T15:16:15.727Z"
   },
   {
    "duration": 48,
    "start_time": "2022-05-27T15:16:15.735Z"
   },
   {
    "duration": 21,
    "start_time": "2022-05-27T15:16:15.785Z"
   },
   {
    "duration": 17,
    "start_time": "2022-05-27T15:16:15.808Z"
   },
   {
    "duration": 32,
    "start_time": "2022-05-27T15:16:15.827Z"
   },
   {
    "duration": 22,
    "start_time": "2022-05-27T15:16:15.860Z"
   },
   {
    "duration": 26,
    "start_time": "2022-05-27T15:16:15.883Z"
   },
   {
    "duration": 28,
    "start_time": "2022-05-27T15:16:15.911Z"
   },
   {
    "duration": 22,
    "start_time": "2022-05-27T15:16:15.940Z"
   },
   {
    "duration": 22,
    "start_time": "2022-05-27T15:16:15.963Z"
   },
   {
    "duration": 7,
    "start_time": "2022-05-27T15:16:15.989Z"
   },
   {
    "duration": 37,
    "start_time": "2022-05-27T15:16:15.997Z"
   },
   {
    "duration": 12,
    "start_time": "2022-05-27T15:16:16.036Z"
   },
   {
    "duration": 17,
    "start_time": "2022-05-27T15:16:16.049Z"
   },
   {
    "duration": 22,
    "start_time": "2022-05-27T15:16:16.067Z"
   },
   {
    "duration": 68,
    "start_time": "2022-05-27T15:16:16.091Z"
   },
   {
    "duration": 6,
    "start_time": "2022-05-27T15:16:16.161Z"
   },
   {
    "duration": 28,
    "start_time": "2022-05-27T15:16:16.168Z"
   },
   {
    "duration": 95,
    "start_time": "2022-05-27T15:16:16.197Z"
   },
   {
    "duration": 16,
    "start_time": "2022-05-27T15:16:16.294Z"
   },
   {
    "duration": 27,
    "start_time": "2022-05-27T15:16:16.311Z"
   },
   {
    "duration": 74,
    "start_time": "2022-05-27T15:16:16.340Z"
   },
   {
    "duration": 3,
    "start_time": "2022-05-27T15:16:16.416Z"
   },
   {
    "duration": 87,
    "start_time": "2022-05-27T15:16:16.420Z"
   },
   {
    "duration": 6,
    "start_time": "2022-05-27T15:16:16.509Z"
   },
   {
    "duration": 25,
    "start_time": "2022-05-27T15:16:16.516Z"
   },
   {
    "duration": 43,
    "start_time": "2022-05-27T15:16:16.543Z"
   },
   {
    "duration": 14,
    "start_time": "2022-05-27T15:16:16.587Z"
   },
   {
    "duration": 46,
    "start_time": "2022-05-27T15:16:16.603Z"
   },
   {
    "duration": 734,
    "start_time": "2022-05-27T15:16:16.651Z"
   },
   {
    "duration": 602,
    "start_time": "2022-05-27T15:16:17.387Z"
   },
   {
    "duration": 604,
    "start_time": "2022-05-27T15:16:17.991Z"
   },
   {
    "duration": 30,
    "start_time": "2022-05-27T15:16:18.597Z"
   },
   {
    "duration": 9,
    "start_time": "2022-05-27T15:16:18.629Z"
   },
   {
    "duration": 9,
    "start_time": "2022-05-27T15:16:18.659Z"
   },
   {
    "duration": 139,
    "start_time": "2022-05-27T15:16:18.669Z"
   },
   {
    "duration": 2,
    "start_time": "2022-05-27T15:16:18.810Z"
   },
   {
    "duration": 8,
    "start_time": "2022-05-27T15:16:18.814Z"
   },
   {
    "duration": 31,
    "start_time": "2022-05-27T15:17:25.279Z"
   },
   {
    "duration": 3,
    "start_time": "2022-05-27T15:18:42.682Z"
   },
   {
    "duration": 166,
    "start_time": "2022-05-27T15:18:43.038Z"
   },
   {
    "duration": 26,
    "start_time": "2022-05-27T15:18:43.426Z"
   },
   {
    "duration": 137,
    "start_time": "2022-05-27T15:18:44.210Z"
   },
   {
    "duration": 20,
    "start_time": "2022-05-27T15:18:44.414Z"
   },
   {
    "duration": 7,
    "start_time": "2022-05-27T15:18:44.824Z"
   },
   {
    "duration": 101,
    "start_time": "2022-05-27T15:18:45.622Z"
   },
   {
    "duration": 18,
    "start_time": "2022-05-27T15:18:45.809Z"
   },
   {
    "duration": 19,
    "start_time": "2022-05-27T15:18:46.413Z"
   },
   {
    "duration": 14,
    "start_time": "2022-05-27T15:18:46.612Z"
   },
   {
    "duration": 43,
    "start_time": "2022-05-27T15:18:48.044Z"
   },
   {
    "duration": 11,
    "start_time": "2022-05-27T15:18:48.230Z"
   },
   {
    "duration": 87,
    "start_time": "2022-05-27T15:18:51.218Z"
   },
   {
    "duration": 6,
    "start_time": "2022-05-27T15:18:51.416Z"
   },
   {
    "duration": 40,
    "start_time": "2022-05-27T15:18:51.612Z"
   },
   {
    "duration": 55,
    "start_time": "2022-05-27T15:18:51.821Z"
   },
   {
    "duration": 33,
    "start_time": "2022-05-27T15:18:53.081Z"
   },
   {
    "duration": 22,
    "start_time": "2022-05-27T15:18:53.296Z"
   },
   {
    "duration": 18,
    "start_time": "2022-05-27T15:18:53.508Z"
   },
   {
    "duration": 4,
    "start_time": "2022-05-27T15:18:53.715Z"
   },
   {
    "duration": 4,
    "start_time": "2022-05-27T15:18:53.912Z"
   },
   {
    "duration": 13,
    "start_time": "2022-05-27T15:18:54.624Z"
   },
   {
    "duration": 11,
    "start_time": "2022-05-27T15:18:54.834Z"
   },
   {
    "duration": 11,
    "start_time": "2022-05-27T15:18:55.085Z"
   },
   {
    "duration": 7,
    "start_time": "2022-05-27T15:18:55.291Z"
   },
   {
    "duration": 8,
    "start_time": "2022-05-27T15:18:56.825Z"
   },
   {
    "duration": 49,
    "start_time": "2022-05-27T15:18:57.507Z"
   },
   {
    "duration": 9,
    "start_time": "2022-05-27T15:18:58.084Z"
   },
   {
    "duration": 22,
    "start_time": "2022-05-27T15:18:58.808Z"
   },
   {
    "duration": 28,
    "start_time": "2022-05-27T15:19:03.104Z"
   },
   {
    "duration": 6,
    "start_time": "2022-05-27T15:19:04.108Z"
   },
   {
    "duration": 30,
    "start_time": "2022-05-27T15:19:06.180Z"
   },
   {
    "duration": 21,
    "start_time": "2022-05-27T15:19:06.834Z"
   },
   {
    "duration": 19,
    "start_time": "2022-05-27T15:19:08.527Z"
   },
   {
    "duration": 10,
    "start_time": "2022-05-27T15:19:09.029Z"
   },
   {
    "duration": 22,
    "start_time": "2022-05-27T15:19:12.443Z"
   },
   {
    "duration": 20,
    "start_time": "2022-05-27T15:19:17.723Z"
   },
   {
    "duration": 20,
    "start_time": "2022-05-27T15:19:20.004Z"
   },
   {
    "duration": 16,
    "start_time": "2022-05-27T15:19:21.647Z"
   },
   {
    "duration": 16,
    "start_time": "2022-05-27T15:19:22.168Z"
   },
   {
    "duration": 4,
    "start_time": "2022-05-27T15:19:23.033Z"
   },
   {
    "duration": 32,
    "start_time": "2022-05-27T15:19:23.488Z"
   },
   {
    "duration": 17,
    "start_time": "2022-05-27T15:19:23.712Z"
   },
   {
    "duration": 7,
    "start_time": "2022-05-27T15:19:24.009Z"
   },
   {
    "duration": 4,
    "start_time": "2022-05-27T15:19:29.192Z"
   },
   {
    "duration": 47,
    "start_time": "2022-05-27T15:19:41.092Z"
   },
   {
    "duration": 7,
    "start_time": "2022-05-27T15:19:46.610Z"
   },
   {
    "duration": 3,
    "start_time": "2022-05-27T15:26:23.498Z"
   },
   {
    "duration": 50,
    "start_time": "2022-05-27T15:26:32.454Z"
   },
   {
    "duration": 17,
    "start_time": "2022-05-27T15:26:49.890Z"
   },
   {
    "duration": 17,
    "start_time": "2022-05-27T15:27:10.245Z"
   },
   {
    "duration": 4,
    "start_time": "2022-05-27T15:29:39.721Z"
   },
   {
    "duration": 50,
    "start_time": "2022-05-27T15:29:49.809Z"
   },
   {
    "duration": 3,
    "start_time": "2022-05-27T15:29:56.824Z"
   },
   {
    "duration": 68,
    "start_time": "2022-05-27T15:30:07.709Z"
   },
   {
    "duration": 7,
    "start_time": "2022-05-27T15:30:17.838Z"
   },
   {
    "duration": 5,
    "start_time": "2022-05-27T15:30:21.709Z"
   },
   {
    "duration": 8,
    "start_time": "2022-05-27T15:30:22.646Z"
   },
   {
    "duration": 6,
    "start_time": "2022-05-27T15:30:25.715Z"
   },
   {
    "duration": 45,
    "start_time": "2022-05-27T15:30:32.719Z"
   },
   {
    "duration": 591,
    "start_time": "2022-05-27T15:30:35.658Z"
   },
   {
    "duration": 574,
    "start_time": "2022-05-27T15:30:39.506Z"
   },
   {
    "duration": 547,
    "start_time": "2022-05-27T15:30:41.209Z"
   },
   {
    "duration": 33,
    "start_time": "2022-05-27T15:30:43.081Z"
   },
   {
    "duration": 11,
    "start_time": "2022-05-27T15:30:45.090Z"
   },
   {
    "duration": 10,
    "start_time": "2022-05-27T15:30:48.094Z"
   },
   {
    "duration": 29,
    "start_time": "2022-05-27T15:30:48.817Z"
   },
   {
    "duration": 3,
    "start_time": "2022-05-27T15:30:49.014Z"
   },
   {
    "duration": 3,
    "start_time": "2022-05-27T15:30:49.202Z"
   },
   {
    "duration": 7,
    "start_time": "2022-05-27T15:40:57.235Z"
   },
   {
    "duration": 215,
    "start_time": "2022-05-27T15:40:57.245Z"
   },
   {
    "duration": 29,
    "start_time": "2022-05-27T15:40:57.462Z"
   },
   {
    "duration": 168,
    "start_time": "2022-05-27T15:40:57.493Z"
   },
   {
    "duration": 23,
    "start_time": "2022-05-27T15:40:57.663Z"
   },
   {
    "duration": 16,
    "start_time": "2022-05-27T15:40:57.688Z"
   },
   {
    "duration": 104,
    "start_time": "2022-05-27T15:40:57.705Z"
   },
   {
    "duration": 149,
    "start_time": "2022-05-27T15:40:57.810Z"
   },
   {
    "duration": 21,
    "start_time": "2022-05-27T15:40:57.961Z"
   },
   {
    "duration": 12,
    "start_time": "2022-05-27T15:40:57.984Z"
   },
   {
    "duration": 56,
    "start_time": "2022-05-27T15:40:57.998Z"
   },
   {
    "duration": 12,
    "start_time": "2022-05-27T15:40:58.055Z"
   },
   {
    "duration": 104,
    "start_time": "2022-05-27T15:40:58.068Z"
   },
   {
    "duration": 7,
    "start_time": "2022-05-27T15:40:58.174Z"
   },
   {
    "duration": 57,
    "start_time": "2022-05-27T15:40:58.182Z"
   },
   {
    "duration": 82,
    "start_time": "2022-05-27T15:40:58.241Z"
   },
   {
    "duration": 38,
    "start_time": "2022-05-27T15:40:58.325Z"
   },
   {
    "duration": 24,
    "start_time": "2022-05-27T15:40:58.365Z"
   },
   {
    "duration": 21,
    "start_time": "2022-05-27T15:40:58.390Z"
   },
   {
    "duration": 9,
    "start_time": "2022-05-27T15:40:58.413Z"
   },
   {
    "duration": 27,
    "start_time": "2022-05-27T15:40:58.423Z"
   },
   {
    "duration": 31,
    "start_time": "2022-05-27T15:40:58.451Z"
   },
   {
    "duration": 24,
    "start_time": "2022-05-27T15:40:58.484Z"
   },
   {
    "duration": 31,
    "start_time": "2022-05-27T15:40:58.510Z"
   },
   {
    "duration": 23,
    "start_time": "2022-05-27T15:40:58.543Z"
   },
   {
    "duration": 23,
    "start_time": "2022-05-27T15:40:58.568Z"
   },
   {
    "duration": 62,
    "start_time": "2022-05-27T15:40:58.592Z"
   },
   {
    "duration": 10,
    "start_time": "2022-05-27T15:40:58.656Z"
   },
   {
    "duration": 40,
    "start_time": "2022-05-27T15:40:58.672Z"
   },
   {
    "duration": 35,
    "start_time": "2022-05-27T15:40:58.714Z"
   },
   {
    "duration": 32,
    "start_time": "2022-05-27T15:40:58.751Z"
   },
   {
    "duration": 40,
    "start_time": "2022-05-27T15:40:58.785Z"
   },
   {
    "duration": 27,
    "start_time": "2022-05-27T15:40:58.827Z"
   },
   {
    "duration": 29,
    "start_time": "2022-05-27T15:40:58.856Z"
   },
   {
    "duration": 10,
    "start_time": "2022-05-27T15:40:58.887Z"
   },
   {
    "duration": 36,
    "start_time": "2022-05-27T15:40:58.899Z"
   },
   {
    "duration": 17,
    "start_time": "2022-05-27T15:40:58.937Z"
   },
   {
    "duration": 20,
    "start_time": "2022-05-27T15:40:58.959Z"
   },
   {
    "duration": 14,
    "start_time": "2022-05-27T15:40:58.981Z"
   },
   {
    "duration": 23,
    "start_time": "2022-05-27T15:40:58.997Z"
   },
   {
    "duration": 16,
    "start_time": "2022-05-27T15:40:59.021Z"
   },
   {
    "duration": 43,
    "start_time": "2022-05-27T15:40:59.039Z"
   },
   {
    "duration": 20,
    "start_time": "2022-05-27T15:40:59.084Z"
   },
   {
    "duration": 27,
    "start_time": "2022-05-27T15:40:59.106Z"
   },
   {
    "duration": 21,
    "start_time": "2022-05-27T15:40:59.135Z"
   },
   {
    "duration": 89,
    "start_time": "2022-05-27T15:40:59.158Z"
   },
   {
    "duration": 8,
    "start_time": "2022-05-27T15:40:59.249Z"
   },
   {
    "duration": 30,
    "start_time": "2022-05-27T15:40:59.258Z"
   },
   {
    "duration": 69,
    "start_time": "2022-05-27T15:40:59.290Z"
   },
   {
    "duration": 20,
    "start_time": "2022-05-27T15:40:59.360Z"
   },
   {
    "duration": 19,
    "start_time": "2022-05-27T15:40:59.381Z"
   },
   {
    "duration": 90,
    "start_time": "2022-05-27T15:40:59.401Z"
   },
   {
    "duration": 3,
    "start_time": "2022-05-27T15:40:59.493Z"
   },
   {
    "duration": 85,
    "start_time": "2022-05-27T15:40:59.498Z"
   },
   {
    "duration": 7,
    "start_time": "2022-05-27T15:40:59.585Z"
   },
   {
    "duration": 26,
    "start_time": "2022-05-27T15:40:59.594Z"
   },
   {
    "duration": 51,
    "start_time": "2022-05-27T15:40:59.621Z"
   },
   {
    "duration": 19,
    "start_time": "2022-05-27T15:40:59.674Z"
   },
   {
    "duration": 72,
    "start_time": "2022-05-27T15:40:59.695Z"
   },
   {
    "duration": 620,
    "start_time": "2022-05-27T15:40:59.769Z"
   },
   {
    "duration": 603,
    "start_time": "2022-05-27T15:41:00.390Z"
   },
   {
    "duration": 609,
    "start_time": "2022-05-27T15:41:00.995Z"
   },
   {
    "duration": 30,
    "start_time": "2022-05-27T15:41:01.606Z"
   },
   {
    "duration": 28,
    "start_time": "2022-05-27T15:41:01.638Z"
   },
   {
    "duration": 42,
    "start_time": "2022-05-27T15:41:01.668Z"
   },
   {
    "duration": 64,
    "start_time": "2022-05-27T15:41:01.712Z"
   },
   {
    "duration": 39,
    "start_time": "2022-05-27T15:41:01.778Z"
   },
   {
    "duration": 227,
    "start_time": "2022-05-27T15:41:01.818Z"
   },
   {
    "duration": 24,
    "start_time": "2022-05-27T15:52:09.245Z"
   },
   {
    "duration": 4,
    "start_time": "2022-05-27T15:52:10.942Z"
   },
   {
    "duration": 197,
    "start_time": "2022-05-27T15:52:10.948Z"
   },
   {
    "duration": 29,
    "start_time": "2022-05-27T15:52:11.159Z"
   },
   {
    "duration": 148,
    "start_time": "2022-05-27T15:52:11.191Z"
   },
   {
    "duration": 27,
    "start_time": "2022-05-27T15:52:11.341Z"
   },
   {
    "duration": 21,
    "start_time": "2022-05-27T15:52:11.370Z"
   },
   {
    "duration": 135,
    "start_time": "2022-05-27T15:52:11.393Z"
   },
   {
    "duration": 29,
    "start_time": "2022-05-27T15:52:11.530Z"
   },
   {
    "duration": 61,
    "start_time": "2022-05-27T15:52:11.561Z"
   },
   {
    "duration": 18,
    "start_time": "2022-05-27T15:52:11.623Z"
   },
   {
    "duration": 205,
    "start_time": "2022-05-27T15:52:11.643Z"
   },
   {
    "duration": 23,
    "start_time": "2022-05-27T15:52:11.850Z"
   },
   {
    "duration": 136,
    "start_time": "2022-05-27T15:52:11.875Z"
   },
   {
    "duration": 6,
    "start_time": "2022-05-27T15:52:12.014Z"
   },
   {
    "duration": 84,
    "start_time": "2022-05-27T15:52:12.022Z"
   },
   {
    "duration": 75,
    "start_time": "2022-05-27T15:52:12.108Z"
   },
   {
    "duration": 29,
    "start_time": "2022-05-27T15:52:12.185Z"
   },
   {
    "duration": 37,
    "start_time": "2022-05-27T15:52:12.216Z"
   },
   {
    "duration": 45,
    "start_time": "2022-05-27T15:52:12.255Z"
   },
   {
    "duration": 6,
    "start_time": "2022-05-27T15:52:12.302Z"
   },
   {
    "duration": 56,
    "start_time": "2022-05-27T15:52:12.309Z"
   },
   {
    "duration": 44,
    "start_time": "2022-05-27T15:52:12.368Z"
   },
   {
    "duration": 37,
    "start_time": "2022-05-27T15:52:12.413Z"
   },
   {
    "duration": 34,
    "start_time": "2022-05-27T15:52:12.452Z"
   },
   {
    "duration": 37,
    "start_time": "2022-05-27T15:52:12.488Z"
   },
   {
    "duration": 34,
    "start_time": "2022-05-27T15:52:12.527Z"
   },
   {
    "duration": 95,
    "start_time": "2022-05-27T15:52:12.562Z"
   },
   {
    "duration": 10,
    "start_time": "2022-05-27T15:52:12.660Z"
   },
   {
    "duration": 60,
    "start_time": "2022-05-27T15:52:12.672Z"
   },
   {
    "duration": 60,
    "start_time": "2022-05-27T15:52:12.734Z"
   },
   {
    "duration": 31,
    "start_time": "2022-05-27T15:52:12.796Z"
   },
   {
    "duration": 48,
    "start_time": "2022-05-27T15:52:12.828Z"
   },
   {
    "duration": 28,
    "start_time": "2022-05-27T15:52:12.877Z"
   },
   {
    "duration": 18,
    "start_time": "2022-05-27T15:52:12.906Z"
   },
   {
    "duration": 33,
    "start_time": "2022-05-27T15:52:12.928Z"
   },
   {
    "duration": 49,
    "start_time": "2022-05-27T15:52:12.963Z"
   },
   {
    "duration": 38,
    "start_time": "2022-05-27T15:52:13.014Z"
   },
   {
    "duration": 45,
    "start_time": "2022-05-27T15:52:13.054Z"
   },
   {
    "duration": 29,
    "start_time": "2022-05-27T15:52:13.101Z"
   },
   {
    "duration": 34,
    "start_time": "2022-05-27T15:52:13.133Z"
   },
   {
    "duration": 6,
    "start_time": "2022-05-27T15:52:13.175Z"
   },
   {
    "duration": 41,
    "start_time": "2022-05-27T15:52:13.185Z"
   },
   {
    "duration": 19,
    "start_time": "2022-05-27T15:52:13.228Z"
   },
   {
    "duration": 25,
    "start_time": "2022-05-27T15:52:13.248Z"
   },
   {
    "duration": 17,
    "start_time": "2022-05-27T15:52:13.275Z"
   },
   {
    "duration": 63,
    "start_time": "2022-05-27T15:52:13.293Z"
   },
   {
    "duration": 9,
    "start_time": "2022-05-27T15:52:13.357Z"
   },
   {
    "duration": 27,
    "start_time": "2022-05-27T15:52:13.369Z"
   },
   {
    "duration": 65,
    "start_time": "2022-05-27T15:52:13.397Z"
   },
   {
    "duration": 33,
    "start_time": "2022-05-27T15:52:13.465Z"
   },
   {
    "duration": 14,
    "start_time": "2022-05-27T15:52:13.499Z"
   },
   {
    "duration": 80,
    "start_time": "2022-05-27T15:52:13.514Z"
   },
   {
    "duration": 3,
    "start_time": "2022-05-27T15:52:13.596Z"
   },
   {
    "duration": 95,
    "start_time": "2022-05-27T15:52:13.601Z"
   },
   {
    "duration": 6,
    "start_time": "2022-05-27T15:52:13.697Z"
   },
   {
    "duration": 12,
    "start_time": "2022-05-27T15:52:13.705Z"
   },
   {
    "duration": 23,
    "start_time": "2022-05-27T15:52:13.719Z"
   },
   {
    "duration": 41,
    "start_time": "2022-05-27T15:52:13.743Z"
   },
   {
    "duration": 45,
    "start_time": "2022-05-27T15:52:13.786Z"
   },
   {
    "duration": 669,
    "start_time": "2022-05-27T15:52:13.833Z"
   },
   {
    "duration": 646,
    "start_time": "2022-05-27T15:52:14.503Z"
   },
   {
    "duration": 658,
    "start_time": "2022-05-27T15:52:15.151Z"
   },
   {
    "duration": 29,
    "start_time": "2022-05-27T15:52:15.811Z"
   },
   {
    "duration": 28,
    "start_time": "2022-05-27T15:52:15.842Z"
   },
   {
    "duration": 20,
    "start_time": "2022-05-27T15:52:15.873Z"
   },
   {
    "duration": 34,
    "start_time": "2022-05-27T15:52:15.895Z"
   },
   {
    "duration": 3,
    "start_time": "2022-05-27T15:52:15.931Z"
   },
   {
    "duration": 5,
    "start_time": "2022-05-27T15:52:15.965Z"
   },
   {
    "duration": 34,
    "start_time": "2022-05-27T15:52:15.974Z"
   }
  ],
  "kernelspec": {
   "display_name": "Python 3 (ipykernel)",
   "language": "python",
   "name": "python3"
  },
  "language_info": {
   "codemirror_mode": {
    "name": "ipython",
    "version": 3
   },
   "file_extension": ".py",
   "mimetype": "text/x-python",
   "name": "python",
   "nbconvert_exporter": "python",
   "pygments_lexer": "ipython3",
   "version": "3.9.12"
  },
  "toc": {
   "base_numbering": 1,
   "nav_menu": {
    "height": "438.991px",
    "width": "222.997px"
   },
   "number_sections": true,
   "sideBar": true,
   "skip_h1_title": true,
   "title_cell": "Содержание",
   "title_sidebar": "Contents",
   "toc_cell": true,
   "toc_position": {},
   "toc_section_display": true,
   "toc_window_display": true
  }
 },
 "nbformat": 4,
 "nbformat_minor": 2
}
