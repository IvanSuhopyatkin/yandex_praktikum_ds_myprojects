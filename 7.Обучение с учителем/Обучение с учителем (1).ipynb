{
 "cells": [
  {
   "cell_type": "markdown",
   "metadata": {
    "toc": true
   },
   "source": [
    "<h1>Содержание<span class=\"tocSkip\"></span></h1>\n",
    "<div class=\"toc\"><ul class=\"toc-item\"><li><span><a href=\"#Подготовка-данных\" data-toc-modified-id=\"Подготовка-данных-1\"><span class=\"toc-item-num\">1&nbsp;&nbsp;</span>Подготовка данных</a></span></li><li><span><a href=\"#Исследование-задачи\" data-toc-modified-id=\"Исследование-задачи-2\"><span class=\"toc-item-num\">2&nbsp;&nbsp;</span>Исследование задачи</a></span><ul class=\"toc-item\"><li><span><a href=\"#Дерево-решений:\" data-toc-modified-id=\"Дерево-решений:-2.1\"><span class=\"toc-item-num\">2.1&nbsp;&nbsp;</span>Дерево решений:</a></span></li><li><span><a href=\"#Случайный-лес:\" data-toc-modified-id=\"Случайный-лес:-2.2\"><span class=\"toc-item-num\">2.2&nbsp;&nbsp;</span>Случайный лес:</a></span></li><li><span><a href=\"#Логистическая-регрессия:\" data-toc-modified-id=\"Логистическая-регрессия:-2.3\"><span class=\"toc-item-num\">2.3&nbsp;&nbsp;</span>Логистическая регрессия:</a></span></li><li><span><a href=\"#вывод:\" data-toc-modified-id=\"вывод:-2.4\"><span class=\"toc-item-num\">2.4&nbsp;&nbsp;</span>вывод:</a></span></li></ul></li><li><span><a href=\"#Борьба-с-дисбалансом\" data-toc-modified-id=\"Борьба-с-дисбалансом-3\"><span class=\"toc-item-num\">3&nbsp;&nbsp;</span>Борьба с дисбалансом</a></span><ul class=\"toc-item\"><li><span><a href=\"#Дерево-решений:\" data-toc-modified-id=\"Дерево-решений:-3.1\"><span class=\"toc-item-num\">3.1&nbsp;&nbsp;</span>Дерево решений:</a></span></li><li><span><a href=\"#Случайный-лес:\" data-toc-modified-id=\"Случайный-лес:-3.2\"><span class=\"toc-item-num\">3.2&nbsp;&nbsp;</span>Случайный лес:</a></span></li><li><span><a href=\"#Логистическая-регрессия:\" data-toc-modified-id=\"Логистическая-регрессия:-3.3\"><span class=\"toc-item-num\">3.3&nbsp;&nbsp;</span>Логистическая регрессия:</a></span></li><li><span><a href=\"#Увеличение-выборки\" data-toc-modified-id=\"Увеличение-выборки-3.4\"><span class=\"toc-item-num\">3.4&nbsp;&nbsp;</span>Увеличение выборки</a></span></li><li><span><a href=\"#Уменьшение-выборки\" data-toc-modified-id=\"Уменьшение-выборки-3.5\"><span class=\"toc-item-num\">3.5&nbsp;&nbsp;</span>Уменьшение выборки</a></span></li></ul></li><li><span><a href=\"#Тестирование-модели\" data-toc-modified-id=\"Тестирование-модели-4\"><span class=\"toc-item-num\">4&nbsp;&nbsp;</span>Тестирование модели</a></span></li><li><span><a href=\"#Чек-лист-готовности-проекта\" data-toc-modified-id=\"Чек-лист-готовности-проекта-5\"><span class=\"toc-item-num\">5&nbsp;&nbsp;</span>Чек-лист готовности проекта</a></span></li></ul></div>"
   ]
  },
  {
   "cell_type": "markdown",
   "metadata": {},
   "source": [
    "# Отток клиентов"
   ]
  },
  {
   "cell_type": "markdown",
   "metadata": {},
   "source": [
    "Из «Бета-Банка» стали уходить клиенты. Каждый месяц. Немного, но заметно. Банковские маркетологи посчитали: сохранять текущих клиентов дешевле, чем привлекать новых.\n",
    "\n",
    "Нужно спрогнозировать, уйдёт клиент из банка в ближайшее время или нет. Вам предоставлены исторические данные о поведении клиентов и расторжении договоров с банком. \n",
    "\n",
    "Постройте модель с предельно большим значением *F1*-меры. Чтобы сдать проект успешно, нужно довести метрику до 0.59. Проверьте *F1*-меру на тестовой выборке самостоятельно.\n",
    "\n",
    "Дополнительно измеряйте *AUC-ROC*, сравнивайте её значение с *F1*-мерой.\n",
    "\n",
    "Источник данных: [https://www.kaggle.com/barelydedicated/bank-customer-churn-modeling](https://www.kaggle.com/barelydedicated/bank-customer-churn-modeling)"
   ]
  },
  {
   "cell_type": "markdown",
   "metadata": {},
   "source": [
    "## Подготовка данных"
   ]
  },
  {
   "cell_type": "markdown",
   "metadata": {},
   "source": [
    "импортируем необходимые библиотеки и сохраним данные о клиентах:"
   ]
  },
  {
   "cell_type": "code",
   "execution_count": 1,
   "metadata": {},
   "outputs": [],
   "source": [
    "import pandas as pd\n",
    "from sklearn.model_selection import train_test_split\n",
    "from sklearn.tree import DecisionTreeClassifier\n",
    "from sklearn.metrics import f1_score\n",
    "from sklearn.ensemble import RandomForestClassifier\n",
    "from sklearn.linear_model import LogisticRegression \n",
    "from sklearn.utils import shuffle\n",
    "from sklearn.metrics import roc_curve \n",
    "import matplotlib.pyplot as plt\n",
    "from sklearn.metrics import roc_auc_score\n",
    "from sklearn.preprocessing import StandardScaler "
   ]
  },
  {
   "cell_type": "code",
   "execution_count": 2,
   "metadata": {},
   "outputs": [],
   "source": [
    "try:\n",
    "    data=pd.read_csv('Churn.csv') \n",
    "except FileNotFoundError:\n",
    "    data=pd.read_csv('/datasets/Churn.csv')"
   ]
  },
  {
   "cell_type": "markdown",
   "metadata": {},
   "source": [
    "выведем первые 5 строк таблицы:"
   ]
  },
  {
   "cell_type": "code",
   "execution_count": 3,
   "metadata": {},
   "outputs": [
    {
     "data": {
      "text/html": [
       "<div>\n",
       "<style scoped>\n",
       "    .dataframe tbody tr th:only-of-type {\n",
       "        vertical-align: middle;\n",
       "    }\n",
       "\n",
       "    .dataframe tbody tr th {\n",
       "        vertical-align: top;\n",
       "    }\n",
       "\n",
       "    .dataframe thead th {\n",
       "        text-align: right;\n",
       "    }\n",
       "</style>\n",
       "<table border=\"1\" class=\"dataframe\">\n",
       "  <thead>\n",
       "    <tr style=\"text-align: right;\">\n",
       "      <th></th>\n",
       "      <th>RowNumber</th>\n",
       "      <th>CustomerId</th>\n",
       "      <th>Surname</th>\n",
       "      <th>CreditScore</th>\n",
       "      <th>Geography</th>\n",
       "      <th>Gender</th>\n",
       "      <th>Age</th>\n",
       "      <th>Tenure</th>\n",
       "      <th>Balance</th>\n",
       "      <th>NumOfProducts</th>\n",
       "      <th>HasCrCard</th>\n",
       "      <th>IsActiveMember</th>\n",
       "      <th>EstimatedSalary</th>\n",
       "      <th>Exited</th>\n",
       "    </tr>\n",
       "  </thead>\n",
       "  <tbody>\n",
       "    <tr>\n",
       "      <th>0</th>\n",
       "      <td>1</td>\n",
       "      <td>15634602</td>\n",
       "      <td>Hargrave</td>\n",
       "      <td>619</td>\n",
       "      <td>France</td>\n",
       "      <td>Female</td>\n",
       "      <td>42</td>\n",
       "      <td>2.0</td>\n",
       "      <td>0.00</td>\n",
       "      <td>1</td>\n",
       "      <td>1</td>\n",
       "      <td>1</td>\n",
       "      <td>101348.88</td>\n",
       "      <td>1</td>\n",
       "    </tr>\n",
       "    <tr>\n",
       "      <th>1</th>\n",
       "      <td>2</td>\n",
       "      <td>15647311</td>\n",
       "      <td>Hill</td>\n",
       "      <td>608</td>\n",
       "      <td>Spain</td>\n",
       "      <td>Female</td>\n",
       "      <td>41</td>\n",
       "      <td>1.0</td>\n",
       "      <td>83807.86</td>\n",
       "      <td>1</td>\n",
       "      <td>0</td>\n",
       "      <td>1</td>\n",
       "      <td>112542.58</td>\n",
       "      <td>0</td>\n",
       "    </tr>\n",
       "    <tr>\n",
       "      <th>2</th>\n",
       "      <td>3</td>\n",
       "      <td>15619304</td>\n",
       "      <td>Onio</td>\n",
       "      <td>502</td>\n",
       "      <td>France</td>\n",
       "      <td>Female</td>\n",
       "      <td>42</td>\n",
       "      <td>8.0</td>\n",
       "      <td>159660.80</td>\n",
       "      <td>3</td>\n",
       "      <td>1</td>\n",
       "      <td>0</td>\n",
       "      <td>113931.57</td>\n",
       "      <td>1</td>\n",
       "    </tr>\n",
       "    <tr>\n",
       "      <th>3</th>\n",
       "      <td>4</td>\n",
       "      <td>15701354</td>\n",
       "      <td>Boni</td>\n",
       "      <td>699</td>\n",
       "      <td>France</td>\n",
       "      <td>Female</td>\n",
       "      <td>39</td>\n",
       "      <td>1.0</td>\n",
       "      <td>0.00</td>\n",
       "      <td>2</td>\n",
       "      <td>0</td>\n",
       "      <td>0</td>\n",
       "      <td>93826.63</td>\n",
       "      <td>0</td>\n",
       "    </tr>\n",
       "    <tr>\n",
       "      <th>4</th>\n",
       "      <td>5</td>\n",
       "      <td>15737888</td>\n",
       "      <td>Mitchell</td>\n",
       "      <td>850</td>\n",
       "      <td>Spain</td>\n",
       "      <td>Female</td>\n",
       "      <td>43</td>\n",
       "      <td>2.0</td>\n",
       "      <td>125510.82</td>\n",
       "      <td>1</td>\n",
       "      <td>1</td>\n",
       "      <td>1</td>\n",
       "      <td>79084.10</td>\n",
       "      <td>0</td>\n",
       "    </tr>\n",
       "  </tbody>\n",
       "</table>\n",
       "</div>"
      ],
      "text/plain": [
       "   RowNumber  CustomerId   Surname  CreditScore Geography  Gender  Age  \\\n",
       "0          1    15634602  Hargrave          619    France  Female   42   \n",
       "1          2    15647311      Hill          608     Spain  Female   41   \n",
       "2          3    15619304      Onio          502    France  Female   42   \n",
       "3          4    15701354      Boni          699    France  Female   39   \n",
       "4          5    15737888  Mitchell          850     Spain  Female   43   \n",
       "\n",
       "   Tenure    Balance  NumOfProducts  HasCrCard  IsActiveMember  \\\n",
       "0     2.0       0.00              1          1               1   \n",
       "1     1.0   83807.86              1          0               1   \n",
       "2     8.0  159660.80              3          1               0   \n",
       "3     1.0       0.00              2          0               0   \n",
       "4     2.0  125510.82              1          1               1   \n",
       "\n",
       "   EstimatedSalary  Exited  \n",
       "0        101348.88       1  \n",
       "1        112542.58       0  \n",
       "2        113931.57       1  \n",
       "3         93826.63       0  \n",
       "4         79084.10       0  "
      ]
     },
     "execution_count": 3,
     "metadata": {},
     "output_type": "execute_result"
    }
   ],
   "source": [
    "data.head()"
   ]
  },
  {
   "cell_type": "markdown",
   "metadata": {},
   "source": [
    "и выведем информацию о данных:"
   ]
  },
  {
   "cell_type": "code",
   "execution_count": 4,
   "metadata": {},
   "outputs": [
    {
     "name": "stdout",
     "output_type": "stream",
     "text": [
      "<class 'pandas.core.frame.DataFrame'>\n",
      "RangeIndex: 10000 entries, 0 to 9999\n",
      "Data columns (total 14 columns):\n",
      " #   Column           Non-Null Count  Dtype  \n",
      "---  ------           --------------  -----  \n",
      " 0   RowNumber        10000 non-null  int64  \n",
      " 1   CustomerId       10000 non-null  int64  \n",
      " 2   Surname          10000 non-null  object \n",
      " 3   CreditScore      10000 non-null  int64  \n",
      " 4   Geography        10000 non-null  object \n",
      " 5   Gender           10000 non-null  object \n",
      " 6   Age              10000 non-null  int64  \n",
      " 7   Tenure           9091 non-null   float64\n",
      " 8   Balance          10000 non-null  float64\n",
      " 9   NumOfProducts    10000 non-null  int64  \n",
      " 10  HasCrCard        10000 non-null  int64  \n",
      " 11  IsActiveMember   10000 non-null  int64  \n",
      " 12  EstimatedSalary  10000 non-null  float64\n",
      " 13  Exited           10000 non-null  int64  \n",
      "dtypes: float64(3), int64(8), object(3)\n",
      "memory usage: 1.1+ MB\n"
     ]
    },
    {
     "data": {
      "text/plain": [
       "None"
      ]
     },
     "metadata": {},
     "output_type": "display_data"
    }
   ],
   "source": [
    "display(data.info())"
   ]
  },
  {
   "cell_type": "markdown",
   "metadata": {},
   "source": [
    "в `Tenure` обнаружено 909 пустых значений. Заменим их на ноль:"
   ]
  },
  {
   "cell_type": "code",
   "execution_count": 5,
   "metadata": {},
   "outputs": [],
   "source": [
    "data['Tenure'] = data['Tenure'].fillna(0) "
   ]
  },
  {
   "cell_type": "markdown",
   "metadata": {},
   "source": [
    "проверим что пустот больше нет:"
   ]
  },
  {
   "cell_type": "code",
   "execution_count": 6,
   "metadata": {},
   "outputs": [
    {
     "data": {
      "text/plain": [
       "RowNumber          0\n",
       "CustomerId         0\n",
       "Surname            0\n",
       "CreditScore        0\n",
       "Geography          0\n",
       "Gender             0\n",
       "Age                0\n",
       "Tenure             0\n",
       "Balance            0\n",
       "NumOfProducts      0\n",
       "HasCrCard          0\n",
       "IsActiveMember     0\n",
       "EstimatedSalary    0\n",
       "Exited             0\n",
       "dtype: int64"
      ]
     },
     "execution_count": 6,
     "metadata": {},
     "output_type": "execute_result"
    }
   ],
   "source": [
    "data.isna().sum()"
   ]
  },
  {
   "cell_type": "markdown",
   "metadata": {},
   "source": [
    "проверим данные на явные дубликаты:"
   ]
  },
  {
   "cell_type": "code",
   "execution_count": 7,
   "metadata": {},
   "outputs": [
    {
     "data": {
      "text/plain": [
       "0"
      ]
     },
     "execution_count": 7,
     "metadata": {},
     "output_type": "execute_result"
    }
   ],
   "source": [
    "data.duplicated().sum()"
   ]
  },
  {
   "cell_type": "markdown",
   "metadata": {},
   "source": [
    "данные выгружаются без ошибок, пустоты обработаны. Разобьем данные на выборки для машинного обучения:"
   ]
  },
  {
   "cell_type": "markdown",
   "metadata": {},
   "source": [
    "## Исследование задачи"
   ]
  },
  {
   "cell_type": "markdown",
   "metadata": {},
   "source": [
    "Посмотрим на доли объектов в целевом признаке:"
   ]
  },
  {
   "cell_type": "code",
   "execution_count": 8,
   "metadata": {},
   "outputs": [
    {
     "data": {
      "text/plain": [
       "0    7963\n",
       "1    2037\n",
       "Name: Exited, dtype: int64"
      ]
     },
     "execution_count": 8,
     "metadata": {},
     "output_type": "execute_result"
    }
   ],
   "source": [
    "data['Exited'].value_counts()"
   ]
  },
  {
   "cell_type": "markdown",
   "metadata": {},
   "source": [
    "нулей гораздо больше чем единиц: данные не сбалансированы. Обучим данные без учета несбалансированных данных."
   ]
  },
  {
   "cell_type": "markdown",
   "metadata": {},
   "source": [
    "уберем из признаков столбцы RowNumber,CustomerId,Surname. Они не нужны для обучения модели"
   ]
  },
  {
   "cell_type": "code",
   "execution_count": 9,
   "metadata": {},
   "outputs": [],
   "source": [
    "data = data.drop(['RowNumber','CustomerId','Surname'], axis=1)"
   ]
  },
  {
   "cell_type": "markdown",
   "metadata": {},
   "source": [
    "В наборе данных встречаются категориальные признаки. Чтобы преобразовать категориальные признаки в численные воспользуемся техникой One-Hot Encoding:"
   ]
  },
  {
   "cell_type": "code",
   "execution_count": 10,
   "metadata": {},
   "outputs": [],
   "source": [
    "data_ohe = pd.get_dummies(data, drop_first=True)"
   ]
  },
  {
   "cell_type": "markdown",
   "metadata": {},
   "source": [
    "разобьем исходные данные на обучающую выборку, валидационную выборку и тестовую выборку в соотношении 3:1:1. Для этого сначала разделим данные в соотношении 3:2, а затем вторую часть разделим в отношении 1:1 "
   ]
  },
  {
   "cell_type": "code",
   "execution_count": 11,
   "metadata": {},
   "outputs": [],
   "source": [
    "data_train,data_validtest = train_test_split(data_ohe, test_size=0.4, random_state=12345)\n",
    "\n",
    "data_valid,data_test=train_test_split(data_validtest, test_size=0.5, random_state=12345)"
   ]
  },
  {
   "cell_type": "markdown",
   "metadata": {},
   "source": [
    "проверим что данные поделились верно:"
   ]
  },
  {
   "cell_type": "code",
   "execution_count": 12,
   "metadata": {},
   "outputs": [
    {
     "name": "stdout",
     "output_type": "stream",
     "text": [
      "(6000, 12)\n",
      "(2000, 12)\n",
      "(2000, 12)\n"
     ]
    }
   ],
   "source": [
    "print(data_train.shape)\n",
    "print(data_valid.shape)\n",
    "print(data_test.shape)"
   ]
  },
  {
   "cell_type": "markdown",
   "metadata": {},
   "source": [
    "размер выборок поделился в отношении 6000:2000:2000, то есть в отношении 3:1:1. Все верно"
   ]
  },
  {
   "cell_type": "markdown",
   "metadata": {},
   "source": [
    "выделим обучающий набор данных:"
   ]
  },
  {
   "cell_type": "markdown",
   "metadata": {},
   "source": [
    "признаки:"
   ]
  },
  {
   "cell_type": "code",
   "execution_count": 13,
   "metadata": {},
   "outputs": [],
   "source": [
    "features_train = data_train.drop(['Exited'], axis=1)"
   ]
  },
  {
   "cell_type": "markdown",
   "metadata": {},
   "source": [
    "целевой признак:"
   ]
  },
  {
   "cell_type": "code",
   "execution_count": 14,
   "metadata": {},
   "outputs": [],
   "source": [
    "target_train = data_train['Exited']"
   ]
  },
  {
   "cell_type": "code",
   "execution_count": 15,
   "metadata": {},
   "outputs": [
    {
     "data": {
      "text/plain": [
       "pandas.core.frame.DataFrame"
      ]
     },
     "execution_count": 15,
     "metadata": {},
     "output_type": "execute_result"
    }
   ],
   "source": [
    "type(features_train)"
   ]
  },
  {
   "cell_type": "code",
   "execution_count": 16,
   "metadata": {},
   "outputs": [
    {
     "data": {
      "text/plain": [
       "pandas.core.series.Series"
      ]
     },
     "execution_count": 16,
     "metadata": {},
     "output_type": "execute_result"
    }
   ],
   "source": [
    "type(target_train)"
   ]
  },
  {
   "cell_type": "markdown",
   "metadata": {},
   "source": [
    "и аналогично для валидационной и тестовой выборок:"
   ]
  },
  {
   "cell_type": "code",
   "execution_count": 632,
   "metadata": {},
   "outputs": [],
   "source": [
    "features_valid = data_valid.drop(['Exited'], axis=1)\n",
    "target_valid = data_valid['Exited']"
   ]
  },
  {
   "cell_type": "code",
   "execution_count": 633,
   "metadata": {},
   "outputs": [],
   "source": [
    "features_test = data_test.drop(['Exited'], axis=1)\n",
    "target_test = data_test['Exited']"
   ]
  },
  {
   "cell_type": "markdown",
   "metadata": {},
   "source": [
    "целевой признак является категорийным, поэтому у нас стоит задача классификации. Обучим модель дерева принятия решений с параметром random_state=12345 и узнаем при каком значении максимальной глубины дерева max_depth будет максимальное значение метрики f1"
   ]
  },
  {
   "cell_type": "markdown",
   "metadata": {},
   "source": [
    "### Дерево решений:"
   ]
  },
  {
   "cell_type": "code",
   "execution_count": 634,
   "metadata": {},
   "outputs": [
    {
     "name": "stdout",
     "output_type": "stream",
     "text": [
      "наилучшая глубина дерева 9\n",
      "наилучшее значение f1 0.5786516853932585\n"
     ]
    }
   ],
   "source": [
    "best_depth = 0\n",
    "best_result = 0\n",
    "\n",
    "for i in range(1,30):\n",
    "    model_tree = DecisionTreeClassifier(max_depth=i,random_state=12345)\n",
    "    model_tree.fit(features_train,target_train)\n",
    "    predictions_valid=model_tree.predict(features_valid)\n",
    "    result=f1_score(target_valid, predictions_valid)\n",
    "    if result > best_result:\n",
    "        best_depth = i \n",
    "        best_result = result \n",
    "\n",
    "print('наилучшая глубина дерева',best_depth)\n",
    "print('наилучшее значение f1',best_result)"
   ]
  },
  {
   "cell_type": "markdown",
   "metadata": {},
   "source": [
    "теперь попробуем обучить модель случайного леса и выяснить количество деревьев `n_estimators` при котором достигается максимальное значение метрики f1. Так как случайный лес представляет собой набор из случайных деревьев f1 должна быть выше. Укажем параметр `max_depth=9` основываясь на предыдущем обучении."
   ]
  },
  {
   "cell_type": "markdown",
   "metadata": {},
   "source": [
    "### Случайный лес:"
   ]
  },
  {
   "cell_type": "code",
   "execution_count": 635,
   "metadata": {},
   "outputs": [
    {
     "name": "stdout",
     "output_type": "stream",
     "text": [
      "наилучшее число деревьев 6\n",
      "наилучшее значение f1 0.5807407407407408\n"
     ]
    }
   ],
   "source": [
    "best_depth = 0\n",
    "best_result = 0\n",
    "\n",
    "for i in range(1,120,5):\n",
    "    model_forest = RandomForestClassifier(n_estimators=i,max_depth=9,random_state=12345) \n",
    "    model_forest.fit(features_train,target_train)\n",
    "    predictions_valid=model_forest.predict(features_valid)\n",
    "    result=f1_score(target_valid, predictions_valid)\n",
    "    if result > best_result:\n",
    "        best_depth = i\n",
    "        best_result = result \n",
    "    \n",
    "    \n",
    "print('наилучшее число деревьев',best_depth)\n",
    "print('наилучшее значение f1',best_result)"
   ]
  },
  {
   "cell_type": "markdown",
   "metadata": {},
   "source": [
    "f1 действительно стало чуть выше, теперь попробуем обучить модель логистической регрессии:"
   ]
  },
  {
   "cell_type": "markdown",
   "metadata": {},
   "source": [
    "### Логистическая регрессия:"
   ]
  },
  {
   "cell_type": "code",
   "execution_count": 636,
   "metadata": {},
   "outputs": [
    {
     "name": "stdout",
     "output_type": "stream",
     "text": [
      "наилучшая количество деревьев 200\n",
      "наилучшая точность 0.08750000000000001\n"
     ]
    }
   ],
   "source": [
    "best_depth = 0\n",
    "best_result = 0\n",
    "\n",
    "for i in range(200, 1000,50):\n",
    "    model = LogisticRegression(random_state=12345, solver='lbfgs', max_iter=i) \n",
    "    model.fit(features_train,target_train)\n",
    "    predictions_valid=model.predict(features_valid)\n",
    "    result=f1_score(target_valid, predictions_valid)\n",
    "    if result > best_result:\n",
    "        best_depth = i\n",
    "        best_result = result \n",
    "    \n",
    "print('наилучшая количество деревьев',best_depth)\n",
    "print('наилучшая точность',best_result)"
   ]
  },
  {
   "cell_type": "markdown",
   "metadata": {},
   "source": [
    "метрика F1 для логистической регрессии крайне мала."
   ]
  },
  {
   "cell_type": "markdown",
   "metadata": {},
   "source": [
    "### вывод:\n",
    "Для данных хуже всего предсказывает модель логистической регрессии. Лучше всего - модель случайного леса с максимальной глубиной дерева равной 9."
   ]
  },
  {
   "cell_type": "markdown",
   "metadata": {},
   "source": [
    "## Борьба с дисбалансом"
   ]
  },
  {
   "cell_type": "markdown",
   "metadata": {},
   "source": [
    "чтобы маштабировать признаки запишем все численных признаки в список  `numeric`"
   ]
  },
  {
   "cell_type": "code",
   "execution_count": 637,
   "metadata": {},
   "outputs": [],
   "source": [
    "numeric = ['CreditScore','Age','Tenure','Balance','NumOfProducts','EstimatedSalary']"
   ]
  },
  {
   "cell_type": "markdown",
   "metadata": {},
   "source": [
    "Создадим объект scaler и обучим его на обучающих данных. "
   ]
  },
  {
   "cell_type": "code",
   "execution_count": 638,
   "metadata": {
    "scrolled": true
   },
   "outputs": [
    {
     "data": {
      "text/plain": [
       "StandardScaler()"
      ]
     },
     "execution_count": 638,
     "metadata": {},
     "output_type": "execute_result"
    }
   ],
   "source": [
    "scaler = StandardScaler()\n",
    "scaler.fit(features_train[numeric]) "
   ]
  },
  {
   "cell_type": "markdown",
   "metadata": {},
   "source": [
    "и сохраним обучающие, валидационные и тестирующие выборки:"
   ]
  },
  {
   "cell_type": "code",
   "execution_count": 639,
   "metadata": {},
   "outputs": [],
   "source": [
    "features_train[numeric] = scaler.transform(features_train[numeric])\n",
    "features_valid[numeric] = scaler.transform(features_valid[numeric]) \n",
    "features_test[numeric] = scaler.transform(features_test[numeric]) "
   ]
  },
  {
   "cell_type": "markdown",
   "metadata": {},
   "source": [
    "Чтобы сбалансировать данные укажем гиперпараметр `class_weight='balanced'` чтобы изменить вес классов : "
   ]
  },
  {
   "cell_type": "markdown",
   "metadata": {},
   "source": [
    "### Дерево решений:"
   ]
  },
  {
   "cell_type": "code",
   "execution_count": 640,
   "metadata": {},
   "outputs": [
    {
     "name": "stdout",
     "output_type": "stream",
     "text": [
      "наилучшая глубина дерева 5\n",
      "наилучшее значение f1 0.5963791267305644\n"
     ]
    }
   ],
   "source": [
    "best_depth = 0\n",
    "best_result = 0\n",
    "\n",
    "for i in range(1,30):\n",
    "    model_tree = DecisionTreeClassifier(class_weight='balanced',max_depth=i,random_state=12345)\n",
    "    model_tree.fit(features_train,target_train)\n",
    "    predictions_valid=model_tree.predict(features_valid)\n",
    "    result=f1_score(target_valid, predictions_valid)\n",
    "    if result > best_result:\n",
    "        best_depth = i \n",
    "        best_result = result \n",
    "\n",
    "print('наилучшая глубина дерева',best_depth)\n",
    "print('наилучшее значение f1',best_result)"
   ]
  },
  {
   "cell_type": "markdown",
   "metadata": {},
   "source": [
    "значение метрики улучшилось, теперь обучим модель случайного леса с взвешенными классами:"
   ]
  },
  {
   "cell_type": "markdown",
   "metadata": {},
   "source": [
    "### Случайный лес:"
   ]
  },
  {
   "cell_type": "code",
   "execution_count": 641,
   "metadata": {},
   "outputs": [
    {
     "name": "stdout",
     "output_type": "stream",
     "text": [
      "наилучшее число деревьев 61\n",
      "наилучшее значение f1 0.6126482213438735\n"
     ]
    }
   ],
   "source": [
    "best_depth = 0\n",
    "best_result = 0\n",
    "\n",
    "for i in range(1, 100,5):\n",
    "    model_forest = RandomForestClassifier(class_weight='balanced',n_estimators=i,max_depth=5,random_state=12345) \n",
    "    model_forest.fit(features_train,target_train)\n",
    "    predictions_valid=model_forest.predict(features_valid)\n",
    "    result=f1_score(target_valid, predictions_valid)\n",
    "    if result > best_result:\n",
    "        best_depth = i\n",
    "        best_result = result \n",
    "    \n",
    "    \n",
    "print('наилучшее число деревьев',best_depth)\n",
    "print('наилучшее значение f1',best_result)"
   ]
  },
  {
   "cell_type": "markdown",
   "metadata": {},
   "source": [
    "Значение f1 увеличилось. "
   ]
  },
  {
   "cell_type": "markdown",
   "metadata": {},
   "source": [
    "### Логистическая регрессия:"
   ]
  },
  {
   "cell_type": "code",
   "execution_count": 642,
   "metadata": {},
   "outputs": [
    {
     "name": "stdout",
     "output_type": "stream",
     "text": [
      "наилучшая количество деревьев 200\n",
      "наилучшая точность 0.4888888888888888\n"
     ]
    }
   ],
   "source": [
    "best_depth = 0\n",
    "best_result = 0\n",
    "\n",
    "for i in range(200, 1000,50):\n",
    "    model = LogisticRegression(class_weight='balanced',random_state=12345, solver='lbfgs', max_iter=i) \n",
    "    model.fit(features_train,target_train)\n",
    "    predictions_valid=model.predict(features_valid)\n",
    "    result=f1_score(target_valid, predictions_valid)\n",
    "    if result > best_result:\n",
    "        best_depth = i\n",
    "        best_result = result \n",
    "    \n",
    "print('наилучшая количество деревьев',best_depth)\n",
    "print('наилучшая точность',best_result)"
   ]
  },
  {
   "cell_type": "markdown",
   "metadata": {},
   "source": [
    "Значение f1 увеличилось для логистической регрессии, но все равно самое плохое из трех моделей. "
   ]
  },
  {
   "cell_type": "markdown",
   "metadata": {},
   "source": [
    "###  Увеличение выборки"
   ]
  },
  {
   "cell_type": "markdown",
   "metadata": {},
   "source": [
    "Попробуем увеличить долю единиц в выборке чтобы модель лучше научилась их предсказывать. Для этого используем функцию upsample"
   ]
  },
  {
   "cell_type": "code",
   "execution_count": 643,
   "metadata": {},
   "outputs": [],
   "source": [
    "def upsample(features, target, repeat):\n",
    "    #выделим отрицательные и положительные объекты:\n",
    "    features_zeros = features[target == 0]\n",
    "    features_ones = features[target == 1]\n",
    "    target_zeros = target[target == 0]\n",
    "    target_ones = target[target == 1]\n",
    "    #создадим новую обучающую выборку \n",
    "    features_upsampled = pd.concat([features_zeros] + [features_ones] * repeat)\n",
    "    target_upsampled = pd.concat([target_zeros] + [target_ones] * repeat)\n",
    "    #перемешам данные;\n",
    "    features_upsampled, target_upsampled = shuffle(features_upsampled, target_upsampled, random_state=12345)\n",
    "    \n",
    "    return features_upsampled, target_upsampled"
   ]
  },
  {
   "cell_type": "markdown",
   "metadata": {},
   "source": [
    "Обучим модель случайного дерева и сравним метрику f1 с аналогичной метрикой. Значение repeat будет равно 4, потому что единиц в 4 раза меньше нулей. "
   ]
  },
  {
   "cell_type": "code",
   "execution_count": 644,
   "metadata": {},
   "outputs": [],
   "source": [
    "features_upsampled, target_upsampled = upsample(features_train, target_train, 4)\n",
    "\n",
    "model = DecisionTreeClassifier(max_depth=9,random_state=12345)\n",
    "model.fit(features_upsampled,target_upsampled)\n",
    "predictions_valid=model.predict(features_valid)"
   ]
  },
  {
   "cell_type": "code",
   "execution_count": 645,
   "metadata": {},
   "outputs": [
    {
     "data": {
      "text/plain": [
       "0.5304518664047152"
      ]
     },
     "execution_count": 645,
     "metadata": {},
     "output_type": "execute_result"
    }
   ],
   "source": [
    "f1_score(target_valid, predictions_valid)"
   ]
  },
  {
   "cell_type": "markdown",
   "metadata": {},
   "source": [
    "Значение меньше чем в случае несбалансированых классов и в случае обученной модели с измененным весом классов."
   ]
  },
  {
   "cell_type": "code",
   "execution_count": 646,
   "metadata": {},
   "outputs": [],
   "source": [
    "model = RandomForestClassifier(n_estimators=41,max_depth=5,random_state=12345) \n",
    "model.fit(features_upsampled,target_upsampled)\n",
    "predictions_valid=model.predict(features_valid)"
   ]
  },
  {
   "cell_type": "code",
   "execution_count": 647,
   "metadata": {},
   "outputs": [
    {
     "data": {
      "text/plain": [
       "0.6017699115044247"
      ]
     },
     "execution_count": 647,
     "metadata": {},
     "output_type": "execute_result"
    }
   ],
   "source": [
    "f1_score(target_valid, predictions_valid)"
   ]
  },
  {
   "cell_type": "markdown",
   "metadata": {},
   "source": [
    "Значение лучше чем в случае несбалансированых классов. Но хуже в случае обученной модели с измененным весом классов."
   ]
  },
  {
   "cell_type": "code",
   "execution_count": 648,
   "metadata": {},
   "outputs": [],
   "source": [
    "model = LogisticRegression(random_state=12345, solver='lbfgs', max_iter=200) \n",
    "model.fit(features_upsampled,target_upsampled)\n",
    "predictions_valid=model.predict(features_valid)"
   ]
  },
  {
   "cell_type": "code",
   "execution_count": 649,
   "metadata": {},
   "outputs": [
    {
     "data": {
      "text/plain": [
       "0.4888888888888888"
      ]
     },
     "execution_count": 649,
     "metadata": {},
     "output_type": "execute_result"
    }
   ],
   "source": [
    "f1_score(target_valid, predictions_valid)"
   ]
  },
  {
   "cell_type": "markdown",
   "metadata": {},
   "source": [
    "Значение для логистической регрессии все еще хуже всех остальных."
   ]
  },
  {
   "cell_type": "markdown",
   "metadata": {},
   "source": [
    "###  Уменьшение выборки"
   ]
  },
  {
   "cell_type": "markdown",
   "metadata": {},
   "source": [
    "Вместо увеличения количества единиц попробуем уменьшить количество нулей. Для этого используем функцию downsample"
   ]
  },
  {
   "cell_type": "code",
   "execution_count": 650,
   "metadata": {},
   "outputs": [],
   "source": [
    "def downsample(features, target, fraction):\n",
    "    features_zeros = features[target == 0]\n",
    "    features_ones = features[target == 1]\n",
    "    target_zeros = target[target == 0]\n",
    "    target_ones = target[target == 1]\n",
    "\n",
    "    features_downsampled = pd.concat(\n",
    "        [features_zeros.sample(frac=fraction, random_state=12345)] + [features_ones])\n",
    "    target_downsampled = pd.concat(\n",
    "        [target_zeros.sample(frac=fraction, random_state=12345)] + [target_ones])\n",
    "    \n",
    "    features_downsampled, target_downsampled = shuffle(\n",
    "        features_downsampled, target_downsampled, random_state=12345)\n",
    "    \n",
    "    return features_downsampled, target_downsampled"
   ]
  },
  {
   "cell_type": "code",
   "execution_count": 651,
   "metadata": {},
   "outputs": [],
   "source": [
    "features_downsampled, target_downsampled = downsample(features_train, target_train, 0.25)"
   ]
  },
  {
   "cell_type": "markdown",
   "metadata": {},
   "source": [
    "обучим случайное дерево, случайный лес и Логистическую регрессию на полученных данных:"
   ]
  },
  {
   "cell_type": "code",
   "execution_count": 652,
   "metadata": {},
   "outputs": [],
   "source": [
    "model = DecisionTreeClassifier(max_depth=9,random_state=12345)\n",
    "model.fit(features_downsampled,target_downsampled)\n",
    "predictions_valid=model.predict(features_valid)"
   ]
  },
  {
   "cell_type": "code",
   "execution_count": 653,
   "metadata": {},
   "outputs": [
    {
     "data": {
      "text/plain": [
       "0.5355493998153279"
      ]
     },
     "execution_count": 653,
     "metadata": {},
     "output_type": "execute_result"
    }
   ],
   "source": [
    "f1_score(target_valid, predictions_valid)"
   ]
  },
  {
   "cell_type": "code",
   "execution_count": 654,
   "metadata": {},
   "outputs": [],
   "source": [
    "model = RandomForestClassifier(n_estimators=41,max_depth=5,random_state=12345) \n",
    "model.fit(features_downsampled,target_downsampled)\n",
    "predictions_valid=model.predict(features_valid)"
   ]
  },
  {
   "cell_type": "code",
   "execution_count": 655,
   "metadata": {},
   "outputs": [
    {
     "data": {
      "text/plain": [
       "0.5906542056074765"
      ]
     },
     "execution_count": 655,
     "metadata": {},
     "output_type": "execute_result"
    }
   ],
   "source": [
    "f1_score(target_valid, predictions_valid)"
   ]
  },
  {
   "cell_type": "code",
   "execution_count": 656,
   "metadata": {},
   "outputs": [],
   "source": [
    "model = LogisticRegression(random_state=12345, solver='lbfgs', max_iter=200) \n",
    "model.fit(features_downsampled,target_downsampled)\n",
    "predictions_valid=model.predict(features_valid)"
   ]
  },
  {
   "cell_type": "code",
   "execution_count": 657,
   "metadata": {},
   "outputs": [
    {
     "data": {
      "text/plain": [
       "0.4892703862660944"
      ]
     },
     "execution_count": 657,
     "metadata": {},
     "output_type": "execute_result"
    }
   ],
   "source": [
    "f1_score(target_valid, predictions_valid)"
   ]
  },
  {
   "cell_type": "markdown",
   "metadata": {},
   "source": [
    "ни одна из моделей обученная на уменьшенных данных не работает лучше."
   ]
  },
  {
   "cell_type": "markdown",
   "metadata": {},
   "source": [
    "## Тестирование модели"
   ]
  },
  {
   "cell_type": "markdown",
   "metadata": {},
   "source": [
    "Для обучения модели применим самую успешную модель, а именно модель случайного леса с числом деревьев 24, максимальной глубиной дерева 5 и сбалансированными классами. \n"
   ]
  },
  {
   "cell_type": "markdown",
   "metadata": {},
   "source": [
    "объеденим тренировочную и валидационную выборки для лучшего обучения модели:"
   ]
  },
  {
   "cell_type": "code",
   "execution_count": 658,
   "metadata": {},
   "outputs": [],
   "source": [
    "features_train = pd.concat([features_train] + [features_valid])\n",
    "target_train = pd.concat([target_train] + [target_valid])"
   ]
  },
  {
   "cell_type": "code",
   "execution_count": 659,
   "metadata": {},
   "outputs": [
    {
     "data": {
      "text/plain": [
       "(8000, 11)"
      ]
     },
     "execution_count": 659,
     "metadata": {},
     "output_type": "execute_result"
    }
   ],
   "source": [
    "features_train.shape"
   ]
  },
  {
   "cell_type": "code",
   "execution_count": 660,
   "metadata": {},
   "outputs": [
    {
     "data": {
      "text/plain": [
       "(8000,)"
      ]
     },
     "execution_count": 660,
     "metadata": {},
     "output_type": "execute_result"
    }
   ],
   "source": [
    "target_train.shape"
   ]
  },
  {
   "cell_type": "code",
   "execution_count": 661,
   "metadata": {},
   "outputs": [],
   "source": [
    "model_forest = RandomForestClassifier(class_weight='balanced',n_estimators=41,max_depth=5,random_state=12345) "
   ]
  },
  {
   "cell_type": "markdown",
   "metadata": {},
   "source": [
    "Обучим модель на обучающих данных:"
   ]
  },
  {
   "cell_type": "code",
   "execution_count": 662,
   "metadata": {},
   "outputs": [
    {
     "data": {
      "text/plain": [
       "RandomForestClassifier(class_weight='balanced', max_depth=5, n_estimators=41,\n",
       "                       random_state=12345)"
      ]
     },
     "execution_count": 662,
     "metadata": {},
     "output_type": "execute_result"
    }
   ],
   "source": [
    "model_forest.fit(features_train,target_train)"
   ]
  },
  {
   "cell_type": "markdown",
   "metadata": {},
   "source": [
    "и сделаем предсказание используя тестовую выборку:"
   ]
  },
  {
   "cell_type": "code",
   "execution_count": 663,
   "metadata": {},
   "outputs": [],
   "source": [
    "predictions=model_forest.predict(features_test)"
   ]
  },
  {
   "cell_type": "code",
   "execution_count": 664,
   "metadata": {},
   "outputs": [
    {
     "data": {
      "text/plain": [
       "0.594758064516129"
      ]
     },
     "execution_count": 664,
     "metadata": {},
     "output_type": "execute_result"
    }
   ],
   "source": [
    "f1_score(target_test, predictions)"
   ]
  },
  {
   "cell_type": "markdown",
   "metadata": {},
   "source": [
    "Построим график ROC-кривую и измерим AUC ROC"
   ]
  },
  {
   "cell_type": "code",
   "execution_count": 665,
   "metadata": {},
   "outputs": [
    {
     "data": {
      "image/png": "[encoded data removed]",
      "text/plain": [
       "<Figure size 432x288 with 1 Axes>"
      ]
     },
     "metadata": {
      "needs_background": "light"
     },
     "output_type": "display_data"
    }
   ],
   "source": [
    "probabilities_test = model_forest.predict_proba(features_test)\n",
    "probabilities_one_test = probabilities_test[:, 1]\n",
    "\n",
    "fpr, tpr, thresholds = fpr, tpr, thresholds = roc_curve(target_test, probabilities_one_test)\n",
    "\n",
    "plt.figure()\n",
    "plt.plot(fpr, tpr)\n",
    "plt.xlim([0.0, 1.0])\n",
    "plt.ylim([0.0, 1.0])\n",
    "plt.xlabel('False Positive Rate')\n",
    "plt.ylabel('True Positive Rate')\n",
    "plt.title('ROC-кривая')\n",
    "\n",
    "\n",
    "#построим также ROC-кривая случайной модели \n",
    "plt.plot([0, 1], [0, 1], linestyle='--')\n",
    "\n",
    "plt.show()"
   ]
  },
  {
   "cell_type": "markdown",
   "metadata": {},
   "source": [
    "Посчитаем значение AUC ROC:"
   ]
  },
  {
   "cell_type": "code",
   "execution_count": 666,
   "metadata": {},
   "outputs": [
    {
     "name": "stdout",
     "output_type": "stream",
     "text": [
      "0.8408048018876552\n"
     ]
    }
   ],
   "source": [
    "auc_roc=roc_auc_score(target_test, probabilities_one_test)\n",
    "\n",
    "print(auc_roc)"
   ]
  },
  {
   "cell_type": "markdown",
   "metadata": {},
   "source": [
    "## Чек-лист готовности проекта"
   ]
  },
  {
   "cell_type": "markdown",
   "metadata": {},
   "source": [
    "Поставьте 'x' в выполненных пунктах. Далее нажмите Shift+Enter."
   ]
  },
  {
   "cell_type": "markdown",
   "metadata": {},
   "source": [
    "- [x]  Jupyter Notebook открыт\n",
    "- [x]  Весь код выполняется без ошибок\n",
    "- [x]  Ячейки с кодом расположены в порядке исполнения\n",
    "- [x]  Выполнен шаг 1: данные подготовлены\n",
    "- [x]  Выполнен шаг 2: задача исследована\n",
    "    - [x]  Исследован баланс классов\n",
    "    - [x]  Изучены модели без учёта дисбаланса\n",
    "    - [x]  Написаны выводы по результатам исследования\n",
    "- [x]  Выполнен шаг 3: учтён дисбаланс\n",
    "    - [x]  Применено несколько способов борьбы с дисбалансом\n",
    "    - [x]  Написаны выводы по результатам исследования\n",
    "- [x]  Выполнен шаг 4: проведено тестирование\n",
    "- [x]  Удалось достичь *F1*-меры не менее 0.59\n",
    "- [x]  Исследована метрика *AUC-ROC*"
   ]
  }
 ],
 "metadata": {
  "ExecuteTimeLog": [
   {
    "duration": 1120,
    "start_time": "2022-06-20T11:37:18.002Z"
   },
   {
    "duration": 162,
    "start_time": "2022-06-20T11:37:19.124Z"
   },
   {
    "duration": 21,
    "start_time": "2022-06-20T11:37:19.288Z"
   },
   {
    "duration": 33,
    "start_time": "2022-06-20T11:39:23.809Z"
   },
   {
    "duration": 6,
    "start_time": "2022-06-20T11:48:32.905Z"
   },
   {
    "duration": 5,
    "start_time": "2022-06-20T11:48:43.993Z"
   },
   {
    "duration": 7,
    "start_time": "2022-06-20T11:54:19.882Z"
   },
   {
    "duration": 10,
    "start_time": "2022-06-20T11:55:12.398Z"
   },
   {
    "duration": 13,
    "start_time": "2022-06-20T11:55:17.131Z"
   },
   {
    "duration": 109,
    "start_time": "2022-06-20T11:55:41.911Z"
   },
   {
    "duration": 4,
    "start_time": "2022-06-20T12:03:32.737Z"
   },
   {
    "duration": 8,
    "start_time": "2022-06-20T12:03:38.719Z"
   },
   {
    "duration": 7,
    "start_time": "2022-06-20T12:03:50.969Z"
   },
   {
    "duration": 4,
    "start_time": "2022-06-20T12:04:32.004Z"
   },
   {
    "duration": 7,
    "start_time": "2022-06-20T12:04:34.619Z"
   },
   {
    "duration": 2,
    "start_time": "2022-06-20T12:27:33.557Z"
   },
   {
    "duration": 39,
    "start_time": "2022-06-20T12:27:33.743Z"
   },
   {
    "duration": 13,
    "start_time": "2022-06-20T12:27:34.507Z"
   },
   {
    "duration": 13,
    "start_time": "2022-06-20T12:27:34.929Z"
   },
   {
    "duration": 4,
    "start_time": "2022-06-20T12:27:35.953Z"
   },
   {
    "duration": 8,
    "start_time": "2022-06-20T12:27:37.601Z"
   },
   {
    "duration": 8,
    "start_time": "2022-06-20T12:29:46.296Z"
   },
   {
    "duration": 7,
    "start_time": "2022-06-20T12:29:58.469Z"
   },
   {
    "duration": 7,
    "start_time": "2022-06-20T12:30:04.362Z"
   },
   {
    "duration": 13,
    "start_time": "2022-06-20T12:30:36.380Z"
   },
   {
    "duration": 6,
    "start_time": "2022-06-20T13:17:47.298Z"
   },
   {
    "duration": 3,
    "start_time": "2022-06-20T13:18:01.091Z"
   },
   {
    "duration": 9,
    "start_time": "2022-06-20T13:26:11.250Z"
   },
   {
    "duration": 3,
    "start_time": "2022-06-20T13:26:11.855Z"
   },
   {
    "duration": 74,
    "start_time": "2022-06-20T13:26:12.767Z"
   },
   {
    "duration": 14,
    "start_time": "2022-06-20T14:11:15.315Z"
   },
   {
    "duration": 4,
    "start_time": "2022-06-20T14:17:16.565Z"
   },
   {
    "duration": 49,
    "start_time": "2022-06-20T14:17:16.570Z"
   },
   {
    "duration": 15,
    "start_time": "2022-06-20T14:17:16.621Z"
   },
   {
    "duration": 15,
    "start_time": "2022-06-20T14:17:16.638Z"
   },
   {
    "duration": 4,
    "start_time": "2022-06-20T14:17:16.655Z"
   },
   {
    "duration": 10,
    "start_time": "2022-06-20T14:17:16.660Z"
   },
   {
    "duration": 13,
    "start_time": "2022-06-20T14:17:16.672Z"
   },
   {
    "duration": 75,
    "start_time": "2022-06-20T14:17:16.687Z"
   },
   {
    "duration": 0,
    "start_time": "2022-06-20T14:17:16.764Z"
   },
   {
    "duration": 0,
    "start_time": "2022-06-20T14:17:16.766Z"
   },
   {
    "duration": 0,
    "start_time": "2022-06-20T14:17:16.767Z"
   },
   {
    "duration": 0,
    "start_time": "2022-06-20T14:17:16.768Z"
   },
   {
    "duration": 3,
    "start_time": "2022-06-20T14:17:16.779Z"
   },
   {
    "duration": 5,
    "start_time": "2022-06-20T14:17:16.839Z"
   },
   {
    "duration": 9,
    "start_time": "2022-06-20T14:17:16.846Z"
   },
   {
    "duration": 9,
    "start_time": "2022-06-20T14:17:33.674Z"
   },
   {
    "duration": 4,
    "start_time": "2022-06-20T14:17:34.118Z"
   },
   {
    "duration": 115,
    "start_time": "2022-06-20T14:17:34.865Z"
   },
   {
    "duration": 3,
    "start_time": "2022-06-20T14:17:35.407Z"
   },
   {
    "duration": 5,
    "start_time": "2022-06-20T14:17:36.111Z"
   },
   {
    "duration": 5,
    "start_time": "2022-06-20T14:17:36.315Z"
   },
   {
    "duration": 2,
    "start_time": "2022-06-20T14:17:58.931Z"
   },
   {
    "duration": 41,
    "start_time": "2022-06-20T14:17:59.121Z"
   },
   {
    "duration": 15,
    "start_time": "2022-06-20T14:17:59.741Z"
   },
   {
    "duration": 16,
    "start_time": "2022-06-20T14:18:00.927Z"
   },
   {
    "duration": 4,
    "start_time": "2022-06-20T14:18:01.618Z"
   },
   {
    "duration": 11,
    "start_time": "2022-06-20T14:18:02.107Z"
   },
   {
    "duration": 17,
    "start_time": "2022-06-20T14:18:03.006Z"
   },
   {
    "duration": 11,
    "start_time": "2022-06-20T14:18:05.212Z"
   },
   {
    "duration": 4,
    "start_time": "2022-06-20T14:18:05.646Z"
   },
   {
    "duration": 15,
    "start_time": "2022-06-20T14:18:08.500Z"
   },
   {
    "duration": 20,
    "start_time": "2022-06-20T14:20:37.002Z"
   },
   {
    "duration": 19,
    "start_time": "2022-06-20T14:21:17.858Z"
   },
   {
    "duration": 6,
    "start_time": "2022-06-20T14:21:18.427Z"
   },
   {
    "duration": 4,
    "start_time": "2022-06-20T14:21:40.271Z"
   },
   {
    "duration": 63,
    "start_time": "2022-06-20T14:21:40.277Z"
   },
   {
    "duration": 14,
    "start_time": "2022-06-20T14:21:40.342Z"
   },
   {
    "duration": 22,
    "start_time": "2022-06-20T14:21:40.358Z"
   },
   {
    "duration": 3,
    "start_time": "2022-06-20T14:21:40.383Z"
   },
   {
    "duration": 30,
    "start_time": "2022-06-20T14:21:40.388Z"
   },
   {
    "duration": 24,
    "start_time": "2022-06-20T14:21:40.420Z"
   },
   {
    "duration": 9,
    "start_time": "2022-06-20T14:21:40.446Z"
   },
   {
    "duration": 8,
    "start_time": "2022-06-20T14:21:40.457Z"
   },
   {
    "duration": 26,
    "start_time": "2022-06-20T14:21:40.467Z"
   },
   {
    "duration": 14,
    "start_time": "2022-06-20T14:21:40.496Z"
   },
   {
    "duration": 16,
    "start_time": "2022-06-20T14:21:40.512Z"
   },
   {
    "duration": 14,
    "start_time": "2022-06-20T14:21:40.531Z"
   },
   {
    "duration": 14,
    "start_time": "2022-06-20T14:21:40.547Z"
   },
   {
    "duration": 5,
    "start_time": "2022-06-20T14:22:03.461Z"
   },
   {
    "duration": 5,
    "start_time": "2022-06-20T14:22:21.967Z"
   },
   {
    "duration": 49,
    "start_time": "2022-06-20T16:21:24.175Z"
   },
   {
    "duration": 1156,
    "start_time": "2022-06-20T16:21:27.667Z"
   },
   {
    "duration": 148,
    "start_time": "2022-06-20T16:21:28.826Z"
   },
   {
    "duration": 20,
    "start_time": "2022-06-20T16:21:28.976Z"
   },
   {
    "duration": 14,
    "start_time": "2022-06-20T16:21:28.998Z"
   },
   {
    "duration": 3,
    "start_time": "2022-06-20T16:21:29.015Z"
   },
   {
    "duration": 12,
    "start_time": "2022-06-20T16:21:29.020Z"
   },
   {
    "duration": 14,
    "start_time": "2022-06-20T16:21:29.034Z"
   },
   {
    "duration": 8,
    "start_time": "2022-06-20T16:21:29.049Z"
   },
   {
    "duration": 13,
    "start_time": "2022-06-20T16:21:29.058Z"
   },
   {
    "duration": 16,
    "start_time": "2022-06-20T16:21:29.073Z"
   },
   {
    "duration": 12,
    "start_time": "2022-06-20T16:21:29.091Z"
   },
   {
    "duration": 20,
    "start_time": "2022-06-20T16:21:29.104Z"
   },
   {
    "duration": 12,
    "start_time": "2022-06-20T16:21:29.127Z"
   },
   {
    "duration": 12,
    "start_time": "2022-06-20T16:21:29.141Z"
   },
   {
    "duration": 6,
    "start_time": "2022-06-20T17:04:34.189Z"
   },
   {
    "duration": 3,
    "start_time": "2022-06-20T17:09:47.334Z"
   },
   {
    "duration": 93,
    "start_time": "2022-06-20T17:09:47.339Z"
   },
   {
    "duration": 16,
    "start_time": "2022-06-20T17:09:47.434Z"
   },
   {
    "duration": 47,
    "start_time": "2022-06-20T17:09:47.453Z"
   },
   {
    "duration": 3,
    "start_time": "2022-06-20T17:09:47.503Z"
   },
   {
    "duration": 17,
    "start_time": "2022-06-20T17:09:47.508Z"
   },
   {
    "duration": 17,
    "start_time": "2022-06-20T17:09:47.527Z"
   },
   {
    "duration": 7,
    "start_time": "2022-06-20T17:09:47.548Z"
   },
   {
    "duration": 36,
    "start_time": "2022-06-20T17:09:47.556Z"
   },
   {
    "duration": 4,
    "start_time": "2022-06-20T17:09:47.595Z"
   },
   {
    "duration": 9,
    "start_time": "2022-06-20T17:09:47.600Z"
   },
   {
    "duration": 7,
    "start_time": "2022-06-20T17:09:47.610Z"
   },
   {
    "duration": 6,
    "start_time": "2022-06-20T17:09:47.619Z"
   },
   {
    "duration": 5,
    "start_time": "2022-06-20T17:09:47.627Z"
   },
   {
    "duration": 10,
    "start_time": "2022-06-20T17:09:47.634Z"
   },
   {
    "duration": 10,
    "start_time": "2022-06-20T17:19:17.958Z"
   },
   {
    "duration": 3,
    "start_time": "2022-06-20T17:19:18.708Z"
   },
   {
    "duration": 5,
    "start_time": "2022-06-20T17:19:19.836Z"
   },
   {
    "duration": 3,
    "start_time": "2022-06-20T17:19:20.521Z"
   },
   {
    "duration": 4,
    "start_time": "2022-06-20T17:19:20.983Z"
   },
   {
    "duration": 4,
    "start_time": "2022-06-20T17:19:21.512Z"
   },
   {
    "duration": 67,
    "start_time": "2022-06-20T17:20:00.138Z"
   },
   {
    "duration": 20,
    "start_time": "2022-06-20T17:20:12.192Z"
   },
   {
    "duration": 25,
    "start_time": "2022-06-20T17:31:37.669Z"
   },
   {
    "duration": 23,
    "start_time": "2022-06-20T17:31:55.225Z"
   },
   {
    "duration": 1401,
    "start_time": "2022-06-22T04:11:32.360Z"
   },
   {
    "duration": 87,
    "start_time": "2022-06-22T04:11:33.763Z"
   },
   {
    "duration": 15,
    "start_time": "2022-06-22T04:11:34.170Z"
   },
   {
    "duration": 14,
    "start_time": "2022-06-22T04:11:36.887Z"
   },
   {
    "duration": 3,
    "start_time": "2022-06-22T04:11:39.934Z"
   },
   {
    "duration": 6,
    "start_time": "2022-06-22T04:11:52.865Z"
   },
   {
    "duration": 11,
    "start_time": "2022-06-22T04:11:56.224Z"
   },
   {
    "duration": 5,
    "start_time": "2022-06-22T04:12:05.360Z"
   },
   {
    "duration": 4,
    "start_time": "2022-06-22T04:12:24.171Z"
   },
   {
    "duration": 9,
    "start_time": "2022-06-22T04:12:37.313Z"
   },
   {
    "duration": 8,
    "start_time": "2022-06-22T04:13:00.895Z"
   },
   {
    "duration": 4,
    "start_time": "2022-06-22T04:13:19.743Z"
   },
   {
    "duration": 3,
    "start_time": "2022-06-22T04:13:22.906Z"
   },
   {
    "duration": 3,
    "start_time": "2022-06-22T04:13:23.801Z"
   },
   {
    "duration": 3,
    "start_time": "2022-06-22T04:13:29.803Z"
   },
   {
    "duration": 4,
    "start_time": "2022-06-22T04:13:30.178Z"
   },
   {
    "duration": 14,
    "start_time": "2022-06-22T04:13:46.351Z"
   },
   {
    "duration": 6404,
    "start_time": "2022-06-22T04:14:43.426Z"
   },
   {
    "duration": 7603,
    "start_time": "2022-06-22T04:15:03.233Z"
   },
   {
    "duration": 642,
    "start_time": "2022-06-22T04:17:12.933Z"
   },
   {
    "duration": 3607,
    "start_time": "2022-06-22T04:17:33.790Z"
   },
   {
    "duration": 8091,
    "start_time": "2022-06-22T04:18:18.838Z"
   },
   {
    "duration": 4,
    "start_time": "2022-06-22T04:19:52.656Z"
   },
   {
    "duration": 35,
    "start_time": "2022-06-22T04:20:10.016Z"
   },
   {
    "duration": 34,
    "start_time": "2022-06-22T04:20:44.971Z"
   },
   {
    "duration": 5,
    "start_time": "2022-06-22T04:20:45.733Z"
   },
   {
    "duration": 187,
    "start_time": "2022-06-22T04:20:57.512Z"
   },
   {
    "duration": 5,
    "start_time": "2022-06-22T04:20:59.519Z"
   },
   {
    "duration": 489,
    "start_time": "2022-06-22T04:21:27.948Z"
   },
   {
    "duration": 6,
    "start_time": "2022-06-22T04:21:28.630Z"
   },
   {
    "duration": 3,
    "start_time": "2022-06-22T04:22:00.962Z"
   },
   {
    "duration": 10,
    "start_time": "2022-06-22T04:22:01.373Z"
   },
   {
    "duration": 13,
    "start_time": "2022-06-22T04:22:04.021Z"
   },
   {
    "duration": 5,
    "start_time": "2022-06-22T04:22:04.403Z"
   },
   {
    "duration": 94,
    "start_time": "2022-06-22T04:22:07.712Z"
   },
   {
    "duration": 5,
    "start_time": "2022-06-22T04:22:08.043Z"
   },
   {
    "duration": 204,
    "start_time": "2022-06-22T04:22:10.628Z"
   },
   {
    "duration": 4,
    "start_time": "2022-06-22T04:22:11.079Z"
   },
   {
    "duration": 3,
    "start_time": "2022-06-22T04:22:46.199Z"
   },
   {
    "duration": 158,
    "start_time": "2022-06-22T04:22:50.925Z"
   },
   {
    "duration": 17,
    "start_time": "2022-06-22T04:23:23.616Z"
   },
   {
    "duration": 6,
    "start_time": "2022-06-22T04:23:24.242Z"
   },
   {
    "duration": 2054,
    "start_time": "2022-06-22T07:50:33.173Z"
   },
   {
    "duration": 162,
    "start_time": "2022-06-22T07:50:35.230Z"
   },
   {
    "duration": 36,
    "start_time": "2022-06-22T07:50:35.394Z"
   },
   {
    "duration": 74,
    "start_time": "2022-06-22T07:50:35.443Z"
   },
   {
    "duration": 124,
    "start_time": "2022-06-22T07:50:35.524Z"
   },
   {
    "duration": 19,
    "start_time": "2022-06-22T07:50:35.656Z"
   },
   {
    "duration": 30,
    "start_time": "2022-06-22T07:50:35.677Z"
   },
   {
    "duration": 69,
    "start_time": "2022-06-22T07:50:35.713Z"
   },
   {
    "duration": 43,
    "start_time": "2022-06-22T07:50:35.785Z"
   },
   {
    "duration": 25,
    "start_time": "2022-06-22T07:50:35.832Z"
   },
   {
    "duration": 26,
    "start_time": "2022-06-22T07:50:35.865Z"
   },
   {
    "duration": 35,
    "start_time": "2022-06-22T07:50:35.898Z"
   },
   {
    "duration": 59,
    "start_time": "2022-06-22T07:50:35.942Z"
   },
   {
    "duration": 29,
    "start_time": "2022-06-22T07:50:36.003Z"
   },
   {
    "duration": 112,
    "start_time": "2022-06-22T07:50:36.034Z"
   },
   {
    "duration": 75,
    "start_time": "2022-06-22T07:50:36.150Z"
   },
   {
    "duration": 1048,
    "start_time": "2022-06-22T07:50:36.228Z"
   },
   {
    "duration": 11485,
    "start_time": "2022-06-22T07:50:37.279Z"
   },
   {
    "duration": 30837,
    "start_time": "2022-06-22T07:50:48.767Z"
   },
   {
    "duration": 1087,
    "start_time": "2022-06-22T07:51:19.654Z"
   },
   {
    "duration": 5486,
    "start_time": "2022-06-22T07:51:20.743Z"
   },
   {
    "duration": 40650,
    "start_time": "2022-06-22T07:51:26.231Z"
   },
   {
    "duration": 82,
    "start_time": "2022-06-22T07:52:06.884Z"
   },
   {
    "duration": 144,
    "start_time": "2022-06-22T07:52:06.968Z"
   },
   {
    "duration": 8,
    "start_time": "2022-06-22T07:52:07.114Z"
   },
   {
    "duration": 309,
    "start_time": "2022-06-22T07:52:07.124Z"
   },
   {
    "duration": 10,
    "start_time": "2022-06-22T07:52:07.438Z"
   },
   {
    "duration": 3605,
    "start_time": "2022-06-22T07:52:07.453Z"
   },
   {
    "duration": 89,
    "start_time": "2022-06-22T07:52:11.065Z"
   },
   {
    "duration": 12,
    "start_time": "2022-06-22T07:52:11.157Z"
   },
   {
    "duration": 18,
    "start_time": "2022-06-22T07:52:11.172Z"
   },
   {
    "duration": 20,
    "start_time": "2022-06-22T07:52:11.193Z"
   },
   {
    "duration": 12,
    "start_time": "2022-06-22T07:52:11.216Z"
   },
   {
    "duration": 143,
    "start_time": "2022-06-22T07:52:11.230Z"
   },
   {
    "duration": 8,
    "start_time": "2022-06-22T07:52:11.375Z"
   },
   {
    "duration": 991,
    "start_time": "2022-06-22T07:52:11.385Z"
   },
   {
    "duration": 110,
    "start_time": "2022-06-22T07:52:12.379Z"
   },
   {
    "duration": 24,
    "start_time": "2022-06-22T07:52:12.505Z"
   },
   {
    "duration": 220,
    "start_time": "2022-06-22T07:52:26.781Z"
   },
   {
    "duration": 24,
    "start_time": "2022-06-22T07:52:27.710Z"
   },
   {
    "duration": 8,
    "start_time": "2022-06-22T07:52:28.339Z"
   },
   {
    "duration": 4,
    "start_time": "2022-06-22T07:53:04.681Z"
   },
   {
    "duration": 356,
    "start_time": "2022-06-22T07:53:06.338Z"
   },
   {
    "duration": 21,
    "start_time": "2022-06-22T07:53:08.657Z"
   },
   {
    "duration": 8,
    "start_time": "2022-06-22T07:53:09.246Z"
   },
   {
    "duration": 8,
    "start_time": "2022-06-22T07:53:35.981Z"
   },
   {
    "duration": 233,
    "start_time": "2022-06-22T07:53:36.501Z"
   },
   {
    "duration": 24,
    "start_time": "2022-06-22T07:53:37.225Z"
   },
   {
    "duration": 13,
    "start_time": "2022-06-22T07:53:37.545Z"
   },
   {
    "duration": 3,
    "start_time": "2022-06-22T08:15:07.250Z"
   },
   {
    "duration": 222,
    "start_time": "2022-06-22T08:15:08.792Z"
   },
   {
    "duration": 16,
    "start_time": "2022-06-22T08:15:09.902Z"
   },
   {
    "duration": 5,
    "start_time": "2022-06-22T08:15:11.442Z"
   },
   {
    "duration": 3,
    "start_time": "2022-06-22T08:15:20.305Z"
   },
   {
    "duration": 234,
    "start_time": "2022-06-22T08:15:21.919Z"
   },
   {
    "duration": 6,
    "start_time": "2022-06-22T08:15:34.504Z"
   },
   {
    "duration": 3,
    "start_time": "2022-06-22T08:51:49.715Z"
   },
   {
    "duration": 187,
    "start_time": "2022-06-22T08:51:50.111Z"
   },
   {
    "duration": 25,
    "start_time": "2022-06-22T08:51:50.851Z"
   },
   {
    "duration": 7,
    "start_time": "2022-06-22T08:51:53.093Z"
   },
   {
    "duration": 4,
    "start_time": "2022-06-22T09:07:37.675Z"
   },
   {
    "duration": 12,
    "start_time": "2022-06-22T09:14:48.472Z"
   },
   {
    "duration": 8,
    "start_time": "2022-06-22T09:15:02.099Z"
   },
   {
    "duration": 155,
    "start_time": "2022-06-22T09:15:02.285Z"
   },
   {
    "duration": 29,
    "start_time": "2022-06-22T09:15:02.677Z"
   },
   {
    "duration": 17,
    "start_time": "2022-06-22T09:15:03.072Z"
   },
   {
    "duration": 5,
    "start_time": "2022-06-22T09:15:03.452Z"
   },
   {
    "duration": 11,
    "start_time": "2022-06-22T09:15:04.188Z"
   },
   {
    "duration": 18,
    "start_time": "2022-06-22T09:15:04.662Z"
   },
   {
    "duration": 9,
    "start_time": "2022-06-22T09:15:05.931Z"
   },
   {
    "duration": 6,
    "start_time": "2022-06-22T09:15:07.117Z"
   },
   {
    "duration": 15,
    "start_time": "2022-06-22T09:15:13.885Z"
   },
   {
    "duration": 4,
    "start_time": "2022-06-22T09:24:41.121Z"
   },
   {
    "duration": 5,
    "start_time": "2022-06-22T10:57:48.651Z"
   },
   {
    "duration": 39,
    "start_time": "2022-06-22T10:57:49.302Z"
   },
   {
    "duration": 743,
    "start_time": "2022-06-22T10:57:57.192Z"
   },
   {
    "duration": 3,
    "start_time": "2022-06-22T10:58:15.515Z"
   },
   {
    "duration": 24,
    "start_time": "2022-06-22T10:58:15.910Z"
   },
   {
    "duration": 13,
    "start_time": "2022-06-22T10:58:16.715Z"
   },
   {
    "duration": 708,
    "start_time": "2022-06-22T10:58:20.420Z"
   },
   {
    "duration": 8,
    "start_time": "2022-06-22T10:58:26.254Z"
   },
   {
    "duration": 4128,
    "start_time": "2022-06-22T10:58:29.787Z"
   },
   {
    "duration": 4,
    "start_time": "2022-06-22T10:59:15.007Z"
   },
   {
    "duration": 116,
    "start_time": "2022-06-22T10:59:15.014Z"
   },
   {
    "duration": 15,
    "start_time": "2022-06-22T10:59:15.132Z"
   },
   {
    "duration": 21,
    "start_time": "2022-06-22T10:59:15.149Z"
   },
   {
    "duration": 10,
    "start_time": "2022-06-22T10:59:15.173Z"
   },
   {
    "duration": 9,
    "start_time": "2022-06-22T10:59:15.185Z"
   },
   {
    "duration": 17,
    "start_time": "2022-06-22T10:59:15.196Z"
   },
   {
    "duration": 5,
    "start_time": "2022-06-22T10:59:15.215Z"
   },
   {
    "duration": 9,
    "start_time": "2022-06-22T10:59:15.221Z"
   },
   {
    "duration": 35,
    "start_time": "2022-06-22T10:59:15.232Z"
   },
   {
    "duration": 24,
    "start_time": "2022-06-22T10:59:15.268Z"
   },
   {
    "duration": 13,
    "start_time": "2022-06-22T10:59:15.294Z"
   },
   {
    "duration": 8,
    "start_time": "2022-06-22T10:59:15.310Z"
   },
   {
    "duration": 9,
    "start_time": "2022-06-22T10:59:15.320Z"
   },
   {
    "duration": 10,
    "start_time": "2022-06-22T10:59:15.331Z"
   },
   {
    "duration": 28,
    "start_time": "2022-06-22T10:59:15.344Z"
   },
   {
    "duration": 787,
    "start_time": "2022-06-22T10:59:15.374Z"
   },
   {
    "duration": 7585,
    "start_time": "2022-06-22T10:59:16.163Z"
   },
   {
    "duration": 30805,
    "start_time": "2022-06-22T10:59:23.754Z"
   },
   {
    "duration": 7,
    "start_time": "2022-06-22T10:59:54.566Z"
   },
   {
    "duration": 25,
    "start_time": "2022-06-22T10:59:54.652Z"
   },
   {
    "duration": 741,
    "start_time": "2022-06-22T11:02:39.922Z"
   },
   {
    "duration": 4,
    "start_time": "2022-06-22T11:03:15.508Z"
   },
   {
    "duration": 20,
    "start_time": "2022-06-22T11:03:15.965Z"
   },
   {
    "duration": 753,
    "start_time": "2022-06-22T11:03:20.286Z"
   },
   {
    "duration": 28,
    "start_time": "2022-06-22T11:05:04.171Z"
   },
   {
    "duration": 765,
    "start_time": "2022-06-22T11:05:06.939Z"
   },
   {
    "duration": 5,
    "start_time": "2022-06-22T11:05:11.169Z"
   },
   {
    "duration": 10370,
    "start_time": "2022-06-22T11:05:21.102Z"
   },
   {
    "duration": 3,
    "start_time": "2022-06-22T11:07:35.796Z"
   },
   {
    "duration": 13,
    "start_time": "2022-06-22T11:07:36.156Z"
   },
   {
    "duration": 16,
    "start_time": "2022-06-22T11:07:36.961Z"
   },
   {
    "duration": 3912,
    "start_time": "2022-06-22T11:07:45.308Z"
   },
   {
    "duration": 4,
    "start_time": "2022-06-22T11:07:49.223Z"
   },
   {
    "duration": 7278,
    "start_time": "2022-06-22T11:07:56.176Z"
   },
   {
    "duration": 4,
    "start_time": "2022-06-22T11:08:20.368Z"
   },
   {
    "duration": 21,
    "start_time": "2022-06-22T11:12:04.922Z"
   },
   {
    "duration": 5,
    "start_time": "2022-06-22T11:26:33.252Z"
   },
   {
    "duration": 4,
    "start_time": "2022-06-22T11:26:34.052Z"
   },
   {
    "duration": 3,
    "start_time": "2022-06-22T11:26:34.528Z"
   },
   {
    "duration": 18,
    "start_time": "2022-06-22T11:26:35.049Z"
   },
   {
    "duration": 161,
    "start_time": "2022-06-22T11:26:50.332Z"
   },
   {
    "duration": 16,
    "start_time": "2022-06-22T11:26:52.210Z"
   },
   {
    "duration": 21,
    "start_time": "2022-06-22T11:27:06.111Z"
   },
   {
    "duration": 9,
    "start_time": "2022-06-22T11:27:06.268Z"
   },
   {
    "duration": 5,
    "start_time": "2022-06-22T11:28:01.220Z"
   },
   {
    "duration": 75,
    "start_time": "2022-06-22T11:28:01.228Z"
   },
   {
    "duration": 14,
    "start_time": "2022-06-22T11:28:01.305Z"
   },
   {
    "duration": 26,
    "start_time": "2022-06-22T11:28:01.320Z"
   },
   {
    "duration": 4,
    "start_time": "2022-06-22T11:28:01.349Z"
   },
   {
    "duration": 30,
    "start_time": "2022-06-22T11:28:01.355Z"
   },
   {
    "duration": 26,
    "start_time": "2022-06-22T11:28:01.387Z"
   },
   {
    "duration": 38,
    "start_time": "2022-06-22T11:28:01.415Z"
   },
   {
    "duration": 28,
    "start_time": "2022-06-22T11:28:01.455Z"
   },
   {
    "duration": 43,
    "start_time": "2022-06-22T11:28:01.485Z"
   },
   {
    "duration": 19,
    "start_time": "2022-06-22T11:28:01.530Z"
   },
   {
    "duration": 17,
    "start_time": "2022-06-22T11:28:01.551Z"
   },
   {
    "duration": 54,
    "start_time": "2022-06-22T11:28:01.569Z"
   },
   {
    "duration": 20,
    "start_time": "2022-06-22T11:28:01.627Z"
   },
   {
    "duration": 32,
    "start_time": "2022-06-22T11:28:01.649Z"
   },
   {
    "duration": 37,
    "start_time": "2022-06-22T11:28:01.683Z"
   },
   {
    "duration": 776,
    "start_time": "2022-06-22T11:28:01.722Z"
   },
   {
    "duration": 7536,
    "start_time": "2022-06-22T11:28:02.500Z"
   },
   {
    "duration": 9518,
    "start_time": "2022-06-22T11:28:10.038Z"
   },
   {
    "duration": 3,
    "start_time": "2022-06-22T11:28:19.559Z"
   },
   {
    "duration": 106,
    "start_time": "2022-06-22T11:28:19.564Z"
   },
   {
    "duration": 105,
    "start_time": "2022-06-22T11:28:19.671Z"
   },
   {
    "duration": 736,
    "start_time": "2022-06-22T11:28:19.778Z"
   },
   {
    "duration": 3785,
    "start_time": "2022-06-22T11:28:20.515Z"
   },
   {
    "duration": 3851,
    "start_time": "2022-06-22T11:28:24.302Z"
   },
   {
    "duration": 5,
    "start_time": "2022-06-22T11:28:28.154Z"
   },
   {
    "duration": 139,
    "start_time": "2022-06-22T11:28:28.161Z"
   },
   {
    "duration": 6,
    "start_time": "2022-06-22T11:28:28.302Z"
   },
   {
    "duration": 217,
    "start_time": "2022-06-22T11:28:28.309Z"
   },
   {
    "duration": 6,
    "start_time": "2022-06-22T11:28:28.528Z"
   },
   {
    "duration": 218,
    "start_time": "2022-06-22T11:28:28.536Z"
   },
   {
    "duration": 103,
    "start_time": "2022-06-22T11:28:28.755Z"
   },
   {
    "duration": 94,
    "start_time": "2022-06-22T11:28:28.860Z"
   },
   {
    "duration": 27,
    "start_time": "2022-06-22T11:28:28.956Z"
   },
   {
    "duration": 17,
    "start_time": "2022-06-22T11:28:28.985Z"
   },
   {
    "duration": 7,
    "start_time": "2022-06-22T11:28:29.004Z"
   },
   {
    "duration": 113,
    "start_time": "2022-06-22T11:28:29.013Z"
   },
   {
    "duration": 5,
    "start_time": "2022-06-22T11:28:29.128Z"
   },
   {
    "duration": 118,
    "start_time": "2022-06-22T11:28:29.135Z"
   },
   {
    "duration": 106,
    "start_time": "2022-06-22T11:28:29.255Z"
   },
   {
    "duration": 9,
    "start_time": "2022-06-22T11:28:29.365Z"
   },
   {
    "duration": 18,
    "start_time": "2022-06-22T11:28:29.376Z"
   },
   {
    "duration": 6,
    "start_time": "2022-06-22T11:28:29.396Z"
   },
   {
    "duration": 54,
    "start_time": "2022-06-22T11:28:29.404Z"
   },
   {
    "duration": 148,
    "start_time": "2022-06-22T11:28:29.459Z"
   },
   {
    "duration": 22,
    "start_time": "2022-06-22T11:28:29.609Z"
   },
   {
    "duration": 20,
    "start_time": "2022-06-22T11:28:29.633Z"
   },
   {
    "duration": 4,
    "start_time": "2022-06-22T11:28:29.655Z"
   },
   {
    "duration": 296,
    "start_time": "2022-06-22T11:28:29.660Z"
   },
   {
    "duration": 6,
    "start_time": "2022-06-22T11:28:29.957Z"
   },
   {
    "duration": 9,
    "start_time": "2022-06-22T11:28:29.965Z"
   },
   {
    "duration": 5,
    "start_time": "2022-06-22T11:30:34.300Z"
   },
   {
    "duration": 5,
    "start_time": "2022-06-22T11:30:54.609Z"
   },
   {
    "duration": 4,
    "start_time": "2022-06-22T11:31:01.464Z"
   },
   {
    "duration": 25,
    "start_time": "2022-06-22T11:31:11.528Z"
   },
   {
    "duration": 116,
    "start_time": "2022-06-22T11:31:17.677Z"
   },
   {
    "duration": 17,
    "start_time": "2022-06-22T11:31:22.404Z"
   },
   {
    "duration": 128,
    "start_time": "2022-06-22T11:31:22.611Z"
   },
   {
    "duration": 5,
    "start_time": "2022-06-22T11:31:34.241Z"
   },
   {
    "duration": 5,
    "start_time": "2022-06-22T11:31:52.071Z"
   },
   {
    "duration": 4,
    "start_time": "2022-06-22T11:31:52.232Z"
   },
   {
    "duration": 4,
    "start_time": "2022-06-22T11:31:52.401Z"
   },
   {
    "duration": 25,
    "start_time": "2022-06-22T11:31:52.580Z"
   },
   {
    "duration": 125,
    "start_time": "2022-06-22T11:31:52.951Z"
   },
   {
    "duration": 16,
    "start_time": "2022-06-22T11:31:53.334Z"
   },
   {
    "duration": 7,
    "start_time": "2022-06-22T11:31:53.860Z"
   },
   {
    "duration": 3,
    "start_time": "2022-06-22T11:33:17.667Z"
   },
   {
    "duration": 6,
    "start_time": "2022-06-22T11:34:06.138Z"
   },
   {
    "duration": 5,
    "start_time": "2022-06-22T11:34:06.565Z"
   },
   {
    "duration": 6,
    "start_time": "2022-06-22T11:35:33.291Z"
   },
   {
    "duration": 17,
    "start_time": "2022-06-22T11:35:33.299Z"
   },
   {
    "duration": 8,
    "start_time": "2022-06-22T11:35:33.967Z"
   },
   {
    "duration": 4,
    "start_time": "2022-06-22T11:35:34.451Z"
   },
   {
    "duration": 21,
    "start_time": "2022-06-22T11:35:36.354Z"
   },
   {
    "duration": 192,
    "start_time": "2022-06-22T11:35:39.082Z"
   },
   {
    "duration": 19,
    "start_time": "2022-06-22T11:35:39.837Z"
   },
   {
    "duration": 6,
    "start_time": "2022-06-22T11:35:40.311Z"
   },
   {
    "duration": 241,
    "start_time": "2022-06-22T11:35:59.316Z"
   },
   {
    "duration": 6,
    "start_time": "2022-06-22T11:36:00.267Z"
   },
   {
    "duration": 181,
    "start_time": "2022-06-22T11:37:59.168Z"
   },
   {
    "duration": 16,
    "start_time": "2022-06-22T11:38:00.700Z"
   },
   {
    "duration": 7,
    "start_time": "2022-06-22T11:38:01.195Z"
   },
   {
    "duration": 270,
    "start_time": "2022-06-22T11:38:11.971Z"
   },
   {
    "duration": 85,
    "start_time": "2022-06-22T11:40:25.051Z"
   },
   {
    "duration": 6,
    "start_time": "2022-06-22T11:40:41.718Z"
   },
   {
    "duration": 65,
    "start_time": "2022-06-22T11:40:41.727Z"
   },
   {
    "duration": 13,
    "start_time": "2022-06-22T11:40:41.793Z"
   },
   {
    "duration": 20,
    "start_time": "2022-06-22T11:40:41.807Z"
   },
   {
    "duration": 4,
    "start_time": "2022-06-22T11:40:41.830Z"
   },
   {
    "duration": 22,
    "start_time": "2022-06-22T11:40:41.836Z"
   },
   {
    "duration": 44,
    "start_time": "2022-06-22T11:40:41.860Z"
   },
   {
    "duration": 7,
    "start_time": "2022-06-22T11:40:41.906Z"
   },
   {
    "duration": 10,
    "start_time": "2022-06-22T11:40:41.914Z"
   },
   {
    "duration": 13,
    "start_time": "2022-06-22T11:40:41.927Z"
   },
   {
    "duration": 12,
    "start_time": "2022-06-22T11:40:41.942Z"
   },
   {
    "duration": 24,
    "start_time": "2022-06-22T11:40:41.956Z"
   },
   {
    "duration": 12,
    "start_time": "2022-06-22T11:40:41.982Z"
   },
   {
    "duration": 4,
    "start_time": "2022-06-22T11:40:42.089Z"
   },
   {
    "duration": 14,
    "start_time": "2022-06-22T11:40:42.095Z"
   },
   {
    "duration": 8,
    "start_time": "2022-06-22T11:40:42.111Z"
   },
   {
    "duration": 807,
    "start_time": "2022-06-22T11:40:42.121Z"
   },
   {
    "duration": 8410,
    "start_time": "2022-06-22T11:40:42.930Z"
   },
   {
    "duration": 28914,
    "start_time": "2022-06-22T11:40:51.342Z"
   },
   {
    "duration": 4,
    "start_time": "2022-06-22T11:41:20.258Z"
   },
   {
    "duration": 130,
    "start_time": "2022-06-22T11:41:20.265Z"
   },
   {
    "duration": 31,
    "start_time": "2022-06-22T11:41:20.397Z"
   },
   {
    "duration": 808,
    "start_time": "2022-06-22T11:41:20.430Z"
   },
   {
    "duration": 4105,
    "start_time": "2022-06-22T11:41:21.241Z"
   },
   {
    "duration": 6432,
    "start_time": "2022-06-22T11:41:25.355Z"
   },
   {
    "duration": 14,
    "start_time": "2022-06-22T11:41:31.854Z"
   },
   {
    "duration": 144,
    "start_time": "2022-06-22T11:41:31.870Z"
   },
   {
    "duration": 7,
    "start_time": "2022-06-22T11:41:32.016Z"
   },
   {
    "duration": 302,
    "start_time": "2022-06-22T11:41:32.025Z"
   },
   {
    "duration": 9,
    "start_time": "2022-06-22T11:41:32.330Z"
   },
   {
    "duration": 1113,
    "start_time": "2022-06-22T11:41:32.341Z"
   },
   {
    "duration": 13,
    "start_time": "2022-06-22T11:41:33.456Z"
   },
   {
    "duration": 105,
    "start_time": "2022-06-22T11:41:33.472Z"
   },
   {
    "duration": 20,
    "start_time": "2022-06-22T11:41:33.579Z"
   },
   {
    "duration": 15,
    "start_time": "2022-06-22T11:41:33.601Z"
   },
   {
    "duration": 7,
    "start_time": "2022-06-22T11:41:33.618Z"
   },
   {
    "duration": 115,
    "start_time": "2022-06-22T11:41:33.627Z"
   },
   {
    "duration": 7,
    "start_time": "2022-06-22T11:41:33.744Z"
   },
   {
    "duration": 114,
    "start_time": "2022-06-22T11:41:33.756Z"
   },
   {
    "duration": 189,
    "start_time": "2022-06-22T11:41:33.873Z"
   },
   {
    "duration": 26,
    "start_time": "2022-06-22T11:41:34.070Z"
   },
   {
    "duration": 7,
    "start_time": "2022-06-22T11:41:34.098Z"
   },
   {
    "duration": 24,
    "start_time": "2022-06-22T11:41:34.107Z"
   },
   {
    "duration": 29,
    "start_time": "2022-06-22T11:41:34.134Z"
   },
   {
    "duration": 52,
    "start_time": "2022-06-22T11:41:34.168Z"
   },
   {
    "duration": 321,
    "start_time": "2022-06-22T11:41:34.222Z"
   },
   {
    "duration": 22,
    "start_time": "2022-06-22T11:41:34.545Z"
   },
   {
    "duration": 31,
    "start_time": "2022-06-22T11:41:34.569Z"
   },
   {
    "duration": 246,
    "start_time": "2022-06-22T11:41:34.602Z"
   },
   {
    "duration": 11,
    "start_time": "2022-06-22T11:41:34.852Z"
   },
   {
    "duration": 4950,
    "start_time": "2022-06-22T12:38:31.099Z"
   },
   {
    "duration": 149,
    "start_time": "2022-06-22T12:38:36.051Z"
   },
   {
    "duration": 17,
    "start_time": "2022-06-22T12:38:36.202Z"
   },
   {
    "duration": 16,
    "start_time": "2022-06-22T12:38:36.220Z"
   },
   {
    "duration": 3,
    "start_time": "2022-06-22T12:38:36.239Z"
   },
   {
    "duration": 15,
    "start_time": "2022-06-22T12:38:36.244Z"
   },
   {
    "duration": 19,
    "start_time": "2022-06-22T12:38:36.260Z"
   },
   {
    "duration": 7,
    "start_time": "2022-06-22T12:38:36.281Z"
   },
   {
    "duration": 8,
    "start_time": "2022-06-22T12:38:36.289Z"
   },
   {
    "duration": 18,
    "start_time": "2022-06-22T12:38:36.299Z"
   },
   {
    "duration": 10,
    "start_time": "2022-06-22T12:38:36.319Z"
   },
   {
    "duration": 4,
    "start_time": "2022-06-22T12:38:36.331Z"
   },
   {
    "duration": 14,
    "start_time": "2022-06-22T12:38:36.360Z"
   },
   {
    "duration": 6,
    "start_time": "2022-06-22T12:38:36.377Z"
   },
   {
    "duration": 8,
    "start_time": "2022-06-22T12:38:36.385Z"
   },
   {
    "duration": 9,
    "start_time": "2022-06-22T12:38:36.394Z"
   },
   {
    "duration": 3,
    "start_time": "2022-06-22T12:38:41.572Z"
   },
   {
    "duration": 19,
    "start_time": "2022-06-22T12:38:42.978Z"
   },
   {
    "duration": 16,
    "start_time": "2022-06-22T12:38:48.074Z"
   },
   {
    "duration": 24,
    "start_time": "2022-06-22T12:39:05.593Z"
   },
   {
    "duration": 131,
    "start_time": "2022-06-22T13:03:06.740Z"
   },
   {
    "duration": 6,
    "start_time": "2022-06-22T13:03:10.943Z"
   },
   {
    "duration": 4,
    "start_time": "2022-06-22T13:05:08.169Z"
   },
   {
    "duration": 201,
    "start_time": "2022-06-22T13:05:08.175Z"
   },
   {
    "duration": 12,
    "start_time": "2022-06-22T13:05:08.378Z"
   },
   {
    "duration": 16,
    "start_time": "2022-06-22T13:05:08.392Z"
   },
   {
    "duration": 5,
    "start_time": "2022-06-22T13:05:08.411Z"
   },
   {
    "duration": 20,
    "start_time": "2022-06-22T13:05:08.417Z"
   },
   {
    "duration": 19,
    "start_time": "2022-06-22T13:05:08.439Z"
   },
   {
    "duration": 5,
    "start_time": "2022-06-22T13:05:08.459Z"
   },
   {
    "duration": 15,
    "start_time": "2022-06-22T13:05:08.466Z"
   },
   {
    "duration": 17,
    "start_time": "2022-06-22T13:05:08.482Z"
   },
   {
    "duration": 8,
    "start_time": "2022-06-22T13:05:08.501Z"
   },
   {
    "duration": 11,
    "start_time": "2022-06-22T13:05:08.510Z"
   },
   {
    "duration": 8,
    "start_time": "2022-06-22T13:05:08.523Z"
   },
   {
    "duration": 14,
    "start_time": "2022-06-22T13:05:08.534Z"
   },
   {
    "duration": 9,
    "start_time": "2022-06-22T13:05:08.550Z"
   },
   {
    "duration": 9,
    "start_time": "2022-06-22T13:05:08.561Z"
   },
   {
    "duration": 714,
    "start_time": "2022-06-22T13:05:08.571Z"
   },
   {
    "duration": 7344,
    "start_time": "2022-06-22T13:05:09.287Z"
   },
   {
    "duration": 9921,
    "start_time": "2022-06-22T13:05:16.633Z"
   },
   {
    "duration": 4,
    "start_time": "2022-06-22T13:05:26.556Z"
   },
   {
    "duration": 107,
    "start_time": "2022-06-22T13:05:26.562Z"
   },
   {
    "duration": 24,
    "start_time": "2022-06-22T13:05:26.670Z"
   },
   {
    "duration": 722,
    "start_time": "2022-06-22T13:05:26.695Z"
   },
   {
    "duration": 4029,
    "start_time": "2022-06-22T13:05:27.419Z"
   },
   {
    "duration": 15206,
    "start_time": "2022-06-22T13:05:31.450Z"
   },
   {
    "duration": 6,
    "start_time": "2022-06-22T13:05:46.657Z"
   },
   {
    "duration": 127,
    "start_time": "2022-06-22T13:05:46.666Z"
   },
   {
    "duration": 8,
    "start_time": "2022-06-22T13:05:46.795Z"
   },
   {
    "duration": 244,
    "start_time": "2022-06-22T13:05:46.805Z"
   },
   {
    "duration": 8,
    "start_time": "2022-06-22T13:05:47.051Z"
   },
   {
    "duration": 192,
    "start_time": "2022-06-22T13:05:47.061Z"
   },
   {
    "duration": 11,
    "start_time": "2022-06-22T13:05:47.255Z"
   },
   {
    "duration": 6,
    "start_time": "2022-06-22T13:05:47.353Z"
   },
   {
    "duration": 99,
    "start_time": "2022-06-22T13:05:47.361Z"
   },
   {
    "duration": 18,
    "start_time": "2022-06-22T13:05:47.463Z"
   },
   {
    "duration": 6,
    "start_time": "2022-06-22T13:05:47.483Z"
   },
   {
    "duration": 124,
    "start_time": "2022-06-22T13:05:47.491Z"
   },
   {
    "duration": 6,
    "start_time": "2022-06-22T13:05:47.616Z"
   },
   {
    "duration": 228,
    "start_time": "2022-06-22T13:05:47.624Z"
   },
   {
    "duration": 102,
    "start_time": "2022-06-22T13:05:47.854Z"
   },
   {
    "duration": 3,
    "start_time": "2022-06-22T13:06:07.505Z"
   },
   {
    "duration": 7,
    "start_time": "2022-06-22T13:06:33.038Z"
   },
   {
    "duration": 3,
    "start_time": "2022-06-22T13:06:33.837Z"
   },
   {
    "duration": 4,
    "start_time": "2022-06-22T13:08:29.201Z"
   },
   {
    "duration": 157,
    "start_time": "2022-06-22T13:08:32.677Z"
   },
   {
    "duration": 17,
    "start_time": "2022-06-22T13:08:33.488Z"
   },
   {
    "duration": 6,
    "start_time": "2022-06-22T13:08:34.495Z"
   },
   {
    "duration": 6,
    "start_time": "2022-06-22T13:09:16.336Z"
   },
   {
    "duration": 4,
    "start_time": "2022-06-22T13:09:16.776Z"
   },
   {
    "duration": 3,
    "start_time": "2022-06-22T13:09:19.401Z"
   },
   {
    "duration": 3,
    "start_time": "2022-06-22T13:09:19.726Z"
   },
   {
    "duration": 2,
    "start_time": "2022-06-22T13:09:20.896Z"
   },
   {
    "duration": 149,
    "start_time": "2022-06-22T13:09:21.891Z"
   },
   {
    "duration": 15,
    "start_time": "2022-06-22T13:09:23.563Z"
   },
   {
    "duration": 7,
    "start_time": "2022-06-22T13:09:24.010Z"
   },
   {
    "duration": 4,
    "start_time": "2022-06-22T13:12:02.486Z"
   },
   {
    "duration": 10,
    "start_time": "2022-06-22T13:12:33.961Z"
   },
   {
    "duration": 3,
    "start_time": "2022-06-22T13:12:35.446Z"
   },
   {
    "duration": 3,
    "start_time": "2022-06-22T13:12:35.918Z"
   },
   {
    "duration": 2,
    "start_time": "2022-06-22T13:12:36.333Z"
   },
   {
    "duration": 17,
    "start_time": "2022-06-22T13:12:38.442Z"
   },
   {
    "duration": 8,
    "start_time": "2022-06-22T13:13:12.832Z"
   },
   {
    "duration": 5,
    "start_time": "2022-06-22T13:13:16.803Z"
   },
   {
    "duration": 8,
    "start_time": "2022-06-22T13:13:22.808Z"
   },
   {
    "duration": 9,
    "start_time": "2022-06-22T13:13:35.060Z"
   },
   {
    "duration": 2,
    "start_time": "2022-06-22T13:13:35.718Z"
   },
   {
    "duration": 3,
    "start_time": "2022-06-22T13:13:36.014Z"
   },
   {
    "duration": 2,
    "start_time": "2022-06-22T13:13:36.287Z"
   },
   {
    "duration": 16,
    "start_time": "2022-06-22T13:13:37.447Z"
   },
   {
    "duration": 7,
    "start_time": "2022-06-22T13:13:46.246Z"
   },
   {
    "duration": 4,
    "start_time": "2022-06-22T13:14:10.441Z"
   },
   {
    "duration": 64,
    "start_time": "2022-06-22T13:14:10.447Z"
   },
   {
    "duration": 14,
    "start_time": "2022-06-22T13:14:10.513Z"
   },
   {
    "duration": 20,
    "start_time": "2022-06-22T13:14:10.528Z"
   },
   {
    "duration": 3,
    "start_time": "2022-06-22T13:14:10.551Z"
   },
   {
    "duration": 12,
    "start_time": "2022-06-22T13:14:10.556Z"
   },
   {
    "duration": 16,
    "start_time": "2022-06-22T13:14:10.569Z"
   },
   {
    "duration": 7,
    "start_time": "2022-06-22T13:14:10.587Z"
   },
   {
    "duration": 6,
    "start_time": "2022-06-22T13:14:10.596Z"
   },
   {
    "duration": 21,
    "start_time": "2022-06-22T13:14:10.604Z"
   },
   {
    "duration": 13,
    "start_time": "2022-06-22T13:14:10.626Z"
   },
   {
    "duration": 12,
    "start_time": "2022-06-22T13:14:10.641Z"
   },
   {
    "duration": 7,
    "start_time": "2022-06-22T13:14:10.654Z"
   },
   {
    "duration": 9,
    "start_time": "2022-06-22T13:14:10.664Z"
   },
   {
    "duration": 5,
    "start_time": "2022-06-22T13:14:10.675Z"
   },
   {
    "duration": 6,
    "start_time": "2022-06-22T13:14:10.682Z"
   },
   {
    "duration": 714,
    "start_time": "2022-06-22T13:14:10.689Z"
   },
   {
    "duration": 7340,
    "start_time": "2022-06-22T13:14:11.405Z"
   },
   {
    "duration": 7910,
    "start_time": "2022-06-22T13:14:18.747Z"
   },
   {
    "duration": 3,
    "start_time": "2022-06-22T13:14:26.659Z"
   },
   {
    "duration": 194,
    "start_time": "2022-06-22T13:14:26.664Z"
   },
   {
    "duration": 26,
    "start_time": "2022-06-22T13:14:26.860Z"
   },
   {
    "duration": 720,
    "start_time": "2022-06-22T13:14:26.888Z"
   },
   {
    "duration": 3869,
    "start_time": "2022-06-22T13:14:27.609Z"
   },
   {
    "duration": 3182,
    "start_time": "2022-06-22T13:14:31.479Z"
   },
   {
    "duration": 90,
    "start_time": "2022-06-22T13:14:34.663Z"
   },
   {
    "duration": 152,
    "start_time": "2022-06-22T13:14:34.759Z"
   },
   {
    "duration": 5,
    "start_time": "2022-06-22T13:14:34.913Z"
   },
   {
    "duration": 233,
    "start_time": "2022-06-22T13:14:34.920Z"
   },
   {
    "duration": 7,
    "start_time": "2022-06-22T13:14:35.156Z"
   },
   {
    "duration": 189,
    "start_time": "2022-06-22T13:14:35.164Z"
   },
   {
    "duration": 106,
    "start_time": "2022-06-22T13:14:35.355Z"
   },
   {
    "duration": 8,
    "start_time": "2022-06-22T13:14:35.463Z"
   },
   {
    "duration": 33,
    "start_time": "2022-06-22T13:14:35.472Z"
   },
   {
    "duration": 23,
    "start_time": "2022-06-22T13:14:35.507Z"
   },
   {
    "duration": 6,
    "start_time": "2022-06-22T13:14:35.532Z"
   },
   {
    "duration": 102,
    "start_time": "2022-06-22T13:14:35.539Z"
   },
   {
    "duration": 6,
    "start_time": "2022-06-22T13:14:35.642Z"
   },
   {
    "duration": 23,
    "start_time": "2022-06-22T13:14:35.649Z"
   },
   {
    "duration": 104,
    "start_time": "2022-06-22T13:14:35.753Z"
   },
   {
    "duration": 9,
    "start_time": "2022-06-22T13:14:35.860Z"
   },
   {
    "duration": 5,
    "start_time": "2022-06-22T13:14:35.870Z"
   },
   {
    "duration": 33,
    "start_time": "2022-06-22T13:14:35.877Z"
   },
   {
    "duration": 2,
    "start_time": "2022-06-22T13:14:35.912Z"
   },
   {
    "duration": 5,
    "start_time": "2022-06-22T13:14:35.916Z"
   },
   {
    "duration": 10,
    "start_time": "2022-06-22T13:14:35.923Z"
   },
   {
    "duration": 23,
    "start_time": "2022-06-22T13:14:35.935Z"
   },
   {
    "duration": 0,
    "start_time": "2022-06-22T13:14:35.959Z"
   },
   {
    "duration": 0,
    "start_time": "2022-06-22T13:14:35.961Z"
   },
   {
    "duration": 0,
    "start_time": "2022-06-22T13:14:35.962Z"
   },
   {
    "duration": 0,
    "start_time": "2022-06-22T13:14:35.963Z"
   },
   {
    "duration": 6,
    "start_time": "2022-06-22T13:14:56.808Z"
   },
   {
    "duration": 3,
    "start_time": "2022-06-22T13:14:57.627Z"
   },
   {
    "duration": 9,
    "start_time": "2022-06-22T13:14:59.056Z"
   },
   {
    "duration": 3,
    "start_time": "2022-06-22T13:15:01.782Z"
   },
   {
    "duration": 3,
    "start_time": "2022-06-22T13:15:01.971Z"
   },
   {
    "duration": 2,
    "start_time": "2022-06-22T13:15:02.229Z"
   },
   {
    "duration": 16,
    "start_time": "2022-06-22T13:15:03.247Z"
   },
   {
    "duration": 14,
    "start_time": "2022-06-22T13:15:42.588Z"
   },
   {
    "duration": 16,
    "start_time": "2022-06-22T13:15:43.513Z"
   },
   {
    "duration": 7,
    "start_time": "2022-06-22T13:17:02.050Z"
   },
   {
    "duration": 13,
    "start_time": "2022-06-22T13:17:11.654Z"
   },
   {
    "duration": 5,
    "start_time": "2022-06-22T13:18:32.647Z"
   },
   {
    "duration": 58,
    "start_time": "2022-06-22T13:18:32.654Z"
   },
   {
    "duration": 13,
    "start_time": "2022-06-22T13:18:32.714Z"
   },
   {
    "duration": 22,
    "start_time": "2022-06-22T13:18:32.729Z"
   },
   {
    "duration": 3,
    "start_time": "2022-06-22T13:18:32.753Z"
   },
   {
    "duration": 11,
    "start_time": "2022-06-22T13:18:32.757Z"
   },
   {
    "duration": 12,
    "start_time": "2022-06-22T13:18:32.770Z"
   },
   {
    "duration": 5,
    "start_time": "2022-06-22T13:18:32.783Z"
   },
   {
    "duration": 6,
    "start_time": "2022-06-22T13:18:32.790Z"
   },
   {
    "duration": 12,
    "start_time": "2022-06-22T13:18:32.797Z"
   },
   {
    "duration": 7,
    "start_time": "2022-06-22T13:18:32.810Z"
   },
   {
    "duration": 36,
    "start_time": "2022-06-22T13:18:32.818Z"
   },
   {
    "duration": 8,
    "start_time": "2022-06-22T13:18:32.856Z"
   },
   {
    "duration": 10,
    "start_time": "2022-06-22T13:18:32.865Z"
   },
   {
    "duration": 13,
    "start_time": "2022-06-22T13:18:32.877Z"
   },
   {
    "duration": 10,
    "start_time": "2022-06-22T13:18:32.892Z"
   },
   {
    "duration": 708,
    "start_time": "2022-06-22T13:18:32.903Z"
   },
   {
    "duration": 7278,
    "start_time": "2022-06-22T13:18:33.613Z"
   },
   {
    "duration": 7573,
    "start_time": "2022-06-22T13:18:40.893Z"
   },
   {
    "duration": 3,
    "start_time": "2022-06-22T13:18:48.553Z"
   },
   {
    "duration": 114,
    "start_time": "2022-06-22T13:18:48.557Z"
   },
   {
    "duration": 36,
    "start_time": "2022-06-22T13:18:48.672Z"
   },
   {
    "duration": 746,
    "start_time": "2022-06-22T13:18:48.710Z"
   },
   {
    "duration": 3845,
    "start_time": "2022-06-22T13:18:49.458Z"
   },
   {
    "duration": 4653,
    "start_time": "2022-06-22T13:18:53.305Z"
   },
   {
    "duration": 5,
    "start_time": "2022-06-22T13:18:57.959Z"
   },
   {
    "duration": 139,
    "start_time": "2022-06-22T13:18:58.053Z"
   },
   {
    "duration": 6,
    "start_time": "2022-06-22T13:18:58.194Z"
   },
   {
    "duration": 204,
    "start_time": "2022-06-22T13:18:58.201Z"
   },
   {
    "duration": 7,
    "start_time": "2022-06-22T13:18:58.407Z"
   },
   {
    "duration": 147,
    "start_time": "2022-06-22T13:18:58.415Z"
   },
   {
    "duration": 195,
    "start_time": "2022-06-22T13:18:58.563Z"
   },
   {
    "duration": 5,
    "start_time": "2022-06-22T13:18:58.761Z"
   },
   {
    "duration": 14,
    "start_time": "2022-06-22T13:18:58.768Z"
   },
   {
    "duration": 15,
    "start_time": "2022-06-22T13:18:58.785Z"
   },
   {
    "duration": 6,
    "start_time": "2022-06-22T13:18:58.801Z"
   },
   {
    "duration": 127,
    "start_time": "2022-06-22T13:18:58.810Z"
   },
   {
    "duration": 6,
    "start_time": "2022-06-22T13:18:58.939Z"
   },
   {
    "duration": 217,
    "start_time": "2022-06-22T13:18:58.946Z"
   },
   {
    "duration": 103,
    "start_time": "2022-06-22T13:18:59.253Z"
   },
   {
    "duration": 11,
    "start_time": "2022-06-22T13:20:29.441Z"
   },
   {
    "duration": 12,
    "start_time": "2022-06-22T13:20:46.452Z"
   },
   {
    "duration": 10,
    "start_time": "2022-06-22T13:21:10.164Z"
   },
   {
    "duration": 13,
    "start_time": "2022-06-22T13:21:10.552Z"
   },
   {
    "duration": 3,
    "start_time": "2022-06-22T13:22:00.497Z"
   },
   {
    "duration": 2,
    "start_time": "2022-06-22T13:22:00.696Z"
   },
   {
    "duration": 18,
    "start_time": "2022-06-22T13:22:01.666Z"
   },
   {
    "duration": 2,
    "start_time": "2022-06-22T13:22:25.653Z"
   },
   {
    "duration": 3,
    "start_time": "2022-06-22T13:22:26.245Z"
   },
   {
    "duration": 2,
    "start_time": "2022-06-22T13:22:26.463Z"
   },
   {
    "duration": 18,
    "start_time": "2022-06-22T13:22:27.351Z"
   },
   {
    "duration": 5,
    "start_time": "2022-06-22T13:23:25.255Z"
   },
   {
    "duration": 17,
    "start_time": "2022-06-22T13:23:28.294Z"
   },
   {
    "duration": 6,
    "start_time": "2022-06-22T13:26:51.494Z"
   },
   {
    "duration": 4,
    "start_time": "2022-06-22T13:26:52.190Z"
   },
   {
    "duration": 16,
    "start_time": "2022-06-22T13:27:00.805Z"
   },
   {
    "duration": 5,
    "start_time": "2022-06-22T13:27:12.667Z"
   },
   {
    "duration": 72,
    "start_time": "2022-06-22T13:27:12.674Z"
   },
   {
    "duration": 13,
    "start_time": "2022-06-22T13:27:12.748Z"
   },
   {
    "duration": 14,
    "start_time": "2022-06-22T13:27:12.762Z"
   },
   {
    "duration": 3,
    "start_time": "2022-06-22T13:27:12.779Z"
   },
   {
    "duration": 8,
    "start_time": "2022-06-22T13:27:12.784Z"
   },
   {
    "duration": 12,
    "start_time": "2022-06-22T13:27:12.793Z"
   },
   {
    "duration": 4,
    "start_time": "2022-06-22T13:27:12.807Z"
   },
   {
    "duration": 6,
    "start_time": "2022-06-22T13:27:12.813Z"
   },
   {
    "duration": 44,
    "start_time": "2022-06-22T13:27:12.820Z"
   },
   {
    "duration": 11,
    "start_time": "2022-06-22T13:27:12.867Z"
   },
   {
    "duration": 3,
    "start_time": "2022-06-22T13:27:12.879Z"
   },
   {
    "duration": 7,
    "start_time": "2022-06-22T13:27:12.884Z"
   },
   {
    "duration": 9,
    "start_time": "2022-06-22T13:27:12.893Z"
   },
   {
    "duration": 9,
    "start_time": "2022-06-22T13:27:12.905Z"
   },
   {
    "duration": 8,
    "start_time": "2022-06-22T13:27:12.915Z"
   },
   {
    "duration": 710,
    "start_time": "2022-06-22T13:27:12.925Z"
   },
   {
    "duration": 7394,
    "start_time": "2022-06-22T13:27:13.637Z"
   },
   {
    "duration": 7026,
    "start_time": "2022-06-22T13:27:21.033Z"
   },
   {
    "duration": 96,
    "start_time": "2022-06-22T13:27:28.060Z"
   },
   {
    "duration": 103,
    "start_time": "2022-06-22T13:27:28.161Z"
   },
   {
    "duration": 31,
    "start_time": "2022-06-22T13:27:28.267Z"
   },
   {
    "duration": 735,
    "start_time": "2022-06-22T13:27:28.300Z"
   },
   {
    "duration": 3952,
    "start_time": "2022-06-22T13:27:29.036Z"
   },
   {
    "duration": 4163,
    "start_time": "2022-06-22T13:27:32.990Z"
   },
   {
    "duration": 5,
    "start_time": "2022-06-22T13:27:37.155Z"
   },
   {
    "duration": 128,
    "start_time": "2022-06-22T13:27:37.163Z"
   },
   {
    "duration": 6,
    "start_time": "2022-06-22T13:27:37.293Z"
   },
   {
    "duration": 254,
    "start_time": "2022-06-22T13:27:37.302Z"
   },
   {
    "duration": 6,
    "start_time": "2022-06-22T13:27:37.557Z"
   },
   {
    "duration": 291,
    "start_time": "2022-06-22T13:27:37.565Z"
   },
   {
    "duration": 199,
    "start_time": "2022-06-22T13:27:37.858Z"
   },
   {
    "duration": 9,
    "start_time": "2022-06-22T13:27:38.060Z"
   },
   {
    "duration": 16,
    "start_time": "2022-06-22T13:27:38.071Z"
   },
   {
    "duration": 23,
    "start_time": "2022-06-22T13:27:38.089Z"
   },
   {
    "duration": 7,
    "start_time": "2022-06-22T13:27:38.113Z"
   },
   {
    "duration": 120,
    "start_time": "2022-06-22T13:27:38.122Z"
   },
   {
    "duration": 13,
    "start_time": "2022-06-22T13:27:38.244Z"
   },
   {
    "duration": 102,
    "start_time": "2022-06-22T13:27:38.258Z"
   },
   {
    "duration": 219,
    "start_time": "2022-06-22T13:27:38.361Z"
   },
   {
    "duration": 9,
    "start_time": "2022-06-22T13:27:38.581Z"
   },
   {
    "duration": 6,
    "start_time": "2022-06-22T13:29:51.004Z"
   },
   {
    "duration": 4,
    "start_time": "2022-06-22T13:29:51.436Z"
   },
   {
    "duration": 504,
    "start_time": "2022-06-22T13:29:55.504Z"
   },
   {
    "duration": 31,
    "start_time": "2022-06-22T13:29:59.426Z"
   },
   {
    "duration": 6,
    "start_time": "2022-06-22T13:29:59.950Z"
   },
   {
    "duration": 5,
    "start_time": "2022-06-22T13:30:55.636Z"
   },
   {
    "duration": 6,
    "start_time": "2022-06-22T13:32:11.777Z"
   },
   {
    "duration": 4,
    "start_time": "2022-06-22T13:32:12.391Z"
   },
   {
    "duration": 4,
    "start_time": "2022-06-22T13:32:22.623Z"
   },
   {
    "duration": 137,
    "start_time": "2022-06-22T13:32:22.629Z"
   },
   {
    "duration": 15,
    "start_time": "2022-06-22T13:32:22.768Z"
   },
   {
    "duration": 40,
    "start_time": "2022-06-22T13:32:22.785Z"
   },
   {
    "duration": 27,
    "start_time": "2022-06-22T13:32:22.828Z"
   },
   {
    "duration": 28,
    "start_time": "2022-06-22T13:32:22.857Z"
   },
   {
    "duration": 54,
    "start_time": "2022-06-22T13:32:22.887Z"
   },
   {
    "duration": 14,
    "start_time": "2022-06-22T13:32:22.943Z"
   },
   {
    "duration": 26,
    "start_time": "2022-06-22T13:32:22.959Z"
   },
   {
    "duration": 38,
    "start_time": "2022-06-22T13:32:22.987Z"
   },
   {
    "duration": 18,
    "start_time": "2022-06-22T13:32:23.027Z"
   },
   {
    "duration": 29,
    "start_time": "2022-06-22T13:32:23.046Z"
   },
   {
    "duration": 12,
    "start_time": "2022-06-22T13:32:23.077Z"
   },
   {
    "duration": 26,
    "start_time": "2022-06-22T13:32:23.092Z"
   },
   {
    "duration": 33,
    "start_time": "2022-06-22T13:32:23.120Z"
   },
   {
    "duration": 16,
    "start_time": "2022-06-22T13:32:23.155Z"
   },
   {
    "duration": 753,
    "start_time": "2022-06-22T13:32:23.173Z"
   },
   {
    "duration": 7764,
    "start_time": "2022-06-22T13:32:23.928Z"
   },
   {
    "duration": 7859,
    "start_time": "2022-06-22T13:32:31.694Z"
   },
   {
    "duration": 7,
    "start_time": "2022-06-22T13:32:39.556Z"
   },
   {
    "duration": 15,
    "start_time": "2022-06-22T13:32:39.652Z"
   },
   {
    "duration": 24,
    "start_time": "2022-06-22T13:32:39.668Z"
   },
   {
    "duration": 732,
    "start_time": "2022-06-22T13:32:39.693Z"
   },
   {
    "duration": 3797,
    "start_time": "2022-06-22T13:32:40.426Z"
   },
   {
    "duration": 4027,
    "start_time": "2022-06-22T13:32:44.225Z"
   },
   {
    "duration": 5,
    "start_time": "2022-06-22T13:32:48.255Z"
   },
   {
    "duration": 150,
    "start_time": "2022-06-22T13:32:48.262Z"
   },
   {
    "duration": 8,
    "start_time": "2022-06-22T13:32:48.413Z"
   },
   {
    "duration": 241,
    "start_time": "2022-06-22T13:32:48.423Z"
   },
   {
    "duration": 6,
    "start_time": "2022-06-22T13:32:48.666Z"
   },
   {
    "duration": 184,
    "start_time": "2022-06-22T13:32:48.673Z"
   },
   {
    "duration": 109,
    "start_time": "2022-06-22T13:32:48.859Z"
   },
   {
    "duration": 16,
    "start_time": "2022-06-22T13:32:49.052Z"
   },
   {
    "duration": 23,
    "start_time": "2022-06-22T13:32:49.071Z"
   },
   {
    "duration": 20,
    "start_time": "2022-06-22T13:32:49.097Z"
   },
   {
    "duration": 8,
    "start_time": "2022-06-22T13:32:49.119Z"
   },
   {
    "duration": 138,
    "start_time": "2022-06-22T13:32:49.130Z"
   },
   {
    "duration": 7,
    "start_time": "2022-06-22T13:32:49.270Z"
   },
   {
    "duration": 80,
    "start_time": "2022-06-22T13:32:49.278Z"
   },
   {
    "duration": 96,
    "start_time": "2022-06-22T13:32:49.361Z"
   },
   {
    "duration": 103,
    "start_time": "2022-06-22T13:32:49.463Z"
   },
   {
    "duration": 20,
    "start_time": "2022-06-22T13:32:49.568Z"
   },
   {
    "duration": 9,
    "start_time": "2022-06-22T13:32:49.589Z"
   },
   {
    "duration": 8,
    "start_time": "2022-06-22T13:32:49.599Z"
   },
   {
    "duration": 7,
    "start_time": "2022-06-22T13:32:49.609Z"
   },
   {
    "duration": 25,
    "start_time": "2022-06-22T13:32:49.618Z"
   },
   {
    "duration": 176,
    "start_time": "2022-06-22T13:32:49.652Z"
   },
   {
    "duration": 30,
    "start_time": "2022-06-22T13:32:49.830Z"
   },
   {
    "duration": 6,
    "start_time": "2022-06-22T13:32:49.862Z"
   },
   {
    "duration": 156,
    "start_time": "2022-06-22T13:32:49.869Z"
   },
   {
    "duration": 6,
    "start_time": "2022-06-22T13:32:50.027Z"
   },
   {
    "duration": 16,
    "start_time": "2022-06-22T13:34:10.476Z"
   },
   {
    "duration": 2,
    "start_time": "2022-06-22T13:36:35.657Z"
   },
   {
    "duration": 2,
    "start_time": "2022-06-22T13:36:35.853Z"
   },
   {
    "duration": 17,
    "start_time": "2022-06-22T13:36:36.037Z"
   },
   {
    "duration": 124,
    "start_time": "2022-06-22T13:36:36.459Z"
   },
   {
    "duration": 16,
    "start_time": "2022-06-22T13:36:36.912Z"
   },
   {
    "duration": 8,
    "start_time": "2022-06-22T13:36:37.389Z"
   },
   {
    "duration": 4,
    "start_time": "2022-06-22T13:36:41.153Z"
   },
   {
    "duration": 4,
    "start_time": "2022-06-22T13:36:41.700Z"
   },
   {
    "duration": 2,
    "start_time": "2022-06-22T13:36:42.696Z"
   },
   {
    "duration": 3,
    "start_time": "2022-06-22T13:36:42.885Z"
   },
   {
    "duration": 17,
    "start_time": "2022-06-22T13:36:43.069Z"
   },
   {
    "duration": 124,
    "start_time": "2022-06-22T13:36:43.487Z"
   },
   {
    "duration": 17,
    "start_time": "2022-06-22T13:36:44.167Z"
   },
   {
    "duration": 7,
    "start_time": "2022-06-22T13:36:44.799Z"
   },
   {
    "duration": 4,
    "start_time": "2022-06-22T13:36:57.388Z"
   },
   {
    "duration": 99,
    "start_time": "2022-06-22T13:36:57.394Z"
   },
   {
    "duration": 12,
    "start_time": "2022-06-22T13:36:57.496Z"
   },
   {
    "duration": 41,
    "start_time": "2022-06-22T13:36:57.510Z"
   },
   {
    "duration": 13,
    "start_time": "2022-06-22T13:36:57.553Z"
   },
   {
    "duration": 24,
    "start_time": "2022-06-22T13:36:57.568Z"
   },
   {
    "duration": 30,
    "start_time": "2022-06-22T13:36:57.593Z"
   },
   {
    "duration": 22,
    "start_time": "2022-06-22T13:36:57.625Z"
   },
   {
    "duration": 20,
    "start_time": "2022-06-22T13:36:57.649Z"
   },
   {
    "duration": 20,
    "start_time": "2022-06-22T13:36:57.671Z"
   },
   {
    "duration": 47,
    "start_time": "2022-06-22T13:36:57.693Z"
   },
   {
    "duration": 16,
    "start_time": "2022-06-22T13:36:57.742Z"
   },
   {
    "duration": 28,
    "start_time": "2022-06-22T13:36:57.760Z"
   },
   {
    "duration": 15,
    "start_time": "2022-06-22T13:36:57.791Z"
   },
   {
    "duration": 21,
    "start_time": "2022-06-22T13:36:57.808Z"
   },
   {
    "duration": 9,
    "start_time": "2022-06-22T13:36:57.831Z"
   },
   {
    "duration": 699,
    "start_time": "2022-06-22T13:36:57.842Z"
   },
   {
    "duration": 7384,
    "start_time": "2022-06-22T13:36:58.543Z"
   },
   {
    "duration": 7125,
    "start_time": "2022-06-22T13:37:05.928Z"
   },
   {
    "duration": 4,
    "start_time": "2022-06-22T13:37:13.056Z"
   },
   {
    "duration": 105,
    "start_time": "2022-06-22T13:37:13.062Z"
   },
   {
    "duration": 21,
    "start_time": "2022-06-22T13:37:13.169Z"
   },
   {
    "duration": 720,
    "start_time": "2022-06-22T13:37:13.192Z"
   },
   {
    "duration": 3718,
    "start_time": "2022-06-22T13:37:13.914Z"
   },
   {
    "duration": 3722,
    "start_time": "2022-06-22T13:37:17.634Z"
   },
   {
    "duration": 94,
    "start_time": "2022-06-22T13:37:21.357Z"
   },
   {
    "duration": 41,
    "start_time": "2022-06-22T13:37:21.453Z"
   },
   {
    "duration": 6,
    "start_time": "2022-06-22T13:37:21.495Z"
   },
   {
    "duration": 298,
    "start_time": "2022-06-22T13:37:21.502Z"
   },
   {
    "duration": 7,
    "start_time": "2022-06-22T13:37:21.802Z"
   },
   {
    "duration": 242,
    "start_time": "2022-06-22T13:37:21.811Z"
   },
   {
    "duration": 98,
    "start_time": "2022-06-22T13:37:22.055Z"
   },
   {
    "duration": 12,
    "start_time": "2022-06-22T13:37:22.156Z"
   },
   {
    "duration": 18,
    "start_time": "2022-06-22T13:37:22.170Z"
   },
   {
    "duration": 15,
    "start_time": "2022-06-22T13:37:22.190Z"
   },
   {
    "duration": 5,
    "start_time": "2022-06-22T13:37:22.207Z"
   },
   {
    "duration": 126,
    "start_time": "2022-06-22T13:37:22.214Z"
   },
   {
    "duration": 11,
    "start_time": "2022-06-22T13:37:22.342Z"
   },
   {
    "duration": 104,
    "start_time": "2022-06-22T13:37:22.354Z"
   },
   {
    "duration": 201,
    "start_time": "2022-06-22T13:37:22.460Z"
   },
   {
    "duration": 7,
    "start_time": "2022-06-22T13:37:22.665Z"
   },
   {
    "duration": 13,
    "start_time": "2022-06-22T13:37:22.673Z"
   },
   {
    "duration": 10,
    "start_time": "2022-06-22T13:37:22.687Z"
   },
   {
    "duration": 8,
    "start_time": "2022-06-22T13:37:22.699Z"
   },
   {
    "duration": 8,
    "start_time": "2022-06-22T13:37:22.708Z"
   },
   {
    "duration": 7,
    "start_time": "2022-06-22T13:37:22.718Z"
   },
   {
    "duration": 210,
    "start_time": "2022-06-22T13:37:22.727Z"
   },
   {
    "duration": 27,
    "start_time": "2022-06-22T13:37:22.939Z"
   },
   {
    "duration": 6,
    "start_time": "2022-06-22T13:37:22.968Z"
   },
   {
    "duration": 149,
    "start_time": "2022-06-22T13:37:22.975Z"
   },
   {
    "duration": 7,
    "start_time": "2022-06-22T13:37:23.126Z"
   },
   {
    "duration": 7,
    "start_time": "2022-06-22T13:38:10.290Z"
   },
   {
    "duration": 4,
    "start_time": "2022-06-22T13:41:05.811Z"
   },
   {
    "duration": 5,
    "start_time": "2022-06-22T13:41:18.589Z"
   },
   {
    "duration": 4,
    "start_time": "2022-06-22T13:46:21.606Z"
   },
   {
    "duration": 57,
    "start_time": "2022-06-22T13:46:21.611Z"
   },
   {
    "duration": 13,
    "start_time": "2022-06-22T13:46:21.669Z"
   },
   {
    "duration": 16,
    "start_time": "2022-06-22T13:46:21.684Z"
   },
   {
    "duration": 3,
    "start_time": "2022-06-22T13:46:21.703Z"
   },
   {
    "duration": 46,
    "start_time": "2022-06-22T13:46:21.707Z"
   },
   {
    "duration": 15,
    "start_time": "2022-06-22T13:46:21.755Z"
   },
   {
    "duration": 5,
    "start_time": "2022-06-22T13:46:21.772Z"
   },
   {
    "duration": 11,
    "start_time": "2022-06-22T13:46:21.778Z"
   },
   {
    "duration": 19,
    "start_time": "2022-06-22T13:46:21.790Z"
   },
   {
    "duration": 8,
    "start_time": "2022-06-22T13:46:21.810Z"
   },
   {
    "duration": 4,
    "start_time": "2022-06-22T13:46:21.819Z"
   },
   {
    "duration": 5,
    "start_time": "2022-06-22T13:46:21.852Z"
   },
   {
    "duration": 5,
    "start_time": "2022-06-22T13:46:21.860Z"
   },
   {
    "duration": 12,
    "start_time": "2022-06-22T13:46:21.867Z"
   },
   {
    "duration": 8,
    "start_time": "2022-06-22T13:46:21.880Z"
   },
   {
    "duration": 768,
    "start_time": "2022-06-22T13:46:21.890Z"
   },
   {
    "duration": 8050,
    "start_time": "2022-06-22T13:46:22.660Z"
   },
   {
    "duration": 8141,
    "start_time": "2022-06-22T13:46:30.712Z"
   },
   {
    "duration": 3,
    "start_time": "2022-06-22T13:46:38.855Z"
   },
   {
    "duration": 99,
    "start_time": "2022-06-22T13:46:38.860Z"
   },
   {
    "duration": 24,
    "start_time": "2022-06-22T13:46:38.961Z"
   },
   {
    "duration": 773,
    "start_time": "2022-06-22T13:46:38.987Z"
   },
   {
    "duration": 3852,
    "start_time": "2022-06-22T13:46:39.761Z"
   },
   {
    "duration": 4747,
    "start_time": "2022-06-22T13:46:43.616Z"
   },
   {
    "duration": 5,
    "start_time": "2022-06-22T13:46:48.453Z"
   },
   {
    "duration": 139,
    "start_time": "2022-06-22T13:46:48.460Z"
   },
   {
    "duration": 5,
    "start_time": "2022-06-22T13:46:48.601Z"
   },
   {
    "duration": 240,
    "start_time": "2022-06-22T13:46:48.608Z"
   },
   {
    "duration": 9,
    "start_time": "2022-06-22T13:46:48.849Z"
   },
   {
    "duration": 192,
    "start_time": "2022-06-22T13:46:48.860Z"
   },
   {
    "duration": 102,
    "start_time": "2022-06-22T13:46:49.054Z"
   },
   {
    "duration": 4,
    "start_time": "2022-06-22T13:46:49.158Z"
   },
   {
    "duration": 13,
    "start_time": "2022-06-22T13:46:49.164Z"
   },
   {
    "duration": 19,
    "start_time": "2022-06-22T13:46:49.180Z"
   },
   {
    "duration": 7,
    "start_time": "2022-06-22T13:46:49.201Z"
   },
   {
    "duration": 130,
    "start_time": "2022-06-22T13:46:49.210Z"
   },
   {
    "duration": 12,
    "start_time": "2022-06-22T13:46:49.342Z"
   },
   {
    "duration": 97,
    "start_time": "2022-06-22T13:46:49.356Z"
   },
   {
    "duration": 8,
    "start_time": "2022-06-22T13:46:49.455Z"
   },
   {
    "duration": 106,
    "start_time": "2022-06-22T13:46:49.553Z"
   },
   {
    "duration": 5,
    "start_time": "2022-06-22T13:46:49.661Z"
   },
   {
    "duration": 6,
    "start_time": "2022-06-22T13:46:49.668Z"
   },
   {
    "duration": 8,
    "start_time": "2022-06-22T13:46:49.676Z"
   },
   {
    "duration": 207,
    "start_time": "2022-06-22T13:46:49.686Z"
   },
   {
    "duration": 20,
    "start_time": "2022-06-22T13:46:49.895Z"
   },
   {
    "duration": 16,
    "start_time": "2022-06-22T13:46:49.918Z"
   },
   {
    "duration": 158,
    "start_time": "2022-06-22T13:46:49.936Z"
   },
   {
    "duration": 7,
    "start_time": "2022-06-22T13:46:50.096Z"
   },
   {
    "duration": 1388,
    "start_time": "2022-06-28T23:02:19.364Z"
   },
   {
    "duration": 149,
    "start_time": "2022-06-28T23:02:20.755Z"
   },
   {
    "duration": 16,
    "start_time": "2022-06-28T23:02:20.906Z"
   },
   {
    "duration": 14,
    "start_time": "2022-06-28T23:02:20.924Z"
   },
   {
    "duration": 11,
    "start_time": "2022-06-28T23:02:20.939Z"
   },
   {
    "duration": 6,
    "start_time": "2022-06-28T23:02:21.404Z"
   },
   {
    "duration": 11,
    "start_time": "2022-06-28T23:02:21.788Z"
   },
   {
    "duration": 5,
    "start_time": "2022-06-28T23:02:22.548Z"
   },
   {
    "duration": 4,
    "start_time": "2022-06-28T23:02:23.318Z"
   },
   {
    "duration": 10,
    "start_time": "2022-06-28T23:02:23.916Z"
   },
   {
    "duration": 9,
    "start_time": "2022-06-28T23:02:24.482Z"
   },
   {
    "duration": 3,
    "start_time": "2022-06-28T23:02:26.020Z"
   },
   {
    "duration": 1362,
    "start_time": "2022-07-02T19:37:59.012Z"
   },
   {
    "duration": 110,
    "start_time": "2022-07-02T19:38:00.376Z"
   },
   {
    "duration": 16,
    "start_time": "2022-07-02T19:38:00.487Z"
   },
   {
    "duration": 14,
    "start_time": "2022-07-02T19:38:00.505Z"
   },
   {
    "duration": 8,
    "start_time": "2022-07-02T19:38:00.521Z"
   },
   {
    "duration": 23,
    "start_time": "2022-07-02T19:38:00.530Z"
   },
   {
    "duration": 20,
    "start_time": "2022-07-02T19:38:00.555Z"
   },
   {
    "duration": 13,
    "start_time": "2022-07-02T19:38:00.576Z"
   },
   {
    "duration": 19,
    "start_time": "2022-07-02T19:38:00.590Z"
   },
   {
    "duration": 22,
    "start_time": "2022-07-02T19:38:00.612Z"
   },
   {
    "duration": 12,
    "start_time": "2022-07-02T19:38:00.636Z"
   },
   {
    "duration": 13,
    "start_time": "2022-07-02T19:38:00.650Z"
   },
   {
    "duration": 19,
    "start_time": "2022-07-02T19:38:00.665Z"
   },
   {
    "duration": 2,
    "start_time": "2022-07-02T19:38:02.598Z"
   },
   {
    "duration": 4,
    "start_time": "2022-07-02T19:38:12.838Z"
   },
   {
    "duration": 3,
    "start_time": "2022-07-02T19:38:18.728Z"
   }
  ],
  "kernelspec": {
   "display_name": "Python 3 (ipykernel)",
   "language": "python",
   "name": "python3"
  },
  "language_info": {
   "codemirror_mode": {
    "name": "ipython",
    "version": 3
   },
   "file_extension": ".py",
   "mimetype": "text/x-python",
   "name": "python",
   "nbconvert_exporter": "python",
   "pygments_lexer": "ipython3",
   "version": "3.9.12"
  },
  "toc": {
   "base_numbering": 1,
   "nav_menu": {},
   "number_sections": true,
   "sideBar": true,
   "skip_h1_title": true,
   "title_cell": "Содержание",
   "title_sidebar": "Contents",
   "toc_cell": true,
   "toc_position": {
    "height": "calc(100% - 180px)",
    "left": "10px",
    "top": "150px",
    "width": "383.991px"
   },
   "toc_section_display": true,
   "toc_window_display": true
  }
 },
 "nbformat": 4,
 "nbformat_minor": 2
}
