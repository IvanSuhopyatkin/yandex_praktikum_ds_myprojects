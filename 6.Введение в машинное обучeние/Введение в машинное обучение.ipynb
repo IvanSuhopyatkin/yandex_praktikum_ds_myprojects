{
 "cells": [
  {
   "cell_type": "markdown",
   "metadata": {
    "toc": true
   },
   "source": [
    "<h1>Содержание<span class=\"tocSkip\"></span></h1>\n",
    "<div class=\"toc\"><ul class=\"toc-item\"><li><span><a href=\"#Откройте-и-изучите-файл\" data-toc-modified-id=\"Откройте-и-изучите-файл-1\"><span class=\"toc-item-num\">1&nbsp;&nbsp;</span>Откройте и изучите файл</a></span></li><li><span><a href=\"#Разбейте-данные-на-выборки\" data-toc-modified-id=\"Разбейте-данные-на-выборки-2\"><span class=\"toc-item-num\">2&nbsp;&nbsp;</span>Разбейте данные на выборки</a></span></li><li><span><a href=\"#Исследуйте-модели\" data-toc-modified-id=\"Исследуйте-модели-3\"><span class=\"toc-item-num\">3&nbsp;&nbsp;</span>Исследуйте модели</a></span></li><li><span><a href=\"#Проверьте-модель-на-тестовой-выборке\" data-toc-modified-id=\"Проверьте-модель-на-тестовой-выборке-4\"><span class=\"toc-item-num\">4&nbsp;&nbsp;</span>Проверьте модель на тестовой выборке</a></span></li><li><span><a href=\"#(бонус)-Проверьте-модели-на-адекватность\" data-toc-modified-id=\"(бонус)-Проверьте-модели-на-адекватность-5\"><span class=\"toc-item-num\">5&nbsp;&nbsp;</span>(бонус) Проверьте модели на адекватность</a></span></li><li><span><a href=\"#Чек-лист-готовности-проекта\" data-toc-modified-id=\"Чек-лист-готовности-проекта-6\"><span class=\"toc-item-num\">6&nbsp;&nbsp;</span>Чек-лист готовности проекта</a></span></li></ul></div>"
   ]
  },
  {
   "cell_type": "markdown",
   "metadata": {},
   "source": [
    "# Рекомендация тарифов"
   ]
  },
  {
   "cell_type": "markdown",
   "metadata": {},
   "source": [
    "В вашем распоряжении данные о поведении клиентов, которые уже перешли на эти тарифы (из проекта курса «Статистический анализ данных»). Нужно построить модель для задачи классификации, которая выберет подходящий тариф. Предобработка данных не понадобится — вы её уже сделали.\n",
    "\n",
    "Постройте модель с максимально большим значением *accuracy*. Чтобы сдать проект успешно, нужно довести долю правильных ответов по крайней мере до 0.75. Проверьте *accuracy* на тестовой выборке самостоятельно."
   ]
  },
  {
   "cell_type": "markdown",
   "metadata": {},
   "source": [
    "## Откройте и изучите файл"
   ]
  },
  {
   "cell_type": "markdown",
   "metadata": {},
   "source": [
    "импортируем необходимые библиотеки и сохраним данные о клиентах:"
   ]
  },
  {
   "cell_type": "code",
   "execution_count": 69,
   "metadata": {},
   "outputs": [],
   "source": [
    "import pandas as pd\n",
    "from sklearn.model_selection import train_test_split\n",
    "from sklearn.tree import DecisionTreeClassifier\n",
    "from sklearn.metrics import accuracy_score\n",
    "from sklearn.ensemble import RandomForestClassifier\n",
    "from sklearn.linear_model import LogisticRegression \n",
    "from sklearn.dummy import DummyClassifier"
   ]
  },
  {
   "cell_type": "code",
   "execution_count": 70,
   "metadata": {},
   "outputs": [],
   "source": [
    "data=pd.read_csv('users_behavior.csv')"
   ]
  },
  {
   "cell_type": "markdown",
   "metadata": {},
   "source": [
    "выведем первые 5 строк таблицы:"
   ]
  },
  {
   "cell_type": "code",
   "execution_count": 71,
   "metadata": {},
   "outputs": [
    {
     "data": {
      "text/html": [
       "<div>\n",
       "<style scoped>\n",
       "    .dataframe tbody tr th:only-of-type {\n",
       "        vertical-align: middle;\n",
       "    }\n",
       "\n",
       "    .dataframe tbody tr th {\n",
       "        vertical-align: top;\n",
       "    }\n",
       "\n",
       "    .dataframe thead th {\n",
       "        text-align: right;\n",
       "    }\n",
       "</style>\n",
       "<table border=\"1\" class=\"dataframe\">\n",
       "  <thead>\n",
       "    <tr style=\"text-align: right;\">\n",
       "      <th></th>\n",
       "      <th>calls</th>\n",
       "      <th>minutes</th>\n",
       "      <th>messages</th>\n",
       "      <th>mb_used</th>\n",
       "      <th>is_ultra</th>\n",
       "    </tr>\n",
       "  </thead>\n",
       "  <tbody>\n",
       "    <tr>\n",
       "      <th>0</th>\n",
       "      <td>40.0</td>\n",
       "      <td>311.90</td>\n",
       "      <td>83.0</td>\n",
       "      <td>19915.42</td>\n",
       "      <td>0</td>\n",
       "    </tr>\n",
       "    <tr>\n",
       "      <th>1</th>\n",
       "      <td>85.0</td>\n",
       "      <td>516.75</td>\n",
       "      <td>56.0</td>\n",
       "      <td>22696.96</td>\n",
       "      <td>0</td>\n",
       "    </tr>\n",
       "    <tr>\n",
       "      <th>2</th>\n",
       "      <td>77.0</td>\n",
       "      <td>467.66</td>\n",
       "      <td>86.0</td>\n",
       "      <td>21060.45</td>\n",
       "      <td>0</td>\n",
       "    </tr>\n",
       "    <tr>\n",
       "      <th>3</th>\n",
       "      <td>106.0</td>\n",
       "      <td>745.53</td>\n",
       "      <td>81.0</td>\n",
       "      <td>8437.39</td>\n",
       "      <td>1</td>\n",
       "    </tr>\n",
       "    <tr>\n",
       "      <th>4</th>\n",
       "      <td>66.0</td>\n",
       "      <td>418.74</td>\n",
       "      <td>1.0</td>\n",
       "      <td>14502.75</td>\n",
       "      <td>0</td>\n",
       "    </tr>\n",
       "  </tbody>\n",
       "</table>\n",
       "</div>"
      ],
      "text/plain": [
       "   calls  minutes  messages   mb_used  is_ultra\n",
       "0   40.0   311.90      83.0  19915.42         0\n",
       "1   85.0   516.75      56.0  22696.96         0\n",
       "2   77.0   467.66      86.0  21060.45         0\n",
       "3  106.0   745.53      81.0   8437.39         1\n",
       "4   66.0   418.74       1.0  14502.75         0"
      ]
     },
     "execution_count": 71,
     "metadata": {},
     "output_type": "execute_result"
    }
   ],
   "source": [
    "data.head()"
   ]
  },
  {
   "cell_type": "markdown",
   "metadata": {},
   "source": [
    "и выведем информацию о данных:"
   ]
  },
  {
   "cell_type": "code",
   "execution_count": 72,
   "metadata": {},
   "outputs": [
    {
     "name": "stdout",
     "output_type": "stream",
     "text": [
      "<class 'pandas.core.frame.DataFrame'>\n",
      "RangeIndex: 3214 entries, 0 to 3213\n",
      "Data columns (total 5 columns):\n",
      " #   Column    Non-Null Count  Dtype  \n",
      "---  ------    --------------  -----  \n",
      " 0   calls     3214 non-null   float64\n",
      " 1   minutes   3214 non-null   float64\n",
      " 2   messages  3214 non-null   float64\n",
      " 3   mb_used   3214 non-null   float64\n",
      " 4   is_ultra  3214 non-null   int64  \n",
      "dtypes: float64(4), int64(1)\n",
      "memory usage: 125.7 KB\n"
     ]
    },
    {
     "data": {
      "text/plain": [
       "None"
      ]
     },
     "metadata": {},
     "output_type": "display_data"
    }
   ],
   "source": [
    "display(data.info())"
   ]
  },
  {
   "cell_type": "markdown",
   "metadata": {},
   "source": [
    "проверим данные на явные дубликаты:"
   ]
  },
  {
   "cell_type": "code",
   "execution_count": 73,
   "metadata": {
    "scrolled": true
   },
   "outputs": [
    {
     "data": {
      "text/plain": [
       "0"
      ]
     },
     "execution_count": 73,
     "metadata": {},
     "output_type": "execute_result"
    }
   ],
   "source": [
    "data.duplicated().sum()"
   ]
  },
  {
   "cell_type": "markdown",
   "metadata": {},
   "source": [
    "пропусков не обнаружено, данные выгружаются без ошибок, разобьем данные на выборки для машинного обучения:"
   ]
  },
  {
   "cell_type": "markdown",
   "metadata": {},
   "source": [
    "## Разбейте данные на выборки"
   ]
  },
  {
   "cell_type": "markdown",
   "metadata": {},
   "source": [
    "разобьем сначала исходные данные на обучающую выборку, валидационную выборку и тестовую выборку в соотношении 3:1:1. Для этого сначала разделим данные в соотношении 3:2, а затем вторую часть разделим в отношении 1:1 "
   ]
  },
  {
   "cell_type": "code",
   "execution_count": 74,
   "metadata": {},
   "outputs": [],
   "source": [
    "data_train,data_validtest = train_test_split(data, test_size=0.4, random_state=42)\n",
    "\n",
    "data_valid,data_test=train_test_split(data_validtest, test_size=0.5, random_state=42)"
   ]
  },
  {
   "cell_type": "markdown",
   "metadata": {},
   "source": [
    "проверим что все верно"
   ]
  },
  {
   "cell_type": "code",
   "execution_count": 75,
   "metadata": {},
   "outputs": [
    {
     "name": "stdout",
     "output_type": "stream",
     "text": [
      "<class 'pandas.core.frame.DataFrame'>\n",
      "Int64Index: 1928 entries, 2369 to 3174\n",
      "Data columns (total 5 columns):\n",
      " #   Column    Non-Null Count  Dtype  \n",
      "---  ------    --------------  -----  \n",
      " 0   calls     1928 non-null   float64\n",
      " 1   minutes   1928 non-null   float64\n",
      " 2   messages  1928 non-null   float64\n",
      " 3   mb_used   1928 non-null   float64\n",
      " 4   is_ultra  1928 non-null   int64  \n",
      "dtypes: float64(4), int64(1)\n",
      "memory usage: 90.4 KB\n"
     ]
    }
   ],
   "source": [
    "data_train.info()"
   ]
  },
  {
   "cell_type": "code",
   "execution_count": 76,
   "metadata": {},
   "outputs": [
    {
     "name": "stdout",
     "output_type": "stream",
     "text": [
      "<class 'pandas.core.frame.DataFrame'>\n",
      "Int64Index: 643 entries, 1198 to 1510\n",
      "Data columns (total 5 columns):\n",
      " #   Column    Non-Null Count  Dtype  \n",
      "---  ------    --------------  -----  \n",
      " 0   calls     643 non-null    float64\n",
      " 1   minutes   643 non-null    float64\n",
      " 2   messages  643 non-null    float64\n",
      " 3   mb_used   643 non-null    float64\n",
      " 4   is_ultra  643 non-null    int64  \n",
      "dtypes: float64(4), int64(1)\n",
      "memory usage: 30.1 KB\n"
     ]
    }
   ],
   "source": [
    "data_valid.info()"
   ]
  },
  {
   "cell_type": "code",
   "execution_count": 77,
   "metadata": {
    "scrolled": true
   },
   "outputs": [
    {
     "name": "stdout",
     "output_type": "stream",
     "text": [
      "<class 'pandas.core.frame.DataFrame'>\n",
      "Int64Index: 643 entries, 1545 to 283\n",
      "Data columns (total 5 columns):\n",
      " #   Column    Non-Null Count  Dtype  \n",
      "---  ------    --------------  -----  \n",
      " 0   calls     643 non-null    float64\n",
      " 1   minutes   643 non-null    float64\n",
      " 2   messages  643 non-null    float64\n",
      " 3   mb_used   643 non-null    float64\n",
      " 4   is_ultra  643 non-null    int64  \n",
      "dtypes: float64(4), int64(1)\n",
      "memory usage: 30.1 KB\n"
     ]
    }
   ],
   "source": [
    "data_test.info()"
   ]
  },
  {
   "cell_type": "markdown",
   "metadata": {},
   "source": [
    "размер выборок поделился в отношении 1928:643:643, то есть примерно в отношении 3:1:1. Все верно"
   ]
  },
  {
   "cell_type": "code",
   "execution_count": 78,
   "metadata": {},
   "outputs": [
    {
     "name": "stdout",
     "output_type": "stream",
     "text": [
      "(1928, 5)\n",
      "(643, 5)\n",
      "(643, 5)\n"
     ]
    }
   ],
   "source": [
    "# код ревьюера\n",
    "print(data_train.shape)\n",
    "print(data_valid.shape)\n",
    "print(data_test.shape)"
   ]
  },
  {
   "cell_type": "markdown",
   "metadata": {},
   "source": [
    "## Исследуйте модели"
   ]
  },
  {
   "cell_type": "markdown",
   "metadata": {},
   "source": [
    "перед тем как обучить модель выделим обучающий набор данных:"
   ]
  },
  {
   "cell_type": "markdown",
   "metadata": {},
   "source": [
    "выделим признаки:"
   ]
  },
  {
   "cell_type": "code",
   "execution_count": 79,
   "metadata": {},
   "outputs": [],
   "source": [
    "features_train = data_train.drop(['is_ultra'], axis=1)"
   ]
  },
  {
   "cell_type": "markdown",
   "metadata": {},
   "source": [
    "выделим целевой признак"
   ]
  },
  {
   "cell_type": "code",
   "execution_count": 80,
   "metadata": {},
   "outputs": [],
   "source": [
    "target_train = data_train['is_ultra']"
   ]
  },
  {
   "cell_type": "markdown",
   "metadata": {},
   "source": [
    "и аналоигчно для валидационной и тестовой выборок:"
   ]
  },
  {
   "cell_type": "code",
   "execution_count": 81,
   "metadata": {},
   "outputs": [],
   "source": [
    "features_valid = data_valid.drop(['is_ultra'], axis=1)\n",
    "target_valid = data_valid['is_ultra']"
   ]
  },
  {
   "cell_type": "code",
   "execution_count": 82,
   "metadata": {},
   "outputs": [],
   "source": [
    "features_test = data_test.drop(['is_ultra'], axis=1)\n",
    "target_test = data_test['is_ultra']"
   ]
  },
  {
   "cell_type": "markdown",
   "metadata": {},
   "source": [
    "целевой признак явялется категорийным, поэтому у нас стоит задача классификации. Обучим модель дерева принятия решений с параметром `random_state=42` и узнаем при каком значении максимальной глубины дерева `max_depth` будет максимальное значение точности `accuracy_score`"
   ]
  },
  {
   "cell_type": "code",
   "execution_count": 83,
   "metadata": {},
   "outputs": [
    {
     "name": "stdout",
     "output_type": "stream",
     "text": [
      "наилучшая глубина дерева 8\n",
      "наилучшая точность 0.7962674961119751\n"
     ]
    }
   ],
   "source": [
    "best_depth = 0\n",
    "best_result = 0\n",
    "\n",
    "for i in range(1,30):\n",
    "    model_tree = DecisionTreeClassifier(max_depth=i,random_state=42)\n",
    "    model_tree.fit(features_train,target_train)\n",
    "    predictions_valid=model_tree.predict(features_valid)\n",
    "    result=accuracy_score(target_valid, predictions_valid)\n",
    "    if result > best_result:\n",
    "        best_depth = i \n",
    "        best_result = result \n",
    "\n",
    "print('наилучшая глубина дерева',best_depth)\n",
    "print('наилучшая точность',best_result)"
   ]
  },
  {
   "cell_type": "markdown",
   "metadata": {},
   "source": [
    "научишая глубина дерева оказалась равна 3, а точность равна 0.788."
   ]
  },
  {
   "cell_type": "markdown",
   "metadata": {},
   "source": [
    "теперь попробуем обучить модель случайного леса и выяснить количество деревьев `n_estimators` при котором достигается максимальное значение точности `accuracy_score`. Так как случайный лес представляет собой набор из случайных деревьев точность должна быть выше"
   ]
  },
  {
   "cell_type": "code",
   "execution_count": 84,
   "metadata": {},
   "outputs": [
    {
     "name": "stdout",
     "output_type": "stream",
     "text": [
      "наилучшое количество деревьев 16\n",
      "наилучшая точность 0.7978227060653188\n"
     ]
    }
   ],
   "source": [
    "best_depth = 0\n",
    "best_result = 0\n",
    "\n",
    "for i in range(1, 30):\n",
    "    model_forest = RandomForestClassifier(n_estimators=i,random_state=42) \n",
    "    model_forest.fit(features_train,target_train)\n",
    "    predictions_valid=model_forest.predict(features_valid)\n",
    "    result=accuracy_score(target_valid, predictions_valid)\n",
    "    if result > best_result:\n",
    "        best_depth = i\n",
    "        best_result = result \n",
    "    \n",
    "    \n",
    "print('наилучшое количество деревьев',best_depth)\n",
    "print('наилучшая точность',best_result)"
   ]
  },
  {
   "cell_type": "markdown",
   "metadata": {},
   "source": [
    "Точность упала, самое лучшее количество деревьев - 16"
   ]
  },
  {
   "cell_type": "markdown",
   "metadata": {},
   "source": [
    "Теперь посмотрим какова точность для модели логистической регрессии"
   ]
  },
  {
   "cell_type": "code",
   "execution_count": 85,
   "metadata": {},
   "outputs": [
    {
     "name": "stdout",
     "output_type": "stream",
     "text": [
      "наилучшая количество деревьев 200\n",
      "наилучшая точность 0.7402799377916018\n"
     ]
    }
   ],
   "source": [
    "best_depth = 0\n",
    "best_result = 0\n",
    "\n",
    "for i in range(200, 1000):\n",
    "    model = LogisticRegression(random_state=42, solver='lbfgs', max_iter=i) \n",
    "    model.fit(features_train,target_train)\n",
    "    predictions_valid=model.predict(features_valid)\n",
    "    result=accuracy_score(target_valid, predictions_valid)\n",
    "    if result > best_result:\n",
    "        best_depth = i\n",
    "        best_result = result \n",
    "    \n",
    "print('наилучшая количество деревьев',best_depth)\n",
    "print('наилучшая точность',best_result)"
   ]
  },
  {
   "cell_type": "markdown",
   "metadata": {},
   "source": [
    "У логистической регрессии оказался самый плохой показатель точности. У случайного леса точность повыше, а у случайного дерева самая большая точность. В следующем задании будем использовать его."
   ]
  },
  {
   "cell_type": "markdown",
   "metadata": {},
   "source": [
    "## Проверьте модель на тестовой выборке"
   ]
  },
  {
   "cell_type": "markdown",
   "metadata": {},
   "source": [
    "Проверим модель на тестовой выборке используя модель случайного леса"
   ]
  },
  {
   "cell_type": "code",
   "execution_count": 86,
   "metadata": {},
   "outputs": [],
   "source": [
    "model = RandomForestClassifier(n_estimators=16,random_state=42) "
   ]
  },
  {
   "cell_type": "markdown",
   "metadata": {},
   "source": [
    "Обучим модель на обуучающий данных:"
   ]
  },
  {
   "cell_type": "code",
   "execution_count": 87,
   "metadata": {},
   "outputs": [
    {
     "data": {
      "text/plain": [
       "RandomForestClassifier(n_estimators=16, random_state=42)"
      ]
     },
     "execution_count": 87,
     "metadata": {},
     "output_type": "execute_result"
    }
   ],
   "source": [
    "model.fit(features_train,target_train)"
   ]
  },
  {
   "cell_type": "markdown",
   "metadata": {},
   "source": [
    "и сделаем предсказание используя тестовую выборку:"
   ]
  },
  {
   "cell_type": "code",
   "execution_count": 88,
   "metadata": {},
   "outputs": [],
   "source": [
    "predictions=model.predict(features_test)"
   ]
  },
  {
   "cell_type": "markdown",
   "metadata": {},
   "source": [
    "## (бонус) Проверьте модели на адекватность"
   ]
  },
  {
   "cell_type": "markdown",
   "metadata": {},
   "source": [
    "преобразуем массив в датафрейм и посмотрим у что модель предсказала тариф для всех клиентов:"
   ]
  },
  {
   "cell_type": "code",
   "execution_count": 89,
   "metadata": {},
   "outputs": [],
   "source": [
    "df_predictions = pd.DataFrame(predictions, \n",
    "             columns=['predictions_num'])"
   ]
  },
  {
   "cell_type": "code",
   "execution_count": 90,
   "metadata": {
    "scrolled": true
   },
   "outputs": [
    {
     "data": {
      "text/plain": [
       "predictions_num\n",
       "0                  501\n",
       "1                  142\n",
       "dtype: int64"
      ]
     },
     "execution_count": 90,
     "metadata": {},
     "output_type": "execute_result"
    }
   ],
   "source": [
    "df_predictions.value_counts()"
   ]
  },
  {
   "cell_type": "markdown",
   "metadata": {},
   "source": [
    "531+112=643. Именно такой размер у тестовой выборки. Значит модель нигде не промахнулась."
   ]
  },
  {
   "cell_type": "markdown",
   "metadata": {},
   "source": [
    "\n",
    "<div class=\"alert alert-warning\">\n",
    "    \n",
    "<b>Комментарий ревьюера:</b>⚠️Проверка на адекватность, это сравнение с константной моделью. Вот ссылка посмотри пожалуйста. https://russianblogs.com/article/3021544232/, http://scikit-learn.org/stable/modules/generated/sklearn.dummy.DummyClassifier.html </div>"
   ]
  },
  {
   "cell_type": "markdown",
   "metadata": {},
   "source": [
    "<div class=\"alert alert-info\"> <b>Комментарий студента:</b> Внизу проверил на адекватность. Сравнил точность константной модели и нашей модели:</div>"
   ]
  },
  {
   "cell_type": "markdown",
   "metadata": {},
   "source": [
    "проверим модель на адекватность используя модель DummyClassifier. Эта модель будет всегда предсказывать самое частое значение:"
   ]
  },
  {
   "cell_type": "code",
   "execution_count": 91,
   "metadata": {},
   "outputs": [],
   "source": [
    "dummy = DummyClassifier(strategy=\"most_frequent\")"
   ]
  },
  {
   "cell_type": "code",
   "execution_count": 92,
   "metadata": {},
   "outputs": [
    {
     "data": {
      "text/plain": [
       "DummyClassifier(strategy='most_frequent')"
      ]
     },
     "execution_count": 92,
     "metadata": {},
     "output_type": "execute_result"
    }
   ],
   "source": [
    "dummy.fit(features_train,target_train)"
   ]
  },
  {
   "cell_type": "code",
   "execution_count": 93,
   "metadata": {},
   "outputs": [
    {
     "name": "stdout",
     "output_type": "stream",
     "text": [
      "[0 0 0 0 0 0 0 0 0 0 0 0 0 0 0 0 0 0 0 0 0 0 0 0 0 0 0 0 0 0 0 0 0 0 0 0 0\n",
      " 0 0 0 0 0 0 0 0 0 0 0 0 0 0 0 0 0 0 0 0 0 0 0 0 0 0 0 0 0 0 0 0 0 0 0 0 0\n",
      " 0 0 0 0 0 0 0 0 0 0 0 0 0 0 0 0 0 0 0 0 0 0 0 0 0 0 0 0 0 0 0 0 0 0 0 0 0\n",
      " 0 0 0 0 0 0 0 0 0 0 0 0 0 0 0 0 0 0 0 0 0 0 0 0 0 0 0 0 0 0 0 0 0 0 0 0 0\n",
      " 0 0 0 0 0 0 0 0 0 0 0 0 0 0 0 0 0 0 0 0 0 0 0 0 0 0 0 0 0 0 0 0 0 0 0 0 0\n",
      " 0 0 0 0 0 0 0 0 0 0 0 0 0 0 0 0 0 0 0 0 0 0 0 0 0 0 0 0 0 0 0 0 0 0 0 0 0\n",
      " 0 0 0 0 0 0 0 0 0 0 0 0 0 0 0 0 0 0 0 0 0 0 0 0 0 0 0 0 0 0 0 0 0 0 0 0 0\n",
      " 0 0 0 0 0 0 0 0 0 0 0 0 0 0 0 0 0 0 0 0 0 0 0 0 0 0 0 0 0 0 0 0 0 0 0 0 0\n",
      " 0 0 0 0 0 0 0 0 0 0 0 0 0 0 0 0 0 0 0 0 0 0 0 0 0 0 0 0 0 0 0 0 0 0 0 0 0\n",
      " 0 0 0 0 0 0 0 0 0 0 0 0 0 0 0 0 0 0 0 0 0 0 0 0 0 0 0 0 0 0 0 0 0 0 0 0 0\n",
      " 0 0 0 0 0 0 0 0 0 0 0 0 0 0 0 0 0 0 0 0 0 0 0 0 0 0 0 0 0 0 0 0 0 0 0 0 0\n",
      " 0 0 0 0 0 0 0 0 0 0 0 0 0 0 0 0 0 0 0 0 0 0 0 0 0 0 0 0 0 0 0 0 0 0 0 0 0\n",
      " 0 0 0 0 0 0 0 0 0 0 0 0 0 0 0 0 0 0 0 0 0 0 0 0 0 0 0 0 0 0 0 0 0 0 0 0 0\n",
      " 0 0 0 0 0 0 0 0 0 0 0 0 0 0 0 0 0 0 0 0 0 0 0 0 0 0 0 0 0 0 0 0 0 0 0 0 0\n",
      " 0 0 0 0 0 0 0 0 0 0 0 0 0 0 0 0 0 0 0 0 0 0 0 0 0 0 0 0 0 0 0 0 0 0 0 0 0\n",
      " 0 0 0 0 0 0 0 0 0 0 0 0 0 0 0 0 0 0 0 0 0 0 0 0 0 0 0 0 0 0 0 0 0 0 0 0 0\n",
      " 0 0 0 0 0 0 0 0 0 0 0 0 0 0 0 0 0 0 0 0 0 0 0 0 0 0 0 0 0 0 0 0 0 0 0 0 0\n",
      " 0 0 0 0 0 0 0 0 0 0 0 0 0 0]\n"
     ]
    }
   ],
   "source": [
    "dummy_predictions=dummy.predict(features_test)\n",
    "print(dummy_predictions)"
   ]
  },
  {
   "cell_type": "markdown",
   "metadata": {},
   "source": [
    "видно что модель всегда пресказывает 0, то есть самое частое значение. Посмотрим на точность константной модели:"
   ]
  },
  {
   "cell_type": "code",
   "execution_count": 94,
   "metadata": {},
   "outputs": [
    {
     "data": {
      "text/plain": [
       "0.6967340590979783"
      ]
     },
     "execution_count": 94,
     "metadata": {},
     "output_type": "execute_result"
    }
   ],
   "source": [
    "accuracy_score(target_test,dummy_predictions)"
   ]
  },
  {
   "cell_type": "markdown",
   "metadata": {},
   "source": [
    "посмотрим какая получилась точность нашей модели:"
   ]
  },
  {
   "cell_type": "code",
   "execution_count": 95,
   "metadata": {},
   "outputs": [
    {
     "data": {
      "text/plain": [
       "0.8149300155520995"
      ]
     },
     "execution_count": 95,
     "metadata": {},
     "output_type": "execute_result"
    }
   ],
   "source": [
    "accuracy_score(target_test, predictions)"
   ]
  },
  {
   "cell_type": "markdown",
   "metadata": {},
   "source": [
    "Точность равна 0.82. Точно лучше чем точность константной модели :)"
   ]
  },
  {
   "cell_type": "markdown",
   "metadata": {},
   "source": [
    "## Чек-лист готовности проекта"
   ]
  },
  {
   "cell_type": "markdown",
   "metadata": {},
   "source": [
    "Поставьте 'x' в выполненных пунктах. Далее нажмите Shift+Enter."
   ]
  },
  {
   "cell_type": "markdown",
   "metadata": {},
   "source": [
    "- [x] Jupyter Notebook открыт\n",
    "- [x] Весь код исполняется без ошибок\n",
    "- [x] Ячейки с кодом расположены в порядке исполнения\n",
    "- [x] Выполнено задание 1: данные загружены и изучены\n",
    "- [x] Выполнено задание 2: данные разбиты на три выборки\n",
    "- [x] Выполнено задание 3: проведено исследование моделей\n",
    "    - [x] Рассмотрено больше одной модели\n",
    "    - [x] Рассмотрено хотя бы 3 значения гипепараметров для какой-нибудь модели\n",
    "    - [x] Написаны выводы по результатам исследования\n",
    "- [x] Выполнено задание 4: Проведено тестирование\n",
    "- [x] Удалось достичь accuracy не меньше 0.75\n"
   ]
  }
 ],
 "metadata": {
  "ExecuteTimeLog": [
   {
    "duration": 441,
    "start_time": "2022-06-11T13:18:31.391Z"
   },
   {
    "duration": 135,
    "start_time": "2022-06-11T13:18:52.690Z"
   },
   {
    "duration": 72,
    "start_time": "2022-06-11T13:19:05.738Z"
   },
   {
    "duration": 28,
    "start_time": "2022-06-11T13:19:25.070Z"
   },
   {
    "duration": 16,
    "start_time": "2022-06-11T13:19:54.322Z"
   },
   {
    "duration": 14,
    "start_time": "2022-06-11T13:20:48.688Z"
   },
   {
    "duration": 14,
    "start_time": "2022-06-11T13:20:49.410Z"
   },
   {
    "duration": 8,
    "start_time": "2022-06-11T13:22:44.327Z"
   },
   {
    "duration": 3,
    "start_time": "2022-06-11T13:23:34.323Z"
   },
   {
    "duration": 31,
    "start_time": "2022-06-11T13:23:34.503Z"
   },
   {
    "duration": 15,
    "start_time": "2022-06-11T13:23:35.116Z"
   },
   {
    "duration": 18,
    "start_time": "2022-06-11T13:23:35.371Z"
   },
   {
    "duration": 9,
    "start_time": "2022-06-11T13:23:37.015Z"
   },
   {
    "duration": 3,
    "start_time": "2022-06-11T13:29:15.240Z"
   },
   {
    "duration": 30,
    "start_time": "2022-06-11T13:29:15.996Z"
   },
   {
    "duration": 11,
    "start_time": "2022-06-11T13:29:38.511Z"
   },
   {
    "duration": 13,
    "start_time": "2022-06-11T13:30:33.734Z"
   },
   {
    "duration": 9,
    "start_time": "2022-06-11T13:45:14.838Z"
   },
   {
    "duration": 659,
    "start_time": "2022-06-11T13:45:20.926Z"
   },
   {
    "duration": 28,
    "start_time": "2022-06-11T13:45:21.588Z"
   },
   {
    "duration": 10,
    "start_time": "2022-06-11T13:45:21.618Z"
   },
   {
    "duration": 15,
    "start_time": "2022-06-11T13:45:21.814Z"
   },
   {
    "duration": 8,
    "start_time": "2022-06-11T13:45:24.323Z"
   },
   {
    "duration": 20,
    "start_time": "2022-06-11T13:45:26.601Z"
   },
   {
    "duration": 27,
    "start_time": "2022-06-11T13:45:36.452Z"
   },
   {
    "duration": 10,
    "start_time": "2022-06-11T13:45:46.893Z"
   },
   {
    "duration": 7,
    "start_time": "2022-06-11T13:47:07.375Z"
   },
   {
    "duration": 11,
    "start_time": "2022-06-11T13:47:09.201Z"
   },
   {
    "duration": 3,
    "start_time": "2022-06-11T13:47:38.907Z"
   },
   {
    "duration": 27,
    "start_time": "2022-06-11T13:47:39.094Z"
   },
   {
    "duration": 10,
    "start_time": "2022-06-11T13:47:39.440Z"
   },
   {
    "duration": 13,
    "start_time": "2022-06-11T13:47:39.818Z"
   },
   {
    "duration": 7,
    "start_time": "2022-06-11T13:47:40.894Z"
   },
   {
    "duration": 6,
    "start_time": "2022-06-11T13:47:43.344Z"
   },
   {
    "duration": 11,
    "start_time": "2022-06-11T13:47:43.600Z"
   },
   {
    "duration": 16,
    "start_time": "2022-06-11T13:48:05.023Z"
   },
   {
    "duration": 14,
    "start_time": "2022-06-11T13:48:22.275Z"
   },
   {
    "duration": 8,
    "start_time": "2022-06-11T13:57:53.351Z"
   },
   {
    "duration": 3,
    "start_time": "2022-06-11T13:58:36.228Z"
   },
   {
    "duration": 29,
    "start_time": "2022-06-11T13:58:36.427Z"
   },
   {
    "duration": 9,
    "start_time": "2022-06-11T13:58:36.787Z"
   },
   {
    "duration": 18,
    "start_time": "2022-06-11T13:58:37.158Z"
   },
   {
    "duration": 6,
    "start_time": "2022-06-11T13:58:37.672Z"
   },
   {
    "duration": 6,
    "start_time": "2022-06-11T13:58:38.788Z"
   },
   {
    "duration": 10,
    "start_time": "2022-06-11T13:58:40.529Z"
   },
   {
    "duration": 11,
    "start_time": "2022-06-11T13:58:42.421Z"
   },
   {
    "duration": 13,
    "start_time": "2022-06-11T13:58:43.109Z"
   },
   {
    "duration": 3,
    "start_time": "2022-06-11T14:03:31.096Z"
   },
   {
    "duration": 5,
    "start_time": "2022-06-11T14:03:42.046Z"
   },
   {
    "duration": 5,
    "start_time": "2022-06-11T14:06:37.987Z"
   },
   {
    "duration": 4,
    "start_time": "2022-06-11T14:07:29.342Z"
   },
   {
    "duration": 3,
    "start_time": "2022-06-11T14:07:30.789Z"
   },
   {
    "duration": 4,
    "start_time": "2022-06-11T14:07:51.941Z"
   },
   {
    "duration": 4,
    "start_time": "2022-06-11T14:11:06.334Z"
   },
   {
    "duration": 2,
    "start_time": "2022-06-11T14:11:06.722Z"
   },
   {
    "duration": 4,
    "start_time": "2022-06-11T14:11:06.921Z"
   },
   {
    "duration": 41,
    "start_time": "2022-06-11T14:11:08.097Z"
   },
   {
    "duration": 38,
    "start_time": "2022-06-11T14:11:15.535Z"
   },
   {
    "duration": 2,
    "start_time": "2022-06-11T14:11:17.405Z"
   },
   {
    "duration": 33,
    "start_time": "2022-06-11T14:11:17.409Z"
   },
   {
    "duration": 10,
    "start_time": "2022-06-11T14:11:17.443Z"
   },
   {
    "duration": 13,
    "start_time": "2022-06-11T14:11:17.454Z"
   },
   {
    "duration": 6,
    "start_time": "2022-06-11T14:11:17.469Z"
   },
   {
    "duration": 6,
    "start_time": "2022-06-11T14:11:17.477Z"
   },
   {
    "duration": 12,
    "start_time": "2022-06-11T14:11:17.484Z"
   },
   {
    "duration": 9,
    "start_time": "2022-06-11T14:11:17.498Z"
   },
   {
    "duration": 55,
    "start_time": "2022-06-11T14:11:17.509Z"
   },
   {
    "duration": 3,
    "start_time": "2022-06-11T14:11:17.566Z"
   },
   {
    "duration": 6,
    "start_time": "2022-06-11T14:11:17.570Z"
   },
   {
    "duration": 8,
    "start_time": "2022-06-11T14:11:17.577Z"
   },
   {
    "duration": 8,
    "start_time": "2022-06-11T14:11:17.586Z"
   },
   {
    "duration": 15,
    "start_time": "2022-06-11T14:51:43.335Z"
   },
   {
    "duration": 4,
    "start_time": "2022-06-11T14:51:50.535Z"
   },
   {
    "duration": 64,
    "start_time": "2022-06-11T14:51:50.542Z"
   },
   {
    "duration": 14,
    "start_time": "2022-06-11T14:51:50.608Z"
   },
   {
    "duration": 18,
    "start_time": "2022-06-11T14:51:50.625Z"
   },
   {
    "duration": 11,
    "start_time": "2022-06-11T14:51:50.645Z"
   },
   {
    "duration": 10,
    "start_time": "2022-06-11T14:51:50.658Z"
   },
   {
    "duration": 58,
    "start_time": "2022-06-11T14:51:50.670Z"
   },
   {
    "duration": 12,
    "start_time": "2022-06-11T14:51:50.730Z"
   },
   {
    "duration": 14,
    "start_time": "2022-06-11T14:51:50.743Z"
   },
   {
    "duration": 57,
    "start_time": "2022-06-11T14:51:50.770Z"
   },
   {
    "duration": 8,
    "start_time": "2022-06-11T14:51:50.829Z"
   },
   {
    "duration": 55,
    "start_time": "2022-06-11T14:51:50.839Z"
   },
   {
    "duration": 0,
    "start_time": "2022-06-11T14:51:50.896Z"
   },
   {
    "duration": 0,
    "start_time": "2022-06-11T14:51:50.897Z"
   },
   {
    "duration": 9,
    "start_time": "2022-06-11T14:53:09.957Z"
   },
   {
    "duration": 3,
    "start_time": "2022-06-11T14:53:10.315Z"
   },
   {
    "duration": 4,
    "start_time": "2022-06-11T14:53:10.703Z"
   },
   {
    "duration": 20,
    "start_time": "2022-06-11T14:53:13.391Z"
   },
   {
    "duration": 5,
    "start_time": "2022-06-11T14:53:28.201Z"
   },
   {
    "duration": 34,
    "start_time": "2022-06-11T14:53:28.390Z"
   },
   {
    "duration": 16,
    "start_time": "2022-06-11T14:53:28.780Z"
   },
   {
    "duration": 15,
    "start_time": "2022-06-11T14:53:29.130Z"
   },
   {
    "duration": 11,
    "start_time": "2022-06-11T14:53:29.494Z"
   },
   {
    "duration": 6,
    "start_time": "2022-06-11T14:53:30.324Z"
   },
   {
    "duration": 11,
    "start_time": "2022-06-11T14:53:30.704Z"
   },
   {
    "duration": 10,
    "start_time": "2022-06-11T14:53:30.925Z"
   },
   {
    "duration": 15,
    "start_time": "2022-06-11T14:53:31.122Z"
   },
   {
    "duration": 4,
    "start_time": "2022-06-11T14:53:32.107Z"
   },
   {
    "duration": 2,
    "start_time": "2022-06-11T14:53:32.505Z"
   },
   {
    "duration": 4,
    "start_time": "2022-06-11T14:53:32.906Z"
   },
   {
    "duration": 299,
    "start_time": "2022-06-11T14:53:33.310Z"
   },
   {
    "duration": 352,
    "start_time": "2022-06-11T14:53:41.782Z"
   },
   {
    "duration": 375,
    "start_time": "2022-06-11T14:58:34.752Z"
   },
   {
    "duration": 335,
    "start_time": "2022-06-11T14:58:45.085Z"
   },
   {
    "duration": 348,
    "start_time": "2022-06-11T14:58:48.344Z"
   },
   {
    "duration": 313,
    "start_time": "2022-06-11T14:58:50.510Z"
   },
   {
    "duration": 344,
    "start_time": "2022-06-11T14:58:52.520Z"
   },
   {
    "duration": 357,
    "start_time": "2022-06-11T14:59:01.663Z"
   },
   {
    "duration": 371,
    "start_time": "2022-06-11T14:59:04.113Z"
   },
   {
    "duration": 286,
    "start_time": "2022-06-11T15:16:49.340Z"
   },
   {
    "duration": 10,
    "start_time": "2022-06-11T15:16:54.276Z"
   },
   {
    "duration": 4,
    "start_time": "2022-06-11T15:16:54.653Z"
   },
   {
    "duration": 4,
    "start_time": "2022-06-11T15:16:55.193Z"
   },
   {
    "duration": 333,
    "start_time": "2022-06-11T15:16:56.599Z"
   },
   {
    "duration": 3,
    "start_time": "2022-06-11T15:21:15.725Z"
   },
   {
    "duration": 54,
    "start_time": "2022-06-11T15:21:15.937Z"
   },
   {
    "duration": 16,
    "start_time": "2022-06-11T15:21:16.322Z"
   },
   {
    "duration": 16,
    "start_time": "2022-06-11T15:21:16.697Z"
   },
   {
    "duration": 8,
    "start_time": "2022-06-11T15:21:17.046Z"
   },
   {
    "duration": 9,
    "start_time": "2022-06-11T15:21:17.796Z"
   },
   {
    "duration": 23,
    "start_time": "2022-06-11T15:21:18.157Z"
   },
   {
    "duration": 12,
    "start_time": "2022-06-11T15:21:18.339Z"
   },
   {
    "duration": 12,
    "start_time": "2022-06-11T15:21:18.531Z"
   },
   {
    "duration": 22,
    "start_time": "2022-06-11T15:31:41.389Z"
   },
   {
    "duration": 3,
    "start_time": "2022-06-11T15:31:57.315Z"
   },
   {
    "duration": 28,
    "start_time": "2022-06-11T15:31:57.494Z"
   },
   {
    "duration": 18,
    "start_time": "2022-06-11T15:31:57.864Z"
   },
   {
    "duration": 12,
    "start_time": "2022-06-11T15:31:58.215Z"
   },
   {
    "duration": 16,
    "start_time": "2022-06-11T15:31:58.579Z"
   },
   {
    "duration": 5,
    "start_time": "2022-06-11T15:31:59.297Z"
   },
   {
    "duration": 19,
    "start_time": "2022-06-11T15:31:59.648Z"
   },
   {
    "duration": 10,
    "start_time": "2022-06-11T15:31:59.839Z"
   },
   {
    "duration": 10,
    "start_time": "2022-06-11T15:32:00.020Z"
   },
   {
    "duration": 7,
    "start_time": "2022-06-11T15:32:01.091Z"
   },
   {
    "duration": 3,
    "start_time": "2022-06-11T15:32:01.490Z"
   },
   {
    "duration": 5,
    "start_time": "2022-06-11T15:32:01.998Z"
   },
   {
    "duration": 261,
    "start_time": "2022-06-11T15:32:19.640Z"
   },
   {
    "duration": 284,
    "start_time": "2022-06-11T15:35:05.246Z"
   },
   {
    "duration": 299,
    "start_time": "2022-06-11T15:35:21.977Z"
   },
   {
    "duration": 276,
    "start_time": "2022-06-11T15:36:38.435Z"
   },
   {
    "duration": 266,
    "start_time": "2022-06-11T15:37:00.819Z"
   },
   {
    "duration": 225,
    "start_time": "2022-06-11T15:37:04.491Z"
   },
   {
    "duration": 11,
    "start_time": "2022-06-11T15:39:20.106Z"
   },
   {
    "duration": 261,
    "start_time": "2022-06-11T19:57:36.427Z"
   },
   {
    "duration": 238,
    "start_time": "2022-06-11T19:58:26.987Z"
   },
   {
    "duration": 225,
    "start_time": "2022-06-11T19:58:45.374Z"
   },
   {
    "duration": 227,
    "start_time": "2022-06-11T19:59:43.079Z"
   },
   {
    "duration": 826,
    "start_time": "2022-06-11T19:59:48.840Z"
   },
   {
    "duration": 943,
    "start_time": "2022-06-11T20:00:12.295Z"
   },
   {
    "duration": 235,
    "start_time": "2022-06-11T20:00:25.046Z"
   },
   {
    "duration": 908,
    "start_time": "2022-06-11T20:00:26.894Z"
   },
   {
    "duration": 208,
    "start_time": "2022-06-11T20:00:56.666Z"
   },
   {
    "duration": 917,
    "start_time": "2022-06-11T20:00:57.898Z"
   },
   {
    "duration": 989,
    "start_time": "2022-06-11T20:01:48.484Z"
   },
   {
    "duration": 3544,
    "start_time": "2022-06-11T20:02:22.905Z"
   },
   {
    "duration": 3701,
    "start_time": "2022-06-11T20:02:34.439Z"
   },
   {
    "duration": 3316,
    "start_time": "2022-06-11T20:03:24.617Z"
   },
   {
    "duration": 3318,
    "start_time": "2022-06-11T20:04:20.493Z"
   },
   {
    "duration": 3269,
    "start_time": "2022-06-11T20:04:46.824Z"
   },
   {
    "duration": 210,
    "start_time": "2022-06-11T20:04:54.837Z"
   },
   {
    "duration": 3251,
    "start_time": "2022-06-11T20:04:56.571Z"
   },
   {
    "duration": 3295,
    "start_time": "2022-06-11T20:06:12.034Z"
   },
   {
    "duration": 3267,
    "start_time": "2022-06-11T20:06:45.801Z"
   },
   {
    "duration": 218,
    "start_time": "2022-06-11T20:06:53.575Z"
   },
   {
    "duration": 3259,
    "start_time": "2022-06-11T20:06:55.541Z"
   },
   {
    "duration": 351,
    "start_time": "2022-06-11T20:07:38.924Z"
   },
   {
    "duration": 3135,
    "start_time": "2022-06-11T20:07:40.354Z"
   },
   {
    "duration": 3,
    "start_time": "2022-06-11T20:14:09.028Z"
   },
   {
    "duration": 3815,
    "start_time": "2022-06-11T20:18:20.032Z"
   },
   {
    "duration": 3802,
    "start_time": "2022-06-11T20:18:41.219Z"
   },
   {
    "duration": 379,
    "start_time": "2022-06-11T20:18:54.466Z"
   },
   {
    "duration": 196252,
    "start_time": "2022-06-11T20:19:23.214Z"
   },
   {
    "duration": 18956,
    "start_time": "2022-06-11T20:25:46.884Z"
   },
   {
    "duration": 97607,
    "start_time": "2022-06-11T20:30:01.019Z"
   },
   {
    "duration": 7474,
    "start_time": "2022-06-11T21:02:28.876Z"
   },
   {
    "duration": 8339,
    "start_time": "2022-06-11T21:02:44.298Z"
   },
   {
    "duration": 8795,
    "start_time": "2022-06-11T21:02:59.897Z"
   },
   {
    "duration": 14695,
    "start_time": "2022-06-11T21:03:53.281Z"
   },
   {
    "duration": 1193,
    "start_time": "2022-06-12T10:30:23.850Z"
   },
   {
    "duration": 65,
    "start_time": "2022-06-12T10:30:25.045Z"
   },
   {
    "duration": 20,
    "start_time": "2022-06-12T10:30:25.112Z"
   },
   {
    "duration": 14,
    "start_time": "2022-06-12T10:30:25.135Z"
   },
   {
    "duration": 8,
    "start_time": "2022-06-12T10:30:25.238Z"
   },
   {
    "duration": 9,
    "start_time": "2022-06-12T10:30:25.999Z"
   },
   {
    "duration": 13,
    "start_time": "2022-06-12T10:30:26.402Z"
   },
   {
    "duration": 11,
    "start_time": "2022-06-12T10:30:26.600Z"
   },
   {
    "duration": 11,
    "start_time": "2022-06-12T10:30:26.787Z"
   },
   {
    "duration": 6,
    "start_time": "2022-06-12T10:30:27.755Z"
   },
   {
    "duration": 2,
    "start_time": "2022-06-12T10:30:28.235Z"
   },
   {
    "duration": 3,
    "start_time": "2022-06-12T10:30:28.636Z"
   },
   {
    "duration": 440,
    "start_time": "2022-06-12T10:30:29.030Z"
   },
   {
    "duration": 3568,
    "start_time": "2022-06-12T10:30:29.629Z"
   },
   {
    "duration": 17946,
    "start_time": "2022-06-12T10:30:33.199Z"
   },
   {
    "duration": 3,
    "start_time": "2022-06-12T10:32:48.579Z"
   },
   {
    "duration": 3,
    "start_time": "2022-06-12T10:32:59.676Z"
   },
   {
    "duration": 3967,
    "start_time": "2022-06-12T10:33:01.311Z"
   },
   {
    "duration": 4,
    "start_time": "2022-06-12T10:33:58.793Z"
   },
   {
    "duration": 4,
    "start_time": "2022-06-12T10:34:37.197Z"
   },
   {
    "duration": 4,
    "start_time": "2022-06-12T10:34:37.526Z"
   },
   {
    "duration": 228,
    "start_time": "2022-06-12T10:35:25.127Z"
   },
   {
    "duration": 5,
    "start_time": "2022-06-12T10:35:39.027Z"
   },
   {
    "duration": 7,
    "start_time": "2022-06-12T10:36:18.741Z"
   },
   {
    "duration": 3,
    "start_time": "2022-06-12T10:38:18.938Z"
   },
   {
    "duration": 1873,
    "start_time": "2022-06-12T10:38:19.288Z"
   },
   {
    "duration": 198,
    "start_time": "2022-06-12T10:38:21.163Z"
   },
   {
    "duration": 5,
    "start_time": "2022-06-12T10:38:22.676Z"
   },
   {
    "duration": 5,
    "start_time": "2022-06-12T10:38:30.893Z"
   },
   {
    "duration": 3,
    "start_time": "2022-06-12T10:38:49.987Z"
   },
   {
    "duration": 39,
    "start_time": "2022-06-12T10:38:49.992Z"
   },
   {
    "duration": 14,
    "start_time": "2022-06-12T10:38:50.032Z"
   },
   {
    "duration": 21,
    "start_time": "2022-06-12T10:38:50.047Z"
   },
   {
    "duration": 19,
    "start_time": "2022-06-12T10:38:50.070Z"
   },
   {
    "duration": 9,
    "start_time": "2022-06-12T10:38:50.091Z"
   },
   {
    "duration": 13,
    "start_time": "2022-06-12T10:38:50.102Z"
   },
   {
    "duration": 13,
    "start_time": "2022-06-12T10:38:50.116Z"
   },
   {
    "duration": 53,
    "start_time": "2022-06-12T10:38:50.131Z"
   },
   {
    "duration": 17,
    "start_time": "2022-06-12T10:38:50.185Z"
   },
   {
    "duration": 7,
    "start_time": "2022-06-12T10:38:50.204Z"
   },
   {
    "duration": 8,
    "start_time": "2022-06-12T10:38:50.213Z"
   },
   {
    "duration": 9,
    "start_time": "2022-06-12T10:38:50.222Z"
   },
   {
    "duration": 218,
    "start_time": "2022-06-12T10:38:50.233Z"
   },
   {
    "duration": 1996,
    "start_time": "2022-06-12T10:38:50.453Z"
   },
   {
    "duration": 9753,
    "start_time": "2022-06-12T10:38:52.450Z"
   },
   {
    "duration": 4,
    "start_time": "2022-06-12T10:39:02.205Z"
   },
   {
    "duration": 2199,
    "start_time": "2022-06-12T10:39:02.211Z"
   },
   {
    "duration": 218,
    "start_time": "2022-06-12T10:39:04.413Z"
   },
   {
    "duration": 4,
    "start_time": "2022-06-12T10:39:04.633Z"
   },
   {
    "duration": 5,
    "start_time": "2022-06-12T10:45:14.000Z"
   },
   {
    "duration": 227,
    "start_time": "2022-06-12T10:49:24.118Z"
   },
   {
    "duration": 13,
    "start_time": "2022-06-12T10:49:24.789Z"
   },
   {
    "duration": 44,
    "start_time": "2022-06-12T10:49:26.137Z"
   },
   {
    "duration": 6,
    "start_time": "2022-06-12T10:49:26.723Z"
   },
   {
    "duration": 6,
    "start_time": "2022-06-12T10:53:33.086Z"
   },
   {
    "duration": 138,
    "start_time": "2022-06-12T10:54:06.138Z"
   },
   {
    "duration": 12,
    "start_time": "2022-06-12T10:54:49.474Z"
   },
   {
    "duration": 11,
    "start_time": "2022-06-12T10:55:28.183Z"
   },
   {
    "duration": 12,
    "start_time": "2022-06-12T10:55:40.356Z"
   },
   {
    "duration": 10,
    "start_time": "2022-06-12T10:58:40.714Z"
   },
   {
    "duration": 12,
    "start_time": "2022-06-12T11:00:04.544Z"
   },
   {
    "duration": 5,
    "start_time": "2022-06-12T11:00:10.208Z"
   },
   {
    "duration": 4,
    "start_time": "2022-06-12T11:05:21.415Z"
   },
   {
    "duration": 11,
    "start_time": "2022-06-12T11:05:24.408Z"
   },
   {
    "duration": 9,
    "start_time": "2022-06-12T11:05:52.681Z"
   },
   {
    "duration": 10,
    "start_time": "2022-06-12T11:06:01.803Z"
   },
   {
    "duration": 6,
    "start_time": "2022-06-12T11:06:20.889Z"
   },
   {
    "duration": 4,
    "start_time": "2022-06-12T11:14:25.694Z"
   },
   {
    "duration": 13,
    "start_time": "2022-06-12T11:14:25.981Z"
   },
   {
    "duration": 7,
    "start_time": "2022-06-12T11:15:41.847Z"
   },
   {
    "duration": 3,
    "start_time": "2022-06-12T11:16:04.145Z"
   },
   {
    "duration": 51,
    "start_time": "2022-06-12T11:16:04.545Z"
   },
   {
    "duration": 13,
    "start_time": "2022-06-12T11:16:05.587Z"
   },
   {
    "duration": 20,
    "start_time": "2022-06-12T11:16:07.198Z"
   },
   {
    "duration": 10,
    "start_time": "2022-06-12T11:16:09.100Z"
   },
   {
    "duration": 12,
    "start_time": "2022-06-12T11:16:10.051Z"
   },
   {
    "duration": 14,
    "start_time": "2022-06-12T11:16:10.485Z"
   },
   {
    "duration": 12,
    "start_time": "2022-06-12T11:16:10.694Z"
   },
   {
    "duration": 17,
    "start_time": "2022-06-12T11:16:10.883Z"
   },
   {
    "duration": 7,
    "start_time": "2022-06-12T11:17:14.388Z"
   },
   {
    "duration": 17,
    "start_time": "2022-06-12T11:17:16.285Z"
   },
   {
    "duration": 12,
    "start_time": "2022-06-12T11:17:17.195Z"
   },
   {
    "duration": 19,
    "start_time": "2022-06-12T11:17:18.084Z"
   },
   {
    "duration": 4,
    "start_time": "2022-06-12T11:17:32.923Z"
   },
   {
    "duration": 4,
    "start_time": "2022-06-12T11:17:34.018Z"
   },
   {
    "duration": 4,
    "start_time": "2022-06-12T11:17:35.709Z"
   },
   {
    "duration": 3,
    "start_time": "2022-06-12T11:17:36.447Z"
   },
   {
    "duration": 4,
    "start_time": "2022-06-12T11:17:45.435Z"
   },
   {
    "duration": 4,
    "start_time": "2022-06-12T11:17:45.886Z"
   },
   {
    "duration": 7,
    "start_time": "2022-06-12T11:20:45.185Z"
   },
   {
    "duration": 2307,
    "start_time": "2022-06-12T11:20:46.584Z"
   },
   {
    "duration": 3,
    "start_time": "2022-06-12T11:21:20.247Z"
   },
   {
    "duration": 20,
    "start_time": "2022-06-12T11:21:21.211Z"
   },
   {
    "duration": 7,
    "start_time": "2022-06-12T11:21:22.605Z"
   },
   {
    "duration": 4,
    "start_time": "2022-06-12T11:21:24.150Z"
   },
   {
    "duration": 7,
    "start_time": "2022-06-12T11:21:24.334Z"
   },
   {
    "duration": 6,
    "start_time": "2022-06-12T11:21:25.207Z"
   },
   {
    "duration": 10,
    "start_time": "2022-06-12T11:21:47.184Z"
   },
   {
    "duration": 6,
    "start_time": "2022-06-12T11:21:54.590Z"
   },
   {
    "duration": 9,
    "start_time": "2022-06-12T11:21:59.989Z"
   },
   {
    "duration": 3,
    "start_time": "2022-06-12T11:22:22.500Z"
   },
   {
    "duration": 207,
    "start_time": "2022-06-12T11:22:22.506Z"
   },
   {
    "duration": 142,
    "start_time": "2022-06-12T11:22:22.715Z"
   },
   {
    "duration": 63,
    "start_time": "2022-06-12T11:22:22.858Z"
   },
   {
    "duration": 20,
    "start_time": "2022-06-12T11:22:22.923Z"
   },
   {
    "duration": 54,
    "start_time": "2022-06-12T11:22:22.945Z"
   },
   {
    "duration": 22,
    "start_time": "2022-06-12T11:22:23.001Z"
   },
   {
    "duration": 29,
    "start_time": "2022-06-12T11:22:23.025Z"
   },
   {
    "duration": 47,
    "start_time": "2022-06-12T11:22:23.056Z"
   },
   {
    "duration": 18,
    "start_time": "2022-06-12T11:22:23.105Z"
   },
   {
    "duration": 9,
    "start_time": "2022-06-12T11:22:23.124Z"
   },
   {
    "duration": 15,
    "start_time": "2022-06-12T11:22:23.135Z"
   },
   {
    "duration": 42,
    "start_time": "2022-06-12T11:22:23.152Z"
   },
   {
    "duration": 234,
    "start_time": "2022-06-12T11:22:23.196Z"
   },
   {
    "duration": 2061,
    "start_time": "2022-06-12T11:22:23.432Z"
   },
   {
    "duration": 17141,
    "start_time": "2022-06-12T11:22:25.495Z"
   },
   {
    "duration": 3,
    "start_time": "2022-06-12T11:22:42.639Z"
   },
   {
    "duration": 77,
    "start_time": "2022-06-12T11:22:42.645Z"
   },
   {
    "duration": 11,
    "start_time": "2022-06-12T11:22:42.725Z"
   },
   {
    "duration": 4,
    "start_time": "2022-06-12T11:22:42.738Z"
   },
   {
    "duration": 22,
    "start_time": "2022-06-12T11:22:42.744Z"
   },
   {
    "duration": 58,
    "start_time": "2022-06-12T11:22:42.769Z"
   },
   {
    "duration": 3282,
    "start_time": "2022-06-12T11:23:44.744Z"
   },
   {
    "duration": 11906,
    "start_time": "2022-06-12T11:23:56.131Z"
   },
   {
    "duration": 1183,
    "start_time": "2022-06-12T11:24:29.929Z"
   },
   {
    "duration": 17192,
    "start_time": "2022-06-12T11:24:35.817Z"
   },
   {
    "duration": 3,
    "start_time": "2022-06-12T11:24:53.012Z"
   },
   {
    "duration": 28,
    "start_time": "2022-06-12T11:24:53.017Z"
   },
   {
    "duration": 30,
    "start_time": "2022-06-12T11:24:53.047Z"
   },
   {
    "duration": 28,
    "start_time": "2022-06-12T11:24:53.082Z"
   },
   {
    "duration": 13,
    "start_time": "2022-06-12T11:24:53.113Z"
   },
   {
    "duration": 11,
    "start_time": "2022-06-12T11:24:53.129Z"
   },
   {
    "duration": 4,
    "start_time": "2022-06-12T11:25:11.599Z"
   },
   {
    "duration": 53,
    "start_time": "2022-06-12T11:25:11.848Z"
   },
   {
    "duration": 11,
    "start_time": "2022-06-12T11:25:12.729Z"
   },
   {
    "duration": 22,
    "start_time": "2022-06-12T11:25:16.293Z"
   },
   {
    "duration": 8,
    "start_time": "2022-06-12T11:25:17.591Z"
   },
   {
    "duration": 10,
    "start_time": "2022-06-12T11:25:20.004Z"
   },
   {
    "duration": 14,
    "start_time": "2022-06-12T11:25:21.602Z"
   },
   {
    "duration": 21,
    "start_time": "2022-06-12T11:25:21.942Z"
   },
   {
    "duration": 14,
    "start_time": "2022-06-12T11:25:22.200Z"
   },
   {
    "duration": 3,
    "start_time": "2022-06-12T11:25:26.217Z"
   },
   {
    "duration": 3,
    "start_time": "2022-06-12T11:25:26.927Z"
   },
   {
    "duration": 4,
    "start_time": "2022-06-12T11:25:27.620Z"
   },
   {
    "duration": 4,
    "start_time": "2022-06-12T11:25:27.841Z"
   },
   {
    "duration": 230,
    "start_time": "2022-06-12T11:25:30.585Z"
   },
   {
    "duration": 1221,
    "start_time": "2022-06-12T11:25:36.477Z"
   },
   {
    "duration": 16941,
    "start_time": "2022-06-12T11:25:41.551Z"
   },
   {
    "duration": 2063,
    "start_time": "2022-06-12T11:26:32.490Z"
   },
   {
    "duration": 233,
    "start_time": "2022-06-12T11:26:46.189Z"
   },
   {
    "duration": 11,
    "start_time": "2022-06-12T11:27:30.189Z"
   },
   {
    "duration": 16,
    "start_time": "2022-06-12T11:27:30.555Z"
   },
   {
    "duration": 7,
    "start_time": "2022-06-12T11:27:30.925Z"
   },
   {
    "duration": 6,
    "start_time": "2022-06-12T11:27:31.710Z"
   },
   {
    "duration": 14,
    "start_time": "2022-06-12T11:27:32.106Z"
   },
   {
    "duration": 12,
    "start_time": "2022-06-12T11:27:32.296Z"
   },
   {
    "duration": 12,
    "start_time": "2022-06-12T11:27:32.496Z"
   },
   {
    "duration": 3,
    "start_time": "2022-06-12T11:27:33.832Z"
   },
   {
    "duration": 7,
    "start_time": "2022-06-12T11:27:35.075Z"
   },
   {
    "duration": 5,
    "start_time": "2022-06-12T11:27:35.481Z"
   },
   {
    "duration": 5,
    "start_time": "2022-06-12T11:27:35.688Z"
   },
   {
    "duration": 220,
    "start_time": "2022-06-12T11:27:36.879Z"
   },
   {
    "duration": 2062,
    "start_time": "2022-06-12T11:27:50.087Z"
   },
   {
    "duration": 1137,
    "start_time": "2022-06-12T11:28:42.097Z"
   },
   {
    "duration": 228,
    "start_time": "2022-06-12T11:28:48.041Z"
   },
   {
    "duration": 160,
    "start_time": "2022-06-12T11:28:54.332Z"
   },
   {
    "duration": 15791,
    "start_time": "2022-06-12T11:29:05.306Z"
   },
   {
    "duration": 195,
    "start_time": "2022-06-12T11:29:52.101Z"
   },
   {
    "duration": 1152,
    "start_time": "2022-06-12T11:29:53.142Z"
   },
   {
    "duration": 203,
    "start_time": "2022-06-12T11:31:02.009Z"
   },
   {
    "duration": 1214,
    "start_time": "2022-06-12T11:31:08.424Z"
   },
   {
    "duration": 16673,
    "start_time": "2022-06-12T11:31:52.579Z"
   },
   {
    "duration": 12,
    "start_time": "2022-06-12T11:32:53.301Z"
   },
   {
    "duration": 27,
    "start_time": "2022-06-12T11:32:53.689Z"
   },
   {
    "duration": 4,
    "start_time": "2022-06-12T11:33:15.919Z"
   },
   {
    "duration": 24,
    "start_time": "2022-06-12T11:33:16.855Z"
   },
   {
    "duration": 7,
    "start_time": "2022-06-12T11:33:17.636Z"
   },
   {
    "duration": 4,
    "start_time": "2022-06-12T11:33:18.296Z"
   },
   {
    "duration": 8,
    "start_time": "2022-06-12T11:33:18.496Z"
   },
   {
    "duration": 7,
    "start_time": "2022-06-12T11:33:19.242Z"
   },
   {
    "duration": 5,
    "start_time": "2022-06-12T11:33:31.897Z"
   },
   {
    "duration": 97,
    "start_time": "2022-06-12T11:33:31.905Z"
   },
   {
    "duration": 14,
    "start_time": "2022-06-12T11:33:32.004Z"
   },
   {
    "duration": 26,
    "start_time": "2022-06-12T11:33:32.020Z"
   },
   {
    "duration": 54,
    "start_time": "2022-06-12T11:33:32.049Z"
   },
   {
    "duration": 46,
    "start_time": "2022-06-12T11:33:32.105Z"
   },
   {
    "duration": 68,
    "start_time": "2022-06-12T11:33:32.154Z"
   },
   {
    "duration": 29,
    "start_time": "2022-06-12T11:33:32.225Z"
   },
   {
    "duration": 72,
    "start_time": "2022-06-12T11:33:32.256Z"
   },
   {
    "duration": 18,
    "start_time": "2022-06-12T11:33:32.329Z"
   },
   {
    "duration": 51,
    "start_time": "2022-06-12T11:33:32.350Z"
   },
   {
    "duration": 14,
    "start_time": "2022-06-12T11:33:32.404Z"
   },
   {
    "duration": 13,
    "start_time": "2022-06-12T11:33:32.421Z"
   },
   {
    "duration": 199,
    "start_time": "2022-06-12T11:33:32.438Z"
   },
   {
    "duration": 1274,
    "start_time": "2022-06-12T11:33:32.639Z"
   },
   {
    "duration": 16457,
    "start_time": "2022-06-12T11:33:33.915Z"
   },
   {
    "duration": 6,
    "start_time": "2022-06-12T11:33:50.380Z"
   },
   {
    "duration": 25,
    "start_time": "2022-06-12T11:33:50.388Z"
   },
   {
    "duration": 26,
    "start_time": "2022-06-12T11:33:50.415Z"
   },
   {
    "duration": 52,
    "start_time": "2022-06-12T11:33:50.443Z"
   },
   {
    "duration": 29,
    "start_time": "2022-06-12T11:33:50.497Z"
   },
   {
    "duration": 16,
    "start_time": "2022-06-12T11:33:50.527Z"
   },
   {
    "duration": 6,
    "start_time": "2022-06-12T11:34:24.289Z"
   },
   {
    "duration": 73,
    "start_time": "2022-06-12T12:13:02.534Z"
   },
   {
    "duration": 32,
    "start_time": "2022-06-12T12:13:07.143Z"
   },
   {
    "duration": 40,
    "start_time": "2022-06-12T12:24:59.740Z"
   },
   {
    "duration": 6,
    "start_time": "2022-06-12T12:25:13.985Z"
   },
   {
    "duration": 1102,
    "start_time": "2022-06-12T12:25:26.356Z"
   },
   {
    "duration": 115,
    "start_time": "2022-06-12T12:25:27.460Z"
   },
   {
    "duration": 16,
    "start_time": "2022-06-12T12:25:27.577Z"
   },
   {
    "duration": 12,
    "start_time": "2022-06-12T12:25:27.594Z"
   },
   {
    "duration": 7,
    "start_time": "2022-06-12T12:25:28.159Z"
   },
   {
    "duration": 7,
    "start_time": "2022-06-12T12:25:29.581Z"
   },
   {
    "duration": 10,
    "start_time": "2022-06-12T12:25:30.349Z"
   },
   {
    "duration": 14,
    "start_time": "2022-06-12T12:25:30.722Z"
   },
   {
    "duration": 13,
    "start_time": "2022-06-12T12:25:31.172Z"
   },
   {
    "duration": 3,
    "start_time": "2022-06-12T12:25:32.798Z"
   },
   {
    "duration": 5,
    "start_time": "2022-06-12T12:25:50.823Z"
   },
   {
    "duration": 1095,
    "start_time": "2022-06-12T16:42:36.348Z"
   },
   {
    "duration": 110,
    "start_time": "2022-06-12T16:42:38.009Z"
   },
   {
    "duration": 20,
    "start_time": "2022-06-12T16:42:40.636Z"
   },
   {
    "duration": 13,
    "start_time": "2022-06-12T16:42:44.306Z"
   },
   {
    "duration": 7,
    "start_time": "2022-06-12T16:42:44.778Z"
   },
   {
    "duration": 6,
    "start_time": "2022-06-12T16:42:52.272Z"
   },
   {
    "duration": 11,
    "start_time": "2022-06-12T16:42:53.070Z"
   },
   {
    "duration": 10,
    "start_time": "2022-06-12T16:42:53.716Z"
   },
   {
    "duration": 11,
    "start_time": "2022-06-12T16:42:54.382Z"
   },
   {
    "duration": 4,
    "start_time": "2022-06-12T16:43:50.069Z"
   },
   {
    "duration": 7,
    "start_time": "2022-06-12T16:44:42.815Z"
   },
   {
    "duration": 17,
    "start_time": "2022-06-12T16:45:02.904Z"
   },
   {
    "duration": 11,
    "start_time": "2022-06-12T16:45:03.343Z"
   },
   {
    "duration": 14,
    "start_time": "2022-06-12T16:45:03.907Z"
   },
   {
    "duration": 14,
    "start_time": "2022-06-12T16:45:04.492Z"
   },
   {
    "duration": 4,
    "start_time": "2022-06-12T16:45:10.345Z"
   },
   {
    "duration": 3,
    "start_time": "2022-06-12T16:45:21.784Z"
   },
   {
    "duration": 34,
    "start_time": "2022-06-12T16:45:22.169Z"
   },
   {
    "duration": 10,
    "start_time": "2022-06-12T16:45:22.607Z"
   },
   {
    "duration": 20,
    "start_time": "2022-06-12T16:45:22.992Z"
   },
   {
    "duration": 7,
    "start_time": "2022-06-12T16:45:24.017Z"
   },
   {
    "duration": 6,
    "start_time": "2022-06-12T16:45:27.327Z"
   },
   {
    "duration": 9,
    "start_time": "2022-06-12T16:45:29.264Z"
   },
   {
    "duration": 12,
    "start_time": "2022-06-12T16:45:32.120Z"
   },
   {
    "duration": 17,
    "start_time": "2022-06-12T16:45:33.983Z"
   },
   {
    "duration": 3,
    "start_time": "2022-06-12T16:45:40.440Z"
   },
   {
    "duration": 3,
    "start_time": "2022-06-12T16:46:10.782Z"
   },
   {
    "duration": 27,
    "start_time": "2022-06-12T16:46:11.919Z"
   },
   {
    "duration": 11,
    "start_time": "2022-06-12T16:46:14.339Z"
   },
   {
    "duration": 15,
    "start_time": "2022-06-12T16:46:15.290Z"
   },
   {
    "duration": 6,
    "start_time": "2022-06-12T16:46:17.325Z"
   },
   {
    "duration": 3,
    "start_time": "2022-06-12T16:46:22.008Z"
   },
   {
    "duration": 6,
    "start_time": "2022-06-12T16:46:30.984Z"
   },
   {
    "duration": 13,
    "start_time": "2022-06-12T16:46:31.683Z"
   },
   {
    "duration": 11,
    "start_time": "2022-06-12T16:46:31.952Z"
   },
   {
    "duration": 11,
    "start_time": "2022-06-12T16:46:32.548Z"
   },
   {
    "duration": 4,
    "start_time": "2022-06-12T16:47:20.848Z"
   },
   {
    "duration": 2,
    "start_time": "2022-06-12T16:47:22.560Z"
   },
   {
    "duration": 4,
    "start_time": "2022-06-12T16:47:23.806Z"
   },
   {
    "duration": 5,
    "start_time": "2022-06-12T16:47:27.123Z"
   },
   {
    "duration": 3,
    "start_time": "2022-06-12T16:50:05.813Z"
   },
   {
    "duration": 3,
    "start_time": "2022-06-12T16:50:06.242Z"
   },
   {
    "duration": 5,
    "start_time": "2022-06-12T16:50:06.649Z"
   },
   {
    "duration": 4,
    "start_time": "2022-06-12T16:50:06.865Z"
   },
   {
    "duration": 4,
    "start_time": "2022-06-12T16:50:18.705Z"
   },
   {
    "duration": 3,
    "start_time": "2022-06-12T16:50:19.140Z"
   },
   {
    "duration": 4,
    "start_time": "2022-06-12T16:50:19.845Z"
   },
   {
    "duration": 5,
    "start_time": "2022-06-12T16:50:20.057Z"
   },
   {
    "duration": 274,
    "start_time": "2022-06-12T16:50:23.155Z"
   },
   {
    "duration": 1848,
    "start_time": "2022-06-12T16:50:35.137Z"
   },
   {
    "duration": 28113,
    "start_time": "2022-06-12T16:50:51.361Z"
   },
   {
    "duration": 3,
    "start_time": "2022-06-12T16:51:19.477Z"
   },
   {
    "duration": 21,
    "start_time": "2022-06-12T16:51:19.482Z"
   },
   {
    "duration": 9,
    "start_time": "2022-06-12T16:51:19.505Z"
   },
   {
    "duration": 3,
    "start_time": "2022-06-12T17:20:42.673Z"
   },
   {
    "duration": 9,
    "start_time": "2022-06-12T17:20:46.047Z"
   },
   {
    "duration": 115,
    "start_time": "2022-06-12T17:20:52.806Z"
   },
   {
    "duration": 5,
    "start_time": "2022-06-12T17:21:01.664Z"
   },
   {
    "duration": 34,
    "start_time": "2022-06-12T17:23:07.111Z"
   },
   {
    "duration": 4,
    "start_time": "2022-06-12T17:23:33.554Z"
   },
   {
    "duration": 5,
    "start_time": "2022-06-12T17:23:54.738Z"
   },
   {
    "duration": 4,
    "start_time": "2022-06-12T17:24:04.470Z"
   },
   {
    "duration": 3,
    "start_time": "2022-06-12T17:24:05.608Z"
   },
   {
    "duration": 5,
    "start_time": "2022-06-12T17:24:09.024Z"
   },
   {
    "duration": 4,
    "start_time": "2022-06-12T17:24:13.345Z"
   },
   {
    "duration": 946,
    "start_time": "2022-06-13T10:36:39.023Z"
   },
   {
    "duration": 66,
    "start_time": "2022-06-13T10:36:40.479Z"
   },
   {
    "duration": 15,
    "start_time": "2022-06-13T10:36:41.691Z"
   },
   {
    "duration": 17,
    "start_time": "2022-06-13T10:36:44.327Z"
   },
   {
    "duration": 6,
    "start_time": "2022-06-13T10:36:44.957Z"
   },
   {
    "duration": 5,
    "start_time": "2022-06-13T10:36:51.179Z"
   },
   {
    "duration": 10,
    "start_time": "2022-06-13T10:36:52.578Z"
   },
   {
    "duration": 9,
    "start_time": "2022-06-13T10:36:53.619Z"
   },
   {
    "duration": 9,
    "start_time": "2022-06-13T10:36:54.831Z"
   },
   {
    "duration": 100,
    "start_time": "2022-06-13T10:37:09.343Z"
   },
   {
    "duration": 3,
    "start_time": "2022-06-13T10:37:20.748Z"
   },
   {
    "duration": 4,
    "start_time": "2022-06-13T10:39:22.613Z"
   },
   {
    "duration": 3,
    "start_time": "2022-06-13T10:39:24.368Z"
   },
   {
    "duration": 3,
    "start_time": "2022-06-13T10:39:24.986Z"
   },
   {
    "duration": 3,
    "start_time": "2022-06-13T10:39:25.761Z"
   },
   {
    "duration": 224,
    "start_time": "2022-06-13T10:39:27.826Z"
   },
   {
    "duration": 1555,
    "start_time": "2022-06-13T10:39:39.231Z"
   },
   {
    "duration": 1548,
    "start_time": "2022-06-13T10:39:49.924Z"
   },
   {
    "duration": 23847,
    "start_time": "2022-06-13T10:39:51.477Z"
   },
   {
    "duration": 3,
    "start_time": "2022-06-13T10:40:37.920Z"
   },
   {
    "duration": 60,
    "start_time": "2022-06-13T10:40:38.816Z"
   },
   {
    "duration": 7,
    "start_time": "2022-06-13T10:40:40.687Z"
   },
   {
    "duration": 3,
    "start_time": "2022-06-13T10:40:44.153Z"
   },
   {
    "duration": 7,
    "start_time": "2022-06-13T10:40:46.982Z"
   },
   {
    "duration": 4,
    "start_time": "2022-06-13T10:40:48.184Z"
   },
   {
    "duration": 3,
    "start_time": "2022-06-13T10:41:19.922Z"
   },
   {
    "duration": 11,
    "start_time": "2022-06-13T10:46:53.759Z"
   },
   {
    "duration": 9,
    "start_time": "2022-06-13T10:47:00.632Z"
   },
   {
    "duration": 6,
    "start_time": "2022-06-13T10:50:31.285Z"
   },
   {
    "duration": 5,
    "start_time": "2022-06-13T10:52:12.626Z"
   },
   {
    "duration": 4,
    "start_time": "2022-06-13T10:52:52.810Z"
   },
   {
    "duration": 8,
    "start_time": "2022-06-13T10:53:29.226Z"
   },
   {
    "duration": 4,
    "start_time": "2022-06-13T10:53:34.563Z"
   },
   {
    "duration": 5,
    "start_time": "2022-06-13T10:53:38.179Z"
   },
   {
    "duration": 1077,
    "start_time": "2022-06-15T14:14:25.093Z"
   },
   {
    "duration": 63,
    "start_time": "2022-06-15T14:14:26.173Z"
   },
   {
    "duration": 19,
    "start_time": "2022-06-15T14:14:26.238Z"
   },
   {
    "duration": 14,
    "start_time": "2022-06-15T14:14:26.259Z"
   },
   {
    "duration": 6,
    "start_time": "2022-06-15T14:14:26.607Z"
   },
   {
    "duration": 6,
    "start_time": "2022-06-15T14:14:27.612Z"
   },
   {
    "duration": 12,
    "start_time": "2022-06-15T14:14:28.004Z"
   },
   {
    "duration": 11,
    "start_time": "2022-06-15T14:14:28.233Z"
   },
   {
    "duration": 11,
    "start_time": "2022-06-15T14:14:28.451Z"
   },
   {
    "duration": 4,
    "start_time": "2022-06-15T14:14:29.244Z"
   },
   {
    "duration": 4,
    "start_time": "2022-06-15T14:14:30.545Z"
   },
   {
    "duration": 3,
    "start_time": "2022-06-15T14:14:30.957Z"
   },
   {
    "duration": 3,
    "start_time": "2022-06-15T14:14:33.238Z"
   },
   {
    "duration": 4,
    "start_time": "2022-06-15T14:14:33.652Z"
   },
   {
    "duration": 287,
    "start_time": "2022-06-15T14:14:35.086Z"
   },
   {
    "duration": 1913,
    "start_time": "2022-06-15T14:14:36.836Z"
   },
   {
    "duration": 2,
    "start_time": "2022-06-15T14:14:43.914Z"
   },
   {
    "duration": 91,
    "start_time": "2022-06-15T14:14:45.659Z"
   },
   {
    "duration": 9,
    "start_time": "2022-06-15T14:14:46.044Z"
   },
   {
    "duration": 3,
    "start_time": "2022-06-15T14:14:46.932Z"
   },
   {
    "duration": 8,
    "start_time": "2022-06-15T14:14:47.160Z"
   },
   {
    "duration": 2,
    "start_time": "2022-06-15T14:19:45.515Z"
   },
   {
    "duration": 4,
    "start_time": "2022-06-15T14:19:46.502Z"
   },
   {
    "duration": 5,
    "start_time": "2022-06-15T14:20:05.182Z"
   },
   {
    "duration": 4,
    "start_time": "2022-06-15T14:20:11.451Z"
   },
   {
    "duration": 40,
    "start_time": "2022-06-15T14:21:46.774Z"
   },
   {
    "duration": 2,
    "start_time": "2022-06-15T14:21:53.429Z"
   },
   {
    "duration": 5,
    "start_time": "2022-06-15T14:21:53.713Z"
   },
   {
    "duration": 5,
    "start_time": "2022-06-15T14:21:56.373Z"
   },
   {
    "duration": 4,
    "start_time": "2022-06-15T14:21:59.541Z"
   },
   {
    "duration": 5,
    "start_time": "2022-06-15T14:22:51.542Z"
   },
   {
    "duration": 6,
    "start_time": "2022-06-15T14:23:48.836Z"
   },
   {
    "duration": 3,
    "start_time": "2022-06-15T14:24:54.284Z"
   },
   {
    "duration": 4,
    "start_time": "2022-06-15T14:25:04.162Z"
   },
   {
    "duration": 7,
    "start_time": "2022-06-15T14:25:08.871Z"
   },
   {
    "duration": 5,
    "start_time": "2022-06-15T14:25:19.828Z"
   },
   {
    "duration": 3,
    "start_time": "2022-06-15T14:25:39.996Z"
   },
   {
    "duration": 46,
    "start_time": "2022-06-15T14:25:40.001Z"
   },
   {
    "duration": 10,
    "start_time": "2022-06-15T14:25:40.049Z"
   },
   {
    "duration": 13,
    "start_time": "2022-06-15T14:25:40.061Z"
   },
   {
    "duration": 8,
    "start_time": "2022-06-15T14:25:40.076Z"
   },
   {
    "duration": 7,
    "start_time": "2022-06-15T14:25:40.086Z"
   },
   {
    "duration": 17,
    "start_time": "2022-06-15T14:25:40.095Z"
   },
   {
    "duration": 47,
    "start_time": "2022-06-15T14:25:40.114Z"
   },
   {
    "duration": 13,
    "start_time": "2022-06-15T14:25:40.165Z"
   },
   {
    "duration": 12,
    "start_time": "2022-06-15T14:25:40.181Z"
   },
   {
    "duration": 8,
    "start_time": "2022-06-15T14:25:40.195Z"
   },
   {
    "duration": 10,
    "start_time": "2022-06-15T14:25:40.204Z"
   },
   {
    "duration": 9,
    "start_time": "2022-06-15T14:25:40.216Z"
   },
   {
    "duration": 8,
    "start_time": "2022-06-15T14:25:40.227Z"
   },
   {
    "duration": 288,
    "start_time": "2022-06-15T14:25:40.259Z"
   },
   {
    "duration": 1976,
    "start_time": "2022-06-15T14:25:40.549Z"
   },
   {
    "duration": 28036,
    "start_time": "2022-06-15T14:25:42.527Z"
   },
   {
    "duration": 3,
    "start_time": "2022-06-15T14:26:10.565Z"
   },
   {
    "duration": 74,
    "start_time": "2022-06-15T14:26:10.570Z"
   },
   {
    "duration": 9,
    "start_time": "2022-06-15T14:26:10.658Z"
   },
   {
    "duration": 3,
    "start_time": "2022-06-15T14:26:10.669Z"
   },
   {
    "duration": 9,
    "start_time": "2022-06-15T14:26:10.674Z"
   },
   {
    "duration": 5,
    "start_time": "2022-06-15T14:26:10.685Z"
   },
   {
    "duration": 5,
    "start_time": "2022-06-15T14:26:10.693Z"
   },
   {
    "duration": 7,
    "start_time": "2022-06-15T14:26:10.699Z"
   },
   {
    "duration": 8,
    "start_time": "2022-06-15T14:26:10.707Z"
   },
   {
    "duration": 44,
    "start_time": "2022-06-15T14:26:10.716Z"
   },
   {
    "duration": 5,
    "start_time": "2022-06-15T14:26:49.978Z"
   },
   {
    "duration": 4,
    "start_time": "2022-06-15T14:27:43.360Z"
   },
   {
    "duration": 3,
    "start_time": "2022-06-15T14:28:54.084Z"
   },
   {
    "duration": 42,
    "start_time": "2022-06-15T14:28:54.089Z"
   },
   {
    "duration": 10,
    "start_time": "2022-06-15T14:28:54.132Z"
   },
   {
    "duration": 19,
    "start_time": "2022-06-15T14:28:54.144Z"
   },
   {
    "duration": 7,
    "start_time": "2022-06-15T14:28:54.165Z"
   },
   {
    "duration": 7,
    "start_time": "2022-06-15T14:28:54.174Z"
   },
   {
    "duration": 11,
    "start_time": "2022-06-15T14:28:54.183Z"
   },
   {
    "duration": 9,
    "start_time": "2022-06-15T14:28:54.195Z"
   },
   {
    "duration": 51,
    "start_time": "2022-06-15T14:28:54.207Z"
   },
   {
    "duration": 3,
    "start_time": "2022-06-15T14:28:54.260Z"
   },
   {
    "duration": 6,
    "start_time": "2022-06-15T14:28:54.266Z"
   },
   {
    "duration": 6,
    "start_time": "2022-06-15T14:28:54.274Z"
   },
   {
    "duration": 9,
    "start_time": "2022-06-15T14:28:54.281Z"
   },
   {
    "duration": 7,
    "start_time": "2022-06-15T14:28:54.291Z"
   },
   {
    "duration": 312,
    "start_time": "2022-06-15T14:28:54.300Z"
   },
   {
    "duration": 1900,
    "start_time": "2022-06-15T14:28:54.613Z"
   },
   {
    "duration": 28400,
    "start_time": "2022-06-15T14:28:56.514Z"
   },
   {
    "duration": 3,
    "start_time": "2022-06-15T14:29:24.916Z"
   },
   {
    "duration": 87,
    "start_time": "2022-06-15T14:29:24.921Z"
   },
   {
    "duration": 8,
    "start_time": "2022-06-15T14:29:25.010Z"
   },
   {
    "duration": 4,
    "start_time": "2022-06-15T14:29:25.020Z"
   },
   {
    "duration": 23,
    "start_time": "2022-06-15T14:29:25.026Z"
   },
   {
    "duration": 11,
    "start_time": "2022-06-15T14:29:25.058Z"
   },
   {
    "duration": 15,
    "start_time": "2022-06-15T14:29:25.072Z"
   },
   {
    "duration": 7,
    "start_time": "2022-06-15T14:29:25.089Z"
   },
   {
    "duration": 8,
    "start_time": "2022-06-15T14:29:25.098Z"
   },
   {
    "duration": 7,
    "start_time": "2022-06-15T14:29:25.107Z"
   },
   {
    "duration": 54,
    "start_time": "2022-06-15T14:55:20.760Z"
   },
   {
    "duration": 29,
    "start_time": "2022-06-15T14:56:46.483Z"
   },
   {
    "duration": 50,
    "start_time": "2022-08-21T17:08:48.871Z"
   },
   {
    "duration": 43,
    "start_time": "2022-08-27T17:41:55.851Z"
   }
  ],
  "kernelspec": {
   "display_name": "Python 3 (ipykernel)",
   "language": "python",
   "name": "python3"
  },
  "language_info": {
   "codemirror_mode": {
    "name": "ipython",
    "version": 3
   },
   "file_extension": ".py",
   "mimetype": "text/x-python",
   "name": "python",
   "nbconvert_exporter": "python",
   "pygments_lexer": "ipython3",
   "version": "3.9.12"
  },
  "toc": {
   "base_numbering": 1,
   "nav_menu": {
    "height": "263.991px",
    "width": "160px"
   },
   "number_sections": true,
   "sideBar": true,
   "skip_h1_title": true,
   "title_cell": "Содержание",
   "title_sidebar": "Contents",
   "toc_cell": true,
   "toc_position": {},
   "toc_section_display": true,
   "toc_window_display": true
  }
 },
 "nbformat": 4,
 "nbformat_minor": 2
}
