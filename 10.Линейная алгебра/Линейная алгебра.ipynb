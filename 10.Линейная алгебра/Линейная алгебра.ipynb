{
 "cells": [
  {
   "cell_type": "markdown",
   "metadata": {},
   "source": [
    "<h1> Комментарий ревьюера </h1>\n",
    "\n",
    "Привет, Иван!\n",
    "Меня зовут Виктория Ильина, и я буду проверять твой проект. Предлагаю общаться на \"ты\", но если тебе будет не комфортно, обязательно сообщи и мы перейдем на \"вы\". \n",
    "\n",
    "Моя основная цель - не указать на совершённые тобой ошибки, а поделиться своим опытом и помочь тебе стать специалистом по Data Science. Ты уже проделал большую работу над проектом, но давай сделаем его ещё лучше. Ниже ты найдёшь мои комментарии - пожалуйста, не перемещай, не изменяй и не удаляй их. Я буду использовать различные цвета, чтобы было легче воспринимать мои комментарии:\n",
    "\n",
    "<div class=\"alert alert-block alert-danger\">\n",
    "<b>Комментарий ревьюера❌:</b> Так выделены самые важные замечания. Без их отработки проект не будет принят.\n",
    "</div>\n",
    "\n",
    "<div class=\"alert alert-block alert-warning\">\n",
    "<b>Комментарий ревьюера🤔:</b> Так выделены небольшие замечания. Одно-два таких замечания в проекте допустимы, но если их будет больше - тебе будет необходимо внести исправления. Однако, если перед нами стоит цель не просто сдать проект и забыть, а приобрести новые знания и успешно применять их в будущем, я бы всё-таки рекомендовала тебе прорабатывать эти недочёты.\n",
    "</div>\n",
    "    \n",
    "<div class=\"alert alert-block alert-success\">\n",
    "<b>Комментарий ревьюера👍:</b> Так я выделю все остальные комментарии.\n",
    "</div>\n",
    "    \n",
    "Давай работать над проектом в диалоге: если ты что-то меняешь в проекте или отвечаешь на мои комментарии - пиши об этом. Мне будет легче отследить изменения, если ты выделишь свои комментарии:\n",
    "\n",
    "<div class=\"alert alert-block alert-info\">\n",
    "<b>Комментарий студента:</b> Например, вот так.\n",
    "</div>\n",
    "\n",
    "Давай посмотрим, что получилось!"
   ]
  },
  {
   "cell_type": "markdown",
   "metadata": {
    "toc": true
   },
   "source": [
    "<h1>Содержание<span class=\"tocSkip\"></span></h1>\n",
    "<div class=\"toc\"><ul class=\"toc-item\"><li><span><a href=\"#Загрузка-данных\" data-toc-modified-id=\"Загрузка-данных-1\"><span class=\"toc-item-num\">1&nbsp;&nbsp;</span>Загрузка данных</a></span></li><li><span><a href=\"#Умножение-матриц\" data-toc-modified-id=\"Умножение-матриц-2\"><span class=\"toc-item-num\">2&nbsp;&nbsp;</span>Умножение матриц</a></span></li><li><span><a href=\"#Алгоритм-преобразования\" data-toc-modified-id=\"Алгоритм-преобразования-3\"><span class=\"toc-item-num\">3&nbsp;&nbsp;</span>Алгоритм преобразования</a></span></li><li><span><a href=\"#Проверка-алгоритма\" data-toc-modified-id=\"Проверка-алгоритма-4\"><span class=\"toc-item-num\">4&nbsp;&nbsp;</span>Проверка алгоритма</a></span></li><li><span><a href=\"#Чек-лист-проверки\" data-toc-modified-id=\"Чек-лист-проверки-5\"><span class=\"toc-item-num\">5&nbsp;&nbsp;</span>Чек-лист проверки</a></span></li></ul></div>"
   ]
  },
  {
   "cell_type": "markdown",
   "metadata": {},
   "source": [
    "# Защита персональных данных клиентов"
   ]
  },
  {
   "cell_type": "markdown",
   "metadata": {},
   "source": [
    "Вам нужно защитить данные клиентов страховой компании «Хоть потоп». Разработайте такой метод преобразования данных, чтобы по ним было сложно восстановить персональную информацию. Обоснуйте корректность его работы.\n",
    "\n",
    "Нужно защитить данные, чтобы при преобразовании качество моделей машинного обучения не ухудшилось. Подбирать наилучшую модель не требуется."
   ]
  },
  {
   "cell_type": "markdown",
   "metadata": {},
   "source": [
    "## Загрузка данных"
   ]
  },
  {
   "cell_type": "markdown",
   "metadata": {},
   "source": [
    "импортируем необходимые библиотеки и сохраним данные клиентов страховой компании «Хоть потоп»:"
   ]
  },
  {
   "cell_type": "code",
   "execution_count": 3,
   "metadata": {},
   "outputs": [],
   "source": [
    "import pandas as pd\n",
    "import numpy as np\n",
    "from numpy.linalg import inv\n",
    "from sklearn.model_selection import train_test_split\n",
    "from sklearn.linear_model import LinearRegression\n",
    "from sklearn.metrics import r2_score"
   ]
  },
  {
   "cell_type": "code",
   "execution_count": 4,
   "metadata": {},
   "outputs": [],
   "source": [
    "data=pd.read_csv('/datasets/insurance.csv')"
   ]
  },
  {
   "cell_type": "markdown",
   "metadata": {},
   "source": [
    "<div class=\"alert alert-block alert-success\">\n",
    "<b>Комментарий ревьюера👍:</b> Все библиотеки импортированы и данные загружены, можем двигаться дальше!\n",
    "</div>\n"
   ]
  },
  {
   "cell_type": "markdown",
   "metadata": {},
   "source": [
    "выведем первые 10 строк таблицы:"
   ]
  },
  {
   "cell_type": "code",
   "execution_count": 5,
   "metadata": {},
   "outputs": [
    {
     "data": {
      "text/html": [
       "<div>\n",
       "<style scoped>\n",
       "    .dataframe tbody tr th:only-of-type {\n",
       "        vertical-align: middle;\n",
       "    }\n",
       "\n",
       "    .dataframe tbody tr th {\n",
       "        vertical-align: top;\n",
       "    }\n",
       "\n",
       "    .dataframe thead th {\n",
       "        text-align: right;\n",
       "    }\n",
       "</style>\n",
       "<table border=\"1\" class=\"dataframe\">\n",
       "  <thead>\n",
       "    <tr style=\"text-align: right;\">\n",
       "      <th></th>\n",
       "      <th>Пол</th>\n",
       "      <th>Возраст</th>\n",
       "      <th>Зарплата</th>\n",
       "      <th>Члены семьи</th>\n",
       "      <th>Страховые выплаты</th>\n",
       "    </tr>\n",
       "  </thead>\n",
       "  <tbody>\n",
       "    <tr>\n",
       "      <th>0</th>\n",
       "      <td>1</td>\n",
       "      <td>41.0</td>\n",
       "      <td>49600.0</td>\n",
       "      <td>1</td>\n",
       "      <td>0</td>\n",
       "    </tr>\n",
       "    <tr>\n",
       "      <th>1</th>\n",
       "      <td>0</td>\n",
       "      <td>46.0</td>\n",
       "      <td>38000.0</td>\n",
       "      <td>1</td>\n",
       "      <td>1</td>\n",
       "    </tr>\n",
       "    <tr>\n",
       "      <th>2</th>\n",
       "      <td>0</td>\n",
       "      <td>29.0</td>\n",
       "      <td>21000.0</td>\n",
       "      <td>0</td>\n",
       "      <td>0</td>\n",
       "    </tr>\n",
       "    <tr>\n",
       "      <th>3</th>\n",
       "      <td>0</td>\n",
       "      <td>21.0</td>\n",
       "      <td>41700.0</td>\n",
       "      <td>2</td>\n",
       "      <td>0</td>\n",
       "    </tr>\n",
       "    <tr>\n",
       "      <th>4</th>\n",
       "      <td>1</td>\n",
       "      <td>28.0</td>\n",
       "      <td>26100.0</td>\n",
       "      <td>0</td>\n",
       "      <td>0</td>\n",
       "    </tr>\n",
       "    <tr>\n",
       "      <th>5</th>\n",
       "      <td>1</td>\n",
       "      <td>43.0</td>\n",
       "      <td>41000.0</td>\n",
       "      <td>2</td>\n",
       "      <td>1</td>\n",
       "    </tr>\n",
       "    <tr>\n",
       "      <th>6</th>\n",
       "      <td>1</td>\n",
       "      <td>39.0</td>\n",
       "      <td>39700.0</td>\n",
       "      <td>2</td>\n",
       "      <td>0</td>\n",
       "    </tr>\n",
       "    <tr>\n",
       "      <th>7</th>\n",
       "      <td>1</td>\n",
       "      <td>25.0</td>\n",
       "      <td>38600.0</td>\n",
       "      <td>4</td>\n",
       "      <td>0</td>\n",
       "    </tr>\n",
       "    <tr>\n",
       "      <th>8</th>\n",
       "      <td>1</td>\n",
       "      <td>36.0</td>\n",
       "      <td>49700.0</td>\n",
       "      <td>1</td>\n",
       "      <td>0</td>\n",
       "    </tr>\n",
       "    <tr>\n",
       "      <th>9</th>\n",
       "      <td>1</td>\n",
       "      <td>32.0</td>\n",
       "      <td>51700.0</td>\n",
       "      <td>1</td>\n",
       "      <td>0</td>\n",
       "    </tr>\n",
       "  </tbody>\n",
       "</table>\n",
       "</div>"
      ],
      "text/plain": [
       "   Пол  Возраст  Зарплата  Члены семьи  Страховые выплаты\n",
       "0    1     41.0   49600.0            1                  0\n",
       "1    0     46.0   38000.0            1                  1\n",
       "2    0     29.0   21000.0            0                  0\n",
       "3    0     21.0   41700.0            2                  0\n",
       "4    1     28.0   26100.0            0                  0\n",
       "5    1     43.0   41000.0            2                  1\n",
       "6    1     39.0   39700.0            2                  0\n",
       "7    1     25.0   38600.0            4                  0\n",
       "8    1     36.0   49700.0            1                  0\n",
       "9    1     32.0   51700.0            1                  0"
      ]
     },
     "execution_count": 5,
     "metadata": {},
     "output_type": "execute_result"
    }
   ],
   "source": [
    "data.head(10)"
   ]
  },
  {
   "cell_type": "markdown",
   "metadata": {},
   "source": [
    "и выведем информацию о данных:"
   ]
  },
  {
   "cell_type": "code",
   "execution_count": 6,
   "metadata": {},
   "outputs": [
    {
     "name": "stdout",
     "output_type": "stream",
     "text": [
      "<class 'pandas.core.frame.DataFrame'>\n",
      "RangeIndex: 5000 entries, 0 to 4999\n",
      "Data columns (total 5 columns):\n",
      " #   Column             Non-Null Count  Dtype  \n",
      "---  ------             --------------  -----  \n",
      " 0   Пол                5000 non-null   int64  \n",
      " 1   Возраст            5000 non-null   float64\n",
      " 2   Зарплата           5000 non-null   float64\n",
      " 3   Члены семьи        5000 non-null   int64  \n",
      " 4   Страховые выплаты  5000 non-null   int64  \n",
      "dtypes: float64(2), int64(3)\n",
      "memory usage: 195.4 KB\n"
     ]
    }
   ],
   "source": [
    "data.info()"
   ]
  },
  {
   "cell_type": "markdown",
   "metadata": {},
   "source": [
    "в данных не обнаружено пропусков"
   ]
  },
  {
   "cell_type": "markdown",
   "metadata": {},
   "source": [
    "проверим данные на явные дубликаты:"
   ]
  },
  {
   "cell_type": "code",
   "execution_count": 7,
   "metadata": {},
   "outputs": [
    {
     "data": {
      "text/plain": [
       "153"
      ]
     },
     "execution_count": 7,
     "metadata": {},
     "output_type": "execute_result"
    }
   ],
   "source": [
    "data.duplicated().sum()"
   ]
  },
  {
   "cell_type": "markdown",
   "metadata": {},
   "source": [
    "переведем столбцы Возраст и Зарплата в формат int:"
   ]
  },
  {
   "cell_type": "code",
   "execution_count": 8,
   "metadata": {},
   "outputs": [],
   "source": [
    "data['Возраст'] = data['Возраст'].astype('int')\n",
    "data['Зарплата'] = data['Зарплата'].astype('int')"
   ]
  },
  {
   "cell_type": "markdown",
   "metadata": {},
   "source": [
    "и проверим что столбцы поменяли тип данных:"
   ]
  },
  {
   "cell_type": "code",
   "execution_count": 9,
   "metadata": {},
   "outputs": [
    {
     "name": "stdout",
     "output_type": "stream",
     "text": [
      "<class 'pandas.core.frame.DataFrame'>\n",
      "RangeIndex: 5000 entries, 0 to 4999\n",
      "Data columns (total 5 columns):\n",
      " #   Column             Non-Null Count  Dtype\n",
      "---  ------             --------------  -----\n",
      " 0   Пол                5000 non-null   int64\n",
      " 1   Возраст            5000 non-null   int64\n",
      " 2   Зарплата           5000 non-null   int64\n",
      " 3   Члены семьи        5000 non-null   int64\n",
      " 4   Страховые выплаты  5000 non-null   int64\n",
      "dtypes: int64(5)\n",
      "memory usage: 195.4 KB\n"
     ]
    }
   ],
   "source": [
    "data.info()"
   ]
  },
  {
   "cell_type": "markdown",
   "metadata": {},
   "source": [
    "и переименуем столбцы согласно правилам синтаксиса, чтобы названия были на английском языке:"
   ]
  },
  {
   "cell_type": "code",
   "execution_count": 10,
   "metadata": {},
   "outputs": [],
   "source": [
    "data = data.rename(columns={'Пол':'sex','Возраст':'age','Зарплата':'income','Члены семьи':'family_members','Страховые выплаты':'insurance_payments'}) "
   ]
  },
  {
   "cell_type": "markdown",
   "metadata": {},
   "source": [
    "<div class=\"alert alert-block alert-warning\">\n",
    "<b>Комментарий ревьюера🤔:</b> совет на будущее касательно оформления кода: старайся не писать всё в одну длинную строчку, чтобы было необходимо использовать колёсико. Руководство по общепринятому оформлению: https://pythonworld.ru/osnovy/pep-8-rukovodstvo-po-napisaniyu-koda-na-python.html\n",
    "</div>\n"
   ]
  },
  {
   "cell_type": "code",
   "execution_count": 11,
   "metadata": {},
   "outputs": [
    {
     "data": {
      "text/plain": [
       "Index(['sex', 'age', 'income', 'family_members', 'insurance_payments'], dtype='object')"
      ]
     },
     "execution_count": 11,
     "metadata": {},
     "output_type": "execute_result"
    }
   ],
   "source": [
    "data.columns"
   ]
  },
  {
   "cell_type": "markdown",
   "metadata": {},
   "source": [
    "проверим что в данных нет аномалий, например 3го пола или нулевого возраста:"
   ]
  },
  {
   "cell_type": "code",
   "execution_count": 12,
   "metadata": {},
   "outputs": [
    {
     "data": {
      "text/plain": [
       "0    2505\n",
       "1    2495\n",
       "Name: sex, dtype: int64"
      ]
     },
     "execution_count": 12,
     "metadata": {},
     "output_type": "execute_result"
    }
   ],
   "source": [
    "data['sex'].value_counts()"
   ]
  },
  {
   "cell_type": "code",
   "execution_count": 13,
   "metadata": {},
   "outputs": [
    {
     "data": {
      "text/plain": [
       "19    223\n",
       "25    214\n",
       "31    212\n",
       "26    211\n",
       "22    209\n",
       "27    209\n",
       "32    206\n",
       "28    204\n",
       "29    203\n",
       "30    202\n",
       "23    202\n",
       "21    200\n",
       "20    195\n",
       "36    193\n",
       "33    191\n",
       "24    182\n",
       "35    179\n",
       "34    177\n",
       "37    147\n",
       "39    141\n",
       "38    139\n",
       "41    129\n",
       "18    117\n",
       "40    114\n",
       "42     93\n",
       "43     77\n",
       "44     74\n",
       "45     73\n",
       "46     60\n",
       "47     47\n",
       "49     37\n",
       "50     27\n",
       "48     26\n",
       "52     22\n",
       "51     21\n",
       "53     11\n",
       "55      9\n",
       "54      7\n",
       "56      5\n",
       "59      3\n",
       "60      2\n",
       "57      2\n",
       "58      2\n",
       "65      1\n",
       "61      1\n",
       "62      1\n",
       "Name: age, dtype: int64"
      ]
     },
     "execution_count": 13,
     "metadata": {},
     "output_type": "execute_result"
    }
   ],
   "source": [
    "data['age'].value_counts()"
   ]
  },
  {
   "cell_type": "code",
   "execution_count": 14,
   "metadata": {},
   "outputs": [
    {
     "data": {
      "text/plain": [
       "45800    29\n",
       "37100    28\n",
       "41500    27\n",
       "43200    27\n",
       "38800    26\n",
       "         ..\n",
       "61200     1\n",
       "15200     1\n",
       "71600     1\n",
       "14300     1\n",
       "63200     1\n",
       "Name: income, Length: 524, dtype: int64"
      ]
     },
     "execution_count": 14,
     "metadata": {},
     "output_type": "execute_result"
    }
   ],
   "source": [
    "data['income'].value_counts()"
   ]
  },
  {
   "cell_type": "code",
   "execution_count": 15,
   "metadata": {},
   "outputs": [
    {
     "data": {
      "text/plain": [
       "1    1814\n",
       "0    1513\n",
       "2    1071\n",
       "3     439\n",
       "4     124\n",
       "5      32\n",
       "6       7\n",
       "Name: family_members, dtype: int64"
      ]
     },
     "execution_count": 15,
     "metadata": {},
     "output_type": "execute_result"
    }
   ],
   "source": [
    "data['family_members'].value_counts()"
   ]
  },
  {
   "cell_type": "code",
   "execution_count": 16,
   "metadata": {},
   "outputs": [
    {
     "data": {
      "text/plain": [
       "0    4436\n",
       "1     423\n",
       "2     115\n",
       "3      18\n",
       "4       7\n",
       "5       1\n",
       "Name: insurance_payments, dtype: int64"
      ]
     },
     "execution_count": 16,
     "metadata": {},
     "output_type": "execute_result"
    }
   ],
   "source": [
    "data['insurance_payments'].value_counts()"
   ]
  },
  {
   "cell_type": "markdown",
   "metadata": {},
   "source": [
    "аномалий не обнаружено, перейдем к заданию"
   ]
  },
  {
   "cell_type": "markdown",
   "metadata": {},
   "source": [
    "    \n",
    "<div class=\"alert alert-block alert-success\">\n",
    "<b>Комментарий ревьюера👍:</b> Молодец, что ты решил детально изучить данные с которыми тебе предстоит работать\n",
    "</div>"
   ]
  },
  {
   "cell_type": "markdown",
   "metadata": {},
   "source": [
    "## Умножение матриц"
   ]
  },
  {
   "cell_type": "markdown",
   "metadata": {},
   "source": [
    "Проверим изменится ли качество линейной регрессии, если умножить признаки на обратимую матрицу. "
   ]
  },
  {
   "cell_type": "markdown",
   "metadata": {},
   "source": [
    "подставим в формулу \n",
    "$\n",
    "w = (X^T X)^{-1} X^T y\n",
    "$\n",
    "значение\n",
    "$\n",
    "X_{new}=X*P\n",
    "$\n",
    ":\n",
    "$$\n",
    "w_{new}=((X*P)^T X*P)^{-1} (X*P)^T y = (P^T*X^T*X*P)^{-1} (X*P)^T y = (P)^{-1}(P^T*X^T*X)^{-1}(P)^T(X)^T y = P^{-1}(X^T*X)^{-1}P^{-T}(P)^T(X)^T y = P^{-1}(X^T*X)^{-1}(X)^T y = \n",
    "$$\n",
    "\n",
    "так как $w = (X^T X)^{-1} X^T y$ :\n",
    "$$\n",
    "w_{new}=P^{-1}*w\n",
    "$$\n",
    "А значит:"
   ]
  },
  {
   "cell_type": "markdown",
   "metadata": {},
   "source": [
    "<div class=\"alert alert-block alert-danger\">\n",
    "<b>Комментарий ревьюера❌:</b> К сожалению, у тебя допущена ошибка в доказательстве, так как для неквадратных матриц $X$ и $X^T$ обратных матриц не существует, то мы не можем раскрывать $(X^T X)^{-1}$\n",
    "    \n",
    "Теория по обратным матрицам: https://www.berdov.com/works/matrix/obratnaya-matrica/ \n",
    "</div>\n"
   ]
  },
  {
   "cell_type": "markdown",
   "metadata": {},
   "source": [
    "<div class=\"alert alert-block alert-info\">\n",
    "<b>Комментарий студента:</b> Виктория, привет. Поправил доказательство, теперь скобки в $(X^T X)^{-1}$ не раскрываются\n",
    "</div>"
   ]
  },
  {
   "cell_type": "markdown",
   "metadata": {},
   "source": [
    "<div class=\"alert alert-block alert-success\">\n",
    "<b>Комментарий ревьюера V.2👍:</b> Теперь верно =)\n",
    "</div>"
   ]
  },
  {
   "cell_type": "markdown",
   "metadata": {},
   "source": [
    "$$\n",
    "a_{new}=X_{new}w_{new}=X*P*P^{-1}w = Xw=a\n",
    "$$"
   ]
  },
  {
   "cell_type": "markdown",
   "metadata": {},
   "source": [
    "В этом задании вы можете записывать формулы в *Jupyter Notebook.*\n",
    "\n",
    "Чтобы записать формулу внутри текста, окружите её символами доллара \\\\$; если снаружи —  двойными символами \\\\$\\\\$. Эти формулы записываются на языке вёрстки *LaTeX.* \n",
    "\n",
    "Для примера мы записали формулы линейной регрессии. Можете их скопировать и отредактировать, чтобы решить задачу.\n",
    "\n",
    "Работать в *LaTeX* необязательно."
   ]
  },
  {
   "cell_type": "markdown",
   "metadata": {},
   "source": [
    "Обозначения:\n",
    "\n",
    "- $X$ — матрица признаков (нулевой столбец состоит из единиц)\n",
    "\n",
    "- $y$ — вектор целевого признака\n",
    "\n",
    "- $P$ — матрица, на которую умножаются признаки\n",
    "\n",
    "- $w$ — вектор весов линейной регрессии (нулевой элемент равен сдвигу)"
   ]
  },
  {
   "cell_type": "markdown",
   "metadata": {},
   "source": [
    "Предсказания:\n",
    "\n",
    "$$\n",
    "a = Xw\n",
    "$$\n",
    "\n",
    "Задача обучения:\n",
    "\n",
    "$$\n",
    "w = \\arg\\min_w MSE(Xw, y)\n",
    "$$\n",
    "\n",
    "Формула обучения:\n",
    "\n",
    "$$\n",
    "w = (X^T X)^{-1} X^T y\n",
    "$$"
   ]
  },
  {
   "cell_type": "markdown",
   "metadata": {},
   "source": [
    "**Ответ:** нет, не изменится\n",
    "\n",
    "**Обоснование:** ..."
   ]
  },
  {
   "cell_type": "markdown",
   "metadata": {},
   "source": [
    "## Алгоритм преобразования"
   ]
  },
  {
   "cell_type": "markdown",
   "metadata": {},
   "source": [
    "**Алгоритм**\n",
    "\n",
    "в пункт 2 мы доказали что при умножении матрицы признаков на матрицу P. Методом numpy.random.normal() можем сознать случайную матрицу, умножить матрицу признаков на матрицу P. качество моделей машинного обучения не ухудшится, а персональные данные клиентов будут защищены."
   ]
  },
  {
   "cell_type": "markdown",
   "metadata": {},
   "source": [
    "**Обоснование**\n",
    "\n",
    "..."
   ]
  },
  {
   "cell_type": "markdown",
   "metadata": {},
   "source": [
    "<div class=\"alert alert-block alert-warning\">\n",
    "<b>Комментарий ревьюера🤔:</b> все верно, только сознать случайную ОБРАТИМУЮ матрицу\n",
    "</div>"
   ]
  },
  {
   "cell_type": "markdown",
   "metadata": {},
   "source": [
    "## Проверка алгоритма"
   ]
  },
  {
   "cell_type": "markdown",
   "metadata": {},
   "source": [
    "выделим признаки:"
   ]
  },
  {
   "cell_type": "code",
   "execution_count": 17,
   "metadata": {},
   "outputs": [],
   "source": [
    "features = data.drop(['insurance_payments'], axis=1)"
   ]
  },
  {
   "cell_type": "markdown",
   "metadata": {},
   "source": [
    "выделим целевой признак:"
   ]
  },
  {
   "cell_type": "code",
   "execution_count": 18,
   "metadata": {},
   "outputs": [],
   "source": [
    "target=data['insurance_payments']"
   ]
  },
  {
   "cell_type": "markdown",
   "metadata": {},
   "source": [
    "преобразуем признаки в матрицу:"
   ]
  },
  {
   "cell_type": "code",
   "execution_count": 19,
   "metadata": {},
   "outputs": [],
   "source": [
    "features_matrix=np.array(features)"
   ]
  },
  {
   "cell_type": "code",
   "execution_count": 20,
   "metadata": {},
   "outputs": [
    {
     "data": {
      "text/plain": [
       "array([[    1,    41, 49600,     1],\n",
       "       [    0,    46, 38000,     1],\n",
       "       [    0,    29, 21000,     0],\n",
       "       ...,\n",
       "       [    0,    20, 33900,     2],\n",
       "       [    1,    22, 32700,     3],\n",
       "       [    1,    28, 40600,     1]])"
      ]
     },
     "execution_count": 20,
     "metadata": {},
     "output_type": "execute_result"
    }
   ],
   "source": [
    "features_matrix"
   ]
  },
  {
   "cell_type": "markdown",
   "metadata": {},
   "source": [
    "создадим случайную матрицу размером 4 на 4:"
   ]
  },
  {
   "cell_type": "code",
   "execution_count": 21,
   "metadata": {},
   "outputs": [
    {
     "data": {
      "text/plain": [
       "array([[ 0.57858074,  0.26354115, -0.09263432,  1.60096303],\n",
       "       [ 0.98126828,  0.47618628, -2.24233542, -0.92187167],\n",
       "       [-0.04583322, -0.10971565, -0.25526947,  0.70416735],\n",
       "       [ 0.37980628, -1.22785818, -0.48420659, -1.93133992]])"
      ]
     },
     "execution_count": 21,
     "metadata": {},
     "output_type": "execute_result"
    }
   ],
   "source": [
    "random_matrix = np.random.normal(size=(4,4))\n",
    "random_matrix"
   ]
  },
  {
   "cell_type": "markdown",
   "metadata": {},
   "source": [
    "найдем обратную матрицу к random_matrix:"
   ]
  },
  {
   "cell_type": "code",
   "execution_count": 22,
   "metadata": {},
   "outputs": [],
   "source": [
    "ainv = inv(random_matrix)"
   ]
  },
  {
   "cell_type": "code",
   "execution_count": 23,
   "metadata": {},
   "outputs": [
    {
     "data": {
      "text/plain": [
       "array([[ 1.25129638,  0.03987945, -1.61728377,  0.4285507 ],\n",
       "       [-0.12603153,  0.26932717, -1.11023741, -0.63782135],\n",
       "       [ 0.43114799, -0.33909839, -1.22968798,  0.07090987],\n",
       "       [ 0.21810473, -0.0783681 ,  0.69608802, -0.0457789 ]])"
      ]
     },
     "execution_count": 23,
     "metadata": {},
     "output_type": "execute_result"
    }
   ],
   "source": [
    "ainv"
   ]
  },
  {
   "cell_type": "markdown",
   "metadata": {},
   "source": [
    "ошибки не произошло, значит матрица обратима."
   ]
  },
  {
   "cell_type": "markdown",
   "metadata": {},
   "source": [
    "теперь умножим матрицу признаков `features_matrix` на матрицу `random_matrix`"
   ]
  },
  {
   "cell_type": "code",
   "execution_count": 24,
   "metadata": {},
   "outputs": [
    {
     "data": {
      "text/plain": [
       "array([[ -2232.13734266,  -5423.33707097, -12753.87833957,\n",
       "         34888.57337013],\n",
       "       [ -1696.14422592,  -4148.51810536,  -9803.87152228,\n",
       "         26714.02180615],\n",
       "       [  -934.04084709,  -2290.21931203,  -5425.68661175,\n",
       "         14760.78004   ],\n",
       "       ...,\n",
       "       [ -1533.36119161,  -3712.29262923,  -8699.45017812,\n",
       "         23848.97300086],\n",
       "       [ -1475.4404036 ,  -3580.64579004,  -8398.18832503,\n",
       "         23001.79806242],\n",
       "       [ -1832.39484722,  -4442.08661511, -10427.30274286,\n",
       "         28563.05156538]])"
      ]
     },
     "execution_count": 24,
     "metadata": {},
     "output_type": "execute_result"
    }
   ],
   "source": [
    "features_matrix_new = features_matrix @ random_matrix\n",
    "features_matrix_new"
   ]
  },
  {
   "cell_type": "markdown",
   "metadata": {},
   "source": [
    "перейдем к обучению модели. выделим тренировочную выборку и тестирующую"
   ]
  },
  {
   "cell_type": "code",
   "execution_count": 25,
   "metadata": {},
   "outputs": [],
   "source": [
    "data_train,data_test = train_test_split(data, test_size=0.25, random_state=42)"
   ]
  },
  {
   "cell_type": "code",
   "execution_count": 26,
   "metadata": {},
   "outputs": [
    {
     "data": {
      "text/plain": [
       "(3750, 5)"
      ]
     },
     "execution_count": 26,
     "metadata": {},
     "output_type": "execute_result"
    }
   ],
   "source": [
    "data_train.shape"
   ]
  },
  {
   "cell_type": "code",
   "execution_count": 27,
   "metadata": {},
   "outputs": [
    {
     "data": {
      "text/plain": [
       "(1250, 5)"
      ]
     },
     "execution_count": 27,
     "metadata": {},
     "output_type": "execute_result"
    }
   ],
   "source": [
    "data_test.shape"
   ]
  },
  {
   "cell_type": "markdown",
   "metadata": {},
   "source": [
    "выделим признаки и целевой признак у тренировочной выборки и тестирующей выборки:"
   ]
  },
  {
   "cell_type": "code",
   "execution_count": 28,
   "metadata": {},
   "outputs": [],
   "source": [
    "features_train = data_train.drop(['insurance_payments'], axis=1)"
   ]
  },
  {
   "cell_type": "code",
   "execution_count": 29,
   "metadata": {},
   "outputs": [],
   "source": [
    "target_train = data_train['insurance_payments']"
   ]
  },
  {
   "cell_type": "code",
   "execution_count": 30,
   "metadata": {},
   "outputs": [],
   "source": [
    "features_test = data_test.drop(['insurance_payments'], axis=1)"
   ]
  },
  {
   "cell_type": "code",
   "execution_count": 31,
   "metadata": {},
   "outputs": [],
   "source": [
    "target_test = data_test['insurance_payments']"
   ]
  },
  {
   "cell_type": "markdown",
   "metadata": {},
   "source": [
    "обучим модель линейной регрессии на тренировочной выборке:"
   ]
  },
  {
   "cell_type": "code",
   "execution_count": 32,
   "metadata": {},
   "outputs": [],
   "source": [
    "model=LinearRegression() "
   ]
  },
  {
   "cell_type": "code",
   "execution_count": 33,
   "metadata": {},
   "outputs": [
    {
     "data": {
      "text/plain": [
       "LinearRegression()"
      ]
     },
     "execution_count": 33,
     "metadata": {},
     "output_type": "execute_result"
    }
   ],
   "source": [
    "model.fit(features_train,target_train)"
   ]
  },
  {
   "cell_type": "markdown",
   "metadata": {},
   "source": [
    "получим предсказания модели на тестовой выборке"
   ]
  },
  {
   "cell_type": "code",
   "execution_count": 34,
   "metadata": {},
   "outputs": [],
   "source": [
    "predictions_test = model.predict(features_test)"
   ]
  },
  {
   "cell_type": "code",
   "execution_count": 35,
   "metadata": {},
   "outputs": [
    {
     "data": {
      "text/plain": [
       "0.4254778535754763"
      ]
     },
     "execution_count": 35,
     "metadata": {},
     "output_type": "execute_result"
    }
   ],
   "source": [
    "r2_score(target_test, predictions_test)"
   ]
  },
  {
   "cell_type": "markdown",
   "metadata": {},
   "source": [
    "Теперь обучим модель на преобразованный данных используя матрицу features_matrix_new"
   ]
  },
  {
   "cell_type": "code",
   "execution_count": 36,
   "metadata": {},
   "outputs": [],
   "source": [
    "data_train_new,data_test_new = train_test_split(features_matrix_new, test_size=0.25, random_state=42)"
   ]
  },
  {
   "cell_type": "code",
   "execution_count": 37,
   "metadata": {},
   "outputs": [
    {
     "data": {
      "text/plain": [
       "(3750, 4)"
      ]
     },
     "execution_count": 37,
     "metadata": {},
     "output_type": "execute_result"
    }
   ],
   "source": [
    "data_train_new.shape"
   ]
  },
  {
   "cell_type": "code",
   "execution_count": 38,
   "metadata": {},
   "outputs": [
    {
     "data": {
      "text/plain": [
       "(1250, 4)"
      ]
     },
     "execution_count": 38,
     "metadata": {},
     "output_type": "execute_result"
    }
   ],
   "source": [
    "data_test_new.shape"
   ]
  },
  {
   "cell_type": "code",
   "execution_count": 39,
   "metadata": {},
   "outputs": [],
   "source": [
    "features_train_new, features_test_new, target_train_new, target_test_new = train_test_split(\n",
    "    features_matrix_new, target, train_size=0.75, test_size=0.25, random_state=42)"
   ]
  },
  {
   "cell_type": "code",
   "execution_count": 40,
   "metadata": {},
   "outputs": [],
   "source": [
    "model_new=LinearRegression() "
   ]
  },
  {
   "cell_type": "code",
   "execution_count": 41,
   "metadata": {},
   "outputs": [
    {
     "data": {
      "text/plain": [
       "LinearRegression()"
      ]
     },
     "execution_count": 41,
     "metadata": {},
     "output_type": "execute_result"
    }
   ],
   "source": [
    "model_new.fit(features_train_new,target_train_new)"
   ]
  },
  {
   "cell_type": "code",
   "execution_count": 42,
   "metadata": {},
   "outputs": [],
   "source": [
    "predictions_test_new = model_new.predict(features_test_new)"
   ]
  },
  {
   "cell_type": "code",
   "execution_count": 43,
   "metadata": {},
   "outputs": [
    {
     "data": {
      "text/plain": [
       "0.42547785357548773"
      ]
     },
     "execution_count": 43,
     "metadata": {},
     "output_type": "execute_result"
    }
   ],
   "source": [
    "r2_score(target_test_new, predictions_test_new)"
   ]
  },
  {
   "cell_type": "markdown",
   "metadata": {},
   "source": [
    "Показатель r2 несущественно отличается до и после преобразования"
   ]
  },
  {
   "cell_type": "markdown",
   "metadata": {},
   "source": [
    "<div class=\"alert alert-block alert-success\">\n",
    "<b>Комментарий ревьюера👍:</b> Верно, таким образом в случае домножения матрицы признаков на случайную обратимую матрицу можно обеспечить защиту данных, не особо потеряв в качестве модели. (Незначительное отличие вызвано особенностью преобразования матриц и чисел с плавающей точкой, это норма)\n",
    "</div>\n"
   ]
  },
  {
   "cell_type": "markdown",
   "metadata": {},
   "source": [
    "<div class=\"alert alert-block alert-success\">\n",
    "<b>Комментарий ревьюера👍:</b> Дополнительно можно было бы попробовать декодировать данные обратно\n",
    "</div>"
   ]
  },
  {
   "cell_type": "markdown",
   "metadata": {},
   "source": [
    "## Чек-лист проверки"
   ]
  },
  {
   "cell_type": "markdown",
   "metadata": {},
   "source": [
    "Поставьте 'x' в выполненных пунктах. Далее нажмите Shift+Enter."
   ]
  },
  {
   "cell_type": "markdown",
   "metadata": {},
   "source": [
    "- [x]  Jupyter Notebook открыт\n",
    "- [ ]  Весь код выполняется без ошибок\n",
    "- [ ]  Ячейки с кодом расположены в порядке исполнения\n",
    "- [ ]  Выполнен шаг 1: данные загружены\n",
    "- [ ]  Выполнен шаг 2: получен ответ на вопрос об умножении матриц\n",
    "    - [ ]  Указан правильный вариант ответа\n",
    "    - [ ]  Вариант обоснован\n",
    "- [ ]  Выполнен шаг 3: предложен алгоритм преобразования\n",
    "    - [ ]  Алгоритм описан\n",
    "    - [ ]  Алгоритм обоснован\n",
    "- [ ]  Выполнен шаг 4: алгоритм проверен\n",
    "    - [ ]  Алгоритм реализован\n",
    "    - [ ]  Проведено сравнение качества моделей до и после преобразования"
   ]
  },
  {
   "cell_type": "markdown",
   "metadata": {},
   "source": [
    "<div class=\"alert alert-block alert-danger\">\n",
    "<b>Комментарий ревьюера❌:</b> Спасибо тебе за проделанную работу, к сожалению, сейчас я не могу принять твой проект, поэтому тебе придётся ещё немного поработать, а именно исправить ошибку в доказательстве.\n",
    "    \n",
    "До скорой встречи, если у тебя есть ещё какие-то вопросы или ты хочешь какую-то подборку статей, то обязательно пиши =)\n",
    "</div>"
   ]
  },
  {
   "cell_type": "markdown",
   "metadata": {},
   "source": [
    "<div class=\"alert alert-block alert-success\">\n",
    "<b>Комментарий ревьюера V.2👍:</b> Дополнительный материал:\n",
    "\n",
    "Обзоры по применению криптографии в машинном обучении: https://arxiv.org/pdf/1902.04109.pdf, https://www.researchgate.net/publication/342746786_Some_Applications_of_Machine_Learning_in_Cryptography\n",
    "\n",
    "Небольшой обзор на Шифр Хилла: https://habr.com/ru/post/595281/\n",
    "   \n",
    "Примеры использования линейной алгебры в машинном обучении:\n",
    "https://machinelearningmastery.com/examples-of-linear-algebra-in-machine-learning/\n",
    "    \n",
    "Для чего нужна математика в машинном обучении?\n",
    "https://proglib.io/p/dlya-chego-nuzhen-matematicheskiy-analiz-v-mashinnom-obuchenii-2021-02-15\n",
    "\n",
    "Большая статья по векторам:\n",
    "https://neptune.ai/blog/understanding-vectors-from-a-machine-learning-perspective  \n",
    "\n",
    "Можно ещё дополнительно посмотреть лекции от МФТИ https://www.youtube.com/playlist?list=PLk4h7dmY2eYHHTyfLyrl7HmP-H3mMAW08\n",
    "    \n",
    "Классная серия роликов по линейной алгебре на английском (можно включить автоматические русские субтитры): https://www.youtube.com/playlist?list=PLRDl2inPrWQW1QSWhBU0ki-jq_uElkh2a\n",
    "    \n",
    "Удачи в будущих проектах и работе =)\n",
    "</div>\n"
   ]
  },
  {
   "cell_type": "code",
   "execution_count": null,
   "metadata": {},
   "outputs": [],
   "source": []
  }
 ],
 "metadata": {
  "ExecuteTimeLog": [
   {
    "duration": 399,
    "start_time": "2022-08-05T07:53:59.953Z"
   },
   {
    "duration": 72,
    "start_time": "2022-08-05T07:54:12.723Z"
   },
   {
    "duration": 15,
    "start_time": "2022-08-05T07:54:31.072Z"
   },
   {
    "duration": 2,
    "start_time": "2022-08-05T08:01:40.375Z"
   },
   {
    "duration": 27,
    "start_time": "2022-08-05T08:01:41.386Z"
   },
   {
    "duration": 11,
    "start_time": "2022-08-05T08:02:12.079Z"
   },
   {
    "duration": 6,
    "start_time": "2022-08-05T09:25:02.434Z"
   },
   {
    "duration": 5,
    "start_time": "2022-08-05T09:38:42.626Z"
   },
   {
    "duration": 10,
    "start_time": "2022-08-05T11:51:00.340Z"
   },
   {
    "duration": 5,
    "start_time": "2022-08-05T11:53:04.917Z"
   },
   {
    "duration": 10,
    "start_time": "2022-08-05T11:53:06.108Z"
   },
   {
    "duration": 11,
    "start_time": "2022-08-05T11:53:27.938Z"
   },
   {
    "duration": 4,
    "start_time": "2022-08-05T12:23:26.832Z"
   },
   {
    "duration": 3,
    "start_time": "2022-08-05T12:27:42.029Z"
   },
   {
    "duration": 4,
    "start_time": "2022-08-05T12:27:43.749Z"
   },
   {
    "duration": 11,
    "start_time": "2022-08-05T12:27:55.484Z"
   },
   {
    "duration": 4,
    "start_time": "2022-08-05T12:27:55.865Z"
   },
   {
    "duration": 4,
    "start_time": "2022-08-05T12:27:56.514Z"
   },
   {
    "duration": 6,
    "start_time": "2022-08-05T12:28:56.027Z"
   },
   {
    "duration": 6,
    "start_time": "2022-08-05T12:29:02.515Z"
   },
   {
    "duration": 6,
    "start_time": "2022-08-05T12:36:04.646Z"
   },
   {
    "duration": 7,
    "start_time": "2022-08-05T12:36:37.527Z"
   },
   {
    "duration": 8,
    "start_time": "2022-08-05T12:36:50.683Z"
   },
   {
    "duration": 7,
    "start_time": "2022-08-05T12:36:52.906Z"
   },
   {
    "duration": 5,
    "start_time": "2022-08-05T12:37:22.924Z"
   },
   {
    "duration": 52,
    "start_time": "2022-08-05T13:41:30.377Z"
   },
   {
    "duration": 45,
    "start_time": "2022-08-05T17:06:34.144Z"
   },
   {
    "duration": 4,
    "start_time": "2022-08-05T18:57:24.781Z"
   },
   {
    "duration": 58,
    "start_time": "2022-08-05T18:57:25.765Z"
   },
   {
    "duration": 4,
    "start_time": "2022-08-05T18:57:33.779Z"
   },
   {
    "duration": 3,
    "start_time": "2022-08-05T18:57:34.426Z"
   },
   {
    "duration": 4,
    "start_time": "2022-08-05T18:58:16.144Z"
   },
   {
    "duration": 7,
    "start_time": "2022-08-05T19:01:18.755Z"
   },
   {
    "duration": 6,
    "start_time": "2022-08-05T19:04:57.958Z"
   },
   {
    "duration": 2,
    "start_time": "2022-08-05T19:05:11.321Z"
   },
   {
    "duration": 4,
    "start_time": "2022-08-05T19:05:26.307Z"
   },
   {
    "duration": 2,
    "start_time": "2022-08-05T19:05:29.436Z"
   },
   {
    "duration": 3,
    "start_time": "2022-08-05T19:05:30.632Z"
   },
   {
    "duration": 3,
    "start_time": "2022-08-05T19:05:31.191Z"
   },
   {
    "duration": 4,
    "start_time": "2022-08-05T19:06:01.478Z"
   },
   {
    "duration": 6,
    "start_time": "2022-08-05T19:17:05.260Z"
   },
   {
    "duration": 2,
    "start_time": "2022-08-05T19:17:46.378Z"
   },
   {
    "duration": 4,
    "start_time": "2022-08-05T19:17:51.879Z"
   },
   {
    "duration": 4,
    "start_time": "2022-08-05T19:22:43.918Z"
   },
   {
    "duration": 5,
    "start_time": "2022-08-05T19:22:52.010Z"
   },
   {
    "duration": 7,
    "start_time": "2022-08-05T19:33:25.019Z"
   },
   {
    "duration": 3,
    "start_time": "2022-08-05T19:33:39.460Z"
   },
   {
    "duration": 70,
    "start_time": "2022-08-05T19:33:44.185Z"
   },
   {
    "duration": 6,
    "start_time": "2022-08-05T19:34:35.272Z"
   },
   {
    "duration": 7,
    "start_time": "2022-08-05T19:34:36.245Z"
   },
   {
    "duration": 3,
    "start_time": "2022-08-05T19:34:45.564Z"
   },
   {
    "duration": 5,
    "start_time": "2022-08-05T19:34:49.284Z"
   },
   {
    "duration": 3,
    "start_time": "2022-08-05T19:43:10.214Z"
   },
   {
    "duration": 3,
    "start_time": "2022-08-05T19:43:11.364Z"
   },
   {
    "duration": 4,
    "start_time": "2022-08-05T19:54:54.537Z"
   },
   {
    "duration": 651,
    "start_time": "2022-08-05T20:07:25.687Z"
   },
   {
    "duration": 4,
    "start_time": "2022-08-05T20:07:43.036Z"
   },
   {
    "duration": 5,
    "start_time": "2022-08-05T20:07:52.605Z"
   },
   {
    "duration": 4,
    "start_time": "2022-08-05T20:08:02.416Z"
   },
   {
    "duration": 4,
    "start_time": "2022-08-05T20:12:41.572Z"
   },
   {
    "duration": 2,
    "start_time": "2022-08-05T20:12:41.818Z"
   },
   {
    "duration": 4,
    "start_time": "2022-08-05T20:12:42.350Z"
   },
   {
    "duration": 3,
    "start_time": "2022-08-05T20:12:42.874Z"
   },
   {
    "duration": 3,
    "start_time": "2022-08-05T20:20:19.159Z"
   },
   {
    "duration": 3,
    "start_time": "2022-08-05T20:20:19.358Z"
   },
   {
    "duration": 4,
    "start_time": "2022-08-05T20:20:19.549Z"
   },
   {
    "duration": 3,
    "start_time": "2022-08-05T20:20:20.149Z"
   },
   {
    "duration": 4,
    "start_time": "2022-08-05T20:33:38.296Z"
   },
   {
    "duration": 3,
    "start_time": "2022-08-05T20:33:38.481Z"
   },
   {
    "duration": 3,
    "start_time": "2022-08-05T20:33:38.655Z"
   },
   {
    "duration": 2,
    "start_time": "2022-08-05T20:33:38.828Z"
   },
   {
    "duration": 38,
    "start_time": "2022-08-05T20:33:39.734Z"
   },
   {
    "duration": 20,
    "start_time": "2022-08-05T20:33:58.917Z"
   },
   {
    "duration": 2,
    "start_time": "2022-08-05T20:34:05.371Z"
   },
   {
    "duration": 8,
    "start_time": "2022-08-05T20:34:06.718Z"
   },
   {
    "duration": 4,
    "start_time": "2022-08-05T20:36:28.340Z"
   },
   {
    "duration": 3,
    "start_time": "2022-08-05T20:37:36.384Z"
   },
   {
    "duration": 9,
    "start_time": "2022-08-05T20:37:48.454Z"
   },
   {
    "duration": 8,
    "start_time": "2022-08-05T20:38:41.168Z"
   },
   {
    "duration": 4,
    "start_time": "2022-08-05T20:38:47.055Z"
   },
   {
    "duration": 5,
    "start_time": "2022-08-05T20:38:47.262Z"
   },
   {
    "duration": 3,
    "start_time": "2022-08-05T20:44:20.818Z"
   },
   {
    "duration": 5,
    "start_time": "2022-08-05T20:44:25.280Z"
   },
   {
    "duration": 4,
    "start_time": "2022-08-05T20:48:04.872Z"
   },
   {
    "duration": 3,
    "start_time": "2022-08-05T20:52:10.023Z"
   },
   {
    "duration": 3,
    "start_time": "2022-08-05T20:54:31.809Z"
   },
   {
    "duration": 8,
    "start_time": "2022-08-05T20:54:32.165Z"
   },
   {
    "duration": 10,
    "start_time": "2022-08-05T20:58:59.532Z"
   },
   {
    "duration": 11,
    "start_time": "2022-08-05T20:59:51.391Z"
   },
   {
    "duration": 8,
    "start_time": "2022-08-05T21:02:44.665Z"
   },
   {
    "duration": 5,
    "start_time": "2022-08-05T21:03:22.177Z"
   },
   {
    "duration": 3,
    "start_time": "2022-08-05T21:03:31.462Z"
   },
   {
    "duration": 4,
    "start_time": "2022-08-05T21:03:31.908Z"
   },
   {
    "duration": 4,
    "start_time": "2022-08-05T21:03:32.416Z"
   },
   {
    "duration": 11,
    "start_time": "2022-08-05T21:03:33.310Z"
   },
   {
    "duration": 4,
    "start_time": "2022-08-05T21:06:45.846Z"
   },
   {
    "duration": 4,
    "start_time": "2022-08-05T21:09:40.011Z"
   },
   {
    "duration": 3,
    "start_time": "2022-08-05T21:10:49.252Z"
   },
   {
    "duration": 37,
    "start_time": "2022-08-05T21:10:49.257Z"
   },
   {
    "duration": 9,
    "start_time": "2022-08-05T21:10:49.296Z"
   },
   {
    "duration": 9,
    "start_time": "2022-08-05T21:10:49.405Z"
   },
   {
    "duration": 5,
    "start_time": "2022-08-05T21:10:49.510Z"
   },
   {
    "duration": 4,
    "start_time": "2022-08-05T21:10:49.612Z"
   },
   {
    "duration": 14,
    "start_time": "2022-08-05T21:10:49.617Z"
   },
   {
    "duration": 3,
    "start_time": "2022-08-05T21:10:49.633Z"
   },
   {
    "duration": 6,
    "start_time": "2022-08-05T21:10:49.637Z"
   },
   {
    "duration": 6,
    "start_time": "2022-08-05T21:10:49.724Z"
   },
   {
    "duration": 7,
    "start_time": "2022-08-05T21:10:49.731Z"
   },
   {
    "duration": 5,
    "start_time": "2022-08-05T21:10:49.740Z"
   },
   {
    "duration": 4,
    "start_time": "2022-08-05T21:10:49.747Z"
   },
   {
    "duration": 6,
    "start_time": "2022-08-05T21:10:49.752Z"
   },
   {
    "duration": 4,
    "start_time": "2022-08-05T21:10:50.277Z"
   },
   {
    "duration": 9,
    "start_time": "2022-08-05T21:10:50.283Z"
   },
   {
    "duration": 3,
    "start_time": "2022-08-05T21:10:50.406Z"
   },
   {
    "duration": 6,
    "start_time": "2022-08-05T21:10:50.410Z"
   },
   {
    "duration": 5,
    "start_time": "2022-08-05T21:10:50.418Z"
   },
   {
    "duration": 6,
    "start_time": "2022-08-05T21:10:50.424Z"
   },
   {
    "duration": 8,
    "start_time": "2022-08-05T21:10:50.432Z"
   },
   {
    "duration": 4,
    "start_time": "2022-08-05T21:10:50.615Z"
   },
   {
    "duration": 6,
    "start_time": "2022-08-05T21:10:50.621Z"
   },
   {
    "duration": 6,
    "start_time": "2022-08-05T21:10:50.629Z"
   },
   {
    "duration": 6,
    "start_time": "2022-08-05T21:10:50.636Z"
   },
   {
    "duration": 6,
    "start_time": "2022-08-05T21:10:50.643Z"
   },
   {
    "duration": 5,
    "start_time": "2022-08-05T21:10:50.650Z"
   },
   {
    "duration": 9,
    "start_time": "2022-08-05T21:10:50.657Z"
   },
   {
    "duration": 7,
    "start_time": "2022-08-05T21:10:50.668Z"
   },
   {
    "duration": 7,
    "start_time": "2022-08-05T21:10:50.677Z"
   },
   {
    "duration": 10,
    "start_time": "2022-08-05T21:10:50.685Z"
   },
   {
    "duration": 12,
    "start_time": "2022-08-05T21:10:50.696Z"
   },
   {
    "duration": 5,
    "start_time": "2022-08-05T21:10:50.710Z"
   },
   {
    "duration": 3,
    "start_time": "2022-08-05T21:10:50.752Z"
   },
   {
    "duration": 5,
    "start_time": "2022-08-05T21:10:50.757Z"
   },
   {
    "duration": 6,
    "start_time": "2022-08-05T21:10:50.763Z"
   },
   {
    "duration": 10,
    "start_time": "2022-08-05T21:10:50.770Z"
   },
   {
    "duration": 4,
    "start_time": "2022-08-05T21:10:50.781Z"
   },
   {
    "duration": 7,
    "start_time": "2022-08-05T21:10:50.786Z"
   },
   {
    "duration": 5,
    "start_time": "2022-08-05T21:10:50.795Z"
   },
   {
    "duration": 6,
    "start_time": "2022-08-05T21:10:50.801Z"
   },
   {
    "duration": 16,
    "start_time": "2022-08-05T21:14:55.159Z"
   },
   {
    "duration": 5,
    "start_time": "2022-08-05T21:14:59.671Z"
   },
   {
    "duration": 3,
    "start_time": "2022-08-05T21:15:01.203Z"
   },
   {
    "duration": 6,
    "start_time": "2022-08-05T21:15:01.638Z"
   },
   {
    "duration": 4,
    "start_time": "2022-08-05T21:15:02.143Z"
   },
   {
    "duration": 5,
    "start_time": "2022-08-05T21:15:02.568Z"
   },
   {
    "duration": 3,
    "start_time": "2022-08-05T21:21:37.129Z"
   },
   {
    "duration": 31,
    "start_time": "2022-08-05T21:21:37.134Z"
   },
   {
    "duration": 11,
    "start_time": "2022-08-05T21:21:37.167Z"
   },
   {
    "duration": 11,
    "start_time": "2022-08-05T21:21:37.179Z"
   },
   {
    "duration": 5,
    "start_time": "2022-08-05T21:21:37.193Z"
   },
   {
    "duration": 6,
    "start_time": "2022-08-05T21:21:37.199Z"
   },
   {
    "duration": 13,
    "start_time": "2022-08-05T21:21:37.206Z"
   },
   {
    "duration": 9,
    "start_time": "2022-08-05T21:21:37.220Z"
   },
   {
    "duration": 29,
    "start_time": "2022-08-05T21:21:37.231Z"
   },
   {
    "duration": 20,
    "start_time": "2022-08-05T21:21:37.261Z"
   },
   {
    "duration": 10,
    "start_time": "2022-08-05T21:21:37.282Z"
   },
   {
    "duration": 10,
    "start_time": "2022-08-05T21:21:37.294Z"
   },
   {
    "duration": 7,
    "start_time": "2022-08-05T21:21:37.305Z"
   },
   {
    "duration": 5,
    "start_time": "2022-08-05T21:21:37.316Z"
   },
   {
    "duration": 5,
    "start_time": "2022-08-05T21:21:37.322Z"
   },
   {
    "duration": 4,
    "start_time": "2022-08-05T21:21:37.328Z"
   },
   {
    "duration": 5,
    "start_time": "2022-08-05T21:21:37.333Z"
   },
   {
    "duration": 21,
    "start_time": "2022-08-05T21:21:37.339Z"
   },
   {
    "duration": 6,
    "start_time": "2022-08-05T21:21:37.361Z"
   },
   {
    "duration": 4,
    "start_time": "2022-08-05T21:21:37.368Z"
   },
   {
    "duration": 8,
    "start_time": "2022-08-05T21:21:37.374Z"
   },
   {
    "duration": 75,
    "start_time": "2022-08-05T21:21:37.384Z"
   },
   {
    "duration": 5,
    "start_time": "2022-08-05T21:21:37.460Z"
   },
   {
    "duration": 6,
    "start_time": "2022-08-05T21:21:37.466Z"
   },
   {
    "duration": 86,
    "start_time": "2022-08-05T21:21:37.473Z"
   },
   {
    "duration": 8,
    "start_time": "2022-08-05T21:21:37.561Z"
   },
   {
    "duration": 5,
    "start_time": "2022-08-05T21:21:37.570Z"
   },
   {
    "duration": 8,
    "start_time": "2022-08-05T21:21:37.576Z"
   },
   {
    "duration": 10,
    "start_time": "2022-08-05T21:21:37.585Z"
   },
   {
    "duration": 7,
    "start_time": "2022-08-05T21:21:37.596Z"
   },
   {
    "duration": 8,
    "start_time": "2022-08-05T21:21:37.605Z"
   },
   {
    "duration": 9,
    "start_time": "2022-08-05T21:21:37.614Z"
   },
   {
    "duration": 10,
    "start_time": "2022-08-05T21:21:37.624Z"
   },
   {
    "duration": 12,
    "start_time": "2022-08-05T21:21:37.635Z"
   },
   {
    "duration": 6,
    "start_time": "2022-08-05T21:21:37.648Z"
   },
   {
    "duration": 10,
    "start_time": "2022-08-05T21:21:37.656Z"
   },
   {
    "duration": 5,
    "start_time": "2022-08-05T21:21:37.667Z"
   },
   {
    "duration": 4,
    "start_time": "2022-08-05T21:21:37.674Z"
   },
   {
    "duration": 8,
    "start_time": "2022-08-05T21:21:37.679Z"
   },
   {
    "duration": 4,
    "start_time": "2022-08-05T21:21:37.688Z"
   },
   {
    "duration": 9,
    "start_time": "2022-08-05T21:21:37.695Z"
   },
   {
    "duration": 3,
    "start_time": "2022-08-05T21:50:10.272Z"
   },
   {
    "duration": 28,
    "start_time": "2022-08-05T21:50:10.277Z"
   },
   {
    "duration": 9,
    "start_time": "2022-08-05T21:50:10.306Z"
   },
   {
    "duration": 10,
    "start_time": "2022-08-05T21:50:10.317Z"
   },
   {
    "duration": 5,
    "start_time": "2022-08-05T21:50:10.328Z"
   },
   {
    "duration": 4,
    "start_time": "2022-08-05T21:50:10.334Z"
   },
   {
    "duration": 10,
    "start_time": "2022-08-05T21:50:10.339Z"
   },
   {
    "duration": 8,
    "start_time": "2022-08-05T21:50:10.350Z"
   },
   {
    "duration": 4,
    "start_time": "2022-08-05T21:50:10.360Z"
   },
   {
    "duration": 8,
    "start_time": "2022-08-05T21:50:10.365Z"
   },
   {
    "duration": 9,
    "start_time": "2022-08-05T21:50:10.374Z"
   },
   {
    "duration": 7,
    "start_time": "2022-08-05T21:50:10.385Z"
   },
   {
    "duration": 6,
    "start_time": "2022-08-05T21:50:10.394Z"
   },
   {
    "duration": 6,
    "start_time": "2022-08-05T21:50:10.401Z"
   },
   {
    "duration": 4,
    "start_time": "2022-08-05T21:50:10.409Z"
   },
   {
    "duration": 6,
    "start_time": "2022-08-05T21:50:10.414Z"
   },
   {
    "duration": 5,
    "start_time": "2022-08-05T21:50:10.421Z"
   },
   {
    "duration": 4,
    "start_time": "2022-08-05T21:50:10.458Z"
   },
   {
    "duration": 6,
    "start_time": "2022-08-05T21:50:10.463Z"
   },
   {
    "duration": 4,
    "start_time": "2022-08-05T21:50:10.470Z"
   },
   {
    "duration": 6,
    "start_time": "2022-08-05T21:50:10.476Z"
   },
   {
    "duration": 74,
    "start_time": "2022-08-05T21:50:10.484Z"
   },
   {
    "duration": 5,
    "start_time": "2022-08-05T21:50:10.560Z"
   },
   {
    "duration": 90,
    "start_time": "2022-08-05T21:50:10.569Z"
   },
   {
    "duration": 9,
    "start_time": "2022-08-05T21:50:10.660Z"
   },
   {
    "duration": 6,
    "start_time": "2022-08-05T21:50:10.671Z"
   },
   {
    "duration": 6,
    "start_time": "2022-08-05T21:50:10.678Z"
   },
   {
    "duration": 5,
    "start_time": "2022-08-05T21:50:10.685Z"
   },
   {
    "duration": 9,
    "start_time": "2022-08-05T21:50:10.691Z"
   },
   {
    "duration": 4,
    "start_time": "2022-08-05T21:50:10.701Z"
   },
   {
    "duration": 8,
    "start_time": "2022-08-05T21:50:10.706Z"
   },
   {
    "duration": 5,
    "start_time": "2022-08-05T21:50:10.715Z"
   },
   {
    "duration": 6,
    "start_time": "2022-08-05T21:50:10.721Z"
   },
   {
    "duration": 5,
    "start_time": "2022-08-05T21:50:10.728Z"
   },
   {
    "duration": 23,
    "start_time": "2022-08-05T21:50:10.734Z"
   },
   {
    "duration": 3,
    "start_time": "2022-08-05T21:50:10.759Z"
   },
   {
    "duration": 5,
    "start_time": "2022-08-05T21:50:10.763Z"
   },
   {
    "duration": 4,
    "start_time": "2022-08-05T21:50:10.769Z"
   },
   {
    "duration": 7,
    "start_time": "2022-08-05T21:50:10.774Z"
   },
   {
    "duration": 2,
    "start_time": "2022-08-05T21:50:10.783Z"
   },
   {
    "duration": 6,
    "start_time": "2022-08-05T21:50:10.786Z"
   },
   {
    "duration": 3,
    "start_time": "2022-08-05T21:52:19.787Z"
   },
   {
    "duration": 30,
    "start_time": "2022-08-05T21:52:19.793Z"
   },
   {
    "duration": 8,
    "start_time": "2022-08-05T21:52:19.825Z"
   },
   {
    "duration": 10,
    "start_time": "2022-08-05T21:52:19.835Z"
   },
   {
    "duration": 4,
    "start_time": "2022-08-05T21:52:19.847Z"
   },
   {
    "duration": 3,
    "start_time": "2022-08-05T21:52:19.853Z"
   },
   {
    "duration": 11,
    "start_time": "2022-08-05T21:52:19.857Z"
   },
   {
    "duration": 3,
    "start_time": "2022-08-05T21:52:19.870Z"
   },
   {
    "duration": 5,
    "start_time": "2022-08-05T21:52:19.874Z"
   },
   {
    "duration": 7,
    "start_time": "2022-08-05T21:52:19.882Z"
   },
   {
    "duration": 4,
    "start_time": "2022-08-05T21:52:19.891Z"
   },
   {
    "duration": 8,
    "start_time": "2022-08-05T21:52:19.896Z"
   },
   {
    "duration": 4,
    "start_time": "2022-08-05T21:52:19.905Z"
   },
   {
    "duration": 6,
    "start_time": "2022-08-05T21:52:19.910Z"
   },
   {
    "duration": 5,
    "start_time": "2022-08-05T21:52:19.917Z"
   },
   {
    "duration": 35,
    "start_time": "2022-08-05T21:52:19.923Z"
   },
   {
    "duration": 5,
    "start_time": "2022-08-05T21:52:19.959Z"
   },
   {
    "duration": 9,
    "start_time": "2022-08-05T21:52:19.965Z"
   },
   {
    "duration": 5,
    "start_time": "2022-08-05T21:52:19.976Z"
   },
   {
    "duration": 4,
    "start_time": "2022-08-05T21:52:19.982Z"
   },
   {
    "duration": 70,
    "start_time": "2022-08-05T21:52:19.988Z"
   },
   {
    "duration": 6,
    "start_time": "2022-08-05T21:52:20.059Z"
   },
   {
    "duration": 11,
    "start_time": "2022-08-05T21:52:20.066Z"
   },
   {
    "duration": 3,
    "start_time": "2022-08-05T21:52:20.158Z"
   },
   {
    "duration": 8,
    "start_time": "2022-08-05T21:52:20.163Z"
   },
   {
    "duration": 13,
    "start_time": "2022-08-05T21:52:20.172Z"
   },
   {
    "duration": 15,
    "start_time": "2022-08-05T21:52:20.187Z"
   },
   {
    "duration": 7,
    "start_time": "2022-08-05T21:52:20.204Z"
   },
   {
    "duration": 6,
    "start_time": "2022-08-05T21:52:20.212Z"
   },
   {
    "duration": 8,
    "start_time": "2022-08-05T21:52:20.219Z"
   },
   {
    "duration": 10,
    "start_time": "2022-08-05T21:52:20.228Z"
   },
   {
    "duration": 5,
    "start_time": "2022-08-05T21:52:20.239Z"
   },
   {
    "duration": 8,
    "start_time": "2022-08-05T21:52:20.246Z"
   },
   {
    "duration": 5,
    "start_time": "2022-08-05T21:52:20.255Z"
   },
   {
    "duration": 5,
    "start_time": "2022-08-05T21:52:20.261Z"
   },
   {
    "duration": 5,
    "start_time": "2022-08-05T21:52:20.268Z"
   },
   {
    "duration": 10,
    "start_time": "2022-08-05T21:52:20.274Z"
   },
   {
    "duration": 4,
    "start_time": "2022-08-05T21:52:20.286Z"
   },
   {
    "duration": 13,
    "start_time": "2022-08-05T21:52:20.291Z"
   },
   {
    "duration": 5,
    "start_time": "2022-08-05T21:52:20.305Z"
   },
   {
    "duration": 17,
    "start_time": "2022-08-05T21:52:20.312Z"
   },
   {
    "duration": 3,
    "start_time": "2022-08-05T21:54:36.838Z"
   },
   {
    "duration": 29,
    "start_time": "2022-08-05T21:54:36.843Z"
   },
   {
    "duration": 9,
    "start_time": "2022-08-05T21:54:36.874Z"
   },
   {
    "duration": 12,
    "start_time": "2022-08-05T21:54:36.885Z"
   },
   {
    "duration": 7,
    "start_time": "2022-08-05T21:54:36.899Z"
   },
   {
    "duration": 5,
    "start_time": "2022-08-05T21:54:36.908Z"
   },
   {
    "duration": 11,
    "start_time": "2022-08-05T21:54:36.914Z"
   },
   {
    "duration": 33,
    "start_time": "2022-08-05T21:54:36.927Z"
   },
   {
    "duration": 7,
    "start_time": "2022-08-05T21:54:36.962Z"
   },
   {
    "duration": 12,
    "start_time": "2022-08-05T21:54:36.970Z"
   },
   {
    "duration": 8,
    "start_time": "2022-08-05T21:54:36.984Z"
   },
   {
    "duration": 6,
    "start_time": "2022-08-05T21:54:36.994Z"
   },
   {
    "duration": 6,
    "start_time": "2022-08-05T21:54:37.003Z"
   },
   {
    "duration": 6,
    "start_time": "2022-08-05T21:54:37.010Z"
   },
   {
    "duration": 8,
    "start_time": "2022-08-05T21:54:37.017Z"
   },
   {
    "duration": 30,
    "start_time": "2022-08-05T21:54:37.027Z"
   },
   {
    "duration": 9,
    "start_time": "2022-08-05T21:54:37.059Z"
   },
   {
    "duration": 6,
    "start_time": "2022-08-05T21:54:37.070Z"
   },
   {
    "duration": 11,
    "start_time": "2022-08-05T21:54:37.078Z"
   },
   {
    "duration": 5,
    "start_time": "2022-08-05T21:54:37.091Z"
   },
   {
    "duration": 8,
    "start_time": "2022-08-05T21:54:37.098Z"
   },
   {
    "duration": 55,
    "start_time": "2022-08-05T21:54:37.107Z"
   },
   {
    "duration": 7,
    "start_time": "2022-08-05T21:54:37.163Z"
   },
   {
    "duration": 86,
    "start_time": "2022-08-05T21:54:37.171Z"
   },
   {
    "duration": 4,
    "start_time": "2022-08-05T21:54:37.259Z"
   },
   {
    "duration": 6,
    "start_time": "2022-08-05T21:54:37.264Z"
   },
   {
    "duration": 12,
    "start_time": "2022-08-05T21:54:37.272Z"
   },
   {
    "duration": 6,
    "start_time": "2022-08-05T21:54:37.286Z"
   },
   {
    "duration": 6,
    "start_time": "2022-08-05T21:54:37.293Z"
   },
   {
    "duration": 6,
    "start_time": "2022-08-05T21:54:37.300Z"
   },
   {
    "duration": 9,
    "start_time": "2022-08-05T21:54:37.308Z"
   },
   {
    "duration": 4,
    "start_time": "2022-08-05T21:54:37.318Z"
   },
   {
    "duration": 7,
    "start_time": "2022-08-05T21:54:37.323Z"
   },
   {
    "duration": 3,
    "start_time": "2022-08-05T21:54:37.333Z"
   },
   {
    "duration": 20,
    "start_time": "2022-08-05T21:54:37.337Z"
   },
   {
    "duration": 3,
    "start_time": "2022-08-05T21:54:37.359Z"
   },
   {
    "duration": 9,
    "start_time": "2022-08-05T21:54:37.363Z"
   },
   {
    "duration": 4,
    "start_time": "2022-08-05T21:54:37.374Z"
   },
   {
    "duration": 9,
    "start_time": "2022-08-05T21:54:37.379Z"
   },
   {
    "duration": 6,
    "start_time": "2022-08-05T21:54:37.389Z"
   },
   {
    "duration": 6,
    "start_time": "2022-08-05T21:54:37.397Z"
   },
   {
    "duration": 3,
    "start_time": "2022-08-05T21:55:38.993Z"
   },
   {
    "duration": 29,
    "start_time": "2022-08-05T21:55:38.997Z"
   },
   {
    "duration": 9,
    "start_time": "2022-08-05T21:55:39.027Z"
   },
   {
    "duration": 13,
    "start_time": "2022-08-05T21:55:39.038Z"
   },
   {
    "duration": 4,
    "start_time": "2022-08-05T21:55:39.053Z"
   },
   {
    "duration": 4,
    "start_time": "2022-08-05T21:55:39.058Z"
   },
   {
    "duration": 14,
    "start_time": "2022-08-05T21:55:39.063Z"
   },
   {
    "duration": 5,
    "start_time": "2022-08-05T21:55:39.078Z"
   },
   {
    "duration": 7,
    "start_time": "2022-08-05T21:55:39.084Z"
   },
   {
    "duration": 5,
    "start_time": "2022-08-05T21:55:39.092Z"
   },
   {
    "duration": 4,
    "start_time": "2022-08-05T21:55:39.099Z"
   },
   {
    "duration": 7,
    "start_time": "2022-08-05T21:55:39.104Z"
   },
   {
    "duration": 6,
    "start_time": "2022-08-05T21:55:39.112Z"
   },
   {
    "duration": 5,
    "start_time": "2022-08-05T21:55:39.120Z"
   },
   {
    "duration": 6,
    "start_time": "2022-08-05T21:55:39.126Z"
   },
   {
    "duration": 4,
    "start_time": "2022-08-05T21:55:39.156Z"
   },
   {
    "duration": 10,
    "start_time": "2022-08-05T21:55:39.161Z"
   },
   {
    "duration": 6,
    "start_time": "2022-08-05T21:55:39.173Z"
   },
   {
    "duration": 5,
    "start_time": "2022-08-05T21:55:39.181Z"
   },
   {
    "duration": 6,
    "start_time": "2022-08-05T21:55:39.187Z"
   },
   {
    "duration": 10,
    "start_time": "2022-08-05T21:55:39.194Z"
   },
   {
    "duration": 60,
    "start_time": "2022-08-05T21:55:39.206Z"
   },
   {
    "duration": 5,
    "start_time": "2022-08-05T21:55:39.268Z"
   },
   {
    "duration": 83,
    "start_time": "2022-08-05T21:55:39.275Z"
   },
   {
    "duration": 4,
    "start_time": "2022-08-05T21:55:39.359Z"
   },
   {
    "duration": 7,
    "start_time": "2022-08-05T21:55:39.365Z"
   },
   {
    "duration": 8,
    "start_time": "2022-08-05T21:55:39.374Z"
   },
   {
    "duration": 7,
    "start_time": "2022-08-05T21:55:39.383Z"
   },
   {
    "duration": 4,
    "start_time": "2022-08-05T21:55:39.391Z"
   },
   {
    "duration": 5,
    "start_time": "2022-08-05T21:55:39.397Z"
   },
   {
    "duration": 8,
    "start_time": "2022-08-05T21:55:39.403Z"
   },
   {
    "duration": 5,
    "start_time": "2022-08-05T21:55:39.413Z"
   },
   {
    "duration": 8,
    "start_time": "2022-08-05T21:55:39.419Z"
   },
   {
    "duration": 30,
    "start_time": "2022-08-05T21:55:39.429Z"
   },
   {
    "duration": 6,
    "start_time": "2022-08-05T21:55:39.460Z"
   },
   {
    "duration": 10,
    "start_time": "2022-08-05T21:55:39.467Z"
   },
   {
    "duration": 6,
    "start_time": "2022-08-05T21:55:39.478Z"
   },
   {
    "duration": 7,
    "start_time": "2022-08-05T21:55:39.485Z"
   },
   {
    "duration": 8,
    "start_time": "2022-08-05T21:55:39.494Z"
   },
   {
    "duration": 7,
    "start_time": "2022-08-05T21:55:39.504Z"
   },
   {
    "duration": 5,
    "start_time": "2022-08-05T21:55:39.515Z"
   },
   {
    "duration": 82,
    "start_time": "2022-08-07T09:15:25.542Z"
   },
   {
    "duration": 9,
    "start_time": "2022-08-07T09:15:49.056Z"
   },
   {
    "duration": 1151,
    "start_time": "2022-08-07T09:16:10.115Z"
   },
   {
    "duration": 88,
    "start_time": "2022-08-07T09:16:11.268Z"
   },
   {
    "duration": 12,
    "start_time": "2022-08-07T09:16:11.358Z"
   },
   {
    "duration": 10,
    "start_time": "2022-08-07T09:16:11.372Z"
   },
   {
    "duration": 8,
    "start_time": "2022-08-07T09:16:11.384Z"
   },
   {
    "duration": 5,
    "start_time": "2022-08-07T09:16:11.393Z"
   },
   {
    "duration": 13,
    "start_time": "2022-08-07T09:16:11.400Z"
   },
   {
    "duration": 4,
    "start_time": "2022-08-07T09:16:11.415Z"
   },
   {
    "duration": 7,
    "start_time": "2022-08-07T09:16:11.420Z"
   },
   {
    "duration": 9,
    "start_time": "2022-08-07T09:16:11.429Z"
   },
   {
    "duration": 6,
    "start_time": "2022-08-07T09:16:11.468Z"
   },
   {
    "duration": 9,
    "start_time": "2022-08-07T09:16:11.475Z"
   },
   {
    "duration": 7,
    "start_time": "2022-08-07T09:16:11.485Z"
   },
   {
    "duration": 24,
    "start_time": "2022-08-07T09:16:11.494Z"
   },
   {
    "duration": 11,
    "start_time": "2022-08-07T09:16:11.519Z"
   },
   {
    "duration": 4,
    "start_time": "2022-08-07T09:16:11.532Z"
   },
   {
    "duration": 5,
    "start_time": "2022-08-07T09:16:11.538Z"
   },
   {
    "duration": 7,
    "start_time": "2022-08-07T09:16:11.545Z"
   },
   {
    "duration": 16,
    "start_time": "2022-08-07T09:16:11.554Z"
   },
   {
    "duration": 6,
    "start_time": "2022-08-07T09:16:11.571Z"
   },
   {
    "duration": 7,
    "start_time": "2022-08-07T09:16:11.579Z"
   },
   {
    "duration": 82,
    "start_time": "2022-08-07T09:16:11.587Z"
   },
   {
    "duration": 5,
    "start_time": "2022-08-07T09:16:11.671Z"
   },
   {
    "duration": 9,
    "start_time": "2022-08-07T09:16:11.678Z"
   },
   {
    "duration": 4,
    "start_time": "2022-08-07T09:16:11.768Z"
   },
   {
    "duration": 7,
    "start_time": "2022-08-07T09:16:11.773Z"
   },
   {
    "duration": 7,
    "start_time": "2022-08-07T09:16:11.782Z"
   },
   {
    "duration": 10,
    "start_time": "2022-08-07T09:16:11.792Z"
   },
   {
    "duration": 5,
    "start_time": "2022-08-07T09:16:11.804Z"
   },
   {
    "duration": 5,
    "start_time": "2022-08-07T09:16:11.810Z"
   },
   {
    "duration": 10,
    "start_time": "2022-08-07T09:16:11.816Z"
   },
   {
    "duration": 5,
    "start_time": "2022-08-07T09:16:11.827Z"
   },
   {
    "duration": 7,
    "start_time": "2022-08-07T09:16:11.834Z"
   },
   {
    "duration": 27,
    "start_time": "2022-08-07T09:16:11.842Z"
   },
   {
    "duration": 4,
    "start_time": "2022-08-07T09:16:11.870Z"
   },
   {
    "duration": 7,
    "start_time": "2022-08-07T09:16:11.875Z"
   },
   {
    "duration": 6,
    "start_time": "2022-08-07T09:16:11.884Z"
   },
   {
    "duration": 3,
    "start_time": "2022-08-07T09:16:11.891Z"
   },
   {
    "duration": 13,
    "start_time": "2022-08-07T09:16:11.896Z"
   },
   {
    "duration": 12,
    "start_time": "2022-08-07T09:16:11.911Z"
   },
   {
    "duration": 6,
    "start_time": "2022-08-07T09:16:11.925Z"
   }
  ],
  "kernelspec": {
   "display_name": "Python 3 (ipykernel)",
   "language": "python",
   "name": "python3"
  },
  "language_info": {
   "codemirror_mode": {
    "name": "ipython",
    "version": 3
   },
   "file_extension": ".py",
   "mimetype": "text/x-python",
   "name": "python",
   "nbconvert_exporter": "python",
   "pygments_lexer": "ipython3",
   "version": "3.9.5"
  },
  "toc": {
   "base_numbering": 1,
   "nav_menu": {},
   "number_sections": true,
   "sideBar": true,
   "skip_h1_title": true,
   "title_cell": "Содержание",
   "title_sidebar": "Contents",
   "toc_cell": true,
   "toc_position": {},
   "toc_section_display": true,
   "toc_window_display": true
  }
 },
 "nbformat": 4,
 "nbformat_minor": 2
}
