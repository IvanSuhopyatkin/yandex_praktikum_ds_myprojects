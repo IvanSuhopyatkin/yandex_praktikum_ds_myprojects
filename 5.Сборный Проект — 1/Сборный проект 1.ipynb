{
 "cells": [
  {
   "cell_type": "markdown",
   "metadata": {},
   "source": [
    "<h1>Содержание<span class=\"tocSkip\"></span></h1>\n",
    "<div class=\"toc\"><ul class=\"toc-item\"><li><span><a href=\"#Описание\" data-toc-modified-id=\"Описание-1\"><span class=\"toc-item-num\">1&nbsp;&nbsp;</span>Описание</a></span></li><li><span><a href=\"#Открытие-файла-и-изучение-общей-информации\" data-toc-modified-id=\"Открытие-файла-и-изучение-общей-информации-2\"><span class=\"toc-item-num\">2&nbsp;&nbsp;</span>Открытие файла и изучение общей информации</a></span></li><li><span><a href=\"#Предобработка-данных\" data-toc-modified-id=\"Предобработка-данных-3\"><span class=\"toc-item-num\">3&nbsp;&nbsp;</span>Предобработка данных</a></span><ul class=\"toc-item\"><li><span><a href=\"#Замена-названий-столбцов\" data-toc-modified-id=\"Замена-названий-столбцов-3.1\"><span class=\"toc-item-num\">3.1&nbsp;&nbsp;</span>Замена названий столбцов</a></span></li><li><span><a href=\"#Обработка-пропусков-значений\" data-toc-modified-id=\"Обработка-пропусков-значений-3.2\"><span class=\"toc-item-num\">3.2&nbsp;&nbsp;</span>Обработка пропусков значений</a></span></li><li><span><a href=\"#Поиск-дубилкатов\" data-toc-modified-id=\"Поиск-дубилкатов-3.3\"><span class=\"toc-item-num\">3.3&nbsp;&nbsp;</span>Поиск дубилкатов</a></span></li></ul></li><li><span><a href=\"#Исследовательский-анализ-данных\" data-toc-modified-id=\"Исследовательский-анализ-данных-4\"><span class=\"toc-item-num\">4&nbsp;&nbsp;</span>Исследовательский анализ данных</a></span></li><li><span><a href=\"#Портрет-пользователя-каждого-региона\" data-toc-modified-id=\"Портрет-пользователя-каждого-региона-5\"><span class=\"toc-item-num\">5&nbsp;&nbsp;</span>Портрет пользователя каждого региона</a></span></li><li><span><a href=\"#Проверка-гипотез\" data-toc-modified-id=\"Проверка-гипотез-6\"><span class=\"toc-item-num\">6&nbsp;&nbsp;</span>Проверка гипотез</a></span></li><li><span><a href=\"#Общий-вывод\" data-toc-modified-id=\"Общий-вывод-7\"><span class=\"toc-item-num\">7&nbsp;&nbsp;</span>Общий вывод</a></span></li></ul></div>"
   ]
  },
  {
   "cell_type": "markdown",
   "metadata": {
    "id": "j6bhSwMFP1z1"
   },
   "source": [
    "## Описание\n"
   ]
  },
  {
   "cell_type": "markdown",
   "metadata": {
    "id": "O_Cyk9rpQDh2"
   },
   "source": [
    "В нашем распоряжении данные о продажах компьютерных игр интернет-магазина «Стримчик» за 2016 год. Наша задача проанализировать данные и выявить определяющие успешность игры закономерности, чтобы спланировать рекламные кампании. \n",
    "\n",
    "описание данных:\n",
    "\n",
    "* Name — название игры\n",
    "\n",
    "* Platform — платформа\n",
    "\n",
    "* Year_of_Release — год выпуска\n",
    "\n",
    "* Genre — жанр игры\n",
    "\n",
    "* NA_sales — продажи в Северной Америке (миллионы проданных копий)\n",
    "\n",
    "* EU_sales — продажи в Европе (миллионы проданных копий)\n",
    "\n",
    "* JP_sales — продажи в Японии (миллионы проданных копий)\n",
    "\n",
    "* Other_sales — продажи в других странах (миллионы проданных копий)\n",
    "\n",
    "* Critic_Score — оценка критиков (максимум 100)\n",
    "\n",
    "* User_Score — оценка пользователей (максимум 10)\n",
    "\n",
    "* Rating — рейтинг от организации ESRB (англ. Entertainment Software Rating Board). Эта ассоциация определяет рейтинг \n",
    "компьютерных игр и присваивает им подходящую возрастную категорию.\n"
   ]
  },
  {
   "cell_type": "markdown",
   "metadata": {},
   "source": [
    "## Открытие файла и изучение общей информации"
   ]
  },
  {
   "cell_type": "markdown",
   "metadata": {},
   "source": [
    "Для начала импортируем необходимые библиотеки и проверим что данные выгружаются без ошибок:"
   ]
  },
  {
   "cell_type": "code",
   "execution_count": 431,
   "metadata": {
    "colab": {
     "base_uri": "https://localhost:8080/",
     "height": 130
    },
    "id": "pcrDnlm6Gn_N",
    "outputId": "b2c484b0-a0d1-4d7e-adf1-d799935f70f3"
   },
   "outputs": [],
   "source": [
    "import pandas as pd \n",
    "import matplotlib.pyplot as plt\n",
    "import numpy as np\n",
    "import seaborn as sns\n",
    "from scipy import stats as st"
   ]
  },
  {
   "cell_type": "code",
   "execution_count": 432,
   "metadata": {
    "id": "3ooH98SfHfZa"
   },
   "outputs": [],
   "source": [
    "try:\n",
    "    data=pd.read_csv('games.csv') \n",
    "except FileNotFoundError:\n",
    "    data=pd.read_csv('/datasets/games.csv')"
   ]
  },
  {
   "cell_type": "code",
   "execution_count": 433,
   "metadata": {
    "colab": {
     "base_uri": "https://localhost:8080/",
     "height": 424
    },
    "id": "luGUPBpvHjFa",
    "outputId": "0b54653a-a3d0-4dcc-b25c-7371a34eb3ed"
   },
   "outputs": [
    {
     "data": {
      "text/html": [
       "<div>\n",
       "<style scoped>\n",
       "    .dataframe tbody tr th:only-of-type {\n",
       "        vertical-align: middle;\n",
       "    }\n",
       "\n",
       "    .dataframe tbody tr th {\n",
       "        vertical-align: top;\n",
       "    }\n",
       "\n",
       "    .dataframe thead th {\n",
       "        text-align: right;\n",
       "    }\n",
       "</style>\n",
       "<table border=\"1\" class=\"dataframe\">\n",
       "  <thead>\n",
       "    <tr style=\"text-align: right;\">\n",
       "      <th></th>\n",
       "      <th>Name</th>\n",
       "      <th>Platform</th>\n",
       "      <th>Year_of_Release</th>\n",
       "      <th>Genre</th>\n",
       "      <th>NA_sales</th>\n",
       "      <th>EU_sales</th>\n",
       "      <th>JP_sales</th>\n",
       "      <th>Other_sales</th>\n",
       "      <th>Critic_Score</th>\n",
       "      <th>User_Score</th>\n",
       "      <th>Rating</th>\n",
       "    </tr>\n",
       "  </thead>\n",
       "  <tbody>\n",
       "    <tr>\n",
       "      <th>0</th>\n",
       "      <td>Wii Sports</td>\n",
       "      <td>Wii</td>\n",
       "      <td>2006.0</td>\n",
       "      <td>Sports</td>\n",
       "      <td>41.36</td>\n",
       "      <td>28.96</td>\n",
       "      <td>3.77</td>\n",
       "      <td>8.45</td>\n",
       "      <td>76.0</td>\n",
       "      <td>8</td>\n",
       "      <td>E</td>\n",
       "    </tr>\n",
       "    <tr>\n",
       "      <th>1</th>\n",
       "      <td>Super Mario Bros.</td>\n",
       "      <td>NES</td>\n",
       "      <td>1985.0</td>\n",
       "      <td>Platform</td>\n",
       "      <td>29.08</td>\n",
       "      <td>3.58</td>\n",
       "      <td>6.81</td>\n",
       "      <td>0.77</td>\n",
       "      <td>NaN</td>\n",
       "      <td>NaN</td>\n",
       "      <td>NaN</td>\n",
       "    </tr>\n",
       "    <tr>\n",
       "      <th>2</th>\n",
       "      <td>Mario Kart Wii</td>\n",
       "      <td>Wii</td>\n",
       "      <td>2008.0</td>\n",
       "      <td>Racing</td>\n",
       "      <td>15.68</td>\n",
       "      <td>12.76</td>\n",
       "      <td>3.79</td>\n",
       "      <td>3.29</td>\n",
       "      <td>82.0</td>\n",
       "      <td>8.3</td>\n",
       "      <td>E</td>\n",
       "    </tr>\n",
       "    <tr>\n",
       "      <th>3</th>\n",
       "      <td>Wii Sports Resort</td>\n",
       "      <td>Wii</td>\n",
       "      <td>2009.0</td>\n",
       "      <td>Sports</td>\n",
       "      <td>15.61</td>\n",
       "      <td>10.93</td>\n",
       "      <td>3.28</td>\n",
       "      <td>2.95</td>\n",
       "      <td>80.0</td>\n",
       "      <td>8</td>\n",
       "      <td>E</td>\n",
       "    </tr>\n",
       "    <tr>\n",
       "      <th>4</th>\n",
       "      <td>Pokemon Red/Pokemon Blue</td>\n",
       "      <td>GB</td>\n",
       "      <td>1996.0</td>\n",
       "      <td>Role-Playing</td>\n",
       "      <td>11.27</td>\n",
       "      <td>8.89</td>\n",
       "      <td>10.22</td>\n",
       "      <td>1.00</td>\n",
       "      <td>NaN</td>\n",
       "      <td>NaN</td>\n",
       "      <td>NaN</td>\n",
       "    </tr>\n",
       "    <tr>\n",
       "      <th>5</th>\n",
       "      <td>Tetris</td>\n",
       "      <td>GB</td>\n",
       "      <td>1989.0</td>\n",
       "      <td>Puzzle</td>\n",
       "      <td>23.20</td>\n",
       "      <td>2.26</td>\n",
       "      <td>4.22</td>\n",
       "      <td>0.58</td>\n",
       "      <td>NaN</td>\n",
       "      <td>NaN</td>\n",
       "      <td>NaN</td>\n",
       "    </tr>\n",
       "    <tr>\n",
       "      <th>6</th>\n",
       "      <td>New Super Mario Bros.</td>\n",
       "      <td>DS</td>\n",
       "      <td>2006.0</td>\n",
       "      <td>Platform</td>\n",
       "      <td>11.28</td>\n",
       "      <td>9.14</td>\n",
       "      <td>6.50</td>\n",
       "      <td>2.88</td>\n",
       "      <td>89.0</td>\n",
       "      <td>8.5</td>\n",
       "      <td>E</td>\n",
       "    </tr>\n",
       "    <tr>\n",
       "      <th>7</th>\n",
       "      <td>Wii Play</td>\n",
       "      <td>Wii</td>\n",
       "      <td>2006.0</td>\n",
       "      <td>Misc</td>\n",
       "      <td>13.96</td>\n",
       "      <td>9.18</td>\n",
       "      <td>2.93</td>\n",
       "      <td>2.84</td>\n",
       "      <td>58.0</td>\n",
       "      <td>6.6</td>\n",
       "      <td>E</td>\n",
       "    </tr>\n",
       "    <tr>\n",
       "      <th>8</th>\n",
       "      <td>New Super Mario Bros. Wii</td>\n",
       "      <td>Wii</td>\n",
       "      <td>2009.0</td>\n",
       "      <td>Platform</td>\n",
       "      <td>14.44</td>\n",
       "      <td>6.94</td>\n",
       "      <td>4.70</td>\n",
       "      <td>2.24</td>\n",
       "      <td>87.0</td>\n",
       "      <td>8.4</td>\n",
       "      <td>E</td>\n",
       "    </tr>\n",
       "    <tr>\n",
       "      <th>9</th>\n",
       "      <td>Duck Hunt</td>\n",
       "      <td>NES</td>\n",
       "      <td>1984.0</td>\n",
       "      <td>Shooter</td>\n",
       "      <td>26.93</td>\n",
       "      <td>0.63</td>\n",
       "      <td>0.28</td>\n",
       "      <td>0.47</td>\n",
       "      <td>NaN</td>\n",
       "      <td>NaN</td>\n",
       "      <td>NaN</td>\n",
       "    </tr>\n",
       "  </tbody>\n",
       "</table>\n",
       "</div>"
      ],
      "text/plain": [
       "                        Name Platform  Year_of_Release         Genre  \\\n",
       "0                 Wii Sports      Wii           2006.0        Sports   \n",
       "1          Super Mario Bros.      NES           1985.0      Platform   \n",
       "2             Mario Kart Wii      Wii           2008.0        Racing   \n",
       "3          Wii Sports Resort      Wii           2009.0        Sports   \n",
       "4   Pokemon Red/Pokemon Blue       GB           1996.0  Role-Playing   \n",
       "5                     Tetris       GB           1989.0        Puzzle   \n",
       "6      New Super Mario Bros.       DS           2006.0      Platform   \n",
       "7                   Wii Play      Wii           2006.0          Misc   \n",
       "8  New Super Mario Bros. Wii      Wii           2009.0      Platform   \n",
       "9                  Duck Hunt      NES           1984.0       Shooter   \n",
       "\n",
       "   NA_sales  EU_sales  JP_sales  Other_sales  Critic_Score User_Score Rating  \n",
       "0     41.36     28.96      3.77         8.45          76.0          8      E  \n",
       "1     29.08      3.58      6.81         0.77           NaN        NaN    NaN  \n",
       "2     15.68     12.76      3.79         3.29          82.0        8.3      E  \n",
       "3     15.61     10.93      3.28         2.95          80.0          8      E  \n",
       "4     11.27      8.89     10.22         1.00           NaN        NaN    NaN  \n",
       "5     23.20      2.26      4.22         0.58           NaN        NaN    NaN  \n",
       "6     11.28      9.14      6.50         2.88          89.0        8.5      E  \n",
       "7     13.96      9.18      2.93         2.84          58.0        6.6      E  \n",
       "8     14.44      6.94      4.70         2.24          87.0        8.4      E  \n",
       "9     26.93      0.63      0.28         0.47           NaN        NaN    NaN  "
      ]
     },
     "execution_count": 433,
     "metadata": {},
     "output_type": "execute_result"
    }
   ],
   "source": [
    "data.head(10)"
   ]
  },
  {
   "cell_type": "code",
   "execution_count": 434,
   "metadata": {
    "id": "7FODVQvRHz0F"
   },
   "outputs": [
    {
     "name": "stdout",
     "output_type": "stream",
     "text": [
      "<class 'pandas.core.frame.DataFrame'>\n",
      "RangeIndex: 16715 entries, 0 to 16714\n",
      "Data columns (total 11 columns):\n",
      " #   Column           Non-Null Count  Dtype  \n",
      "---  ------           --------------  -----  \n",
      " 0   Name             16713 non-null  object \n",
      " 1   Platform         16715 non-null  object \n",
      " 2   Year_of_Release  16446 non-null  float64\n",
      " 3   Genre            16713 non-null  object \n",
      " 4   NA_sales         16715 non-null  float64\n",
      " 5   EU_sales         16715 non-null  float64\n",
      " 6   JP_sales         16715 non-null  float64\n",
      " 7   Other_sales      16715 non-null  float64\n",
      " 8   Critic_Score     8137 non-null   float64\n",
      " 9   User_Score       10014 non-null  object \n",
      " 10  Rating           9949 non-null   object \n",
      "dtypes: float64(6), object(5)\n",
      "memory usage: 1.4+ MB\n"
     ]
    }
   ],
   "source": [
    "data.info()"
   ]
  },
  {
   "cell_type": "markdown",
   "metadata": {},
   "source": [
    "обнаружены несколько ошибок в типах переменных: нужно заменить тип файла Year_of_Release на int, десятая доля в годе выпуска игры нам не нужна. в User_Score нужно заменить на float64 чтобы все рейтинги имели тип файл float64\n",
    "\n",
    "Так же в названиях колонок обнаружено несколько нарушений стиля: строчные буквы сочетаются с прописными."
   ]
  },
  {
   "cell_type": "markdown",
   "metadata": {},
   "source": [
    "## Предобработка данных"
   ]
  },
  {
   "cell_type": "markdown",
   "metadata": {},
   "source": [
    "### Замена названий столбцов "
   ]
  },
  {
   "cell_type": "markdown",
   "metadata": {},
   "source": [
    "Переименуем названия столбцов, для удобства выведем существующие названия столбцов:"
   ]
  },
  {
   "cell_type": "code",
   "execution_count": 435,
   "metadata": {},
   "outputs": [
    {
     "data": {
      "text/plain": [
       "Index(['Name', 'Platform', 'Year_of_Release', 'Genre', 'NA_sales', 'EU_sales',\n",
       "       'JP_sales', 'Other_sales', 'Critic_Score', 'User_Score', 'Rating'],\n",
       "      dtype='object')"
      ]
     },
     "execution_count": 435,
     "metadata": {},
     "output_type": "execute_result"
    }
   ],
   "source": [
    "data.columns"
   ]
  },
  {
   "cell_type": "code",
   "execution_count": 436,
   "metadata": {},
   "outputs": [],
   "source": [
    "data = data.rename(columns={'Name':'name','Platform':'platform','Year_of_Release':'year_of_release','Genre':'genre','NA_sales':'na_sales','EU_sales':'eu_sales','JP_sales':'jp_sales','Other_sales':'other_sales','Critic_Score':'critic_score','User_Score':'user_score','Rating':'rating'}) "
   ]
  },
  {
   "cell_type": "markdown",
   "metadata": {},
   "source": [
    "и проверим что столбцы переименовались:"
   ]
  },
  {
   "cell_type": "code",
   "execution_count": 437,
   "metadata": {},
   "outputs": [
    {
     "data": {
      "text/plain": [
       "Index(['name', 'platform', 'year_of_release', 'genre', 'na_sales', 'eu_sales',\n",
       "       'jp_sales', 'other_sales', 'critic_score', 'user_score', 'rating'],\n",
       "      dtype='object')"
      ]
     },
     "execution_count": 437,
     "metadata": {},
     "output_type": "execute_result"
    }
   ],
   "source": [
    "data.columns"
   ]
  },
  {
   "cell_type": "markdown",
   "metadata": {},
   "source": [
    "### Обработка пропусков значений"
   ]
  },
  {
   "cell_type": "markdown",
   "metadata": {},
   "source": [
    "сначала посчитаем сколько в таблице пропусков"
   ]
  },
  {
   "cell_type": "code",
   "execution_count": 438,
   "metadata": {},
   "outputs": [
    {
     "data": {
      "text/plain": [
       "name                  2\n",
       "platform              0\n",
       "year_of_release     269\n",
       "genre                 2\n",
       "na_sales              0\n",
       "eu_sales              0\n",
       "jp_sales              0\n",
       "other_sales           0\n",
       "critic_score       8578\n",
       "user_score         6701\n",
       "rating             6766\n",
       "dtype: int64"
      ]
     },
     "execution_count": 438,
     "metadata": {},
     "output_type": "execute_result"
    }
   ],
   "source": [
    "data.isna().sum()"
   ]
  },
  {
   "cell_type": "markdown",
   "metadata": {},
   "source": [
    "видно 2 пропуска в названии игры, удалим такие данные:"
   ]
  },
  {
   "cell_type": "code",
   "execution_count": 439,
   "metadata": {},
   "outputs": [],
   "source": [
    "data=data.dropna(subset=['name'])"
   ]
  },
  {
   "cell_type": "markdown",
   "metadata": {},
   "source": [
    "пусоты в `year_of_release` заменим на -1 чтобы было изменить тип данных на int: "
   ]
  },
  {
   "cell_type": "code",
   "execution_count": 440,
   "metadata": {},
   "outputs": [],
   "source": [
    "data['year_of_release'] = data['year_of_release'].fillna(-1)"
   ]
  },
  {
   "cell_type": "markdown",
   "metadata": {},
   "source": [
    "проверим что больше нет пустот в `name` и `year_of_release`"
   ]
  },
  {
   "cell_type": "code",
   "execution_count": 441,
   "metadata": {},
   "outputs": [
    {
     "data": {
      "text/plain": [
       "name                  0\n",
       "platform              0\n",
       "year_of_release       0\n",
       "genre                 0\n",
       "na_sales              0\n",
       "eu_sales              0\n",
       "jp_sales              0\n",
       "other_sales           0\n",
       "critic_score       8576\n",
       "user_score         6699\n",
       "rating             6764\n",
       "dtype: int64"
      ]
     },
     "execution_count": 441,
     "metadata": {},
     "output_type": "execute_result"
    }
   ],
   "source": [
    "data.isna().sum()"
   ]
  },
  {
   "cell_type": "markdown",
   "metadata": {},
   "source": [
    "и изменим тип данных на int"
   ]
  },
  {
   "cell_type": "code",
   "execution_count": 442,
   "metadata": {},
   "outputs": [],
   "source": [
    "data['year_of_release']=data['year_of_release'].astype('int')"
   ]
  },
  {
   "cell_type": "markdown",
   "metadata": {},
   "source": [
    "проверим что тип данных теперь int:"
   ]
  },
  {
   "cell_type": "code",
   "execution_count": 443,
   "metadata": {},
   "outputs": [
    {
     "name": "stdout",
     "output_type": "stream",
     "text": [
      "<class 'pandas.core.frame.DataFrame'>\n",
      "Int64Index: 16713 entries, 0 to 16714\n",
      "Data columns (total 11 columns):\n",
      " #   Column           Non-Null Count  Dtype  \n",
      "---  ------           --------------  -----  \n",
      " 0   name             16713 non-null  object \n",
      " 1   platform         16713 non-null  object \n",
      " 2   year_of_release  16713 non-null  int64  \n",
      " 3   genre            16713 non-null  object \n",
      " 4   na_sales         16713 non-null  float64\n",
      " 5   eu_sales         16713 non-null  float64\n",
      " 6   jp_sales         16713 non-null  float64\n",
      " 7   other_sales      16713 non-null  float64\n",
      " 8   critic_score     8137 non-null   float64\n",
      " 9   user_score       10014 non-null  object \n",
      " 10  rating           9949 non-null   object \n",
      "dtypes: float64(5), int64(1), object(5)\n",
      "memory usage: 1.5+ MB\n"
     ]
    }
   ],
   "source": [
    "data.info()"
   ]
  },
  {
   "cell_type": "markdown",
   "metadata": {},
   "source": [
    "tbd означает 'to be determined'. Заменим все tba на NaN:"
   ]
  },
  {
   "cell_type": "code",
   "execution_count": 444,
   "metadata": {},
   "outputs": [],
   "source": [
    "data.loc[data['user_score'] == \"tbd\" , 'user_score'] = np.nan"
   ]
  },
  {
   "cell_type": "markdown",
   "metadata": {},
   "source": [
    "и изменим тип переменной на float:"
   ]
  },
  {
   "cell_type": "code",
   "execution_count": 445,
   "metadata": {},
   "outputs": [],
   "source": [
    "data['user_score']=data['user_score'].astype('float64')"
   ]
  },
  {
   "cell_type": "markdown",
   "metadata": {},
   "source": [
    "и проверим что тип данных user_score теперь float"
   ]
  },
  {
   "cell_type": "code",
   "execution_count": 446,
   "metadata": {},
   "outputs": [
    {
     "name": "stdout",
     "output_type": "stream",
     "text": [
      "<class 'pandas.core.frame.DataFrame'>\n",
      "Int64Index: 16713 entries, 0 to 16714\n",
      "Data columns (total 11 columns):\n",
      " #   Column           Non-Null Count  Dtype  \n",
      "---  ------           --------------  -----  \n",
      " 0   name             16713 non-null  object \n",
      " 1   platform         16713 non-null  object \n",
      " 2   year_of_release  16713 non-null  int64  \n",
      " 3   genre            16713 non-null  object \n",
      " 4   na_sales         16713 non-null  float64\n",
      " 5   eu_sales         16713 non-null  float64\n",
      " 6   jp_sales         16713 non-null  float64\n",
      " 7   other_sales      16713 non-null  float64\n",
      " 8   critic_score     8137 non-null   float64\n",
      " 9   user_score       7590 non-null   float64\n",
      " 10  rating           9949 non-null   object \n",
      "dtypes: float64(6), int64(1), object(4)\n",
      "memory usage: 1.5+ MB\n"
     ]
    }
   ],
   "source": [
    "data.info()"
   ]
  },
  {
   "cell_type": "markdown",
   "metadata": {},
   "source": [
    "у нас нет данных чтобы заменить пустоты в `critic_score` и `user_score`, поэтому оставим эти столбцы как есть. В `rating` указывается рейтинг от организации ESRB. Имеет смысл заменить пустоты на RP. Это означает что рейтинг ожидается."
   ]
  },
  {
   "cell_type": "code",
   "execution_count": 447,
   "metadata": {},
   "outputs": [],
   "source": [
    "data['rating']=data['rating'].fillna('RP')"
   ]
  },
  {
   "cell_type": "markdown",
   "metadata": {},
   "source": [
    "проверим что в rating больше нет пустот:"
   ]
  },
  {
   "cell_type": "code",
   "execution_count": 448,
   "metadata": {
    "scrolled": true
   },
   "outputs": [
    {
     "data": {
      "text/plain": [
       "name                  0\n",
       "platform              0\n",
       "year_of_release       0\n",
       "genre                 0\n",
       "na_sales              0\n",
       "eu_sales              0\n",
       "jp_sales              0\n",
       "other_sales           0\n",
       "critic_score       8576\n",
       "user_score         9123\n",
       "rating                0\n",
       "dtype: int64"
      ]
     },
     "execution_count": 448,
     "metadata": {},
     "output_type": "execute_result"
    }
   ],
   "source": [
    "data.isna().sum()"
   ]
  },
  {
   "cell_type": "markdown",
   "metadata": {},
   "source": [
    "### Поиск дубилкатов"
   ]
  },
  {
   "cell_type": "markdown",
   "metadata": {},
   "source": [
    "займемся неявными дубликатами. Начнем с `name`"
   ]
  },
  {
   "cell_type": "code",
   "execution_count": 449,
   "metadata": {
    "scrolled": true
   },
   "outputs": [
    {
     "name": "stdout",
     "output_type": "stream",
     "text": [
      "Need for Speed: Most Wanted                                   12\n",
      "Ratatouille                                                    9\n",
      "FIFA 14                                                        9\n",
      "LEGO Marvel Super Heroes                                       9\n",
      "Madden NFL 07                                                  9\n",
      "                                                              ..\n",
      "Astroblast                                                     1\n",
      "GrimGrimoire                                                   1\n",
      "New Super Mario Bros. Wii                                      1\n",
      "Warriors of the Lost Empire (JP sales)                         1\n",
      "Pokémon Mystery Dungeon: Red Rescue Team (US weekly sales)     1\n",
      "Name: name, Length: 11559, dtype: int64\n"
     ]
    }
   ],
   "source": [
    "print(data['name'].value_counts()) "
   ]
  },
  {
   "cell_type": "markdown",
   "metadata": {},
   "source": [
    "видно что есть повторы. Разберем поподробнее строки с игрой Need for Speed: Most Wanted:"
   ]
  },
  {
   "cell_type": "code",
   "execution_count": 450,
   "metadata": {
    "scrolled": true
   },
   "outputs": [
    {
     "name": "stdout",
     "output_type": "stream",
     "text": [
      "                              name platform  year_of_release   genre  \\\n",
      "253    Need for Speed: Most Wanted      PS2             2005  Racing   \n",
      "523    Need for Speed: Most Wanted      PS3             2012  Racing   \n",
      "1190   Need for Speed: Most Wanted     X360             2012  Racing   \n",
      "1591   Need for Speed: Most Wanted     X360             2005  Racing   \n",
      "1998   Need for Speed: Most Wanted       XB             2005  Racing   \n",
      "2048   Need for Speed: Most Wanted      PSV             2012  Racing   \n",
      "3581   Need for Speed: Most Wanted       GC             2005  Racing   \n",
      "5972   Need for Speed: Most Wanted       PC             2005  Racing   \n",
      "6273   Need for Speed: Most Wanted     WiiU             2013  Racing   \n",
      "6410   Need for Speed: Most Wanted       DS             2005  Racing   \n",
      "6473   Need for Speed: Most Wanted      GBA             2005  Racing   \n",
      "11715  Need for Speed: Most Wanted       PC             2012  Racing   \n",
      "\n",
      "       na_sales  eu_sales  jp_sales  other_sales  critic_score  user_score  \\\n",
      "253        2.03      1.79      0.08         0.47          82.0         9.1   \n",
      "523        0.71      1.46      0.06         0.58           NaN         NaN   \n",
      "1190       0.62      0.78      0.01         0.15          83.0         8.5   \n",
      "1591       1.00      0.13      0.02         0.10          83.0         8.5   \n",
      "1998       0.53      0.46      0.00         0.05          83.0         8.8   \n",
      "2048       0.33      0.45      0.01         0.22           NaN         NaN   \n",
      "3581       0.43      0.11      0.00         0.02          80.0         9.1   \n",
      "5972       0.02      0.23      0.00         0.04          82.0         8.5   \n",
      "6273       0.13      0.12      0.00         0.02           NaN         NaN   \n",
      "6410       0.24      0.01      0.00         0.02          45.0         6.1   \n",
      "6473       0.19      0.07      0.00         0.00           NaN         8.3   \n",
      "11715      0.00      0.06      0.00         0.02          82.0         8.5   \n",
      "\n",
      "      rating  \n",
      "253        T  \n",
      "523       RP  \n",
      "1190       T  \n",
      "1591       T  \n",
      "1998       T  \n",
      "2048      RP  \n",
      "3581       T  \n",
      "5972       T  \n",
      "6273      RP  \n",
      "6410       E  \n",
      "6473       E  \n",
      "11715      T  \n"
     ]
    }
   ],
   "source": [
    "print(data.query('name==\"Need for Speed: Most Wanted\"')) "
   ]
  },
  {
   "cell_type": "markdown",
   "metadata": {},
   "source": [
    "Одна игра для разных платформ это разные строки в таблице. Помимо этого в 2012 году вышел ремейк игры. Будем иметь это ввиду"
   ]
  },
  {
   "cell_type": "markdown",
   "metadata": {},
   "source": [
    "продолжим и посмотрим уникальные значения `platform`"
   ]
  },
  {
   "cell_type": "code",
   "execution_count": 451,
   "metadata": {},
   "outputs": [
    {
     "name": "stdout",
     "output_type": "stream",
     "text": [
      "PS2     2161\n",
      "DS      2151\n",
      "PS3     1331\n",
      "Wii     1320\n",
      "X360    1262\n",
      "PSP     1209\n",
      "PS      1197\n",
      "PC       974\n",
      "XB       824\n",
      "GBA      822\n",
      "GC       556\n",
      "3DS      520\n",
      "PSV      430\n",
      "PS4      392\n",
      "N64      319\n",
      "XOne     247\n",
      "SNES     239\n",
      "SAT      173\n",
      "WiiU     147\n",
      "2600     133\n",
      "GB        98\n",
      "NES       98\n",
      "DC        52\n",
      "GEN       27\n",
      "NG        12\n",
      "SCD        6\n",
      "WS         6\n",
      "3DO        3\n",
      "TG16       2\n",
      "GG         1\n",
      "PCFX       1\n",
      "Name: platform, dtype: int64\n"
     ]
    }
   ],
   "source": [
    "print(data['platform'].value_counts()) "
   ]
  },
  {
   "cell_type": "code",
   "execution_count": 452,
   "metadata": {},
   "outputs": [
    {
     "name": "stdout",
     "output_type": "stream",
     "text": [
      "Action          3369\n",
      "Sports          2348\n",
      "Misc            1750\n",
      "Role-Playing    1498\n",
      "Shooter         1323\n",
      "Adventure       1303\n",
      "Racing          1249\n",
      "Platform         888\n",
      "Simulation       873\n",
      "Fighting         849\n",
      "Strategy         683\n",
      "Puzzle           580\n",
      "Name: genre, dtype: int64\n"
     ]
    }
   ],
   "source": [
    "print(data['genre'].value_counts()) "
   ]
  },
  {
   "cell_type": "code",
   "execution_count": 453,
   "metadata": {},
   "outputs": [
    {
     "name": "stdout",
     "output_type": "stream",
     "text": [
      "RP      6767\n",
      "E       3990\n",
      "T       2961\n",
      "M       1563\n",
      "E10+    1420\n",
      "EC         8\n",
      "K-A        3\n",
      "AO         1\n",
      "Name: rating, dtype: int64\n"
     ]
    }
   ],
   "source": [
    "print(data['rating'].value_counts()) "
   ]
  },
  {
   "cell_type": "markdown",
   "metadata": {},
   "source": [
    "все выглядит хорошо. Проверим данные на явные дубликаты:"
   ]
  },
  {
   "cell_type": "code",
   "execution_count": 454,
   "metadata": {},
   "outputs": [
    {
     "data": {
      "text/plain": [
       "0"
      ]
     },
     "execution_count": 454,
     "metadata": {},
     "output_type": "execute_result"
    }
   ],
   "source": [
    "data.duplicated().sum()"
   ]
  },
  {
   "cell_type": "markdown",
   "metadata": {},
   "source": [
    "Дубликатов не найдено, посчитаем суммарные продажи во всех регионах и запишем их в отдельный столбец. Для этого напишем функцию:"
   ]
  },
  {
   "cell_type": "code",
   "execution_count": 455,
   "metadata": {},
   "outputs": [],
   "source": [
    "def total_sales(row):\n",
    "    #чтобы посчитать суммарные продажи игры нужно сложить все 4 показателя по регионам:\n",
    "    total_sales=row['na_sales']+row['eu_sales']+row['jp_sales']+row['other_sales']\n",
    "    return total_sales\n",
    "    "
   ]
  },
  {
   "cell_type": "code",
   "execution_count": 456,
   "metadata": {},
   "outputs": [
    {
     "data": {
      "text/html": [
       "<div>\n",
       "<style scoped>\n",
       "    .dataframe tbody tr th:only-of-type {\n",
       "        vertical-align: middle;\n",
       "    }\n",
       "\n",
       "    .dataframe tbody tr th {\n",
       "        vertical-align: top;\n",
       "    }\n",
       "\n",
       "    .dataframe thead th {\n",
       "        text-align: right;\n",
       "    }\n",
       "</style>\n",
       "<table border=\"1\" class=\"dataframe\">\n",
       "  <thead>\n",
       "    <tr style=\"text-align: right;\">\n",
       "      <th></th>\n",
       "      <th>name</th>\n",
       "      <th>platform</th>\n",
       "      <th>year_of_release</th>\n",
       "      <th>genre</th>\n",
       "      <th>na_sales</th>\n",
       "      <th>eu_sales</th>\n",
       "      <th>jp_sales</th>\n",
       "      <th>other_sales</th>\n",
       "      <th>critic_score</th>\n",
       "      <th>user_score</th>\n",
       "      <th>rating</th>\n",
       "      <th>total_sales</th>\n",
       "    </tr>\n",
       "  </thead>\n",
       "  <tbody>\n",
       "    <tr>\n",
       "      <th>0</th>\n",
       "      <td>Wii Sports</td>\n",
       "      <td>Wii</td>\n",
       "      <td>2006</td>\n",
       "      <td>Sports</td>\n",
       "      <td>41.36</td>\n",
       "      <td>28.96</td>\n",
       "      <td>3.77</td>\n",
       "      <td>8.45</td>\n",
       "      <td>76.0</td>\n",
       "      <td>8.0</td>\n",
       "      <td>E</td>\n",
       "      <td>82.54</td>\n",
       "    </tr>\n",
       "    <tr>\n",
       "      <th>1</th>\n",
       "      <td>Super Mario Bros.</td>\n",
       "      <td>NES</td>\n",
       "      <td>1985</td>\n",
       "      <td>Platform</td>\n",
       "      <td>29.08</td>\n",
       "      <td>3.58</td>\n",
       "      <td>6.81</td>\n",
       "      <td>0.77</td>\n",
       "      <td>NaN</td>\n",
       "      <td>NaN</td>\n",
       "      <td>RP</td>\n",
       "      <td>40.24</td>\n",
       "    </tr>\n",
       "    <tr>\n",
       "      <th>2</th>\n",
       "      <td>Mario Kart Wii</td>\n",
       "      <td>Wii</td>\n",
       "      <td>2008</td>\n",
       "      <td>Racing</td>\n",
       "      <td>15.68</td>\n",
       "      <td>12.76</td>\n",
       "      <td>3.79</td>\n",
       "      <td>3.29</td>\n",
       "      <td>82.0</td>\n",
       "      <td>8.3</td>\n",
       "      <td>E</td>\n",
       "      <td>35.52</td>\n",
       "    </tr>\n",
       "    <tr>\n",
       "      <th>3</th>\n",
       "      <td>Wii Sports Resort</td>\n",
       "      <td>Wii</td>\n",
       "      <td>2009</td>\n",
       "      <td>Sports</td>\n",
       "      <td>15.61</td>\n",
       "      <td>10.93</td>\n",
       "      <td>3.28</td>\n",
       "      <td>2.95</td>\n",
       "      <td>80.0</td>\n",
       "      <td>8.0</td>\n",
       "      <td>E</td>\n",
       "      <td>32.77</td>\n",
       "    </tr>\n",
       "    <tr>\n",
       "      <th>4</th>\n",
       "      <td>Pokemon Red/Pokemon Blue</td>\n",
       "      <td>GB</td>\n",
       "      <td>1996</td>\n",
       "      <td>Role-Playing</td>\n",
       "      <td>11.27</td>\n",
       "      <td>8.89</td>\n",
       "      <td>10.22</td>\n",
       "      <td>1.00</td>\n",
       "      <td>NaN</td>\n",
       "      <td>NaN</td>\n",
       "      <td>RP</td>\n",
       "      <td>31.38</td>\n",
       "    </tr>\n",
       "    <tr>\n",
       "      <th>5</th>\n",
       "      <td>Tetris</td>\n",
       "      <td>GB</td>\n",
       "      <td>1989</td>\n",
       "      <td>Puzzle</td>\n",
       "      <td>23.20</td>\n",
       "      <td>2.26</td>\n",
       "      <td>4.22</td>\n",
       "      <td>0.58</td>\n",
       "      <td>NaN</td>\n",
       "      <td>NaN</td>\n",
       "      <td>RP</td>\n",
       "      <td>30.26</td>\n",
       "    </tr>\n",
       "    <tr>\n",
       "      <th>6</th>\n",
       "      <td>New Super Mario Bros.</td>\n",
       "      <td>DS</td>\n",
       "      <td>2006</td>\n",
       "      <td>Platform</td>\n",
       "      <td>11.28</td>\n",
       "      <td>9.14</td>\n",
       "      <td>6.50</td>\n",
       "      <td>2.88</td>\n",
       "      <td>89.0</td>\n",
       "      <td>8.5</td>\n",
       "      <td>E</td>\n",
       "      <td>29.80</td>\n",
       "    </tr>\n",
       "    <tr>\n",
       "      <th>7</th>\n",
       "      <td>Wii Play</td>\n",
       "      <td>Wii</td>\n",
       "      <td>2006</td>\n",
       "      <td>Misc</td>\n",
       "      <td>13.96</td>\n",
       "      <td>9.18</td>\n",
       "      <td>2.93</td>\n",
       "      <td>2.84</td>\n",
       "      <td>58.0</td>\n",
       "      <td>6.6</td>\n",
       "      <td>E</td>\n",
       "      <td>28.91</td>\n",
       "    </tr>\n",
       "    <tr>\n",
       "      <th>8</th>\n",
       "      <td>New Super Mario Bros. Wii</td>\n",
       "      <td>Wii</td>\n",
       "      <td>2009</td>\n",
       "      <td>Platform</td>\n",
       "      <td>14.44</td>\n",
       "      <td>6.94</td>\n",
       "      <td>4.70</td>\n",
       "      <td>2.24</td>\n",
       "      <td>87.0</td>\n",
       "      <td>8.4</td>\n",
       "      <td>E</td>\n",
       "      <td>28.32</td>\n",
       "    </tr>\n",
       "    <tr>\n",
       "      <th>9</th>\n",
       "      <td>Duck Hunt</td>\n",
       "      <td>NES</td>\n",
       "      <td>1984</td>\n",
       "      <td>Shooter</td>\n",
       "      <td>26.93</td>\n",
       "      <td>0.63</td>\n",
       "      <td>0.28</td>\n",
       "      <td>0.47</td>\n",
       "      <td>NaN</td>\n",
       "      <td>NaN</td>\n",
       "      <td>RP</td>\n",
       "      <td>28.31</td>\n",
       "    </tr>\n",
       "  </tbody>\n",
       "</table>\n",
       "</div>"
      ],
      "text/plain": [
       "                        name platform  year_of_release         genre  \\\n",
       "0                 Wii Sports      Wii             2006        Sports   \n",
       "1          Super Mario Bros.      NES             1985      Platform   \n",
       "2             Mario Kart Wii      Wii             2008        Racing   \n",
       "3          Wii Sports Resort      Wii             2009        Sports   \n",
       "4   Pokemon Red/Pokemon Blue       GB             1996  Role-Playing   \n",
       "5                     Tetris       GB             1989        Puzzle   \n",
       "6      New Super Mario Bros.       DS             2006      Platform   \n",
       "7                   Wii Play      Wii             2006          Misc   \n",
       "8  New Super Mario Bros. Wii      Wii             2009      Platform   \n",
       "9                  Duck Hunt      NES             1984       Shooter   \n",
       "\n",
       "   na_sales  eu_sales  jp_sales  other_sales  critic_score  user_score rating  \\\n",
       "0     41.36     28.96      3.77         8.45          76.0         8.0      E   \n",
       "1     29.08      3.58      6.81         0.77           NaN         NaN     RP   \n",
       "2     15.68     12.76      3.79         3.29          82.0         8.3      E   \n",
       "3     15.61     10.93      3.28         2.95          80.0         8.0      E   \n",
       "4     11.27      8.89     10.22         1.00           NaN         NaN     RP   \n",
       "5     23.20      2.26      4.22         0.58           NaN         NaN     RP   \n",
       "6     11.28      9.14      6.50         2.88          89.0         8.5      E   \n",
       "7     13.96      9.18      2.93         2.84          58.0         6.6      E   \n",
       "8     14.44      6.94      4.70         2.24          87.0         8.4      E   \n",
       "9     26.93      0.63      0.28         0.47           NaN         NaN     RP   \n",
       "\n",
       "   total_sales  \n",
       "0        82.54  \n",
       "1        40.24  \n",
       "2        35.52  \n",
       "3        32.77  \n",
       "4        31.38  \n",
       "5        30.26  \n",
       "6        29.80  \n",
       "7        28.91  \n",
       "8        28.32  \n",
       "9        28.31  "
      ]
     },
     "execution_count": 456,
     "metadata": {},
     "output_type": "execute_result"
    }
   ],
   "source": [
    "data['total_sales'] = data.apply(total_sales, axis=1)\n",
    "data.head(10)"
   ]
  },
  {
   "cell_type": "markdown",
   "metadata": {},
   "source": [
    "## Исследовательский анализ данных"
   ]
  },
  {
   "cell_type": "markdown",
   "metadata": {},
   "source": [
    "построим таблицу чтобы посмотреть сколько игр выпускалось в разные годы"
   ]
  },
  {
   "cell_type": "code",
   "execution_count": 457,
   "metadata": {},
   "outputs": [
    {
     "data": {
      "text/html": [
       "<div>\n",
       "<style scoped>\n",
       "    .dataframe tbody tr th:only-of-type {\n",
       "        vertical-align: middle;\n",
       "    }\n",
       "\n",
       "    .dataframe tbody tr th {\n",
       "        vertical-align: top;\n",
       "    }\n",
       "\n",
       "    .dataframe thead th {\n",
       "        text-align: right;\n",
       "    }\n",
       "</style>\n",
       "<table border=\"1\" class=\"dataframe\">\n",
       "  <thead>\n",
       "    <tr style=\"text-align: right;\">\n",
       "      <th></th>\n",
       "      <th>year_of_release</th>\n",
       "      <th>count</th>\n",
       "    </tr>\n",
       "  </thead>\n",
       "  <tbody>\n",
       "    <tr>\n",
       "      <th>29</th>\n",
       "      <td>2008</td>\n",
       "      <td>1427</td>\n",
       "    </tr>\n",
       "    <tr>\n",
       "      <th>30</th>\n",
       "      <td>2009</td>\n",
       "      <td>1426</td>\n",
       "    </tr>\n",
       "    <tr>\n",
       "      <th>31</th>\n",
       "      <td>2010</td>\n",
       "      <td>1255</td>\n",
       "    </tr>\n",
       "    <tr>\n",
       "      <th>28</th>\n",
       "      <td>2007</td>\n",
       "      <td>1197</td>\n",
       "    </tr>\n",
       "    <tr>\n",
       "      <th>32</th>\n",
       "      <td>2011</td>\n",
       "      <td>1136</td>\n",
       "    </tr>\n",
       "    <tr>\n",
       "      <th>27</th>\n",
       "      <td>2006</td>\n",
       "      <td>1006</td>\n",
       "    </tr>\n",
       "    <tr>\n",
       "      <th>26</th>\n",
       "      <td>2005</td>\n",
       "      <td>939</td>\n",
       "    </tr>\n",
       "    <tr>\n",
       "      <th>23</th>\n",
       "      <td>2002</td>\n",
       "      <td>829</td>\n",
       "    </tr>\n",
       "    <tr>\n",
       "      <th>24</th>\n",
       "      <td>2003</td>\n",
       "      <td>775</td>\n",
       "    </tr>\n",
       "    <tr>\n",
       "      <th>25</th>\n",
       "      <td>2004</td>\n",
       "      <td>762</td>\n",
       "    </tr>\n",
       "    <tr>\n",
       "      <th>33</th>\n",
       "      <td>2012</td>\n",
       "      <td>653</td>\n",
       "    </tr>\n",
       "    <tr>\n",
       "      <th>36</th>\n",
       "      <td>2015</td>\n",
       "      <td>606</td>\n",
       "    </tr>\n",
       "    <tr>\n",
       "      <th>35</th>\n",
       "      <td>2014</td>\n",
       "      <td>581</td>\n",
       "    </tr>\n",
       "    <tr>\n",
       "      <th>34</th>\n",
       "      <td>2013</td>\n",
       "      <td>544</td>\n",
       "    </tr>\n",
       "    <tr>\n",
       "      <th>37</th>\n",
       "      <td>2016</td>\n",
       "      <td>502</td>\n",
       "    </tr>\n",
       "    <tr>\n",
       "      <th>22</th>\n",
       "      <td>2001</td>\n",
       "      <td>482</td>\n",
       "    </tr>\n",
       "    <tr>\n",
       "      <th>19</th>\n",
       "      <td>1998</td>\n",
       "      <td>379</td>\n",
       "    </tr>\n",
       "    <tr>\n",
       "      <th>21</th>\n",
       "      <td>2000</td>\n",
       "      <td>350</td>\n",
       "    </tr>\n",
       "    <tr>\n",
       "      <th>20</th>\n",
       "      <td>1999</td>\n",
       "      <td>338</td>\n",
       "    </tr>\n",
       "    <tr>\n",
       "      <th>18</th>\n",
       "      <td>1997</td>\n",
       "      <td>289</td>\n",
       "    </tr>\n",
       "    <tr>\n",
       "      <th>0</th>\n",
       "      <td>-1</td>\n",
       "      <td>269</td>\n",
       "    </tr>\n",
       "    <tr>\n",
       "      <th>17</th>\n",
       "      <td>1996</td>\n",
       "      <td>263</td>\n",
       "    </tr>\n",
       "    <tr>\n",
       "      <th>16</th>\n",
       "      <td>1995</td>\n",
       "      <td>219</td>\n",
       "    </tr>\n",
       "    <tr>\n",
       "      <th>15</th>\n",
       "      <td>1994</td>\n",
       "      <td>121</td>\n",
       "    </tr>\n",
       "    <tr>\n",
       "      <th>14</th>\n",
       "      <td>1993</td>\n",
       "      <td>60</td>\n",
       "    </tr>\n",
       "    <tr>\n",
       "      <th>2</th>\n",
       "      <td>1981</td>\n",
       "      <td>46</td>\n",
       "    </tr>\n",
       "    <tr>\n",
       "      <th>13</th>\n",
       "      <td>1992</td>\n",
       "      <td>43</td>\n",
       "    </tr>\n",
       "    <tr>\n",
       "      <th>12</th>\n",
       "      <td>1991</td>\n",
       "      <td>41</td>\n",
       "    </tr>\n",
       "    <tr>\n",
       "      <th>3</th>\n",
       "      <td>1982</td>\n",
       "      <td>36</td>\n",
       "    </tr>\n",
       "    <tr>\n",
       "      <th>7</th>\n",
       "      <td>1986</td>\n",
       "      <td>21</td>\n",
       "    </tr>\n",
       "    <tr>\n",
       "      <th>10</th>\n",
       "      <td>1989</td>\n",
       "      <td>17</td>\n",
       "    </tr>\n",
       "    <tr>\n",
       "      <th>4</th>\n",
       "      <td>1983</td>\n",
       "      <td>17</td>\n",
       "    </tr>\n",
       "    <tr>\n",
       "      <th>8</th>\n",
       "      <td>1987</td>\n",
       "      <td>16</td>\n",
       "    </tr>\n",
       "    <tr>\n",
       "      <th>11</th>\n",
       "      <td>1990</td>\n",
       "      <td>16</td>\n",
       "    </tr>\n",
       "    <tr>\n",
       "      <th>9</th>\n",
       "      <td>1988</td>\n",
       "      <td>15</td>\n",
       "    </tr>\n",
       "    <tr>\n",
       "      <th>6</th>\n",
       "      <td>1985</td>\n",
       "      <td>14</td>\n",
       "    </tr>\n",
       "    <tr>\n",
       "      <th>5</th>\n",
       "      <td>1984</td>\n",
       "      <td>14</td>\n",
       "    </tr>\n",
       "    <tr>\n",
       "      <th>1</th>\n",
       "      <td>1980</td>\n",
       "      <td>9</td>\n",
       "    </tr>\n",
       "  </tbody>\n",
       "</table>\n",
       "</div>"
      ],
      "text/plain": [
       "    year_of_release  count\n",
       "29             2008   1427\n",
       "30             2009   1426\n",
       "31             2010   1255\n",
       "28             2007   1197\n",
       "32             2011   1136\n",
       "27             2006   1006\n",
       "26             2005    939\n",
       "23             2002    829\n",
       "24             2003    775\n",
       "25             2004    762\n",
       "33             2012    653\n",
       "36             2015    606\n",
       "35             2014    581\n",
       "34             2013    544\n",
       "37             2016    502\n",
       "22             2001    482\n",
       "19             1998    379\n",
       "21             2000    350\n",
       "20             1999    338\n",
       "18             1997    289\n",
       "0                -1    269\n",
       "17             1996    263\n",
       "16             1995    219\n",
       "15             1994    121\n",
       "14             1993     60\n",
       "2              1981     46\n",
       "13             1992     43\n",
       "12             1991     41\n",
       "3              1982     36\n",
       "7              1986     21\n",
       "10             1989     17\n",
       "4              1983     17\n",
       "8              1987     16\n",
       "11             1990     16\n",
       "9              1988     15\n",
       "6              1985     14\n",
       "5              1984     14\n",
       "1              1980      9"
      ]
     },
     "execution_count": 457,
     "metadata": {},
     "output_type": "execute_result"
    }
   ],
   "source": [
    "game_year = data.groupby(['year_of_release'])['name'].agg(['count']).reset_index()\n",
    "\n",
    "game_year.sort_values('count', ascending = False)"
   ]
  },
  {
   "cell_type": "markdown",
   "metadata": {},
   "source": [
    "больше всего игр из таблицы было выпущено в 2008 году"
   ]
  },
  {
   "cell_type": "markdown",
   "metadata": {},
   "source": [
    "построим график чтобы понять в какие года вышло мало игр : "
   ]
  },
  {
   "cell_type": "code",
   "execution_count": 458,
   "metadata": {},
   "outputs": [
    {
     "data": {
      "image/png": "[encoded data removed]",
      "text/plain": [
       "<Figure size 432x288 with 1 Axes>"
      ]
     },
     "metadata": {
      "needs_background": "light"
     },
     "output_type": "display_data"
    }
   ],
   "source": [
    "game_year.query('year_of_release>0').plot.scatter(x=\"year_of_release\", y=\"count\", alpha=0.5);"
   ]
  },
  {
   "cell_type": "markdown",
   "metadata": {},
   "source": [
    "и отсортируем сводную таблицу по количеству игр по годам:"
   ]
  },
  {
   "cell_type": "code",
   "execution_count": 459,
   "metadata": {},
   "outputs": [
    {
     "data": {
      "text/html": [
       "<div>\n",
       "<style scoped>\n",
       "    .dataframe tbody tr th:only-of-type {\n",
       "        vertical-align: middle;\n",
       "    }\n",
       "\n",
       "    .dataframe tbody tr th {\n",
       "        vertical-align: top;\n",
       "    }\n",
       "\n",
       "    .dataframe thead th {\n",
       "        text-align: right;\n",
       "    }\n",
       "</style>\n",
       "<table border=\"1\" class=\"dataframe\">\n",
       "  <thead>\n",
       "    <tr style=\"text-align: right;\">\n",
       "      <th></th>\n",
       "      <th>year_of_release</th>\n",
       "      <th>count</th>\n",
       "    </tr>\n",
       "  </thead>\n",
       "  <tbody>\n",
       "    <tr>\n",
       "      <th>37</th>\n",
       "      <td>2016</td>\n",
       "      <td>502</td>\n",
       "    </tr>\n",
       "    <tr>\n",
       "      <th>36</th>\n",
       "      <td>2015</td>\n",
       "      <td>606</td>\n",
       "    </tr>\n",
       "    <tr>\n",
       "      <th>35</th>\n",
       "      <td>2014</td>\n",
       "      <td>581</td>\n",
       "    </tr>\n",
       "    <tr>\n",
       "      <th>34</th>\n",
       "      <td>2013</td>\n",
       "      <td>544</td>\n",
       "    </tr>\n",
       "    <tr>\n",
       "      <th>33</th>\n",
       "      <td>2012</td>\n",
       "      <td>653</td>\n",
       "    </tr>\n",
       "    <tr>\n",
       "      <th>32</th>\n",
       "      <td>2011</td>\n",
       "      <td>1136</td>\n",
       "    </tr>\n",
       "    <tr>\n",
       "      <th>31</th>\n",
       "      <td>2010</td>\n",
       "      <td>1255</td>\n",
       "    </tr>\n",
       "    <tr>\n",
       "      <th>30</th>\n",
       "      <td>2009</td>\n",
       "      <td>1426</td>\n",
       "    </tr>\n",
       "    <tr>\n",
       "      <th>29</th>\n",
       "      <td>2008</td>\n",
       "      <td>1427</td>\n",
       "    </tr>\n",
       "    <tr>\n",
       "      <th>28</th>\n",
       "      <td>2007</td>\n",
       "      <td>1197</td>\n",
       "    </tr>\n",
       "    <tr>\n",
       "      <th>27</th>\n",
       "      <td>2006</td>\n",
       "      <td>1006</td>\n",
       "    </tr>\n",
       "    <tr>\n",
       "      <th>26</th>\n",
       "      <td>2005</td>\n",
       "      <td>939</td>\n",
       "    </tr>\n",
       "    <tr>\n",
       "      <th>25</th>\n",
       "      <td>2004</td>\n",
       "      <td>762</td>\n",
       "    </tr>\n",
       "    <tr>\n",
       "      <th>24</th>\n",
       "      <td>2003</td>\n",
       "      <td>775</td>\n",
       "    </tr>\n",
       "    <tr>\n",
       "      <th>23</th>\n",
       "      <td>2002</td>\n",
       "      <td>829</td>\n",
       "    </tr>\n",
       "    <tr>\n",
       "      <th>22</th>\n",
       "      <td>2001</td>\n",
       "      <td>482</td>\n",
       "    </tr>\n",
       "    <tr>\n",
       "      <th>21</th>\n",
       "      <td>2000</td>\n",
       "      <td>350</td>\n",
       "    </tr>\n",
       "    <tr>\n",
       "      <th>20</th>\n",
       "      <td>1999</td>\n",
       "      <td>338</td>\n",
       "    </tr>\n",
       "    <tr>\n",
       "      <th>19</th>\n",
       "      <td>1998</td>\n",
       "      <td>379</td>\n",
       "    </tr>\n",
       "    <tr>\n",
       "      <th>18</th>\n",
       "      <td>1997</td>\n",
       "      <td>289</td>\n",
       "    </tr>\n",
       "    <tr>\n",
       "      <th>17</th>\n",
       "      <td>1996</td>\n",
       "      <td>263</td>\n",
       "    </tr>\n",
       "    <tr>\n",
       "      <th>16</th>\n",
       "      <td>1995</td>\n",
       "      <td>219</td>\n",
       "    </tr>\n",
       "    <tr>\n",
       "      <th>15</th>\n",
       "      <td>1994</td>\n",
       "      <td>121</td>\n",
       "    </tr>\n",
       "    <tr>\n",
       "      <th>14</th>\n",
       "      <td>1993</td>\n",
       "      <td>60</td>\n",
       "    </tr>\n",
       "    <tr>\n",
       "      <th>13</th>\n",
       "      <td>1992</td>\n",
       "      <td>43</td>\n",
       "    </tr>\n",
       "    <tr>\n",
       "      <th>12</th>\n",
       "      <td>1991</td>\n",
       "      <td>41</td>\n",
       "    </tr>\n",
       "    <tr>\n",
       "      <th>11</th>\n",
       "      <td>1990</td>\n",
       "      <td>16</td>\n",
       "    </tr>\n",
       "    <tr>\n",
       "      <th>10</th>\n",
       "      <td>1989</td>\n",
       "      <td>17</td>\n",
       "    </tr>\n",
       "    <tr>\n",
       "      <th>9</th>\n",
       "      <td>1988</td>\n",
       "      <td>15</td>\n",
       "    </tr>\n",
       "    <tr>\n",
       "      <th>8</th>\n",
       "      <td>1987</td>\n",
       "      <td>16</td>\n",
       "    </tr>\n",
       "    <tr>\n",
       "      <th>7</th>\n",
       "      <td>1986</td>\n",
       "      <td>21</td>\n",
       "    </tr>\n",
       "    <tr>\n",
       "      <th>6</th>\n",
       "      <td>1985</td>\n",
       "      <td>14</td>\n",
       "    </tr>\n",
       "    <tr>\n",
       "      <th>5</th>\n",
       "      <td>1984</td>\n",
       "      <td>14</td>\n",
       "    </tr>\n",
       "    <tr>\n",
       "      <th>4</th>\n",
       "      <td>1983</td>\n",
       "      <td>17</td>\n",
       "    </tr>\n",
       "    <tr>\n",
       "      <th>3</th>\n",
       "      <td>1982</td>\n",
       "      <td>36</td>\n",
       "    </tr>\n",
       "    <tr>\n",
       "      <th>2</th>\n",
       "      <td>1981</td>\n",
       "      <td>46</td>\n",
       "    </tr>\n",
       "    <tr>\n",
       "      <th>1</th>\n",
       "      <td>1980</td>\n",
       "      <td>9</td>\n",
       "    </tr>\n",
       "    <tr>\n",
       "      <th>0</th>\n",
       "      <td>-1</td>\n",
       "      <td>269</td>\n",
       "    </tr>\n",
       "  </tbody>\n",
       "</table>\n",
       "</div>"
      ],
      "text/plain": [
       "    year_of_release  count\n",
       "37             2016    502\n",
       "36             2015    606\n",
       "35             2014    581\n",
       "34             2013    544\n",
       "33             2012    653\n",
       "32             2011   1136\n",
       "31             2010   1255\n",
       "30             2009   1426\n",
       "29             2008   1427\n",
       "28             2007   1197\n",
       "27             2006   1006\n",
       "26             2005    939\n",
       "25             2004    762\n",
       "24             2003    775\n",
       "23             2002    829\n",
       "22             2001    482\n",
       "21             2000    350\n",
       "20             1999    338\n",
       "19             1998    379\n",
       "18             1997    289\n",
       "17             1996    263\n",
       "16             1995    219\n",
       "15             1994    121\n",
       "14             1993     60\n",
       "13             1992     43\n",
       "12             1991     41\n",
       "11             1990     16\n",
       "10             1989     17\n",
       "9              1988     15\n",
       "8              1987     16\n",
       "7              1986     21\n",
       "6              1985     14\n",
       "5              1984     14\n",
       "4              1983     17\n",
       "3              1982     36\n",
       "2              1981     46\n",
       "1              1980      9\n",
       "0                -1    269"
      ]
     },
     "execution_count": 459,
     "metadata": {},
     "output_type": "execute_result"
    }
   ],
   "source": [
    "game_year.sort_values('year_of_release', ascending = False)"
   ]
  },
  {
   "cell_type": "markdown",
   "metadata": {},
   "source": [
    "на графике и сводной таблице видно что до 1995 вышло мало игр. Эти года можно отбросить для анализа. "
   ]
  },
  {
   "cell_type": "markdown",
   "metadata": {},
   "source": [
    "Выясним как менялись продажи по платформам. Для этого выделим платформы с наибольшими суммарными продажами:"
   ]
  },
  {
   "cell_type": "code",
   "execution_count": 460,
   "metadata": {
    "scrolled": true
   },
   "outputs": [
    {
     "data": {
      "text/html": [
       "<div>\n",
       "<style scoped>\n",
       "    .dataframe tbody tr th:only-of-type {\n",
       "        vertical-align: middle;\n",
       "    }\n",
       "\n",
       "    .dataframe tbody tr th {\n",
       "        vertical-align: top;\n",
       "    }\n",
       "\n",
       "    .dataframe thead th {\n",
       "        text-align: right;\n",
       "    }\n",
       "</style>\n",
       "<table border=\"1\" class=\"dataframe\">\n",
       "  <thead>\n",
       "    <tr style=\"text-align: right;\">\n",
       "      <th></th>\n",
       "      <th>sum</th>\n",
       "      <th>count</th>\n",
       "    </tr>\n",
       "    <tr>\n",
       "      <th>platform</th>\n",
       "      <th></th>\n",
       "      <th></th>\n",
       "    </tr>\n",
       "  </thead>\n",
       "  <tbody>\n",
       "    <tr>\n",
       "      <th>PS2</th>\n",
       "      <td>1255.77</td>\n",
       "      <td>2161</td>\n",
       "    </tr>\n",
       "    <tr>\n",
       "      <th>X360</th>\n",
       "      <td>971.42</td>\n",
       "      <td>1262</td>\n",
       "    </tr>\n",
       "    <tr>\n",
       "      <th>PS3</th>\n",
       "      <td>939.65</td>\n",
       "      <td>1331</td>\n",
       "    </tr>\n",
       "    <tr>\n",
       "      <th>Wii</th>\n",
       "      <td>907.51</td>\n",
       "      <td>1320</td>\n",
       "    </tr>\n",
       "    <tr>\n",
       "      <th>DS</th>\n",
       "      <td>806.12</td>\n",
       "      <td>2151</td>\n",
       "    </tr>\n",
       "    <tr>\n",
       "      <th>PS</th>\n",
       "      <td>730.86</td>\n",
       "      <td>1197</td>\n",
       "    </tr>\n",
       "    <tr>\n",
       "      <th>GBA</th>\n",
       "      <td>317.85</td>\n",
       "      <td>822</td>\n",
       "    </tr>\n",
       "    <tr>\n",
       "      <th>PS4</th>\n",
       "      <td>314.14</td>\n",
       "      <td>392</td>\n",
       "    </tr>\n",
       "    <tr>\n",
       "      <th>PSP</th>\n",
       "      <td>294.05</td>\n",
       "      <td>1209</td>\n",
       "    </tr>\n",
       "    <tr>\n",
       "      <th>PC</th>\n",
       "      <td>259.52</td>\n",
       "      <td>974</td>\n",
       "    </tr>\n",
       "  </tbody>\n",
       "</table>\n",
       "</div>"
      ],
      "text/plain": [
       "              sum  count\n",
       "platform                \n",
       "PS2       1255.77   2161\n",
       "X360       971.42   1262\n",
       "PS3        939.65   1331\n",
       "Wii        907.51   1320\n",
       "DS         806.12   2151\n",
       "PS         730.86   1197\n",
       "GBA        317.85    822\n",
       "PS4        314.14    392\n",
       "PSP        294.05   1209\n",
       "PC         259.52    974"
      ]
     },
     "execution_count": 460,
     "metadata": {},
     "output_type": "execute_result"
    }
   ],
   "source": [
    "pivot_platform_top = data.pivot_table(index = 'platform', values = 'total_sales', aggfunc = ['sum','count'])\n",
    "pivot_platform_top.columns = ['sum','count']\n",
    "pivot_platform_top.sort_values('sum', ascending = False).head(10)"
   ]
  },
  {
   "cell_type": "markdown",
   "metadata": {},
   "source": [
    "PS2 и X360 самые  успешные платформы. Сохраним топ 10 самых прибыльных платформ в отдельный датафрейм и заодно избавимся от \"-1 \"в year_of_release:"
   ]
  },
  {
   "cell_type": "code",
   "execution_count": 461,
   "metadata": {},
   "outputs": [],
   "source": [
    "platform_top_name=['PS2', 'X360', 'PS3', 'Wii', 'DS', 'PS', 'GBA', 'PS4', 'PSP', 'PC']\n",
    "\n",
    "data_top10_sales=data.query('(platform in @platform_top_name) and (year_of_release>1)')"
   ]
  },
  {
   "cell_type": "markdown",
   "metadata": {},
   "source": [
    "Построим таблицы чтобы понять как менялись суммарные продажи для каждой из 10 платформ:"
   ]
  },
  {
   "cell_type": "code",
   "execution_count": 462,
   "metadata": {
    "scrolled": true
   },
   "outputs": [
    {
     "data": {
      "image/png": "[encoded data removed]",
      "text/plain": [
       "<Figure size 432x288 with 1 Axes>"
      ]
     },
     "metadata": {
      "needs_background": "light"
     },
     "output_type": "display_data"
    },
    {
     "data": {
      "image/png": "[encoded data removed]",
      "text/plain": [
       "<Figure size 432x288 with 1 Axes>"
      ]
     },
     "metadata": {
      "needs_background": "light"
     },
     "output_type": "display_data"
    },
    {
     "data": {
      "image/png": "[encoded data removed]",
      "text/plain": [
       "<Figure size 432x288 with 1 Axes>"
      ]
     },
     "metadata": {
      "needs_background": "light"
     },
     "output_type": "display_data"
    },
    {
     "data": {
      "image/png": "[encoded data removed]",
      "text/plain": [
       "<Figure size 432x288 with 1 Axes>"
      ]
     },
     "metadata": {
      "needs_background": "light"
     },
     "output_type": "display_data"
    },
    {
     "data": {
      "image/png": "[encoded data removed]",
      "text/plain": [
       "<Figure size 432x288 with 1 Axes>"
      ]
     },
     "metadata": {
      "needs_background": "light"
     },
     "output_type": "display_data"
    },
    {
     "data": {
      "image/png": "[encoded data removed]",
      "text/plain": [
       "<Figure size 432x288 with 1 Axes>"
      ]
     },
     "metadata": {
      "needs_background": "light"
     },
     "output_type": "display_data"
    },
    {
     "data": {
      "image/png": "[encoded data removed]",
      "text/plain": [
       "<Figure size 432x288 with 1 Axes>"
      ]
     },
     "metadata": {
      "needs_background": "light"
     },
     "output_type": "display_data"
    },
    {
     "data": {
      "image/png": "[encoded data removed]",
      "text/plain": [
       "<Figure size 432x288 with 1 Axes>"
      ]
     },
     "metadata": {
      "needs_background": "light"
     },
     "output_type": "display_data"
    },
    {
     "data": {
      "image/png": "[encoded data removed]",
      "text/plain": [
       "<Figure size 432x288 with 1 Axes>"
      ]
     },
     "metadata": {
      "needs_background": "light"
     },
     "output_type": "display_data"
    },
    {
     "data": {
      "image/png": "[encoded data removed]",
      "text/plain": [
       "<Figure size 432x288 with 1 Axes>"
      ]
     },
     "metadata": {
      "needs_background": "light"
     },
     "output_type": "display_data"
    }
   ],
   "source": [
    "for platform in platform_top_name:\n",
    "    groups = data_top10_sales.query('platform==@platform')['year_of_release']\n",
    "    counts = data_top10_sales.query('platform==@platform')['total_sales'] \n",
    "\n",
    "    plt.bar(groups, counts)\n",
    "    plt.title(platform)\n",
    "    plt.xlabel(\"год выпуска\")\n",
    "    plt.ylabel(\"суммарные продажи\")\n",
    "    plt.grid(True)\n",
    "    plt.show()\n",
    "\n",
    "    "
   ]
  },
  {
   "cell_type": "markdown",
   "metadata": {},
   "source": [
    "из таблиц видно что есть игра ~1985 года для DS, при том что DS появилась только в 2004 году. Проверим данные по DS:"
   ]
  },
  {
   "cell_type": "code",
   "execution_count": 463,
   "metadata": {
    "scrolled": true
   },
   "outputs": [
    {
     "data": {
      "text/plain": [
       "2008    492\n",
       "2009    403\n",
       "2007    376\n",
       "2010    323\n",
       "2006    201\n",
       "2011    153\n",
       "2005    118\n",
       "2004     23\n",
       "2012     23\n",
       "2013      8\n",
       "1985      1\n",
       "Name: year_of_release, dtype: int64"
      ]
     },
     "execution_count": 463,
     "metadata": {},
     "output_type": "execute_result"
    }
   ],
   "source": [
    "data_top10_sales.query('year_of_release>1 and platform==\"DS\"')['year_of_release'].value_counts()"
   ]
  },
  {
   "cell_type": "markdown",
   "metadata": {},
   "source": [
    "действительно, в данные закралась ошибка, посмотрим что это за игра:"
   ]
  },
  {
   "cell_type": "code",
   "execution_count": 464,
   "metadata": {
    "scrolled": true
   },
   "outputs": [
    {
     "data": {
      "text/html": [
       "<div>\n",
       "<style scoped>\n",
       "    .dataframe tbody tr th:only-of-type {\n",
       "        vertical-align: middle;\n",
       "    }\n",
       "\n",
       "    .dataframe tbody tr th {\n",
       "        vertical-align: top;\n",
       "    }\n",
       "\n",
       "    .dataframe thead th {\n",
       "        text-align: right;\n",
       "    }\n",
       "</style>\n",
       "<table border=\"1\" class=\"dataframe\">\n",
       "  <thead>\n",
       "    <tr style=\"text-align: right;\">\n",
       "      <th></th>\n",
       "      <th>name</th>\n",
       "      <th>platform</th>\n",
       "      <th>year_of_release</th>\n",
       "      <th>genre</th>\n",
       "      <th>na_sales</th>\n",
       "      <th>eu_sales</th>\n",
       "      <th>jp_sales</th>\n",
       "      <th>other_sales</th>\n",
       "      <th>critic_score</th>\n",
       "      <th>user_score</th>\n",
       "      <th>rating</th>\n",
       "      <th>total_sales</th>\n",
       "    </tr>\n",
       "  </thead>\n",
       "  <tbody>\n",
       "    <tr>\n",
       "      <th>15957</th>\n",
       "      <td>Strongest Tokyo University Shogi DS</td>\n",
       "      <td>DS</td>\n",
       "      <td>1985</td>\n",
       "      <td>Action</td>\n",
       "      <td>0.0</td>\n",
       "      <td>0.0</td>\n",
       "      <td>0.02</td>\n",
       "      <td>0.0</td>\n",
       "      <td>NaN</td>\n",
       "      <td>NaN</td>\n",
       "      <td>RP</td>\n",
       "      <td>0.02</td>\n",
       "    </tr>\n",
       "  </tbody>\n",
       "</table>\n",
       "</div>"
      ],
      "text/plain": [
       "                                      name platform  year_of_release   genre  \\\n",
       "15957  Strongest Tokyo University Shogi DS       DS             1985  Action   \n",
       "\n",
       "       na_sales  eu_sales  jp_sales  other_sales  critic_score  user_score  \\\n",
       "15957       0.0       0.0      0.02          0.0           NaN         NaN   \n",
       "\n",
       "      rating  total_sales  \n",
       "15957     RP         0.02  "
      ]
     },
     "execution_count": 464,
     "metadata": {},
     "output_type": "execute_result"
    }
   ],
   "source": [
    "data_top10_sales.query('year_of_release==1985 and platform==\"DS\"')"
   ]
  },
  {
   "cell_type": "markdown",
   "metadata": {},
   "source": [
    "Небольшой поиск показал что Strongest Tokyo University Shogi DS действительно вышла в 1985 году, но платформа остается неизвестной, поэтому удалим это значение из выборки и построим заново таблицы"
   ]
  },
  {
   "cell_type": "code",
   "execution_count": 465,
   "metadata": {},
   "outputs": [],
   "source": [
    "data_top10_sales = data_top10_sales[data_top10_sales['name']\n",
    "                        != 'Strongest Tokyo University Shogi DS']"
   ]
  },
  {
   "cell_type": "markdown",
   "metadata": {},
   "source": [
    "Так же из выборки следует убрать редкие значения для PC"
   ]
  },
  {
   "cell_type": "code",
   "execution_count": 466,
   "metadata": {},
   "outputs": [
    {
     "data": {
      "text/plain": [
       "2011    139\n",
       "2009    107\n",
       "2010     90\n",
       "2008     76\n",
       "2007     62\n",
       "2012     61\n",
       "2016     54\n",
       "2006     52\n",
       "2015     50\n",
       "2014     47\n",
       "2013     38\n",
       "2005     37\n",
       "2003     33\n",
       "2004     30\n",
       "2002     19\n",
       "2001     15\n",
       "1998      8\n",
       "2000      7\n",
       "1999      7\n",
       "1997      6\n",
       "1994      6\n",
       "1992      5\n",
       "1996      4\n",
       "1995      2\n",
       "1988      1\n",
       "1985      1\n",
       "Name: year_of_release, dtype: int64"
      ]
     },
     "execution_count": 466,
     "metadata": {},
     "output_type": "execute_result"
    }
   ],
   "source": [
    "data_top10_sales.query('year_of_release>1 and platform==\"PC\"')['year_of_release'].value_counts()"
   ]
  },
  {
   "cell_type": "markdown",
   "metadata": {},
   "source": [
    "уберем игры 1985 и 1988 годов:"
   ]
  },
  {
   "cell_type": "code",
   "execution_count": 467,
   "metadata": {},
   "outputs": [],
   "source": [
    "data_top10_sales = data_top10_sales[data_top10_sales['year_of_release']!=1985]\n",
    "data_top10_sales = data_top10_sales[data_top10_sales['year_of_release']!=1988]"
   ]
  },
  {
   "cell_type": "markdown",
   "metadata": {},
   "source": [
    "и построим заново таблицы"
   ]
  },
  {
   "cell_type": "code",
   "execution_count": 468,
   "metadata": {},
   "outputs": [
    {
     "data": {
      "image/png": "[encoded data removed]",
      "text/plain": [
       "<Figure size 432x288 with 1 Axes>"
      ]
     },
     "metadata": {
      "needs_background": "light"
     },
     "output_type": "display_data"
    },
    {
     "data": {
      "image/png": "[encoded data removed]",
      "text/plain": [
       "<Figure size 432x288 with 1 Axes>"
      ]
     },
     "metadata": {
      "needs_background": "light"
     },
     "output_type": "display_data"
    },
    {
     "data": {
      "image/png": "[encoded data removed]",
      "text/plain": [
       "<Figure size 432x288 with 1 Axes>"
      ]
     },
     "metadata": {
      "needs_background": "light"
     },
     "output_type": "display_data"
    },
    {
     "data": {
      "image/png": "[encoded data removed]",
      "text/plain": [
       "<Figure size 432x288 with 1 Axes>"
      ]
     },
     "metadata": {
      "needs_background": "light"
     },
     "output_type": "display_data"
    },
    {
     "data": {
      "image/png": "[encoded data removed]",
      "text/plain": [
       "<Figure size 432x288 with 1 Axes>"
      ]
     },
     "metadata": {
      "needs_background": "light"
     },
     "output_type": "display_data"
    },
    {
     "data": {
      "image/png": "[encoded data removed]",
      "text/plain": [
       "<Figure size 432x288 with 1 Axes>"
      ]
     },
     "metadata": {
      "needs_background": "light"
     },
     "output_type": "display_data"
    },
    {
     "data": {
      "image/png": "[encoded data removed]",
      "text/plain": [
       "<Figure size 432x288 with 1 Axes>"
      ]
     },
     "metadata": {
      "needs_background": "light"
     },
     "output_type": "display_data"
    },
    {
     "data": {
      "image/png": "[encoded data removed]",
      "text/plain": [
       "<Figure size 432x288 with 1 Axes>"
      ]
     },
     "metadata": {
      "needs_background": "light"
     },
     "output_type": "display_data"
    },
    {
     "data": {
      "image/png": "[encoded data removed]",
      "text/plain": [
       "<Figure size 432x288 with 1 Axes>"
      ]
     },
     "metadata": {
      "needs_background": "light"
     },
     "output_type": "display_data"
    },
    {
     "data": {
      "image/png": "[encoded data removed]",
      "text/plain": [
       "<Figure size 432x288 with 1 Axes>"
      ]
     },
     "metadata": {
      "needs_background": "light"
     },
     "output_type": "display_data"
    }
   ],
   "source": [
    "for platform in platform_top_name:\n",
    "    groups = data_top10_sales.query('platform==@platform')['year_of_release']\n",
    "    counts = data_top10_sales.query('platform==@platform')['total_sales'] \n",
    "\n",
    "    plt.bar(groups, counts)\n",
    "    plt.title(platform)\n",
    "    plt.xlabel(\"год выпуска\")\n",
    "    plt.ylabel(\"суммарные продажи\")\n",
    "    plt.grid(True)\n",
    "    plt.show()"
   ]
  },
  {
   "cell_type": "markdown",
   "metadata": {},
   "source": [
    "рассчитаем среднюю \"длительность жизни\" платформ:"
   ]
  },
  {
   "cell_type": "code",
   "execution_count": 469,
   "metadata": {
    "scrolled": true
   },
   "outputs": [
    {
     "name": "stdout",
     "output_type": "stream",
     "text": [
      "11\n"
     ]
    }
   ],
   "source": [
    "from statistics import mean\n",
    "sum = []\n",
    "for platform in platform_top_name:\n",
    "    item=data_top10_sales.query('year_of_release>1 and platform==@platform')['year_of_release'].value_counts().count()\n",
    "    sum.append(item)\n",
    "print(mean(sum))"
   ]
  },
  {
   "cell_type": "markdown",
   "metadata": {},
   "source": [
    "построим график чтобы лучше визуализировать продажи:"
   ]
  },
  {
   "cell_type": "code",
   "execution_count": 470,
   "metadata": {
    "scrolled": true
   },
   "outputs": [
    {
     "data": {
      "image/png": "[encoded data removed]",
      "text/plain": [
       "<Figure size 781.75x720 with 1 Axes>"
      ]
     },
     "metadata": {
      "needs_background": "light"
     },
     "output_type": "display_data"
    }
   ],
   "source": [
    "sns.relplot(    x='year_of_release',\n",
    "                y='total_sales',\n",
    "                hue='platform',\n",
    "                markers=True,\n",
    "                kind='line',\n",
    "                data=data_top10_sales,\n",
    "                height=10,\n",
    "                aspect=1\n",
    "                )\n",
    "plt.show()"
   ]
  },
  {
   "cell_type": "markdown",
   "metadata": {},
   "source": [
    "Итого:\n",
    "\n",
    "1)средняя длительность жизни платформы 11 лет. После этого продажи игр этой платформы равны нулю\n",
    "\n",
    "2)до 2000 года была актуальна только PS и PC:\n",
    "\n",
    "3)в 2006 году WII показало рекордно большой показатель по продажам\n",
    "\n",
    "4)рекордсмен по актуальности PC: с 1992 по 2016 год включительно\n",
    "\n",
    "5)PS4 была актуальна только 4 года, но надо помнить о том что наши данные только до 2016 года.\n",
    "\n",
    "6)После 2013 года продажи игр в целом только падают, даже если не учитывать неполный 2016 год.\n"
   ]
  },
  {
   "cell_type": "markdown",
   "metadata": {},
   "source": [
    "За актуальный период примем период начиная с 2013 года, потому что все актуальные платформы вышли в 2013 году. Построим график только за этот период:"
   ]
  },
  {
   "cell_type": "code",
   "execution_count": 471,
   "metadata": {},
   "outputs": [],
   "source": [
    "data_actual_period=data_top10_sales.query('year_of_release>2012')"
   ]
  },
  {
   "cell_type": "code",
   "execution_count": 472,
   "metadata": {
    "scrolled": false
   },
   "outputs": [
    {
     "data": {
      "image/png": "[encoded data removed]",
      "text/plain": [
       "<Figure size 781.75x720 with 1 Axes>"
      ]
     },
     "metadata": {
      "needs_background": "light"
     },
     "output_type": "display_data"
    }
   ],
   "source": [
    "sns.relplot(    x='year_of_release',\n",
    "                y='total_sales',\n",
    "                hue='platform',\n",
    "                markers=True,\n",
    "                kind='line',\n",
    "                data=data_actual_period,\n",
    "                height=10,\n",
    "                aspect=1\n",
    "                )\n",
    "plt.show()"
   ]
  },
  {
   "cell_type": "markdown",
   "metadata": {},
   "source": [
    "как и было выше замечено все продажи игр падают, исключение составляют продажи PSP, которые хоть и малы но остаются на примерно одном уровне."
   ]
  },
  {
   "cell_type": "markdown",
   "metadata": {},
   "source": [
    "Построим «ящик с усами» по глобальным продажам игр по всем платформам за актуальный период:"
   ]
  },
  {
   "cell_type": "code",
   "execution_count": 473,
   "metadata": {
    "scrolled": false
   },
   "outputs": [
    {
     "data": {
      "image/png": "[encoded data removed]",
      "text/plain": [
       "<Figure size 864x432 with 1 Axes>"
      ]
     },
     "metadata": {
      "needs_background": "light"
     },
     "output_type": "display_data"
    }
   ],
   "source": [
    "fig,ax = plt.subplots(figsize=(12,6))\n",
    "boxplot = data_actual_period.boxplot(ax=ax,column='total_sales',by='platform', fontsize=18,grid=False, rot=55)\n",
    "\n",
    "plt.title(\"«ящик с усами» по глобальным продажам игр\")\n",
    "plt.xlabel(\"платформа\")\n",
    "plt.ylabel(\"суммарные продажи\")  \n",
    "ax.set_ylim(0,5)\n",
    "plt.show()"
   ]
  },
  {
   "cell_type": "code",
   "execution_count": 474,
   "metadata": {},
   "outputs": [
    {
     "data": {
      "text/html": [
       "<div>\n",
       "<style scoped>\n",
       "    .dataframe tbody tr th:only-of-type {\n",
       "        vertical-align: middle;\n",
       "    }\n",
       "\n",
       "    .dataframe tbody tr th {\n",
       "        vertical-align: top;\n",
       "    }\n",
       "\n",
       "    .dataframe thead th {\n",
       "        text-align: right;\n",
       "    }\n",
       "</style>\n",
       "<table border=\"1\" class=\"dataframe\">\n",
       "  <thead>\n",
       "    <tr style=\"text-align: right;\">\n",
       "      <th></th>\n",
       "      <th>median</th>\n",
       "      <th>sum</th>\n",
       "      <th>count</th>\n",
       "    </tr>\n",
       "    <tr>\n",
       "      <th>platform</th>\n",
       "      <th></th>\n",
       "      <th></th>\n",
       "      <th></th>\n",
       "    </tr>\n",
       "  </thead>\n",
       "  <tbody>\n",
       "    <tr>\n",
       "      <th>PS4</th>\n",
       "      <td>0.200</td>\n",
       "      <td>314.14</td>\n",
       "      <td>392</td>\n",
       "    </tr>\n",
       "    <tr>\n",
       "      <th>PS3</th>\n",
       "      <td>0.150</td>\n",
       "      <td>181.43</td>\n",
       "      <td>345</td>\n",
       "    </tr>\n",
       "    <tr>\n",
       "      <th>X360</th>\n",
       "      <td>0.265</td>\n",
       "      <td>136.80</td>\n",
       "      <td>186</td>\n",
       "    </tr>\n",
       "    <tr>\n",
       "      <th>PC</th>\n",
       "      <td>0.080</td>\n",
       "      <td>39.43</td>\n",
       "      <td>189</td>\n",
       "    </tr>\n",
       "    <tr>\n",
       "      <th>Wii</th>\n",
       "      <td>0.180</td>\n",
       "      <td>13.66</td>\n",
       "      <td>23</td>\n",
       "    </tr>\n",
       "    <tr>\n",
       "      <th>PSP</th>\n",
       "      <td>0.020</td>\n",
       "      <td>3.50</td>\n",
       "      <td>67</td>\n",
       "    </tr>\n",
       "    <tr>\n",
       "      <th>DS</th>\n",
       "      <td>0.150</td>\n",
       "      <td>1.54</td>\n",
       "      <td>8</td>\n",
       "    </tr>\n",
       "  </tbody>\n",
       "</table>\n",
       "</div>"
      ],
      "text/plain": [
       "          median     sum  count\n",
       "platform                       \n",
       "PS4        0.200  314.14    392\n",
       "PS3        0.150  181.43    345\n",
       "X360       0.265  136.80    186\n",
       "PC         0.080   39.43    189\n",
       "Wii        0.180   13.66     23\n",
       "PSP        0.020    3.50     67\n",
       "DS         0.150    1.54      8"
      ]
     },
     "execution_count": 474,
     "metadata": {},
     "output_type": "execute_result"
    }
   ],
   "source": [
    "pivot_platform_top = data_actual_period.pivot_table(index = 'platform', values = 'total_sales', aggfunc = ['median','sum','count'])\n",
    "pivot_platform_top.columns = ['median','sum','count']\n",
    "pivot_platform_top=pivot_platform_top.sort_values('sum', ascending = False).head(10)\n",
    "pivot_platform_top"
   ]
  },
  {
   "cell_type": "raw",
   "metadata": {},
   "source": [
    "медианный показатель выше всего у X360, на втором месте PS4. Но при этом лидирует по продажам PS4, у PS4 и PS3 много аномальных выбросов. Следует так же обратить внимание на то что DS купили всего 8 раз после 2013 года. По всем платформам кроме DS очень много выборосов, это значит что во всех платформах есть игры стоимость который гораздо больше медианной стоимости."
   ]
  },
  {
   "cell_type": "markdown",
   "metadata": {},
   "source": [
    "Посмотрим, как влияют на продажи PS4 отзывы пользователей и критиков."
   ]
  },
  {
   "cell_type": "markdown",
   "metadata": {},
   "source": [
    "Начнем с отзывов критиков:"
   ]
  },
  {
   "cell_type": "code",
   "execution_count": 475,
   "metadata": {},
   "outputs": [
    {
     "data": {
      "image/png": "[encoded data removed]",
      "text/plain": [
       "<Figure size 720x432 with 1 Axes>"
      ]
     },
     "metadata": {
      "needs_background": "light"
     },
     "output_type": "display_data"
    }
   ],
   "source": [
    "fig, ax = plt.subplots(figsize=(10, 6))\n",
    "ax.scatter(x = data_actual_period.query('platform==\"PS4\"')['total_sales'], y = data_actual_period.query('platform==\"PS4\"')['critic_score'])\n",
    "plt.xlabel(\"суммарные продажи\")\n",
    "plt.ylabel(\"оценка критиков\")  \n",
    "\n",
    "plt.show()"
   ]
  },
  {
   "cell_type": "markdown",
   "metadata": {},
   "source": [
    "видно что с возрастанием оценки критиков есть небольшое увеличение продаж, посчитаем для соответствующих переменных коэффициент корреляции Пирсона"
   ]
  },
  {
   "cell_type": "code",
   "execution_count": 476,
   "metadata": {},
   "outputs": [
    {
     "data": {
      "text/plain": [
       "0.4065679020617816"
      ]
     },
     "execution_count": 476,
     "metadata": {},
     "output_type": "execute_result"
    }
   ],
   "source": [
    "data_actual_period.query('platform==\"PS4\"')['total_sales'].corr(data_actual_period.query('platform==\"PS4\"')['critic_score'])"
   ]
  },
  {
   "cell_type": "markdown",
   "metadata": {},
   "source": [
    "есть довольно слабая связь между продажами PS4 и оценками критиков. По вторим аналогичные вычисления для оценки пользователей:"
   ]
  },
  {
   "cell_type": "code",
   "execution_count": 477,
   "metadata": {},
   "outputs": [
    {
     "data": {
      "image/png": "[encoded data removed]",
      "text/plain": [
       "<Figure size 720x432 with 1 Axes>"
      ]
     },
     "metadata": {
      "needs_background": "light"
     },
     "output_type": "display_data"
    }
   ],
   "source": [
    "fig, ax = plt.subplots(figsize=(10, 6))\n",
    "ax.scatter(x = data_actual_period.query('platform==\"PS4\"')['total_sales'], y = data_actual_period.query('platform==\"PS4\"')['user_score'])\n",
    "plt.xlabel(\"суммарные продажи\")\n",
    "plt.ylabel(\"оценка пользователей\")  \n",
    "\n",
    "plt.show()"
   ]
  },
  {
   "cell_type": "code",
   "execution_count": 478,
   "metadata": {},
   "outputs": [
    {
     "data": {
      "text/plain": [
       "-0.031957110204556424"
      ]
     },
     "execution_count": 478,
     "metadata": {},
     "output_type": "execute_result"
    }
   ],
   "source": [
    "data_actual_period.query('platform==\"PS4\"')['total_sales'].corr(data_actual_period.query('platform==\"PS4\"')['user_score'])"
   ]
  },
  {
   "cell_type": "markdown",
   "metadata": {},
   "source": [
    "Неожиданно оценка пользователей никак не влияет на сумму продаж. "
   ]
  },
  {
   "cell_type": "markdown",
   "metadata": {},
   "source": [
    "Посмотрим справедливо ли это для других платформ:"
   ]
  },
  {
   "cell_type": "code",
   "execution_count": 479,
   "metadata": {},
   "outputs": [
    {
     "name": "stdout",
     "output_type": "stream",
     "text": [
      "PS3 :\n",
      "              total_sales  critic_score  user_score\n",
      "total_sales      1.000000      0.334285    0.002394\n",
      "critic_score     0.334285      1.000000    0.599920\n",
      "user_score       0.002394      0.599920    1.000000\n",
      "X360 :\n",
      "              total_sales  critic_score  user_score\n",
      "total_sales      1.000000      0.350345   -0.011742\n",
      "critic_score     0.350345      1.000000    0.520946\n",
      "user_score      -0.011742      0.520946    1.000000\n",
      "PS4 :\n",
      "              total_sales  critic_score  user_score\n",
      "total_sales      1.000000      0.406568   -0.031957\n",
      "critic_score     0.406568      1.000000    0.557654\n",
      "user_score      -0.031957      0.557654    1.000000\n",
      "Wii :\n",
      "              total_sales  critic_score  user_score\n",
      "total_sales      1.000000           NaN    0.682942\n",
      "critic_score          NaN           NaN         NaN\n",
      "user_score       0.682942           NaN    1.000000\n",
      "Wii :\n",
      "              total_sales  critic_score  user_score\n",
      "total_sales      1.000000           NaN    0.682942\n",
      "critic_score          NaN           NaN         NaN\n",
      "user_score       0.682942           NaN    1.000000\n",
      "PC :\n",
      "              total_sales  critic_score  user_score\n",
      "total_sales      1.000000      0.196030   -0.093842\n",
      "critic_score     0.196030      1.000000    0.429562\n",
      "user_score      -0.093842      0.429562    1.000000\n",
      "DS :\n",
      "              total_sales  critic_score  user_score\n",
      "total_sales           1.0           NaN         NaN\n",
      "critic_score          NaN           NaN         NaN\n",
      "user_score            NaN           NaN         NaN\n",
      "PSP :\n",
      "              total_sales  critic_score  user_score\n",
      "total_sales           1.0           NaN        -1.0\n",
      "critic_score          NaN           NaN         NaN\n",
      "user_score           -1.0           NaN         1.0\n"
     ]
    }
   ],
   "source": [
    "platform_top_name_after2012=['PS3', 'X360', 'PS4', 'Wii', 'Wii', 'PC', 'DS', 'PSP']\n",
    "for platform in platform_top_name_after2012:\n",
    "    print(platform,':')\n",
    "    print(data_actual_period.query('platform==@platform')[['total_sales', 'critic_score','user_score']].corr())"
   ]
  },
  {
   "cell_type": "markdown",
   "metadata": {},
   "source": [
    "для тех платформ для которых получилось посчитать коэффициент корреляции отзывы критиков влияют гораздо больше чем отзывы пользователей."
   ]
  },
  {
   "cell_type": "markdown",
   "metadata": {},
   "source": [
    "Теперь посмотрим на общее распределение игр по жанрам:"
   ]
  },
  {
   "cell_type": "code",
   "execution_count": 480,
   "metadata": {},
   "outputs": [
    {
     "data": {
      "text/html": [
       "<div>\n",
       "<style scoped>\n",
       "    .dataframe tbody tr th:only-of-type {\n",
       "        vertical-align: middle;\n",
       "    }\n",
       "\n",
       "    .dataframe tbody tr th {\n",
       "        vertical-align: top;\n",
       "    }\n",
       "\n",
       "    .dataframe thead th {\n",
       "        text-align: right;\n",
       "    }\n",
       "</style>\n",
       "<table border=\"1\" class=\"dataframe\">\n",
       "  <thead>\n",
       "    <tr style=\"text-align: right;\">\n",
       "      <th></th>\n",
       "      <th>sum</th>\n",
       "      <th>count</th>\n",
       "      <th>median</th>\n",
       "    </tr>\n",
       "    <tr>\n",
       "      <th>genre</th>\n",
       "      <th></th>\n",
       "      <th></th>\n",
       "      <th></th>\n",
       "    </tr>\n",
       "  </thead>\n",
       "  <tbody>\n",
       "    <tr>\n",
       "      <th>Shooter</th>\n",
       "      <td>165.67</td>\n",
       "      <td>138</td>\n",
       "      <td>0.395</td>\n",
       "    </tr>\n",
       "    <tr>\n",
       "      <th>Sports</th>\n",
       "      <td>117.55</td>\n",
       "      <td>146</td>\n",
       "      <td>0.295</td>\n",
       "    </tr>\n",
       "    <tr>\n",
       "      <th>Platform</th>\n",
       "      <td>16.17</td>\n",
       "      <td>33</td>\n",
       "      <td>0.180</td>\n",
       "    </tr>\n",
       "    <tr>\n",
       "      <th>Action</th>\n",
       "      <td>226.05</td>\n",
       "      <td>392</td>\n",
       "      <td>0.145</td>\n",
       "    </tr>\n",
       "    <tr>\n",
       "      <th>Fighting</th>\n",
       "      <td>17.37</td>\n",
       "      <td>52</td>\n",
       "      <td>0.140</td>\n",
       "    </tr>\n",
       "    <tr>\n",
       "      <th>Role-Playing</th>\n",
       "      <td>55.81</td>\n",
       "      <td>133</td>\n",
       "      <td>0.140</td>\n",
       "    </tr>\n",
       "    <tr>\n",
       "      <th>Simulation</th>\n",
       "      <td>11.29</td>\n",
       "      <td>39</td>\n",
       "      <td>0.110</td>\n",
       "    </tr>\n",
       "    <tr>\n",
       "      <th>Racing</th>\n",
       "      <td>22.64</td>\n",
       "      <td>60</td>\n",
       "      <td>0.105</td>\n",
       "    </tr>\n",
       "    <tr>\n",
       "      <th>Misc</th>\n",
       "      <td>37.06</td>\n",
       "      <td>67</td>\n",
       "      <td>0.080</td>\n",
       "    </tr>\n",
       "    <tr>\n",
       "      <th>Strategy</th>\n",
       "      <td>6.82</td>\n",
       "      <td>33</td>\n",
       "      <td>0.080</td>\n",
       "    </tr>\n",
       "  </tbody>\n",
       "</table>\n",
       "</div>"
      ],
      "text/plain": [
       "                 sum  count  median\n",
       "genre                              \n",
       "Shooter       165.67    138   0.395\n",
       "Sports        117.55    146   0.295\n",
       "Platform       16.17     33   0.180\n",
       "Action        226.05    392   0.145\n",
       "Fighting       17.37     52   0.140\n",
       "Role-Playing   55.81    133   0.140\n",
       "Simulation     11.29     39   0.110\n",
       "Racing         22.64     60   0.105\n",
       "Misc           37.06     67   0.080\n",
       "Strategy        6.82     33   0.080"
      ]
     },
     "execution_count": 480,
     "metadata": {},
     "output_type": "execute_result"
    }
   ],
   "source": [
    "pivot_platform_top = data_actual_period.pivot_table(index = 'genre', values = 'total_sales', aggfunc = ['sum','count','median'])\n",
    "pivot_platform_top.columns = ['sum','count','median']\n",
    "pivot_platform_top.sort_values('median', ascending = False).head(10)"
   ]
  },
  {
   "cell_type": "markdown",
   "metadata": {},
   "source": [
    "Видно что самыми популярными жанрами являются Action и Shooter. Но Sports имеет больше игр и самое высокое медианное значение имеет жанр Shooter. Это значит что игры жанра Shooter стабильно приносят высокий доход."
   ]
  },
  {
   "cell_type": "markdown",
   "metadata": {},
   "source": [
    "## Портрет пользователя каждого региона"
   ]
  },
  {
   "cell_type": "markdown",
   "metadata": {},
   "source": [
    "Определим для пользователя каждого региона (NA, EU, JP) самые популярные платформы и самые популярные жанры \n",
    "Начнем c платформ:"
   ]
  },
  {
   "cell_type": "code",
   "execution_count": 481,
   "metadata": {},
   "outputs": [
    {
     "data": {
      "text/html": [
       "<div>\n",
       "<style scoped>\n",
       "    .dataframe tbody tr th:only-of-type {\n",
       "        vertical-align: middle;\n",
       "    }\n",
       "\n",
       "    .dataframe tbody tr th {\n",
       "        vertical-align: top;\n",
       "    }\n",
       "\n",
       "    .dataframe thead th {\n",
       "        text-align: right;\n",
       "    }\n",
       "</style>\n",
       "<table border=\"1\" class=\"dataframe\">\n",
       "  <thead>\n",
       "    <tr style=\"text-align: right;\">\n",
       "      <th></th>\n",
       "      <th>eu_sales_sum</th>\n",
       "      <th>jp_sales_sum</th>\n",
       "      <th>na_sales_sum</th>\n",
       "      <th>eu_sales_count</th>\n",
       "      <th>jp_sales_count</th>\n",
       "      <th>na_sales_count</th>\n",
       "    </tr>\n",
       "    <tr>\n",
       "      <th>platform</th>\n",
       "      <th></th>\n",
       "      <th></th>\n",
       "      <th></th>\n",
       "      <th></th>\n",
       "      <th></th>\n",
       "      <th></th>\n",
       "    </tr>\n",
       "  </thead>\n",
       "  <tbody>\n",
       "    <tr>\n",
       "      <th>PS4</th>\n",
       "      <td>141.09</td>\n",
       "      <td>15.96</td>\n",
       "      <td>108.74</td>\n",
       "      <td>392</td>\n",
       "      <td>392</td>\n",
       "      <td>392</td>\n",
       "    </tr>\n",
       "    <tr>\n",
       "      <th>X360</th>\n",
       "      <td>42.52</td>\n",
       "      <td>0.51</td>\n",
       "      <td>81.66</td>\n",
       "      <td>186</td>\n",
       "      <td>186</td>\n",
       "      <td>186</td>\n",
       "    </tr>\n",
       "    <tr>\n",
       "      <th>PS3</th>\n",
       "      <td>67.81</td>\n",
       "      <td>23.35</td>\n",
       "      <td>63.50</td>\n",
       "      <td>345</td>\n",
       "      <td>345</td>\n",
       "      <td>345</td>\n",
       "    </tr>\n",
       "    <tr>\n",
       "      <th>PC</th>\n",
       "      <td>25.36</td>\n",
       "      <td>0.00</td>\n",
       "      <td>11.11</td>\n",
       "      <td>189</td>\n",
       "      <td>189</td>\n",
       "      <td>189</td>\n",
       "    </tr>\n",
       "    <tr>\n",
       "      <th>Wii</th>\n",
       "      <td>5.93</td>\n",
       "      <td>0.05</td>\n",
       "      <td>6.56</td>\n",
       "      <td>23</td>\n",
       "      <td>23</td>\n",
       "      <td>23</td>\n",
       "    </tr>\n",
       "  </tbody>\n",
       "</table>\n",
       "</div>"
      ],
      "text/plain": [
       "          eu_sales_sum  jp_sales_sum  na_sales_sum  eu_sales_count  \\\n",
       "platform                                                             \n",
       "PS4             141.09         15.96        108.74             392   \n",
       "X360             42.52          0.51         81.66             186   \n",
       "PS3              67.81         23.35         63.50             345   \n",
       "PC               25.36          0.00         11.11             189   \n",
       "Wii               5.93          0.05          6.56              23   \n",
       "\n",
       "          jp_sales_count  na_sales_count  \n",
       "platform                                  \n",
       "PS4                  392             392  \n",
       "X360                 186             186  \n",
       "PS3                  345             345  \n",
       "PC                   189             189  \n",
       "Wii                   23              23  "
      ]
     },
     "execution_count": 481,
     "metadata": {},
     "output_type": "execute_result"
    }
   ],
   "source": [
    "pivot_platform_top = data_actual_period.pivot_table(index = 'platform', values = ['na_sales','eu_sales','jp_sales'], aggfunc = ['sum','count'])\n",
    "pivot_platform_top.columns = ['eu_sales_sum','jp_sales_sum','na_sales_sum','eu_sales_count','jp_sales_count','na_sales_count']\n",
    "pivot_platform_top.sort_values('na_sales_sum', ascending = False).head(5)\n"
   ]
  },
  {
   "cell_type": "markdown",
   "metadata": {},
   "source": [
    "Самая популярная платформа для Северной америки PS4."
   ]
  },
  {
   "cell_type": "code",
   "execution_count": 482,
   "metadata": {},
   "outputs": [
    {
     "data": {
      "text/html": [
       "<div>\n",
       "<style scoped>\n",
       "    .dataframe tbody tr th:only-of-type {\n",
       "        vertical-align: middle;\n",
       "    }\n",
       "\n",
       "    .dataframe tbody tr th {\n",
       "        vertical-align: top;\n",
       "    }\n",
       "\n",
       "    .dataframe thead th {\n",
       "        text-align: right;\n",
       "    }\n",
       "</style>\n",
       "<table border=\"1\" class=\"dataframe\">\n",
       "  <thead>\n",
       "    <tr style=\"text-align: right;\">\n",
       "      <th></th>\n",
       "      <th>eu_sales_sum</th>\n",
       "      <th>jp_sales_sum</th>\n",
       "      <th>na_sales_sum</th>\n",
       "      <th>eu_sales_count</th>\n",
       "      <th>jp_sales_count</th>\n",
       "      <th>na_sales_count</th>\n",
       "    </tr>\n",
       "    <tr>\n",
       "      <th>platform</th>\n",
       "      <th></th>\n",
       "      <th></th>\n",
       "      <th></th>\n",
       "      <th></th>\n",
       "      <th></th>\n",
       "      <th></th>\n",
       "    </tr>\n",
       "  </thead>\n",
       "  <tbody>\n",
       "    <tr>\n",
       "      <th>PS4</th>\n",
       "      <td>141.09</td>\n",
       "      <td>15.96</td>\n",
       "      <td>108.74</td>\n",
       "      <td>392</td>\n",
       "      <td>392</td>\n",
       "      <td>392</td>\n",
       "    </tr>\n",
       "    <tr>\n",
       "      <th>PS3</th>\n",
       "      <td>67.81</td>\n",
       "      <td>23.35</td>\n",
       "      <td>63.50</td>\n",
       "      <td>345</td>\n",
       "      <td>345</td>\n",
       "      <td>345</td>\n",
       "    </tr>\n",
       "    <tr>\n",
       "      <th>X360</th>\n",
       "      <td>42.52</td>\n",
       "      <td>0.51</td>\n",
       "      <td>81.66</td>\n",
       "      <td>186</td>\n",
       "      <td>186</td>\n",
       "      <td>186</td>\n",
       "    </tr>\n",
       "    <tr>\n",
       "      <th>PC</th>\n",
       "      <td>25.36</td>\n",
       "      <td>0.00</td>\n",
       "      <td>11.11</td>\n",
       "      <td>189</td>\n",
       "      <td>189</td>\n",
       "      <td>189</td>\n",
       "    </tr>\n",
       "    <tr>\n",
       "      <th>Wii</th>\n",
       "      <td>5.93</td>\n",
       "      <td>0.05</td>\n",
       "      <td>6.56</td>\n",
       "      <td>23</td>\n",
       "      <td>23</td>\n",
       "      <td>23</td>\n",
       "    </tr>\n",
       "  </tbody>\n",
       "</table>\n",
       "</div>"
      ],
      "text/plain": [
       "          eu_sales_sum  jp_sales_sum  na_sales_sum  eu_sales_count  \\\n",
       "platform                                                             \n",
       "PS4             141.09         15.96        108.74             392   \n",
       "PS3              67.81         23.35         63.50             345   \n",
       "X360             42.52          0.51         81.66             186   \n",
       "PC               25.36          0.00         11.11             189   \n",
       "Wii               5.93          0.05          6.56              23   \n",
       "\n",
       "          jp_sales_count  na_sales_count  \n",
       "platform                                  \n",
       "PS4                  392             392  \n",
       "PS3                  345             345  \n",
       "X360                 186             186  \n",
       "PC                   189             189  \n",
       "Wii                   23              23  "
      ]
     },
     "execution_count": 482,
     "metadata": {},
     "output_type": "execute_result"
    }
   ],
   "source": [
    "pivot_platform_top.sort_values('eu_sales_sum', ascending = False).head(5)"
   ]
  },
  {
   "cell_type": "markdown",
   "metadata": {},
   "source": [
    "Самая популярная платформа для Европы PS4. Топ5 приставок по Европе очень похож на топ5 по Северной Америке"
   ]
  },
  {
   "cell_type": "code",
   "execution_count": 483,
   "metadata": {},
   "outputs": [
    {
     "data": {
      "text/html": [
       "<div>\n",
       "<style scoped>\n",
       "    .dataframe tbody tr th:only-of-type {\n",
       "        vertical-align: middle;\n",
       "    }\n",
       "\n",
       "    .dataframe tbody tr th {\n",
       "        vertical-align: top;\n",
       "    }\n",
       "\n",
       "    .dataframe thead th {\n",
       "        text-align: right;\n",
       "    }\n",
       "</style>\n",
       "<table border=\"1\" class=\"dataframe\">\n",
       "  <thead>\n",
       "    <tr style=\"text-align: right;\">\n",
       "      <th></th>\n",
       "      <th>eu_sales_sum</th>\n",
       "      <th>jp_sales_sum</th>\n",
       "      <th>na_sales_sum</th>\n",
       "      <th>eu_sales_count</th>\n",
       "      <th>jp_sales_count</th>\n",
       "      <th>na_sales_count</th>\n",
       "    </tr>\n",
       "    <tr>\n",
       "      <th>platform</th>\n",
       "      <th></th>\n",
       "      <th></th>\n",
       "      <th></th>\n",
       "      <th></th>\n",
       "      <th></th>\n",
       "      <th></th>\n",
       "    </tr>\n",
       "  </thead>\n",
       "  <tbody>\n",
       "    <tr>\n",
       "      <th>PS3</th>\n",
       "      <td>67.81</td>\n",
       "      <td>23.35</td>\n",
       "      <td>63.50</td>\n",
       "      <td>345</td>\n",
       "      <td>345</td>\n",
       "      <td>345</td>\n",
       "    </tr>\n",
       "    <tr>\n",
       "      <th>PS4</th>\n",
       "      <td>141.09</td>\n",
       "      <td>15.96</td>\n",
       "      <td>108.74</td>\n",
       "      <td>392</td>\n",
       "      <td>392</td>\n",
       "      <td>392</td>\n",
       "    </tr>\n",
       "    <tr>\n",
       "      <th>PSP</th>\n",
       "      <td>0.17</td>\n",
       "      <td>3.29</td>\n",
       "      <td>0.00</td>\n",
       "      <td>67</td>\n",
       "      <td>67</td>\n",
       "      <td>67</td>\n",
       "    </tr>\n",
       "    <tr>\n",
       "      <th>X360</th>\n",
       "      <td>42.52</td>\n",
       "      <td>0.51</td>\n",
       "      <td>81.66</td>\n",
       "      <td>186</td>\n",
       "      <td>186</td>\n",
       "      <td>186</td>\n",
       "    </tr>\n",
       "    <tr>\n",
       "      <th>Wii</th>\n",
       "      <td>5.93</td>\n",
       "      <td>0.05</td>\n",
       "      <td>6.56</td>\n",
       "      <td>23</td>\n",
       "      <td>23</td>\n",
       "      <td>23</td>\n",
       "    </tr>\n",
       "  </tbody>\n",
       "</table>\n",
       "</div>"
      ],
      "text/plain": [
       "          eu_sales_sum  jp_sales_sum  na_sales_sum  eu_sales_count  \\\n",
       "platform                                                             \n",
       "PS3              67.81         23.35         63.50             345   \n",
       "PS4             141.09         15.96        108.74             392   \n",
       "PSP               0.17          3.29          0.00              67   \n",
       "X360             42.52          0.51         81.66             186   \n",
       "Wii               5.93          0.05          6.56              23   \n",
       "\n",
       "          jp_sales_count  na_sales_count  \n",
       "platform                                  \n",
       "PS3                  345             345  \n",
       "PS4                  392             392  \n",
       "PSP                   67              67  \n",
       "X360                 186             186  \n",
       "Wii                   23              23  "
      ]
     },
     "execution_count": 483,
     "metadata": {},
     "output_type": "execute_result"
    }
   ],
   "source": [
    "pivot_platform_top.sort_values('jp_sales_sum', ascending = False).head(5)"
   ]
  },
  {
   "cell_type": "markdown",
   "metadata": {},
   "source": [
    "Самая популярная платформа для PS3. Сильная разница с Европой и Америкой из-за огромной популярности компании Sony"
   ]
  },
  {
   "cell_type": "markdown",
   "metadata": {},
   "source": [
    "построим графики чтобы лучше визуализировать топ5 приставок:"
   ]
  },
  {
   "cell_type": "code",
   "execution_count": 484,
   "metadata": {},
   "outputs": [
    {
     "data": {
      "image/png": "[encoded data removed]",
      "text/plain": [
       "<Figure size 360x360 with 1 Axes>"
      ]
     },
     "metadata": {},
     "output_type": "display_data"
    },
    {
     "data": {
      "image/png": "[encoded data removed]",
      "text/plain": [
       "<Figure size 360x360 with 1 Axes>"
      ]
     },
     "metadata": {},
     "output_type": "display_data"
    },
    {
     "data": {
      "image/png": "[encoded data removed]",
      "text/plain": [
       "<Figure size 360x360 with 1 Axes>"
      ]
     },
     "metadata": {},
     "output_type": "display_data"
    }
   ],
   "source": [
    "plot = pivot_platform_top.plot.pie(y='na_sales_sum', figsize=(5, 5))\n",
    "plot = pivot_platform_top.plot.pie(y='eu_sales_sum', figsize=(5, 5))\n",
    "plot = pivot_platform_top.plot.pie(y='jp_sales_sum', figsize=(5, 5))"
   ]
  },
  {
   "cell_type": "markdown",
   "metadata": {},
   "source": [
    "Самый популярные платформы отличаются по регионам, в Северной америке это X360 , в Европе это PS2, а в Японии DS. PS2 фигурирует в топ5 по всем регионам."
   ]
  },
  {
   "cell_type": "code",
   "execution_count": 485,
   "metadata": {},
   "outputs": [
    {
     "data": {
      "text/html": [
       "<div>\n",
       "<style scoped>\n",
       "    .dataframe tbody tr th:only-of-type {\n",
       "        vertical-align: middle;\n",
       "    }\n",
       "\n",
       "    .dataframe tbody tr th {\n",
       "        vertical-align: top;\n",
       "    }\n",
       "\n",
       "    .dataframe thead th {\n",
       "        text-align: right;\n",
       "    }\n",
       "</style>\n",
       "<table border=\"1\" class=\"dataframe\">\n",
       "  <thead>\n",
       "    <tr style=\"text-align: right;\">\n",
       "      <th></th>\n",
       "      <th>eu_sales_sum</th>\n",
       "      <th>jp_sales_sum</th>\n",
       "      <th>na_sales_sum</th>\n",
       "      <th>eu_sales_count</th>\n",
       "      <th>jp_sales_count</th>\n",
       "      <th>na_sales_count</th>\n",
       "    </tr>\n",
       "    <tr>\n",
       "      <th>genre</th>\n",
       "      <th></th>\n",
       "      <th></th>\n",
       "      <th></th>\n",
       "      <th></th>\n",
       "      <th></th>\n",
       "      <th></th>\n",
       "    </tr>\n",
       "  </thead>\n",
       "  <tbody>\n",
       "    <tr>\n",
       "      <th>Action</th>\n",
       "      <td>91.38</td>\n",
       "      <td>16.52</td>\n",
       "      <td>87.71</td>\n",
       "      <td>392</td>\n",
       "      <td>392</td>\n",
       "      <td>392</td>\n",
       "    </tr>\n",
       "    <tr>\n",
       "      <th>Shooter</th>\n",
       "      <td>67.93</td>\n",
       "      <td>4.86</td>\n",
       "      <td>70.28</td>\n",
       "      <td>138</td>\n",
       "      <td>138</td>\n",
       "      <td>138</td>\n",
       "    </tr>\n",
       "    <tr>\n",
       "      <th>Sports</th>\n",
       "      <td>49.61</td>\n",
       "      <td>3.35</td>\n",
       "      <td>48.07</td>\n",
       "      <td>146</td>\n",
       "      <td>146</td>\n",
       "      <td>146</td>\n",
       "    </tr>\n",
       "    <tr>\n",
       "      <th>Role-Playing</th>\n",
       "      <td>19.69</td>\n",
       "      <td>9.75</td>\n",
       "      <td>19.58</td>\n",
       "      <td>133</td>\n",
       "      <td>133</td>\n",
       "      <td>133</td>\n",
       "    </tr>\n",
       "    <tr>\n",
       "      <th>Misc</th>\n",
       "      <td>13.07</td>\n",
       "      <td>1.35</td>\n",
       "      <td>18.30</td>\n",
       "      <td>67</td>\n",
       "      <td>67</td>\n",
       "      <td>67</td>\n",
       "    </tr>\n",
       "  </tbody>\n",
       "</table>\n",
       "</div>"
      ],
      "text/plain": [
       "              eu_sales_sum  jp_sales_sum  na_sales_sum  eu_sales_count  \\\n",
       "genre                                                                    \n",
       "Action               91.38         16.52         87.71             392   \n",
       "Shooter              67.93          4.86         70.28             138   \n",
       "Sports               49.61          3.35         48.07             146   \n",
       "Role-Playing         19.69          9.75         19.58             133   \n",
       "Misc                 13.07          1.35         18.30              67   \n",
       "\n",
       "              jp_sales_count  na_sales_count  \n",
       "genre                                         \n",
       "Action                   392             392  \n",
       "Shooter                  138             138  \n",
       "Sports                   146             146  \n",
       "Role-Playing             133             133  \n",
       "Misc                      67              67  "
      ]
     },
     "execution_count": 485,
     "metadata": {},
     "output_type": "execute_result"
    }
   ],
   "source": [
    "pivot_top_genre = data_actual_period.pivot_table(index = 'genre', values = ['na_sales','eu_sales','jp_sales'], aggfunc = ['sum','count'])\n",
    "pivot_top_genre.columns = ['eu_sales_sum','jp_sales_sum','na_sales_sum','eu_sales_count','jp_sales_count','na_sales_count']\n",
    "pivot_top_genre.sort_values('na_sales_sum', ascending = False).head(5)"
   ]
  },
  {
   "cell_type": "markdown",
   "metadata": {},
   "source": [
    "В Северной Америке самый популярный жанр Avtion "
   ]
  },
  {
   "cell_type": "code",
   "execution_count": 486,
   "metadata": {},
   "outputs": [
    {
     "data": {
      "text/html": [
       "<div>\n",
       "<style scoped>\n",
       "    .dataframe tbody tr th:only-of-type {\n",
       "        vertical-align: middle;\n",
       "    }\n",
       "\n",
       "    .dataframe tbody tr th {\n",
       "        vertical-align: top;\n",
       "    }\n",
       "\n",
       "    .dataframe thead th {\n",
       "        text-align: right;\n",
       "    }\n",
       "</style>\n",
       "<table border=\"1\" class=\"dataframe\">\n",
       "  <thead>\n",
       "    <tr style=\"text-align: right;\">\n",
       "      <th></th>\n",
       "      <th>eu_sales_sum</th>\n",
       "      <th>jp_sales_sum</th>\n",
       "      <th>na_sales_sum</th>\n",
       "      <th>eu_sales_count</th>\n",
       "      <th>jp_sales_count</th>\n",
       "      <th>na_sales_count</th>\n",
       "    </tr>\n",
       "    <tr>\n",
       "      <th>genre</th>\n",
       "      <th></th>\n",
       "      <th></th>\n",
       "      <th></th>\n",
       "      <th></th>\n",
       "      <th></th>\n",
       "      <th></th>\n",
       "    </tr>\n",
       "  </thead>\n",
       "  <tbody>\n",
       "    <tr>\n",
       "      <th>Action</th>\n",
       "      <td>91.38</td>\n",
       "      <td>16.52</td>\n",
       "      <td>87.71</td>\n",
       "      <td>392</td>\n",
       "      <td>392</td>\n",
       "      <td>392</td>\n",
       "    </tr>\n",
       "    <tr>\n",
       "      <th>Shooter</th>\n",
       "      <td>67.93</td>\n",
       "      <td>4.86</td>\n",
       "      <td>70.28</td>\n",
       "      <td>138</td>\n",
       "      <td>138</td>\n",
       "      <td>138</td>\n",
       "    </tr>\n",
       "    <tr>\n",
       "      <th>Sports</th>\n",
       "      <td>49.61</td>\n",
       "      <td>3.35</td>\n",
       "      <td>48.07</td>\n",
       "      <td>146</td>\n",
       "      <td>146</td>\n",
       "      <td>146</td>\n",
       "    </tr>\n",
       "    <tr>\n",
       "      <th>Role-Playing</th>\n",
       "      <td>19.69</td>\n",
       "      <td>9.75</td>\n",
       "      <td>19.58</td>\n",
       "      <td>133</td>\n",
       "      <td>133</td>\n",
       "      <td>133</td>\n",
       "    </tr>\n",
       "    <tr>\n",
       "      <th>Racing</th>\n",
       "      <td>13.33</td>\n",
       "      <td>0.88</td>\n",
       "      <td>5.32</td>\n",
       "      <td>60</td>\n",
       "      <td>60</td>\n",
       "      <td>60</td>\n",
       "    </tr>\n",
       "  </tbody>\n",
       "</table>\n",
       "</div>"
      ],
      "text/plain": [
       "              eu_sales_sum  jp_sales_sum  na_sales_sum  eu_sales_count  \\\n",
       "genre                                                                    \n",
       "Action               91.38         16.52         87.71             392   \n",
       "Shooter              67.93          4.86         70.28             138   \n",
       "Sports               49.61          3.35         48.07             146   \n",
       "Role-Playing         19.69          9.75         19.58             133   \n",
       "Racing               13.33          0.88          5.32              60   \n",
       "\n",
       "              jp_sales_count  na_sales_count  \n",
       "genre                                         \n",
       "Action                   392             392  \n",
       "Shooter                  138             138  \n",
       "Sports                   146             146  \n",
       "Role-Playing             133             133  \n",
       "Racing                    60              60  "
      ]
     },
     "execution_count": 486,
     "metadata": {},
     "output_type": "execute_result"
    }
   ],
   "source": [
    "pivot_top_genre.sort_values('eu_sales_sum', ascending = False).head(5)"
   ]
  },
  {
   "cell_type": "markdown",
   "metadata": {},
   "source": [
    "Европа мало чем отличается от Северной Америки в плане любимых жанров"
   ]
  },
  {
   "cell_type": "code",
   "execution_count": 487,
   "metadata": {},
   "outputs": [
    {
     "data": {
      "text/html": [
       "<div>\n",
       "<style scoped>\n",
       "    .dataframe tbody tr th:only-of-type {\n",
       "        vertical-align: middle;\n",
       "    }\n",
       "\n",
       "    .dataframe tbody tr th {\n",
       "        vertical-align: top;\n",
       "    }\n",
       "\n",
       "    .dataframe thead th {\n",
       "        text-align: right;\n",
       "    }\n",
       "</style>\n",
       "<table border=\"1\" class=\"dataframe\">\n",
       "  <thead>\n",
       "    <tr style=\"text-align: right;\">\n",
       "      <th></th>\n",
       "      <th>eu_sales_sum</th>\n",
       "      <th>jp_sales_sum</th>\n",
       "      <th>na_sales_sum</th>\n",
       "      <th>eu_sales_count</th>\n",
       "      <th>jp_sales_count</th>\n",
       "      <th>na_sales_count</th>\n",
       "    </tr>\n",
       "    <tr>\n",
       "      <th>genre</th>\n",
       "      <th></th>\n",
       "      <th></th>\n",
       "      <th></th>\n",
       "      <th></th>\n",
       "      <th></th>\n",
       "      <th></th>\n",
       "    </tr>\n",
       "  </thead>\n",
       "  <tbody>\n",
       "    <tr>\n",
       "      <th>Action</th>\n",
       "      <td>91.38</td>\n",
       "      <td>16.52</td>\n",
       "      <td>87.71</td>\n",
       "      <td>392</td>\n",
       "      <td>392</td>\n",
       "      <td>392</td>\n",
       "    </tr>\n",
       "    <tr>\n",
       "      <th>Role-Playing</th>\n",
       "      <td>19.69</td>\n",
       "      <td>9.75</td>\n",
       "      <td>19.58</td>\n",
       "      <td>133</td>\n",
       "      <td>133</td>\n",
       "      <td>133</td>\n",
       "    </tr>\n",
       "    <tr>\n",
       "      <th>Shooter</th>\n",
       "      <td>67.93</td>\n",
       "      <td>4.86</td>\n",
       "      <td>70.28</td>\n",
       "      <td>138</td>\n",
       "      <td>138</td>\n",
       "      <td>138</td>\n",
       "    </tr>\n",
       "    <tr>\n",
       "      <th>Sports</th>\n",
       "      <td>49.61</td>\n",
       "      <td>3.35</td>\n",
       "      <td>48.07</td>\n",
       "      <td>146</td>\n",
       "      <td>146</td>\n",
       "      <td>146</td>\n",
       "    </tr>\n",
       "    <tr>\n",
       "      <th>Fighting</th>\n",
       "      <td>5.03</td>\n",
       "      <td>3.07</td>\n",
       "      <td>7.06</td>\n",
       "      <td>52</td>\n",
       "      <td>52</td>\n",
       "      <td>52</td>\n",
       "    </tr>\n",
       "  </tbody>\n",
       "</table>\n",
       "</div>"
      ],
      "text/plain": [
       "              eu_sales_sum  jp_sales_sum  na_sales_sum  eu_sales_count  \\\n",
       "genre                                                                    \n",
       "Action               91.38         16.52         87.71             392   \n",
       "Role-Playing         19.69          9.75         19.58             133   \n",
       "Shooter              67.93          4.86         70.28             138   \n",
       "Sports               49.61          3.35         48.07             146   \n",
       "Fighting              5.03          3.07          7.06              52   \n",
       "\n",
       "              jp_sales_count  na_sales_count  \n",
       "genre                                         \n",
       "Action                   392             392  \n",
       "Role-Playing             133             133  \n",
       "Shooter                  138             138  \n",
       "Sports                   146             146  \n",
       "Fighting                  52              52  "
      ]
     },
     "execution_count": 487,
     "metadata": {},
     "output_type": "execute_result"
    }
   ],
   "source": [
    "pivot_top_genre.sort_values('jp_sales_sum', ascending = False).head(5)"
   ]
  },
  {
   "cell_type": "markdown",
   "metadata": {},
   "source": [
    "Асtion любят во всех странах. В Японии гораздо больше популярен жанр RPG"
   ]
  },
  {
   "cell_type": "markdown",
   "metadata": {},
   "source": [
    "Проверим ли влияет ли рейтинг ESRB на продажи в регионах, для этого переведем строковые значения `rating` в цифровые где чем выше тем для более большого возраста подходит игра."
   ]
  },
  {
   "cell_type": "code",
   "execution_count": 488,
   "metadata": {},
   "outputs": [
    {
     "name": "stderr",
     "output_type": "stream",
     "text": [
      "/tmp/ipykernel_58/1592777834.py:20: SettingWithCopyWarning: \n",
      "A value is trying to be set on a copy of a slice from a DataFrame.\n",
      "Try using .loc[row_indexer,col_indexer] = value instead\n",
      "\n",
      "See the caveats in the documentation: https://pandas.pydata.org/pandas-docs/stable/user_guide/indexing.html#returning-a-view-versus-a-copy\n",
      "  data_actual_period['rating_num']=data_actual_period['rating'].apply(rating_to_num)\n"
     ]
    }
   ],
   "source": [
    "def rating_to_num(rating): \n",
    "    if rating=='RP':\n",
    "        return 0\n",
    "    if rating=='E' :\n",
    "        return 1\n",
    "    if rating=='K-A':\n",
    "        return 1\n",
    "    #рейтинг K-A это ретинг E для игр 1994–1998 годов\n",
    "    if rating=='E10+':\n",
    "        return 2\n",
    "    if rating=='T':\n",
    "        return 3\n",
    "    if rating=='M':\n",
    "        return 4\n",
    "    if rating=='AO':\n",
    "        return 5\n",
    "    if rating=='EC':\n",
    "        return 0\n",
    "    #рейтинг EC означает что игра подходит для детей от 3 лет и более не используется, определим его в 0 потому что 1 это E, для детей 6 лет. \n",
    "data_actual_period['rating_num']=data_actual_period['rating'].apply(rating_to_num)"
   ]
  },
  {
   "cell_type": "markdown",
   "metadata": {},
   "source": [
    "проверим что все значения успешно поменялись"
   ]
  },
  {
   "cell_type": "code",
   "execution_count": 489,
   "metadata": {},
   "outputs": [
    {
     "name": "stdout",
     "output_type": "stream",
     "text": [
      "1210\n"
     ]
    }
   ],
   "source": [
    "print(data_actual_period['rating_num'].value_counts().sum())"
   ]
  },
  {
   "cell_type": "code",
   "execution_count": 490,
   "metadata": {},
   "outputs": [
    {
     "name": "stdout",
     "output_type": "stream",
     "text": [
      "1210\n"
     ]
    }
   ],
   "source": [
    "print(data_actual_period['rating'].value_counts().sum()) "
   ]
  },
  {
   "cell_type": "markdown",
   "metadata": {},
   "source": [
    "и Посмотрим как рейтинг влияет на продажи игр в разных странах:"
   ]
  },
  {
   "cell_type": "code",
   "execution_count": 491,
   "metadata": {},
   "outputs": [
    {
     "data": {
      "text/html": [
       "<div>\n",
       "<style scoped>\n",
       "    .dataframe tbody tr th:only-of-type {\n",
       "        vertical-align: middle;\n",
       "    }\n",
       "\n",
       "    .dataframe tbody tr th {\n",
       "        vertical-align: top;\n",
       "    }\n",
       "\n",
       "    .dataframe thead th {\n",
       "        text-align: right;\n",
       "    }\n",
       "</style>\n",
       "<table border=\"1\" class=\"dataframe\">\n",
       "  <thead>\n",
       "    <tr style=\"text-align: right;\">\n",
       "      <th></th>\n",
       "      <th>eu_sales_sum</th>\n",
       "      <th>jp_sales_sum</th>\n",
       "      <th>na_sales_sum</th>\n",
       "      <th>eu_sales_count</th>\n",
       "      <th>jp_sales_count</th>\n",
       "      <th>na_sales_count</th>\n",
       "    </tr>\n",
       "    <tr>\n",
       "      <th>rating</th>\n",
       "      <th></th>\n",
       "      <th></th>\n",
       "      <th></th>\n",
       "      <th></th>\n",
       "      <th></th>\n",
       "      <th></th>\n",
       "    </tr>\n",
       "  </thead>\n",
       "  <tbody>\n",
       "    <tr>\n",
       "      <th>RP</th>\n",
       "      <td>47.38</td>\n",
       "      <td>18.33</td>\n",
       "      <td>45.41</td>\n",
       "      <td>436</td>\n",
       "      <td>436</td>\n",
       "      <td>436</td>\n",
       "    </tr>\n",
       "    <tr>\n",
       "      <th>M</th>\n",
       "      <td>119.60</td>\n",
       "      <td>11.17</td>\n",
       "      <td>116.99</td>\n",
       "      <td>256</td>\n",
       "      <td>256</td>\n",
       "      <td>256</td>\n",
       "    </tr>\n",
       "    <tr>\n",
       "      <th>T</th>\n",
       "      <td>33.33</td>\n",
       "      <td>10.04</td>\n",
       "      <td>34.32</td>\n",
       "      <td>211</td>\n",
       "      <td>211</td>\n",
       "      <td>211</td>\n",
       "    </tr>\n",
       "    <tr>\n",
       "      <th>E</th>\n",
       "      <td>56.24</td>\n",
       "      <td>2.72</td>\n",
       "      <td>43.58</td>\n",
       "      <td>179</td>\n",
       "      <td>179</td>\n",
       "      <td>179</td>\n",
       "    </tr>\n",
       "    <tr>\n",
       "      <th>E10+</th>\n",
       "      <td>27.18</td>\n",
       "      <td>0.90</td>\n",
       "      <td>31.84</td>\n",
       "      <td>128</td>\n",
       "      <td>128</td>\n",
       "      <td>128</td>\n",
       "    </tr>\n",
       "  </tbody>\n",
       "</table>\n",
       "</div>"
      ],
      "text/plain": [
       "        eu_sales_sum  jp_sales_sum  na_sales_sum  eu_sales_count  \\\n",
       "rating                                                             \n",
       "RP             47.38         18.33         45.41             436   \n",
       "M             119.60         11.17        116.99             256   \n",
       "T              33.33         10.04         34.32             211   \n",
       "E              56.24          2.72         43.58             179   \n",
       "E10+           27.18          0.90         31.84             128   \n",
       "\n",
       "        jp_sales_count  na_sales_count  \n",
       "rating                                  \n",
       "RP                 436             436  \n",
       "M                  256             256  \n",
       "T                  211             211  \n",
       "E                  179             179  \n",
       "E10+               128             128  "
      ]
     },
     "execution_count": 491,
     "metadata": {},
     "output_type": "execute_result"
    }
   ],
   "source": [
    "pivot_top_genre = data_actual_period.pivot_table(index = 'rating', values = ['na_sales','eu_sales','jp_sales'], aggfunc = ['sum','count'])\n",
    "pivot_top_genre.columns = ['eu_sales_sum','jp_sales_sum','na_sales_sum','eu_sales_count','jp_sales_count','na_sales_count']\n",
    "pivot_top_genre.sort_values('jp_sales_sum', ascending = False).head(15)"
   ]
  },
  {
   "cell_type": "markdown",
   "metadata": {},
   "source": [
    "В Японии чаще всего покупают игры без рейтинга, потому что организация ESRB в первую очередь оценивает только игры США и Канады и поэтому игры популярные в Японии часто остаются без рейтинга. \n",
    "Если не учитывать игры без рейтинга то в Европе и Северной Америке наибольшей популярностью пользуются игры M(17+) и E. В Японии M и T."
   ]
  },
  {
   "cell_type": "markdown",
   "metadata": {},
   "source": [
    "## Проверка гипотез"
   ]
  },
  {
   "cell_type": "markdown",
   "metadata": {},
   "source": [
    "проверим гипотезу \"Средние пользовательские рейтинги платформ Xbox One и PC одинаковы\".\n",
    "За нулевую гипотезу примем утверждение \"Средние пользовательские рейтинги платформ Xbox One и PC равны\"\n",
    "За альтернативную примем \"Средние пользовательские рейтинги платформ Xbox One и PC неравны\""
   ]
  },
  {
   "cell_type": "markdown",
   "metadata": {},
   "source": [
    "но сначала избавимся от пустот в user_score:"
   ]
  },
  {
   "cell_type": "code",
   "execution_count": 492,
   "metadata": {},
   "outputs": [
    {
     "data": {
      "text/plain": [
       "459"
      ]
     },
     "execution_count": 492,
     "metadata": {},
     "output_type": "execute_result"
    }
   ],
   "source": [
    "data_actual_period['user_score'].isna().sum()"
   ]
  },
  {
   "cell_type": "code",
   "execution_count": 493,
   "metadata": {},
   "outputs": [],
   "source": [
    "#data_actual_period['user_score'] = ~data_actual_period['user_score'].isna()\n",
    "data_actual_period=data_actual_period.dropna(subset=['user_score'])"
   ]
  },
  {
   "cell_type": "code",
   "execution_count": 494,
   "metadata": {},
   "outputs": [
    {
     "data": {
      "text/plain": [
       "0"
      ]
     },
     "execution_count": 494,
     "metadata": {},
     "output_type": "execute_result"
    }
   ],
   "source": [
    "data_actual_period['user_score'].isna().sum()"
   ]
  },
  {
   "cell_type": "markdown",
   "metadata": {},
   "source": [
    "критический уровень статистической значимости зададим равным 0.05\n",
    "\n",
    "так как рейтинги платформ Xbox One и PC это независимые генеральные совокупности используем метод scipy.stats.ttest_ind"
   ]
  },
  {
   "cell_type": "code",
   "execution_count": 495,
   "metadata": {},
   "outputs": [
    {
     "name": "stdout",
     "output_type": "stream",
     "text": [
      "p-значение: 0.15705535885466557\n",
      "Не получилось отвергнуть нулевую гипотезу\n"
     ]
    }
   ],
   "source": [
    "Xbox_ratings =  data_actual_period.query('platform == \"X360\"')['user_score']\n",
    "PC_ratings =  data_actual_period.query('platform == \"PC\"')['user_score']\n",
    "\n",
    "alpha = 0.05 \n",
    "\n",
    "results = st.ttest_ind(\n",
    "    Xbox_ratings, \n",
    "    PC_ratings)\n",
    "\n",
    "\n",
    "print('p-значение:', results.pvalue)\n",
    "if results.pvalue < alpha:\n",
    "    print(\"Отвергаем нулевую гипотезу\")\n",
    "else:\n",
    "    print(\"Не получилось отвергнуть нулевую гипотезу\")"
   ]
  },
  {
   "cell_type": "markdown",
   "metadata": {},
   "source": [
    "проверка гипотезы показывает что мы не можем отбросить нулевую гипотезу о равенстве рейтингов пользовательских рейтингов платформ Xbox One и PC"
   ]
  },
  {
   "cell_type": "markdown",
   "metadata": {},
   "source": [
    "проверим так же гипотезу Средние пользовательские рейтинги жанров Action и Sports разные.\n",
    "\n",
    "За нулевую гипотезу примем утверждение \"Средние пользовательские рейтинги жанров Action и Sports равны\"\n",
    "За альтернативную примем \"Средние пользовательские рейтинги жанров Action и Sports неравны\""
   ]
  },
  {
   "cell_type": "code",
   "execution_count": 496,
   "metadata": {
    "scrolled": true
   },
   "outputs": [
    {
     "name": "stdout",
     "output_type": "stream",
     "text": [
      "p-значение: 2.0521384521695691e-19\n",
      "Отвергаем нулевую гипотезу\n"
     ]
    }
   ],
   "source": [
    "Action_ratings =  data_actual_period.query('genre == \"Action\"')['user_score']\n",
    "Sports_ratings =  data_actual_period.query('genre == \"Sports\"')['user_score']\n",
    "\n",
    "alpha = 0.05 \n",
    "\n",
    "results = st.ttest_ind(\n",
    "    Action_ratings, \n",
    "    Sports_ratings)\n",
    "\n",
    "\n",
    "print('p-значение:', results.pvalue)\n",
    "if results.pvalue < alpha:\n",
    "    print(\"Отвергаем нулевую гипотезу\")\n",
    "else:\n",
    "    print(\"Не получилось отвергнуть нулевую гипотезу\")"
   ]
  },
  {
   "cell_type": "markdown",
   "metadata": {},
   "source": [
    "проверка гипотезы показывает что равенство пользовательских рейтингов жанров очень маловероятно."
   ]
  },
  {
   "cell_type": "markdown",
   "metadata": {},
   "source": [
    "## Общий вывод"
   ]
  },
  {
   "cell_type": "markdown",
   "metadata": {},
   "source": [
    "В ходе работы мы исследовали  данные интернет-магазина \"Стримчик\". Мы привели данные к нужным типам и к принятым названиям столбцов. Также мы проанализировали данные на предмет пропусков и по возможности заменили их. Были рассчитаны суммарные продажи во всех регионах для всех игр. Получены сводные таблицы для визуализации наиболее популярых платформ и определения в какие года было куплено больше всего игр. Для всех платформ были построены столбчатые диаграммы, чтобы понять как менялись продажи. В итоге было рассчитано, что платформы \"живут\" на рынке в среднем 11 лет. В 2006 году Wii показала рекордно большой показатель по продажам. PС является рекордсменом по актуальности: игры этой платформы покупаются с 1992 года. После 2013 года продажи игр только падают, что говорит о кризисе игровой индустрии. Даже если не учитывать 2016 год, по которому в наличии нет всех данных, можно предсказать дальнейшее падение продаж в 2017 году.\n",
    "Построены \"ящики с усами\" по продажам для всех платформ. Для всех платформ есть игры с аномально высокими продажами.\n",
    "Также было показано, что отзывы критиков влияют горадо больше на продажи игр, чем отзывы игроков по всем платформам. Продажи в Европе и в Северной Америке сильно отличаются от продаж в Японии по платформам из-за большой популярности платформ компании Sony в Японии. Так же в Японии самый популярный жанр RPG, а в Европе и в Северной Америке самые популярные жанры Action, Sports и Shooter. На продажи практически никак не влияет рейтинг от организации ESRB. Проверка статистических гипотез показала равенство пользовательских рейтингов платформ Xbox One и PC, а равенство пользовательских рейтингов жанров маловероятно.\n",
    "\n",
    "Чтобы спланировать рекламные кампании магазину «Стримчик» рекомендуется сделать ставку на игры жанров Action, Shooter, Sports, платформы PS4. Рекомендуется так же продавать игры с высокой оценкой от критиков и возрастным рейтингом M. Следует так же учесть что в 2017 году ожидается падение продаж игр в целом.\n",
    "\n"
   ]
  }
 ],
 "metadata": {
  "ExecuteTimeLog": [
   {
    "duration": 1610,
    "start_time": "2022-06-02T17:37:17.197Z"
   },
   {
    "duration": 161,
    "start_time": "2022-06-02T17:37:21.175Z"
   },
   {
    "duration": 1555,
    "start_time": "2022-06-03T16:55:52.814Z"
   },
   {
    "duration": 225,
    "start_time": "2022-06-03T16:55:54.371Z"
   },
   {
    "duration": 20,
    "start_time": "2022-06-03T16:55:54.598Z"
   },
   {
    "duration": 18,
    "start_time": "2022-06-03T16:55:54.620Z"
   },
   {
    "duration": 19,
    "start_time": "2022-06-03T16:55:54.643Z"
   },
   {
    "duration": 7,
    "start_time": "2022-06-03T16:55:54.663Z"
   },
   {
    "duration": 6,
    "start_time": "2022-06-03T16:55:54.671Z"
   },
   {
    "duration": 14,
    "start_time": "2022-06-03T16:55:54.679Z"
   },
   {
    "duration": 19,
    "start_time": "2022-06-03T16:55:54.695Z"
   },
   {
    "duration": 4,
    "start_time": "2022-06-03T16:55:54.719Z"
   },
   {
    "duration": 38,
    "start_time": "2022-06-03T16:55:54.727Z"
   },
   {
    "duration": 6,
    "start_time": "2022-06-03T16:55:54.768Z"
   },
   {
    "duration": 21,
    "start_time": "2022-06-03T16:55:54.776Z"
   },
   {
    "duration": 6,
    "start_time": "2022-06-03T16:55:54.799Z"
   },
   {
    "duration": 10,
    "start_time": "2022-06-03T16:55:54.806Z"
   },
   {
    "duration": 28,
    "start_time": "2022-06-03T16:55:54.818Z"
   },
   {
    "duration": 16,
    "start_time": "2022-06-03T16:55:54.847Z"
   },
   {
    "duration": 19,
    "start_time": "2022-06-03T16:55:54.865Z"
   },
   {
    "duration": 15,
    "start_time": "2022-06-03T16:55:54.885Z"
   },
   {
    "duration": 16,
    "start_time": "2022-06-03T16:55:54.902Z"
   },
   {
    "duration": 29,
    "start_time": "2022-06-03T16:55:54.929Z"
   },
   {
    "duration": 13,
    "start_time": "2022-06-03T16:55:54.964Z"
   },
   {
    "duration": 10,
    "start_time": "2022-06-03T16:55:54.979Z"
   },
   {
    "duration": 27,
    "start_time": "2022-06-03T16:55:54.991Z"
   },
   {
    "duration": 4,
    "start_time": "2022-06-03T16:55:55.020Z"
   },
   {
    "duration": 307,
    "start_time": "2022-06-03T16:55:55.027Z"
   },
   {
    "duration": 19,
    "start_time": "2022-06-03T16:55:55.337Z"
   },
   {
    "duration": 22,
    "start_time": "2022-06-03T16:55:55.361Z"
   },
   {
    "duration": 8,
    "start_time": "2022-06-03T16:55:55.384Z"
   },
   {
    "duration": 20830,
    "start_time": "2022-06-03T16:55:55.395Z"
   },
   {
    "duration": 17,
    "start_time": "2022-06-03T16:56:16.226Z"
   },
   {
    "duration": 20,
    "start_time": "2022-06-03T16:56:16.245Z"
   },
   {
    "duration": 6,
    "start_time": "2022-06-03T16:56:16.267Z"
   },
   {
    "duration": 10,
    "start_time": "2022-06-03T16:56:16.275Z"
   },
   {
    "duration": 6,
    "start_time": "2022-06-03T16:56:16.287Z"
   },
   {
    "duration": 20383,
    "start_time": "2022-06-03T16:56:16.294Z"
   },
   {
    "duration": 49,
    "start_time": "2022-06-03T16:56:36.680Z"
   },
   {
    "duration": 2741,
    "start_time": "2022-06-03T16:56:36.730Z"
   },
   {
    "duration": 1076,
    "start_time": "2022-06-03T16:56:39.473Z"
   },
   {
    "duration": 22,
    "start_time": "2022-06-03T16:56:40.551Z"
   },
   {
    "duration": 26,
    "start_time": "2022-06-03T16:57:08.988Z"
   },
   {
    "duration": 22,
    "start_time": "2022-06-03T16:57:14.539Z"
   },
   {
    "duration": 19,
    "start_time": "2022-06-03T17:08:14.896Z"
   },
   {
    "duration": 10,
    "start_time": "2022-06-03T17:08:14.918Z"
   },
   {
    "duration": 36,
    "start_time": "2022-06-03T17:08:14.931Z"
   },
   {
    "duration": 22,
    "start_time": "2022-06-03T17:08:14.969Z"
   },
   {
    "duration": 67,
    "start_time": "2022-06-03T17:08:14.995Z"
   },
   {
    "duration": 6,
    "start_time": "2022-06-03T17:08:15.065Z"
   },
   {
    "duration": 317,
    "start_time": "2022-06-03T17:08:15.073Z"
   },
   {
    "duration": 13,
    "start_time": "2022-06-03T17:08:15.393Z"
   },
   {
    "duration": 45,
    "start_time": "2022-06-03T17:08:15.408Z"
   },
   {
    "duration": 10,
    "start_time": "2022-06-03T17:08:15.455Z"
   },
   {
    "duration": 21239,
    "start_time": "2022-06-03T17:08:15.467Z"
   },
   {
    "duration": 20,
    "start_time": "2022-06-03T17:08:36.708Z"
   },
   {
    "duration": 23,
    "start_time": "2022-06-03T17:08:36.734Z"
   },
   {
    "duration": 6,
    "start_time": "2022-06-03T17:08:36.761Z"
   },
   {
    "duration": 12,
    "start_time": "2022-06-03T17:08:36.769Z"
   },
   {
    "duration": 8,
    "start_time": "2022-06-03T17:08:36.783Z"
   },
   {
    "duration": 21377,
    "start_time": "2022-06-03T17:08:36.793Z"
   },
   {
    "duration": 35,
    "start_time": "2022-06-03T17:08:58.172Z"
   },
   {
    "duration": 2854,
    "start_time": "2022-06-03T17:08:58.209Z"
   },
   {
    "duration": 1292,
    "start_time": "2022-06-03T17:09:01.065Z"
   },
   {
    "duration": 246,
    "start_time": "2022-06-03T17:09:02.359Z"
   },
   {
    "duration": 42,
    "start_time": "2022-06-03T17:09:02.607Z"
   },
   {
    "duration": 182,
    "start_time": "2022-06-03T17:09:02.651Z"
   },
   {
    "duration": 14,
    "start_time": "2022-06-03T17:09:02.838Z"
   },
   {
    "duration": 191,
    "start_time": "2022-06-03T17:09:02.854Z"
   },
   {
    "duration": 13,
    "start_time": "2022-06-03T17:09:03.047Z"
   },
   {
    "duration": 49,
    "start_time": "2022-06-03T17:09:03.061Z"
   },
   {
    "duration": 37,
    "start_time": "2022-06-03T17:09:03.112Z"
   },
   {
    "duration": 30,
    "start_time": "2022-06-03T17:09:03.153Z"
   },
   {
    "duration": 11,
    "start_time": "2022-06-03T17:09:03.186Z"
   },
   {
    "duration": 39,
    "start_time": "2022-06-03T17:09:03.199Z"
   },
   {
    "duration": 30,
    "start_time": "2022-06-03T17:09:03.243Z"
   },
   {
    "duration": 12,
    "start_time": "2022-06-03T17:09:03.275Z"
   },
   {
    "duration": 19,
    "start_time": "2022-06-03T17:09:03.289Z"
   },
   {
    "duration": 22,
    "start_time": "2022-06-03T17:09:03.324Z"
   },
   {
    "duration": 6,
    "start_time": "2022-06-03T17:09:03.348Z"
   },
   {
    "duration": 10,
    "start_time": "2022-06-03T17:09:03.355Z"
   },
   {
    "duration": 17,
    "start_time": "2022-06-03T17:09:03.367Z"
   },
   {
    "duration": 7,
    "start_time": "2022-06-03T17:09:03.390Z"
   },
   {
    "duration": 8,
    "start_time": "2022-06-03T17:09:03.428Z"
   },
   {
    "duration": 16,
    "start_time": "2022-06-03T17:09:03.437Z"
   },
   {
    "duration": 17,
    "start_time": "2022-06-03T17:09:03.455Z"
   },
   {
    "duration": 17,
    "start_time": "2022-06-03T17:09:03.474Z"
   },
   {
    "duration": 6,
    "start_time": "2022-06-03T17:09:03.493Z"
   },
   {
    "duration": 28,
    "start_time": "2022-06-03T17:09:18.942Z"
   },
   {
    "duration": 3177,
    "start_time": "2022-06-03T17:14:03.648Z"
   },
   {
    "duration": 2862,
    "start_time": "2022-06-03T17:14:15.835Z"
   },
   {
    "duration": 3002,
    "start_time": "2022-06-03T17:14:25.145Z"
   },
   {
    "duration": 3330,
    "start_time": "2022-06-03T17:14:32.149Z"
   },
   {
    "duration": 1324,
    "start_time": "2022-06-03T17:15:57.266Z"
   },
   {
    "duration": 69,
    "start_time": "2022-06-03T17:15:58.592Z"
   },
   {
    "duration": 30,
    "start_time": "2022-06-03T17:15:58.663Z"
   },
   {
    "duration": 39,
    "start_time": "2022-06-03T17:15:58.695Z"
   },
   {
    "duration": 7,
    "start_time": "2022-06-03T17:15:58.740Z"
   },
   {
    "duration": 6,
    "start_time": "2022-06-03T17:15:58.749Z"
   },
   {
    "duration": 8,
    "start_time": "2022-06-03T17:15:58.756Z"
   },
   {
    "duration": 12,
    "start_time": "2022-06-03T17:15:58.766Z"
   },
   {
    "duration": 9,
    "start_time": "2022-06-03T17:15:58.779Z"
   },
   {
    "duration": 5,
    "start_time": "2022-06-03T17:15:58.791Z"
   },
   {
    "duration": 38,
    "start_time": "2022-06-03T17:15:58.797Z"
   },
   {
    "duration": 4,
    "start_time": "2022-06-03T17:15:58.837Z"
   },
   {
    "duration": 18,
    "start_time": "2022-06-03T17:15:58.843Z"
   },
   {
    "duration": 5,
    "start_time": "2022-06-03T17:15:58.863Z"
   },
   {
    "duration": 10,
    "start_time": "2022-06-03T17:15:58.870Z"
   },
   {
    "duration": 24,
    "start_time": "2022-06-03T17:15:58.882Z"
   },
   {
    "duration": 10,
    "start_time": "2022-06-03T17:15:58.924Z"
   },
   {
    "duration": 26,
    "start_time": "2022-06-03T17:15:58.936Z"
   },
   {
    "duration": 15,
    "start_time": "2022-06-03T17:15:58.964Z"
   },
   {
    "duration": 18,
    "start_time": "2022-06-03T17:15:58.981Z"
   },
   {
    "duration": 29,
    "start_time": "2022-06-03T17:15:59.001Z"
   },
   {
    "duration": 17,
    "start_time": "2022-06-03T17:15:59.036Z"
   },
   {
    "duration": 11,
    "start_time": "2022-06-03T17:15:59.055Z"
   },
   {
    "duration": 25,
    "start_time": "2022-06-03T17:15:59.069Z"
   },
   {
    "duration": 4,
    "start_time": "2022-06-03T17:15:59.096Z"
   },
   {
    "duration": 306,
    "start_time": "2022-06-03T17:15:59.102Z"
   },
   {
    "duration": 25,
    "start_time": "2022-06-03T17:15:59.409Z"
   },
   {
    "duration": 30,
    "start_time": "2022-06-03T17:15:59.441Z"
   },
   {
    "duration": 11,
    "start_time": "2022-06-03T17:15:59.473Z"
   },
   {
    "duration": 21541,
    "start_time": "2022-06-03T17:15:59.486Z"
   },
   {
    "duration": 19,
    "start_time": "2022-06-03T17:16:21.031Z"
   },
   {
    "duration": 28,
    "start_time": "2022-06-03T17:16:21.052Z"
   },
   {
    "duration": 15,
    "start_time": "2022-06-03T17:16:21.081Z"
   },
   {
    "duration": 26,
    "start_time": "2022-06-03T17:16:21.098Z"
   },
   {
    "duration": 26,
    "start_time": "2022-06-03T17:16:21.126Z"
   },
   {
    "duration": 21078,
    "start_time": "2022-06-03T17:16:21.154Z"
   },
   {
    "duration": 43,
    "start_time": "2022-06-03T17:16:42.233Z"
   },
   {
    "duration": 3121,
    "start_time": "2022-06-03T17:16:42.278Z"
   },
   {
    "duration": 1110,
    "start_time": "2022-06-03T17:16:45.401Z"
   },
   {
    "duration": 265,
    "start_time": "2022-06-03T17:16:46.513Z"
   },
   {
    "duration": 57,
    "start_time": "2022-06-03T17:16:46.780Z"
   },
   {
    "duration": 262,
    "start_time": "2022-06-03T17:16:46.838Z"
   },
   {
    "duration": 34,
    "start_time": "2022-06-03T17:16:47.102Z"
   },
   {
    "duration": 196,
    "start_time": "2022-06-03T17:16:47.141Z"
   },
   {
    "duration": 14,
    "start_time": "2022-06-03T17:16:47.339Z"
   },
   {
    "duration": 48,
    "start_time": "2022-06-03T17:16:47.355Z"
   },
   {
    "duration": 47,
    "start_time": "2022-06-03T17:16:47.405Z"
   },
   {
    "duration": 28,
    "start_time": "2022-06-03T17:16:47.454Z"
   },
   {
    "duration": 11,
    "start_time": "2022-06-03T17:16:47.484Z"
   },
   {
    "duration": 50,
    "start_time": "2022-06-03T17:16:47.497Z"
   },
   {
    "duration": 36,
    "start_time": "2022-06-03T17:16:47.556Z"
   },
   {
    "duration": 14,
    "start_time": "2022-06-03T17:16:47.594Z"
   },
   {
    "duration": 27,
    "start_time": "2022-06-03T17:16:47.610Z"
   },
   {
    "duration": 23,
    "start_time": "2022-06-03T17:16:47.639Z"
   },
   {
    "duration": 7,
    "start_time": "2022-06-03T17:16:47.664Z"
   },
   {
    "duration": 8,
    "start_time": "2022-06-03T17:16:47.673Z"
   },
   {
    "duration": 18,
    "start_time": "2022-06-03T17:16:47.684Z"
   },
   {
    "duration": 31,
    "start_time": "2022-06-03T17:16:47.704Z"
   },
   {
    "duration": 6,
    "start_time": "2022-06-03T17:16:47.742Z"
   },
   {
    "duration": 8,
    "start_time": "2022-06-03T17:16:47.751Z"
   },
   {
    "duration": 19,
    "start_time": "2022-06-03T17:16:47.761Z"
   },
   {
    "duration": 12,
    "start_time": "2022-06-03T17:16:47.783Z"
   },
   {
    "duration": 31,
    "start_time": "2022-06-03T17:16:47.798Z"
   },
   {
    "duration": 1311,
    "start_time": "2022-06-03T20:04:34.533Z"
   },
   {
    "duration": 110,
    "start_time": "2022-06-03T20:04:40.979Z"
   },
   {
    "duration": 23,
    "start_time": "2022-06-03T20:05:18.971Z"
   },
   {
    "duration": 14,
    "start_time": "2022-06-03T20:05:26.328Z"
   },
   {
    "duration": 4,
    "start_time": "2022-06-03T20:05:46.082Z"
   },
   {
    "duration": 6,
    "start_time": "2022-06-03T20:05:48.503Z"
   },
   {
    "duration": 4,
    "start_time": "2022-06-03T20:06:37.186Z"
   },
   {
    "duration": 10,
    "start_time": "2022-06-03T20:06:40.265Z"
   },
   {
    "duration": 23,
    "start_time": "2022-06-03T20:08:41.605Z"
   },
   {
    "duration": 4,
    "start_time": "2022-06-03T20:08:52.001Z"
   },
   {
    "duration": 10,
    "start_time": "2022-06-03T20:09:01.959Z"
   },
   {
    "duration": 4,
    "start_time": "2022-06-03T20:09:08.160Z"
   },
   {
    "duration": 14,
    "start_time": "2022-06-03T20:09:10.097Z"
   },
   {
    "duration": 5,
    "start_time": "2022-06-03T20:09:15.468Z"
   },
   {
    "duration": 6,
    "start_time": "2022-06-03T20:09:33.784Z"
   },
   {
    "duration": 3,
    "start_time": "2022-06-03T20:09:42.565Z"
   },
   {
    "duration": 79,
    "start_time": "2022-06-03T20:09:42.570Z"
   },
   {
    "duration": 15,
    "start_time": "2022-06-03T20:09:42.650Z"
   },
   {
    "duration": 26,
    "start_time": "2022-06-03T20:09:42.667Z"
   },
   {
    "duration": 10,
    "start_time": "2022-06-03T20:09:42.695Z"
   },
   {
    "duration": 8,
    "start_time": "2022-06-03T20:09:42.707Z"
   },
   {
    "duration": 10,
    "start_time": "2022-06-03T20:09:42.717Z"
   },
   {
    "duration": 14,
    "start_time": "2022-06-03T20:09:42.729Z"
   },
   {
    "duration": 23,
    "start_time": "2022-06-03T20:09:42.745Z"
   },
   {
    "duration": 17,
    "start_time": "2022-06-03T20:09:42.770Z"
   },
   {
    "duration": 31,
    "start_time": "2022-06-03T20:09:42.789Z"
   },
   {
    "duration": 27,
    "start_time": "2022-06-03T20:09:42.823Z"
   },
   {
    "duration": 28,
    "start_time": "2022-06-03T20:09:42.853Z"
   },
   {
    "duration": 10,
    "start_time": "2022-06-03T20:09:42.882Z"
   },
   {
    "duration": 15,
    "start_time": "2022-06-03T20:09:42.893Z"
   },
   {
    "duration": 17,
    "start_time": "2022-06-03T20:09:42.910Z"
   },
   {
    "duration": 4,
    "start_time": "2022-06-03T20:09:42.930Z"
   },
   {
    "duration": 21,
    "start_time": "2022-06-03T20:09:42.936Z"
   },
   {
    "duration": 10,
    "start_time": "2022-06-03T20:09:42.959Z"
   },
   {
    "duration": 21,
    "start_time": "2022-06-03T20:09:42.971Z"
   },
   {
    "duration": 6,
    "start_time": "2022-06-03T20:09:42.994Z"
   },
   {
    "duration": 26,
    "start_time": "2022-06-03T20:09:43.001Z"
   },
   {
    "duration": 14,
    "start_time": "2022-06-03T20:09:43.029Z"
   },
   {
    "duration": 34,
    "start_time": "2022-06-03T20:09:43.044Z"
   },
   {
    "duration": 3,
    "start_time": "2022-06-03T20:09:43.080Z"
   },
   {
    "duration": 270,
    "start_time": "2022-06-03T20:09:43.084Z"
   },
   {
    "duration": 11,
    "start_time": "2022-06-03T20:09:43.356Z"
   },
   {
    "duration": 45,
    "start_time": "2022-06-03T20:09:43.369Z"
   },
   {
    "duration": 14,
    "start_time": "2022-06-03T20:09:43.415Z"
   },
   {
    "duration": 18889,
    "start_time": "2022-06-03T20:09:43.432Z"
   },
   {
    "duration": 11,
    "start_time": "2022-06-03T20:10:02.323Z"
   },
   {
    "duration": 77,
    "start_time": "2022-06-03T20:10:02.336Z"
   },
   {
    "duration": 4,
    "start_time": "2022-06-03T20:10:02.415Z"
   },
   {
    "duration": 17,
    "start_time": "2022-06-03T20:10:02.421Z"
   },
   {
    "duration": 51,
    "start_time": "2022-06-03T20:10:02.440Z"
   },
   {
    "duration": 18315,
    "start_time": "2022-06-03T20:10:02.492Z"
   },
   {
    "duration": 41,
    "start_time": "2022-06-03T20:10:20.808Z"
   },
   {
    "duration": 2618,
    "start_time": "2022-06-03T20:10:20.850Z"
   },
   {
    "duration": 1374,
    "start_time": "2022-06-03T20:10:23.470Z"
   },
   {
    "duration": 242,
    "start_time": "2022-06-03T20:10:24.845Z"
   },
   {
    "duration": 38,
    "start_time": "2022-06-03T20:10:25.089Z"
   },
   {
    "duration": 153,
    "start_time": "2022-06-03T20:10:25.128Z"
   },
   {
    "duration": 12,
    "start_time": "2022-06-03T20:10:25.283Z"
   },
   {
    "duration": 178,
    "start_time": "2022-06-03T20:10:25.296Z"
   },
   {
    "duration": 11,
    "start_time": "2022-06-03T20:10:25.476Z"
   },
   {
    "duration": 58,
    "start_time": "2022-06-03T20:10:25.488Z"
   },
   {
    "duration": 25,
    "start_time": "2022-06-03T20:10:25.548Z"
   },
   {
    "duration": 27,
    "start_time": "2022-06-03T20:10:25.574Z"
   },
   {
    "duration": 27,
    "start_time": "2022-06-03T20:10:25.602Z"
   },
   {
    "duration": 20,
    "start_time": "2022-06-03T20:10:25.631Z"
   },
   {
    "duration": 29,
    "start_time": "2022-06-03T20:10:25.652Z"
   },
   {
    "duration": 9,
    "start_time": "2022-06-03T20:10:25.683Z"
   },
   {
    "duration": 17,
    "start_time": "2022-06-03T20:10:25.694Z"
   },
   {
    "duration": 20,
    "start_time": "2022-06-03T20:10:25.714Z"
   },
   {
    "duration": 9,
    "start_time": "2022-06-03T20:10:25.736Z"
   },
   {
    "duration": 12,
    "start_time": "2022-06-03T20:10:25.746Z"
   },
   {
    "duration": 18,
    "start_time": "2022-06-03T20:10:25.759Z"
   },
   {
    "duration": 10,
    "start_time": "2022-06-03T20:10:25.778Z"
   },
   {
    "duration": 8,
    "start_time": "2022-06-03T20:10:25.789Z"
   },
   {
    "duration": 13,
    "start_time": "2022-06-03T20:10:25.799Z"
   },
   {
    "duration": 16,
    "start_time": "2022-06-03T20:10:25.814Z"
   },
   {
    "duration": 11,
    "start_time": "2022-06-03T20:10:25.831Z"
   },
   {
    "duration": 19,
    "start_time": "2022-06-03T20:15:02.804Z"
   },
   {
    "duration": 6,
    "start_time": "2022-06-03T20:16:35.073Z"
   },
   {
    "duration": 9,
    "start_time": "2022-06-03T20:18:37.810Z"
   },
   {
    "duration": 10,
    "start_time": "2022-06-03T20:21:14.219Z"
   },
   {
    "duration": 13,
    "start_time": "2022-06-03T20:21:23.002Z"
   },
   {
    "duration": 6,
    "start_time": "2022-06-03T20:21:23.782Z"
   },
   {
    "duration": 7,
    "start_time": "2022-06-03T20:21:23.996Z"
   },
   {
    "duration": 8,
    "start_time": "2022-06-03T20:21:24.872Z"
   },
   {
    "duration": 21,
    "start_time": "2022-06-03T20:21:27.370Z"
   },
   {
    "duration": 3,
    "start_time": "2022-06-03T20:22:39.463Z"
   },
   {
    "duration": 235,
    "start_time": "2022-06-03T20:28:02.267Z"
   },
   {
    "duration": 14,
    "start_time": "2022-06-03T20:28:05.933Z"
   },
   {
    "duration": 163,
    "start_time": "2022-06-03T20:28:51.723Z"
   },
   {
    "duration": 162,
    "start_time": "2022-06-03T20:29:36.585Z"
   },
   {
    "duration": 11,
    "start_time": "2022-06-03T20:37:53.921Z"
   },
   {
    "duration": 323,
    "start_time": "2022-06-03T20:54:09.103Z"
   },
   {
    "duration": 149,
    "start_time": "2022-06-03T20:57:13.732Z"
   },
   {
    "duration": 156,
    "start_time": "2022-06-03T20:57:36.920Z"
   },
   {
    "duration": 140,
    "start_time": "2022-06-03T21:00:30.299Z"
   },
   {
    "duration": 141,
    "start_time": "2022-06-03T21:00:42.276Z"
   },
   {
    "duration": 2424,
    "start_time": "2022-06-03T21:11:26.186Z"
   },
   {
    "duration": 140,
    "start_time": "2022-06-03T21:14:44.251Z"
   },
   {
    "duration": 144,
    "start_time": "2022-06-03T21:14:50.269Z"
   },
   {
    "duration": 135,
    "start_time": "2022-06-03T21:16:43.514Z"
   },
   {
    "duration": 131,
    "start_time": "2022-06-03T21:19:19.682Z"
   },
   {
    "duration": 12,
    "start_time": "2022-06-03T21:19:30.763Z"
   },
   {
    "duration": 12,
    "start_time": "2022-06-03T21:22:45.446Z"
   },
   {
    "duration": 145,
    "start_time": "2022-06-03T21:22:59.207Z"
   },
   {
    "duration": 9,
    "start_time": "2022-06-03T21:23:03.905Z"
   },
   {
    "duration": 13,
    "start_time": "2022-06-03T21:26:06.222Z"
   },
   {
    "duration": 175,
    "start_time": "2022-06-03T21:26:14.014Z"
   },
   {
    "duration": 8,
    "start_time": "2022-06-03T21:26:15.712Z"
   },
   {
    "duration": 28,
    "start_time": "2022-06-03T21:26:30.601Z"
   },
   {
    "duration": 10,
    "start_time": "2022-06-03T21:26:34.739Z"
   },
   {
    "duration": 17884,
    "start_time": "2022-06-03T21:26:35.515Z"
   },
   {
    "duration": 11,
    "start_time": "2022-06-03T21:26:53.401Z"
   },
   {
    "duration": 18,
    "start_time": "2022-06-03T21:26:53.413Z"
   },
   {
    "duration": 6,
    "start_time": "2022-06-03T21:27:13.662Z"
   },
   {
    "duration": 9,
    "start_time": "2022-06-03T21:27:18.146Z"
   },
   {
    "duration": 7,
    "start_time": "2022-06-03T21:27:24.334Z"
   },
   {
    "duration": 17930,
    "start_time": "2022-06-03T21:27:25.088Z"
   },
   {
    "duration": 36,
    "start_time": "2022-06-03T21:27:43.020Z"
   },
   {
    "duration": 2446,
    "start_time": "2022-06-03T21:27:43.058Z"
   },
   {
    "duration": 1000,
    "start_time": "2022-06-03T21:27:59.521Z"
   },
   {
    "duration": 913,
    "start_time": "2022-06-03T21:28:09.551Z"
   },
   {
    "duration": 7,
    "start_time": "2022-06-03T21:32:52.985Z"
   },
   {
    "duration": 963,
    "start_time": "2022-06-03T21:32:55.226Z"
   },
   {
    "duration": 939,
    "start_time": "2022-06-03T21:33:22.763Z"
   },
   {
    "duration": 6,
    "start_time": "2022-06-03T21:33:29.360Z"
   },
   {
    "duration": 7,
    "start_time": "2022-06-03T21:33:38.040Z"
   },
   {
    "duration": 897,
    "start_time": "2022-06-03T21:33:38.947Z"
   },
   {
    "duration": 6,
    "start_time": "2022-06-03T21:34:35.061Z"
   },
   {
    "duration": 931,
    "start_time": "2022-06-03T21:34:35.430Z"
   },
   {
    "duration": 205,
    "start_time": "2022-06-03T21:40:15.091Z"
   },
   {
    "duration": 6,
    "start_time": "2022-06-03T21:40:29.887Z"
   },
   {
    "duration": 398,
    "start_time": "2022-06-03T21:40:49.211Z"
   },
   {
    "duration": 27,
    "start_time": "2022-06-03T21:41:01.644Z"
   },
   {
    "duration": 143,
    "start_time": "2022-06-03T21:45:42.505Z"
   },
   {
    "duration": 10,
    "start_time": "2022-06-03T21:46:12.780Z"
   },
   {
    "duration": 135,
    "start_time": "2022-06-03T21:46:30.971Z"
   },
   {
    "duration": 131,
    "start_time": "2022-06-03T21:47:25.484Z"
   },
   {
    "duration": 6,
    "start_time": "2022-06-03T21:47:32.002Z"
   },
   {
    "duration": 971,
    "start_time": "2022-06-03T21:47:32.221Z"
   },
   {
    "duration": 193,
    "start_time": "2022-06-03T21:47:34.474Z"
   },
   {
    "duration": 23,
    "start_time": "2022-06-03T21:47:37.741Z"
   },
   {
    "duration": 141,
    "start_time": "2022-06-03T21:47:40.947Z"
   },
   {
    "duration": 10,
    "start_time": "2022-06-03T21:47:43.883Z"
   },
   {
    "duration": 144,
    "start_time": "2022-06-03T21:47:46.937Z"
   },
   {
    "duration": 141,
    "start_time": "2022-06-03T21:48:34.488Z"
   },
   {
    "duration": 140,
    "start_time": "2022-06-03T21:48:38.177Z"
   },
   {
    "duration": 144,
    "start_time": "2022-06-03T21:48:56.564Z"
   },
   {
    "duration": 2,
    "start_time": "2022-06-03T21:49:22.669Z"
   },
   {
    "duration": 82,
    "start_time": "2022-06-03T21:49:22.673Z"
   },
   {
    "duration": 17,
    "start_time": "2022-06-03T21:49:22.757Z"
   },
   {
    "duration": 23,
    "start_time": "2022-06-03T21:49:22.776Z"
   },
   {
    "duration": 26,
    "start_time": "2022-06-03T21:49:22.802Z"
   },
   {
    "duration": 10,
    "start_time": "2022-06-03T21:49:22.830Z"
   },
   {
    "duration": 7,
    "start_time": "2022-06-03T21:49:22.843Z"
   },
   {
    "duration": 15,
    "start_time": "2022-06-03T21:49:22.852Z"
   },
   {
    "duration": 8,
    "start_time": "2022-06-03T21:49:22.869Z"
   },
   {
    "duration": 18,
    "start_time": "2022-06-03T21:49:22.878Z"
   },
   {
    "duration": 13,
    "start_time": "2022-06-03T21:49:22.899Z"
   },
   {
    "duration": 12,
    "start_time": "2022-06-03T21:49:22.913Z"
   },
   {
    "duration": 28,
    "start_time": "2022-06-03T21:49:22.926Z"
   },
   {
    "duration": 4,
    "start_time": "2022-06-03T21:49:22.956Z"
   },
   {
    "duration": 7,
    "start_time": "2022-06-03T21:49:22.961Z"
   },
   {
    "duration": 17,
    "start_time": "2022-06-03T21:49:22.969Z"
   },
   {
    "duration": 4,
    "start_time": "2022-06-03T21:49:22.987Z"
   },
   {
    "duration": 10,
    "start_time": "2022-06-03T21:49:22.993Z"
   },
   {
    "duration": 10,
    "start_time": "2022-06-03T21:49:23.005Z"
   },
   {
    "duration": 12,
    "start_time": "2022-06-03T21:49:23.025Z"
   },
   {
    "duration": 10,
    "start_time": "2022-06-03T21:49:23.038Z"
   },
   {
    "duration": 9,
    "start_time": "2022-06-03T21:49:23.049Z"
   },
   {
    "duration": 10,
    "start_time": "2022-06-03T21:49:23.059Z"
   },
   {
    "duration": 18,
    "start_time": "2022-06-03T21:49:23.070Z"
   },
   {
    "duration": 3,
    "start_time": "2022-06-03T21:49:23.089Z"
   },
   {
    "duration": 252,
    "start_time": "2022-06-03T21:49:23.094Z"
   },
   {
    "duration": 13,
    "start_time": "2022-06-03T21:49:23.348Z"
   },
   {
    "duration": 155,
    "start_time": "2022-06-03T21:49:23.363Z"
   },
   {
    "duration": 8,
    "start_time": "2022-06-03T21:49:23.525Z"
   },
   {
    "duration": 22,
    "start_time": "2022-06-03T21:49:23.535Z"
   },
   {
    "duration": 8,
    "start_time": "2022-06-03T21:49:23.559Z"
   },
   {
    "duration": 17951,
    "start_time": "2022-06-03T21:49:23.568Z"
   },
   {
    "duration": 10,
    "start_time": "2022-06-03T21:49:41.526Z"
   },
   {
    "duration": 20,
    "start_time": "2022-06-03T21:49:41.538Z"
   },
   {
    "duration": 6,
    "start_time": "2022-06-03T21:49:41.559Z"
   },
   {
    "duration": 10,
    "start_time": "2022-06-03T21:49:41.566Z"
   },
   {
    "duration": 6,
    "start_time": "2022-06-03T21:49:41.577Z"
   },
   {
    "duration": 18495,
    "start_time": "2022-06-03T21:49:41.584Z"
   },
   {
    "duration": 46,
    "start_time": "2022-06-03T21:50:00.080Z"
   },
   {
    "duration": 2519,
    "start_time": "2022-06-03T21:50:00.128Z"
   },
   {
    "duration": 7,
    "start_time": "2022-06-03T21:50:02.648Z"
   },
   {
    "duration": 1029,
    "start_time": "2022-06-03T21:50:02.657Z"
   },
   {
    "duration": 214,
    "start_time": "2022-06-03T21:50:03.689Z"
   },
   {
    "duration": 30,
    "start_time": "2022-06-03T21:50:03.905Z"
   },
   {
    "duration": 165,
    "start_time": "2022-06-03T21:50:03.937Z"
   },
   {
    "duration": 23,
    "start_time": "2022-06-03T21:50:04.104Z"
   },
   {
    "duration": 144,
    "start_time": "2022-06-03T21:50:42.837Z"
   },
   {
    "duration": 124,
    "start_time": "2022-06-03T21:50:49.030Z"
   },
   {
    "duration": 137,
    "start_time": "2022-06-03T21:50:53.338Z"
   },
   {
    "duration": 149,
    "start_time": "2022-06-03T21:50:59.028Z"
   },
   {
    "duration": 330,
    "start_time": "2022-06-03T21:51:05.503Z"
   },
   {
    "duration": 150,
    "start_time": "2022-06-03T21:51:14.881Z"
   },
   {
    "duration": 41,
    "start_time": "2022-06-03T21:51:43.503Z"
   },
   {
    "duration": 20,
    "start_time": "2022-06-03T21:51:58.801Z"
   },
   {
    "duration": 10,
    "start_time": "2022-06-03T21:52:15.402Z"
   },
   {
    "duration": 159,
    "start_time": "2022-06-03T21:52:16.511Z"
   },
   {
    "duration": 9,
    "start_time": "2022-06-03T21:52:36.981Z"
   },
   {
    "duration": 38,
    "start_time": "2022-06-03T21:52:47.039Z"
   },
   {
    "duration": 21,
    "start_time": "2022-06-03T21:53:17.867Z"
   },
   {
    "duration": 24,
    "start_time": "2022-06-03T21:55:35.069Z"
   },
   {
    "duration": 24,
    "start_time": "2022-06-03T21:55:42.941Z"
   },
   {
    "duration": 28,
    "start_time": "2022-06-03T21:56:00.661Z"
   },
   {
    "duration": 26,
    "start_time": "2022-06-03T21:56:08.247Z"
   },
   {
    "duration": 120,
    "start_time": "2022-06-03T21:56:45.602Z"
   },
   {
    "duration": 31,
    "start_time": "2022-06-03T21:56:59.084Z"
   },
   {
    "duration": 28,
    "start_time": "2022-06-03T21:57:04.637Z"
   },
   {
    "duration": 25,
    "start_time": "2022-06-03T21:57:11.261Z"
   },
   {
    "duration": 1418,
    "start_time": "2022-06-04T08:23:31.715Z"
   },
   {
    "duration": 124,
    "start_time": "2022-06-04T08:23:33.135Z"
   },
   {
    "duration": 27,
    "start_time": "2022-06-04T08:23:33.261Z"
   },
   {
    "duration": 20,
    "start_time": "2022-06-04T08:23:33.291Z"
   },
   {
    "duration": 4,
    "start_time": "2022-06-04T08:23:34.654Z"
   },
   {
    "duration": 4,
    "start_time": "2022-06-04T08:23:34.889Z"
   },
   {
    "duration": 4,
    "start_time": "2022-06-04T08:23:35.550Z"
   },
   {
    "duration": 10,
    "start_time": "2022-06-04T08:23:36.205Z"
   },
   {
    "duration": 11,
    "start_time": "2022-06-04T08:23:36.838Z"
   },
   {
    "duration": 5,
    "start_time": "2022-06-04T08:23:37.533Z"
   },
   {
    "duration": 13,
    "start_time": "2022-06-04T08:23:38.122Z"
   },
   {
    "duration": 5,
    "start_time": "2022-06-04T08:23:38.536Z"
   },
   {
    "duration": 24,
    "start_time": "2022-06-04T08:23:39.197Z"
   },
   {
    "duration": 6,
    "start_time": "2022-06-04T08:23:39.618Z"
   },
   {
    "duration": 7,
    "start_time": "2022-06-04T08:23:40.027Z"
   },
   {
    "duration": 15,
    "start_time": "2022-06-04T08:23:40.710Z"
   },
   {
    "duration": 4,
    "start_time": "2022-06-04T08:23:41.429Z"
   },
   {
    "duration": 11,
    "start_time": "2022-06-04T08:23:44.486Z"
   },
   {
    "duration": 10,
    "start_time": "2022-06-04T08:23:45.641Z"
   },
   {
    "duration": 20,
    "start_time": "2022-06-04T08:23:46.553Z"
   },
   {
    "duration": 7,
    "start_time": "2022-06-04T08:23:47.534Z"
   },
   {
    "duration": 6,
    "start_time": "2022-06-04T08:23:47.933Z"
   },
   {
    "duration": 8,
    "start_time": "2022-06-04T08:23:48.390Z"
   },
   {
    "duration": 26,
    "start_time": "2022-06-04T08:23:49.505Z"
   },
   {
    "duration": 5,
    "start_time": "2022-06-04T08:23:51.222Z"
   },
   {
    "duration": 256,
    "start_time": "2022-06-04T08:23:52.447Z"
   },
   {
    "duration": 14,
    "start_time": "2022-06-04T08:23:54.313Z"
   },
   {
    "duration": 233,
    "start_time": "2022-06-04T08:24:01.514Z"
   },
   {
    "duration": 8,
    "start_time": "2022-06-04T08:24:06.893Z"
   },
   {
    "duration": 22,
    "start_time": "2022-06-04T08:24:11.298Z"
   },
   {
    "duration": 7,
    "start_time": "2022-06-04T08:24:12.194Z"
   },
   {
    "duration": 20152,
    "start_time": "2022-06-04T08:24:12.761Z"
   },
   {
    "duration": 11,
    "start_time": "2022-06-04T08:24:32.966Z"
   },
   {
    "duration": 29,
    "start_time": "2022-06-04T08:24:32.979Z"
   },
   {
    "duration": 58,
    "start_time": "2022-06-04T08:24:33.010Z"
   },
   {
    "duration": 12,
    "start_time": "2022-06-04T08:24:33.071Z"
   },
   {
    "duration": 7,
    "start_time": "2022-06-04T08:24:33.347Z"
   },
   {
    "duration": 54,
    "start_time": "2022-06-04T08:24:39.851Z"
   },
   {
    "duration": 2778,
    "start_time": "2022-06-04T08:24:42.202Z"
   },
   {
    "duration": 8,
    "start_time": "2022-06-04T08:24:44.982Z"
   },
   {
    "duration": 1087,
    "start_time": "2022-06-04T08:24:44.992Z"
   },
   {
    "duration": 221,
    "start_time": "2022-06-04T08:24:52.147Z"
   },
   {
    "duration": 33,
    "start_time": "2022-06-04T08:24:53.922Z"
   },
   {
    "duration": 149,
    "start_time": "2022-06-04T08:25:51.129Z"
   },
   {
    "duration": 10,
    "start_time": "2022-06-04T08:25:51.701Z"
   },
   {
    "duration": 177,
    "start_time": "2022-06-04T08:25:52.097Z"
   },
   {
    "duration": 9,
    "start_time": "2022-06-04T08:25:52.310Z"
   },
   {
    "duration": 41,
    "start_time": "2022-06-04T08:27:10.349Z"
   },
   {
    "duration": 25,
    "start_time": "2022-06-04T08:27:12.011Z"
   },
   {
    "duration": 35,
    "start_time": "2022-06-04T08:47:00.818Z"
   },
   {
    "duration": 23,
    "start_time": "2022-06-04T08:47:11.425Z"
   },
   {
    "duration": 24,
    "start_time": "2022-06-04T08:47:33.141Z"
   },
   {
    "duration": 11,
    "start_time": "2022-06-04T08:49:32.319Z"
   },
   {
    "duration": 10,
    "start_time": "2022-06-04T08:56:38.514Z"
   },
   {
    "duration": 463,
    "start_time": "2022-06-04T08:58:44.612Z"
   },
   {
    "duration": 225,
    "start_time": "2022-06-04T08:59:02.626Z"
   },
   {
    "duration": 682,
    "start_time": "2022-06-04T08:59:19.539Z"
   },
   {
    "duration": 759,
    "start_time": "2022-06-04T08:59:36.854Z"
   },
   {
    "duration": 27,
    "start_time": "2022-06-04T09:16:17.112Z"
   },
   {
    "duration": 23,
    "start_time": "2022-06-04T09:16:39.573Z"
   },
   {
    "duration": 10,
    "start_time": "2022-06-04T09:16:56.344Z"
   },
   {
    "duration": 12,
    "start_time": "2022-06-04T09:17:13.939Z"
   },
   {
    "duration": 11,
    "start_time": "2022-06-04T09:39:00.190Z"
   },
   {
    "duration": 7,
    "start_time": "2022-06-04T09:39:01.905Z"
   },
   {
    "duration": 5,
    "start_time": "2022-06-04T09:39:03.953Z"
   },
   {
    "duration": 13,
    "start_time": "2022-06-04T09:39:05.043Z"
   },
   {
    "duration": 24,
    "start_time": "2022-06-04T09:40:32.783Z"
   },
   {
    "duration": 10,
    "start_time": "2022-06-04T09:40:33.182Z"
   },
   {
    "duration": 13,
    "start_time": "2022-06-04T09:40:33.805Z"
   },
   {
    "duration": 6,
    "start_time": "2022-06-04T09:40:35.712Z"
   },
   {
    "duration": 5,
    "start_time": "2022-06-04T09:40:41.280Z"
   },
   {
    "duration": 5,
    "start_time": "2022-06-04T09:40:48.787Z"
   },
   {
    "duration": 11,
    "start_time": "2022-06-04T09:41:03.816Z"
   },
   {
    "duration": 3,
    "start_time": "2022-06-04T09:41:47.795Z"
   },
   {
    "duration": 78,
    "start_time": "2022-06-04T09:41:47.801Z"
   },
   {
    "duration": 16,
    "start_time": "2022-06-04T09:41:47.880Z"
   },
   {
    "duration": 18,
    "start_time": "2022-06-04T09:41:47.897Z"
   },
   {
    "duration": 3,
    "start_time": "2022-06-04T09:41:47.917Z"
   },
   {
    "duration": 7,
    "start_time": "2022-06-04T09:41:47.922Z"
   },
   {
    "duration": 46,
    "start_time": "2022-06-04T09:41:47.930Z"
   },
   {
    "duration": 23,
    "start_time": "2022-06-04T09:41:47.978Z"
   },
   {
    "duration": 8,
    "start_time": "2022-06-04T09:41:48.003Z"
   },
   {
    "duration": 5,
    "start_time": "2022-06-04T09:41:48.013Z"
   },
   {
    "duration": 30,
    "start_time": "2022-06-04T09:41:48.019Z"
   },
   {
    "duration": 7,
    "start_time": "2022-06-04T09:41:48.051Z"
   },
   {
    "duration": 28,
    "start_time": "2022-06-04T09:41:48.060Z"
   },
   {
    "duration": 6,
    "start_time": "2022-06-04T09:41:48.089Z"
   },
   {
    "duration": 10,
    "start_time": "2022-06-04T09:41:48.096Z"
   },
   {
    "duration": 18,
    "start_time": "2022-06-04T09:41:48.108Z"
   },
   {
    "duration": 5,
    "start_time": "2022-06-04T09:41:48.128Z"
   },
   {
    "duration": 19,
    "start_time": "2022-06-04T09:41:48.134Z"
   },
   {
    "duration": 22,
    "start_time": "2022-06-04T09:41:48.155Z"
   },
   {
    "duration": 26,
    "start_time": "2022-06-04T09:41:48.180Z"
   },
   {
    "duration": 6,
    "start_time": "2022-06-04T09:41:48.208Z"
   },
   {
    "duration": 7,
    "start_time": "2022-06-04T09:41:48.216Z"
   },
   {
    "duration": 12,
    "start_time": "2022-06-04T09:41:48.225Z"
   },
   {
    "duration": 36,
    "start_time": "2022-06-04T09:41:48.239Z"
   },
   {
    "duration": 5,
    "start_time": "2022-06-04T09:41:48.277Z"
   },
   {
    "duration": 257,
    "start_time": "2022-06-04T09:41:48.283Z"
   },
   {
    "duration": 30,
    "start_time": "2022-06-04T09:41:48.542Z"
   },
   {
    "duration": 151,
    "start_time": "2022-06-04T09:41:48.573Z"
   },
   {
    "duration": 9,
    "start_time": "2022-06-04T09:41:48.725Z"
   },
   {
    "duration": 36,
    "start_time": "2022-06-04T09:41:48.735Z"
   },
   {
    "duration": 9,
    "start_time": "2022-06-04T09:41:48.780Z"
   },
   {
    "duration": 19500,
    "start_time": "2022-06-04T09:41:48.790Z"
   },
   {
    "duration": 10,
    "start_time": "2022-06-04T09:42:08.292Z"
   },
   {
    "duration": 17,
    "start_time": "2022-06-04T09:42:08.304Z"
   },
   {
    "duration": 7,
    "start_time": "2022-06-04T09:42:08.323Z"
   },
   {
    "duration": 45,
    "start_time": "2022-06-04T09:42:08.332Z"
   },
   {
    "duration": 8,
    "start_time": "2022-06-04T09:42:08.381Z"
   },
   {
    "duration": 20222,
    "start_time": "2022-06-04T09:42:08.391Z"
   },
   {
    "duration": 34,
    "start_time": "2022-06-04T09:42:28.615Z"
   },
   {
    "duration": 3220,
    "start_time": "2022-06-04T09:42:28.650Z"
   },
   {
    "duration": 14,
    "start_time": "2022-06-04T09:42:31.872Z"
   },
   {
    "duration": 1025,
    "start_time": "2022-06-04T09:42:31.887Z"
   },
   {
    "duration": 368,
    "start_time": "2022-06-04T09:42:32.913Z"
   },
   {
    "duration": 27,
    "start_time": "2022-06-04T09:42:33.284Z"
   },
   {
    "duration": 179,
    "start_time": "2022-06-04T09:42:33.313Z"
   },
   {
    "duration": 10,
    "start_time": "2022-06-04T09:42:33.494Z"
   },
   {
    "duration": 177,
    "start_time": "2022-06-04T09:42:33.505Z"
   },
   {
    "duration": 10,
    "start_time": "2022-06-04T09:42:33.684Z"
   },
   {
    "duration": 63,
    "start_time": "2022-06-04T09:42:33.695Z"
   },
   {
    "duration": 36,
    "start_time": "2022-06-04T09:42:33.760Z"
   },
   {
    "duration": 23,
    "start_time": "2022-06-04T09:42:33.797Z"
   },
   {
    "duration": 27,
    "start_time": "2022-06-04T09:42:33.822Z"
   },
   {
    "duration": 35,
    "start_time": "2022-06-04T09:42:33.851Z"
   },
   {
    "duration": 641,
    "start_time": "2022-06-04T09:42:33.888Z"
   },
   {
    "duration": 22,
    "start_time": "2022-06-04T09:42:34.531Z"
   },
   {
    "duration": 20,
    "start_time": "2022-06-04T09:42:34.565Z"
   },
   {
    "duration": 31,
    "start_time": "2022-06-04T09:42:34.586Z"
   },
   {
    "duration": 28,
    "start_time": "2022-06-04T09:42:34.619Z"
   },
   {
    "duration": 33,
    "start_time": "2022-06-04T09:42:34.648Z"
   },
   {
    "duration": 20,
    "start_time": "2022-06-04T09:42:34.683Z"
   },
   {
    "duration": 19,
    "start_time": "2022-06-04T09:42:34.704Z"
   },
   {
    "duration": 24,
    "start_time": "2022-06-04T09:42:34.724Z"
   },
   {
    "duration": 38,
    "start_time": "2022-06-04T09:42:34.750Z"
   },
   {
    "duration": 23,
    "start_time": "2022-06-04T09:42:34.789Z"
   },
   {
    "duration": 24,
    "start_time": "2022-06-04T09:42:34.814Z"
   },
   {
    "duration": 6,
    "start_time": "2022-06-04T09:51:46.434Z"
   },
   {
    "duration": 24,
    "start_time": "2022-06-04T09:53:36.229Z"
   },
   {
    "duration": 23,
    "start_time": "2022-06-04T09:53:49.908Z"
   },
   {
    "duration": 24,
    "start_time": "2022-06-04T09:53:53.274Z"
   },
   {
    "duration": 22,
    "start_time": "2022-06-04T10:12:19.979Z"
   },
   {
    "duration": 23,
    "start_time": "2022-06-04T10:12:44.118Z"
   },
   {
    "duration": 622,
    "start_time": "2022-06-04T10:15:00.312Z"
   },
   {
    "duration": 590,
    "start_time": "2022-06-04T10:15:16.983Z"
   },
   {
    "duration": 28,
    "start_time": "2022-06-04T10:17:50.874Z"
   },
   {
    "duration": 23,
    "start_time": "2022-06-04T10:19:17.919Z"
   },
   {
    "duration": 21,
    "start_time": "2022-06-04T10:20:05.587Z"
   },
   {
    "duration": 6,
    "start_time": "2022-06-04T10:22:49.971Z"
   },
   {
    "duration": 5,
    "start_time": "2022-06-04T10:22:50.547Z"
   },
   {
    "duration": 5,
    "start_time": "2022-06-04T10:22:57.522Z"
   },
   {
    "duration": 3,
    "start_time": "2022-06-04T10:23:20.491Z"
   },
   {
    "duration": 84,
    "start_time": "2022-06-04T10:23:20.495Z"
   },
   {
    "duration": 17,
    "start_time": "2022-06-04T10:23:20.581Z"
   },
   {
    "duration": 14,
    "start_time": "2022-06-04T10:23:20.601Z"
   },
   {
    "duration": 4,
    "start_time": "2022-06-04T10:23:20.617Z"
   },
   {
    "duration": 8,
    "start_time": "2022-06-04T10:23:20.622Z"
   },
   {
    "duration": 5,
    "start_time": "2022-06-04T10:23:20.632Z"
   },
   {
    "duration": 35,
    "start_time": "2022-06-04T10:23:20.639Z"
   },
   {
    "duration": 9,
    "start_time": "2022-06-04T10:23:20.676Z"
   },
   {
    "duration": 6,
    "start_time": "2022-06-04T10:23:20.688Z"
   },
   {
    "duration": 14,
    "start_time": "2022-06-04T10:23:20.696Z"
   },
   {
    "duration": 7,
    "start_time": "2022-06-04T10:23:20.712Z"
   },
   {
    "duration": 18,
    "start_time": "2022-06-04T10:23:20.720Z"
   },
   {
    "duration": 26,
    "start_time": "2022-06-04T10:23:20.740Z"
   },
   {
    "duration": 7,
    "start_time": "2022-06-04T10:23:20.767Z"
   },
   {
    "duration": 19,
    "start_time": "2022-06-04T10:23:20.776Z"
   },
   {
    "duration": 5,
    "start_time": "2022-06-04T10:23:20.797Z"
   },
   {
    "duration": 19,
    "start_time": "2022-06-04T10:23:20.804Z"
   },
   {
    "duration": 11,
    "start_time": "2022-06-04T10:23:20.824Z"
   },
   {
    "duration": 30,
    "start_time": "2022-06-04T10:23:20.836Z"
   },
   {
    "duration": 6,
    "start_time": "2022-06-04T10:23:20.867Z"
   },
   {
    "duration": 14,
    "start_time": "2022-06-04T10:23:20.875Z"
   },
   {
    "duration": 11,
    "start_time": "2022-06-04T10:23:20.891Z"
   },
   {
    "duration": 23,
    "start_time": "2022-06-04T10:23:20.904Z"
   },
   {
    "duration": 3,
    "start_time": "2022-06-04T10:23:20.929Z"
   },
   {
    "duration": 267,
    "start_time": "2022-06-04T10:23:20.934Z"
   },
   {
    "duration": 11,
    "start_time": "2022-06-04T10:23:21.203Z"
   },
   {
    "duration": 154,
    "start_time": "2022-06-04T10:23:21.218Z"
   },
   {
    "duration": 8,
    "start_time": "2022-06-04T10:23:21.374Z"
   },
   {
    "duration": 24,
    "start_time": "2022-06-04T10:23:21.383Z"
   },
   {
    "duration": 7,
    "start_time": "2022-06-04T10:23:21.409Z"
   },
   {
    "duration": 18759,
    "start_time": "2022-06-04T10:23:21.418Z"
   },
   {
    "duration": 9,
    "start_time": "2022-06-04T10:23:40.179Z"
   },
   {
    "duration": 29,
    "start_time": "2022-06-04T10:23:40.190Z"
   },
   {
    "duration": 7,
    "start_time": "2022-06-04T10:23:40.221Z"
   },
   {
    "duration": 10,
    "start_time": "2022-06-04T10:23:40.230Z"
   },
   {
    "duration": 30,
    "start_time": "2022-06-04T10:23:40.242Z"
   },
   {
    "duration": 18724,
    "start_time": "2022-06-04T10:23:40.274Z"
   },
   {
    "duration": 46,
    "start_time": "2022-06-04T10:23:59.000Z"
   },
   {
    "duration": 2734,
    "start_time": "2022-06-04T10:23:59.048Z"
   },
   {
    "duration": 6,
    "start_time": "2022-06-04T10:24:01.784Z"
   },
   {
    "duration": 1033,
    "start_time": "2022-06-04T10:24:01.792Z"
   },
   {
    "duration": 224,
    "start_time": "2022-06-04T10:24:02.826Z"
   },
   {
    "duration": 31,
    "start_time": "2022-06-04T10:24:03.052Z"
   },
   {
    "duration": 175,
    "start_time": "2022-06-04T10:24:03.085Z"
   },
   {
    "duration": 20,
    "start_time": "2022-06-04T10:24:03.262Z"
   },
   {
    "duration": 180,
    "start_time": "2022-06-04T10:24:03.284Z"
   },
   {
    "duration": 9,
    "start_time": "2022-06-04T10:24:03.466Z"
   },
   {
    "duration": 45,
    "start_time": "2022-06-04T10:24:03.477Z"
   },
   {
    "duration": 49,
    "start_time": "2022-06-04T10:24:03.524Z"
   },
   {
    "duration": 24,
    "start_time": "2022-06-04T10:24:03.575Z"
   },
   {
    "duration": 15,
    "start_time": "2022-06-04T10:24:03.601Z"
   },
   {
    "duration": 26,
    "start_time": "2022-06-04T10:24:03.618Z"
   },
   {
    "duration": 644,
    "start_time": "2022-06-04T10:24:03.646Z"
   },
   {
    "duration": 24,
    "start_time": "2022-06-04T10:24:04.293Z"
   },
   {
    "duration": 10,
    "start_time": "2022-06-04T10:24:04.322Z"
   },
   {
    "duration": 32,
    "start_time": "2022-06-04T10:24:04.334Z"
   },
   {
    "duration": 5,
    "start_time": "2022-06-04T10:24:04.368Z"
   },
   {
    "duration": 7,
    "start_time": "2022-06-04T10:24:04.375Z"
   },
   {
    "duration": 6,
    "start_time": "2022-06-04T10:24:04.384Z"
   },
   {
    "duration": 31,
    "start_time": "2022-06-04T10:24:04.391Z"
   },
   {
    "duration": 5,
    "start_time": "2022-06-04T10:24:04.424Z"
   },
   {
    "duration": 18,
    "start_time": "2022-06-04T10:24:04.431Z"
   },
   {
    "duration": 19,
    "start_time": "2022-06-04T10:24:04.468Z"
   },
   {
    "duration": 4,
    "start_time": "2022-06-04T10:25:47.219Z"
   },
   {
    "duration": 5,
    "start_time": "2022-06-04T10:25:47.815Z"
   },
   {
    "duration": 5,
    "start_time": "2022-06-04T10:26:20.935Z"
   },
   {
    "duration": 3,
    "start_time": "2022-06-04T10:26:36.720Z"
   },
   {
    "duration": 68,
    "start_time": "2022-06-04T10:26:36.725Z"
   },
   {
    "duration": 16,
    "start_time": "2022-06-04T10:26:36.795Z"
   },
   {
    "duration": 30,
    "start_time": "2022-06-04T10:26:36.812Z"
   },
   {
    "duration": 13,
    "start_time": "2022-06-04T10:26:36.844Z"
   },
   {
    "duration": 21,
    "start_time": "2022-06-04T10:26:36.859Z"
   },
   {
    "duration": 22,
    "start_time": "2022-06-04T10:26:36.881Z"
   },
   {
    "duration": 15,
    "start_time": "2022-06-04T10:26:36.904Z"
   },
   {
    "duration": 10,
    "start_time": "2022-06-04T10:26:36.921Z"
   },
   {
    "duration": 21,
    "start_time": "2022-06-04T10:26:36.932Z"
   },
   {
    "duration": 18,
    "start_time": "2022-06-04T10:26:36.956Z"
   },
   {
    "duration": 18,
    "start_time": "2022-06-04T10:26:36.976Z"
   },
   {
    "duration": 23,
    "start_time": "2022-06-04T10:26:36.996Z"
   },
   {
    "duration": 14,
    "start_time": "2022-06-04T10:26:37.021Z"
   },
   {
    "duration": 18,
    "start_time": "2022-06-04T10:26:37.036Z"
   },
   {
    "duration": 31,
    "start_time": "2022-06-04T10:26:37.056Z"
   },
   {
    "duration": 8,
    "start_time": "2022-06-04T10:26:37.089Z"
   },
   {
    "duration": 21,
    "start_time": "2022-06-04T10:26:37.099Z"
   },
   {
    "duration": 21,
    "start_time": "2022-06-04T10:26:37.123Z"
   },
   {
    "duration": 29,
    "start_time": "2022-06-04T10:26:37.145Z"
   },
   {
    "duration": 11,
    "start_time": "2022-06-04T10:26:37.176Z"
   },
   {
    "duration": 27,
    "start_time": "2022-06-04T10:26:37.188Z"
   },
   {
    "duration": 24,
    "start_time": "2022-06-04T10:26:37.217Z"
   },
   {
    "duration": 26,
    "start_time": "2022-06-04T10:26:37.243Z"
   },
   {
    "duration": 7,
    "start_time": "2022-06-04T10:26:37.271Z"
   },
   {
    "duration": 286,
    "start_time": "2022-06-04T10:26:37.280Z"
   },
   {
    "duration": 12,
    "start_time": "2022-06-04T10:26:37.567Z"
   },
   {
    "duration": 158,
    "start_time": "2022-06-04T10:26:37.581Z"
   },
   {
    "duration": 8,
    "start_time": "2022-06-04T10:26:37.744Z"
   },
   {
    "duration": 23,
    "start_time": "2022-06-04T10:26:37.764Z"
   },
   {
    "duration": 8,
    "start_time": "2022-06-04T10:26:37.789Z"
   },
   {
    "duration": 18448,
    "start_time": "2022-06-04T10:26:37.799Z"
   },
   {
    "duration": 19,
    "start_time": "2022-06-04T10:26:56.249Z"
   },
   {
    "duration": 15,
    "start_time": "2022-06-04T10:26:56.270Z"
   },
   {
    "duration": 9,
    "start_time": "2022-06-04T10:26:56.287Z"
   },
   {
    "duration": 10,
    "start_time": "2022-06-04T10:26:56.298Z"
   },
   {
    "duration": 6,
    "start_time": "2022-06-04T10:26:56.311Z"
   },
   {
    "duration": 19059,
    "start_time": "2022-06-04T10:26:56.319Z"
   },
   {
    "duration": 35,
    "start_time": "2022-06-04T10:27:15.380Z"
   },
   {
    "duration": 2625,
    "start_time": "2022-06-04T10:27:15.416Z"
   },
   {
    "duration": 6,
    "start_time": "2022-06-04T10:27:18.042Z"
   },
   {
    "duration": 992,
    "start_time": "2022-06-04T10:27:18.050Z"
   },
   {
    "duration": 243,
    "start_time": "2022-06-04T10:27:19.044Z"
   },
   {
    "duration": 27,
    "start_time": "2022-06-04T10:27:19.289Z"
   },
   {
    "duration": 171,
    "start_time": "2022-06-04T10:27:19.318Z"
   },
   {
    "duration": 9,
    "start_time": "2022-06-04T10:27:19.490Z"
   },
   {
    "duration": 165,
    "start_time": "2022-06-04T10:27:19.501Z"
   },
   {
    "duration": 9,
    "start_time": "2022-06-04T10:27:19.668Z"
   },
   {
    "duration": 46,
    "start_time": "2022-06-04T10:27:19.678Z"
   },
   {
    "duration": 40,
    "start_time": "2022-06-04T10:27:19.725Z"
   },
   {
    "duration": 21,
    "start_time": "2022-06-04T10:27:19.767Z"
   },
   {
    "duration": 10,
    "start_time": "2022-06-04T10:27:19.789Z"
   },
   {
    "duration": 21,
    "start_time": "2022-06-04T10:27:19.801Z"
   },
   {
    "duration": 643,
    "start_time": "2022-06-04T10:27:19.824Z"
   },
   {
    "duration": 24,
    "start_time": "2022-06-04T10:27:20.468Z"
   },
   {
    "duration": 12,
    "start_time": "2022-06-04T10:27:20.494Z"
   },
   {
    "duration": 14,
    "start_time": "2022-06-04T10:27:20.508Z"
   },
   {
    "duration": 28,
    "start_time": "2022-06-04T10:27:20.524Z"
   },
   {
    "duration": 26,
    "start_time": "2022-06-04T10:27:20.553Z"
   },
   {
    "duration": 8,
    "start_time": "2022-06-04T10:27:20.581Z"
   },
   {
    "duration": 25,
    "start_time": "2022-06-04T10:27:20.591Z"
   },
   {
    "duration": 5,
    "start_time": "2022-06-04T10:34:23.887Z"
   },
   {
    "duration": 4,
    "start_time": "2022-06-04T10:34:31.604Z"
   },
   {
    "duration": 6,
    "start_time": "2022-06-04T10:34:34.491Z"
   },
   {
    "duration": 5,
    "start_time": "2022-06-04T10:34:56.287Z"
   },
   {
    "duration": 5,
    "start_time": "2022-06-04T10:35:07.142Z"
   },
   {
    "duration": 4,
    "start_time": "2022-06-04T10:35:12.129Z"
   },
   {
    "duration": 6,
    "start_time": "2022-06-04T10:35:18.137Z"
   },
   {
    "duration": 4,
    "start_time": "2022-06-04T10:35:22.791Z"
   },
   {
    "duration": 5,
    "start_time": "2022-06-04T10:35:24.146Z"
   },
   {
    "duration": 4,
    "start_time": "2022-06-04T10:35:29.246Z"
   },
   {
    "duration": 3,
    "start_time": "2022-06-04T10:35:49.813Z"
   },
   {
    "duration": 73,
    "start_time": "2022-06-04T10:35:49.818Z"
   },
   {
    "duration": 16,
    "start_time": "2022-06-04T10:35:49.893Z"
   },
   {
    "duration": 17,
    "start_time": "2022-06-04T10:35:49.910Z"
   },
   {
    "duration": 3,
    "start_time": "2022-06-04T10:35:49.929Z"
   },
   {
    "duration": 33,
    "start_time": "2022-06-04T10:35:49.934Z"
   },
   {
    "duration": 7,
    "start_time": "2022-06-04T10:35:49.969Z"
   },
   {
    "duration": 12,
    "start_time": "2022-06-04T10:35:49.977Z"
   },
   {
    "duration": 7,
    "start_time": "2022-06-04T10:35:49.991Z"
   },
   {
    "duration": 5,
    "start_time": "2022-06-04T10:35:50.000Z"
   },
   {
    "duration": 12,
    "start_time": "2022-06-04T10:35:50.008Z"
   },
   {
    "duration": 44,
    "start_time": "2022-06-04T10:35:50.022Z"
   },
   {
    "duration": 14,
    "start_time": "2022-06-04T10:35:50.069Z"
   },
   {
    "duration": 5,
    "start_time": "2022-06-04T10:35:50.085Z"
   },
   {
    "duration": 7,
    "start_time": "2022-06-04T10:35:50.091Z"
   },
   {
    "duration": 15,
    "start_time": "2022-06-04T10:35:50.100Z"
   },
   {
    "duration": 4,
    "start_time": "2022-06-04T10:35:50.117Z"
   },
   {
    "duration": 43,
    "start_time": "2022-06-04T10:35:50.123Z"
   },
   {
    "duration": 11,
    "start_time": "2022-06-04T10:35:50.168Z"
   },
   {
    "duration": 15,
    "start_time": "2022-06-04T10:35:50.180Z"
   },
   {
    "duration": 5,
    "start_time": "2022-06-04T10:35:50.197Z"
   },
   {
    "duration": 8,
    "start_time": "2022-06-04T10:35:50.204Z"
   },
   {
    "duration": 8,
    "start_time": "2022-06-04T10:35:50.214Z"
   },
   {
    "duration": 44,
    "start_time": "2022-06-04T10:35:50.223Z"
   },
   {
    "duration": 3,
    "start_time": "2022-06-04T10:35:50.269Z"
   },
   {
    "duration": 252,
    "start_time": "2022-06-04T10:35:50.274Z"
   },
   {
    "duration": 14,
    "start_time": "2022-06-04T10:35:50.527Z"
   },
   {
    "duration": 161,
    "start_time": "2022-06-04T10:35:50.543Z"
   },
   {
    "duration": 8,
    "start_time": "2022-06-04T10:35:50.709Z"
   },
   {
    "duration": 47,
    "start_time": "2022-06-04T10:35:50.719Z"
   },
   {
    "duration": 11,
    "start_time": "2022-06-04T10:35:50.768Z"
   },
   {
    "duration": 18717,
    "start_time": "2022-06-04T10:35:50.782Z"
   },
   {
    "duration": 8,
    "start_time": "2022-06-04T10:36:09.500Z"
   },
   {
    "duration": 17,
    "start_time": "2022-06-04T10:36:09.509Z"
   },
   {
    "duration": 6,
    "start_time": "2022-06-04T10:36:09.527Z"
   },
   {
    "duration": 15,
    "start_time": "2022-06-04T10:36:09.534Z"
   },
   {
    "duration": 19,
    "start_time": "2022-06-04T10:36:09.550Z"
   },
   {
    "duration": 18129,
    "start_time": "2022-06-04T10:36:09.570Z"
   },
   {
    "duration": 33,
    "start_time": "2022-06-04T10:36:27.700Z"
   },
   {
    "duration": 2464,
    "start_time": "2022-06-04T10:36:27.734Z"
   },
   {
    "duration": 6,
    "start_time": "2022-06-04T10:36:30.199Z"
   },
   {
    "duration": 1376,
    "start_time": "2022-06-04T10:36:30.207Z"
   },
   {
    "duration": 233,
    "start_time": "2022-06-04T10:36:31.584Z"
   },
   {
    "duration": 31,
    "start_time": "2022-06-04T10:36:31.819Z"
   },
   {
    "duration": 231,
    "start_time": "2022-06-04T10:36:31.865Z"
   },
   {
    "duration": 12,
    "start_time": "2022-06-04T10:36:32.098Z"
   },
   {
    "duration": 173,
    "start_time": "2022-06-04T10:36:32.112Z"
   },
   {
    "duration": 10,
    "start_time": "2022-06-04T10:36:32.286Z"
   },
   {
    "duration": 46,
    "start_time": "2022-06-04T10:36:32.297Z"
   },
   {
    "duration": 41,
    "start_time": "2022-06-04T10:36:32.344Z"
   },
   {
    "duration": 22,
    "start_time": "2022-06-04T10:36:32.386Z"
   },
   {
    "duration": 10,
    "start_time": "2022-06-04T10:36:32.409Z"
   },
   {
    "duration": 15,
    "start_time": "2022-06-04T10:36:32.420Z"
   },
   {
    "duration": 663,
    "start_time": "2022-06-04T10:36:32.437Z"
   },
   {
    "duration": 22,
    "start_time": "2022-06-04T10:36:33.102Z"
   },
   {
    "duration": 11,
    "start_time": "2022-06-04T10:36:33.126Z"
   },
   {
    "duration": 31,
    "start_time": "2022-06-04T10:36:33.138Z"
   },
   {
    "duration": 14,
    "start_time": "2022-06-04T10:36:33.171Z"
   },
   {
    "duration": 11,
    "start_time": "2022-06-04T10:36:33.187Z"
   },
   {
    "duration": 7,
    "start_time": "2022-06-04T10:36:33.199Z"
   },
   {
    "duration": 26,
    "start_time": "2022-06-04T10:36:33.208Z"
   },
   {
    "duration": 5,
    "start_time": "2022-06-04T10:42:59.247Z"
   },
   {
    "duration": 4,
    "start_time": "2022-06-04T10:43:24.699Z"
   },
   {
    "duration": 4,
    "start_time": "2022-06-04T10:43:32.623Z"
   },
   {
    "duration": 4,
    "start_time": "2022-06-04T10:45:24.333Z"
   },
   {
    "duration": 4,
    "start_time": "2022-06-04T10:45:25.749Z"
   },
   {
    "duration": 3,
    "start_time": "2022-06-04T10:46:50.980Z"
   },
   {
    "duration": 85,
    "start_time": "2022-06-04T10:46:50.990Z"
   },
   {
    "duration": 15,
    "start_time": "2022-06-04T10:46:51.082Z"
   },
   {
    "duration": 17,
    "start_time": "2022-06-04T10:46:51.099Z"
   },
   {
    "duration": 4,
    "start_time": "2022-06-04T10:46:51.118Z"
   },
   {
    "duration": 13,
    "start_time": "2022-06-04T10:46:51.124Z"
   },
   {
    "duration": 6,
    "start_time": "2022-06-04T10:46:51.139Z"
   },
   {
    "duration": 31,
    "start_time": "2022-06-04T10:46:51.147Z"
   },
   {
    "duration": 10,
    "start_time": "2022-06-04T10:46:51.182Z"
   },
   {
    "duration": 5,
    "start_time": "2022-06-04T10:46:51.194Z"
   },
   {
    "duration": 18,
    "start_time": "2022-06-04T10:46:51.200Z"
   },
   {
    "duration": 5,
    "start_time": "2022-06-04T10:46:51.219Z"
   },
   {
    "duration": 18,
    "start_time": "2022-06-04T10:46:51.225Z"
   },
   {
    "duration": 22,
    "start_time": "2022-06-04T10:46:51.244Z"
   },
   {
    "duration": 12,
    "start_time": "2022-06-04T10:46:51.270Z"
   },
   {
    "duration": 13,
    "start_time": "2022-06-04T10:46:51.284Z"
   },
   {
    "duration": 4,
    "start_time": "2022-06-04T10:46:51.298Z"
   },
   {
    "duration": 11,
    "start_time": "2022-06-04T10:46:51.303Z"
   },
   {
    "duration": 10,
    "start_time": "2022-06-04T10:46:51.315Z"
   },
   {
    "duration": 44,
    "start_time": "2022-06-04T10:46:51.326Z"
   },
   {
    "duration": 7,
    "start_time": "2022-06-04T10:46:51.375Z"
   },
   {
    "duration": 10,
    "start_time": "2022-06-04T10:46:51.383Z"
   },
   {
    "duration": 8,
    "start_time": "2022-06-04T10:46:51.395Z"
   },
   {
    "duration": 18,
    "start_time": "2022-06-04T10:46:51.405Z"
   },
   {
    "duration": 3,
    "start_time": "2022-06-04T10:46:51.425Z"
   },
   {
    "duration": 268,
    "start_time": "2022-06-04T10:46:51.430Z"
   },
   {
    "duration": 12,
    "start_time": "2022-06-04T10:46:51.700Z"
   },
   {
    "duration": 170,
    "start_time": "2022-06-04T10:46:51.713Z"
   },
   {
    "duration": 8,
    "start_time": "2022-06-04T10:46:51.884Z"
   },
   {
    "duration": 24,
    "start_time": "2022-06-04T10:46:51.893Z"
   },
   {
    "duration": 7,
    "start_time": "2022-06-04T10:46:51.919Z"
   },
   {
    "duration": 19836,
    "start_time": "2022-06-04T10:46:51.927Z"
   },
   {
    "duration": 23,
    "start_time": "2022-06-04T10:47:11.765Z"
   },
   {
    "duration": 21,
    "start_time": "2022-06-04T10:47:11.792Z"
   },
   {
    "duration": 6,
    "start_time": "2022-06-04T10:47:11.814Z"
   },
   {
    "duration": 11,
    "start_time": "2022-06-04T10:47:11.822Z"
   },
   {
    "duration": 6,
    "start_time": "2022-06-04T10:47:11.834Z"
   },
   {
    "duration": 19506,
    "start_time": "2022-06-04T10:47:11.842Z"
   },
   {
    "duration": 45,
    "start_time": "2022-06-04T10:47:31.350Z"
   },
   {
    "duration": 2714,
    "start_time": "2022-06-04T10:47:31.397Z"
   },
   {
    "duration": 6,
    "start_time": "2022-06-04T10:47:34.113Z"
   },
   {
    "duration": 1028,
    "start_time": "2022-06-04T10:47:34.123Z"
   },
   {
    "duration": 240,
    "start_time": "2022-06-04T10:47:35.152Z"
   },
   {
    "duration": 25,
    "start_time": "2022-06-04T10:47:35.394Z"
   },
   {
    "duration": 193,
    "start_time": "2022-06-04T10:47:35.421Z"
   },
   {
    "duration": 10,
    "start_time": "2022-06-04T10:47:35.616Z"
   },
   {
    "duration": 192,
    "start_time": "2022-06-04T10:47:35.629Z"
   },
   {
    "duration": 10,
    "start_time": "2022-06-04T10:47:35.822Z"
   },
   {
    "duration": 55,
    "start_time": "2022-06-04T10:47:35.834Z"
   },
   {
    "duration": 25,
    "start_time": "2022-06-04T10:47:35.890Z"
   },
   {
    "duration": 22,
    "start_time": "2022-06-04T10:47:35.916Z"
   },
   {
    "duration": 41,
    "start_time": "2022-06-04T10:47:35.940Z"
   },
   {
    "duration": 16,
    "start_time": "2022-06-04T10:47:35.983Z"
   },
   {
    "duration": 643,
    "start_time": "2022-06-04T10:47:36.001Z"
   },
   {
    "duration": 35,
    "start_time": "2022-06-04T10:47:36.646Z"
   },
   {
    "duration": 12,
    "start_time": "2022-06-04T10:47:36.683Z"
   },
   {
    "duration": 15,
    "start_time": "2022-06-04T10:47:36.698Z"
   },
   {
    "duration": 9,
    "start_time": "2022-06-04T10:47:36.714Z"
   },
   {
    "duration": 8,
    "start_time": "2022-06-04T10:47:36.725Z"
   },
   {
    "duration": 5,
    "start_time": "2022-06-04T10:47:36.735Z"
   },
   {
    "duration": 48,
    "start_time": "2022-06-04T10:47:36.741Z"
   },
   {
    "duration": 24,
    "start_time": "2022-06-04T10:49:43.294Z"
   },
   {
    "duration": 4,
    "start_time": "2022-06-04T10:49:48.280Z"
   },
   {
    "duration": 6,
    "start_time": "2022-06-04T10:49:54.511Z"
   },
   {
    "duration": 6,
    "start_time": "2022-06-04T10:49:55.726Z"
   },
   {
    "duration": 10,
    "start_time": "2022-06-04T10:50:13.018Z"
   },
   {
    "duration": 14,
    "start_time": "2022-06-04T10:50:35.282Z"
   },
   {
    "duration": 6,
    "start_time": "2022-06-04T10:51:55.526Z"
   },
   {
    "duration": 12,
    "start_time": "2022-06-04T10:51:56.483Z"
   },
   {
    "duration": 12,
    "start_time": "2022-06-04T10:52:18.087Z"
   },
   {
    "duration": 9,
    "start_time": "2022-06-04T10:52:22.941Z"
   },
   {
    "duration": 12,
    "start_time": "2022-06-04T10:52:27.280Z"
   },
   {
    "duration": 33,
    "start_time": "2022-06-04T11:12:42.528Z"
   },
   {
    "duration": 34,
    "start_time": "2022-06-04T11:13:20.443Z"
   },
   {
    "duration": 4,
    "start_time": "2022-06-04T11:13:26.698Z"
   },
   {
    "duration": 75,
    "start_time": "2022-06-04T11:13:26.704Z"
   },
   {
    "duration": 17,
    "start_time": "2022-06-04T11:13:26.781Z"
   },
   {
    "duration": 15,
    "start_time": "2022-06-04T11:13:26.800Z"
   },
   {
    "duration": 4,
    "start_time": "2022-06-04T11:13:26.817Z"
   },
   {
    "duration": 7,
    "start_time": "2022-06-04T11:13:26.822Z"
   },
   {
    "duration": 5,
    "start_time": "2022-06-04T11:13:26.830Z"
   },
   {
    "duration": 32,
    "start_time": "2022-06-04T11:13:26.837Z"
   },
   {
    "duration": 9,
    "start_time": "2022-06-04T11:13:26.872Z"
   },
   {
    "duration": 5,
    "start_time": "2022-06-04T11:13:26.882Z"
   },
   {
    "duration": 13,
    "start_time": "2022-06-04T11:13:26.889Z"
   },
   {
    "duration": 7,
    "start_time": "2022-06-04T11:13:26.904Z"
   },
   {
    "duration": 18,
    "start_time": "2022-06-04T11:13:26.913Z"
   },
   {
    "duration": 41,
    "start_time": "2022-06-04T11:13:26.933Z"
   },
   {
    "duration": 12,
    "start_time": "2022-06-04T11:13:26.976Z"
   },
   {
    "duration": 15,
    "start_time": "2022-06-04T11:13:26.989Z"
   },
   {
    "duration": 4,
    "start_time": "2022-06-04T11:13:27.006Z"
   },
   {
    "duration": 14,
    "start_time": "2022-06-04T11:13:27.012Z"
   },
   {
    "duration": 10,
    "start_time": "2022-06-04T11:13:27.027Z"
   },
   {
    "duration": 37,
    "start_time": "2022-06-04T11:13:27.039Z"
   },
   {
    "duration": 6,
    "start_time": "2022-06-04T11:13:27.078Z"
   },
   {
    "duration": 8,
    "start_time": "2022-06-04T11:13:27.086Z"
   },
   {
    "duration": 8,
    "start_time": "2022-06-04T11:13:27.095Z"
   },
   {
    "duration": 14,
    "start_time": "2022-06-04T11:13:27.107Z"
   },
   {
    "duration": 3,
    "start_time": "2022-06-04T11:13:27.123Z"
   },
   {
    "duration": 281,
    "start_time": "2022-06-04T11:13:27.127Z"
   },
   {
    "duration": 13,
    "start_time": "2022-06-04T11:13:27.410Z"
   },
   {
    "duration": 160,
    "start_time": "2022-06-04T11:13:27.425Z"
   },
   {
    "duration": 8,
    "start_time": "2022-06-04T11:13:27.587Z"
   },
   {
    "duration": 24,
    "start_time": "2022-06-04T11:13:27.597Z"
   },
   {
    "duration": 8,
    "start_time": "2022-06-04T11:13:27.623Z"
   },
   {
    "duration": 19428,
    "start_time": "2022-06-04T11:13:27.632Z"
   },
   {
    "duration": 12,
    "start_time": "2022-06-04T11:13:47.064Z"
   },
   {
    "duration": 24,
    "start_time": "2022-06-04T11:13:47.078Z"
   },
   {
    "duration": 7,
    "start_time": "2022-06-04T11:13:47.104Z"
   },
   {
    "duration": 11,
    "start_time": "2022-06-04T11:13:47.112Z"
   },
   {
    "duration": 6,
    "start_time": "2022-06-04T11:13:47.124Z"
   },
   {
    "duration": 19593,
    "start_time": "2022-06-04T11:13:47.131Z"
   },
   {
    "duration": 50,
    "start_time": "2022-06-04T11:14:06.726Z"
   },
   {
    "duration": 2677,
    "start_time": "2022-06-04T11:14:06.778Z"
   },
   {
    "duration": 18,
    "start_time": "2022-06-04T11:14:09.457Z"
   },
   {
    "duration": 983,
    "start_time": "2022-06-04T11:14:09.478Z"
   },
   {
    "duration": 240,
    "start_time": "2022-06-04T11:14:10.464Z"
   },
   {
    "duration": 26,
    "start_time": "2022-06-04T11:14:10.706Z"
   },
   {
    "duration": 180,
    "start_time": "2022-06-04T11:14:10.733Z"
   },
   {
    "duration": 10,
    "start_time": "2022-06-04T11:14:10.915Z"
   },
   {
    "duration": 176,
    "start_time": "2022-06-04T11:14:10.926Z"
   },
   {
    "duration": 10,
    "start_time": "2022-06-04T11:14:11.103Z"
   },
   {
    "duration": 63,
    "start_time": "2022-06-04T11:14:11.114Z"
   },
   {
    "duration": 28,
    "start_time": "2022-06-04T11:14:11.179Z"
   },
   {
    "duration": 24,
    "start_time": "2022-06-04T11:14:11.209Z"
   },
   {
    "duration": 37,
    "start_time": "2022-06-04T11:14:11.235Z"
   },
   {
    "duration": 20,
    "start_time": "2022-06-04T11:14:11.277Z"
   },
   {
    "duration": 625,
    "start_time": "2022-06-04T11:14:11.299Z"
   },
   {
    "duration": 21,
    "start_time": "2022-06-04T11:14:11.926Z"
   },
   {
    "duration": 29,
    "start_time": "2022-06-04T11:14:11.949Z"
   },
   {
    "duration": 14,
    "start_time": "2022-06-04T11:14:11.980Z"
   },
   {
    "duration": 13,
    "start_time": "2022-06-04T11:14:11.995Z"
   },
   {
    "duration": 9,
    "start_time": "2022-06-04T11:14:12.009Z"
   },
   {
    "duration": 7,
    "start_time": "2022-06-04T11:14:12.019Z"
   },
   {
    "duration": 28,
    "start_time": "2022-06-04T11:14:12.027Z"
   },
   {
    "duration": 20,
    "start_time": "2022-06-04T11:14:12.057Z"
   },
   {
    "duration": 13,
    "start_time": "2022-06-04T11:14:12.078Z"
   },
   {
    "duration": 12,
    "start_time": "2022-06-04T11:14:12.093Z"
   },
   {
    "duration": 12,
    "start_time": "2022-06-04T11:14:12.107Z"
   },
   {
    "duration": 10,
    "start_time": "2022-06-04T11:14:12.121Z"
   }
  ],
  "colab": {
   "name": "Сборный проект.ipynb",
   "provenance": []
  },
  "kernelspec": {
   "display_name": "Python 3 (ipykernel)",
   "language": "python",
   "name": "python3"
  },
  "language_info": {
   "codemirror_mode": {
    "name": "ipython",
    "version": 3
   },
   "file_extension": ".py",
   "mimetype": "text/x-python",
   "name": "python",
   "nbconvert_exporter": "python",
   "pygments_lexer": "ipython3",
   "version": "3.9.12"
  },
  "toc": {
   "base_numbering": 1,
   "nav_menu": {
    "height": "460px",
    "width": "465px"
   },
   "number_sections": true,
   "sideBar": true,
   "skip_h1_title": true,
   "title_cell": "Table of Contents",
   "title_sidebar": "Contents",
   "toc_cell": false,
   "toc_position": {},
   "toc_section_display": true,
   "toc_window_display": false
  }
 },
 "nbformat": 4,
 "nbformat_minor": 1
}
