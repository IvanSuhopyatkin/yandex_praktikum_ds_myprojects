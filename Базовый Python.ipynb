{
 "cells": [
  {
   "cell_type": "markdown",
   "metadata": {
    "toc": true
   },
   "source": [
    "<h1>Содержание<span class=\"tocSkip\"></span></h1>\n",
    "<div class=\"toc\"><ul class=\"toc-item\"><li><span><a href=\"#Описание\" data-toc-modified-id=\"Описание-1\"><span class=\"toc-item-num\">1&nbsp;&nbsp;</span>Описание</a></span></li><li><span><a href=\"#Обзор-данных\" data-toc-modified-id=\"Обзор-данных-2\"><span class=\"toc-item-num\">2&nbsp;&nbsp;</span>Обзор данных</a></span></li><li><span><a href=\"#Предобработка-данных\" data-toc-modified-id=\"Предобработка-данных-3\"><span class=\"toc-item-num\">3&nbsp;&nbsp;</span>Предобработка данных</a></span><ul class=\"toc-item\"><li><span><a href=\"#Стиль-заголовков\" data-toc-modified-id=\"Стиль-заголовков-3.1\"><span class=\"toc-item-num\">3.1&nbsp;&nbsp;</span>Стиль заголовков</a></span></li><li><span><a href=\"#Пропуски-значений\" data-toc-modified-id=\"Пропуски-значений-3.2\"><span class=\"toc-item-num\">3.2&nbsp;&nbsp;</span>Пропуски значений</a></span></li><li><span><a href=\"#Дубликаты\" data-toc-modified-id=\"Дубликаты-3.3\"><span class=\"toc-item-num\">3.3&nbsp;&nbsp;</span>Дубликаты</a></span></li></ul></li><li><span><a href=\"#Проверка-гипотез\" data-toc-modified-id=\"Проверка-гипотез-4\"><span class=\"toc-item-num\">4&nbsp;&nbsp;</span>Проверка гипотез</a></span><ul class=\"toc-item\"><li><span><a href=\"#Сравнение-поведения-пользователей-двух-столиц\" data-toc-modified-id=\"Сравнение-поведения-пользователей-двух-столиц-4.1\"><span class=\"toc-item-num\">4.1&nbsp;&nbsp;</span>Сравнение поведения пользователей двух столиц</a></span></li><li><span><a href=\"#Музыка-в-начале-и-в-конце-недели\" data-toc-modified-id=\"Музыка-в-начале-и-в-конце-недели-4.2\"><span class=\"toc-item-num\">4.2&nbsp;&nbsp;</span>Музыка в начале и в конце недели</a></span></li><li><span><a href=\"#Жанровые-предпочтения-в-Москве-и-Петербурге\" data-toc-modified-id=\"Жанровые-предпочтения-в-Москве-и-Петербурге-4.3\"><span class=\"toc-item-num\">4.3&nbsp;&nbsp;</span>Жанровые предпочтения в Москве и Петербурге</a></span></li></ul></li><li><span><a href=\"#Итоги-исследования\" data-toc-modified-id=\"Итоги-исследования-5\"><span class=\"toc-item-num\">5&nbsp;&nbsp;</span>Итоги исследования</a></span></li></ul></div>"
   ]
  },
  {
   "cell_type": "markdown",
   "metadata": {},
   "source": [
    "## Описание"
   ]
  },
  {
   "cell_type": "markdown",
   "metadata": {
    "id": "VUC88oWjTJw2"
   },
   "source": [
    "**Исходные данные:**\n",
    "\n",
    "Данные хранятся в файле yandex_music_project.csv\n",
    "\n",
    "Описание колонок:\n",
    "\n",
    "userID — идентификатор пользователя;\n",
    "\n",
    "Track — название трека;\n",
    "\n",
    "artist — имя исполнителя;\n",
    "\n",
    "genre — название жанра;\n",
    "\n",
    "City — город пользователя;\n",
    "\n",
    "time — время начала прослушивания;\n",
    "\n",
    "Day — день недели.\n",
    "\n",
    "\n",
    "**Цель исследования** — проверить три гипотезы:\n",
    "1. Активность пользователей зависит от дня недели. Причём в Москве и Петербурге это проявляется по-разному.\n",
    "2. В понедельник утром в Москве преобладают одни жанры, а в Петербурге — другие. Так же и вечером пятницы преобладают разные жанры — в зависимости от города. \n",
    "3. Москва и Петербург предпочитают разные жанры музыки. В Москве чаще слушают поп-музыку, в Петербурге — русский рэп."
   ]
  },
  {
   "cell_type": "markdown",
   "metadata": {
    "id": "Ml1hmfXC_Zcs"
   },
   "source": [
    "## Обзор данных\n",
    "\n",
    "Составим первое представление о данных Яндекс.Музыки."
   ]
  },
  {
   "cell_type": "code",
   "execution_count": 54,
   "metadata": {
    "id": "AXN7PHPN_Zcs"
   },
   "outputs": [],
   "source": [
    "import pandas as pd "
   ]
  },
  {
   "cell_type": "markdown",
   "metadata": {
    "id": "SG23P8tt_Zcs"
   },
   "source": [
    "Прочитаем файл `yandex_music_project.csv` из папки `/datasets` и сохраним его в переменной `df`:"
   ]
  },
  {
   "cell_type": "code",
   "execution_count": 10,
   "metadata": {
    "id": "fFVu7vqh_Zct"
   },
   "outputs": [],
   "source": [
    "df=pd.read_csv('yandex_music_project.csv') "
   ]
  },
  {
   "cell_type": "markdown",
   "metadata": {},
   "source": [
    "выведем на экран первые 10 строк таблицы:"
   ]
  },
  {
   "cell_type": "code",
   "execution_count": 11,
   "metadata": {
    "id": "oWTVX3gW_Zct"
   },
   "outputs": [
    {
     "data": {
      "text/html": [
       "<div>\n",
       "<style scoped>\n",
       "    .dataframe tbody tr th:only-of-type {\n",
       "        vertical-align: middle;\n",
       "    }\n",
       "\n",
       "    .dataframe tbody tr th {\n",
       "        vertical-align: top;\n",
       "    }\n",
       "\n",
       "    .dataframe thead th {\n",
       "        text-align: right;\n",
       "    }\n",
       "</style>\n",
       "<table border=\"1\" class=\"dataframe\">\n",
       "  <thead>\n",
       "    <tr style=\"text-align: right;\">\n",
       "      <th></th>\n",
       "      <th>userID</th>\n",
       "      <th>Track</th>\n",
       "      <th>artist</th>\n",
       "      <th>genre</th>\n",
       "      <th>City</th>\n",
       "      <th>time</th>\n",
       "      <th>Day</th>\n",
       "    </tr>\n",
       "  </thead>\n",
       "  <tbody>\n",
       "    <tr>\n",
       "      <th>0</th>\n",
       "      <td>FFB692EC</td>\n",
       "      <td>Kamigata To Boots</td>\n",
       "      <td>The Mass Missile</td>\n",
       "      <td>rock</td>\n",
       "      <td>Saint-Petersburg</td>\n",
       "      <td>20:28:33</td>\n",
       "      <td>Wednesday</td>\n",
       "    </tr>\n",
       "    <tr>\n",
       "      <th>1</th>\n",
       "      <td>55204538</td>\n",
       "      <td>Delayed Because of Accident</td>\n",
       "      <td>Andreas Rönnberg</td>\n",
       "      <td>rock</td>\n",
       "      <td>Moscow</td>\n",
       "      <td>14:07:09</td>\n",
       "      <td>Friday</td>\n",
       "    </tr>\n",
       "    <tr>\n",
       "      <th>2</th>\n",
       "      <td>20EC38</td>\n",
       "      <td>Funiculì funiculà</td>\n",
       "      <td>Mario Lanza</td>\n",
       "      <td>pop</td>\n",
       "      <td>Saint-Petersburg</td>\n",
       "      <td>20:58:07</td>\n",
       "      <td>Wednesday</td>\n",
       "    </tr>\n",
       "    <tr>\n",
       "      <th>3</th>\n",
       "      <td>A3DD03C9</td>\n",
       "      <td>Dragons in the Sunset</td>\n",
       "      <td>Fire + Ice</td>\n",
       "      <td>folk</td>\n",
       "      <td>Saint-Petersburg</td>\n",
       "      <td>08:37:09</td>\n",
       "      <td>Monday</td>\n",
       "    </tr>\n",
       "    <tr>\n",
       "      <th>4</th>\n",
       "      <td>E2DC1FAE</td>\n",
       "      <td>Soul People</td>\n",
       "      <td>Space Echo</td>\n",
       "      <td>dance</td>\n",
       "      <td>Moscow</td>\n",
       "      <td>08:34:34</td>\n",
       "      <td>Monday</td>\n",
       "    </tr>\n",
       "    <tr>\n",
       "      <th>5</th>\n",
       "      <td>842029A1</td>\n",
       "      <td>Преданная</td>\n",
       "      <td>IMPERVTOR</td>\n",
       "      <td>rusrap</td>\n",
       "      <td>Saint-Petersburg</td>\n",
       "      <td>13:09:41</td>\n",
       "      <td>Friday</td>\n",
       "    </tr>\n",
       "    <tr>\n",
       "      <th>6</th>\n",
       "      <td>4CB90AA5</td>\n",
       "      <td>True</td>\n",
       "      <td>Roman Messer</td>\n",
       "      <td>dance</td>\n",
       "      <td>Moscow</td>\n",
       "      <td>13:00:07</td>\n",
       "      <td>Wednesday</td>\n",
       "    </tr>\n",
       "    <tr>\n",
       "      <th>7</th>\n",
       "      <td>F03E1C1F</td>\n",
       "      <td>Feeling This Way</td>\n",
       "      <td>Polina Griffith</td>\n",
       "      <td>dance</td>\n",
       "      <td>Moscow</td>\n",
       "      <td>20:47:49</td>\n",
       "      <td>Wednesday</td>\n",
       "    </tr>\n",
       "    <tr>\n",
       "      <th>8</th>\n",
       "      <td>8FA1D3BE</td>\n",
       "      <td>И вновь продолжается бой</td>\n",
       "      <td>NaN</td>\n",
       "      <td>ruspop</td>\n",
       "      <td>Moscow</td>\n",
       "      <td>09:17:40</td>\n",
       "      <td>Friday</td>\n",
       "    </tr>\n",
       "    <tr>\n",
       "      <th>9</th>\n",
       "      <td>E772D5C0</td>\n",
       "      <td>Pessimist</td>\n",
       "      <td>NaN</td>\n",
       "      <td>dance</td>\n",
       "      <td>Saint-Petersburg</td>\n",
       "      <td>21:20:49</td>\n",
       "      <td>Wednesday</td>\n",
       "    </tr>\n",
       "  </tbody>\n",
       "</table>\n",
       "</div>"
      ],
      "text/plain": [
       "     userID                        Track            artist   genre  \\\n",
       "0  FFB692EC            Kamigata To Boots  The Mass Missile    rock   \n",
       "1  55204538  Delayed Because of Accident  Andreas Rönnberg    rock   \n",
       "2    20EC38            Funiculì funiculà       Mario Lanza     pop   \n",
       "3  A3DD03C9        Dragons in the Sunset        Fire + Ice    folk   \n",
       "4  E2DC1FAE                  Soul People        Space Echo   dance   \n",
       "5  842029A1                    Преданная         IMPERVTOR  rusrap   \n",
       "6  4CB90AA5                         True      Roman Messer   dance   \n",
       "7  F03E1C1F             Feeling This Way   Polina Griffith   dance   \n",
       "8  8FA1D3BE     И вновь продолжается бой               NaN  ruspop   \n",
       "9  E772D5C0                    Pessimist               NaN   dance   \n",
       "\n",
       "             City        time        Day  \n",
       "0  Saint-Petersburg  20:28:33  Wednesday  \n",
       "1            Moscow  14:07:09     Friday  \n",
       "2  Saint-Petersburg  20:58:07  Wednesday  \n",
       "3  Saint-Petersburg  08:37:09     Monday  \n",
       "4            Moscow  08:34:34     Monday  \n",
       "5  Saint-Petersburg  13:09:41     Friday  \n",
       "6            Moscow  13:00:07  Wednesday  \n",
       "7            Moscow  20:47:49  Wednesday  \n",
       "8            Moscow  09:17:40     Friday  \n",
       "9  Saint-Petersburg  21:20:49  Wednesday  "
      ]
     },
     "execution_count": 11,
     "metadata": {},
     "output_type": "execute_result"
    }
   ],
   "source": [
    "df.head(10)"
   ]
  },
  {
   "cell_type": "markdown",
   "metadata": {
    "id": "EO73Kwic_Zct"
   },
   "source": [
    "Одной командой получим общую информацию о таблице:"
   ]
  },
  {
   "cell_type": "code",
   "execution_count": 12,
   "metadata": {
    "id": "DSf2kIb-_Zct"
   },
   "outputs": [
    {
     "name": "stdout",
     "output_type": "stream",
     "text": [
      "<class 'pandas.core.frame.DataFrame'>\n",
      "RangeIndex: 65079 entries, 0 to 65078\n",
      "Data columns (total 7 columns):\n",
      " #   Column    Non-Null Count  Dtype \n",
      "---  ------    --------------  ----- \n",
      " 0     userID  65079 non-null  object\n",
      " 1   Track     63848 non-null  object\n",
      " 2   artist    57876 non-null  object\n",
      " 3   genre     63881 non-null  object\n",
      " 4     City    65079 non-null  object\n",
      " 5   time      65079 non-null  object\n",
      " 6   Day       65079 non-null  object\n",
      "dtypes: object(7)\n",
      "memory usage: 3.5+ MB\n"
     ]
    }
   ],
   "source": [
    "df.info()"
   ]
  },
  {
   "cell_type": "markdown",
   "metadata": {
    "id": "TaQ2Iwbr_Zct"
   },
   "source": [
    "Итак, в таблице семь столбцов. Тип данных во всех столбцах — `object`.\n",
    "\n",
    "Согласно документации к данным:\n",
    "* `userID` — идентификатор пользователя;\n",
    "* `Track` — название трека;  \n",
    "* `artist` — имя исполнителя;\n",
    "* `genre` — название жанра;\n",
    "* `City` — город пользователя;\n",
    "* `time` — время начала прослушивания;\n",
    "* `Day` — день недели.\n",
    "\n",
    "В названиях колонок видны три нарушения стиля:\n",
    "1. Строчные буквы сочетаются с прописными.\n",
    "2. Встречаются пробелы.\n",
    "3. Не очень понятно что именно хранится в столбце, например Time это время начала прослушивания\n",
    "\n",
    "\n",
    "\n",
    "Количество значений в столбцах различается. Значит, в данных есть пропущенные значения.\n"
   ]
  },
  {
   "cell_type": "markdown",
   "metadata": {
    "id": "MCB6-dXG_Zct"
   },
   "source": [
    "**Выводы**\n",
    "\n",
    "В каждой строке таблицы — данные о прослушанном треке. Часть колонок описывает саму композицию: название, исполнителя и жанр. Остальные данные рассказывают о пользователе: из какого он города, когда он слушал музыку. \n",
    "\n",
    "Предварительно можно утверждать, что, данных достаточно для проверки гипотез. Но встречаются пропуски в данных, а в названиях колонок — расхождения с хорошим стилем.\n",
    "\n",
    "Чтобы двигаться дальше, нужно устранить проблемы в данных."
   ]
  },
  {
   "cell_type": "markdown",
   "metadata": {
    "id": "SjYF6Ub9_Zct"
   },
   "source": [
    "## Предобработка данных\n",
    "Исправим стиль в заголовках столбцов, исключим пропуски. Затем проверим данные на дубликаты."
   ]
  },
  {
   "cell_type": "markdown",
   "metadata": {
    "id": "dIaKXr29_Zct"
   },
   "source": [
    "### Стиль заголовков\n",
    "Выведим на экран названия столбцов:"
   ]
  },
  {
   "cell_type": "code",
   "execution_count": 13,
   "metadata": {
    "id": "oKOTdF_Q_Zct"
   },
   "outputs": [
    {
     "data": {
      "text/plain": [
       "Index(['  userID', 'Track', 'artist', 'genre', '  City  ', 'time', 'Day'], dtype='object')"
      ]
     },
     "execution_count": 13,
     "metadata": {},
     "output_type": "execute_result"
    }
   ],
   "source": [
    "# перечень названий столбцов таблицы df\n",
    "df.columns"
   ]
  },
  {
   "cell_type": "markdown",
   "metadata": {
    "id": "zj5534cv_Zct"
   },
   "source": [
    "Приведем названия в соответствие с хорошим стилем:\n",
    "* несколько слов в названии запишем в «змеином_регистре»,\n",
    "* все символы сделаем строчными,\n",
    "* устраним пробелы.\n",
    "\n",
    "Для этого переименуем колонки так:\n",
    "* `'  userID'` → `'user_id'`;\n",
    "* `'Track'` → `'track'`;\n",
    "* `'  City  '` → `'city'`;\n",
    "* `'Day'` → `'day'`."
   ]
  },
  {
   "cell_type": "code",
   "execution_count": 14,
   "metadata": {
    "id": "ISlFqs5y_Zct"
   },
   "outputs": [],
   "source": [
    "# переименование столбцов\n",
    "df = df.rename(columns={'  userID':'user_id','Track':'track','  City  ':'city','Day':'day','time':'time_begining'}) "
   ]
  },
  {
   "cell_type": "markdown",
   "metadata": {
    "id": "1dqbh00J_Zct"
   },
   "source": [
    "Провреим результат. Для этого ещё раз выведим на экран названия столбцов:"
   ]
  },
  {
   "cell_type": "code",
   "execution_count": 15,
   "metadata": {
    "id": "d4NOAmTW_Zct"
   },
   "outputs": [
    {
     "data": {
      "text/plain": [
       "Index(['user_id', 'track', 'artist', 'genre', 'city', 'time_begining', 'day'], dtype='object')"
      ]
     },
     "execution_count": 15,
     "metadata": {},
     "output_type": "execute_result"
    }
   ],
   "source": [
    "# проверка результатов - перечень названий столбцов\n",
    "df.columns"
   ]
  },
  {
   "cell_type": "markdown",
   "metadata": {
    "id": "5ISfbcfY_Zct"
   },
   "source": [
    "### Пропуски значений\n",
    "Сначала посчитаем, сколько в таблице пропущенных значений. Для этого достаточно двух методов `pandas`:"
   ]
  },
  {
   "cell_type": "code",
   "execution_count": 47,
   "metadata": {
    "id": "RskX29qr_Zct"
   },
   "outputs": [
    {
     "data": {
      "text/plain": [
       "user_id          0\n",
       "track            0\n",
       "artist           0\n",
       "genre            0\n",
       "city             0\n",
       "time_begining    0\n",
       "day              0\n",
       "dtype: int64"
      ]
     },
     "execution_count": 47,
     "metadata": {},
     "output_type": "execute_result"
    }
   ],
   "source": [
    "# подсчёт пропусков\n",
    "df.isna().sum()"
   ]
  },
  {
   "cell_type": "markdown",
   "metadata": {
    "id": "qubhgnlO_Zct"
   },
   "source": [
    "Не все пропущенные значения влияют на исследование. Так в `track` и `artist` пропуски не важны для вашей работы. Достаточно заменить их явными обозначениями.\n",
    "\n",
    "Но пропуски в `genre` могут помешать сравнению музыкальных вкусов в Москве и Санкт-Петербурге. На практике было бы правильно установить причину пропусков и восстановить данные. Такой возможности нет в учебном проекте. Придётся:\n",
    "* заполнить и эти пропуски явными обозначениями,\n",
    "* оценить, насколько они повредят расчётам. "
   ]
  },
  {
   "cell_type": "markdown",
   "metadata": {
    "id": "fSv2laPA_Zct"
   },
   "source": [
    "Заменим пропущенные значения в столбцах `track`, `artist` и `genre` на строку `'unknown'`. Для этого создайте список `columns_to_replace`, переберите его элементы циклом `for` и для каждого столбца выполните замену пропущенных значений:"
   ]
  },
  {
   "cell_type": "code",
   "execution_count": 17,
   "metadata": {
    "id": "KplB5qWs_Zct"
   },
   "outputs": [],
   "source": [
    "# перебор названий столбцов в цикле и замена пропущенных значений на 'unknown'\n",
    "columns_to_replace=['track','artist','genre']\n",
    "for row in columns_to_replace:\n",
    "    df[row] = df[row].fillna('unknown') "
   ]
  },
  {
   "cell_type": "markdown",
   "metadata": {
    "id": "Ilsm-MZo_Zct"
   },
   "source": [
    "Убедитесь, что в таблице не осталось пропусков. Для этого ещё раз посчитайте пропущенные значения."
   ]
  },
  {
   "cell_type": "code",
   "execution_count": 18,
   "metadata": {
    "id": "Tq4nYRX4_Zct"
   },
   "outputs": [
    {
     "data": {
      "text/plain": [
       "user_id          0\n",
       "track            0\n",
       "artist           0\n",
       "genre            0\n",
       "city             0\n",
       "time_begining    0\n",
       "day              0\n",
       "dtype: int64"
      ]
     },
     "execution_count": 18,
     "metadata": {},
     "output_type": "execute_result"
    }
   ],
   "source": [
    "# подсчёт пропусков\n",
    "df.isna().sum()"
   ]
  },
  {
   "cell_type": "markdown",
   "metadata": {
    "id": "BWKRtBJ3_Zct"
   },
   "source": [
    "### Дубликаты\n",
    "Посчитайте явные дубликаты в таблице одной командой:"
   ]
  },
  {
   "cell_type": "code",
   "execution_count": 19,
   "metadata": {
    "id": "36eES_S0_Zct"
   },
   "outputs": [
    {
     "data": {
      "text/plain": [
       "3826"
      ]
     },
     "execution_count": 19,
     "metadata": {},
     "output_type": "execute_result"
    }
   ],
   "source": [
    "# подсчёт явных дубликатов\n",
    "df.duplicated().sum()"
   ]
  },
  {
   "cell_type": "markdown",
   "metadata": {
    "id": "Ot25h6XR_Zct"
   },
   "source": [
    "Вызовем специальный метод `pandas`, чтобы удалить явные дубликаты:"
   ]
  },
  {
   "cell_type": "code",
   "execution_count": 48,
   "metadata": {
    "id": "exFHq6tt_Zct"
   },
   "outputs": [],
   "source": [
    "# удаление явных дубликатов (с удалением старых индексов и формированием новых)\n",
    "df = df.drop_duplicates().reset_index(drop=True)  "
   ]
  },
  {
   "cell_type": "markdown",
   "metadata": {
    "id": "Im2YwBEG_Zct"
   },
   "source": [
    "Ещё раз посчитайте явные дубликаты в таблице — убедитесь, что полностью от них избавились:"
   ]
  },
  {
   "cell_type": "code",
   "execution_count": 49,
   "metadata": {
    "id": "-8PuNWQ0_Zct"
   },
   "outputs": [
    {
     "data": {
      "text/plain": [
       "0"
      ]
     },
     "execution_count": 49,
     "metadata": {},
     "output_type": "execute_result"
    }
   ],
   "source": [
    "# проверка на отсутствие дубликатов\n",
    "df.duplicated().sum()"
   ]
  },
  {
   "cell_type": "markdown",
   "metadata": {
    "id": "QlFBsxAr_Zct"
   },
   "source": [
    "Теперь избавимся от неявных дубликатов в колонке `genre`. Например, название одного и того же жанра может быть записано немного по-разному. Такие ошибки тоже повлияют на результат исследования."
   ]
  },
  {
   "cell_type": "markdown",
   "metadata": {
    "id": "eSjWwsOh_Zct"
   },
   "source": [
    "Выведим на экран список уникальных названий жанров, отсортированный в алфавитном порядке. Для этого:\n",
    "* извлечем нужный столбец датафрейма, \n",
    "* применим к нему метод сортировки,\n",
    "* для отсортированного столбца вызовем метод, который вернёт уникальные значения из столбца."
   ]
  },
  {
   "cell_type": "code",
   "execution_count": 22,
   "metadata": {
    "id": "JIUcqzZN_Zct"
   },
   "outputs": [
    {
     "data": {
      "text/plain": [
       "array(['acid', 'acoustic', 'action', 'adult', 'africa', 'afrikaans',\n",
       "       'alternative', 'alternativepunk', 'ambient', 'americana',\n",
       "       'animated', 'anime', 'arabesk', 'arabic', 'arena',\n",
       "       'argentinetango', 'art', 'audiobook', 'author', 'avantgarde',\n",
       "       'axé', 'baile', 'balkan', 'beats', 'bigroom', 'black', 'bluegrass',\n",
       "       'blues', 'bollywood', 'bossa', 'brazilian', 'breakbeat', 'breaks',\n",
       "       'broadway', 'cantautori', 'cantopop', 'canzone', 'caribbean',\n",
       "       'caucasian', 'celtic', 'chamber', 'chanson', 'children', 'chill',\n",
       "       'chinese', 'choral', 'christian', 'christmas', 'classical',\n",
       "       'classicmetal', 'club', 'colombian', 'comedy', 'conjazz',\n",
       "       'contemporary', 'country', 'cuban', 'dance', 'dancehall',\n",
       "       'dancepop', 'dark', 'death', 'deep', 'deutschrock', 'deutschspr',\n",
       "       'dirty', 'disco', 'dnb', 'documentary', 'downbeat', 'downtempo',\n",
       "       'drum', 'dub', 'dubstep', 'eastern', 'easy', 'electronic',\n",
       "       'electropop', 'emo', 'entehno', 'epicmetal', 'estrada', 'ethnic',\n",
       "       'eurofolk', 'european', 'experimental', 'extrememetal', 'fado',\n",
       "       'fairytail', 'film', 'fitness', 'flamenco', 'folk', 'folklore',\n",
       "       'folkmetal', 'folkrock', 'folktronica', 'forró', 'frankreich',\n",
       "       'französisch', 'french', 'funk', 'future', 'gangsta', 'garage',\n",
       "       'german', 'ghazal', 'gitarre', 'glitch', 'gospel', 'gothic',\n",
       "       'grime', 'grunge', 'gypsy', 'handsup', \"hard'n'heavy\", 'hardcore',\n",
       "       'hardstyle', 'hardtechno', 'hip', 'hip-hop', 'hiphop',\n",
       "       'historisch', 'holiday', 'hop', 'horror', 'house', 'hymn', 'idm',\n",
       "       'independent', 'indian', 'indie', 'indipop', 'industrial',\n",
       "       'inspirational', 'instrumental', 'international', 'irish', 'jam',\n",
       "       'japanese', 'jazz', 'jewish', 'jpop', 'jungle', 'k-pop',\n",
       "       'karadeniz', 'karaoke', 'kayokyoku', 'korean', 'laiko', 'latin',\n",
       "       'latino', 'leftfield', 'local', 'lounge', 'loungeelectronic',\n",
       "       'lovers', 'malaysian', 'mandopop', 'marschmusik', 'meditative',\n",
       "       'mediterranean', 'melodic', 'metal', 'metalcore', 'mexican',\n",
       "       'middle', 'minimal', 'miscellaneous', 'modern', 'mood', 'mpb',\n",
       "       'muslim', 'native', 'neoklassik', 'neue', 'new', 'newage',\n",
       "       'newwave', 'nu', 'nujazz', 'numetal', 'oceania', 'old', 'opera',\n",
       "       'orchestral', 'other', 'piano', 'podcasts', 'pop', 'popdance',\n",
       "       'popelectronic', 'popeurodance', 'poprussian', 'post',\n",
       "       'posthardcore', 'postrock', 'power', 'progmetal', 'progressive',\n",
       "       'psychedelic', 'punjabi', 'punk', 'quebecois', 'ragga', 'ram',\n",
       "       'rancheras', 'rap', 'rave', 'reggae', 'reggaeton', 'regional',\n",
       "       'relax', 'religious', 'retro', 'rhythm', 'rnb', 'rnr', 'rock',\n",
       "       'rockabilly', 'rockalternative', 'rockindie', 'rockother',\n",
       "       'romance', 'roots', 'ruspop', 'rusrap', 'rusrock', 'russian',\n",
       "       'salsa', 'samba', 'scenic', 'schlager', 'self', 'sertanejo',\n",
       "       'shanson', 'shoegazing', 'showtunes', 'singer', 'ska', 'skarock',\n",
       "       'slow', 'smooth', 'soft', 'soul', 'soulful', 'sound', 'soundtrack',\n",
       "       'southern', 'specialty', 'speech', 'spiritual', 'sport',\n",
       "       'stonerrock', 'surf', 'swing', 'synthpop', 'synthrock',\n",
       "       'sängerportrait', 'tango', 'tanzorchester', 'taraftar', 'tatar',\n",
       "       'tech', 'techno', 'teen', 'thrash', 'top', 'traditional',\n",
       "       'tradjazz', 'trance', 'tribal', 'trip', 'triphop', 'tropical',\n",
       "       'türk', 'türkçe', 'ukrrock', 'unknown', 'urban', 'uzbek',\n",
       "       'variété', 'vi', 'videogame', 'vocal', 'western', 'world',\n",
       "       'worldbeat', 'ïîï', 'электроника'], dtype=object)"
      ]
     },
     "execution_count": 22,
     "metadata": {},
     "output_type": "execute_result"
    }
   ],
   "source": [
    "# Просмотр уникальных названий жанров\n",
    "df['genre'].sort_values().unique()"
   ]
  },
  {
   "cell_type": "markdown",
   "metadata": {
    "id": "qej-Qmuo_Zct"
   },
   "source": [
    "Просмотрим список и найдите неявные дубликаты названия `hiphop`. Это могут быть названия с ошибками или альтернативные названия того же жанра.\n",
    "\n",
    "Чтобы очистить от них таблицу, создадим функцию `replace_wrong_genres()` с двумя параметрами: \n",
    "* `wrong_genres` — список дубликатов,\n",
    "* `correct_genre` — строка с правильным значением.\n",
    "\n",
    "Функция должна исправить колонку `genre` в таблице `df`: заменить каждое значение из списка `wrong_genres` на значение из `correct_genre`."
   ]
  },
  {
   "cell_type": "code",
   "execution_count": 50,
   "metadata": {
    "id": "ErNDkmns_Zct"
   },
   "outputs": [],
   "source": [
    "# Функция для замены неявных дубликатов\n",
    "\n",
    "def replace_wrong_genres(wrong_genres, correct_genre):\n",
    "    for wrong_genre in wrong_genres: # перебираем неправильные имена\n",
    "        df['genre'] = df['genre'].replace(wrong_genre, correct_genre) # и для каждого неправильного имени вызываем метод replace()\n",
    "\n",
    "\n",
    "#print(genre)"
   ]
  },
  {
   "cell_type": "markdown",
   "metadata": {
    "id": "aDoBJxbA_Zct"
   },
   "source": [
    "Вызовем `replace_wrong_genres()` и передадим ей такие аргументы, чтобы она устранила неявные дубликаты: вместо `hip`, `hop` и `hip-hop` в таблице должно быть значение `hiphop`:"
   ]
  },
  {
   "cell_type": "code",
   "execution_count": 51,
   "metadata": {
    "id": "YN5i2hpmSo09"
   },
   "outputs": [],
   "source": [
    "duplicates = ['hip', 'hop', 'hip-hop'] # список неправильных имён\n",
    "name = 'hiphop' # правильное имя\n",
    "replace_wrong_genres(duplicates, name)"
   ]
  },
  {
   "cell_type": "markdown",
   "metadata": {
    "id": "zQKF16_RG15m"
   },
   "source": [
    "Проверьте, что заменили неправильные названия:\n",
    "\n",
    "*   hip\n",
    "*   hop\n",
    "*   hip-hop\n",
    "\n",
    "Выведим отсортированный список уникальных значений столбца `genre`:"
   ]
  },
  {
   "cell_type": "code",
   "execution_count": 25,
   "metadata": {
    "id": "wvixALnFG15m"
   },
   "outputs": [
    {
     "name": "stdout",
     "output_type": "stream",
     "text": [
      "['acid' 'acoustic' 'action' 'adult' 'africa' 'afrikaans' 'alternative'\n",
      " 'alternativepunk' 'ambient' 'americana' 'animated' 'anime' 'arabesk'\n",
      " 'arabic' 'arena' 'argentinetango' 'art' 'audiobook' 'author' 'avantgarde'\n",
      " 'axé' 'baile' 'balkan' 'beats' 'bigroom' 'black' 'bluegrass' 'blues'\n",
      " 'bollywood' 'bossa' 'brazilian' 'breakbeat' 'breaks' 'broadway'\n",
      " 'cantautori' 'cantopop' 'canzone' 'caribbean' 'caucasian' 'celtic'\n",
      " 'chamber' 'chanson' 'children' 'chill' 'chinese' 'choral' 'christian'\n",
      " 'christmas' 'classical' 'classicmetal' 'club' 'colombian' 'comedy'\n",
      " 'conjazz' 'contemporary' 'country' 'cuban' 'dance' 'dancehall' 'dancepop'\n",
      " 'dark' 'death' 'deep' 'deutschrock' 'deutschspr' 'dirty' 'disco' 'dnb'\n",
      " 'documentary' 'downbeat' 'downtempo' 'drum' 'dub' 'dubstep' 'eastern'\n",
      " 'easy' 'electronic' 'electropop' 'emo' 'entehno' 'epicmetal' 'estrada'\n",
      " 'ethnic' 'eurofolk' 'european' 'experimental' 'extrememetal' 'fado'\n",
      " 'fairytail' 'film' 'fitness' 'flamenco' 'folk' 'folklore' 'folkmetal'\n",
      " 'folkrock' 'folktronica' 'forró' 'frankreich' 'französisch' 'french'\n",
      " 'funk' 'future' 'gangsta' 'garage' 'german' 'ghazal' 'gitarre' 'glitch'\n",
      " 'gospel' 'gothic' 'grime' 'grunge' 'gypsy' 'handsup' \"hard'n'heavy\"\n",
      " 'hardcore' 'hardstyle' 'hardtechno' 'hiphop' 'historisch' 'holiday'\n",
      " 'horror' 'house' 'hymn' 'idm' 'independent' 'indian' 'indie' 'indipop'\n",
      " 'industrial' 'inspirational' 'instrumental' 'international' 'irish' 'jam'\n",
      " 'japanese' 'jazz' 'jewish' 'jpop' 'jungle' 'k-pop' 'karadeniz' 'karaoke'\n",
      " 'kayokyoku' 'korean' 'laiko' 'latin' 'latino' 'leftfield' 'local'\n",
      " 'lounge' 'loungeelectronic' 'lovers' 'malaysian' 'mandopop' 'marschmusik'\n",
      " 'meditative' 'mediterranean' 'melodic' 'metal' 'metalcore' 'mexican'\n",
      " 'middle' 'minimal' 'miscellaneous' 'modern' 'mood' 'mpb' 'muslim'\n",
      " 'native' 'neoklassik' 'neue' 'new' 'newage' 'newwave' 'nu' 'nujazz'\n",
      " 'numetal' 'oceania' 'old' 'opera' 'orchestral' 'other' 'piano' 'podcasts'\n",
      " 'pop' 'popdance' 'popelectronic' 'popeurodance' 'poprussian' 'post'\n",
      " 'posthardcore' 'postrock' 'power' 'progmetal' 'progressive' 'psychedelic'\n",
      " 'punjabi' 'punk' 'quebecois' 'ragga' 'ram' 'rancheras' 'rap' 'rave'\n",
      " 'reggae' 'reggaeton' 'regional' 'relax' 'religious' 'retro' 'rhythm'\n",
      " 'rnb' 'rnr' 'rock' 'rockabilly' 'rockalternative' 'rockindie' 'rockother'\n",
      " 'romance' 'roots' 'ruspop' 'rusrap' 'rusrock' 'russian' 'salsa' 'samba'\n",
      " 'scenic' 'schlager' 'self' 'sertanejo' 'shanson' 'shoegazing' 'showtunes'\n",
      " 'singer' 'ska' 'skarock' 'slow' 'smooth' 'soft' 'soul' 'soulful' 'sound'\n",
      " 'soundtrack' 'southern' 'specialty' 'speech' 'spiritual' 'sport'\n",
      " 'stonerrock' 'surf' 'swing' 'synthpop' 'synthrock' 'sängerportrait'\n",
      " 'tango' 'tanzorchester' 'taraftar' 'tatar' 'tech' 'techno' 'teen'\n",
      " 'thrash' 'top' 'traditional' 'tradjazz' 'trance' 'tribal' 'trip'\n",
      " 'triphop' 'tropical' 'türk' 'türkçe' 'ukrrock' 'unknown' 'urban' 'uzbek'\n",
      " 'variété' 'vi' 'videogame' 'vocal' 'western' 'world' 'worldbeat' 'ïîï'\n",
      " 'электроника']\n"
     ]
    }
   ],
   "source": [
    "# Проверка на неявные дубликаты\n",
    "#genre_iniq=df['genre'].unique()\n",
    "print(df['genre'].sort_values().unique())\n"
   ]
  },
  {
   "cell_type": "markdown",
   "metadata": {
    "id": "jz6a9-7HQUDd"
   },
   "source": [
    "**Выводы**\n",
    "\n",
    "Предобработка обнаружила три проблемы в данных:\n",
    "\n",
    "- нарушения в стиле заголовков,\n",
    "- пропущенные значения,\n",
    "- дубликаты — явные и неявные.\n",
    "\n",
    "Вы исправили заголовки, чтобы упростить работу с таблицей. Без дубликатов исследование станет более точным.\n",
    "\n",
    "Пропущенные значения вы заменили на `'unknown'`. Ещё предстоит увидеть, не повредят ли исследованию пропуски в колонке `genre`.\n",
    "\n",
    "Теперь можно перейти к проверке гипотез. "
   ]
  },
  {
   "cell_type": "markdown",
   "metadata": {
    "id": "WttZHXH0SqKk"
   },
   "source": [
    "## Проверка гипотез"
   ]
  },
  {
   "cell_type": "markdown",
   "metadata": {
    "id": "Im936VVi_Zcu"
   },
   "source": [
    "### Сравнение поведения пользователей двух столиц"
   ]
  },
  {
   "cell_type": "markdown",
   "metadata": {
    "id": "nwt_MuaL_Zcu"
   },
   "source": [
    "Первая гипотеза утверждает, что пользователи по-разному слушают музыку в Москве и Санкт-Петербурге. Проверим это предположение по данным о трёх днях недели — понедельнике, среде и пятнице. Для этого:\n",
    "\n",
    "* Разделим пользователей Москвы и Санкт-Петербурга\n",
    "* Сравним, сколько треков послушала каждая группа пользователей в понедельник, среду и пятницу.\n"
   ]
  },
  {
   "cell_type": "markdown",
   "metadata": {
    "id": "8Dw_YMmT_Zcu"
   },
   "source": [
    "Для тренировки сначала выполним каждый из расчётов по отдельности. \n",
    "\n",
    "Оценим активность пользователей в каждом городе. Сгруппируем данные по городу и посчитаем прослушивания в каждой группе."
   ]
  },
  {
   "cell_type": "code",
   "execution_count": 26,
   "metadata": {
    "id": "0_Qs96oh_Zcu"
   },
   "outputs": [
    {
     "data": {
      "text/plain": [
       "city\n",
       "Moscow              42741\n",
       "Saint-Petersburg    18512\n",
       "Name: user_id, dtype: int64"
      ]
     },
     "execution_count": 26,
     "metadata": {},
     "output_type": "execute_result"
    }
   ],
   "source": [
    "# Подсчёт прослушиваний в каждом городе\n",
    "df.groupby('city')['user_id'].count()"
   ]
  },
  {
   "cell_type": "markdown",
   "metadata": {
    "id": "dzli3w8o_Zcu"
   },
   "source": [
    "В Москве прослушиваний больше, чем в Петербурге. Из этого не следует, что московские пользователи чаще слушают музыку. Просто самих пользователей в Москве больше.\n",
    "\n",
    "Теперь сгруппируем данные по дню недели и подсчитайте прослушивания в понедельник, среду и пятницу."
   ]
  },
  {
   "cell_type": "code",
   "execution_count": 27,
   "metadata": {
    "id": "uZMKjiJz_Zcu"
   },
   "outputs": [
    {
     "data": {
      "text/plain": [
       "day\n",
       "Friday       21840\n",
       "Monday       21354\n",
       "Wednesday    18059\n",
       "Name: user_id, dtype: int64"
      ]
     },
     "execution_count": 27,
     "metadata": {},
     "output_type": "execute_result"
    }
   ],
   "source": [
    "# Подсчёт прослушиваний в каждый из трёх дней\n",
    "df.groupby('day')['user_id'].count()"
   ]
  },
  {
   "cell_type": "markdown",
   "metadata": {
    "id": "cC2tNrlL_Zcu"
   },
   "source": [
    "В среднем пользователи из двух городов менее активны по средам. Но картина может измениться, если рассмотреть каждый город в отдельности."
   ]
  },
  {
   "cell_type": "markdown",
   "metadata": {
    "id": "POzs8bGa_Zcu"
   },
   "source": [
    "Вы видели, как работает группировка по городу и по дням недели. Теперь создадим функцию, которая объединит два эти расчёта.\n",
    "\n",
    "Создайте функцию `number_tracks()`, которая посчитает прослушивания для заданного дня и города. Ей понадобятся два параметра:\n",
    "* день недели,\n",
    "* название города.\n",
    "\n",
    "В функции сохраним в переменную строки исходной таблицы, у которых значение:\n",
    "  * в колонке `day` равно параметру `day`,\n",
    "  * в колонке `city` равно параметру `city`.\n",
    "\n",
    "Для этого применим последовательную фильтрацию с логической индексацией.\n",
    "\n",
    "Затем посчитайте значения в столбце `user_id` получившейся таблицы. Результат сохраним в новую переменную. Вернем эту переменную из функции."
   ]
  },
  {
   "cell_type": "code",
   "execution_count": 28,
   "metadata": {
    "id": "Nz3GdQB1_Zcu"
   },
   "outputs": [],
   "source": [
    "# <создание функции number_tracks()>\n",
    "# Объявляется функция с двумя параметрами: day, city.\n",
    "def number_tracks(day, city):\n",
    "# В переменной track_list сохраняются те строки таблицы df, для которых \n",
    "# значение в столбце 'day' равно параметру day и одновременно значение\n",
    "# в столбце 'city' равно параметру city (используйте последовательную фильтрацию\n",
    "# с помощью логической индексации).\n",
    "    track_list=df[df['day']==day]\n",
    "    track_list=track_list[track_list['city']==city]\n",
    "    \n",
    "# В переменной track_list_count сохраняется число значений столбца 'user_id',\n",
    "# рассчитанное методом count() для таблицы track_list.\n",
    "# Функция возвращает число - значение track_list_count.\n",
    "    track_list_count=track_list['user_id'].count()\n",
    "\n",
    "    return track_list_count\n",
    "\n",
    "# Функция для подсчёта прослушиваний для конкретного города и дня.\n",
    "# С помощью последовательной фильтрации с логической индексацией она \n",
    "# сначала получит из исходной таблицы строки с нужным днём,\n",
    "# затем из результата отфильтрует строки с нужным городом,\n",
    "# методом count() посчитает количество значений в колонке user_id. \n",
    "# Это количество функция вернёт в качестве результата"
   ]
  },
  {
   "cell_type": "markdown",
   "metadata": {
    "id": "ytf7xFrFJQ2r"
   },
   "source": [
    "Вызовем `number_tracks()` шесть раз, меняя значение параметров — так, чтобы получить данные для каждого города в каждый из трёх дней."
   ]
  },
  {
   "cell_type": "code",
   "execution_count": 29,
   "metadata": {
    "id": "rJcRATNQ_Zcu"
   },
   "outputs": [
    {
     "data": {
      "text/plain": [
       "15740"
      ]
     },
     "execution_count": 29,
     "metadata": {},
     "output_type": "execute_result"
    }
   ],
   "source": [
    "# количество прослушиваний в Москве по понедельникам\n",
    "number_tracks('Monday','Moscow')"
   ]
  },
  {
   "cell_type": "code",
   "execution_count": 30,
   "metadata": {
    "id": "hq_ncZ5T_Zcu"
   },
   "outputs": [
    {
     "data": {
      "text/plain": [
       "5614"
      ]
     },
     "execution_count": 30,
     "metadata": {},
     "output_type": "execute_result"
    }
   ],
   "source": [
    "# количество прослушиваний в Санкт-Петербурге по понедельникам\n",
    "number_tracks('Monday','Saint-Petersburg')"
   ]
  },
  {
   "cell_type": "code",
   "execution_count": 31,
   "metadata": {
    "id": "_NTy2VPU_Zcu"
   },
   "outputs": [
    {
     "data": {
      "text/plain": [
       "11056"
      ]
     },
     "execution_count": 31,
     "metadata": {},
     "output_type": "execute_result"
    }
   ],
   "source": [
    "# количество прослушиваний в Москве по средам\n",
    "number_tracks('Wednesday','Moscow')"
   ]
  },
  {
   "cell_type": "code",
   "execution_count": 32,
   "metadata": {
    "id": "j2y3TAwo_Zcu"
   },
   "outputs": [
    {
     "data": {
      "text/plain": [
       "7003"
      ]
     },
     "execution_count": 32,
     "metadata": {},
     "output_type": "execute_result"
    }
   ],
   "source": [
    "# количество прослушиваний в Санкт-Петербурге по средам\n",
    "number_tracks('Wednesday','Saint-Petersburg')"
   ]
  },
  {
   "cell_type": "code",
   "execution_count": 33,
   "metadata": {
    "id": "vYDw5u_K_Zcu"
   },
   "outputs": [
    {
     "data": {
      "text/plain": [
       "15945"
      ]
     },
     "execution_count": 33,
     "metadata": {},
     "output_type": "execute_result"
    }
   ],
   "source": [
    "# количество прослушиваний в Москве по пятницам\n",
    "number_tracks('Friday','Moscow')"
   ]
  },
  {
   "cell_type": "code",
   "execution_count": 34,
   "metadata": {
    "id": "8_yzFtW3_Zcu"
   },
   "outputs": [
    {
     "data": {
      "text/plain": [
       "5895"
      ]
     },
     "execution_count": 34,
     "metadata": {},
     "output_type": "execute_result"
    }
   ],
   "source": [
    "# количество прослушиваний в Санкт-Петербурге по пятницам\n",
    "number_tracks('Friday','Saint-Petersburg')"
   ]
  },
  {
   "cell_type": "markdown",
   "metadata": {
    "id": "7QXffbO-_Zcu"
   },
   "source": [
    "Создадим c помощью конструктора `pd.DataFrame` таблицу, где\n",
    "* названия колонок — `['city', 'monday', 'wednesday', 'friday']`;\n",
    "* данные — результаты, которые вы получили с помощью `number_tracks`."
   ]
  },
  {
   "cell_type": "code",
   "execution_count": 35,
   "metadata": {
    "id": "APAcLpOr_Zcu"
   },
   "outputs": [
    {
     "data": {
      "text/html": [
       "<div>\n",
       "<style scoped>\n",
       "    .dataframe tbody tr th:only-of-type {\n",
       "        vertical-align: middle;\n",
       "    }\n",
       "\n",
       "    .dataframe tbody tr th {\n",
       "        vertical-align: top;\n",
       "    }\n",
       "\n",
       "    .dataframe thead th {\n",
       "        text-align: right;\n",
       "    }\n",
       "</style>\n",
       "<table border=\"1\" class=\"dataframe\">\n",
       "  <thead>\n",
       "    <tr style=\"text-align: right;\">\n",
       "      <th></th>\n",
       "      <th>city</th>\n",
       "      <th>monday</th>\n",
       "      <th>wednesday</th>\n",
       "      <th>friday</th>\n",
       "    </tr>\n",
       "  </thead>\n",
       "  <tbody>\n",
       "    <tr>\n",
       "      <th>0</th>\n",
       "      <td>Moscow</td>\n",
       "      <td>15740</td>\n",
       "      <td>11056</td>\n",
       "      <td>15945</td>\n",
       "    </tr>\n",
       "    <tr>\n",
       "      <th>1</th>\n",
       "      <td>Saint-Petersburg</td>\n",
       "      <td>5614</td>\n",
       "      <td>7003</td>\n",
       "      <td>5895</td>\n",
       "    </tr>\n",
       "  </tbody>\n",
       "</table>\n",
       "</div>"
      ],
      "text/plain": [
       "               city  monday  wednesday  friday\n",
       "0            Moscow   15740      11056   15945\n",
       "1  Saint-Petersburg    5614       7003    5895"
      ]
     },
     "execution_count": 35,
     "metadata": {},
     "output_type": "execute_result"
    }
   ],
   "source": [
    "# Таблица с результатами\n",
    "number_tracks = [['Moscow',15740,11056,15945],['Saint-Petersburg',5614,7003,5895]]\n",
    "columns = ['city', 'monday', 'wednesday', 'friday']\n",
    "\n",
    "result_table = pd.DataFrame(data=number_tracks,columns=columns)\n",
    "\n",
    "result_table\n"
   ]
  },
  {
   "cell_type": "markdown",
   "metadata": {
    "id": "-EgPIHYu_Zcu"
   },
   "source": [
    "**Выводы**\n",
    "\n",
    "Данные показывают разницу поведения пользователей:\n",
    "\n",
    "- В Москве пик прослушиваний приходится на понедельник и пятницу, а в среду заметен спад.\n",
    "- В Петербурге, наоборот, больше слушают музыку по средам. Активность в понедельник и пятницу здесь почти в равной мере уступает среде.\n",
    "\n",
    "Значит, данные говорят в пользу первой гипотезы."
   ]
  },
  {
   "cell_type": "markdown",
   "metadata": {
    "id": "atZAxtq4_Zcu"
   },
   "source": [
    "### Музыка в начале и в конце недели"
   ]
  },
  {
   "cell_type": "markdown",
   "metadata": {
    "id": "eXrQqXFH_Zcu"
   },
   "source": [
    "Согласно второй гипотезе, утром в понедельник в Москве преобладают одни жанры, а в Петербурге — другие. Так же и вечером пятницы преобладают разные жанры — в зависимости от города."
   ]
  },
  {
   "cell_type": "markdown",
   "metadata": {
    "id": "S8UcW6Hw_Zcu"
   },
   "source": [
    "Сохраним таблицы с данными в две переменные:\n",
    "* по Москве — в `moscow_general`;\n",
    "* по Санкт-Петербургу — в `spb_general`."
   ]
  },
  {
   "cell_type": "code",
   "execution_count": 36,
   "metadata": {
    "id": "qeaFfM_P_Zcu"
   },
   "outputs": [
    {
     "data": {
      "text/html": [
       "<div>\n",
       "<style scoped>\n",
       "    .dataframe tbody tr th:only-of-type {\n",
       "        vertical-align: middle;\n",
       "    }\n",
       "\n",
       "    .dataframe tbody tr th {\n",
       "        vertical-align: top;\n",
       "    }\n",
       "\n",
       "    .dataframe thead th {\n",
       "        text-align: right;\n",
       "    }\n",
       "</style>\n",
       "<table border=\"1\" class=\"dataframe\">\n",
       "  <thead>\n",
       "    <tr style=\"text-align: right;\">\n",
       "      <th></th>\n",
       "      <th>user_id</th>\n",
       "      <th>track</th>\n",
       "      <th>artist</th>\n",
       "      <th>genre</th>\n",
       "      <th>city</th>\n",
       "      <th>time_begining</th>\n",
       "      <th>day</th>\n",
       "    </tr>\n",
       "  </thead>\n",
       "  <tbody>\n",
       "    <tr>\n",
       "      <th>1</th>\n",
       "      <td>55204538</td>\n",
       "      <td>Delayed Because of Accident</td>\n",
       "      <td>Andreas Rönnberg</td>\n",
       "      <td>rock</td>\n",
       "      <td>Moscow</td>\n",
       "      <td>14:07:09</td>\n",
       "      <td>Friday</td>\n",
       "    </tr>\n",
       "    <tr>\n",
       "      <th>4</th>\n",
       "      <td>E2DC1FAE</td>\n",
       "      <td>Soul People</td>\n",
       "      <td>Space Echo</td>\n",
       "      <td>dance</td>\n",
       "      <td>Moscow</td>\n",
       "      <td>08:34:34</td>\n",
       "      <td>Monday</td>\n",
       "    </tr>\n",
       "    <tr>\n",
       "      <th>6</th>\n",
       "      <td>4CB90AA5</td>\n",
       "      <td>True</td>\n",
       "      <td>Roman Messer</td>\n",
       "      <td>dance</td>\n",
       "      <td>Moscow</td>\n",
       "      <td>13:00:07</td>\n",
       "      <td>Wednesday</td>\n",
       "    </tr>\n",
       "    <tr>\n",
       "      <th>7</th>\n",
       "      <td>F03E1C1F</td>\n",
       "      <td>Feeling This Way</td>\n",
       "      <td>Polina Griffith</td>\n",
       "      <td>dance</td>\n",
       "      <td>Moscow</td>\n",
       "      <td>20:47:49</td>\n",
       "      <td>Wednesday</td>\n",
       "    </tr>\n",
       "    <tr>\n",
       "      <th>8</th>\n",
       "      <td>8FA1D3BE</td>\n",
       "      <td>И вновь продолжается бой</td>\n",
       "      <td>unknown</td>\n",
       "      <td>ruspop</td>\n",
       "      <td>Moscow</td>\n",
       "      <td>09:17:40</td>\n",
       "      <td>Friday</td>\n",
       "    </tr>\n",
       "    <tr>\n",
       "      <th>...</th>\n",
       "      <td>...</td>\n",
       "      <td>...</td>\n",
       "      <td>...</td>\n",
       "      <td>...</td>\n",
       "      <td>...</td>\n",
       "      <td>...</td>\n",
       "      <td>...</td>\n",
       "    </tr>\n",
       "    <tr>\n",
       "      <th>61247</th>\n",
       "      <td>83A474E7</td>\n",
       "      <td>I Worship Only What You Bleed</td>\n",
       "      <td>The Black Dahlia Murder</td>\n",
       "      <td>extrememetal</td>\n",
       "      <td>Moscow</td>\n",
       "      <td>21:07:12</td>\n",
       "      <td>Monday</td>\n",
       "    </tr>\n",
       "    <tr>\n",
       "      <th>61248</th>\n",
       "      <td>729CBB09</td>\n",
       "      <td>My Name</td>\n",
       "      <td>McLean</td>\n",
       "      <td>rnb</td>\n",
       "      <td>Moscow</td>\n",
       "      <td>13:32:28</td>\n",
       "      <td>Wednesday</td>\n",
       "    </tr>\n",
       "    <tr>\n",
       "      <th>61250</th>\n",
       "      <td>C5E3A0D5</td>\n",
       "      <td>Jalopiina</td>\n",
       "      <td>unknown</td>\n",
       "      <td>industrial</td>\n",
       "      <td>Moscow</td>\n",
       "      <td>20:09:26</td>\n",
       "      <td>Friday</td>\n",
       "    </tr>\n",
       "    <tr>\n",
       "      <th>61251</th>\n",
       "      <td>321D0506</td>\n",
       "      <td>Freight Train</td>\n",
       "      <td>Chas McDevitt</td>\n",
       "      <td>rock</td>\n",
       "      <td>Moscow</td>\n",
       "      <td>21:43:59</td>\n",
       "      <td>Friday</td>\n",
       "    </tr>\n",
       "    <tr>\n",
       "      <th>61252</th>\n",
       "      <td>3A64EF84</td>\n",
       "      <td>Tell Me Sweet Little Lies</td>\n",
       "      <td>Monica Lopez</td>\n",
       "      <td>country</td>\n",
       "      <td>Moscow</td>\n",
       "      <td>21:59:46</td>\n",
       "      <td>Friday</td>\n",
       "    </tr>\n",
       "  </tbody>\n",
       "</table>\n",
       "<p>42741 rows × 7 columns</p>\n",
       "</div>"
      ],
      "text/plain": [
       "        user_id                          track                   artist  \\\n",
       "1      55204538    Delayed Because of Accident         Andreas Rönnberg   \n",
       "4      E2DC1FAE                    Soul People               Space Echo   \n",
       "6      4CB90AA5                           True             Roman Messer   \n",
       "7      F03E1C1F               Feeling This Way          Polina Griffith   \n",
       "8      8FA1D3BE       И вновь продолжается бой                  unknown   \n",
       "...         ...                            ...                      ...   \n",
       "61247  83A474E7  I Worship Only What You Bleed  The Black Dahlia Murder   \n",
       "61248  729CBB09                        My Name                   McLean   \n",
       "61250  C5E3A0D5                      Jalopiina                  unknown   \n",
       "61251  321D0506                  Freight Train            Chas McDevitt   \n",
       "61252  3A64EF84      Tell Me Sweet Little Lies             Monica Lopez   \n",
       "\n",
       "              genre    city time_begining        day  \n",
       "1              rock  Moscow      14:07:09     Friday  \n",
       "4             dance  Moscow      08:34:34     Monday  \n",
       "6             dance  Moscow      13:00:07  Wednesday  \n",
       "7             dance  Moscow      20:47:49  Wednesday  \n",
       "8            ruspop  Moscow      09:17:40     Friday  \n",
       "...             ...     ...           ...        ...  \n",
       "61247  extrememetal  Moscow      21:07:12     Monday  \n",
       "61248           rnb  Moscow      13:32:28  Wednesday  \n",
       "61250    industrial  Moscow      20:09:26     Friday  \n",
       "61251          rock  Moscow      21:43:59     Friday  \n",
       "61252       country  Moscow      21:59:46     Friday  \n",
       "\n",
       "[42741 rows x 7 columns]"
      ]
     },
     "execution_count": 36,
     "metadata": {},
     "output_type": "execute_result"
    }
   ],
   "source": [
    "# получение таблицы moscow_general из тех строк таблицы df, \n",
    "# для которых значение в столбце 'city' равно 'Moscow'\n",
    "moscow_general=df[df['city']=='Moscow']\n",
    "\n",
    "moscow_general\n"
   ]
  },
  {
   "cell_type": "code",
   "execution_count": 37,
   "metadata": {
    "id": "ORaVRKto_Zcu"
   },
   "outputs": [
    {
     "data": {
      "text/html": [
       "<div>\n",
       "<style scoped>\n",
       "    .dataframe tbody tr th:only-of-type {\n",
       "        vertical-align: middle;\n",
       "    }\n",
       "\n",
       "    .dataframe tbody tr th {\n",
       "        vertical-align: top;\n",
       "    }\n",
       "\n",
       "    .dataframe thead th {\n",
       "        text-align: right;\n",
       "    }\n",
       "</style>\n",
       "<table border=\"1\" class=\"dataframe\">\n",
       "  <thead>\n",
       "    <tr style=\"text-align: right;\">\n",
       "      <th></th>\n",
       "      <th>user_id</th>\n",
       "      <th>track</th>\n",
       "      <th>artist</th>\n",
       "      <th>genre</th>\n",
       "      <th>city</th>\n",
       "      <th>time_begining</th>\n",
       "      <th>day</th>\n",
       "    </tr>\n",
       "  </thead>\n",
       "  <tbody>\n",
       "    <tr>\n",
       "      <th>0</th>\n",
       "      <td>FFB692EC</td>\n",
       "      <td>Kamigata To Boots</td>\n",
       "      <td>The Mass Missile</td>\n",
       "      <td>rock</td>\n",
       "      <td>Saint-Petersburg</td>\n",
       "      <td>20:28:33</td>\n",
       "      <td>Wednesday</td>\n",
       "    </tr>\n",
       "    <tr>\n",
       "      <th>2</th>\n",
       "      <td>20EC38</td>\n",
       "      <td>Funiculì funiculà</td>\n",
       "      <td>Mario Lanza</td>\n",
       "      <td>pop</td>\n",
       "      <td>Saint-Petersburg</td>\n",
       "      <td>20:58:07</td>\n",
       "      <td>Wednesday</td>\n",
       "    </tr>\n",
       "    <tr>\n",
       "      <th>3</th>\n",
       "      <td>A3DD03C9</td>\n",
       "      <td>Dragons in the Sunset</td>\n",
       "      <td>Fire + Ice</td>\n",
       "      <td>folk</td>\n",
       "      <td>Saint-Petersburg</td>\n",
       "      <td>08:37:09</td>\n",
       "      <td>Monday</td>\n",
       "    </tr>\n",
       "    <tr>\n",
       "      <th>5</th>\n",
       "      <td>842029A1</td>\n",
       "      <td>Преданная</td>\n",
       "      <td>IMPERVTOR</td>\n",
       "      <td>rusrap</td>\n",
       "      <td>Saint-Petersburg</td>\n",
       "      <td>13:09:41</td>\n",
       "      <td>Friday</td>\n",
       "    </tr>\n",
       "    <tr>\n",
       "      <th>9</th>\n",
       "      <td>E772D5C0</td>\n",
       "      <td>Pessimist</td>\n",
       "      <td>unknown</td>\n",
       "      <td>dance</td>\n",
       "      <td>Saint-Petersburg</td>\n",
       "      <td>21:20:49</td>\n",
       "      <td>Wednesday</td>\n",
       "    </tr>\n",
       "    <tr>\n",
       "      <th>...</th>\n",
       "      <td>...</td>\n",
       "      <td>...</td>\n",
       "      <td>...</td>\n",
       "      <td>...</td>\n",
       "      <td>...</td>\n",
       "      <td>...</td>\n",
       "      <td>...</td>\n",
       "    </tr>\n",
       "    <tr>\n",
       "      <th>61239</th>\n",
       "      <td>D94F810B</td>\n",
       "      <td>Theme from the Walking Dead</td>\n",
       "      <td>Proyecto Halloween</td>\n",
       "      <td>film</td>\n",
       "      <td>Saint-Petersburg</td>\n",
       "      <td>21:14:40</td>\n",
       "      <td>Monday</td>\n",
       "    </tr>\n",
       "    <tr>\n",
       "      <th>61240</th>\n",
       "      <td>BC8EC5CF</td>\n",
       "      <td>Red Lips: Gta (Rover Rework)</td>\n",
       "      <td>Rover</td>\n",
       "      <td>electronic</td>\n",
       "      <td>Saint-Petersburg</td>\n",
       "      <td>21:06:50</td>\n",
       "      <td>Monday</td>\n",
       "    </tr>\n",
       "    <tr>\n",
       "      <th>61241</th>\n",
       "      <td>29E04611</td>\n",
       "      <td>Bre Petrunko</td>\n",
       "      <td>Perunika Trio</td>\n",
       "      <td>world</td>\n",
       "      <td>Saint-Petersburg</td>\n",
       "      <td>13:56:00</td>\n",
       "      <td>Monday</td>\n",
       "    </tr>\n",
       "    <tr>\n",
       "      <th>61242</th>\n",
       "      <td>1B91C621</td>\n",
       "      <td>(Hello) Cloud Mountain</td>\n",
       "      <td>sleepmakeswaves</td>\n",
       "      <td>postrock</td>\n",
       "      <td>Saint-Petersburg</td>\n",
       "      <td>09:22:13</td>\n",
       "      <td>Monday</td>\n",
       "    </tr>\n",
       "    <tr>\n",
       "      <th>61249</th>\n",
       "      <td>D08D4A55</td>\n",
       "      <td>Maybe One Day (feat. Black Spade)</td>\n",
       "      <td>Blu &amp; Exile</td>\n",
       "      <td>hiphop</td>\n",
       "      <td>Saint-Petersburg</td>\n",
       "      <td>10:00:00</td>\n",
       "      <td>Monday</td>\n",
       "    </tr>\n",
       "  </tbody>\n",
       "</table>\n",
       "<p>18512 rows × 7 columns</p>\n",
       "</div>"
      ],
      "text/plain": [
       "        user_id                              track              artist  \\\n",
       "0      FFB692EC                  Kamigata To Boots    The Mass Missile   \n",
       "2        20EC38                  Funiculì funiculà         Mario Lanza   \n",
       "3      A3DD03C9              Dragons in the Sunset          Fire + Ice   \n",
       "5      842029A1                          Преданная           IMPERVTOR   \n",
       "9      E772D5C0                          Pessimist             unknown   \n",
       "...         ...                                ...                 ...   \n",
       "61239  D94F810B        Theme from the Walking Dead  Proyecto Halloween   \n",
       "61240  BC8EC5CF       Red Lips: Gta (Rover Rework)               Rover   \n",
       "61241  29E04611                       Bre Petrunko       Perunika Trio   \n",
       "61242  1B91C621             (Hello) Cloud Mountain     sleepmakeswaves   \n",
       "61249  D08D4A55  Maybe One Day (feat. Black Spade)         Blu & Exile   \n",
       "\n",
       "            genre              city time_begining        day  \n",
       "0            rock  Saint-Petersburg      20:28:33  Wednesday  \n",
       "2             pop  Saint-Petersburg      20:58:07  Wednesday  \n",
       "3            folk  Saint-Petersburg      08:37:09     Monday  \n",
       "5          rusrap  Saint-Petersburg      13:09:41     Friday  \n",
       "9           dance  Saint-Petersburg      21:20:49  Wednesday  \n",
       "...           ...               ...           ...        ...  \n",
       "61239        film  Saint-Petersburg      21:14:40     Monday  \n",
       "61240  electronic  Saint-Petersburg      21:06:50     Monday  \n",
       "61241       world  Saint-Petersburg      13:56:00     Monday  \n",
       "61242    postrock  Saint-Petersburg      09:22:13     Monday  \n",
       "61249      hiphop  Saint-Petersburg      10:00:00     Monday  \n",
       "\n",
       "[18512 rows x 7 columns]"
      ]
     },
     "execution_count": 37,
     "metadata": {},
     "output_type": "execute_result"
    }
   ],
   "source": [
    "# получение таблицы spb_general из тех строк таблицы df,\n",
    "# для которых значение в столбце 'city' равно 'Saint-Petersburg'\n",
    "spb_general=df[df['city']=='Saint-Petersburg']\n",
    "\n",
    "spb_general\n"
   ]
  },
  {
   "cell_type": "markdown",
   "metadata": {
    "id": "MEJV-CX2_Zcu"
   },
   "source": [
    "Создадим функцию `genre_weekday()` с четырьмя параметрами:\n",
    "* таблица (датафрейм) с данными,\n",
    "* день недели,\n",
    "* начальная временная метка в формате 'hh:mm', \n",
    "* последняя временная метка в формате 'hh:mm'.\n",
    "\n",
    "Функция должна вернуть информацию о топ-10 жанров тех треков, которые прослушивали в указанный день, в промежутке между двумя отметками времени."
   ]
  },
  {
   "cell_type": "code",
   "execution_count": 38,
   "metadata": {
    "id": "laJT9BYl_Zcu"
   },
   "outputs": [],
   "source": [
    "# Объявление функции genre_weekday() с параметрами table, day, time1, time2,\n",
    "# которая возвращает информацию о самых популярных жанрах в указанный день в\n",
    "# заданное время:\n",
    "# 1) в переменную genre_df сохраняются те строки переданного датафрейма table, для\n",
    "#    которых одновременно:\n",
    "#    - значение в столбце day равно значению аргумента day\n",
    "#    - значение в столбце time больше значения аргумента time1\n",
    "#    - значение в столбце time меньше значения аргумента time2\n",
    "#    Используйте последовательную фильтрацию с помощью логической индексации.\n",
    "# 2) сгруппировать датафрейм genre_df по столбцу genre, взять один из его\n",
    "#    столбцов и посчитать методом count() количество записей для каждого из\n",
    "#    присутствующих жанров, получившийся Series записать в переменную\n",
    "#    genre_df_count\n",
    "# 3) отсортировать genre_df_count по убыванию встречаемости и сохранить\n",
    "#    в переменную genre_df_sorted\n",
    "# 4) вернуть Series из 10 первых значений genre_df_sorted, это будут топ-10\n",
    "#    популярных жанров (в указанный день, в заданное время)\n",
    "\n",
    "def genre_weekday(table,day,time1,time2):\n",
    "#1)\n",
    "    genre_df=table[table['day']==day]\n",
    "    genre_df=genre_df[genre_df['time_begining']>time1]\n",
    "    genre_df=genre_df[genre_df['time_begining']<time2]\n",
    "#2)   \n",
    "    genre_df_count=genre_df.groupby('genre').count()\n",
    "#3) \n",
    "    genre_df_sorted=genre_df_count.sort_values(by='user_id', ascending=False)\n",
    "#4) \n",
    "    return genre_df_sorted['user_id'].head(10)\n",
    "\n",
    "\n",
    " #genre_weekday(spb_general,'Monday','07:00','11:00')  \n",
    "    \n",
    "\n"
   ]
  },
  {
   "cell_type": "markdown",
   "metadata": {
    "id": "la2s2_PF_Zcu"
   },
   "source": [
    "Cравним результаты функции `genre_weekday()` для Москвы и Санкт-Петербурга в понедельник утром (с 7:00 до 11:00) и в пятницу вечером (с 17:00 до 23:00):"
   ]
  },
  {
   "cell_type": "code",
   "execution_count": 39,
   "metadata": {
    "id": "yz7itPUQ_Zcu"
   },
   "outputs": [
    {
     "data": {
      "text/plain": [
       "genre\n",
       "pop            781\n",
       "dance          549\n",
       "electronic     480\n",
       "rock           474\n",
       "hiphop         286\n",
       "ruspop         186\n",
       "world          181\n",
       "rusrap         175\n",
       "alternative    164\n",
       "unknown        161\n",
       "Name: user_id, dtype: int64"
      ]
     },
     "execution_count": 39,
     "metadata": {},
     "output_type": "execute_result"
    }
   ],
   "source": [
    "# вызов функции для утра понедельника в Москве (вместо df — таблица moscow_general)\n",
    "# объекты, хранящие время, являются строками и сравниваются как строки\n",
    "# пример вызова: genre_weekday(moscow_general, 'Monday', '07:00', '11:00')\n",
    "genre_weekday(moscow_general,'Monday','07:00','11:00') "
   ]
  },
  {
   "cell_type": "code",
   "execution_count": 40,
   "metadata": {
    "id": "kwUcHPdy_Zcu"
   },
   "outputs": [
    {
     "data": {
      "text/plain": [
       "genre\n",
       "pop            218\n",
       "dance          182\n",
       "rock           162\n",
       "electronic     147\n",
       "hiphop          80\n",
       "ruspop          64\n",
       "alternative     58\n",
       "rusrap          55\n",
       "jazz            44\n",
       "classical       40\n",
       "Name: user_id, dtype: int64"
      ]
     },
     "execution_count": 40,
     "metadata": {},
     "output_type": "execute_result"
    }
   ],
   "source": [
    "# вызов функции для утра понедельника в Петербурге (вместо df — таблица spb_general)\n",
    "genre_weekday(spb_general,'Monday','07:00','11:00') "
   ]
  },
  {
   "cell_type": "code",
   "execution_count": 41,
   "metadata": {
    "id": "EzXVRE1o_Zcu"
   },
   "outputs": [
    {
     "data": {
      "text/plain": [
       "genre\n",
       "pop            717\n",
       "dance          524\n",
       "rock           518\n",
       "electronic     485\n",
       "hiphop         238\n",
       "alternative    182\n",
       "classical      172\n",
       "world          172\n",
       "ruspop         149\n",
       "rusrap         133\n",
       "Name: user_id, dtype: int64"
      ]
     },
     "execution_count": 41,
     "metadata": {},
     "output_type": "execute_result"
    }
   ],
   "source": [
    "# вызов функции для вечера пятницы в Москве\n",
    "genre_weekday(moscow_general,'Monday','17:00','23:00') "
   ]
  },
  {
   "cell_type": "code",
   "execution_count": 42,
   "metadata": {
    "id": "JZaEKu5v_Zcu"
   },
   "outputs": [
    {
     "data": {
      "text/plain": [
       "genre\n",
       "pop            263\n",
       "rock           208\n",
       "electronic     192\n",
       "dance          191\n",
       "hiphop         104\n",
       "alternative     72\n",
       "classical       71\n",
       "jazz            57\n",
       "rusrap          54\n",
       "ruspop          53\n",
       "Name: user_id, dtype: int64"
      ]
     },
     "execution_count": 42,
     "metadata": {},
     "output_type": "execute_result"
    }
   ],
   "source": [
    "# вызов функции для вечера пятницы в Петербурге\n",
    "genre_weekday(spb_general,'Monday','17:00','23:00') "
   ]
  },
  {
   "cell_type": "markdown",
   "metadata": {
    "id": "wrCe4MNX_Zcu"
   },
   "source": [
    "**Выводы**\n",
    "\n",
    "Если сравнить топ-10 жанров в понедельник утром, можно сделать такие выводы:\n",
    "\n",
    "1. В Москве и Петербурге слушают похожую музыку. Единственное отличие — в московский рейтинг вошёл жанр “world”, а в петербургский — джаз и классика.\n",
    "\n",
    "2. В Москве пропущенных значений оказалось так много, что значение `'unknown'` заняло десятое место среди самых популярных жанров. Значит, пропущенные значения занимают существенную долю в данных и угрожают достоверности исследования.\n",
    "\n",
    "Вечер пятницы не меняет эту картину. Некоторые жанры поднимаются немного выше, другие спускаются, но в целом топ-10 остаётся тем же самым.\n",
    "\n",
    "Таким образом, вторая гипотеза подтвердилась лишь частично:\n",
    "* Пользователи слушают похожую музыку в начале недели и в конце.\n",
    "* Разница между Москвой и Петербургом не слишком выражена. В Москве чаще слушают русскую популярную музыку, в Петербурге — джаз.\n",
    "\n",
    "Однако пропуски в данных ставят под сомнение этот результат. В Москве их так много, что рейтинг топ-10 мог бы выглядеть иначе, если бы не утерянные  данные о жанрах."
   ]
  },
  {
   "cell_type": "markdown",
   "metadata": {
    "id": "JolODAqr_Zcu"
   },
   "source": [
    "### Жанровые предпочтения в Москве и Петербурге\n",
    "\n",
    "Гипотеза: Петербург — столица рэпа, музыку этого жанра там слушают чаще, чем в Москве.  А Москва — город контрастов, в котором, тем не менее, преобладает поп-музыка."
   ]
  },
  {
   "cell_type": "markdown",
   "metadata": {
    "id": "DlegSvaT_Zcu"
   },
   "source": [
    "Сгруппируйте таблицу `moscow_general` по жанру и посчитайте прослушивания треков каждого жанра методом `count()`. Затем отсортируйте результат в порядке убывания и сохраним его в таблице `moscow_genres`."
   ]
  },
  {
   "cell_type": "code",
   "execution_count": 43,
   "metadata": {
    "id": "r19lIPke_Zcu"
   },
   "outputs": [],
   "source": [
    "# одной строкой: группировка таблицы moscow_general по столбцу 'genre', \n",
    "# подсчёт числа значений 'genre' в этой группировке методом count(), \n",
    "# сортировка получившегося Series в порядке убывания и сохранение в moscow_genres\n",
    "\n",
    "moscow_genres=moscow_general.groupby('genre').count().sort_values(by='user_id', ascending=False)['user_id']\n"
   ]
  },
  {
   "cell_type": "markdown",
   "metadata": {
    "id": "6kMuomxTiIr8"
   },
   "source": [
    "Выведим на экран первые десять строк `moscow_genres`:"
   ]
  },
  {
   "cell_type": "code",
   "execution_count": 44,
   "metadata": {
    "id": "WhCSooF8_Zcv"
   },
   "outputs": [
    {
     "data": {
      "text/plain": [
       "genre\n",
       "pop            5892\n",
       "dance          4435\n",
       "rock           3965\n",
       "electronic     3786\n",
       "hiphop         2096\n",
       "classical      1616\n",
       "world          1432\n",
       "alternative    1379\n",
       "ruspop         1372\n",
       "rusrap         1161\n",
       "Name: user_id, dtype: int64"
      ]
     },
     "execution_count": 44,
     "metadata": {},
     "output_type": "execute_result"
    }
   ],
   "source": [
    "# просмотр первых 10 строк moscow_genres\n",
    "moscow_genres.head(10)"
   ]
  },
  {
   "cell_type": "markdown",
   "metadata": {
    "id": "cnPG2vnN_Zcv"
   },
   "source": [
    "Теперь повторим то же и для Петербурга.\n",
    "\n",
    "Сгруппируйте таблицу `spb_general` по жанру. Посчитайте прослушивания треков каждого жанра. Результат отсортируйте в порядке убывания и сохраним в таблице `spb_genres`:\n"
   ]
  },
  {
   "cell_type": "code",
   "execution_count": 45,
   "metadata": {
    "id": "gluLIpE7_Zcv"
   },
   "outputs": [],
   "source": [
    "# одной строкой: группировка таблицы spb_general по столбцу 'genre', \n",
    "# подсчёт числа значений 'genre' в этой группировке методом count(), \n",
    "# сортировка получившегося Series в порядке убывания и сохранение в spb_genres\n",
    "spb_genres=spb_general.groupby('genre').count().sort_values(by='user_id', ascending=False)['user_id']"
   ]
  },
  {
   "cell_type": "markdown",
   "metadata": {
    "id": "5Doha_ODgyQ8"
   },
   "source": [
    "Выведим на экран первые десять строк `spb_genres`:"
   ]
  },
  {
   "cell_type": "code",
   "execution_count": 46,
   "metadata": {
    "id": "uaGJHjVU_Zcv"
   },
   "outputs": [
    {
     "data": {
      "text/plain": [
       "genre\n",
       "pop            2431\n",
       "dance          1932\n",
       "rock           1879\n",
       "electronic     1736\n",
       "hiphop          960\n",
       "alternative     649\n",
       "classical       646\n",
       "rusrap          564\n",
       "ruspop          538\n",
       "world           515\n",
       "Name: user_id, dtype: int64"
      ]
     },
     "execution_count": 46,
     "metadata": {},
     "output_type": "execute_result"
    }
   ],
   "source": [
    "# просмотр первых 10 строк spb_genres\n",
    "spb_genres.head(10)"
   ]
  },
  {
   "cell_type": "markdown",
   "metadata": {
    "id": "RY51YJYu_Zcv"
   },
   "source": [
    "**Выводы**"
   ]
  },
  {
   "cell_type": "markdown",
   "metadata": {
    "id": "nVhnJEm__Zcv"
   },
   "source": [
    "Гипотеза частично подтвердилась:\n",
    "* Поп-музыка — самый популярный жанр в Москве, как и предполагала гипотеза. Более того, в топ-10 жанров встречается близкий жанр — русская популярная музыка.\n",
    "* Вопреки ожиданиям, рэп одинаково популярен в Москве и Петербурге. \n"
   ]
  },
  {
   "cell_type": "markdown",
   "metadata": {
    "id": "ykKQ0N65_Zcv"
   },
   "source": [
    "## Итоги исследования"
   ]
  },
  {
   "cell_type": "markdown",
   "metadata": {
    "id": "tjUwbHb3_Zcv"
   },
   "source": [
    "1. День недели по-разному влияет на активность пользователей в Москве и Петербурге. \n",
    "\n",
    "Первая гипотеза полностью подтвердилась.\n",
    "\n",
    "2. Музыкальные предпочтения не сильно меняются в течение недели — будь то Москва или Петербург. Небольшие различия заметны в начале недели, по понедельникам:\n",
    "* в Москве слушают музыку жанра “world”,\n",
    "* в Петербурге — джаз и классику.\n",
    "\n",
    "Таким образом, вторая гипотеза подтвердилась лишь отчасти. Этот результат мог оказаться иным, если бы не пропуски в данных.\n",
    "\n",
    "3. Во вкусах пользователей Москвы и Петербурга больше общего чем различий. Вопреки ожиданиям, предпочтения жанров в Петербурге напоминают московские.\n",
    "\n",
    "Третья гипотеза не подтвердилась. Если различия в предпочтениях и существуют, на основной массе пользователей они незаметны.\n",
    "\n",
    "**На практике исследования содержат проверки статистических гипотез.**\n",
    "Из данных одного сервиса не всегда можно сделать вывод о всех жителях города.\n",
    "Проверки статистических гипотез покажут, насколько они достоверны, исходя из имеющихся данных."
   ]
  }
 ],
 "metadata": {
  "ExecuteTimeLog": [
   {
    "duration": 601,
    "start_time": "2022-02-05T13:14:02.490Z"
   },
   {
    "duration": 130,
    "start_time": "2022-02-05T13:15:02.925Z"
   },
   {
    "duration": 124,
    "start_time": "2022-02-05T13:15:58.595Z"
   },
   {
    "duration": 321,
    "start_time": "2022-02-05T13:16:15.688Z"
   },
   {
    "duration": 6,
    "start_time": "2022-02-05T13:27:29.924Z"
   },
   {
    "duration": 6,
    "start_time": "2022-02-05T13:28:22.705Z"
   },
   {
    "duration": 260,
    "start_time": "2022-02-05T13:29:13.727Z"
   },
   {
    "duration": 7,
    "start_time": "2022-02-05T13:29:18.137Z"
   },
   {
    "duration": 6,
    "start_time": "2022-02-05T13:39:31.579Z"
   },
   {
    "duration": 8,
    "start_time": "2022-02-05T13:40:30.954Z"
   },
   {
    "duration": 4,
    "start_time": "2022-02-05T13:40:33.606Z"
   },
   {
    "duration": 781,
    "start_time": "2022-02-06T11:41:52.710Z"
   },
   {
    "duration": 174,
    "start_time": "2022-02-06T11:41:53.494Z"
   },
   {
    "duration": 11,
    "start_time": "2022-02-06T11:41:53.748Z"
   },
   {
    "duration": 13,
    "start_time": "2022-02-06T11:41:54.401Z"
   },
   {
    "duration": 5,
    "start_time": "2022-02-06T11:41:56.064Z"
   },
   {
    "duration": 27,
    "start_time": "2022-02-06T11:41:56.771Z"
   },
   {
    "duration": 4,
    "start_time": "2022-02-06T11:41:57.421Z"
   },
   {
    "duration": 29,
    "start_time": "2022-02-06T11:41:58.259Z"
   },
   {
    "duration": 22,
    "start_time": "2022-02-06T11:42:01.411Z"
   },
   {
    "duration": 29,
    "start_time": "2022-02-06T11:42:02.123Z"
   },
   {
    "duration": 84,
    "start_time": "2022-02-06T11:42:08.062Z"
   },
   {
    "duration": 89,
    "start_time": "2022-02-06T11:42:08.959Z"
   },
   {
    "duration": 76,
    "start_time": "2022-02-06T11:42:09.753Z"
   },
   {
    "duration": 17,
    "start_time": "2022-02-06T11:42:13.429Z"
   },
   {
    "duration": 3,
    "start_time": "2022-02-06T11:42:16.344Z"
   },
   {
    "duration": 3,
    "start_time": "2022-02-06T11:42:17.045Z"
   },
   {
    "duration": 3,
    "start_time": "2022-02-06T11:42:18.024Z"
   },
   {
    "duration": 9,
    "start_time": "2022-02-06T11:42:56.323Z"
   },
   {
    "duration": 4,
    "start_time": "2022-02-06T11:43:00.833Z"
   },
   {
    "duration": 21,
    "start_time": "2022-02-06T11:43:02.082Z"
   },
   {
    "duration": 9,
    "start_time": "2022-02-06T11:43:11.963Z"
   },
   {
    "duration": 367,
    "start_time": "2022-02-08T20:26:52.593Z"
   },
   {
    "duration": 757,
    "start_time": "2022-02-08T20:26:58.834Z"
   },
   {
    "duration": 191,
    "start_time": "2022-02-08T20:26:59.594Z"
   },
   {
    "duration": 11,
    "start_time": "2022-02-08T20:26:59.788Z"
   },
   {
    "duration": 31,
    "start_time": "2022-02-08T20:26:59.804Z"
   },
   {
    "duration": 4,
    "start_time": "2022-02-08T20:27:00.663Z"
   },
   {
    "duration": 30,
    "start_time": "2022-02-08T20:27:01.015Z"
   },
   {
    "duration": 6,
    "start_time": "2022-02-08T20:27:01.381Z"
   },
   {
    "duration": 30,
    "start_time": "2022-02-08T20:27:01.769Z"
   },
   {
    "duration": 33,
    "start_time": "2022-02-08T20:27:02.342Z"
   },
   {
    "duration": 47,
    "start_time": "2022-02-08T20:27:02.696Z"
   },
   {
    "duration": 84,
    "start_time": "2022-02-08T20:27:03.118Z"
   },
   {
    "duration": 93,
    "start_time": "2022-02-08T20:27:03.528Z"
   },
   {
    "duration": 80,
    "start_time": "2022-02-08T20:27:04.147Z"
   },
   {
    "duration": 9,
    "start_time": "2022-02-08T20:27:04.753Z"
   },
   {
    "duration": 4,
    "start_time": "2022-02-08T20:27:05.196Z"
   },
   {
    "duration": 21,
    "start_time": "2022-02-08T20:27:05.748Z"
   },
   {
    "duration": 8,
    "start_time": "2022-02-08T20:27:06.658Z"
   },
   {
    "duration": 48,
    "start_time": "2022-02-08T20:27:10.888Z"
   },
   {
    "duration": 63,
    "start_time": "2022-02-08T20:29:30.357Z"
   },
   {
    "duration": 603,
    "start_time": "2022-02-08T21:32:45.895Z"
   },
   {
    "duration": 542,
    "start_time": "2022-02-08T21:33:19.656Z"
   },
   {
    "duration": 537,
    "start_time": "2022-02-08T21:35:49.172Z"
   },
   {
    "duration": 463,
    "start_time": "2022-02-08T21:36:55.904Z"
   },
   {
    "duration": 5,
    "start_time": "2022-02-08T21:37:59.531Z"
   },
   {
    "duration": 299,
    "start_time": "2022-02-08T21:42:42.659Z"
   },
   {
    "duration": 6,
    "start_time": "2022-02-08T21:42:56.060Z"
   },
   {
    "duration": 21,
    "start_time": "2022-02-08T21:43:10.315Z"
   },
   {
    "duration": 28,
    "start_time": "2022-02-08T21:43:41.611Z"
   },
   {
    "duration": 21,
    "start_time": "2022-02-08T21:43:44.871Z"
   },
   {
    "duration": 22,
    "start_time": "2022-02-08T21:44:30.127Z"
   },
   {
    "duration": 20,
    "start_time": "2022-02-08T21:44:30.536Z"
   },
   {
    "duration": 20,
    "start_time": "2022-02-08T21:44:30.763Z"
   },
   {
    "duration": 19,
    "start_time": "2022-02-08T21:44:31.103Z"
   },
   {
    "duration": 21,
    "start_time": "2022-02-08T21:44:31.655Z"
   },
   {
    "duration": 21,
    "start_time": "2022-02-08T21:44:32.524Z"
   },
   {
    "duration": 332,
    "start_time": "2022-02-08T21:48:52.676Z"
   },
   {
    "duration": 12,
    "start_time": "2022-02-08T21:49:11.560Z"
   },
   {
    "duration": 12,
    "start_time": "2022-02-08T21:51:55.952Z"
   },
   {
    "duration": 751,
    "start_time": "2022-02-08T21:56:10.032Z"
   },
   {
    "duration": 197,
    "start_time": "2022-02-08T21:56:10.786Z"
   },
   {
    "duration": 11,
    "start_time": "2022-02-08T21:56:10.989Z"
   },
   {
    "duration": 38,
    "start_time": "2022-02-08T21:56:11.002Z"
   },
   {
    "duration": 10,
    "start_time": "2022-02-08T21:56:11.043Z"
   },
   {
    "duration": 36,
    "start_time": "2022-02-08T21:56:11.055Z"
   },
   {
    "duration": 27,
    "start_time": "2022-02-08T21:56:11.093Z"
   },
   {
    "duration": 38,
    "start_time": "2022-02-08T21:56:11.124Z"
   },
   {
    "duration": 40,
    "start_time": "2022-02-08T21:56:11.165Z"
   },
   {
    "duration": 29,
    "start_time": "2022-02-08T21:56:11.207Z"
   },
   {
    "duration": 99,
    "start_time": "2022-02-08T21:56:11.239Z"
   },
   {
    "duration": 107,
    "start_time": "2022-02-08T21:56:11.340Z"
   },
   {
    "duration": 86,
    "start_time": "2022-02-08T21:56:11.449Z"
   },
   {
    "duration": 8,
    "start_time": "2022-02-08T21:56:11.538Z"
   },
   {
    "duration": 12,
    "start_time": "2022-02-08T21:56:11.549Z"
   },
   {
    "duration": 28,
    "start_time": "2022-02-08T21:56:11.563Z"
   },
   {
    "duration": 8,
    "start_time": "2022-02-08T21:56:11.593Z"
   },
   {
    "duration": 62,
    "start_time": "2022-02-08T21:56:11.604Z"
   },
   {
    "duration": 41,
    "start_time": "2022-02-08T21:56:11.668Z"
   },
   {
    "duration": 4,
    "start_time": "2022-02-08T21:56:11.733Z"
   },
   {
    "duration": 25,
    "start_time": "2022-02-08T21:56:11.740Z"
   },
   {
    "duration": 19,
    "start_time": "2022-02-08T21:56:11.768Z"
   },
   {
    "duration": 54,
    "start_time": "2022-02-08T21:56:11.789Z"
   },
   {
    "duration": 18,
    "start_time": "2022-02-08T21:56:11.846Z"
   },
   {
    "duration": 22,
    "start_time": "2022-02-08T21:56:11.867Z"
   },
   {
    "duration": 57,
    "start_time": "2022-02-08T21:56:11.894Z"
   },
   {
    "duration": 15,
    "start_time": "2022-02-08T21:56:11.955Z"
   },
   {
    "duration": 409,
    "start_time": "2022-02-08T21:56:11.972Z"
   },
   {
    "duration": 2121,
    "start_time": "2022-02-08T21:56:10.263Z"
   },
   {
    "duration": 2119,
    "start_time": "2022-02-08T21:56:10.266Z"
   },
   {
    "duration": 2119,
    "start_time": "2022-02-08T21:56:10.268Z"
   },
   {
    "duration": 2115,
    "start_time": "2022-02-08T21:56:10.273Z"
   },
   {
    "duration": 2114,
    "start_time": "2022-02-08T21:56:10.275Z"
   },
   {
    "duration": 2114,
    "start_time": "2022-02-08T21:56:10.277Z"
   },
   {
    "duration": 2114,
    "start_time": "2022-02-08T21:56:10.278Z"
   },
   {
    "duration": 2114,
    "start_time": "2022-02-08T21:56:10.280Z"
   },
   {
    "duration": 2114,
    "start_time": "2022-02-08T21:56:10.281Z"
   },
   {
    "duration": 2114,
    "start_time": "2022-02-08T21:56:10.283Z"
   },
   {
    "duration": 23,
    "start_time": "2022-02-08T21:57:19.137Z"
   },
   {
    "duration": 665,
    "start_time": "2022-02-13T18:54:21.942Z"
   },
   {
    "duration": 132,
    "start_time": "2022-02-13T18:54:22.608Z"
   },
   {
    "duration": 7,
    "start_time": "2022-02-13T18:54:22.742Z"
   },
   {
    "duration": 15,
    "start_time": "2022-02-13T18:54:22.751Z"
   },
   {
    "duration": 6,
    "start_time": "2022-02-13T18:54:22.767Z"
   },
   {
    "duration": 27,
    "start_time": "2022-02-13T18:54:22.775Z"
   },
   {
    "duration": 3,
    "start_time": "2022-02-13T18:54:22.804Z"
   },
   {
    "duration": 24,
    "start_time": "2022-02-13T18:54:22.809Z"
   },
   {
    "duration": 38,
    "start_time": "2022-02-13T18:54:22.835Z"
   },
   {
    "duration": 21,
    "start_time": "2022-02-13T18:54:22.875Z"
   },
   {
    "duration": 57,
    "start_time": "2022-02-13T18:54:22.898Z"
   },
   {
    "duration": 81,
    "start_time": "2022-02-13T18:54:22.957Z"
   },
   {
    "duration": 68,
    "start_time": "2022-02-13T18:54:23.040Z"
   },
   {
    "duration": 6,
    "start_time": "2022-02-13T18:54:23.110Z"
   },
   {
    "duration": 4,
    "start_time": "2022-02-13T18:54:23.118Z"
   },
   {
    "duration": 16,
    "start_time": "2022-02-13T18:54:23.124Z"
   },
   {
    "duration": 31,
    "start_time": "2022-02-13T18:54:23.141Z"
   },
   {
    "duration": 28,
    "start_time": "2022-02-13T18:54:23.174Z"
   },
   {
    "duration": 27,
    "start_time": "2022-02-13T18:54:23.203Z"
   },
   {
    "duration": 3,
    "start_time": "2022-02-13T18:54:23.232Z"
   },
   {
    "duration": 47,
    "start_time": "2022-02-13T18:54:23.237Z"
   },
   {
    "duration": 17,
    "start_time": "2022-02-13T18:54:23.286Z"
   },
   {
    "duration": 31,
    "start_time": "2022-02-13T18:54:23.305Z"
   },
   {
    "duration": 35,
    "start_time": "2022-02-13T18:54:23.338Z"
   },
   {
    "duration": 31,
    "start_time": "2022-02-13T18:54:23.375Z"
   },
   {
    "duration": 17,
    "start_time": "2022-02-13T18:54:23.408Z"
   },
   {
    "duration": 13,
    "start_time": "2022-02-13T18:54:23.427Z"
   },
   {
    "duration": 14,
    "start_time": "2022-02-13T18:54:27.400Z"
   },
   {
    "duration": 18,
    "start_time": "2022-02-13T18:55:18.159Z"
   },
   {
    "duration": 390,
    "start_time": "2022-02-14T21:37:00.045Z"
   },
   {
    "duration": 886,
    "start_time": "2022-02-14T21:37:10.565Z"
   },
   {
    "duration": 228,
    "start_time": "2022-02-14T21:37:11.455Z"
   },
   {
    "duration": 15,
    "start_time": "2022-02-14T21:37:11.687Z"
   },
   {
    "duration": 20,
    "start_time": "2022-02-14T21:37:11.705Z"
   },
   {
    "duration": 5,
    "start_time": "2022-02-14T21:37:11.728Z"
   },
   {
    "duration": 59,
    "start_time": "2022-02-14T21:37:11.735Z"
   },
   {
    "duration": 11,
    "start_time": "2022-02-14T21:37:11.796Z"
   },
   {
    "duration": 30,
    "start_time": "2022-02-14T21:37:11.809Z"
   },
   {
    "duration": 48,
    "start_time": "2022-02-14T21:37:11.843Z"
   },
   {
    "duration": 28,
    "start_time": "2022-02-14T21:37:11.895Z"
   },
   {
    "duration": 108,
    "start_time": "2022-02-14T21:37:11.925Z"
   },
   {
    "duration": 105,
    "start_time": "2022-02-14T21:37:12.035Z"
   },
   {
    "duration": 85,
    "start_time": "2022-02-14T21:37:12.143Z"
   },
   {
    "duration": 8,
    "start_time": "2022-02-14T21:37:12.230Z"
   },
   {
    "duration": 4,
    "start_time": "2022-02-14T21:37:12.241Z"
   },
   {
    "duration": 22,
    "start_time": "2022-02-14T21:37:12.269Z"
   },
   {
    "duration": 9,
    "start_time": "2022-02-14T21:37:12.294Z"
   },
   {
    "duration": 69,
    "start_time": "2022-02-14T21:37:12.305Z"
   },
   {
    "duration": 38,
    "start_time": "2022-02-14T21:37:12.376Z"
   },
   {
    "duration": 5,
    "start_time": "2022-02-14T21:37:12.416Z"
   },
   {
    "duration": 48,
    "start_time": "2022-02-14T21:37:12.424Z"
   },
   {
    "duration": 19,
    "start_time": "2022-02-14T21:37:12.475Z"
   },
   {
    "duration": 19,
    "start_time": "2022-02-14T21:37:12.496Z"
   },
   {
    "duration": 17,
    "start_time": "2022-02-14T21:37:12.517Z"
   },
   {
    "duration": 22,
    "start_time": "2022-02-14T21:37:12.569Z"
   },
   {
    "duration": 19,
    "start_time": "2022-02-14T21:37:12.593Z"
   },
   {
    "duration": 13,
    "start_time": "2022-02-14T21:37:12.616Z"
   },
   {
    "duration": 50,
    "start_time": "2022-02-14T21:37:12.631Z"
   },
   {
    "duration": 19,
    "start_time": "2022-02-14T21:48:27.457Z"
   },
   {
    "duration": 28,
    "start_time": "2022-02-14T21:48:31.765Z"
   },
   {
    "duration": 14,
    "start_time": "2022-02-14T21:48:40.139Z"
   },
   {
    "duration": 28,
    "start_time": "2022-02-14T21:49:04.469Z"
   },
   {
    "duration": 5,
    "start_time": "2022-02-14T22:14:01.191Z"
   },
   {
    "duration": 5,
    "start_time": "2022-02-14T22:19:14.520Z"
   },
   {
    "duration": 93,
    "start_time": "2022-02-14T22:36:06.558Z"
   },
   {
    "duration": 504,
    "start_time": "2022-02-14T22:36:18.511Z"
   },
   {
    "duration": 468,
    "start_time": "2022-02-14T22:38:08.586Z"
   },
   {
    "duration": 459,
    "start_time": "2022-02-14T22:38:58.321Z"
   },
   {
    "duration": 7025,
    "start_time": "2022-02-14T22:39:35.772Z"
   },
   {
    "duration": 7228,
    "start_time": "2022-02-14T22:39:43.692Z"
   },
   {
    "duration": 30,
    "start_time": "2022-02-14T22:41:27.349Z"
   },
   {
    "duration": 32,
    "start_time": "2022-02-14T22:46:45.294Z"
   },
   {
    "duration": 30,
    "start_time": "2022-02-14T22:47:54.636Z"
   },
   {
    "duration": 30,
    "start_time": "2022-02-14T23:20:56.948Z"
   },
   {
    "duration": 6,
    "start_time": "2022-02-14T23:21:05.033Z"
   },
   {
    "duration": 33,
    "start_time": "2022-02-14T23:21:42.089Z"
   },
   {
    "duration": 4,
    "start_time": "2022-02-14T23:26:56.624Z"
   },
   {
    "duration": 34,
    "start_time": "2022-02-14T23:28:56.702Z"
   },
   {
    "duration": 25,
    "start_time": "2022-02-14T23:28:57.163Z"
   },
   {
    "duration": 30,
    "start_time": "2022-02-14T23:28:57.794Z"
   },
   {
    "duration": 24,
    "start_time": "2022-02-14T23:28:58.513Z"
   },
   {
    "duration": 42,
    "start_time": "2022-02-14T23:34:34.646Z"
   },
   {
    "duration": 44,
    "start_time": "2022-02-14T23:35:21.150Z"
   },
   {
    "duration": 306,
    "start_time": "2022-02-14T23:36:17.697Z"
   },
   {
    "duration": 333,
    "start_time": "2022-02-14T23:36:25.490Z"
   },
   {
    "duration": 13,
    "start_time": "2022-02-14T23:36:42.507Z"
   },
   {
    "duration": 35,
    "start_time": "2022-02-14T23:37:13.074Z"
   },
   {
    "duration": 12,
    "start_time": "2022-02-14T23:37:14.503Z"
   },
   {
    "duration": 301,
    "start_time": "2022-02-14T23:37:52.684Z"
   },
   {
    "duration": 300,
    "start_time": "2022-02-14T23:39:16.204Z"
   },
   {
    "duration": 40,
    "start_time": "2022-02-14T23:44:13.273Z"
   },
   {
    "duration": 40,
    "start_time": "2022-02-14T23:44:33.776Z"
   },
   {
    "duration": 30,
    "start_time": "2022-02-14T23:44:45.752Z"
   },
   {
    "duration": 21,
    "start_time": "2022-02-14T23:46:05.234Z"
   },
   {
    "duration": 12,
    "start_time": "2022-02-14T23:46:24.136Z"
   },
   {
    "duration": 828,
    "start_time": "2022-02-22T10:57:01.092Z"
   },
   {
    "duration": 203,
    "start_time": "2022-02-22T10:57:01.923Z"
   },
   {
    "duration": 10,
    "start_time": "2022-02-22T10:57:02.129Z"
   },
   {
    "duration": 39,
    "start_time": "2022-02-22T10:57:02.142Z"
   },
   {
    "duration": 18,
    "start_time": "2022-02-22T10:57:02.184Z"
   },
   {
    "duration": 59,
    "start_time": "2022-02-22T10:57:02.204Z"
   },
   {
    "duration": 36,
    "start_time": "2022-02-22T10:57:02.266Z"
   },
   {
    "duration": 45,
    "start_time": "2022-02-22T10:57:02.306Z"
   },
   {
    "duration": 28,
    "start_time": "2022-02-22T10:57:02.354Z"
   },
   {
    "duration": 46,
    "start_time": "2022-02-22T10:57:02.384Z"
   },
   {
    "duration": 103,
    "start_time": "2022-02-22T10:57:02.433Z"
   },
   {
    "duration": 123,
    "start_time": "2022-02-22T10:57:02.538Z"
   },
   {
    "duration": 91,
    "start_time": "2022-02-22T10:57:02.663Z"
   },
   {
    "duration": 10,
    "start_time": "2022-02-22T10:57:02.757Z"
   },
   {
    "duration": 20,
    "start_time": "2022-02-22T10:57:02.770Z"
   },
   {
    "duration": 39,
    "start_time": "2022-02-22T10:57:02.792Z"
   },
   {
    "duration": 25,
    "start_time": "2022-02-22T10:57:02.833Z"
   },
   {
    "duration": 59,
    "start_time": "2022-02-22T10:57:02.860Z"
   },
   {
    "duration": 41,
    "start_time": "2022-02-22T10:57:02.922Z"
   },
   {
    "duration": 5,
    "start_time": "2022-02-22T10:57:02.966Z"
   },
   {
    "duration": 50,
    "start_time": "2022-02-22T10:57:02.973Z"
   },
   {
    "duration": 20,
    "start_time": "2022-02-22T10:57:03.026Z"
   },
   {
    "duration": 46,
    "start_time": "2022-02-22T10:57:03.051Z"
   },
   {
    "duration": 38,
    "start_time": "2022-02-22T10:57:03.100Z"
   },
   {
    "duration": 32,
    "start_time": "2022-02-22T10:57:03.140Z"
   },
   {
    "duration": 46,
    "start_time": "2022-02-22T10:57:03.174Z"
   },
   {
    "duration": 32,
    "start_time": "2022-02-22T10:57:03.223Z"
   },
   {
    "duration": 39,
    "start_time": "2022-02-22T10:57:03.257Z"
   },
   {
    "duration": 37,
    "start_time": "2022-02-22T10:57:03.298Z"
   },
   {
    "duration": 33,
    "start_time": "2022-02-22T10:57:03.338Z"
   },
   {
    "duration": 77,
    "start_time": "2022-02-22T10:57:03.373Z"
   },
   {
    "duration": 33,
    "start_time": "2022-02-22T10:57:03.453Z"
   },
   {
    "duration": 54,
    "start_time": "2022-02-22T10:57:03.488Z"
   },
   {
    "duration": 24,
    "start_time": "2022-02-22T10:57:03.545Z"
   },
   {
    "duration": 58,
    "start_time": "2022-02-22T10:57:03.571Z"
   },
   {
    "duration": 12,
    "start_time": "2022-02-22T10:57:03.632Z"
   },
   {
    "duration": 53,
    "start_time": "2022-02-22T10:57:03.646Z"
   },
   {
    "duration": 40,
    "start_time": "2022-02-22T10:57:03.701Z"
   },
   {
    "duration": 519,
    "start_time": "2022-02-22T13:44:48.480Z"
   },
   {
    "duration": 141,
    "start_time": "2022-02-22T13:50:43.287Z"
   },
   {
    "duration": 7,
    "start_time": "2022-02-22T13:50:49.054Z"
   },
   {
    "duration": 16,
    "start_time": "2022-02-22T13:50:54.379Z"
   },
   {
    "duration": 24,
    "start_time": "2022-02-22T13:59:09.761Z"
   },
   {
    "duration": 4,
    "start_time": "2022-02-22T14:05:08.366Z"
   },
   {
    "duration": 21,
    "start_time": "2022-02-22T14:06:46.472Z"
   },
   {
    "duration": 4,
    "start_time": "2022-02-22T14:06:59.533Z"
   },
   {
    "duration": 23,
    "start_time": "2022-02-22T14:07:35.956Z"
   },
   {
    "duration": 26,
    "start_time": "2022-02-22T14:11:01.364Z"
   },
   {
    "duration": 17,
    "start_time": "2022-02-22T14:11:47.293Z"
   },
   {
    "duration": 23,
    "start_time": "2022-02-22T14:11:50.270Z"
   },
   {
    "duration": 22,
    "start_time": "2022-02-22T14:15:36.510Z"
   },
   {
    "duration": 66,
    "start_time": "2022-02-22T14:15:41.245Z"
   },
   {
    "duration": 71,
    "start_time": "2022-02-22T14:15:42.704Z"
   },
   {
    "duration": 66,
    "start_time": "2022-02-22T14:20:11.292Z"
   },
   {
    "duration": 50,
    "start_time": "2022-02-22T14:20:12.668Z"
   },
   {
    "duration": 7,
    "start_time": "2022-02-22T14:20:16.837Z"
   },
   {
    "duration": 295,
    "start_time": "2022-02-22T14:27:20.172Z"
   },
   {
    "duration": 190,
    "start_time": "2022-02-22T14:30:25.077Z"
   },
   {
    "duration": 158,
    "start_time": "2022-02-22T14:30:31.464Z"
   },
   {
    "duration": 6,
    "start_time": "2022-02-22T14:30:36.329Z"
   },
   {
    "duration": 6,
    "start_time": "2022-02-22T14:44:02.469Z"
   },
   {
    "duration": 160,
    "start_time": "2022-02-22T14:44:17.289Z"
   },
   {
    "duration": 220,
    "start_time": "2022-02-22T14:50:41.848Z"
   },
   {
    "duration": 204,
    "start_time": "2022-02-22T15:22:33.591Z"
   },
   {
    "duration": 138,
    "start_time": "2022-02-22T15:22:46.229Z"
   },
   {
    "duration": 6,
    "start_time": "2022-02-22T15:22:52.834Z"
   },
   {
    "duration": 6,
    "start_time": "2022-02-22T15:23:14.351Z"
   },
   {
    "duration": 289,
    "start_time": "2022-02-22T15:24:30.302Z"
   },
   {
    "duration": 153,
    "start_time": "2022-02-22T15:25:13.740Z"
   },
   {
    "duration": 142,
    "start_time": "2022-02-22T15:25:31.541Z"
   },
   {
    "duration": 2,
    "start_time": "2022-02-22T15:26:15.979Z"
   },
   {
    "duration": 135,
    "start_time": "2022-02-22T15:26:15.984Z"
   },
   {
    "duration": 18,
    "start_time": "2022-02-22T15:26:16.121Z"
   },
   {
    "duration": 26,
    "start_time": "2022-02-22T15:26:16.142Z"
   },
   {
    "duration": 4,
    "start_time": "2022-02-22T15:26:16.169Z"
   },
   {
    "duration": 15,
    "start_time": "2022-02-22T15:26:16.174Z"
   },
   {
    "duration": 3,
    "start_time": "2022-02-22T15:26:16.191Z"
   },
   {
    "duration": 49,
    "start_time": "2022-02-22T15:26:16.195Z"
   },
   {
    "duration": 16,
    "start_time": "2022-02-22T15:26:16.246Z"
   },
   {
    "duration": 24,
    "start_time": "2022-02-22T15:26:16.264Z"
   },
   {
    "duration": 66,
    "start_time": "2022-02-22T15:26:16.290Z"
   },
   {
    "duration": 57,
    "start_time": "2022-02-22T15:26:16.357Z"
   },
   {
    "duration": 59,
    "start_time": "2022-02-22T15:26:16.415Z"
   },
   {
    "duration": 42,
    "start_time": "2022-02-22T15:26:16.475Z"
   },
   {
    "duration": 1183,
    "start_time": "2022-02-22T15:26:15.335Z"
   },
   {
    "duration": 1178,
    "start_time": "2022-02-22T15:26:15.341Z"
   },
   {
    "duration": 146,
    "start_time": "2022-02-22T15:26:21.247Z"
   },
   {
    "duration": 1186,
    "start_time": "2022-02-22T15:26:20.209Z"
   },
   {
    "duration": 1184,
    "start_time": "2022-02-22T15:26:20.212Z"
   },
   {
    "duration": 1183,
    "start_time": "2022-02-22T15:26:20.214Z"
   },
   {
    "duration": 1181,
    "start_time": "2022-02-22T15:26:20.217Z"
   },
   {
    "duration": 1180,
    "start_time": "2022-02-22T15:26:20.219Z"
   },
   {
    "duration": 1178,
    "start_time": "2022-02-22T15:26:20.222Z"
   },
   {
    "duration": 1177,
    "start_time": "2022-02-22T15:26:20.224Z"
   },
   {
    "duration": 1176,
    "start_time": "2022-02-22T15:26:20.226Z"
   },
   {
    "duration": 1174,
    "start_time": "2022-02-22T15:26:20.229Z"
   },
   {
    "duration": 1173,
    "start_time": "2022-02-22T15:26:20.231Z"
   },
   {
    "duration": 1172,
    "start_time": "2022-02-22T15:26:20.233Z"
   },
   {
    "duration": 1170,
    "start_time": "2022-02-22T15:26:20.236Z"
   },
   {
    "duration": 1169,
    "start_time": "2022-02-22T15:26:20.238Z"
   },
   {
    "duration": 1163,
    "start_time": "2022-02-22T15:26:20.245Z"
   },
   {
    "duration": 1161,
    "start_time": "2022-02-22T15:26:20.248Z"
   },
   {
    "duration": 1158,
    "start_time": "2022-02-22T15:26:20.252Z"
   },
   {
    "duration": 1157,
    "start_time": "2022-02-22T15:26:20.254Z"
   },
   {
    "duration": 1155,
    "start_time": "2022-02-22T15:26:20.257Z"
   },
   {
    "duration": 1154,
    "start_time": "2022-02-22T15:26:20.259Z"
   },
   {
    "duration": 1153,
    "start_time": "2022-02-22T15:26:20.261Z"
   },
   {
    "duration": 1152,
    "start_time": "2022-02-22T15:26:20.263Z"
   },
   {
    "duration": 133,
    "start_time": "2022-02-22T15:26:34.291Z"
   },
   {
    "duration": 2,
    "start_time": "2022-02-22T15:35:35.985Z"
   },
   {
    "duration": 136,
    "start_time": "2022-02-22T15:35:36.573Z"
   },
   {
    "duration": 10,
    "start_time": "2022-02-22T15:35:37.174Z"
   },
   {
    "duration": 23,
    "start_time": "2022-02-22T15:35:37.788Z"
   },
   {
    "duration": 5,
    "start_time": "2022-02-22T15:35:40.529Z"
   },
   {
    "duration": 10,
    "start_time": "2022-02-22T15:35:41.724Z"
   },
   {
    "duration": 4,
    "start_time": "2022-02-22T15:35:44.787Z"
   },
   {
    "duration": 23,
    "start_time": "2022-02-22T15:35:45.530Z"
   },
   {
    "duration": 19,
    "start_time": "2022-02-22T15:35:48.925Z"
   },
   {
    "duration": 24,
    "start_time": "2022-02-22T15:35:51.101Z"
   },
   {
    "duration": 84,
    "start_time": "2022-02-22T15:35:53.837Z"
   },
   {
    "duration": 91,
    "start_time": "2022-02-22T15:35:57.963Z"
   },
   {
    "duration": 73,
    "start_time": "2022-02-22T15:35:58.646Z"
   },
   {
    "duration": 8,
    "start_time": "2022-02-22T15:36:55.593Z"
   },
   {
    "duration": 133,
    "start_time": "2022-02-22T15:37:10.363Z"
   },
   {
    "duration": 52,
    "start_time": "2022-02-22T15:38:32.361Z"
   },
   {
    "duration": 6,
    "start_time": "2022-02-22T15:38:36.466Z"
   },
   {
    "duration": 131,
    "start_time": "2022-02-22T15:38:42.299Z"
   },
   {
    "duration": 153,
    "start_time": "2022-02-22T15:40:34.305Z"
   },
   {
    "duration": 144,
    "start_time": "2022-02-22T15:40:43.533Z"
   },
   {
    "duration": 126,
    "start_time": "2022-02-22T15:40:52.222Z"
   },
   {
    "duration": 40,
    "start_time": "2022-02-22T15:40:59.307Z"
   },
   {
    "duration": 42,
    "start_time": "2022-02-22T15:46:23.358Z"
   },
   {
    "duration": 3,
    "start_time": "2022-02-22T15:47:34.470Z"
   },
   {
    "duration": 3,
    "start_time": "2022-02-22T15:52:17.747Z"
   },
   {
    "duration": 10,
    "start_time": "2022-02-22T15:52:21.828Z"
   },
   {
    "duration": 138,
    "start_time": "2022-02-22T15:52:43.918Z"
   },
   {
    "duration": 40,
    "start_time": "2022-02-22T15:52:52.287Z"
   },
   {
    "duration": 21,
    "start_time": "2022-02-22T15:59:13.399Z"
   },
   {
    "duration": 48,
    "start_time": "2022-02-22T15:59:13.785Z"
   },
   {
    "duration": 56,
    "start_time": "2022-02-22T15:59:16.626Z"
   },
   {
    "duration": 48,
    "start_time": "2022-02-22T15:59:17.522Z"
   },
   {
    "duration": 3,
    "start_time": "2022-02-22T16:04:34.800Z"
   },
   {
    "duration": 760,
    "start_time": "2022-02-22T16:04:34.805Z"
   },
   {
    "duration": 10,
    "start_time": "2022-02-22T16:04:35.567Z"
   },
   {
    "duration": 26,
    "start_time": "2022-02-22T16:04:35.578Z"
   },
   {
    "duration": 6,
    "start_time": "2022-02-22T16:04:35.606Z"
   },
   {
    "duration": 23,
    "start_time": "2022-02-22T16:04:35.613Z"
   },
   {
    "duration": 4,
    "start_time": "2022-02-22T16:04:35.638Z"
   },
   {
    "duration": 23,
    "start_time": "2022-02-22T16:04:35.644Z"
   },
   {
    "duration": 21,
    "start_time": "2022-02-22T16:04:35.668Z"
   },
   {
    "duration": 39,
    "start_time": "2022-02-22T16:04:35.691Z"
   },
   {
    "duration": 54,
    "start_time": "2022-02-22T16:04:35.732Z"
   },
   {
    "duration": 90,
    "start_time": "2022-02-22T16:04:35.787Z"
   },
   {
    "duration": 56,
    "start_time": "2022-02-22T16:04:35.879Z"
   },
   {
    "duration": 38,
    "start_time": "2022-02-22T16:04:35.937Z"
   },
   {
    "duration": 3,
    "start_time": "2022-02-22T16:04:35.976Z"
   },
   {
    "duration": 11,
    "start_time": "2022-02-22T16:04:35.981Z"
   },
   {
    "duration": 10,
    "start_time": "2022-02-22T16:05:24.247Z"
   },
   {
    "duration": 45,
    "start_time": "2022-02-22T16:05:24.727Z"
   },
   {
    "duration": 31,
    "start_time": "2022-02-22T16:06:09.762Z"
   },
   {
    "duration": 611,
    "start_time": "2022-02-22T16:11:07.561Z"
   },
   {
    "duration": 10,
    "start_time": "2022-02-22T16:11:15.520Z"
   },
   {
    "duration": 33,
    "start_time": "2022-02-22T16:24:29.186Z"
   },
   {
    "duration": 11,
    "start_time": "2022-02-22T16:24:38.621Z"
   },
   {
    "duration": 4,
    "start_time": "2022-02-22T16:25:34.564Z"
   },
   {
    "duration": 16,
    "start_time": "2022-02-22T16:25:35.779Z"
   },
   {
    "duration": 14,
    "start_time": "2022-02-22T16:25:35.978Z"
   },
   {
    "duration": 16,
    "start_time": "2022-02-22T16:25:37.434Z"
   },
   {
    "duration": 14,
    "start_time": "2022-02-22T16:25:37.623Z"
   },
   {
    "duration": 16,
    "start_time": "2022-02-22T16:25:37.828Z"
   },
   {
    "duration": 15,
    "start_time": "2022-02-22T16:25:38.045Z"
   },
   {
    "duration": 8,
    "start_time": "2022-02-22T16:25:40.700Z"
   },
   {
    "duration": 11,
    "start_time": "2022-02-22T16:25:48.177Z"
   },
   {
    "duration": 10,
    "start_time": "2022-02-22T16:25:48.684Z"
   },
   {
    "duration": 4,
    "start_time": "2022-02-22T16:26:01.470Z"
   },
   {
    "duration": 24,
    "start_time": "2022-02-22T16:26:09.052Z"
   },
   {
    "duration": 4,
    "start_time": "2022-02-22T16:26:23.556Z"
   },
   {
    "duration": 20,
    "start_time": "2022-02-22T16:26:24.778Z"
   },
   {
    "duration": 14,
    "start_time": "2022-02-22T16:34:24.827Z"
   },
   {
    "duration": 19,
    "start_time": "2022-02-22T16:34:25.435Z"
   },
   {
    "duration": 14,
    "start_time": "2022-02-22T16:34:25.875Z"
   },
   {
    "duration": 28,
    "start_time": "2022-02-22T16:38:32.896Z"
   },
   {
    "duration": 140,
    "start_time": "2022-02-22T16:38:44.584Z"
   },
   {
    "duration": 28,
    "start_time": "2022-02-22T16:39:23.634Z"
   },
   {
    "duration": 23,
    "start_time": "2022-02-22T16:39:29.619Z"
   },
   {
    "duration": 135,
    "start_time": "2022-02-22T16:39:40.429Z"
   },
   {
    "duration": 145,
    "start_time": "2022-02-22T16:39:45.854Z"
   },
   {
    "duration": 25,
    "start_time": "2022-02-22T16:39:50.830Z"
   },
   {
    "duration": 4,
    "start_time": "2022-02-22T16:39:58.655Z"
   },
   {
    "duration": 11,
    "start_time": "2022-02-22T16:40:29.317Z"
   },
   {
    "duration": 10,
    "start_time": "2022-02-22T16:40:32.717Z"
   },
   {
    "duration": 3,
    "start_time": "2022-02-22T16:41:03.374Z"
   },
   {
    "duration": 18,
    "start_time": "2022-02-22T16:41:08.156Z"
   },
   {
    "duration": 14,
    "start_time": "2022-02-22T16:41:08.346Z"
   },
   {
    "duration": 14,
    "start_time": "2022-02-22T16:41:08.524Z"
   },
   {
    "duration": 15,
    "start_time": "2022-02-22T16:41:08.710Z"
   },
   {
    "duration": 24,
    "start_time": "2022-02-22T16:41:08.893Z"
   },
   {
    "duration": 14,
    "start_time": "2022-02-22T16:41:09.066Z"
   },
   {
    "duration": 8,
    "start_time": "2022-02-22T16:41:09.644Z"
   },
   {
    "duration": 12,
    "start_time": "2022-02-22T16:41:11.104Z"
   },
   {
    "duration": 10,
    "start_time": "2022-02-22T16:41:11.308Z"
   },
   {
    "duration": 4,
    "start_time": "2022-02-22T16:41:12.142Z"
   },
   {
    "duration": 4,
    "start_time": "2022-02-22T16:41:20.526Z"
   },
   {
    "duration": 20,
    "start_time": "2022-02-22T16:41:21.068Z"
   },
   {
    "duration": 13,
    "start_time": "2022-02-22T16:41:21.250Z"
   },
   {
    "duration": 19,
    "start_time": "2022-02-22T16:41:21.436Z"
   },
   {
    "duration": 15,
    "start_time": "2022-02-22T16:41:21.622Z"
   },
   {
    "duration": 25,
    "start_time": "2022-02-22T16:41:23.236Z"
   },
   {
    "duration": 5,
    "start_time": "2022-02-22T16:42:27.538Z"
   },
   {
    "duration": 14,
    "start_time": "2022-02-22T16:42:38.226Z"
   },
   {
    "duration": 5,
    "start_time": "2022-02-22T16:42:41.962Z"
   },
   {
    "duration": 4,
    "start_time": "2022-02-22T16:43:03.061Z"
   },
   {
    "duration": 2,
    "start_time": "2022-02-22T16:43:34.584Z"
   },
   {
    "duration": 125,
    "start_time": "2022-02-22T16:43:35.725Z"
   },
   {
    "duration": 10,
    "start_time": "2022-02-22T16:43:36.693Z"
   },
   {
    "duration": 22,
    "start_time": "2022-02-22T16:43:37.430Z"
   },
   {
    "duration": 4,
    "start_time": "2022-02-22T16:43:42.319Z"
   },
   {
    "duration": 20,
    "start_time": "2022-02-22T16:43:43.332Z"
   },
   {
    "duration": 4,
    "start_time": "2022-02-22T16:43:45.012Z"
   },
   {
    "duration": 23,
    "start_time": "2022-02-22T16:43:48.087Z"
   },
   {
    "duration": 15,
    "start_time": "2022-02-22T16:43:51.198Z"
   },
   {
    "duration": 22,
    "start_time": "2022-02-22T16:43:52.098Z"
   },
   {
    "duration": 59,
    "start_time": "2022-02-22T16:43:52.684Z"
   },
   {
    "duration": 57,
    "start_time": "2022-02-22T16:43:53.588Z"
   },
   {
    "duration": 48,
    "start_time": "2022-02-22T16:43:54.242Z"
   },
   {
    "duration": 40,
    "start_time": "2022-02-22T16:43:55.157Z"
   },
   {
    "duration": 3,
    "start_time": "2022-02-22T16:43:56.738Z"
   },
   {
    "duration": 9,
    "start_time": "2022-02-22T16:43:59.717Z"
   },
   {
    "duration": 37,
    "start_time": "2022-02-22T16:44:03.752Z"
   },
   {
    "duration": 11,
    "start_time": "2022-02-22T16:44:06.777Z"
   },
   {
    "duration": 10,
    "start_time": "2022-02-22T16:44:08.489Z"
   },
   {
    "duration": 3,
    "start_time": "2022-02-22T16:44:10.075Z"
   },
   {
    "duration": 16,
    "start_time": "2022-02-22T16:44:10.976Z"
   },
   {
    "duration": 15,
    "start_time": "2022-02-22T16:44:11.422Z"
   },
   {
    "duration": 14,
    "start_time": "2022-02-22T16:44:11.638Z"
   },
   {
    "duration": 14,
    "start_time": "2022-02-22T16:44:11.841Z"
   },
   {
    "duration": 17,
    "start_time": "2022-02-22T16:44:12.033Z"
   },
   {
    "duration": 14,
    "start_time": "2022-02-22T16:44:12.224Z"
   },
   {
    "duration": 8,
    "start_time": "2022-02-22T16:44:12.847Z"
   },
   {
    "duration": 12,
    "start_time": "2022-02-22T16:44:14.947Z"
   },
   {
    "duration": 9,
    "start_time": "2022-02-22T16:44:15.175Z"
   },
   {
    "duration": 4,
    "start_time": "2022-02-22T16:44:16.197Z"
   },
   {
    "duration": 21,
    "start_time": "2022-02-22T16:44:35.998Z"
   },
   {
    "duration": 13,
    "start_time": "2022-02-22T16:44:36.207Z"
   },
   {
    "duration": 19,
    "start_time": "2022-02-22T16:44:36.518Z"
   },
   {
    "duration": 13,
    "start_time": "2022-02-22T16:44:36.771Z"
   },
   {
    "duration": 23,
    "start_time": "2022-02-22T16:44:38.631Z"
   },
   {
    "duration": 5,
    "start_time": "2022-02-22T16:44:39.911Z"
   },
   {
    "duration": 653,
    "start_time": "2022-02-22T17:15:24.061Z"
   },
   {
    "duration": 161,
    "start_time": "2022-02-22T17:15:24.716Z"
   },
   {
    "duration": 19,
    "start_time": "2022-02-22T17:15:24.879Z"
   },
   {
    "duration": 28,
    "start_time": "2022-02-22T17:15:24.900Z"
   },
   {
    "duration": 5,
    "start_time": "2022-02-22T17:15:24.931Z"
   },
   {
    "duration": 46,
    "start_time": "2022-02-22T17:15:24.937Z"
   },
   {
    "duration": 8,
    "start_time": "2022-02-22T17:15:24.985Z"
   },
   {
    "duration": 30,
    "start_time": "2022-02-22T17:15:24.996Z"
   },
   {
    "duration": 22,
    "start_time": "2022-02-22T17:15:25.028Z"
   },
   {
    "duration": 38,
    "start_time": "2022-02-22T17:15:25.051Z"
   },
   {
    "duration": 79,
    "start_time": "2022-02-22T17:15:25.091Z"
   },
   {
    "duration": 97,
    "start_time": "2022-02-22T17:15:25.172Z"
   },
   {
    "duration": 60,
    "start_time": "2022-02-22T17:15:25.271Z"
   },
   {
    "duration": 58,
    "start_time": "2022-02-22T17:15:25.333Z"
   },
   {
    "duration": 8,
    "start_time": "2022-02-22T17:15:25.393Z"
   },
   {
    "duration": 14,
    "start_time": "2022-02-22T17:15:25.403Z"
   },
   {
    "duration": 53,
    "start_time": "2022-02-22T17:15:25.419Z"
   },
   {
    "duration": 14,
    "start_time": "2022-02-22T17:15:25.473Z"
   },
   {
    "duration": 12,
    "start_time": "2022-02-22T17:15:25.489Z"
   },
   {
    "duration": 9,
    "start_time": "2022-02-22T17:15:25.504Z"
   },
   {
    "duration": 36,
    "start_time": "2022-02-22T17:15:25.515Z"
   },
   {
    "duration": 18,
    "start_time": "2022-02-22T17:15:25.568Z"
   },
   {
    "duration": 16,
    "start_time": "2022-02-22T17:15:25.591Z"
   },
   {
    "duration": 16,
    "start_time": "2022-02-22T17:15:25.610Z"
   },
   {
    "duration": 49,
    "start_time": "2022-02-22T17:15:25.628Z"
   },
   {
    "duration": 17,
    "start_time": "2022-02-22T17:15:25.679Z"
   },
   {
    "duration": 9,
    "start_time": "2022-02-22T17:15:25.698Z"
   },
   {
    "duration": 23,
    "start_time": "2022-02-22T17:15:25.709Z"
   },
   {
    "duration": 37,
    "start_time": "2022-02-22T17:15:25.734Z"
   },
   {
    "duration": 5,
    "start_time": "2022-02-22T17:15:25.773Z"
   },
   {
    "duration": 30,
    "start_time": "2022-02-22T17:15:25.780Z"
   },
   {
    "duration": 15,
    "start_time": "2022-02-22T17:15:25.812Z"
   },
   {
    "duration": 48,
    "start_time": "2022-02-22T17:15:25.829Z"
   },
   {
    "duration": 13,
    "start_time": "2022-02-22T17:15:25.878Z"
   },
   {
    "duration": 24,
    "start_time": "2022-02-22T17:15:25.893Z"
   },
   {
    "duration": 5,
    "start_time": "2022-02-22T17:15:25.919Z"
   },
   {
    "duration": 43,
    "start_time": "2022-02-22T17:15:25.926Z"
   },
   {
    "duration": 6,
    "start_time": "2022-02-22T17:15:25.971Z"
   },
   {
    "duration": 427,
    "start_time": "2022-06-03T11:31:22.948Z"
   },
   {
    "duration": 229,
    "start_time": "2022-06-03T11:31:23.377Z"
   },
   {
    "duration": 16,
    "start_time": "2022-06-03T11:31:23.608Z"
   },
   {
    "duration": 33,
    "start_time": "2022-06-03T11:31:23.626Z"
   },
   {
    "duration": 5,
    "start_time": "2022-06-03T11:31:23.661Z"
   },
   {
    "duration": 18,
    "start_time": "2022-06-03T11:31:23.668Z"
   },
   {
    "duration": 15,
    "start_time": "2022-06-03T11:31:23.688Z"
   },
   {
    "duration": 40,
    "start_time": "2022-06-03T11:31:23.704Z"
   },
   {
    "duration": 24,
    "start_time": "2022-06-03T11:31:23.746Z"
   },
   {
    "duration": 23,
    "start_time": "2022-06-03T11:31:23.772Z"
   },
   {
    "duration": 85,
    "start_time": "2022-06-03T11:31:23.797Z"
   },
   {
    "duration": 84,
    "start_time": "2022-06-03T11:31:23.884Z"
   },
   {
    "duration": 64,
    "start_time": "2022-06-03T11:31:23.970Z"
   },
   {
    "duration": 41,
    "start_time": "2022-06-03T11:31:24.037Z"
   },
   {
    "duration": 3,
    "start_time": "2022-06-03T11:31:24.079Z"
   },
   {
    "duration": 17,
    "start_time": "2022-06-03T11:31:24.084Z"
   },
   {
    "duration": 62,
    "start_time": "2022-06-03T11:31:24.102Z"
   },
   {
    "duration": 12,
    "start_time": "2022-06-03T11:31:24.167Z"
   },
   {
    "duration": 11,
    "start_time": "2022-06-03T11:31:24.181Z"
   },
   {
    "duration": 3,
    "start_time": "2022-06-03T11:31:24.194Z"
   },
   {
    "duration": 19,
    "start_time": "2022-06-03T11:31:24.226Z"
   },
   {
    "duration": 15,
    "start_time": "2022-06-03T11:31:24.246Z"
   },
   {
    "duration": 15,
    "start_time": "2022-06-03T11:31:24.263Z"
   },
   {
    "duration": 48,
    "start_time": "2022-06-03T11:31:24.279Z"
   },
   {
    "duration": 18,
    "start_time": "2022-06-03T11:31:24.329Z"
   },
   {
    "duration": 17,
    "start_time": "2022-06-03T11:31:24.348Z"
   },
   {
    "duration": 10,
    "start_time": "2022-06-03T11:31:24.367Z"
   },
   {
    "duration": 50,
    "start_time": "2022-06-03T11:31:24.379Z"
   },
   {
    "duration": 30,
    "start_time": "2022-06-03T11:31:24.431Z"
   },
   {
    "duration": 6,
    "start_time": "2022-06-03T11:31:24.464Z"
   },
   {
    "duration": 45,
    "start_time": "2022-06-03T11:31:24.472Z"
   },
   {
    "duration": 17,
    "start_time": "2022-06-03T11:31:24.519Z"
   },
   {
    "duration": 34,
    "start_time": "2022-06-03T11:31:24.539Z"
   },
   {
    "duration": 17,
    "start_time": "2022-06-03T11:31:24.575Z"
   },
   {
    "duration": 41,
    "start_time": "2022-06-03T11:31:24.594Z"
   },
   {
    "duration": 5,
    "start_time": "2022-06-03T11:31:24.637Z"
   },
   {
    "duration": 40,
    "start_time": "2022-06-03T11:31:24.645Z"
   },
   {
    "duration": 26,
    "start_time": "2022-06-03T11:31:24.689Z"
   },
   {
    "duration": 3,
    "start_time": "2022-06-03T11:31:29.477Z"
   },
   {
    "duration": 200,
    "start_time": "2022-06-03T11:31:30.090Z"
   },
   {
    "duration": 11,
    "start_time": "2022-06-03T11:31:30.669Z"
   },
   {
    "duration": 35,
    "start_time": "2022-06-03T11:31:31.393Z"
   },
   {
    "duration": 4,
    "start_time": "2022-06-03T11:31:33.019Z"
   },
   {
    "duration": 14,
    "start_time": "2022-06-03T11:31:34.488Z"
   },
   {
    "duration": 4,
    "start_time": "2022-06-03T11:31:36.967Z"
   },
   {
    "duration": 25,
    "start_time": "2022-06-03T11:31:39.808Z"
   },
   {
    "duration": 21,
    "start_time": "2022-06-03T11:31:43.024Z"
   },
   {
    "duration": 25,
    "start_time": "2022-06-03T11:31:45.066Z"
   },
   {
    "duration": 64,
    "start_time": "2022-06-03T11:31:51.299Z"
   },
   {
    "duration": 64,
    "start_time": "2022-06-03T11:32:11.286Z"
   }
  ],
  "colab": {
   "collapsed_sections": [
    "E0vqbgi9ay0H",
    "VUC88oWjTJw2"
   ],
   "name": "yandex_music_project_2021.2.ipynb",
   "provenance": []
  },
  "kernelspec": {
   "display_name": "Python 3 (ipykernel)",
   "language": "python",
   "name": "python3"
  },
  "language_info": {
   "codemirror_mode": {
    "name": "ipython",
    "version": 3
   },
   "file_extension": ".py",
   "mimetype": "text/x-python",
   "name": "python",
   "nbconvert_exporter": "python",
   "pygments_lexer": "ipython3",
   "version": "3.9.12"
  },
  "toc": {
   "base_numbering": 1,
   "nav_menu": {
    "height": "537.997px",
    "width": "286.009px"
   },
   "number_sections": true,
   "sideBar": true,
   "skip_h1_title": true,
   "title_cell": "Содержание",
   "title_sidebar": "Contents",
   "toc_cell": true,
   "toc_position": {
    "height": "calc(100% - 180px)",
    "left": "10px",
    "top": "150px",
    "width": "331.449px"
   },
   "toc_section_display": true,
   "toc_window_display": true
  }
 },
 "nbformat": 4,
 "nbformat_minor": 1
}
