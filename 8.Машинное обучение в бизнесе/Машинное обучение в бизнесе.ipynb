{
 "cells": [
  {
   "cell_type": "markdown",
   "metadata": {},
   "source": [
    "<div style=\"border: 1px solid #CCCCFF; border-radius: 1px;\">\n",
    "<div style=\"margin: 5px\">\n",
    "<b class=\"alert-heading\">Комментарий ревьюера</b>\n",
    "<p>Привет!</p>\n",
    "<p>Меня зовут Ильющенко Иван, и я буду проверять твой проект. Предлагаю общаться на «ты», но если комфортнее на «вы» — дай знать :) Моя задача — не указывать на ошибки, а поделиться своим опытом и помочь тебе на пути к новым знаниям.</p>  \n",
    "  \n",
    "<p>Мои комментарии в твоем проекте будут выглядеть вот так:</p>\n",
    "\n",
    "<div class=\"alert alert-success\" role=\"alert\">\n",
    "Зеленым цветом с пометкой «ОК» отмечены удачные и элегантные решения, на которые можно опираться в будущих проектах.\n",
    "</div>\n",
    "<div class=\"alert alert-warning\" role=\"alert\">\n",
    "Жёлтым цветом с пометкой «Можно лучше» выделено то, что в следующий раз можно сделать по-другому. Ты можешь учесть эти комментарии при выполнении будущих заданий или доработать проект сейчас (однако это не обязательно).\n",
    "</div>\n",
    "<div class=\"alert alert-danger\" role=\"alert\">\n",
    "Красным цветом с пометкой «Стоит доработать» помечены аспекты, требующие твоего внимания. После их доработки проект будет принят.\n",
    "</div>\n",
    "<div class=\"alert alert-info\">\n",
    "Голубым цветом без пометок выделены информационные и резюмирующие комментарии.\n",
    "</div>\n",
    "\n",
    "<hr>\n",
    "<p>Предлагаю работать в диалоге: если ты что-то меняешь в проекте — пиши об этом. Выбери для своих комментариев какой-нибудь заметный цвет. Пожалуйста, не перемещай, не изменяй и не удаляй мои комментарии. Всё это поможет выполнить повторную проверку твоего проекта оперативнее.</p>"
   ]
  },
  {
   "cell_type": "markdown",
   "metadata": {},
   "source": [
    "# Выбор локации для скважины"
   ]
  },
  {
   "cell_type": "markdown",
   "metadata": {},
   "source": [
    "Допустим, вы работаете в добывающей компании «ГлавРосГосНефть». Нужно решить, где бурить новую скважину.\n",
    "\n",
    "Вам предоставлены пробы нефти в трёх регионах: в каждом 10 000 месторождений, где измерили качество нефти и объём её запасов. Постройте модель машинного обучения, которая поможет определить регион, где добыча принесёт наибольшую прибыль. Проанализируйте возможную прибыль и риски техникой *Bootstrap.*\n",
    "\n",
    "Шаги для выбора локации:\n",
    "\n",
    "- В избранном регионе ищут месторождения, для каждого определяют значения признаков;\n",
    "- Строят модель и оценивают объём запасов;\n",
    "- Выбирают месторождения с самым высокими оценками значений. Количество месторождений зависит от бюджета компании и стоимости разработки одной скважины;\n",
    "- Прибыль равна суммарной прибыли отобранных месторождений."
   ]
  },
  {
   "cell_type": "markdown",
   "metadata": {},
   "source": [
    "## Загрузка и подготовка данных"
   ]
  },
  {
   "cell_type": "markdown",
   "metadata": {},
   "source": [
    "импортируем необходимые библиотеки и сохраним данные геологоразведки трёх регионов:"
   ]
  },
  {
   "cell_type": "code",
   "execution_count": 1,
   "metadata": {},
   "outputs": [],
   "source": [
    "import pandas as pd\n",
    "import numpy as np\n",
    "from sklearn.model_selection import train_test_split\n",
    "from sklearn.linear_model import LinearRegression\n",
    "from sklearn.metrics import mean_squared_error"
   ]
  },
  {
   "cell_type": "code",
   "execution_count": 2,
   "metadata": {},
   "outputs": [],
   "source": [
    "try:\n",
    "    data0=pd.read_csv('geo_data_0.csv')\n",
    "    data1=pd.read_csv('geo_data_1.csv')\n",
    "    data2=pd.read_csv('geo_data_2.csv')\n",
    "except FileNotFoundError:\n",
    "    data0=pd.read_csv('/datasets/geo_data_0.csv')\n",
    "    data1=pd.read_csv('/datasets/geo_data_1.csv')\n",
    "    data2=pd.read_csv('/datasets/geo_data_2.csv')"
   ]
  },
  {
   "cell_type": "markdown",
   "metadata": {},
   "source": [
    "выведем первые 5 строк таблицы:"
   ]
  },
  {
   "cell_type": "code",
   "execution_count": 3,
   "metadata": {},
   "outputs": [
    {
     "data": {
      "text/html": [
       "<div>\n",
       "<style scoped>\n",
       "    .dataframe tbody tr th:only-of-type {\n",
       "        vertical-align: middle;\n",
       "    }\n",
       "\n",
       "    .dataframe tbody tr th {\n",
       "        vertical-align: top;\n",
       "    }\n",
       "\n",
       "    .dataframe thead th {\n",
       "        text-align: right;\n",
       "    }\n",
       "</style>\n",
       "<table border=\"1\" class=\"dataframe\">\n",
       "  <thead>\n",
       "    <tr style=\"text-align: right;\">\n",
       "      <th></th>\n",
       "      <th>id</th>\n",
       "      <th>f0</th>\n",
       "      <th>f1</th>\n",
       "      <th>f2</th>\n",
       "      <th>product</th>\n",
       "    </tr>\n",
       "  </thead>\n",
       "  <tbody>\n",
       "    <tr>\n",
       "      <th>0</th>\n",
       "      <td>txEyH</td>\n",
       "      <td>0.705745</td>\n",
       "      <td>-0.497823</td>\n",
       "      <td>1.221170</td>\n",
       "      <td>105.280062</td>\n",
       "    </tr>\n",
       "    <tr>\n",
       "      <th>1</th>\n",
       "      <td>2acmU</td>\n",
       "      <td>1.334711</td>\n",
       "      <td>-0.340164</td>\n",
       "      <td>4.365080</td>\n",
       "      <td>73.037750</td>\n",
       "    </tr>\n",
       "    <tr>\n",
       "      <th>2</th>\n",
       "      <td>409Wp</td>\n",
       "      <td>1.022732</td>\n",
       "      <td>0.151990</td>\n",
       "      <td>1.419926</td>\n",
       "      <td>85.265647</td>\n",
       "    </tr>\n",
       "    <tr>\n",
       "      <th>3</th>\n",
       "      <td>iJLyR</td>\n",
       "      <td>-0.032172</td>\n",
       "      <td>0.139033</td>\n",
       "      <td>2.978566</td>\n",
       "      <td>168.620776</td>\n",
       "    </tr>\n",
       "    <tr>\n",
       "      <th>4</th>\n",
       "      <td>Xdl7t</td>\n",
       "      <td>1.988431</td>\n",
       "      <td>0.155413</td>\n",
       "      <td>4.751769</td>\n",
       "      <td>154.036647</td>\n",
       "    </tr>\n",
       "  </tbody>\n",
       "</table>\n",
       "</div>"
      ],
      "text/plain": [
       "      id        f0        f1        f2     product\n",
       "0  txEyH  0.705745 -0.497823  1.221170  105.280062\n",
       "1  2acmU  1.334711 -0.340164  4.365080   73.037750\n",
       "2  409Wp  1.022732  0.151990  1.419926   85.265647\n",
       "3  iJLyR -0.032172  0.139033  2.978566  168.620776\n",
       "4  Xdl7t  1.988431  0.155413  4.751769  154.036647"
      ]
     },
     "execution_count": 3,
     "metadata": {},
     "output_type": "execute_result"
    }
   ],
   "source": [
    "data0.head()"
   ]
  },
  {
   "cell_type": "code",
   "execution_count": 4,
   "metadata": {},
   "outputs": [
    {
     "data": {
      "text/html": [
       "<div>\n",
       "<style scoped>\n",
       "    .dataframe tbody tr th:only-of-type {\n",
       "        vertical-align: middle;\n",
       "    }\n",
       "\n",
       "    .dataframe tbody tr th {\n",
       "        vertical-align: top;\n",
       "    }\n",
       "\n",
       "    .dataframe thead th {\n",
       "        text-align: right;\n",
       "    }\n",
       "</style>\n",
       "<table border=\"1\" class=\"dataframe\">\n",
       "  <thead>\n",
       "    <tr style=\"text-align: right;\">\n",
       "      <th></th>\n",
       "      <th>id</th>\n",
       "      <th>f0</th>\n",
       "      <th>f1</th>\n",
       "      <th>f2</th>\n",
       "      <th>product</th>\n",
       "    </tr>\n",
       "  </thead>\n",
       "  <tbody>\n",
       "    <tr>\n",
       "      <th>0</th>\n",
       "      <td>kBEdx</td>\n",
       "      <td>-15.001348</td>\n",
       "      <td>-8.276000</td>\n",
       "      <td>-0.005876</td>\n",
       "      <td>3.179103</td>\n",
       "    </tr>\n",
       "    <tr>\n",
       "      <th>1</th>\n",
       "      <td>62mP7</td>\n",
       "      <td>14.272088</td>\n",
       "      <td>-3.475083</td>\n",
       "      <td>0.999183</td>\n",
       "      <td>26.953261</td>\n",
       "    </tr>\n",
       "    <tr>\n",
       "      <th>2</th>\n",
       "      <td>vyE1P</td>\n",
       "      <td>6.263187</td>\n",
       "      <td>-5.948386</td>\n",
       "      <td>5.001160</td>\n",
       "      <td>134.766305</td>\n",
       "    </tr>\n",
       "    <tr>\n",
       "      <th>3</th>\n",
       "      <td>KcrkZ</td>\n",
       "      <td>-13.081196</td>\n",
       "      <td>-11.506057</td>\n",
       "      <td>4.999415</td>\n",
       "      <td>137.945408</td>\n",
       "    </tr>\n",
       "    <tr>\n",
       "      <th>4</th>\n",
       "      <td>AHL4O</td>\n",
       "      <td>12.702195</td>\n",
       "      <td>-8.147433</td>\n",
       "      <td>5.004363</td>\n",
       "      <td>134.766305</td>\n",
       "    </tr>\n",
       "  </tbody>\n",
       "</table>\n",
       "</div>"
      ],
      "text/plain": [
       "      id         f0         f1        f2     product\n",
       "0  kBEdx -15.001348  -8.276000 -0.005876    3.179103\n",
       "1  62mP7  14.272088  -3.475083  0.999183   26.953261\n",
       "2  vyE1P   6.263187  -5.948386  5.001160  134.766305\n",
       "3  KcrkZ -13.081196 -11.506057  4.999415  137.945408\n",
       "4  AHL4O  12.702195  -8.147433  5.004363  134.766305"
      ]
     },
     "execution_count": 4,
     "metadata": {},
     "output_type": "execute_result"
    }
   ],
   "source": [
    "data1.head()"
   ]
  },
  {
   "cell_type": "code",
   "execution_count": 5,
   "metadata": {},
   "outputs": [
    {
     "data": {
      "text/html": [
       "<div>\n",
       "<style scoped>\n",
       "    .dataframe tbody tr th:only-of-type {\n",
       "        vertical-align: middle;\n",
       "    }\n",
       "\n",
       "    .dataframe tbody tr th {\n",
       "        vertical-align: top;\n",
       "    }\n",
       "\n",
       "    .dataframe thead th {\n",
       "        text-align: right;\n",
       "    }\n",
       "</style>\n",
       "<table border=\"1\" class=\"dataframe\">\n",
       "  <thead>\n",
       "    <tr style=\"text-align: right;\">\n",
       "      <th></th>\n",
       "      <th>id</th>\n",
       "      <th>f0</th>\n",
       "      <th>f1</th>\n",
       "      <th>f2</th>\n",
       "      <th>product</th>\n",
       "    </tr>\n",
       "  </thead>\n",
       "  <tbody>\n",
       "    <tr>\n",
       "      <th>0</th>\n",
       "      <td>fwXo0</td>\n",
       "      <td>-1.146987</td>\n",
       "      <td>0.963328</td>\n",
       "      <td>-0.828965</td>\n",
       "      <td>27.758673</td>\n",
       "    </tr>\n",
       "    <tr>\n",
       "      <th>1</th>\n",
       "      <td>WJtFt</td>\n",
       "      <td>0.262778</td>\n",
       "      <td>0.269839</td>\n",
       "      <td>-2.530187</td>\n",
       "      <td>56.069697</td>\n",
       "    </tr>\n",
       "    <tr>\n",
       "      <th>2</th>\n",
       "      <td>ovLUW</td>\n",
       "      <td>0.194587</td>\n",
       "      <td>0.289035</td>\n",
       "      <td>-5.586433</td>\n",
       "      <td>62.871910</td>\n",
       "    </tr>\n",
       "    <tr>\n",
       "      <th>3</th>\n",
       "      <td>q6cA6</td>\n",
       "      <td>2.236060</td>\n",
       "      <td>-0.553760</td>\n",
       "      <td>0.930038</td>\n",
       "      <td>114.572842</td>\n",
       "    </tr>\n",
       "    <tr>\n",
       "      <th>4</th>\n",
       "      <td>WPMUX</td>\n",
       "      <td>-0.515993</td>\n",
       "      <td>1.716266</td>\n",
       "      <td>5.899011</td>\n",
       "      <td>149.600746</td>\n",
       "    </tr>\n",
       "  </tbody>\n",
       "</table>\n",
       "</div>"
      ],
      "text/plain": [
       "      id        f0        f1        f2     product\n",
       "0  fwXo0 -1.146987  0.963328 -0.828965   27.758673\n",
       "1  WJtFt  0.262778  0.269839 -2.530187   56.069697\n",
       "2  ovLUW  0.194587  0.289035 -5.586433   62.871910\n",
       "3  q6cA6  2.236060 -0.553760  0.930038  114.572842\n",
       "4  WPMUX -0.515993  1.716266  5.899011  149.600746"
      ]
     },
     "execution_count": 5,
     "metadata": {},
     "output_type": "execute_result"
    }
   ],
   "source": [
    "data2.head()"
   ]
  },
  {
   "cell_type": "markdown",
   "metadata": {},
   "source": [
    "и выведем информацию о данных:"
   ]
  },
  {
   "cell_type": "code",
   "execution_count": 6,
   "metadata": {},
   "outputs": [
    {
     "name": "stdout",
     "output_type": "stream",
     "text": [
      "<class 'pandas.core.frame.DataFrame'>\n",
      "RangeIndex: 100000 entries, 0 to 99999\n",
      "Data columns (total 5 columns):\n",
      " #   Column   Non-Null Count   Dtype  \n",
      "---  ------   --------------   -----  \n",
      " 0   id       100000 non-null  object \n",
      " 1   f0       100000 non-null  float64\n",
      " 2   f1       100000 non-null  float64\n",
      " 3   f2       100000 non-null  float64\n",
      " 4   product  100000 non-null  float64\n",
      "dtypes: float64(4), object(1)\n",
      "memory usage: 3.8+ MB\n"
     ]
    },
    {
     "data": {
      "text/plain": [
       "None"
      ]
     },
     "metadata": {},
     "output_type": "display_data"
    }
   ],
   "source": [
    "display(data0.info())"
   ]
  },
  {
   "cell_type": "code",
   "execution_count": 7,
   "metadata": {},
   "outputs": [
    {
     "name": "stdout",
     "output_type": "stream",
     "text": [
      "<class 'pandas.core.frame.DataFrame'>\n",
      "RangeIndex: 100000 entries, 0 to 99999\n",
      "Data columns (total 5 columns):\n",
      " #   Column   Non-Null Count   Dtype  \n",
      "---  ------   --------------   -----  \n",
      " 0   id       100000 non-null  object \n",
      " 1   f0       100000 non-null  float64\n",
      " 2   f1       100000 non-null  float64\n",
      " 3   f2       100000 non-null  float64\n",
      " 4   product  100000 non-null  float64\n",
      "dtypes: float64(4), object(1)\n",
      "memory usage: 3.8+ MB\n"
     ]
    },
    {
     "data": {
      "text/plain": [
       "None"
      ]
     },
     "metadata": {},
     "output_type": "display_data"
    }
   ],
   "source": [
    "display(data1.info())"
   ]
  },
  {
   "cell_type": "code",
   "execution_count": 8,
   "metadata": {},
   "outputs": [
    {
     "name": "stdout",
     "output_type": "stream",
     "text": [
      "<class 'pandas.core.frame.DataFrame'>\n",
      "RangeIndex: 100000 entries, 0 to 99999\n",
      "Data columns (total 5 columns):\n",
      " #   Column   Non-Null Count   Dtype  \n",
      "---  ------   --------------   -----  \n",
      " 0   id       100000 non-null  object \n",
      " 1   f0       100000 non-null  float64\n",
      " 2   f1       100000 non-null  float64\n",
      " 3   f2       100000 non-null  float64\n",
      " 4   product  100000 non-null  float64\n",
      "dtypes: float64(4), object(1)\n",
      "memory usage: 3.8+ MB\n"
     ]
    },
    {
     "data": {
      "text/plain": [
       "None"
      ]
     },
     "metadata": {},
     "output_type": "display_data"
    }
   ],
   "source": [
    "display(data2.info())"
   ]
  },
  {
   "cell_type": "markdown",
   "metadata": {},
   "source": [
    "проверим данные на явные дубликаты:"
   ]
  },
  {
   "cell_type": "code",
   "execution_count": 9,
   "metadata": {},
   "outputs": [
    {
     "data": {
      "text/plain": [
       "0"
      ]
     },
     "execution_count": 9,
     "metadata": {},
     "output_type": "execute_result"
    }
   ],
   "source": [
    "data0.duplicated().sum()"
   ]
  },
  {
   "cell_type": "code",
   "execution_count": 10,
   "metadata": {},
   "outputs": [
    {
     "data": {
      "text/plain": [
       "0"
      ]
     },
     "execution_count": 10,
     "metadata": {},
     "output_type": "execute_result"
    }
   ],
   "source": [
    "data1.duplicated().sum()"
   ]
  },
  {
   "cell_type": "code",
   "execution_count": 11,
   "metadata": {},
   "outputs": [
    {
     "data": {
      "text/plain": [
       "0"
      ]
     },
     "execution_count": 11,
     "metadata": {},
     "output_type": "execute_result"
    }
   ],
   "source": [
    "data2.duplicated().sum()"
   ]
  },
  {
   "cell_type": "markdown",
   "metadata": {},
   "source": [
    "Проверим насколько перекошены данные в таблицах:"
   ]
  },
  {
   "cell_type": "code",
   "execution_count": 12,
   "metadata": {},
   "outputs": [
    {
     "data": {
      "text/plain": [
       "0.000000      1\n",
       "30.141653     1\n",
       "56.573577     1\n",
       "50.182301     1\n",
       "88.989990     1\n",
       "             ..\n",
       "146.560758    1\n",
       "155.729658    1\n",
       "27.829511     1\n",
       "85.382946     1\n",
       "154.424007    1\n",
       "Name: product, Length: 100000, dtype: int64"
      ]
     },
     "execution_count": 12,
     "metadata": {},
     "output_type": "execute_result"
    }
   ],
   "source": [
    "data0['product'].value_counts()"
   ]
  },
  {
   "cell_type": "code",
   "execution_count": 13,
   "metadata": {},
   "outputs": [
    {
     "data": {
      "text/plain": [
       "53.906522     8472\n",
       "26.953261     8468\n",
       "84.038886     8431\n",
       "57.085625     8390\n",
       "3.179103      8337\n",
       "80.859783     8320\n",
       "30.132364     8306\n",
       "134.766305    8304\n",
       "110.992147    8303\n",
       "0.000000      8235\n",
       "137.945408    8233\n",
       "107.813044    8201\n",
       "Name: product, dtype: int64"
      ]
     },
     "execution_count": 13,
     "metadata": {},
     "output_type": "execute_result"
    }
   ],
   "source": [
    "data1['product'].value_counts()"
   ]
  },
  {
   "cell_type": "code",
   "execution_count": 14,
   "metadata": {},
   "outputs": [
    {
     "data": {
      "text/plain": [
       "0.000000      1\n",
       "53.211205     1\n",
       "37.811021     1\n",
       "84.266951     1\n",
       "38.939298     1\n",
       "             ..\n",
       "122.326832    1\n",
       "34.629840     1\n",
       "3.577922      1\n",
       "0.937771      1\n",
       "49.640390     1\n",
       "Name: product, Length: 100000, dtype: int64"
      ]
     },
     "execution_count": 14,
     "metadata": {},
     "output_type": "execute_result"
    }
   ],
   "source": [
    "data2['product'].value_counts()"
   ]
  },
  {
   "cell_type": "markdown",
   "metadata": {},
   "source": [
    "в регионе №1 (data1) видно меньше всего различных значений, всего 12. "
   ]
  },
  {
   "cell_type": "markdown",
   "metadata": {},
   "source": [
    "пропусков не обнаружено, данные выгружаются без ошибок, разобьем данные на выборки для машинного обучения:"
   ]
  },
  {
   "cell_type": "markdown",
   "metadata": {},
   "source": [
    "<div class=\"alert alert-success\">\n",
    "<b class=\"alert-heading\"> Комментарий ревьюера: ОК</b>\n",
    "\n",
    "Есть описание и оглавление проекта, данные загружены и просмотрены, отлично! Можно чуть сократить объем повторяемого кода, если работать с одинаковыми датасетами в цикле/функциями. \n",
    "\n",
    "</div>"
   ]
  },
  {
   "cell_type": "markdown",
   "metadata": {},
   "source": [
    "## Обучение и проверка модели"
   ]
  },
  {
   "cell_type": "markdown",
   "metadata": {},
   "source": [
    "уберем из признаков столбец id. Он не нужен для обучения модели"
   ]
  },
  {
   "cell_type": "code",
   "execution_count": 15,
   "metadata": {},
   "outputs": [],
   "source": [
    "data0= data0.drop(['id'], axis=1)\n",
    "data1= data1.drop(['id'], axis=1)\n",
    "data2= data2.drop(['id'], axis=1)"
   ]
  },
  {
   "cell_type": "markdown",
   "metadata": {},
   "source": [
    "разобьем исходные данные  на обучающую и валидационную выборки в соотношении 75:25. "
   ]
  },
  {
   "cell_type": "code",
   "execution_count": 16,
   "metadata": {},
   "outputs": [
    {
     "name": "stdout",
     "output_type": "stream",
     "text": [
      "Регион №0:\n",
      "средний запас предсказанного сырья 92.39879990657768\n",
      "RMSE 37.75660035026169\n",
      "--------------------\n",
      "Регион №1:\n",
      "средний запас предсказанного сырья 68.71287803913762\n",
      "RMSE 0.890280100102884\n",
      "--------------------\n",
      "Регион №2:\n",
      "средний запас предсказанного сырья 94.77102387765939\n",
      "RMSE 40.145872311342174\n",
      "--------------------\n"
     ]
    }
   ],
   "source": [
    "dates=[data0,data1,data2]\n",
    "predictions=[]\n",
    "target=[]\n",
    "num=0\n",
    "for data in dates:\n",
    "    #разобьем исходные данные  на обучающую и валидационную выборки в соотношении 75:25. \n",
    "    data_train,data_valid = train_test_split(data, test_size=0.25, random_state=42)\n",
    "    #выделим признаки:\n",
    "    features_train = data_train.drop(['product'], axis=1)\n",
    "    #выделим целевой признак:\n",
    "    target_train = data_train['product']\n",
    "    #и аналогично для валидационной выборки:\n",
    "    features_valid = data_valid.drop(['product'], axis=1)\n",
    "    target_valid = data_valid['product']\n",
    "    \n",
    "    model=LinearRegression() \n",
    "    # обучим модель на тренировочной выборке\n",
    "    model.fit(features_train,target_train)\n",
    "    # получим предсказания модели на валидационной выборке\n",
    "    predictions_valid = model.predict(features_valid)\n",
    "    \n",
    "    #запишем предсказания в отдельный массив, они пригодятся в будущем\n",
    "    predictions.append(predictions_valid)\n",
    "    target.append(target_valid)\n",
    "    \n",
    "    mse = mean_squared_error(target_valid, predictions_valid)\n",
    "    rmse = mse ** 0.5\n",
    "    \n",
    "    \n",
    "    \n",
    "    print('Регион №'+str(num)+':')\n",
    "    print(\"средний запас предсказанного сырья \"+str(predictions_valid.mean()))\n",
    "    print(\"RMSE \"+str(rmse))\n",
    "    print(\"--------------------\")\n",
    "    num=num+1"
   ]
  },
  {
   "cell_type": "markdown",
   "metadata": {},
   "source": [
    "судя по показателю RMST лучше всего модель предсказывает во втором регионе."
   ]
  },
  {
   "cell_type": "code",
   "execution_count": 17,
   "metadata": {},
   "outputs": [],
   "source": [
    "predictions_data0=predictions[0]\n",
    "predictions_data1=predictions[1]\n",
    "predictions_data2=predictions[2]\n",
    "\n",
    "target_data0=target[0]\n",
    "target_data1=target[1]\n",
    "target_data2=target[2]"
   ]
  },
  {
   "cell_type": "code",
   "execution_count": 18,
   "metadata": {},
   "outputs": [],
   "source": [
    "predictions_data0 = pd.Series(predictions_data0) \n",
    "predictions_data1 = pd.Series(predictions_data1) \n",
    "predictions_data2 = pd.Series(predictions_data2) \n",
    "\n",
    "target_data0 = pd.Series(target_data0) \n",
    "target_data1 = pd.Series(target_data1) \n",
    "target_data2 = pd.Series(target_data2) \n",
    "\n"
   ]
  },
  {
   "cell_type": "code",
   "execution_count": 19,
   "metadata": {},
   "outputs": [
    {
     "name": "stdout",
     "output_type": "stream",
     "text": [
      "0    101.901017\n",
      "1     78.217774\n",
      "2    115.266901\n",
      "3    105.618618\n",
      "4     97.980185\n",
      "dtype: float64\n"
     ]
    }
   ],
   "source": [
    "print(predictions_data0.head())\n"
   ]
  },
  {
   "cell_type": "code",
   "execution_count": 20,
   "metadata": {},
   "outputs": [
    {
     "name": "stdout",
     "output_type": "stream",
     "text": [
      "0      0.844738\n",
      "1     52.921612\n",
      "2    135.110385\n",
      "3    109.494863\n",
      "4     -0.047292\n",
      "dtype: float64\n"
     ]
    }
   ],
   "source": [
    "print(predictions_data1.head())"
   ]
  },
  {
   "cell_type": "code",
   "execution_count": 21,
   "metadata": {},
   "outputs": [
    {
     "name": "stdout",
     "output_type": "stream",
     "text": [
      "0     98.301916\n",
      "1    101.592461\n",
      "2     52.449099\n",
      "3    109.922127\n",
      "4     72.411847\n",
      "dtype: float64\n"
     ]
    }
   ],
   "source": [
    "print(predictions_data2.head())"
   ]
  },
  {
   "cell_type": "markdown",
   "metadata": {},
   "source": [
    "<div class=\"alert alert-success\">\n",
    "<b class=\"alert-heading\"> Комментарий ревьюера: ОК</b>\n",
    "\n",
    "Модели обучены корректно. Можно попробовать выяснить с помощью анализа датасетов, почему в регионе №1 получилась такая маленькая ошибка.\n",
    "\n",
    "</div>"
   ]
  },
  {
   "cell_type": "markdown",
   "metadata": {},
   "source": [
    "## Подготовка к расчёту прибыли"
   ]
  },
  {
   "cell_type": "markdown",
   "metadata": {},
   "source": [
    "Все ключевые значения для расчётов прибыли сохраним в отдельных переменных"
   ]
  },
  {
   "cell_type": "code",
   "execution_count": 22,
   "metadata": {},
   "outputs": [],
   "source": [
    "#Бюджет на разработку скважин в регионе — 10 млрд рублей.\n",
    "BUDGET_DEVELOPMENT_IN_REGION=10000000000\n",
    "#При разведке региона исследуют 500 точек\n",
    "NUMBER_POINTS=500\n",
    "#из них 200 лучших для разработки.\n",
    "NUMBERS_BEST=200\n",
    "#один баррель сырья приносит 450000 рублей дохода\n",
    "PROFIT_PER_BARREL=450000\n",
    "# максимальная вероятность убытков \n",
    "loss_probability=0.025  "
   ]
  },
  {
   "cell_type": "markdown",
   "metadata": {},
   "source": [
    "<div class=\"alert alert-info\">\n",
    "<b class=\"alert-heading\"> Комментарий ревьюера</b>\n",
    "\n",
    "Согласно [PEP8](https://all-python.ru/osnovy/pep-8.html#konstanty) константы рекомендуется писать в верхнем регистре. Это упрощает работу тебе и твоим коллегам :)\n",
    "    \n",
    "</div>"
   ]
  },
  {
   "cell_type": "markdown",
   "metadata": {},
   "source": [
    "<div class=\"alert alert-info\"> <b>Комментарий студента:</b> Исправил на верхний регистр</div>"
   ]
  },
  {
   "cell_type": "markdown",
   "metadata": {},
   "source": [
    "<div class=\"alert alert-success\">\n",
    "<b class=\"alert-heading\"> Комментарий ревьюера V2: ОК</b>\n",
    "\n",
    "👍\n",
    "\n",
    "</div>"
   ]
  },
  {
   "cell_type": "markdown",
   "metadata": {},
   "source": [
    "рассчитаем достаточный объём сырья для безубыточной разработки новой скважины. Чтобы получить прибыль нужно количество скажен умножить на доход с одной вышки и умножить на количество баррелей в одной скажине. Расходы составляют 10 млрд. Значит формула для рассчета сырья такая:"
   ]
  },
  {
   "cell_type": "code",
   "execution_count": 23,
   "metadata": {},
   "outputs": [
    {
     "name": "stdout",
     "output_type": "stream",
     "text": [
      "111.11111111111111\n"
     ]
    }
   ],
   "source": [
    "min_barrel = BUDGET_DEVELOPMENT_IN_REGION / (PROFIT_PER_BARREL * NUMBERS_BEST)\n",
    "print(min_barrel)"
   ]
  },
  {
   "cell_type": "markdown",
   "metadata": {},
   "source": [
    "Иными словами чтобы разработать скважену без убытков нужно добыть как минимум 112 баррелей.Среднее предсказания объема нефти меньше этого 112. "
   ]
  },
  {
   "cell_type": "markdown",
   "metadata": {},
   "source": [
    "<div class=\"alert alert-success\">\n",
    "<b class=\"alert-heading\"> Комментарий ревьюера: ОК</b>\n",
    "\n",
    "Абсолютно верно. Можно вывести гистаграмму объемов по регионам, обозначив на них минимальный безубыточный объем вертикальной чертой.\n",
    "\n",
    "</div>"
   ]
  },
  {
   "cell_type": "markdown",
   "metadata": {},
   "source": [
    "## Расчёт прибыли"
   ]
  },
  {
   "cell_type": "markdown",
   "metadata": {},
   "source": [
    "Напишем функцию для расчёта прибыли по лучшим 200 скважинам в регионе по предсказаниям модели:"
   ]
  },
  {
   "cell_type": "code",
   "execution_count": 24,
   "metadata": {},
   "outputs": [],
   "source": [
    "def profit(data):      \n",
    "    return data.sort_values(ascending=False).head(200).sum()*PROFIT_PER_BARREL-BUDGET_DEVELOPMENT_IN_REGION"
   ]
  },
  {
   "cell_type": "markdown",
   "metadata": {},
   "source": [
    "<div class=\"alert alert-success\">\n",
    "<b class=\"alert-heading\"> Комментарий ревьюера: ОК</b>\n",
    "\n",
    "Коротко и ясно :)\n",
    "\n",
    "</div>"
   ]
  },
  {
   "cell_type": "markdown",
   "metadata": {},
   "source": [
    "## Расчёт рисков "
   ]
  },
  {
   "cell_type": "markdown",
   "metadata": {},
   "source": [
    "перед применением техники Bootstrap напишем функцию `revenue` которая принимает 3 аргумента: target(истинные значения 'product'), probabilities (предсказания). Функция возвращает прибыль "
   ]
  },
  {
   "cell_type": "code",
   "execution_count": 25,
   "metadata": {},
   "outputs": [],
   "source": [
    "def revenue(target, probabilities):\n",
    "    well_best = probabilities.sort_values(ascending = False).head(NUMBERS_BEST).index\n",
    "    income = target[well_best].sum() * PROFIT_PER_BARREL\n",
    "    revenue_total = income - BUDGET_DEVELOPMENT_IN_REGION\n",
    "    return revenue_total"
   ]
  },
  {
   "cell_type": "markdown",
   "metadata": {},
   "source": [
    "<div class=\"alert alert-info\"> <b>Комментарий студента:</b> я думаю подразумевалось что эту функцию нужно было написать в пункте 4. Но функцию profit написал так, как понял задание. </div>"
   ]
  },
  {
   "cell_type": "markdown",
   "metadata": {},
   "source": [
    "<div class=\"alert alert-success\">\n",
    "<b class=\"alert-heading\"> Комментарий ревьюера: ОК</b>\n",
    "\n",
    "Главное, чтобы работало и было читаемо :) Можно весь пайплайн организовать чуть проще: предсказанные на этапе 2 значения записать в новый столбец валидационных датафреймов. Тогда можно сортировать сразу весь датафрейм, и не нужно дополнительно работать с индексами.\n",
    "\n",
    "</div>"
   ]
  },
  {
   "cell_type": "code",
   "execution_count": 26,
   "metadata": {},
   "outputs": [],
   "source": [
    "def Bootstrap(target, probabilities):\n",
    "    state = np.random.RandomState(12345)   \n",
    "    values = []\n",
    "    for i in range(1000):\n",
    "        target_subsample = target.reset_index(drop=True).sample(n=NUMBER_POINTS,replace=True,random_state=state)\n",
    "        probs_subsample = probabilities[target_subsample.index] \n",
    "        values.append(revenue(target_subsample, probs_subsample))\n",
    "\n",
    "    values = pd.Series(values)\n",
    "    lower = values.quantile(0.025)\n",
    "    upper = values.quantile(0.975)\n",
    "    \n",
    "    mean = values.mean()\n",
    "    risk = (values < 0).sum() / values.count() *100\n",
    "    print(\"Средняя прибыль:\", mean)\n",
    "    print(\"Доверительный интервал:\", lower,\":\",upper)\n",
    "    print(\"риск убытков:\", risk) "
   ]
  },
  {
   "cell_type": "code",
   "execution_count": 27,
   "metadata": {},
   "outputs": [
    {
     "name": "stdout",
     "output_type": "stream",
     "text": [
      "Средняя прибыль: 615047004.3942593\n",
      "Доверительный интервал: -20884982.29624209 : 1239730575.9180634\n",
      "риск убытков: 3.0\n"
     ]
    }
   ],
   "source": [
    "Bootstrap(target_data0, predictions_data0)"
   ]
  },
  {
   "cell_type": "code",
   "execution_count": 28,
   "metadata": {},
   "outputs": [
    {
     "name": "stdout",
     "output_type": "stream",
     "text": [
      "Средняя прибыль: 639637181.1031598\n",
      "Доверительный интервал: 142332783.31613287 : 1195489473.2361748\n",
      "риск убытков: 0.4\n"
     ]
    }
   ],
   "source": [
    "Bootstrap(target_data1, predictions_data1)"
   ]
  },
  {
   "cell_type": "code",
   "execution_count": 29,
   "metadata": {},
   "outputs": [
    {
     "name": "stdout",
     "output_type": "stream",
     "text": [
      "Средняя прибыль: 587106344.7958661\n",
      "Доверительный интервал: -8459142.891548958 : 1283241366.0123456\n",
      "риск убытков: 2.6\n"
     ]
    }
   ],
   "source": [
    "Bootstrap(target_data2, predictions_data2)"
   ]
  },
  {
   "cell_type": "markdown",
   "metadata": {},
   "source": [
    "Риск ниже 2.5% только в Регионе№1"
   ]
  },
  {
   "cell_type": "markdown",
   "metadata": {},
   "source": [
    "<div class=\"alert alert-info\"> <b>Комментарий студента:</b> что то не явно не так с функцией revenue. Не могу найти ошибку :(</div>"
   ]
  },
  {
   "cell_type": "markdown",
   "metadata": {},
   "source": [
    "<div class=\"alert alert-danger\">\n",
    "<b class=\"alert-heading\"> Комментарий ревьюера: стоит доработать </b>\n",
    "\n",
    "С функцией ``revenue`` как раз все верно. А вот в ``Bootstrap`` ты сэмплишь 25 точек, тогда как нужно ``numbers_points``. Естественно, 25 точек не могут окупить бюджет в 10 млрд, поэтому риск убытков всегда 100%.\n",
    "    \n",
    "А все остальное выполнено правильно.\n",
    "    \n",
    "</div>"
   ]
  },
  {
   "cell_type": "markdown",
   "metadata": {},
   "source": [
    "<div class=\"alert alert-info\">\n",
    "<b class=\"alert-heading\"> Комментарий ревьюера: заключение</b>\n",
    "\n",
    "\n",
    "Отличная работа! Прошу тебя:\n",
    "1. Поправить ``Bootstrap``.\n",
    "2. Дописать финальный вывод.\n",
    "    \n",
    "И проект будет принят :)\n",
    "\n",
    "\n",
    "</div>"
   ]
  },
  {
   "cell_type": "markdown",
   "metadata": {},
   "source": [
    "<div class=\"alert alert-info\"> <b>Комментарий студента:</b> Готово! Спасибо! Подскажи пожалуйства почему мы пользуемся все равно точными данными из target при рассчете? в чем тогда смысл модели машинного обучения состояит?</div>"
   ]
  },
  {
   "cell_type": "markdown",
   "metadata": {},
   "source": [
    "<div class=\"alert alert-info\">\n",
    "<b class=\"alert-heading\"> Комментарий ревьюера V2: заключение</b>\n",
    "\n",
    "\n",
    "Скажем так, это упрощенная симуляция действительности. Этапы следующие:\n",
    "1. Обучили модель, которая определяет запасы месторождения по неким признакам.\n",
    "2. Геологи принесли данные по новому региону. Там только f0, f1, f2, признака product там нет. Причем из всего региона геологи смогли разведать только 500 точек (предполагаем, что случайно выбранных из всего множества доступных точек).\n",
    "3. Мы применили нашу модель, получили предсказания. На основе этих предсказаний, из 500 точек выбрали 200 потенциально самых прибыльных.\n",
    "4. Нефтяники радостно кидаются разрабатывать эти месторождения. В процессе разработки становится ясным реальный product.\n",
    "5. Считаем реальную прибыль с наших 200 месторождений.\n",
    "6. Радуемся или расстраиваемся, зависит от обстоятельств.\n",
    "7. Залазим в машину времени, летим в пункт 2, причем в этой версии альтернативной реальности геологи разведали другие 500 точек.\n",
    "8. Повторяем 3-7 еще 1000 раз.\n",
    "    \n",
    "Поскольку машины времени у нас нет, алгоритм бесполезен. Но мы внесем один корректив. Поскольку регион мы уже разрабатываем, и в регионе уже найдено 10000 месторождений, то мы можем предположить, что случайно выбрав 500 случайных точек из уже разработанных, мы получим примерно такие же точки, как если бы мы реально разведали 500 новых точек. А значит, всю историю мы можем просимулировать на компьютере без машины времени и можем примерно оценить риски при разработке новых точек. В этом и смысл бутстрэпа.\n",
    "\n",
    "Спасибо за работу по моим комментариям. Теперь проект выглядит здорово и я могу его принять :) Желаю успехов в учебе!\n",
    "\n",
    "\n",
    "</div>"
   ]
  },
  {
   "cell_type": "markdown",
   "metadata": {},
   "source": [
    "## Вывод"
   ]
  },
  {
   "cell_type": "markdown",
   "metadata": {},
   "source": [
    "В ходе работы мы изучили данные данные геологоразведки трёх регионов. Для каждого региона была обучена модель с помощью линейной регрессии. Был рассчитан минимальный запас нефти в скажине для безубыточнсти разработки скважин. Из случайных 500 скважин были выбраны лучшие 200 и с помощью техники Bootstrap были подсчитаны средняя прибыль, доверительный интервал и риск убытков. Вероятность убытков меньше допустимого значения только в регионе номер 1. Компании «ГлавРосГосНефть» рекомендуется этот регион для дальнейшей разработки."
   ]
  },
  {
   "cell_type": "markdown",
   "metadata": {},
   "source": [
    "## Чек-лист готовности проекта"
   ]
  },
  {
   "cell_type": "markdown",
   "metadata": {},
   "source": [
    "Поставьте 'x' в выполненных пунктах. Далее нажмите Shift+Enter."
   ]
  },
  {
   "cell_type": "markdown",
   "metadata": {},
   "source": [
    "- [x]  Jupyter Notebook открыт\n",
    "- [ ]  Весь код выполняется без ошибок\n",
    "- [ ]  Ячейки с кодом расположены в порядке исполнения\n",
    "- [ ]  Выполнен шаг 1: данные подготовлены\n",
    "- [ ]  Выполнен шаг 2: модели обучены и проверены\n",
    "    - [ ]  Данные корректно разбиты на обучающую и валидационную выборки\n",
    "    - [ ]  Модели обучены, предсказания сделаны\n",
    "    - [ ]  Предсказания и правильные ответы на валидационной выборке сохранены\n",
    "    - [ ]  На экране напечатаны результаты\n",
    "    - [ ]  Сделаны выводы\n",
    "- [ ]  Выполнен шаг 3: проведена подготовка к расчёту прибыли\n",
    "    - [ ]  Для всех ключевых значений созданы константы Python\n",
    "    - [ ]  Посчитано минимальное среднее количество продукта в месторождениях региона, достаточное для разработки\n",
    "    - [ ]  По предыдущему пункту сделаны выводы\n",
    "    - [ ]  Написана функция расчёта прибыли\n",
    "- [ ]  Выполнен шаг 4: посчитаны риски и прибыль\n",
    "    - [ ]  Проведена процедура *Bootstrap*\n",
    "    - [ ]  Все параметры бутстрепа соответствуют условию\n",
    "    - [ ]  Найдены все нужные величины\n",
    "    - [ ]  Предложен регион для разработки месторождения\n",
    "    - [ ]  Выбор региона обоснован"
   ]
  },
  {
   "cell_type": "code",
   "execution_count": null,
   "metadata": {},
   "outputs": [],
   "source": []
  }
 ],
 "metadata": {
  "ExecuteTimeLog": [
   {
    "duration": 369,
    "start_time": "2022-06-28T21:24:03.219Z"
   },
   {
    "duration": 38,
    "start_time": "2022-06-28T21:24:03.590Z"
   },
   {
    "duration": 20,
    "start_time": "2022-06-28T21:24:04.486Z"
   },
   {
    "duration": 631,
    "start_time": "2022-06-28T21:29:06.153Z"
   },
   {
    "duration": 8,
    "start_time": "2022-06-28T21:29:07.973Z"
   },
   {
    "duration": 283,
    "start_time": "2022-06-28T21:29:41.051Z"
   },
   {
    "duration": 9,
    "start_time": "2022-06-28T21:29:41.410Z"
   },
   {
    "duration": 8,
    "start_time": "2022-06-28T21:30:04.028Z"
   },
   {
    "duration": 8,
    "start_time": "2022-06-28T21:30:04.197Z"
   },
   {
    "duration": 9,
    "start_time": "2022-06-28T21:30:04.996Z"
   },
   {
    "duration": 16,
    "start_time": "2022-06-28T21:30:47.053Z"
   },
   {
    "duration": 15,
    "start_time": "2022-06-28T21:30:47.292Z"
   },
   {
    "duration": 13,
    "start_time": "2022-06-28T21:30:48.637Z"
   },
   {
    "duration": 38,
    "start_time": "2022-06-28T21:31:08.549Z"
   },
   {
    "duration": 66,
    "start_time": "2022-06-28T21:31:14.220Z"
   },
   {
    "duration": 39,
    "start_time": "2022-06-28T21:40:14.233Z"
   },
   {
    "duration": 46,
    "start_time": "2022-06-28T21:40:14.420Z"
   },
   {
    "duration": 37,
    "start_time": "2022-06-28T21:40:14.630Z"
   },
   {
    "duration": 54,
    "start_time": "2022-06-28T21:57:21.201Z"
   },
   {
    "duration": 609,
    "start_time": "2022-06-28T22:00:41.970Z"
   },
   {
    "duration": 315,
    "start_time": "2022-06-28T22:18:39.616Z"
   },
   {
    "duration": 354,
    "start_time": "2022-06-28T22:18:45.145Z"
   },
   {
    "duration": 836,
    "start_time": "2022-06-28T22:22:13.415Z"
   },
   {
    "duration": 12,
    "start_time": "2022-06-28T22:22:27.141Z"
   },
   {
    "duration": 3,
    "start_time": "2022-06-28T22:22:36.697Z"
   },
   {
    "duration": 314,
    "start_time": "2022-06-28T22:22:36.889Z"
   },
   {
    "duration": 8,
    "start_time": "2022-06-28T22:22:37.285Z"
   },
   {
    "duration": 8,
    "start_time": "2022-06-28T22:22:37.705Z"
   },
   {
    "duration": 8,
    "start_time": "2022-06-28T22:22:37.935Z"
   },
   {
    "duration": 14,
    "start_time": "2022-06-28T22:22:38.381Z"
   },
   {
    "duration": 13,
    "start_time": "2022-06-28T22:22:39.045Z"
   },
   {
    "duration": 15,
    "start_time": "2022-06-28T22:22:40.333Z"
   },
   {
    "duration": 36,
    "start_time": "2022-06-28T22:22:42.277Z"
   },
   {
    "duration": 34,
    "start_time": "2022-06-28T22:22:42.510Z"
   },
   {
    "duration": 37,
    "start_time": "2022-06-28T22:22:42.664Z"
   },
   {
    "duration": 13,
    "start_time": "2022-06-28T22:22:45.381Z"
   },
   {
    "duration": 7,
    "start_time": "2022-06-28T22:23:08.370Z"
   },
   {
    "duration": 11,
    "start_time": "2022-06-28T22:29:18.988Z"
   },
   {
    "duration": 7,
    "start_time": "2022-06-28T22:29:22.624Z"
   },
   {
    "duration": 11,
    "start_time": "2022-06-28T22:29:33.173Z"
   },
   {
    "duration": 6,
    "start_time": "2022-06-28T22:29:39.040Z"
   },
   {
    "duration": 2,
    "start_time": "2022-06-28T22:39:11.545Z"
   },
   {
    "duration": 337,
    "start_time": "2022-06-28T22:39:11.905Z"
   },
   {
    "duration": 8,
    "start_time": "2022-06-28T22:39:12.617Z"
   },
   {
    "duration": 9,
    "start_time": "2022-06-28T22:39:12.866Z"
   },
   {
    "duration": 9,
    "start_time": "2022-06-28T22:39:13.095Z"
   },
   {
    "duration": 17,
    "start_time": "2022-06-28T22:39:13.589Z"
   },
   {
    "duration": 14,
    "start_time": "2022-06-28T22:39:13.832Z"
   },
   {
    "duration": 14,
    "start_time": "2022-06-28T22:39:14.066Z"
   },
   {
    "duration": 49,
    "start_time": "2022-06-28T22:39:14.504Z"
   },
   {
    "duration": 34,
    "start_time": "2022-06-28T22:39:14.717Z"
   },
   {
    "duration": 40,
    "start_time": "2022-06-28T22:39:17.430Z"
   },
   {
    "duration": 8,
    "start_time": "2022-06-28T22:39:17.941Z"
   },
   {
    "duration": 14,
    "start_time": "2022-06-28T22:39:26.321Z"
   },
   {
    "duration": 6,
    "start_time": "2022-06-28T22:39:30.664Z"
   },
   {
    "duration": 55,
    "start_time": "2022-06-28T22:43:30.440Z"
   },
   {
    "duration": 18,
    "start_time": "2022-06-28T22:43:35.478Z"
   },
   {
    "duration": 23,
    "start_time": "2022-06-28T22:43:40.503Z"
   },
   {
    "duration": 19,
    "start_time": "2022-06-28T22:44:04.014Z"
   },
   {
    "duration": 21,
    "start_time": "2022-06-28T22:45:20.332Z"
   },
   {
    "duration": 13,
    "start_time": "2022-06-28T22:46:34.014Z"
   },
   {
    "duration": 5,
    "start_time": "2022-06-28T22:46:56.096Z"
   },
   {
    "duration": 4,
    "start_time": "2022-06-28T22:47:08.277Z"
   },
   {
    "duration": 8,
    "start_time": "2022-06-28T22:49:38.327Z"
   },
   {
    "duration": 342,
    "start_time": "2022-06-28T22:49:46.079Z"
   },
   {
    "duration": 10,
    "start_time": "2022-06-28T22:49:46.919Z"
   },
   {
    "duration": 9,
    "start_time": "2022-06-28T22:49:47.119Z"
   },
   {
    "duration": 9,
    "start_time": "2022-06-28T22:49:52.079Z"
   },
   {
    "duration": 14,
    "start_time": "2022-06-28T22:49:52.471Z"
   },
   {
    "duration": 14,
    "start_time": "2022-06-28T22:49:52.647Z"
   },
   {
    "duration": 14,
    "start_time": "2022-06-28T22:49:52.865Z"
   },
   {
    "duration": 45,
    "start_time": "2022-06-28T22:49:53.264Z"
   },
   {
    "duration": 39,
    "start_time": "2022-06-28T22:49:53.479Z"
   },
   {
    "duration": 40,
    "start_time": "2022-06-28T22:49:53.672Z"
   },
   {
    "duration": 3,
    "start_time": "2022-06-28T22:49:53.867Z"
   },
   {
    "duration": 3,
    "start_time": "2022-06-28T22:49:59.242Z"
   },
   {
    "duration": 12,
    "start_time": "2022-06-28T22:50:06.793Z"
   },
   {
    "duration": 11,
    "start_time": "2022-06-28T22:50:09.527Z"
   },
   {
    "duration": 16,
    "start_time": "2022-06-28T22:50:24.903Z"
   },
   {
    "duration": 9,
    "start_time": "2022-06-28T22:59:43.512Z"
   },
   {
    "duration": 3,
    "start_time": "2022-06-28T22:59:57.714Z"
   },
   {
    "duration": 350,
    "start_time": "2022-06-28T22:59:57.721Z"
   },
   {
    "duration": 9,
    "start_time": "2022-06-28T22:59:58.073Z"
   },
   {
    "duration": 12,
    "start_time": "2022-06-28T22:59:58.083Z"
   },
   {
    "duration": 10,
    "start_time": "2022-06-28T22:59:58.097Z"
   },
   {
    "duration": 18,
    "start_time": "2022-06-28T22:59:58.109Z"
   },
   {
    "duration": 35,
    "start_time": "2022-06-28T22:59:58.128Z"
   },
   {
    "duration": 14,
    "start_time": "2022-06-28T22:59:58.165Z"
   },
   {
    "duration": 70,
    "start_time": "2022-06-28T22:59:58.181Z"
   },
   {
    "duration": 39,
    "start_time": "2022-06-28T22:59:58.253Z"
   },
   {
    "duration": 60,
    "start_time": "2022-06-28T22:59:58.294Z"
   },
   {
    "duration": 13,
    "start_time": "2022-06-28T22:59:58.356Z"
   },
   {
    "duration": 8,
    "start_time": "2022-06-28T22:59:58.371Z"
   },
   {
    "duration": 11,
    "start_time": "2022-06-28T22:59:58.382Z"
   },
   {
    "duration": 10,
    "start_time": "2022-06-28T23:00:39.034Z"
   },
   {
    "duration": 2,
    "start_time": "2022-06-28T23:02:03.968Z"
   },
   {
    "duration": 360,
    "start_time": "2022-06-28T23:02:04.136Z"
   },
   {
    "duration": 11,
    "start_time": "2022-06-28T23:02:04.531Z"
   },
   {
    "duration": 9,
    "start_time": "2022-06-28T23:02:04.704Z"
   },
   {
    "duration": 8,
    "start_time": "2022-06-28T23:02:04.880Z"
   },
   {
    "duration": 15,
    "start_time": "2022-06-28T23:02:05.232Z"
   },
   {
    "duration": 14,
    "start_time": "2022-06-28T23:02:05.424Z"
   },
   {
    "duration": 15,
    "start_time": "2022-06-28T23:02:05.608Z"
   },
   {
    "duration": 41,
    "start_time": "2022-06-28T23:02:06.192Z"
   },
   {
    "duration": 38,
    "start_time": "2022-06-28T23:02:06.864Z"
   },
   {
    "duration": 41,
    "start_time": "2022-06-28T23:02:07.064Z"
   },
   {
    "duration": 12,
    "start_time": "2022-06-28T23:02:08.833Z"
   },
   {
    "duration": 10,
    "start_time": "2022-06-28T23:02:09.272Z"
   },
   {
    "duration": 9,
    "start_time": "2022-06-28T23:02:10.119Z"
   },
   {
    "duration": 8,
    "start_time": "2022-06-28T23:02:39.091Z"
   },
   {
    "duration": 3,
    "start_time": "2022-06-28T23:02:46.647Z"
   },
   {
    "duration": 5,
    "start_time": "2022-06-28T23:03:33.626Z"
   },
   {
    "duration": 3,
    "start_time": "2022-06-28T23:04:12.207Z"
   },
   {
    "duration": 5,
    "start_time": "2022-06-28T23:04:42.471Z"
   },
   {
    "duration": 5,
    "start_time": "2022-06-28T23:04:46.471Z"
   },
   {
    "duration": 5,
    "start_time": "2022-06-28T23:04:54.672Z"
   },
   {
    "duration": 5,
    "start_time": "2022-06-28T23:05:08.617Z"
   },
   {
    "duration": 4,
    "start_time": "2022-06-28T23:05:19.794Z"
   },
   {
    "duration": 9,
    "start_time": "2022-06-28T23:05:30.618Z"
   },
   {
    "duration": 31,
    "start_time": "2022-06-28T23:05:44.626Z"
   },
   {
    "duration": 31,
    "start_time": "2022-06-28T23:05:59.650Z"
   },
   {
    "duration": 21,
    "start_time": "2022-06-28T23:06:26.064Z"
   },
   {
    "duration": 22,
    "start_time": "2022-06-28T23:06:41.965Z"
   },
   {
    "duration": 19,
    "start_time": "2022-06-28T23:08:40.851Z"
   },
   {
    "duration": 26,
    "start_time": "2022-06-28T23:09:00.427Z"
   },
   {
    "duration": 23,
    "start_time": "2022-06-28T23:09:28.523Z"
   },
   {
    "duration": 6,
    "start_time": "2022-06-28T23:09:34.609Z"
   },
   {
    "duration": 23,
    "start_time": "2022-06-28T23:09:38.811Z"
   },
   {
    "duration": 6,
    "start_time": "2022-06-28T23:09:39.001Z"
   },
   {
    "duration": 74,
    "start_time": "2022-06-28T23:18:13.577Z"
   },
   {
    "duration": 26,
    "start_time": "2022-06-28T23:24:13.491Z"
   },
   {
    "duration": 3,
    "start_time": "2022-06-28T23:24:40.811Z"
   },
   {
    "duration": 382,
    "start_time": "2022-06-28T23:24:49.367Z"
   },
   {
    "duration": 10,
    "start_time": "2022-06-28T23:24:50.731Z"
   },
   {
    "duration": 11,
    "start_time": "2022-06-28T23:24:50.968Z"
   },
   {
    "duration": 10,
    "start_time": "2022-06-28T23:24:51.135Z"
   },
   {
    "duration": 18,
    "start_time": "2022-06-28T23:24:51.507Z"
   },
   {
    "duration": 17,
    "start_time": "2022-06-28T23:24:51.706Z"
   },
   {
    "duration": 16,
    "start_time": "2022-06-28T23:24:51.915Z"
   },
   {
    "duration": 53,
    "start_time": "2022-06-28T23:24:52.283Z"
   },
   {
    "duration": 45,
    "start_time": "2022-06-28T23:24:52.499Z"
   },
   {
    "duration": 48,
    "start_time": "2022-06-28T23:24:52.699Z"
   },
   {
    "duration": 13,
    "start_time": "2022-06-28T23:24:53.965Z"
   },
   {
    "duration": 14,
    "start_time": "2022-06-28T23:24:54.411Z"
   },
   {
    "duration": 155,
    "start_time": "2022-06-28T23:24:55.499Z"
   },
   {
    "duration": 26,
    "start_time": "2022-06-28T23:30:46.611Z"
   },
   {
    "duration": 56,
    "start_time": "2022-06-28T23:30:57.950Z"
   },
   {
    "duration": 55,
    "start_time": "2022-06-28T23:31:29.594Z"
   },
   {
    "duration": 28,
    "start_time": "2022-06-28T23:31:40.010Z"
   },
   {
    "duration": 68,
    "start_time": "2022-06-28T23:31:59.665Z"
   },
   {
    "duration": 57,
    "start_time": "2022-06-28T23:32:10.186Z"
   },
   {
    "duration": 60,
    "start_time": "2022-06-28T23:32:15.938Z"
   },
   {
    "duration": 64,
    "start_time": "2022-06-28T23:32:32.217Z"
   },
   {
    "duration": 75,
    "start_time": "2022-06-28T23:32:58.490Z"
   },
   {
    "duration": 54,
    "start_time": "2022-06-28T23:33:46.443Z"
   },
   {
    "duration": 10,
    "start_time": "2022-06-28T23:35:15.871Z"
   },
   {
    "duration": 50,
    "start_time": "2022-06-28T23:37:21.243Z"
   },
   {
    "duration": 54,
    "start_time": "2022-06-28T23:37:58.481Z"
   },
   {
    "duration": 54,
    "start_time": "2022-06-28T23:38:17.229Z"
   },
   {
    "duration": 274,
    "start_time": "2022-06-28T23:45:33.593Z"
   },
   {
    "duration": 392,
    "start_time": "2022-06-28T23:45:45.566Z"
   },
   {
    "duration": 335,
    "start_time": "2022-06-28T23:46:37.123Z"
   },
   {
    "duration": 36,
    "start_time": "2022-06-28T23:48:30.917Z"
   },
   {
    "duration": 112,
    "start_time": "2022-06-28T23:49:00.241Z"
   },
   {
    "duration": 65,
    "start_time": "2022-06-28T23:49:09.289Z"
   },
   {
    "duration": 383,
    "start_time": "2022-06-28T23:49:48.373Z"
   },
   {
    "duration": 30,
    "start_time": "2022-06-28T23:50:07.231Z"
   },
   {
    "duration": 375,
    "start_time": "2022-06-28T23:50:17.277Z"
   },
   {
    "duration": 47,
    "start_time": "2022-06-28T23:51:12.207Z"
   },
   {
    "duration": 363,
    "start_time": "2022-06-28T23:51:18.394Z"
   },
   {
    "duration": 3,
    "start_time": "2022-06-28T23:55:53.548Z"
   },
   {
    "duration": 444,
    "start_time": "2022-06-28T23:56:20.514Z"
   },
   {
    "duration": 342,
    "start_time": "2022-06-28T23:56:39.518Z"
   },
   {
    "duration": 336,
    "start_time": "2022-06-28T23:56:51.134Z"
   },
   {
    "duration": 386,
    "start_time": "2022-06-28T23:57:05.172Z"
   },
   {
    "duration": 389,
    "start_time": "2022-06-28T23:57:23.565Z"
   },
   {
    "duration": 458,
    "start_time": "2022-06-28T23:57:38.593Z"
   },
   {
    "duration": 366,
    "start_time": "2022-06-28T23:58:00.686Z"
   },
   {
    "duration": 350,
    "start_time": "2022-06-28T23:58:16.302Z"
   },
   {
    "duration": 320,
    "start_time": "2022-06-28T23:58:27.434Z"
   },
   {
    "duration": 299,
    "start_time": "2022-06-28T23:58:36.265Z"
   },
   {
    "duration": 49,
    "start_time": "2022-06-28T23:58:52.914Z"
   },
   {
    "duration": 244,
    "start_time": "2022-06-28T23:58:59.218Z"
   },
   {
    "duration": 328,
    "start_time": "2022-06-28T23:59:46.338Z"
   },
   {
    "duration": 345,
    "start_time": "2022-06-28T23:59:52.207Z"
   },
   {
    "duration": 408,
    "start_time": "2022-06-28T23:59:58.846Z"
   },
   {
    "duration": 328,
    "start_time": "2022-06-29T00:00:29.336Z"
   },
   {
    "duration": 69,
    "start_time": "2022-06-29T00:00:35.476Z"
   },
   {
    "duration": 267,
    "start_time": "2022-06-29T00:00:42.296Z"
   },
   {
    "duration": 270,
    "start_time": "2022-06-29T00:00:54.691Z"
   },
   {
    "duration": 346,
    "start_time": "2022-06-29T00:01:16.307Z"
   },
   {
    "duration": 367,
    "start_time": "2022-06-29T00:01:25.287Z"
   },
   {
    "duration": 1282,
    "start_time": "2022-06-29T17:27:02.532Z"
   },
   {
    "duration": 768,
    "start_time": "2022-06-29T17:27:03.816Z"
   },
   {
    "duration": 26,
    "start_time": "2022-06-29T17:27:04.585Z"
   },
   {
    "duration": 14,
    "start_time": "2022-06-29T17:27:04.614Z"
   },
   {
    "duration": 20,
    "start_time": "2022-06-29T17:27:04.630Z"
   },
   {
    "duration": 32,
    "start_time": "2022-06-29T17:27:04.651Z"
   },
   {
    "duration": 18,
    "start_time": "2022-06-29T17:27:04.684Z"
   },
   {
    "duration": 20,
    "start_time": "2022-06-29T17:27:04.703Z"
   },
   {
    "duration": 87,
    "start_time": "2022-06-29T17:27:04.725Z"
   },
   {
    "duration": 59,
    "start_time": "2022-06-29T17:27:04.814Z"
   },
   {
    "duration": 48,
    "start_time": "2022-06-29T17:27:04.875Z"
   },
   {
    "duration": 13,
    "start_time": "2022-06-29T17:27:04.926Z"
   },
   {
    "duration": 34,
    "start_time": "2022-06-29T17:27:04.941Z"
   },
   {
    "duration": 393,
    "start_time": "2022-06-29T17:27:04.977Z"
   },
   {
    "duration": 12,
    "start_time": "2022-06-29T17:46:05.397Z"
   },
   {
    "duration": 6,
    "start_time": "2022-06-29T17:46:06.037Z"
   },
   {
    "duration": 13,
    "start_time": "2022-06-29T17:46:06.862Z"
   },
   {
    "duration": 99,
    "start_time": "2022-06-29T18:05:33.749Z"
   },
   {
    "duration": 210,
    "start_time": "2022-06-29T18:05:38.967Z"
   },
   {
    "duration": 3,
    "start_time": "2022-06-29T18:29:43.069Z"
   },
   {
    "duration": 2,
    "start_time": "2022-06-29T19:18:33.336Z"
   },
   {
    "duration": 3,
    "start_time": "2022-06-29T19:18:34.139Z"
   },
   {
    "duration": 3,
    "start_time": "2022-06-29T19:19:33.827Z"
   },
   {
    "duration": 4,
    "start_time": "2022-06-29T19:19:34.811Z"
   },
   {
    "duration": 2,
    "start_time": "2022-06-29T19:37:10.314Z"
   },
   {
    "duration": 3,
    "start_time": "2022-06-29T19:37:11.053Z"
   },
   {
    "duration": 2,
    "start_time": "2022-06-29T19:37:36.540Z"
   },
   {
    "duration": 4,
    "start_time": "2022-06-29T20:21:34.465Z"
   },
   {
    "duration": 5,
    "start_time": "2022-06-29T20:33:10.930Z"
   },
   {
    "duration": 3,
    "start_time": "2022-06-29T20:48:11.029Z"
   },
   {
    "duration": 365,
    "start_time": "2022-06-29T20:48:11.038Z"
   },
   {
    "duration": 10,
    "start_time": "2022-06-29T20:48:11.405Z"
   },
   {
    "duration": 12,
    "start_time": "2022-06-29T20:48:11.417Z"
   },
   {
    "duration": 12,
    "start_time": "2022-06-29T20:48:11.431Z"
   },
   {
    "duration": 17,
    "start_time": "2022-06-29T20:48:11.469Z"
   },
   {
    "duration": 16,
    "start_time": "2022-06-29T20:48:11.487Z"
   },
   {
    "duration": 15,
    "start_time": "2022-06-29T20:48:11.505Z"
   },
   {
    "duration": 98,
    "start_time": "2022-06-29T20:48:11.521Z"
   },
   {
    "duration": 78,
    "start_time": "2022-06-29T20:48:11.621Z"
   },
   {
    "duration": 49,
    "start_time": "2022-06-29T20:48:11.701Z"
   },
   {
    "duration": 24,
    "start_time": "2022-06-29T20:48:11.751Z"
   },
   {
    "duration": 7,
    "start_time": "2022-06-29T20:48:11.777Z"
   },
   {
    "duration": 7,
    "start_time": "2022-06-29T20:48:31.565Z"
   },
   {
    "duration": 20,
    "start_time": "2022-06-29T20:48:32.313Z"
   },
   {
    "duration": 15,
    "start_time": "2022-06-29T20:48:36.897Z"
   },
   {
    "duration": 47,
    "start_time": "2022-06-29T20:48:40.934Z"
   },
   {
    "duration": 36,
    "start_time": "2022-06-29T20:49:26.611Z"
   },
   {
    "duration": 92,
    "start_time": "2022-06-29T20:49:55.987Z"
   },
   {
    "duration": 97,
    "start_time": "2022-06-29T20:50:26.880Z"
   },
   {
    "duration": 31,
    "start_time": "2022-06-29T20:51:38.008Z"
   },
   {
    "duration": 53,
    "start_time": "2022-06-29T20:55:49.815Z"
   },
   {
    "duration": 181,
    "start_time": "2022-06-29T21:04:20.009Z"
   },
   {
    "duration": 4,
    "start_time": "2022-06-29T21:05:54.445Z"
   },
   {
    "duration": 12,
    "start_time": "2022-06-29T21:09:51.914Z"
   },
   {
    "duration": 5,
    "start_time": "2022-06-29T21:11:10.023Z"
   },
   {
    "duration": 3,
    "start_time": "2022-06-29T21:11:28.937Z"
   },
   {
    "duration": 555,
    "start_time": "2022-06-29T21:11:28.949Z"
   },
   {
    "duration": 15,
    "start_time": "2022-06-29T21:11:29.506Z"
   },
   {
    "duration": 14,
    "start_time": "2022-06-29T21:11:29.523Z"
   },
   {
    "duration": 31,
    "start_time": "2022-06-29T21:11:29.539Z"
   },
   {
    "duration": 81,
    "start_time": "2022-06-29T21:11:29.573Z"
   },
   {
    "duration": 18,
    "start_time": "2022-06-29T21:11:29.656Z"
   },
   {
    "duration": 39,
    "start_time": "2022-06-29T21:11:29.675Z"
   },
   {
    "duration": 77,
    "start_time": "2022-06-29T21:11:29.715Z"
   },
   {
    "duration": 74,
    "start_time": "2022-06-29T21:11:29.794Z"
   },
   {
    "duration": 56,
    "start_time": "2022-06-29T21:11:29.871Z"
   },
   {
    "duration": 14,
    "start_time": "2022-06-29T21:11:29.929Z"
   },
   {
    "duration": 8,
    "start_time": "2022-06-29T21:11:29.968Z"
   },
   {
    "duration": 34,
    "start_time": "2022-06-29T21:11:29.978Z"
   },
   {
    "duration": 12,
    "start_time": "2022-06-29T21:11:30.015Z"
   },
   {
    "duration": 154,
    "start_time": "2022-06-29T21:11:30.030Z"
   },
   {
    "duration": 0,
    "start_time": "2022-06-29T21:11:30.187Z"
   },
   {
    "duration": 0,
    "start_time": "2022-06-29T21:11:30.190Z"
   },
   {
    "duration": 0,
    "start_time": "2022-06-29T21:11:30.191Z"
   },
   {
    "duration": 1,
    "start_time": "2022-06-29T21:11:30.191Z"
   },
   {
    "duration": 0,
    "start_time": "2022-06-29T21:11:30.268Z"
   },
   {
    "duration": 385,
    "start_time": "2022-06-29T21:12:20.910Z"
   },
   {
    "duration": 5,
    "start_time": "2022-06-29T21:12:24.253Z"
   },
   {
    "duration": 11,
    "start_time": "2022-06-29T21:12:44.484Z"
   },
   {
    "duration": 3,
    "start_time": "2022-06-29T21:13:02.815Z"
   },
   {
    "duration": 3,
    "start_time": "2022-06-29T21:13:11.819Z"
   },
   {
    "duration": 391,
    "start_time": "2022-06-29T21:13:11.824Z"
   },
   {
    "duration": 12,
    "start_time": "2022-06-29T21:13:12.217Z"
   },
   {
    "duration": 31,
    "start_time": "2022-06-29T21:13:12.231Z"
   },
   {
    "duration": 31,
    "start_time": "2022-06-29T21:13:12.264Z"
   },
   {
    "duration": 24,
    "start_time": "2022-06-29T21:13:12.297Z"
   },
   {
    "duration": 20,
    "start_time": "2022-06-29T21:13:12.323Z"
   },
   {
    "duration": 27,
    "start_time": "2022-06-29T21:13:12.345Z"
   },
   {
    "duration": 50,
    "start_time": "2022-06-29T21:13:12.375Z"
   },
   {
    "duration": 61,
    "start_time": "2022-06-29T21:13:12.427Z"
   },
   {
    "duration": 41,
    "start_time": "2022-06-29T21:13:12.490Z"
   },
   {
    "duration": 35,
    "start_time": "2022-06-29T21:13:12.533Z"
   },
   {
    "duration": 7,
    "start_time": "2022-06-29T21:13:12.569Z"
   },
   {
    "duration": 28,
    "start_time": "2022-06-29T21:13:12.578Z"
   },
   {
    "duration": 13,
    "start_time": "2022-06-29T21:13:12.608Z"
   },
   {
    "duration": 248,
    "start_time": "2022-06-29T21:13:12.623Z"
   },
   {
    "duration": 19,
    "start_time": "2022-06-29T21:13:12.873Z"
   },
   {
    "duration": 0,
    "start_time": "2022-06-29T21:13:12.896Z"
   },
   {
    "duration": 0,
    "start_time": "2022-06-29T21:13:12.897Z"
   },
   {
    "duration": 0,
    "start_time": "2022-06-29T21:13:12.898Z"
   },
   {
    "duration": 0,
    "start_time": "2022-06-29T21:13:12.899Z"
   },
   {
    "duration": 0,
    "start_time": "2022-06-29T21:13:12.899Z"
   },
   {
    "duration": 3,
    "start_time": "2022-06-29T21:13:22.639Z"
   },
   {
    "duration": 3,
    "start_time": "2022-06-29T21:14:25.231Z"
   },
   {
    "duration": 554,
    "start_time": "2022-06-29T21:14:25.237Z"
   },
   {
    "duration": 14,
    "start_time": "2022-06-29T21:14:25.795Z"
   },
   {
    "duration": 38,
    "start_time": "2022-06-29T21:14:25.811Z"
   },
   {
    "duration": 24,
    "start_time": "2022-06-29T21:14:25.853Z"
   },
   {
    "duration": 49,
    "start_time": "2022-06-29T21:14:25.879Z"
   },
   {
    "duration": 22,
    "start_time": "2022-06-29T21:14:25.930Z"
   },
   {
    "duration": 28,
    "start_time": "2022-06-29T21:14:25.954Z"
   },
   {
    "duration": 87,
    "start_time": "2022-06-29T21:14:25.983Z"
   },
   {
    "duration": 72,
    "start_time": "2022-06-29T21:14:26.072Z"
   },
   {
    "duration": 81,
    "start_time": "2022-06-29T21:14:26.147Z"
   },
   {
    "duration": 18,
    "start_time": "2022-06-29T21:14:26.230Z"
   },
   {
    "duration": 16,
    "start_time": "2022-06-29T21:14:26.254Z"
   },
   {
    "duration": 47,
    "start_time": "2022-06-29T21:14:26.272Z"
   },
   {
    "duration": 14,
    "start_time": "2022-06-29T21:14:26.322Z"
   },
   {
    "duration": 550,
    "start_time": "2022-06-29T21:14:26.338Z"
   },
   {
    "duration": 5,
    "start_time": "2022-06-29T21:14:29.798Z"
   },
   {
    "duration": 4,
    "start_time": "2022-06-29T21:14:42.937Z"
   },
   {
    "duration": 3,
    "start_time": "2022-06-29T21:15:06.923Z"
   },
   {
    "duration": 373,
    "start_time": "2022-06-29T21:15:06.928Z"
   },
   {
    "duration": 8,
    "start_time": "2022-06-29T21:15:07.303Z"
   },
   {
    "duration": 14,
    "start_time": "2022-06-29T21:15:07.313Z"
   },
   {
    "duration": 11,
    "start_time": "2022-06-29T21:15:07.329Z"
   },
   {
    "duration": 43,
    "start_time": "2022-06-29T21:15:07.341Z"
   },
   {
    "duration": 20,
    "start_time": "2022-06-29T21:15:07.386Z"
   },
   {
    "duration": 18,
    "start_time": "2022-06-29T21:15:07.408Z"
   },
   {
    "duration": 107,
    "start_time": "2022-06-29T21:15:07.428Z"
   },
   {
    "duration": 81,
    "start_time": "2022-06-29T21:15:07.537Z"
   },
   {
    "duration": 51,
    "start_time": "2022-06-29T21:15:07.620Z"
   },
   {
    "duration": 14,
    "start_time": "2022-06-29T21:15:07.673Z"
   },
   {
    "duration": 15,
    "start_time": "2022-06-29T21:15:07.689Z"
   },
   {
    "duration": 13,
    "start_time": "2022-06-29T21:15:07.706Z"
   },
   {
    "duration": 11,
    "start_time": "2022-06-29T21:15:07.720Z"
   },
   {
    "duration": 256,
    "start_time": "2022-06-29T21:15:07.733Z"
   },
   {
    "duration": 77,
    "start_time": "2022-06-29T21:15:07.992Z"
   },
   {
    "duration": 98,
    "start_time": "2022-06-29T21:15:08.072Z"
   },
   {
    "duration": 19,
    "start_time": "2022-06-29T21:15:08.173Z"
   },
   {
    "duration": 13,
    "start_time": "2022-06-29T21:15:08.194Z"
   },
   {
    "duration": 8,
    "start_time": "2022-06-29T21:15:08.208Z"
   },
   {
    "duration": 7,
    "start_time": "2022-06-29T21:15:08.218Z"
   },
   {
    "duration": 9,
    "start_time": "2022-06-29T21:16:01.146Z"
   },
   {
    "duration": 10,
    "start_time": "2022-06-29T21:16:01.319Z"
   },
   {
    "duration": 8,
    "start_time": "2022-06-29T21:16:01.529Z"
   },
   {
    "duration": 3,
    "start_time": "2022-06-29T21:16:17.247Z"
   },
   {
    "duration": 4,
    "start_time": "2022-06-29T21:19:46.146Z"
   },
   {
    "duration": 4,
    "start_time": "2022-06-29T21:19:53.352Z"
   },
   {
    "duration": 6,
    "start_time": "2022-06-29T21:20:08.871Z"
   },
   {
    "duration": 5,
    "start_time": "2022-06-29T21:20:09.075Z"
   },
   {
    "duration": 4,
    "start_time": "2022-06-29T21:21:17.026Z"
   },
   {
    "duration": 8851,
    "start_time": "2022-06-29T21:21:17.625Z"
   },
   {
    "duration": 3,
    "start_time": "2022-06-29T21:21:40.574Z"
   },
   {
    "duration": 9247,
    "start_time": "2022-06-29T21:21:40.755Z"
   },
   {
    "duration": 4,
    "start_time": "2022-06-29T21:23:19.426Z"
   },
   {
    "duration": 14,
    "start_time": "2022-06-29T21:23:19.556Z"
   },
   {
    "duration": 3,
    "start_time": "2022-06-29T21:28:34.936Z"
   },
   {
    "duration": 3,
    "start_time": "2022-06-29T21:28:35.712Z"
   },
   {
    "duration": 7,
    "start_time": "2022-06-29T21:28:36.703Z"
   },
   {
    "duration": 4,
    "start_time": "2022-06-29T21:28:50.965Z"
   },
   {
    "duration": 3,
    "start_time": "2022-06-29T21:31:00.037Z"
   },
   {
    "duration": 553,
    "start_time": "2022-06-29T21:31:00.042Z"
   },
   {
    "duration": 10,
    "start_time": "2022-06-29T21:31:00.597Z"
   },
   {
    "duration": 36,
    "start_time": "2022-06-29T21:31:00.609Z"
   },
   {
    "duration": 53,
    "start_time": "2022-06-29T21:31:00.647Z"
   },
   {
    "duration": 40,
    "start_time": "2022-06-29T21:31:00.702Z"
   },
   {
    "duration": 33,
    "start_time": "2022-06-29T21:31:00.744Z"
   },
   {
    "duration": 37,
    "start_time": "2022-06-29T21:31:00.779Z"
   },
   {
    "duration": 65,
    "start_time": "2022-06-29T21:31:00.818Z"
   },
   {
    "duration": 51,
    "start_time": "2022-06-29T21:31:00.886Z"
   },
   {
    "duration": 71,
    "start_time": "2022-06-29T21:31:00.939Z"
   },
   {
    "duration": 12,
    "start_time": "2022-06-29T21:31:01.011Z"
   },
   {
    "duration": 9,
    "start_time": "2022-06-29T21:31:01.025Z"
   },
   {
    "duration": 39,
    "start_time": "2022-06-29T21:31:01.036Z"
   },
   {
    "duration": 8,
    "start_time": "2022-06-29T21:31:01.077Z"
   },
   {
    "duration": 202,
    "start_time": "2022-06-29T21:31:01.087Z"
   },
   {
    "duration": 3,
    "start_time": "2022-06-29T21:31:03.561Z"
   },
   {
    "duration": 3,
    "start_time": "2022-06-29T21:31:05.059Z"
   },
   {
    "duration": 66,
    "start_time": "2022-06-29T21:31:06.386Z"
   },
   {
    "duration": 4,
    "start_time": "2022-06-29T21:31:12.825Z"
   },
   {
    "duration": 4,
    "start_time": "2022-06-29T21:31:18.905Z"
   },
   {
    "duration": 3,
    "start_time": "2022-06-29T21:31:27.137Z"
   },
   {
    "duration": 3,
    "start_time": "2022-06-29T21:31:27.713Z"
   },
   {
    "duration": 5,
    "start_time": "2022-06-29T21:31:28.265Z"
   },
   {
    "duration": 4,
    "start_time": "2022-06-29T21:32:42.131Z"
   },
   {
    "duration": 372,
    "start_time": "2022-06-29T21:32:42.137Z"
   },
   {
    "duration": 9,
    "start_time": "2022-06-29T21:32:42.511Z"
   },
   {
    "duration": 12,
    "start_time": "2022-06-29T21:32:42.522Z"
   },
   {
    "duration": 12,
    "start_time": "2022-06-29T21:32:42.536Z"
   },
   {
    "duration": 24,
    "start_time": "2022-06-29T21:32:42.568Z"
   },
   {
    "duration": 15,
    "start_time": "2022-06-29T21:32:42.594Z"
   },
   {
    "duration": 14,
    "start_time": "2022-06-29T21:32:42.611Z"
   },
   {
    "duration": 88,
    "start_time": "2022-06-29T21:32:42.627Z"
   },
   {
    "duration": 81,
    "start_time": "2022-06-29T21:32:42.717Z"
   },
   {
    "duration": 44,
    "start_time": "2022-06-29T21:32:42.800Z"
   },
   {
    "duration": 22,
    "start_time": "2022-06-29T21:32:42.846Z"
   },
   {
    "duration": 26,
    "start_time": "2022-06-29T21:32:42.870Z"
   },
   {
    "duration": 12,
    "start_time": "2022-06-29T21:32:42.898Z"
   },
   {
    "duration": 11,
    "start_time": "2022-06-29T21:32:42.912Z"
   },
   {
    "duration": 372,
    "start_time": "2022-06-29T21:32:42.925Z"
   },
   {
    "duration": 3,
    "start_time": "2022-06-29T21:32:58.948Z"
   },
   {
    "duration": 3,
    "start_time": "2022-06-29T21:33:01.025Z"
   },
   {
    "duration": 5,
    "start_time": "2022-06-29T21:33:02.338Z"
   },
   {
    "duration": 8,
    "start_time": "2022-06-29T21:34:09.685Z"
   },
   {
    "duration": 4,
    "start_time": "2022-06-29T21:34:25.592Z"
   },
   {
    "duration": 5,
    "start_time": "2022-06-29T21:34:26.440Z"
   },
   {
    "duration": 5,
    "start_time": "2022-06-29T21:34:28.398Z"
   },
   {
    "duration": 5,
    "start_time": "2022-06-29T21:34:29.122Z"
   },
   {
    "duration": 5,
    "start_time": "2022-06-29T21:35:22.845Z"
   },
   {
    "duration": 4,
    "start_time": "2022-06-29T21:35:29.220Z"
   },
   {
    "duration": 3,
    "start_time": "2022-06-29T21:35:46.521Z"
   },
   {
    "duration": 3,
    "start_time": "2022-06-29T21:35:47.236Z"
   },
   {
    "duration": 7,
    "start_time": "2022-06-29T21:35:47.832Z"
   },
   {
    "duration": 4,
    "start_time": "2022-06-29T21:36:38.008Z"
   },
   {
    "duration": 3,
    "start_time": "2022-06-29T21:36:38.202Z"
   },
   {
    "duration": 8,
    "start_time": "2022-06-29T21:36:38.806Z"
   },
   {
    "duration": 4,
    "start_time": "2022-06-29T21:37:14.514Z"
   },
   {
    "duration": 7,
    "start_time": "2022-06-29T21:37:14.720Z"
   },
   {
    "duration": 7,
    "start_time": "2022-06-29T21:37:15.498Z"
   },
   {
    "duration": 3,
    "start_time": "2022-06-29T21:38:00.536Z"
   },
   {
    "duration": 8,
    "start_time": "2022-06-29T21:38:01.048Z"
   },
   {
    "duration": 7,
    "start_time": "2022-06-29T21:40:11.020Z"
   },
   {
    "duration": 9,
    "start_time": "2022-06-29T21:49:01.139Z"
   },
   {
    "duration": 3,
    "start_time": "2022-06-29T21:49:06.215Z"
   },
   {
    "duration": 429,
    "start_time": "2022-06-29T21:49:06.221Z"
   },
   {
    "duration": 17,
    "start_time": "2022-06-29T21:49:06.652Z"
   },
   {
    "duration": 13,
    "start_time": "2022-06-29T21:49:06.671Z"
   },
   {
    "duration": 16,
    "start_time": "2022-06-29T21:49:06.686Z"
   },
   {
    "duration": 26,
    "start_time": "2022-06-29T21:49:06.705Z"
   },
   {
    "duration": 44,
    "start_time": "2022-06-29T21:49:06.733Z"
   },
   {
    "duration": 18,
    "start_time": "2022-06-29T21:49:06.778Z"
   },
   {
    "duration": 82,
    "start_time": "2022-06-29T21:49:06.800Z"
   },
   {
    "duration": 42,
    "start_time": "2022-06-29T21:49:06.884Z"
   },
   {
    "duration": 70,
    "start_time": "2022-06-29T21:49:06.927Z"
   },
   {
    "duration": 12,
    "start_time": "2022-06-29T21:49:06.999Z"
   },
   {
    "duration": 6,
    "start_time": "2022-06-29T21:49:07.013Z"
   },
   {
    "duration": 22,
    "start_time": "2022-06-29T21:49:07.021Z"
   },
   {
    "duration": 12,
    "start_time": "2022-06-29T21:49:07.068Z"
   },
   {
    "duration": 397,
    "start_time": "2022-06-29T21:49:07.082Z"
   },
   {
    "duration": 2,
    "start_time": "2022-06-29T21:49:09.931Z"
   },
   {
    "duration": 9,
    "start_time": "2022-06-29T21:49:10.459Z"
   },
   {
    "duration": 4,
    "start_time": "2022-06-29T21:49:30.718Z"
   },
   {
    "duration": 5,
    "start_time": "2022-06-29T21:49:33.011Z"
   },
   {
    "duration": 6,
    "start_time": "2022-06-29T21:50:01.702Z"
   },
   {
    "duration": 5,
    "start_time": "2022-06-29T21:50:01.903Z"
   },
   {
    "duration": 5,
    "start_time": "2022-06-29T21:50:02.085Z"
   },
   {
    "duration": 5,
    "start_time": "2022-06-29T21:50:02.277Z"
   },
   {
    "duration": 6,
    "start_time": "2022-06-29T21:50:10.113Z"
   },
   {
    "duration": 3,
    "start_time": "2022-06-29T21:50:22.681Z"
   },
   {
    "duration": 447,
    "start_time": "2022-06-29T21:50:22.688Z"
   },
   {
    "duration": 9,
    "start_time": "2022-06-29T21:50:23.137Z"
   },
   {
    "duration": 22,
    "start_time": "2022-06-29T21:50:23.147Z"
   },
   {
    "duration": 11,
    "start_time": "2022-06-29T21:50:23.171Z"
   },
   {
    "duration": 25,
    "start_time": "2022-06-29T21:50:23.184Z"
   },
   {
    "duration": 14,
    "start_time": "2022-06-29T21:50:23.211Z"
   },
   {
    "duration": 49,
    "start_time": "2022-06-29T21:50:23.227Z"
   },
   {
    "duration": 45,
    "start_time": "2022-06-29T21:50:23.278Z"
   },
   {
    "duration": 73,
    "start_time": "2022-06-29T21:50:23.324Z"
   },
   {
    "duration": 43,
    "start_time": "2022-06-29T21:50:23.399Z"
   },
   {
    "duration": 31,
    "start_time": "2022-06-29T21:50:23.444Z"
   },
   {
    "duration": 5,
    "start_time": "2022-06-29T21:50:23.477Z"
   },
   {
    "duration": 13,
    "start_time": "2022-06-29T21:50:23.484Z"
   },
   {
    "duration": 15,
    "start_time": "2022-06-29T21:50:23.499Z"
   },
   {
    "duration": 259,
    "start_time": "2022-06-29T21:50:23.516Z"
   },
   {
    "duration": 3,
    "start_time": "2022-06-29T21:50:29.915Z"
   },
   {
    "duration": 3,
    "start_time": "2022-06-29T21:50:32.733Z"
   },
   {
    "duration": 6,
    "start_time": "2022-06-29T21:50:33.333Z"
   },
   {
    "duration": 7,
    "start_time": "2022-06-29T21:50:38.901Z"
   },
   {
    "duration": 5,
    "start_time": "2022-06-29T21:50:39.584Z"
   },
   {
    "duration": 3,
    "start_time": "2022-06-29T21:50:42.797Z"
   },
   {
    "duration": 3,
    "start_time": "2022-06-29T21:50:46.609Z"
   },
   {
    "duration": 4,
    "start_time": "2022-06-29T21:50:51.121Z"
   },
   {
    "duration": 2,
    "start_time": "2022-06-29T21:51:21.887Z"
   },
   {
    "duration": 13,
    "start_time": "2022-06-29T21:51:22.644Z"
   },
   {
    "duration": 5,
    "start_time": "2022-06-29T21:51:36.148Z"
   },
   {
    "duration": 3,
    "start_time": "2022-06-29T21:51:36.726Z"
   },
   {
    "duration": 8,
    "start_time": "2022-06-29T21:51:37.428Z"
   },
   {
    "duration": 4,
    "start_time": "2022-06-29T21:52:00.077Z"
   },
   {
    "duration": 3,
    "start_time": "2022-06-29T21:52:00.620Z"
   },
   {
    "duration": 8,
    "start_time": "2022-06-29T21:52:01.388Z"
   },
   {
    "duration": 3,
    "start_time": "2022-06-29T21:52:15.502Z"
   },
   {
    "duration": 8,
    "start_time": "2022-06-29T21:52:16.074Z"
   },
   {
    "duration": 5,
    "start_time": "2022-06-29T21:52:27.594Z"
   },
   {
    "duration": 3,
    "start_time": "2022-06-29T21:52:27.908Z"
   },
   {
    "duration": 8,
    "start_time": "2022-06-29T21:52:28.348Z"
   },
   {
    "duration": 8,
    "start_time": "2022-06-29T21:52:29.467Z"
   },
   {
    "duration": 9,
    "start_time": "2022-06-29T21:52:39.826Z"
   },
   {
    "duration": 6,
    "start_time": "2022-06-29T21:52:52.074Z"
   },
   {
    "duration": 3,
    "start_time": "2022-06-29T21:52:52.540Z"
   },
   {
    "duration": 6,
    "start_time": "2022-06-29T21:52:53.037Z"
   },
   {
    "duration": 5,
    "start_time": "2022-06-29T21:53:01.290Z"
   },
   {
    "duration": 2,
    "start_time": "2022-06-29T21:53:02.013Z"
   },
   {
    "duration": 7,
    "start_time": "2022-06-29T21:53:03.940Z"
   },
   {
    "duration": 3,
    "start_time": "2022-06-29T21:53:10.980Z"
   },
   {
    "duration": 380,
    "start_time": "2022-06-29T21:53:10.985Z"
   },
   {
    "duration": 11,
    "start_time": "2022-06-29T21:53:11.368Z"
   },
   {
    "duration": 15,
    "start_time": "2022-06-29T21:53:11.381Z"
   },
   {
    "duration": 9,
    "start_time": "2022-06-29T21:53:11.398Z"
   },
   {
    "duration": 20,
    "start_time": "2022-06-29T21:53:11.409Z"
   },
   {
    "duration": 50,
    "start_time": "2022-06-29T21:53:11.432Z"
   },
   {
    "duration": 14,
    "start_time": "2022-06-29T21:53:11.484Z"
   },
   {
    "duration": 70,
    "start_time": "2022-06-29T21:53:11.501Z"
   },
   {
    "duration": 47,
    "start_time": "2022-06-29T21:53:11.572Z"
   },
   {
    "duration": 69,
    "start_time": "2022-06-29T21:53:11.620Z"
   },
   {
    "duration": 12,
    "start_time": "2022-06-29T21:53:11.691Z"
   },
   {
    "duration": 5,
    "start_time": "2022-06-29T21:53:11.705Z"
   },
   {
    "duration": 16,
    "start_time": "2022-06-29T21:53:11.712Z"
   },
   {
    "duration": 13,
    "start_time": "2022-06-29T21:53:11.730Z"
   },
   {
    "duration": 300,
    "start_time": "2022-06-29T21:53:11.768Z"
   },
   {
    "duration": 4,
    "start_time": "2022-06-29T21:53:12.070Z"
   },
   {
    "duration": 115,
    "start_time": "2022-06-29T21:53:12.076Z"
   },
   {
    "duration": 13,
    "start_time": "2022-06-29T21:53:12.193Z"
   },
   {
    "duration": 12,
    "start_time": "2022-06-29T21:53:12.208Z"
   },
   {
    "duration": 8,
    "start_time": "2022-06-29T21:53:12.222Z"
   },
   {
    "duration": 11,
    "start_time": "2022-06-29T21:53:12.232Z"
   },
   {
    "duration": 7,
    "start_time": "2022-06-29T21:53:12.245Z"
   },
   {
    "duration": 5,
    "start_time": "2022-06-29T21:53:12.256Z"
   },
   {
    "duration": 5,
    "start_time": "2022-06-29T21:53:13.998Z"
   },
   {
    "duration": 3,
    "start_time": "2022-06-29T21:53:14.881Z"
   },
   {
    "duration": 8,
    "start_time": "2022-06-29T21:53:15.602Z"
   },
   {
    "duration": 4,
    "start_time": "2022-06-29T21:53:36.466Z"
   },
   {
    "duration": 3,
    "start_time": "2022-06-29T21:53:36.680Z"
   },
   {
    "duration": 8,
    "start_time": "2022-06-29T21:53:37.596Z"
   },
   {
    "duration": 4,
    "start_time": "2022-06-29T21:53:55.670Z"
   },
   {
    "duration": 3,
    "start_time": "2022-06-29T21:53:56.078Z"
   },
   {
    "duration": 9,
    "start_time": "2022-06-29T21:53:56.844Z"
   },
   {
    "duration": 5,
    "start_time": "2022-06-29T21:54:15.922Z"
   },
   {
    "duration": 3,
    "start_time": "2022-06-29T21:54:17.074Z"
   },
   {
    "duration": 7,
    "start_time": "2022-06-29T21:54:17.717Z"
   },
   {
    "duration": 8,
    "start_time": "2022-06-29T21:54:23.730Z"
   },
   {
    "duration": 5,
    "start_time": "2022-06-29T21:54:37.994Z"
   },
   {
    "duration": 3,
    "start_time": "2022-06-29T21:54:38.180Z"
   },
   {
    "duration": 9,
    "start_time": "2022-06-29T21:54:38.380Z"
   },
   {
    "duration": 6,
    "start_time": "2022-06-29T21:55:59.052Z"
   },
   {
    "duration": 3,
    "start_time": "2022-06-29T21:55:59.268Z"
   },
   {
    "duration": 10,
    "start_time": "2022-06-29T21:55:59.932Z"
   },
   {
    "duration": 3,
    "start_time": "2022-06-29T22:00:17.777Z"
   },
   {
    "duration": 371,
    "start_time": "2022-06-29T22:00:17.790Z"
   },
   {
    "duration": 13,
    "start_time": "2022-06-29T22:00:18.163Z"
   },
   {
    "duration": 11,
    "start_time": "2022-06-29T22:00:18.178Z"
   },
   {
    "duration": 10,
    "start_time": "2022-06-29T22:00:18.191Z"
   },
   {
    "duration": 22,
    "start_time": "2022-06-29T22:00:18.202Z"
   },
   {
    "duration": 45,
    "start_time": "2022-06-29T22:00:18.226Z"
   },
   {
    "duration": 15,
    "start_time": "2022-06-29T22:00:18.273Z"
   },
   {
    "duration": 47,
    "start_time": "2022-06-29T22:00:18.289Z"
   },
   {
    "duration": 84,
    "start_time": "2022-06-29T22:00:18.337Z"
   },
   {
    "duration": 81,
    "start_time": "2022-06-29T22:00:18.424Z"
   },
   {
    "duration": 16,
    "start_time": "2022-06-29T22:00:18.506Z"
   },
   {
    "duration": 7,
    "start_time": "2022-06-29T22:00:18.523Z"
   },
   {
    "duration": 39,
    "start_time": "2022-06-29T22:00:18.533Z"
   },
   {
    "duration": 13,
    "start_time": "2022-06-29T22:00:18.574Z"
   },
   {
    "duration": 379,
    "start_time": "2022-06-29T22:00:18.589Z"
   },
   {
    "duration": 3,
    "start_time": "2022-06-29T22:00:18.970Z"
   },
   {
    "duration": 103,
    "start_time": "2022-06-29T22:00:18.974Z"
   },
   {
    "duration": 17,
    "start_time": "2022-06-29T22:00:19.080Z"
   },
   {
    "duration": 16,
    "start_time": "2022-06-29T22:00:19.099Z"
   },
   {
    "duration": 14,
    "start_time": "2022-06-29T22:00:19.117Z"
   },
   {
    "duration": 8,
    "start_time": "2022-06-29T22:00:19.132Z"
   },
   {
    "duration": 5,
    "start_time": "2022-06-29T22:00:19.142Z"
   },
   {
    "duration": 4,
    "start_time": "2022-06-29T22:00:21.005Z"
   },
   {
    "duration": 3,
    "start_time": "2022-06-29T22:00:24.125Z"
   },
   {
    "duration": 16,
    "start_time": "2022-06-29T22:00:26.837Z"
   },
   {
    "duration": 5,
    "start_time": "2022-06-29T22:00:46.646Z"
   },
   {
    "duration": 3,
    "start_time": "2022-06-29T22:00:47.559Z"
   },
   {
    "duration": 1773,
    "start_time": "2022-06-29T22:00:48.523Z"
   },
   {
    "duration": 5,
    "start_time": "2022-06-29T22:02:20.744Z"
   },
   {
    "duration": 3,
    "start_time": "2022-06-29T22:02:21.196Z"
   },
   {
    "duration": 19774,
    "start_time": "2022-06-29T22:02:22.035Z"
   },
   {
    "duration": 3,
    "start_time": "2022-06-29T22:03:37.618Z"
   },
   {
    "duration": 349,
    "start_time": "2022-06-29T22:03:37.625Z"
   },
   {
    "duration": 9,
    "start_time": "2022-06-29T22:03:37.976Z"
   },
   {
    "duration": 10,
    "start_time": "2022-06-29T22:03:37.986Z"
   },
   {
    "duration": 12,
    "start_time": "2022-06-29T22:03:37.998Z"
   },
   {
    "duration": 21,
    "start_time": "2022-06-29T22:03:38.012Z"
   },
   {
    "duration": 37,
    "start_time": "2022-06-29T22:03:38.034Z"
   },
   {
    "duration": 14,
    "start_time": "2022-06-29T22:03:38.073Z"
   },
   {
    "duration": 45,
    "start_time": "2022-06-29T22:03:38.088Z"
   },
   {
    "duration": 62,
    "start_time": "2022-06-29T22:03:38.135Z"
   },
   {
    "duration": 43,
    "start_time": "2022-06-29T22:03:38.199Z"
   },
   {
    "duration": 35,
    "start_time": "2022-06-29T22:03:38.244Z"
   },
   {
    "duration": 6,
    "start_time": "2022-06-29T22:03:38.282Z"
   },
   {
    "duration": 13,
    "start_time": "2022-06-29T22:03:38.290Z"
   },
   {
    "duration": 13,
    "start_time": "2022-06-29T22:03:38.305Z"
   },
   {
    "duration": 358,
    "start_time": "2022-06-29T22:03:38.319Z"
   },
   {
    "duration": 3,
    "start_time": "2022-06-29T22:03:38.767Z"
   },
   {
    "duration": 110,
    "start_time": "2022-06-29T22:03:38.772Z"
   },
   {
    "duration": 11,
    "start_time": "2022-06-29T22:03:38.884Z"
   },
   {
    "duration": 9,
    "start_time": "2022-06-29T22:03:38.897Z"
   },
   {
    "duration": 13,
    "start_time": "2022-06-29T22:03:38.908Z"
   },
   {
    "duration": 21,
    "start_time": "2022-06-29T22:03:38.923Z"
   },
   {
    "duration": 15,
    "start_time": "2022-06-29T22:03:38.946Z"
   },
   {
    "duration": 6,
    "start_time": "2022-06-29T22:03:40.884Z"
   },
   {
    "duration": 3,
    "start_time": "2022-06-29T22:03:50.147Z"
   },
   {
    "duration": 5797,
    "start_time": "2022-06-29T22:03:53.266Z"
   },
   {
    "duration": 5,
    "start_time": "2022-06-29T22:04:19.638Z"
   },
   {
    "duration": 2,
    "start_time": "2022-06-29T22:04:20.316Z"
   },
   {
    "duration": 18,
    "start_time": "2022-06-29T22:04:20.964Z"
   },
   {
    "duration": 5,
    "start_time": "2022-06-29T22:05:29.297Z"
   },
   {
    "duration": 2,
    "start_time": "2022-06-29T22:05:29.732Z"
   },
   {
    "duration": 5339,
    "start_time": "2022-06-29T22:05:30.367Z"
   },
   {
    "duration": 5,
    "start_time": "2022-06-29T22:06:05.925Z"
   },
   {
    "duration": 3,
    "start_time": "2022-06-29T22:06:06.200Z"
   },
   {
    "duration": 5766,
    "start_time": "2022-06-29T22:06:06.493Z"
   },
   {
    "duration": 4,
    "start_time": "2022-06-29T22:06:36.124Z"
   },
   {
    "duration": 3,
    "start_time": "2022-06-29T22:06:36.347Z"
   },
   {
    "duration": 10,
    "start_time": "2022-06-29T22:06:36.611Z"
   },
   {
    "duration": 3,
    "start_time": "2022-06-29T22:45:28.150Z"
   },
   {
    "duration": 14,
    "start_time": "2022-06-29T22:45:34.222Z"
   },
   {
    "duration": 5,
    "start_time": "2022-06-29T22:45:46.382Z"
   },
   {
    "duration": 3,
    "start_time": "2022-06-29T22:45:47.664Z"
   },
   {
    "duration": 740,
    "start_time": "2022-06-29T22:45:48.579Z"
   },
   {
    "duration": 5,
    "start_time": "2022-06-29T22:45:49.494Z"
   },
   {
    "duration": 4,
    "start_time": "2022-06-29T22:46:04.381Z"
   },
   {
    "duration": 487,
    "start_time": "2022-06-29T22:46:04.388Z"
   },
   {
    "duration": 10,
    "start_time": "2022-06-29T22:46:04.877Z"
   },
   {
    "duration": 12,
    "start_time": "2022-06-29T22:46:04.889Z"
   },
   {
    "duration": 10,
    "start_time": "2022-06-29T22:46:04.904Z"
   },
   {
    "duration": 17,
    "start_time": "2022-06-29T22:46:04.916Z"
   },
   {
    "duration": 56,
    "start_time": "2022-06-29T22:46:04.935Z"
   },
   {
    "duration": 15,
    "start_time": "2022-06-29T22:46:04.992Z"
   },
   {
    "duration": 67,
    "start_time": "2022-06-29T22:46:05.008Z"
   },
   {
    "duration": 47,
    "start_time": "2022-06-29T22:46:05.077Z"
   },
   {
    "duration": 69,
    "start_time": "2022-06-29T22:46:05.126Z"
   },
   {
    "duration": 13,
    "start_time": "2022-06-29T22:46:05.196Z"
   },
   {
    "duration": 6,
    "start_time": "2022-06-29T22:46:05.210Z"
   },
   {
    "duration": 13,
    "start_time": "2022-06-29T22:46:05.218Z"
   },
   {
    "duration": 45,
    "start_time": "2022-06-29T22:46:05.232Z"
   },
   {
    "duration": 200,
    "start_time": "2022-06-29T22:46:05.279Z"
   },
   {
    "duration": 3,
    "start_time": "2022-06-29T22:46:05.481Z"
   },
   {
    "duration": 200,
    "start_time": "2022-06-29T22:46:05.485Z"
   },
   {
    "duration": 7,
    "start_time": "2022-06-29T22:46:05.686Z"
   },
   {
    "duration": 5,
    "start_time": "2022-06-29T22:46:05.695Z"
   },
   {
    "duration": 5,
    "start_time": "2022-06-29T22:46:05.701Z"
   },
   {
    "duration": 6,
    "start_time": "2022-06-29T22:46:05.708Z"
   },
   {
    "duration": 5,
    "start_time": "2022-06-29T22:46:05.715Z"
   },
   {
    "duration": 5,
    "start_time": "2022-06-29T22:46:08.429Z"
   },
   {
    "duration": 3,
    "start_time": "2022-06-29T22:46:10.093Z"
   },
   {
    "duration": 9,
    "start_time": "2022-06-29T22:46:11.487Z"
   },
   {
    "duration": 234,
    "start_time": "2022-06-29T22:47:08.606Z"
   },
   {
    "duration": 4,
    "start_time": "2022-06-29T22:47:21.298Z"
   },
   {
    "duration": 374,
    "start_time": "2022-06-29T22:47:21.304Z"
   },
   {
    "duration": 14,
    "start_time": "2022-06-29T22:47:21.680Z"
   },
   {
    "duration": 22,
    "start_time": "2022-06-29T22:47:21.697Z"
   },
   {
    "duration": 14,
    "start_time": "2022-06-29T22:47:21.721Z"
   },
   {
    "duration": 32,
    "start_time": "2022-06-29T22:47:21.736Z"
   },
   {
    "duration": 15,
    "start_time": "2022-06-29T22:47:21.770Z"
   },
   {
    "duration": 15,
    "start_time": "2022-06-29T22:47:21.787Z"
   },
   {
    "duration": 83,
    "start_time": "2022-06-29T22:47:21.804Z"
   },
   {
    "duration": 41,
    "start_time": "2022-06-29T22:47:21.889Z"
   },
   {
    "duration": 75,
    "start_time": "2022-06-29T22:47:21.931Z"
   },
   {
    "duration": 12,
    "start_time": "2022-06-29T22:47:22.007Z"
   },
   {
    "duration": 7,
    "start_time": "2022-06-29T22:47:22.020Z"
   },
   {
    "duration": 45,
    "start_time": "2022-06-29T22:47:22.028Z"
   },
   {
    "duration": 14,
    "start_time": "2022-06-29T22:47:22.075Z"
   },
   {
    "duration": 281,
    "start_time": "2022-06-29T22:47:22.091Z"
   },
   {
    "duration": 4,
    "start_time": "2022-06-29T22:47:22.374Z"
   },
   {
    "duration": 95,
    "start_time": "2022-06-29T22:47:22.380Z"
   },
   {
    "duration": 96,
    "start_time": "2022-06-29T22:47:22.477Z"
   },
   {
    "duration": 7,
    "start_time": "2022-06-29T22:47:22.574Z"
   },
   {
    "duration": 7,
    "start_time": "2022-06-29T22:47:22.582Z"
   },
   {
    "duration": 8,
    "start_time": "2022-06-29T22:47:22.591Z"
   },
   {
    "duration": 6,
    "start_time": "2022-06-29T22:47:22.600Z"
   },
   {
    "duration": 9,
    "start_time": "2022-06-29T22:47:22.608Z"
   },
   {
    "duration": 4,
    "start_time": "2022-06-29T22:47:22.619Z"
   },
   {
    "duration": 48,
    "start_time": "2022-06-29T22:47:22.625Z"
   },
   {
    "duration": 8,
    "start_time": "2022-06-29T22:47:22.674Z"
   },
   {
    "duration": 3,
    "start_time": "2022-06-29T22:47:22.685Z"
   },
   {
    "duration": 13,
    "start_time": "2022-06-29T22:47:22.689Z"
   },
   {
    "duration": 0,
    "start_time": "2022-06-29T22:47:22.704Z"
   },
   {
    "duration": 5,
    "start_time": "2022-06-29T22:47:37.261Z"
   },
   {
    "duration": 15,
    "start_time": "2022-06-29T22:47:54.513Z"
   },
   {
    "duration": 3,
    "start_time": "2022-06-29T22:47:57.201Z"
   },
   {
    "duration": 365,
    "start_time": "2022-06-29T22:47:57.206Z"
   },
   {
    "duration": 12,
    "start_time": "2022-06-29T22:47:57.573Z"
   },
   {
    "duration": 11,
    "start_time": "2022-06-29T22:47:57.587Z"
   },
   {
    "duration": 12,
    "start_time": "2022-06-29T22:47:57.600Z"
   },
   {
    "duration": 16,
    "start_time": "2022-06-29T22:47:57.614Z"
   },
   {
    "duration": 42,
    "start_time": "2022-06-29T22:47:57.632Z"
   },
   {
    "duration": 18,
    "start_time": "2022-06-29T22:47:57.675Z"
   },
   {
    "duration": 44,
    "start_time": "2022-06-29T22:47:57.695Z"
   },
   {
    "duration": 68,
    "start_time": "2022-06-29T22:47:57.741Z"
   },
   {
    "duration": 56,
    "start_time": "2022-06-29T22:47:57.812Z"
   },
   {
    "duration": 14,
    "start_time": "2022-06-29T22:47:57.870Z"
   },
   {
    "duration": 12,
    "start_time": "2022-06-29T22:47:57.886Z"
   },
   {
    "duration": 13,
    "start_time": "2022-06-29T22:47:57.899Z"
   },
   {
    "duration": 12,
    "start_time": "2022-06-29T22:47:57.914Z"
   },
   {
    "duration": 341,
    "start_time": "2022-06-29T22:47:57.927Z"
   },
   {
    "duration": 3,
    "start_time": "2022-06-29T22:47:58.271Z"
   },
   {
    "duration": 110,
    "start_time": "2022-06-29T22:47:58.276Z"
   },
   {
    "duration": 23,
    "start_time": "2022-06-29T22:47:58.388Z"
   },
   {
    "duration": 8,
    "start_time": "2022-06-29T22:47:58.413Z"
   },
   {
    "duration": 7,
    "start_time": "2022-06-29T22:47:58.422Z"
   },
   {
    "duration": 5,
    "start_time": "2022-06-29T22:47:58.430Z"
   },
   {
    "duration": 5,
    "start_time": "2022-06-29T22:47:58.437Z"
   },
   {
    "duration": 7,
    "start_time": "2022-06-29T22:47:58.443Z"
   },
   {
    "duration": 6,
    "start_time": "2022-06-29T22:47:58.452Z"
   },
   {
    "duration": 19,
    "start_time": "2022-06-29T22:47:58.467Z"
   },
   {
    "duration": 7,
    "start_time": "2022-06-29T22:47:58.487Z"
   },
   {
    "duration": 11,
    "start_time": "2022-06-29T22:47:58.495Z"
   },
   {
    "duration": 3,
    "start_time": "2022-06-29T22:47:58.508Z"
   },
   {
    "duration": 14,
    "start_time": "2022-06-29T22:47:58.512Z"
   },
   {
    "duration": 0,
    "start_time": "2022-06-29T22:47:58.528Z"
   },
   {
    "duration": 6,
    "start_time": "2022-06-29T22:48:24.679Z"
   },
   {
    "duration": 4,
    "start_time": "2022-06-29T22:48:24.880Z"
   },
   {
    "duration": 5,
    "start_time": "2022-06-29T22:48:25.125Z"
   },
   {
    "duration": 2,
    "start_time": "2022-06-29T22:53:33.791Z"
   },
   {
    "duration": 14,
    "start_time": "2022-06-29T22:53:37.945Z"
   },
   {
    "duration": 2,
    "start_time": "2022-06-29T22:53:46.145Z"
   },
   {
    "duration": 18,
    "start_time": "2022-06-29T22:53:46.360Z"
   },
   {
    "duration": 4,
    "start_time": "2022-06-29T22:53:47.007Z"
   },
   {
    "duration": 4,
    "start_time": "2022-06-29T22:53:47.541Z"
   },
   {
    "duration": 5,
    "start_time": "2022-06-29T22:53:48.310Z"
   },
   {
    "duration": 2,
    "start_time": "2022-06-29T22:55:50.821Z"
   },
   {
    "duration": 363,
    "start_time": "2022-06-29T22:55:50.826Z"
   },
   {
    "duration": 8,
    "start_time": "2022-06-29T22:55:51.191Z"
   },
   {
    "duration": 11,
    "start_time": "2022-06-29T22:55:51.200Z"
   },
   {
    "duration": 10,
    "start_time": "2022-06-29T22:55:51.212Z"
   },
   {
    "duration": 15,
    "start_time": "2022-06-29T22:55:51.224Z"
   },
   {
    "duration": 18,
    "start_time": "2022-06-29T22:55:51.267Z"
   },
   {
    "duration": 13,
    "start_time": "2022-06-29T22:55:51.286Z"
   },
   {
    "duration": 38,
    "start_time": "2022-06-29T22:55:51.301Z"
   },
   {
    "duration": 41,
    "start_time": "2022-06-29T22:55:51.367Z"
   },
   {
    "duration": 56,
    "start_time": "2022-06-29T22:55:51.411Z"
   },
   {
    "duration": 16,
    "start_time": "2022-06-29T22:55:51.469Z"
   },
   {
    "duration": 7,
    "start_time": "2022-06-29T22:55:51.486Z"
   },
   {
    "duration": 11,
    "start_time": "2022-06-29T22:55:51.495Z"
   },
   {
    "duration": 11,
    "start_time": "2022-06-29T22:55:51.508Z"
   },
   {
    "duration": 451,
    "start_time": "2022-06-29T22:55:51.520Z"
   },
   {
    "duration": 5,
    "start_time": "2022-06-29T22:55:51.973Z"
   },
   {
    "duration": 97,
    "start_time": "2022-06-29T22:55:51.979Z"
   },
   {
    "duration": 8,
    "start_time": "2022-06-29T22:55:52.078Z"
   },
   {
    "duration": 6,
    "start_time": "2022-06-29T22:55:52.087Z"
   },
   {
    "duration": 6,
    "start_time": "2022-06-29T22:55:52.094Z"
   },
   {
    "duration": 8,
    "start_time": "2022-06-29T22:55:52.101Z"
   },
   {
    "duration": 5,
    "start_time": "2022-06-29T22:55:52.110Z"
   },
   {
    "duration": 5,
    "start_time": "2022-06-29T22:55:52.116Z"
   },
   {
    "duration": 16,
    "start_time": "2022-06-29T22:55:52.122Z"
   },
   {
    "duration": 6,
    "start_time": "2022-06-29T22:55:52.167Z"
   },
   {
    "duration": 17,
    "start_time": "2022-06-29T22:55:52.175Z"
   },
   {
    "duration": 6,
    "start_time": "2022-06-29T22:55:52.193Z"
   },
   {
    "duration": 10,
    "start_time": "2022-06-29T22:59:11.144Z"
   },
   {
    "duration": 3,
    "start_time": "2022-06-29T22:59:30.932Z"
   },
   {
    "duration": 2,
    "start_time": "2022-06-29T22:59:34.954Z"
   },
   {
    "duration": 11,
    "start_time": "2022-06-29T22:59:40.460Z"
   },
   {
    "duration": 10089,
    "start_time": "2022-06-29T23:13:47.487Z"
   },
   {
    "duration": 1288,
    "start_time": "2022-06-29T23:15:11.507Z"
   },
   {
    "duration": 3,
    "start_time": "2022-06-29T23:15:52.096Z"
   },
   {
    "duration": 400,
    "start_time": "2022-06-29T23:15:52.101Z"
   },
   {
    "duration": 8,
    "start_time": "2022-06-29T23:15:52.503Z"
   },
   {
    "duration": 10,
    "start_time": "2022-06-29T23:15:52.513Z"
   },
   {
    "duration": 8,
    "start_time": "2022-06-29T23:15:52.525Z"
   },
   {
    "duration": 34,
    "start_time": "2022-06-29T23:15:52.535Z"
   },
   {
    "duration": 12,
    "start_time": "2022-06-29T23:15:52.570Z"
   },
   {
    "duration": 27,
    "start_time": "2022-06-29T23:15:52.583Z"
   },
   {
    "duration": 43,
    "start_time": "2022-06-29T23:15:52.611Z"
   },
   {
    "duration": 43,
    "start_time": "2022-06-29T23:15:52.656Z"
   },
   {
    "duration": 37,
    "start_time": "2022-06-29T23:15:52.701Z"
   },
   {
    "duration": 30,
    "start_time": "2022-06-29T23:15:52.739Z"
   },
   {
    "duration": 6,
    "start_time": "2022-06-29T23:15:52.770Z"
   },
   {
    "duration": 11,
    "start_time": "2022-06-29T23:15:52.777Z"
   },
   {
    "duration": 11,
    "start_time": "2022-06-29T23:15:52.790Z"
   },
   {
    "duration": 368,
    "start_time": "2022-06-29T23:15:52.802Z"
   },
   {
    "duration": 98,
    "start_time": "2022-06-29T23:15:53.171Z"
   },
   {
    "duration": 103,
    "start_time": "2022-06-29T23:15:53.270Z"
   },
   {
    "duration": 9,
    "start_time": "2022-06-29T23:15:53.374Z"
   },
   {
    "duration": 5,
    "start_time": "2022-06-29T23:15:53.385Z"
   },
   {
    "duration": 7,
    "start_time": "2022-06-29T23:15:53.392Z"
   },
   {
    "duration": 6,
    "start_time": "2022-06-29T23:15:53.401Z"
   },
   {
    "duration": 5,
    "start_time": "2022-06-29T23:15:53.408Z"
   },
   {
    "duration": 6,
    "start_time": "2022-06-29T23:15:53.415Z"
   },
   {
    "duration": 14,
    "start_time": "2022-06-29T23:15:53.422Z"
   },
   {
    "duration": 30,
    "start_time": "2022-06-29T23:15:53.438Z"
   },
   {
    "duration": 6,
    "start_time": "2022-06-29T23:15:53.470Z"
   },
   {
    "duration": 5,
    "start_time": "2022-06-29T23:15:53.478Z"
   },
   {
    "duration": 1316,
    "start_time": "2022-06-29T23:15:53.487Z"
   },
   {
    "duration": 6,
    "start_time": "2022-06-29T23:17:41.850Z"
   },
   {
    "duration": 1217,
    "start_time": "2022-06-29T23:17:55.579Z"
   },
   {
    "duration": 2,
    "start_time": "2022-06-29T23:55:27.362Z"
   },
   {
    "duration": 355,
    "start_time": "2022-06-29T23:55:27.366Z"
   },
   {
    "duration": 9,
    "start_time": "2022-06-29T23:55:27.723Z"
   },
   {
    "duration": 22,
    "start_time": "2022-06-29T23:55:27.733Z"
   },
   {
    "duration": 18,
    "start_time": "2022-06-29T23:55:27.757Z"
   },
   {
    "duration": 15,
    "start_time": "2022-06-29T23:55:27.777Z"
   },
   {
    "duration": 14,
    "start_time": "2022-06-29T23:55:27.794Z"
   },
   {
    "duration": 14,
    "start_time": "2022-06-29T23:55:27.809Z"
   },
   {
    "duration": 79,
    "start_time": "2022-06-29T23:55:27.825Z"
   },
   {
    "duration": 43,
    "start_time": "2022-06-29T23:55:27.905Z"
   },
   {
    "duration": 54,
    "start_time": "2022-06-29T23:55:27.951Z"
   },
   {
    "duration": 11,
    "start_time": "2022-06-29T23:55:28.006Z"
   },
   {
    "duration": 6,
    "start_time": "2022-06-29T23:55:28.019Z"
   },
   {
    "duration": 42,
    "start_time": "2022-06-29T23:55:28.026Z"
   },
   {
    "duration": 12,
    "start_time": "2022-06-29T23:55:28.070Z"
   },
   {
    "duration": 295,
    "start_time": "2022-06-29T23:55:28.084Z"
   },
   {
    "duration": 1116,
    "start_time": "2022-06-29T23:55:28.380Z"
   },
   {
    "duration": 0,
    "start_time": "2022-06-29T23:55:29.498Z"
   },
   {
    "duration": 0,
    "start_time": "2022-06-29T23:55:29.500Z"
   },
   {
    "duration": 0,
    "start_time": "2022-06-29T23:55:29.501Z"
   },
   {
    "duration": 0,
    "start_time": "2022-06-29T23:55:29.502Z"
   },
   {
    "duration": 0,
    "start_time": "2022-06-29T23:55:29.503Z"
   },
   {
    "duration": 0,
    "start_time": "2022-06-29T23:55:29.504Z"
   },
   {
    "duration": 0,
    "start_time": "2022-06-29T23:55:29.505Z"
   },
   {
    "duration": 0,
    "start_time": "2022-06-29T23:55:29.506Z"
   },
   {
    "duration": 0,
    "start_time": "2022-06-29T23:55:29.507Z"
   },
   {
    "duration": 0,
    "start_time": "2022-06-29T23:55:29.508Z"
   },
   {
    "duration": 0,
    "start_time": "2022-06-29T23:55:29.509Z"
   },
   {
    "duration": 0,
    "start_time": "2022-06-29T23:55:29.510Z"
   },
   {
    "duration": 0,
    "start_time": "2022-06-29T23:55:29.511Z"
   },
   {
    "duration": 0,
    "start_time": "2022-06-29T23:55:29.512Z"
   },
   {
    "duration": 3,
    "start_time": "2022-06-29T23:55:46.140Z"
   },
   {
    "duration": 360,
    "start_time": "2022-06-29T23:55:46.144Z"
   },
   {
    "duration": 9,
    "start_time": "2022-06-29T23:55:46.505Z"
   },
   {
    "duration": 10,
    "start_time": "2022-06-29T23:55:46.516Z"
   },
   {
    "duration": 10,
    "start_time": "2022-06-29T23:55:46.528Z"
   },
   {
    "duration": 36,
    "start_time": "2022-06-29T23:55:46.539Z"
   },
   {
    "duration": 14,
    "start_time": "2022-06-29T23:55:46.577Z"
   },
   {
    "duration": 15,
    "start_time": "2022-06-29T23:55:46.592Z"
   },
   {
    "duration": 72,
    "start_time": "2022-06-29T23:55:46.608Z"
   },
   {
    "duration": 38,
    "start_time": "2022-06-29T23:55:46.681Z"
   },
   {
    "duration": 62,
    "start_time": "2022-06-29T23:55:46.722Z"
   },
   {
    "duration": 12,
    "start_time": "2022-06-29T23:55:46.785Z"
   },
   {
    "duration": 5,
    "start_time": "2022-06-29T23:55:46.799Z"
   },
   {
    "duration": 12,
    "start_time": "2022-06-29T23:55:46.806Z"
   },
   {
    "duration": 10,
    "start_time": "2022-06-29T23:55:46.820Z"
   },
   {
    "duration": 338,
    "start_time": "2022-06-29T23:55:46.832Z"
   },
   {
    "duration": 4,
    "start_time": "2022-06-29T23:55:47.172Z"
   },
   {
    "duration": 191,
    "start_time": "2022-06-29T23:55:47.177Z"
   },
   {
    "duration": 5,
    "start_time": "2022-06-29T23:55:47.370Z"
   },
   {
    "duration": 10,
    "start_time": "2022-06-29T23:55:47.376Z"
   },
   {
    "duration": 6,
    "start_time": "2022-06-29T23:55:47.388Z"
   },
   {
    "duration": 7,
    "start_time": "2022-06-29T23:55:47.396Z"
   },
   {
    "duration": 4,
    "start_time": "2022-06-29T23:55:47.405Z"
   },
   {
    "duration": 7,
    "start_time": "2022-06-29T23:55:47.411Z"
   },
   {
    "duration": 5,
    "start_time": "2022-06-29T23:55:47.420Z"
   },
   {
    "duration": 14,
    "start_time": "2022-06-29T23:55:47.468Z"
   },
   {
    "duration": 5,
    "start_time": "2022-06-29T23:55:47.483Z"
   },
   {
    "duration": 8,
    "start_time": "2022-06-29T23:55:47.490Z"
   },
   {
    "duration": 6,
    "start_time": "2022-06-29T23:55:47.500Z"
   },
   {
    "duration": 7,
    "start_time": "2022-06-29T23:55:47.507Z"
   },
   {
    "duration": 136,
    "start_time": "2022-06-29T23:55:47.515Z"
   },
   {
    "duration": 8,
    "start_time": "2022-06-29T23:56:02.474Z"
   },
   {
    "duration": 4,
    "start_time": "2022-06-29T23:56:15.169Z"
   },
   {
    "duration": 342,
    "start_time": "2022-06-29T23:56:15.177Z"
   },
   {
    "duration": 9,
    "start_time": "2022-06-29T23:56:15.521Z"
   },
   {
    "duration": 10,
    "start_time": "2022-06-29T23:56:15.531Z"
   },
   {
    "duration": 32,
    "start_time": "2022-06-29T23:56:15.542Z"
   },
   {
    "duration": 23,
    "start_time": "2022-06-29T23:56:15.577Z"
   },
   {
    "duration": 14,
    "start_time": "2022-06-29T23:56:15.601Z"
   },
   {
    "duration": 14,
    "start_time": "2022-06-29T23:56:15.617Z"
   },
   {
    "duration": 70,
    "start_time": "2022-06-29T23:56:15.632Z"
   },
   {
    "duration": 39,
    "start_time": "2022-06-29T23:56:15.703Z"
   },
   {
    "duration": 58,
    "start_time": "2022-06-29T23:56:15.743Z"
   },
   {
    "duration": 12,
    "start_time": "2022-06-29T23:56:15.802Z"
   },
   {
    "duration": 10,
    "start_time": "2022-06-29T23:56:15.816Z"
   },
   {
    "duration": 40,
    "start_time": "2022-06-29T23:56:15.828Z"
   },
   {
    "duration": 12,
    "start_time": "2022-06-29T23:56:15.870Z"
   },
   {
    "duration": 294,
    "start_time": "2022-06-29T23:56:15.883Z"
   },
   {
    "duration": 88,
    "start_time": "2022-06-29T23:56:16.179Z"
   },
   {
    "duration": 104,
    "start_time": "2022-06-29T23:56:16.269Z"
   },
   {
    "duration": 5,
    "start_time": "2022-06-29T23:56:16.374Z"
   },
   {
    "duration": 5,
    "start_time": "2022-06-29T23:56:16.380Z"
   },
   {
    "duration": 11,
    "start_time": "2022-06-29T23:56:16.386Z"
   },
   {
    "duration": 6,
    "start_time": "2022-06-29T23:56:16.399Z"
   },
   {
    "duration": 6,
    "start_time": "2022-06-29T23:56:16.406Z"
   },
   {
    "duration": 4,
    "start_time": "2022-06-29T23:56:16.414Z"
   },
   {
    "duration": 4,
    "start_time": "2022-06-29T23:56:16.419Z"
   },
   {
    "duration": 4,
    "start_time": "2022-06-29T23:56:16.425Z"
   },
   {
    "duration": 13,
    "start_time": "2022-06-29T23:56:16.468Z"
   },
   {
    "duration": 5,
    "start_time": "2022-06-29T23:56:16.482Z"
   },
   {
    "duration": 6,
    "start_time": "2022-06-29T23:56:16.488Z"
   },
   {
    "duration": 6,
    "start_time": "2022-06-29T23:56:16.495Z"
   },
   {
    "duration": 7,
    "start_time": "2022-06-29T23:56:16.503Z"
   },
   {
    "duration": 48,
    "start_time": "2022-06-29T23:56:16.511Z"
   },
   {
    "duration": 3,
    "start_time": "2022-06-29T23:56:45.396Z"
   },
   {
    "duration": 350,
    "start_time": "2022-06-29T23:56:45.401Z"
   },
   {
    "duration": 9,
    "start_time": "2022-06-29T23:56:45.752Z"
   },
   {
    "duration": 21,
    "start_time": "2022-06-29T23:56:45.767Z"
   },
   {
    "duration": 21,
    "start_time": "2022-06-29T23:56:45.789Z"
   },
   {
    "duration": 37,
    "start_time": "2022-06-29T23:56:45.811Z"
   },
   {
    "duration": 23,
    "start_time": "2022-06-29T23:56:45.850Z"
   },
   {
    "duration": 18,
    "start_time": "2022-06-29T23:56:45.875Z"
   },
   {
    "duration": 60,
    "start_time": "2022-06-29T23:56:45.895Z"
   },
   {
    "duration": 43,
    "start_time": "2022-06-29T23:56:45.956Z"
   },
   {
    "duration": 40,
    "start_time": "2022-06-29T23:56:46.000Z"
   },
   {
    "duration": 27,
    "start_time": "2022-06-29T23:56:46.041Z"
   },
   {
    "duration": 7,
    "start_time": "2022-06-29T23:56:46.069Z"
   },
   {
    "duration": 26,
    "start_time": "2022-06-29T23:56:46.077Z"
   },
   {
    "duration": 12,
    "start_time": "2022-06-29T23:56:46.104Z"
   },
   {
    "duration": 260,
    "start_time": "2022-06-29T23:56:46.118Z"
   },
   {
    "duration": 3,
    "start_time": "2022-06-29T23:56:51.149Z"
   },
   {
    "duration": 5,
    "start_time": "2022-06-29T23:56:51.742Z"
   },
   {
    "duration": 5,
    "start_time": "2022-06-29T23:56:52.505Z"
   },
   {
    "duration": 50,
    "start_time": "2022-06-30T00:34:58.744Z"
   },
   {
    "duration": 4,
    "start_time": "2022-06-30T00:42:37.425Z"
   },
   {
    "duration": 3,
    "start_time": "2022-06-30T00:45:35.741Z"
   },
   {
    "duration": 80,
    "start_time": "2022-06-30T00:46:39.361Z"
   },
   {
    "duration": 37,
    "start_time": "2022-06-30T00:46:47.435Z"
   },
   {
    "duration": 40,
    "start_time": "2022-06-30T00:47:37.002Z"
   },
   {
    "duration": 3,
    "start_time": "2022-06-30T00:47:41.720Z"
   },
   {
    "duration": 804,
    "start_time": "2022-06-30T00:47:42.484Z"
   },
   {
    "duration": 3,
    "start_time": "2022-06-30T00:47:58.602Z"
   },
   {
    "duration": 4,
    "start_time": "2022-06-30T00:48:13.490Z"
   },
   {
    "duration": 3,
    "start_time": "2022-06-30T00:48:56.846Z"
   },
   {
    "duration": 366,
    "start_time": "2022-06-30T00:48:56.851Z"
   },
   {
    "duration": 9,
    "start_time": "2022-06-30T00:48:57.219Z"
   },
   {
    "duration": 11,
    "start_time": "2022-06-30T00:48:57.230Z"
   },
   {
    "duration": 30,
    "start_time": "2022-06-30T00:48:57.243Z"
   },
   {
    "duration": 15,
    "start_time": "2022-06-30T00:48:57.275Z"
   },
   {
    "duration": 14,
    "start_time": "2022-06-30T00:48:57.291Z"
   },
   {
    "duration": 15,
    "start_time": "2022-06-30T00:48:57.307Z"
   },
   {
    "duration": 81,
    "start_time": "2022-06-30T00:48:57.324Z"
   },
   {
    "duration": 42,
    "start_time": "2022-06-30T00:48:57.407Z"
   },
   {
    "duration": 59,
    "start_time": "2022-06-30T00:48:57.450Z"
   },
   {
    "duration": 13,
    "start_time": "2022-06-30T00:48:57.510Z"
   },
   {
    "duration": 6,
    "start_time": "2022-06-30T00:48:57.524Z"
   },
   {
    "duration": 46,
    "start_time": "2022-06-30T00:48:57.532Z"
   },
   {
    "duration": 8,
    "start_time": "2022-06-30T00:48:57.580Z"
   },
   {
    "duration": 378,
    "start_time": "2022-06-30T00:48:57.590Z"
   },
   {
    "duration": 96,
    "start_time": "2022-06-30T00:48:57.972Z"
   },
   {
    "duration": 11,
    "start_time": "2022-06-30T00:48:58.070Z"
   },
   {
    "duration": 5,
    "start_time": "2022-06-30T00:48:58.083Z"
   },
   {
    "duration": 12,
    "start_time": "2022-06-30T00:48:58.089Z"
   },
   {
    "duration": 9,
    "start_time": "2022-06-30T00:48:58.102Z"
   },
   {
    "duration": 22,
    "start_time": "2022-06-30T00:48:58.113Z"
   },
   {
    "duration": 9,
    "start_time": "2022-06-30T00:48:58.137Z"
   },
   {
    "duration": 19,
    "start_time": "2022-06-30T00:48:58.148Z"
   },
   {
    "duration": 12,
    "start_time": "2022-06-30T00:48:58.169Z"
   },
   {
    "duration": 28,
    "start_time": "2022-06-30T00:48:58.183Z"
   },
   {
    "duration": 33,
    "start_time": "2022-06-30T00:48:58.212Z"
   },
   {
    "duration": 3,
    "start_time": "2022-06-30T00:48:58.247Z"
   },
   {
    "duration": 29,
    "start_time": "2022-06-30T00:48:58.251Z"
   },
   {
    "duration": 0,
    "start_time": "2022-06-30T00:48:58.282Z"
   },
   {
    "duration": 0,
    "start_time": "2022-06-30T00:48:58.283Z"
   },
   {
    "duration": 0,
    "start_time": "2022-06-30T00:48:58.284Z"
   },
   {
    "duration": 0,
    "start_time": "2022-06-30T00:48:58.285Z"
   },
   {
    "duration": 607,
    "start_time": "2022-06-30T00:50:34.562Z"
   },
   {
    "duration": 6,
    "start_time": "2022-06-30T00:50:54.321Z"
   },
   {
    "duration": 6,
    "start_time": "2022-06-30T00:51:38.600Z"
   },
   {
    "duration": 4,
    "start_time": "2022-06-30T00:51:41.826Z"
   },
   {
    "duration": 57,
    "start_time": "2022-06-30T00:53:37.505Z"
   },
   {
    "duration": 7,
    "start_time": "2022-06-30T00:53:50.772Z"
   },
   {
    "duration": 8,
    "start_time": "2022-06-30T00:54:00.831Z"
   },
   {
    "duration": 44823,
    "start_time": "2022-06-30T00:54:13.159Z"
   },
   {
    "duration": 11,
    "start_time": "2022-06-30T00:57:36.319Z"
   },
   {
    "duration": 3,
    "start_time": "2022-06-30T00:57:46.070Z"
   },
   {
    "duration": 332,
    "start_time": "2022-06-30T00:57:46.076Z"
   },
   {
    "duration": 9,
    "start_time": "2022-06-30T00:57:46.409Z"
   },
   {
    "duration": 15,
    "start_time": "2022-06-30T00:57:46.420Z"
   },
   {
    "duration": 12,
    "start_time": "2022-06-30T00:57:46.437Z"
   },
   {
    "duration": 15,
    "start_time": "2022-06-30T00:57:46.468Z"
   },
   {
    "duration": 17,
    "start_time": "2022-06-30T00:57:46.485Z"
   },
   {
    "duration": 16,
    "start_time": "2022-06-30T00:57:46.504Z"
   },
   {
    "duration": 83,
    "start_time": "2022-06-30T00:57:46.522Z"
   },
   {
    "duration": 40,
    "start_time": "2022-06-30T00:57:46.607Z"
   },
   {
    "duration": 62,
    "start_time": "2022-06-30T00:57:46.649Z"
   },
   {
    "duration": 13,
    "start_time": "2022-06-30T00:57:46.713Z"
   },
   {
    "duration": 6,
    "start_time": "2022-06-30T00:57:46.729Z"
   },
   {
    "duration": 14,
    "start_time": "2022-06-30T00:57:46.767Z"
   },
   {
    "duration": 7,
    "start_time": "2022-06-30T00:57:46.782Z"
   },
   {
    "duration": 285,
    "start_time": "2022-06-30T00:57:46.791Z"
   },
   {
    "duration": 7,
    "start_time": "2022-06-30T00:57:47.168Z"
   },
   {
    "duration": 6,
    "start_time": "2022-06-30T00:57:47.268Z"
   },
   {
    "duration": 8,
    "start_time": "2022-06-30T00:57:47.275Z"
   },
   {
    "duration": 8,
    "start_time": "2022-06-30T00:57:47.284Z"
   },
   {
    "duration": 5,
    "start_time": "2022-06-30T00:57:47.294Z"
   },
   {
    "duration": 10,
    "start_time": "2022-06-30T00:57:47.300Z"
   },
   {
    "duration": 6,
    "start_time": "2022-06-30T00:57:47.312Z"
   },
   {
    "duration": 13,
    "start_time": "2022-06-30T00:57:47.319Z"
   },
   {
    "duration": 35,
    "start_time": "2022-06-30T00:57:47.333Z"
   },
   {
    "duration": 13,
    "start_time": "2022-06-30T00:57:47.369Z"
   },
   {
    "duration": 8,
    "start_time": "2022-06-30T00:57:47.383Z"
   },
   {
    "duration": 22,
    "start_time": "2022-06-30T00:57:47.393Z"
   },
   {
    "duration": 3,
    "start_time": "2022-06-30T00:57:47.416Z"
   },
   {
    "duration": 16,
    "start_time": "2022-06-30T00:57:47.421Z"
   },
   {
    "duration": 0,
    "start_time": "2022-06-30T00:57:47.439Z"
   },
   {
    "duration": 0,
    "start_time": "2022-06-30T00:57:47.440Z"
   },
   {
    "duration": 0,
    "start_time": "2022-06-30T00:57:47.442Z"
   },
   {
    "duration": 0,
    "start_time": "2022-06-30T00:57:47.443Z"
   },
   {
    "duration": 26,
    "start_time": "2022-06-30T00:58:41.878Z"
   },
   {
    "duration": 4,
    "start_time": "2022-06-30T00:58:56.751Z"
   },
   {
    "duration": 3,
    "start_time": "2022-06-30T01:01:17.012Z"
   },
   {
    "duration": 307,
    "start_time": "2022-06-30T01:01:17.030Z"
   },
   {
    "duration": 8,
    "start_time": "2022-06-30T01:01:17.339Z"
   },
   {
    "duration": 18,
    "start_time": "2022-06-30T01:01:17.349Z"
   },
   {
    "duration": 8,
    "start_time": "2022-06-30T01:01:17.368Z"
   },
   {
    "duration": 14,
    "start_time": "2022-06-30T01:01:17.378Z"
   },
   {
    "duration": 13,
    "start_time": "2022-06-30T01:01:17.394Z"
   },
   {
    "duration": 14,
    "start_time": "2022-06-30T01:01:17.408Z"
   },
   {
    "duration": 80,
    "start_time": "2022-06-30T01:01:17.423Z"
   },
   {
    "duration": 37,
    "start_time": "2022-06-30T01:01:17.504Z"
   },
   {
    "duration": 62,
    "start_time": "2022-06-30T01:01:17.543Z"
   },
   {
    "duration": 13,
    "start_time": "2022-06-30T01:01:17.606Z"
   },
   {
    "duration": 7,
    "start_time": "2022-06-30T01:01:17.621Z"
   },
   {
    "duration": 39,
    "start_time": "2022-06-30T01:01:17.630Z"
   },
   {
    "duration": 7,
    "start_time": "2022-06-30T01:01:17.671Z"
   },
   {
    "duration": 292,
    "start_time": "2022-06-30T01:01:17.680Z"
   },
   {
    "duration": 647,
    "start_time": "2022-06-30T01:01:17.973Z"
   },
   {
    "duration": 912,
    "start_time": "2022-06-30T01:01:18.622Z"
   },
   {
    "duration": 0,
    "start_time": "2022-06-30T01:01:19.535Z"
   },
   {
    "duration": 0,
    "start_time": "2022-06-30T01:01:19.537Z"
   },
   {
    "duration": 0,
    "start_time": "2022-06-30T01:01:19.538Z"
   },
   {
    "duration": 0,
    "start_time": "2022-06-30T01:01:19.539Z"
   },
   {
    "duration": 0,
    "start_time": "2022-06-30T01:01:19.540Z"
   },
   {
    "duration": 0,
    "start_time": "2022-06-30T01:01:19.541Z"
   },
   {
    "duration": 0,
    "start_time": "2022-06-30T01:01:19.542Z"
   },
   {
    "duration": 0,
    "start_time": "2022-06-30T01:01:19.543Z"
   },
   {
    "duration": 0,
    "start_time": "2022-06-30T01:01:19.544Z"
   },
   {
    "duration": 0,
    "start_time": "2022-06-30T01:01:19.545Z"
   },
   {
    "duration": 0,
    "start_time": "2022-06-30T01:01:19.546Z"
   },
   {
    "duration": 0,
    "start_time": "2022-06-30T01:01:19.547Z"
   },
   {
    "duration": 0,
    "start_time": "2022-06-30T01:01:19.548Z"
   },
   {
    "duration": 0,
    "start_time": "2022-06-30T01:01:19.549Z"
   },
   {
    "duration": 0,
    "start_time": "2022-06-30T01:01:19.549Z"
   },
   {
    "duration": 0,
    "start_time": "2022-06-30T01:01:19.550Z"
   },
   {
    "duration": 0,
    "start_time": "2022-06-30T01:01:19.551Z"
   },
   {
    "duration": 3,
    "start_time": "2022-06-30T01:03:11.292Z"
   },
   {
    "duration": 381,
    "start_time": "2022-06-30T01:03:11.297Z"
   },
   {
    "duration": 9,
    "start_time": "2022-06-30T01:03:11.680Z"
   },
   {
    "duration": 13,
    "start_time": "2022-06-30T01:03:11.691Z"
   },
   {
    "duration": 13,
    "start_time": "2022-06-30T01:03:11.706Z"
   },
   {
    "duration": 17,
    "start_time": "2022-06-30T01:03:11.721Z"
   },
   {
    "duration": 16,
    "start_time": "2022-06-30T01:03:11.768Z"
   },
   {
    "duration": 17,
    "start_time": "2022-06-30T01:03:11.785Z"
   },
   {
    "duration": 83,
    "start_time": "2022-06-30T01:03:11.804Z"
   },
   {
    "duration": 43,
    "start_time": "2022-06-30T01:03:11.889Z"
   },
   {
    "duration": 70,
    "start_time": "2022-06-30T01:03:11.936Z"
   },
   {
    "duration": 15,
    "start_time": "2022-06-30T01:03:12.008Z"
   },
   {
    "duration": 7,
    "start_time": "2022-06-30T01:03:12.025Z"
   },
   {
    "duration": 43,
    "start_time": "2022-06-30T01:03:12.034Z"
   },
   {
    "duration": 8,
    "start_time": "2022-06-30T01:03:12.079Z"
   },
   {
    "duration": 291,
    "start_time": "2022-06-30T01:03:12.089Z"
   },
   {
    "duration": 4,
    "start_time": "2022-06-30T01:03:12.468Z"
   },
   {
    "duration": 102,
    "start_time": "2022-06-30T01:03:12.473Z"
   },
   {
    "duration": 11,
    "start_time": "2022-06-30T01:03:12.577Z"
   },
   {
    "duration": 404,
    "start_time": "2022-06-30T01:03:12.589Z"
   },
   {
    "duration": 6,
    "start_time": "2022-06-30T01:03:12.995Z"
   },
   {
    "duration": 21,
    "start_time": "2022-06-30T01:03:13.002Z"
   },
   {
    "duration": 14,
    "start_time": "2022-06-30T01:03:13.024Z"
   },
   {
    "duration": 13,
    "start_time": "2022-06-30T01:03:13.039Z"
   },
   {
    "duration": 13,
    "start_time": "2022-06-30T01:03:13.053Z"
   },
   {
    "duration": 27,
    "start_time": "2022-06-30T01:03:13.067Z"
   },
   {
    "duration": 21,
    "start_time": "2022-06-30T01:03:13.096Z"
   },
   {
    "duration": 8,
    "start_time": "2022-06-30T01:03:13.118Z"
   },
   {
    "duration": 18,
    "start_time": "2022-06-30T01:03:13.129Z"
   },
   {
    "duration": 23,
    "start_time": "2022-06-30T01:03:13.148Z"
   },
   {
    "duration": 0,
    "start_time": "2022-06-30T01:03:13.173Z"
   },
   {
    "duration": 0,
    "start_time": "2022-06-30T01:03:13.174Z"
   },
   {
    "duration": 0,
    "start_time": "2022-06-30T01:03:13.175Z"
   },
   {
    "duration": 1,
    "start_time": "2022-06-30T01:03:13.175Z"
   },
   {
    "duration": 7,
    "start_time": "2022-06-30T01:03:33.600Z"
   },
   {
    "duration": 3,
    "start_time": "2022-06-30T01:03:49.670Z"
   },
   {
    "duration": 11,
    "start_time": "2022-06-30T01:05:26.295Z"
   },
   {
    "duration": 11,
    "start_time": "2022-06-30T01:05:38.695Z"
   },
   {
    "duration": 11,
    "start_time": "2022-06-30T01:05:43.701Z"
   },
   {
    "duration": 10,
    "start_time": "2022-06-30T01:05:47.897Z"
   },
   {
    "duration": 3,
    "start_time": "2022-06-30T01:06:30.823Z"
   },
   {
    "duration": 350,
    "start_time": "2022-06-30T01:06:30.828Z"
   },
   {
    "duration": 8,
    "start_time": "2022-06-30T01:06:31.180Z"
   },
   {
    "duration": 19,
    "start_time": "2022-06-30T01:06:31.190Z"
   },
   {
    "duration": 14,
    "start_time": "2022-06-30T01:06:31.211Z"
   },
   {
    "duration": 33,
    "start_time": "2022-06-30T01:06:31.227Z"
   },
   {
    "duration": 16,
    "start_time": "2022-06-30T01:06:31.261Z"
   },
   {
    "duration": 16,
    "start_time": "2022-06-30T01:06:31.279Z"
   },
   {
    "duration": 40,
    "start_time": "2022-06-30T01:06:31.297Z"
   },
   {
    "duration": 62,
    "start_time": "2022-06-30T01:06:31.339Z"
   },
   {
    "duration": 41,
    "start_time": "2022-06-30T01:06:31.404Z"
   },
   {
    "duration": 31,
    "start_time": "2022-06-30T01:06:31.447Z"
   },
   {
    "duration": 13,
    "start_time": "2022-06-30T01:06:31.480Z"
   },
   {
    "duration": 24,
    "start_time": "2022-06-30T01:06:31.495Z"
   },
   {
    "duration": 8,
    "start_time": "2022-06-30T01:06:31.521Z"
   },
   {
    "duration": 337,
    "start_time": "2022-06-30T01:06:31.530Z"
   },
   {
    "duration": 4,
    "start_time": "2022-06-30T01:06:31.869Z"
   },
   {
    "duration": 97,
    "start_time": "2022-06-30T01:06:31.874Z"
   },
   {
    "duration": 6,
    "start_time": "2022-06-30T01:06:31.972Z"
   },
   {
    "duration": 460,
    "start_time": "2022-06-30T01:06:31.980Z"
   },
   {
    "duration": 5,
    "start_time": "2022-06-30T01:06:32.442Z"
   },
   {
    "duration": 7,
    "start_time": "2022-06-30T01:06:32.448Z"
   },
   {
    "duration": 3,
    "start_time": "2022-06-30T01:06:32.467Z"
   },
   {
    "duration": 4,
    "start_time": "2022-06-30T01:06:32.472Z"
   },
   {
    "duration": 8,
    "start_time": "2022-06-30T01:06:32.478Z"
   },
   {
    "duration": 7,
    "start_time": "2022-06-30T01:06:32.488Z"
   },
   {
    "duration": 15,
    "start_time": "2022-06-30T01:06:32.497Z"
   },
   {
    "duration": 3,
    "start_time": "2022-06-30T01:06:32.513Z"
   },
   {
    "duration": 13,
    "start_time": "2022-06-30T01:06:32.519Z"
   },
   {
    "duration": 6,
    "start_time": "2022-06-30T01:06:32.533Z"
   },
   {
    "duration": 3,
    "start_time": "2022-06-30T01:06:32.567Z"
   },
   {
    "duration": 13,
    "start_time": "2022-06-30T01:06:32.572Z"
   },
   {
    "duration": 0,
    "start_time": "2022-06-30T01:06:32.586Z"
   },
   {
    "duration": 0,
    "start_time": "2022-06-30T01:06:32.587Z"
   },
   {
    "duration": 0,
    "start_time": "2022-06-30T01:06:32.588Z"
   },
   {
    "duration": 0,
    "start_time": "2022-06-30T01:06:32.589Z"
   },
   {
    "duration": 5,
    "start_time": "2022-06-30T01:06:47.377Z"
   },
   {
    "duration": 3,
    "start_time": "2022-06-30T01:06:48.253Z"
   },
   {
    "duration": 8,
    "start_time": "2022-06-30T01:07:04.975Z"
   },
   {
    "duration": 8,
    "start_time": "2022-06-30T01:07:14.673Z"
   },
   {
    "duration": 2,
    "start_time": "2022-06-30T01:07:21.123Z"
   },
   {
    "duration": 321,
    "start_time": "2022-06-30T01:07:21.129Z"
   },
   {
    "duration": 8,
    "start_time": "2022-06-30T01:07:21.452Z"
   },
   {
    "duration": 8,
    "start_time": "2022-06-30T01:07:21.468Z"
   },
   {
    "duration": 12,
    "start_time": "2022-06-30T01:07:21.478Z"
   },
   {
    "duration": 17,
    "start_time": "2022-06-30T01:07:21.491Z"
   },
   {
    "duration": 13,
    "start_time": "2022-06-30T01:07:21.509Z"
   },
   {
    "duration": 43,
    "start_time": "2022-06-30T01:07:21.524Z"
   },
   {
    "duration": 39,
    "start_time": "2022-06-30T01:07:21.570Z"
   },
   {
    "duration": 37,
    "start_time": "2022-06-30T01:07:21.610Z"
   },
   {
    "duration": 41,
    "start_time": "2022-06-30T01:07:21.668Z"
   },
   {
    "duration": 11,
    "start_time": "2022-06-30T01:07:21.710Z"
   },
   {
    "duration": 5,
    "start_time": "2022-06-30T01:07:21.722Z"
   },
   {
    "duration": 41,
    "start_time": "2022-06-30T01:07:21.729Z"
   },
   {
    "duration": 7,
    "start_time": "2022-06-30T01:07:21.771Z"
   },
   {
    "duration": 196,
    "start_time": "2022-06-30T01:07:21.780Z"
   },
   {
    "duration": 96,
    "start_time": "2022-06-30T01:07:22.071Z"
   },
   {
    "duration": 7,
    "start_time": "2022-06-30T01:07:22.169Z"
   },
   {
    "duration": 6,
    "start_time": "2022-06-30T01:07:22.178Z"
   },
   {
    "duration": 415,
    "start_time": "2022-06-30T01:07:22.186Z"
   },
   {
    "duration": 5,
    "start_time": "2022-06-30T01:07:22.603Z"
   },
   {
    "duration": 6,
    "start_time": "2022-06-30T01:07:22.610Z"
   },
   {
    "duration": 14,
    "start_time": "2022-06-30T01:07:22.617Z"
   },
   {
    "duration": 5,
    "start_time": "2022-06-30T01:07:22.633Z"
   },
   {
    "duration": 4,
    "start_time": "2022-06-30T01:07:22.639Z"
   },
   {
    "duration": 3,
    "start_time": "2022-06-30T01:07:22.667Z"
   },
   {
    "duration": 19,
    "start_time": "2022-06-30T01:07:22.671Z"
   },
   {
    "duration": 3,
    "start_time": "2022-06-30T01:07:22.691Z"
   },
   {
    "duration": 13,
    "start_time": "2022-06-30T01:07:22.697Z"
   },
   {
    "duration": 6,
    "start_time": "2022-06-30T01:07:22.711Z"
   },
   {
    "duration": 5,
    "start_time": "2022-06-30T01:07:22.718Z"
   },
   {
    "duration": 11,
    "start_time": "2022-06-30T01:07:22.724Z"
   },
   {
    "duration": 0,
    "start_time": "2022-06-30T01:07:22.737Z"
   },
   {
    "duration": 0,
    "start_time": "2022-06-30T01:07:22.767Z"
   },
   {
    "duration": 0,
    "start_time": "2022-06-30T01:07:22.769Z"
   },
   {
    "duration": 0,
    "start_time": "2022-06-30T01:07:22.770Z"
   },
   {
    "duration": 11,
    "start_time": "2022-06-30T01:07:51.673Z"
   },
   {
    "duration": 10,
    "start_time": "2022-06-30T01:07:57.985Z"
   },
   {
    "duration": 3,
    "start_time": "2022-06-30T01:08:23.805Z"
   },
   {
    "duration": 333,
    "start_time": "2022-06-30T01:08:23.810Z"
   },
   {
    "duration": 9,
    "start_time": "2022-06-30T01:08:24.146Z"
   },
   {
    "duration": 19,
    "start_time": "2022-06-30T01:08:24.156Z"
   },
   {
    "duration": 9,
    "start_time": "2022-06-30T01:08:24.177Z"
   },
   {
    "duration": 15,
    "start_time": "2022-06-30T01:08:24.188Z"
   },
   {
    "duration": 14,
    "start_time": "2022-06-30T01:08:24.205Z"
   },
   {
    "duration": 57,
    "start_time": "2022-06-30T01:08:24.220Z"
   },
   {
    "duration": 39,
    "start_time": "2022-06-30T01:08:24.279Z"
   },
   {
    "duration": 61,
    "start_time": "2022-06-30T01:08:24.320Z"
   },
   {
    "duration": 40,
    "start_time": "2022-06-30T01:08:24.383Z"
   },
   {
    "duration": 11,
    "start_time": "2022-06-30T01:08:24.424Z"
   },
   {
    "duration": 33,
    "start_time": "2022-06-30T01:08:24.436Z"
   },
   {
    "duration": 12,
    "start_time": "2022-06-30T01:08:24.470Z"
   },
   {
    "duration": 6,
    "start_time": "2022-06-30T01:08:24.484Z"
   },
   {
    "duration": 280,
    "start_time": "2022-06-30T01:08:24.492Z"
   },
   {
    "duration": 5,
    "start_time": "2022-06-30T01:08:24.774Z"
   },
   {
    "duration": 98,
    "start_time": "2022-06-30T01:08:24.868Z"
   },
   {
    "duration": 5,
    "start_time": "2022-06-30T01:08:24.969Z"
   },
   {
    "duration": 463,
    "start_time": "2022-06-30T01:08:24.975Z"
   },
   {
    "duration": 5,
    "start_time": "2022-06-30T01:08:25.440Z"
   },
   {
    "duration": 8,
    "start_time": "2022-06-30T01:08:25.446Z"
   },
   {
    "duration": 4,
    "start_time": "2022-06-30T01:08:25.467Z"
   },
   {
    "duration": 8,
    "start_time": "2022-06-30T01:08:25.473Z"
   },
   {
    "duration": 5,
    "start_time": "2022-06-30T01:08:25.482Z"
   },
   {
    "duration": 5,
    "start_time": "2022-06-30T01:08:25.489Z"
   },
   {
    "duration": 15,
    "start_time": "2022-06-30T01:08:25.496Z"
   },
   {
    "duration": 10,
    "start_time": "2022-06-30T01:08:25.512Z"
   },
   {
    "duration": 2,
    "start_time": "2022-06-30T01:08:25.525Z"
   },
   {
    "duration": 48,
    "start_time": "2022-06-30T01:08:25.529Z"
   },
   {
    "duration": 6,
    "start_time": "2022-06-30T01:08:25.579Z"
   },
   {
    "duration": 5,
    "start_time": "2022-06-30T01:08:25.586Z"
   },
   {
    "duration": 11,
    "start_time": "2022-06-30T01:08:25.592Z"
   },
   {
    "duration": 0,
    "start_time": "2022-06-30T01:08:25.605Z"
   },
   {
    "duration": 0,
    "start_time": "2022-06-30T01:08:25.606Z"
   },
   {
    "duration": 0,
    "start_time": "2022-06-30T01:08:25.607Z"
   },
   {
    "duration": 0,
    "start_time": "2022-06-30T01:08:25.608Z"
   },
   {
    "duration": 3,
    "start_time": "2022-06-30T01:08:48.718Z"
   },
   {
    "duration": 317,
    "start_time": "2022-06-30T01:08:48.892Z"
   },
   {
    "duration": 8,
    "start_time": "2022-06-30T01:08:49.262Z"
   },
   {
    "duration": 9,
    "start_time": "2022-06-30T01:08:49.445Z"
   },
   {
    "duration": 8,
    "start_time": "2022-06-30T01:08:49.630Z"
   },
   {
    "duration": 13,
    "start_time": "2022-06-30T01:08:49.997Z"
   },
   {
    "duration": 13,
    "start_time": "2022-06-30T01:08:50.198Z"
   },
   {
    "duration": 13,
    "start_time": "2022-06-30T01:08:50.375Z"
   },
   {
    "duration": 40,
    "start_time": "2022-06-30T01:08:50.737Z"
   },
   {
    "duration": 40,
    "start_time": "2022-06-30T01:08:50.942Z"
   },
   {
    "duration": 40,
    "start_time": "2022-06-30T01:08:51.127Z"
   },
   {
    "duration": 14,
    "start_time": "2022-06-30T01:08:51.495Z"
   },
   {
    "duration": 7,
    "start_time": "2022-06-30T01:08:51.698Z"
   },
   {
    "duration": 12,
    "start_time": "2022-06-30T01:08:52.113Z"
   },
   {
    "duration": 6,
    "start_time": "2022-06-30T01:08:53.615Z"
   },
   {
    "duration": 354,
    "start_time": "2022-06-30T01:08:54.113Z"
   },
   {
    "duration": 3,
    "start_time": "2022-06-30T01:08:54.567Z"
   },
   {
    "duration": 5,
    "start_time": "2022-06-30T01:08:55.327Z"
   },
   {
    "duration": 4,
    "start_time": "2022-06-30T01:08:55.862Z"
   },
   {
    "duration": 393,
    "start_time": "2022-06-30T01:08:56.502Z"
   },
   {
    "duration": 6,
    "start_time": "2022-06-30T01:08:56.896Z"
   },
   {
    "duration": 15,
    "start_time": "2022-06-30T01:09:46.684Z"
   },
   {
    "duration": 9,
    "start_time": "2022-06-30T01:10:06.838Z"
   },
   {
    "duration": 3,
    "start_time": "2022-06-30T01:10:26.538Z"
   },
   {
    "duration": 320,
    "start_time": "2022-06-30T01:10:26.542Z"
   },
   {
    "duration": 8,
    "start_time": "2022-06-30T01:10:26.864Z"
   },
   {
    "duration": 11,
    "start_time": "2022-06-30T01:10:26.873Z"
   },
   {
    "duration": 14,
    "start_time": "2022-06-30T01:10:26.887Z"
   },
   {
    "duration": 15,
    "start_time": "2022-06-30T01:10:26.903Z"
   },
   {
    "duration": 14,
    "start_time": "2022-06-30T01:10:26.920Z"
   },
   {
    "duration": 41,
    "start_time": "2022-06-30T01:10:26.935Z"
   },
   {
    "duration": 39,
    "start_time": "2022-06-30T01:10:26.977Z"
   },
   {
    "duration": 64,
    "start_time": "2022-06-30T01:10:27.017Z"
   },
   {
    "duration": 39,
    "start_time": "2022-06-30T01:10:27.084Z"
   },
   {
    "duration": 11,
    "start_time": "2022-06-30T01:10:27.125Z"
   },
   {
    "duration": 32,
    "start_time": "2022-06-30T01:10:27.137Z"
   },
   {
    "duration": 11,
    "start_time": "2022-06-30T01:10:27.171Z"
   },
   {
    "duration": 6,
    "start_time": "2022-06-30T01:10:27.184Z"
   },
   {
    "duration": 285,
    "start_time": "2022-06-30T01:10:27.191Z"
   },
   {
    "duration": 91,
    "start_time": "2022-06-30T01:10:27.479Z"
   },
   {
    "duration": 103,
    "start_time": "2022-06-30T01:10:27.572Z"
   },
   {
    "duration": 8,
    "start_time": "2022-06-30T01:10:27.677Z"
   },
   {
    "duration": 455,
    "start_time": "2022-06-30T01:10:27.687Z"
   },
   {
    "duration": 6,
    "start_time": "2022-06-30T01:10:28.143Z"
   },
   {
    "duration": 20,
    "start_time": "2022-06-30T01:10:28.150Z"
   },
   {
    "duration": 6,
    "start_time": "2022-06-30T01:10:28.172Z"
   },
   {
    "duration": 4,
    "start_time": "2022-06-30T01:10:28.179Z"
   },
   {
    "duration": 5,
    "start_time": "2022-06-30T01:10:28.184Z"
   },
   {
    "duration": 4,
    "start_time": "2022-06-30T01:10:28.190Z"
   },
   {
    "duration": 18,
    "start_time": "2022-06-30T01:10:28.195Z"
   },
   {
    "duration": 12,
    "start_time": "2022-06-30T01:10:28.214Z"
   },
   {
    "duration": 38,
    "start_time": "2022-06-30T01:10:28.229Z"
   },
   {
    "duration": 13,
    "start_time": "2022-06-30T01:10:28.269Z"
   },
   {
    "duration": 8,
    "start_time": "2022-06-30T01:10:28.284Z"
   },
   {
    "duration": 4,
    "start_time": "2022-06-30T01:10:28.294Z"
   },
   {
    "duration": 16,
    "start_time": "2022-06-30T01:10:28.300Z"
   },
   {
    "duration": 0,
    "start_time": "2022-06-30T01:10:28.318Z"
   },
   {
    "duration": 0,
    "start_time": "2022-06-30T01:10:28.319Z"
   },
   {
    "duration": 0,
    "start_time": "2022-06-30T01:10:28.320Z"
   },
   {
    "duration": 0,
    "start_time": "2022-06-30T01:10:28.321Z"
   },
   {
    "duration": 5,
    "start_time": "2022-06-30T01:10:48.006Z"
   },
   {
    "duration": 3,
    "start_time": "2022-06-30T01:11:19.396Z"
   },
   {
    "duration": 335,
    "start_time": "2022-06-30T01:11:19.404Z"
   },
   {
    "duration": 9,
    "start_time": "2022-06-30T01:11:19.741Z"
   },
   {
    "duration": 22,
    "start_time": "2022-06-30T01:11:19.751Z"
   },
   {
    "duration": 10,
    "start_time": "2022-06-30T01:11:19.775Z"
   },
   {
    "duration": 17,
    "start_time": "2022-06-30T01:11:19.787Z"
   },
   {
    "duration": 15,
    "start_time": "2022-06-30T01:11:19.805Z"
   },
   {
    "duration": 50,
    "start_time": "2022-06-30T01:11:19.821Z"
   },
   {
    "duration": 44,
    "start_time": "2022-06-30T01:11:19.873Z"
   },
   {
    "duration": 64,
    "start_time": "2022-06-30T01:11:19.919Z"
   },
   {
    "duration": 42,
    "start_time": "2022-06-30T01:11:19.985Z"
   },
   {
    "duration": 14,
    "start_time": "2022-06-30T01:11:20.029Z"
   },
   {
    "duration": 8,
    "start_time": "2022-06-30T01:11:20.068Z"
   },
   {
    "duration": 13,
    "start_time": "2022-06-30T01:11:20.078Z"
   },
   {
    "duration": 6,
    "start_time": "2022-06-30T01:11:20.095Z"
   },
   {
    "duration": 273,
    "start_time": "2022-06-30T01:11:20.103Z"
   },
   {
    "duration": 99,
    "start_time": "2022-06-30T01:11:20.467Z"
   },
   {
    "duration": 8,
    "start_time": "2022-06-30T01:11:20.568Z"
   },
   {
    "duration": 7,
    "start_time": "2022-06-30T01:11:20.577Z"
   },
   {
    "duration": 421,
    "start_time": "2022-06-30T01:11:20.585Z"
   },
   {
    "duration": 5,
    "start_time": "2022-06-30T01:11:21.008Z"
   },
   {
    "duration": 11,
    "start_time": "2022-06-30T01:11:21.014Z"
   },
   {
    "duration": 8,
    "start_time": "2022-06-30T01:11:21.026Z"
   },
   {
    "duration": 7,
    "start_time": "2022-06-30T01:11:21.035Z"
   },
   {
    "duration": 4,
    "start_time": "2022-06-30T01:11:21.044Z"
   },
   {
    "duration": 18,
    "start_time": "2022-06-30T01:11:21.050Z"
   },
   {
    "duration": 14,
    "start_time": "2022-06-30T01:11:21.070Z"
   },
   {
    "duration": 12,
    "start_time": "2022-06-30T01:11:21.085Z"
   },
   {
    "duration": 4,
    "start_time": "2022-06-30T01:11:21.099Z"
   },
   {
    "duration": 13,
    "start_time": "2022-06-30T01:11:21.104Z"
   },
   {
    "duration": 5,
    "start_time": "2022-06-30T01:11:21.119Z"
   },
   {
    "duration": 43,
    "start_time": "2022-06-30T01:11:21.126Z"
   },
   {
    "duration": 14,
    "start_time": "2022-06-30T01:11:21.170Z"
   },
   {
    "duration": 0,
    "start_time": "2022-06-30T01:11:21.186Z"
   },
   {
    "duration": 0,
    "start_time": "2022-06-30T01:11:21.187Z"
   },
   {
    "duration": 0,
    "start_time": "2022-06-30T01:11:21.188Z"
   },
   {
    "duration": 0,
    "start_time": "2022-06-30T01:11:21.189Z"
   },
   {
    "duration": 3,
    "start_time": "2022-06-30T01:11:52.176Z"
   },
   {
    "duration": 4,
    "start_time": "2022-06-30T01:12:08.095Z"
   },
   {
    "duration": 2,
    "start_time": "2022-06-30T01:12:25.729Z"
   },
   {
    "duration": 308,
    "start_time": "2022-06-30T01:12:25.733Z"
   },
   {
    "duration": 8,
    "start_time": "2022-06-30T01:12:26.043Z"
   },
   {
    "duration": 16,
    "start_time": "2022-06-30T01:12:26.052Z"
   },
   {
    "duration": 10,
    "start_time": "2022-06-30T01:12:26.070Z"
   },
   {
    "duration": 16,
    "start_time": "2022-06-30T01:12:26.081Z"
   },
   {
    "duration": 15,
    "start_time": "2022-06-30T01:12:26.099Z"
   },
   {
    "duration": 52,
    "start_time": "2022-06-30T01:12:26.115Z"
   },
   {
    "duration": 38,
    "start_time": "2022-06-30T01:12:26.169Z"
   },
   {
    "duration": 59,
    "start_time": "2022-06-30T01:12:26.209Z"
   },
   {
    "duration": 41,
    "start_time": "2022-06-30T01:12:26.271Z"
   },
   {
    "duration": 13,
    "start_time": "2022-06-30T01:12:26.314Z"
   },
   {
    "duration": 7,
    "start_time": "2022-06-30T01:12:26.328Z"
   },
   {
    "duration": 13,
    "start_time": "2022-06-30T01:12:26.367Z"
   },
   {
    "duration": 7,
    "start_time": "2022-06-30T01:12:26.382Z"
   },
   {
    "duration": 287,
    "start_time": "2022-06-30T01:12:26.390Z"
   },
   {
    "duration": 89,
    "start_time": "2022-06-30T01:12:26.679Z"
   },
   {
    "duration": 102,
    "start_time": "2022-06-30T01:12:26.769Z"
   },
   {
    "duration": 10,
    "start_time": "2022-06-30T01:12:26.872Z"
   },
   {
    "duration": 455,
    "start_time": "2022-06-30T01:12:26.883Z"
   },
   {
    "duration": 6,
    "start_time": "2022-06-30T01:12:27.339Z"
   },
   {
    "duration": 21,
    "start_time": "2022-06-30T01:12:27.346Z"
   },
   {
    "duration": 7,
    "start_time": "2022-06-30T01:12:27.369Z"
   },
   {
    "duration": 4,
    "start_time": "2022-06-30T01:12:27.377Z"
   },
   {
    "duration": 4,
    "start_time": "2022-06-30T01:12:27.383Z"
   },
   {
    "duration": 4,
    "start_time": "2022-06-30T01:12:27.388Z"
   },
   {
    "duration": 15,
    "start_time": "2022-06-30T01:12:27.393Z"
   },
   {
    "duration": 10,
    "start_time": "2022-06-30T01:12:27.409Z"
   },
   {
    "duration": 3,
    "start_time": "2022-06-30T01:12:27.422Z"
   },
   {
    "duration": 48,
    "start_time": "2022-06-30T01:12:27.426Z"
   },
   {
    "duration": 4,
    "start_time": "2022-06-30T01:12:27.476Z"
   },
   {
    "duration": 5,
    "start_time": "2022-06-30T01:12:27.481Z"
   },
   {
    "duration": 13,
    "start_time": "2022-06-30T01:12:27.488Z"
   },
   {
    "duration": 0,
    "start_time": "2022-06-30T01:12:27.503Z"
   },
   {
    "duration": 0,
    "start_time": "2022-06-30T01:12:27.504Z"
   },
   {
    "duration": 0,
    "start_time": "2022-06-30T01:12:27.505Z"
   },
   {
    "duration": 0,
    "start_time": "2022-06-30T01:12:27.507Z"
   },
   {
    "duration": 11,
    "start_time": "2022-06-30T01:12:57.106Z"
   },
   {
    "duration": 5,
    "start_time": "2022-06-30T01:13:11.759Z"
   },
   {
    "duration": 853,
    "start_time": "2022-06-30T01:13:29.879Z"
   },
   {
    "duration": 3,
    "start_time": "2022-06-30T01:14:15.159Z"
   },
   {
    "duration": 8,
    "start_time": "2022-06-30T01:14:21.061Z"
   },
   {
    "duration": 12,
    "start_time": "2022-06-30T01:14:28.943Z"
   },
   {
    "duration": 851,
    "start_time": "2022-06-30T01:16:19.927Z"
   },
   {
    "duration": 909,
    "start_time": "2022-06-30T01:16:30.915Z"
   },
   {
    "duration": 2,
    "start_time": "2022-06-30T01:17:51.113Z"
   },
   {
    "duration": 3,
    "start_time": "2022-06-30T01:18:24.047Z"
   },
   {
    "duration": 3,
    "start_time": "2022-06-30T01:19:48.762Z"
   },
   {
    "duration": 346,
    "start_time": "2022-06-30T01:19:48.767Z"
   },
   {
    "duration": 8,
    "start_time": "2022-06-30T01:19:49.115Z"
   },
   {
    "duration": 9,
    "start_time": "2022-06-30T01:19:49.125Z"
   },
   {
    "duration": 10,
    "start_time": "2022-06-30T01:19:49.136Z"
   },
   {
    "duration": 34,
    "start_time": "2022-06-30T01:19:49.148Z"
   },
   {
    "duration": 15,
    "start_time": "2022-06-30T01:19:49.184Z"
   },
   {
    "duration": 14,
    "start_time": "2022-06-30T01:19:49.200Z"
   },
   {
    "duration": 82,
    "start_time": "2022-06-30T01:19:49.216Z"
   },
   {
    "duration": 39,
    "start_time": "2022-06-30T01:19:49.299Z"
   },
   {
    "duration": 57,
    "start_time": "2022-06-30T01:19:49.340Z"
   },
   {
    "duration": 12,
    "start_time": "2022-06-30T01:19:49.399Z"
   },
   {
    "duration": 7,
    "start_time": "2022-06-30T01:19:49.412Z"
   },
   {
    "duration": 13,
    "start_time": "2022-06-30T01:19:49.420Z"
   },
   {
    "duration": 7,
    "start_time": "2022-06-30T01:19:49.466Z"
   },
   {
    "duration": 293,
    "start_time": "2022-06-30T01:19:49.475Z"
   },
   {
    "duration": 3,
    "start_time": "2022-06-30T01:19:49.769Z"
   },
   {
    "duration": 95,
    "start_time": "2022-06-30T01:19:49.774Z"
   },
   {
    "duration": 7,
    "start_time": "2022-06-30T01:19:49.871Z"
   },
   {
    "duration": 10,
    "start_time": "2022-06-30T01:19:49.880Z"
   },
   {
    "duration": 0,
    "start_time": "2022-06-30T01:19:49.891Z"
   },
   {
    "duration": 0,
    "start_time": "2022-06-30T01:19:49.892Z"
   },
   {
    "duration": 0,
    "start_time": "2022-06-30T01:19:49.893Z"
   },
   {
    "duration": 0,
    "start_time": "2022-06-30T01:19:49.894Z"
   },
   {
    "duration": 0,
    "start_time": "2022-06-30T01:19:49.895Z"
   },
   {
    "duration": 0,
    "start_time": "2022-06-30T01:19:49.896Z"
   },
   {
    "duration": 0,
    "start_time": "2022-06-30T01:19:49.897Z"
   },
   {
    "duration": 0,
    "start_time": "2022-06-30T01:19:49.898Z"
   },
   {
    "duration": 0,
    "start_time": "2022-06-30T01:19:49.899Z"
   },
   {
    "duration": 0,
    "start_time": "2022-06-30T01:19:49.900Z"
   },
   {
    "duration": 0,
    "start_time": "2022-06-30T01:19:49.901Z"
   },
   {
    "duration": 0,
    "start_time": "2022-06-30T01:19:49.902Z"
   },
   {
    "duration": 0,
    "start_time": "2022-06-30T01:19:49.903Z"
   },
   {
    "duration": 0,
    "start_time": "2022-06-30T01:19:49.904Z"
   },
   {
    "duration": 0,
    "start_time": "2022-06-30T01:19:49.905Z"
   },
   {
    "duration": 0,
    "start_time": "2022-06-30T01:19:49.905Z"
   },
   {
    "duration": 0,
    "start_time": "2022-06-30T01:19:49.906Z"
   },
   {
    "duration": 3,
    "start_time": "2022-06-30T01:20:11.544Z"
   },
   {
    "duration": 316,
    "start_time": "2022-06-30T01:20:11.549Z"
   },
   {
    "duration": 9,
    "start_time": "2022-06-30T01:20:11.867Z"
   },
   {
    "duration": 11,
    "start_time": "2022-06-30T01:20:11.877Z"
   },
   {
    "duration": 10,
    "start_time": "2022-06-30T01:20:11.890Z"
   },
   {
    "duration": 15,
    "start_time": "2022-06-30T01:20:11.902Z"
   },
   {
    "duration": 13,
    "start_time": "2022-06-30T01:20:11.918Z"
   },
   {
    "duration": 48,
    "start_time": "2022-06-30T01:20:11.932Z"
   },
   {
    "duration": 39,
    "start_time": "2022-06-30T01:20:11.981Z"
   },
   {
    "duration": 68,
    "start_time": "2022-06-30T01:20:12.022Z"
   },
   {
    "duration": 44,
    "start_time": "2022-06-30T01:20:12.092Z"
   },
   {
    "duration": 32,
    "start_time": "2022-06-30T01:20:12.137Z"
   },
   {
    "duration": 6,
    "start_time": "2022-06-30T01:20:12.170Z"
   },
   {
    "duration": 11,
    "start_time": "2022-06-30T01:20:12.178Z"
   },
   {
    "duration": 6,
    "start_time": "2022-06-30T01:20:12.191Z"
   },
   {
    "duration": 372,
    "start_time": "2022-06-30T01:20:12.198Z"
   },
   {
    "duration": 3,
    "start_time": "2022-06-30T01:20:12.576Z"
   },
   {
    "duration": 94,
    "start_time": "2022-06-30T01:20:12.581Z"
   },
   {
    "duration": 5,
    "start_time": "2022-06-30T01:20:12.677Z"
   },
   {
    "duration": 4,
    "start_time": "2022-06-30T01:20:12.683Z"
   },
   {
    "duration": 10,
    "start_time": "2022-06-30T01:20:12.689Z"
   },
   {
    "duration": 8,
    "start_time": "2022-06-30T01:20:12.701Z"
   },
   {
    "duration": 5,
    "start_time": "2022-06-30T01:20:12.710Z"
   },
   {
    "duration": 4,
    "start_time": "2022-06-30T01:20:12.717Z"
   },
   {
    "duration": 5,
    "start_time": "2022-06-30T01:20:12.723Z"
   },
   {
    "duration": 2,
    "start_time": "2022-06-30T01:20:12.768Z"
   },
   {
    "duration": 215,
    "start_time": "2022-06-30T01:20:12.772Z"
   },
   {
    "duration": 0,
    "start_time": "2022-06-30T01:20:12.990Z"
   },
   {
    "duration": 0,
    "start_time": "2022-06-30T01:20:12.991Z"
   },
   {
    "duration": 0,
    "start_time": "2022-06-30T01:20:12.993Z"
   },
   {
    "duration": 0,
    "start_time": "2022-06-30T01:20:12.994Z"
   },
   {
    "duration": 0,
    "start_time": "2022-06-30T01:20:12.995Z"
   },
   {
    "duration": 0,
    "start_time": "2022-06-30T01:20:12.997Z"
   },
   {
    "duration": 0,
    "start_time": "2022-06-30T01:20:12.998Z"
   },
   {
    "duration": 0,
    "start_time": "2022-06-30T01:20:13.000Z"
   },
   {
    "duration": 0,
    "start_time": "2022-06-30T01:20:13.001Z"
   },
   {
    "duration": 0,
    "start_time": "2022-06-30T01:20:13.003Z"
   },
   {
    "duration": 3,
    "start_time": "2022-06-30T01:20:36.960Z"
   },
   {
    "duration": 308,
    "start_time": "2022-06-30T01:20:36.966Z"
   },
   {
    "duration": 8,
    "start_time": "2022-06-30T01:20:37.276Z"
   },
   {
    "duration": 11,
    "start_time": "2022-06-30T01:20:37.285Z"
   },
   {
    "duration": 11,
    "start_time": "2022-06-30T01:20:37.297Z"
   },
   {
    "duration": 16,
    "start_time": "2022-06-30T01:20:37.310Z"
   },
   {
    "duration": 48,
    "start_time": "2022-06-30T01:20:37.328Z"
   },
   {
    "duration": 18,
    "start_time": "2022-06-30T01:20:37.378Z"
   },
   {
    "duration": 76,
    "start_time": "2022-06-30T01:20:37.398Z"
   },
   {
    "duration": 37,
    "start_time": "2022-06-30T01:20:37.476Z"
   },
   {
    "duration": 53,
    "start_time": "2022-06-30T01:20:37.516Z"
   },
   {
    "duration": 12,
    "start_time": "2022-06-30T01:20:37.571Z"
   },
   {
    "duration": 5,
    "start_time": "2022-06-30T01:20:37.585Z"
   },
   {
    "duration": 11,
    "start_time": "2022-06-30T01:20:37.592Z"
   },
   {
    "duration": 7,
    "start_time": "2022-06-30T01:20:37.604Z"
   },
   {
    "duration": 264,
    "start_time": "2022-06-30T01:20:37.612Z"
   },
   {
    "duration": 4,
    "start_time": "2022-06-30T01:20:37.968Z"
   },
   {
    "duration": 98,
    "start_time": "2022-06-30T01:20:37.973Z"
   },
   {
    "duration": 5,
    "start_time": "2022-06-30T01:20:38.073Z"
   },
   {
    "duration": 6,
    "start_time": "2022-06-30T01:20:38.080Z"
   },
   {
    "duration": 6,
    "start_time": "2022-06-30T01:20:38.088Z"
   },
   {
    "duration": 5,
    "start_time": "2022-06-30T01:20:38.095Z"
   },
   {
    "duration": 6,
    "start_time": "2022-06-30T01:20:38.101Z"
   },
   {
    "duration": 4,
    "start_time": "2022-06-30T01:20:38.109Z"
   },
   {
    "duration": 5,
    "start_time": "2022-06-30T01:20:38.114Z"
   },
   {
    "duration": 4,
    "start_time": "2022-06-30T01:20:38.121Z"
   },
   {
    "duration": 206,
    "start_time": "2022-06-30T01:20:38.168Z"
   },
   {
    "duration": 0,
    "start_time": "2022-06-30T01:20:38.376Z"
   },
   {
    "duration": 0,
    "start_time": "2022-06-30T01:20:38.378Z"
   },
   {
    "duration": 0,
    "start_time": "2022-06-30T01:20:38.379Z"
   },
   {
    "duration": 0,
    "start_time": "2022-06-30T01:20:38.380Z"
   },
   {
    "duration": 0,
    "start_time": "2022-06-30T01:20:38.381Z"
   },
   {
    "duration": 0,
    "start_time": "2022-06-30T01:20:38.382Z"
   },
   {
    "duration": 0,
    "start_time": "2022-06-30T01:20:38.383Z"
   },
   {
    "duration": 0,
    "start_time": "2022-06-30T01:20:38.384Z"
   },
   {
    "duration": 0,
    "start_time": "2022-06-30T01:20:38.385Z"
   },
   {
    "duration": 0,
    "start_time": "2022-06-30T01:20:38.387Z"
   },
   {
    "duration": 3,
    "start_time": "2022-06-30T01:20:55.200Z"
   },
   {
    "duration": 6,
    "start_time": "2022-06-30T01:20:56.462Z"
   },
   {
    "duration": 3,
    "start_time": "2022-06-30T01:20:57.950Z"
   },
   {
    "duration": 3,
    "start_time": "2022-06-30T01:21:02.558Z"
   },
   {
    "duration": 6,
    "start_time": "2022-06-30T01:21:03.460Z"
   },
   {
    "duration": 12,
    "start_time": "2022-06-30T01:21:05.966Z"
   },
   {
    "duration": 15,
    "start_time": "2022-06-30T01:21:07.066Z"
   },
   {
    "duration": 16,
    "start_time": "2022-06-30T01:21:15.010Z"
   },
   {
    "duration": 3,
    "start_time": "2022-06-30T01:21:25.288Z"
   },
   {
    "duration": 326,
    "start_time": "2022-06-30T01:21:25.293Z"
   },
   {
    "duration": 8,
    "start_time": "2022-06-30T01:21:25.621Z"
   },
   {
    "duration": 8,
    "start_time": "2022-06-30T01:21:25.631Z"
   },
   {
    "duration": 9,
    "start_time": "2022-06-30T01:21:25.641Z"
   },
   {
    "duration": 13,
    "start_time": "2022-06-30T01:21:25.667Z"
   },
   {
    "duration": 13,
    "start_time": "2022-06-30T01:21:25.682Z"
   },
   {
    "duration": 13,
    "start_time": "2022-06-30T01:21:25.696Z"
   },
   {
    "duration": 75,
    "start_time": "2022-06-30T01:21:25.711Z"
   },
   {
    "duration": 36,
    "start_time": "2022-06-30T01:21:25.788Z"
   },
   {
    "duration": 57,
    "start_time": "2022-06-30T01:21:25.827Z"
   },
   {
    "duration": 11,
    "start_time": "2022-06-30T01:21:25.886Z"
   },
   {
    "duration": 6,
    "start_time": "2022-06-30T01:21:25.899Z"
   },
   {
    "duration": 12,
    "start_time": "2022-06-30T01:21:25.906Z"
   },
   {
    "duration": 6,
    "start_time": "2022-06-30T01:21:25.919Z"
   },
   {
    "duration": 248,
    "start_time": "2022-06-30T01:21:25.926Z"
   },
   {
    "duration": 95,
    "start_time": "2022-06-30T01:21:26.176Z"
   },
   {
    "duration": 103,
    "start_time": "2022-06-30T01:21:26.274Z"
   },
   {
    "duration": 8,
    "start_time": "2022-06-30T01:21:26.379Z"
   },
   {
    "duration": 6,
    "start_time": "2022-06-30T01:21:26.388Z"
   },
   {
    "duration": 8,
    "start_time": "2022-06-30T01:21:26.396Z"
   },
   {
    "duration": 5,
    "start_time": "2022-06-30T01:21:26.405Z"
   },
   {
    "duration": 5,
    "start_time": "2022-06-30T01:21:26.411Z"
   },
   {
    "duration": 4,
    "start_time": "2022-06-30T01:21:26.418Z"
   },
   {
    "duration": 4,
    "start_time": "2022-06-30T01:21:26.423Z"
   },
   {
    "duration": 4,
    "start_time": "2022-06-30T01:21:26.429Z"
   },
   {
    "duration": 2,
    "start_time": "2022-06-30T01:21:26.468Z"
   },
   {
    "duration": 8,
    "start_time": "2022-06-30T01:21:26.472Z"
   },
   {
    "duration": 2,
    "start_time": "2022-06-30T01:21:26.483Z"
   },
   {
    "duration": 4,
    "start_time": "2022-06-30T01:21:26.487Z"
   },
   {
    "duration": 6,
    "start_time": "2022-06-30T01:21:26.492Z"
   },
   {
    "duration": 17,
    "start_time": "2022-06-30T01:21:26.500Z"
   },
   {
    "duration": 0,
    "start_time": "2022-06-30T01:21:26.519Z"
   },
   {
    "duration": 0,
    "start_time": "2022-06-30T01:21:26.520Z"
   },
   {
    "duration": 0,
    "start_time": "2022-06-30T01:21:26.521Z"
   },
   {
    "duration": 0,
    "start_time": "2022-06-30T01:21:26.522Z"
   },
   {
    "duration": 10,
    "start_time": "2022-06-30T01:27:15.049Z"
   },
   {
    "duration": 18,
    "start_time": "2022-06-30T01:27:28.389Z"
   },
   {
    "duration": 3,
    "start_time": "2022-06-30T01:27:37.325Z"
   },
   {
    "duration": 312,
    "start_time": "2022-06-30T01:27:37.332Z"
   },
   {
    "duration": 8,
    "start_time": "2022-06-30T01:27:37.646Z"
   },
   {
    "duration": 19,
    "start_time": "2022-06-30T01:27:37.656Z"
   },
   {
    "duration": 8,
    "start_time": "2022-06-30T01:27:37.677Z"
   },
   {
    "duration": 17,
    "start_time": "2022-06-30T01:27:37.687Z"
   },
   {
    "duration": 15,
    "start_time": "2022-06-30T01:27:37.706Z"
   },
   {
    "duration": 54,
    "start_time": "2022-06-30T01:27:37.722Z"
   },
   {
    "duration": 40,
    "start_time": "2022-06-30T01:27:37.778Z"
   },
   {
    "duration": 65,
    "start_time": "2022-06-30T01:27:37.819Z"
   },
   {
    "duration": 39,
    "start_time": "2022-06-30T01:27:37.887Z"
   },
   {
    "duration": 11,
    "start_time": "2022-06-30T01:27:37.927Z"
   },
   {
    "duration": 29,
    "start_time": "2022-06-30T01:27:37.940Z"
   },
   {
    "duration": 20,
    "start_time": "2022-06-30T01:27:37.971Z"
   },
   {
    "duration": 6,
    "start_time": "2022-06-30T01:27:37.993Z"
   },
   {
    "duration": 369,
    "start_time": "2022-06-30T01:27:38.001Z"
   },
   {
    "duration": 93,
    "start_time": "2022-06-30T01:27:38.375Z"
   },
   {
    "duration": 7,
    "start_time": "2022-06-30T01:27:38.470Z"
   },
   {
    "duration": 6,
    "start_time": "2022-06-30T01:27:38.479Z"
   },
   {
    "duration": 5,
    "start_time": "2022-06-30T01:27:38.486Z"
   },
   {
    "duration": 7,
    "start_time": "2022-06-30T01:27:38.493Z"
   },
   {
    "duration": 5,
    "start_time": "2022-06-30T01:27:38.502Z"
   },
   {
    "duration": 8,
    "start_time": "2022-06-30T01:27:38.508Z"
   },
   {
    "duration": 4,
    "start_time": "2022-06-30T01:27:38.517Z"
   },
   {
    "duration": 5,
    "start_time": "2022-06-30T01:27:38.522Z"
   },
   {
    "duration": 4,
    "start_time": "2022-06-30T01:27:38.528Z"
   },
   {
    "duration": 3,
    "start_time": "2022-06-30T01:27:38.567Z"
   },
   {
    "duration": 9,
    "start_time": "2022-06-30T01:27:38.571Z"
   },
   {
    "duration": 3,
    "start_time": "2022-06-30T01:27:38.583Z"
   },
   {
    "duration": 19,
    "start_time": "2022-06-30T01:27:38.587Z"
   },
   {
    "duration": 5,
    "start_time": "2022-06-30T01:27:38.607Z"
   },
   {
    "duration": 6,
    "start_time": "2022-06-30T01:27:38.613Z"
   },
   {
    "duration": 5,
    "start_time": "2022-06-30T01:27:38.620Z"
   },
   {
    "duration": 67,
    "start_time": "2022-06-30T01:27:38.627Z"
   },
   {
    "duration": 19,
    "start_time": "2022-06-30T01:30:06.291Z"
   },
   {
    "duration": 18,
    "start_time": "2022-06-30T01:30:24.527Z"
   },
   {
    "duration": 4,
    "start_time": "2022-06-30T01:38:09.863Z"
   },
   {
    "duration": 334,
    "start_time": "2022-06-30T01:38:09.869Z"
   },
   {
    "duration": 9,
    "start_time": "2022-06-30T01:38:10.205Z"
   },
   {
    "duration": 13,
    "start_time": "2022-06-30T01:38:10.216Z"
   },
   {
    "duration": 11,
    "start_time": "2022-06-30T01:38:10.232Z"
   },
   {
    "duration": 37,
    "start_time": "2022-06-30T01:38:10.245Z"
   },
   {
    "duration": 16,
    "start_time": "2022-06-30T01:38:10.284Z"
   },
   {
    "duration": 16,
    "start_time": "2022-06-30T01:38:10.303Z"
   },
   {
    "duration": 86,
    "start_time": "2022-06-30T01:38:10.321Z"
   },
   {
    "duration": 58,
    "start_time": "2022-06-30T01:38:10.409Z"
   },
   {
    "duration": 44,
    "start_time": "2022-06-30T01:38:10.471Z"
   },
   {
    "duration": 14,
    "start_time": "2022-06-30T01:38:10.518Z"
   },
   {
    "duration": 37,
    "start_time": "2022-06-30T01:38:10.534Z"
   },
   {
    "duration": 13,
    "start_time": "2022-06-30T01:38:10.574Z"
   },
   {
    "duration": 7,
    "start_time": "2022-06-30T01:38:10.589Z"
   },
   {
    "duration": 370,
    "start_time": "2022-06-30T01:38:10.598Z"
   },
   {
    "duration": 4,
    "start_time": "2022-06-30T01:38:10.970Z"
   },
   {
    "duration": 100,
    "start_time": "2022-06-30T01:38:10.976Z"
   },
   {
    "duration": 4,
    "start_time": "2022-06-30T01:38:11.078Z"
   },
   {
    "duration": 5,
    "start_time": "2022-06-30T01:38:11.084Z"
   },
   {
    "duration": 8,
    "start_time": "2022-06-30T01:38:11.090Z"
   },
   {
    "duration": 5,
    "start_time": "2022-06-30T01:38:11.100Z"
   },
   {
    "duration": 7,
    "start_time": "2022-06-30T01:38:11.106Z"
   },
   {
    "duration": 5,
    "start_time": "2022-06-30T01:38:11.114Z"
   },
   {
    "duration": 5,
    "start_time": "2022-06-30T01:38:11.121Z"
   },
   {
    "duration": 41,
    "start_time": "2022-06-30T01:38:11.127Z"
   },
   {
    "duration": 4,
    "start_time": "2022-06-30T01:38:11.170Z"
   },
   {
    "duration": 7,
    "start_time": "2022-06-30T01:38:11.176Z"
   },
   {
    "duration": 4,
    "start_time": "2022-06-30T01:38:11.186Z"
   },
   {
    "duration": 4,
    "start_time": "2022-06-30T01:38:11.192Z"
   },
   {
    "duration": 56,
    "start_time": "2022-06-30T01:38:11.198Z"
   },
   {
    "duration": 15,
    "start_time": "2022-06-30T01:38:32.369Z"
   },
   {
    "duration": 15,
    "start_time": "2022-06-30T01:38:53.311Z"
   },
   {
    "duration": 14,
    "start_time": "2022-06-30T01:39:00.651Z"
   },
   {
    "duration": 3,
    "start_time": "2022-06-30T01:39:47.551Z"
   },
   {
    "duration": 3,
    "start_time": "2022-06-30T01:39:52.669Z"
   },
   {
    "duration": 368,
    "start_time": "2022-06-30T01:39:52.674Z"
   },
   {
    "duration": 9,
    "start_time": "2022-06-30T01:39:53.044Z"
   },
   {
    "duration": 19,
    "start_time": "2022-06-30T01:39:53.055Z"
   },
   {
    "duration": 10,
    "start_time": "2022-06-30T01:39:53.076Z"
   },
   {
    "duration": 17,
    "start_time": "2022-06-30T01:39:53.088Z"
   },
   {
    "duration": 14,
    "start_time": "2022-06-30T01:39:53.107Z"
   },
   {
    "duration": 53,
    "start_time": "2022-06-30T01:39:53.123Z"
   },
   {
    "duration": 43,
    "start_time": "2022-06-30T01:39:53.178Z"
   },
   {
    "duration": 64,
    "start_time": "2022-06-30T01:39:53.222Z"
   },
   {
    "duration": 42,
    "start_time": "2022-06-30T01:39:53.289Z"
   },
   {
    "duration": 12,
    "start_time": "2022-06-30T01:39:53.333Z"
   },
   {
    "duration": 7,
    "start_time": "2022-06-30T01:39:53.368Z"
   },
   {
    "duration": 13,
    "start_time": "2022-06-30T01:39:53.377Z"
   },
   {
    "duration": 7,
    "start_time": "2022-06-30T01:39:53.392Z"
   },
   {
    "duration": 276,
    "start_time": "2022-06-30T01:39:53.401Z"
   },
   {
    "duration": 4,
    "start_time": "2022-06-30T01:39:53.678Z"
   },
   {
    "duration": 112,
    "start_time": "2022-06-30T01:39:53.768Z"
   },
   {
    "duration": 5,
    "start_time": "2022-06-30T01:39:53.882Z"
   },
   {
    "duration": 5,
    "start_time": "2022-06-30T01:39:53.888Z"
   },
   {
    "duration": 10,
    "start_time": "2022-06-30T01:39:53.894Z"
   },
   {
    "duration": 7,
    "start_time": "2022-06-30T01:39:53.905Z"
   },
   {
    "duration": 4,
    "start_time": "2022-06-30T01:39:53.914Z"
   },
   {
    "duration": 5,
    "start_time": "2022-06-30T01:39:53.920Z"
   },
   {
    "duration": 4,
    "start_time": "2022-06-30T01:39:53.927Z"
   },
   {
    "duration": 8,
    "start_time": "2022-06-30T01:39:53.933Z"
   },
   {
    "duration": 2,
    "start_time": "2022-06-30T01:39:53.967Z"
   },
   {
    "duration": 8,
    "start_time": "2022-06-30T01:39:53.971Z"
   },
   {
    "duration": 3,
    "start_time": "2022-06-30T01:39:53.982Z"
   },
   {
    "duration": 5,
    "start_time": "2022-06-30T01:39:53.987Z"
   },
   {
    "duration": 26,
    "start_time": "2022-06-30T01:39:53.993Z"
   },
   {
    "duration": 16,
    "start_time": "2022-06-30T01:39:54.020Z"
   },
   {
    "duration": 45,
    "start_time": "2022-06-30T01:39:54.037Z"
   },
   {
    "duration": 4,
    "start_time": "2022-06-30T01:40:24.938Z"
   },
   {
    "duration": 904,
    "start_time": "2022-06-30T01:40:25.818Z"
   },
   {
    "duration": 909,
    "start_time": "2022-06-30T01:40:26.746Z"
   },
   {
    "duration": 932,
    "start_time": "2022-06-30T01:40:27.657Z"
   },
   {
    "duration": 4,
    "start_time": "2022-06-30T01:41:06.994Z"
   },
   {
    "duration": 5,
    "start_time": "2022-06-30T01:42:16.686Z"
   },
   {
    "duration": 4,
    "start_time": "2022-06-30T01:42:26.858Z"
   },
   {
    "duration": 3,
    "start_time": "2022-06-30T01:42:53.594Z"
   },
   {
    "duration": 330,
    "start_time": "2022-06-30T01:42:53.598Z"
   },
   {
    "duration": 9,
    "start_time": "2022-06-30T01:42:53.929Z"
   },
   {
    "duration": 11,
    "start_time": "2022-06-30T01:42:53.939Z"
   },
   {
    "duration": 22,
    "start_time": "2022-06-30T01:42:53.952Z"
   },
   {
    "duration": 16,
    "start_time": "2022-06-30T01:42:53.975Z"
   },
   {
    "duration": 12,
    "start_time": "2022-06-30T01:42:53.993Z"
   },
   {
    "duration": 12,
    "start_time": "2022-06-30T01:42:54.007Z"
   },
   {
    "duration": 81,
    "start_time": "2022-06-30T01:42:54.021Z"
   },
   {
    "duration": 35,
    "start_time": "2022-06-30T01:42:54.104Z"
   },
   {
    "duration": 57,
    "start_time": "2022-06-30T01:42:54.142Z"
   },
   {
    "duration": 11,
    "start_time": "2022-06-30T01:42:54.200Z"
   },
   {
    "duration": 6,
    "start_time": "2022-06-30T01:42:54.212Z"
   },
   {
    "duration": 11,
    "start_time": "2022-06-30T01:42:54.220Z"
   },
   {
    "duration": 41,
    "start_time": "2022-06-30T01:42:54.233Z"
   },
   {
    "duration": 201,
    "start_time": "2022-06-30T01:42:54.275Z"
   },
   {
    "duration": 8,
    "start_time": "2022-06-30T01:42:54.569Z"
   },
   {
    "duration": 11,
    "start_time": "2022-06-30T01:42:54.668Z"
   },
   {
    "duration": 8,
    "start_time": "2022-06-30T01:42:54.681Z"
   },
   {
    "duration": 8,
    "start_time": "2022-06-30T01:42:54.691Z"
   },
   {
    "duration": 5,
    "start_time": "2022-06-30T01:42:54.701Z"
   },
   {
    "duration": 4,
    "start_time": "2022-06-30T01:42:54.708Z"
   },
   {
    "duration": 5,
    "start_time": "2022-06-30T01:42:54.713Z"
   },
   {
    "duration": 3,
    "start_time": "2022-06-30T01:42:54.720Z"
   },
   {
    "duration": 3,
    "start_time": "2022-06-30T01:42:54.725Z"
   },
   {
    "duration": 39,
    "start_time": "2022-06-30T01:42:54.730Z"
   },
   {
    "duration": 4,
    "start_time": "2022-06-30T01:42:54.771Z"
   },
   {
    "duration": 5,
    "start_time": "2022-06-30T01:42:54.777Z"
   },
   {
    "duration": 906,
    "start_time": "2022-06-30T01:42:54.785Z"
   },
   {
    "duration": 928,
    "start_time": "2022-06-30T01:42:55.693Z"
   },
   {
    "duration": 942,
    "start_time": "2022-06-30T01:42:56.622Z"
   },
   {
    "duration": 5,
    "start_time": "2022-06-30T01:42:57.567Z"
   },
   {
    "duration": 13,
    "start_time": "2022-06-30T01:42:57.574Z"
   },
   {
    "duration": 4,
    "start_time": "2022-06-30T01:43:58.768Z"
   },
   {
    "duration": 943,
    "start_time": "2022-06-30T01:44:01.230Z"
   },
   {
    "duration": 980,
    "start_time": "2022-06-30T01:44:04.334Z"
   },
   {
    "duration": 951,
    "start_time": "2022-06-30T01:44:05.316Z"
   },
   {
    "duration": 3,
    "start_time": "2022-06-30T01:44:19.476Z"
   },
   {
    "duration": 340,
    "start_time": "2022-06-30T01:44:19.664Z"
   },
   {
    "duration": 8,
    "start_time": "2022-06-30T01:44:20.056Z"
   },
   {
    "duration": 8,
    "start_time": "2022-06-30T01:44:20.264Z"
   },
   {
    "duration": 8,
    "start_time": "2022-06-30T01:44:20.454Z"
   },
   {
    "duration": 15,
    "start_time": "2022-06-30T01:44:20.855Z"
   },
   {
    "duration": 14,
    "start_time": "2022-06-30T01:44:21.062Z"
   },
   {
    "duration": 14,
    "start_time": "2022-06-30T01:44:21.406Z"
   },
   {
    "duration": 40,
    "start_time": "2022-06-30T01:44:21.831Z"
   },
   {
    "duration": 38,
    "start_time": "2022-06-30T01:44:22.038Z"
   },
   {
    "duration": 40,
    "start_time": "2022-06-30T01:44:22.448Z"
   },
   {
    "duration": 12,
    "start_time": "2022-06-30T01:44:22.998Z"
   },
   {
    "duration": 7,
    "start_time": "2022-06-30T01:44:23.491Z"
   },
   {
    "duration": 12,
    "start_time": "2022-06-30T01:44:23.734Z"
   },
   {
    "duration": 11,
    "start_time": "2022-06-30T01:44:27.048Z"
   },
   {
    "duration": 5,
    "start_time": "2022-06-30T01:46:12.992Z"
   },
   {
    "duration": 924,
    "start_time": "2022-06-30T01:46:15.019Z"
   },
   {
    "duration": 20,
    "start_time": "2022-06-30T01:47:05.095Z"
   },
   {
    "duration": 3,
    "start_time": "2022-06-30T01:49:34.076Z"
   },
   {
    "duration": 336,
    "start_time": "2022-06-30T01:49:34.083Z"
   },
   {
    "duration": 8,
    "start_time": "2022-06-30T01:49:34.421Z"
   },
   {
    "duration": 23,
    "start_time": "2022-06-30T01:49:34.430Z"
   },
   {
    "duration": 26,
    "start_time": "2022-06-30T01:49:34.455Z"
   },
   {
    "duration": 28,
    "start_time": "2022-06-30T01:49:34.482Z"
   },
   {
    "duration": 15,
    "start_time": "2022-06-30T01:49:34.512Z"
   },
   {
    "duration": 18,
    "start_time": "2022-06-30T01:49:34.529Z"
   },
   {
    "duration": 46,
    "start_time": "2022-06-30T01:49:34.548Z"
   },
   {
    "duration": 40,
    "start_time": "2022-06-30T01:49:34.596Z"
   },
   {
    "duration": 57,
    "start_time": "2022-06-30T01:49:34.639Z"
   },
   {
    "duration": 11,
    "start_time": "2022-06-30T01:49:34.697Z"
   },
   {
    "duration": 21,
    "start_time": "2022-06-30T01:49:34.710Z"
   },
   {
    "duration": 16,
    "start_time": "2022-06-30T01:49:34.733Z"
   },
   {
    "duration": 25,
    "start_time": "2022-06-30T01:49:34.751Z"
   },
   {
    "duration": 197,
    "start_time": "2022-06-30T01:49:34.778Z"
   },
   {
    "duration": 4,
    "start_time": "2022-06-30T01:49:35.066Z"
   },
   {
    "duration": 116,
    "start_time": "2022-06-30T01:49:35.072Z"
   },
   {
    "duration": 35,
    "start_time": "2022-06-30T01:49:35.190Z"
   },
   {
    "duration": 10,
    "start_time": "2022-06-30T01:49:35.227Z"
   },
   {
    "duration": 25,
    "start_time": "2022-06-30T01:49:35.238Z"
   },
   {
    "duration": 18,
    "start_time": "2022-06-30T01:49:35.265Z"
   },
   {
    "duration": 21,
    "start_time": "2022-06-30T01:49:35.284Z"
   },
   {
    "duration": 19,
    "start_time": "2022-06-30T01:49:35.307Z"
   },
   {
    "duration": 14,
    "start_time": "2022-06-30T01:49:35.327Z"
   },
   {
    "duration": 16,
    "start_time": "2022-06-30T01:49:35.343Z"
   },
   {
    "duration": 15,
    "start_time": "2022-06-30T01:49:35.360Z"
   },
   {
    "duration": 28,
    "start_time": "2022-06-30T01:49:35.377Z"
   },
   {
    "duration": 0,
    "start_time": "2022-06-30T01:49:35.406Z"
   },
   {
    "duration": 0,
    "start_time": "2022-06-30T01:49:35.407Z"
   },
   {
    "duration": 0,
    "start_time": "2022-06-30T01:49:35.409Z"
   },
   {
    "duration": 0,
    "start_time": "2022-06-30T01:49:35.410Z"
   },
   {
    "duration": 3,
    "start_time": "2022-06-30T01:50:36.703Z"
   },
   {
    "duration": 20,
    "start_time": "2022-06-30T01:50:37.770Z"
   },
   {
    "duration": 5,
    "start_time": "2022-06-30T01:50:41.567Z"
   },
   {
    "duration": 1000,
    "start_time": "2022-06-30T01:50:42.309Z"
   },
   {
    "duration": 988,
    "start_time": "2022-06-30T01:50:43.311Z"
   },
   {
    "duration": 926,
    "start_time": "2022-06-30T01:50:44.301Z"
   },
   {
    "duration": 3,
    "start_time": "2022-06-30T01:53:53.306Z"
   },
   {
    "duration": 20,
    "start_time": "2022-06-30T01:53:56.178Z"
   },
   {
    "duration": 4,
    "start_time": "2022-06-30T01:54:00.886Z"
   },
   {
    "duration": 948,
    "start_time": "2022-06-30T01:54:01.206Z"
   },
   {
    "duration": 935,
    "start_time": "2022-06-30T01:54:02.156Z"
   },
   {
    "duration": 1039,
    "start_time": "2022-06-30T01:54:03.092Z"
   },
   {
    "duration": 3,
    "start_time": "2022-06-30T01:54:32.636Z"
   },
   {
    "duration": 3,
    "start_time": "2022-06-30T01:54:46.790Z"
   },
   {
    "duration": 342,
    "start_time": "2022-06-30T01:54:46.796Z"
   },
   {
    "duration": 9,
    "start_time": "2022-06-30T01:54:47.140Z"
   },
   {
    "duration": 21,
    "start_time": "2022-06-30T01:54:47.150Z"
   },
   {
    "duration": 11,
    "start_time": "2022-06-30T01:54:47.173Z"
   },
   {
    "duration": 16,
    "start_time": "2022-06-30T01:54:47.185Z"
   },
   {
    "duration": 14,
    "start_time": "2022-06-30T01:54:47.202Z"
   },
   {
    "duration": 12,
    "start_time": "2022-06-30T01:54:47.218Z"
   },
   {
    "duration": 76,
    "start_time": "2022-06-30T01:54:47.231Z"
   },
   {
    "duration": 58,
    "start_time": "2022-06-30T01:54:47.309Z"
   },
   {
    "duration": 43,
    "start_time": "2022-06-30T01:54:47.370Z"
   },
   {
    "duration": 12,
    "start_time": "2022-06-30T01:54:47.415Z"
   },
   {
    "duration": 6,
    "start_time": "2022-06-30T01:54:47.428Z"
   },
   {
    "duration": 39,
    "start_time": "2022-06-30T01:54:47.436Z"
   },
   {
    "duration": 10,
    "start_time": "2022-06-30T01:54:47.477Z"
   },
   {
    "duration": 381,
    "start_time": "2022-06-30T01:54:47.489Z"
   },
   {
    "duration": 4,
    "start_time": "2022-06-30T01:54:47.871Z"
   },
   {
    "duration": 98,
    "start_time": "2022-06-30T01:54:47.876Z"
   },
   {
    "duration": 8,
    "start_time": "2022-06-30T01:54:47.975Z"
   },
   {
    "duration": 5,
    "start_time": "2022-06-30T01:54:47.985Z"
   },
   {
    "duration": 6,
    "start_time": "2022-06-30T01:54:47.991Z"
   },
   {
    "duration": 5,
    "start_time": "2022-06-30T01:54:47.999Z"
   },
   {
    "duration": 6,
    "start_time": "2022-06-30T01:54:48.005Z"
   },
   {
    "duration": 58,
    "start_time": "2022-06-30T01:54:48.012Z"
   },
   {
    "duration": 4,
    "start_time": "2022-06-30T01:54:48.071Z"
   },
   {
    "duration": 9,
    "start_time": "2022-06-30T01:54:48.077Z"
   },
   {
    "duration": 6,
    "start_time": "2022-06-30T01:54:48.088Z"
   },
   {
    "duration": 6,
    "start_time": "2022-06-30T01:54:48.095Z"
   },
   {
    "duration": 1048,
    "start_time": "2022-06-30T01:54:48.104Z"
   },
   {
    "duration": 979,
    "start_time": "2022-06-30T01:54:49.154Z"
   },
   {
    "duration": 968,
    "start_time": "2022-06-30T01:54:50.134Z"
   },
   {
    "duration": 3,
    "start_time": "2022-06-30T01:56:13.046Z"
   },
   {
    "duration": 924,
    "start_time": "2022-06-30T01:56:21.488Z"
   },
   {
    "duration": 940,
    "start_time": "2022-06-30T01:56:22.413Z"
   },
   {
    "duration": 4,
    "start_time": "2022-06-30T01:58:27.363Z"
   },
   {
    "duration": 942,
    "start_time": "2022-06-30T01:58:27.955Z"
   },
   {
    "duration": 906,
    "start_time": "2022-06-30T01:59:00.165Z"
   },
   {
    "duration": 922,
    "start_time": "2022-06-30T01:59:01.073Z"
   },
   {
    "duration": 4,
    "start_time": "2022-06-30T02:01:24.970Z"
   },
   {
    "duration": 904,
    "start_time": "2022-06-30T02:01:30.214Z"
   },
   {
    "duration": 5,
    "start_time": "2022-06-30T02:01:48.954Z"
   },
   {
    "duration": 901,
    "start_time": "2022-06-30T02:01:50.488Z"
   },
   {
    "duration": 935,
    "start_time": "2022-06-30T02:02:18.912Z"
   },
   {
    "duration": 918,
    "start_time": "2022-06-30T02:02:19.849Z"
   },
   {
    "duration": 4,
    "start_time": "2022-06-30T02:02:53.931Z"
   },
   {
    "duration": 936,
    "start_time": "2022-06-30T02:02:54.400Z"
   },
   {
    "duration": 934,
    "start_time": "2022-06-30T02:02:55.338Z"
   },
   {
    "duration": 933,
    "start_time": "2022-06-30T02:02:56.274Z"
   },
   {
    "duration": 60,
    "start_time": "2022-06-30T02:04:13.875Z"
   },
   {
    "duration": 2,
    "start_time": "2022-06-30T02:04:25.039Z"
   },
   {
    "duration": 333,
    "start_time": "2022-06-30T02:04:25.047Z"
   },
   {
    "duration": 8,
    "start_time": "2022-06-30T02:04:25.382Z"
   },
   {
    "duration": 10,
    "start_time": "2022-06-30T02:04:25.391Z"
   },
   {
    "duration": 10,
    "start_time": "2022-06-30T02:04:25.403Z"
   },
   {
    "duration": 15,
    "start_time": "2022-06-30T02:04:25.415Z"
   },
   {
    "duration": 45,
    "start_time": "2022-06-30T02:04:25.431Z"
   },
   {
    "duration": 13,
    "start_time": "2022-06-30T02:04:25.478Z"
   },
   {
    "duration": 39,
    "start_time": "2022-06-30T02:04:25.493Z"
   },
   {
    "duration": 65,
    "start_time": "2022-06-30T02:04:25.534Z"
   },
   {
    "duration": 49,
    "start_time": "2022-06-30T02:04:25.601Z"
   },
   {
    "duration": 23,
    "start_time": "2022-06-30T02:04:25.652Z"
   },
   {
    "duration": 6,
    "start_time": "2022-06-30T02:04:25.677Z"
   },
   {
    "duration": 18,
    "start_time": "2022-06-30T02:04:25.685Z"
   },
   {
    "duration": 11,
    "start_time": "2022-06-30T02:04:25.706Z"
   },
   {
    "duration": 352,
    "start_time": "2022-06-30T02:04:25.718Z"
   },
   {
    "duration": 3,
    "start_time": "2022-06-30T02:04:26.071Z"
   },
   {
    "duration": 97,
    "start_time": "2022-06-30T02:04:26.076Z"
   },
   {
    "duration": 11,
    "start_time": "2022-06-30T02:04:26.175Z"
   },
   {
    "duration": 6,
    "start_time": "2022-06-30T02:04:26.187Z"
   },
   {
    "duration": 8,
    "start_time": "2022-06-30T02:04:26.195Z"
   },
   {
    "duration": 5,
    "start_time": "2022-06-30T02:04:26.204Z"
   },
   {
    "duration": 8,
    "start_time": "2022-06-30T02:04:26.210Z"
   },
   {
    "duration": 6,
    "start_time": "2022-06-30T02:04:26.219Z"
   },
   {
    "duration": 4,
    "start_time": "2022-06-30T02:04:26.226Z"
   },
   {
    "duration": 4,
    "start_time": "2022-06-30T02:04:26.231Z"
   },
   {
    "duration": 32,
    "start_time": "2022-06-30T02:04:26.236Z"
   },
   {
    "duration": 916,
    "start_time": "2022-06-30T02:04:26.270Z"
   },
   {
    "duration": 949,
    "start_time": "2022-06-30T02:04:27.188Z"
   },
   {
    "duration": 963,
    "start_time": "2022-06-30T02:04:28.139Z"
   },
   {
    "duration": 5,
    "start_time": "2022-06-30T02:08:32.433Z"
   },
   {
    "duration": 903,
    "start_time": "2022-06-30T02:08:32.939Z"
   },
   {
    "duration": 960,
    "start_time": "2022-06-30T02:08:33.963Z"
   },
   {
    "duration": 1189,
    "start_time": "2022-06-30T10:28:28.125Z"
   },
   {
    "duration": 778,
    "start_time": "2022-06-30T10:28:29.316Z"
   },
   {
    "duration": 19,
    "start_time": "2022-06-30T10:28:30.096Z"
   },
   {
    "duration": 10,
    "start_time": "2022-06-30T10:28:30.118Z"
   },
   {
    "duration": 14,
    "start_time": "2022-06-30T10:28:30.129Z"
   },
   {
    "duration": 25,
    "start_time": "2022-06-30T10:28:30.145Z"
   },
   {
    "duration": 17,
    "start_time": "2022-06-30T10:28:30.172Z"
   },
   {
    "duration": 42,
    "start_time": "2022-06-30T10:28:30.190Z"
   },
   {
    "duration": 57,
    "start_time": "2022-06-30T10:28:30.234Z"
   },
   {
    "duration": 66,
    "start_time": "2022-06-30T10:28:30.295Z"
   },
   {
    "duration": 48,
    "start_time": "2022-06-30T10:28:30.362Z"
   },
   {
    "duration": 24,
    "start_time": "2022-06-30T10:28:30.412Z"
   },
   {
    "duration": 8,
    "start_time": "2022-06-30T10:28:30.438Z"
   },
   {
    "duration": 14,
    "start_time": "2022-06-30T10:28:30.448Z"
   },
   {
    "duration": 13,
    "start_time": "2022-06-30T10:28:30.464Z"
   },
   {
    "duration": 456,
    "start_time": "2022-06-30T10:28:30.479Z"
   },
   {
    "duration": 89,
    "start_time": "2022-06-30T10:28:30.937Z"
   },
   {
    "duration": 113,
    "start_time": "2022-06-30T10:28:31.031Z"
   },
   {
    "duration": 37,
    "start_time": "2022-06-30T10:28:31.145Z"
   },
   {
    "duration": 36,
    "start_time": "2022-06-30T10:28:31.184Z"
   },
   {
    "duration": 22,
    "start_time": "2022-06-30T10:28:31.221Z"
   },
   {
    "duration": 34,
    "start_time": "2022-06-30T10:28:31.244Z"
   },
   {
    "duration": 21,
    "start_time": "2022-06-30T10:28:31.280Z"
   },
   {
    "duration": 11,
    "start_time": "2022-06-30T10:28:31.302Z"
   },
   {
    "duration": 13,
    "start_time": "2022-06-30T10:28:31.315Z"
   },
   {
    "duration": 26,
    "start_time": "2022-06-30T10:28:31.330Z"
   },
   {
    "duration": 1050,
    "start_time": "2022-06-30T10:28:31.358Z"
   },
   {
    "duration": 972,
    "start_time": "2022-06-30T10:28:32.411Z"
   },
   {
    "duration": 957,
    "start_time": "2022-06-30T10:28:33.385Z"
   },
   {
    "duration": 5,
    "start_time": "2022-06-30T10:42:00.914Z"
   },
   {
    "duration": 1256,
    "start_time": "2022-06-30T10:42:01.113Z"
   },
   {
    "duration": 1235,
    "start_time": "2022-06-30T10:42:02.370Z"
   },
   {
    "duration": 1328,
    "start_time": "2022-06-30T10:42:03.606Z"
   },
   {
    "duration": 5,
    "start_time": "2022-06-30T10:43:18.887Z"
   },
   {
    "duration": 957,
    "start_time": "2022-06-30T10:43:19.079Z"
   },
   {
    "duration": 979,
    "start_time": "2022-06-30T10:43:20.037Z"
   },
   {
    "duration": 995,
    "start_time": "2022-06-30T10:43:21.018Z"
   },
   {
    "duration": 1228,
    "start_time": "2022-06-30T10:45:58.215Z"
   },
   {
    "duration": 401,
    "start_time": "2022-06-30T10:45:59.445Z"
   },
   {
    "duration": 17,
    "start_time": "2022-06-30T10:45:59.848Z"
   },
   {
    "duration": 10,
    "start_time": "2022-06-30T10:45:59.867Z"
   },
   {
    "duration": 12,
    "start_time": "2022-06-30T10:45:59.878Z"
   },
   {
    "duration": 40,
    "start_time": "2022-06-30T10:45:59.891Z"
   },
   {
    "duration": 18,
    "start_time": "2022-06-30T10:45:59.933Z"
   },
   {
    "duration": 15,
    "start_time": "2022-06-30T10:45:59.953Z"
   },
   {
    "duration": 76,
    "start_time": "2022-06-30T10:45:59.970Z"
   },
   {
    "duration": 51,
    "start_time": "2022-06-30T10:46:00.048Z"
   },
   {
    "duration": 69,
    "start_time": "2022-06-30T10:46:00.101Z"
   },
   {
    "duration": 14,
    "start_time": "2022-06-30T10:46:00.172Z"
   },
   {
    "duration": 9,
    "start_time": "2022-06-30T10:46:00.187Z"
   },
   {
    "duration": 34,
    "start_time": "2022-06-30T10:46:00.198Z"
   },
   {
    "duration": 13,
    "start_time": "2022-06-30T10:46:00.234Z"
   },
   {
    "duration": 385,
    "start_time": "2022-06-30T10:46:00.249Z"
   },
   {
    "duration": 4,
    "start_time": "2022-06-30T10:46:00.636Z"
   },
   {
    "duration": 111,
    "start_time": "2022-06-30T10:46:00.728Z"
   },
   {
    "duration": 14,
    "start_time": "2022-06-30T10:46:00.840Z"
   },
   {
    "duration": 30,
    "start_time": "2022-06-30T10:46:00.856Z"
   },
   {
    "duration": 28,
    "start_time": "2022-06-30T10:46:00.888Z"
   },
   {
    "duration": 28,
    "start_time": "2022-06-30T10:46:00.918Z"
   },
   {
    "duration": 36,
    "start_time": "2022-06-30T10:46:00.948Z"
   },
   {
    "duration": 26,
    "start_time": "2022-06-30T10:46:00.986Z"
   },
   {
    "duration": 13,
    "start_time": "2022-06-30T10:46:01.014Z"
   },
   {
    "duration": 22,
    "start_time": "2022-06-30T10:46:01.029Z"
   },
   {
    "duration": 1063,
    "start_time": "2022-06-30T10:46:01.053Z"
   },
   {
    "duration": 972,
    "start_time": "2022-06-30T10:46:02.119Z"
   },
   {
    "duration": 980,
    "start_time": "2022-06-30T10:46:03.093Z"
   },
   {
    "duration": 21,
    "start_time": "2022-06-30T11:49:41.773Z"
   },
   {
    "duration": 65,
    "start_time": "2022-06-30T11:49:42.923Z"
   },
   {
    "duration": 1426,
    "start_time": "2022-06-30T11:49:50.517Z"
   },
   {
    "duration": 1558,
    "start_time": "2022-06-30T11:49:51.946Z"
   },
   {
    "duration": 23,
    "start_time": "2022-06-30T11:49:53.515Z"
   },
   {
    "duration": 91,
    "start_time": "2022-06-30T11:49:53.541Z"
   },
   {
    "duration": 21,
    "start_time": "2022-06-30T11:49:53.634Z"
   },
   {
    "duration": 76,
    "start_time": "2022-06-30T11:49:53.657Z"
   },
   {
    "duration": 40,
    "start_time": "2022-06-30T11:49:53.735Z"
   },
   {
    "duration": 32,
    "start_time": "2022-06-30T11:49:53.777Z"
   },
   {
    "duration": 80,
    "start_time": "2022-06-30T11:49:53.811Z"
   },
   {
    "duration": 69,
    "start_time": "2022-06-30T11:49:53.898Z"
   },
   {
    "duration": 75,
    "start_time": "2022-06-30T11:49:53.969Z"
   },
   {
    "duration": 29,
    "start_time": "2022-06-30T11:49:54.047Z"
   },
   {
    "duration": 10,
    "start_time": "2022-06-30T11:49:54.078Z"
   },
   {
    "duration": 41,
    "start_time": "2022-06-30T11:49:54.089Z"
   },
   {
    "duration": 12,
    "start_time": "2022-06-30T11:49:54.132Z"
   },
   {
    "duration": 364,
    "start_time": "2022-06-30T11:49:54.146Z"
   },
   {
    "duration": 47,
    "start_time": "2022-06-30T11:49:54.520Z"
   },
   {
    "duration": 68,
    "start_time": "2022-06-30T11:49:54.598Z"
   },
   {
    "duration": 42,
    "start_time": "2022-06-30T11:49:54.668Z"
   },
   {
    "duration": 14,
    "start_time": "2022-06-30T11:49:54.723Z"
   },
   {
    "duration": 72,
    "start_time": "2022-06-30T11:49:54.738Z"
   },
   {
    "duration": 20,
    "start_time": "2022-06-30T11:49:54.812Z"
   },
   {
    "duration": 23,
    "start_time": "2022-06-30T11:49:54.834Z"
   },
   {
    "duration": 77,
    "start_time": "2022-06-30T11:49:54.859Z"
   },
   {
    "duration": 16,
    "start_time": "2022-06-30T11:49:54.938Z"
   },
   {
    "duration": 4,
    "start_time": "2022-06-30T11:50:01.725Z"
   },
   {
    "duration": 1666,
    "start_time": "2022-06-30T11:50:02.781Z"
   },
   {
    "duration": 1839,
    "start_time": "2022-06-30T11:50:07.605Z"
   },
   {
    "duration": 1523,
    "start_time": "2022-06-30T11:50:09.447Z"
   },
   {
    "duration": 5,
    "start_time": "2022-06-30T11:58:27.903Z"
   },
   {
    "duration": 6,
    "start_time": "2022-06-30T13:01:41.381Z"
   },
   {
    "duration": 1601,
    "start_time": "2022-06-30T13:01:42.151Z"
   },
   {
    "duration": 1626,
    "start_time": "2022-06-30T13:01:44.084Z"
   },
   {
    "duration": 1464,
    "start_time": "2022-06-30T13:01:45.712Z"
   },
   {
    "duration": 145,
    "start_time": "2022-06-30T13:12:08.098Z"
   },
   {
    "duration": 3,
    "start_time": "2022-06-30T13:28:14.747Z"
   },
   {
    "duration": 632,
    "start_time": "2022-06-30T13:28:14.752Z"
   },
   {
    "duration": 11,
    "start_time": "2022-06-30T13:28:15.386Z"
   },
   {
    "duration": 10,
    "start_time": "2022-06-30T13:28:15.401Z"
   },
   {
    "duration": 29,
    "start_time": "2022-06-30T13:28:15.414Z"
   },
   {
    "duration": 62,
    "start_time": "2022-06-30T13:28:15.445Z"
   },
   {
    "duration": 28,
    "start_time": "2022-06-30T13:28:15.509Z"
   },
   {
    "duration": 39,
    "start_time": "2022-06-30T13:28:15.539Z"
   },
   {
    "duration": 76,
    "start_time": "2022-06-30T13:28:15.580Z"
   },
   {
    "duration": 68,
    "start_time": "2022-06-30T13:28:15.662Z"
   },
   {
    "duration": 64,
    "start_time": "2022-06-30T13:28:15.734Z"
   },
   {
    "duration": 18,
    "start_time": "2022-06-30T13:28:15.807Z"
   },
   {
    "duration": 14,
    "start_time": "2022-06-30T13:28:15.828Z"
   },
   {
    "duration": 19,
    "start_time": "2022-06-30T13:28:15.844Z"
   },
   {
    "duration": 43,
    "start_time": "2022-06-30T13:28:15.864Z"
   },
   {
    "duration": 296,
    "start_time": "2022-06-30T13:28:15.909Z"
   },
   {
    "duration": 11,
    "start_time": "2022-06-30T13:28:16.297Z"
   },
   {
    "duration": 19,
    "start_time": "2022-06-30T13:28:16.324Z"
   },
   {
    "duration": 53,
    "start_time": "2022-06-30T13:28:16.345Z"
   },
   {
    "duration": 21,
    "start_time": "2022-06-30T13:28:16.400Z"
   },
   {
    "duration": 76,
    "start_time": "2022-06-30T13:28:16.422Z"
   },
   {
    "duration": 32,
    "start_time": "2022-06-30T13:28:16.500Z"
   },
   {
    "duration": 35,
    "start_time": "2022-06-30T13:28:16.534Z"
   },
   {
    "duration": 56,
    "start_time": "2022-06-30T13:28:16.573Z"
   },
   {
    "duration": 31,
    "start_time": "2022-06-30T13:28:16.631Z"
   },
   {
    "duration": 51,
    "start_time": "2022-06-30T13:28:16.665Z"
   },
   {
    "duration": 1645,
    "start_time": "2022-06-30T13:28:16.718Z"
   },
   {
    "duration": 1446,
    "start_time": "2022-06-30T13:28:18.365Z"
   },
   {
    "duration": 1474,
    "start_time": "2022-06-30T13:28:19.815Z"
   },
   {
    "duration": 1223,
    "start_time": "2022-06-30T13:35:47.205Z"
   },
   {
    "duration": 745,
    "start_time": "2022-06-30T13:35:48.430Z"
   },
   {
    "duration": 17,
    "start_time": "2022-06-30T13:35:49.177Z"
   },
   {
    "duration": 12,
    "start_time": "2022-06-30T13:35:49.196Z"
   },
   {
    "duration": 22,
    "start_time": "2022-06-30T13:35:49.210Z"
   },
   {
    "duration": 23,
    "start_time": "2022-06-30T13:35:49.234Z"
   },
   {
    "duration": 17,
    "start_time": "2022-06-30T13:35:49.260Z"
   },
   {
    "duration": 19,
    "start_time": "2022-06-30T13:35:49.278Z"
   },
   {
    "duration": 70,
    "start_time": "2022-06-30T13:35:49.298Z"
   },
   {
    "duration": 56,
    "start_time": "2022-06-30T13:35:49.371Z"
   },
   {
    "duration": 44,
    "start_time": "2022-06-30T13:35:49.428Z"
   },
   {
    "duration": 13,
    "start_time": "2022-06-30T13:35:49.473Z"
   },
   {
    "duration": 6,
    "start_time": "2022-06-30T13:35:49.488Z"
   },
   {
    "duration": 36,
    "start_time": "2022-06-30T13:35:49.495Z"
   },
   {
    "duration": 12,
    "start_time": "2022-06-30T13:35:49.533Z"
   },
   {
    "duration": 382,
    "start_time": "2022-06-30T13:35:49.547Z"
   },
   {
    "duration": 3,
    "start_time": "2022-06-30T13:35:49.931Z"
   },
   {
    "duration": 88,
    "start_time": "2022-06-30T13:35:49.936Z"
   },
   {
    "duration": 6,
    "start_time": "2022-06-30T13:35:50.027Z"
   },
   {
    "duration": 15,
    "start_time": "2022-06-30T13:35:50.124Z"
   },
   {
    "duration": 10,
    "start_time": "2022-06-30T13:35:50.141Z"
   },
   {
    "duration": 8,
    "start_time": "2022-06-30T13:35:50.152Z"
   },
   {
    "duration": 7,
    "start_time": "2022-06-30T13:35:50.161Z"
   },
   {
    "duration": 4,
    "start_time": "2022-06-30T13:35:50.170Z"
   },
   {
    "duration": 6,
    "start_time": "2022-06-30T13:35:50.175Z"
   },
   {
    "duration": 7,
    "start_time": "2022-06-30T13:35:50.183Z"
   },
   {
    "duration": 1250,
    "start_time": "2022-06-30T13:35:50.192Z"
   },
   {
    "duration": 1319,
    "start_time": "2022-06-30T13:35:51.444Z"
   },
   {
    "duration": 1280,
    "start_time": "2022-06-30T13:35:52.764Z"
   }
  ],
  "kernelspec": {
   "display_name": "Python 3 (ipykernel)",
   "language": "python",
   "name": "python3"
  },
  "language_info": {
   "codemirror_mode": {
    "name": "ipython",
    "version": 3
   },
   "file_extension": ".py",
   "mimetype": "text/x-python",
   "name": "python",
   "nbconvert_exporter": "python",
   "pygments_lexer": "ipython3",
   "version": "3.9.5"
  },
  "toc": {
   "base_numbering": 1,
   "nav_menu": {},
   "number_sections": true,
   "sideBar": true,
   "skip_h1_title": true,
   "title_cell": "Table of Contents",
   "title_sidebar": "Contents",
   "toc_cell": false,
   "toc_position": {},
   "toc_section_display": true,
   "toc_window_display": true
  }
 },
 "nbformat": 4,
 "nbformat_minor": 2
}
