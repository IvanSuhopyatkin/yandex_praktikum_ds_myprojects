{
 "cells": [
  {
   "cell_type": "markdown",
   "metadata": {
    "toc": true
   },
   "source": [
    "<h1>Содержание<span class=\"tocSkip\"></span></h1>\n",
    "<div class=\"toc\"><ul class=\"toc-item\"><li><span><a href=\"#Подготовка-данных\" data-toc-modified-id=\"Подготовка-данных-1\"><span class=\"toc-item-num\">1&nbsp;&nbsp;</span>Подготовка данных</a></span><ul class=\"toc-item\"><li><span><a href=\"#Открытие-и-изучение-файлов.\" data-toc-modified-id=\"Открытие-и-изучение-файлов.-1.1\"><span class=\"toc-item-num\">1.1&nbsp;&nbsp;</span>Открытие и изучение файлов.</a></span></li><li><span><a href=\"#Проверка-расчётов-эффективности-обогащения\" data-toc-modified-id=\"Проверка-расчётов-эффективности-обогащения-1.2\"><span class=\"toc-item-num\">1.2&nbsp;&nbsp;</span>Проверка расчётов эффективности обогащения</a></span></li><li><span><a href=\"#Анализ-признаков,-недоступных-в-тестовой-выборке.\" data-toc-modified-id=\"Анализ-признаков,-недоступных-в-тестовой-выборке.-1.3\"><span class=\"toc-item-num\">1.3&nbsp;&nbsp;</span>Анализ признаков, недоступных в тестовой выборке.</a></span></li><li><span><a href=\"#Предобработка-данных\" data-toc-modified-id=\"Предобработка-данных-1.4\"><span class=\"toc-item-num\">1.4&nbsp;&nbsp;</span>Предобработка данных</a></span></li></ul></li><li><span><a href=\"#Анализ-данных\" data-toc-modified-id=\"Анализ-данных-2\"><span class=\"toc-item-num\">2&nbsp;&nbsp;</span>Анализ данных</a></span><ul class=\"toc-item\"><li><span><a href=\"#Анализ-концентрации-металлов-на-различных-этапах-очистки\" data-toc-modified-id=\"Анализ-концентрации-металлов-на-различных-этапах-очистки-2.1\"><span class=\"toc-item-num\">2.1&nbsp;&nbsp;</span>Анализ концентрации металлов на различных этапах очистки</a></span></li><li><span><a href=\"#Сравнение-распределений-размеров-гранул-сырья-на-обучающей-и-тестовой-выборках\" data-toc-modified-id=\"Сравнение-распределений-размеров-гранул-сырья-на-обучающей-и-тестовой-выборках-2.2\"><span class=\"toc-item-num\">2.2&nbsp;&nbsp;</span>Сравнение распределений размеров гранул сырья на обучающей и тестовой выборках</a></span></li><li><span><a href=\"#Исследуем-суммарную-концентрацию-всех-веществ-на-разных-стадиях:-в-сырье,-в-черновом-и-финальном-концентратах.\" data-toc-modified-id=\"Исследуем-суммарную-концентрацию-всех-веществ-на-разных-стадиях:-в-сырье,-в-черновом-и-финальном-концентратах.-2.3\"><span class=\"toc-item-num\">2.3&nbsp;&nbsp;</span>Исследуем суммарную концентрацию всех веществ на разных стадиях: в сырье, в черновом и финальном концентратах.</a></span></li></ul></li><li><span><a href=\"#Модель\" data-toc-modified-id=\"Модель-3\"><span class=\"toc-item-num\">3&nbsp;&nbsp;</span>Модель</a></span><ul class=\"toc-item\"><li><span><a href=\"#Функция-для-вычисления-итоговой-sMAPE.\" data-toc-modified-id=\"Функция-для-вычисления-итоговой-sMAPE.-3.1\"><span class=\"toc-item-num\">3.1&nbsp;&nbsp;</span>Функция для вычисления итоговой sMAPE.</a></span></li><li><span><a href=\"#Обучение-и-оценка-качества-моделей\" data-toc-modified-id=\"Обучение-и-оценка-качества-моделей-3.2\"><span class=\"toc-item-num\">3.2&nbsp;&nbsp;</span>Обучение и оценка качества моделей</a></span><ul class=\"toc-item\"><li><span><a href=\"#дерево-принятия-решений\" data-toc-modified-id=\"дерево-принятия-решений-3.2.1\"><span class=\"toc-item-num\">3.2.1&nbsp;&nbsp;</span>дерево принятия решений</a></span></li><li><span><a href=\"#Случайный-лес:\" data-toc-modified-id=\"Случайный-лес:-3.2.2\"><span class=\"toc-item-num\">3.2.2&nbsp;&nbsp;</span>Случайный лес:</a></span></li><li><span><a href=\"#Линейная-регрессия:\" data-toc-modified-id=\"Линейная-регрессия:-3.2.3\"><span class=\"toc-item-num\">3.2.3&nbsp;&nbsp;</span>Линейная регрессия:</a></span></li></ul></li></ul></li><li><span><a href=\"#Вывод\" data-toc-modified-id=\"Вывод-4\"><span class=\"toc-item-num\">4&nbsp;&nbsp;</span>Вывод</a></span></li><li><span><a href=\"#Чек-лист-готовности-проекта\" data-toc-modified-id=\"Чек-лист-готовности-проекта-5\"><span class=\"toc-item-num\">5&nbsp;&nbsp;</span>Чек-лист готовности проекта</a></span></li></ul></div>"
   ]
  },
  {
   "cell_type": "markdown",
   "metadata": {},
   "source": [
    "# Восстановление золота из руды"
   ]
  },
  {
   "cell_type": "markdown",
   "metadata": {},
   "source": [
    "Подготовьте прототип модели машинного обучения для «Цифры». Компания разрабатывает решения для эффективной работы промышленных предприятий.\n",
    "\n",
    "Модель должна предсказать коэффициент восстановления золота из золотосодержащей руды. Используйте данные с параметрами добычи и очистки. \n",
    "\n",
    "Модель поможет оптимизировать производство, чтобы не запускать предприятие с убыточными характеристиками.\n",
    "\n",
    "Вам нужно:\n",
    "\n",
    "1. Подготовить данные;\n",
    "2. Провести исследовательский анализ данных;\n",
    "3. Построить и обучить модель.\n",
    "\n",
    "Чтобы выполнить проект, обращайтесь к библиотекам *pandas*, *matplotlib* и *sklearn.* Вам поможет их документация."
   ]
  },
  {
   "cell_type": "markdown",
   "metadata": {},
   "source": [
    "## Подготовка данных"
   ]
  },
  {
   "cell_type": "markdown",
   "metadata": {},
   "source": [
    "### Открытие и изучение файлов."
   ]
  },
  {
   "cell_type": "markdown",
   "metadata": {},
   "source": [
    "импортируем необходимые библиотеки и сохраним данные геологоразведки трёх регионов:"
   ]
  },
  {
   "cell_type": "code",
   "execution_count": 317,
   "metadata": {},
   "outputs": [],
   "source": [
    "import pandas as pd\n",
    "import numpy as np\n",
    "from sklearn.model_selection import train_test_split\n",
    "from sklearn.linear_model import LinearRegression\n",
    "from sklearn.metrics import mean_squared_error\n",
    "from sklearn.metrics import mean_absolute_error\n",
    "import matplotlib.pyplot as plt\n",
    "from importlib import reload\n",
    "import matplotlib.pyplot as plt\n",
    "import seaborn as sns\n",
    "from sklearn.preprocessing import StandardScaler \n",
    "from sklearn.tree import DecisionTreeRegressor\n",
    "from sklearn.model_selection import cross_val_score\n",
    "from sklearn.ensemble import RandomForestRegressor\n",
    "from sklearn.dummy import DummyRegressor"
   ]
  },
  {
   "cell_type": "code",
   "execution_count": 318,
   "metadata": {},
   "outputs": [],
   "source": [
    "try:\n",
    "    data_train=pd.read_csv('/datasets/gold_recovery_train_new.csv')\n",
    "    data_test=pd.read_csv('/datasets/gold_recovery_test_new.csv')\n",
    "    data_full=pd.read_csv('/datasets/gold_recovery_full_new.csv')\n",
    "except FileNotFoundError:\n",
    "    data_train=pd.read_csv('gold_recovery_train_new.csv')\n",
    "    data_test=pd.read_csv('gold_recovery_test_new.csv')\n",
    "    data_full=pd.read_csv('gold_recovery_full_new.csv')"
   ]
  },
  {
   "cell_type": "markdown",
   "metadata": {},
   "source": [
    "выведем первые 5 строк таблицы:"
   ]
  },
  {
   "cell_type": "code",
   "execution_count": 319,
   "metadata": {},
   "outputs": [
    {
     "data": {},
     "execution_count": 319,
     "metadata": {},
     "output_type": "execute_result"
    }
   ],
   "source": [
    "data_train.head()"
   ]
  },
  {
   "cell_type": "code",
   "execution_count": 320,
   "metadata": {},
   "outputs": [
    {
     "data": {},
     "execution_count": 320,
     "metadata": {},
     "output_type": "execute_result"
    }
   ],
   "source": [
    "data_test.head()"
   ]
  },
  {
   "cell_type": "code",
   "execution_count": 321,
   "metadata": {},
   "outputs": [
    {
     "data": {},
     "execution_count": 321,
     "metadata": {},
     "output_type": "execute_result"
    }
   ],
   "source": [
    "data_full.head()"
   ]
  },
  {
   "cell_type": "markdown",
   "metadata": {},
   "source": [
    "и выведем информацию о данных:"
   ]
  },
  {
   "cell_type": "code",
   "execution_count": 322,
   "metadata": {},
   "outputs": [],
   "source": [
    "data_train.info()"
   ]
  },
  {
   "cell_type": "markdown",
   "metadata": {},
   "source": [
    "в таблице data_train есть небольшие пропуски в данных."
   ]
  },
  {
   "cell_type": "code",
   "execution_count": 323,
   "metadata": {},
   "outputs": [],
   "source": [
    "data_test.info()"
   ]
  },
  {
   "cell_type": "markdown",
   "metadata": {},
   "source": [
    "в data_test всего 52 столбца и 5290 столбцов. Так же присутствуют пропуски в данных."
   ]
  },
  {
   "cell_type": "code",
   "execution_count": 324,
   "metadata": {},
   "outputs": [],
   "source": [
    "data_full.info()"
   ]
  },
  {
   "cell_type": "markdown",
   "metadata": {},
   "source": [
    "в полных данных так же есть пропуски в данных"
   ]
  },
  {
   "cell_type": "markdown",
   "metadata": {},
   "source": [
    "### Проверка расчётов эффективности обогащения"
   ]
  },
  {
   "cell_type": "markdown",
   "metadata": {},
   "source": [
    "Проверим что эффективность обогащения рассчитана правильно. Вычислим её на обучающей выборке для признака rougher.output.recovery."
   ]
  },
  {
   "cell_type": "markdown",
   "metadata": {},
   "source": [
    "Эффективность рассчитывается по формуле RECOVERY=(C*(F-T))/(F*(C-T)). Рассчитаем коэфициенты С F T"
   ]
  },
  {
   "cell_type": "code",
   "execution_count": 325,
   "metadata": {},
   "outputs": [],
   "source": [
    "С = data_train['rougher.output.concentrate_au']\n",
    "F = data_train['rougher.input.feed_au']\n",
    "T = data_train['rougher.output.tail_au']"
   ]
  },
  {
   "cell_type": "markdown",
   "metadata": {},
   "source": [
    "и сохраним в переменную `my_recovery`:"
   ]
  },
  {
   "cell_type": "code",
   "execution_count": 326,
   "metadata": {},
   "outputs": [],
   "source": [
    "my_recovery = С * (F - T ) / F / (С - T ) * 100\n",
    "\n",
    "print(my_recovery)"
   ]
  },
  {
   "cell_type": "markdown",
   "metadata": {},
   "source": [
    "найдем MAE между получившимся значениями и реальным значением признака:"
   ]
  },
  {
   "cell_type": "code",
   "execution_count": 327,
   "metadata": {},
   "outputs": [],
   "source": [
    "print('средняя абсолютная ошибка =', mean_absolute_error(my_recovery, data_train['rougher.output.recovery']))"
   ]
  },
  {
   "cell_type": "markdown",
   "metadata": {},
   "source": [
    "MAE имеет очень малое значение, это значит что наши значения и значения из таблицы почти равны."
   ]
  },
  {
   "cell_type": "markdown",
   "metadata": {},
   "source": [
    "### Анализ признаков, недоступных в тестовой выборке. "
   ]
  },
  {
   "cell_type": "markdown",
   "metadata": {},
   "source": [
    "выведем информацию о признаках вычтя данные из полной таблицы и воспользовшись методом `set`"
   ]
  },
  {
   "cell_type": "code",
   "execution_count": 328,
   "metadata": {},
   "outputs": [
    {
     "data": {},
     "execution_count": 328,
     "metadata": {},
     "output_type": "execute_result"
    }
   ],
   "source": [
    "list(set(data_full)-set(data_test))\n",
    "\n"
   ]
  },
  {
   "cell_type": "code",
   "execution_count": 329,
   "metadata": {
    "scrolled": true
   },
   "outputs": [],
   "source": [
    "data_full[list(set(data_full)-set(data_test))].info()"
   ]
  },
  {
   "cell_type": "markdown",
   "metadata": {},
   "source": [
    "Все признаки относятся к типу float64. К отсутствущим в тестовой выборке относятся output (параметры продукта) и calculation(расчётные характеристики) для всех возможных этапов. Параметры: отвальные хвосты, доля золота в концентрате  и эффективность обогащения. В итоге к отсутствующим признакам относятся те которые неизвестны в начале и будут известны позже. Так же отсутствуют целевые признаки rougher.output.recovery и final.output.recovery.Их нужно будет подтянуть из data_full. "
   ]
  },
  {
   "cell_type": "markdown",
   "metadata": {},
   "source": [
    "### Предобработка данных"
   ]
  },
  {
   "cell_type": "markdown",
   "metadata": {},
   "source": [
    "в каждом датафрейме у столбца date тип данных object, сделаем тип date:"
   ]
  },
  {
   "cell_type": "code",
   "execution_count": 330,
   "metadata": {},
   "outputs": [],
   "source": [
    "data_train['date'] = pd.to_datetime(data_train['date'], infer_datetime_format=True)\n",
    "data_test['date'] = pd.to_datetime(data_test['date'], infer_datetime_format=True)\n",
    "data_full['date'] = pd.to_datetime(data_full['date'], infer_datetime_format=True)"
   ]
  },
  {
   "cell_type": "markdown",
   "metadata": {},
   "source": [
    "и проверим что тип данных изменился:"
   ]
  },
  {
   "cell_type": "code",
   "execution_count": 331,
   "metadata": {},
   "outputs": [],
   "source": [
    "data_train.info()"
   ]
  },
  {
   "cell_type": "code",
   "execution_count": 332,
   "metadata": {},
   "outputs": [],
   "source": [
    "data_test.info()"
   ]
  },
  {
   "cell_type": "code",
   "execution_count": 333,
   "metadata": {},
   "outputs": [],
   "source": [
    "data_full.info()"
   ]
  },
  {
   "cell_type": "markdown",
   "metadata": {},
   "source": [
    "Добавим в тестовую выборку целевые признаки, объеденив ее с полной исходными данными и взяв столбец "
   ]
  },
  {
   "cell_type": "code",
   "execution_count": 334,
   "metadata": {},
   "outputs": [],
   "source": [
    "data_test = data_test.merge(data_full[['rougher.output.recovery', 'final.output.recovery','date']], \n",
    "                           how = 'left', on = 'date')"
   ]
  },
  {
   "cell_type": "markdown",
   "metadata": {},
   "source": [
    "проверим что целевые признаки `rougher.output.recovery`\t`final.output.recovery` успешно добавились"
   ]
  },
  {
   "cell_type": "code",
   "execution_count": 335,
   "metadata": {
    "scrolled": true
   },
   "outputs": [
    {
     "data": {},
     "execution_count": 335,
     "metadata": {},
     "output_type": "execute_result"
    }
   ],
   "source": [
    "data_test.head()"
   ]
  },
  {
   "cell_type": "markdown",
   "metadata": {},
   "source": [
    "убедимся что в целевых значениях во всех таблицах нет нулей:"
   ]
  },
  {
   "cell_type": "code",
   "execution_count": 336,
   "metadata": {},
   "outputs": [
    {
     "data": {},
     "execution_count": 336,
     "metadata": {},
     "output_type": "execute_result"
    }
   ],
   "source": [
    "data_train.isna().sum()['rougher.output.recovery']"
   ]
  },
  {
   "cell_type": "code",
   "execution_count": 337,
   "metadata": {},
   "outputs": [
    {
     "data": {},
     "execution_count": 337,
     "metadata": {},
     "output_type": "execute_result"
    }
   ],
   "source": [
    "data_train.isna().sum()['final.output.recovery']"
   ]
  },
  {
   "cell_type": "code",
   "execution_count": 338,
   "metadata": {},
   "outputs": [
    {
     "data": {},
     "execution_count": 338,
     "metadata": {},
     "output_type": "execute_result"
    }
   ],
   "source": [
    "data_test.isna().sum()['rougher.output.recovery']"
   ]
  },
  {
   "cell_type": "code",
   "execution_count": 339,
   "metadata": {},
   "outputs": [
    {
     "data": {},
     "execution_count": 339,
     "metadata": {},
     "output_type": "execute_result"
    }
   ],
   "source": [
    "data_test.isna().sum()['final.output.recovery']"
   ]
  },
  {
   "cell_type": "code",
   "execution_count": 340,
   "metadata": {},
   "outputs": [
    {
     "data": {},
     "execution_count": 340,
     "metadata": {},
     "output_type": "execute_result"
    }
   ],
   "source": [
    "data_full.isna().sum()['rougher.output.recovery']"
   ]
  },
  {
   "cell_type": "code",
   "execution_count": 341,
   "metadata": {},
   "outputs": [
    {
     "data": {},
     "execution_count": 341,
     "metadata": {},
     "output_type": "execute_result"
    }
   ],
   "source": [
    "data_full.isna().sum()['final.output.recovery']"
   ]
  },
  {
   "cell_type": "markdown",
   "metadata": {},
   "source": [
    "удалим из обучающей выборки те признаки которые отсутствуют в тестовой выборке. "
   ]
  },
  {
   "cell_type": "code",
   "execution_count": 342,
   "metadata": {},
   "outputs": [],
   "source": [
    "print('Размер выборки train:', data_train.shape)\n",
    "print('Размер выборки test:', data_test.shape)"
   ]
  },
  {
   "cell_type": "code",
   "execution_count": 343,
   "metadata": {},
   "outputs": [],
   "source": [
    "data_train = data_train.drop(list(set(data_full)-set(data_test)), axis = 1)\n"
   ]
  },
  {
   "cell_type": "markdown",
   "metadata": {},
   "source": [
    "и проверим что в обучающей и тестовой выборках общее количество призаков:"
   ]
  },
  {
   "cell_type": "code",
   "execution_count": 344,
   "metadata": {},
   "outputs": [
    {
     "data": {},
     "execution_count": 344,
     "metadata": {},
     "output_type": "execute_result"
    }
   ],
   "source": [
    "data_train.shape[1]==data_test.shape[1]\n"
   ]
  },
  {
   "cell_type": "markdown",
   "metadata": {},
   "source": [
    "заменим пустоты в таблицах data_train и data_test методом ffill"
   ]
  },
  {
   "cell_type": "code",
   "execution_count": 345,
   "metadata": {},
   "outputs": [],
   "source": [
    "data_train.ffill(inplace=True)\n",
    "data_test.ffill(inplace=True)"
   ]
  },
  {
   "cell_type": "markdown",
   "metadata": {},
   "source": [
    "и проверим что пустот больше нет:"
   ]
  },
  {
   "cell_type": "code",
   "execution_count": 346,
   "metadata": {},
   "outputs": [
    {
     "data": {},
     "execution_count": 346,
     "metadata": {},
     "output_type": "execute_result"
    }
   ],
   "source": [
    "data_train.isna().sum()"
   ]
  },
  {
   "cell_type": "code",
   "execution_count": 347,
   "metadata": {},
   "outputs": [
    {
     "data": {},
     "execution_count": 347,
     "metadata": {},
     "output_type": "execute_result"
    }
   ],
   "source": [
    "data_test.isna().sum()"
   ]
  },
  {
   "cell_type": "markdown",
   "metadata": {},
   "source": [
    "## Анализ данных"
   ]
  },
  {
   "cell_type": "markdown",
   "metadata": {},
   "source": [
    "### Анализ концентрации металлов на различных этапах очистки"
   ]
  },
  {
   "cell_type": "markdown",
   "metadata": {},
   "source": [
    "в массивы au_concentrate ag_concentrate pb_concentrate запишем информацию о концентрации на разных этапах очистки для золота, серебра, свинца"
   ]
  },
  {
   "cell_type": "code",
   "execution_count": 348,
   "metadata": {},
   "outputs": [],
   "source": [
    "au_concentrate = data_full[['rougher.output.concentrate_au','primary_cleaner.output.concentrate_au','final.output.concentrate_au']]\n",
    "ag_concentrate = data_full[['rougher.output.concentrate_ag','primary_cleaner.output.concentrate_ag','final.output.concentrate_ag']]\n",
    "pb_concentrate = data_full[['rougher.output.concentrate_pb','primary_cleaner.output.concentrate_pb','final.output.concentrate_pb']]\n",
    "\n",
    "labels=['Флоатация','Первичная очистка','Вторичная очистка']"
   ]
  },
  {
   "cell_type": "markdown",
   "metadata": {},
   "source": [
    "Напишем функцию которая рисует гистограмму концентрации метала `metal_label` на 3 этапах:"
   ]
  },
  {
   "cell_type": "code",
   "execution_count": 349,
   "metadata": {},
   "outputs": [],
   "source": [
    "def plt_concentrate_metal(data,metal_label):\n",
    "    for y,label in zip(data, labels):\n",
    "        #plt=reload(plt)\n",
    "        data_full.plot(kind='hist',y=y,bins = 100, grid=True)\n",
    "        plt.title(label+' для '+metal_label, fontsize=18) \n",
    "    "
   ]
  },
  {
   "cell_type": "code",
   "execution_count": 350,
   "metadata": {},
   "outputs": [
    {
     "data": {
      "image/png": "[encoded data removed]"
     },
     "metadata": {
      "needs_background": "light"
     },
     "output_type": "display_data"
    },
    {
     "data": {
      "image/png": "[encoded data removed]"
     },
     "metadata": {
      "needs_background": "light"
     },
     "output_type": "display_data"
    },
    {
     "data": {
      "image/png": "[encoded data removed]"
     },
     "metadata": {
      "needs_background": "light"
     },
     "output_type": "display_data"
    }
   ],
   "source": [
    "plt_concentrate_metal(au_concentrate,'Золота')"
   ]
  },
  {
   "cell_type": "code",
   "execution_count": 351,
   "metadata": {},
   "outputs": [
    {
     "data": {
      "image/png": "[encoded data removed]"
     },
     "metadata": {
      "needs_background": "light"
     },
     "output_type": "display_data"
    },
    {
     "data": {
      "image/png": "[encoded data removed]"
     },
     "metadata": {
      "needs_background": "light"
     },
     "output_type": "display_data"
    },
    {
     "data": {
      "image/png": "[encoded data removed]"
     },
     "metadata": {
      "needs_background": "light"
     },
     "output_type": "display_data"
    }
   ],
   "source": [
    "plt_concentrate_metal(ag_concentrate,'Серебра')"
   ]
  },
  {
   "cell_type": "code",
   "execution_count": 352,
   "metadata": {},
   "outputs": [
    {
     "data": {
      "image/png": "[encoded data removed]"
     },
     "metadata": {
      "needs_background": "light"
     },
     "output_type": "display_data"
    },
    {
     "data": {
      "image/png": "[encoded data removed]"
     },
     "metadata": {
      "needs_background": "light"
     },
     "output_type": "display_data"
    },
    {
     "data": {
      "image/png": "[encoded data removed]"
     },
     "metadata": {
      "needs_background": "light"
     },
     "output_type": "display_data"
    }
   ],
   "source": [
    "plt_concentrate_metal(pb_concentrate,'Свинца')"
   ]
  },
  {
   "cell_type": "markdown",
   "metadata": {},
   "source": [
    "Видно что что доля золота с каждым этапом увеличивается, доля серебра уменьшается, а доля свинца не меняется или меняется незначительно. С каждым этапом разброс значений уменьшается и нулевые значения уменьшаются."
   ]
  },
  {
   "cell_type": "markdown",
   "metadata": {},
   "source": [
    "### Сравнение распределений размеров гранул сырья на обучающей и тестовой выборках"
   ]
  },
  {
   "cell_type": "markdown",
   "metadata": {},
   "source": [
    "сравним размеры гранул перед флоатацией построив гистограммы"
   ]
  },
  {
   "cell_type": "code",
   "execution_count": 353,
   "metadata": {},
   "outputs": [
    {
     "data": {
      "image/png": "[encoded data removed]"
     },
     "metadata": {
      "needs_background": "light"
     },
     "output_type": "display_data"
    }
   ],
   "source": [
    "plt.hist(data_train['rougher.input.feed_size'], bins=100,density=True)\n",
    "plt.hist(data_test['rougher.input.feed_size'], bins=100,density=True)\n",
    "plt.show()\n"
   ]
  },
  {
   "cell_type": "markdown",
   "metadata": {},
   "source": [
    "сойденим столбцы из двух баз и посомтрим на их характеристики:"
   ]
  },
  {
   "cell_type": "code",
   "execution_count": 354,
   "metadata": {},
   "outputs": [],
   "source": [
    "train_test = pd.concat([data_train['rougher.input.feed_size'], data_test['rougher.input.feed_size']], axis=1) "
   ]
  },
  {
   "cell_type": "code",
   "execution_count": 355,
   "metadata": {},
   "outputs": [
    {
     "data": {},
     "execution_count": 355,
     "metadata": {},
     "output_type": "execute_result"
    }
   ],
   "source": [
    "train_test.describe()"
   ]
  },
  {
   "cell_type": "markdown",
   "metadata": {},
   "source": [
    "построим ящики с усами:"
   ]
  },
  {
   "cell_type": "code",
   "execution_count": 356,
   "metadata": {},
   "outputs": [
    {
     "data": {
      "image/png": "[encoded data removed]"
     },
     "metadata": {
      "needs_background": "light"
     },
     "output_type": "display_data"
    }
   ],
   "source": [
    "boxplot = train_test.boxplot(column='rougher.input.feed_size', fontsize=18,grid=False, rot=55)\n",
    "\n",
    "plt.show()"
   ]
  },
  {
   "cell_type": "markdown",
   "metadata": {},
   "source": [
    "судя по графикам и таблице данные не очень сильно отличаются. "
   ]
  },
  {
   "cell_type": "markdown",
   "metadata": {},
   "source": [
    "### Исследуем суммарную концентрацию всех веществ на разных стадиях: в сырье, в черновом и финальном концентратах."
   ]
  },
  {
   "cell_type": "markdown",
   "metadata": {},
   "source": [
    "Сохраним суммарные концентрации каждой стадии в отдельные массивы:"
   ]
  },
  {
   "cell_type": "code",
   "execution_count": 357,
   "metadata": {},
   "outputs": [],
   "source": [
    "raw = data_full[['rougher.input.feed_au', 'rougher.input.feed_ag', 'rougher.input.feed_pb', 'rougher.input.feed_sol']].sum(axis=1)\n",
    "after_rougher = data_full[['rougher.output.concentrate_au', 'rougher.output.concentrate_ag', 'rougher.output.concentrate_pb', 'rougher.output.concentrate_sol']].sum(axis=1)\n",
    "final = data_full[['final.output.concentrate_au', 'final.output.concentrate_ag', 'final.output.concentrate_pb', 'final.output.concentrate_sol']].sum(axis=1)"
   ]
  },
  {
   "cell_type": "code",
   "execution_count": 358,
   "metadata": {},
   "outputs": [
    {
     "data": {
      "image/png": "[encoded data removed]"
     },
     "metadata": {
      "needs_background": "light"
     },
     "output_type": "display_data"
    }
   ],
   "source": [
    "plt.figure(figsize=[12,9])\n",
    "\n",
    "plt.hist(raw, bins=100, label = 'сырье', alpha=.5)\n",
    "plt.hist(after_rougher, bins=100, label = 'в черновом концентрате', alpha=.5)\n",
    "plt.hist(final, bins=100, label = 'в финальном концентрате', alpha=.5)\n",
    "plt.legend()\n",
    "\n",
    "plt.xlim([0, 100])\n",
    "plt.ylim([0, 2600])\n",
    "\n",
    "plt.title(\"Гистограмма распределения концентраций на разных этапах очистки\")\n",
    "plt.show()"
   ]
  },
  {
   "cell_type": "markdown",
   "metadata": {},
   "source": [
    "видно что с концентрация веществ увеличивается по ходу технологического процесса. А нулевые значения уменьшаются."
   ]
  },
  {
   "cell_type": "code",
   "execution_count": 359,
   "metadata": {},
   "outputs": [],
   "source": [
    "data_full['raw'] = data_full[['rougher.input.feed_au', 'rougher.input.feed_ag', 'rougher.input.feed_pb', 'rougher.input.feed_sol']].sum(axis=1)\n",
    "data_full['after_rougher'] = data_full[['rougher.output.concentrate_au', 'rougher.output.concentrate_ag', 'rougher.output.concentrate_pb', 'rougher.output.concentrate_sol']].sum(axis=1)\n",
    "data_full['final']= data_full[['final.output.concentrate_au', 'final.output.concentrate_ag', 'final.output.concentrate_pb', 'final.output.concentrate_sol']].sum(axis=1)"
   ]
  },
  {
   "cell_type": "markdown",
   "metadata": {},
   "source": [
    "удалим данные где сумма меньше нуля. Посмотрим сколько данных мы можем удалить"
   ]
  },
  {
   "cell_type": "code",
   "execution_count": 360,
   "metadata": {},
   "outputs": [
    {
     "data": {},
     "execution_count": 360,
     "metadata": {},
     "output_type": "execute_result"
    }
   ],
   "source": [
    "len(data_full.query('raw==0'))"
   ]
  },
  {
   "cell_type": "code",
   "execution_count": 361,
   "metadata": {},
   "outputs": [
    {
     "data": {},
     "execution_count": 361,
     "metadata": {},
     "output_type": "execute_result"
    }
   ],
   "source": [
    "len(data_full.query('after_rougher==0'))"
   ]
  },
  {
   "cell_type": "code",
   "execution_count": 362,
   "metadata": {},
   "outputs": [
    {
     "data": {},
     "execution_count": 362,
     "metadata": {},
     "output_type": "execute_result"
    }
   ],
   "source": [
    "len(data_full.query('final==0'))"
   ]
  },
  {
   "cell_type": "code",
   "execution_count": 363,
   "metadata": {},
   "outputs": [],
   "source": [
    "len_old=len(data_full)"
   ]
  },
  {
   "cell_type": "markdown",
   "metadata": {},
   "source": []
  },
  {
   "cell_type": "code",
   "execution_count": 364,
   "metadata": {},
   "outputs": [],
   "source": [
    "data_full=data_full.query('after_rougher!=0').query('final!=0')"
   ]
  },
  {
   "cell_type": "code",
   "execution_count": 365,
   "metadata": {},
   "outputs": [
    {
     "data": {},
     "execution_count": 365,
     "metadata": {},
     "output_type": "execute_result"
    }
   ],
   "source": [
    "len(data_full)/len_old"
   ]
  },
  {
   "cell_type": "markdown",
   "metadata": {},
   "source": [
    "мы удалили ~3% данных."
   ]
  },
  {
   "cell_type": "markdown",
   "metadata": {},
   "source": [
    "## Модель"
   ]
  },
  {
   "cell_type": "markdown",
   "metadata": {},
   "source": [
    "### Функция для вычисления итоговой sMAPE."
   ]
  },
  {
   "cell_type": "markdown",
   "metadata": {},
   "source": [
    "напишем функцию для вичисления метрики sMAPE:"
   ]
  },
  {
   "cell_type": "code",
   "execution_count": 366,
   "metadata": {},
   "outputs": [],
   "source": [
    "def sMAPE(target, predicted):\n",
    "    summa = sum(abs(target - predicted)/((abs(target) + abs(predicted))* 0.5))\n",
    "    return 1 / len(target) * summa * 100"
   ]
  },
  {
   "cell_type": "code",
   "execution_count": 367,
   "metadata": {},
   "outputs": [],
   "source": [
    "def final_sMAPE(sMAPE_rougher , sMAPE_final):\n",
    "    return 0.25 * sMAPE_rougher + 0.75 * sMAPE_final"
   ]
  },
  {
   "cell_type": "markdown",
   "metadata": {},
   "source": [
    "### Обучение и оценка качества моделей"
   ]
  },
  {
   "cell_type": "markdown",
   "metadata": {},
   "source": [
    "сохраним целевые признаки в отдельный массив:"
   ]
  },
  {
   "cell_type": "code",
   "execution_count": 368,
   "metadata": {},
   "outputs": [],
   "source": [
    "targets_labels=['final.output.recovery','rougher.output.recovery']"
   ]
  },
  {
   "cell_type": "markdown",
   "metadata": {},
   "source": [
    " выделим признаки features и target:"
   ]
  },
  {
   "cell_type": "code",
   "execution_count": 369,
   "metadata": {},
   "outputs": [],
   "source": [
    "features_train = data_train.drop(['date','final.output.recovery','rougher.output.recovery'], axis=1)\n",
    "target_train = data_train[targets_labels]"
   ]
  },
  {
   "cell_type": "code",
   "execution_count": 370,
   "metadata": {},
   "outputs": [],
   "source": [
    "features_test = data_test.drop(['date','final.output.recovery','rougher.output.recovery'], axis=1)\n",
    "target_test = data_test[targets_labels]"
   ]
  },
  {
   "cell_type": "markdown",
   "metadata": {},
   "source": [
    "чтобы маштабировать признаки cоздадим объект scaler и обучим его на обучающих данных."
   ]
  },
  {
   "cell_type": "code",
   "execution_count": 371,
   "metadata": {},
   "outputs": [
    {
     "data": {},
     "execution_count": 371,
     "metadata": {},
     "output_type": "execute_result"
    }
   ],
   "source": [
    "scaler = StandardScaler()\n",
    "scaler.fit(features_train) "
   ]
  },
  {
   "cell_type": "code",
   "execution_count": 372,
   "metadata": {},
   "outputs": [],
   "source": [
    "features_train = scaler.transform(features_train)\n",
    "features_test = scaler.transform(features_test) "
   ]
  },
  {
   "cell_type": "markdown",
   "metadata": {},
   "source": [
    "#### дерево принятия решений"
   ]
  },
  {
   "cell_type": "code",
   "execution_count": 384,
   "metadata": {},
   "outputs": [],
   "source": [
    "best_depth = 0\n",
    "best_result = -1000000\n",
    "\n",
    "for i in range(1,30):\n",
    "    model_tree = DecisionTreeRegressor(max_depth=i,random_state=12345)\n",
    "    model_tree.fit(features_train,target_train)\n",
    "    result=cross_val_score(model_tree, features_train, target_train, cv=5).mean()\n",
    "    if result > best_result:\n",
    "        best_depth = i \n",
    "        best_result = result \n",
    "\n",
    "print('наилучшая глубина дерева',best_depth)\n",
    "print('Средняя оценка качества модели для дерева принятия решений :',best_result)"
   ]
  },
  {
   "cell_type": "markdown",
   "metadata": {},
   "source": [
    "#### Случайный лес:"
   ]
  },
  {
   "cell_type": "code",
   "execution_count": 389,
   "metadata": {},
   "outputs": [],
   "source": [
    "best_n_estimators = 0\n",
    "best_result = -1000000\n",
    "\n",
    "for i in range(1,30):\n",
    "    model_forest = RandomForestRegressor(n_estimators=i,max_depth=best_depth,random_state=12345) \n",
    "    model_forest.fit(features_train,target_train)\n",
    "  \n",
    "    result=cross_val_score(model_forest, features_train, target_train, cv=5).mean()\n",
    "    if result > best_result:\n",
    "        best_n_estimators = i \n",
    "        best_result = result \n",
    "\n",
    "print('наилучшая число деревьев',best_n_estimators)\n",
    "print('Средняя оценка качества модели для случайного леса :',best_result)\n"
   ]
  },
  {
   "cell_type": "markdown",
   "metadata": {},
   "source": [
    "#### Линейная регрессия:"
   ]
  },
  {
   "cell_type": "code",
   "execution_count": 375,
   "metadata": {},
   "outputs": [],
   "source": [
    "best_depth = 0\n",
    "best_result = -1000000\n",
    "\n",
    "model_tree = LinearRegression()\n",
    "model_tree.fit(features_train,target_train)\n",
    "        \n",
    "result=cross_val_score(model_tree, features_train, target_train, cv=5).mean()\n",
    "\n",
    "print('Средняя оценка качества модели для линейной регрессии:',result)"
   ]
  },
  {
   "cell_type": "markdown",
   "metadata": {},
   "source": [
    "Случайный лес предсказывает лучше линейной регрессии и дерева. Посчитаем для нее метрику качества итоговое sMAPE:"
   ]
  },
  {
   "cell_type": "code",
   "execution_count": 390,
   "metadata": {},
   "outputs": [],
   "source": [
    "cross_val_score_rougher = cross_val_score(RandomForestRegressor(n_estimators=8,max_depth=4,random_state=12345) ,\n",
    "                                          features_train,\n",
    "                                          target_train,\n",
    "                                          cv=4).mean()\n",
    "cross_val_score_final = cross_val_score(RandomForestRegressor(n_estimators=8,max_depth=4,random_state=12345) ,\n",
    "                                        features_train,\n",
    "                                        target_train,\n",
    "                                        cv=4).mean()\n",
    "total_smape_result = final_sMAPE(cross_val_score_rougher, cross_val_score_final)\n",
    "print('Итоговое sMAPE:', total_smape_result)"
   ]
  },
  {
   "cell_type": "markdown",
   "metadata": {},
   "source": [
    "проверим модель на адекватность используя модель DummyRegressor."
   ]
  },
  {
   "cell_type": "code",
   "execution_count": 377,
   "metadata": {},
   "outputs": [],
   "source": [
    "dummy = DummyRegressor(strategy=\"mean\")"
   ]
  },
  {
   "cell_type": "code",
   "execution_count": 378,
   "metadata": {},
   "outputs": [
    {
     "data": {},
     "execution_count": 378,
     "metadata": {},
     "output_type": "execute_result"
    }
   ],
   "source": [
    "dummy.fit(features_train,target_train)"
   ]
  },
  {
   "cell_type": "code",
   "execution_count": 379,
   "metadata": {},
   "outputs": [],
   "source": [
    "dummy_predictions=dummy.predict(features_test)\n",
    "print(dummy_predictions)"
   ]
  },
  {
   "cell_type": "markdown",
   "metadata": {},
   "source": [
    "модель всегда предсказывает 66.51883213 и 82.70450165. ПОсмотрим какая для нее будет метрика sMAPE"
   ]
  },
  {
   "cell_type": "code",
   "execution_count": 380,
   "metadata": {},
   "outputs": [],
   "source": [
    "cross_val_score_rougher = cross_val_score(DummyRegressor(strategy=\"mean\"),\n",
    "                                          features_train,\n",
    "                                          target_train,\n",
    "                                          cv=4).mean()\n",
    "cross_val_score_final = cross_val_score(DummyRegressor(strategy=\"mean\"),\n",
    "                                        features_train,\n",
    "                                        target_train,\n",
    "                                        cv=4).mean()\n",
    "total_smape_result = final_sMAPE(cross_val_score_rougher, cross_val_score_final)\n",
    "print('sMAPE для DummyRegressor:', total_smape_result)"
   ]
  },
  {
   "cell_type": "markdown",
   "metadata": {},
   "source": [
    "sMAPE для нашей модели больше. Проверка на адекватность проведена успешно."
   ]
  },
  {
   "cell_type": "markdown",
   "metadata": {},
   "source": [
    "## Вывод"
   ]
  },
  {
   "cell_type": "markdown",
   "metadata": {},
   "source": [
    "В ходе работы мы изучили данные компании «Цифра». Компания разрабатывает решения для эффективной работы промышленных предприятий. Были изучены обучающие и тестирующие данные. Так же был проведен предобработка данных. Были построены графики иллюстрирующие изменение изменение концентрации элементов на каждом этапе, были проанализированы распределения размеров гранул на обучающей и тестовой выборках.\n",
    "Были написаны функции для расчёта sMAPE и итоговой sMAPE. Разные модели (линейная регрессия, случайный лес и дерево решений) были сравнены между собой. Самой эффективной моделью для обучения был выбран случайный лес с параметрами максимальной глубины 4 и количество деревьев .... Работу модели протестировали на тестовой и сравнили результат с константной моделью: \n"
   ]
  },
  {
   "cell_type": "markdown",
   "metadata": {},
   "source": [
    "## Чек-лист готовности проекта"
   ]
  },
  {
   "cell_type": "markdown",
   "metadata": {},
   "source": [
    "- [x]  Jupyter Notebook открыт\n",
    "- [x]  Весь код выполняется без ошибок\n",
    "- [x]  Ячейки с кодом расположены в порядке выполнения\n",
    "- [x]  Выполнен шаг 1: данные подготовлены\n",
    "    - [x]  Проверена формула вычисления эффективности обогащения\n",
    "    - [x]  Проанализированы признаки, недоступные в тестовой выборке\n",
    "    - [x]  Проведена предобработка данных\n",
    "- [x]  Выполнен шаг 2: данные проанализированы\n",
    "    - [x]  Исследовано изменение концентрации элементов на каждом этапе\n",
    "    - [x]  Проанализированы распределения размеров гранул на обучающей и тестовой выборках\n",
    "    - [x]  Исследованы суммарные концентрации\n",
    "- [x]  Выполнен шаг 3: построена модель прогнозирования\n",
    "    - [x]  Написана функция для вычисления итогового *sMAPE*\n",
    "    - [x]  Обучено и проверено несколько моделей\n",
    "    - [x]  Выбрана лучшая модель, её качество проверено на тестовой выборке"
   ]
  }
 ],
 "metadata": {
  "ExecuteTimeLog": [
   {
    "duration": 1107,
    "start_time": "2022-07-01T12:37:09.793Z"
   },
   {
    "duration": 3357,
    "start_time": "2022-07-01T12:44:37.391Z"
   },
   {
    "duration": 29,
    "start_time": "2022-07-01T12:51:24.740Z"
   },
   {
    "duration": 26,
    "start_time": "2022-07-01T12:51:38.577Z"
   },
   {
    "duration": 20,
    "start_time": "2022-07-01T12:51:39.522Z"
   },
   {
    "duration": 19,
    "start_time": "2022-07-01T15:33:16.799Z"
   },
   {
    "duration": 20,
    "start_time": "2022-07-01T15:33:30.995Z"
   },
   {
    "duration": 22,
    "start_time": "2022-07-01T15:33:49.658Z"
   },
   {
    "duration": 3,
    "start_time": "2022-07-01T17:01:06.536Z"
   },
   {
    "duration": 4,
    "start_time": "2022-07-01T17:57:47.831Z"
   },
   {
    "duration": 97,
    "start_time": "2022-07-01T17:58:10.214Z"
   },
   {
    "duration": 5,
    "start_time": "2022-07-01T17:58:20.299Z"
   },
   {
    "duration": 4,
    "start_time": "2022-07-01T17:58:50.000Z"
   },
   {
    "duration": 2,
    "start_time": "2022-07-01T18:24:13.931Z"
   },
   {
    "duration": 665,
    "start_time": "2022-07-01T18:24:14.750Z"
   },
   {
    "duration": 3,
    "start_time": "2022-07-01T18:45:57.586Z"
   },
   {
    "duration": 102,
    "start_time": "2022-07-01T19:08:42.702Z"
   },
   {
    "duration": 10,
    "start_time": "2022-07-01T19:08:51.469Z"
   },
   {
    "duration": 3,
    "start_time": "2022-07-01T19:47:50.576Z"
   },
   {
    "duration": 3,
    "start_time": "2022-07-01T19:48:34.074Z"
   },
   {
    "duration": 6,
    "start_time": "2022-07-01T19:48:34.717Z"
   },
   {
    "duration": 3,
    "start_time": "2022-07-01T20:03:54.574Z"
   },
   {
    "duration": 6,
    "start_time": "2022-07-01T20:04:44.806Z"
   },
   {
    "duration": 6,
    "start_time": "2022-07-01T20:07:06.021Z"
   },
   {
    "duration": 4,
    "start_time": "2022-07-01T20:07:35.282Z"
   },
   {
    "duration": 5,
    "start_time": "2022-07-01T20:07:55.214Z"
   },
   {
    "duration": 5,
    "start_time": "2022-07-01T20:08:11.221Z"
   },
   {
    "duration": 3,
    "start_time": "2022-07-01T20:08:20.603Z"
   },
   {
    "duration": 706,
    "start_time": "2022-07-01T20:08:20.608Z"
   },
   {
    "duration": 29,
    "start_time": "2022-07-01T20:08:21.316Z"
   },
   {
    "duration": 22,
    "start_time": "2022-07-01T20:08:21.347Z"
   },
   {
    "duration": 27,
    "start_time": "2022-07-01T20:08:21.371Z"
   },
   {
    "duration": 39,
    "start_time": "2022-07-01T20:08:21.399Z"
   },
   {
    "duration": 12,
    "start_time": "2022-07-01T20:08:21.440Z"
   },
   {
    "duration": 19,
    "start_time": "2022-07-01T20:08:21.454Z"
   },
   {
    "duration": 3,
    "start_time": "2022-07-01T20:08:21.476Z"
   },
   {
    "duration": 46,
    "start_time": "2022-07-01T20:08:21.480Z"
   },
   {
    "duration": 4,
    "start_time": "2022-07-01T20:08:21.528Z"
   },
   {
    "duration": 4,
    "start_time": "2022-07-01T20:11:46.711Z"
   },
   {
    "duration": 8,
    "start_time": "2022-07-01T20:16:14.274Z"
   },
   {
    "duration": 45,
    "start_time": "2022-07-01T20:16:30.861Z"
   },
   {
    "duration": 5,
    "start_time": "2022-07-01T20:29:30.721Z"
   },
   {
    "duration": 4,
    "start_time": "2022-07-01T20:29:41.835Z"
   },
   {
    "duration": 3,
    "start_time": "2022-07-01T20:29:50.506Z"
   },
   {
    "duration": 247,
    "start_time": "2022-07-01T20:30:07.609Z"
   },
   {
    "duration": 199,
    "start_time": "2022-07-01T20:30:19.831Z"
   },
   {
    "duration": 8,
    "start_time": "2022-07-01T20:39:25.467Z"
   },
   {
    "duration": 4,
    "start_time": "2022-07-01T20:39:40.156Z"
   },
   {
    "duration": 4,
    "start_time": "2022-07-01T20:40:54.082Z"
   },
   {
    "duration": 3,
    "start_time": "2022-07-01T20:41:14.512Z"
   },
   {
    "duration": 3,
    "start_time": "2022-07-01T20:41:22.154Z"
   },
   {
    "duration": 7,
    "start_time": "2022-07-01T20:41:25.176Z"
   },
   {
    "duration": 9,
    "start_time": "2022-07-01T20:41:37.500Z"
   },
   {
    "duration": 7,
    "start_time": "2022-07-01T20:41:45.496Z"
   },
   {
    "duration": 9,
    "start_time": "2022-07-01T20:43:26.381Z"
   },
   {
    "duration": 9,
    "start_time": "2022-07-01T20:43:26.480Z"
   },
   {
    "duration": 4,
    "start_time": "2022-07-01T20:47:36.794Z"
   },
   {
    "duration": 9,
    "start_time": "2022-07-01T20:47:56.232Z"
   },
   {
    "duration": 15,
    "start_time": "2022-07-01T20:48:16.578Z"
   },
   {
    "duration": 15,
    "start_time": "2022-07-01T20:48:30.763Z"
   },
   {
    "duration": 86,
    "start_time": "2022-07-01T20:51:03.801Z"
   },
   {
    "duration": 4,
    "start_time": "2022-07-01T20:51:39.027Z"
   },
   {
    "duration": 8,
    "start_time": "2022-07-01T20:51:51.569Z"
   },
   {
    "duration": 4,
    "start_time": "2022-07-01T20:52:22.657Z"
   },
   {
    "duration": 1666,
    "start_time": "2022-07-01T20:52:54.746Z"
   },
   {
    "duration": 31,
    "start_time": "2022-07-01T20:53:07.075Z"
   },
   {
    "duration": 4,
    "start_time": "2022-07-01T20:53:34.771Z"
   },
   {
    "duration": 4,
    "start_time": "2022-07-01T20:53:58.218Z"
   },
   {
    "duration": 15,
    "start_time": "2022-07-01T20:54:07.844Z"
   },
   {
    "duration": 102,
    "start_time": "2022-07-01T21:12:35.676Z"
   },
   {
    "duration": 4,
    "start_time": "2022-07-01T22:01:17.116Z"
   },
   {
    "duration": 5,
    "start_time": "2022-07-01T22:02:06.276Z"
   },
   {
    "duration": 5,
    "start_time": "2022-07-01T22:02:14.244Z"
   },
   {
    "duration": 6,
    "start_time": "2022-07-01T22:02:19.603Z"
   },
   {
    "duration": 5,
    "start_time": "2022-07-01T22:03:31.583Z"
   },
   {
    "duration": 5,
    "start_time": "2022-07-01T22:03:32.301Z"
   },
   {
    "duration": 6,
    "start_time": "2022-07-01T22:03:32.827Z"
   },
   {
    "duration": 701,
    "start_time": "2022-07-01T22:03:33.435Z"
   },
   {
    "duration": 1263,
    "start_time": "2022-07-01T22:03:54.524Z"
   },
   {
    "duration": 880,
    "start_time": "2022-07-01T22:08:27.909Z"
   },
   {
    "duration": 5,
    "start_time": "2022-07-01T22:13:24.332Z"
   },
   {
    "duration": 5,
    "start_time": "2022-07-01T22:13:29.530Z"
   },
   {
    "duration": 624,
    "start_time": "2022-07-01T22:13:50.255Z"
   },
   {
    "duration": 7,
    "start_time": "2022-07-01T22:15:02.108Z"
   },
   {
    "duration": 5,
    "start_time": "2022-07-01T22:15:13.844Z"
   },
   {
    "duration": 18,
    "start_time": "2022-07-01T22:16:38.610Z"
   },
   {
    "duration": 5,
    "start_time": "2022-07-01T22:16:45.684Z"
   },
   {
    "duration": 65,
    "start_time": "2022-07-01T22:17:24.400Z"
   },
   {
    "duration": 5,
    "start_time": "2022-07-01T22:17:29.294Z"
   },
   {
    "duration": 6,
    "start_time": "2022-07-01T22:22:16.741Z"
   },
   {
    "duration": 3,
    "start_time": "2022-07-01T22:22:26.415Z"
   },
   {
    "duration": 8,
    "start_time": "2022-07-01T22:22:48.702Z"
   },
   {
    "duration": 16,
    "start_time": "2022-07-01T22:22:58.461Z"
   },
   {
    "duration": 21,
    "start_time": "2022-07-01T22:23:16.509Z"
   },
   {
    "duration": 13,
    "start_time": "2022-07-01T22:42:18.175Z"
   },
   {
    "duration": 3,
    "start_time": "2022-07-01T22:43:26.364Z"
   },
   {
    "duration": 688,
    "start_time": "2022-07-01T22:43:26.368Z"
   },
   {
    "duration": 20,
    "start_time": "2022-07-01T22:43:27.058Z"
   },
   {
    "duration": 20,
    "start_time": "2022-07-01T22:43:27.080Z"
   },
   {
    "duration": 40,
    "start_time": "2022-07-01T22:43:27.102Z"
   },
   {
    "duration": 19,
    "start_time": "2022-07-01T22:43:27.144Z"
   },
   {
    "duration": 11,
    "start_time": "2022-07-01T22:43:27.165Z"
   },
   {
    "duration": 16,
    "start_time": "2022-07-01T22:43:27.178Z"
   },
   {
    "duration": 2,
    "start_time": "2022-07-01T22:43:27.196Z"
   },
   {
    "duration": 6,
    "start_time": "2022-07-01T22:43:27.225Z"
   },
   {
    "duration": 6,
    "start_time": "2022-07-01T22:43:27.233Z"
   },
   {
    "duration": 4,
    "start_time": "2022-07-01T22:43:27.241Z"
   },
   {
    "duration": 17,
    "start_time": "2022-07-01T22:43:27.247Z"
   },
   {
    "duration": 15,
    "start_time": "2022-07-01T22:43:33.316Z"
   },
   {
    "duration": 13,
    "start_time": "2022-07-01T22:43:39.317Z"
   },
   {
    "duration": 19,
    "start_time": "2022-07-01T22:44:40.974Z"
   },
   {
    "duration": 1283,
    "start_time": "2022-07-01T22:44:42.864Z"
   },
   {
    "duration": 32,
    "start_time": "2022-07-01T22:44:52.998Z"
   },
   {
    "duration": 3,
    "start_time": "2022-07-01T22:45:11.308Z"
   },
   {
    "duration": 682,
    "start_time": "2022-07-01T22:45:11.313Z"
   },
   {
    "duration": 28,
    "start_time": "2022-07-01T22:45:11.997Z"
   },
   {
    "duration": 27,
    "start_time": "2022-07-01T22:45:12.027Z"
   },
   {
    "duration": 43,
    "start_time": "2022-07-01T22:45:12.056Z"
   },
   {
    "duration": 35,
    "start_time": "2022-07-01T22:45:12.101Z"
   },
   {
    "duration": 16,
    "start_time": "2022-07-01T22:45:12.138Z"
   },
   {
    "duration": 19,
    "start_time": "2022-07-01T22:45:12.156Z"
   },
   {
    "duration": 3,
    "start_time": "2022-07-01T22:45:12.177Z"
   },
   {
    "duration": 17,
    "start_time": "2022-07-01T22:45:12.182Z"
   },
   {
    "duration": 24,
    "start_time": "2022-07-01T22:45:12.202Z"
   },
   {
    "duration": 9,
    "start_time": "2022-07-01T22:45:12.228Z"
   },
   {
    "duration": 30,
    "start_time": "2022-07-01T22:45:12.239Z"
   },
   {
    "duration": 23,
    "start_time": "2022-07-01T22:45:12.271Z"
   },
   {
    "duration": 40,
    "start_time": "2022-07-01T22:45:12.295Z"
   },
   {
    "duration": 13,
    "start_time": "2022-07-01T22:45:12.337Z"
   },
   {
    "duration": 17,
    "start_time": "2022-07-01T22:45:12.352Z"
   },
   {
    "duration": 13,
    "start_time": "2022-07-01T22:45:12.371Z"
   },
   {
    "duration": 62,
    "start_time": "2022-07-01T22:45:12.386Z"
   },
   {
    "duration": 58,
    "start_time": "2022-07-01T22:45:12.449Z"
   },
   {
    "duration": 4,
    "start_time": "2022-07-01T23:11:00.404Z"
   },
   {
    "duration": 709,
    "start_time": "2022-07-01T23:11:00.410Z"
   },
   {
    "duration": 23,
    "start_time": "2022-07-01T23:11:01.121Z"
   },
   {
    "duration": 45,
    "start_time": "2022-07-01T23:11:01.146Z"
   },
   {
    "duration": 36,
    "start_time": "2022-07-01T23:11:01.193Z"
   },
   {
    "duration": 28,
    "start_time": "2022-07-01T23:11:01.230Z"
   },
   {
    "duration": 13,
    "start_time": "2022-07-01T23:11:01.260Z"
   },
   {
    "duration": 23,
    "start_time": "2022-07-01T23:11:01.275Z"
   },
   {
    "duration": 2,
    "start_time": "2022-07-01T23:11:01.300Z"
   },
   {
    "duration": 48,
    "start_time": "2022-07-01T23:11:01.304Z"
   },
   {
    "duration": 7,
    "start_time": "2022-07-01T23:11:01.354Z"
   },
   {
    "duration": 17,
    "start_time": "2022-07-01T23:11:01.363Z"
   },
   {
    "duration": 3,
    "start_time": "2022-07-01T23:11:05.257Z"
   },
   {
    "duration": 15,
    "start_time": "2022-07-01T23:11:08.142Z"
   },
   {
    "duration": 28,
    "start_time": "2022-07-01T23:11:17.398Z"
   },
   {
    "duration": 17,
    "start_time": "2022-07-01T23:11:26.326Z"
   },
   {
    "duration": 31,
    "start_time": "2022-07-01T23:11:26.750Z"
   },
   {
    "duration": 3,
    "start_time": "2022-07-01T23:14:08.156Z"
   },
   {
    "duration": 720,
    "start_time": "2022-07-01T23:14:08.161Z"
   },
   {
    "duration": 20,
    "start_time": "2022-07-01T23:14:08.883Z"
   },
   {
    "duration": 30,
    "start_time": "2022-07-01T23:14:08.905Z"
   },
   {
    "duration": 21,
    "start_time": "2022-07-01T23:14:08.937Z"
   },
   {
    "duration": 24,
    "start_time": "2022-07-01T23:14:08.960Z"
   },
   {
    "duration": 13,
    "start_time": "2022-07-01T23:14:08.986Z"
   },
   {
    "duration": 18,
    "start_time": "2022-07-01T23:14:09.026Z"
   },
   {
    "duration": 3,
    "start_time": "2022-07-01T23:14:09.046Z"
   },
   {
    "duration": 11,
    "start_time": "2022-07-01T23:14:09.050Z"
   },
   {
    "duration": 9,
    "start_time": "2022-07-01T23:14:09.063Z"
   },
   {
    "duration": 7,
    "start_time": "2022-07-01T23:14:09.073Z"
   },
   {
    "duration": 43,
    "start_time": "2022-07-01T23:14:09.082Z"
   },
   {
    "duration": 15,
    "start_time": "2022-07-01T23:14:09.127Z"
   },
   {
    "duration": 22,
    "start_time": "2022-07-01T23:14:09.144Z"
   },
   {
    "duration": 12,
    "start_time": "2022-07-01T23:14:09.168Z"
   },
   {
    "duration": 45,
    "start_time": "2022-07-01T23:14:09.181Z"
   },
   {
    "duration": 10,
    "start_time": "2022-07-01T23:14:09.228Z"
   },
   {
    "duration": 29,
    "start_time": "2022-07-01T23:14:09.239Z"
   },
   {
    "duration": 84,
    "start_time": "2022-07-01T23:14:09.270Z"
   },
   {
    "duration": 1383,
    "start_time": "2022-07-01T23:14:47.552Z"
   },
   {
    "duration": 5,
    "start_time": "2022-07-01T23:15:13.200Z"
   },
   {
    "duration": 22,
    "start_time": "2022-07-01T23:15:25.120Z"
   },
   {
    "duration": 13,
    "start_time": "2022-07-01T23:17:48.726Z"
   },
   {
    "duration": 3,
    "start_time": "2022-07-01T23:21:28.274Z"
   },
   {
    "duration": 20,
    "start_time": "2022-07-01T23:39:19.157Z"
   },
   {
    "duration": 23,
    "start_time": "2022-07-01T23:42:28.440Z"
   },
   {
    "duration": 10,
    "start_time": "2022-07-01T23:42:37.603Z"
   },
   {
    "duration": 10,
    "start_time": "2022-07-01T23:43:04.994Z"
   },
   {
    "duration": 16,
    "start_time": "2022-07-01T23:43:34.620Z"
   },
   {
    "duration": 13,
    "start_time": "2022-07-01T23:43:57.330Z"
   },
   {
    "duration": 9,
    "start_time": "2022-07-01T23:44:03.272Z"
   },
   {
    "duration": 10,
    "start_time": "2022-07-01T23:46:07.678Z"
   },
   {
    "duration": 9,
    "start_time": "2022-07-01T23:46:08.376Z"
   },
   {
    "duration": 8,
    "start_time": "2022-07-01T23:46:09.064Z"
   },
   {
    "duration": 8,
    "start_time": "2022-07-01T23:46:09.722Z"
   },
   {
    "duration": 10,
    "start_time": "2022-07-01T23:46:10.648Z"
   },
   {
    "duration": 9,
    "start_time": "2022-07-01T23:46:11.456Z"
   },
   {
    "duration": 4,
    "start_time": "2022-07-01T23:46:57.508Z"
   },
   {
    "duration": 7,
    "start_time": "2022-07-01T23:48:16.800Z"
   },
   {
    "duration": 7,
    "start_time": "2022-07-01T23:48:19.760Z"
   },
   {
    "duration": 6,
    "start_time": "2022-07-01T23:48:20.272Z"
   },
   {
    "duration": 6,
    "start_time": "2022-07-01T23:48:20.748Z"
   },
   {
    "duration": 10,
    "start_time": "2022-07-01T23:48:21.232Z"
   },
   {
    "duration": 4,
    "start_time": "2022-07-01T23:48:21.688Z"
   },
   {
    "duration": 4,
    "start_time": "2022-07-01T23:48:32.552Z"
   },
   {
    "duration": 8,
    "start_time": "2022-07-01T23:48:35.712Z"
   },
   {
    "duration": 8,
    "start_time": "2022-07-01T23:48:43.292Z"
   },
   {
    "duration": 7,
    "start_time": "2022-07-01T23:50:26.816Z"
   },
   {
    "duration": 8,
    "start_time": "2022-07-01T23:50:27.226Z"
   },
   {
    "duration": 6,
    "start_time": "2022-07-01T23:50:27.554Z"
   },
   {
    "duration": 6,
    "start_time": "2022-07-01T23:50:27.816Z"
   },
   {
    "duration": 8,
    "start_time": "2022-07-01T23:50:28.106Z"
   },
   {
    "duration": 7,
    "start_time": "2022-07-01T23:50:46.714Z"
   },
   {
    "duration": 7,
    "start_time": "2022-07-01T23:50:46.898Z"
   },
   {
    "duration": 6,
    "start_time": "2022-07-01T23:50:47.082Z"
   },
   {
    "duration": 5,
    "start_time": "2022-07-01T23:50:47.274Z"
   },
   {
    "duration": 9,
    "start_time": "2022-07-01T23:50:47.448Z"
   },
   {
    "duration": 8,
    "start_time": "2022-07-01T23:50:48.296Z"
   },
   {
    "duration": 3,
    "start_time": "2022-07-01T23:55:36.342Z"
   },
   {
    "duration": 5,
    "start_time": "2022-07-01T23:55:36.929Z"
   },
   {
    "duration": 3,
    "start_time": "2022-07-01T23:55:38.547Z"
   },
   {
    "duration": 3,
    "start_time": "2022-07-02T00:18:18.963Z"
   },
   {
    "duration": 3,
    "start_time": "2022-07-02T00:18:43.841Z"
   },
   {
    "duration": 3,
    "start_time": "2022-07-02T00:20:20.667Z"
   },
   {
    "duration": 3,
    "start_time": "2022-07-02T00:20:25.208Z"
   },
   {
    "duration": 7,
    "start_time": "2022-07-02T00:20:42.556Z"
   },
   {
    "duration": 8,
    "start_time": "2022-07-02T00:21:19.780Z"
   },
   {
    "duration": 4,
    "start_time": "2022-07-02T00:23:15.480Z"
   },
   {
    "duration": 1128,
    "start_time": "2022-07-02T10:06:24.584Z"
   },
   {
    "duration": 3601,
    "start_time": "2022-07-02T10:06:25.715Z"
   },
   {
    "duration": 39,
    "start_time": "2022-07-02T10:06:29.318Z"
   },
   {
    "duration": 25,
    "start_time": "2022-07-02T10:06:29.360Z"
   },
   {
    "duration": 29,
    "start_time": "2022-07-02T10:06:29.387Z"
   },
   {
    "duration": 38,
    "start_time": "2022-07-02T10:06:29.418Z"
   },
   {
    "duration": 15,
    "start_time": "2022-07-02T10:06:29.458Z"
   },
   {
    "duration": 20,
    "start_time": "2022-07-02T10:06:29.475Z"
   },
   {
    "duration": 3,
    "start_time": "2022-07-02T10:06:29.498Z"
   },
   {
    "duration": 42,
    "start_time": "2022-07-02T10:06:29.504Z"
   },
   {
    "duration": 5,
    "start_time": "2022-07-02T10:06:29.548Z"
   },
   {
    "duration": 9,
    "start_time": "2022-07-02T10:06:29.554Z"
   },
   {
    "duration": 23,
    "start_time": "2022-07-02T10:06:29.564Z"
   },
   {
    "duration": 27,
    "start_time": "2022-07-02T10:06:29.589Z"
   },
   {
    "duration": 44,
    "start_time": "2022-07-02T10:06:29.618Z"
   },
   {
    "duration": 14,
    "start_time": "2022-07-02T10:06:29.663Z"
   },
   {
    "duration": 18,
    "start_time": "2022-07-02T10:06:29.678Z"
   },
   {
    "duration": 10,
    "start_time": "2022-07-02T10:06:29.698Z"
   },
   {
    "duration": 53,
    "start_time": "2022-07-02T10:06:29.710Z"
   },
   {
    "duration": 10,
    "start_time": "2022-07-02T10:06:29.764Z"
   },
   {
    "duration": 9,
    "start_time": "2022-07-02T10:06:29.776Z"
   },
   {
    "duration": 8,
    "start_time": "2022-07-02T10:06:29.786Z"
   },
   {
    "duration": 6,
    "start_time": "2022-07-02T10:06:29.796Z"
   },
   {
    "duration": 42,
    "start_time": "2022-07-02T10:06:29.803Z"
   },
   {
    "duration": 10,
    "start_time": "2022-07-02T10:06:29.847Z"
   },
   {
    "duration": 5,
    "start_time": "2022-07-02T10:06:29.859Z"
   },
   {
    "duration": 13,
    "start_time": "2022-07-02T10:06:29.865Z"
   },
   {
    "duration": 5,
    "start_time": "2022-07-02T10:06:29.882Z"
   },
   {
    "duration": 9,
    "start_time": "2022-07-02T10:06:29.889Z"
   },
   {
    "duration": 78,
    "start_time": "2022-07-02T10:06:29.900Z"
   },
   {
    "duration": 0,
    "start_time": "2022-07-02T10:06:29.980Z"
   },
   {
    "duration": 4,
    "start_time": "2022-07-02T10:12:17.427Z"
   },
   {
    "duration": 4,
    "start_time": "2022-07-02T10:12:34.099Z"
   },
   {
    "duration": 4,
    "start_time": "2022-07-02T10:13:06.127Z"
   },
   {
    "duration": 133,
    "start_time": "2022-07-02T10:18:36.401Z"
   },
   {
    "duration": 10,
    "start_time": "2022-07-02T10:18:43.545Z"
   },
   {
    "duration": 4,
    "start_time": "2022-07-02T10:18:45.139Z"
   },
   {
    "duration": 10,
    "start_time": "2022-07-02T10:18:55.719Z"
   },
   {
    "duration": 38,
    "start_time": "2022-07-02T10:20:34.514Z"
   },
   {
    "duration": 4,
    "start_time": "2022-07-02T10:20:42.627Z"
   },
   {
    "duration": 8,
    "start_time": "2022-07-02T10:20:45.505Z"
   },
   {
    "duration": 6,
    "start_time": "2022-07-02T10:22:44.807Z"
   },
   {
    "duration": 9,
    "start_time": "2022-07-02T10:22:48.264Z"
   },
   {
    "duration": 4,
    "start_time": "2022-07-02T10:23:07.246Z"
   },
   {
    "duration": 3,
    "start_time": "2022-07-02T11:06:00.313Z"
   },
   {
    "duration": 736,
    "start_time": "2022-07-02T11:06:00.319Z"
   },
   {
    "duration": 29,
    "start_time": "2022-07-02T11:06:01.057Z"
   },
   {
    "duration": 40,
    "start_time": "2022-07-02T11:06:01.089Z"
   },
   {
    "duration": 25,
    "start_time": "2022-07-02T11:06:01.141Z"
   },
   {
    "duration": 19,
    "start_time": "2022-07-02T11:06:01.167Z"
   },
   {
    "duration": 14,
    "start_time": "2022-07-02T11:06:01.189Z"
   },
   {
    "duration": 50,
    "start_time": "2022-07-02T11:06:01.206Z"
   },
   {
    "duration": 4,
    "start_time": "2022-07-02T11:06:01.258Z"
   },
   {
    "duration": 14,
    "start_time": "2022-07-02T11:06:01.263Z"
   },
   {
    "duration": 9,
    "start_time": "2022-07-02T11:06:01.281Z"
   },
   {
    "duration": 9,
    "start_time": "2022-07-02T11:06:01.292Z"
   },
   {
    "duration": 53,
    "start_time": "2022-07-02T11:06:01.303Z"
   },
   {
    "duration": 24,
    "start_time": "2022-07-02T11:06:01.358Z"
   },
   {
    "duration": 17,
    "start_time": "2022-07-02T11:06:01.384Z"
   },
   {
    "duration": 38,
    "start_time": "2022-07-02T11:06:01.404Z"
   },
   {
    "duration": 20,
    "start_time": "2022-07-02T11:06:01.444Z"
   },
   {
    "duration": 14,
    "start_time": "2022-07-02T11:06:01.466Z"
   },
   {
    "duration": 60,
    "start_time": "2022-07-02T11:06:01.483Z"
   },
   {
    "duration": 10,
    "start_time": "2022-07-02T11:06:01.546Z"
   },
   {
    "duration": 13,
    "start_time": "2022-07-02T11:06:01.558Z"
   },
   {
    "duration": 11,
    "start_time": "2022-07-02T11:06:01.573Z"
   },
   {
    "duration": 8,
    "start_time": "2022-07-02T11:06:01.587Z"
   },
   {
    "duration": 9,
    "start_time": "2022-07-02T11:06:01.597Z"
   },
   {
    "duration": 41,
    "start_time": "2022-07-02T11:06:01.608Z"
   },
   {
    "duration": 4,
    "start_time": "2022-07-02T11:06:01.651Z"
   },
   {
    "duration": 10,
    "start_time": "2022-07-02T11:06:01.657Z"
   },
   {
    "duration": 6,
    "start_time": "2022-07-02T11:06:06.344Z"
   },
   {
    "duration": 10,
    "start_time": "2022-07-02T11:07:53.701Z"
   },
   {
    "duration": 9,
    "start_time": "2022-07-02T11:07:59.534Z"
   },
   {
    "duration": 9,
    "start_time": "2022-07-02T11:12:56.056Z"
   },
   {
    "duration": 8,
    "start_time": "2022-07-02T11:13:10.454Z"
   },
   {
    "duration": 8,
    "start_time": "2022-07-02T11:14:09.087Z"
   },
   {
    "duration": 8,
    "start_time": "2022-07-02T11:14:09.926Z"
   },
   {
    "duration": 3,
    "start_time": "2022-07-02T11:34:22.703Z"
   },
   {
    "duration": 3,
    "start_time": "2022-07-02T11:36:45.457Z"
   },
   {
    "duration": 4,
    "start_time": "2022-07-02T11:37:00.252Z"
   },
   {
    "duration": 13,
    "start_time": "2022-07-02T11:37:09.433Z"
   },
   {
    "duration": 543,
    "start_time": "2022-07-02T11:37:38.377Z"
   },
   {
    "duration": 198,
    "start_time": "2022-07-02T11:37:50.920Z"
   },
   {
    "duration": 4,
    "start_time": "2022-07-02T11:38:02.719Z"
   },
   {
    "duration": 195,
    "start_time": "2022-07-02T11:38:03.297Z"
   },
   {
    "duration": 5,
    "start_time": "2022-07-02T11:38:27.383Z"
   },
   {
    "duration": 201,
    "start_time": "2022-07-02T11:38:27.822Z"
   },
   {
    "duration": 10,
    "start_time": "2022-07-02T11:42:49.807Z"
   },
   {
    "duration": 11,
    "start_time": "2022-07-02T11:42:50.258Z"
   },
   {
    "duration": 6,
    "start_time": "2022-07-02T11:43:07.230Z"
   },
   {
    "duration": 1915,
    "start_time": "2022-07-02T11:43:10.718Z"
   },
   {
    "duration": 1480,
    "start_time": "2022-07-02T11:51:00.185Z"
   },
   {
    "duration": 182,
    "start_time": "2022-07-02T12:02:18.185Z"
   },
   {
    "duration": 1167,
    "start_time": "2022-07-02T12:02:26.199Z"
   },
   {
    "duration": 343,
    "start_time": "2022-07-02T12:04:48.419Z"
   },
   {
    "duration": 1155,
    "start_time": "2022-07-02T12:05:53.501Z"
   },
   {
    "duration": 1078,
    "start_time": "2022-07-02T12:06:04.834Z"
   },
   {
    "duration": 365,
    "start_time": "2022-07-02T12:06:53.446Z"
   },
   {
    "duration": 484,
    "start_time": "2022-07-02T12:07:06.052Z"
   },
   {
    "duration": 394,
    "start_time": "2022-07-02T12:08:29.438Z"
   },
   {
    "duration": 4,
    "start_time": "2022-07-02T12:09:37.988Z"
   },
   {
    "duration": 746,
    "start_time": "2022-07-02T12:09:37.994Z"
   },
   {
    "duration": 29,
    "start_time": "2022-07-02T12:09:38.741Z"
   },
   {
    "duration": 29,
    "start_time": "2022-07-02T12:09:38.772Z"
   },
   {
    "duration": 20,
    "start_time": "2022-07-02T12:09:38.803Z"
   },
   {
    "duration": 38,
    "start_time": "2022-07-02T12:09:38.824Z"
   },
   {
    "duration": 22,
    "start_time": "2022-07-02T12:09:38.864Z"
   },
   {
    "duration": 18,
    "start_time": "2022-07-02T12:09:38.887Z"
   },
   {
    "duration": 2,
    "start_time": "2022-07-02T12:09:38.907Z"
   },
   {
    "duration": 40,
    "start_time": "2022-07-02T12:09:38.911Z"
   },
   {
    "duration": 11,
    "start_time": "2022-07-02T12:09:38.957Z"
   },
   {
    "duration": 13,
    "start_time": "2022-07-02T12:09:38.970Z"
   },
   {
    "duration": 16,
    "start_time": "2022-07-02T12:09:38.986Z"
   },
   {
    "duration": 16,
    "start_time": "2022-07-02T12:09:39.003Z"
   },
   {
    "duration": 31,
    "start_time": "2022-07-02T12:09:39.021Z"
   },
   {
    "duration": 16,
    "start_time": "2022-07-02T12:09:39.053Z"
   },
   {
    "duration": 18,
    "start_time": "2022-07-02T12:09:39.071Z"
   },
   {
    "duration": 11,
    "start_time": "2022-07-02T12:09:39.091Z"
   },
   {
    "duration": 61,
    "start_time": "2022-07-02T12:09:39.103Z"
   },
   {
    "duration": 8,
    "start_time": "2022-07-02T12:09:39.165Z"
   },
   {
    "duration": 11,
    "start_time": "2022-07-02T12:09:39.174Z"
   },
   {
    "duration": 7,
    "start_time": "2022-07-02T12:09:39.188Z"
   },
   {
    "duration": 12,
    "start_time": "2022-07-02T12:09:39.197Z"
   },
   {
    "duration": 12,
    "start_time": "2022-07-02T12:09:39.211Z"
   },
   {
    "duration": 47,
    "start_time": "2022-07-02T12:09:39.225Z"
   },
   {
    "duration": 6,
    "start_time": "2022-07-02T12:09:39.275Z"
   },
   {
    "duration": 12,
    "start_time": "2022-07-02T12:09:39.283Z"
   },
   {
    "duration": 6,
    "start_time": "2022-07-02T12:09:39.296Z"
   },
   {
    "duration": 9,
    "start_time": "2022-07-02T12:09:39.303Z"
   },
   {
    "duration": 19,
    "start_time": "2022-07-02T12:09:39.314Z"
   },
   {
    "duration": 18,
    "start_time": "2022-07-02T12:09:39.336Z"
   },
   {
    "duration": 26,
    "start_time": "2022-07-02T12:09:39.356Z"
   },
   {
    "duration": 389,
    "start_time": "2022-07-02T12:09:39.384Z"
   },
   {
    "duration": 0,
    "start_time": "2022-07-02T12:09:39.775Z"
   },
   {
    "duration": 0,
    "start_time": "2022-07-02T12:09:39.776Z"
   },
   {
    "duration": 5,
    "start_time": "2022-07-02T12:11:11.855Z"
   },
   {
    "duration": 707,
    "start_time": "2022-07-02T12:11:11.861Z"
   },
   {
    "duration": 22,
    "start_time": "2022-07-02T12:11:12.570Z"
   },
   {
    "duration": 25,
    "start_time": "2022-07-02T12:11:12.594Z"
   },
   {
    "duration": 41,
    "start_time": "2022-07-02T12:11:12.621Z"
   },
   {
    "duration": 20,
    "start_time": "2022-07-02T12:11:12.664Z"
   },
   {
    "duration": 19,
    "start_time": "2022-07-02T12:11:12.686Z"
   },
   {
    "duration": 56,
    "start_time": "2022-07-02T12:11:12.708Z"
   },
   {
    "duration": 3,
    "start_time": "2022-07-02T12:11:12.767Z"
   },
   {
    "duration": 10,
    "start_time": "2022-07-02T12:11:12.772Z"
   },
   {
    "duration": 6,
    "start_time": "2022-07-02T12:11:12.783Z"
   },
   {
    "duration": 15,
    "start_time": "2022-07-02T12:11:12.791Z"
   },
   {
    "duration": 37,
    "start_time": "2022-07-02T12:11:12.808Z"
   },
   {
    "duration": 18,
    "start_time": "2022-07-02T12:11:12.848Z"
   },
   {
    "duration": 19,
    "start_time": "2022-07-02T12:11:12.868Z"
   },
   {
    "duration": 15,
    "start_time": "2022-07-02T12:11:12.889Z"
   },
   {
    "duration": 50,
    "start_time": "2022-07-02T12:11:12.905Z"
   },
   {
    "duration": 11,
    "start_time": "2022-07-02T12:11:12.957Z"
   },
   {
    "duration": 24,
    "start_time": "2022-07-02T12:11:12.970Z"
   },
   {
    "duration": 8,
    "start_time": "2022-07-02T12:11:12.997Z"
   },
   {
    "duration": 38,
    "start_time": "2022-07-02T12:11:13.007Z"
   },
   {
    "duration": 7,
    "start_time": "2022-07-02T12:11:13.047Z"
   },
   {
    "duration": 6,
    "start_time": "2022-07-02T12:11:13.056Z"
   },
   {
    "duration": 8,
    "start_time": "2022-07-02T12:11:13.064Z"
   },
   {
    "duration": 9,
    "start_time": "2022-07-02T12:11:13.074Z"
   },
   {
    "duration": 4,
    "start_time": "2022-07-02T12:11:13.084Z"
   },
   {
    "duration": 10,
    "start_time": "2022-07-02T12:11:13.089Z"
   },
   {
    "duration": 6,
    "start_time": "2022-07-02T12:11:13.142Z"
   },
   {
    "duration": 10,
    "start_time": "2022-07-02T12:11:13.150Z"
   },
   {
    "duration": 12,
    "start_time": "2022-07-02T12:11:13.162Z"
   },
   {
    "duration": 7,
    "start_time": "2022-07-02T12:11:13.176Z"
   },
   {
    "duration": 6,
    "start_time": "2022-07-02T12:11:13.184Z"
   },
   {
    "duration": 407,
    "start_time": "2022-07-02T12:11:13.192Z"
   },
   {
    "duration": 0,
    "start_time": "2022-07-02T12:11:13.601Z"
   },
   {
    "duration": 0,
    "start_time": "2022-07-02T12:11:13.602Z"
   },
   {
    "duration": 456,
    "start_time": "2022-07-02T12:12:04.173Z"
   },
   {
    "duration": 417,
    "start_time": "2022-07-02T12:12:19.188Z"
   },
   {
    "duration": 628,
    "start_time": "2022-07-02T12:12:30.644Z"
   },
   {
    "duration": 1068,
    "start_time": "2022-07-02T12:12:45.037Z"
   },
   {
    "duration": 1213,
    "start_time": "2022-07-02T12:14:22.578Z"
   },
   {
    "duration": 10,
    "start_time": "2022-07-02T12:15:24.626Z"
   },
   {
    "duration": 6,
    "start_time": "2022-07-02T12:15:29.286Z"
   },
   {
    "duration": 11,
    "start_time": "2022-07-02T12:15:29.474Z"
   },
   {
    "duration": 9,
    "start_time": "2022-07-02T12:16:26.000Z"
   },
   {
    "duration": 6,
    "start_time": "2022-07-02T12:19:32.812Z"
   },
   {
    "duration": 11,
    "start_time": "2022-07-02T12:19:33.286Z"
   },
   {
    "duration": 1026,
    "start_time": "2022-07-02T12:21:08.783Z"
   },
   {
    "duration": 6,
    "start_time": "2022-07-02T12:21:42.835Z"
   },
   {
    "duration": 1191,
    "start_time": "2022-07-02T12:21:43.448Z"
   },
   {
    "duration": 1064,
    "start_time": "2022-07-02T12:28:01.883Z"
   },
   {
    "duration": 7,
    "start_time": "2022-07-02T12:29:52.975Z"
   },
   {
    "duration": 163,
    "start_time": "2022-07-02T12:31:12.019Z"
   },
   {
    "duration": 89,
    "start_time": "2022-07-02T12:31:22.883Z"
   },
   {
    "duration": 5,
    "start_time": "2022-07-02T12:32:17.121Z"
   },
   {
    "duration": 1150,
    "start_time": "2022-07-02T12:32:35.234Z"
   },
   {
    "duration": 3,
    "start_time": "2022-07-02T12:32:49.017Z"
   },
   {
    "duration": 1048,
    "start_time": "2022-07-02T12:32:50.193Z"
   },
   {
    "duration": 6,
    "start_time": "2022-07-02T12:33:14.905Z"
   },
   {
    "duration": 4,
    "start_time": "2022-07-02T12:33:15.083Z"
   },
   {
    "duration": 1082,
    "start_time": "2022-07-02T12:33:16.877Z"
   },
   {
    "duration": 6,
    "start_time": "2022-07-02T12:33:43.203Z"
   },
   {
    "duration": 3,
    "start_time": "2022-07-02T12:33:43.387Z"
   },
   {
    "duration": 1240,
    "start_time": "2022-07-02T12:33:44.376Z"
   },
   {
    "duration": 3,
    "start_time": "2022-07-02T12:35:18.186Z"
   },
   {
    "duration": 1058,
    "start_time": "2022-07-02T12:35:21.800Z"
   },
   {
    "duration": 1185,
    "start_time": "2022-07-02T12:35:35.490Z"
   },
   {
    "duration": 4,
    "start_time": "2022-07-02T12:39:59.225Z"
   },
   {
    "duration": 703,
    "start_time": "2022-07-02T12:39:59.232Z"
   },
   {
    "duration": 26,
    "start_time": "2022-07-02T12:39:59.937Z"
   },
   {
    "duration": 25,
    "start_time": "2022-07-02T12:39:59.965Z"
   },
   {
    "duration": 24,
    "start_time": "2022-07-02T12:39:59.992Z"
   },
   {
    "duration": 48,
    "start_time": "2022-07-02T12:40:00.018Z"
   },
   {
    "duration": 14,
    "start_time": "2022-07-02T12:40:00.068Z"
   },
   {
    "duration": 21,
    "start_time": "2022-07-02T12:40:00.084Z"
   },
   {
    "duration": 3,
    "start_time": "2022-07-02T12:40:00.106Z"
   },
   {
    "duration": 32,
    "start_time": "2022-07-02T12:40:00.111Z"
   },
   {
    "duration": 5,
    "start_time": "2022-07-02T12:40:00.147Z"
   },
   {
    "duration": 18,
    "start_time": "2022-07-02T12:40:00.154Z"
   },
   {
    "duration": 24,
    "start_time": "2022-07-02T12:40:00.174Z"
   },
   {
    "duration": 23,
    "start_time": "2022-07-02T12:40:00.199Z"
   },
   {
    "duration": 30,
    "start_time": "2022-07-02T12:40:00.223Z"
   },
   {
    "duration": 14,
    "start_time": "2022-07-02T12:40:00.254Z"
   },
   {
    "duration": 30,
    "start_time": "2022-07-02T12:40:00.270Z"
   },
   {
    "duration": 16,
    "start_time": "2022-07-02T12:40:00.301Z"
   },
   {
    "duration": 38,
    "start_time": "2022-07-02T12:40:00.319Z"
   },
   {
    "duration": 26,
    "start_time": "2022-07-02T12:40:00.359Z"
   },
   {
    "duration": 10,
    "start_time": "2022-07-02T12:40:00.387Z"
   },
   {
    "duration": 34,
    "start_time": "2022-07-02T12:40:00.398Z"
   },
   {
    "duration": 23,
    "start_time": "2022-07-02T12:40:00.433Z"
   },
   {
    "duration": 12,
    "start_time": "2022-07-02T12:40:00.458Z"
   },
   {
    "duration": 21,
    "start_time": "2022-07-02T12:40:00.472Z"
   },
   {
    "duration": 12,
    "start_time": "2022-07-02T12:40:00.495Z"
   },
   {
    "duration": 53,
    "start_time": "2022-07-02T12:40:00.509Z"
   },
   {
    "duration": 15,
    "start_time": "2022-07-02T12:40:00.564Z"
   },
   {
    "duration": 17,
    "start_time": "2022-07-02T12:40:00.583Z"
   },
   {
    "duration": 20,
    "start_time": "2022-07-02T12:40:00.602Z"
   },
   {
    "duration": 16,
    "start_time": "2022-07-02T12:40:00.623Z"
   },
   {
    "duration": 35,
    "start_time": "2022-07-02T12:40:00.641Z"
   },
   {
    "duration": 9,
    "start_time": "2022-07-02T12:40:00.678Z"
   },
   {
    "duration": 1042,
    "start_time": "2022-07-02T12:40:00.689Z"
   },
   {
    "duration": 1264,
    "start_time": "2022-07-02T12:40:01.733Z"
   },
   {
    "duration": 1174,
    "start_time": "2022-07-02T12:40:03.000Z"
   },
   {
    "duration": 1904,
    "start_time": "2022-07-02T12:40:04.176Z"
   },
   {
    "duration": 195,
    "start_time": "2022-07-02T12:40:06.082Z"
   },
   {
    "duration": 2,
    "start_time": "2022-07-02T12:53:29.089Z"
   },
   {
    "duration": 27,
    "start_time": "2022-07-02T13:05:41.082Z"
   },
   {
    "duration": 14,
    "start_time": "2022-07-02T13:06:01.788Z"
   },
   {
    "duration": 9,
    "start_time": "2022-07-02T13:10:32.632Z"
   },
   {
    "duration": 13,
    "start_time": "2022-07-02T13:10:50.696Z"
   },
   {
    "duration": 18,
    "start_time": "2022-07-02T13:11:12.024Z"
   },
   {
    "duration": 10,
    "start_time": "2022-07-02T13:11:27.799Z"
   },
   {
    "duration": 354,
    "start_time": "2022-07-02T13:11:50.872Z"
   },
   {
    "duration": 671,
    "start_time": "2022-07-02T13:12:34.531Z"
   },
   {
    "duration": 705,
    "start_time": "2022-07-02T13:14:19.976Z"
   },
   {
    "duration": 7,
    "start_time": "2022-07-02T13:15:31.505Z"
   },
   {
    "duration": 7,
    "start_time": "2022-07-02T13:44:42.975Z"
   },
   {
    "duration": 6,
    "start_time": "2022-07-02T13:45:13.590Z"
   },
   {
    "duration": 7,
    "start_time": "2022-07-02T13:45:23.154Z"
   },
   {
    "duration": 266,
    "start_time": "2022-07-02T13:45:59.690Z"
   },
   {
    "duration": 6,
    "start_time": "2022-07-02T13:46:17.402Z"
   },
   {
    "duration": 6,
    "start_time": "2022-07-02T13:46:40.482Z"
   },
   {
    "duration": 30,
    "start_time": "2022-07-02T13:47:04.088Z"
   },
   {
    "duration": 5,
    "start_time": "2022-07-02T13:47:41.297Z"
   },
   {
    "duration": 6,
    "start_time": "2022-07-02T13:47:49.285Z"
   },
   {
    "duration": 16,
    "start_time": "2022-07-02T13:48:17.185Z"
   },
   {
    "duration": 8,
    "start_time": "2022-07-02T13:48:34.292Z"
   },
   {
    "duration": 709,
    "start_time": "2022-07-02T13:53:28.725Z"
   },
   {
    "duration": 11,
    "start_time": "2022-07-02T13:53:56.523Z"
   },
   {
    "duration": 165,
    "start_time": "2022-07-02T13:54:09.524Z"
   },
   {
    "duration": 12,
    "start_time": "2022-07-02T13:57:45.717Z"
   },
   {
    "duration": 193,
    "start_time": "2022-07-02T13:57:59.117Z"
   },
   {
    "duration": 208,
    "start_time": "2022-07-02T13:58:11.351Z"
   },
   {
    "duration": 152,
    "start_time": "2022-07-02T13:59:58.045Z"
   },
   {
    "duration": 153,
    "start_time": "2022-07-02T14:01:30.168Z"
   },
   {
    "duration": 166,
    "start_time": "2022-07-02T14:01:45.928Z"
   },
   {
    "duration": 20,
    "start_time": "2022-07-02T14:05:17.163Z"
   },
   {
    "duration": 258,
    "start_time": "2022-07-02T14:05:29.555Z"
   },
   {
    "duration": 102,
    "start_time": "2022-07-02T14:07:32.146Z"
   },
   {
    "duration": 104,
    "start_time": "2022-07-02T14:07:45.688Z"
   },
   {
    "duration": 17,
    "start_time": "2022-07-02T14:12:34.488Z"
   },
   {
    "duration": 17,
    "start_time": "2022-07-02T14:12:51.871Z"
   },
   {
    "duration": 15,
    "start_time": "2022-07-02T14:13:02.210Z"
   },
   {
    "duration": 501,
    "start_time": "2022-07-02T14:13:10.883Z"
   },
   {
    "duration": 406,
    "start_time": "2022-07-02T14:13:17.216Z"
   },
   {
    "duration": 236,
    "start_time": "2022-07-02T14:13:49.722Z"
   },
   {
    "duration": 168,
    "start_time": "2022-07-02T14:14:32.495Z"
   },
   {
    "duration": 356,
    "start_time": "2022-07-02T14:14:48.049Z"
   },
   {
    "duration": 429,
    "start_time": "2022-07-02T14:14:56.201Z"
   },
   {
    "duration": 258,
    "start_time": "2022-07-02T14:15:02.951Z"
   },
   {
    "duration": 290,
    "start_time": "2022-07-02T14:15:20.337Z"
   },
   {
    "duration": 11,
    "start_time": "2022-07-02T14:20:34.020Z"
   },
   {
    "duration": 17,
    "start_time": "2022-07-02T14:21:25.442Z"
   },
   {
    "duration": 17,
    "start_time": "2022-07-02T14:22:15.796Z"
   },
   {
    "duration": 11,
    "start_time": "2022-07-02T14:23:43.351Z"
   },
   {
    "duration": 10,
    "start_time": "2022-07-02T14:24:00.145Z"
   },
   {
    "duration": 18,
    "start_time": "2022-07-02T14:24:10.959Z"
   },
   {
    "duration": 6,
    "start_time": "2022-07-02T14:24:51.977Z"
   },
   {
    "duration": 23,
    "start_time": "2022-07-02T14:24:56.585Z"
   },
   {
    "duration": 17,
    "start_time": "2022-07-02T14:25:10.367Z"
   },
   {
    "duration": 17,
    "start_time": "2022-07-02T14:25:50.465Z"
   },
   {
    "duration": 17,
    "start_time": "2022-07-02T14:27:02.016Z"
   },
   {
    "duration": 155,
    "start_time": "2022-07-02T14:28:41.436Z"
   },
   {
    "duration": 129,
    "start_time": "2022-07-02T14:29:42.792Z"
   },
   {
    "duration": 142,
    "start_time": "2022-07-02T14:29:49.073Z"
   },
   {
    "duration": 141,
    "start_time": "2022-07-02T14:31:48.695Z"
   },
   {
    "duration": 12,
    "start_time": "2022-07-02T15:00:21.205Z"
   },
   {
    "duration": 463,
    "start_time": "2022-07-02T15:03:14.490Z"
   },
   {
    "duration": 799,
    "start_time": "2022-07-02T15:03:30.433Z"
   },
   {
    "duration": 10,
    "start_time": "2022-07-02T15:03:43.593Z"
   },
   {
    "duration": 4,
    "start_time": "2022-07-02T15:04:15.979Z"
   },
   {
    "duration": 4,
    "start_time": "2022-07-02T15:04:19.480Z"
   },
   {
    "duration": 740,
    "start_time": "2022-07-02T15:04:19.486Z"
   },
   {
    "duration": 23,
    "start_time": "2022-07-02T15:04:20.227Z"
   },
   {
    "duration": 32,
    "start_time": "2022-07-02T15:04:20.252Z"
   },
   {
    "duration": 23,
    "start_time": "2022-07-02T15:04:20.285Z"
   },
   {
    "duration": 37,
    "start_time": "2022-07-02T15:04:20.310Z"
   },
   {
    "duration": 14,
    "start_time": "2022-07-02T15:04:20.349Z"
   },
   {
    "duration": 18,
    "start_time": "2022-07-02T15:04:20.365Z"
   },
   {
    "duration": 4,
    "start_time": "2022-07-02T15:04:20.385Z"
   },
   {
    "duration": 9,
    "start_time": "2022-07-02T15:04:20.390Z"
   },
   {
    "duration": 5,
    "start_time": "2022-07-02T15:04:20.401Z"
   },
   {
    "duration": 5,
    "start_time": "2022-07-02T15:04:20.443Z"
   },
   {
    "duration": 17,
    "start_time": "2022-07-02T15:04:20.450Z"
   },
   {
    "duration": 17,
    "start_time": "2022-07-02T15:04:20.468Z"
   },
   {
    "duration": 20,
    "start_time": "2022-07-02T15:04:20.487Z"
   },
   {
    "duration": 39,
    "start_time": "2022-07-02T15:04:20.509Z"
   },
   {
    "duration": 17,
    "start_time": "2022-07-02T15:04:20.550Z"
   },
   {
    "duration": 9,
    "start_time": "2022-07-02T15:04:20.569Z"
   },
   {
    "duration": 23,
    "start_time": "2022-07-02T15:04:20.580Z"
   },
   {
    "duration": 39,
    "start_time": "2022-07-02T15:04:20.605Z"
   },
   {
    "duration": 9,
    "start_time": "2022-07-02T15:04:20.646Z"
   },
   {
    "duration": 7,
    "start_time": "2022-07-02T15:04:20.657Z"
   },
   {
    "duration": 6,
    "start_time": "2022-07-02T15:04:20.666Z"
   },
   {
    "duration": 9,
    "start_time": "2022-07-02T15:04:20.676Z"
   },
   {
    "duration": 55,
    "start_time": "2022-07-02T15:04:20.687Z"
   },
   {
    "duration": 3,
    "start_time": "2022-07-02T15:04:20.744Z"
   },
   {
    "duration": 16,
    "start_time": "2022-07-02T15:04:20.749Z"
   },
   {
    "duration": 10,
    "start_time": "2022-07-02T15:04:20.767Z"
   },
   {
    "duration": 13,
    "start_time": "2022-07-02T15:04:20.779Z"
   },
   {
    "duration": 9,
    "start_time": "2022-07-02T15:04:20.793Z"
   },
   {
    "duration": 8,
    "start_time": "2022-07-02T15:04:20.803Z"
   },
   {
    "duration": 6,
    "start_time": "2022-07-02T15:04:20.813Z"
   },
   {
    "duration": 4,
    "start_time": "2022-07-02T15:04:20.842Z"
   },
   {
    "duration": 1065,
    "start_time": "2022-07-02T15:04:20.847Z"
   },
   {
    "duration": 1243,
    "start_time": "2022-07-02T15:04:21.915Z"
   },
   {
    "duration": 1132,
    "start_time": "2022-07-02T15:04:23.160Z"
   },
   {
    "duration": 695,
    "start_time": "2022-07-02T15:04:24.293Z"
   },
   {
    "duration": 5,
    "start_time": "2022-07-02T15:04:24.990Z"
   },
   {
    "duration": 20,
    "start_time": "2022-07-02T15:04:24.997Z"
   },
   {
    "duration": 350,
    "start_time": "2022-07-02T15:04:25.019Z"
   },
   {
    "duration": 11,
    "start_time": "2022-07-02T15:04:25.371Z"
   },
   {
    "duration": 844,
    "start_time": "2022-07-02T15:04:25.384Z"
   },
   {
    "duration": 141,
    "start_time": "2022-07-02T15:04:26.230Z"
   },
   {
    "duration": 11,
    "start_time": "2022-07-02T15:05:37.617Z"
   },
   {
    "duration": 371,
    "start_time": "2022-07-02T15:05:37.786Z"
   },
   {
    "duration": 686,
    "start_time": "2022-07-02T15:06:49.327Z"
   },
   {
    "duration": 13,
    "start_time": "2022-07-02T15:08:35.276Z"
   },
   {
    "duration": 972,
    "start_time": "2022-07-02T15:09:28.136Z"
   },
   {
    "duration": 742,
    "start_time": "2022-07-02T15:13:28.359Z"
   },
   {
    "duration": 457,
    "start_time": "2022-07-02T15:15:37.100Z"
   },
   {
    "duration": 424,
    "start_time": "2022-07-02T15:15:59.354Z"
   },
   {
    "duration": 584,
    "start_time": "2022-07-02T15:16:34.036Z"
   },
   {
    "duration": 566,
    "start_time": "2022-07-02T15:16:48.992Z"
   },
   {
    "duration": 5,
    "start_time": "2022-07-02T15:16:53.796Z"
   },
   {
    "duration": 692,
    "start_time": "2022-07-02T15:16:53.804Z"
   },
   {
    "duration": 23,
    "start_time": "2022-07-02T15:16:54.497Z"
   },
   {
    "duration": 40,
    "start_time": "2022-07-02T15:16:54.523Z"
   },
   {
    "duration": 29,
    "start_time": "2022-07-02T15:16:54.566Z"
   },
   {
    "duration": 44,
    "start_time": "2022-07-02T15:16:54.598Z"
   },
   {
    "duration": 22,
    "start_time": "2022-07-02T15:16:54.644Z"
   },
   {
    "duration": 18,
    "start_time": "2022-07-02T15:16:54.668Z"
   },
   {
    "duration": 4,
    "start_time": "2022-07-02T15:16:54.688Z"
   },
   {
    "duration": 12,
    "start_time": "2022-07-02T15:16:54.693Z"
   },
   {
    "duration": 7,
    "start_time": "2022-07-02T15:16:54.707Z"
   },
   {
    "duration": 7,
    "start_time": "2022-07-02T15:16:54.742Z"
   },
   {
    "duration": 20,
    "start_time": "2022-07-02T15:16:54.751Z"
   },
   {
    "duration": 18,
    "start_time": "2022-07-02T15:16:54.774Z"
   },
   {
    "duration": 20,
    "start_time": "2022-07-02T15:16:54.793Z"
   },
   {
    "duration": 36,
    "start_time": "2022-07-02T15:16:54.814Z"
   },
   {
    "duration": 17,
    "start_time": "2022-07-02T15:16:54.852Z"
   },
   {
    "duration": 11,
    "start_time": "2022-07-02T15:16:54.871Z"
   },
   {
    "duration": 25,
    "start_time": "2022-07-02T15:16:54.883Z"
   },
   {
    "duration": 37,
    "start_time": "2022-07-02T15:16:54.910Z"
   },
   {
    "duration": 9,
    "start_time": "2022-07-02T15:16:54.949Z"
   },
   {
    "duration": 7,
    "start_time": "2022-07-02T15:16:54.959Z"
   },
   {
    "duration": 9,
    "start_time": "2022-07-02T15:16:54.968Z"
   },
   {
    "duration": 14,
    "start_time": "2022-07-02T15:16:54.979Z"
   },
   {
    "duration": 8,
    "start_time": "2022-07-02T15:16:54.995Z"
   },
   {
    "duration": 39,
    "start_time": "2022-07-02T15:16:55.004Z"
   },
   {
    "duration": 8,
    "start_time": "2022-07-02T15:16:55.045Z"
   },
   {
    "duration": 7,
    "start_time": "2022-07-02T15:16:55.055Z"
   },
   {
    "duration": 10,
    "start_time": "2022-07-02T15:16:55.064Z"
   },
   {
    "duration": 7,
    "start_time": "2022-07-02T15:16:55.076Z"
   },
   {
    "duration": 7,
    "start_time": "2022-07-02T15:16:55.085Z"
   },
   {
    "duration": 48,
    "start_time": "2022-07-02T15:16:55.094Z"
   },
   {
    "duration": 3,
    "start_time": "2022-07-02T15:16:55.144Z"
   },
   {
    "duration": 1107,
    "start_time": "2022-07-02T15:16:55.149Z"
   },
   {
    "duration": 1366,
    "start_time": "2022-07-02T15:16:56.258Z"
   },
   {
    "duration": 1119,
    "start_time": "2022-07-02T15:16:57.626Z"
   },
   {
    "duration": 541,
    "start_time": "2022-07-02T15:16:58.747Z"
   },
   {
    "duration": 6,
    "start_time": "2022-07-02T15:16:59.290Z"
   },
   {
    "duration": 18,
    "start_time": "2022-07-02T15:16:59.297Z"
   },
   {
    "duration": 167,
    "start_time": "2022-07-02T15:16:59.317Z"
   },
   {
    "duration": 11,
    "start_time": "2022-07-02T15:16:59.489Z"
   },
   {
    "duration": 620,
    "start_time": "2022-07-02T15:16:59.503Z"
   },
   {
    "duration": 73,
    "start_time": "2022-07-02T15:17:00.125Z"
   },
   {
    "duration": 648,
    "start_time": "2022-07-02T15:17:26.723Z"
   },
   {
    "duration": 758,
    "start_time": "2022-07-02T15:17:31.691Z"
   },
   {
    "duration": 15,
    "start_time": "2022-07-02T15:18:01.084Z"
   },
   {
    "duration": 588,
    "start_time": "2022-07-02T15:18:01.582Z"
   },
   {
    "duration": 718,
    "start_time": "2022-07-02T15:19:43.336Z"
   },
   {
    "duration": 623,
    "start_time": "2022-07-02T15:20:22.885Z"
   },
   {
    "duration": 760,
    "start_time": "2022-07-02T15:20:31.697Z"
   },
   {
    "duration": 49,
    "start_time": "2022-07-02T15:23:43.351Z"
   },
   {
    "duration": 855,
    "start_time": "2022-07-02T15:24:48.569Z"
   },
   {
    "duration": 19,
    "start_time": "2022-07-02T15:29:48.825Z"
   },
   {
    "duration": 10,
    "start_time": "2022-07-02T15:32:31.006Z"
   },
   {
    "duration": 735,
    "start_time": "2022-07-02T15:32:31.190Z"
   },
   {
    "duration": 10,
    "start_time": "2022-07-02T15:33:50.482Z"
   },
   {
    "duration": 1282,
    "start_time": "2022-07-02T15:33:57.800Z"
   },
   {
    "duration": 32,
    "start_time": "2022-07-02T15:34:36.344Z"
   },
   {
    "duration": 4,
    "start_time": "2022-07-02T15:57:25.187Z"
   },
   {
    "duration": 3,
    "start_time": "2022-07-02T16:01:01.343Z"
   },
   {
    "duration": 100,
    "start_time": "2022-07-02T16:01:01.674Z"
   },
   {
    "duration": 3,
    "start_time": "2022-07-02T16:01:08.331Z"
   },
   {
    "duration": 10,
    "start_time": "2022-07-02T16:08:24.823Z"
   },
   {
    "duration": 11,
    "start_time": "2022-07-02T16:09:32.568Z"
   },
   {
    "duration": 11,
    "start_time": "2022-07-02T16:10:10.333Z"
   },
   {
    "duration": 9,
    "start_time": "2022-07-02T16:10:20.351Z"
   },
   {
    "duration": 13,
    "start_time": "2022-07-02T16:10:23.612Z"
   },
   {
    "duration": 10,
    "start_time": "2022-07-02T16:10:24.083Z"
   },
   {
    "duration": 1513,
    "start_time": "2022-07-02T18:00:04.298Z"
   },
   {
    "duration": 1432,
    "start_time": "2022-07-02T18:00:05.813Z"
   },
   {
    "duration": 25,
    "start_time": "2022-07-02T18:00:07.247Z"
   },
   {
    "duration": 22,
    "start_time": "2022-07-02T18:00:07.274Z"
   },
   {
    "duration": 22,
    "start_time": "2022-07-02T18:00:07.298Z"
   },
   {
    "duration": 46,
    "start_time": "2022-07-02T18:00:07.322Z"
   },
   {
    "duration": 13,
    "start_time": "2022-07-02T18:00:07.370Z"
   },
   {
    "duration": 24,
    "start_time": "2022-07-02T18:00:07.385Z"
   },
   {
    "duration": 3,
    "start_time": "2022-07-02T18:00:07.410Z"
   },
   {
    "duration": 10,
    "start_time": "2022-07-02T18:00:07.416Z"
   },
   {
    "duration": 9,
    "start_time": "2022-07-02T18:00:07.428Z"
   },
   {
    "duration": 30,
    "start_time": "2022-07-02T18:00:07.439Z"
   },
   {
    "duration": 20,
    "start_time": "2022-07-02T18:00:07.471Z"
   },
   {
    "duration": 17,
    "start_time": "2022-07-02T18:00:07.494Z"
   },
   {
    "duration": 22,
    "start_time": "2022-07-02T18:00:07.513Z"
   },
   {
    "duration": 34,
    "start_time": "2022-07-02T18:00:07.537Z"
   },
   {
    "duration": 19,
    "start_time": "2022-07-02T18:00:07.572Z"
   },
   {
    "duration": 10,
    "start_time": "2022-07-02T18:00:07.593Z"
   },
   {
    "duration": 25,
    "start_time": "2022-07-02T18:00:07.605Z"
   },
   {
    "duration": 41,
    "start_time": "2022-07-02T18:00:07.632Z"
   },
   {
    "duration": 11,
    "start_time": "2022-07-02T18:00:07.675Z"
   },
   {
    "duration": 7,
    "start_time": "2022-07-02T18:00:07.688Z"
   },
   {
    "duration": 8,
    "start_time": "2022-07-02T18:00:07.696Z"
   },
   {
    "duration": 11,
    "start_time": "2022-07-02T18:00:07.706Z"
   },
   {
    "duration": 7,
    "start_time": "2022-07-02T18:00:07.718Z"
   },
   {
    "duration": 3,
    "start_time": "2022-07-02T18:00:07.727Z"
   },
   {
    "duration": 40,
    "start_time": "2022-07-02T18:00:07.731Z"
   },
   {
    "duration": 5,
    "start_time": "2022-07-02T18:00:07.774Z"
   },
   {
    "duration": 13,
    "start_time": "2022-07-02T18:00:07.781Z"
   },
   {
    "duration": 13,
    "start_time": "2022-07-02T18:00:07.796Z"
   },
   {
    "duration": 6,
    "start_time": "2022-07-02T18:00:07.810Z"
   },
   {
    "duration": 5,
    "start_time": "2022-07-02T18:00:07.817Z"
   },
   {
    "duration": 5,
    "start_time": "2022-07-02T18:00:07.824Z"
   },
   {
    "duration": 997,
    "start_time": "2022-07-02T18:00:07.830Z"
   },
   {
    "duration": 950,
    "start_time": "2022-07-02T18:00:08.828Z"
   },
   {
    "duration": 1000,
    "start_time": "2022-07-02T18:00:09.780Z"
   },
   {
    "duration": 320,
    "start_time": "2022-07-02T18:00:10.782Z"
   },
   {
    "duration": 5,
    "start_time": "2022-07-02T18:00:11.104Z"
   },
   {
    "duration": 16,
    "start_time": "2022-07-02T18:00:11.110Z"
   },
   {
    "duration": 141,
    "start_time": "2022-07-02T18:00:11.127Z"
   },
   {
    "duration": 9,
    "start_time": "2022-07-02T18:00:11.270Z"
   },
   {
    "duration": 588,
    "start_time": "2022-07-02T18:00:11.281Z"
   },
   {
    "duration": 3,
    "start_time": "2022-07-02T18:00:11.870Z"
   },
   {
    "duration": 8,
    "start_time": "2022-07-02T18:00:11.875Z"
   },
   {
    "duration": 109,
    "start_time": "2022-07-02T18:00:11.884Z"
   },
   {
    "duration": 0,
    "start_time": "2022-07-02T18:00:11.994Z"
   },
   {
    "duration": 5,
    "start_time": "2022-07-02T18:00:17.600Z"
   },
   {
    "duration": 241,
    "start_time": "2022-07-02T18:00:52.678Z"
   },
   {
    "duration": 4,
    "start_time": "2022-07-02T18:01:01.528Z"
   },
   {
    "duration": 27,
    "start_time": "2022-07-02T18:59:27.149Z"
   },
   {
    "duration": 19,
    "start_time": "2022-07-02T19:00:08.275Z"
   },
   {
    "duration": 59,
    "start_time": "2022-07-02T19:03:27.287Z"
   },
   {
    "duration": 5,
    "start_time": "2022-07-02T19:03:35.433Z"
   },
   {
    "duration": 24,
    "start_time": "2022-07-02T19:04:24.491Z"
   },
   {
    "duration": 15,
    "start_time": "2022-07-02T19:04:34.383Z"
   },
   {
    "duration": 3,
    "start_time": "2022-07-02T19:05:26.951Z"
   },
   {
    "duration": 616,
    "start_time": "2022-07-02T19:05:26.956Z"
   },
   {
    "duration": 24,
    "start_time": "2022-07-02T19:05:27.574Z"
   },
   {
    "duration": 26,
    "start_time": "2022-07-02T19:05:27.600Z"
   },
   {
    "duration": 28,
    "start_time": "2022-07-02T19:05:27.628Z"
   },
   {
    "duration": 25,
    "start_time": "2022-07-02T19:05:27.658Z"
   },
   {
    "duration": 13,
    "start_time": "2022-07-02T19:05:27.685Z"
   },
   {
    "duration": 18,
    "start_time": "2022-07-02T19:05:27.699Z"
   },
   {
    "duration": 3,
    "start_time": "2022-07-02T19:05:27.719Z"
   },
   {
    "duration": 44,
    "start_time": "2022-07-02T19:05:27.723Z"
   },
   {
    "duration": 4,
    "start_time": "2022-07-02T19:05:27.771Z"
   },
   {
    "duration": 6,
    "start_time": "2022-07-02T19:05:27.777Z"
   },
   {
    "duration": 19,
    "start_time": "2022-07-02T19:05:27.784Z"
   },
   {
    "duration": 15,
    "start_time": "2022-07-02T19:05:27.805Z"
   },
   {
    "duration": 23,
    "start_time": "2022-07-02T19:05:27.822Z"
   },
   {
    "duration": 30,
    "start_time": "2022-07-02T19:05:27.847Z"
   },
   {
    "duration": 15,
    "start_time": "2022-07-02T19:05:27.879Z"
   },
   {
    "duration": 9,
    "start_time": "2022-07-02T19:05:27.895Z"
   },
   {
    "duration": 22,
    "start_time": "2022-07-02T19:05:27.905Z"
   },
   {
    "duration": 40,
    "start_time": "2022-07-02T19:05:27.928Z"
   },
   {
    "duration": 7,
    "start_time": "2022-07-02T19:05:27.970Z"
   },
   {
    "duration": 6,
    "start_time": "2022-07-02T19:05:27.979Z"
   },
   {
    "duration": 9,
    "start_time": "2022-07-02T19:05:27.986Z"
   },
   {
    "duration": 9,
    "start_time": "2022-07-02T19:05:27.997Z"
   },
   {
    "duration": 8,
    "start_time": "2022-07-02T19:05:28.008Z"
   },
   {
    "duration": 3,
    "start_time": "2022-07-02T19:05:28.018Z"
   },
   {
    "duration": 9,
    "start_time": "2022-07-02T19:05:28.023Z"
   },
   {
    "duration": 4,
    "start_time": "2022-07-02T19:05:28.067Z"
   },
   {
    "duration": 8,
    "start_time": "2022-07-02T19:05:28.076Z"
   },
   {
    "duration": 8,
    "start_time": "2022-07-02T19:05:28.086Z"
   },
   {
    "duration": 8,
    "start_time": "2022-07-02T19:05:28.095Z"
   },
   {
    "duration": 6,
    "start_time": "2022-07-02T19:05:28.105Z"
   },
   {
    "duration": 8,
    "start_time": "2022-07-02T19:05:28.113Z"
   },
   {
    "duration": 1107,
    "start_time": "2022-07-02T19:05:28.123Z"
   },
   {
    "duration": 893,
    "start_time": "2022-07-02T19:05:29.232Z"
   },
   {
    "duration": 987,
    "start_time": "2022-07-02T19:05:30.127Z"
   },
   {
    "duration": 318,
    "start_time": "2022-07-02T19:05:31.116Z"
   },
   {
    "duration": 5,
    "start_time": "2022-07-02T19:05:31.436Z"
   },
   {
    "duration": 28,
    "start_time": "2022-07-02T19:05:31.442Z"
   },
   {
    "duration": 132,
    "start_time": "2022-07-02T19:05:31.472Z"
   },
   {
    "duration": 11,
    "start_time": "2022-07-02T19:05:31.605Z"
   },
   {
    "duration": 704,
    "start_time": "2022-07-02T19:05:31.617Z"
   },
   {
    "duration": 3,
    "start_time": "2022-07-02T19:05:32.323Z"
   },
   {
    "duration": 6,
    "start_time": "2022-07-02T19:05:32.328Z"
   },
   {
    "duration": 7,
    "start_time": "2022-07-02T19:05:32.337Z"
   },
   {
    "duration": 22,
    "start_time": "2022-07-02T19:05:32.345Z"
   },
   {
    "duration": 14,
    "start_time": "2022-07-02T19:07:28.834Z"
   },
   {
    "duration": 4,
    "start_time": "2022-07-02T19:07:47.818Z"
   },
   {
    "duration": 14,
    "start_time": "2022-07-02T19:07:55.947Z"
   },
   {
    "duration": 10,
    "start_time": "2022-07-02T19:08:18.502Z"
   },
   {
    "duration": 3,
    "start_time": "2022-07-02T19:16:29.331Z"
   },
   {
    "duration": 22,
    "start_time": "2022-07-02T19:17:27.363Z"
   },
   {
    "duration": 952,
    "start_time": "2022-07-02T19:18:23.389Z"
   },
   {
    "duration": 6,
    "start_time": "2022-07-02T19:18:51.691Z"
   },
   {
    "duration": 4,
    "start_time": "2022-07-02T19:18:51.843Z"
   },
   {
    "duration": 3,
    "start_time": "2022-07-02T19:20:47.419Z"
   },
   {
    "duration": 6,
    "start_time": "2022-07-02T19:20:47.903Z"
   },
   {
    "duration": 9,
    "start_time": "2022-07-02T19:20:55.443Z"
   },
   {
    "duration": 925,
    "start_time": "2022-07-02T19:21:07.399Z"
   },
   {
    "duration": 12,
    "start_time": "2022-07-02T19:22:53.873Z"
   },
   {
    "duration": 2,
    "start_time": "2022-07-02T19:22:58.611Z"
   },
   {
    "duration": 60,
    "start_time": "2022-07-02T19:22:58.773Z"
   },
   {
    "duration": 7,
    "start_time": "2022-07-02T19:22:59.461Z"
   },
   {
    "duration": 2,
    "start_time": "2022-07-02T19:23:05.171Z"
   },
   {
    "duration": 7,
    "start_time": "2022-07-02T19:23:06.334Z"
   },
   {
    "duration": 810,
    "start_time": "2022-07-02T19:23:30.853Z"
   },
   {
    "duration": 3,
    "start_time": "2022-07-02T19:23:46.435Z"
   },
   {
    "duration": 610,
    "start_time": "2022-07-02T19:23:46.440Z"
   },
   {
    "duration": 24,
    "start_time": "2022-07-02T19:23:47.052Z"
   },
   {
    "duration": 20,
    "start_time": "2022-07-02T19:23:47.078Z"
   },
   {
    "duration": 21,
    "start_time": "2022-07-02T19:23:47.100Z"
   },
   {
    "duration": 17,
    "start_time": "2022-07-02T19:23:47.123Z"
   },
   {
    "duration": 13,
    "start_time": "2022-07-02T19:23:47.169Z"
   },
   {
    "duration": 17,
    "start_time": "2022-07-02T19:23:47.184Z"
   },
   {
    "duration": 2,
    "start_time": "2022-07-02T19:23:47.203Z"
   },
   {
    "duration": 7,
    "start_time": "2022-07-02T19:23:47.207Z"
   },
   {
    "duration": 4,
    "start_time": "2022-07-02T19:23:47.217Z"
   },
   {
    "duration": 8,
    "start_time": "2022-07-02T19:23:47.222Z"
   },
   {
    "duration": 47,
    "start_time": "2022-07-02T19:23:47.231Z"
   },
   {
    "duration": 14,
    "start_time": "2022-07-02T19:23:47.280Z"
   },
   {
    "duration": 17,
    "start_time": "2022-07-02T19:23:47.295Z"
   },
   {
    "duration": 15,
    "start_time": "2022-07-02T19:23:47.313Z"
   },
   {
    "duration": 54,
    "start_time": "2022-07-02T19:23:47.330Z"
   },
   {
    "duration": 10,
    "start_time": "2022-07-02T19:23:47.386Z"
   },
   {
    "duration": 28,
    "start_time": "2022-07-02T19:23:47.398Z"
   },
   {
    "duration": 8,
    "start_time": "2022-07-02T19:23:47.428Z"
   },
   {
    "duration": 31,
    "start_time": "2022-07-02T19:23:47.438Z"
   },
   {
    "duration": 7,
    "start_time": "2022-07-02T19:23:47.470Z"
   },
   {
    "duration": 9,
    "start_time": "2022-07-02T19:23:47.478Z"
   },
   {
    "duration": 14,
    "start_time": "2022-07-02T19:23:47.489Z"
   },
   {
    "duration": 8,
    "start_time": "2022-07-02T19:23:47.505Z"
   },
   {
    "duration": 3,
    "start_time": "2022-07-02T19:23:47.515Z"
   },
   {
    "duration": 7,
    "start_time": "2022-07-02T19:23:47.520Z"
   },
   {
    "duration": 49,
    "start_time": "2022-07-02T19:23:47.528Z"
   },
   {
    "duration": 27,
    "start_time": "2022-07-02T19:23:47.581Z"
   },
   {
    "duration": 9,
    "start_time": "2022-07-02T19:23:47.609Z"
   },
   {
    "duration": 9,
    "start_time": "2022-07-02T19:23:47.619Z"
   },
   {
    "duration": 5,
    "start_time": "2022-07-02T19:23:47.630Z"
   },
   {
    "duration": 11,
    "start_time": "2022-07-02T19:23:47.637Z"
   },
   {
    "duration": 882,
    "start_time": "2022-07-02T19:23:47.650Z"
   },
   {
    "duration": 1064,
    "start_time": "2022-07-02T19:23:48.534Z"
   },
   {
    "duration": 890,
    "start_time": "2022-07-02T19:23:49.600Z"
   },
   {
    "duration": 313,
    "start_time": "2022-07-02T19:23:50.492Z"
   },
   {
    "duration": 6,
    "start_time": "2022-07-02T19:23:50.807Z"
   },
   {
    "duration": 20,
    "start_time": "2022-07-02T19:23:50.814Z"
   },
   {
    "duration": 137,
    "start_time": "2022-07-02T19:23:50.835Z"
   },
   {
    "duration": 10,
    "start_time": "2022-07-02T19:23:50.974Z"
   },
   {
    "duration": 769,
    "start_time": "2022-07-02T19:23:50.985Z"
   },
   {
    "duration": 3,
    "start_time": "2022-07-02T19:23:51.756Z"
   },
   {
    "duration": 11,
    "start_time": "2022-07-02T19:23:51.760Z"
   },
   {
    "duration": 3,
    "start_time": "2022-07-02T19:23:53.850Z"
   },
   {
    "duration": 6,
    "start_time": "2022-07-02T19:23:55.581Z"
   },
   {
    "duration": 401,
    "start_time": "2022-07-02T19:23:57.029Z"
   },
   {
    "duration": 6,
    "start_time": "2022-07-02T19:24:35.765Z"
   },
   {
    "duration": 5,
    "start_time": "2022-07-02T19:24:36.292Z"
   },
   {
    "duration": 16,
    "start_time": "2022-07-02T19:24:38.156Z"
   },
   {
    "duration": 11,
    "start_time": "2022-07-02T19:24:38.973Z"
   },
   {
    "duration": 19,
    "start_time": "2022-07-02T19:24:47.709Z"
   },
   {
    "duration": 5,
    "start_time": "2022-07-02T19:26:29.559Z"
   },
   {
    "duration": 16,
    "start_time": "2022-07-02T19:27:31.933Z"
   },
   {
    "duration": 24,
    "start_time": "2022-07-02T19:27:58.176Z"
   },
   {
    "duration": 23,
    "start_time": "2022-07-02T19:29:33.822Z"
   },
   {
    "duration": 24,
    "start_time": "2022-07-02T19:31:28.866Z"
   },
   {
    "duration": 4,
    "start_time": "2022-07-02T19:31:43.996Z"
   },
   {
    "duration": 18,
    "start_time": "2022-07-02T19:31:51.061Z"
   },
   {
    "duration": 19,
    "start_time": "2022-07-02T19:34:13.534Z"
   },
   {
    "duration": 4,
    "start_time": "2022-07-02T19:34:33.726Z"
   },
   {
    "duration": 24,
    "start_time": "2022-07-02T19:34:41.935Z"
   },
   {
    "duration": 18,
    "start_time": "2022-07-02T19:34:50.905Z"
   },
   {
    "duration": 3,
    "start_time": "2022-07-02T19:35:02.325Z"
   },
   {
    "duration": 22,
    "start_time": "2022-07-02T19:35:08.855Z"
   },
   {
    "duration": 9,
    "start_time": "2022-07-02T19:35:33.422Z"
   },
   {
    "duration": 4,
    "start_time": "2022-07-02T19:35:42.645Z"
   },
   {
    "duration": 4,
    "start_time": "2022-07-02T19:35:53.040Z"
   },
   {
    "duration": 4,
    "start_time": "2022-07-02T19:36:20.489Z"
   },
   {
    "duration": 4,
    "start_time": "2022-07-02T19:36:30.607Z"
   },
   {
    "duration": 4,
    "start_time": "2022-07-02T19:36:35.894Z"
   },
   {
    "duration": 5,
    "start_time": "2022-07-02T19:38:55.410Z"
   },
   {
    "duration": 4,
    "start_time": "2022-07-02T19:39:00.104Z"
   },
   {
    "duration": 4,
    "start_time": "2022-07-02T19:39:17.698Z"
   },
   {
    "duration": 4,
    "start_time": "2022-07-02T19:39:23.648Z"
   },
   {
    "duration": 4,
    "start_time": "2022-07-02T19:39:30.848Z"
   },
   {
    "duration": 642,
    "start_time": "2022-07-02T19:39:30.854Z"
   },
   {
    "duration": 21,
    "start_time": "2022-07-02T19:39:31.497Z"
   },
   {
    "duration": 21,
    "start_time": "2022-07-02T19:39:31.521Z"
   },
   {
    "duration": 39,
    "start_time": "2022-07-02T19:39:31.544Z"
   },
   {
    "duration": 16,
    "start_time": "2022-07-02T19:39:31.585Z"
   },
   {
    "duration": 15,
    "start_time": "2022-07-02T19:39:31.603Z"
   },
   {
    "duration": 26,
    "start_time": "2022-07-02T19:39:31.620Z"
   },
   {
    "duration": 2,
    "start_time": "2022-07-02T19:39:31.649Z"
   },
   {
    "duration": 23,
    "start_time": "2022-07-02T19:39:31.667Z"
   },
   {
    "duration": 10,
    "start_time": "2022-07-02T19:39:31.692Z"
   },
   {
    "duration": 8,
    "start_time": "2022-07-02T19:39:31.703Z"
   },
   {
    "duration": 22,
    "start_time": "2022-07-02T19:39:31.713Z"
   },
   {
    "duration": 18,
    "start_time": "2022-07-02T19:39:31.737Z"
   },
   {
    "duration": 31,
    "start_time": "2022-07-02T19:39:31.756Z"
   },
   {
    "duration": 12,
    "start_time": "2022-07-02T19:39:31.788Z"
   },
   {
    "duration": 15,
    "start_time": "2022-07-02T19:39:31.801Z"
   },
   {
    "duration": 12,
    "start_time": "2022-07-02T19:39:31.818Z"
   },
   {
    "duration": 38,
    "start_time": "2022-07-02T19:39:31.832Z"
   },
   {
    "duration": 17,
    "start_time": "2022-07-02T19:39:31.872Z"
   },
   {
    "duration": 11,
    "start_time": "2022-07-02T19:39:31.891Z"
   },
   {
    "duration": 14,
    "start_time": "2022-07-02T19:39:31.903Z"
   },
   {
    "duration": 15,
    "start_time": "2022-07-02T19:39:31.919Z"
   },
   {
    "duration": 15,
    "start_time": "2022-07-02T19:39:31.937Z"
   },
   {
    "duration": 11,
    "start_time": "2022-07-02T19:39:31.953Z"
   },
   {
    "duration": 7,
    "start_time": "2022-07-02T19:39:31.966Z"
   },
   {
    "duration": 17,
    "start_time": "2022-07-02T19:39:31.974Z"
   },
   {
    "duration": 5,
    "start_time": "2022-07-02T19:39:31.992Z"
   },
   {
    "duration": 9,
    "start_time": "2022-07-02T19:39:31.999Z"
   },
   {
    "duration": 8,
    "start_time": "2022-07-02T19:39:32.010Z"
   },
   {
    "duration": 7,
    "start_time": "2022-07-02T19:39:32.019Z"
   },
   {
    "duration": 7,
    "start_time": "2022-07-02T19:39:32.028Z"
   },
   {
    "duration": 8,
    "start_time": "2022-07-02T19:39:32.036Z"
   },
   {
    "duration": 907,
    "start_time": "2022-07-02T19:39:32.045Z"
   },
   {
    "duration": 982,
    "start_time": "2022-07-02T19:39:32.954Z"
   },
   {
    "duration": 902,
    "start_time": "2022-07-02T19:39:33.938Z"
   },
   {
    "duration": 446,
    "start_time": "2022-07-02T19:39:34.841Z"
   },
   {
    "duration": 4,
    "start_time": "2022-07-02T19:39:35.289Z"
   },
   {
    "duration": 46,
    "start_time": "2022-07-02T19:39:35.295Z"
   },
   {
    "duration": 148,
    "start_time": "2022-07-02T19:39:35.344Z"
   },
   {
    "duration": 10,
    "start_time": "2022-07-02T19:39:35.494Z"
   },
   {
    "duration": 629,
    "start_time": "2022-07-02T19:39:35.505Z"
   },
   {
    "duration": 4,
    "start_time": "2022-07-02T19:39:36.136Z"
   },
   {
    "duration": 26,
    "start_time": "2022-07-02T19:39:36.141Z"
   },
   {
    "duration": 15,
    "start_time": "2022-07-02T19:39:36.168Z"
   },
   {
    "duration": 6,
    "start_time": "2022-07-02T19:39:40.464Z"
   },
   {
    "duration": 4,
    "start_time": "2022-07-02T19:39:40.930Z"
   },
   {
    "duration": 4,
    "start_time": "2022-07-02T19:39:42.744Z"
   },
   {
    "duration": 5,
    "start_time": "2022-07-02T19:39:55.311Z"
   },
   {
    "duration": 18,
    "start_time": "2022-07-02T19:39:58.062Z"
   },
   {
    "duration": 10,
    "start_time": "2022-07-02T19:40:51.720Z"
   },
   {
    "duration": 4,
    "start_time": "2022-07-02T19:44:35.452Z"
   },
   {
    "duration": 20,
    "start_time": "2022-07-02T19:44:41.786Z"
   },
   {
    "duration": 10,
    "start_time": "2022-07-02T19:44:44.400Z"
   },
   {
    "duration": 7434,
    "start_time": "2022-07-02T19:44:58.482Z"
   },
   {
    "duration": 7319,
    "start_time": "2022-07-02T19:45:36.088Z"
   },
   {
    "duration": 88,
    "start_time": "2022-07-02T19:46:03.424Z"
   },
   {
    "duration": 4,
    "start_time": "2022-07-02T19:53:10.919Z"
   },
   {
    "duration": 736,
    "start_time": "2022-07-02T19:53:10.925Z"
   },
   {
    "duration": 22,
    "start_time": "2022-07-02T19:53:11.663Z"
   },
   {
    "duration": 23,
    "start_time": "2022-07-02T19:53:11.687Z"
   },
   {
    "duration": 27,
    "start_time": "2022-07-02T19:53:11.712Z"
   },
   {
    "duration": 52,
    "start_time": "2022-07-02T19:53:11.740Z"
   },
   {
    "duration": 13,
    "start_time": "2022-07-02T19:53:11.793Z"
   },
   {
    "duration": 18,
    "start_time": "2022-07-02T19:53:11.807Z"
   },
   {
    "duration": 3,
    "start_time": "2022-07-02T19:53:11.827Z"
   },
   {
    "duration": 41,
    "start_time": "2022-07-02T19:53:11.831Z"
   },
   {
    "duration": 6,
    "start_time": "2022-07-02T19:53:11.875Z"
   },
   {
    "duration": 8,
    "start_time": "2022-07-02T19:53:11.883Z"
   },
   {
    "duration": 17,
    "start_time": "2022-07-02T19:53:11.893Z"
   },
   {
    "duration": 17,
    "start_time": "2022-07-02T19:53:11.912Z"
   },
   {
    "duration": 51,
    "start_time": "2022-07-02T19:53:11.931Z"
   },
   {
    "duration": 13,
    "start_time": "2022-07-02T19:53:11.984Z"
   },
   {
    "duration": 17,
    "start_time": "2022-07-02T19:53:11.999Z"
   },
   {
    "duration": 9,
    "start_time": "2022-07-02T19:53:12.017Z"
   },
   {
    "duration": 51,
    "start_time": "2022-07-02T19:53:12.028Z"
   },
   {
    "duration": 8,
    "start_time": "2022-07-02T19:53:12.081Z"
   },
   {
    "duration": 15,
    "start_time": "2022-07-02T19:53:12.091Z"
   },
   {
    "duration": 7,
    "start_time": "2022-07-02T19:53:12.108Z"
   },
   {
    "duration": 6,
    "start_time": "2022-07-02T19:53:12.118Z"
   },
   {
    "duration": 42,
    "start_time": "2022-07-02T19:53:12.126Z"
   },
   {
    "duration": 8,
    "start_time": "2022-07-02T19:53:12.170Z"
   },
   {
    "duration": 4,
    "start_time": "2022-07-02T19:53:12.180Z"
   },
   {
    "duration": 9,
    "start_time": "2022-07-02T19:53:12.186Z"
   },
   {
    "duration": 6,
    "start_time": "2022-07-02T19:53:12.198Z"
   },
   {
    "duration": 8,
    "start_time": "2022-07-02T19:53:12.208Z"
   },
   {
    "duration": 9,
    "start_time": "2022-07-02T19:53:12.218Z"
   },
   {
    "duration": 8,
    "start_time": "2022-07-02T19:53:12.267Z"
   },
   {
    "duration": 7,
    "start_time": "2022-07-02T19:53:12.276Z"
   },
   {
    "duration": 6,
    "start_time": "2022-07-02T19:53:12.285Z"
   },
   {
    "duration": 1005,
    "start_time": "2022-07-02T19:53:12.292Z"
   },
   {
    "duration": 868,
    "start_time": "2022-07-02T19:53:13.299Z"
   },
   {
    "duration": 1011,
    "start_time": "2022-07-02T19:53:14.169Z"
   },
   {
    "duration": 360,
    "start_time": "2022-07-02T19:53:15.182Z"
   },
   {
    "duration": 6,
    "start_time": "2022-07-02T19:53:15.543Z"
   },
   {
    "duration": 30,
    "start_time": "2022-07-02T19:53:15.551Z"
   },
   {
    "duration": 130,
    "start_time": "2022-07-02T19:53:15.583Z"
   },
   {
    "duration": 10,
    "start_time": "2022-07-02T19:53:15.715Z"
   },
   {
    "duration": 641,
    "start_time": "2022-07-02T19:53:15.727Z"
   },
   {
    "duration": 3,
    "start_time": "2022-07-02T19:53:16.370Z"
   },
   {
    "duration": 26,
    "start_time": "2022-07-02T19:53:16.375Z"
   },
   {
    "duration": 5,
    "start_time": "2022-07-02T19:53:16.402Z"
   },
   {
    "duration": 10,
    "start_time": "2022-07-02T19:53:16.409Z"
   },
   {
    "duration": 6,
    "start_time": "2022-07-02T19:53:16.421Z"
   },
   {
    "duration": 4,
    "start_time": "2022-07-02T19:53:16.429Z"
   },
   {
    "duration": 7,
    "start_time": "2022-07-02T19:53:16.434Z"
   },
   {
    "duration": 19,
    "start_time": "2022-07-02T19:53:16.442Z"
   },
   {
    "duration": 11,
    "start_time": "2022-07-02T19:53:16.466Z"
   },
   {
    "duration": 104,
    "start_time": "2022-07-02T19:53:16.478Z"
   },
   {
    "duration": 0,
    "start_time": "2022-07-02T19:53:16.583Z"
   },
   {
    "duration": 0,
    "start_time": "2022-07-02T19:53:16.585Z"
   },
   {
    "duration": 0,
    "start_time": "2022-07-02T19:53:16.586Z"
   },
   {
    "duration": 0,
    "start_time": "2022-07-02T19:53:16.587Z"
   },
   {
    "duration": 155,
    "start_time": "2022-07-02T20:03:10.945Z"
   },
   {
    "duration": 25488,
    "start_time": "2022-07-02T20:08:08.783Z"
   },
   {
    "duration": 7348,
    "start_time": "2022-07-02T20:10:51.309Z"
   },
   {
    "duration": 4,
    "start_time": "2022-07-02T20:11:53.905Z"
   },
   {
    "duration": 699,
    "start_time": "2022-07-02T20:11:53.911Z"
   },
   {
    "duration": 20,
    "start_time": "2022-07-02T20:11:54.614Z"
   },
   {
    "duration": 23,
    "start_time": "2022-07-02T20:11:54.636Z"
   },
   {
    "duration": 43,
    "start_time": "2022-07-02T20:11:54.667Z"
   },
   {
    "duration": 16,
    "start_time": "2022-07-02T20:11:54.712Z"
   },
   {
    "duration": 12,
    "start_time": "2022-07-02T20:11:54.730Z"
   },
   {
    "duration": 31,
    "start_time": "2022-07-02T20:11:54.744Z"
   },
   {
    "duration": 3,
    "start_time": "2022-07-02T20:11:54.777Z"
   },
   {
    "duration": 27,
    "start_time": "2022-07-02T20:11:54.782Z"
   },
   {
    "duration": 4,
    "start_time": "2022-07-02T20:11:54.812Z"
   },
   {
    "duration": 7,
    "start_time": "2022-07-02T20:11:54.818Z"
   },
   {
    "duration": 17,
    "start_time": "2022-07-02T20:11:54.826Z"
   },
   {
    "duration": 25,
    "start_time": "2022-07-02T20:11:54.845Z"
   },
   {
    "duration": 45,
    "start_time": "2022-07-02T20:11:54.872Z"
   },
   {
    "duration": 12,
    "start_time": "2022-07-02T20:11:54.919Z"
   },
   {
    "duration": 16,
    "start_time": "2022-07-02T20:11:54.933Z"
   },
   {
    "duration": 8,
    "start_time": "2022-07-02T20:11:54.951Z"
   },
   {
    "duration": 41,
    "start_time": "2022-07-02T20:11:54.961Z"
   },
   {
    "duration": 9,
    "start_time": "2022-07-02T20:11:55.004Z"
   },
   {
    "duration": 7,
    "start_time": "2022-07-02T20:11:55.014Z"
   },
   {
    "duration": 6,
    "start_time": "2022-07-02T20:11:55.022Z"
   },
   {
    "duration": 8,
    "start_time": "2022-07-02T20:11:55.030Z"
   },
   {
    "duration": 32,
    "start_time": "2022-07-02T20:11:55.039Z"
   },
   {
    "duration": 10,
    "start_time": "2022-07-02T20:11:55.073Z"
   },
   {
    "duration": 24,
    "start_time": "2022-07-02T20:11:55.084Z"
   },
   {
    "duration": 8,
    "start_time": "2022-07-02T20:11:55.110Z"
   },
   {
    "duration": 11,
    "start_time": "2022-07-02T20:11:55.119Z"
   },
   {
    "duration": 12,
    "start_time": "2022-07-02T20:11:55.135Z"
   },
   {
    "duration": 9,
    "start_time": "2022-07-02T20:11:55.149Z"
   },
   {
    "duration": 11,
    "start_time": "2022-07-02T20:11:55.173Z"
   },
   {
    "duration": 10,
    "start_time": "2022-07-02T20:11:55.196Z"
   },
   {
    "duration": 5,
    "start_time": "2022-07-02T20:11:55.208Z"
   },
   {
    "duration": 984,
    "start_time": "2022-07-02T20:11:55.216Z"
   },
   {
    "duration": 956,
    "start_time": "2022-07-02T20:11:56.202Z"
   },
   {
    "duration": 1102,
    "start_time": "2022-07-02T20:11:57.160Z"
   },
   {
    "duration": 395,
    "start_time": "2022-07-02T20:11:58.264Z"
   },
   {
    "duration": 14,
    "start_time": "2022-07-02T20:11:58.661Z"
   },
   {
    "duration": 37,
    "start_time": "2022-07-02T20:11:58.679Z"
   },
   {
    "duration": 148,
    "start_time": "2022-07-02T20:11:58.718Z"
   },
   {
    "duration": 15,
    "start_time": "2022-07-02T20:11:58.867Z"
   },
   {
    "duration": 923,
    "start_time": "2022-07-02T20:11:58.884Z"
   },
   {
    "duration": 4,
    "start_time": "2022-07-02T20:11:59.809Z"
   },
   {
    "duration": 8,
    "start_time": "2022-07-02T20:11:59.814Z"
   },
   {
    "duration": 17,
    "start_time": "2022-07-02T20:11:59.824Z"
   },
   {
    "duration": 15,
    "start_time": "2022-07-02T20:11:59.843Z"
   },
   {
    "duration": 16,
    "start_time": "2022-07-02T20:11:59.860Z"
   },
   {
    "duration": 39,
    "start_time": "2022-07-02T20:11:59.878Z"
   },
   {
    "duration": 10,
    "start_time": "2022-07-02T20:11:59.919Z"
   },
   {
    "duration": 120369,
    "start_time": "2022-07-02T20:11:59.931Z"
   },
   {
    "duration": 7564,
    "start_time": "2022-07-02T20:14:00.302Z"
   },
   {
    "duration": 17,
    "start_time": "2022-07-02T20:14:07.868Z"
   },
   {
    "duration": 15,
    "start_time": "2022-07-02T20:14:07.887Z"
   },
   {
    "duration": 37,
    "start_time": "2022-07-02T20:14:07.904Z"
   },
   {
    "duration": 120174,
    "start_time": "2022-07-02T20:16:54.748Z"
   },
   {
    "duration": 119511,
    "start_time": "2022-07-02T20:28:19.012Z"
   },
   {
    "duration": 2,
    "start_time": "2022-07-02T20:30:18.525Z"
   },
   {
    "duration": 1849,
    "start_time": "2022-07-02T20:30:18.528Z"
   },
   {
    "duration": 6,
    "start_time": "2022-07-02T20:32:00.466Z"
   },
   {
    "duration": 7484,
    "start_time": "2022-07-02T20:32:52.679Z"
   },
   {
    "duration": 17,
    "start_time": "2022-07-02T20:39:57.207Z"
   },
   {
    "duration": 20,
    "start_time": "2022-07-02T20:40:15.545Z"
   },
   {
    "duration": 20,
    "start_time": "2022-07-02T20:40:48.667Z"
   },
   {
    "duration": 5,
    "start_time": "2022-07-02T20:41:58.883Z"
   },
   {
    "duration": 17,
    "start_time": "2022-07-02T20:42:39.469Z"
   },
   {
    "duration": 24,
    "start_time": "2022-07-02T20:42:58.057Z"
   },
   {
    "duration": 118965,
    "start_time": "2022-07-02T20:43:09.970Z"
   },
   {
    "duration": 4,
    "start_time": "2022-07-02T20:46:43.637Z"
   },
   {
    "duration": 634,
    "start_time": "2022-07-02T20:46:43.643Z"
   },
   {
    "duration": 22,
    "start_time": "2022-07-02T20:46:44.279Z"
   },
   {
    "duration": 20,
    "start_time": "2022-07-02T20:46:44.303Z"
   },
   {
    "duration": 20,
    "start_time": "2022-07-02T20:46:44.324Z"
   },
   {
    "duration": 39,
    "start_time": "2022-07-02T20:46:44.346Z"
   },
   {
    "duration": 16,
    "start_time": "2022-07-02T20:46:44.387Z"
   },
   {
    "duration": 17,
    "start_time": "2022-07-02T20:46:44.404Z"
   },
   {
    "duration": 3,
    "start_time": "2022-07-02T20:46:44.423Z"
   },
   {
    "duration": 9,
    "start_time": "2022-07-02T20:46:44.427Z"
   },
   {
    "duration": 4,
    "start_time": "2022-07-02T20:46:44.438Z"
   },
   {
    "duration": 29,
    "start_time": "2022-07-02T20:46:44.444Z"
   },
   {
    "duration": 22,
    "start_time": "2022-07-02T20:46:44.475Z"
   },
   {
    "duration": 15,
    "start_time": "2022-07-02T20:46:44.499Z"
   },
   {
    "duration": 17,
    "start_time": "2022-07-02T20:46:44.516Z"
   },
   {
    "duration": 37,
    "start_time": "2022-07-02T20:46:44.534Z"
   },
   {
    "duration": 18,
    "start_time": "2022-07-02T20:46:44.577Z"
   },
   {
    "duration": 9,
    "start_time": "2022-07-02T20:46:44.597Z"
   },
   {
    "duration": 26,
    "start_time": "2022-07-02T20:46:44.609Z"
   },
   {
    "duration": 11,
    "start_time": "2022-07-02T20:46:44.637Z"
   },
   {
    "duration": 10,
    "start_time": "2022-07-02T20:46:44.667Z"
   },
   {
    "duration": 11,
    "start_time": "2022-07-02T20:46:44.684Z"
   },
   {
    "duration": 8,
    "start_time": "2022-07-02T20:46:44.697Z"
   },
   {
    "duration": 14,
    "start_time": "2022-07-02T20:46:44.709Z"
   },
   {
    "duration": 7,
    "start_time": "2022-07-02T20:46:44.725Z"
   },
   {
    "duration": 5,
    "start_time": "2022-07-02T20:46:44.734Z"
   },
   {
    "duration": 31,
    "start_time": "2022-07-02T20:46:44.741Z"
   },
   {
    "duration": 14,
    "start_time": "2022-07-02T20:46:44.773Z"
   },
   {
    "duration": 7,
    "start_time": "2022-07-02T20:46:45.088Z"
   },
   {
    "duration": 13,
    "start_time": "2022-07-02T20:46:45.096Z"
   },
   {
    "duration": 7,
    "start_time": "2022-07-02T20:46:45.110Z"
   },
   {
    "duration": 7,
    "start_time": "2022-07-02T20:46:45.118Z"
   },
   {
    "duration": 6,
    "start_time": "2022-07-02T20:46:45.127Z"
   },
   {
    "duration": 888,
    "start_time": "2022-07-02T20:46:45.135Z"
   },
   {
    "duration": 1041,
    "start_time": "2022-07-02T20:46:46.024Z"
   },
   {
    "duration": 917,
    "start_time": "2022-07-02T20:46:47.067Z"
   },
   {
    "duration": 466,
    "start_time": "2022-07-02T20:46:47.985Z"
   },
   {
    "duration": 6,
    "start_time": "2022-07-02T20:46:48.453Z"
   },
   {
    "duration": 24,
    "start_time": "2022-07-02T20:46:48.468Z"
   },
   {
    "duration": 132,
    "start_time": "2022-07-02T20:46:48.494Z"
   },
   {
    "duration": 9,
    "start_time": "2022-07-02T20:46:48.628Z"
   },
   {
    "duration": 713,
    "start_time": "2022-07-02T20:46:48.641Z"
   },
   {
    "duration": 4,
    "start_time": "2022-07-02T20:46:49.355Z"
   },
   {
    "duration": 4,
    "start_time": "2022-07-02T20:46:49.367Z"
   },
   {
    "duration": 25,
    "start_time": "2022-07-02T20:46:49.373Z"
   },
   {
    "duration": 9,
    "start_time": "2022-07-02T20:46:49.400Z"
   },
   {
    "duration": 12,
    "start_time": "2022-07-02T20:46:49.411Z"
   },
   {
    "duration": 22,
    "start_time": "2022-07-02T20:46:49.425Z"
   },
   {
    "duration": 10,
    "start_time": "2022-07-02T20:46:49.449Z"
   },
   {
    "duration": 119917,
    "start_time": "2022-07-02T20:46:49.461Z"
   },
   {
    "duration": 24,
    "start_time": "2022-07-02T20:48:49.381Z"
   },
   {
    "duration": 0,
    "start_time": "2022-07-02T20:48:49.407Z"
   },
   {
    "duration": 0,
    "start_time": "2022-07-02T20:48:49.408Z"
   },
   {
    "duration": 119280,
    "start_time": "2022-07-02T20:50:39.020Z"
   },
   {
    "duration": 390213,
    "start_time": "2022-07-02T20:52:38.302Z"
   },
   {
    "duration": 2765,
    "start_time": "2022-07-02T20:59:08.517Z"
   },
   {
    "duration": 7612,
    "start_time": "2022-07-02T20:59:11.286Z"
   }
  ],
  "kernelspec": {
   "display_name": "Python 3 (ipykernel)",
   "language": "python",
   "name": "python3"
  },
  "language_info": {
   "codemirror_mode": {
    "name": "ipython",
    "version": 3
   },
   "file_extension": ".py",
   "mimetype": "text/x-python",
   "name": "python",
   "nbconvert_exporter": "python",
   "pygments_lexer": "ipython3",
   "version": "3.9.12"
  },
  "toc": {
   "base_numbering": 1,
   "nav_menu": {},
   "number_sections": true,
   "sideBar": true,
   "skip_h1_title": true,
   "title_cell": "Содержание",
   "title_sidebar": "Contents",
   "toc_cell": true,
   "toc_position": {
    "height": "calc(100% - 180px)",
    "left": "10px",
    "top": "150px",
    "width": "286.207px"
   },
   "toc_section_display": true,
   "toc_window_display": true
  }
 },
 "nbformat": 4,
 "nbformat_minor": 2
}
